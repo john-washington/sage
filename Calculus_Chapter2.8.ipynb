{
 "cells": [
  {
   "cell_type": "markdown",
   "id": "cf363e3b-0b4e-44f6-9b75-43a8397ebcc1",
   "metadata": {},
   "source": [
    "**Preview Activity 2.8**\n",
    "$h(x) = \\frac{x^5 + x -2}{x^2 -1}$\n",
    "\n",
    "a)Domain of $h$?"
   ]
  },
  {
   "cell_type": "markdown",
   "id": "25231406-ae22-4e35-a5c4-20a90213a1da",
   "metadata": {},
   "source": [
    "anywhere, except $h =1$"
   ]
  },
  {
   "cell_type": "markdown",
   "id": "29034177-63c9-4633-bbf2-0bed4f8b40ae",
   "metadata": {},
   "source": [
    "because as $x$ approach to 1 indefinitely, the denominator approaches 0, which makes the function undefined, the top also approach 0, $a^5 + 1 - 2 =0$, hense the indeterminate form $\\frac{0}{0}$"
   ]
  },
  {
   "cell_type": "code",
   "execution_count": 14,
   "id": "34a3476a-1441-48f1-b8a2-c18f0c4a5570",
   "metadata": {},
   "outputs": [
    {
     "data": {
      "text/html": [
       "<html>\\(\\displaystyle \\verb|L_f(x)=| 6 \\, x - 6\\)</html>"
      ],
      "text/latex": [
       "$\\displaystyle \\verb|L_f(x)=| 6 \\, x - 6$"
      ],
      "text/plain": [
       "'L_f(x)=' 6*x - 6"
      ]
     },
     "metadata": {},
     "output_type": "display_data"
    },
    {
     "data": {
      "text/html": [
       "<html>\\(\\displaystyle \\verb|L_g(x)=| 2 \\, x - 2\\)</html>"
      ],
      "text/latex": [
       "$\\displaystyle \\verb|L_g(x)=| 2 \\, x - 2$"
      ],
      "text/plain": [
       "'L_g(x)=' 2*x - 2"
      ]
     },
     "metadata": {},
     "output_type": "display_data"
    }
   ],
   "source": [
    "f(x) = x^5 +x -2\n",
    "g(x) = x^2 -1\n",
    "var('a')\n",
    "a=1\n",
    "f_prime(x) = 5*x^4 + 1*x^0 - diff(2, x)\n",
    "#show(diff(2, x))\n",
    "\n",
    "#show(f_prime(x))\n",
    "#show(f.diff(x))\n",
    "\n",
    "L_f(x) = f_prime(a)*(x -a) + f(a)\n",
    "show(\"L_f(x)=\", L_f(x))\n",
    "\n",
    "g_prime(x) = 2*x \n",
    "#show(g_prime(x))\n",
    "#show(g.diff(x))\n",
    "\n",
    "L_g(x) = g_prime(a)*(x -a) + g(a)\n",
    "show(\"L_g(x)=\", L_g(x))"
   ]
  },
  {
   "cell_type": "markdown",
   "id": "a51f6f42-cf7f-4777-a297-e5f326085039",
   "metadata": {},
   "source": [
    "d) explain why $h(x) \\approx \\frac{L_f(x)}{L_g(x)}$, for $x$ near $a=1$"
   ]
  },
  {
   "cell_type": "markdown",
   "id": "af4f3f6c-8932-45f7-a506-5250642d4ee9",
   "metadata": {},
   "source": [
    "Since $h(x) = f(x)/g(x)$, and for $x$ near $a=1$, $f(x) \\approx L_f(x)$, and $g(x) \\approx L_g(x)$, as the result of a), so their quotient becomes what $h(x)$ approximate to at $a =1$, because $h(x)$ is defined as the quotient of the two."
   ]
  },
  {
   "cell_type": "markdown",
   "id": "f5cd888a-c5b4-4318-aaca-8d89d8e76bf3",
   "metadata": {},
   "source": [
    "e) Using c), d), to evaluate $lim_{x \\rightarrow 1} \\frac{L_f(x)}{L_g(x)}$, what about h(x)?\n",
    "\n",
    "Answer: In order to approx a value when the original function $h(x)$ is not defined at this very point, i.e. $a=1$, we use linear approx approach, which give a formula for a quotient of two linear functions as approx, we only need take the limit approach, to calculate the value. So we the following:"
   ]
  },
  {
   "cell_type": "code",
   "execution_count": 2,
   "id": "eb831126-7bb0-4454-a730-4f1322c85377",
   "metadata": {},
   "outputs": [
    {
     "data": {
      "text/html": [
       "<html>\\(\\displaystyle 3\\)</html>"
      ],
      "text/latex": [
       "$\\displaystyle 3$"
      ],
      "text/plain": [
       "3"
      ]
     },
     "metadata": {},
     "output_type": "display_data"
    },
    {
     "data": {
      "text/html": [
       "<html>\\(\\displaystyle 3\\)</html>"
      ],
      "text/latex": [
       "$\\displaystyle 3$"
      ],
      "text/plain": [
       "3"
      ]
     },
     "metadata": {},
     "output_type": "display_data"
    }
   ],
   "source": [
    "limit_L = function('limit_L')(x)\n",
    "limit_L(x) = L_f(x)/L_g(x) \n",
    "show(limit_L(x))\n",
    "show(limit_L(1))"
   ]
  },
  {
   "cell_type": "markdown",
   "id": "2c77c95a-bafd-483a-901c-9bcd0d80710d",
   "metadata": {},
   "source": [
    "what does the result tells about $lim_{x \\rightarrow 1} h(x)$?\n",
    "\n",
    "Answer: we say $h(x)$ also approach 3 as $x \\rightarrow 1$"
   ]
  },
  {
   "cell_type": "code",
   "execution_count": 6,
   "id": "de575287-8755-4ed1-b765-5d55f13c1a2a",
   "metadata": {},
   "outputs": [
    {
     "data": {
      "text/html": [
       "<html>\\(\\displaystyle \\frac{x^{5} + x - 2}{x^{2} - 1}\\)</html>"
      ],
      "text/latex": [
       "$\\displaystyle \\frac{x^{5} + x - 2}{x^{2} - 1}$"
      ],
      "text/plain": [
       "(x^5 + x - 2)/(x^2 - 1)"
      ]
     },
     "metadata": {},
     "output_type": "display_data"
    },
    {
     "data": {
      "text/html": [
       "<html>\\(\\displaystyle 3\\)</html>"
      ],
      "text/latex": [
       "$\\displaystyle 3$"
      ],
      "text/plain": [
       "3"
      ]
     },
     "metadata": {},
     "output_type": "display_data"
    }
   ],
   "source": [
    "h(x) = f(x)/g(x)\n",
    "show(h(x))\n",
    "show(limit(h(x), x = 1))\n",
    "#show(h(1))"
   ]
  },
  {
   "cell_type": "code",
   "execution_count": 22,
   "id": "540fbd4f-ba92-46e9-bd88-f6b0db8b9a61",
   "metadata": {},
   "outputs": [
    {
     "data": {
      "text/html": [
       "<html>\\(\\displaystyle \\frac{x^{5} + x - 2}{x^{2} - 1}\\)</html>"
      ],
      "text/latex": [
       "$\\displaystyle \\frac{x^{5} + x - 2}{x^{2} - 1}$"
      ],
      "text/plain": [
       "(x^5 + x - 2)/(x^2 - 1)"
      ]
     },
     "metadata": {},
     "output_type": "display_data"
    },
    {
     "data": {
      "image/png": "[encoded data removed]",
      "text/plain": [
       "Graphics object consisting of 1 graphics primitive"
      ]
     },
     "execution_count": 22,
     "metadata": {},
     "output_type": "execute_result"
    }
   ],
   "source": [
    "show(h(x))\n",
    "plot(h(x), (x, 0, 1.2))"
   ]
  },
  {
   "cell_type": "markdown",
   "id": "d8cb794d-5460-4e7d-be49-d3195b4166e0",
   "metadata": {},
   "source": [
    "looking the at the grap, at x=1, y=3, \n",
    "the answer to the rest of the question is obviously 3.\n",
    "\n",
    "Note: the software drawing this does seems to care when 0/0 situation, it bothers me at this point."
   ]
  },
  {
   "cell_type": "markdown",
   "id": "73fd8119-f4ec-4d65-a15e-cfe9c83a672b",
   "metadata": {},
   "source": [
    "**L'Hoptial's Rule:**\n",
    "Let $f$ and $g$ be differentiable at $x=a$, and suppose that $f(a) = g(a) = 0$ and that $g'(a) \\neq 0$. Then $lim_{x \\rightarrow a} \\frac{f(x)}{g(x)} = \\frac{f'(a)}{g'(a)}$\n",
    "\n",
    "In practice, the more general version of this rule:\n",
    "\n",
    "$\n",
    "\\lim_{x \\rightarrow a} \\frac{f(x)}{g(x)} = \\lim_{x \\rightarrow a} \\frac{f'(x)}{g'(x)}\n",
    "$\n",
    "\n",
    "This form reflects the fundamental benefit of L'Hoptital's rule: if $\\frac{$f(x)}{g(x)}$ produces an indeterminate limit of form $\\frac{0}{0}$ as $x \\rightarrow a$, it is equivalent to consider the limit of the quotient of the two functions' derivatives, $\\frac{f'(x)}{g'(x)}$.\n",
    "\n",
    "By being able to replace the numberator and denominator with their respective derivatives, we often move from an indeterminate limit to one whose value we can easily determine.\n",
    "**Note: Is this called properly the Quotient Rule of Derivative? Is there one already that meant different rule?**\n",
    "\n",
    "**My Conjecture:**\n",
    "\n",
    "suppose $H(x) = f(x)g(x)$, what if we have an $x=a$ when both $f$ ang $g$ are not defined, what is the $limit_{ x \\rightarrow a} f(x)g(x)$. In other words, the product rule does not hold as $f$ and are not entirely differentiable and continuous.\n",
    "\n",
    "conjecture: \n",
    "$$\n",
    "\\begin{align}\n",
    "lim_{x \\rightarrow a} f(x)g(x) &= lim_{ x \\rightarrow a} L_f(x) L_g(x) \\\\\n",
    "   &= (f'(a)(x-a) + f(a)) (g'(a)(x-a) + g(a)) \\\\\n",
    "   &= (f'(a) + f(a))(g'(a) + g(a)) \\text{ ( this is my conjecture )}\n",
    "\\end{align}\n",
    "$$\n",
    "\n",
    "The thinking is $(x -a)$ is not algebraic computable, it simply vanishes when $x \\rightarrow a$.\n",
    "\n",
    "We need to prove this.\n",
    " \n",
    "We are considering the previous example $x = y^5 - 5 y^3 + 4 y$,\n",
    "implicitly that the formula for dy/dx is expressed as a quotient of functions of x and y, like\n",
    "\n",
    "$\\frac{dy}{dx} = \\frac{p(x, y)}{q(x, y)}$\n",
    "\n",
    "We observe that the tangent line will be horizontal precisely when the numerator is zero, and the denominator is nonzero, making the slope of the tangent line zero.\n",
    "\n",
    "Similarly, the tangent line will be vertical whenever $q(x, y) =0$ and $p(x,y) \\neq 0$, making the slope undefined, which means the tangent of the angle of the line in relation to the horizontal axis is precisely 90 degree, or a vertical line.\n",
    " \n",
    "Example from previous chapter, consider $x = y^5 -5 y^3 + 4y$"
   ]
  },
  {
   "cell_type": "code",
   "execution_count": 1,
   "id": "ec9fc71a-396c-4965-b9eb-f574c0f0caad",
   "metadata": {},
   "outputs": [
    {
     "ename": "SyntaxError",
     "evalue": "positional argument follows keyword argument (3368169590.py, line 5)",
     "output_type": "error",
     "traceback": [
      "\u001b[0;36m  Input \u001b[0;32mIn [1]\u001b[0;36m\u001b[0m\n\u001b[0;31m    plot(x=y**Integer(5) - Integer(5)*y**Integer(3) + Integer(4)*y, y)\u001b[0m\n\u001b[0m                                                                     ^\u001b[0m\n\u001b[0;31mSyntaxError\u001b[0m\u001b[0;31m:\u001b[0m positional argument follows keyword argument\n"
     ]
    }
   ],
   "source": [
    "#x = y(y^4 - 5* y^2 + 4)\n",
    "#y=function('y')(x)\n",
    "#var('x, y')\n",
    "\n",
    "plot(x=y^5 - 5*y^3 + 4*y, y)\n",
    "\n",
    "#y=function('y')(x)\n",
    "\n",
    "\n",
    "\n"
   ]
  },
  {
   "cell_type": "code",
   "execution_count": 2,
   "id": "d6ec1b17-1934-44c8-8757-31f4505b93bf",
   "metadata": {},
   "outputs": [
    {
     "data": {
      "text/plain": [
       "1300000"
      ]
     },
     "execution_count": 2,
     "metadata": {},
     "output_type": "execute_result"
    }
   ],
   "source": [
    "5000000-3700000"
   ]
  },
  {
   "cell_type": "code",
   "execution_count": 3,
   "id": "629fe41e-7617-40c7-8b66-a4e1efc03e1b",
   "metadata": {},
   "outputs": [
    {
     "data": {
      "text/plain": [
       "7690000"
      ]
     },
     "execution_count": 3,
     "metadata": {},
     "output_type": "execute_result"
    }
   ],
   "source": [
    "8488000-798000"
   ]
  },
  {
   "cell_type": "code",
   "execution_count": 4,
   "id": "86bb9db1-2752-4980-b6f8-93b913e87899",
   "metadata": {},
   "outputs": [
    {
     "data": {
      "text/plain": [
       "419000"
      ]
     },
     "execution_count": 4,
     "metadata": {},
     "output_type": "execute_result"
    }
   ],
   "source": [
    "669000-250000"
   ]
  },
  {
   "cell_type": "code",
   "execution_count": 5,
   "id": "8faf4dd1-9f7f-431c-bf5a-e8d64f5008fa",
   "metadata": {},
   "outputs": [
    {
     "data": {
      "text/plain": [
       "4000"
      ]
     },
     "execution_count": 5,
     "metadata": {},
     "output_type": "execute_result"
    }
   ],
   "source": [
    "250000-246000"
   ]
  },
  {
   "cell_type": "code",
   "execution_count": 2,
   "id": "ada8e73a-0f5d-4c50-8076-4adc3b886b62",
   "metadata": {},
   "outputs": [
    {
     "data": {
      "text/plain": [
       "0"
      ]
     },
     "execution_count": 2,
     "metadata": {},
     "output_type": "execute_result"
    }
   ],
   "source": [
    "cos(pi/2)"
   ]
  },
  {
   "cell_type": "code",
   "execution_count": 4,
   "id": "64ee7586-b7e1-4653-8cf5-9cac03d6b137",
   "metadata": {},
   "outputs": [
    {
     "data": {
      "text/plain": [
       "-1"
      ]
     },
     "execution_count": 4,
     "metadata": {},
     "output_type": "execute_result"
    }
   ],
   "source": [
    "cos(pi)"
   ]
  },
  {
   "cell_type": "code",
   "execution_count": 5,
   "id": "2a045163-2a67-4b10-81d9-d12b2eff6763",
   "metadata": {},
   "outputs": [
    {
     "data": {
      "text/plain": [
       "1"
      ]
     },
     "execution_count": 5,
     "metadata": {},
     "output_type": "execute_result"
    }
   ],
   "source": [
    "cos(0)"
   ]
  },
  {
   "cell_type": "code",
   "execution_count": 13,
   "id": "3f4030f7-f442-4cd6-8aa7-3aad27451c33",
   "metadata": {},
   "outputs": [
    {
     "data": {
      "text/html": [
       "<html>\\(\\displaystyle i\\)</html>"
      ],
      "text/latex": [
       "$\\displaystyle i$"
      ],
      "text/plain": [
       "I"
      ]
     },
     "metadata": {},
     "output_type": "display_data"
    }
   ],
   "source": [
    "var('theta')\n",
    "theta=pi/2\n",
    "show(e^(I*theta))"
   ]
  },
  {
   "cell_type": "markdown",
   "id": "bdb4ac33-38d7-413b-95eb-2f468dd204e1",
   "metadata": {},
   "source": [
    "**Activity 2.22**\n",
    "\n",
    "a) $\\lim_{x \\rightarrow 0} \\frac{ln(1+x)}{x}$"
   ]
  },
  {
   "cell_type": "code",
   "execution_count": 15,
   "id": "a799441d-ed90-43cc-9125-47897edb7305",
   "metadata": {},
   "outputs": [
    {
     "data": {
      "text/html": [
       "<html>\\(\\displaystyle \\frac{1}{x + 1}\\)</html>"
      ],
      "text/latex": [
       "$\\displaystyle \\frac{1}{x + 1}$"
      ],
      "text/plain": [
       "1/(x + 1)"
      ]
     },
     "metadata": {},
     "output_type": "display_data"
    }
   ],
   "source": [
    "f(x) =ln(1+x)\n",
    "g(x)=x\n",
    "f_prime(x) = f.diff(x)\n",
    "g_prime(x) = g.diff(x)\n",
    "\n",
    "show(f_prime(x) / g_prime(x))\n",
    "\n"
   ]
  },
  {
   "cell_type": "markdown",
   "id": "2afc4293-85bc-436e-9b48-ce41ac615ef1",
   "metadata": {},
   "source": [
    "the answer when x approaches 0, then is 1.\n",
    "\n",
    "b) $\\lim_{x \\rightarrow \\pi}\\frac{cos(x)}{x}$"
   ]
  },
  {
   "cell_type": "code",
   "execution_count": 24,
   "id": "a82c532b-0810-43fc-8a19-6c2411a5cb76",
   "metadata": {},
   "outputs": [
    {
     "data": {
      "text/html": [
       "<html>\\(\\displaystyle -\\sin\\left(x\\right)\\)</html>"
      ],
      "text/latex": [
       "$\\displaystyle -\\sin\\left(x\\right)$"
      ],
      "text/plain": [
       "-sin(x)"
      ]
     },
     "metadata": {},
     "output_type": "display_data"
    },
    {
     "data": {
      "text/html": [
       "<html>\\(\\displaystyle 0\\)</html>"
      ],
      "text/latex": [
       "$\\displaystyle 0$"
      ],
      "text/plain": [
       "0"
      ]
     },
     "metadata": {},
     "output_type": "display_data"
    },
    {
     "data": {
      "text/html": [
       "<html>\\(\\displaystyle 0\\)</html>"
      ],
      "text/latex": [
       "$\\displaystyle 0$"
      ],
      "text/plain": [
       "0"
      ]
     },
     "metadata": {},
     "output_type": "display_data"
    }
   ],
   "source": [
    "f(x)=cos(x)\n",
    "g(x)=x\n",
    "\n",
    "f_prime(x)=f.diff(x)\n",
    "show(f_prime(x))\n",
    "\n",
    "g_prime(x) = g.diff(x)\n",
    "#show(g_prime(x))\n",
    "\n",
    "show(sin(pi))\n",
    "show(f_prime(pi)/g_prime(pi))"
   ]
  },
  {
   "cell_type": "markdown",
   "id": "fa8bb9ea-0bdf-4739-9cbe-9d1009b2e071",
   "metadata": {},
   "source": [
    "c) $\\lim_{x \\rightarrow 1} \\frac{2 ln(x)}{1 - e^{x-1}}$"
   ]
  },
  {
   "cell_type": "code",
   "execution_count": 31,
   "id": "102dc3bf-feed-48a8-b4fe-0be2b64d80e8",
   "metadata": {},
   "outputs": [
    {
     "data": {
      "text/html": [
       "<html>\\(\\displaystyle -\\frac{2 \\, \\log\\left(x\\right)}{e^{\\left(x - 1\\right)} - 1}\\)</html>"
      ],
      "text/latex": [
       "$\\displaystyle -\\frac{2 \\, \\log\\left(x\\right)}{e^{\\left(x - 1\\right)} - 1}$"
      ],
      "text/plain": [
       "-2*log(x)/(e^(x - 1) - 1)"
      ]
     },
     "metadata": {},
     "output_type": "display_data"
    },
    {
     "data": {
      "text/html": [
       "<html>\\(\\displaystyle -2\\)</html>"
      ],
      "text/latex": [
       "$\\displaystyle -2$"
      ],
      "text/plain": [
       "-2"
      ]
     },
     "metadata": {},
     "output_type": "display_data"
    }
   ],
   "source": [
    "f(x) = 2*ln(x)\n",
    "g(x) = 1 - e^(x-1)\n",
    "show(f(x)/g(x))\n",
    "\n",
    "f_prime(x) = f.diff(x)\n",
    "g_prime(x) = g.diff(x)\n",
    "\n",
    "#show(f_prime(x))\n",
    "#show(g_prime(x))\n",
    "#show(f_prime(x)/g_prime(x))\n",
    "show(f_prime(1)/g_prime(1))"
   ]
  },
  {
   "cell_type": "markdown",
   "id": "560d38b7-605b-4211-a660-edb15a59bec5",
   "metadata": {},
   "source": [
    "d) $\\lim_{x \\rightarrow 0}\\frac{sin(x) -x}{cos(2 x) -1}$"
   ]
  },
  {
   "cell_type": "code",
   "execution_count": 71,
   "id": "c4192b5e-a62f-4811-bbe2-bd2fc9cd0217",
   "metadata": {},
   "outputs": [
    {
     "data": {
      "text/html": [
       "<html>\\(\\displaystyle -\\frac{x - \\sin\\left(x\\right)}{\\cos\\left(2 \\, x\\right) - 1}\\)</html>"
      ],
      "text/latex": [
       "$\\displaystyle -\\frac{x - \\sin\\left(x\\right)}{\\cos\\left(2 \\, x\\right) - 1}$"
      ],
      "text/plain": [
       "-(x - sin(x))/(cos(2*x) - 1)"
      ]
     },
     "metadata": {},
     "output_type": "display_data"
    },
    {
     "ename": "ValueError",
     "evalue": "power::eval(): division by zero",
     "output_type": "error",
     "traceback": [
      "\u001b[0;31m---------------------------------------------------------------------------\u001b[0m",
      "\u001b[0;31mValueError\u001b[0m                                Traceback (most recent call last)",
      "Input \u001b[0;32mIn [71]\u001b[0m, in \u001b[0;36m<cell line: 3>\u001b[0;34m()\u001b[0m\n\u001b[1;32m      1\u001b[0m __tmp__\u001b[38;5;241m=\u001b[39mvar(\u001b[38;5;124m\"\u001b[39m\u001b[38;5;124mx\u001b[39m\u001b[38;5;124m\"\u001b[39m); z \u001b[38;5;241m=\u001b[39m symbolic_expression((sin(x) \u001b[38;5;241m-\u001b[39m x)\u001b[38;5;241m/\u001b[39m(cos(Integer(\u001b[38;5;241m2\u001b[39m)\u001b[38;5;241m*\u001b[39mx) \u001b[38;5;241m-\u001b[39mInteger(\u001b[38;5;241m1\u001b[39m)))\u001b[38;5;241m.\u001b[39mfunction(x)\n\u001b[1;32m      2\u001b[0m show(z(x))\n\u001b[0;32m----> 3\u001b[0m show(\u001b[43mz\u001b[49m\u001b[43m(\u001b[49m\u001b[43mInteger\u001b[49m\u001b[43m(\u001b[49m\u001b[38;5;241;43m0\u001b[39;49m\u001b[43m)\u001b[49m\u001b[43m)\u001b[49m)\n",
      "File \u001b[0;32m/usr/local/sage-9.7/src/sage/symbolic/expression.pyx:6182\u001b[0m, in \u001b[0;36msage.symbolic.expression.Expression.__call__\u001b[0;34m()\u001b[0m\n\u001b[1;32m   6180\u001b[0m         z^2 + x^y\n\u001b[1;32m   6181\u001b[0m     \"\"\"\n\u001b[0;32m-> 6182\u001b[0m     return self._parent._call_element_(self, *args, **kwds)\n\u001b[1;32m   6183\u001b[0m \n\u001b[1;32m   6184\u001b[0m def variables(self):\n",
      "File \u001b[0;32m/usr/local/sage-9.7/src/sage/symbolic/callable.py:476\u001b[0m, in \u001b[0;36mCallableSymbolicExpressionRing_class._call_element_\u001b[0;34m(self, _the_element, *args, **kwds)\u001b[0m\n\u001b[1;32m    474\u001b[0m d \u001b[38;5;241m=\u001b[39m \u001b[38;5;28mdict\u001b[39m(\u001b[38;5;28mzip\u001b[39m([\u001b[38;5;28mrepr\u001b[39m(_) \u001b[38;5;28;01mfor\u001b[39;00m _ \u001b[38;5;129;01min\u001b[39;00m \u001b[38;5;28mself\u001b[39m\u001b[38;5;241m.\u001b[39marguments()], args))\n\u001b[1;32m    475\u001b[0m d\u001b[38;5;241m.\u001b[39mupdate(kwds)\n\u001b[0;32m--> 476\u001b[0m \u001b[38;5;28;01mreturn\u001b[39;00m SR(\u001b[43m_the_element\u001b[49m\u001b[38;5;241;43m.\u001b[39;49m\u001b[43msubstitute\u001b[49m\u001b[43m(\u001b[49m\u001b[38;5;241;43m*\u001b[39;49m\u001b[38;5;241;43m*\u001b[39;49m\u001b[43md\u001b[49m\u001b[43m)\u001b[49m)\n",
      "File \u001b[0;32m/usr/local/sage-9.7/src/sage/symbolic/expression.pyx:5892\u001b[0m, in \u001b[0;36msage.symbolic.expression.Expression.substitute\u001b[0;34m()\u001b[0m\n\u001b[1;32m   5890\u001b[0m     smap.insert(make_pair((<Expression>self.coerce_in(k))._gobj,\n\u001b[1;32m   5891\u001b[0m                           (<Expression>self.coerce_in(v))._gobj))\n\u001b[0;32m-> 5892\u001b[0m res = self._gobj.subs_map(smap, 0)\n\u001b[1;32m   5893\u001b[0m return new_Expression_from_GEx(self._parent, res)\n\u001b[1;32m   5894\u001b[0m \n",
      "\u001b[0;31mValueError\u001b[0m: power::eval(): division by zero"
     ]
    }
   ],
   "source": [
    "z(x) = (sin(x) - x)/(cos(2*x) -1)\n",
    "show(z(x))\n",
    "show(z(0))"
   ]
  },
  {
   "cell_type": "code",
   "execution_count": 76,
   "id": "1af43753-61de-465b-922f-92b858581eec",
   "metadata": {},
   "outputs": [
    {
     "data": {
      "image/png": "[encoded data removed]",
      "text/plain": [
       "Graphics object consisting of 2 graphics primitives"
      ]
     },
     "metadata": {},
     "output_type": "display_data"
    },
    {
     "data": {
      "text/html": [
       "<html>\\(\\displaystyle \\verb|f(0)/g(0)| 0 \\verb|/| 0\\)</html>"
      ],
      "text/latex": [
       "$\\displaystyle \\verb|f(0)/g(0)| 0 \\verb|/| 0$"
      ],
      "text/plain": [
       "'f(0)/g(0)' 0 '/' 0"
      ]
     },
     "metadata": {},
     "output_type": "display_data"
    },
    {
     "data": {
      "text/html": [
       "<html>\\(\\displaystyle \\verb|q1=| 0 \\verb|/| 0\\)</html>"
      ],
      "text/latex": [
       "$\\displaystyle \\verb|q1=| 0 \\verb|/| 0$"
      ],
      "text/plain": [
       "'q1=' 0 '/' 0"
      ]
     },
     "metadata": {},
     "output_type": "display_data"
    },
    {
     "data": {
      "text/html": [
       "<html>\\(\\displaystyle \\verb|q2=| 0 \\verb|/| -4\\)</html>"
      ],
      "text/latex": [
       "$\\displaystyle \\verb|q2=| 0 \\verb|/| -4$"
      ],
      "text/plain": [
       "'q2=' 0 '/' -4"
      ]
     },
     "metadata": {},
     "output_type": "display_data"
    },
    {
     "data": {
      "text/html": [
       "<html>\\(\\displaystyle \\verb|q3=| -1 \\verb|/| 0\\)</html>"
      ],
      "text/latex": [
       "$\\displaystyle \\verb|q3=| -1 \\verb|/| 0$"
      ],
      "text/plain": [
       "'q3=' -1 '/' 0"
      ]
     },
     "metadata": {},
     "output_type": "display_data"
    },
    {
     "data": {
      "text/html": [
       "<html>\\(\\displaystyle \\verb|q4=| 0 \\verb|/| 16\\)</html>"
      ],
      "text/latex": [
       "$\\displaystyle \\verb|q4=| 0 \\verb|/| 16$"
      ],
      "text/plain": [
       "'q4=' 0 '/' 16"
      ]
     },
     "metadata": {},
     "output_type": "display_data"
    },
    {
     "data": {
      "text/html": [
       "<html>\\(\\displaystyle \\verb|q5=| 1 \\verb|/| 0\\)</html>"
      ],
      "text/latex": [
       "$\\displaystyle \\verb|q5=| 1 \\verb|/| 0$"
      ],
      "text/plain": [
       "'q5=' 1 '/' 0"
      ]
     },
     "metadata": {},
     "output_type": "display_data"
    },
    {
     "data": {
      "text/html": [
       "<html>\\(\\displaystyle \\verb|q6=| 0 \\verb|/| -64\\)</html>"
      ],
      "text/latex": [
       "$\\displaystyle \\verb|q6=| 0 \\verb|/| -64$"
      ],
      "text/plain": [
       "'q6=' 0 '/' -64"
      ]
     },
     "metadata": {},
     "output_type": "display_data"
    },
    {
     "data": {
      "text/html": [
       "<html>\\(\\displaystyle 0\\)</html>"
      ],
      "text/latex": [
       "$\\displaystyle 0$"
      ],
      "text/plain": [
       "0"
      ]
     },
     "metadata": {},
     "output_type": "display_data"
    }
   ],
   "source": [
    "f(x)= sin(x) -x\n",
    "g(x) = cos(2*x) -1\n",
    "f_prime(x) = f.diff(x)\n",
    "g_prime(x) = g.diff(x)\n",
    "f_plot=plot(f, (x, -10, 10), color=\"red\")\n",
    "g_plot=plot(g, (x, -10, 10), color=\"indigo\")\n",
    "\n",
    "f_double_prime(x) = f_prime.diff(x)\n",
    "g_double_prime(x) = g_prime.diff(x)\n",
    "\n",
    "\n",
    "f_triple_prime(x) = f_double_prime.diff(x)\n",
    "g_triple_prime(x) = g_double_prime.diff(x)\n",
    "\n",
    "f_quad_prime(x) = f.diff(x, 4)\n",
    "g_quad_prime(x) = g.diff(x, 4)\n",
    "\n",
    "f_5th_prime(x) = f.diff(x, 5)\n",
    "g_5th_prime(x) = g.diff(x, 5)\n",
    "\n",
    "f_6th_prime(x) = f.diff(x, 6)\n",
    "g_6th_prime(x) = g.diff(x, 6)\n",
    "#(f_plot + g_plot).show()\n",
    "#show(g_prime(x))\n",
    "#sin(0)\n",
    "f_5th_prime_plot=plot(f_5th_prime, (x, -10, 10), color=\"orange\")\n",
    "g_5th_prime_plot=plot(g_5th_prime, (x, -10, 10), color=\"blue\")\n",
    "\n",
    "f_6th_prime_plot=plot(f_6th_prime, (x, -10, 10), color=\"orange\")\n",
    "g_6th_prime_plot=plot(g_6th_prime, (x, -10, 10), color=\"blue\")\n",
    "\n",
    "\n",
    "f_prime_plot=plot(f_prime, (x, -10, 10), color=\"orange\")\n",
    "g_prime_plot=plot(g_prime, (x, -10, 10), color=\"blue\")\n",
    "\n",
    "\n",
    "\n",
    "f_double_prime_plot=plot(f_double_prime, (x, -10, 10), color=\"yellow\")\n",
    "g_double_prime_plot=plot(g_double_prime, (x, -10, 10), color=\"black\")\n",
    "\n",
    "f_triple_prime_plot=plot(f_triple_prime, (x, -10, 10), color=\"pink\")\n",
    "g_triple_prime_plot=plot(g_triple_prime, (x, -10, 10), color=\"green\")\n",
    "\n",
    "f_quad_prime_plot=plot(f_quad_prime, (x, -10, 10), color=\"red\")\n",
    "g_quad_prime_plot=plot(g_quad_prime, (x, -10, 10), color=\"indigo\")\n",
    "\n",
    "\n",
    "#(f_plot + g_plot).show()\n",
    "(f_prime_plot+g_prime_plot).show()\n",
    "#(f_6th_prime_plot + g_6th_prime_plot + f_5th_prime_plot+g_5th_prime_plot+f_quad_prime_plot+g_quad_prime_plot + f_triple_prime_plot+ g_triple_prime_plot+f_plot+f_prime_plot+ g_plot+ g_prime_plot + f_double_prime_plot+g_double_prime_plot).show()\n",
    "#show(f_quad_prime(0))\n",
    "#show(g_quad_prime(0))\n",
    "\n",
    "show('f(0)/g(0)', f(0), '/', g(0))\n",
    "show('q1=', f_prime(0), '/', g_prime(0))\n",
    "show('q2=', f_double_prime(0), '/', g_double_prime(0))\n",
    "show('q3=', f_triple_prime(0), '/', g_triple_prime(0))\n",
    "show('q4=', f_quad_prime(0), '/', g_quad_prime(0))\n",
    "show('q5=', f_5th_prime(0), '/', g_5th_prime(0))\n",
    "show('q6=', f_6th_prime(0), '/', g_6th_prime(0))\n",
    "#show(g_double_prime(0))\n",
    "#     /g_prime(x))\n",
    "#show(cos(0))\n",
    "#show(f_prime(0)/g_prime(0))\n",
    "#cos(0)\n",
    "#show(f(0)/g(0))\n",
    "\n",
    "show(limit((sin(x) - x )/(cos(2*x) -1), x=0, dir='left'))"
   ]
  },
  {
   "cell_type": "markdown",
   "id": "0196fbed-2cd7-4efa-a14c-cced6e021757",
   "metadata": {},
   "source": [
    "We reason that both the numerator and denominator are zeros, \n",
    "therefore taking the limit of the quotient is zero.\n",
    "\n",
    "If the numerator is not zero, while the denominator is zero, we would\n",
    "run into trouble, not having a limit. But what is the result in that case?\n",
    "\n",
    "**Note: TO DO: we need to verify this case.**\n",
    "\n",
    "**New Hypothesis:**\n",
    "\n",
    "If the $f(a)/g(a)$ is a division by zero problem, we apply the L'Hopital's Rule\n",
    ", to calculate the derivative of both the numerator and the denominator, the resulting value to\n",
    "computer the quotient, that value is the calculus idea of limit, and the limit is taken\n",
    "as the mathematical approximation of the original function at a.\n",
    "\n",
    "What if we have a division by zero problem again at the derivative step?\n",
    "\n",
    "Well, here I conjecture, that if the numerator is NOT zero, meaning the rate of change\n",
    "is positive, or negative, while the denominator IS zero, meaning the rate of change\n",
    "is 0, or it has no change at the point, which means the value of the original function\n",
    "is irrelevant with respect to g(x), so the value can be taken as the value of the f(x).\n",
    "\n",
    "Because this quotient is really a ratio between $f(x)$ vs $g(x)$, a fundamental mathematical\n",
    "idea of the rate between two functions, or two data projections, so the bottom function is static,\n",
    "then the ratio is going to be approximated as simply the value of the f(x) evaluated at a.\n",
    "\n",
    "This needs to be proven.\n",
    "\n",
    "\n"
   ]
  },
  {
   "cell_type": "code",
   "execution_count": null,
   "id": "a5be31d0-b21c-41ef-909a-90c280ea1b3d",
   "metadata": {},
   "outputs": [],
   "source": []
  }
 ],
 "metadata": {
  "kernelspec": {
   "display_name": "SageMath 9.7",
   "language": "sage",
   "name": "sagemath"
  },
  "language_info": {
   "codemirror_mode": {
    "name": "ipython",
    "version": 3
   },
   "file_extension": ".py",
   "mimetype": "text/x-python",
   "name": "python",
   "nbconvert_exporter": "python",
   "pygments_lexer": "ipython3",
   "version": "3.10.12"
  }
 },
 "nbformat": 4,
 "nbformat_minor": 5
}
