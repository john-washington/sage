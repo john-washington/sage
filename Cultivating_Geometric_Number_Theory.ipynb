{
 "cells": [
  {
   "cell_type": "code",
   "execution_count": 2,
   "id": "5106e244-c6d5-440b-a311-f2fb30e7b835",
   "metadata": {},
   "outputs": [],
   "source": [
    "def plot_complex_number_as_vector(c, _color):\n",
    "    cv = vector([real(c), imag(c)] )\n",
    "    #s = f\"{c}\"\n",
    "    #show(c)\n",
    "    return plot(cv, color=_color)\n",
    "                #, label = \"'\" + str(c)  + \"'\" )\n",
    "\n",
    "def complex_points_plots(pts, color):\n",
    "    return list_plot([(real(i), imag(i)) for i in pts], color=color, axes_labels = ['Re($z$)', 'Im($z$)'], aspect_ratio=1)\n",
    "\n"
   ]
  },
  {
   "cell_type": "code",
   "execution_count": 98,
   "id": "ef4b0474-2ab0-4c8c-8236-c6cbda907f1a",
   "metadata": {},
   "outputs": [
    {
     "data": {
      "text/html": [
       "<html>\\(\\displaystyle \\verb|A|\\verb| |\\verb|=| 6 i + 1\\)</html>"
      ],
      "text/latex": [
       "$\\displaystyle \\verb|A|\\verb| |\\verb|=| 6 i + 1$"
      ],
      "text/plain": [
       "'A = ' 6*I + 1"
      ]
     },
     "metadata": {},
     "output_type": "display_data"
    },
    {
     "data": {
      "text/html": [
       "<html>\\(\\displaystyle \\verb|B|\\verb| |\\verb|=| 8 i + 3\\)</html>"
      ],
      "text/latex": [
       "$\\displaystyle \\verb|B|\\verb| |\\verb|=| 8 i + 3$"
      ],
      "text/plain": [
       "'B = ' 8*I + 3"
      ]
     },
     "metadata": {},
     "output_type": "display_data"
    },
    {
     "data": {
      "text/html": [
       "<html>\\(\\displaystyle \\verb|A|\\verb| |\\verb|+|\\verb| |\\verb|B|\\verb| |\\verb|=| 14 i + 4\\)</html>"
      ],
      "text/latex": [
       "$\\displaystyle \\verb|A|\\verb| |\\verb|+|\\verb| |\\verb|B|\\verb| |\\verb|=| 14 i + 4$"
      ],
      "text/plain": [
       "'A + B = ' 14*I + 4"
      ]
     },
     "metadata": {},
     "output_type": "display_data"
    },
    {
     "data": {
      "text/html": [
       "<html>\\(\\displaystyle 4\\)</html>"
      ],
      "text/latex": [
       "$\\displaystyle 4$"
      ],
      "text/plain": [
       "4"
      ]
     },
     "metadata": {},
     "output_type": "display_data"
    },
    {
     "data": {
      "text/html": [
       "<html>\\(\\displaystyle 14\\)</html>"
      ],
      "text/latex": [
       "$\\displaystyle 14$"
      ],
      "text/plain": [
       "14"
      ]
     },
     "metadata": {},
     "output_type": "display_data"
    },
    {
     "data": {
      "text/html": [
       "<html>\\(\\displaystyle \\verb|A_times_B|\\verb| |\\verb|=| 26 i - 45\\)</html>"
      ],
      "text/latex": [
       "$\\displaystyle \\verb|A_times_B|\\verb| |\\verb|=| 26 i - 45$"
      ],
      "text/plain": [
       "'A_times_B = ' 26*I - 45"
      ]
     },
     "metadata": {},
     "output_type": "display_data"
    },
    {
     "data": {
      "text/html": [
       "<html>\\(\\displaystyle \\verb|len_A|\\verb| |\\verb|=| \\sqrt{37}\\)</html>"
      ],
      "text/latex": [
       "$\\displaystyle \\verb|len_A|\\verb| |\\verb|=| \\sqrt{37}$"
      ],
      "text/plain": [
       "'len_A = ' sqrt(37)"
      ]
     },
     "metadata": {},
     "output_type": "display_data"
    },
    {
     "data": {
      "text/html": [
       "<html>\\(\\displaystyle \\verb|len_B|\\verb| |\\verb|=| \\sqrt{73}\\)</html>"
      ],
      "text/latex": [
       "$\\displaystyle \\verb|len_B|\\verb| |\\verb|=| \\sqrt{73}$"
      ],
      "text/plain": [
       "'len_B = ' sqrt(73)"
      ]
     },
     "metadata": {},
     "output_type": "display_data"
    },
    {
     "data": {
      "text/html": [
       "<html>\\(\\displaystyle \\verb|len_A|\\verb| |\\verb|*|\\verb| |\\verb|len_B|\\verb| |\\verb|=| 51.9711458407451\\)</html>"
      ],
      "text/latex": [
       "$\\displaystyle \\verb|len_A|\\verb| |\\verb|*|\\verb| |\\verb|len_B|\\verb| |\\verb|=| 51.9711458407451$"
      ],
      "text/plain": [
       "'len_A * len_B = ' 51.9711458407451"
      ]
     },
     "metadata": {},
     "output_type": "display_data"
    },
    {
     "data": {
      "text/html": [
       "<html>\\(\\displaystyle \\verb|len_A_times_B|\\verb| |\\verb|=| 51.9711458407451\\)</html>"
      ],
      "text/latex": [
       "$\\displaystyle \\verb|len_A_times_B|\\verb| |\\verb|=| 51.9711458407451$"
      ],
      "text/plain": [
       "'len_A_times_B = ' 51.9711458407451"
      ]
     },
     "metadata": {},
     "output_type": "display_data"
    },
    {
     "data": {
      "image/png": "[encoded data removed]",
      "text/plain": [
       "Graphics object consisting of 4 graphics primitives"
      ]
     },
     "execution_count": 98,
     "metadata": {},
     "output_type": "execute_result"
    }
   ],
   "source": [
    "#A = vector([1, 6])\n",
    "#B = vector([3, 8])\n",
    "#plot(A, color=\"red\") + plot(B) +plot(A + B, color=\"orange\") + plot(A*B, color=\"indigo\")\n",
    "A = 1 + 6*I\n",
    "B = 3 + 8*I\n",
    "show('A = ', A)\n",
    "show('B = ', B)\n",
    "show('A + B = ', A + B)\n",
    "show(real(A) + real(B))\n",
    "show(imag(A) + imag(B))\n",
    "A_times_B = A*B\n",
    "show('A_times_B = ', A_times_B)\n",
    "len_A = sqrt(real(A)^2 + imag(A)^2)\n",
    "len_B = sqrt(real(B)^2 + imag(B)^2)\n",
    "show('len_A = ', len_A)\n",
    "show('len_B = ', len_B)\n",
    "show('len_A * len_B = ', len_A.n() * len_B.n())\n",
    "show( 'len_A_times_B = ', sqrt(real(A_times_B)^2 + imag(A_times_B)^2).n() )\n",
    "plot_complex_number_as_vector(A, \"red\")+plot_complex_number_as_vector(B, \"blue\") + plot_complex_number_as_vector(A + B, \"orange\") + plot_complex_number_as_vector(A*B, \"indigo\")"
   ]
  },
  {
   "cell_type": "code",
   "execution_count": 62,
   "id": "e0b10846-72b7-4d29-91c1-89001edf3617",
   "metadata": {},
   "outputs": [
    {
     "data": {
      "image/png": "[encoded data removed]",
      "text/plain": [
       "Graphics object consisting of 1 graphics primitive"
      ]
     },
     "execution_count": 62,
     "metadata": {},
     "output_type": "execute_result"
    }
   ],
   "source": [
    "pts = [A, B, A+B, A*B]\n",
    "complex_points_plots(pts, \"indigo\")"
   ]
  },
  {
   "cell_type": "code",
   "execution_count": 36,
   "id": "32e65e54-b75c-478c-b088-622302e6f3d4",
   "metadata": {},
   "outputs": [
    {
     "data": {
      "image/png": "[encoded data removed]",
      "text/plain": [
       "Graphics object consisting of 4 graphics primitives"
      ]
     },
     "execution_count": 36,
     "metadata": {},
     "output_type": "execute_result"
    }
   ],
   "source": [
    "A = vector([1, 6])\n",
    "B = vector([3, 8])\n",
    "plot(A, color=\"red\") + plot(B) +plot(A + B, color=\"orange\") + plot(A*B, color=\"indigo\")\n"
   ]
  },
  {
   "cell_type": "code",
   "execution_count": 3,
   "id": "1d3e9a48-5ebd-42ef-8a79-a77723ead2ee",
   "metadata": {},
   "outputs": [
    {
     "data": {
      "text/html": [
       "<html>\\(\\displaystyle -5 i - 5\\)</html>"
      ],
      "text/latex": [
       "$\\displaystyle -5 i - 5$"
      ],
      "text/plain": [
       "-5*I - 5"
      ]
     },
     "metadata": {},
     "output_type": "display_data"
    },
    {
     "data": {
      "text/html": [
       "<html>\\(\\displaystyle -4 i - 5\\)</html>"
      ],
      "text/latex": [
       "$\\displaystyle -4 i - 5$"
      ],
      "text/plain": [
       "-4*I - 5"
      ]
     },
     "metadata": {},
     "output_type": "display_data"
    },
    {
     "data": {
      "text/html": [
       "<html>\\(\\displaystyle -3 i - 5\\)</html>"
      ],
      "text/latex": [
       "$\\displaystyle -3 i - 5$"
      ],
      "text/plain": [
       "-3*I - 5"
      ]
     },
     "metadata": {},
     "output_type": "display_data"
    },
    {
     "data": {
      "text/html": [
       "<html>\\(\\displaystyle -2 i - 5\\)</html>"
      ],
      "text/latex": [
       "$\\displaystyle -2 i - 5$"
      ],
      "text/plain": [
       "-2*I - 5"
      ]
     },
     "metadata": {},
     "output_type": "display_data"
    },
    {
     "data": {
      "text/html": [
       "<html>\\(\\displaystyle -i - 5\\)</html>"
      ],
      "text/latex": [
       "$\\displaystyle -i - 5$"
      ],
      "text/plain": [
       "-I - 5"
      ]
     },
     "metadata": {},
     "output_type": "display_data"
    },
    {
     "data": {
      "text/html": [
       "<html>\\(\\displaystyle -5\\)</html>"
      ],
      "text/latex": [
       "$\\displaystyle -5$"
      ],
      "text/plain": [
       "-5"
      ]
     },
     "metadata": {},
     "output_type": "display_data"
    },
    {
     "data": {
      "text/html": [
       "<html>\\(\\displaystyle i - 5\\)</html>"
      ],
      "text/latex": [
       "$\\displaystyle i - 5$"
      ],
      "text/plain": [
       "I - 5"
      ]
     },
     "metadata": {},
     "output_type": "display_data"
    },
    {
     "data": {
      "text/html": [
       "<html>\\(\\displaystyle 2 i - 5\\)</html>"
      ],
      "text/latex": [
       "$\\displaystyle 2 i - 5$"
      ],
      "text/plain": [
       "2*I - 5"
      ]
     },
     "metadata": {},
     "output_type": "display_data"
    },
    {
     "data": {
      "text/html": [
       "<html>\\(\\displaystyle 3 i - 5\\)</html>"
      ],
      "text/latex": [
       "$\\displaystyle 3 i - 5$"
      ],
      "text/plain": [
       "3*I - 5"
      ]
     },
     "metadata": {},
     "output_type": "display_data"
    },
    {
     "data": {
      "text/html": [
       "<html>\\(\\displaystyle 4 i - 5\\)</html>"
      ],
      "text/latex": [
       "$\\displaystyle 4 i - 5$"
      ],
      "text/plain": [
       "4*I - 5"
      ]
     },
     "metadata": {},
     "output_type": "display_data"
    },
    {
     "data": {
      "text/html": [
       "<html>\\(\\displaystyle -5 i - 4\\)</html>"
      ],
      "text/latex": [
       "$\\displaystyle -5 i - 4$"
      ],
      "text/plain": [
       "-5*I - 4"
      ]
     },
     "metadata": {},
     "output_type": "display_data"
    },
    {
     "data": {
      "text/html": [
       "<html>\\(\\displaystyle -4 i - 4\\)</html>"
      ],
      "text/latex": [
       "$\\displaystyle -4 i - 4$"
      ],
      "text/plain": [
       "-4*I - 4"
      ]
     },
     "metadata": {},
     "output_type": "display_data"
    },
    {
     "data": {
      "text/html": [
       "<html>\\(\\displaystyle -3 i - 4\\)</html>"
      ],
      "text/latex": [
       "$\\displaystyle -3 i - 4$"
      ],
      "text/plain": [
       "-3*I - 4"
      ]
     },
     "metadata": {},
     "output_type": "display_data"
    },
    {
     "data": {
      "text/html": [
       "<html>\\(\\displaystyle -2 i - 4\\)</html>"
      ],
      "text/latex": [
       "$\\displaystyle -2 i - 4$"
      ],
      "text/plain": [
       "-2*I - 4"
      ]
     },
     "metadata": {},
     "output_type": "display_data"
    },
    {
     "data": {
      "text/html": [
       "<html>\\(\\displaystyle -i - 4\\)</html>"
      ],
      "text/latex": [
       "$\\displaystyle -i - 4$"
      ],
      "text/plain": [
       "-I - 4"
      ]
     },
     "metadata": {},
     "output_type": "display_data"
    },
    {
     "data": {
      "text/html": [
       "<html>\\(\\displaystyle -4\\)</html>"
      ],
      "text/latex": [
       "$\\displaystyle -4$"
      ],
      "text/plain": [
       "-4"
      ]
     },
     "metadata": {},
     "output_type": "display_data"
    },
    {
     "data": {
      "text/html": [
       "<html>\\(\\displaystyle i - 4\\)</html>"
      ],
      "text/latex": [
       "$\\displaystyle i - 4$"
      ],
      "text/plain": [
       "I - 4"
      ]
     },
     "metadata": {},
     "output_type": "display_data"
    },
    {
     "data": {
      "text/html": [
       "<html>\\(\\displaystyle 2 i - 4\\)</html>"
      ],
      "text/latex": [
       "$\\displaystyle 2 i - 4$"
      ],
      "text/plain": [
       "2*I - 4"
      ]
     },
     "metadata": {},
     "output_type": "display_data"
    },
    {
     "data": {
      "text/html": [
       "<html>\\(\\displaystyle 3 i - 4\\)</html>"
      ],
      "text/latex": [
       "$\\displaystyle 3 i - 4$"
      ],
      "text/plain": [
       "3*I - 4"
      ]
     },
     "metadata": {},
     "output_type": "display_data"
    },
    {
     "data": {
      "text/html": [
       "<html>\\(\\displaystyle 4 i - 4\\)</html>"
      ],
      "text/latex": [
       "$\\displaystyle 4 i - 4$"
      ],
      "text/plain": [
       "4*I - 4"
      ]
     },
     "metadata": {},
     "output_type": "display_data"
    },
    {
     "data": {
      "text/html": [
       "<html>\\(\\displaystyle -5 i - 3\\)</html>"
      ],
      "text/latex": [
       "$\\displaystyle -5 i - 3$"
      ],
      "text/plain": [
       "-5*I - 3"
      ]
     },
     "metadata": {},
     "output_type": "display_data"
    },
    {
     "data": {
      "text/html": [
       "<html>\\(\\displaystyle -4 i - 3\\)</html>"
      ],
      "text/latex": [
       "$\\displaystyle -4 i - 3$"
      ],
      "text/plain": [
       "-4*I - 3"
      ]
     },
     "metadata": {},
     "output_type": "display_data"
    },
    {
     "data": {
      "text/html": [
       "<html>\\(\\displaystyle -3 i - 3\\)</html>"
      ],
      "text/latex": [
       "$\\displaystyle -3 i - 3$"
      ],
      "text/plain": [
       "-3*I - 3"
      ]
     },
     "metadata": {},
     "output_type": "display_data"
    },
    {
     "data": {
      "text/html": [
       "<html>\\(\\displaystyle -2 i - 3\\)</html>"
      ],
      "text/latex": [
       "$\\displaystyle -2 i - 3$"
      ],
      "text/plain": [
       "-2*I - 3"
      ]
     },
     "metadata": {},
     "output_type": "display_data"
    },
    {
     "data": {
      "text/html": [
       "<html>\\(\\displaystyle -i - 3\\)</html>"
      ],
      "text/latex": [
       "$\\displaystyle -i - 3$"
      ],
      "text/plain": [
       "-I - 3"
      ]
     },
     "metadata": {},
     "output_type": "display_data"
    },
    {
     "data": {
      "text/html": [
       "<html>\\(\\displaystyle -3\\)</html>"
      ],
      "text/latex": [
       "$\\displaystyle -3$"
      ],
      "text/plain": [
       "-3"
      ]
     },
     "metadata": {},
     "output_type": "display_data"
    },
    {
     "data": {
      "text/html": [
       "<html>\\(\\displaystyle i - 3\\)</html>"
      ],
      "text/latex": [
       "$\\displaystyle i - 3$"
      ],
      "text/plain": [
       "I - 3"
      ]
     },
     "metadata": {},
     "output_type": "display_data"
    },
    {
     "data": {
      "text/html": [
       "<html>\\(\\displaystyle 2 i - 3\\)</html>"
      ],
      "text/latex": [
       "$\\displaystyle 2 i - 3$"
      ],
      "text/plain": [
       "2*I - 3"
      ]
     },
     "metadata": {},
     "output_type": "display_data"
    },
    {
     "data": {
      "text/html": [
       "<html>\\(\\displaystyle 3 i - 3\\)</html>"
      ],
      "text/latex": [
       "$\\displaystyle 3 i - 3$"
      ],
      "text/plain": [
       "3*I - 3"
      ]
     },
     "metadata": {},
     "output_type": "display_data"
    },
    {
     "data": {
      "text/html": [
       "<html>\\(\\displaystyle 4 i - 3\\)</html>"
      ],
      "text/latex": [
       "$\\displaystyle 4 i - 3$"
      ],
      "text/plain": [
       "4*I - 3"
      ]
     },
     "metadata": {},
     "output_type": "display_data"
    },
    {
     "data": {
      "text/html": [
       "<html>\\(\\displaystyle -5 i - 2\\)</html>"
      ],
      "text/latex": [
       "$\\displaystyle -5 i - 2$"
      ],
      "text/plain": [
       "-5*I - 2"
      ]
     },
     "metadata": {},
     "output_type": "display_data"
    },
    {
     "data": {
      "text/html": [
       "<html>\\(\\displaystyle -4 i - 2\\)</html>"
      ],
      "text/latex": [
       "$\\displaystyle -4 i - 2$"
      ],
      "text/plain": [
       "-4*I - 2"
      ]
     },
     "metadata": {},
     "output_type": "display_data"
    },
    {
     "data": {
      "text/html": [
       "<html>\\(\\displaystyle -3 i - 2\\)</html>"
      ],
      "text/latex": [
       "$\\displaystyle -3 i - 2$"
      ],
      "text/plain": [
       "-3*I - 2"
      ]
     },
     "metadata": {},
     "output_type": "display_data"
    },
    {
     "data": {
      "text/html": [
       "<html>\\(\\displaystyle -2 i - 2\\)</html>"
      ],
      "text/latex": [
       "$\\displaystyle -2 i - 2$"
      ],
      "text/plain": [
       "-2*I - 2"
      ]
     },
     "metadata": {},
     "output_type": "display_data"
    },
    {
     "data": {
      "text/html": [
       "<html>\\(\\displaystyle -i - 2\\)</html>"
      ],
      "text/latex": [
       "$\\displaystyle -i - 2$"
      ],
      "text/plain": [
       "-I - 2"
      ]
     },
     "metadata": {},
     "output_type": "display_data"
    },
    {
     "data": {
      "text/html": [
       "<html>\\(\\displaystyle -2\\)</html>"
      ],
      "text/latex": [
       "$\\displaystyle -2$"
      ],
      "text/plain": [
       "-2"
      ]
     },
     "metadata": {},
     "output_type": "display_data"
    },
    {
     "data": {
      "text/html": [
       "<html>\\(\\displaystyle i - 2\\)</html>"
      ],
      "text/latex": [
       "$\\displaystyle i - 2$"
      ],
      "text/plain": [
       "I - 2"
      ]
     },
     "metadata": {},
     "output_type": "display_data"
    },
    {
     "data": {
      "text/html": [
       "<html>\\(\\displaystyle 2 i - 2\\)</html>"
      ],
      "text/latex": [
       "$\\displaystyle 2 i - 2$"
      ],
      "text/plain": [
       "2*I - 2"
      ]
     },
     "metadata": {},
     "output_type": "display_data"
    },
    {
     "data": {
      "text/html": [
       "<html>\\(\\displaystyle 3 i - 2\\)</html>"
      ],
      "text/latex": [
       "$\\displaystyle 3 i - 2$"
      ],
      "text/plain": [
       "3*I - 2"
      ]
     },
     "metadata": {},
     "output_type": "display_data"
    },
    {
     "data": {
      "text/html": [
       "<html>\\(\\displaystyle 4 i - 2\\)</html>"
      ],
      "text/latex": [
       "$\\displaystyle 4 i - 2$"
      ],
      "text/plain": [
       "4*I - 2"
      ]
     },
     "metadata": {},
     "output_type": "display_data"
    },
    {
     "data": {
      "text/html": [
       "<html>\\(\\displaystyle -5 i - 1\\)</html>"
      ],
      "text/latex": [
       "$\\displaystyle -5 i - 1$"
      ],
      "text/plain": [
       "-5*I - 1"
      ]
     },
     "metadata": {},
     "output_type": "display_data"
    },
    {
     "data": {
      "text/html": [
       "<html>\\(\\displaystyle -4 i - 1\\)</html>"
      ],
      "text/latex": [
       "$\\displaystyle -4 i - 1$"
      ],
      "text/plain": [
       "-4*I - 1"
      ]
     },
     "metadata": {},
     "output_type": "display_data"
    },
    {
     "data": {
      "text/html": [
       "<html>\\(\\displaystyle -3 i - 1\\)</html>"
      ],
      "text/latex": [
       "$\\displaystyle -3 i - 1$"
      ],
      "text/plain": [
       "-3*I - 1"
      ]
     },
     "metadata": {},
     "output_type": "display_data"
    },
    {
     "data": {
      "text/html": [
       "<html>\\(\\displaystyle -2 i - 1\\)</html>"
      ],
      "text/latex": [
       "$\\displaystyle -2 i - 1$"
      ],
      "text/plain": [
       "-2*I - 1"
      ]
     },
     "metadata": {},
     "output_type": "display_data"
    },
    {
     "data": {
      "text/html": [
       "<html>\\(\\displaystyle -i - 1\\)</html>"
      ],
      "text/latex": [
       "$\\displaystyle -i - 1$"
      ],
      "text/plain": [
       "-I - 1"
      ]
     },
     "metadata": {},
     "output_type": "display_data"
    },
    {
     "data": {
      "text/html": [
       "<html>\\(\\displaystyle -1\\)</html>"
      ],
      "text/latex": [
       "$\\displaystyle -1$"
      ],
      "text/plain": [
       "-1"
      ]
     },
     "metadata": {},
     "output_type": "display_data"
    },
    {
     "data": {
      "text/html": [
       "<html>\\(\\displaystyle i - 1\\)</html>"
      ],
      "text/latex": [
       "$\\displaystyle i - 1$"
      ],
      "text/plain": [
       "I - 1"
      ]
     },
     "metadata": {},
     "output_type": "display_data"
    },
    {
     "data": {
      "text/html": [
       "<html>\\(\\displaystyle 2 i - 1\\)</html>"
      ],
      "text/latex": [
       "$\\displaystyle 2 i - 1$"
      ],
      "text/plain": [
       "2*I - 1"
      ]
     },
     "metadata": {},
     "output_type": "display_data"
    },
    {
     "data": {
      "text/html": [
       "<html>\\(\\displaystyle 3 i - 1\\)</html>"
      ],
      "text/latex": [
       "$\\displaystyle 3 i - 1$"
      ],
      "text/plain": [
       "3*I - 1"
      ]
     },
     "metadata": {},
     "output_type": "display_data"
    },
    {
     "data": {
      "text/html": [
       "<html>\\(\\displaystyle 4 i - 1\\)</html>"
      ],
      "text/latex": [
       "$\\displaystyle 4 i - 1$"
      ],
      "text/plain": [
       "4*I - 1"
      ]
     },
     "metadata": {},
     "output_type": "display_data"
    },
    {
     "data": {
      "text/html": [
       "<html>\\(\\displaystyle -5 i\\)</html>"
      ],
      "text/latex": [
       "$\\displaystyle -5 i$"
      ],
      "text/plain": [
       "-5*I"
      ]
     },
     "metadata": {},
     "output_type": "display_data"
    },
    {
     "data": {
      "text/html": [
       "<html>\\(\\displaystyle -4 i\\)</html>"
      ],
      "text/latex": [
       "$\\displaystyle -4 i$"
      ],
      "text/plain": [
       "-4*I"
      ]
     },
     "metadata": {},
     "output_type": "display_data"
    },
    {
     "data": {
      "text/html": [
       "<html>\\(\\displaystyle -3 i\\)</html>"
      ],
      "text/latex": [
       "$\\displaystyle -3 i$"
      ],
      "text/plain": [
       "-3*I"
      ]
     },
     "metadata": {},
     "output_type": "display_data"
    },
    {
     "data": {
      "text/html": [
       "<html>\\(\\displaystyle -2 i\\)</html>"
      ],
      "text/latex": [
       "$\\displaystyle -2 i$"
      ],
      "text/plain": [
       "-2*I"
      ]
     },
     "metadata": {},
     "output_type": "display_data"
    },
    {
     "data": {
      "text/html": [
       "<html>\\(\\displaystyle -i\\)</html>"
      ],
      "text/latex": [
       "$\\displaystyle -i$"
      ],
      "text/plain": [
       "-I"
      ]
     },
     "metadata": {},
     "output_type": "display_data"
    },
    {
     "data": {
      "text/html": [
       "<html>\\(\\displaystyle 0\\)</html>"
      ],
      "text/latex": [
       "$\\displaystyle 0$"
      ],
      "text/plain": [
       "0"
      ]
     },
     "metadata": {},
     "output_type": "display_data"
    },
    {
     "data": {
      "text/html": [
       "<html>\\(\\displaystyle i\\)</html>"
      ],
      "text/latex": [
       "$\\displaystyle i$"
      ],
      "text/plain": [
       "I"
      ]
     },
     "metadata": {},
     "output_type": "display_data"
    },
    {
     "data": {
      "text/html": [
       "<html>\\(\\displaystyle 2 i\\)</html>"
      ],
      "text/latex": [
       "$\\displaystyle 2 i$"
      ],
      "text/plain": [
       "2*I"
      ]
     },
     "metadata": {},
     "output_type": "display_data"
    },
    {
     "data": {
      "text/html": [
       "<html>\\(\\displaystyle 3 i\\)</html>"
      ],
      "text/latex": [
       "$\\displaystyle 3 i$"
      ],
      "text/plain": [
       "3*I"
      ]
     },
     "metadata": {},
     "output_type": "display_data"
    },
    {
     "data": {
      "text/html": [
       "<html>\\(\\displaystyle 4 i\\)</html>"
      ],
      "text/latex": [
       "$\\displaystyle 4 i$"
      ],
      "text/plain": [
       "4*I"
      ]
     },
     "metadata": {},
     "output_type": "display_data"
    },
    {
     "data": {
      "text/html": [
       "<html>\\(\\displaystyle -5 i + 1\\)</html>"
      ],
      "text/latex": [
       "$\\displaystyle -5 i + 1$"
      ],
      "text/plain": [
       "-5*I + 1"
      ]
     },
     "metadata": {},
     "output_type": "display_data"
    },
    {
     "data": {
      "text/html": [
       "<html>\\(\\displaystyle -4 i + 1\\)</html>"
      ],
      "text/latex": [
       "$\\displaystyle -4 i + 1$"
      ],
      "text/plain": [
       "-4*I + 1"
      ]
     },
     "metadata": {},
     "output_type": "display_data"
    },
    {
     "data": {
      "text/html": [
       "<html>\\(\\displaystyle -3 i + 1\\)</html>"
      ],
      "text/latex": [
       "$\\displaystyle -3 i + 1$"
      ],
      "text/plain": [
       "-3*I + 1"
      ]
     },
     "metadata": {},
     "output_type": "display_data"
    },
    {
     "data": {
      "text/html": [
       "<html>\\(\\displaystyle -2 i + 1\\)</html>"
      ],
      "text/latex": [
       "$\\displaystyle -2 i + 1$"
      ],
      "text/plain": [
       "-2*I + 1"
      ]
     },
     "metadata": {},
     "output_type": "display_data"
    },
    {
     "data": {
      "text/html": [
       "<html>\\(\\displaystyle -i + 1\\)</html>"
      ],
      "text/latex": [
       "$\\displaystyle -i + 1$"
      ],
      "text/plain": [
       "-I + 1"
      ]
     },
     "metadata": {},
     "output_type": "display_data"
    },
    {
     "data": {
      "text/html": [
       "<html>\\(\\displaystyle 1\\)</html>"
      ],
      "text/latex": [
       "$\\displaystyle 1$"
      ],
      "text/plain": [
       "1"
      ]
     },
     "metadata": {},
     "output_type": "display_data"
    },
    {
     "data": {
      "text/html": [
       "<html>\\(\\displaystyle i + 1\\)</html>"
      ],
      "text/latex": [
       "$\\displaystyle i + 1$"
      ],
      "text/plain": [
       "I + 1"
      ]
     },
     "metadata": {},
     "output_type": "display_data"
    },
    {
     "data": {
      "text/html": [
       "<html>\\(\\displaystyle 2 i + 1\\)</html>"
      ],
      "text/latex": [
       "$\\displaystyle 2 i + 1$"
      ],
      "text/plain": [
       "2*I + 1"
      ]
     },
     "metadata": {},
     "output_type": "display_data"
    },
    {
     "data": {
      "text/html": [
       "<html>\\(\\displaystyle 3 i + 1\\)</html>"
      ],
      "text/latex": [
       "$\\displaystyle 3 i + 1$"
      ],
      "text/plain": [
       "3*I + 1"
      ]
     },
     "metadata": {},
     "output_type": "display_data"
    },
    {
     "data": {
      "text/html": [
       "<html>\\(\\displaystyle 4 i + 1\\)</html>"
      ],
      "text/latex": [
       "$\\displaystyle 4 i + 1$"
      ],
      "text/plain": [
       "4*I + 1"
      ]
     },
     "metadata": {},
     "output_type": "display_data"
    },
    {
     "data": {
      "text/html": [
       "<html>\\(\\displaystyle -5 i + 2\\)</html>"
      ],
      "text/latex": [
       "$\\displaystyle -5 i + 2$"
      ],
      "text/plain": [
       "-5*I + 2"
      ]
     },
     "metadata": {},
     "output_type": "display_data"
    },
    {
     "data": {
      "text/html": [
       "<html>\\(\\displaystyle -4 i + 2\\)</html>"
      ],
      "text/latex": [
       "$\\displaystyle -4 i + 2$"
      ],
      "text/plain": [
       "-4*I + 2"
      ]
     },
     "metadata": {},
     "output_type": "display_data"
    },
    {
     "data": {
      "text/html": [
       "<html>\\(\\displaystyle -3 i + 2\\)</html>"
      ],
      "text/latex": [
       "$\\displaystyle -3 i + 2$"
      ],
      "text/plain": [
       "-3*I + 2"
      ]
     },
     "metadata": {},
     "output_type": "display_data"
    },
    {
     "data": {
      "text/html": [
       "<html>\\(\\displaystyle -2 i + 2\\)</html>"
      ],
      "text/latex": [
       "$\\displaystyle -2 i + 2$"
      ],
      "text/plain": [
       "-2*I + 2"
      ]
     },
     "metadata": {},
     "output_type": "display_data"
    },
    {
     "data": {
      "text/html": [
       "<html>\\(\\displaystyle -i + 2\\)</html>"
      ],
      "text/latex": [
       "$\\displaystyle -i + 2$"
      ],
      "text/plain": [
       "-I + 2"
      ]
     },
     "metadata": {},
     "output_type": "display_data"
    },
    {
     "data": {
      "text/html": [
       "<html>\\(\\displaystyle 2\\)</html>"
      ],
      "text/latex": [
       "$\\displaystyle 2$"
      ],
      "text/plain": [
       "2"
      ]
     },
     "metadata": {},
     "output_type": "display_data"
    },
    {
     "data": {
      "text/html": [
       "<html>\\(\\displaystyle i + 2\\)</html>"
      ],
      "text/latex": [
       "$\\displaystyle i + 2$"
      ],
      "text/plain": [
       "I + 2"
      ]
     },
     "metadata": {},
     "output_type": "display_data"
    },
    {
     "data": {
      "text/html": [
       "<html>\\(\\displaystyle 2 i + 2\\)</html>"
      ],
      "text/latex": [
       "$\\displaystyle 2 i + 2$"
      ],
      "text/plain": [
       "2*I + 2"
      ]
     },
     "metadata": {},
     "output_type": "display_data"
    },
    {
     "data": {
      "text/html": [
       "<html>\\(\\displaystyle 3 i + 2\\)</html>"
      ],
      "text/latex": [
       "$\\displaystyle 3 i + 2$"
      ],
      "text/plain": [
       "3*I + 2"
      ]
     },
     "metadata": {},
     "output_type": "display_data"
    },
    {
     "data": {
      "text/html": [
       "<html>\\(\\displaystyle 4 i + 2\\)</html>"
      ],
      "text/latex": [
       "$\\displaystyle 4 i + 2$"
      ],
      "text/plain": [
       "4*I + 2"
      ]
     },
     "metadata": {},
     "output_type": "display_data"
    },
    {
     "data": {
      "text/html": [
       "<html>\\(\\displaystyle -5 i + 3\\)</html>"
      ],
      "text/latex": [
       "$\\displaystyle -5 i + 3$"
      ],
      "text/plain": [
       "-5*I + 3"
      ]
     },
     "metadata": {},
     "output_type": "display_data"
    },
    {
     "data": {
      "text/html": [
       "<html>\\(\\displaystyle -4 i + 3\\)</html>"
      ],
      "text/latex": [
       "$\\displaystyle -4 i + 3$"
      ],
      "text/plain": [
       "-4*I + 3"
      ]
     },
     "metadata": {},
     "output_type": "display_data"
    },
    {
     "data": {
      "text/html": [
       "<html>\\(\\displaystyle -3 i + 3\\)</html>"
      ],
      "text/latex": [
       "$\\displaystyle -3 i + 3$"
      ],
      "text/plain": [
       "-3*I + 3"
      ]
     },
     "metadata": {},
     "output_type": "display_data"
    },
    {
     "data": {
      "text/html": [
       "<html>\\(\\displaystyle -2 i + 3\\)</html>"
      ],
      "text/latex": [
       "$\\displaystyle -2 i + 3$"
      ],
      "text/plain": [
       "-2*I + 3"
      ]
     },
     "metadata": {},
     "output_type": "display_data"
    },
    {
     "data": {
      "text/html": [
       "<html>\\(\\displaystyle -i + 3\\)</html>"
      ],
      "text/latex": [
       "$\\displaystyle -i + 3$"
      ],
      "text/plain": [
       "-I + 3"
      ]
     },
     "metadata": {},
     "output_type": "display_data"
    },
    {
     "data": {
      "text/html": [
       "<html>\\(\\displaystyle 3\\)</html>"
      ],
      "text/latex": [
       "$\\displaystyle 3$"
      ],
      "text/plain": [
       "3"
      ]
     },
     "metadata": {},
     "output_type": "display_data"
    },
    {
     "data": {
      "text/html": [
       "<html>\\(\\displaystyle i + 3\\)</html>"
      ],
      "text/latex": [
       "$\\displaystyle i + 3$"
      ],
      "text/plain": [
       "I + 3"
      ]
     },
     "metadata": {},
     "output_type": "display_data"
    },
    {
     "data": {
      "text/html": [
       "<html>\\(\\displaystyle 2 i + 3\\)</html>"
      ],
      "text/latex": [
       "$\\displaystyle 2 i + 3$"
      ],
      "text/plain": [
       "2*I + 3"
      ]
     },
     "metadata": {},
     "output_type": "display_data"
    },
    {
     "data": {
      "text/html": [
       "<html>\\(\\displaystyle 3 i + 3\\)</html>"
      ],
      "text/latex": [
       "$\\displaystyle 3 i + 3$"
      ],
      "text/plain": [
       "3*I + 3"
      ]
     },
     "metadata": {},
     "output_type": "display_data"
    },
    {
     "data": {
      "text/html": [
       "<html>\\(\\displaystyle 4 i + 3\\)</html>"
      ],
      "text/latex": [
       "$\\displaystyle 4 i + 3$"
      ],
      "text/plain": [
       "4*I + 3"
      ]
     },
     "metadata": {},
     "output_type": "display_data"
    },
    {
     "data": {
      "text/html": [
       "<html>\\(\\displaystyle -5 i + 4\\)</html>"
      ],
      "text/latex": [
       "$\\displaystyle -5 i + 4$"
      ],
      "text/plain": [
       "-5*I + 4"
      ]
     },
     "metadata": {},
     "output_type": "display_data"
    },
    {
     "data": {
      "text/html": [
       "<html>\\(\\displaystyle -4 i + 4\\)</html>"
      ],
      "text/latex": [
       "$\\displaystyle -4 i + 4$"
      ],
      "text/plain": [
       "-4*I + 4"
      ]
     },
     "metadata": {},
     "output_type": "display_data"
    },
    {
     "data": {
      "text/html": [
       "<html>\\(\\displaystyle -3 i + 4\\)</html>"
      ],
      "text/latex": [
       "$\\displaystyle -3 i + 4$"
      ],
      "text/plain": [
       "-3*I + 4"
      ]
     },
     "metadata": {},
     "output_type": "display_data"
    },
    {
     "data": {
      "text/html": [
       "<html>\\(\\displaystyle -2 i + 4\\)</html>"
      ],
      "text/latex": [
       "$\\displaystyle -2 i + 4$"
      ],
      "text/plain": [
       "-2*I + 4"
      ]
     },
     "metadata": {},
     "output_type": "display_data"
    },
    {
     "data": {
      "text/html": [
       "<html>\\(\\displaystyle -i + 4\\)</html>"
      ],
      "text/latex": [
       "$\\displaystyle -i + 4$"
      ],
      "text/plain": [
       "-I + 4"
      ]
     },
     "metadata": {},
     "output_type": "display_data"
    },
    {
     "data": {
      "text/html": [
       "<html>\\(\\displaystyle 4\\)</html>"
      ],
      "text/latex": [
       "$\\displaystyle 4$"
      ],
      "text/plain": [
       "4"
      ]
     },
     "metadata": {},
     "output_type": "display_data"
    },
    {
     "data": {
      "text/html": [
       "<html>\\(\\displaystyle i + 4\\)</html>"
      ],
      "text/latex": [
       "$\\displaystyle i + 4$"
      ],
      "text/plain": [
       "I + 4"
      ]
     },
     "metadata": {},
     "output_type": "display_data"
    },
    {
     "data": {
      "text/html": [
       "<html>\\(\\displaystyle 2 i + 4\\)</html>"
      ],
      "text/latex": [
       "$\\displaystyle 2 i + 4$"
      ],
      "text/plain": [
       "2*I + 4"
      ]
     },
     "metadata": {},
     "output_type": "display_data"
    },
    {
     "data": {
      "text/html": [
       "<html>\\(\\displaystyle 3 i + 4\\)</html>"
      ],
      "text/latex": [
       "$\\displaystyle 3 i + 4$"
      ],
      "text/plain": [
       "3*I + 4"
      ]
     },
     "metadata": {},
     "output_type": "display_data"
    },
    {
     "data": {
      "text/html": [
       "<html>\\(\\displaystyle 4 i + 4\\)</html>"
      ],
      "text/latex": [
       "$\\displaystyle 4 i + 4$"
      ],
      "text/plain": [
       "4*I + 4"
      ]
     },
     "metadata": {},
     "output_type": "display_data"
    },
    {
     "data": {
      "image/png": "[encoded data removed]",
      "text/plain": [
       "Graphics object consisting of 1 graphics primitive"
      ]
     },
     "execution_count": 3,
     "metadata": {},
     "output_type": "execute_result"
    }
   ],
   "source": [
    "#pts = [A, B, A+B, A*B]\n",
    "pts = []\n",
    "for i in range(-5, 5):\n",
    "    for j in range(-5, 5):\n",
    "        c = i + j*I\n",
    "        show(c)\n",
    "        #plot_complex_number_as_vectors(\n",
    "        pts.append(c)\n",
    "\n",
    "complex_points_plots(pts, \"indigo\")"
   ]
  },
  {
   "cell_type": "code",
   "execution_count": 101,
   "id": "d76e2d86-1d20-4b8c-ace0-a382e5b8c24c",
   "metadata": {},
   "outputs": [
    {
     "data": {
      "text/html": [
       "<html>\\(\\displaystyle 5 i + 2\\)</html>"
      ],
      "text/latex": [
       "$\\displaystyle 5 i + 2$"
      ],
      "text/plain": [
       "5*I + 2"
      ]
     },
     "metadata": {},
     "output_type": "display_data"
    },
    {
     "data": {
      "text/html": [
       "<html>\\(\\displaystyle z \\ {\\mapsto}\\ z^{2} + 3\\)</html>"
      ],
      "text/latex": [
       "$\\displaystyle z \\ {\\mapsto}\\ z^{2} + 3$"
      ],
      "text/plain": [
       "z |--> z^2 + 3"
      ]
     },
     "metadata": {},
     "output_type": "display_data"
    },
    {
     "data": {
      "image/png": "[encoded data removed]",
      "text/plain": [
       "Graphics object consisting of 1 graphics primitive"
      ]
     },
     "execution_count": 101,
     "metadata": {},
     "output_type": "execute_result"
    }
   ],
   "source": [
    "x = 2\n",
    "y = 5\n",
    "z = x + I * y\n",
    "show(z)\n",
    "f(z) = z^2 + 3\n",
    "show(f)\n",
    "plot(f)"
   ]
  },
  {
   "cell_type": "code",
   "execution_count": 4,
   "id": "d44e5a5e-02be-4e77-8db2-5d9008405d1e",
   "metadata": {},
   "outputs": [
    {
     "data": {
      "text/html": [
       "<html>\\(\\displaystyle \\left(1,\\,16,\\,2\\right)\\)</html>"
      ],
      "text/latex": [
       "$\\displaystyle \\left(1,\\,16,\\,2\\right)$"
      ],
      "text/plain": [
       "(1, 16, 2)"
      ]
     },
     "metadata": {},
     "output_type": "display_data"
    },
    {
     "data": {
      "text/html": [
       "<html>\\(\\displaystyle \\left(3,\\,18,\\,4\\right)\\)</html>"
      ],
      "text/latex": [
       "$\\displaystyle \\left(3,\\,18,\\,4\\right)$"
      ],
      "text/plain": [
       "(3, 18, 4)"
      ]
     },
     "metadata": {},
     "output_type": "display_data"
    },
    {
     "data": {
      "text/html": [
       "<html>\\(\\displaystyle \\verb|A|\\verb| |\\verb|*|\\verb| |\\verb|B|\\verb| |\\verb|=| 299\\)</html>"
      ],
      "text/latex": [
       "$\\displaystyle \\verb|A|\\verb| |\\verb|*|\\verb| |\\verb|B|\\verb| |\\verb|=| 299$"
      ],
      "text/plain": [
       "'A * B = ' 299"
      ]
     },
     "metadata": {},
     "output_type": "display_data"
    },
    {
     "data": {
      "text/html": [
       "<html>\\(\\displaystyle \\verb|A|\\verb| |\\verb|x|\\verb| |\\verb|B|\\verb| |\\verb|=| \\left(28,\\,2,\\,-30\\right)\\)</html>"
      ],
      "text/latex": [
       "$\\displaystyle \\verb|A|\\verb| |\\verb|x|\\verb| |\\verb|B|\\verb| |\\verb|=| \\left(28,\\,2,\\,-30\\right)$"
      ],
      "text/plain": [
       "'A x B = ' (28, 2, -30)"
      ]
     },
     "metadata": {},
     "output_type": "display_data"
    },
    {
     "data": {
      "text/html": [
       "<html>\\(\\displaystyle \\verb|A|\\verb| |\\verb|.|\\verb| |\\verb|B|\\verb| |\\verb|=| 299\\)</html>"
      ],
      "text/latex": [
       "$\\displaystyle \\verb|A|\\verb| |\\verb|.|\\verb| |\\verb|B|\\verb| |\\verb|=| 299$"
      ],
      "text/plain": [
       "'A . B = ' 299"
      ]
     },
     "metadata": {},
     "output_type": "display_data"
    }
   ],
   "source": [
    "A = vector([1, 16, 2])\n",
    "show(A)\n",
    "B = vector([3, 18, 4])\n",
    "show(B)\n",
    "show('A * B = ', A*B)\n",
    "show('A x B = ', A.cross_product(B))\n",
    "show('A . B = ', A.dot_product(B))\n",
    "#plot(A, color=\"red\") + plot(B) +plot(A + B, color=\"orange\") + plot(A*B, color=\"indigo\")\n"
   ]
  },
  {
   "cell_type": "code",
   "execution_count": null,
   "id": "4d794b42-82c3-4d13-af94-1f99a09efc1c",
   "metadata": {},
   "outputs": [],
   "source": []
  }
 ],
 "metadata": {
  "kernelspec": {
   "display_name": "SageMath 10.5.beta4",
   "language": "sage",
   "name": "sage-10.5.beta4"
  },
  "language_info": {
   "codemirror_mode": {
    "name": "ipython",
    "version": 3
   },
   "file_extension": ".py",
   "mimetype": "text/x-python",
   "name": "python",
   "nbconvert_exporter": "python",
   "pygments_lexer": "ipython3",
   "version": "3.10.12"
  }
 },
 "nbformat": 4,
 "nbformat_minor": 5
}
