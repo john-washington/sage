{
 "cells": [
  {
   "cell_type": "markdown",
   "id": "75995088-e411-4f63-8f90-20038ee4e6f9",
   "metadata": {},
   "source": [
    "**1.3 The derivative of a function at a point**\n",
    "\n",
    "**Definition 1.2** \n",
    "For a function $f$, the average rate of change of $f$ on the interval $[a, a+h]$ is given by the value\n",
    "\n",
    "$AV_{[a, a+h]} = \\frac{f(a+h) - f(a)}{h}$\n",
    "\n",
    "**Preview Activity**\n",
    "\n",
    "\n",
    "**The Derivative of a Function at a Point**\n",
    "\n",
    "We define the instantaneous rate of change of a function at a point in terms of the average rate of change of the function f over related intervals.\n",
    "\n",
    "\"the derivative of f at a\"\n",
    "\n",
    "f'(a)\n",
    "\n",
    "**Defintion 1.3** Let f be a function and $x =a$ va value in the function's domain. We define the derivative of f with respect to x evaluated at x =a, denoted f'(a), by:\n",
    "\n",
    "$$f'(a) = \\lim_{h \\rightarrow 0} \\frac{f(a+h) - f(a)}{h}$$\n",
    "\n",
    "provided this limit exists.\n",
    "\n",
    "\n",
    "$f'(a)$ reads \"f-prime at a\" or \"the derivative of f evaluated at x =a\"\n",
    "\n",
    "* The derivative of $f$ at the value $x =a$ is defined as the limit of the average rate of change of $f$ on the interval $[a, a+h]$ as $h \\rightarrow 0$. It is possible for this limit not to exist, so not every function has a derivative at every point.\n",
    "\n",
    "* We say that a function that has a derivative at $x =a$ is differentiable at $x =a$.\n",
    "\n",
    "* the quantity $\\frac{f(a+h) - f(a)}{h}$ represents the slope of the line through $(a, f(a))$ and (a+h, f(a+h))$,  when we compute the derivative we are taking the limit of a collection of slopes of lines, and thus the derivative itself represents the slope of a particularly important line.\n",
    "\n",
    "As we move from an average rate of change to an instantaneous one, we can think of one point as \"sliding towards; another. In particular, provided the function has a derivative at $(a, f(a))$, the point $(a+h, f(a+h))$ will approach $(a, f(a))$ as $h \\rightarrow 0$\n",
    "\n",
    "In the situation where the limit of the slopes of the secant lines exists, we say that the resulting value is the slope of the tangent line to the curve. This tangent line to the graph of $y = f(x)$ at the point $(a, f(a))$ is the line through $(a, f(a))$ whose slope is $m = f'(a)$.\n",
    "\n",
    "The existence of the tangent line at $x =a$ is connected to whether or not the function $f$ looks like a straight line when viewed up close at $(a, f(a))$.\n",
    "\n",
    "It is most important to note that $f'(a)$, the instantaneous rate of change of $f$ with respect to $x$ at $x =a$, also measures the slope of the tangent line to the curve $y=f(x)$ at $(a, f(a))$. The following example demonstrates several key ideas involving the derivative of a function."
   ]
  },
  {
   "cell_type": "code",
   "execution_count": 39,
   "id": "9e4e6a76-d75e-4f60-8c9a-c3ecd848b178",
   "metadata": {},
   "outputs": [
    {
     "data": {
      "text/plain": [
       "8589934592"
      ]
     },
     "execution_count": 39,
     "metadata": {},
     "output_type": "execute_result"
    }
   ],
   "source": [
    "2^33"
   ]
  },
  {
   "cell_type": "markdown",
   "id": "23898db2-693b-44ca-aec7-c339c11a13f6",
   "metadata": {},
   "source": [
    "**Example 1.3** For the function given by $f(x) = x - x^2$, use the limit definition of th derivative to compute $f'(2)$. In addition, discuss the meaning of this value and draw a labeled graph that supports your explanation.\n",
    "\n",
    "**Solution** From the limite definition, we have\n",
    "\n",
    "$f'(2) = \\lim_{h \\rightarrow 0} \\frac{f(2+h) - f(2)}{h}$"
   ]
  },
  {
   "cell_type": "code",
   "execution_count": 40,
   "id": "3c3755d0-c8c2-4b7c-b7cf-aa73fc4f4d34",
   "metadata": {},
   "outputs": [
    {
     "data": {
      "text/html": [
       "<html>\\(\\displaystyle -2\\)</html>"
      ],
      "text/latex": [
       "$\\displaystyle -2$"
      ],
      "text/plain": [
       "-2"
      ]
     },
     "metadata": {},
     "output_type": "display_data"
    },
    {
     "data": {
      "image/png": "[encoded data removed]",
      "text/plain": [
       "Graphics object consisting of 1 graphics primitive"
      ]
     },
     "execution_count": 40,
     "metadata": {},
     "output_type": "execute_result"
    }
   ],
   "source": [
    "f(x) = x - x^2\n",
    "show(f(2))\n",
    "plot(f, (x, -3, 3))\n",
    "#f_prime(x) = lim(f"
   ]
  },
  {
   "cell_type": "code",
   "execution_count": 41,
   "id": "12818b2e-6c81-4125-9f23-f2ee71094ebc",
   "metadata": {},
   "outputs": [
    {
     "data": {
      "text/html": [
       "<html>\\(\\displaystyle -3.10000000000000\\)</html>"
      ],
      "text/latex": [
       "$\\displaystyle -3.10000000000000$"
      ],
      "text/plain": [
       "-3.10000000000000"
      ]
     },
     "metadata": {},
     "output_type": "display_data"
    }
   ],
   "source": [
    "h=0.1\n",
    "show((f(2+h) - f(2))/h)"
   ]
  },
  {
   "cell_type": "code",
   "execution_count": 42,
   "id": "aa9bdf50-f3b4-40bd-b813-c7c7734ee19d",
   "metadata": {},
   "outputs": [
    {
     "data": {
      "text/html": [
       "<html>\\(\\displaystyle -3.08999999999999\\)</html>"
      ],
      "text/latex": [
       "$\\displaystyle -3.08999999999999$"
      ],
      "text/plain": [
       "-3.08999999999999"
      ]
     },
     "metadata": {},
     "output_type": "display_data"
    }
   ],
   "source": [
    "h=0.09\n",
    "show((f(2+h) - f(2))/h)"
   ]
  },
  {
   "cell_type": "code",
   "execution_count": 43,
   "id": "a36f139c-eb27-4810-986f-615596f3109e",
   "metadata": {},
   "outputs": [
    {
     "data": {
      "text/html": [
       "<html>\\(\\displaystyle -3.08000000000000\\)</html>"
      ],
      "text/latex": [
       "$\\displaystyle -3.08000000000000$"
      ],
      "text/plain": [
       "-3.08000000000000"
      ]
     },
     "metadata": {},
     "output_type": "display_data"
    }
   ],
   "source": [
    "h=0.08\n",
    "show((f(2+h) - f(2))/h)"
   ]
  },
  {
   "cell_type": "code",
   "execution_count": 44,
   "id": "c460edc5-8bd8-4ba0-a319-07e15f122769",
   "metadata": {},
   "outputs": [
    {
     "data": {
      "text/html": [
       "<html>\\(\\displaystyle -3.06999999999999\\)</html>"
      ],
      "text/latex": [
       "$\\displaystyle -3.06999999999999$"
      ],
      "text/plain": [
       "-3.06999999999999"
      ]
     },
     "metadata": {},
     "output_type": "display_data"
    }
   ],
   "source": [
    "h=0.07\n",
    "show((f(2+h) - f(2))/h)"
   ]
  },
  {
   "cell_type": "code",
   "execution_count": 45,
   "id": "e8ca0bec-e0f1-4387-89d7-cb7d45e21cef",
   "metadata": {},
   "outputs": [
    {
     "data": {
      "text/html": [
       "<html>\\(\\displaystyle -3.06000000000000\\)</html>"
      ],
      "text/latex": [
       "$\\displaystyle -3.06000000000000$"
      ],
      "text/plain": [
       "-3.06000000000000"
      ]
     },
     "metadata": {},
     "output_type": "display_data"
    }
   ],
   "source": [
    "h=0.06\n",
    "show((f(2+h) - f(2))/h)"
   ]
  },
  {
   "cell_type": "code",
   "execution_count": 46,
   "id": "182bce7c-8c09-406b-a3c0-fee51ac05a13",
   "metadata": {},
   "outputs": [
    {
     "data": {
      "text/html": [
       "<html>\\(\\displaystyle -3.05000000000000\\)</html>"
      ],
      "text/latex": [
       "$\\displaystyle -3.05000000000000$"
      ],
      "text/plain": [
       "-3.05000000000000"
      ]
     },
     "metadata": {},
     "output_type": "display_data"
    }
   ],
   "source": [
    "h=0.05\n",
    "show((f(2+h) - f(2))/h)"
   ]
  },
  {
   "cell_type": "code",
   "execution_count": 47,
   "id": "4a1c5b46-2b09-4d52-8dbc-c0741eb99b9f",
   "metadata": {},
   "outputs": [
    {
     "data": {
      "text/html": [
       "<html>\\(\\displaystyle -3.04000000000000\\)</html>"
      ],
      "text/latex": [
       "$\\displaystyle -3.04000000000000$"
      ],
      "text/plain": [
       "-3.04000000000000"
      ]
     },
     "metadata": {},
     "output_type": "display_data"
    },
    {
     "data": {
      "text/html": [
       "<html>\\(\\displaystyle -3.02999999999997\\)</html>"
      ],
      "text/latex": [
       "$\\displaystyle -3.02999999999997$"
      ],
      "text/plain": [
       "-3.02999999999997"
      ]
     },
     "metadata": {},
     "output_type": "display_data"
    },
    {
     "data": {
      "text/html": [
       "<html>\\(\\displaystyle -3.02000000000000\\)</html>"
      ],
      "text/latex": [
       "$\\displaystyle -3.02000000000000$"
      ],
      "text/plain": [
       "-3.02000000000000"
      ]
     },
     "metadata": {},
     "output_type": "display_data"
    },
    {
     "data": {
      "text/html": [
       "<html>\\(\\displaystyle -3.00999999999991\\)</html>"
      ],
      "text/latex": [
       "$\\displaystyle -3.00999999999991$"
      ],
      "text/plain": [
       "-3.00999999999991"
      ]
     },
     "metadata": {},
     "output_type": "display_data"
    }
   ],
   "source": [
    "h=0.04\n",
    "show((f(2+h) - f(2))/h)\n",
    "h=0.03\n",
    "show((f(2+h) - f(2))/h)\n",
    "h=0.02\n",
    "show((f(2+h) - f(2))/h)\n",
    "h=0.01\n",
    "show((f(2+h) - f(2))/h)"
   ]
  },
  {
   "cell_type": "code",
   "execution_count": 48,
   "id": "85452c81-11dc-42c4-addf-1d16e34154a2",
   "metadata": {},
   "outputs": [
    {
     "data": {
      "text/html": [
       "<html>\\(\\displaystyle -3.00899999999994\\)</html>"
      ],
      "text/latex": [
       "$\\displaystyle -3.00899999999994$"
      ],
      "text/plain": [
       "-3.00899999999994"
      ]
     },
     "metadata": {},
     "output_type": "display_data"
    },
    {
     "data": {
      "text/html": [
       "<html>\\(\\displaystyle -3.00800000000001\\)</html>"
      ],
      "text/latex": [
       "$\\displaystyle -3.00800000000001$"
      ],
      "text/plain": [
       "-3.00800000000001"
      ]
     },
     "metadata": {},
     "output_type": "display_data"
    },
    {
     "data": {
      "text/html": [
       "<html>\\(\\displaystyle -3.00700000000001\\)</html>"
      ],
      "text/latex": [
       "$\\displaystyle -3.00700000000001$"
      ],
      "text/plain": [
       "-3.00700000000001"
      ]
     },
     "metadata": {},
     "output_type": "display_data"
    },
    {
     "data": {
      "text/html": [
       "<html>\\(\\displaystyle -3.00599999999984\\)</html>"
      ],
      "text/latex": [
       "$\\displaystyle -3.00599999999984$"
      ],
      "text/plain": [
       "-3.00599999999984"
      ]
     },
     "metadata": {},
     "output_type": "display_data"
    },
    {
     "data": {
      "text/html": [
       "<html>\\(\\displaystyle -3.00499999999992\\)</html>"
      ],
      "text/latex": [
       "$\\displaystyle -3.00499999999992$"
      ],
      "text/plain": [
       "-3.00499999999992"
      ]
     },
     "metadata": {},
     "output_type": "display_data"
    },
    {
     "data": {
      "text/html": [
       "<html>\\(\\displaystyle -3.00399999999990\\)</html>"
      ],
      "text/latex": [
       "$\\displaystyle -3.00399999999990$"
      ],
      "text/plain": [
       "-3.00399999999990"
      ]
     },
     "metadata": {},
     "output_type": "display_data"
    },
    {
     "data": {
      "text/html": [
       "<html>\\(\\displaystyle -3.00300000000024\\)</html>"
      ],
      "text/latex": [
       "$\\displaystyle -3.00300000000024$"
      ],
      "text/plain": [
       "-3.00300000000024"
      ]
     },
     "metadata": {},
     "output_type": "display_data"
    },
    {
     "data": {
      "text/html": [
       "<html>\\(\\displaystyle -3.00199999999951\\)</html>"
      ],
      "text/latex": [
       "$\\displaystyle -3.00199999999951$"
      ],
      "text/plain": [
       "-3.00199999999951"
      ]
     },
     "metadata": {},
     "output_type": "display_data"
    },
    {
     "data": {
      "text/html": [
       "<html>\\(\\displaystyle -3.00099999999981\\)</html>"
      ],
      "text/latex": [
       "$\\displaystyle -3.00099999999981$"
      ],
      "text/plain": [
       "-3.00099999999981"
      ]
     },
     "metadata": {},
     "output_type": "display_data"
    }
   ],
   "source": [
    "h=0.009\n",
    "show((f(2+h) - f(2))/h)\n",
    "h=0.008\n",
    "show((f(2+h) - f(2))/h)\n",
    "h=0.007\n",
    "show((f(2+h) - f(2))/h)\n",
    "h=0.006\n",
    "show((f(2+h) - f(2))/h)\n",
    "h=0.005\n",
    "show((f(2+h) - f(2))/h)\n",
    "h=0.004\n",
    "show((f(2+h) - f(2))/h)\n",
    "h=0.003\n",
    "show((f(2+h) - f(2))/h)\n",
    "h=0.002\n",
    "show((f(2+h) - f(2))/h)\n",
    "h=0.001\n",
    "show((f(2+h) - f(2))/h)"
   ]
  },
  {
   "cell_type": "code",
   "execution_count": 49,
   "id": "ae4c7c33-d0c9-49d8-804d-7875a1d6dcc3",
   "metadata": {},
   "outputs": [
    {
     "data": {
      "text/html": [
       "<html>\\(\\displaystyle -3.00090000000086\\)</html>"
      ],
      "text/latex": [
       "$\\displaystyle -3.00090000000086$"
      ],
      "text/plain": [
       "-3.00090000000086"
      ]
     },
     "metadata": {},
     "output_type": "display_data"
    },
    {
     "data": {
      "text/html": [
       "<html>\\(\\displaystyle -3.00079999999925\\)</html>"
      ],
      "text/latex": [
       "$\\displaystyle -3.00079999999925$"
      ],
      "text/plain": [
       "-3.00079999999925"
      ]
     },
     "metadata": {},
     "output_type": "display_data"
    },
    {
     "data": {
      "text/html": [
       "<html>\\(\\displaystyle -3.00070000000017\\)</html>"
      ],
      "text/latex": [
       "$\\displaystyle -3.00070000000017$"
      ],
      "text/plain": [
       "-3.00070000000017"
      ]
     },
     "metadata": {},
     "output_type": "display_data"
    },
    {
     "data": {
      "text/html": [
       "<html>\\(\\displaystyle -3.00059999999898\\)</html>"
      ],
      "text/latex": [
       "$\\displaystyle -3.00059999999898$"
      ],
      "text/plain": [
       "-3.00059999999898"
      ]
     },
     "metadata": {},
     "output_type": "display_data"
    },
    {
     "data": {
      "text/html": [
       "<html>\\(\\displaystyle -3.00050000000152\\)</html>"
      ],
      "text/latex": [
       "$\\displaystyle -3.00050000000152$"
      ],
      "text/plain": [
       "-3.00050000000152"
      ]
     },
     "metadata": {},
     "output_type": "display_data"
    },
    {
     "data": {
      "text/html": [
       "<html>\\(\\displaystyle -3.00039999999946\\)</html>"
      ],
      "text/latex": [
       "$\\displaystyle -3.00039999999946$"
      ],
      "text/plain": [
       "-3.00039999999946"
      ]
     },
     "metadata": {},
     "output_type": "display_data"
    },
    {
     "data": {
      "text/html": [
       "<html>\\(\\displaystyle -3.00030000000303\\)</html>"
      ],
      "text/latex": [
       "$\\displaystyle -3.00030000000303$"
      ],
      "text/plain": [
       "-3.00030000000303"
      ]
     },
     "metadata": {},
     "output_type": "display_data"
    },
    {
     "data": {
      "text/html": [
       "<html>\\(\\displaystyle -3.00019999999845\\)</html>"
      ],
      "text/latex": [
       "$\\displaystyle -3.00019999999845$"
      ],
      "text/plain": [
       "-3.00019999999845"
      ]
     },
     "metadata": {},
     "output_type": "display_data"
    },
    {
     "data": {
      "text/html": [
       "<html>\\(\\displaystyle -3.00010000000572\\)</html>"
      ],
      "text/latex": [
       "$\\displaystyle -3.00010000000572$"
      ],
      "text/plain": [
       "-3.00010000000572"
      ]
     },
     "metadata": {},
     "output_type": "display_data"
    }
   ],
   "source": [
    "h=0.0009\n",
    "show((f(2+h) - f(2))/h)\n",
    "h=0.0008\n",
    "show((f(2+h) - f(2))/h)\n",
    "h=0.0007\n",
    "show((f(2+h) - f(2))/h)\n",
    "h=0.0006\n",
    "show((f(2+h) - f(2))/h)\n",
    "h=0.0005\n",
    "show((f(2+h) - f(2))/h)\n",
    "h=0.0004\n",
    "show((f(2+h) - f(2))/h)\n",
    "h=0.0003\n",
    "show((f(2+h) - f(2))/h)\n",
    "h=0.0002\n",
    "show((f(2+h) - f(2))/h)\n",
    "h=0.0001\n",
    "show((f(2+h) - f(2))/h)"
   ]
  },
  {
   "cell_type": "code",
   "execution_count": 50,
   "id": "bdb6c854-fb67-482f-a5c7-4f8f50941a44",
   "metadata": {},
   "outputs": [
    {
     "data": {
      "text/html": [
       "<html>\\(\\displaystyle -3.00009000000243\\)</html>"
      ],
      "text/latex": [
       "$\\displaystyle -3.00009000000243$"
      ],
      "text/plain": [
       "-3.00009000000243"
      ]
     },
     "metadata": {},
     "output_type": "display_data"
    },
    {
     "data": {
      "text/html": [
       "<html>\\(\\displaystyle -3.00007999999852\\)</html>"
      ],
      "text/latex": [
       "$\\displaystyle -3.00007999999852$"
      ],
      "text/plain": [
       "-3.00007999999852"
      ]
     },
     "metadata": {},
     "output_type": "display_data"
    },
    {
     "data": {
      "text/html": [
       "<html>\\(\\displaystyle -3.00007000000641\\)</html>"
      ],
      "text/latex": [
       "$\\displaystyle -3.00007000000641$"
      ],
      "text/plain": [
       "-3.00007000000641"
      ]
     },
     "metadata": {},
     "output_type": "display_data"
    },
    {
     "data": {
      "text/html": [
       "<html>\\(\\displaystyle -3.00006000000241\\)</html>"
      ],
      "text/latex": [
       "$\\displaystyle -3.00006000000241$"
      ],
      "text/plain": [
       "-3.00006000000241"
      ]
     },
     "metadata": {},
     "output_type": "display_data"
    },
    {
     "data": {
      "text/html": [
       "<html>\\(\\displaystyle -3.00004999999715\\)</html>"
      ],
      "text/latex": [
       "$\\displaystyle -3.00004999999715$"
      ],
      "text/plain": [
       "-3.00004999999715"
      ]
     },
     "metadata": {},
     "output_type": "display_data"
    },
    {
     "data": {
      "text/html": [
       "<html>\\(\\displaystyle -3.00003999998966\\)</html>"
      ],
      "text/latex": [
       "$\\displaystyle -3.00003999998966$"
      ],
      "text/plain": [
       "-3.00003999998966"
      ]
     },
     "metadata": {},
     "output_type": "display_data"
    },
    {
     "data": {
      "text/html": [
       "<html>\\(\\displaystyle -3.00003000002214\\)</html>"
      ],
      "text/latex": [
       "$\\displaystyle -3.00003000002214$"
      ],
      "text/plain": [
       "-3.00003000002214"
      ]
     },
     "metadata": {},
     "output_type": "display_data"
    },
    {
     "data": {
      "text/html": [
       "<html>\\(\\displaystyle -3.00002000002131\\)</html>"
      ],
      "text/latex": [
       "$\\displaystyle -3.00002000002131$"
      ],
      "text/plain": [
       "-3.00002000002131"
      ]
     },
     "metadata": {},
     "output_type": "display_data"
    },
    {
     "data": {
      "text/html": [
       "<html>\\(\\displaystyle -3.00001000002048\\)</html>"
      ],
      "text/latex": [
       "$\\displaystyle -3.00001000002048$"
      ],
      "text/plain": [
       "-3.00001000002048"
      ]
     },
     "metadata": {},
     "output_type": "display_data"
    }
   ],
   "source": [
    "h=0.00009\n",
    "show((f(2+h) - f(2))/h)\n",
    "h=0.00008\n",
    "show((f(2+h) - f(2))/h)\n",
    "h=0.00007\n",
    "show((f(2+h) - f(2))/h)\n",
    "h=0.00006\n",
    "show((f(2+h) - f(2))/h)\n",
    "h=0.00005\n",
    "show((f(2+h) - f(2))/h)\n",
    "h=0.00004\n",
    "show((f(2+h) - f(2))/h)\n",
    "h=0.00003\n",
    "show((f(2+h) - f(2))/h)\n",
    "h=0.00002\n",
    "show((f(2+h) - f(2))/h)\n",
    "h=0.00001\n",
    "show((f(2+h) - f(2))/h)"
   ]
  },
  {
   "cell_type": "code",
   "execution_count": 51,
   "id": "cb092677-b5d9-47da-8098-c3666a519bfd",
   "metadata": {},
   "outputs": [
    {
     "data": {
      "text/html": [
       "<html>\\(\\displaystyle -2.10000000000000\\)</html>"
      ],
      "text/latex": [
       "$\\displaystyle -2.10000000000000$"
      ],
      "text/plain": [
       "-2.10000000000000"
      ]
     },
     "metadata": {},
     "output_type": "display_data"
    },
    {
     "data": {
      "text/html": [
       "<html>\\(\\displaystyle -2.20000000000000\\)</html>"
      ],
      "text/latex": [
       "$\\displaystyle -2.20000000000000$"
      ],
      "text/plain": [
       "-2.20000000000000"
      ]
     },
     "metadata": {},
     "output_type": "display_data"
    },
    {
     "data": {
      "text/html": [
       "<html>\\(\\displaystyle -2.30000000000000\\)</html>"
      ],
      "text/latex": [
       "$\\displaystyle -2.30000000000000$"
      ],
      "text/plain": [
       "-2.30000000000000"
      ]
     },
     "metadata": {},
     "output_type": "display_data"
    },
    {
     "data": {
      "text/html": [
       "<html>\\(\\displaystyle -2.40000000000000\\)</html>"
      ],
      "text/latex": [
       "$\\displaystyle -2.40000000000000$"
      ],
      "text/plain": [
       "-2.40000000000000"
      ]
     },
     "metadata": {},
     "output_type": "display_data"
    },
    {
     "data": {
      "text/html": [
       "<html>\\(\\displaystyle -2.50000000000000\\)</html>"
      ],
      "text/latex": [
       "$\\displaystyle -2.50000000000000$"
      ],
      "text/plain": [
       "-2.50000000000000"
      ]
     },
     "metadata": {},
     "output_type": "display_data"
    },
    {
     "data": {
      "text/html": [
       "<html>\\(\\displaystyle -2.60000000000000\\)</html>"
      ],
      "text/latex": [
       "$\\displaystyle -2.60000000000000$"
      ],
      "text/plain": [
       "-2.60000000000000"
      ]
     },
     "metadata": {},
     "output_type": "display_data"
    },
    {
     "data": {
      "text/html": [
       "<html>\\(\\displaystyle -2.70000000000000\\)</html>"
      ],
      "text/latex": [
       "$\\displaystyle -2.70000000000000$"
      ],
      "text/plain": [
       "-2.70000000000000"
      ]
     },
     "metadata": {},
     "output_type": "display_data"
    },
    {
     "data": {
      "text/html": [
       "<html>\\(\\displaystyle -2.80000000000000\\)</html>"
      ],
      "text/latex": [
       "$\\displaystyle -2.80000000000000$"
      ],
      "text/plain": [
       "-2.80000000000000"
      ]
     },
     "metadata": {},
     "output_type": "display_data"
    },
    {
     "data": {
      "text/html": [
       "<html>\\(\\displaystyle -2.90000000000000\\)</html>"
      ],
      "text/latex": [
       "$\\displaystyle -2.90000000000000$"
      ],
      "text/plain": [
       "-2.90000000000000"
      ]
     },
     "metadata": {},
     "output_type": "display_data"
    }
   ],
   "source": [
    "h=-0.9\n",
    "show((f(2+h) - f(2))/h)\n",
    "h=-0.8\n",
    "show((f(2+h) - f(2))/h)\n",
    "h=-0.7\n",
    "show((f(2+h) - f(2))/h)\n",
    "h=-0.6\n",
    "show((f(2+h) - f(2))/h)\n",
    "h=-0.5\n",
    "show((f(2+h) - f(2))/h)\n",
    "h=-0.4\n",
    "show((f(2+h) - f(2))/h)\n",
    "h=-0.3\n",
    "show((f(2+h) - f(2))/h)\n",
    "h=-0.2\n",
    "show((f(2+h) - f(2))/h)\n",
    "h=-0.1\n",
    "show((f(2+h) - f(2))/h)"
   ]
  },
  {
   "cell_type": "code",
   "execution_count": 52,
   "id": "9cc5c0ed-d6a5-4b63-beb5-caffcebb0fa1",
   "metadata": {},
   "outputs": [
    {
     "data": {
      "text/html": [
       "<html>\\(\\displaystyle -2.81000000000000\\)</html>"
      ],
      "text/latex": [
       "$\\displaystyle -2.81000000000000$"
      ],
      "text/plain": [
       "-2.81000000000000"
      ]
     },
     "metadata": {},
     "output_type": "display_data"
    },
    {
     "data": {
      "text/html": [
       "<html>\\(\\displaystyle -2.82000000000000\\)</html>"
      ],
      "text/latex": [
       "$\\displaystyle -2.82000000000000$"
      ],
      "text/plain": [
       "-2.82000000000000"
      ]
     },
     "metadata": {},
     "output_type": "display_data"
    },
    {
     "data": {
      "text/html": [
       "<html>\\(\\displaystyle -2.83000000000000\\)</html>"
      ],
      "text/latex": [
       "$\\displaystyle -2.83000000000000$"
      ],
      "text/plain": [
       "-2.83000000000000"
      ]
     },
     "metadata": {},
     "output_type": "display_data"
    },
    {
     "data": {
      "text/html": [
       "<html>\\(\\displaystyle -2.84000000000000\\)</html>"
      ],
      "text/latex": [
       "$\\displaystyle -2.84000000000000$"
      ],
      "text/plain": [
       "-2.84000000000000"
      ]
     },
     "metadata": {},
     "output_type": "display_data"
    },
    {
     "data": {
      "text/html": [
       "<html>\\(\\displaystyle -2.85000000000000\\)</html>"
      ],
      "text/latex": [
       "$\\displaystyle -2.85000000000000$"
      ],
      "text/plain": [
       "-2.85000000000000"
      ]
     },
     "metadata": {},
     "output_type": "display_data"
    },
    {
     "data": {
      "text/html": [
       "<html>\\(\\displaystyle -2.86000000000000\\)</html>"
      ],
      "text/latex": [
       "$\\displaystyle -2.86000000000000$"
      ],
      "text/plain": [
       "-2.86000000000000"
      ]
     },
     "metadata": {},
     "output_type": "display_data"
    },
    {
     "data": {
      "text/html": [
       "<html>\\(\\displaystyle -2.87000000000000\\)</html>"
      ],
      "text/latex": [
       "$\\displaystyle -2.87000000000000$"
      ],
      "text/plain": [
       "-2.87000000000000"
      ]
     },
     "metadata": {},
     "output_type": "display_data"
    },
    {
     "data": {
      "text/html": [
       "<html>\\(\\displaystyle -2.88000000000000\\)</html>"
      ],
      "text/latex": [
       "$\\displaystyle -2.88000000000000$"
      ],
      "text/plain": [
       "-2.88000000000000"
      ]
     },
     "metadata": {},
     "output_type": "display_data"
    },
    {
     "data": {
      "text/html": [
       "<html>\\(\\displaystyle -2.89000000000000\\)</html>"
      ],
      "text/latex": [
       "$\\displaystyle -2.89000000000000$"
      ],
      "text/plain": [
       "-2.89000000000000"
      ]
     },
     "metadata": {},
     "output_type": "display_data"
    }
   ],
   "source": [
    "h=-0.19\n",
    "show((f(2+h) - f(2))/h)\n",
    "h=-0.18\n",
    "show((f(2+h) - f(2))/h)\n",
    "h=-0.17\n",
    "show((f(2+h) - f(2))/h)\n",
    "h=-0.16\n",
    "show((f(2+h) - f(2))/h)\n",
    "h=-0.15\n",
    "show((f(2+h) - f(2))/h)\n",
    "h=-0.14\n",
    "show((f(2+h) - f(2))/h)\n",
    "h=-0.13\n",
    "show((f(2+h) - f(2))/h)\n",
    "h=-0.12\n",
    "show((f(2+h) - f(2))/h)\n",
    "h=-0.11\n",
    "show((f(2+h) - f(2))/h)"
   ]
  },
  {
   "cell_type": "code",
   "execution_count": 53,
   "id": "f729faa6-54ba-4024-a5ce-14454c9baf07",
   "metadata": {},
   "outputs": [
    {
     "data": {
      "text/html": [
       "<html>\\(\\displaystyle -2.89100000000000\\)</html>"
      ],
      "text/latex": [
       "$\\displaystyle -2.89100000000000$"
      ],
      "text/plain": [
       "-2.89100000000000"
      ]
     },
     "metadata": {},
     "output_type": "display_data"
    },
    {
     "data": {
      "text/html": [
       "<html>\\(\\displaystyle -2.89200000000000\\)</html>"
      ],
      "text/latex": [
       "$\\displaystyle -2.89200000000000$"
      ],
      "text/plain": [
       "-2.89200000000000"
      ]
     },
     "metadata": {},
     "output_type": "display_data"
    },
    {
     "data": {
      "text/html": [
       "<html>\\(\\displaystyle -2.89300000000000\\)</html>"
      ],
      "text/latex": [
       "$\\displaystyle -2.89300000000000$"
      ],
      "text/plain": [
       "-2.89300000000000"
      ]
     },
     "metadata": {},
     "output_type": "display_data"
    },
    {
     "data": {
      "text/html": [
       "<html>\\(\\displaystyle -2.89400000000000\\)</html>"
      ],
      "text/latex": [
       "$\\displaystyle -2.89400000000000$"
      ],
      "text/plain": [
       "-2.89400000000000"
      ]
     },
     "metadata": {},
     "output_type": "display_data"
    },
    {
     "data": {
      "text/html": [
       "<html>\\(\\displaystyle -2.89500000000000\\)</html>"
      ],
      "text/latex": [
       "$\\displaystyle -2.89500000000000$"
      ],
      "text/plain": [
       "-2.89500000000000"
      ]
     },
     "metadata": {},
     "output_type": "display_data"
    },
    {
     "data": {
      "text/html": [
       "<html>\\(\\displaystyle -2.89600000000000\\)</html>"
      ],
      "text/latex": [
       "$\\displaystyle -2.89600000000000$"
      ],
      "text/plain": [
       "-2.89600000000000"
      ]
     },
     "metadata": {},
     "output_type": "display_data"
    },
    {
     "data": {
      "text/html": [
       "<html>\\(\\displaystyle -2.89700000000000\\)</html>"
      ],
      "text/latex": [
       "$\\displaystyle -2.89700000000000$"
      ],
      "text/plain": [
       "-2.89700000000000"
      ]
     },
     "metadata": {},
     "output_type": "display_data"
    },
    {
     "data": {
      "text/html": [
       "<html>\\(\\displaystyle -2.89800000000000\\)</html>"
      ],
      "text/latex": [
       "$\\displaystyle -2.89800000000000$"
      ],
      "text/plain": [
       "-2.89800000000000"
      ]
     },
     "metadata": {},
     "output_type": "display_data"
    },
    {
     "data": {
      "text/html": [
       "<html>\\(\\displaystyle -2.89900000000000\\)</html>"
      ],
      "text/latex": [
       "$\\displaystyle -2.89900000000000$"
      ],
      "text/plain": [
       "-2.89900000000000"
      ]
     },
     "metadata": {},
     "output_type": "display_data"
    }
   ],
   "source": [
    "h=-0.109\n",
    "show((f(2+h) - f(2))/h)\n",
    "h=-0.108\n",
    "show((f(2+h) - f(2))/h)\n",
    "h=-0.107\n",
    "show((f(2+h) - f(2))/h)\n",
    "h=-0.106\n",
    "show((f(2+h) - f(2))/h)\n",
    "h=-0.105\n",
    "show((f(2+h) - f(2))/h)\n",
    "h=-0.104\n",
    "show((f(2+h) - f(2))/h)\n",
    "h=-0.103\n",
    "show((f(2+h) - f(2))/h)\n",
    "h=-0.102\n",
    "show((f(2+h) - f(2))/h)\n",
    "h=-0.101\n",
    "show((f(2+h) - f(2))/h)"
   ]
  },
  {
   "cell_type": "code",
   "execution_count": null,
   "id": "40d21c1c-e68a-4f14-840f-7d6c9899ef05",
   "metadata": {},
   "outputs": [],
   "source": []
  },
  {
   "cell_type": "code",
   "execution_count": 54,
   "id": "f50c6c70-6b24-4174-b5c9-5eb61e1658b5",
   "metadata": {},
   "outputs": [
    {
     "data": {
      "text/html": [
       "<html>\\(\\displaystyle -2.89910000000000\\)</html>"
      ],
      "text/latex": [
       "$\\displaystyle -2.89910000000000$"
      ],
      "text/plain": [
       "-2.89910000000000"
      ]
     },
     "metadata": {},
     "output_type": "display_data"
    },
    {
     "data": {
      "text/html": [
       "<html>\\(\\displaystyle -2.89920000000000\\)</html>"
      ],
      "text/latex": [
       "$\\displaystyle -2.89920000000000$"
      ],
      "text/plain": [
       "-2.89920000000000"
      ]
     },
     "metadata": {},
     "output_type": "display_data"
    },
    {
     "data": {
      "text/html": [
       "<html>\\(\\displaystyle -2.89930000000000\\)</html>"
      ],
      "text/latex": [
       "$\\displaystyle -2.89930000000000$"
      ],
      "text/plain": [
       "-2.89930000000000"
      ]
     },
     "metadata": {},
     "output_type": "display_data"
    },
    {
     "data": {
      "text/html": [
       "<html>\\(\\displaystyle -2.89940000000000\\)</html>"
      ],
      "text/latex": [
       "$\\displaystyle -2.89940000000000$"
      ],
      "text/plain": [
       "-2.89940000000000"
      ]
     },
     "metadata": {},
     "output_type": "display_data"
    },
    {
     "data": {
      "text/html": [
       "<html>\\(\\displaystyle -2.89950000000000\\)</html>"
      ],
      "text/latex": [
       "$\\displaystyle -2.89950000000000$"
      ],
      "text/plain": [
       "-2.89950000000000"
      ]
     },
     "metadata": {},
     "output_type": "display_data"
    },
    {
     "data": {
      "text/html": [
       "<html>\\(\\displaystyle -2.89960000000000\\)</html>"
      ],
      "text/latex": [
       "$\\displaystyle -2.89960000000000$"
      ],
      "text/plain": [
       "-2.89960000000000"
      ]
     },
     "metadata": {},
     "output_type": "display_data"
    },
    {
     "data": {
      "text/html": [
       "<html>\\(\\displaystyle -2.89970000000000\\)</html>"
      ],
      "text/latex": [
       "$\\displaystyle -2.89970000000000$"
      ],
      "text/plain": [
       "-2.89970000000000"
      ]
     },
     "metadata": {},
     "output_type": "display_data"
    },
    {
     "data": {
      "text/html": [
       "<html>\\(\\displaystyle -2.89980000000000\\)</html>"
      ],
      "text/latex": [
       "$\\displaystyle -2.89980000000000$"
      ],
      "text/plain": [
       "-2.89980000000000"
      ]
     },
     "metadata": {},
     "output_type": "display_data"
    },
    {
     "data": {
      "text/html": [
       "<html>\\(\\displaystyle -2.89990000000000\\)</html>"
      ],
      "text/latex": [
       "$\\displaystyle -2.89990000000000$"
      ],
      "text/plain": [
       "-2.89990000000000"
      ]
     },
     "metadata": {},
     "output_type": "display_data"
    }
   ],
   "source": [
    "h=-0.1009\n",
    "show((f(2+h) - f(2))/h)\n",
    "h=-0.1008\n",
    "show((f(2+h) - f(2))/h)\n",
    "h=-0.1007\n",
    "show((f(2+h) - f(2))/h)\n",
    "h=-0.1006\n",
    "show((f(2+h) - f(2))/h)\n",
    "h=-0.1005\n",
    "show((f(2+h) - f(2))/h)\n",
    "h=-0.1004\n",
    "show((f(2+h) - f(2))/h)\n",
    "h=-0.1003\n",
    "show((f(2+h) - f(2))/h)\n",
    "h=-0.1002\n",
    "show((f(2+h) - f(2))/h)\n",
    "h=-0.1001\n",
    "show((f(2+h) - f(2))/h)"
   ]
  },
  {
   "cell_type": "code",
   "execution_count": 55,
   "id": "48eafc35-7fd4-4d04-8341-470c16a7899a",
   "metadata": {},
   "outputs": [
    {
     "data": {
      "text/html": [
       "<html>\\(\\displaystyle -2.10000000000000\\)</html>"
      ],
      "text/latex": [
       "$\\displaystyle -2.10000000000000$"
      ],
      "text/plain": [
       "-2.10000000000000"
      ]
     },
     "metadata": {},
     "output_type": "display_data"
    },
    {
     "data": {
      "text/html": [
       "<html>\\(\\displaystyle -2.20000000000000\\)</html>"
      ],
      "text/latex": [
       "$\\displaystyle -2.20000000000000$"
      ],
      "text/plain": [
       "-2.20000000000000"
      ]
     },
     "metadata": {},
     "output_type": "display_data"
    },
    {
     "data": {
      "text/html": [
       "<html>\\(\\displaystyle -2.30000000000000\\)</html>"
      ],
      "text/latex": [
       "$\\displaystyle -2.30000000000000$"
      ],
      "text/plain": [
       "-2.30000000000000"
      ]
     },
     "metadata": {},
     "output_type": "display_data"
    },
    {
     "data": {
      "text/html": [
       "<html>\\(\\displaystyle -2.40000000000000\\)</html>"
      ],
      "text/latex": [
       "$\\displaystyle -2.40000000000000$"
      ],
      "text/plain": [
       "-2.40000000000000"
      ]
     },
     "metadata": {},
     "output_type": "display_data"
    },
    {
     "data": {
      "text/html": [
       "<html>\\(\\displaystyle -2.50000000000000\\)</html>"
      ],
      "text/latex": [
       "$\\displaystyle -2.50000000000000$"
      ],
      "text/plain": [
       "-2.50000000000000"
      ]
     },
     "metadata": {},
     "output_type": "display_data"
    },
    {
     "data": {
      "text/html": [
       "<html>\\(\\displaystyle -2.60000000000000\\)</html>"
      ],
      "text/latex": [
       "$\\displaystyle -2.60000000000000$"
      ],
      "text/plain": [
       "-2.60000000000000"
      ]
     },
     "metadata": {},
     "output_type": "display_data"
    },
    {
     "data": {
      "text/html": [
       "<html>\\(\\displaystyle -2.70000000000000\\)</html>"
      ],
      "text/latex": [
       "$\\displaystyle -2.70000000000000$"
      ],
      "text/plain": [
       "-2.70000000000000"
      ]
     },
     "metadata": {},
     "output_type": "display_data"
    },
    {
     "data": {
      "text/html": [
       "<html>\\(\\displaystyle -2.80000000000000\\)</html>"
      ],
      "text/latex": [
       "$\\displaystyle -2.80000000000000$"
      ],
      "text/plain": [
       "-2.80000000000000"
      ]
     },
     "metadata": {},
     "output_type": "display_data"
    },
    {
     "data": {
      "text/html": [
       "<html>\\(\\displaystyle -2.90000000000000\\)</html>"
      ],
      "text/latex": [
       "$\\displaystyle -2.90000000000000$"
      ],
      "text/plain": [
       "-2.90000000000000"
      ]
     },
     "metadata": {},
     "output_type": "display_data"
    }
   ],
   "source": [
    "h=-0.9\n",
    "show((f(2+h) - f(2))/h)\n",
    "h=-0.8\n",
    "show((f(2+h) - f(2))/h)\n",
    "h=-0.7\n",
    "show((f(2+h) - f(2))/h)\n",
    "h=-0.6\n",
    "show((f(2+h) - f(2))/h)\n",
    "h=-0.5\n",
    "show((f(2+h) - f(2))/h)\n",
    "h=-0.4\n",
    "show((f(2+h) - f(2))/h)\n",
    "h=-0.3\n",
    "show((f(2+h) - f(2))/h)\n",
    "h=-0.2\n",
    "show((f(2+h) - f(2))/h)\n",
    "h=-0.1\n",
    "show((f(2+h) - f(2))/h)"
   ]
  },
  {
   "cell_type": "markdown",
   "id": "3ba4964f-9206-457b-9754-eaebc437723a",
   "metadata": {},
   "source": [
    "look like from left and right the limit is approach -3, as x approach 2, when h is getting infinitely smaller from either the postive side or the negative side.\n"
   ]
  },
  {
   "cell_type": "markdown",
   "id": "0f9ebcf5-5ae2-4826-afde-c7f0bd17a618",
   "metadata": {},
   "source": [
    "Now according to text in the book, the algebraic way, firt compute $f(2)$"
   ]
  },
  {
   "cell_type": "code",
   "execution_count": 56,
   "id": "71e22f0a-7038-4b75-a628-9d150f7d093c",
   "metadata": {},
   "outputs": [
    {
     "data": {
      "text/html": [
       "<html>\\(\\displaystyle -2\\)</html>"
      ],
      "text/latex": [
       "$\\displaystyle -2$"
      ],
      "text/plain": [
       "-2"
      ]
     },
     "metadata": {},
     "output_type": "display_data"
    }
   ],
   "source": [
    "show(f(2))"
   ]
  },
  {
   "cell_type": "code",
   "execution_count": 57,
   "id": "3d3d633f-2a4e-42bf-8349-a382a68e2763",
   "metadata": {},
   "outputs": [
    {
     "data": {
      "text/html": [
       "<html>\\(\\displaystyle -{\\left(h + 2\\right)}^{2} + h + 2\\)</html>"
      ],
      "text/latex": [
       "$\\displaystyle -{\\left(h + 2\\right)}^{2} + h + 2$"
      ],
      "text/plain": [
       "-(h + 2)^2 + h + 2"
      ]
     },
     "metadata": {},
     "output_type": "display_data"
    }
   ],
   "source": [
    "var('h')\n",
    "show(f(2+h))"
   ]
  },
  {
   "cell_type": "code",
   "execution_count": 58,
   "id": "115622b5-dc14-42cf-82c0-fa90589124ec",
   "metadata": {},
   "outputs": [
    {
     "data": {
      "text/html": [
       "<html>\\(\\displaystyle -h - 3\\)</html>"
      ],
      "text/latex": [
       "$\\displaystyle -h - 3$"
      ],
      "text/plain": [
       "-h - 3"
      ]
     },
     "metadata": {},
     "output_type": "display_data"
    }
   ],
   "source": [
    "#Substituting these values into the limit definition, we have\n",
    "f_prime(x) = f.diff(x)\n",
    "\n",
    "var('a', 'h')\n",
    "\n",
    "f_rateOfChange(a,h) = (f(a+h) -f(a))/h\n",
    "show(expand(f_rateOfChange(2,h)))"
   ]
  },
  {
   "cell_type": "code",
   "execution_count": 59,
   "id": "28e945da-d9f5-4fb3-a229-29c8059e30b8",
   "metadata": {},
   "outputs": [
    {
     "data": {
      "text/html": [
       "<html>\\(\\displaystyle -3\\)</html>"
      ],
      "text/latex": [
       "$\\displaystyle -3$"
      ],
      "text/plain": [
       "-3"
      ]
     },
     "metadata": {},
     "output_type": "display_data"
    }
   ],
   "source": [
    "f_limitAt2(h) = -h-3\n",
    "show(f_limitAt2(h=0))"
   ]
  },
  {
   "cell_type": "code",
   "execution_count": 60,
   "id": "72c9d921-60b6-495c-bf81-a3a0108bf710",
   "metadata": {},
   "outputs": [
    {
     "data": {
      "text/html": [
       "<html>\\(\\displaystyle -3\\)</html>"
      ],
      "text/latex": [
       "$\\displaystyle -3$"
      ],
      "text/plain": [
       "-3"
      ]
     },
     "metadata": {},
     "output_type": "display_data"
    },
    {
     "data": {
      "text/html": [
       "<html>\\(\\displaystyle -3\\)</html>"
      ],
      "text/latex": [
       "$\\displaystyle -3$"
      ],
      "text/plain": [
       "-3"
      ]
     },
     "metadata": {},
     "output_type": "display_data"
    }
   ],
   "source": [
    "f_prime(x) = f.diff(x)\n",
    "f_prime2(a) = lim( (f(a+h) -f(a))/h, h=0)\n",
    "\n",
    "show(f_prime2(2))\n",
    "show(f_prime(2))"
   ]
  },
  {
   "cell_type": "code",
   "execution_count": 83,
   "id": "a4d085dd-5b14-41a2-ac7e-37282368e0f0",
   "metadata": {},
   "outputs": [
    {
     "data": {
      "text/plain": [
       "[b == -4]"
      ]
     },
     "execution_count": 83,
     "metadata": {},
     "output_type": "execute_result"
    }
   ],
   "source": [
    "var('x', 'm', 'b')\n",
    "f(x) =  x - x^2\n",
    "#tangent_lineAt2(x) = -3 * x + b\n",
    "y = m*x -b\n",
    "\n",
    "#to solve for b, we do the following\n",
    "\n",
    "solve([-3*2 - b == -2], b)\n",
    "\n",
    "#y= -3 *x - (-4)\n",
    "#y = -3 * x + 4\n"
   ]
  },
  {
   "cell_type": "markdown",
   "id": "f97f227f-ba18-4e68-b7cd-22c3d632e5c2",
   "metadata": {},
   "source": [
    "Note: a line with slope $m$ that passes through $(x_0, y_0)$ has equation \n",
    "$y -y_0 = m(x - x_0)$\n",
    "\n",
    "Question: How do ou derive this equation?\n",
    "\n",
    "Anwser:"
   ]
  },
  {
   "cell_type": "code",
   "execution_count": null,
   "id": "bc403131-b2a1-4aba-a3cf-62790fffa85c",
   "metadata": {},
   "outputs": [],
   "source": []
  },
  {
   "cell_type": "code",
   "execution_count": 87,
   "id": "85887764-86db-4d77-8971-e304f4b4c0ab",
   "metadata": {},
   "outputs": [
    {
     "data": {
      "image/png": "[encoded data removed]",
      "text/plain": [
       "Graphics object consisting of 2 graphics primitives"
      ]
     },
     "metadata": {},
     "output_type": "display_data"
    }
   ],
   "source": [
    "\n",
    "tangent_lineAt2(x) = -3 * x +4\n",
    "aplot = plot(f, (x, -1, 3), aspect_ratio=1)\n",
    "bplot= plot(tangent_lineAt2, (x, -1, 3), color=\"red\", aspect_ratio=1)\n",
    "(aplot + bplot).show()"
   ]
  },
  {
   "cell_type": "markdown",
   "id": "af0b1374-6c4d-4ba7-8395-953030dba2ee",
   "metadata": {},
   "source": [
    "# "
   ]
  }
 ],
 "metadata": {
  "kernelspec": {
   "display_name": "SageMath 9.7",
   "language": "sage",
   "name": "sagemath"
  },
  "language_info": {
   "codemirror_mode": {
    "name": "ipython",
    "version": 3
   },
   "file_extension": ".py",
   "mimetype": "text/x-python",
   "name": "python",
   "nbconvert_exporter": "python",
   "pygments_lexer": "ipython3",
   "version": "3.10.6"
  }
 },
 "nbformat": 4,
 "nbformat_minor": 5
}
