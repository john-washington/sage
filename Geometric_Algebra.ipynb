{
 "cells": [
  {
   "cell_type": "markdown",
   "id": "7a57b380-643b-4486-a7ea-d44b6b4e654d",
   "metadata": {},
   "source": [
    "###### cos(pi/2)"
   ]
  },
  {
   "cell_type": "code",
   "execution_count": 2,
   "id": "9f5f3ac9-95c0-4055-8e9f-ee6dce50b7ea",
   "metadata": {},
   "outputs": [
    {
     "data": {
      "text/plain": [
       "1"
      ]
     },
     "execution_count": 2,
     "metadata": {},
     "output_type": "execute_result"
    }
   ],
   "source": [
    "sin(pi/2)"
   ]
  },
  {
   "cell_type": "code",
   "execution_count": 4,
   "id": "7e43e645-8866-4475-9845-e141ff4bb6de",
   "metadata": {},
   "outputs": [
    {
     "data": {
      "text/plain": [
       "2.71828182845905"
      ]
     },
     "execution_count": 4,
     "metadata": {},
     "output_type": "execute_result"
    }
   ],
   "source": [
    "e.n()"
   ]
  },
  {
   "cell_type": "code",
   "execution_count": 7,
   "id": "83f494ba-2175-4007-851b-7c8ae0b36bde",
   "metadata": {},
   "outputs": [
    {
     "data": {
      "text/plain": [
       "57896044618658097711785492504343953926634992332820282019728792003956564819968"
      ]
     },
     "execution_count": 7,
     "metadata": {},
     "output_type": "execute_result"
    }
   ],
   "source": [
    "2^255"
   ]
  },
  {
   "cell_type": "code",
   "execution_count": 8,
   "id": "43285d45-f99a-460e-a9c7-aa49746bc440",
   "metadata": {},
   "outputs": [
    {
     "data": {
      "text/plain": [
       "0.800499021760630"
      ]
     },
     "execution_count": 8,
     "metadata": {},
     "output_type": "execute_result"
    }
   ],
   "source": [
    "tanh(1.1)"
   ]
  },
  {
   "cell_type": "code",
   "execution_count": 9,
   "id": "ec7d38de-6557-42f3-877d-3b5381e95c26",
   "metadata": {},
   "outputs": [
    {
     "data": {
      "text/plain": [
       "0.975743130031452"
      ]
     },
     "execution_count": 9,
     "metadata": {},
     "output_type": "execute_result"
    }
   ],
   "source": [
    "tanh(2.2)"
   ]
  },
  {
   "cell_type": "markdown",
   "id": "f55e2a7f-25c0-4f39-ab38-805f5c1577e7",
   "metadata": {},
   "source": [
    "**Chapter 5**\n",
    "\n",
    "$\\mathbf{G}^3$\n",
    "\n",
    "Members of the inner product space $\\mathbb{R}^n$ are vectors, one-dimensional objects. We can describe higher dimensional objects geometrically or with equations. e.g. the plane $ax+by +cz =d$. But higher dimensional objects are not members of $\\mathbb{R}^n$, so $\\mathbb{R}^n$ cannot manipulate them algebraically.\n",
    "\n",
    "The geometric algebra $\\mathbb{G}^n$ is an extension of the inner product space $\\mathbb{R}^n$. \n",
    "\n",
    "Members of $\\mathbb{G}^n$ represent geometric objects of all dimensions in $\\mathbb{R}^n$. \n",
    "\n",
    "Algebraic operations of $\\mathbb{G}^n$ manipulate these geometric objects.\n",
    "\n",
    "**5.1 Oriented Areas**\n",
    "\n",
    "**Definition 5.1** (Oriented Area). An oriented area $B$ is an oriented segment of i.e. area in a plane.\n",
    "\n",
    "The area value of B is called its norm. denoted $|B|$.\n",
    "\n",
    "Oriented areas have no information about location or shape: two oriented areas on the same or parallel planes and with the same norm and orientation are considered equal.\n",
    "\n",
    "**The Vector Space of Oriented Areas**\n",
    "\n",
    "Oriented areas in $\\mathbb{R}^3$ are a new kind of vector; they form a vector space. \n",
    "\n",
    "To satisfy the Vector Space Algebra:\n",
    "\n",
    "Scalar multiplication.\n",
    "\n",
    "$aB$, \n",
    "\n",
    "Vector addition\n",
    "\n",
    "case 1: adding parallel-oriented areas\n",
    "\n",
    "Define $B_1 = b_1 B, B_2 = b_2 B$,\n",
    "then, $B_1 + B_2 = (b_1 +b_2)B$\n",
    "\n",
    "case 2: adding intersecting oriented areas\n",
    "\n",
    "\n",
    "Zero. It is useful to have a zero oriented area 0, common to all planes. \n",
    "\n",
    "**The Outer Product**\n",
    "\n",
    "A common way to construct an oriented area is to take the outer product $\\mathbf{u} \\wedge \\mathbf{v}$ of oriented lengths $u$ and $v$. \n",
    "\n"
   ]
  },
  {
   "cell_type": "code",
   "execution_count": null,
   "id": "632cae22-8229-4359-8645-1081482d8fb8",
   "metadata": {},
   "outputs": [],
   "source": [
    "e1=vector([1,0,0])\n",
    "e2=vector([0,1,0])\n",
    "e3=vector([0,0,1])\n",
    "\n",
    "#this gives you a bivector\n",
    "#we need to design a bivector class here\n",
    "class Bivector():\n",
    "    def __init__(v1, v2):\n",
    "        #assert type(v1) = vector\n",
    "        self._vector1 = v1\n",
    "        self._vector2 = v2\n",
    "        self._norm = v1.norm() * v2.norm()*sin_alpha(v1, v2)\n",
    "    \n",
    "def e1_wedge_e2(e1, e2):\n",
    "    return Bivector(e1, e2)\n",
    "    \n",
    "def sin_alpha(a, b):\n",
    "    norm_multiple =  a.norm() * b.norm()\n",
    "    s = a.norm()\n",
    "    #s2 = my_norm(b)\n",
    "    e_a = (1/ s) * a\n",
    "    #e_b = (1/ s2) * b\n",
    "    X = b.norm() * (a.dot_product(b) / (norm_multiple)) * e_a\n",
    "    Z2 = b - X\n",
    "    sin_alpha = Z2.norm() / b.norm()\n",
    "    return sin_alpha\n",
    "    \n",
    "def wedge_product(v1, v2):\n",
    "    return v1.norm()* v2.norm() * sin_alpha(v1, v2) * e1_wedge_e2"
   ]
  },
  {
   "cell_type": "markdown",
   "id": "baa73bcc-0c1b-4ab5-9501-fb029529feff",
   "metadata": {},
   "source": [
    "**Theorem 5.3**. Let $[\\mathbf{e}_1, \\mathbf{e}_2]$ be an orthonormal basis for a plane. Orient the plane with \n",
    "$\\mathbf{e}_1 \\wedge \\mathbf{e}_2$. Let $\\mathbf{u}$ and $\\mathbf{v}$ be vectors in the plane. Let $\\theta$ be the oriented angle from\n",
    "$\\mathbf{u}$ to $\\mathbf{v}$, $-\\pi < \\theta < \\pi$. Then\n",
    "\n",
    "$$ \\mathbf{u} \\wedge \\mathbf{v} = |\\mathbf{u}| |\\mathbf{v}| \\sin \\theta ( \\mathbf{e}_1 \\wedge \\mathbf{e}_2)$$  (5.1)"
   ]
  },
  {
   "cell_type": "code",
   "execution_count": null,
   "id": "98121294-c1c9-49e3-b209-f422054d77da",
   "metadata": {},
   "outputs": [],
   "source": []
  }
 ],
 "metadata": {
  "kernelspec": {
   "display_name": "SageMath 9.7",
   "language": "sage",
   "name": "sagemath"
  },
  "language_info": {
   "codemirror_mode": {
    "name": "ipython",
    "version": 3
   },
   "file_extension": ".py",
   "mimetype": "text/x-python",
   "name": "python",
   "nbconvert_exporter": "python",
   "pygments_lexer": "ipython3",
   "version": "3.10.12"
  }
 },
 "nbformat": 4,
 "nbformat_minor": 5
}
