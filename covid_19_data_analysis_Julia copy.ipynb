{
 "cells": [
  {
   "cell_type": "code",
   "execution_count": 1,
   "id": "3581f726-c24b-45cc-8a25-3a495a572f6d",
   "metadata": {},
   "outputs": [
    {
     "data": {
      "text/plain": [
       "\"https://github.com/CSSEGISandData/COVID-19/blob/master/csse_covid_19_data/csse_covid_19_time_series/time_series_covid19_recovered_global.csv\""
      ]
     },
     "execution_count": 1,
     "metadata": {},
     "output_type": "execute_result"
    }
   ],
   "source": [
    "url=\"https://github.com/CSSEGISandData/COVID-19/blob/master/csse_covid_19_data/csse_covid_19_time_series/time_series_covid19_recovered_global.csv\"\n",
    "url\n",
    "\n"
   ]
  },
  {
   "cell_type": "code",
   "execution_count": 48,
   "id": "16eb473d-23a4-46bf-849d-0265172710fc",
   "metadata": {},
   "outputs": [
    {
     "data": {
      "text/plain": [
       "\"https://covidtracking.com/data/download/national-history.csv\""
      ]
     },
     "execution_count": 48,
     "metadata": {},
     "output_type": "execute_result"
    }
   ],
   "source": [
    "#url=\"https://raw.githubusercontent.com/CSSEGISandData/COVID-19/master/csse_covid_19_data/csse_covid_19_time_series/time_series_covid19_recovered_global.csv\"\n",
    "#url=\"https://raw.githubusercontent.com/CSSEGISandData/COVID-19/master/csse_covid_19_data/csse_covid_19_time_series/time_series_covid19_deaths_global.csv\"\n",
    "#url=\"https://raw.githubusercontent.com/CSSEGISandData/COVID-19/master/csse_covid_19_data/csse_covid_19_time_series/time_series_covid19_confirmed_global.csv\"\n",
    "#url=\"https://covidtracking.com/data/download/california-history.csv\"\n",
    "url=\"https://covidtracking.com/data/download/national-history.csv\""
   ]
  },
  {
   "cell_type": "markdown",
   "id": "da66d31f-943e-47dc-807f-aab3d1b385d4",
   "metadata": {},
   "source": [
    "**Exploring data on COVID-19**"
   ]
  },
  {
   "cell_type": "code",
   "execution_count": 3,
   "id": "231e538e-40a9-4e77-9eba-b426d37ec5b0",
   "metadata": {},
   "outputs": [
    {
     "data": {
      "text/html": [
       "# 309 methods for generic function <b>*</b> from \u001b[90mBase\u001b[39m:<ul><li> *(x::<b>T</b>, y::<b>T</b>)<i> where T<:Union{Int128, UInt128}</i> in Base at <a href=\"https://github.com/JuliaLang/julia/tree/8e630552924eac54c809aa7bc30871c7df1582d3/base/int.jl#L1027\" target=\"_blank\">int.jl:1027</a></li> <li> *(x::<b>T</b>, y::<b>T</b>)<i> where T<:Union{Int128, Int16, Int32, Int64, Int8, UInt128, UInt16, UInt32, UInt64, UInt8}</i> in Base at <a href=\"https://github.com/JuliaLang/julia/tree/8e630552924eac54c809aa7bc30871c7df1582d3/base/int.jl#L88\" target=\"_blank\">int.jl:88</a></li> <li> *(x::<b>T</b>, y::<b>T</b>)<i> where T<:Union{Float16, Float32, Float64}</i> in Base at <a href=\"https://github.com/JuliaLang/julia/tree/8e630552924eac54c809aa7bc30871c7df1582d3/base/float.jl#L410\" target=\"_blank\">float.jl:410</a></li> <li> *(s1::<b>Union{AbstractChar, AbstractString}</b>, ss::<b>Union{AbstractChar, AbstractString}...</b>) in Base at <a href=\"https://github.com/JuliaLang/julia/tree/8e630552924eac54c809aa7bc30871c7df1582d3/base/strings/basic.jl#L260\" target=\"_blank\">strings/basic.jl:260</a></li> <li> *(d::<b>Union{AbstractChar, AbstractString}</b>, x::<b>Missing</b>) in Base at <a href=\"https://github.com/JuliaLang/julia/tree/8e630552924eac54c809aa7bc30871c7df1582d3/base/missing.jl#L183\" target=\"_blank\">missing.jl:183</a></li> <li> *(c::<b>Union{UInt16, UInt32, UInt64, UInt8}</b>, x::<b>BigInt</b>) in Base.GMP at <a href=\"https://github.com/JuliaLang/julia/tree/8e630552924eac54c809aa7bc30871c7df1582d3/base/gmp.jl#L550\" target=\"_blank\">gmp.jl:550</a></li> <li> *(c::<b>Union{Int16, Int32, Int64, Int8}</b>, x::<b>BigInt</b>) in Base.GMP at <a href=\"https://github.com/JuliaLang/julia/tree/8e630552924eac54c809aa7bc30871c7df1582d3/base/gmp.jl#L552\" target=\"_blank\">gmp.jl:552</a></li> <li> *(c::<b>Union{UInt16, UInt32, UInt64, UInt8}</b>, x::<b>BigFloat</b>) in Base.MPFR at <a href=\"https://github.com/JuliaLang/julia/tree/8e630552924eac54c809aa7bc30871c7df1582d3/base/mpfr.jl#L407\" target=\"_blank\">mpfr.jl:407</a></li> <li> *(c::<b>Union{Int16, Int32, Int64, Int8}</b>, x::<b>BigFloat</b>) in Base.MPFR at <a href=\"https://github.com/JuliaLang/julia/tree/8e630552924eac54c809aa7bc30871c7df1582d3/base/mpfr.jl#L415\" target=\"_blank\">mpfr.jl:415</a></li> <li> *(c::<b>Union{Float16, Float32, Float64}</b>, x::<b>BigFloat</b>) in Base.MPFR at <a href=\"https://github.com/JuliaLang/julia/tree/8e630552924eac54c809aa7bc30871c7df1582d3/base/mpfr.jl#L423\" target=\"_blank\">mpfr.jl:423</a></li> <li> *(A::<b>StridedMatrix{T}</b>, x::<b>StridedVector{S}</b>)<i> where {T<:Union{Float32, Float64, ComplexF64, ComplexF32}, S<:Real}</i> in LinearAlgebra at <a href=\"https://github.com/JuliaLang/julia/tree/8e630552924eac54c809aa7bc30871c7df1582d3//usr/share/julia/stdlib/v1.9/LinearAlgebra/src/matmul.jl#L49\" target=\"_blank\">/home/jzhang/julia/usr/share/julia/stdlib/v1.9/LinearAlgebra/src/matmul.jl:49</a></li> <li> *(A::<b>Union{LinearAlgebra.Adjoint{var\"#s970\", <:StridedMatrix{T} where T}, LinearAlgebra.Transpose{var\"#s970\", <:StridedMatrix{T} where T}, StridedMatrix{var\"#s970\"}} where var\"#s970\"<:Union{Float32, Float64}</b>, B::<b>Union{LinearAlgebra.Adjoint{var\"#s969\", <:StridedMatrix{T} where T}, LinearAlgebra.Transpose{var\"#s969\", <:StridedMatrix{T} where T}, StridedMatrix{var\"#s969\"}} where var\"#s969\"<:Union{Float32, Float64}</b>) in LinearAlgebra at <a href=\"https://github.com/JuliaLang/julia/tree/8e630552924eac54c809aa7bc30871c7df1582d3//usr/share/julia/stdlib/v1.9/LinearAlgebra/src/matmul.jl#L146\" target=\"_blank\">/home/jzhang/julia/usr/share/julia/stdlib/v1.9/LinearAlgebra/src/matmul.jl:146</a></li> <li> *(A::<b>Union{LinearAlgebra.Adjoint{var\"#s970\", <:StridedMatrix{T} where T}, LinearAlgebra.Transpose{var\"#s970\", <:StridedMatrix{T} where T}, StridedMatrix{var\"#s970\"}} where var\"#s970\"<:Union{ComplexF64, ComplexF32}</b>, B::<b>Union{LinearAlgebra.Adjoint{var\"#s969\", <:StridedMatrix{T} where T}, LinearAlgebra.Transpose{var\"#s969\", <:StridedMatrix{T} where T}, StridedMatrix{var\"#s969\"}} where var\"#s969\"<:Union{ComplexF64, ComplexF32}</b>) in LinearAlgebra at <a href=\"https://github.com/JuliaLang/julia/tree/8e630552924eac54c809aa7bc30871c7df1582d3//usr/share/julia/stdlib/v1.9/LinearAlgebra/src/matmul.jl#L152\" target=\"_blank\">/home/jzhang/julia/usr/share/julia/stdlib/v1.9/LinearAlgebra/src/matmul.jl:152</a></li> <li> *(A::<b>StridedMatrix{var\"#s970\"} where var\"#s970\"<:Union{ComplexF64, ComplexF32}</b>, B::<b>Union{LinearAlgebra.Adjoint{var\"#s969\", <:StridedMatrix{T} where T}, LinearAlgebra.Transpose{var\"#s969\", <:StridedMatrix{T} where T}, StridedMatrix{var\"#s969\"}} where var\"#s969\"<:Union{Float32, Float64}</b>) in LinearAlgebra at <a href=\"https://github.com/JuliaLang/julia/tree/8e630552924eac54c809aa7bc30871c7df1582d3//usr/share/julia/stdlib/v1.9/LinearAlgebra/src/matmul.jl#L165\" target=\"_blank\">/home/jzhang/julia/usr/share/julia/stdlib/v1.9/LinearAlgebra/src/matmul.jl:165</a></li> <li> *(A::<b>Union{LinearAlgebra.Adjoint{var\"#s970\", <:StridedMatrix{T} where T}, LinearAlgebra.Transpose{var\"#s970\", <:StridedMatrix{T} where T}} where var\"#s970\"<:Union{ComplexF64, ComplexF32}</b>, B::<b>Union{LinearAlgebra.Adjoint{var\"#s969\", <:StridedMatrix{T} where T}, LinearAlgebra.Transpose{var\"#s969\", <:StridedMatrix{T} where T}, StridedMatrix{var\"#s969\"}} where var\"#s969\"<:Union{Float32, Float64}</b>) in LinearAlgebra at <a href=\"https://github.com/JuliaLang/julia/tree/8e630552924eac54c809aa7bc30871c7df1582d3//usr/share/julia/stdlib/v1.9/LinearAlgebra/src/matmul.jl#L171\" target=\"_blank\">/home/jzhang/julia/usr/share/julia/stdlib/v1.9/LinearAlgebra/src/matmul.jl:171</a></li> <li> *(A::<b>StridedMatrix{var\"#s970\"} where var\"#s970\"<:Union{Float32, Float64}</b>, B::<b>StridedMatrix{var\"#s969\"} where var\"#s969\"<:Union{ComplexF64, ComplexF32}</b>) in LinearAlgebra at <a href=\"https://github.com/JuliaLang/julia/tree/8e630552924eac54c809aa7bc30871c7df1582d3//usr/share/julia/stdlib/v1.9/LinearAlgebra/src/matmul.jl#L178\" target=\"_blank\">/home/jzhang/julia/usr/share/julia/stdlib/v1.9/LinearAlgebra/src/matmul.jl:178</a></li> <li> *(A::<b>Union{LinearAlgebra.Adjoint{var\"#s970\", <:StridedMatrix{T} where T}, LinearAlgebra.Transpose{var\"#s970\", <:StridedMatrix{T} where T}} where var\"#s970\"<:Union{Float32, Float64}</b>, B::<b>StridedMatrix{var\"#s969\"} where var\"#s969\"<:Union{ComplexF64, ComplexF32}</b>) in LinearAlgebra at <a href=\"https://github.com/JuliaLang/julia/tree/8e630552924eac54c809aa7bc30871c7df1582d3//usr/share/julia/stdlib/v1.9/LinearAlgebra/src/matmul.jl#L185\" target=\"_blank\">/home/jzhang/julia/usr/share/julia/stdlib/v1.9/LinearAlgebra/src/matmul.jl:185</a></li> <li> *(A::<b>Union{LinearAlgebra.Adjoint{var\"#s970\", <:StridedMatrix{T} where T}, LinearAlgebra.Transpose{var\"#s970\", <:StridedMatrix{T} where T}, StridedMatrix{var\"#s970\"}} where var\"#s970\"<:Union{Float32, Float64}</b>, B::<b>Union{LinearAlgebra.Adjoint{var\"#s969\", <:StridedMatrix{T} where T}, LinearAlgebra.Transpose{var\"#s969\", <:StridedMatrix{T} where T}} where var\"#s969\"<:Union{ComplexF64, ComplexF32}</b>) in LinearAlgebra at <a href=\"https://github.com/JuliaLang/julia/tree/8e630552924eac54c809aa7bc30871c7df1582d3//usr/share/julia/stdlib/v1.9/LinearAlgebra/src/matmul.jl#L186\" target=\"_blank\">/home/jzhang/julia/usr/share/julia/stdlib/v1.9/LinearAlgebra/src/matmul.jl:186</a></li> <li> *(α::<b>Union{Real, Complex}</b>, vt::<b>Union{LinearAlgebra.Adjoint{var\"#s970\", var\"#s9701\"}, LinearAlgebra.Transpose{var\"#s970\", var\"#s9701\"}} where {var\"#s970\"<:Union{Real, Complex}, var\"#s9701\"<:(AbstractVector)}</b>, C::<b>AbstractMatrix{<:Union{Real, Complex}}</b>, D::<b>AbstractMatrix{<:Union{Real, Complex}}</b>) in LinearAlgebra at <a href=\"https://github.com/JuliaLang/julia/tree/8e630552924eac54c809aa7bc30871c7df1582d3//usr/share/julia/stdlib/v1.9/LinearAlgebra/src/matmul.jl#L1218\" target=\"_blank\">/home/jzhang/julia/usr/share/julia/stdlib/v1.9/LinearAlgebra/src/matmul.jl:1218</a></li> <li> *(A::<b>StridedMatrix{T} where T</b>, Q::<b>LinearAlgebra.AbstractQ</b>) in LinearAlgebra at <a href=\"https://github.com/JuliaLang/julia/tree/8e630552924eac54c809aa7bc30871c7df1582d3//usr/share/julia/stdlib/v1.9/LinearAlgebra/src/qr.jl#L775\" target=\"_blank\">/home/jzhang/julia/usr/share/julia/stdlib/v1.9/LinearAlgebra/src/qr.jl:775</a></li> <li> *(A::<b>StridedMatrix{T} where T</b>, adjB::<b>LinearAlgebra.Adjoint{<:Any, <:LinearAlgebra.AbstractQ}</b>) in LinearAlgebra at <a href=\"https://github.com/JuliaLang/julia/tree/8e630552924eac54c809aa7bc30871c7df1582d3//usr/share/julia/stdlib/v1.9/LinearAlgebra/src/qr.jl#L822\" target=\"_blank\">/home/jzhang/julia/usr/share/julia/stdlib/v1.9/LinearAlgebra/src/qr.jl:822</a></li> <li> *(A::<b>StridedVecOrMat</b>, adjQ::<b>LinearAlgebra.Adjoint{<:Any, <:LinearAlgebra.LQPackedQ}</b>) in LinearAlgebra at <a href=\"https://github.com/JuliaLang/julia/tree/8e630552924eac54c809aa7bc30871c7df1582d3//usr/share/julia/stdlib/v1.9/LinearAlgebra/src/lq.jl#L269\" target=\"_blank\">/home/jzhang/julia/usr/share/julia/stdlib/v1.9/LinearAlgebra/src/lq.jl:269</a></li> <li> *(A::<b>StridedVecOrMat</b>, Q::<b>LinearAlgebra.LQPackedQ</b>) in LinearAlgebra at <a href=\"https://github.com/JuliaLang/julia/tree/8e630552924eac54c809aa7bc30871c7df1582d3//usr/share/julia/stdlib/v1.9/LinearAlgebra/src/lq.jl#L293\" target=\"_blank\">/home/jzhang/julia/usr/share/julia/stdlib/v1.9/LinearAlgebra/src/lq.jl:293</a></li> <li> *(A::<b>Union{LinearAlgebra.Hermitian{T, S}, LinearAlgebra.Symmetric{T, S}} where {T, S}</b>, B::<b>Union{LinearAlgebra.Hermitian{T, S}, LinearAlgebra.Symmetric{T, S}} where {T, S}</b>) in LinearAlgebra at <a href=\"https://github.com/JuliaLang/julia/tree/8e630552924eac54c809aa7bc30871c7df1582d3//usr/share/julia/stdlib/v1.9/LinearAlgebra/src/symmetric.jl#L576\" target=\"_blank\">/home/jzhang/julia/usr/share/julia/stdlib/v1.9/LinearAlgebra/src/symmetric.jl:576</a></li> <li> *(A::<b>Union{LinearAlgebra.UnitUpperTriangular{T, S} where S<:AbstractMatrix{T}, LinearAlgebra.UpperTriangular{T, S} where S<:AbstractMatrix{T}} where T</b>, B::<b>LinearAlgebra.Bidiagonal</b>) in LinearAlgebra at <a href=\"https://github.com/JuliaLang/julia/tree/8e630552924eac54c809aa7bc30871c7df1582d3//usr/share/julia/stdlib/v1.9/LinearAlgebra/src/bidiag.jl#L647\" target=\"_blank\">/home/jzhang/julia/usr/share/julia/stdlib/v1.9/LinearAlgebra/src/bidiag.jl:647</a></li> <li> *(A::<b>Union{LinearAlgebra.LowerTriangular{T, S} where S<:AbstractMatrix{T}, LinearAlgebra.UnitLowerTriangular{T, S} where S<:AbstractMatrix{T}} where T</b>, B::<b>LinearAlgebra.Bidiagonal</b>) in LinearAlgebra at <a href=\"https://github.com/JuliaLang/julia/tree/8e630552924eac54c809aa7bc30871c7df1582d3//usr/share/julia/stdlib/v1.9/LinearAlgebra/src/bidiag.jl#L653\" target=\"_blank\">/home/jzhang/julia/usr/share/julia/stdlib/v1.9/LinearAlgebra/src/bidiag.jl:653</a></li> <li> *(A::<b>Union{LinearAlgebra.Bidiagonal, LinearAlgebra.Tridiagonal}</b>, B::<b>LinearAlgebra.Diagonal</b>) in LinearAlgebra at <a href=\"https://github.com/JuliaLang/julia/tree/8e630552924eac54c809aa7bc30871c7df1582d3//usr/share/julia/stdlib/v1.9/LinearAlgebra/src/bidiag.jl#L671\" target=\"_blank\">/home/jzhang/julia/usr/share/julia/stdlib/v1.9/LinearAlgebra/src/bidiag.jl:671</a></li> <li> *(A::<b>Union{LinearAlgebra.Bidiagonal, LinearAlgebra.SymTridiagonal, LinearAlgebra.Tridiagonal}</b>, B::<b>Union{LinearAlgebra.Bidiagonal, LinearAlgebra.SymTridiagonal, LinearAlgebra.Tridiagonal}</b>) in LinearAlgebra at <a href=\"https://github.com/JuliaLang/julia/tree/8e630552924eac54c809aa7bc30871c7df1582d3//usr/share/julia/stdlib/v1.9/LinearAlgebra/src/bidiag.jl#L691\" target=\"_blank\">/home/jzhang/julia/usr/share/julia/stdlib/v1.9/LinearAlgebra/src/bidiag.jl:691</a></li> <li> *(U::<b>Union{LinearAlgebra.UnitUpperTriangular{T, S} where S<:AbstractMatrix{T}, LinearAlgebra.UpperTriangular{T, S} where S<:AbstractMatrix{T}} where T</b>, H::<b>LinearAlgebra.UpperHessenberg</b>) in LinearAlgebra at <a href=\"https://github.com/JuliaLang/julia/tree/8e630552924eac54c809aa7bc30871c7df1582d3//usr/share/julia/stdlib/v1.9/LinearAlgebra/src/hessenberg.jl#L132\" target=\"_blank\">/home/jzhang/julia/usr/share/julia/stdlib/v1.9/LinearAlgebra/src/hessenberg.jl:132</a></li> <li> *(A::<b>Union{LinearAlgebra.Bidiagonal, LinearAlgebra.SymTridiagonal, LinearAlgebra.Tridiagonal}</b>, Q::<b>LinearAlgebra.AbstractQ</b>) in LinearAlgebra at <a href=\"https://github.com/JuliaLang/julia/tree/8e630552924eac54c809aa7bc30871c7df1582d3//usr/share/julia/stdlib/v1.9/LinearAlgebra/src/special.jl#L338\" target=\"_blank\">/home/jzhang/julia/usr/share/julia/stdlib/v1.9/LinearAlgebra/src/special.jl:338</a></li> <li> *(A::<b>Union{LinearAlgebra.Bidiagonal, LinearAlgebra.SymTridiagonal, LinearAlgebra.Tridiagonal}</b>, Q::<b>LinearAlgebra.Adjoint{<:Any, <:LinearAlgebra.AbstractQ}</b>) in LinearAlgebra at <a href=\"https://github.com/JuliaLang/julia/tree/8e630552924eac54c809aa7bc30871c7df1582d3//usr/share/julia/stdlib/v1.9/LinearAlgebra/src/special.jl#L339\" target=\"_blank\">/home/jzhang/julia/usr/share/julia/stdlib/v1.9/LinearAlgebra/src/special.jl:339</a></li> <li> *(X::<b>StridedArray{P}</b>, y::<b>Real</b>)<i> where P<:Dates.Period</i> in Dates at <a href=\"https://github.com/JuliaLang/julia/tree/8e630552924eac54c809aa7bc30871c7df1582d3//usr/share/julia/stdlib/v1.9/Dates/src/deprecated.jl#L44\" target=\"_blank\">/home/jzhang/julia/usr/share/julia/stdlib/v1.9/Dates/src/deprecated.jl:44</a></li> <li> *(x::<b>Union{SparseArrays.AbstractCompressedVector{Tv, Ti}, SubArray{Tv, 1, <:SparseArrays.AbstractSparseMatrixCSC{Tv, Ti}, Tuple{Base.Slice{Base.OneTo{Int64}}, Int64}, false}, SubArray{Tv, 1, <:SparseArrays.AbstractSparseVector{Tv, Ti}, Tuple{Base.Slice{Base.OneTo{Int64}}}, false}} where {Tv, Ti}</b>, a::<b>Number</b>) in SparseArrays at <a href=\"https://github.com/JuliaLang/julia/tree/8e630552924eac54c809aa7bc30871c7df1582d3//usr/share/julia/stdlib/v1.9/SparseArrays/src/sparsevector.jl#L1650\" target=\"_blank\">/home/jzhang/julia/usr/share/julia/stdlib/v1.9/SparseArrays/src/sparsevector.jl:1650</a></li> <li> *(A::<b>Union{SparseArrays.AbstractSparseMatrixCSC{TA, Ti}, SubArray{TA, 2, <:SparseArrays.AbstractSparseMatrixCSC{TA, Ti}, Tuple{Base.Slice{Base.OneTo{Int64}}, I}} where I<:AbstractUnitRange} where Ti</b>, x::<b>Union{StridedVector, BitVector}</b>)<i> where TA</i> in SparseArrays at <a href=\"https://github.com/JuliaLang/julia/tree/8e630552924eac54c809aa7bc30871c7df1582d3//usr/share/julia/stdlib/v1.9/SparseArrays/src/linalg.jl#L50\" target=\"_blank\">/home/jzhang/julia/usr/share/julia/stdlib/v1.9/SparseArrays/src/linalg.jl:50</a></li> <li> *(A::<b>Union{SparseArrays.AbstractSparseMatrixCSC{Tv, Ti}, SubArray{Tv, 2, <:SparseArrays.AbstractSparseMatrixCSC{Tv, Ti}, Tuple{Base.Slice{Base.OneTo{Int64}}, I}} where I<:AbstractUnitRange, LinearAlgebra.LowerTriangular{Tv, <:Union{SparseArrays.AbstractSparseMatrixCSC{Tv, Ti}, SubArray{Tv, 2, <:SparseArrays.AbstractSparseMatrixCSC{Tv, Ti}, Tuple{Base.Slice{Base.OneTo{Int64}}, I}} where I<:AbstractUnitRange}}, LinearAlgebra.UpperTriangular{Tv, <:Union{SparseArrays.AbstractSparseMatrixCSC{Tv, Ti}, SubArray{Tv, 2, <:SparseArrays.AbstractSparseMatrixCSC{Tv, Ti}, Tuple{Base.Slice{Base.OneTo{Int64}}, I}} where I<:AbstractUnitRange}}} where {Tv, Ti}</b>, B::<b>SubArray{Tv, 1, <:SparseArrays.AbstractSparseMatrixCSC{Tv, Ti}, Tuple{Base.Slice{Base.OneTo{Int64}}, Int64}, false} where {Tv, Ti}</b>) in SparseArrays at <a href=\"https://github.com/JuliaLang/julia/tree/8e630552924eac54c809aa7bc30871c7df1582d3//usr/share/julia/stdlib/v1.9/SparseArrays/src/linalg.jl#L151\" target=\"_blank\">/home/jzhang/julia/usr/share/julia/stdlib/v1.9/SparseArrays/src/linalg.jl:151</a></li> <li> *(A::<b>Union{SparseArrays.AbstractSparseMatrixCSC{Tv, Ti}, SubArray{Tv, 2, <:SparseArrays.AbstractSparseMatrixCSC{Tv, Ti}, Tuple{Base.Slice{Base.OneTo{Int64}}, I}} where I<:AbstractUnitRange, LinearAlgebra.LowerTriangular{Tv, <:Union{SparseArrays.AbstractSparseMatrixCSC{Tv, Ti}, SubArray{Tv, 2, <:SparseArrays.AbstractSparseMatrixCSC{Tv, Ti}, Tuple{Base.Slice{Base.OneTo{Int64}}, I}} where I<:AbstractUnitRange}}, LinearAlgebra.UpperTriangular{Tv, <:Union{SparseArrays.AbstractSparseMatrixCSC{Tv, Ti}, SubArray{Tv, 2, <:SparseArrays.AbstractSparseMatrixCSC{Tv, Ti}, Tuple{Base.Slice{Base.OneTo{Int64}}, I}} where I<:AbstractUnitRange}}} where {Tv, Ti}</b>, B::<b>SubArray{Tv, 1, <:SparseArrays.AbstractSparseVector{Tv, Ti}, Tuple{Base.Slice{Base.OneTo{Int64}}}, false} where {Tv, Ti}</b>) in SparseArrays at <a href=\"https://github.com/JuliaLang/julia/tree/8e630552924eac54c809aa7bc30871c7df1582d3//usr/share/julia/stdlib/v1.9/SparseArrays/src/linalg.jl#L152\" target=\"_blank\">/home/jzhang/julia/usr/share/julia/stdlib/v1.9/SparseArrays/src/linalg.jl:152</a></li> <li> *(A::<b>Union{SparseArrays.AbstractSparseMatrixCSC{Tv, Ti}, SubArray{Tv, 2, <:SparseArrays.AbstractSparseMatrixCSC{Tv, Ti}, Tuple{Base.Slice{Base.OneTo{Int64}}, I}} where I<:AbstractUnitRange} where {Tv, Ti}</b>, B::<b>Union{SparseArrays.AbstractSparseMatrixCSC{Tv, Ti}, SubArray{Tv, 2, <:SparseArrays.AbstractSparseMatrixCSC{Tv, Ti}, Tuple{Base.Slice{Base.OneTo{Int64}}, I}} where I<:AbstractUnitRange} where {Tv, Ti}</b>) in SparseArrays at <a href=\"https://github.com/JuliaLang/julia/tree/8e630552924eac54c809aa7bc30871c7df1582d3//usr/share/julia/stdlib/v1.9/SparseArrays/src/linalg.jl#L153\" target=\"_blank\">/home/jzhang/julia/usr/share/julia/stdlib/v1.9/SparseArrays/src/linalg.jl:153</a></li> <li> *(A::<b>Union{LinearAlgebra.LowerTriangular{Tv, <:Union{SparseArrays.AbstractSparseMatrixCSC{Tv, Ti}, SubArray{Tv, 2, <:SparseArrays.AbstractSparseMatrixCSC{Tv, Ti}, Tuple{Base.Slice{Base.OneTo{Int64}}, I}} where I<:AbstractUnitRange}}, LinearAlgebra.UpperTriangular{Tv, <:Union{SparseArrays.AbstractSparseMatrixCSC{Tv, Ti}, SubArray{Tv, 2, <:SparseArrays.AbstractSparseMatrixCSC{Tv, Ti}, Tuple{Base.Slice{Base.OneTo{Int64}}, I}} where I<:AbstractUnitRange}}} where {Tv, Ti}</b>, B::<b>Union{SparseArrays.AbstractSparseMatrixCSC{Tv, Ti}, SubArray{Tv, 2, <:SparseArrays.AbstractSparseMatrixCSC{Tv, Ti}, Tuple{Base.Slice{Base.OneTo{Int64}}, I}} where I<:AbstractUnitRange} where {Tv, Ti}</b>) in SparseArrays at <a href=\"https://github.com/JuliaLang/julia/tree/8e630552924eac54c809aa7bc30871c7df1582d3//usr/share/julia/stdlib/v1.9/SparseArrays/src/linalg.jl#L154\" target=\"_blank\">/home/jzhang/julia/usr/share/julia/stdlib/v1.9/SparseArrays/src/linalg.jl:154</a></li> <li> *(X::<b>Union{LinearAlgebra.Adjoint{<:Any, <:Union{LinearAlgebra.LowerTriangular, LinearAlgebra.UnitLowerTriangular, LinearAlgebra.UnitUpperTriangular, LinearAlgebra.UpperTriangular, StridedMatrix, BitMatrix}}, LinearAlgebra.LowerTriangular, LinearAlgebra.Transpose{<:Any, <:Union{LinearAlgebra.LowerTriangular, LinearAlgebra.UnitLowerTriangular, LinearAlgebra.UnitUpperTriangular, LinearAlgebra.UpperTriangular, StridedMatrix, BitMatrix}}, LinearAlgebra.UnitLowerTriangular, LinearAlgebra.UnitUpperTriangular, LinearAlgebra.UpperTriangular, StridedMatrix, BitMatrix}</b>, A::<b>Union{SparseArrays.AbstractSparseMatrixCSC{TvA, Ti}, SubArray{TvA, 2, <:SparseArrays.AbstractSparseMatrixCSC{TvA, Ti}, Tuple{Base.Slice{Base.OneTo{Int64}}, I}} where I<:AbstractUnitRange} where Ti</b>)<i> where TvA</i> in SparseArrays at <a href=\"https://github.com/JuliaLang/julia/tree/8e630552924eac54c809aa7bc30871c7df1582d3//usr/share/julia/stdlib/v1.9/SparseArrays/src/linalg.jl#L114\" target=\"_blank\">/home/jzhang/julia/usr/share/julia/stdlib/v1.9/SparseArrays/src/linalg.jl:114</a></li> <li> *(A::<b>Union{SparseArrays.AbstractSparseMatrixCSC{Tv, Ti}, SubArray{Tv, 2, <:SparseArrays.AbstractSparseMatrixCSC{Tv, Ti}, Tuple{Base.Slice{Base.OneTo{Int64}}, I}} where I<:AbstractUnitRange} where {Tv, Ti}</b>, B::<b>Union{LinearAlgebra.LowerTriangular{Tv, <:Union{SparseArrays.AbstractSparseMatrixCSC{Tv, Ti}, SubArray{Tv, 2, <:SparseArrays.AbstractSparseMatrixCSC{Tv, Ti}, Tuple{Base.Slice{Base.OneTo{Int64}}, I}} where I<:AbstractUnitRange}}, LinearAlgebra.UpperTriangular{Tv, <:Union{SparseArrays.AbstractSparseMatrixCSC{Tv, Ti}, SubArray{Tv, 2, <:SparseArrays.AbstractSparseMatrixCSC{Tv, Ti}, Tuple{Base.Slice{Base.OneTo{Int64}}, I}} where I<:AbstractUnitRange}}} where {Tv, Ti}</b>) in SparseArrays at <a href=\"https://github.com/JuliaLang/julia/tree/8e630552924eac54c809aa7bc30871c7df1582d3//usr/share/julia/stdlib/v1.9/SparseArrays/src/linalg.jl#L155\" target=\"_blank\">/home/jzhang/julia/usr/share/julia/stdlib/v1.9/SparseArrays/src/linalg.jl:155</a></li> <li> *(A::<b>Union{SparseArrays.AbstractSparseMatrixCSC{TA, Ti}, SubArray{TA, 2, <:SparseArrays.AbstractSparseMatrixCSC{TA, Ti}, Tuple{Base.Slice{Base.OneTo{Int64}}, I}} where I<:AbstractUnitRange} where Ti</b>, B::<b>Union{LinearAlgebra.Adjoint{<:Any, <:Union{LinearAlgebra.LowerTriangular, LinearAlgebra.UnitLowerTriangular, LinearAlgebra.UnitUpperTriangular, LinearAlgebra.UpperTriangular, StridedMatrix, BitMatrix}}, LinearAlgebra.LowerTriangular, LinearAlgebra.Transpose{<:Any, <:Union{LinearAlgebra.LowerTriangular, LinearAlgebra.UnitLowerTriangular, LinearAlgebra.UnitUpperTriangular, LinearAlgebra.UpperTriangular, StridedMatrix, BitMatrix}}, LinearAlgebra.UnitLowerTriangular, LinearAlgebra.UnitUpperTriangular, LinearAlgebra.UpperTriangular, StridedMatrix, BitMatrix}</b>)<i> where TA</i> in SparseArrays at <a href=\"https://github.com/JuliaLang/julia/tree/8e630552924eac54c809aa7bc30871c7df1582d3//usr/share/julia/stdlib/v1.9/SparseArrays/src/linalg.jl#L52\" target=\"_blank\">/home/jzhang/julia/usr/share/julia/stdlib/v1.9/SparseArrays/src/linalg.jl:52</a></li> <li> *(A::<b>Union{LinearAlgebra.LowerTriangular{Tv, <:Union{SparseArrays.AbstractSparseMatrixCSC{Tv, Ti}, SubArray{Tv, 2, <:SparseArrays.AbstractSparseMatrixCSC{Tv, Ti}, Tuple{Base.Slice{Base.OneTo{Int64}}, I}} where I<:AbstractUnitRange}}, LinearAlgebra.UpperTriangular{Tv, <:Union{SparseArrays.AbstractSparseMatrixCSC{Tv, Ti}, SubArray{Tv, 2, <:SparseArrays.AbstractSparseMatrixCSC{Tv, Ti}, Tuple{Base.Slice{Base.OneTo{Int64}}, I}} where I<:AbstractUnitRange}}} where {Tv, Ti}</b>, B::<b>Union{LinearAlgebra.LowerTriangular{Tv, <:Union{SparseArrays.AbstractSparseMatrixCSC{Tv, Ti}, SubArray{Tv, 2, <:SparseArrays.AbstractSparseMatrixCSC{Tv, Ti}, Tuple{Base.Slice{Base.OneTo{Int64}}, I}} where I<:AbstractUnitRange}}, LinearAlgebra.UpperTriangular{Tv, <:Union{SparseArrays.AbstractSparseMatrixCSC{Tv, Ti}, SubArray{Tv, 2, <:SparseArrays.AbstractSparseMatrixCSC{Tv, Ti}, Tuple{Base.Slice{Base.OneTo{Int64}}, I}} where I<:AbstractUnitRange}}} where {Tv, Ti}</b>) in SparseArrays at <a href=\"https://github.com/JuliaLang/julia/tree/8e630552924eac54c809aa7bc30871c7df1582d3//usr/share/julia/stdlib/v1.9/SparseArrays/src/linalg.jl#L156\" target=\"_blank\">/home/jzhang/julia/usr/share/julia/stdlib/v1.9/SparseArrays/src/linalg.jl:156</a></li> <li> *(A::<b>Union{SparseArrays.AbstractSparseMatrixCSC{Tv, Ti}, SubArray{Tv, 2, <:SparseArrays.AbstractSparseMatrixCSC{Tv, Ti}, Tuple{Base.Slice{Base.OneTo{Int64}}, I}} where I<:AbstractUnitRange, LinearAlgebra.LowerTriangular{Tv, <:Union{SparseArrays.AbstractSparseMatrixCSC{Tv, Ti}, SubArray{Tv, 2, <:SparseArrays.AbstractSparseMatrixCSC{Tv, Ti}, Tuple{Base.Slice{Base.OneTo{Int64}}, I}} where I<:AbstractUnitRange}}, LinearAlgebra.UpperTriangular{Tv, <:Union{SparseArrays.AbstractSparseMatrixCSC{Tv, Ti}, SubArray{Tv, 2, <:SparseArrays.AbstractSparseMatrixCSC{Tv, Ti}, Tuple{Base.Slice{Base.OneTo{Int64}}, I}} where I<:AbstractUnitRange}}} where {Tv, Ti}</b>, B::<b>LinearAlgebra.Adjoint{<:Any, <:SparseArrays.AbstractSparseMatrixCSC}</b>) in SparseArrays at <a href=\"https://github.com/JuliaLang/julia/tree/8e630552924eac54c809aa7bc30871c7df1582d3//usr/share/julia/stdlib/v1.9/SparseArrays/src/linalg.jl#L157\" target=\"_blank\">/home/jzhang/julia/usr/share/julia/stdlib/v1.9/SparseArrays/src/linalg.jl:157</a></li> <li> *(X::<b>Union{LinearAlgebra.Adjoint{<:Any, <:Union{LinearAlgebra.LowerTriangular, LinearAlgebra.UnitLowerTriangular, LinearAlgebra.UnitUpperTriangular, LinearAlgebra.UpperTriangular, StridedMatrix, BitMatrix}}, LinearAlgebra.LowerTriangular, LinearAlgebra.Transpose{<:Any, <:Union{LinearAlgebra.LowerTriangular, LinearAlgebra.UnitLowerTriangular, LinearAlgebra.UnitUpperTriangular, LinearAlgebra.UpperTriangular, StridedMatrix, BitMatrix}}, LinearAlgebra.UnitLowerTriangular, LinearAlgebra.UnitUpperTriangular, LinearAlgebra.UpperTriangular, StridedMatrix, BitMatrix}</b>, adjA::<b>LinearAlgebra.Adjoint{<:Any, <:SparseArrays.AbstractSparseMatrixCSC}</b>) in SparseArrays at <a href=\"https://github.com/JuliaLang/julia/tree/8e630552924eac54c809aa7bc30871c7df1582d3//usr/share/julia/stdlib/v1.9/SparseArrays/src/linalg.jl#L139\" target=\"_blank\">/home/jzhang/julia/usr/share/julia/stdlib/v1.9/SparseArrays/src/linalg.jl:139</a></li> <li> *(A::<b>Union{SparseArrays.AbstractSparseMatrixCSC{Tv, Ti}, SubArray{Tv, 2, <:SparseArrays.AbstractSparseMatrixCSC{Tv, Ti}, Tuple{Base.Slice{Base.OneTo{Int64}}, I}} where I<:AbstractUnitRange, LinearAlgebra.LowerTriangular{Tv, <:Union{SparseArrays.AbstractSparseMatrixCSC{Tv, Ti}, SubArray{Tv, 2, <:SparseArrays.AbstractSparseMatrixCSC{Tv, Ti}, Tuple{Base.Slice{Base.OneTo{Int64}}, I}} where I<:AbstractUnitRange}}, LinearAlgebra.UpperTriangular{Tv, <:Union{SparseArrays.AbstractSparseMatrixCSC{Tv, Ti}, SubArray{Tv, 2, <:SparseArrays.AbstractSparseMatrixCSC{Tv, Ti}, Tuple{Base.Slice{Base.OneTo{Int64}}, I}} where I<:AbstractUnitRange}}} where {Tv, Ti}</b>, B::<b>LinearAlgebra.Transpose{<:Any, <:SparseArrays.AbstractSparseMatrixCSC}</b>) in SparseArrays at <a href=\"https://github.com/JuliaLang/julia/tree/8e630552924eac54c809aa7bc30871c7df1582d3//usr/share/julia/stdlib/v1.9/SparseArrays/src/linalg.jl#L158\" target=\"_blank\">/home/jzhang/julia/usr/share/julia/stdlib/v1.9/SparseArrays/src/linalg.jl:158</a></li> <li> *(X::<b>Union{LinearAlgebra.Adjoint{<:Any, <:Union{LinearAlgebra.LowerTriangular, LinearAlgebra.UnitLowerTriangular, LinearAlgebra.UnitUpperTriangular, LinearAlgebra.UpperTriangular, StridedMatrix, BitMatrix}}, LinearAlgebra.LowerTriangular, LinearAlgebra.Transpose{<:Any, <:Union{LinearAlgebra.LowerTriangular, LinearAlgebra.UnitLowerTriangular, LinearAlgebra.UnitUpperTriangular, LinearAlgebra.UpperTriangular, StridedMatrix, BitMatrix}}, LinearAlgebra.UnitLowerTriangular, LinearAlgebra.UnitUpperTriangular, LinearAlgebra.UpperTriangular, StridedMatrix, BitMatrix}</b>, tA::<b>LinearAlgebra.Transpose{<:Any, <:SparseArrays.AbstractSparseMatrixCSC}</b>) in SparseArrays at <a href=\"https://github.com/JuliaLang/julia/tree/8e630552924eac54c809aa7bc30871c7df1582d3//usr/share/julia/stdlib/v1.9/SparseArrays/src/linalg.jl#L141\" target=\"_blank\">/home/jzhang/julia/usr/share/julia/stdlib/v1.9/SparseArrays/src/linalg.jl:141</a></li> <li> *(A::<b>Union{SparseArrays.SparseMatrixCSC{Float64, Ti}, SparseArrays.SparseVector{Float64, Ti}}</b>, B::<b>LinearAlgebra.Symmetric{Float64, SparseArrays.SparseMatrixCSC{Float64, Ti}}</b>)<i> where Ti</i> in SparseArrays.CHOLMOD at <a href=\"https://github.com/JuliaLang/julia/tree/8e630552924eac54c809aa7bc30871c7df1582d3//usr/share/julia/stdlib/v1.9/SparseArrays/src/solvers/cholmod.jl#L1690\" target=\"_blank\">/home/jzhang/julia/usr/share/julia/stdlib/v1.9/SparseArrays/src/solvers/cholmod.jl:1690</a></li> <li> *(A::<b>Union{SparseArrays.SparseMatrixCSC{ComplexF64, Ti}, SparseArrays.SparseVector{ComplexF64, Ti}}</b>, B::<b>LinearAlgebra.Hermitian{ComplexF64, SparseArrays.SparseMatrixCSC{ComplexF64, Ti}}</b>)<i> where Ti</i> in SparseArrays.CHOLMOD at <a href=\"https://github.com/JuliaLang/julia/tree/8e630552924eac54c809aa7bc30871c7df1582d3//usr/share/julia/stdlib/v1.9/SparseArrays/src/solvers/cholmod.jl#L1692\" target=\"_blank\">/home/jzhang/julia/usr/share/julia/stdlib/v1.9/SparseArrays/src/solvers/cholmod.jl:1692</a></li> <li> *(A::<b>Union{SparseArrays.SparseMatrixCSC{Float64, Ti}, SparseArrays.SparseVector{Float64, Ti}}</b>, B::<b>LinearAlgebra.Hermitian{Float64, SparseArrays.SparseMatrixCSC{Float64, Ti}}</b>)<i> where Ti</i> in SparseArrays.CHOLMOD at <a href=\"https://github.com/JuliaLang/julia/tree/8e630552924eac54c809aa7bc30871c7df1582d3//usr/share/julia/stdlib/v1.9/SparseArrays/src/solvers/cholmod.jl#L1694\" target=\"_blank\">/home/jzhang/julia/usr/share/julia/stdlib/v1.9/SparseArrays/src/solvers/cholmod.jl:1694</a></li> <li> *(x::<b>Rational</b>, y::<b>Integer</b>) in Base at <a href=\"https://github.com/JuliaLang/julia/tree/8e630552924eac54c809aa7bc30871c7df1582d3/base/rational.jl#L352\" target=\"_blank\">rational.jl:352</a></li> <li> *(A::<b>LinearAlgebra.LQPackedQ</b>, B::<b>StridedVecOrMat</b>) in LinearAlgebra at <a href=\"https://github.com/JuliaLang/julia/tree/8e630552924eac54c809aa7bc30871c7df1582d3//usr/share/julia/stdlib/v1.9/LinearAlgebra/src/lq.jl#L206\" target=\"_blank\">/home/jzhang/julia/usr/share/julia/stdlib/v1.9/LinearAlgebra/src/lq.jl:206</a></li> <li> *(A::<b>LinearAlgebra.LQPackedQ</b>, adjB::<b>LinearAlgebra.Adjoint{<:Any, <:StridedVecOrMat}</b>) in LinearAlgebra at <a href=\"https://github.com/JuliaLang/julia/tree/8e630552924eac54c809aa7bc30871c7df1582d3//usr/share/julia/stdlib/v1.9/LinearAlgebra/src/lq.jl#L230\" target=\"_blank\">/home/jzhang/julia/usr/share/julia/stdlib/v1.9/LinearAlgebra/src/lq.jl:230</a></li> <li> *(A::<b>LinearAlgebra.LowerTriangular</b>, x::<b>Number</b>) in LinearAlgebra at <a href=\"https://github.com/JuliaLang/julia/tree/8e630552924eac54c809aa7bc30871c7df1582d3//usr/share/julia/stdlib/v1.9/LinearAlgebra/src/triangular.jl#L849\" target=\"_blank\">/home/jzhang/julia/usr/share/julia/stdlib/v1.9/LinearAlgebra/src/triangular.jl:849</a></li> <li> *(A::<b>LinearAlgebra.LowerTriangular</b>, B::<b>LinearAlgebra.LowerTriangular</b>) in LinearAlgebra at <a href=\"https://github.com/JuliaLang/julia/tree/8e630552924eac54c809aa7bc30871c7df1582d3//usr/share/julia/stdlib/v1.9/LinearAlgebra/src/triangular.jl#L1291\" target=\"_blank\">/home/jzhang/julia/usr/share/julia/stdlib/v1.9/LinearAlgebra/src/triangular.jl:1291</a></li> <li> *(A::<b>LinearAlgebra.LowerTriangular</b>, B::<b>LinearAlgebra.UnitLowerTriangular</b>) in LinearAlgebra at <a href=\"https://github.com/JuliaLang/julia/tree/8e630552924eac54c809aa7bc30871c7df1582d3//usr/share/julia/stdlib/v1.9/LinearAlgebra/src/triangular.jl#L1305\" target=\"_blank\">/home/jzhang/julia/usr/share/julia/stdlib/v1.9/LinearAlgebra/src/triangular.jl:1305</a></li> <li> *(A::<b>LinearAlgebra.LowerTriangular</b>, D::<b>LinearAlgebra.Diagonal</b>) in LinearAlgebra at <a href=\"https://github.com/JuliaLang/julia/tree/8e630552924eac54c809aa7bc30871c7df1582d3//usr/share/julia/stdlib/v1.9/LinearAlgebra/src/diagonal.jl#L540\" target=\"_blank\">/home/jzhang/julia/usr/share/julia/stdlib/v1.9/LinearAlgebra/src/diagonal.jl:540</a></li> <li> *(A::<b>AbstractVector</b>, R::<b>LinearAlgebra.AbstractRotation</b>) in LinearAlgebra at <a href=\"https://github.com/JuliaLang/julia/tree/8e630552924eac54c809aa7bc30871c7df1582d3//usr/share/julia/stdlib/v1.9/LinearAlgebra/src/givens.jl#L19\" target=\"_blank\">/home/jzhang/julia/usr/share/julia/stdlib/v1.9/LinearAlgebra/src/givens.jl:19</a></li> <li> *(A::<b>AbstractMatrix</b>, R::<b>LinearAlgebra.AbstractRotation</b>) in LinearAlgebra at <a href=\"https://github.com/JuliaLang/julia/tree/8e630552924eac54c809aa7bc30871c7df1582d3//usr/share/julia/stdlib/v1.9/LinearAlgebra/src/givens.jl#L20\" target=\"_blank\">/home/jzhang/julia/usr/share/julia/stdlib/v1.9/LinearAlgebra/src/givens.jl:20</a></li> <li> *(H::<b>LinearAlgebra.UpperHessenberg</b>, x::<b>Number</b>) in LinearAlgebra at <a href=\"https://github.com/JuliaLang/julia/tree/8e630552924eac54c809aa7bc30871c7df1582d3//usr/share/julia/stdlib/v1.9/LinearAlgebra/src/hessenberg.jl#L119\" target=\"_blank\">/home/jzhang/julia/usr/share/julia/stdlib/v1.9/LinearAlgebra/src/hessenberg.jl:119</a></li> <li> *(H::<b>LinearAlgebra.UpperHessenberg</b>, x::<b>LinearAlgebra.UniformScaling</b>) in LinearAlgebra at <a href=\"https://github.com/JuliaLang/julia/tree/8e630552924eac54c809aa7bc30871c7df1582d3//usr/share/julia/stdlib/v1.9/LinearAlgebra/src/hessenberg.jl#L119\" target=\"_blank\">/home/jzhang/julia/usr/share/julia/stdlib/v1.9/LinearAlgebra/src/hessenberg.jl:119</a></li> <li> *(H::<b>LinearAlgebra.UpperHessenberg</b>, x::<b>LinearAlgebra.Diagonal</b>) in LinearAlgebra at <a href=\"https://github.com/JuliaLang/julia/tree/8e630552924eac54c809aa7bc30871c7df1582d3//usr/share/julia/stdlib/v1.9/LinearAlgebra/src/hessenberg.jl#L119\" target=\"_blank\">/home/jzhang/julia/usr/share/julia/stdlib/v1.9/LinearAlgebra/src/hessenberg.jl:119</a></li> <li> *(H::<b>LinearAlgebra.UpperHessenberg</b>, U::<b>Union{LinearAlgebra.UnitUpperTriangular{T, S} where S<:AbstractMatrix{T}, LinearAlgebra.UpperTriangular{T, S} where S<:AbstractMatrix{T}} where T</b>) in LinearAlgebra at <a href=\"https://github.com/JuliaLang/julia/tree/8e630552924eac54c809aa7bc30871c7df1582d3//usr/share/julia/stdlib/v1.9/LinearAlgebra/src/hessenberg.jl#L126\" target=\"_blank\">/home/jzhang/julia/usr/share/julia/stdlib/v1.9/LinearAlgebra/src/hessenberg.jl:126</a></li> <li> *(H::<b>LinearAlgebra.UpperHessenberg</b>, B::<b>LinearAlgebra.Bidiagonal</b>) in LinearAlgebra at <a href=\"https://github.com/JuliaLang/julia/tree/8e630552924eac54c809aa7bc30871c7df1582d3//usr/share/julia/stdlib/v1.9/LinearAlgebra/src/hessenberg.jl#L165\" target=\"_blank\">/home/jzhang/julia/usr/share/julia/stdlib/v1.9/LinearAlgebra/src/hessenberg.jl:165</a></li> <li> *(A::<b>LinearAlgebra.Tridiagonal</b>, B::<b>Number</b>) in LinearAlgebra at <a href=\"https://github.com/JuliaLang/julia/tree/8e630552924eac54c809aa7bc30871c7df1582d3//usr/share/julia/stdlib/v1.9/LinearAlgebra/src/tridiag.jl#L757\" target=\"_blank\">/home/jzhang/julia/usr/share/julia/stdlib/v1.9/LinearAlgebra/src/tridiag.jl:757</a></li> <li> *(A::<b>LinearAlgebra.SymTridiagonal</b>, B::<b>Number</b>) in LinearAlgebra at <a href=\"https://github.com/JuliaLang/julia/tree/8e630552924eac54c809aa7bc30871c7df1582d3//usr/share/julia/stdlib/v1.9/LinearAlgebra/src/tridiag.jl#L210\" target=\"_blank\">/home/jzhang/julia/usr/share/julia/stdlib/v1.9/LinearAlgebra/src/tridiag.jl:210</a></li> <li> *(A::<b>LinearAlgebra.SymTridiagonal</b>, B::<b>LinearAlgebra.Diagonal</b>) in LinearAlgebra at <a href=\"https://github.com/JuliaLang/julia/tree/8e630552924eac54c809aa7bc30871c7df1582d3//usr/share/julia/stdlib/v1.9/LinearAlgebra/src/bidiag.jl#L686\" target=\"_blank\">/home/jzhang/julia/usr/share/julia/stdlib/v1.9/LinearAlgebra/src/bidiag.jl:686</a></li> <li> *(A::<b>LinearAlgebra.AbstractQ</b>, b::<b>StridedVector{T} where T</b>) in LinearAlgebra at <a href=\"https://github.com/JuliaLang/julia/tree/8e630552924eac54c809aa7bc30871c7df1582d3//usr/share/julia/stdlib/v1.9/LinearAlgebra/src/qr.jl#L656\" target=\"_blank\">/home/jzhang/julia/usr/share/julia/stdlib/v1.9/LinearAlgebra/src/qr.jl:656</a></li> <li> *(A::<b>LinearAlgebra.AbstractQ</b>, B::<b>StridedMatrix{T} where T</b>) in LinearAlgebra at <a href=\"https://github.com/JuliaLang/julia/tree/8e630552924eac54c809aa7bc30871c7df1582d3//usr/share/julia/stdlib/v1.9/LinearAlgebra/src/qr.jl#L668\" target=\"_blank\">/home/jzhang/julia/usr/share/julia/stdlib/v1.9/LinearAlgebra/src/qr.jl:668</a></li> <li> *(A::<b>LinearAlgebra.AbstractQ</b>, b::<b>Number</b>) in LinearAlgebra at <a href=\"https://github.com/JuliaLang/julia/tree/8e630552924eac54c809aa7bc30871c7df1582d3//usr/share/julia/stdlib/v1.9/LinearAlgebra/src/qr.jl#L681\" target=\"_blank\">/home/jzhang/julia/usr/share/julia/stdlib/v1.9/LinearAlgebra/src/qr.jl:681</a></li> <li> *(Q::<b>LinearAlgebra.AbstractQ</b>, adjB::<b>LinearAlgebra.Adjoint{<:Any, <:StridedVecOrMat}</b>) in LinearAlgebra at <a href=\"https://github.com/JuliaLang/julia/tree/8e630552924eac54c809aa7bc30871c7df1582d3//usr/share/julia/stdlib/v1.9/LinearAlgebra/src/qr.jl#L730\" target=\"_blank\">/home/jzhang/julia/usr/share/julia/stdlib/v1.9/LinearAlgebra/src/qr.jl:730</a></li> <li> *(Q::<b>LinearAlgebra.AbstractQ</b>, B::<b>LinearAlgebra.AbstractTriangular</b>) in LinearAlgebra at <a href=\"https://github.com/JuliaLang/julia/tree/8e630552924eac54c809aa7bc30871c7df1582d3//usr/share/julia/stdlib/v1.9/LinearAlgebra/src/special.jl#L309\" target=\"_blank\">/home/jzhang/julia/usr/share/julia/stdlib/v1.9/LinearAlgebra/src/special.jl:309</a></li> <li> *(Q::<b>LinearAlgebra.AbstractQ</b>, B::<b>Union{LinearAlgebra.Bidiagonal, LinearAlgebra.SymTridiagonal, LinearAlgebra.Tridiagonal}</b>) in LinearAlgebra at <a href=\"https://github.com/JuliaLang/julia/tree/8e630552924eac54c809aa7bc30871c7df1582d3//usr/share/julia/stdlib/v1.9/LinearAlgebra/src/special.jl#L311\" target=\"_blank\">/home/jzhang/julia/usr/share/julia/stdlib/v1.9/LinearAlgebra/src/special.jl:311</a></li> <li> *(Q::<b>LinearAlgebra.AbstractQ</b>, B::<b>LinearAlgebra.Diagonal</b>) in LinearAlgebra at <a href=\"https://github.com/JuliaLang/julia/tree/8e630552924eac54c809aa7bc30871c7df1582d3//usr/share/julia/stdlib/v1.9/LinearAlgebra/src/special.jl#L313\" target=\"_blank\">/home/jzhang/julia/usr/share/julia/stdlib/v1.9/LinearAlgebra/src/special.jl:313</a></li> <li> *(Q::<b>LinearAlgebra.AbstractQ</b>, B::<b>LinearAlgebra.AbstractQ</b>) in LinearAlgebra at <a href=\"https://github.com/JuliaLang/julia/tree/8e630552924eac54c809aa7bc30871c7df1582d3//usr/share/julia/stdlib/v1.9/LinearAlgebra/src/special.jl#L343\" target=\"_blank\">/home/jzhang/julia/usr/share/julia/stdlib/v1.9/LinearAlgebra/src/special.jl:343</a></li> <li> *(Q::<b>LinearAlgebra.AbstractQ</b>, B::<b>LinearAlgebra.Adjoint{<:Any, <:LinearAlgebra.AbstractQ}</b>) in LinearAlgebra at <a href=\"https://github.com/JuliaLang/julia/tree/8e630552924eac54c809aa7bc30871c7df1582d3//usr/share/julia/stdlib/v1.9/LinearAlgebra/src/special.jl#L345\" target=\"_blank\">/home/jzhang/julia/usr/share/julia/stdlib/v1.9/LinearAlgebra/src/special.jl:345</a></li> <li> *(G1::<b>LinearAlgebra.Givens{S}</b>, G2::<b>LinearAlgebra.Givens{T}</b>)<i> where {S, T}</i> in LinearAlgebra at <a href=\"https://github.com/JuliaLang/julia/tree/8e630552924eac54c809aa7bc30871c7df1582d3//usr/share/julia/stdlib/v1.9/LinearAlgebra/src/givens.jl#L416\" target=\"_blank\">/home/jzhang/julia/usr/share/julia/stdlib/v1.9/LinearAlgebra/src/givens.jl:416</a></li> <li> *(G::<b>LinearAlgebra.Givens{T}...</b>)<i> where T</i> in LinearAlgebra at <a href=\"https://github.com/JuliaLang/julia/tree/8e630552924eac54c809aa7bc30871c7df1582d3//usr/share/julia/stdlib/v1.9/LinearAlgebra/src/givens.jl#L420\" target=\"_blank\">/home/jzhang/julia/usr/share/julia/stdlib/v1.9/LinearAlgebra/src/givens.jl:420</a></li> <li> *(G::<b>LinearAlgebra.Givens{S}</b>, R::<b>LinearAlgebra.Rotation{T}</b>)<i> where {S, T}</i> in LinearAlgebra at <a href=\"https://github.com/JuliaLang/julia/tree/8e630552924eac54c809aa7bc30871c7df1582d3//usr/share/julia/stdlib/v1.9/LinearAlgebra/src/givens.jl#L421\" target=\"_blank\">/home/jzhang/julia/usr/share/julia/stdlib/v1.9/LinearAlgebra/src/givens.jl:421</a></li> <li> *(a::<b>Number</b>, x::<b>Union{SparseArrays.AbstractCompressedVector{Tv, Ti}, SubArray{Tv, 1, <:SparseArrays.AbstractSparseMatrixCSC{Tv, Ti}, Tuple{Base.Slice{Base.OneTo{Int64}}, Int64}, false}, SubArray{Tv, 1, <:SparseArrays.AbstractSparseVector{Tv, Ti}, Tuple{Base.Slice{Base.OneTo{Int64}}}, false}} where {Tv, Ti}</b>) in SparseArrays at <a href=\"https://github.com/JuliaLang/julia/tree/8e630552924eac54c809aa7bc30871c7df1582d3//usr/share/julia/stdlib/v1.9/SparseArrays/src/sparsevector.jl#L1652\" target=\"_blank\">/home/jzhang/julia/usr/share/julia/stdlib/v1.9/SparseArrays/src/sparsevector.jl:1652</a></li> <li> *(v::<b>Number</b>, x::<b>Base.TwicePrecision</b>) in Base at <a href=\"https://github.com/JuliaLang/julia/tree/8e630552924eac54c809aa7bc30871c7df1582d3/base/twiceprecision.jl#L317\" target=\"_blank\">twiceprecision.jl:317</a></li> <li> *(x::<b>Number</b>, A::<b>LinearAlgebra.UpperTriangular</b>) in LinearAlgebra at <a href=\"https://github.com/JuliaLang/julia/tree/8e630552924eac54c809aa7bc30871c7df1582d3//usr/share/julia/stdlib/v1.9/LinearAlgebra/src/triangular.jl#L859\" target=\"_blank\">/home/jzhang/julia/usr/share/julia/stdlib/v1.9/LinearAlgebra/src/triangular.jl:859</a></li> <li> *(x::<b>Number</b>, A::<b>LinearAlgebra.LowerTriangular</b>) in LinearAlgebra at <a href=\"https://github.com/JuliaLang/julia/tree/8e630552924eac54c809aa7bc30871c7df1582d3//usr/share/julia/stdlib/v1.9/LinearAlgebra/src/triangular.jl#L859\" target=\"_blank\">/home/jzhang/julia/usr/share/julia/stdlib/v1.9/LinearAlgebra/src/triangular.jl:859</a></li> <li> *(x::<b>Number</b>, H::<b>LinearAlgebra.UpperHessenberg</b>) in LinearAlgebra at <a href=\"https://github.com/JuliaLang/julia/tree/8e630552924eac54c809aa7bc30871c7df1582d3//usr/share/julia/stdlib/v1.9/LinearAlgebra/src/hessenberg.jl#L120\" target=\"_blank\">/home/jzhang/julia/usr/share/julia/stdlib/v1.9/LinearAlgebra/src/hessenberg.jl:120</a></li> <li> *(B::<b>Number</b>, A::<b>LinearAlgebra.Bidiagonal</b>) in LinearAlgebra at <a href=\"https://github.com/JuliaLang/julia/tree/8e630552924eac54c809aa7bc30871c7df1582d3//usr/share/julia/stdlib/v1.9/LinearAlgebra/src/bidiag.jl#L394\" target=\"_blank\">/home/jzhang/julia/usr/share/julia/stdlib/v1.9/LinearAlgebra/src/bidiag.jl:394</a></li> <li> *(B::<b>Number</b>, A::<b>LinearAlgebra.Tridiagonal</b>) in LinearAlgebra at <a href=\"https://github.com/JuliaLang/julia/tree/8e630552924eac54c809aa7bc30871c7df1582d3//usr/share/julia/stdlib/v1.9/LinearAlgebra/src/tridiag.jl#L758\" target=\"_blank\">/home/jzhang/julia/usr/share/julia/stdlib/v1.9/LinearAlgebra/src/tridiag.jl:758</a></li> <li> *(B::<b>Number</b>, A::<b>LinearAlgebra.SymTridiagonal</b>) in LinearAlgebra at <a href=\"https://github.com/JuliaLang/julia/tree/8e630552924eac54c809aa7bc30871c7df1582d3//usr/share/julia/stdlib/v1.9/LinearAlgebra/src/tridiag.jl#L211\" target=\"_blank\">/home/jzhang/julia/usr/share/julia/stdlib/v1.9/LinearAlgebra/src/tridiag.jl:211</a></li> <li> *(a::<b>Number</b>, B::<b>LinearAlgebra.AbstractQ</b>) in LinearAlgebra at <a href=\"https://github.com/JuliaLang/julia/tree/8e630552924eac54c809aa7bc30871c7df1582d3//usr/share/julia/stdlib/v1.9/LinearAlgebra/src/qr.jl#L781\" target=\"_blank\">/home/jzhang/julia/usr/share/julia/stdlib/v1.9/LinearAlgebra/src/qr.jl:781</a></li> <li> *(x::<b>S</b>, F::<b>LinearAlgebra.Hessenberg{<:Any, <:AbstractMatrix{T}}</b>)<i> where {T, S<:Number}</i> in LinearAlgebra at <a href=\"https://github.com/JuliaLang/julia/tree/8e630552924eac54c809aa7bc30871c7df1582d3//usr/share/julia/stdlib/v1.9/LinearAlgebra/src/hessenberg.jl#L636\" target=\"_blank\">/home/jzhang/julia/usr/share/julia/stdlib/v1.9/LinearAlgebra/src/hessenberg.jl:636</a></li> <li> *(x::<b>Number</b>, D::<b>LinearAlgebra.Diagonal</b>) in LinearAlgebra at <a href=\"https://github.com/JuliaLang/julia/tree/8e630552924eac54c809aa7bc30871c7df1582d3//usr/share/julia/stdlib/v1.9/LinearAlgebra/src/diagonal.jl#L202\" target=\"_blank\">/home/jzhang/julia/usr/share/julia/stdlib/v1.9/LinearAlgebra/src/diagonal.jl:202</a></li> <li> *(x::<b>Number</b>, A::<b>LinearAlgebra.UnitUpperTriangular</b>) in LinearAlgebra at <a href=\"https://github.com/JuliaLang/julia/tree/8e630552924eac54c809aa7bc30871c7df1582d3//usr/share/julia/stdlib/v1.9/LinearAlgebra/src/triangular.jl#L861\" target=\"_blank\">/home/jzhang/julia/usr/share/julia/stdlib/v1.9/LinearAlgebra/src/triangular.jl:861</a></li> <li> *(x::<b>Number</b>, A::<b>LinearAlgebra.UnitLowerTriangular</b>) in LinearAlgebra at <a href=\"https://github.com/JuliaLang/julia/tree/8e630552924eac54c809aa7bc30871c7df1582d3//usr/share/julia/stdlib/v1.9/LinearAlgebra/src/triangular.jl#L861\" target=\"_blank\">/home/jzhang/julia/usr/share/julia/stdlib/v1.9/LinearAlgebra/src/triangular.jl:861</a></li> <li> *(x::<b>Number</b>, J::<b>LinearAlgebra.UniformScaling</b>) in LinearAlgebra at <a href=\"https://github.com/JuliaLang/julia/tree/8e630552924eac54c809aa7bc30871c7df1582d3//usr/share/julia/stdlib/v1.9/LinearAlgebra/src/uniformscaling.jl#L263\" target=\"_blank\">/home/jzhang/julia/usr/share/julia/stdlib/v1.9/LinearAlgebra/src/uniformscaling.jl:263</a></li> <li> *(x::<b>Number</b>, A::<b>LinearAlgebra.Symmetric</b>) in LinearAlgebra at <a href=\"https://github.com/JuliaLang/julia/tree/8e630552924eac54c809aa7bc30871c7df1582d3//usr/share/julia/stdlib/v1.9/LinearAlgebra/src/symmetric.jl#L605\" target=\"_blank\">/home/jzhang/julia/usr/share/julia/stdlib/v1.9/LinearAlgebra/src/symmetric.jl:605</a></li> <li> *(::<b>Number</b>, ::<b>Missing</b>) in Base at <a href=\"https://github.com/JuliaLang/julia/tree/8e630552924eac54c809aa7bc30871c7df1582d3/base/missing.jl#L124\" target=\"_blank\">missing.jl:124</a></li> <li> *(x::<b>Base.TwicePrecision{<:Union{Float16, Float32, Float64}}</b>, v::<b>Integer</b>) in Base at <a href=\"https://github.com/JuliaLang/julia/tree/8e630552924eac54c809aa7bc30871c7df1582d3/base/twiceprecision.jl#L311\" target=\"_blank\">twiceprecision.jl:311</a></li> <li> *(x::<b>Base.TwicePrecision</b>, v::<b>Number</b>) in Base at <a href=\"https://github.com/JuliaLang/julia/tree/8e630552924eac54c809aa7bc30871c7df1582d3/base/twiceprecision.jl#L307\" target=\"_blank\">twiceprecision.jl:307</a></li> <li> *(x::<b>Base.TwicePrecision{T}</b>, y::<b>Base.TwicePrecision{T}</b>)<i> where T</i> in Base at <a href=\"https://github.com/JuliaLang/julia/tree/8e630552924eac54c809aa7bc30871c7df1582d3/base/twiceprecision.jl#L319\" target=\"_blank\">twiceprecision.jl:319</a></li> <li> *(x::<b>Base.TwicePrecision</b>, y::<b>Base.TwicePrecision</b>) in Base at <a href=\"https://github.com/JuliaLang/julia/tree/8e630552924eac54c809aa7bc30871c7df1582d3/base/twiceprecision.jl#L324\" target=\"_blank\">twiceprecision.jl:324</a></li> <li> *(A::<b>LinearAlgebra.UpperTriangular</b>, x::<b>Number</b>) in LinearAlgebra at <a href=\"https://github.com/JuliaLang/julia/tree/8e630552924eac54c809aa7bc30871c7df1582d3//usr/share/julia/stdlib/v1.9/LinearAlgebra/src/triangular.jl#L849\" target=\"_blank\">/home/jzhang/julia/usr/share/julia/stdlib/v1.9/LinearAlgebra/src/triangular.jl:849</a></li> <li> *(A::<b>LinearAlgebra.UpperTriangular</b>, B::<b>LinearAlgebra.UpperTriangular</b>) in LinearAlgebra at <a href=\"https://github.com/JuliaLang/julia/tree/8e630552924eac54c809aa7bc30871c7df1582d3//usr/share/julia/stdlib/v1.9/LinearAlgebra/src/triangular.jl#L1319\" target=\"_blank\">/home/jzhang/julia/usr/share/julia/stdlib/v1.9/LinearAlgebra/src/triangular.jl:1319</a></li> <li> *(A::<b>LinearAlgebra.UpperTriangular</b>, B::<b>LinearAlgebra.UnitUpperTriangular</b>) in LinearAlgebra at <a href=\"https://github.com/JuliaLang/julia/tree/8e630552924eac54c809aa7bc30871c7df1582d3//usr/share/julia/stdlib/v1.9/LinearAlgebra/src/triangular.jl#L1333\" target=\"_blank\">/home/jzhang/julia/usr/share/julia/stdlib/v1.9/LinearAlgebra/src/triangular.jl:1333</a></li> <li> *(A::<b>LinearAlgebra.UpperTriangular</b>, D::<b>LinearAlgebra.Diagonal</b>) in LinearAlgebra at <a href=\"https://github.com/JuliaLang/julia/tree/8e630552924eac54c809aa7bc30871c7df1582d3//usr/share/julia/stdlib/v1.9/LinearAlgebra/src/diagonal.jl#L540\" target=\"_blank\">/home/jzhang/julia/usr/share/julia/stdlib/v1.9/LinearAlgebra/src/diagonal.jl:540</a></li> <li> *(R::<b>LinearAlgebra.AbstractRotation</b>, A::<b>AbstractVector</b>) in LinearAlgebra at <a href=\"https://github.com/JuliaLang/julia/tree/8e630552924eac54c809aa7bc30871c7df1582d3//usr/share/julia/stdlib/v1.9/LinearAlgebra/src/givens.jl#L12\" target=\"_blank\">/home/jzhang/julia/usr/share/julia/stdlib/v1.9/LinearAlgebra/src/givens.jl:12</a></li> <li> *(R::<b>LinearAlgebra.AbstractRotation</b>, A::<b>AbstractMatrix</b>) in LinearAlgebra at <a href=\"https://github.com/JuliaLang/julia/tree/8e630552924eac54c809aa7bc30871c7df1582d3//usr/share/julia/stdlib/v1.9/LinearAlgebra/src/givens.jl#L13\" target=\"_blank\">/home/jzhang/julia/usr/share/julia/stdlib/v1.9/LinearAlgebra/src/givens.jl:13</a></li> <li> *(A::<b>LinearAlgebra.AbstractTriangular</b>, Q::<b>LinearAlgebra.AbstractQ</b>) in LinearAlgebra at <a href=\"https://github.com/JuliaLang/julia/tree/8e630552924eac54c809aa7bc30871c7df1582d3//usr/share/julia/stdlib/v1.9/LinearAlgebra/src/special.jl#L336\" target=\"_blank\">/home/jzhang/julia/usr/share/julia/stdlib/v1.9/LinearAlgebra/src/special.jl:336</a></li> <li> *(A::<b>LinearAlgebra.AbstractTriangular</b>, Q::<b>LinearAlgebra.Adjoint{<:Any, <:LinearAlgebra.AbstractQ}</b>) in LinearAlgebra at <a href=\"https://github.com/JuliaLang/julia/tree/8e630552924eac54c809aa7bc30871c7df1582d3//usr/share/julia/stdlib/v1.9/LinearAlgebra/src/special.jl#L337\" target=\"_blank\">/home/jzhang/julia/usr/share/julia/stdlib/v1.9/LinearAlgebra/src/special.jl:337</a></li> <li> *(A::<b>LinearAlgebra.UnitLowerTriangular</b>, x::<b>Number</b>) in LinearAlgebra at <a href=\"https://github.com/JuliaLang/julia/tree/8e630552924eac54c809aa7bc30871c7df1582d3//usr/share/julia/stdlib/v1.9/LinearAlgebra/src/triangular.jl#L851\" target=\"_blank\">/home/jzhang/julia/usr/share/julia/stdlib/v1.9/LinearAlgebra/src/triangular.jl:851</a></li> <li> *(A::<b>LinearAlgebra.UnitLowerTriangular</b>, B::<b>LinearAlgebra.LowerTriangular</b>) in LinearAlgebra at <a href=\"https://github.com/JuliaLang/julia/tree/8e630552924eac54c809aa7bc30871c7df1582d3//usr/share/julia/stdlib/v1.9/LinearAlgebra/src/triangular.jl#L1298\" target=\"_blank\">/home/jzhang/julia/usr/share/julia/stdlib/v1.9/LinearAlgebra/src/triangular.jl:1298</a></li> <li> *(A::<b>LinearAlgebra.UnitLowerTriangular</b>, B::<b>LinearAlgebra.UnitLowerTriangular</b>) in LinearAlgebra at <a href=\"https://github.com/JuliaLang/julia/tree/8e630552924eac54c809aa7bc30871c7df1582d3//usr/share/julia/stdlib/v1.9/LinearAlgebra/src/triangular.jl#L1312\" target=\"_blank\">/home/jzhang/julia/usr/share/julia/stdlib/v1.9/LinearAlgebra/src/triangular.jl:1312</a></li> <li> *(A::<b>LinearAlgebra.UnitLowerTriangular</b>, D::<b>LinearAlgebra.Diagonal</b>) in LinearAlgebra at <a href=\"https://github.com/JuliaLang/julia/tree/8e630552924eac54c809aa7bc30871c7df1582d3//usr/share/julia/stdlib/v1.9/LinearAlgebra/src/diagonal.jl#L541\" target=\"_blank\">/home/jzhang/julia/usr/share/julia/stdlib/v1.9/LinearAlgebra/src/diagonal.jl:541</a></li> <li> *(r::<b>StepRangeLen{<:Real, <:Base.TwicePrecision}</b>, x::<b>Real</b>) in Base at <a href=\"https://github.com/JuliaLang/julia/tree/8e630552924eac54c809aa7bc30871c7df1582d3/base/twiceprecision.jl#L538\" target=\"_blank\">twiceprecision.jl:538</a></li> <li> *(Q::<b>SparseArrays.SPQR.QRSparseQ</b>, B::<b>SparseArrays.SparseMatrixCSC</b>) in SparseArrays.SPQR at <a href=\"https://github.com/JuliaLang/julia/tree/8e630552924eac54c809aa7bc30871c7df1582d3//usr/share/julia/stdlib/v1.9/SparseArrays/src/solvers/spqr.jl#L287\" target=\"_blank\">/home/jzhang/julia/usr/share/julia/stdlib/v1.9/SparseArrays/src/solvers/spqr.jl:287</a></li> <li> *(A::<b>SparseArrays.SparseMatrixCSC</b>, Q::<b>SparseArrays.SPQR.QRSparseQ</b>) in SparseArrays.SPQR at <a href=\"https://github.com/JuliaLang/julia/tree/8e630552924eac54c809aa7bc30871c7df1582d3//usr/share/julia/stdlib/v1.9/SparseArrays/src/solvers/spqr.jl#L288\" target=\"_blank\">/home/jzhang/julia/usr/share/julia/stdlib/v1.9/SparseArrays/src/solvers/spqr.jl:288</a></li> <li> *(A::<b>SparseArrays.AbstractSparseMatrixCSC</b>, x::<b>SparseArrays.AbstractSparseVector</b>) in SparseArrays at <a href=\"https://github.com/JuliaLang/julia/tree/8e630552924eac54c809aa7bc30871c7df1582d3//usr/share/julia/stdlib/v1.9/SparseArrays/src/sparsevector.jl#L1946\" target=\"_blank\">/home/jzhang/julia/usr/share/julia/stdlib/v1.9/SparseArrays/src/sparsevector.jl:1946</a></li> <li> *(A::<b>Union{SparseArrays.AbstractSparseMatrixCSC{Tv, Ti}, SubArray{Tv, 2, <:SparseArrays.AbstractSparseMatrixCSC{Tv, Ti}, Tuple{Base.Slice{Base.OneTo{Int64}}, I}} where I<:AbstractUnitRange, LinearAlgebra.LowerTriangular{Tv, <:Union{SparseArrays.AbstractSparseMatrixCSC{Tv, Ti}, SubArray{Tv, 2, <:SparseArrays.AbstractSparseMatrixCSC{Tv, Ti}, Tuple{Base.Slice{Base.OneTo{Int64}}, I}} where I<:AbstractUnitRange}}, LinearAlgebra.UpperTriangular{Tv, <:Union{SparseArrays.AbstractSparseMatrixCSC{Tv, Ti}, SubArray{Tv, 2, <:SparseArrays.AbstractSparseMatrixCSC{Tv, Ti}, Tuple{Base.Slice{Base.OneTo{Int64}}, I}} where I<:AbstractUnitRange}}} where {Tv, Ti}</b>, B::<b>SparseArrays.AbstractSparseVector</b>) in SparseArrays at <a href=\"https://github.com/JuliaLang/julia/tree/8e630552924eac54c809aa7bc30871c7df1582d3//usr/share/julia/stdlib/v1.9/SparseArrays/src/linalg.jl#L150\" target=\"_blank\">/home/jzhang/julia/usr/share/julia/stdlib/v1.9/SparseArrays/src/linalg.jl:150</a></li> <li> *(A::<b>Union{LinearAlgebra.LowerTriangular{Ta, S} where S<:AbstractMatrix{Ta}, LinearAlgebra.UnitLowerTriangular{Ta, S} where S<:AbstractMatrix{Ta}, LinearAlgebra.UnitUpperTriangular{Ta, S} where S<:AbstractMatrix{Ta}, LinearAlgebra.UpperTriangular{Ta, S} where S<:AbstractMatrix{Ta}, StridedArray{Ta, 2}}</b>, x::<b>SparseArrays.AbstractSparseVector{Tx}</b>)<i> where {Ta, Tx}</i> in SparseArrays at <a href=\"https://github.com/JuliaLang/julia/tree/8e630552924eac54c809aa7bc30871c7df1582d3//usr/share/julia/stdlib/v1.9/SparseArrays/src/sparsevector.jl#L1740\" target=\"_blank\">/home/jzhang/julia/usr/share/julia/stdlib/v1.9/SparseArrays/src/sparsevector.jl:1740</a></li> <li> *(A::<b>LinearAlgebra.Bidiagonal</b>, B::<b>Number</b>) in LinearAlgebra at <a href=\"https://github.com/JuliaLang/julia/tree/8e630552924eac54c809aa7bc30871c7df1582d3//usr/share/julia/stdlib/v1.9/LinearAlgebra/src/bidiag.jl#L393\" target=\"_blank\">/home/jzhang/julia/usr/share/julia/stdlib/v1.9/LinearAlgebra/src/bidiag.jl:393</a></li> <li> *(A::<b>LinearAlgebra.Bidiagonal</b>, B::<b>Union{LinearAlgebra.UnitUpperTriangular{T, S} where S<:AbstractMatrix{T}, LinearAlgebra.UpperTriangular{T, S} where S<:AbstractMatrix{T}} where T</b>) in LinearAlgebra at <a href=\"https://github.com/JuliaLang/julia/tree/8e630552924eac54c809aa7bc30871c7df1582d3//usr/share/julia/stdlib/v1.9/LinearAlgebra/src/bidiag.jl#L659\" target=\"_blank\">/home/jzhang/julia/usr/share/julia/stdlib/v1.9/LinearAlgebra/src/bidiag.jl:659</a></li> <li> *(A::<b>LinearAlgebra.Bidiagonal</b>, B::<b>Union{LinearAlgebra.LowerTriangular{T, S} where S<:AbstractMatrix{T}, LinearAlgebra.UnitLowerTriangular{T, S} where S<:AbstractMatrix{T}} where T</b>) in LinearAlgebra at <a href=\"https://github.com/JuliaLang/julia/tree/8e630552924eac54c809aa7bc30871c7df1582d3//usr/share/julia/stdlib/v1.9/LinearAlgebra/src/bidiag.jl#L665\" target=\"_blank\">/home/jzhang/julia/usr/share/julia/stdlib/v1.9/LinearAlgebra/src/bidiag.jl:665</a></li> <li> *(B::<b>LinearAlgebra.Bidiagonal</b>, H::<b>LinearAlgebra.UpperHessenberg</b>) in LinearAlgebra at <a href=\"https://github.com/JuliaLang/julia/tree/8e630552924eac54c809aa7bc30871c7df1582d3//usr/share/julia/stdlib/v1.9/LinearAlgebra/src/hessenberg.jl#L170\" target=\"_blank\">/home/jzhang/julia/usr/share/julia/stdlib/v1.9/LinearAlgebra/src/hessenberg.jl:170</a></li> <li> *(A::<b>LinearAlgebra.Symmetric</b>, x::<b>Number</b>) in LinearAlgebra at <a href=\"https://github.com/JuliaLang/julia/tree/8e630552924eac54c809aa7bc30871c7df1582d3//usr/share/julia/stdlib/v1.9/LinearAlgebra/src/symmetric.jl#L604\" target=\"_blank\">/home/jzhang/julia/usr/share/julia/stdlib/v1.9/LinearAlgebra/src/symmetric.jl:604</a></li> <li> *(A::<b>LinearAlgebra.Symmetric{Float64, SparseArrays.SparseMatrixCSC{Float64, Ti}}</b>, B::<b>Union{SparseArrays.SparseMatrixCSC{Float64, Ti}, SparseArrays.SparseVector{Float64, Ti}}</b>)<i> where Ti</i> in SparseArrays.CHOLMOD at <a href=\"https://github.com/JuliaLang/julia/tree/8e630552924eac54c809aa7bc30871c7df1582d3//usr/share/julia/stdlib/v1.9/SparseArrays/src/solvers/cholmod.jl#L1683\" target=\"_blank\">/home/jzhang/julia/usr/share/julia/stdlib/v1.9/SparseArrays/src/solvers/cholmod.jl:1683</a></li> <li> *(index::<b>CartesianIndex</b>, a::<b>Integer</b>) in Base.IteratorsMD at <a href=\"https://github.com/JuliaLang/julia/tree/8e630552924eac54c809aa7bc30871c7df1582d3/base/multidimensional.jl#L121\" target=\"_blank\">multidimensional.jl:121</a></li> <li> *(y::<b>Integer</b>, x::<b>Rational</b>) in Base at <a href=\"https://github.com/JuliaLang/julia/tree/8e630552924eac54c809aa7bc30871c7df1582d3/base/rational.jl#L356\" target=\"_blank\">rational.jl:356</a></li> <li> *(a::<b>Integer</b>, index::<b>CartesianIndex{N}</b>)<i> where N</i> in Base.IteratorsMD at <a href=\"https://github.com/JuliaLang/julia/tree/8e630552924eac54c809aa7bc30871c7df1582d3/base/multidimensional.jl#L120\" target=\"_blank\">multidimensional.jl:120</a></li> <li> *(r::<b>AbstractRange{<:Real}</b>, x::<b>Dates.Period</b>) in Dates at <a href=\"https://github.com/JuliaLang/julia/tree/8e630552924eac54c809aa7bc30871c7df1582d3//usr/share/julia/stdlib/v1.9/Dates/src/ranges.jl#L68\" target=\"_blank\">/home/jzhang/julia/usr/share/julia/stdlib/v1.9/Dates/src/ranges.jl:68</a></li> <li> *(A::<b>AbstractArray</b>, B::<b>Dates.Period</b>) in Dates at <a href=\"https://github.com/JuliaLang/julia/tree/8e630552924eac54c809aa7bc30871c7df1582d3//usr/share/julia/stdlib/v1.9/Dates/src/periods.jl#L94\" target=\"_blank\">/home/jzhang/julia/usr/share/julia/stdlib/v1.9/Dates/src/periods.jl:94</a></li> <li> *(F::<b>LinearAlgebra.Hessenberg{<:Any, <:AbstractMatrix{T}}</b>, x::<b>S</b>)<i> where {T, S<:Number}</i> in LinearAlgebra at <a href=\"https://github.com/JuliaLang/julia/tree/8e630552924eac54c809aa7bc30871c7df1582d3//usr/share/julia/stdlib/v1.9/LinearAlgebra/src/hessenberg.jl#L628\" target=\"_blank\">/home/jzhang/julia/usr/share/julia/stdlib/v1.9/LinearAlgebra/src/hessenberg.jl:628</a></li> <li> *(A::<b>LinearAlgebra.Diagonal</b>, B::<b>Union{LinearAlgebra.Bidiagonal, LinearAlgebra.Tridiagonal}</b>) in LinearAlgebra at <a href=\"https://github.com/JuliaLang/julia/tree/8e630552924eac54c809aa7bc30871c7df1582d3//usr/share/julia/stdlib/v1.9/LinearAlgebra/src/bidiag.jl#L676\" target=\"_blank\">/home/jzhang/julia/usr/share/julia/stdlib/v1.9/LinearAlgebra/src/bidiag.jl:676</a></li> <li> *(D::<b>LinearAlgebra.Diagonal</b>, A::<b>LinearAlgebra.UpperTriangular</b>) in LinearAlgebra at <a href=\"https://github.com/JuliaLang/julia/tree/8e630552924eac54c809aa7bc30871c7df1582d3//usr/share/julia/stdlib/v1.9/LinearAlgebra/src/diagonal.jl#L544\" target=\"_blank\">/home/jzhang/julia/usr/share/julia/stdlib/v1.9/LinearAlgebra/src/diagonal.jl:544</a></li> <li> *(D::<b>LinearAlgebra.Diagonal</b>, A::<b>LinearAlgebra.LowerTriangular</b>) in LinearAlgebra at <a href=\"https://github.com/JuliaLang/julia/tree/8e630552924eac54c809aa7bc30871c7df1582d3//usr/share/julia/stdlib/v1.9/LinearAlgebra/src/diagonal.jl#L544\" target=\"_blank\">/home/jzhang/julia/usr/share/julia/stdlib/v1.9/LinearAlgebra/src/diagonal.jl:544</a></li> <li> *(A::<b>LinearAlgebra.Diagonal</b>, Q::<b>LinearAlgebra.AbstractQ</b>) in LinearAlgebra at <a href=\"https://github.com/JuliaLang/julia/tree/8e630552924eac54c809aa7bc30871c7df1582d3//usr/share/julia/stdlib/v1.9/LinearAlgebra/src/special.jl#L340\" target=\"_blank\">/home/jzhang/julia/usr/share/julia/stdlib/v1.9/LinearAlgebra/src/special.jl:340</a></li> <li> *(x::<b>LinearAlgebra.Diagonal</b>, H::<b>LinearAlgebra.UpperHessenberg</b>) in LinearAlgebra at <a href=\"https://github.com/JuliaLang/julia/tree/8e630552924eac54c809aa7bc30871c7df1582d3//usr/share/julia/stdlib/v1.9/LinearAlgebra/src/hessenberg.jl#L120\" target=\"_blank\">/home/jzhang/julia/usr/share/julia/stdlib/v1.9/LinearAlgebra/src/hessenberg.jl:120</a></li> <li> *(A::<b>LinearAlgebra.Diagonal</b>, B::<b>LinearAlgebra.SymTridiagonal</b>) in LinearAlgebra at <a href=\"https://github.com/JuliaLang/julia/tree/8e630552924eac54c809aa7bc30871c7df1582d3//usr/share/julia/stdlib/v1.9/LinearAlgebra/src/bidiag.jl#L681\" target=\"_blank\">/home/jzhang/julia/usr/share/julia/stdlib/v1.9/LinearAlgebra/src/bidiag.jl:681</a></li> <li> *(D::<b>LinearAlgebra.Diagonal</b>, x::<b>Number</b>) in LinearAlgebra at <a href=\"https://github.com/JuliaLang/julia/tree/8e630552924eac54c809aa7bc30871c7df1582d3//usr/share/julia/stdlib/v1.9/LinearAlgebra/src/diagonal.jl#L203\" target=\"_blank\">/home/jzhang/julia/usr/share/julia/stdlib/v1.9/LinearAlgebra/src/diagonal.jl:203</a></li> <li> *(Da::<b>LinearAlgebra.Diagonal</b>, Db::<b>LinearAlgebra.Diagonal</b>) in LinearAlgebra at <a href=\"https://github.com/JuliaLang/julia/tree/8e630552924eac54c809aa7bc30871c7df1582d3//usr/share/julia/stdlib/v1.9/LinearAlgebra/src/diagonal.jl#L237\" target=\"_blank\">/home/jzhang/julia/usr/share/julia/stdlib/v1.9/LinearAlgebra/src/diagonal.jl:237</a></li> <li> *(Da::<b>LinearAlgebra.Diagonal</b>, Db::<b>LinearAlgebra.Diagonal</b>, Dc::<b>LinearAlgebra.Diagonal</b>) in LinearAlgebra at <a href=\"https://github.com/JuliaLang/julia/tree/8e630552924eac54c809aa7bc30871c7df1582d3//usr/share/julia/stdlib/v1.9/LinearAlgebra/src/diagonal.jl#L358\" target=\"_blank\">/home/jzhang/julia/usr/share/julia/stdlib/v1.9/LinearAlgebra/src/diagonal.jl:358</a></li> <li> *(D::<b>LinearAlgebra.Diagonal</b>, adjQ::<b>LinearAlgebra.Adjoint{<:Any, <:Union{LinearAlgebra.QRCompactWYQ, LinearAlgebra.QRPackedQ}}</b>) in LinearAlgebra at <a href=\"https://github.com/JuliaLang/julia/tree/8e630552924eac54c809aa7bc30871c7df1582d3//usr/share/julia/stdlib/v1.9/LinearAlgebra/src/diagonal.jl#L260\" target=\"_blank\">/home/jzhang/julia/usr/share/julia/stdlib/v1.9/LinearAlgebra/src/diagonal.jl:260</a></li> <li> *(A::<b>LinearAlgebra.Diagonal</b>, Q::<b>LinearAlgebra.Adjoint{<:Any, <:LinearAlgebra.AbstractQ}</b>) in LinearAlgebra at <a href=\"https://github.com/JuliaLang/julia/tree/8e630552924eac54c809aa7bc30871c7df1582d3//usr/share/julia/stdlib/v1.9/LinearAlgebra/src/special.jl#L341\" target=\"_blank\">/home/jzhang/julia/usr/share/julia/stdlib/v1.9/LinearAlgebra/src/special.jl:341</a></li> <li> *(D::<b>LinearAlgebra.Diagonal</b>, A::<b>Union{LinearAlgebra.Adjoint{T, var\"#s970\"}, LinearAlgebra.Transpose{T, var\"#s970\"}} where {T, var\"#s970\"<:(AbstractMatrix)}</b>) in LinearAlgebra at <a href=\"https://github.com/JuliaLang/julia/tree/8e630552924eac54c809aa7bc30871c7df1582d3//usr/share/julia/stdlib/v1.9/LinearAlgebra/src/diagonal.jl#L263\" target=\"_blank\">/home/jzhang/julia/usr/share/julia/stdlib/v1.9/LinearAlgebra/src/diagonal.jl:263</a></li> <li> *(D::<b>LinearAlgebra.Diagonal</b>, A::<b>LinearAlgebra.UnitUpperTriangular</b>) in LinearAlgebra at <a href=\"https://github.com/JuliaLang/julia/tree/8e630552924eac54c809aa7bc30871c7df1582d3//usr/share/julia/stdlib/v1.9/LinearAlgebra/src/diagonal.jl#L545\" target=\"_blank\">/home/jzhang/julia/usr/share/julia/stdlib/v1.9/LinearAlgebra/src/diagonal.jl:545</a></li> <li> *(D::<b>LinearAlgebra.Diagonal</b>, A::<b>LinearAlgebra.UnitLowerTriangular</b>) in LinearAlgebra at <a href=\"https://github.com/JuliaLang/julia/tree/8e630552924eac54c809aa7bc30871c7df1582d3//usr/share/julia/stdlib/v1.9/LinearAlgebra/src/diagonal.jl#L545\" target=\"_blank\">/home/jzhang/julia/usr/share/julia/stdlib/v1.9/LinearAlgebra/src/diagonal.jl:545</a></li> <li> *(D::<b>LinearAlgebra.Diagonal</b>, A::<b>LinearAlgebra.AbstractTriangular</b>) in LinearAlgebra at <a href=\"https://github.com/JuliaLang/julia/tree/8e630552924eac54c809aa7bc30871c7df1582d3//usr/share/julia/stdlib/v1.9/LinearAlgebra/src/diagonal.jl#L801\" target=\"_blank\">/home/jzhang/julia/usr/share/julia/stdlib/v1.9/LinearAlgebra/src/diagonal.jl:801</a></li> <li> *(D::<b>LinearAlgebra.Diagonal</b>, A::<b>AbstractMatrix</b>) in LinearAlgebra at <a href=\"https://github.com/JuliaLang/julia/tree/8e630552924eac54c809aa7bc30871c7df1582d3//usr/share/julia/stdlib/v1.9/LinearAlgebra/src/diagonal.jl#L249\" target=\"_blank\">/home/jzhang/julia/usr/share/julia/stdlib/v1.9/LinearAlgebra/src/diagonal.jl:249</a></li> <li> *(Da::<b>LinearAlgebra.Diagonal</b>, A::<b>AbstractMatrix</b>, Db::<b>LinearAlgebra.Diagonal</b>) in LinearAlgebra at <a href=\"https://github.com/JuliaLang/julia/tree/8e630552924eac54c809aa7bc30871c7df1582d3//usr/share/julia/stdlib/v1.9/LinearAlgebra/src/diagonal.jl#L352\" target=\"_blank\">/home/jzhang/julia/usr/share/julia/stdlib/v1.9/LinearAlgebra/src/diagonal.jl:352</a></li> <li> *(D::<b>LinearAlgebra.Diagonal</b>, V::<b>AbstractVector</b>) in LinearAlgebra at <a href=\"https://github.com/JuliaLang/julia/tree/8e630552924eac54c809aa7bc30871c7df1582d3//usr/share/julia/stdlib/v1.9/LinearAlgebra/src/diagonal.jl#L242\" target=\"_blank\">/home/jzhang/julia/usr/share/julia/stdlib/v1.9/LinearAlgebra/src/diagonal.jl:242</a></li> <li> *(x::<b>Real</b>, r::<b>StepRangeLen{<:Real, <:Base.TwicePrecision}</b>) in Base at <a href=\"https://github.com/JuliaLang/julia/tree/8e630552924eac54c809aa7bc30871c7df1582d3/base/twiceprecision.jl#L536\" target=\"_blank\">twiceprecision.jl:536</a></li> <li> *(x::<b>Real</b>, A::<b>LinearAlgebra.Hermitian</b>) in LinearAlgebra at <a href=\"https://github.com/JuliaLang/julia/tree/8e630552924eac54c809aa7bc30871c7df1582d3//usr/share/julia/stdlib/v1.9/LinearAlgebra/src/symmetric.jl#L607\" target=\"_blank\">/home/jzhang/julia/usr/share/julia/stdlib/v1.9/LinearAlgebra/src/symmetric.jl:607</a></li> <li> *(α::<b>Union{Real, Complex}</b>, B::<b>AbstractMatrix{<:Union{Real, Complex}}</b>, C::<b>AbstractVector{<:Union{Real, Complex}}</b>) in LinearAlgebra at <a href=\"https://github.com/JuliaLang/julia/tree/8e630552924eac54c809aa7bc30871c7df1582d3//usr/share/julia/stdlib/v1.9/LinearAlgebra/src/matmul.jl#L1157\" target=\"_blank\">/home/jzhang/julia/usr/share/julia/stdlib/v1.9/LinearAlgebra/src/matmul.jl:1157</a></li> <li> *(α::<b>Union{Real, Complex}</b>, B::<b>AbstractMatrix{<:Union{Real, Complex}}</b>, C::<b>AbstractMatrix{<:Union{Real, Complex}}</b>) in LinearAlgebra at <a href=\"https://github.com/JuliaLang/julia/tree/8e630552924eac54c809aa7bc30871c7df1582d3//usr/share/julia/stdlib/v1.9/LinearAlgebra/src/matmul.jl#L1159\" target=\"_blank\">/home/jzhang/julia/usr/share/julia/stdlib/v1.9/LinearAlgebra/src/matmul.jl:1159</a></li> <li> *(α::<b>Union{Real, Complex}</b>, B::<b>AbstractMatrix{<:Union{Real, Complex}}</b>, C::<b>AbstractMatrix{<:Union{Real, Complex}}</b>, D::<b>AbstractMatrix{<:Union{Real, Complex}}</b>) in LinearAlgebra at <a href=\"https://github.com/JuliaLang/julia/tree/8e630552924eac54c809aa7bc30871c7df1582d3//usr/share/julia/stdlib/v1.9/LinearAlgebra/src/matmul.jl#L1233\" target=\"_blank\">/home/jzhang/julia/usr/share/julia/stdlib/v1.9/LinearAlgebra/src/matmul.jl:1233</a></li> <li> *(α::<b>Number</b>, B::<b>AbstractMatrix</b>, C::<b>AbstractMatrix</b>, x::<b>AbstractVector</b>) in LinearAlgebra at <a href=\"https://github.com/JuliaLang/julia/tree/8e630552924eac54c809aa7bc30871c7df1582d3//usr/share/julia/stdlib/v1.9/LinearAlgebra/src/matmul.jl#L1216\" target=\"_blank\">/home/jzhang/julia/usr/share/julia/stdlib/v1.9/LinearAlgebra/src/matmul.jl:1216</a></li> <li> *(α::<b>Number</b>, u::<b>AbstractVector</b>, tv::<b>Union{LinearAlgebra.Adjoint{T, var\"#s970\"}, LinearAlgebra.Transpose{T, var\"#s970\"}} where {T, var\"#s970\"<:(AbstractVector)}</b>) in LinearAlgebra at <a href=\"https://github.com/JuliaLang/julia/tree/8e630552924eac54c809aa7bc30871c7df1582d3//usr/share/julia/stdlib/v1.9/LinearAlgebra/src/matmul.jl#L1162\" target=\"_blank\">/home/jzhang/julia/usr/share/julia/stdlib/v1.9/LinearAlgebra/src/matmul.jl:1162</a></li> <li> *(A::<b>Number</b>, B::<b>AbstractArray</b>) in Base at <a href=\"https://github.com/JuliaLang/julia/tree/8e630552924eac54c809aa7bc30871c7df1582d3/base/arraymath.jl#L21\" target=\"_blank\">arraymath.jl:21</a></li> <li> *(y::<b>Real</b>, x::<b>Dates.Period</b>) in Dates at <a href=\"https://github.com/JuliaLang/julia/tree/8e630552924eac54c809aa7bc30871c7df1582d3//usr/share/julia/stdlib/v1.9/Dates/src/periods.jl#L91\" target=\"_blank\">/home/jzhang/julia/usr/share/julia/stdlib/v1.9/Dates/src/periods.jl:91</a></li> <li> *(z::<b>Complex</b>, w::<b>Complex</b>) in Base at <a href=\"https://github.com/JuliaLang/julia/tree/8e630552924eac54c809aa7bc30871c7df1582d3/base/complex.jl#L293\" target=\"_blank\">complex.jl:293</a></li> <li> *(A::<b>LinearAlgebra.Hermitian</b>, x::<b>Real</b>) in LinearAlgebra at <a href=\"https://github.com/JuliaLang/julia/tree/8e630552924eac54c809aa7bc30871c7df1582d3//usr/share/julia/stdlib/v1.9/LinearAlgebra/src/symmetric.jl#L606\" target=\"_blank\">/home/jzhang/julia/usr/share/julia/stdlib/v1.9/LinearAlgebra/src/symmetric.jl:606</a></li> <li> *(A::<b>LinearAlgebra.Hermitian{ComplexF64, SparseArrays.SparseMatrixCSC{ComplexF64, Ti}}</b>, B::<b>Union{SparseArrays.SparseMatrixCSC{ComplexF64, Ti}, SparseArrays.SparseVector{ComplexF64, Ti}}</b>)<i> where Ti</i> in SparseArrays.CHOLMOD at <a href=\"https://github.com/JuliaLang/julia/tree/8e630552924eac54c809aa7bc30871c7df1582d3//usr/share/julia/stdlib/v1.9/SparseArrays/src/solvers/cholmod.jl#L1685\" target=\"_blank\">/home/jzhang/julia/usr/share/julia/stdlib/v1.9/SparseArrays/src/solvers/cholmod.jl:1685</a></li> <li> *(A::<b>LinearAlgebra.Hermitian{Float64, SparseArrays.SparseMatrixCSC{Float64, Ti}}</b>, B::<b>Union{SparseArrays.SparseMatrixCSC{Float64, Ti}, SparseArrays.SparseVector{Float64, Ti}}</b>)<i> where Ti</i> in SparseArrays.CHOLMOD at <a href=\"https://github.com/JuliaLang/julia/tree/8e630552924eac54c809aa7bc30871c7df1582d3//usr/share/julia/stdlib/v1.9/SparseArrays/src/solvers/cholmod.jl#L1687\" target=\"_blank\">/home/jzhang/julia/usr/share/julia/stdlib/v1.9/SparseArrays/src/solvers/cholmod.jl:1687</a></li> <li> *(A::<b>LinearAlgebra.LQ{TA, S, C} where {S<:AbstractMatrix{TA}, C<:AbstractVector{TA}}</b>, B::<b>AbstractVecOrMat{TB}</b>)<i> where {TA, TB}</i> in LinearAlgebra at <a href=\"https://github.com/JuliaLang/julia/tree/8e630552924eac54c809aa7bc30871c7df1582d3//usr/share/julia/stdlib/v1.9/LinearAlgebra/src/lq.jl#L198\" target=\"_blank\">/home/jzhang/julia/usr/share/julia/stdlib/v1.9/LinearAlgebra/src/lq.jl:198</a></li> <li> *(x::<b>AbstractIrrational</b>, y::<b>AbstractIrrational</b>) in Base at <a href=\"https://github.com/JuliaLang/julia/tree/8e630552924eac54c809aa7bc30871c7df1582d3/base/irrationals.jl#L161\" target=\"_blank\">irrationals.jl:161</a></li> <li> *(J1::<b>LinearAlgebra.UniformScaling</b>, J2::<b>LinearAlgebra.UniformScaling</b>) in LinearAlgebra at <a href=\"https://github.com/JuliaLang/julia/tree/8e630552924eac54c809aa7bc30871c7df1582d3//usr/share/julia/stdlib/v1.9/LinearAlgebra/src/uniformscaling.jl#L257\" target=\"_blank\">/home/jzhang/julia/usr/share/julia/stdlib/v1.9/LinearAlgebra/src/uniformscaling.jl:257</a></li> <li> *(J::<b>LinearAlgebra.UniformScaling</b>, B::<b>BitMatrix</b>) in LinearAlgebra at <a href=\"https://github.com/JuliaLang/julia/tree/8e630552924eac54c809aa7bc30871c7df1582d3//usr/share/julia/stdlib/v1.9/LinearAlgebra/src/uniformscaling.jl#L259\" target=\"_blank\">/home/jzhang/julia/usr/share/julia/stdlib/v1.9/LinearAlgebra/src/uniformscaling.jl:259</a></li> <li> *(J::<b>LinearAlgebra.UniformScaling</b>, x::<b>Number</b>) in LinearAlgebra at <a href=\"https://github.com/JuliaLang/julia/tree/8e630552924eac54c809aa7bc30871c7df1582d3//usr/share/julia/stdlib/v1.9/LinearAlgebra/src/uniformscaling.jl#L264\" target=\"_blank\">/home/jzhang/julia/usr/share/julia/stdlib/v1.9/LinearAlgebra/src/uniformscaling.jl:264</a></li> <li> *(x::<b>LinearAlgebra.UniformScaling</b>, H::<b>LinearAlgebra.UpperHessenberg</b>) in LinearAlgebra at <a href=\"https://github.com/JuliaLang/julia/tree/8e630552924eac54c809aa7bc30871c7df1582d3//usr/share/julia/stdlib/v1.9/LinearAlgebra/src/hessenberg.jl#L120\" target=\"_blank\">/home/jzhang/julia/usr/share/julia/stdlib/v1.9/LinearAlgebra/src/hessenberg.jl:120</a></li> <li> *(J::<b>LinearAlgebra.UniformScaling</b>, A::<b>AbstractVecOrMat</b>) in LinearAlgebra at <a href=\"https://github.com/JuliaLang/julia/tree/8e630552924eac54c809aa7bc30871c7df1582d3//usr/share/julia/stdlib/v1.9/LinearAlgebra/src/uniformscaling.jl#L262\" target=\"_blank\">/home/jzhang/julia/usr/share/julia/stdlib/v1.9/LinearAlgebra/src/uniformscaling.jl:262</a></li> <li> *(tA::<b>LinearAlgebra.Transpose{<:Any, <:StridedMatrix{T}}</b>, x::<b>StridedVector{S}</b>)<i> where {T<:Union{Float32, Float64, ComplexF64, ComplexF32}, S}</i> in LinearAlgebra at <a href=\"https://github.com/JuliaLang/julia/tree/8e630552924eac54c809aa7bc30871c7df1582d3//usr/share/julia/stdlib/v1.9/LinearAlgebra/src/matmul.jl#L84\" target=\"_blank\">/home/jzhang/julia/usr/share/julia/stdlib/v1.9/LinearAlgebra/src/matmul.jl:84</a></li> <li> *(transx::<b>LinearAlgebra.Transpose{<:Any, <:StridedVector{T}}</b>, y::<b>StridedVector{T}</b>)<i> where T<:Union{ComplexF64, ComplexF32}</i> in LinearAlgebra at <a href=\"https://github.com/JuliaLang/julia/tree/8e630552924eac54c809aa7bc30871c7df1582d3//usr/share/julia/stdlib/v1.9/LinearAlgebra/src/matmul.jl#L43\" target=\"_blank\">/home/jzhang/julia/usr/share/julia/stdlib/v1.9/LinearAlgebra/src/matmul.jl:43</a></li> <li> *(tA::<b>LinearAlgebra.Transpose{<:Any, <:SparseArrays.AbstractSparseMatrixCSC}</b>, x::<b>Union{StridedVector, BitVector}</b>) in SparseArrays at <a href=\"https://github.com/JuliaLang/julia/tree/8e630552924eac54c809aa7bc30871c7df1582d3//usr/share/julia/stdlib/v1.9/SparseArrays/src/linalg.jl#L82\" target=\"_blank\">/home/jzhang/julia/usr/share/julia/stdlib/v1.9/SparseArrays/src/linalg.jl:82</a></li> <li> *(A::<b>LinearAlgebra.Transpose{<:Any, <:SparseArrays.AbstractSparseMatrixCSC}</b>, B::<b>Union{SparseArrays.AbstractSparseMatrixCSC{Tv, Ti}, SubArray{Tv, 2, <:SparseArrays.AbstractSparseMatrixCSC{Tv, Ti}, Tuple{Base.Slice{Base.OneTo{Int64}}, I}} where I<:AbstractUnitRange, LinearAlgebra.LowerTriangular{Tv, <:Union{SparseArrays.AbstractSparseMatrixCSC{Tv, Ti}, SubArray{Tv, 2, <:SparseArrays.AbstractSparseMatrixCSC{Tv, Ti}, Tuple{Base.Slice{Base.OneTo{Int64}}, I}} where I<:AbstractUnitRange}}, LinearAlgebra.UpperTriangular{Tv, <:Union{SparseArrays.AbstractSparseMatrixCSC{Tv, Ti}, SubArray{Tv, 2, <:SparseArrays.AbstractSparseMatrixCSC{Tv, Ti}, Tuple{Base.Slice{Base.OneTo{Int64}}, I}} where I<:AbstractUnitRange}}} where {Tv, Ti}</b>) in SparseArrays at <a href=\"https://github.com/JuliaLang/julia/tree/8e630552924eac54c809aa7bc30871c7df1582d3//usr/share/julia/stdlib/v1.9/SparseArrays/src/linalg.jl#L159\" target=\"_blank\">/home/jzhang/julia/usr/share/julia/stdlib/v1.9/SparseArrays/src/linalg.jl:159</a></li> <li> *(tA::<b>LinearAlgebra.Transpose{<:Any, <:SparseArrays.AbstractSparseMatrixCSC}</b>, B::<b>Union{LinearAlgebra.Adjoint{<:Any, <:Union{LinearAlgebra.LowerTriangular, LinearAlgebra.UnitLowerTriangular, LinearAlgebra.UnitUpperTriangular, LinearAlgebra.UpperTriangular, StridedMatrix, BitMatrix}}, LinearAlgebra.LowerTriangular, LinearAlgebra.Transpose{<:Any, <:Union{LinearAlgebra.LowerTriangular, LinearAlgebra.UnitLowerTriangular, LinearAlgebra.UnitUpperTriangular, LinearAlgebra.UpperTriangular, StridedMatrix, BitMatrix}}, LinearAlgebra.UnitLowerTriangular, LinearAlgebra.UnitUpperTriangular, LinearAlgebra.UpperTriangular, StridedMatrix, BitMatrix}</b>) in SparseArrays at <a href=\"https://github.com/JuliaLang/julia/tree/8e630552924eac54c809aa7bc30871c7df1582d3//usr/share/julia/stdlib/v1.9/SparseArrays/src/linalg.jl#L84\" target=\"_blank\">/home/jzhang/julia/usr/share/julia/stdlib/v1.9/SparseArrays/src/linalg.jl:84</a></li> <li> *(tA::<b>LinearAlgebra.Transpose{<:Any, <:SparseArrays.AbstractSparseMatrixCSC}</b>, x::<b>SparseArrays.AbstractSparseVector</b>) in SparseArrays at <a href=\"https://github.com/JuliaLang/julia/tree/8e630552924eac54c809aa7bc30871c7df1582d3//usr/share/julia/stdlib/v1.9/SparseArrays/src/sparsevector.jl#L1953\" target=\"_blank\">/home/jzhang/julia/usr/share/julia/stdlib/v1.9/SparseArrays/src/sparsevector.jl:1953</a></li> <li> *(tA::<b>LinearAlgebra.Transpose{<:Any, <:Union{LinearAlgebra.LowerTriangular{Ta, S} where S<:AbstractMatrix{Ta}, LinearAlgebra.UnitLowerTriangular{Ta, S} where S<:AbstractMatrix{Ta}, LinearAlgebra.UnitUpperTriangular{Ta, S} where S<:AbstractMatrix{Ta}, LinearAlgebra.UpperTriangular{Ta, S} where S<:AbstractMatrix{Ta}, StridedArray{Ta, 2}}}</b>, x::<b>SparseArrays.AbstractSparseVector{Tx}</b>)<i> where {Ta, Tx}</i> in SparseArrays at <a href=\"https://github.com/JuliaLang/julia/tree/8e630552924eac54c809aa7bc30871c7df1582d3//usr/share/julia/stdlib/v1.9/SparseArrays/src/sparsevector.jl#L1776\" target=\"_blank\">/home/jzhang/julia/usr/share/julia/stdlib/v1.9/SparseArrays/src/sparsevector.jl:1776</a></li> <li> *(u::<b>LinearAlgebra.Transpose{T, <:AbstractVector} where T</b>, v::<b>LinearAlgebra.Adjoint{<:Any, <:LinearAlgebra.Transpose{T, <:AbstractVector} where T}</b>) in LinearAlgebra at <a href=\"https://github.com/JuliaLang/julia/tree/8e630552924eac54c809aa7bc30871c7df1582d3//usr/share/julia/stdlib/v1.9/LinearAlgebra/src/adjtrans.jl#L447\" target=\"_blank\">/home/jzhang/julia/usr/share/julia/stdlib/v1.9/LinearAlgebra/src/adjtrans.jl:447</a></li> <li> *(u::<b>LinearAlgebra.Transpose{T, <:AbstractVector}</b>, v::<b>AbstractVector{T}</b>)<i> where T<:Real</i> in LinearAlgebra at <a href=\"https://github.com/JuliaLang/julia/tree/8e630552924eac54c809aa7bc30871c7df1582d3//usr/share/julia/stdlib/v1.9/LinearAlgebra/src/adjtrans.jl#L434\" target=\"_blank\">/home/jzhang/julia/usr/share/julia/stdlib/v1.9/LinearAlgebra/src/adjtrans.jl:434</a></li> <li> *(u::<b>LinearAlgebra.Transpose{T, <:AbstractVector} where T</b>, D::<b>LinearAlgebra.Diagonal</b>) in LinearAlgebra at <a href=\"https://github.com/JuliaLang/julia/tree/8e630552924eac54c809aa7bc30871c7df1582d3//usr/share/julia/stdlib/v1.9/LinearAlgebra/src/diagonal.jl#L794\" target=\"_blank\">/home/jzhang/julia/usr/share/julia/stdlib/v1.9/LinearAlgebra/src/diagonal.jl:794</a></li> <li> *(x::<b>LinearAlgebra.Transpose{T, <:AbstractVector} where T</b>, D::<b>LinearAlgebra.Diagonal</b>, y::<b>AbstractVector</b>) in LinearAlgebra at <a href=\"https://github.com/JuliaLang/julia/tree/8e630552924eac54c809aa7bc30871c7df1582d3//usr/share/julia/stdlib/v1.9/LinearAlgebra/src/diagonal.jl#L796\" target=\"_blank\">/home/jzhang/julia/usr/share/julia/stdlib/v1.9/LinearAlgebra/src/diagonal.jl:796</a></li> <li> *(v::<b>LinearAlgebra.Transpose{T, <:AbstractVector} where T</b>, A::<b>LinearAlgebra.AbstractTriangular</b>) in LinearAlgebra at <a href=\"https://github.com/JuliaLang/julia/tree/8e630552924eac54c809aa7bc30871c7df1582d3//usr/share/julia/stdlib/v1.9/LinearAlgebra/src/triangular.jl#L1453\" target=\"_blank\">/home/jzhang/julia/usr/share/julia/stdlib/v1.9/LinearAlgebra/src/triangular.jl:1453</a></li> <li> *(u::<b>LinearAlgebra.Transpose{T, <:AbstractVector} where T</b>, v::<b>LinearAlgebra.Transpose{<:Any, <:LinearAlgebra.Adjoint{T, <:AbstractVector} where T}</b>) in LinearAlgebra at <a href=\"https://github.com/JuliaLang/julia/tree/8e630552924eac54c809aa7bc30871c7df1582d3//usr/share/julia/stdlib/v1.9/LinearAlgebra/src/adjtrans.jl#L449\" target=\"_blank\">/home/jzhang/julia/usr/share/julia/stdlib/v1.9/LinearAlgebra/src/adjtrans.jl:449</a></li> <li> *(A::<b>LinearAlgebra.Transpose{<:Any, <:SparseArrays.AbstractSparseMatrixCSC}</b>, B::<b>LinearAlgebra.Transpose{<:Any, <:SparseArrays.AbstractSparseMatrixCSC}</b>) in SparseArrays at <a href=\"https://github.com/JuliaLang/julia/tree/8e630552924eac54c809aa7bc30871c7df1582d3//usr/share/julia/stdlib/v1.9/SparseArrays/src/linalg.jl#L162\" target=\"_blank\">/home/jzhang/julia/usr/share/julia/stdlib/v1.9/SparseArrays/src/linalg.jl:162</a></li> <li> *(tA::<b>LinearAlgebra.Transpose{<:Any, <:AbstractMatrix{T}}</b>, x::<b>AbstractVector{S}</b>)<i> where {T, S}</i> in LinearAlgebra at <a href=\"https://github.com/JuliaLang/julia/tree/8e630552924eac54c809aa7bc30871c7df1582d3//usr/share/julia/stdlib/v1.9/LinearAlgebra/src/matmul.jl#L88\" target=\"_blank\">/home/jzhang/julia/usr/share/julia/stdlib/v1.9/LinearAlgebra/src/matmul.jl:88</a></li> <li> *(u::<b>LinearAlgebra.Transpose{T, <:AbstractVector} where T</b>, v::<b>LinearAlgebra.Transpose{T, <:AbstractVector} where T</b>) in LinearAlgebra at <a href=\"https://github.com/JuliaLang/julia/tree/8e630552924eac54c809aa7bc30871c7df1582d3//usr/share/julia/stdlib/v1.9/LinearAlgebra/src/adjtrans.jl#L443\" target=\"_blank\">/home/jzhang/julia/usr/share/julia/stdlib/v1.9/LinearAlgebra/src/adjtrans.jl:443</a></li> <li> *(x::<b>LinearAlgebra.Transpose{T, <:AbstractVector} where T</b>, A::<b>AbstractMatrix</b>) in LinearAlgebra at <a href=\"https://github.com/JuliaLang/julia/tree/8e630552924eac54c809aa7bc30871c7df1582d3//usr/share/julia/stdlib/v1.9/LinearAlgebra/src/matmul.jl#L120\" target=\"_blank\">/home/jzhang/julia/usr/share/julia/stdlib/v1.9/LinearAlgebra/src/matmul.jl:120</a></li> <li> *(adjQ::<b>LinearAlgebra.Adjoint{<:Any, <:LinearAlgebra.AbstractQ}</b>, B::<b>StridedVecOrMat</b>) in LinearAlgebra at <a href=\"https://github.com/JuliaLang/julia/tree/8e630552924eac54c809aa7bc30871c7df1582d3//usr/share/julia/stdlib/v1.9/LinearAlgebra/src/qr.jl#L723\" target=\"_blank\">/home/jzhang/julia/usr/share/julia/stdlib/v1.9/LinearAlgebra/src/qr.jl:723</a></li> <li> *(adjA::<b>LinearAlgebra.Adjoint{<:Any, <:StridedMatrix{T}}</b>, x::<b>StridedVector{S}</b>)<i> where {T<:Union{Float32, Float64, ComplexF64, ComplexF32}, S}</i> in LinearAlgebra at <a href=\"https://github.com/JuliaLang/julia/tree/8e630552924eac54c809aa7bc30871c7df1582d3//usr/share/julia/stdlib/v1.9/LinearAlgebra/src/matmul.jl#L99\" target=\"_blank\">/home/jzhang/julia/usr/share/julia/stdlib/v1.9/LinearAlgebra/src/matmul.jl:99</a></li> <li> *(adjA::<b>LinearAlgebra.Adjoint{<:Any, <:LinearAlgebra.LQPackedQ}</b>, B::<b>StridedVecOrMat</b>) in LinearAlgebra at <a href=\"https://github.com/JuliaLang/julia/tree/8e630552924eac54c809aa7bc30871c7df1582d3//usr/share/julia/stdlib/v1.9/LinearAlgebra/src/lq.jl#L217\" target=\"_blank\">/home/jzhang/julia/usr/share/julia/stdlib/v1.9/LinearAlgebra/src/lq.jl:217</a></li> <li> *(Q::<b>LinearAlgebra.Adjoint{<:Any, <:LinearAlgebra.AbstractQ}</b>, B::<b>Union{LinearAlgebra.Bidiagonal, LinearAlgebra.SymTridiagonal, LinearAlgebra.Tridiagonal}</b>) in LinearAlgebra at <a href=\"https://github.com/JuliaLang/julia/tree/8e630552924eac54c809aa7bc30871c7df1582d3//usr/share/julia/stdlib/v1.9/LinearAlgebra/src/special.jl#L312\" target=\"_blank\">/home/jzhang/julia/usr/share/julia/stdlib/v1.9/LinearAlgebra/src/special.jl:312</a></li> <li> *(adjA::<b>LinearAlgebra.Adjoint{<:Any, <:SparseArrays.AbstractSparseMatrixCSC}</b>, x::<b>Union{StridedVector, BitVector}</b>) in SparseArrays at <a href=\"https://github.com/JuliaLang/julia/tree/8e630552924eac54c809aa7bc30871c7df1582d3//usr/share/julia/stdlib/v1.9/SparseArrays/src/linalg.jl#L78\" target=\"_blank\">/home/jzhang/julia/usr/share/julia/stdlib/v1.9/SparseArrays/src/linalg.jl:78</a></li> <li> *(A::<b>LinearAlgebra.Adjoint{<:Any, <:SparseArrays.AbstractSparseMatrixCSC}</b>, B::<b>Union{SparseArrays.AbstractSparseMatrixCSC{Tv, Ti}, SubArray{Tv, 2, <:SparseArrays.AbstractSparseMatrixCSC{Tv, Ti}, Tuple{Base.Slice{Base.OneTo{Int64}}, I}} where I<:AbstractUnitRange, LinearAlgebra.LowerTriangular{Tv, <:Union{SparseArrays.AbstractSparseMatrixCSC{Tv, Ti}, SubArray{Tv, 2, <:SparseArrays.AbstractSparseMatrixCSC{Tv, Ti}, Tuple{Base.Slice{Base.OneTo{Int64}}, I}} where I<:AbstractUnitRange}}, LinearAlgebra.UpperTriangular{Tv, <:Union{SparseArrays.AbstractSparseMatrixCSC{Tv, Ti}, SubArray{Tv, 2, <:SparseArrays.AbstractSparseMatrixCSC{Tv, Ti}, Tuple{Base.Slice{Base.OneTo{Int64}}, I}} where I<:AbstractUnitRange}}} where {Tv, Ti}</b>) in SparseArrays at <a href=\"https://github.com/JuliaLang/julia/tree/8e630552924eac54c809aa7bc30871c7df1582d3//usr/share/julia/stdlib/v1.9/SparseArrays/src/linalg.jl#L160\" target=\"_blank\">/home/jzhang/julia/usr/share/julia/stdlib/v1.9/SparseArrays/src/linalg.jl:160</a></li> <li> *(adjA::<b>LinearAlgebra.Adjoint{<:Any, <:SparseArrays.AbstractSparseMatrixCSC}</b>, B::<b>Union{LinearAlgebra.Adjoint{<:Any, <:Union{LinearAlgebra.LowerTriangular, LinearAlgebra.UnitLowerTriangular, LinearAlgebra.UnitUpperTriangular, LinearAlgebra.UpperTriangular, StridedMatrix, BitMatrix}}, LinearAlgebra.LowerTriangular, LinearAlgebra.Transpose{<:Any, <:Union{LinearAlgebra.LowerTriangular, LinearAlgebra.UnitLowerTriangular, LinearAlgebra.UnitUpperTriangular, LinearAlgebra.UpperTriangular, StridedMatrix, BitMatrix}}, LinearAlgebra.UnitLowerTriangular, LinearAlgebra.UnitUpperTriangular, LinearAlgebra.UpperTriangular, StridedMatrix, BitMatrix}</b>) in SparseArrays at <a href=\"https://github.com/JuliaLang/julia/tree/8e630552924eac54c809aa7bc30871c7df1582d3//usr/share/julia/stdlib/v1.9/SparseArrays/src/linalg.jl#L80\" target=\"_blank\">/home/jzhang/julia/usr/share/julia/stdlib/v1.9/SparseArrays/src/linalg.jl:80</a></li> <li> *(adjA::<b>LinearAlgebra.Adjoint{<:Any, <:Union{LinearAlgebra.LowerTriangular{Ta, S} where S<:AbstractMatrix{Ta}, LinearAlgebra.UnitLowerTriangular{Ta, S} where S<:AbstractMatrix{Ta}, LinearAlgebra.UnitUpperTriangular{Ta, S} where S<:AbstractMatrix{Ta}, LinearAlgebra.UpperTriangular{Ta, S} where S<:AbstractMatrix{Ta}, StridedArray{Ta, 2}}}</b>, x::<b>SparseArrays.AbstractSparseVector{Tx}</b>)<i> where {Ta, Tx}</i> in SparseArrays at <a href=\"https://github.com/JuliaLang/julia/tree/8e630552924eac54c809aa7bc30871c7df1582d3//usr/share/julia/stdlib/v1.9/SparseArrays/src/sparsevector.jl#L1814\" target=\"_blank\">/home/jzhang/julia/usr/share/julia/stdlib/v1.9/SparseArrays/src/sparsevector.jl:1814</a></li> <li> *(adjA::<b>LinearAlgebra.Adjoint{<:Any, <:SparseArrays.AbstractSparseMatrixCSC}</b>, x::<b>SparseArrays.AbstractSparseVector</b>) in SparseArrays at <a href=\"https://github.com/JuliaLang/julia/tree/8e630552924eac54c809aa7bc30871c7df1582d3//usr/share/julia/stdlib/v1.9/SparseArrays/src/sparsevector.jl#L1956\" target=\"_blank\">/home/jzhang/julia/usr/share/julia/stdlib/v1.9/SparseArrays/src/sparsevector.jl:1956</a></li> <li> *(adjA::<b>LinearAlgebra.Adjoint{<:Any, <:StridedMatrix{T} where T}</b>, Q::<b>LinearAlgebra.LQPackedQ</b>) in LinearAlgebra at <a href=\"https://github.com/JuliaLang/julia/tree/8e630552924eac54c809aa7bc30871c7df1582d3//usr/share/julia/stdlib/v1.9/LinearAlgebra/src/lq.jl#L305\" target=\"_blank\">/home/jzhang/julia/usr/share/julia/stdlib/v1.9/LinearAlgebra/src/lq.jl:305</a></li> <li> *(u::<b>LinearAlgebra.Adjoint{<:Number, <:AbstractVector}</b>, v::<b>AbstractVector{<:Number}</b>) in LinearAlgebra at <a href=\"https://github.com/JuliaLang/julia/tree/8e630552924eac54c809aa7bc30871c7df1582d3//usr/share/julia/stdlib/v1.9/LinearAlgebra/src/adjtrans.jl#L433\" target=\"_blank\">/home/jzhang/julia/usr/share/julia/stdlib/v1.9/LinearAlgebra/src/adjtrans.jl:433</a></li> <li> *(u::<b>LinearAlgebra.Adjoint{T, <:AbstractVector} where T</b>, v::<b>LinearAlgebra.Transpose{<:Any, <:LinearAlgebra.Adjoint{T, <:AbstractVector} where T}</b>) in LinearAlgebra at <a href=\"https://github.com/JuliaLang/julia/tree/8e630552924eac54c809aa7bc30871c7df1582d3//usr/share/julia/stdlib/v1.9/LinearAlgebra/src/adjtrans.jl#L450\" target=\"_blank\">/home/jzhang/julia/usr/share/julia/stdlib/v1.9/LinearAlgebra/src/adjtrans.jl:450</a></li> <li> *(a::<b>AbstractVector</b>, tB::<b>LinearAlgebra.Transpose{T, <:AbstractMatrix} where T</b>) in LinearAlgebra at <a href=\"https://github.com/JuliaLang/julia/tree/8e630552924eac54c809aa7bc30871c7df1582d3//usr/share/julia/stdlib/v1.9/LinearAlgebra/src/matmul.jl#L60\" target=\"_blank\">/home/jzhang/julia/usr/share/julia/stdlib/v1.9/LinearAlgebra/src/matmul.jl:60</a></li> <li> *(adjA::<b>LinearAlgebra.Adjoint{<:Any, <:StridedVecOrMat}</b>, Q::<b>LinearAlgebra.AbstractQ</b>) in LinearAlgebra at <a href=\"https://github.com/JuliaLang/julia/tree/8e630552924eac54c809aa7bc30871c7df1582d3//usr/share/julia/stdlib/v1.9/LinearAlgebra/src/qr.jl#L839\" target=\"_blank\">/home/jzhang/julia/usr/share/julia/stdlib/v1.9/LinearAlgebra/src/qr.jl:839</a></li> <li> *(Q::<b>LinearAlgebra.Adjoint{<:Any, <:LinearAlgebra.AbstractQ}</b>, B::<b>LinearAlgebra.AbstractQ</b>) in LinearAlgebra at <a href=\"https://github.com/JuliaLang/julia/tree/8e630552924eac54c809aa7bc30871c7df1582d3//usr/share/julia/stdlib/v1.9/LinearAlgebra/src/special.jl#L344\" target=\"_blank\">/home/jzhang/julia/usr/share/julia/stdlib/v1.9/LinearAlgebra/src/special.jl:344</a></li> <li> *(adjA::<b>LinearAlgebra.Adjoint{<:Any, <:SparseArrays.CHOLMOD.Sparse}</b>, B::<b>SparseArrays.CHOLMOD.Dense</b>) in SparseArrays.CHOLMOD at <a href=\"https://github.com/JuliaLang/julia/tree/8e630552924eac54c809aa7bc30871c7df1582d3//usr/share/julia/stdlib/v1.9/SparseArrays/src/solvers/cholmod.jl#L1110\" target=\"_blank\">/home/jzhang/julia/usr/share/julia/stdlib/v1.9/SparseArrays/src/solvers/cholmod.jl:1110</a></li> <li> *(adjA::<b>LinearAlgebra.Adjoint{<:Any, <:StridedVecOrMat}</b>, adjQ::<b>LinearAlgebra.Adjoint{<:Any, <:LinearAlgebra.AbstractQ}</b>) in LinearAlgebra at <a href=\"https://github.com/JuliaLang/julia/tree/8e630552924eac54c809aa7bc30871c7df1582d3//usr/share/julia/stdlib/v1.9/LinearAlgebra/src/qr.jl#L846\" target=\"_blank\">/home/jzhang/julia/usr/share/julia/stdlib/v1.9/LinearAlgebra/src/qr.jl:846</a></li> <li> *(adjQ::<b>LinearAlgebra.Adjoint{<:Any, <:LinearAlgebra.AbstractQ}</b>, adjB::<b>LinearAlgebra.Adjoint{<:Any, <:StridedVecOrMat}</b>) in LinearAlgebra at <a href=\"https://github.com/JuliaLang/julia/tree/8e630552924eac54c809aa7bc30871c7df1582d3//usr/share/julia/stdlib/v1.9/LinearAlgebra/src/qr.jl#L737\" target=\"_blank\">/home/jzhang/julia/usr/share/julia/stdlib/v1.9/LinearAlgebra/src/qr.jl:737</a></li> <li> *(u::<b>LinearAlgebra.Adjoint{T, <:AbstractVector} where T</b>, v::<b>LinearAlgebra.Adjoint{<:Any, <:LinearAlgebra.Transpose{T, <:AbstractVector} where T}</b>) in LinearAlgebra at <a href=\"https://github.com/JuliaLang/julia/tree/8e630552924eac54c809aa7bc30871c7df1582d3//usr/share/julia/stdlib/v1.9/LinearAlgebra/src/adjtrans.jl#L448\" target=\"_blank\">/home/jzhang/julia/usr/share/julia/stdlib/v1.9/LinearAlgebra/src/adjtrans.jl:448</a></li> <li> *(adjA::<b>LinearAlgebra.Adjoint{<:Any, <:LinearAlgebra.LQPackedQ}</b>, adjB::<b>LinearAlgebra.Adjoint{<:Any, <:StridedVecOrMat}</b>) in LinearAlgebra at <a href=\"https://github.com/JuliaLang/julia/tree/8e630552924eac54c809aa7bc30871c7df1582d3//usr/share/julia/stdlib/v1.9/LinearAlgebra/src/lq.jl#L237\" target=\"_blank\">/home/jzhang/julia/usr/share/julia/stdlib/v1.9/LinearAlgebra/src/lq.jl:237</a></li> <li> *(adjA::<b>LinearAlgebra.Adjoint{<:Any, <:StridedMatrix{T} where T}</b>, adjQ::<b>LinearAlgebra.Adjoint{<:Any, <:LinearAlgebra.LQPackedQ}</b>) in LinearAlgebra at <a href=\"https://github.com/JuliaLang/julia/tree/8e630552924eac54c809aa7bc30871c7df1582d3//usr/share/julia/stdlib/v1.9/LinearAlgebra/src/lq.jl#L274\" target=\"_blank\">/home/jzhang/julia/usr/share/julia/stdlib/v1.9/LinearAlgebra/src/lq.jl:274</a></li> <li> *(Q::<b>LinearAlgebra.Adjoint{<:Any, <:LinearAlgebra.AbstractQ}</b>, B::<b>LinearAlgebra.Adjoint{<:Any, <:LinearAlgebra.AbstractQ}</b>) in LinearAlgebra at <a href=\"https://github.com/JuliaLang/julia/tree/8e630552924eac54c809aa7bc30871c7df1582d3//usr/share/julia/stdlib/v1.9/LinearAlgebra/src/special.jl#L346\" target=\"_blank\">/home/jzhang/julia/usr/share/julia/stdlib/v1.9/LinearAlgebra/src/special.jl:346</a></li> <li> *(u::<b>LinearAlgebra.Adjoint{T, <:AbstractVector} where T</b>, A::<b>LinearAlgebra.Adjoint{<:Any, <:LinearAlgebra.AbstractQ}</b>) in LinearAlgebra at <a href=\"https://github.com/JuliaLang/julia/tree/8e630552924eac54c809aa7bc30871c7df1582d3//usr/share/julia/stdlib/v1.9/LinearAlgebra/src/qr.jl#L835\" target=\"_blank\">/home/jzhang/julia/usr/share/julia/stdlib/v1.9/LinearAlgebra/src/qr.jl:835</a></li> <li> *(A::<b>LinearAlgebra.Adjoint{<:Any, <:SparseArrays.AbstractSparseMatrixCSC}</b>, B::<b>LinearAlgebra.Adjoint{<:Any, <:SparseArrays.AbstractSparseMatrixCSC}</b>) in SparseArrays at <a href=\"https://github.com/JuliaLang/julia/tree/8e630552924eac54c809aa7bc30871c7df1582d3//usr/share/julia/stdlib/v1.9/SparseArrays/src/linalg.jl#L161\" target=\"_blank\">/home/jzhang/julia/usr/share/julia/stdlib/v1.9/SparseArrays/src/linalg.jl:161</a></li> <li> *(tu::<b>Union{LinearAlgebra.Adjoint{T, var\"#s970\"}, LinearAlgebra.Transpose{T, var\"#s970\"}} where {T, var\"#s970\"<:(AbstractVector)}</b>, B::<b>Union{LinearAlgebra.Adjoint{T, var\"#s970\"}, LinearAlgebra.Transpose{T, var\"#s970\"}} where {T, var\"#s970\"<:(AbstractMatrix)}</b>, v::<b>AbstractVector</b>) in LinearAlgebra at <a href=\"https://github.com/JuliaLang/julia/tree/8e630552924eac54c809aa7bc30871c7df1582d3//usr/share/julia/stdlib/v1.9/LinearAlgebra/src/matmul.jl#L1153\" target=\"_blank\">/home/jzhang/julia/usr/share/julia/stdlib/v1.9/LinearAlgebra/src/matmul.jl:1153</a></li> <li> *(u::<b>LinearAlgebra.Adjoint{T, <:AbstractVector} where T</b>, v::<b>LinearAlgebra.Adjoint{T, <:AbstractVector} where T</b>) in LinearAlgebra at <a href=\"https://github.com/JuliaLang/julia/tree/8e630552924eac54c809aa7bc30871c7df1582d3//usr/share/julia/stdlib/v1.9/LinearAlgebra/src/adjtrans.jl#L442\" target=\"_blank\">/home/jzhang/julia/usr/share/julia/stdlib/v1.9/LinearAlgebra/src/adjtrans.jl:442</a></li> <li> *(adjA::<b>LinearAlgebra.Adjoint{<:Any, <:SparseArrays.CHOLMOD.Sparse}</b>, B::<b>SparseArrays.CHOLMOD.Sparse</b>) in SparseArrays.CHOLMOD at <a href=\"https://github.com/JuliaLang/julia/tree/8e630552924eac54c809aa7bc30871c7df1582d3//usr/share/julia/stdlib/v1.9/SparseArrays/src/solvers/cholmod.jl#L1100\" target=\"_blank\">/home/jzhang/julia/usr/share/julia/stdlib/v1.9/SparseArrays/src/solvers/cholmod.jl:1100</a></li> <li> *(Q::<b>LinearAlgebra.Adjoint{<:Any, <:LinearAlgebra.AbstractQ}</b>, B::<b>LinearAlgebra.Diagonal</b>) in LinearAlgebra at <a href=\"https://github.com/JuliaLang/julia/tree/8e630552924eac54c809aa7bc30871c7df1582d3//usr/share/julia/stdlib/v1.9/LinearAlgebra/src/special.jl#L314\" target=\"_blank\">/home/jzhang/julia/usr/share/julia/stdlib/v1.9/LinearAlgebra/src/special.jl:314</a></li> <li> *(A::<b>Union{LinearAlgebra.Adjoint{T, var\"#s970\"}, LinearAlgebra.Transpose{T, var\"#s970\"}} where {T, var\"#s970\"<:(AbstractMatrix)}</b>, D::<b>LinearAlgebra.Diagonal</b>) in LinearAlgebra at <a href=\"https://github.com/JuliaLang/julia/tree/8e630552924eac54c809aa7bc30871c7df1582d3//usr/share/julia/stdlib/v1.9/LinearAlgebra/src/diagonal.jl#L255\" target=\"_blank\">/home/jzhang/julia/usr/share/julia/stdlib/v1.9/LinearAlgebra/src/diagonal.jl:255</a></li> <li> *(u::<b>LinearAlgebra.Adjoint{T, <:AbstractVector} where T</b>, D::<b>LinearAlgebra.Diagonal</b>) in LinearAlgebra at <a href=\"https://github.com/JuliaLang/julia/tree/8e630552924eac54c809aa7bc30871c7df1582d3//usr/share/julia/stdlib/v1.9/LinearAlgebra/src/diagonal.jl#L793\" target=\"_blank\">/home/jzhang/julia/usr/share/julia/stdlib/v1.9/LinearAlgebra/src/diagonal.jl:793</a></li> <li> *(x::<b>LinearAlgebra.Adjoint{T, <:AbstractVector} where T</b>, D::<b>LinearAlgebra.Diagonal</b>, y::<b>AbstractVector</b>) in LinearAlgebra at <a href=\"https://github.com/JuliaLang/julia/tree/8e630552924eac54c809aa7bc30871c7df1582d3//usr/share/julia/stdlib/v1.9/LinearAlgebra/src/diagonal.jl#L795\" target=\"_blank\">/home/jzhang/julia/usr/share/julia/stdlib/v1.9/LinearAlgebra/src/diagonal.jl:795</a></li> <li> *(Q::<b>LinearAlgebra.Adjoint{<:Any, <:LinearAlgebra.AbstractQ}</b>, B::<b>LinearAlgebra.AbstractTriangular</b>) in LinearAlgebra at <a href=\"https://github.com/JuliaLang/julia/tree/8e630552924eac54c809aa7bc30871c7df1582d3//usr/share/julia/stdlib/v1.9/LinearAlgebra/src/special.jl#L310\" target=\"_blank\">/home/jzhang/julia/usr/share/julia/stdlib/v1.9/LinearAlgebra/src/special.jl:310</a></li> <li> *(v::<b>LinearAlgebra.Adjoint{T, <:AbstractVector} where T</b>, A::<b>LinearAlgebra.AbstractTriangular</b>) in LinearAlgebra at <a href=\"https://github.com/JuliaLang/julia/tree/8e630552924eac54c809aa7bc30871c7df1582d3//usr/share/julia/stdlib/v1.9/LinearAlgebra/src/triangular.jl#L1452\" target=\"_blank\">/home/jzhang/julia/usr/share/julia/stdlib/v1.9/LinearAlgebra/src/triangular.jl:1452</a></li> <li> *(adjA::<b>LinearAlgebra.Adjoint{<:Any, <:SparseArrays.CHOLMOD.Sparse}</b>, B::<b>VecOrMat</b>) in SparseArrays.CHOLMOD at <a href=\"https://github.com/JuliaLang/julia/tree/8e630552924eac54c809aa7bc30871c7df1582d3//usr/share/julia/stdlib/v1.9/SparseArrays/src/solvers/cholmod.jl#L1112\" target=\"_blank\">/home/jzhang/julia/usr/share/julia/stdlib/v1.9/SparseArrays/src/solvers/cholmod.jl:1112</a></li> <li> *(u::<b>Union{LinearAlgebra.Adjoint{T, var\"#s970\"}, LinearAlgebra.Transpose{T, var\"#s970\"}} where {T, var\"#s970\"<:(AbstractVector)}</b>, v::<b>AbstractVector</b>) in LinearAlgebra at <a href=\"https://github.com/JuliaLang/julia/tree/8e630552924eac54c809aa7bc30871c7df1582d3//usr/share/julia/stdlib/v1.9/LinearAlgebra/src/adjtrans.jl#L435\" target=\"_blank\">/home/jzhang/julia/usr/share/julia/stdlib/v1.9/LinearAlgebra/src/adjtrans.jl:435</a></li> <li> *(x::<b>LinearAlgebra.Adjoint{T, <:AbstractVector} where T</b>, A::<b>AbstractMatrix</b>) in LinearAlgebra at <a href=\"https://github.com/JuliaLang/julia/tree/8e630552924eac54c809aa7bc30871c7df1582d3//usr/share/julia/stdlib/v1.9/LinearAlgebra/src/matmul.jl#L119\" target=\"_blank\">/home/jzhang/julia/usr/share/julia/stdlib/v1.9/LinearAlgebra/src/matmul.jl:119</a></li> <li> *(tu::<b>Union{LinearAlgebra.Adjoint{T, var\"#s970\"}, LinearAlgebra.Transpose{T, var\"#s970\"}} where {T, var\"#s970\"<:(AbstractVector)}</b>, B::<b>AbstractMatrix</b>, v::<b>AbstractVector</b>) in LinearAlgebra at <a href=\"https://github.com/JuliaLang/julia/tree/8e630552924eac54c809aa7bc30871c7df1582d3//usr/share/julia/stdlib/v1.9/LinearAlgebra/src/matmul.jl#L1152\" target=\"_blank\">/home/jzhang/julia/usr/share/julia/stdlib/v1.9/LinearAlgebra/src/matmul.jl:1152</a></li> <li> *(tv::<b>Union{LinearAlgebra.Adjoint{T, var\"#s970\"}, LinearAlgebra.Transpose{T, var\"#s970\"}} where {T, var\"#s970\"<:(AbstractVector)}</b>, B::<b>AbstractMatrix</b>, C::<b>AbstractMatrix</b>) in LinearAlgebra at <a href=\"https://github.com/JuliaLang/julia/tree/8e630552924eac54c809aa7bc30871c7df1582d3//usr/share/julia/stdlib/v1.9/LinearAlgebra/src/matmul.jl#L1167\" target=\"_blank\">/home/jzhang/julia/usr/share/julia/stdlib/v1.9/LinearAlgebra/src/matmul.jl:1167</a></li> <li> *(vt::<b>Union{LinearAlgebra.Adjoint{T, var\"#s970\"}, LinearAlgebra.Transpose{T, var\"#s970\"}} where {T, var\"#s970\"<:(AbstractVector)}</b>, B::<b>AbstractMatrix</b>, x::<b>AbstractVector</b>, δ::<b>Number</b>) in LinearAlgebra at <a href=\"https://github.com/JuliaLang/julia/tree/8e630552924eac54c809aa7bc30871c7df1582d3//usr/share/julia/stdlib/v1.9/LinearAlgebra/src/matmul.jl#L1224\" target=\"_blank\">/home/jzhang/julia/usr/share/julia/stdlib/v1.9/LinearAlgebra/src/matmul.jl:1224</a></li> <li> *(vt::<b>Union{LinearAlgebra.Adjoint{T, var\"#s970\"}, LinearAlgebra.Transpose{T, var\"#s970\"}} where {T, var\"#s970\"<:(AbstractVector)}</b>, B::<b>AbstractMatrix</b>, C::<b>AbstractMatrix</b>, δ::<b>Number</b>) in LinearAlgebra at <a href=\"https://github.com/JuliaLang/julia/tree/8e630552924eac54c809aa7bc30871c7df1582d3//usr/share/julia/stdlib/v1.9/LinearAlgebra/src/matmul.jl#L1225\" target=\"_blank\">/home/jzhang/julia/usr/share/julia/stdlib/v1.9/LinearAlgebra/src/matmul.jl:1225</a></li> <li> *(vt::<b>Union{LinearAlgebra.Adjoint{T, var\"#s970\"}, LinearAlgebra.Transpose{T, var\"#s970\"}} where {T, var\"#s970\"<:(AbstractVector)}</b>, B::<b>AbstractMatrix</b>, C::<b>AbstractMatrix</b>, D::<b>AbstractMatrix</b>) in LinearAlgebra at <a href=\"https://github.com/JuliaLang/julia/tree/8e630552924eac54c809aa7bc30871c7df1582d3//usr/share/julia/stdlib/v1.9/LinearAlgebra/src/matmul.jl#L1228\" target=\"_blank\">/home/jzhang/julia/usr/share/julia/stdlib/v1.9/LinearAlgebra/src/matmul.jl:1228</a></li> <li> *(vt::<b>Union{LinearAlgebra.Adjoint{T, var\"#s970\"}, LinearAlgebra.Transpose{T, var\"#s970\"}} where {T, var\"#s970\"<:(AbstractVector)}</b>, B::<b>AbstractMatrix</b>, C::<b>AbstractMatrix</b>, x::<b>AbstractVector</b>) in LinearAlgebra at <a href=\"https://github.com/JuliaLang/julia/tree/8e630552924eac54c809aa7bc30871c7df1582d3//usr/share/julia/stdlib/v1.9/LinearAlgebra/src/matmul.jl#L1229\" target=\"_blank\">/home/jzhang/julia/usr/share/julia/stdlib/v1.9/LinearAlgebra/src/matmul.jl:1229</a></li> <li> *(adjA::<b>LinearAlgebra.Adjoint{<:Any, <:AbstractMatrix{T}}</b>, x::<b>AbstractVector{S}</b>)<i> where {T, S}</i> in LinearAlgebra at <a href=\"https://github.com/JuliaLang/julia/tree/8e630552924eac54c809aa7bc30871c7df1582d3//usr/share/julia/stdlib/v1.9/LinearAlgebra/src/matmul.jl#L103\" target=\"_blank\">/home/jzhang/julia/usr/share/julia/stdlib/v1.9/LinearAlgebra/src/matmul.jl:103</a></li> <li> *(A::<b>LinearAlgebra.UnitUpperTriangular</b>, x::<b>Number</b>) in LinearAlgebra at <a href=\"https://github.com/JuliaLang/julia/tree/8e630552924eac54c809aa7bc30871c7df1582d3//usr/share/julia/stdlib/v1.9/LinearAlgebra/src/triangular.jl#L851\" target=\"_blank\">/home/jzhang/julia/usr/share/julia/stdlib/v1.9/LinearAlgebra/src/triangular.jl:851</a></li> <li> *(A::<b>AbstractArray</b>, B::<b>Number</b>) in Base at <a href=\"https://github.com/JuliaLang/julia/tree/8e630552924eac54c809aa7bc30871c7df1582d3/base/arraymath.jl#L24\" target=\"_blank\">arraymath.jl:24</a></li> <li> *(A::<b>LinearAlgebra.UnitUpperTriangular</b>, B::<b>LinearAlgebra.UpperTriangular</b>) in LinearAlgebra at <a href=\"https://github.com/JuliaLang/julia/tree/8e630552924eac54c809aa7bc30871c7df1582d3//usr/share/julia/stdlib/v1.9/LinearAlgebra/src/triangular.jl#L1326\" target=\"_blank\">/home/jzhang/julia/usr/share/julia/stdlib/v1.9/LinearAlgebra/src/triangular.jl:1326</a></li> <li> *(A::<b>LinearAlgebra.UnitUpperTriangular</b>, B::<b>LinearAlgebra.UnitUpperTriangular</b>) in LinearAlgebra at <a href=\"https://github.com/JuliaLang/julia/tree/8e630552924eac54c809aa7bc30871c7df1582d3//usr/share/julia/stdlib/v1.9/LinearAlgebra/src/triangular.jl#L1340\" target=\"_blank\">/home/jzhang/julia/usr/share/julia/stdlib/v1.9/LinearAlgebra/src/triangular.jl:1340</a></li> <li> *(A::<b>LinearAlgebra.AbstractTriangular</b>, B::<b>LinearAlgebra.AbstractTriangular</b>) in LinearAlgebra at <a href=\"https://github.com/JuliaLang/julia/tree/8e630552924eac54c809aa7bc30871c7df1582d3//usr/share/julia/stdlib/v1.9/LinearAlgebra/src/triangular.jl#L1400\" target=\"_blank\">/home/jzhang/julia/usr/share/julia/stdlib/v1.9/LinearAlgebra/src/triangular.jl:1400</a></li> <li> *(A::<b>AbstractMatrix</b>, B::<b>LinearAlgebra.AbstractTriangular</b>) in LinearAlgebra at <a href=\"https://github.com/JuliaLang/julia/tree/8e630552924eac54c809aa7bc30871c7df1582d3//usr/share/julia/stdlib/v1.9/LinearAlgebra/src/triangular.jl#L1445\" target=\"_blank\">/home/jzhang/julia/usr/share/julia/stdlib/v1.9/LinearAlgebra/src/triangular.jl:1445</a></li> <li> *(A::<b>LinearAlgebra.UnitUpperTriangular</b>, D::<b>LinearAlgebra.Diagonal</b>) in LinearAlgebra at <a href=\"https://github.com/JuliaLang/julia/tree/8e630552924eac54c809aa7bc30871c7df1582d3//usr/share/julia/stdlib/v1.9/LinearAlgebra/src/diagonal.jl#L541\" target=\"_blank\">/home/jzhang/julia/usr/share/julia/stdlib/v1.9/LinearAlgebra/src/diagonal.jl:541</a></li> <li> *(A::<b>LinearAlgebra.AbstractTriangular</b>, D::<b>LinearAlgebra.Diagonal</b>) in LinearAlgebra at <a href=\"https://github.com/JuliaLang/julia/tree/8e630552924eac54c809aa7bc30871c7df1582d3//usr/share/julia/stdlib/v1.9/LinearAlgebra/src/diagonal.jl#L800\" target=\"_blank\">/home/jzhang/julia/usr/share/julia/stdlib/v1.9/LinearAlgebra/src/diagonal.jl:800</a></li> <li> *(A::<b>AbstractMatrix</b>, D::<b>LinearAlgebra.Diagonal</b>) in LinearAlgebra at <a href=\"https://github.com/JuliaLang/julia/tree/8e630552924eac54c809aa7bc30871c7df1582d3//usr/share/julia/stdlib/v1.9/LinearAlgebra/src/diagonal.jl#L247\" target=\"_blank\">/home/jzhang/julia/usr/share/julia/stdlib/v1.9/LinearAlgebra/src/diagonal.jl:247</a></li> <li> *(A::<b>LinearAlgebra.AbstractTriangular</b>, B::<b>AbstractVector</b>) in LinearAlgebra at <a href=\"https://github.com/JuliaLang/julia/tree/8e630552924eac54c809aa7bc30871c7df1582d3//usr/share/julia/stdlib/v1.9/LinearAlgebra/src/triangular.jl#L1408\" target=\"_blank\">/home/jzhang/julia/usr/share/julia/stdlib/v1.9/LinearAlgebra/src/triangular.jl:1408</a></li> <li> *(A::<b>LinearAlgebra.AbstractTriangular</b>, B::<b>AbstractMatrix</b>) in LinearAlgebra at <a href=\"https://github.com/JuliaLang/julia/tree/8e630552924eac54c809aa7bc30871c7df1582d3//usr/share/julia/stdlib/v1.9/LinearAlgebra/src/triangular.jl#L1408\" target=\"_blank\">/home/jzhang/julia/usr/share/julia/stdlib/v1.9/LinearAlgebra/src/triangular.jl:1408</a></li> <li> *(A::<b>SparseArrays.CHOLMOD.Sparse</b>, B::<b>SparseArrays.CHOLMOD.Sparse</b>) in SparseArrays.CHOLMOD at <a href=\"https://github.com/JuliaLang/julia/tree/8e630552924eac54c809aa7bc30871c7df1582d3//usr/share/julia/stdlib/v1.9/SparseArrays/src/solvers/cholmod.jl#L1075\" target=\"_blank\">/home/jzhang/julia/usr/share/julia/stdlib/v1.9/SparseArrays/src/solvers/cholmod.jl:1075</a></li> <li> *(A::<b>SparseArrays.CHOLMOD.Sparse</b>, B::<b>SparseArrays.CHOLMOD.Dense</b>) in SparseArrays.CHOLMOD at <a href=\"https://github.com/JuliaLang/julia/tree/8e630552924eac54c809aa7bc30871c7df1582d3//usr/share/julia/stdlib/v1.9/SparseArrays/src/solvers/cholmod.jl#L1076\" target=\"_blank\">/home/jzhang/julia/usr/share/julia/stdlib/v1.9/SparseArrays/src/solvers/cholmod.jl:1076</a></li> <li> *(A::<b>SparseArrays.CHOLMOD.Sparse</b>, B::<b>VecOrMat</b>) in SparseArrays.CHOLMOD at <a href=\"https://github.com/JuliaLang/julia/tree/8e630552924eac54c809aa7bc30871c7df1582d3//usr/share/julia/stdlib/v1.9/SparseArrays/src/solvers/cholmod.jl#L1077\" target=\"_blank\">/home/jzhang/julia/usr/share/julia/stdlib/v1.9/SparseArrays/src/solvers/cholmod.jl:1077</a></li> <li> *(A::<b>SparseArrays.CHOLMOD.Sparse{Tv}</b>, adjB::<b>LinearAlgebra.Adjoint{Tv, SparseArrays.CHOLMOD.Sparse{Tv}}</b>)<i> where Tv<:Float64</i> in SparseArrays.CHOLMOD at <a href=\"https://github.com/JuliaLang/julia/tree/8e630552924eac54c809aa7bc30871c7df1582d3//usr/share/julia/stdlib/v1.9/SparseArrays/src/solvers/cholmod.jl#L1079\" target=\"_blank\">/home/jzhang/julia/usr/share/julia/stdlib/v1.9/SparseArrays/src/solvers/cholmod.jl:1079</a></li> <li> *(u::<b>AbstractVector</b>, v::<b>Union{LinearAlgebra.Adjoint{T, var\"#s970\"}, LinearAlgebra.Transpose{T, var\"#s970\"}} where {T, var\"#s970\"<:(AbstractVector)}</b>) in LinearAlgebra at <a href=\"https://github.com/JuliaLang/julia/tree/8e630552924eac54c809aa7bc30871c7df1582d3//usr/share/julia/stdlib/v1.9/LinearAlgebra/src/adjtrans.jl#L439\" target=\"_blank\">/home/jzhang/julia/usr/share/julia/stdlib/v1.9/LinearAlgebra/src/adjtrans.jl:439</a></li> <li> *(u::<b>AbstractVector</b>, tv::<b>Union{LinearAlgebra.Adjoint{T, var\"#s970\"}, LinearAlgebra.Transpose{T, var\"#s970\"}} where {T, var\"#s970\"<:(AbstractVector)}</b>, C::<b>AbstractMatrix</b>) in LinearAlgebra at <a href=\"https://github.com/JuliaLang/julia/tree/8e630552924eac54c809aa7bc30871c7df1582d3//usr/share/julia/stdlib/v1.9/LinearAlgebra/src/matmul.jl#L1164\" target=\"_blank\">/home/jzhang/julia/usr/share/julia/stdlib/v1.9/LinearAlgebra/src/matmul.jl:1164</a></li> <li> *(u::<b>AbstractVector</b>, tv::<b>Union{LinearAlgebra.Adjoint{T, var\"#s970\"}, LinearAlgebra.Transpose{T, var\"#s970\"}} where {T, var\"#s970\"<:(AbstractVector)}</b>, γ::<b>Number</b>) in LinearAlgebra at <a href=\"https://github.com/JuliaLang/julia/tree/8e630552924eac54c809aa7bc30871c7df1582d3//usr/share/julia/stdlib/v1.9/LinearAlgebra/src/matmul.jl#L1163\" target=\"_blank\">/home/jzhang/julia/usr/share/julia/stdlib/v1.9/LinearAlgebra/src/matmul.jl:1163</a></li> <li> *(A::<b>AbstractMatrix</b>, B::<b>AbstractMatrix</b>) in LinearAlgebra at <a href=\"https://github.com/JuliaLang/julia/tree/8e630552924eac54c809aa7bc30871c7df1582d3//usr/share/julia/stdlib/v1.9/LinearAlgebra/src/matmul.jl#L139\" target=\"_blank\">/home/jzhang/julia/usr/share/julia/stdlib/v1.9/LinearAlgebra/src/matmul.jl:139</a></li> <li> *(A::<b>AbstractMatrix</b>, B::<b>AbstractMatrix</b>, γ::<b>Number</b>) in LinearAlgebra at <a href=\"https://github.com/JuliaLang/julia/tree/8e630552924eac54c809aa7bc30871c7df1582d3//usr/share/julia/stdlib/v1.9/LinearAlgebra/src/matmul.jl#L1156\" target=\"_blank\">/home/jzhang/julia/usr/share/julia/stdlib/v1.9/LinearAlgebra/src/matmul.jl:1156</a></li> <li> *(A::<b>AbstractMatrix</b>, B::<b>AbstractMatrix</b>, x::<b>AbstractVector</b>) in LinearAlgebra at <a href=\"https://github.com/JuliaLang/julia/tree/8e630552924eac54c809aa7bc30871c7df1582d3//usr/share/julia/stdlib/v1.9/LinearAlgebra/src/matmul.jl#L1150\" target=\"_blank\">/home/jzhang/julia/usr/share/julia/stdlib/v1.9/LinearAlgebra/src/matmul.jl:1150</a></li> <li> *(A::<b>AbstractMatrix{T}</b>, x::<b>AbstractVector{S}</b>)<i> where {T, S}</i> in LinearAlgebra at <a href=\"https://github.com/JuliaLang/julia/tree/8e630552924eac54c809aa7bc30871c7df1582d3//usr/share/julia/stdlib/v1.9/LinearAlgebra/src/matmul.jl#L54\" target=\"_blank\">/home/jzhang/julia/usr/share/julia/stdlib/v1.9/LinearAlgebra/src/matmul.jl:54</a></li> <li> *(A::<b>AbstractMatrix</b>, x::<b>AbstractVector</b>, γ::<b>Number</b>) in LinearAlgebra at <a href=\"https://github.com/JuliaLang/julia/tree/8e630552924eac54c809aa7bc30871c7df1582d3//usr/share/julia/stdlib/v1.9/LinearAlgebra/src/matmul.jl#L1155\" target=\"_blank\">/home/jzhang/julia/usr/share/julia/stdlib/v1.9/LinearAlgebra/src/matmul.jl:1155</a></li> <li> *(A::<b>AbstractMatrix</b>, B::<b>AbstractMatrix</b>, C::<b>AbstractMatrix</b>) in LinearAlgebra at <a href=\"https://github.com/JuliaLang/julia/tree/8e630552924eac54c809aa7bc30871c7df1582d3//usr/share/julia/stdlib/v1.9/LinearAlgebra/src/matmul.jl#L1166\" target=\"_blank\">/home/jzhang/julia/usr/share/julia/stdlib/v1.9/LinearAlgebra/src/matmul.jl:1166</a></li> <li> *(A::<b>AbstractMatrix</b>, x::<b>AbstractVector</b>, γ::<b>Number</b>, δ::<b>Number</b>) in LinearAlgebra at <a href=\"https://github.com/JuliaLang/julia/tree/8e630552924eac54c809aa7bc30871c7df1582d3//usr/share/julia/stdlib/v1.9/LinearAlgebra/src/matmul.jl#L1221\" target=\"_blank\">/home/jzhang/julia/usr/share/julia/stdlib/v1.9/LinearAlgebra/src/matmul.jl:1221</a></li> <li> *(A::<b>AbstractMatrix</b>, B::<b>AbstractMatrix</b>, γ::<b>Number</b>, δ::<b>Number</b>) in LinearAlgebra at <a href=\"https://github.com/JuliaLang/julia/tree/8e630552924eac54c809aa7bc30871c7df1582d3//usr/share/julia/stdlib/v1.9/LinearAlgebra/src/matmul.jl#L1222\" target=\"_blank\">/home/jzhang/julia/usr/share/julia/stdlib/v1.9/LinearAlgebra/src/matmul.jl:1222</a></li> <li> *(A::<b>AbstractMatrix</b>, B::<b>AbstractMatrix</b>, x::<b>AbstractVector</b>, δ::<b>Number</b>) in LinearAlgebra at <a href=\"https://github.com/JuliaLang/julia/tree/8e630552924eac54c809aa7bc30871c7df1582d3//usr/share/julia/stdlib/v1.9/LinearAlgebra/src/matmul.jl#L1223\" target=\"_blank\">/home/jzhang/julia/usr/share/julia/stdlib/v1.9/LinearAlgebra/src/matmul.jl:1223</a></li> <li> *(A::<b>AbstractMatrix</b>, B::<b>AbstractMatrix</b>, C::<b>AbstractMatrix</b>, x::<b>AbstractVector</b>) in LinearAlgebra at <a href=\"https://github.com/JuliaLang/julia/tree/8e630552924eac54c809aa7bc30871c7df1582d3//usr/share/julia/stdlib/v1.9/LinearAlgebra/src/matmul.jl#L1227\" target=\"_blank\">/home/jzhang/julia/usr/share/julia/stdlib/v1.9/LinearAlgebra/src/matmul.jl:1227</a></li> <li> *(A::<b>AbstractMatrix</b>, B::<b>AbstractMatrix</b>, C::<b>AbstractMatrix</b>, δ::<b>Number</b>) in LinearAlgebra at <a href=\"https://github.com/JuliaLang/julia/tree/8e630552924eac54c809aa7bc30871c7df1582d3//usr/share/julia/stdlib/v1.9/LinearAlgebra/src/matmul.jl#L1232\" target=\"_blank\">/home/jzhang/julia/usr/share/julia/stdlib/v1.9/LinearAlgebra/src/matmul.jl:1232</a></li> <li> *(A::<b>AbstractMatrix</b>, B::<b>AbstractMatrix</b>, C::<b>AbstractMatrix</b>, D::<b>AbstractMatrix</b>) in LinearAlgebra at <a href=\"https://github.com/JuliaLang/julia/tree/8e630552924eac54c809aa7bc30871c7df1582d3//usr/share/julia/stdlib/v1.9/LinearAlgebra/src/matmul.jl#L1235\" target=\"_blank\">/home/jzhang/julia/usr/share/julia/stdlib/v1.9/LinearAlgebra/src/matmul.jl:1235</a></li> <li> *(a::<b>AbstractVector</b>, adjB::<b>LinearAlgebra.Adjoint{T, <:AbstractMatrix} where T</b>) in LinearAlgebra at <a href=\"https://github.com/JuliaLang/julia/tree/8e630552924eac54c809aa7bc30871c7df1582d3//usr/share/julia/stdlib/v1.9/LinearAlgebra/src/matmul.jl#L61\" target=\"_blank\">/home/jzhang/julia/usr/share/julia/stdlib/v1.9/LinearAlgebra/src/matmul.jl:61</a></li> <li> *(a::<b>AbstractVector</b>, B::<b>AbstractMatrix</b>) in LinearAlgebra at <a href=\"https://github.com/JuliaLang/julia/tree/8e630552924eac54c809aa7bc30871c7df1582d3//usr/share/julia/stdlib/v1.9/LinearAlgebra/src/matmul.jl#L62\" target=\"_blank\">/home/jzhang/julia/usr/share/julia/stdlib/v1.9/LinearAlgebra/src/matmul.jl:62</a></li> <li> *(x::<b>P</b>, y::<b>Real</b>)<i> where P<:Dates.Period</i> in Dates at <a href=\"https://github.com/JuliaLang/julia/tree/8e630552924eac54c809aa7bc30871c7df1582d3//usr/share/julia/stdlib/v1.9/Dates/src/periods.jl#L90\" target=\"_blank\">/home/jzhang/julia/usr/share/julia/stdlib/v1.9/Dates/src/periods.jl:90</a></li> <li> *(x::<b>Dates.Period</b>, r::<b>AbstractRange{<:Real}</b>) in Dates at <a href=\"https://github.com/JuliaLang/julia/tree/8e630552924eac54c809aa7bc30871c7df1582d3//usr/share/julia/stdlib/v1.9/Dates/src/ranges.jl#L67\" target=\"_blank\">/home/jzhang/julia/usr/share/julia/stdlib/v1.9/Dates/src/ranges.jl:67</a></li> <li> *(A::<b>Dates.Period</b>, B::<b>AbstractArray</b>) in Dates at <a href=\"https://github.com/JuliaLang/julia/tree/8e630552924eac54c809aa7bc30871c7df1582d3//usr/share/julia/stdlib/v1.9/Dates/src/periods.jl#L93\" target=\"_blank\">/home/jzhang/julia/usr/share/julia/stdlib/v1.9/Dates/src/periods.jl:93</a></li> <li> *(R::<b>LinearAlgebra.Rotation{S}</b>, G::<b>LinearAlgebra.Givens{T}</b>)<i> where {S, T}</i> in LinearAlgebra at <a href=\"https://github.com/JuliaLang/julia/tree/8e630552924eac54c809aa7bc30871c7df1582d3//usr/share/julia/stdlib/v1.9/LinearAlgebra/src/givens.jl#L425\" target=\"_blank\">/home/jzhang/julia/usr/share/julia/stdlib/v1.9/LinearAlgebra/src/givens.jl:425</a></li> <li> *(y::<b>AbstractFloat</b>, x::<b>Bool</b>) in Base at <a href=\"https://github.com/JuliaLang/julia/tree/8e630552924eac54c809aa7bc30871c7df1582d3/base/bool.jl#L182\" target=\"_blank\">bool.jl:182</a></li> <li> *(x::<b>BigInt</b>, c::<b>Union{UInt16, UInt32, UInt64, UInt8}</b>) in Base.GMP at <a href=\"https://github.com/JuliaLang/julia/tree/8e630552924eac54c809aa7bc30871c7df1582d3/base/gmp.jl#L549\" target=\"_blank\">gmp.jl:549</a></li> <li> *(x::<b>BigInt</b>, c::<b>Union{Int16, Int32, Int64, Int8}</b>) in Base.GMP at <a href=\"https://github.com/JuliaLang/julia/tree/8e630552924eac54c809aa7bc30871c7df1582d3/base/gmp.jl#L551\" target=\"_blank\">gmp.jl:551</a></li> <li> *(x::<b>BigInt</b>, y::<b>BigInt</b>) in Base.GMP at <a href=\"https://github.com/JuliaLang/julia/tree/8e630552924eac54c809aa7bc30871c7df1582d3/base/gmp.jl#L490\" target=\"_blank\">gmp.jl:490</a></li> <li> *(a::<b>BigInt</b>, b::<b>BigInt</b>, c::<b>BigInt</b>) in Base.GMP at <a href=\"https://github.com/JuliaLang/julia/tree/8e630552924eac54c809aa7bc30871c7df1582d3/base/gmp.jl#L530\" target=\"_blank\">gmp.jl:530</a></li> <li> *(a::<b>BigInt</b>, b::<b>BigInt</b>, c::<b>BigInt</b>, d::<b>BigInt</b>) in Base.GMP at <a href=\"https://github.com/JuliaLang/julia/tree/8e630552924eac54c809aa7bc30871c7df1582d3/base/gmp.jl#L531\" target=\"_blank\">gmp.jl:531</a></li> <li> *(a::<b>BigInt</b>, b::<b>BigInt</b>, c::<b>BigInt</b>, d::<b>BigInt</b>, e::<b>BigInt</b>) in Base.GMP at <a href=\"https://github.com/JuliaLang/julia/tree/8e630552924eac54c809aa7bc30871c7df1582d3/base/gmp.jl#L532\" target=\"_blank\">gmp.jl:532</a></li> <li> *(c::<b>BigInt</b>, x::<b>BigFloat</b>) in Base.MPFR at <a href=\"https://github.com/JuliaLang/julia/tree/8e630552924eac54c809aa7bc30871c7df1582d3/base/mpfr.jl#L431\" target=\"_blank\">mpfr.jl:431</a></li> <li> *(::<b>Missing</b>) in Base at <a href=\"https://github.com/JuliaLang/julia/tree/8e630552924eac54c809aa7bc30871c7df1582d3/base/missing.jl#L101\" target=\"_blank\">missing.jl:101</a></li> <li> *(::<b>Missing</b>, ::<b>Number</b>) in Base at <a href=\"https://github.com/JuliaLang/julia/tree/8e630552924eac54c809aa7bc30871c7df1582d3/base/missing.jl#L123\" target=\"_blank\">missing.jl:123</a></li> <li> *(d::<b>Missing</b>, x::<b>Union{AbstractChar, AbstractString}</b>) in Base at <a href=\"https://github.com/JuliaLang/julia/tree/8e630552924eac54c809aa7bc30871c7df1582d3/base/missing.jl#L182\" target=\"_blank\">missing.jl:182</a></li> <li> *(::<b>Missing</b>, ::<b>Missing</b>) in Base at <a href=\"https://github.com/JuliaLang/julia/tree/8e630552924eac54c809aa7bc30871c7df1582d3/base/missing.jl#L122\" target=\"_blank\">missing.jl:122</a></li> <li> *(r::<b>Regex</b>) in Base at <a href=\"https://github.com/JuliaLang/julia/tree/8e630552924eac54c809aa7bc30871c7df1582d3/base/regex.jl#L780\" target=\"_blank\">regex.jl:780</a></li> <li> *(r1::<b>Union{Regex, AbstractChar, AbstractString}</b>, rs::<b>Union{Regex, AbstractChar, AbstractString}...</b>) in Base at <a href=\"https://github.com/JuliaLang/julia/tree/8e630552924eac54c809aa7bc30871c7df1582d3/base/regex.jl#L759\" target=\"_blank\">regex.jl:759</a></li> <li> *(z::<b>Complex{Bool}</b>, x::<b>Bool</b>) in Base at <a href=\"https://github.com/JuliaLang/julia/tree/8e630552924eac54c809aa7bc30871c7df1582d3/base/complex.jl#L307\" target=\"_blank\">complex.jl:307</a></li> <li> *(z::<b>Complex</b>, x::<b>Bool</b>) in Base at <a href=\"https://github.com/JuliaLang/julia/tree/8e630552924eac54c809aa7bc30871c7df1582d3/base/complex.jl#L314\" target=\"_blank\">complex.jl:314</a></li> <li> *(z::<b>Complex{Bool}</b>, x::<b>Real</b>) in Base at <a href=\"https://github.com/JuliaLang/julia/tree/8e630552924eac54c809aa7bc30871c7df1582d3/base/complex.jl#L325\" target=\"_blank\">complex.jl:325</a></li> <li> *(z::<b>Complex</b>, x::<b>Real</b>) in Base at <a href=\"https://github.com/JuliaLang/julia/tree/8e630552924eac54c809aa7bc30871c7df1582d3/base/complex.jl#L337\" target=\"_blank\">complex.jl:337</a></li> <li> *(x::<b>Bool</b>, y::<b>T</b>)<i> where T<:AbstractFloat</i> in Base at <a href=\"https://github.com/JuliaLang/julia/tree/8e630552924eac54c809aa7bc30871c7df1582d3/base/bool.jl#L179\" target=\"_blank\">bool.jl:179</a></li> <li> *(x::<b>Bool</b>, y::<b>AbstractIrrational</b>) in Base at <a href=\"https://github.com/JuliaLang/julia/tree/8e630552924eac54c809aa7bc30871c7df1582d3/base/irrationals.jl#L163\" target=\"_blank\">irrationals.jl:163</a></li> <li> *(x::<b>Bool</b>, y::<b>Bool</b>) in Base at <a href=\"https://github.com/JuliaLang/julia/tree/8e630552924eac54c809aa7bc30871c7df1582d3/base/bool.jl#L168\" target=\"_blank\">bool.jl:168</a></li> <li> *(a::<b>Integer</b>, b::<b>Integer</b>) in Base at <a href=\"https://github.com/JuliaLang/julia/tree/8e630552924eac54c809aa7bc30871c7df1582d3/base/int.jl#L1038\" target=\"_blank\">int.jl:1038</a></li> <li> *(x::<b>Bool</b>, z::<b>Complex{Bool}</b>) in Base at <a href=\"https://github.com/JuliaLang/julia/tree/8e630552924eac54c809aa7bc30871c7df1582d3/base/complex.jl#L306\" target=\"_blank\">complex.jl:306</a></li> <li> *(x::<b>Real</b>, z::<b>Complex{Bool}</b>) in Base at <a href=\"https://github.com/JuliaLang/julia/tree/8e630552924eac54c809aa7bc30871c7df1582d3/base/complex.jl#L324\" target=\"_blank\">complex.jl:324</a></li> <li> *(x::<b>Bool</b>, z::<b>Complex</b>) in Base at <a href=\"https://github.com/JuliaLang/julia/tree/8e630552924eac54c809aa7bc30871c7df1582d3/base/complex.jl#L313\" target=\"_blank\">complex.jl:313</a></li> <li> *(x::<b>Real</b>, z::<b>Complex</b>) in Base at <a href=\"https://github.com/JuliaLang/julia/tree/8e630552924eac54c809aa7bc30871c7df1582d3/base/complex.jl#L336\" target=\"_blank\">complex.jl:336</a></li> <li> *(B::<b>BitMatrix</b>, J::<b>LinearAlgebra.UniformScaling</b>) in LinearAlgebra at <a href=\"https://github.com/JuliaLang/julia/tree/8e630552924eac54c809aa7bc30871c7df1582d3//usr/share/julia/stdlib/v1.9/LinearAlgebra/src/uniformscaling.jl#L258\" target=\"_blank\">/home/jzhang/julia/usr/share/julia/stdlib/v1.9/LinearAlgebra/src/uniformscaling.jl:258</a></li> <li> *(x::<b>AbstractMatrix{<:Number}</b>) in Base at <a href=\"https://github.com/JuliaLang/julia/tree/8e630552924eac54c809aa7bc30871c7df1582d3/base/abstractarraymath.jl#L221\" target=\"_blank\">abstractarraymath.jl:221</a></li> <li> *(A::<b>AbstractMatrix</b>, J::<b>LinearAlgebra.UniformScaling</b>) in LinearAlgebra at <a href=\"https://github.com/JuliaLang/julia/tree/8e630552924eac54c809aa7bc30871c7df1582d3//usr/share/julia/stdlib/v1.9/LinearAlgebra/src/uniformscaling.jl#L260\" target=\"_blank\">/home/jzhang/julia/usr/share/julia/stdlib/v1.9/LinearAlgebra/src/uniformscaling.jl:260</a></li> <li> *(v::<b>AbstractVector</b>, J::<b>LinearAlgebra.UniformScaling</b>) in LinearAlgebra at <a href=\"https://github.com/JuliaLang/julia/tree/8e630552924eac54c809aa7bc30871c7df1582d3//usr/share/julia/stdlib/v1.9/LinearAlgebra/src/uniformscaling.jl#L261\" target=\"_blank\">/home/jzhang/julia/usr/share/julia/stdlib/v1.9/LinearAlgebra/src/uniformscaling.jl:261</a></li> <li> *(x::<b>BigFloat</b>, c::<b>Union{UInt16, UInt32, UInt64, UInt8}</b>) in Base.MPFR at <a href=\"https://github.com/JuliaLang/julia/tree/8e630552924eac54c809aa7bc30871c7df1582d3/base/mpfr.jl#L402\" target=\"_blank\">mpfr.jl:402</a></li> <li> *(x::<b>BigFloat</b>, c::<b>Union{Int16, Int32, Int64, Int8}</b>) in Base.MPFR at <a href=\"https://github.com/JuliaLang/julia/tree/8e630552924eac54c809aa7bc30871c7df1582d3/base/mpfr.jl#L410\" target=\"_blank\">mpfr.jl:410</a></li> <li> *(x::<b>BigFloat</b>, c::<b>Union{Float16, Float32, Float64}</b>) in Base.MPFR at <a href=\"https://github.com/JuliaLang/julia/tree/8e630552924eac54c809aa7bc30871c7df1582d3/base/mpfr.jl#L418\" target=\"_blank\">mpfr.jl:418</a></li> <li> *(x::<b>BigFloat</b>, y::<b>BigFloat</b>) in Base.MPFR at <a href=\"https://github.com/JuliaLang/julia/tree/8e630552924eac54c809aa7bc30871c7df1582d3/base/mpfr.jl#L395\" target=\"_blank\">mpfr.jl:395</a></li> <li> *(x::<b>BigFloat</b>, c::<b>BigInt</b>) in Base.MPFR at <a href=\"https://github.com/JuliaLang/julia/tree/8e630552924eac54c809aa7bc30871c7df1582d3/base/mpfr.jl#L426\" target=\"_blank\">mpfr.jl:426</a></li> <li> *(a::<b>BigFloat</b>, b::<b>BigFloat</b>, c::<b>BigFloat</b>) in Base.MPFR at <a href=\"https://github.com/JuliaLang/julia/tree/8e630552924eac54c809aa7bc30871c7df1582d3/base/mpfr.jl#L567\" target=\"_blank\">mpfr.jl:567</a></li> <li> *(a::<b>BigFloat</b>, b::<b>BigFloat</b>, c::<b>BigFloat</b>, d::<b>BigFloat</b>) in Base.MPFR at <a href=\"https://github.com/JuliaLang/julia/tree/8e630552924eac54c809aa7bc30871c7df1582d3/base/mpfr.jl#L573\" target=\"_blank\">mpfr.jl:573</a></li> <li> *(a::<b>BigFloat</b>, b::<b>BigFloat</b>, c::<b>BigFloat</b>, d::<b>BigFloat</b>, e::<b>BigFloat</b>) in Base.MPFR at <a href=\"https://github.com/JuliaLang/julia/tree/8e630552924eac54c809aa7bc30871c7df1582d3/base/mpfr.jl#L580\" target=\"_blank\">mpfr.jl:580</a></li> <li> *(x::<b>Rational{BigInt}</b>, y::<b>Rational{BigInt}</b>) in Base.GMP.MPQ at <a href=\"https://github.com/JuliaLang/julia/tree/8e630552924eac54c809aa7bc30871c7df1582d3/base/gmp.jl#L1030\" target=\"_blank\">gmp.jl:1030</a></li> <li> *(x::<b>Rational</b>, y::<b>Rational</b>) in Base at <a href=\"https://github.com/JuliaLang/julia/tree/8e630552924eac54c809aa7bc30871c7df1582d3/base/rational.jl#L347\" target=\"_blank\">rational.jl:347</a></li> <li> *(x::<b>Number</b>) in Base at <a href=\"https://github.com/JuliaLang/julia/tree/8e630552924eac54c809aa7bc30871c7df1582d3/base/operators.jl#L516\" target=\"_blank\">operators.jl:516</a></li> <li> *(α::<b>Number</b>, vt::<b>Union{LinearAlgebra.Adjoint{T, var\"#s970\"}, LinearAlgebra.Transpose{T, var\"#s970\"}} where {T, var\"#s970\"<:(AbstractVector)}</b>, C::<b>AbstractMatrix</b>, x::<b>AbstractVector</b>) in LinearAlgebra at <a href=\"https://github.com/JuliaLang/julia/tree/8e630552924eac54c809aa7bc30871c7df1582d3//usr/share/julia/stdlib/v1.9/LinearAlgebra/src/matmul.jl#L1217\" target=\"_blank\">/home/jzhang/julia/usr/share/julia/stdlib/v1.9/LinearAlgebra/src/matmul.jl:1217</a></li> <li> *(x::<b>T</b>, y::<b>T</b>)<i> where T<:Number</i> in Base at <a href=\"https://github.com/JuliaLang/julia/tree/8e630552924eac54c809aa7bc30871c7df1582d3/base/promotion.jl#L486\" target=\"_blank\">promotion.jl:486</a></li> <li> *(x::<b>Number</b>, y::<b>Number</b>) in Base at <a href=\"https://github.com/JuliaLang/julia/tree/8e630552924eac54c809aa7bc30871c7df1582d3/base/promotion.jl#L411\" target=\"_blank\">promotion.jl:411</a></li> <li> *(α::<b>Number</b>, β::<b>Number</b>, C::<b>AbstractMatrix</b>, D::<b>AbstractMatrix</b>) in LinearAlgebra at <a href=\"https://github.com/JuliaLang/julia/tree/8e630552924eac54c809aa7bc30871c7df1582d3//usr/share/julia/stdlib/v1.9/LinearAlgebra/src/matmul.jl#L1215\" target=\"_blank\">/home/jzhang/julia/usr/share/julia/stdlib/v1.9/LinearAlgebra/src/matmul.jl:1215</a></li> <li> *(α::<b>Number</b>, β::<b>Number</b>, C::<b>AbstractMatrix</b>, x::<b>AbstractVector</b>) in LinearAlgebra at <a href=\"https://github.com/JuliaLang/julia/tree/8e630552924eac54c809aa7bc30871c7df1582d3//usr/share/julia/stdlib/v1.9/LinearAlgebra/src/matmul.jl#L1214\" target=\"_blank\">/home/jzhang/julia/usr/share/julia/stdlib/v1.9/LinearAlgebra/src/matmul.jl:1214</a></li> <li> *(a, b, c, xs...) in Base at <a href=\"https://github.com/JuliaLang/julia/tree/8e630552924eac54c809aa7bc30871c7df1582d3/base/operators.jl#L578\" target=\"_blank\">operators.jl:578</a></li> </ul>"
      ],
      "text/plain": [
       "# 309 methods for generic function \"*\" from \u001b[90mBase\u001b[39m:\n",
       "   [1] *(\u001b[90mx\u001b[39m::\u001b[1mT\u001b[22m, \u001b[90my\u001b[39m::\u001b[1mT\u001b[22m) where T<:Union{Int128, UInt128}\n",
       "\u001b[90m     @\u001b[39m \u001b[90m\u001b[4mint.jl:1027\u001b[24m\u001b[39m\n",
       "   [2] *(\u001b[90mx\u001b[39m::\u001b[1mT\u001b[22m, \u001b[90my\u001b[39m::\u001b[1mT\u001b[22m) where T<:Union{Int128, Int16, Int32, Int64, Int8, UInt128, UInt16, UInt32, UInt64, UInt8}\n",
       "\u001b[90m     @\u001b[39m \u001b[90m\u001b[4mint.jl:88\u001b[24m\u001b[39m\n",
       "   [3] *(\u001b[90mx\u001b[39m::\u001b[1mT\u001b[22m, \u001b[90my\u001b[39m::\u001b[1mT\u001b[22m) where T<:Union{Float16, Float32, Float64}\n",
       "\u001b[90m     @\u001b[39m \u001b[90m\u001b[4mfloat.jl:410\u001b[24m\u001b[39m\n",
       "   [4] *(\u001b[90ms1\u001b[39m::\u001b[1mUnion\u001b[22m\u001b[0m{AbstractChar, AbstractString}, \u001b[90mss\u001b[39m::\u001b[1mUnion\u001b[22m\u001b[0m{AbstractChar, AbstractString}\u001b[1m...\u001b[22m)\n",
       "\u001b[90m     @\u001b[39m \u001b[90mstrings/\u001b[39m\u001b[90m\u001b[4mbasic.jl:260\u001b[24m\u001b[39m\n",
       "   [5] *(\u001b[90md\u001b[39m::\u001b[1mUnion\u001b[22m\u001b[0m{AbstractChar, AbstractString}, \u001b[90mx\u001b[39m::\u001b[1mMissing\u001b[22m)\n",
       "\u001b[90m     @\u001b[39m \u001b[90m\u001b[4mmissing.jl:183\u001b[24m\u001b[39m\n",
       "   [6] *(\u001b[90mc\u001b[39m::\u001b[1mUnion\u001b[22m\u001b[0m{UInt16, UInt32, UInt64, UInt8}, \u001b[90mx\u001b[39m::\u001b[1mBigInt\u001b[22m)\n",
       "\u001b[90m     @\u001b[39m \u001b[90mBase.GMP\u001b[39m \u001b[90m\u001b[4mgmp.jl:550\u001b[24m\u001b[39m\n",
       "   [7] *(\u001b[90mc\u001b[39m::\u001b[1mUnion\u001b[22m\u001b[0m{Int16, Int32, Int64, Int8}, \u001b[90mx\u001b[39m::\u001b[1mBigInt\u001b[22m)\n",
       "\u001b[90m     @\u001b[39m \u001b[90mBase.GMP\u001b[39m \u001b[90m\u001b[4mgmp.jl:552\u001b[24m\u001b[39m\n",
       "   [8] *(\u001b[90mc\u001b[39m::\u001b[1mUnion\u001b[22m\u001b[0m{UInt16, UInt32, UInt64, UInt8}, \u001b[90mx\u001b[39m::\u001b[1mBigFloat\u001b[22m)\n",
       "\u001b[90m     @\u001b[39m \u001b[90mBase.MPFR\u001b[39m \u001b[90m\u001b[4mmpfr.jl:407\u001b[24m\u001b[39m\n",
       "   [9] *(\u001b[90mc\u001b[39m::\u001b[1mUnion\u001b[22m\u001b[0m{Int16, Int32, Int64, Int8}, \u001b[90mx\u001b[39m::\u001b[1mBigFloat\u001b[22m)\n",
       "\u001b[90m     @\u001b[39m \u001b[90mBase.MPFR\u001b[39m \u001b[90m\u001b[4mmpfr.jl:415\u001b[24m\u001b[39m\n",
       "  [10] *(\u001b[90mc\u001b[39m::\u001b[1mUnion\u001b[22m\u001b[0m{Float16, Float32, Float64}, \u001b[90mx\u001b[39m::\u001b[1mBigFloat\u001b[22m)\n",
       "\u001b[90m     @\u001b[39m \u001b[90mBase.MPFR\u001b[39m \u001b[90m\u001b[4mmpfr.jl:423\u001b[24m\u001b[39m\n",
       "  [11] *(\u001b[90mA\u001b[39m::\u001b[1mStridedMatrix\u001b[22m\u001b[0m{T}, \u001b[90mx\u001b[39m::\u001b[1mStridedVector\u001b[22m\u001b[0m{S}) where {T<:Union{Float32, Float64, ComplexF64, ComplexF32}, S<:Real}\n",
       "\u001b[90m     @\u001b[39m \u001b[35mLinearAlgebra\u001b[39m \u001b[90m~/julia/usr/share/julia/stdlib/v1.9/LinearAlgebra/src/\u001b[39m\u001b[90m\u001b[4mmatmul.jl:49\u001b[24m\u001b[39m\n",
       "  [12] *(\u001b[90mA\u001b[39m::\u001b[1mUnion\u001b[22m\u001b[0m{LinearAlgebra.Adjoint{var\"#s970\", <:StridedMatrix{T} where T}, LinearAlgebra.Transpose{var\"#s970\", <:StridedMatrix{T} where T}, StridedMatrix{var\"#s970\"}} where var\"#s970\"<:Union{Float32, Float64}, \u001b[90mB\u001b[39m::\u001b[1mUnion\u001b[22m\u001b[0m{LinearAlgebra.Adjoint{var\"#s969\", <:StridedMatrix{T} where T}, LinearAlgebra.Transpose{var\"#s969\", <:StridedMatrix{T} where T}, StridedMatrix{var\"#s969\"}} where var\"#s969\"<:Union{Float32, Float64})\n",
       "\u001b[90m     @\u001b[39m \u001b[35mLinearAlgebra\u001b[39m \u001b[90m~/julia/usr/share/julia/stdlib/v1.9/LinearAlgebra/src/\u001b[39m\u001b[90m\u001b[4mmatmul.jl:146\u001b[24m\u001b[39m\n",
       "  [13] *(\u001b[90mA\u001b[39m::\u001b[1mUnion\u001b[22m\u001b[0m{LinearAlgebra.Adjoint{var\"#s970\", <:StridedMatrix{T} where T}, LinearAlgebra.Transpose{var\"#s970\", <:StridedMatrix{T} where T}, StridedMatrix{var\"#s970\"}} where var\"#s970\"<:Union{ComplexF64, ComplexF32}, \u001b[90mB\u001b[39m::\u001b[1mUnion\u001b[22m\u001b[0m{LinearAlgebra.Adjoint{var\"#s969\", <:StridedMatrix{T} where T}, LinearAlgebra.Transpose{var\"#s969\", <:StridedMatrix{T} where T}, StridedMatrix{var\"#s969\"}} where var\"#s969\"<:Union{ComplexF64, ComplexF32})\n",
       "\u001b[90m     @\u001b[39m \u001b[35mLinearAlgebra\u001b[39m \u001b[90m~/julia/usr/share/julia/stdlib/v1.9/LinearAlgebra/src/\u001b[39m\u001b[90m\u001b[4mmatmul.jl:152\u001b[24m\u001b[39m\n",
       "  [14] *(\u001b[90mA\u001b[39m::\u001b[1mStridedMatrix\u001b[22m\u001b[0m{var\"#s970\"} where var\"#s970\"<:Union{ComplexF64, ComplexF32}, \u001b[90mB\u001b[39m::\u001b[1mUnion\u001b[22m\u001b[0m{LinearAlgebra.Adjoint{var\"#s969\", <:StridedMatrix{T} where T}, LinearAlgebra.Transpose{var\"#s969\", <:StridedMatrix{T} where T}, StridedMatrix{var\"#s969\"}} where var\"#s969\"<:Union{Float32, Float64})\n",
       "\u001b[90m     @\u001b[39m \u001b[35mLinearAlgebra\u001b[39m \u001b[90m~/julia/usr/share/julia/stdlib/v1.9/LinearAlgebra/src/\u001b[39m\u001b[90m\u001b[4mmatmul.jl:165\u001b[24m\u001b[39m\n",
       "  [15] *(\u001b[90mA\u001b[39m::\u001b[1mUnion\u001b[22m\u001b[0m{LinearAlgebra.Adjoint{var\"#s970\", <:StridedMatrix{T} where T}, LinearAlgebra.Transpose{var\"#s970\", <:StridedMatrix{T} where T}} where var\"#s970\"<:Union{ComplexF64, ComplexF32}, \u001b[90mB\u001b[39m::\u001b[1mUnion\u001b[22m\u001b[0m{LinearAlgebra.Adjoint{var\"#s969\", <:StridedMatrix{T} where T}, LinearAlgebra.Transpose{var\"#s969\", <:StridedMatrix{T} where T}, StridedMatrix{var\"#s969\"}} where var\"#s969\"<:Union{Float32, Float64})\n",
       "\u001b[90m     @\u001b[39m \u001b[35mLinearAlgebra\u001b[39m \u001b[90m~/julia/usr/share/julia/stdlib/v1.9/LinearAlgebra/src/\u001b[39m\u001b[90m\u001b[4mmatmul.jl:171\u001b[24m\u001b[39m\n",
       "  [16] *(\u001b[90mA\u001b[39m::\u001b[1mStridedMatrix\u001b[22m\u001b[0m{var\"#s970\"} where var\"#s970\"<:Union{Float32, Float64}, \u001b[90mB\u001b[39m::\u001b[1mStridedMatrix\u001b[22m\u001b[0m{var\"#s969\"} where var\"#s969\"<:Union{ComplexF64, ComplexF32})\n",
       "\u001b[90m     @\u001b[39m \u001b[35mLinearAlgebra\u001b[39m \u001b[90m~/julia/usr/share/julia/stdlib/v1.9/LinearAlgebra/src/\u001b[39m\u001b[90m\u001b[4mmatmul.jl:178\u001b[24m\u001b[39m\n",
       "  [17] *(\u001b[90mA\u001b[39m::\u001b[1mUnion\u001b[22m\u001b[0m{LinearAlgebra.Adjoint{var\"#s970\", <:StridedMatrix{T} where T}, LinearAlgebra.Transpose{var\"#s970\", <:StridedMatrix{T} where T}} where var\"#s970\"<:Union{Float32, Float64}, \u001b[90mB\u001b[39m::\u001b[1mStridedMatrix\u001b[22m\u001b[0m{var\"#s969\"} where var\"#s969\"<:Union{ComplexF64, ComplexF32})\n",
       "\u001b[90m     @\u001b[39m \u001b[35mLinearAlgebra\u001b[39m \u001b[90m~/julia/usr/share/julia/stdlib/v1.9/LinearAlgebra/src/\u001b[39m\u001b[90m\u001b[4mmatmul.jl:185\u001b[24m\u001b[39m\n",
       "  [18] *(\u001b[90mA\u001b[39m::\u001b[1mUnion\u001b[22m\u001b[0m{LinearAlgebra.Adjoint{var\"#s970\", <:StridedMatrix{T} where T}, LinearAlgebra.Transpose{var\"#s970\", <:StridedMatrix{T} where T}, StridedMatrix{var\"#s970\"}} where var\"#s970\"<:Union{Float32, Float64}, \u001b[90mB\u001b[39m::\u001b[1mUnion\u001b[22m\u001b[0m{LinearAlgebra.Adjoint{var\"#s969\", <:StridedMatrix{T} where T}, LinearAlgebra.Transpose{var\"#s969\", <:StridedMatrix{T} where T}} where var\"#s969\"<:Union{ComplexF64, ComplexF32})\n",
       "\u001b[90m     @\u001b[39m \u001b[35mLinearAlgebra\u001b[39m \u001b[90m~/julia/usr/share/julia/stdlib/v1.9/LinearAlgebra/src/\u001b[39m\u001b[90m\u001b[4mmatmul.jl:186\u001b[24m\u001b[39m\n",
       "  [19] *(\u001b[90mα\u001b[39m::\u001b[1mUnion\u001b[22m\u001b[0m{Real, Complex}, \u001b[90mvt\u001b[39m::\u001b[1mUnion\u001b[22m\u001b[0m{LinearAlgebra.Adjoint{var\"#s970\", var\"#s9701\"}, LinearAlgebra.Transpose{var\"#s970\", var\"#s9701\"}} where {var\"#s970\"<:Union{Real, Complex}, var\"#s9701\"<:(AbstractVector)}, \u001b[90mC\u001b[39m::\u001b[1mAbstractMatrix\u001b[22m\u001b[0m{<:Union{Real, Complex}}, \u001b[90mD\u001b[39m::\u001b[1mAbstractMatrix\u001b[22m\u001b[0m{<:Union{Real, Complex}})\n",
       "\u001b[90m     @\u001b[39m \u001b[35mLinearAlgebra\u001b[39m \u001b[90m~/julia/usr/share/julia/stdlib/v1.9/LinearAlgebra/src/\u001b[39m\u001b[90m\u001b[4mmatmul.jl:1218\u001b[24m\u001b[39m\n",
       "  [20] *(\u001b[90mA\u001b[39m::\u001b[1mStridedMatrix\u001b[22m\u001b[0m{T} where T, \u001b[90mQ\u001b[39m::\u001b[1mLinearAlgebra.AbstractQ\u001b[22m)\n",
       "\u001b[90m     @\u001b[39m \u001b[35mLinearAlgebra\u001b[39m \u001b[90m~/julia/usr/share/julia/stdlib/v1.9/LinearAlgebra/src/\u001b[39m\u001b[90m\u001b[4mqr.jl:775\u001b[24m\u001b[39m\n",
       "  [21] *(\u001b[90mA\u001b[39m::\u001b[1mStridedMatrix\u001b[22m\u001b[0m{T} where T, \u001b[90madjB\u001b[39m::\u001b[1mLinearAlgebra.Adjoint\u001b[22m\u001b[0m{<:Any, <:LinearAlgebra.AbstractQ})\n",
       "\u001b[90m     @\u001b[39m \u001b[35mLinearAlgebra\u001b[39m \u001b[90m~/julia/usr/share/julia/stdlib/v1.9/LinearAlgebra/src/\u001b[39m\u001b[90m\u001b[4mqr.jl:822\u001b[24m\u001b[39m\n",
       "  [22] *(\u001b[90mA\u001b[39m::\u001b[1mStridedVecOrMat\u001b[22m, \u001b[90madjQ\u001b[39m::\u001b[1mLinearAlgebra.Adjoint\u001b[22m\u001b[0m{<:Any, <:LinearAlgebra.LQPackedQ})\n",
       "\u001b[90m     @\u001b[39m \u001b[35mLinearAlgebra\u001b[39m \u001b[90m~/julia/usr/share/julia/stdlib/v1.9/LinearAlgebra/src/\u001b[39m\u001b[90m\u001b[4mlq.jl:269\u001b[24m\u001b[39m\n",
       "  [23] *(\u001b[90mA\u001b[39m::\u001b[1mStridedVecOrMat\u001b[22m, \u001b[90mQ\u001b[39m::\u001b[1mLinearAlgebra.LQPackedQ\u001b[22m)\n",
       "\u001b[90m     @\u001b[39m \u001b[35mLinearAlgebra\u001b[39m \u001b[90m~/julia/usr/share/julia/stdlib/v1.9/LinearAlgebra/src/\u001b[39m\u001b[90m\u001b[4mlq.jl:293\u001b[24m\u001b[39m\n",
       "  [24] *(\u001b[90mA\u001b[39m::\u001b[1mUnion\u001b[22m\u001b[0m{LinearAlgebra.Hermitian{T, S}, LinearAlgebra.Symmetric{T, S}} where {T, S}, \u001b[90mB\u001b[39m::\u001b[1mUnion\u001b[22m\u001b[0m{LinearAlgebra.Hermitian{T, S}, LinearAlgebra.Symmetric{T, S}} where {T, S})\n",
       "\u001b[90m     @\u001b[39m \u001b[35mLinearAlgebra\u001b[39m \u001b[90m~/julia/usr/share/julia/stdlib/v1.9/LinearAlgebra/src/\u001b[39m\u001b[90m\u001b[4msymmetric.jl:576\u001b[24m\u001b[39m\n",
       "  [25] *(\u001b[90mA\u001b[39m::\u001b[1mUnion\u001b[22m\u001b[0m{LinearAlgebra.UnitUpperTriangular{T, S} where S<:AbstractMatrix{T}, LinearAlgebra.UpperTriangular{T, S} where S<:AbstractMatrix{T}} where T, \u001b[90mB\u001b[39m::\u001b[1mLinearAlgebra.Bidiagonal\u001b[22m)\n",
       "\u001b[90m     @\u001b[39m \u001b[35mLinearAlgebra\u001b[39m \u001b[90m~/julia/usr/share/julia/stdlib/v1.9/LinearAlgebra/src/\u001b[39m\u001b[90m\u001b[4mbidiag.jl:647\u001b[24m\u001b[39m\n",
       "  [26] *(\u001b[90mA\u001b[39m::\u001b[1mUnion\u001b[22m\u001b[0m{LinearAlgebra.LowerTriangular{T, S} where S<:AbstractMatrix{T}, LinearAlgebra.UnitLowerTriangular{T, S} where S<:AbstractMatrix{T}} where T, \u001b[90mB\u001b[39m::\u001b[1mLinearAlgebra.Bidiagonal\u001b[22m)\n",
       "\u001b[90m     @\u001b[39m \u001b[35mLinearAlgebra\u001b[39m \u001b[90m~/julia/usr/share/julia/stdlib/v1.9/LinearAlgebra/src/\u001b[39m\u001b[90m\u001b[4mbidiag.jl:653\u001b[24m\u001b[39m\n",
       "  [27] *(\u001b[90mA\u001b[39m::\u001b[1mUnion\u001b[22m\u001b[0m{LinearAlgebra.Bidiagonal, LinearAlgebra.Tridiagonal}, \u001b[90mB\u001b[39m::\u001b[1mLinearAlgebra.Diagonal\u001b[22m)\n",
       "\u001b[90m     @\u001b[39m \u001b[35mLinearAlgebra\u001b[39m \u001b[90m~/julia/usr/share/julia/stdlib/v1.9/LinearAlgebra/src/\u001b[39m\u001b[90m\u001b[4mbidiag.jl:671\u001b[24m\u001b[39m\n",
       "  [28] *(\u001b[90mA\u001b[39m::\u001b[1mUnion\u001b[22m\u001b[0m{LinearAlgebra.Bidiagonal, LinearAlgebra.SymTridiagonal, LinearAlgebra.Tridiagonal}, \u001b[90mB\u001b[39m::\u001b[1mUnion\u001b[22m\u001b[0m{LinearAlgebra.Bidiagonal, LinearAlgebra.SymTridiagonal, LinearAlgebra.Tridiagonal})\n",
       "\u001b[90m     @\u001b[39m \u001b[35mLinearAlgebra\u001b[39m \u001b[90m~/julia/usr/share/julia/stdlib/v1.9/LinearAlgebra/src/\u001b[39m\u001b[90m\u001b[4mbidiag.jl:691\u001b[24m\u001b[39m\n",
       "  [29] *(\u001b[90mU\u001b[39m::\u001b[1mUnion\u001b[22m\u001b[0m{LinearAlgebra.UnitUpperTriangular{T, S} where S<:AbstractMatrix{T}, LinearAlgebra.UpperTriangular{T, S} where S<:AbstractMatrix{T}} where T, \u001b[90mH\u001b[39m::\u001b[1mLinearAlgebra.UpperHessenberg\u001b[22m)\n",
       "\u001b[90m     @\u001b[39m \u001b[35mLinearAlgebra\u001b[39m \u001b[90m~/julia/usr/share/julia/stdlib/v1.9/LinearAlgebra/src/\u001b[39m\u001b[90m\u001b[4mhessenberg.jl:132\u001b[24m\u001b[39m\n",
       "  [30] *(\u001b[90mA\u001b[39m::\u001b[1mUnion\u001b[22m\u001b[0m{LinearAlgebra.Bidiagonal, LinearAlgebra.SymTridiagonal, LinearAlgebra.Tridiagonal}, \u001b[90mQ\u001b[39m::\u001b[1mLinearAlgebra.AbstractQ\u001b[22m)\n",
       "\u001b[90m     @\u001b[39m \u001b[35mLinearAlgebra\u001b[39m \u001b[90m~/julia/usr/share/julia/stdlib/v1.9/LinearAlgebra/src/\u001b[39m\u001b[90m\u001b[4mspecial.jl:338\u001b[24m\u001b[39m\n",
       "  [31] *(\u001b[90mA\u001b[39m::\u001b[1mUnion\u001b[22m\u001b[0m{LinearAlgebra.Bidiagonal, LinearAlgebra.SymTridiagonal, LinearAlgebra.Tridiagonal}, \u001b[90mQ\u001b[39m::\u001b[1mLinearAlgebra.Adjoint\u001b[22m\u001b[0m{<:Any, <:LinearAlgebra.AbstractQ})\n",
       "\u001b[90m     @\u001b[39m \u001b[35mLinearAlgebra\u001b[39m \u001b[90m~/julia/usr/share/julia/stdlib/v1.9/LinearAlgebra/src/\u001b[39m\u001b[90m\u001b[4mspecial.jl:339\u001b[24m\u001b[39m\n",
       "  [32] *(\u001b[90mX\u001b[39m::\u001b[1mStridedArray\u001b[22m\u001b[0m{P}, \u001b[90my\u001b[39m::\u001b[1mReal\u001b[22m) where P<:Dates.Period\n",
       "\u001b[90m     @\u001b[39m \u001b[36mDates\u001b[39m \u001b[90m~/julia/usr/share/julia/stdlib/v1.9/Dates/src/\u001b[39m\u001b[90m\u001b[4mdeprecated.jl:44\u001b[24m\u001b[39m\n",
       "  [33] *(\u001b[90mx\u001b[39m::\u001b[1mUnion\u001b[22m\u001b[0m{SparseArrays.AbstractCompressedVector{Tv, Ti}, SubArray{Tv, 1, <:SparseArrays.AbstractSparseMatrixCSC{Tv, Ti}, Tuple{Base.Slice{Base.OneTo{Int64}}, Int64}, false}, SubArray{Tv, 1, <:SparseArrays.AbstractSparseVector{Tv, Ti}, Tuple{Base.Slice{Base.OneTo{Int64}}}, false}} where {Tv, Ti}, \u001b[90ma\u001b[39m::\u001b[1mNumber\u001b[22m)\n",
       "\u001b[90m     @\u001b[39m \u001b[32mSparseArrays\u001b[39m \u001b[90m~/julia/usr/share/julia/stdlib/v1.9/SparseArrays/src/\u001b[39m\u001b[90m\u001b[4msparsevector.jl:1650\u001b[24m\u001b[39m\n",
       "  [34] *(\u001b[90mA\u001b[39m::\u001b[1mUnion\u001b[22m\u001b[0m{SparseArrays.AbstractSparseMatrixCSC{TA, Ti}, SubArray{TA, 2, <:SparseArrays.AbstractSparseMatrixCSC{TA, Ti}, Tuple{Base.Slice{Base.OneTo{Int64}}, I}} where I<:AbstractUnitRange} where Ti, \u001b[90mx\u001b[39m::\u001b[1mUnion\u001b[22m\u001b[0m{StridedVector, BitVector}) where TA\n",
       "\u001b[90m     @\u001b[39m \u001b[32mSparseArrays\u001b[39m \u001b[90m~/julia/usr/share/julia/stdlib/v1.9/SparseArrays/src/\u001b[39m\u001b[90m\u001b[4mlinalg.jl:50\u001b[24m\u001b[39m\n",
       "  [35] *(\u001b[90mA\u001b[39m::\u001b[1mUnion\u001b[22m\u001b[0m{SparseArrays.AbstractSparseMatrixCSC{Tv, Ti}, SubArray{Tv, 2, <:SparseArrays.AbstractSparseMatrixCSC{Tv, Ti}, Tuple{Base.Slice{Base.OneTo{Int64}}, I}} where I<:AbstractUnitRange, LinearAlgebra.LowerTriangular{Tv, <:Union{SparseArrays.AbstractSparseMatrixCSC{Tv, Ti}, SubArray{Tv, 2, <:SparseArrays.AbstractSparseMatrixCSC{Tv, Ti}, Tuple{Base.Slice{Base.OneTo{Int64}}, I}} where I<:AbstractUnitRange}}, LinearAlgebra.UpperTriangular{Tv, <:Union{SparseArrays.AbstractSparseMatrixCSC{Tv, Ti}, SubArray{Tv, 2, <:SparseArrays.AbstractSparseMatrixCSC{Tv, Ti}, Tuple{Base.Slice{Base.OneTo{Int64}}, I}} where I<:AbstractUnitRange}}} where {Tv, Ti}, \u001b[90mB\u001b[39m::\u001b[1mSubArray\u001b[22m\u001b[0m{Tv, 1, <:SparseArrays.AbstractSparseMatrixCSC{Tv, Ti}, Tuple{Base.Slice{Base.OneTo{Int64}}, Int64}, false} where {Tv, Ti})\n",
       "\u001b[90m     @\u001b[39m \u001b[32mSparseArrays\u001b[39m \u001b[90m~/julia/usr/share/julia/stdlib/v1.9/SparseArrays/src/\u001b[39m\u001b[90m\u001b[4mlinalg.jl:151\u001b[24m\u001b[39m\n",
       "  [36] *(\u001b[90mA\u001b[39m::\u001b[1mUnion\u001b[22m\u001b[0m{SparseArrays.AbstractSparseMatrixCSC{Tv, Ti}, SubArray{Tv, 2, <:SparseArrays.AbstractSparseMatrixCSC{Tv, Ti}, Tuple{Base.Slice{Base.OneTo{Int64}}, I}} where I<:AbstractUnitRange, LinearAlgebra.LowerTriangular{Tv, <:Union{SparseArrays.AbstractSparseMatrixCSC{Tv, Ti}, SubArray{Tv, 2, <:SparseArrays.AbstractSparseMatrixCSC{Tv, Ti}, Tuple{Base.Slice{Base.OneTo{Int64}}, I}} where I<:AbstractUnitRange}}, LinearAlgebra.UpperTriangular{Tv, <:Union{SparseArrays.AbstractSparseMatrixCSC{Tv, Ti}, SubArray{Tv, 2, <:SparseArrays.AbstractSparseMatrixCSC{Tv, Ti}, Tuple{Base.Slice{Base.OneTo{Int64}}, I}} where I<:AbstractUnitRange}}} where {Tv, Ti}, \u001b[90mB\u001b[39m::\u001b[1mSubArray\u001b[22m\u001b[0m{Tv, 1, <:SparseArrays.AbstractSparseVector{Tv, Ti}, Tuple{Base.Slice{Base.OneTo{Int64}}}, false} where {Tv, Ti})\n",
       "\u001b[90m     @\u001b[39m \u001b[32mSparseArrays\u001b[39m \u001b[90m~/julia/usr/share/julia/stdlib/v1.9/SparseArrays/src/\u001b[39m\u001b[90m\u001b[4mlinalg.jl:152\u001b[24m\u001b[39m\n",
       "  [37] *(\u001b[90mA\u001b[39m::\u001b[1mUnion\u001b[22m\u001b[0m{SparseArrays.AbstractSparseMatrixCSC{Tv, Ti}, SubArray{Tv, 2, <:SparseArrays.AbstractSparseMatrixCSC{Tv, Ti}, Tuple{Base.Slice{Base.OneTo{Int64}}, I}} where I<:AbstractUnitRange} where {Tv, Ti}, \u001b[90mB\u001b[39m::\u001b[1mUnion\u001b[22m\u001b[0m{SparseArrays.AbstractSparseMatrixCSC{Tv, Ti}, SubArray{Tv, 2, <:SparseArrays.AbstractSparseMatrixCSC{Tv, Ti}, Tuple{Base.Slice{Base.OneTo{Int64}}, I}} where I<:AbstractUnitRange} where {Tv, Ti})\n",
       "\u001b[90m     @\u001b[39m \u001b[32mSparseArrays\u001b[39m \u001b[90m~/julia/usr/share/julia/stdlib/v1.9/SparseArrays/src/\u001b[39m\u001b[90m\u001b[4mlinalg.jl:153\u001b[24m\u001b[39m\n",
       "  [38] *(\u001b[90mA\u001b[39m::\u001b[1mUnion\u001b[22m\u001b[0m{LinearAlgebra.LowerTriangular{Tv, <:Union{SparseArrays.AbstractSparseMatrixCSC{Tv, Ti}, SubArray{Tv, 2, <:SparseArrays.AbstractSparseMatrixCSC{Tv, Ti}, Tuple{Base.Slice{Base.OneTo{Int64}}, I}} where I<:AbstractUnitRange}}, LinearAlgebra.UpperTriangular{Tv, <:Union{SparseArrays.AbstractSparseMatrixCSC{Tv, Ti}, SubArray{Tv, 2, <:SparseArrays.AbstractSparseMatrixCSC{Tv, Ti}, Tuple{Base.Slice{Base.OneTo{Int64}}, I}} where I<:AbstractUnitRange}}} where {Tv, Ti}, \u001b[90mB\u001b[39m::\u001b[1mUnion\u001b[22m\u001b[0m{SparseArrays.AbstractSparseMatrixCSC{Tv, Ti}, SubArray{Tv, 2, <:SparseArrays.AbstractSparseMatrixCSC{Tv, Ti}, Tuple{Base.Slice{Base.OneTo{Int64}}, I}} where I<:AbstractUnitRange} where {Tv, Ti})\n",
       "\u001b[90m     @\u001b[39m \u001b[32mSparseArrays\u001b[39m \u001b[90m~/julia/usr/share/julia/stdlib/v1.9/SparseArrays/src/\u001b[39m\u001b[90m\u001b[4mlinalg.jl:154\u001b[24m\u001b[39m\n",
       "  [39] *(\u001b[90mX\u001b[39m::\u001b[1mUnion\u001b[22m\u001b[0m{LinearAlgebra.Adjoint{<:Any, <:Union{LinearAlgebra.LowerTriangular, LinearAlgebra.UnitLowerTriangular, LinearAlgebra.UnitUpperTriangular, LinearAlgebra.UpperTriangular, StridedMatrix, BitMatrix}}, LinearAlgebra.LowerTriangular, LinearAlgebra.Transpose{<:Any, <:Union{LinearAlgebra.LowerTriangular, LinearAlgebra.UnitLowerTriangular, LinearAlgebra.UnitUpperTriangular, LinearAlgebra.UpperTriangular, StridedMatrix, BitMatrix}}, LinearAlgebra.UnitLowerTriangular, LinearAlgebra.UnitUpperTriangular, LinearAlgebra.UpperTriangular, StridedMatrix, BitMatrix}, \u001b[90mA\u001b[39m::\u001b[1mUnion\u001b[22m\u001b[0m{SparseArrays.AbstractSparseMatrixCSC{TvA, Ti}, SubArray{TvA, 2, <:SparseArrays.AbstractSparseMatrixCSC{TvA, Ti}, Tuple{Base.Slice{Base.OneTo{Int64}}, I}} where I<:AbstractUnitRange} where Ti) where TvA\n",
       "\u001b[90m     @\u001b[39m \u001b[32mSparseArrays\u001b[39m \u001b[90m~/julia/usr/share/julia/stdlib/v1.9/SparseArrays/src/\u001b[39m\u001b[90m\u001b[4mlinalg.jl:114\u001b[24m\u001b[39m\n",
       "  [40] *(\u001b[90mA\u001b[39m::\u001b[1mUnion\u001b[22m\u001b[0m{SparseArrays.AbstractSparseMatrixCSC{Tv, Ti}, SubArray{Tv, 2, <:SparseArrays.AbstractSparseMatrixCSC{Tv, Ti}, Tuple{Base.Slice{Base.OneTo{Int64}}, I}} where I<:AbstractUnitRange} where {Tv, Ti}, \u001b[90mB\u001b[39m::\u001b[1mUnion\u001b[22m\u001b[0m{LinearAlgebra.LowerTriangular{Tv, <:Union{SparseArrays.AbstractSparseMatrixCSC{Tv, Ti}, SubArray{Tv, 2, <:SparseArrays.AbstractSparseMatrixCSC{Tv, Ti}, Tuple{Base.Slice{Base.OneTo{Int64}}, I}} where I<:AbstractUnitRange}}, LinearAlgebra.UpperTriangular{Tv, <:Union{SparseArrays.AbstractSparseMatrixCSC{Tv, Ti}, SubArray{Tv, 2, <:SparseArrays.AbstractSparseMatrixCSC{Tv, Ti}, Tuple{Base.Slice{Base.OneTo{Int64}}, I}} where I<:AbstractUnitRange}}} where {Tv, Ti})\n",
       "\u001b[90m     @\u001b[39m \u001b[32mSparseArrays\u001b[39m \u001b[90m~/julia/usr/share/julia/stdlib/v1.9/SparseArrays/src/\u001b[39m\u001b[90m\u001b[4mlinalg.jl:155\u001b[24m\u001b[39m\n",
       "  [41] *(\u001b[90mA\u001b[39m::\u001b[1mUnion\u001b[22m\u001b[0m{SparseArrays.AbstractSparseMatrixCSC{TA, Ti}, SubArray{TA, 2, <:SparseArrays.AbstractSparseMatrixCSC{TA, Ti}, Tuple{Base.Slice{Base.OneTo{Int64}}, I}} where I<:AbstractUnitRange} where Ti, \u001b[90mB\u001b[39m::\u001b[1mUnion\u001b[22m\u001b[0m{LinearAlgebra.Adjoint{<:Any, <:Union{LinearAlgebra.LowerTriangular, LinearAlgebra.UnitLowerTriangular, LinearAlgebra.UnitUpperTriangular, LinearAlgebra.UpperTriangular, StridedMatrix, BitMatrix}}, LinearAlgebra.LowerTriangular, LinearAlgebra.Transpose{<:Any, <:Union{LinearAlgebra.LowerTriangular, LinearAlgebra.UnitLowerTriangular, LinearAlgebra.UnitUpperTriangular, LinearAlgebra.UpperTriangular, StridedMatrix, BitMatrix}}, LinearAlgebra.UnitLowerTriangular, LinearAlgebra.UnitUpperTriangular, LinearAlgebra.UpperTriangular, StridedMatrix, BitMatrix}) where TA\n",
       "\u001b[90m     @\u001b[39m \u001b[32mSparseArrays\u001b[39m \u001b[90m~/julia/usr/share/julia/stdlib/v1.9/SparseArrays/src/\u001b[39m\u001b[90m\u001b[4mlinalg.jl:52\u001b[24m\u001b[39m\n",
       "  [42] *(\u001b[90mA\u001b[39m::\u001b[1mUnion\u001b[22m\u001b[0m{LinearAlgebra.LowerTriangular{Tv, <:Union{SparseArrays.AbstractSparseMatrixCSC{Tv, Ti}, SubArray{Tv, 2, <:SparseArrays.AbstractSparseMatrixCSC{Tv, Ti}, Tuple{Base.Slice{Base.OneTo{Int64}}, I}} where I<:AbstractUnitRange}}, LinearAlgebra.UpperTriangular{Tv, <:Union{SparseArrays.AbstractSparseMatrixCSC{Tv, Ti}, SubArray{Tv, 2, <:SparseArrays.AbstractSparseMatrixCSC{Tv, Ti}, Tuple{Base.Slice{Base.OneTo{Int64}}, I}} where I<:AbstractUnitRange}}} where {Tv, Ti}, \u001b[90mB\u001b[39m::\u001b[1mUnion\u001b[22m\u001b[0m{LinearAlgebra.LowerTriangular{Tv, <:Union{SparseArrays.AbstractSparseMatrixCSC{Tv, Ti}, SubArray{Tv, 2, <:SparseArrays.AbstractSparseMatrixCSC{Tv, Ti}, Tuple{Base.Slice{Base.OneTo{Int64}}, I}} where I<:AbstractUnitRange}}, LinearAlgebra.UpperTriangular{Tv, <:Union{SparseArrays.AbstractSparseMatrixCSC{Tv, Ti}, SubArray{Tv, 2, <:SparseArrays.AbstractSparseMatrixCSC{Tv, Ti}, Tuple{Base.Slice{Base.OneTo{Int64}}, I}} where I<:AbstractUnitRange}}} where {Tv, Ti})\n",
       "\u001b[90m     @\u001b[39m \u001b[32mSparseArrays\u001b[39m \u001b[90m~/julia/usr/share/julia/stdlib/v1.9/SparseArrays/src/\u001b[39m\u001b[90m\u001b[4mlinalg.jl:156\u001b[24m\u001b[39m\n",
       "  [43] *(\u001b[90mA\u001b[39m::\u001b[1mUnion\u001b[22m\u001b[0m{SparseArrays.AbstractSparseMatrixCSC{Tv, Ti}, SubArray{Tv, 2, <:SparseArrays.AbstractSparseMatrixCSC{Tv, Ti}, Tuple{Base.Slice{Base.OneTo{Int64}}, I}} where I<:AbstractUnitRange, LinearAlgebra.LowerTriangular{Tv, <:Union{SparseArrays.AbstractSparseMatrixCSC{Tv, Ti}, SubArray{Tv, 2, <:SparseArrays.AbstractSparseMatrixCSC{Tv, Ti}, Tuple{Base.Slice{Base.OneTo{Int64}}, I}} where I<:AbstractUnitRange}}, LinearAlgebra.UpperTriangular{Tv, <:Union{SparseArrays.AbstractSparseMatrixCSC{Tv, Ti}, SubArray{Tv, 2, <:SparseArrays.AbstractSparseMatrixCSC{Tv, Ti}, Tuple{Base.Slice{Base.OneTo{Int64}}, I}} where I<:AbstractUnitRange}}} where {Tv, Ti}, \u001b[90mB\u001b[39m::\u001b[1mLinearAlgebra.Adjoint\u001b[22m\u001b[0m{<:Any, <:SparseArrays.AbstractSparseMatrixCSC})\n",
       "\u001b[90m     @\u001b[39m \u001b[32mSparseArrays\u001b[39m \u001b[90m~/julia/usr/share/julia/stdlib/v1.9/SparseArrays/src/\u001b[39m\u001b[90m\u001b[4mlinalg.jl:157\u001b[24m\u001b[39m\n",
       "  [44] *(\u001b[90mX\u001b[39m::\u001b[1mUnion\u001b[22m\u001b[0m{LinearAlgebra.Adjoint{<:Any, <:Union{LinearAlgebra.LowerTriangular, LinearAlgebra.UnitLowerTriangular, LinearAlgebra.UnitUpperTriangular, LinearAlgebra.UpperTriangular, StridedMatrix, BitMatrix}}, LinearAlgebra.LowerTriangular, LinearAlgebra.Transpose{<:Any, <:Union{LinearAlgebra.LowerTriangular, LinearAlgebra.UnitLowerTriangular, LinearAlgebra.UnitUpperTriangular, LinearAlgebra.UpperTriangular, StridedMatrix, BitMatrix}}, LinearAlgebra.UnitLowerTriangular, LinearAlgebra.UnitUpperTriangular, LinearAlgebra.UpperTriangular, StridedMatrix, BitMatrix}, \u001b[90madjA\u001b[39m::\u001b[1mLinearAlgebra.Adjoint\u001b[22m\u001b[0m{<:Any, <:SparseArrays.AbstractSparseMatrixCSC})\n",
       "\u001b[90m     @\u001b[39m \u001b[32mSparseArrays\u001b[39m \u001b[90m~/julia/usr/share/julia/stdlib/v1.9/SparseArrays/src/\u001b[39m\u001b[90m\u001b[4mlinalg.jl:139\u001b[24m\u001b[39m\n",
       "  [45] *(\u001b[90mA\u001b[39m::\u001b[1mUnion\u001b[22m\u001b[0m{SparseArrays.AbstractSparseMatrixCSC{Tv, Ti}, SubArray{Tv, 2, <:SparseArrays.AbstractSparseMatrixCSC{Tv, Ti}, Tuple{Base.Slice{Base.OneTo{Int64}}, I}} where I<:AbstractUnitRange, LinearAlgebra.LowerTriangular{Tv, <:Union{SparseArrays.AbstractSparseMatrixCSC{Tv, Ti}, SubArray{Tv, 2, <:SparseArrays.AbstractSparseMatrixCSC{Tv, Ti}, Tuple{Base.Slice{Base.OneTo{Int64}}, I}} where I<:AbstractUnitRange}}, LinearAlgebra.UpperTriangular{Tv, <:Union{SparseArrays.AbstractSparseMatrixCSC{Tv, Ti}, SubArray{Tv, 2, <:SparseArrays.AbstractSparseMatrixCSC{Tv, Ti}, Tuple{Base.Slice{Base.OneTo{Int64}}, I}} where I<:AbstractUnitRange}}} where {Tv, Ti}, \u001b[90mB\u001b[39m::\u001b[1mLinearAlgebra.Transpose\u001b[22m\u001b[0m{<:Any, <:SparseArrays.AbstractSparseMatrixCSC})\n",
       "\u001b[90m     @\u001b[39m \u001b[32mSparseArrays\u001b[39m \u001b[90m~/julia/usr/share/julia/stdlib/v1.9/SparseArrays/src/\u001b[39m\u001b[90m\u001b[4mlinalg.jl:158\u001b[24m\u001b[39m\n",
       "  [46] *(\u001b[90mX\u001b[39m::\u001b[1mUnion\u001b[22m\u001b[0m{LinearAlgebra.Adjoint{<:Any, <:Union{LinearAlgebra.LowerTriangular, LinearAlgebra.UnitLowerTriangular, LinearAlgebra.UnitUpperTriangular, LinearAlgebra.UpperTriangular, StridedMatrix, BitMatrix}}, LinearAlgebra.LowerTriangular, LinearAlgebra.Transpose{<:Any, <:Union{LinearAlgebra.LowerTriangular, LinearAlgebra.UnitLowerTriangular, LinearAlgebra.UnitUpperTriangular, LinearAlgebra.UpperTriangular, StridedMatrix, BitMatrix}}, LinearAlgebra.UnitLowerTriangular, LinearAlgebra.UnitUpperTriangular, LinearAlgebra.UpperTriangular, StridedMatrix, BitMatrix}, \u001b[90mtA\u001b[39m::\u001b[1mLinearAlgebra.Transpose\u001b[22m\u001b[0m{<:Any, <:SparseArrays.AbstractSparseMatrixCSC})\n",
       "\u001b[90m     @\u001b[39m \u001b[32mSparseArrays\u001b[39m \u001b[90m~/julia/usr/share/julia/stdlib/v1.9/SparseArrays/src/\u001b[39m\u001b[90m\u001b[4mlinalg.jl:141\u001b[24m\u001b[39m\n",
       "  [47] *(\u001b[90mA\u001b[39m::\u001b[1mUnion\u001b[22m\u001b[0m{SparseArrays.SparseMatrixCSC{Float64, Ti}, SparseArrays.SparseVector{Float64, Ti}}, \u001b[90mB\u001b[39m::\u001b[1mLinearAlgebra.Symmetric\u001b[22m\u001b[0m{Float64, SparseArrays.SparseMatrixCSC{Float64, Ti}}) where Ti\n",
       "\u001b[90m     @\u001b[39m \u001b[32mSparseArrays.CHOLMOD\u001b[39m \u001b[90m~/julia/usr/share/julia/stdlib/v1.9/SparseArrays/src/solvers/\u001b[39m\u001b[90m\u001b[4mcholmod.jl:1690\u001b[24m\u001b[39m\n",
       "  [48] *(\u001b[90mA\u001b[39m::\u001b[1mUnion\u001b[22m\u001b[0m{SparseArrays.SparseMatrixCSC{ComplexF64, Ti}, SparseArrays.SparseVector{ComplexF64, Ti}}, \u001b[90mB\u001b[39m::\u001b[1mLinearAlgebra.Hermitian\u001b[22m\u001b[0m{ComplexF64, SparseArrays.SparseMatrixCSC{ComplexF64, Ti}}) where Ti\n",
       "\u001b[90m     @\u001b[39m \u001b[32mSparseArrays.CHOLMOD\u001b[39m \u001b[90m~/julia/usr/share/julia/stdlib/v1.9/SparseArrays/src/solvers/\u001b[39m\u001b[90m\u001b[4mcholmod.jl:1692\u001b[24m\u001b[39m\n",
       "  [49] *(\u001b[90mA\u001b[39m::\u001b[1mUnion\u001b[22m\u001b[0m{SparseArrays.SparseMatrixCSC{Float64, Ti}, SparseArrays.SparseVector{Float64, Ti}}, \u001b[90mB\u001b[39m::\u001b[1mLinearAlgebra.Hermitian\u001b[22m\u001b[0m{Float64, SparseArrays.SparseMatrixCSC{Float64, Ti}}) where Ti\n",
       "\u001b[90m     @\u001b[39m \u001b[32mSparseArrays.CHOLMOD\u001b[39m \u001b[90m~/julia/usr/share/julia/stdlib/v1.9/SparseArrays/src/solvers/\u001b[39m\u001b[90m\u001b[4mcholmod.jl:1694\u001b[24m\u001b[39m\n",
       "  [50] *(\u001b[90mx\u001b[39m::\u001b[1mRational\u001b[22m, \u001b[90my\u001b[39m::\u001b[1mInteger\u001b[22m)\n",
       "\u001b[90m     @\u001b[39m \u001b[90m\u001b[4mrational.jl:352\u001b[24m\u001b[39m\n",
       "  [51] *(\u001b[90mA\u001b[39m::\u001b[1mLinearAlgebra.LQPackedQ\u001b[22m, \u001b[90mB\u001b[39m::\u001b[1mStridedVecOrMat\u001b[22m)\n",
       "\u001b[90m     @\u001b[39m \u001b[35mLinearAlgebra\u001b[39m \u001b[90m~/julia/usr/share/julia/stdlib/v1.9/LinearAlgebra/src/\u001b[39m\u001b[90m\u001b[4mlq.jl:206\u001b[24m\u001b[39m\n",
       "  [52] *(\u001b[90mA\u001b[39m::\u001b[1mLinearAlgebra.LQPackedQ\u001b[22m, \u001b[90madjB\u001b[39m::\u001b[1mLinearAlgebra.Adjoint\u001b[22m\u001b[0m{<:Any, <:StridedVecOrMat})\n",
       "\u001b[90m     @\u001b[39m \u001b[35mLinearAlgebra\u001b[39m \u001b[90m~/julia/usr/share/julia/stdlib/v1.9/LinearAlgebra/src/\u001b[39m\u001b[90m\u001b[4mlq.jl:230\u001b[24m\u001b[39m\n",
       "  [53] *(\u001b[90mA\u001b[39m::\u001b[1mLinearAlgebra.LowerTriangular\u001b[22m, \u001b[90mx\u001b[39m::\u001b[1mNumber\u001b[22m)\n",
       "\u001b[90m     @\u001b[39m \u001b[35mLinearAlgebra\u001b[39m \u001b[90m~/julia/usr/share/julia/stdlib/v1.9/LinearAlgebra/src/\u001b[39m\u001b[90m\u001b[4mtriangular.jl:849\u001b[24m\u001b[39m\n",
       "  [54] *(\u001b[90mA\u001b[39m::\u001b[1mLinearAlgebra.LowerTriangular\u001b[22m, \u001b[90mB\u001b[39m::\u001b[1mLinearAlgebra.LowerTriangular\u001b[22m)\n",
       "\u001b[90m     @\u001b[39m \u001b[35mLinearAlgebra\u001b[39m \u001b[90m~/julia/usr/share/julia/stdlib/v1.9/LinearAlgebra/src/\u001b[39m\u001b[90m\u001b[4mtriangular.jl:1291\u001b[24m\u001b[39m\n",
       "  [55] *(\u001b[90mA\u001b[39m::\u001b[1mLinearAlgebra.LowerTriangular\u001b[22m, \u001b[90mB\u001b[39m::\u001b[1mLinearAlgebra.UnitLowerTriangular\u001b[22m)\n",
       "\u001b[90m     @\u001b[39m \u001b[35mLinearAlgebra\u001b[39m \u001b[90m~/julia/usr/share/julia/stdlib/v1.9/LinearAlgebra/src/\u001b[39m\u001b[90m\u001b[4mtriangular.jl:1305\u001b[24m\u001b[39m\n",
       "  [56] *(\u001b[90mA\u001b[39m::\u001b[1mLinearAlgebra.LowerTriangular\u001b[22m, \u001b[90mD\u001b[39m::\u001b[1mLinearAlgebra.Diagonal\u001b[22m)\n",
       "\u001b[90m     @\u001b[39m \u001b[35mLinearAlgebra\u001b[39m \u001b[90m~/julia/usr/share/julia/stdlib/v1.9/LinearAlgebra/src/\u001b[39m\u001b[90m\u001b[4mdiagonal.jl:540\u001b[24m\u001b[39m\n",
       "  [57] *(\u001b[90mA\u001b[39m::\u001b[1mAbstractVector\u001b[22m, \u001b[90mR\u001b[39m::\u001b[1mLinearAlgebra.AbstractRotation\u001b[22m)\n",
       "\u001b[90m     @\u001b[39m \u001b[35mLinearAlgebra\u001b[39m \u001b[90m~/julia/usr/share/julia/stdlib/v1.9/LinearAlgebra/src/\u001b[39m\u001b[90m\u001b[4mgivens.jl:19\u001b[24m\u001b[39m\n",
       "  [58] *(\u001b[90mA\u001b[39m::\u001b[1mAbstractMatrix\u001b[22m, \u001b[90mR\u001b[39m::\u001b[1mLinearAlgebra.AbstractRotation\u001b[22m)\n",
       "\u001b[90m     @\u001b[39m \u001b[35mLinearAlgebra\u001b[39m \u001b[90m~/julia/usr/share/julia/stdlib/v1.9/LinearAlgebra/src/\u001b[39m\u001b[90m\u001b[4mgivens.jl:20\u001b[24m\u001b[39m\n",
       "  [59] *(\u001b[90mH\u001b[39m::\u001b[1mLinearAlgebra.UpperHessenberg\u001b[22m, \u001b[90mx\u001b[39m::\u001b[1mNumber\u001b[22m)\n",
       "\u001b[90m     @\u001b[39m \u001b[35mLinearAlgebra\u001b[39m \u001b[90m~/julia/usr/share/julia/stdlib/v1.9/LinearAlgebra/src/\u001b[39m\u001b[90m\u001b[4mhessenberg.jl:119\u001b[24m\u001b[39m\n",
       "  [60] *(\u001b[90mH\u001b[39m::\u001b[1mLinearAlgebra.UpperHessenberg\u001b[22m, \u001b[90mx\u001b[39m::\u001b[1mLinearAlgebra.UniformScaling\u001b[22m)\n",
       "\u001b[90m     @\u001b[39m \u001b[35mLinearAlgebra\u001b[39m \u001b[90m~/julia/usr/share/julia/stdlib/v1.9/LinearAlgebra/src/\u001b[39m\u001b[90m\u001b[4mhessenberg.jl:119\u001b[24m\u001b[39m\n",
       "  [61] *(\u001b[90mH\u001b[39m::\u001b[1mLinearAlgebra.UpperHessenberg\u001b[22m, \u001b[90mx\u001b[39m::\u001b[1mLinearAlgebra.Diagonal\u001b[22m)\n",
       "\u001b[90m     @\u001b[39m \u001b[35mLinearAlgebra\u001b[39m \u001b[90m~/julia/usr/share/julia/stdlib/v1.9/LinearAlgebra/src/\u001b[39m\u001b[90m\u001b[4mhessenberg.jl:119\u001b[24m\u001b[39m\n",
       "  [62] *(\u001b[90mH\u001b[39m::\u001b[1mLinearAlgebra.UpperHessenberg\u001b[22m, \u001b[90mU\u001b[39m::\u001b[1mUnion\u001b[22m\u001b[0m{LinearAlgebra.UnitUpperTriangular{T, S} where S<:AbstractMatrix{T}, LinearAlgebra.UpperTriangular{T, S} where S<:AbstractMatrix{T}} where T)\n",
       "\u001b[90m     @\u001b[39m \u001b[35mLinearAlgebra\u001b[39m \u001b[90m~/julia/usr/share/julia/stdlib/v1.9/LinearAlgebra/src/\u001b[39m\u001b[90m\u001b[4mhessenberg.jl:126\u001b[24m\u001b[39m\n",
       "  [63] *(\u001b[90mH\u001b[39m::\u001b[1mLinearAlgebra.UpperHessenberg\u001b[22m, \u001b[90mB\u001b[39m::\u001b[1mLinearAlgebra.Bidiagonal\u001b[22m)\n",
       "\u001b[90m     @\u001b[39m \u001b[35mLinearAlgebra\u001b[39m \u001b[90m~/julia/usr/share/julia/stdlib/v1.9/LinearAlgebra/src/\u001b[39m\u001b[90m\u001b[4mhessenberg.jl:165\u001b[24m\u001b[39m\n",
       "  [64] *(\u001b[90mA\u001b[39m::\u001b[1mLinearAlgebra.Tridiagonal\u001b[22m, \u001b[90mB\u001b[39m::\u001b[1mNumber\u001b[22m)\n",
       "\u001b[90m     @\u001b[39m \u001b[35mLinearAlgebra\u001b[39m \u001b[90m~/julia/usr/share/julia/stdlib/v1.9/LinearAlgebra/src/\u001b[39m\u001b[90m\u001b[4mtridiag.jl:757\u001b[24m\u001b[39m\n",
       "  [65] *(\u001b[90mA\u001b[39m::\u001b[1mLinearAlgebra.SymTridiagonal\u001b[22m, \u001b[90mB\u001b[39m::\u001b[1mNumber\u001b[22m)\n",
       "\u001b[90m     @\u001b[39m \u001b[35mLinearAlgebra\u001b[39m \u001b[90m~/julia/usr/share/julia/stdlib/v1.9/LinearAlgebra/src/\u001b[39m\u001b[90m\u001b[4mtridiag.jl:210\u001b[24m\u001b[39m\n",
       "  [66] *(\u001b[90mA\u001b[39m::\u001b[1mLinearAlgebra.SymTridiagonal\u001b[22m, \u001b[90mB\u001b[39m::\u001b[1mLinearAlgebra.Diagonal\u001b[22m)\n",
       "\u001b[90m     @\u001b[39m \u001b[35mLinearAlgebra\u001b[39m \u001b[90m~/julia/usr/share/julia/stdlib/v1.9/LinearAlgebra/src/\u001b[39m\u001b[90m\u001b[4mbidiag.jl:686\u001b[24m\u001b[39m\n",
       "  [67] *(\u001b[90mA\u001b[39m::\u001b[1mLinearAlgebra.AbstractQ\u001b[22m, \u001b[90mb\u001b[39m::\u001b[1mStridedVector\u001b[22m\u001b[0m{T} where T)\n",
       "\u001b[90m     @\u001b[39m \u001b[35mLinearAlgebra\u001b[39m \u001b[90m~/julia/usr/share/julia/stdlib/v1.9/LinearAlgebra/src/\u001b[39m\u001b[90m\u001b[4mqr.jl:656\u001b[24m\u001b[39m\n",
       "  [68] *(\u001b[90mA\u001b[39m::\u001b[1mLinearAlgebra.AbstractQ\u001b[22m, \u001b[90mB\u001b[39m::\u001b[1mStridedMatrix\u001b[22m\u001b[0m{T} where T)\n",
       "\u001b[90m     @\u001b[39m \u001b[35mLinearAlgebra\u001b[39m \u001b[90m~/julia/usr/share/julia/stdlib/v1.9/LinearAlgebra/src/\u001b[39m\u001b[90m\u001b[4mqr.jl:668\u001b[24m\u001b[39m\n",
       "  [69] *(\u001b[90mA\u001b[39m::\u001b[1mLinearAlgebra.AbstractQ\u001b[22m, \u001b[90mb\u001b[39m::\u001b[1mNumber\u001b[22m)\n",
       "\u001b[90m     @\u001b[39m \u001b[35mLinearAlgebra\u001b[39m \u001b[90m~/julia/usr/share/julia/stdlib/v1.9/LinearAlgebra/src/\u001b[39m\u001b[90m\u001b[4mqr.jl:681\u001b[24m\u001b[39m\n",
       "  [70] *(\u001b[90mQ\u001b[39m::\u001b[1mLinearAlgebra.AbstractQ\u001b[22m, \u001b[90madjB\u001b[39m::\u001b[1mLinearAlgebra.Adjoint\u001b[22m\u001b[0m{<:Any, <:StridedVecOrMat})\n",
       "\u001b[90m     @\u001b[39m \u001b[35mLinearAlgebra\u001b[39m \u001b[90m~/julia/usr/share/julia/stdlib/v1.9/LinearAlgebra/src/\u001b[39m\u001b[90m\u001b[4mqr.jl:730\u001b[24m\u001b[39m\n",
       "  [71] *(\u001b[90mQ\u001b[39m::\u001b[1mLinearAlgebra.AbstractQ\u001b[22m, \u001b[90mB\u001b[39m::\u001b[1mLinearAlgebra.AbstractTriangular\u001b[22m)\n",
       "\u001b[90m     @\u001b[39m \u001b[35mLinearAlgebra\u001b[39m \u001b[90m~/julia/usr/share/julia/stdlib/v1.9/LinearAlgebra/src/\u001b[39m\u001b[90m\u001b[4mspecial.jl:309\u001b[24m\u001b[39m\n",
       "  [72] *(\u001b[90mQ\u001b[39m::\u001b[1mLinearAlgebra.AbstractQ\u001b[22m, \u001b[90mB\u001b[39m::\u001b[1mUnion\u001b[22m\u001b[0m{LinearAlgebra.Bidiagonal, LinearAlgebra.SymTridiagonal, LinearAlgebra.Tridiagonal})\n",
       "\u001b[90m     @\u001b[39m \u001b[35mLinearAlgebra\u001b[39m \u001b[90m~/julia/usr/share/julia/stdlib/v1.9/LinearAlgebra/src/\u001b[39m\u001b[90m\u001b[4mspecial.jl:311\u001b[24m\u001b[39m\n",
       "  [73] *(\u001b[90mQ\u001b[39m::\u001b[1mLinearAlgebra.AbstractQ\u001b[22m, \u001b[90mB\u001b[39m::\u001b[1mLinearAlgebra.Diagonal\u001b[22m)\n",
       "\u001b[90m     @\u001b[39m \u001b[35mLinearAlgebra\u001b[39m \u001b[90m~/julia/usr/share/julia/stdlib/v1.9/LinearAlgebra/src/\u001b[39m\u001b[90m\u001b[4mspecial.jl:313\u001b[24m\u001b[39m\n",
       "  [74] *(\u001b[90mQ\u001b[39m::\u001b[1mLinearAlgebra.AbstractQ\u001b[22m, \u001b[90mB\u001b[39m::\u001b[1mLinearAlgebra.AbstractQ\u001b[22m)\n",
       "\u001b[90m     @\u001b[39m \u001b[35mLinearAlgebra\u001b[39m \u001b[90m~/julia/usr/share/julia/stdlib/v1.9/LinearAlgebra/src/\u001b[39m\u001b[90m\u001b[4mspecial.jl:343\u001b[24m\u001b[39m\n",
       "  [75] *(\u001b[90mQ\u001b[39m::\u001b[1mLinearAlgebra.AbstractQ\u001b[22m, \u001b[90mB\u001b[39m::\u001b[1mLinearAlgebra.Adjoint\u001b[22m\u001b[0m{<:Any, <:LinearAlgebra.AbstractQ})\n",
       "\u001b[90m     @\u001b[39m \u001b[35mLinearAlgebra\u001b[39m \u001b[90m~/julia/usr/share/julia/stdlib/v1.9/LinearAlgebra/src/\u001b[39m\u001b[90m\u001b[4mspecial.jl:345\u001b[24m\u001b[39m\n",
       "  [76] *(\u001b[90mG1\u001b[39m::\u001b[1mLinearAlgebra.Givens\u001b[22m\u001b[0m{S}, \u001b[90mG2\u001b[39m::\u001b[1mLinearAlgebra.Givens\u001b[22m\u001b[0m{T}) where {S, T}\n",
       "\u001b[90m     @\u001b[39m \u001b[35mLinearAlgebra\u001b[39m \u001b[90m~/julia/usr/share/julia/stdlib/v1.9/LinearAlgebra/src/\u001b[39m\u001b[90m\u001b[4mgivens.jl:416\u001b[24m\u001b[39m\n",
       "  [77] *(\u001b[90mG\u001b[39m::\u001b[1mLinearAlgebra.Givens\u001b[22m\u001b[0m{T}\u001b[1m...\u001b[22m) where T\n",
       "\u001b[90m     @\u001b[39m \u001b[35mLinearAlgebra\u001b[39m \u001b[90m~/julia/usr/share/julia/stdlib/v1.9/LinearAlgebra/src/\u001b[39m\u001b[90m\u001b[4mgivens.jl:420\u001b[24m\u001b[39m\n",
       "  [78] *(\u001b[90mG\u001b[39m::\u001b[1mLinearAlgebra.Givens\u001b[22m\u001b[0m{S}, \u001b[90mR\u001b[39m::\u001b[1mLinearAlgebra.Rotation\u001b[22m\u001b[0m{T}) where {S, T}\n",
       "\u001b[90m     @\u001b[39m \u001b[35mLinearAlgebra\u001b[39m \u001b[90m~/julia/usr/share/julia/stdlib/v1.9/LinearAlgebra/src/\u001b[39m\u001b[90m\u001b[4mgivens.jl:421\u001b[24m\u001b[39m\n",
       "  [79] *(\u001b[90ma\u001b[39m::\u001b[1mNumber\u001b[22m, \u001b[90mx\u001b[39m::\u001b[1mUnion\u001b[22m\u001b[0m{SparseArrays.AbstractCompressedVector{Tv, Ti}, SubArray{Tv, 1, <:SparseArrays.AbstractSparseMatrixCSC{Tv, Ti}, Tuple{Base.Slice{Base.OneTo{Int64}}, Int64}, false}, SubArray{Tv, 1, <:SparseArrays.AbstractSparseVector{Tv, Ti}, Tuple{Base.Slice{Base.OneTo{Int64}}}, false}} where {Tv, Ti})\n",
       "\u001b[90m     @\u001b[39m \u001b[32mSparseArrays\u001b[39m \u001b[90m~/julia/usr/share/julia/stdlib/v1.9/SparseArrays/src/\u001b[39m\u001b[90m\u001b[4msparsevector.jl:1652\u001b[24m\u001b[39m\n",
       "  [80] *(\u001b[90mv\u001b[39m::\u001b[1mNumber\u001b[22m, \u001b[90mx\u001b[39m::\u001b[1mBase.TwicePrecision\u001b[22m)\n",
       "\u001b[90m     @\u001b[39m \u001b[90m\u001b[4mtwiceprecision.jl:317\u001b[24m\u001b[39m\n",
       "  [81] *(\u001b[90mx\u001b[39m::\u001b[1mNumber\u001b[22m, \u001b[90mA\u001b[39m::\u001b[1mLinearAlgebra.UpperTriangular\u001b[22m)\n",
       "\u001b[90m     @\u001b[39m \u001b[35mLinearAlgebra\u001b[39m \u001b[90m~/julia/usr/share/julia/stdlib/v1.9/LinearAlgebra/src/\u001b[39m\u001b[90m\u001b[4mtriangular.jl:859\u001b[24m\u001b[39m\n",
       "  [82] *(\u001b[90mx\u001b[39m::\u001b[1mNumber\u001b[22m, \u001b[90mA\u001b[39m::\u001b[1mLinearAlgebra.LowerTriangular\u001b[22m)\n",
       "\u001b[90m     @\u001b[39m \u001b[35mLinearAlgebra\u001b[39m \u001b[90m~/julia/usr/share/julia/stdlib/v1.9/LinearAlgebra/src/\u001b[39m\u001b[90m\u001b[4mtriangular.jl:859\u001b[24m\u001b[39m\n",
       "  [83] *(\u001b[90mx\u001b[39m::\u001b[1mNumber\u001b[22m, \u001b[90mH\u001b[39m::\u001b[1mLinearAlgebra.UpperHessenberg\u001b[22m)\n",
       "\u001b[90m     @\u001b[39m \u001b[35mLinearAlgebra\u001b[39m \u001b[90m~/julia/usr/share/julia/stdlib/v1.9/LinearAlgebra/src/\u001b[39m\u001b[90m\u001b[4mhessenberg.jl:120\u001b[24m\u001b[39m\n",
       "  [84] *(\u001b[90mB\u001b[39m::\u001b[1mNumber\u001b[22m, \u001b[90mA\u001b[39m::\u001b[1mLinearAlgebra.Bidiagonal\u001b[22m)\n",
       "\u001b[90m     @\u001b[39m \u001b[35mLinearAlgebra\u001b[39m \u001b[90m~/julia/usr/share/julia/stdlib/v1.9/LinearAlgebra/src/\u001b[39m\u001b[90m\u001b[4mbidiag.jl:394\u001b[24m\u001b[39m\n",
       "  [85] *(\u001b[90mB\u001b[39m::\u001b[1mNumber\u001b[22m, \u001b[90mA\u001b[39m::\u001b[1mLinearAlgebra.Tridiagonal\u001b[22m)\n",
       "\u001b[90m     @\u001b[39m \u001b[35mLinearAlgebra\u001b[39m \u001b[90m~/julia/usr/share/julia/stdlib/v1.9/LinearAlgebra/src/\u001b[39m\u001b[90m\u001b[4mtridiag.jl:758\u001b[24m\u001b[39m\n",
       "  [86] *(\u001b[90mB\u001b[39m::\u001b[1mNumber\u001b[22m, \u001b[90mA\u001b[39m::\u001b[1mLinearAlgebra.SymTridiagonal\u001b[22m)\n",
       "\u001b[90m     @\u001b[39m \u001b[35mLinearAlgebra\u001b[39m \u001b[90m~/julia/usr/share/julia/stdlib/v1.9/LinearAlgebra/src/\u001b[39m\u001b[90m\u001b[4mtridiag.jl:211\u001b[24m\u001b[39m\n",
       "  [87] *(\u001b[90ma\u001b[39m::\u001b[1mNumber\u001b[22m, \u001b[90mB\u001b[39m::\u001b[1mLinearAlgebra.AbstractQ\u001b[22m)\n",
       "\u001b[90m     @\u001b[39m \u001b[35mLinearAlgebra\u001b[39m \u001b[90m~/julia/usr/share/julia/stdlib/v1.9/LinearAlgebra/src/\u001b[39m\u001b[90m\u001b[4mqr.jl:781\u001b[24m\u001b[39m\n",
       "  [88] *(\u001b[90mx\u001b[39m::\u001b[1mS\u001b[22m, \u001b[90mF\u001b[39m::\u001b[1mLinearAlgebra.Hessenberg\u001b[22m\u001b[0m{<:Any, <:AbstractMatrix{T}}) where {T, S<:Number}\n",
       "\u001b[90m     @\u001b[39m \u001b[35mLinearAlgebra\u001b[39m \u001b[90m~/julia/usr/share/julia/stdlib/v1.9/LinearAlgebra/src/\u001b[39m\u001b[90m\u001b[4mhessenberg.jl:636\u001b[24m\u001b[39m\n",
       "  [89] *(\u001b[90mx\u001b[39m::\u001b[1mNumber\u001b[22m, \u001b[90mD\u001b[39m::\u001b[1mLinearAlgebra.Diagonal\u001b[22m)\n",
       "\u001b[90m     @\u001b[39m \u001b[35mLinearAlgebra\u001b[39m \u001b[90m~/julia/usr/share/julia/stdlib/v1.9/LinearAlgebra/src/\u001b[39m\u001b[90m\u001b[4mdiagonal.jl:202\u001b[24m\u001b[39m\n",
       "  [90] *(\u001b[90mx\u001b[39m::\u001b[1mNumber\u001b[22m, \u001b[90mA\u001b[39m::\u001b[1mLinearAlgebra.UnitUpperTriangular\u001b[22m)\n",
       "\u001b[90m     @\u001b[39m \u001b[35mLinearAlgebra\u001b[39m \u001b[90m~/julia/usr/share/julia/stdlib/v1.9/LinearAlgebra/src/\u001b[39m\u001b[90m\u001b[4mtriangular.jl:861\u001b[24m\u001b[39m\n",
       "  [91] *(\u001b[90mx\u001b[39m::\u001b[1mNumber\u001b[22m, \u001b[90mA\u001b[39m::\u001b[1mLinearAlgebra.UnitLowerTriangular\u001b[22m)\n",
       "\u001b[90m     @\u001b[39m \u001b[35mLinearAlgebra\u001b[39m \u001b[90m~/julia/usr/share/julia/stdlib/v1.9/LinearAlgebra/src/\u001b[39m\u001b[90m\u001b[4mtriangular.jl:861\u001b[24m\u001b[39m\n",
       "  [92] *(\u001b[90mx\u001b[39m::\u001b[1mNumber\u001b[22m, \u001b[90mJ\u001b[39m::\u001b[1mLinearAlgebra.UniformScaling\u001b[22m)\n",
       "\u001b[90m     @\u001b[39m \u001b[35mLinearAlgebra\u001b[39m \u001b[90m~/julia/usr/share/julia/stdlib/v1.9/LinearAlgebra/src/\u001b[39m\u001b[90m\u001b[4muniformscaling.jl:263\u001b[24m\u001b[39m\n",
       "  [93] *(\u001b[90mx\u001b[39m::\u001b[1mNumber\u001b[22m, \u001b[90mA\u001b[39m::\u001b[1mLinearAlgebra.Symmetric\u001b[22m)\n",
       "\u001b[90m     @\u001b[39m \u001b[35mLinearAlgebra\u001b[39m \u001b[90m~/julia/usr/share/julia/stdlib/v1.9/LinearAlgebra/src/\u001b[39m\u001b[90m\u001b[4msymmetric.jl:605\u001b[24m\u001b[39m\n",
       "  [94] *(::\u001b[1mNumber\u001b[22m, ::\u001b[1mMissing\u001b[22m)\n",
       "\u001b[90m     @\u001b[39m \u001b[90m\u001b[4mmissing.jl:124\u001b[24m\u001b[39m\n",
       "  [95] *(\u001b[90mx\u001b[39m::\u001b[1mBase.TwicePrecision\u001b[22m\u001b[0m{<:Union{Float16, Float32, Float64}}, \u001b[90mv\u001b[39m::\u001b[1mInteger\u001b[22m)\n",
       "\u001b[90m     @\u001b[39m \u001b[90m\u001b[4mtwiceprecision.jl:311\u001b[24m\u001b[39m\n",
       "  [96] *(\u001b[90mx\u001b[39m::\u001b[1mBase.TwicePrecision\u001b[22m, \u001b[90mv\u001b[39m::\u001b[1mNumber\u001b[22m)\n",
       "\u001b[90m     @\u001b[39m \u001b[90m\u001b[4mtwiceprecision.jl:307\u001b[24m\u001b[39m\n",
       "  [97] *(\u001b[90mx\u001b[39m::\u001b[1mBase.TwicePrecision\u001b[22m\u001b[0m{T}, \u001b[90my\u001b[39m::\u001b[1mBase.TwicePrecision\u001b[22m\u001b[0m{T}) where T\n",
       "\u001b[90m     @\u001b[39m \u001b[90m\u001b[4mtwiceprecision.jl:319\u001b[24m\u001b[39m\n",
       "  [98] *(\u001b[90mx\u001b[39m::\u001b[1mBase.TwicePrecision\u001b[22m, \u001b[90my\u001b[39m::\u001b[1mBase.TwicePrecision\u001b[22m)\n",
       "\u001b[90m     @\u001b[39m \u001b[90m\u001b[4mtwiceprecision.jl:324\u001b[24m\u001b[39m\n",
       "  [99] *(\u001b[90mA\u001b[39m::\u001b[1mLinearAlgebra.UpperTriangular\u001b[22m, \u001b[90mx\u001b[39m::\u001b[1mNumber\u001b[22m)\n",
       "\u001b[90m     @\u001b[39m \u001b[35mLinearAlgebra\u001b[39m \u001b[90m~/julia/usr/share/julia/stdlib/v1.9/LinearAlgebra/src/\u001b[39m\u001b[90m\u001b[4mtriangular.jl:849\u001b[24m\u001b[39m\n",
       " [100] *(\u001b[90mA\u001b[39m::\u001b[1mLinearAlgebra.UpperTriangular\u001b[22m, \u001b[90mB\u001b[39m::\u001b[1mLinearAlgebra.UpperTriangular\u001b[22m)\n",
       "\u001b[90m     @\u001b[39m \u001b[35mLinearAlgebra\u001b[39m \u001b[90m~/julia/usr/share/julia/stdlib/v1.9/LinearAlgebra/src/\u001b[39m\u001b[90m\u001b[4mtriangular.jl:1319\u001b[24m\u001b[39m\n",
       " [101] *(\u001b[90mA\u001b[39m::\u001b[1mLinearAlgebra.UpperTriangular\u001b[22m, \u001b[90mB\u001b[39m::\u001b[1mLinearAlgebra.UnitUpperTriangular\u001b[22m)\n",
       "\u001b[90m     @\u001b[39m \u001b[35mLinearAlgebra\u001b[39m \u001b[90m~/julia/usr/share/julia/stdlib/v1.9/LinearAlgebra/src/\u001b[39m\u001b[90m\u001b[4mtriangular.jl:1333\u001b[24m\u001b[39m\n",
       " [102] *(\u001b[90mA\u001b[39m::\u001b[1mLinearAlgebra.UpperTriangular\u001b[22m, \u001b[90mD\u001b[39m::\u001b[1mLinearAlgebra.Diagonal\u001b[22m)\n",
       "\u001b[90m     @\u001b[39m \u001b[35mLinearAlgebra\u001b[39m \u001b[90m~/julia/usr/share/julia/stdlib/v1.9/LinearAlgebra/src/\u001b[39m\u001b[90m\u001b[4mdiagonal.jl:540\u001b[24m\u001b[39m\n",
       " [103] *(\u001b[90mR\u001b[39m::\u001b[1mLinearAlgebra.AbstractRotation\u001b[22m, \u001b[90mA\u001b[39m::\u001b[1mAbstractVector\u001b[22m)\n",
       "\u001b[90m     @\u001b[39m \u001b[35mLinearAlgebra\u001b[39m \u001b[90m~/julia/usr/share/julia/stdlib/v1.9/LinearAlgebra/src/\u001b[39m\u001b[90m\u001b[4mgivens.jl:12\u001b[24m\u001b[39m\n",
       " [104] *(\u001b[90mR\u001b[39m::\u001b[1mLinearAlgebra.AbstractRotation\u001b[22m, \u001b[90mA\u001b[39m::\u001b[1mAbstractMatrix\u001b[22m)\n",
       "\u001b[90m     @\u001b[39m \u001b[35mLinearAlgebra\u001b[39m \u001b[90m~/julia/usr/share/julia/stdlib/v1.9/LinearAlgebra/src/\u001b[39m\u001b[90m\u001b[4mgivens.jl:13\u001b[24m\u001b[39m\n",
       " [105] *(\u001b[90mA\u001b[39m::\u001b[1mLinearAlgebra.AbstractTriangular\u001b[22m, \u001b[90mQ\u001b[39m::\u001b[1mLinearAlgebra.AbstractQ\u001b[22m)\n",
       "\u001b[90m     @\u001b[39m \u001b[35mLinearAlgebra\u001b[39m \u001b[90m~/julia/usr/share/julia/stdlib/v1.9/LinearAlgebra/src/\u001b[39m\u001b[90m\u001b[4mspecial.jl:336\u001b[24m\u001b[39m\n",
       " [106] *(\u001b[90mA\u001b[39m::\u001b[1mLinearAlgebra.AbstractTriangular\u001b[22m, \u001b[90mQ\u001b[39m::\u001b[1mLinearAlgebra.Adjoint\u001b[22m\u001b[0m{<:Any, <:LinearAlgebra.AbstractQ})\n",
       "\u001b[90m     @\u001b[39m \u001b[35mLinearAlgebra\u001b[39m \u001b[90m~/julia/usr/share/julia/stdlib/v1.9/LinearAlgebra/src/\u001b[39m\u001b[90m\u001b[4mspecial.jl:337\u001b[24m\u001b[39m\n",
       " [107] *(\u001b[90mA\u001b[39m::\u001b[1mLinearAlgebra.UnitLowerTriangular\u001b[22m, \u001b[90mx\u001b[39m::\u001b[1mNumber\u001b[22m)\n",
       "\u001b[90m     @\u001b[39m \u001b[35mLinearAlgebra\u001b[39m \u001b[90m~/julia/usr/share/julia/stdlib/v1.9/LinearAlgebra/src/\u001b[39m\u001b[90m\u001b[4mtriangular.jl:851\u001b[24m\u001b[39m\n",
       " [108] *(\u001b[90mA\u001b[39m::\u001b[1mLinearAlgebra.UnitLowerTriangular\u001b[22m, \u001b[90mB\u001b[39m::\u001b[1mLinearAlgebra.LowerTriangular\u001b[22m)\n",
       "\u001b[90m     @\u001b[39m \u001b[35mLinearAlgebra\u001b[39m \u001b[90m~/julia/usr/share/julia/stdlib/v1.9/LinearAlgebra/src/\u001b[39m\u001b[90m\u001b[4mtriangular.jl:1298\u001b[24m\u001b[39m\n",
       " [109] *(\u001b[90mA\u001b[39m::\u001b[1mLinearAlgebra.UnitLowerTriangular\u001b[22m, \u001b[90mB\u001b[39m::\u001b[1mLinearAlgebra.UnitLowerTriangular\u001b[22m)\n",
       "\u001b[90m     @\u001b[39m \u001b[35mLinearAlgebra\u001b[39m \u001b[90m~/julia/usr/share/julia/stdlib/v1.9/LinearAlgebra/src/\u001b[39m\u001b[90m\u001b[4mtriangular.jl:1312\u001b[24m\u001b[39m\n",
       " [110] *(\u001b[90mA\u001b[39m::\u001b[1mLinearAlgebra.UnitLowerTriangular\u001b[22m, \u001b[90mD\u001b[39m::\u001b[1mLinearAlgebra.Diagonal\u001b[22m)\n",
       "\u001b[90m     @\u001b[39m \u001b[35mLinearAlgebra\u001b[39m \u001b[90m~/julia/usr/share/julia/stdlib/v1.9/LinearAlgebra/src/\u001b[39m\u001b[90m\u001b[4mdiagonal.jl:541\u001b[24m\u001b[39m\n",
       " [111] *(\u001b[90mr\u001b[39m::\u001b[1mStepRangeLen\u001b[22m\u001b[0m{<:Real, <:Base.TwicePrecision}, \u001b[90mx\u001b[39m::\u001b[1mReal\u001b[22m)\n",
       "\u001b[90m     @\u001b[39m \u001b[90m\u001b[4mtwiceprecision.jl:538\u001b[24m\u001b[39m\n",
       " [112] *(\u001b[90mQ\u001b[39m::\u001b[1mSparseArrays.SPQR.QRSparseQ\u001b[22m, \u001b[90mB\u001b[39m::\u001b[1mSparseArrays.SparseMatrixCSC\u001b[22m)\n",
       "\u001b[90m     @\u001b[39m \u001b[32mSparseArrays.SPQR\u001b[39m \u001b[90m~/julia/usr/share/julia/stdlib/v1.9/SparseArrays/src/solvers/\u001b[39m\u001b[90m\u001b[4mspqr.jl:287\u001b[24m\u001b[39m\n",
       " [113] *(\u001b[90mA\u001b[39m::\u001b[1mSparseArrays.SparseMatrixCSC\u001b[22m, \u001b[90mQ\u001b[39m::\u001b[1mSparseArrays.SPQR.QRSparseQ\u001b[22m)\n",
       "\u001b[90m     @\u001b[39m \u001b[32mSparseArrays.SPQR\u001b[39m \u001b[90m~/julia/usr/share/julia/stdlib/v1.9/SparseArrays/src/solvers/\u001b[39m\u001b[90m\u001b[4mspqr.jl:288\u001b[24m\u001b[39m\n",
       " [114] *(\u001b[90mA\u001b[39m::\u001b[1mSparseArrays.AbstractSparseMatrixCSC\u001b[22m, \u001b[90mx\u001b[39m::\u001b[1mSparseArrays.AbstractSparseVector\u001b[22m)\n",
       "\u001b[90m     @\u001b[39m \u001b[32mSparseArrays\u001b[39m \u001b[90m~/julia/usr/share/julia/stdlib/v1.9/SparseArrays/src/\u001b[39m\u001b[90m\u001b[4msparsevector.jl:1946\u001b[24m\u001b[39m\n",
       " [115] *(\u001b[90mA\u001b[39m::\u001b[1mUnion\u001b[22m\u001b[0m{SparseArrays.AbstractSparseMatrixCSC{Tv, Ti}, SubArray{Tv, 2, <:SparseArrays.AbstractSparseMatrixCSC{Tv, Ti}, Tuple{Base.Slice{Base.OneTo{Int64}}, I}} where I<:AbstractUnitRange, LinearAlgebra.LowerTriangular{Tv, <:Union{SparseArrays.AbstractSparseMatrixCSC{Tv, Ti}, SubArray{Tv, 2, <:SparseArrays.AbstractSparseMatrixCSC{Tv, Ti}, Tuple{Base.Slice{Base.OneTo{Int64}}, I}} where I<:AbstractUnitRange}}, LinearAlgebra.UpperTriangular{Tv, <:Union{SparseArrays.AbstractSparseMatrixCSC{Tv, Ti}, SubArray{Tv, 2, <:SparseArrays.AbstractSparseMatrixCSC{Tv, Ti}, Tuple{Base.Slice{Base.OneTo{Int64}}, I}} where I<:AbstractUnitRange}}} where {Tv, Ti}, \u001b[90mB\u001b[39m::\u001b[1mSparseArrays.AbstractSparseVector\u001b[22m)\n",
       "\u001b[90m     @\u001b[39m \u001b[32mSparseArrays\u001b[39m \u001b[90m~/julia/usr/share/julia/stdlib/v1.9/SparseArrays/src/\u001b[39m\u001b[90m\u001b[4mlinalg.jl:150\u001b[24m\u001b[39m\n",
       " [116] *(\u001b[90mA\u001b[39m::\u001b[1mUnion\u001b[22m\u001b[0m{LinearAlgebra.LowerTriangular{Ta, S} where S<:AbstractMatrix{Ta}, LinearAlgebra.UnitLowerTriangular{Ta, S} where S<:AbstractMatrix{Ta}, LinearAlgebra.UnitUpperTriangular{Ta, S} where S<:AbstractMatrix{Ta}, LinearAlgebra.UpperTriangular{Ta, S} where S<:AbstractMatrix{Ta}, StridedArray{Ta, 2}}, \u001b[90mx\u001b[39m::\u001b[1mSparseArrays.AbstractSparseVector\u001b[22m\u001b[0m{Tx}) where {Ta, Tx}\n",
       "\u001b[90m     @\u001b[39m \u001b[32mSparseArrays\u001b[39m \u001b[90m~/julia/usr/share/julia/stdlib/v1.9/SparseArrays/src/\u001b[39m\u001b[90m\u001b[4msparsevector.jl:1740\u001b[24m\u001b[39m\n",
       " [117] *(\u001b[90mA\u001b[39m::\u001b[1mLinearAlgebra.Bidiagonal\u001b[22m, \u001b[90mB\u001b[39m::\u001b[1mNumber\u001b[22m)\n",
       "\u001b[90m     @\u001b[39m \u001b[35mLinearAlgebra\u001b[39m \u001b[90m~/julia/usr/share/julia/stdlib/v1.9/LinearAlgebra/src/\u001b[39m\u001b[90m\u001b[4mbidiag.jl:393\u001b[24m\u001b[39m\n",
       " [118] *(\u001b[90mA\u001b[39m::\u001b[1mLinearAlgebra.Bidiagonal\u001b[22m, \u001b[90mB\u001b[39m::\u001b[1mUnion\u001b[22m\u001b[0m{LinearAlgebra.UnitUpperTriangular{T, S} where S<:AbstractMatrix{T}, LinearAlgebra.UpperTriangular{T, S} where S<:AbstractMatrix{T}} where T)\n",
       "\u001b[90m     @\u001b[39m \u001b[35mLinearAlgebra\u001b[39m \u001b[90m~/julia/usr/share/julia/stdlib/v1.9/LinearAlgebra/src/\u001b[39m\u001b[90m\u001b[4mbidiag.jl:659\u001b[24m\u001b[39m\n",
       " [119] *(\u001b[90mA\u001b[39m::\u001b[1mLinearAlgebra.Bidiagonal\u001b[22m, \u001b[90mB\u001b[39m::\u001b[1mUnion\u001b[22m\u001b[0m{LinearAlgebra.LowerTriangular{T, S} where S<:AbstractMatrix{T}, LinearAlgebra.UnitLowerTriangular{T, S} where S<:AbstractMatrix{T}} where T)\n",
       "\u001b[90m     @\u001b[39m \u001b[35mLinearAlgebra\u001b[39m \u001b[90m~/julia/usr/share/julia/stdlib/v1.9/LinearAlgebra/src/\u001b[39m\u001b[90m\u001b[4mbidiag.jl:665\u001b[24m\u001b[39m\n",
       " [120] *(\u001b[90mB\u001b[39m::\u001b[1mLinearAlgebra.Bidiagonal\u001b[22m, \u001b[90mH\u001b[39m::\u001b[1mLinearAlgebra.UpperHessenberg\u001b[22m)\n",
       "\u001b[90m     @\u001b[39m \u001b[35mLinearAlgebra\u001b[39m \u001b[90m~/julia/usr/share/julia/stdlib/v1.9/LinearAlgebra/src/\u001b[39m\u001b[90m\u001b[4mhessenberg.jl:170\u001b[24m\u001b[39m\n",
       " [121] *(\u001b[90mA\u001b[39m::\u001b[1mLinearAlgebra.Symmetric\u001b[22m, \u001b[90mx\u001b[39m::\u001b[1mNumber\u001b[22m)\n",
       "\u001b[90m     @\u001b[39m \u001b[35mLinearAlgebra\u001b[39m \u001b[90m~/julia/usr/share/julia/stdlib/v1.9/LinearAlgebra/src/\u001b[39m\u001b[90m\u001b[4msymmetric.jl:604\u001b[24m\u001b[39m\n",
       " [122] *(\u001b[90mA\u001b[39m::\u001b[1mLinearAlgebra.Symmetric\u001b[22m\u001b[0m{Float64, SparseArrays.SparseMatrixCSC{Float64, Ti}}, \u001b[90mB\u001b[39m::\u001b[1mUnion\u001b[22m\u001b[0m{SparseArrays.SparseMatrixCSC{Float64, Ti}, SparseArrays.SparseVector{Float64, Ti}}) where Ti\n",
       "\u001b[90m     @\u001b[39m \u001b[32mSparseArrays.CHOLMOD\u001b[39m \u001b[90m~/julia/usr/share/julia/stdlib/v1.9/SparseArrays/src/solvers/\u001b[39m\u001b[90m\u001b[4mcholmod.jl:1683\u001b[24m\u001b[39m\n",
       " [123] *(\u001b[90mindex\u001b[39m::\u001b[1mCartesianIndex\u001b[22m, \u001b[90ma\u001b[39m::\u001b[1mInteger\u001b[22m)\n",
       "\u001b[90m     @\u001b[39m \u001b[90mBase.IteratorsMD\u001b[39m \u001b[90m\u001b[4mmultidimensional.jl:121\u001b[24m\u001b[39m\n",
       " [124] *(\u001b[90my\u001b[39m::\u001b[1mInteger\u001b[22m, \u001b[90mx\u001b[39m::\u001b[1mRational\u001b[22m)\n",
       "\u001b[90m     @\u001b[39m \u001b[90m\u001b[4mrational.jl:356\u001b[24m\u001b[39m\n",
       " [125] *(\u001b[90ma\u001b[39m::\u001b[1mInteger\u001b[22m, \u001b[90mindex\u001b[39m::\u001b[1mCartesianIndex\u001b[22m\u001b[0m{N}) where N\n",
       "\u001b[90m     @\u001b[39m \u001b[90mBase.IteratorsMD\u001b[39m \u001b[90m\u001b[4mmultidimensional.jl:120\u001b[24m\u001b[39m\n",
       " [126] *(\u001b[90mr\u001b[39m::\u001b[1mAbstractRange\u001b[22m\u001b[0m{<:Real}, \u001b[90mx\u001b[39m::\u001b[1mDates.Period\u001b[22m)\n",
       "\u001b[90m     @\u001b[39m \u001b[36mDates\u001b[39m \u001b[90m~/julia/usr/share/julia/stdlib/v1.9/Dates/src/\u001b[39m\u001b[90m\u001b[4mranges.jl:68\u001b[24m\u001b[39m\n",
       " [127] *(\u001b[90mA\u001b[39m::\u001b[1mAbstractArray\u001b[22m, \u001b[90mB\u001b[39m::\u001b[1mDates.Period\u001b[22m)\n",
       "\u001b[90m     @\u001b[39m \u001b[36mDates\u001b[39m \u001b[90m~/julia/usr/share/julia/stdlib/v1.9/Dates/src/\u001b[39m\u001b[90m\u001b[4mperiods.jl:94\u001b[24m\u001b[39m\n",
       " [128] *(\u001b[90mF\u001b[39m::\u001b[1mLinearAlgebra.Hessenberg\u001b[22m\u001b[0m{<:Any, <:AbstractMatrix{T}}, \u001b[90mx\u001b[39m::\u001b[1mS\u001b[22m) where {T, S<:Number}\n",
       "\u001b[90m     @\u001b[39m \u001b[35mLinearAlgebra\u001b[39m \u001b[90m~/julia/usr/share/julia/stdlib/v1.9/LinearAlgebra/src/\u001b[39m\u001b[90m\u001b[4mhessenberg.jl:628\u001b[24m\u001b[39m\n",
       " [129] *(\u001b[90mA\u001b[39m::\u001b[1mLinearAlgebra.Diagonal\u001b[22m, \u001b[90mB\u001b[39m::\u001b[1mUnion\u001b[22m\u001b[0m{LinearAlgebra.Bidiagonal, LinearAlgebra.Tridiagonal})\n",
       "\u001b[90m     @\u001b[39m \u001b[35mLinearAlgebra\u001b[39m \u001b[90m~/julia/usr/share/julia/stdlib/v1.9/LinearAlgebra/src/\u001b[39m\u001b[90m\u001b[4mbidiag.jl:676\u001b[24m\u001b[39m\n",
       " [130] *(\u001b[90mD\u001b[39m::\u001b[1mLinearAlgebra.Diagonal\u001b[22m, \u001b[90mA\u001b[39m::\u001b[1mLinearAlgebra.UpperTriangular\u001b[22m)\n",
       "\u001b[90m     @\u001b[39m \u001b[35mLinearAlgebra\u001b[39m \u001b[90m~/julia/usr/share/julia/stdlib/v1.9/LinearAlgebra/src/\u001b[39m\u001b[90m\u001b[4mdiagonal.jl:544\u001b[24m\u001b[39m\n",
       " [131] *(\u001b[90mD\u001b[39m::\u001b[1mLinearAlgebra.Diagonal\u001b[22m, \u001b[90mA\u001b[39m::\u001b[1mLinearAlgebra.LowerTriangular\u001b[22m)\n",
       "\u001b[90m     @\u001b[39m \u001b[35mLinearAlgebra\u001b[39m \u001b[90m~/julia/usr/share/julia/stdlib/v1.9/LinearAlgebra/src/\u001b[39m\u001b[90m\u001b[4mdiagonal.jl:544\u001b[24m\u001b[39m\n",
       " [132] *(\u001b[90mA\u001b[39m::\u001b[1mLinearAlgebra.Diagonal\u001b[22m, \u001b[90mQ\u001b[39m::\u001b[1mLinearAlgebra.AbstractQ\u001b[22m)\n",
       "\u001b[90m     @\u001b[39m \u001b[35mLinearAlgebra\u001b[39m \u001b[90m~/julia/usr/share/julia/stdlib/v1.9/LinearAlgebra/src/\u001b[39m\u001b[90m\u001b[4mspecial.jl:340\u001b[24m\u001b[39m\n",
       " [133] *(\u001b[90mx\u001b[39m::\u001b[1mLinearAlgebra.Diagonal\u001b[22m, \u001b[90mH\u001b[39m::\u001b[1mLinearAlgebra.UpperHessenberg\u001b[22m)\n",
       "\u001b[90m     @\u001b[39m \u001b[35mLinearAlgebra\u001b[39m \u001b[90m~/julia/usr/share/julia/stdlib/v1.9/LinearAlgebra/src/\u001b[39m\u001b[90m\u001b[4mhessenberg.jl:120\u001b[24m\u001b[39m\n",
       " [134] *(\u001b[90mA\u001b[39m::\u001b[1mLinearAlgebra.Diagonal\u001b[22m, \u001b[90mB\u001b[39m::\u001b[1mLinearAlgebra.SymTridiagonal\u001b[22m)\n",
       "\u001b[90m     @\u001b[39m \u001b[35mLinearAlgebra\u001b[39m \u001b[90m~/julia/usr/share/julia/stdlib/v1.9/LinearAlgebra/src/\u001b[39m\u001b[90m\u001b[4mbidiag.jl:681\u001b[24m\u001b[39m\n",
       " [135] *(\u001b[90mD\u001b[39m::\u001b[1mLinearAlgebra.Diagonal\u001b[22m, \u001b[90mx\u001b[39m::\u001b[1mNumber\u001b[22m)\n",
       "\u001b[90m     @\u001b[39m \u001b[35mLinearAlgebra\u001b[39m \u001b[90m~/julia/usr/share/julia/stdlib/v1.9/LinearAlgebra/src/\u001b[39m\u001b[90m\u001b[4mdiagonal.jl:203\u001b[24m\u001b[39m\n",
       " [136] *(\u001b[90mDa\u001b[39m::\u001b[1mLinearAlgebra.Diagonal\u001b[22m, \u001b[90mDb\u001b[39m::\u001b[1mLinearAlgebra.Diagonal\u001b[22m)\n",
       "\u001b[90m     @\u001b[39m \u001b[35mLinearAlgebra\u001b[39m \u001b[90m~/julia/usr/share/julia/stdlib/v1.9/LinearAlgebra/src/\u001b[39m\u001b[90m\u001b[4mdiagonal.jl:237\u001b[24m\u001b[39m\n",
       " [137] *(\u001b[90mDa\u001b[39m::\u001b[1mLinearAlgebra.Diagonal\u001b[22m, \u001b[90mDb\u001b[39m::\u001b[1mLinearAlgebra.Diagonal\u001b[22m, \u001b[90mDc\u001b[39m::\u001b[1mLinearAlgebra.Diagonal\u001b[22m)\n",
       "\u001b[90m     @\u001b[39m \u001b[35mLinearAlgebra\u001b[39m \u001b[90m~/julia/usr/share/julia/stdlib/v1.9/LinearAlgebra/src/\u001b[39m\u001b[90m\u001b[4mdiagonal.jl:358\u001b[24m\u001b[39m\n",
       " [138] *(\u001b[90mD\u001b[39m::\u001b[1mLinearAlgebra.Diagonal\u001b[22m, \u001b[90madjQ\u001b[39m::\u001b[1mLinearAlgebra.Adjoint\u001b[22m\u001b[0m{<:Any, <:Union{LinearAlgebra.QRCompactWYQ, LinearAlgebra.QRPackedQ}})\n",
       "\u001b[90m     @\u001b[39m \u001b[35mLinearAlgebra\u001b[39m \u001b[90m~/julia/usr/share/julia/stdlib/v1.9/LinearAlgebra/src/\u001b[39m\u001b[90m\u001b[4mdiagonal.jl:260\u001b[24m\u001b[39m\n",
       " [139] *(\u001b[90mA\u001b[39m::\u001b[1mLinearAlgebra.Diagonal\u001b[22m, \u001b[90mQ\u001b[39m::\u001b[1mLinearAlgebra.Adjoint\u001b[22m\u001b[0m{<:Any, <:LinearAlgebra.AbstractQ})\n",
       "\u001b[90m     @\u001b[39m \u001b[35mLinearAlgebra\u001b[39m \u001b[90m~/julia/usr/share/julia/stdlib/v1.9/LinearAlgebra/src/\u001b[39m\u001b[90m\u001b[4mspecial.jl:341\u001b[24m\u001b[39m\n",
       " [140] *(\u001b[90mD\u001b[39m::\u001b[1mLinearAlgebra.Diagonal\u001b[22m, \u001b[90mA\u001b[39m::\u001b[1mUnion\u001b[22m\u001b[0m{LinearAlgebra.Adjoint{T, var\"#s970\"}, LinearAlgebra.Transpose{T, var\"#s970\"}} where {T, var\"#s970\"<:(AbstractMatrix)})\n",
       "\u001b[90m     @\u001b[39m \u001b[35mLinearAlgebra\u001b[39m \u001b[90m~/julia/usr/share/julia/stdlib/v1.9/LinearAlgebra/src/\u001b[39m\u001b[90m\u001b[4mdiagonal.jl:263\u001b[24m\u001b[39m\n",
       " [141] *(\u001b[90mD\u001b[39m::\u001b[1mLinearAlgebra.Diagonal\u001b[22m, \u001b[90mA\u001b[39m::\u001b[1mLinearAlgebra.UnitUpperTriangular\u001b[22m)\n",
       "\u001b[90m     @\u001b[39m \u001b[35mLinearAlgebra\u001b[39m \u001b[90m~/julia/usr/share/julia/stdlib/v1.9/LinearAlgebra/src/\u001b[39m\u001b[90m\u001b[4mdiagonal.jl:545\u001b[24m\u001b[39m\n",
       " [142] *(\u001b[90mD\u001b[39m::\u001b[1mLinearAlgebra.Diagonal\u001b[22m, \u001b[90mA\u001b[39m::\u001b[1mLinearAlgebra.UnitLowerTriangular\u001b[22m)\n",
       "\u001b[90m     @\u001b[39m \u001b[35mLinearAlgebra\u001b[39m \u001b[90m~/julia/usr/share/julia/stdlib/v1.9/LinearAlgebra/src/\u001b[39m\u001b[90m\u001b[4mdiagonal.jl:545\u001b[24m\u001b[39m\n",
       " [143] *(\u001b[90mD\u001b[39m::\u001b[1mLinearAlgebra.Diagonal\u001b[22m, \u001b[90mA\u001b[39m::\u001b[1mLinearAlgebra.AbstractTriangular\u001b[22m)\n",
       "\u001b[90m     @\u001b[39m \u001b[35mLinearAlgebra\u001b[39m \u001b[90m~/julia/usr/share/julia/stdlib/v1.9/LinearAlgebra/src/\u001b[39m\u001b[90m\u001b[4mdiagonal.jl:801\u001b[24m\u001b[39m\n",
       " [144] *(\u001b[90mD\u001b[39m::\u001b[1mLinearAlgebra.Diagonal\u001b[22m, \u001b[90mA\u001b[39m::\u001b[1mAbstractMatrix\u001b[22m)\n",
       "\u001b[90m     @\u001b[39m \u001b[35mLinearAlgebra\u001b[39m \u001b[90m~/julia/usr/share/julia/stdlib/v1.9/LinearAlgebra/src/\u001b[39m\u001b[90m\u001b[4mdiagonal.jl:249\u001b[24m\u001b[39m\n",
       " [145] *(\u001b[90mDa\u001b[39m::\u001b[1mLinearAlgebra.Diagonal\u001b[22m, \u001b[90mA\u001b[39m::\u001b[1mAbstractMatrix\u001b[22m, \u001b[90mDb\u001b[39m::\u001b[1mLinearAlgebra.Diagonal\u001b[22m)\n",
       "\u001b[90m     @\u001b[39m \u001b[35mLinearAlgebra\u001b[39m \u001b[90m~/julia/usr/share/julia/stdlib/v1.9/LinearAlgebra/src/\u001b[39m\u001b[90m\u001b[4mdiagonal.jl:352\u001b[24m\u001b[39m\n",
       " [146] *(\u001b[90mD\u001b[39m::\u001b[1mLinearAlgebra.Diagonal\u001b[22m, \u001b[90mV\u001b[39m::\u001b[1mAbstractVector\u001b[22m)\n",
       "\u001b[90m     @\u001b[39m \u001b[35mLinearAlgebra\u001b[39m \u001b[90m~/julia/usr/share/julia/stdlib/v1.9/LinearAlgebra/src/\u001b[39m\u001b[90m\u001b[4mdiagonal.jl:242\u001b[24m\u001b[39m\n",
       " [147] *(\u001b[90mx\u001b[39m::\u001b[1mReal\u001b[22m, \u001b[90mr\u001b[39m::\u001b[1mStepRangeLen\u001b[22m\u001b[0m{<:Real, <:Base.TwicePrecision})\n",
       "\u001b[90m     @\u001b[39m \u001b[90m\u001b[4mtwiceprecision.jl:536\u001b[24m\u001b[39m\n",
       " [148] *(\u001b[90mx\u001b[39m::\u001b[1mReal\u001b[22m, \u001b[90mA\u001b[39m::\u001b[1mLinearAlgebra.Hermitian\u001b[22m)\n",
       "\u001b[90m     @\u001b[39m \u001b[35mLinearAlgebra\u001b[39m \u001b[90m~/julia/usr/share/julia/stdlib/v1.9/LinearAlgebra/src/\u001b[39m\u001b[90m\u001b[4msymmetric.jl:607\u001b[24m\u001b[39m\n",
       " [149] *(\u001b[90mα\u001b[39m::\u001b[1mUnion\u001b[22m\u001b[0m{Real, Complex}, \u001b[90mB\u001b[39m::\u001b[1mAbstractMatrix\u001b[22m\u001b[0m{<:Union{Real, Complex}}, \u001b[90mC\u001b[39m::\u001b[1mAbstractVector\u001b[22m\u001b[0m{<:Union{Real, Complex}})\n",
       "\u001b[90m     @\u001b[39m \u001b[35mLinearAlgebra\u001b[39m \u001b[90m~/julia/usr/share/julia/stdlib/v1.9/LinearAlgebra/src/\u001b[39m\u001b[90m\u001b[4mmatmul.jl:1157\u001b[24m\u001b[39m\n",
       " [150] *(\u001b[90mα\u001b[39m::\u001b[1mUnion\u001b[22m\u001b[0m{Real, Complex}, \u001b[90mB\u001b[39m::\u001b[1mAbstractMatrix\u001b[22m\u001b[0m{<:Union{Real, Complex}}, \u001b[90mC\u001b[39m::\u001b[1mAbstractMatrix\u001b[22m\u001b[0m{<:Union{Real, Complex}})\n",
       "\u001b[90m     @\u001b[39m \u001b[35mLinearAlgebra\u001b[39m \u001b[90m~/julia/usr/share/julia/stdlib/v1.9/LinearAlgebra/src/\u001b[39m\u001b[90m\u001b[4mmatmul.jl:1159\u001b[24m\u001b[39m\n",
       " [151] *(\u001b[90mα\u001b[39m::\u001b[1mUnion\u001b[22m\u001b[0m{Real, Complex}, \u001b[90mB\u001b[39m::\u001b[1mAbstractMatrix\u001b[22m\u001b[0m{<:Union{Real, Complex}}, \u001b[90mC\u001b[39m::\u001b[1mAbstractMatrix\u001b[22m\u001b[0m{<:Union{Real, Complex}}, \u001b[90mD\u001b[39m::\u001b[1mAbstractMatrix\u001b[22m\u001b[0m{<:Union{Real, Complex}})\n",
       "\u001b[90m     @\u001b[39m \u001b[35mLinearAlgebra\u001b[39m \u001b[90m~/julia/usr/share/julia/stdlib/v1.9/LinearAlgebra/src/\u001b[39m\u001b[90m\u001b[4mmatmul.jl:1233\u001b[24m\u001b[39m\n",
       " [152] *(\u001b[90mα\u001b[39m::\u001b[1mNumber\u001b[22m, \u001b[90mB\u001b[39m::\u001b[1mAbstractMatrix\u001b[22m, \u001b[90mC\u001b[39m::\u001b[1mAbstractMatrix\u001b[22m, \u001b[90mx\u001b[39m::\u001b[1mAbstractVector\u001b[22m)\n",
       "\u001b[90m     @\u001b[39m \u001b[35mLinearAlgebra\u001b[39m \u001b[90m~/julia/usr/share/julia/stdlib/v1.9/LinearAlgebra/src/\u001b[39m\u001b[90m\u001b[4mmatmul.jl:1216\u001b[24m\u001b[39m\n",
       " [153] *(\u001b[90mα\u001b[39m::\u001b[1mNumber\u001b[22m, \u001b[90mu\u001b[39m::\u001b[1mAbstractVector\u001b[22m, \u001b[90mtv\u001b[39m::\u001b[1mUnion\u001b[22m\u001b[0m{LinearAlgebra.Adjoint{T, var\"#s970\"}, LinearAlgebra.Transpose{T, var\"#s970\"}} where {T, var\"#s970\"<:(AbstractVector)})\n",
       "\u001b[90m     @\u001b[39m \u001b[35mLinearAlgebra\u001b[39m \u001b[90m~/julia/usr/share/julia/stdlib/v1.9/LinearAlgebra/src/\u001b[39m\u001b[90m\u001b[4mmatmul.jl:1162\u001b[24m\u001b[39m\n",
       " [154] *(\u001b[90mA\u001b[39m::\u001b[1mNumber\u001b[22m, \u001b[90mB\u001b[39m::\u001b[1mAbstractArray\u001b[22m)\n",
       "\u001b[90m     @\u001b[39m \u001b[90m\u001b[4marraymath.jl:21\u001b[24m\u001b[39m\n",
       " [155] *(\u001b[90my\u001b[39m::\u001b[1mReal\u001b[22m, \u001b[90mx\u001b[39m::\u001b[1mDates.Period\u001b[22m)\n",
       "\u001b[90m     @\u001b[39m \u001b[36mDates\u001b[39m \u001b[90m~/julia/usr/share/julia/stdlib/v1.9/Dates/src/\u001b[39m\u001b[90m\u001b[4mperiods.jl:91\u001b[24m\u001b[39m\n",
       " [156] *(\u001b[90mz\u001b[39m::\u001b[1mComplex\u001b[22m, \u001b[90mw\u001b[39m::\u001b[1mComplex\u001b[22m)\n",
       "\u001b[90m     @\u001b[39m \u001b[90m\u001b[4mcomplex.jl:293\u001b[24m\u001b[39m\n",
       " [157] *(\u001b[90mA\u001b[39m::\u001b[1mLinearAlgebra.Hermitian\u001b[22m, \u001b[90mx\u001b[39m::\u001b[1mReal\u001b[22m)\n",
       "\u001b[90m     @\u001b[39m \u001b[35mLinearAlgebra\u001b[39m \u001b[90m~/julia/usr/share/julia/stdlib/v1.9/LinearAlgebra/src/\u001b[39m\u001b[90m\u001b[4msymmetric.jl:606\u001b[24m\u001b[39m\n",
       " [158] *(\u001b[90mA\u001b[39m::\u001b[1mLinearAlgebra.Hermitian\u001b[22m\u001b[0m{ComplexF64, SparseArrays.SparseMatrixCSC{ComplexF64, Ti}}, \u001b[90mB\u001b[39m::\u001b[1mUnion\u001b[22m\u001b[0m{SparseArrays.SparseMatrixCSC{ComplexF64, Ti}, SparseArrays.SparseVector{ComplexF64, Ti}}) where Ti\n",
       "\u001b[90m     @\u001b[39m \u001b[32mSparseArrays.CHOLMOD\u001b[39m \u001b[90m~/julia/usr/share/julia/stdlib/v1.9/SparseArrays/src/solvers/\u001b[39m\u001b[90m\u001b[4mcholmod.jl:1685\u001b[24m\u001b[39m\n",
       " [159] *(\u001b[90mA\u001b[39m::\u001b[1mLinearAlgebra.Hermitian\u001b[22m\u001b[0m{Float64, SparseArrays.SparseMatrixCSC{Float64, Ti}}, \u001b[90mB\u001b[39m::\u001b[1mUnion\u001b[22m\u001b[0m{SparseArrays.SparseMatrixCSC{Float64, Ti}, SparseArrays.SparseVector{Float64, Ti}}) where Ti\n",
       "\u001b[90m     @\u001b[39m \u001b[32mSparseArrays.CHOLMOD\u001b[39m \u001b[90m~/julia/usr/share/julia/stdlib/v1.9/SparseArrays/src/solvers/\u001b[39m\u001b[90m\u001b[4mcholmod.jl:1687\u001b[24m\u001b[39m\n",
       " [160] *(\u001b[90mA\u001b[39m::\u001b[1mLinearAlgebra.LQ\u001b[22m\u001b[0m{TA, S, C} where {S<:AbstractMatrix{TA}, C<:AbstractVector{TA}}, \u001b[90mB\u001b[39m::\u001b[1mAbstractVecOrMat\u001b[22m\u001b[0m{TB}) where {TA, TB}\n",
       "\u001b[90m     @\u001b[39m \u001b[35mLinearAlgebra\u001b[39m \u001b[90m~/julia/usr/share/julia/stdlib/v1.9/LinearAlgebra/src/\u001b[39m\u001b[90m\u001b[4mlq.jl:198\u001b[24m\u001b[39m\n",
       " [161] *(\u001b[90mx\u001b[39m::\u001b[1mAbstractIrrational\u001b[22m, \u001b[90my\u001b[39m::\u001b[1mAbstractIrrational\u001b[22m)\n",
       "\u001b[90m     @\u001b[39m \u001b[90m\u001b[4mirrationals.jl:161\u001b[24m\u001b[39m\n",
       " [162] *(\u001b[90mJ1\u001b[39m::\u001b[1mLinearAlgebra.UniformScaling\u001b[22m, \u001b[90mJ2\u001b[39m::\u001b[1mLinearAlgebra.UniformScaling\u001b[22m)\n",
       "\u001b[90m     @\u001b[39m \u001b[35mLinearAlgebra\u001b[39m \u001b[90m~/julia/usr/share/julia/stdlib/v1.9/LinearAlgebra/src/\u001b[39m\u001b[90m\u001b[4muniformscaling.jl:257\u001b[24m\u001b[39m\n",
       " [163] *(\u001b[90mJ\u001b[39m::\u001b[1mLinearAlgebra.UniformScaling\u001b[22m, \u001b[90mB\u001b[39m::\u001b[1mBitMatrix\u001b[22m)\n",
       "\u001b[90m     @\u001b[39m \u001b[35mLinearAlgebra\u001b[39m \u001b[90m~/julia/usr/share/julia/stdlib/v1.9/LinearAlgebra/src/\u001b[39m\u001b[90m\u001b[4muniformscaling.jl:259\u001b[24m\u001b[39m\n",
       " [164] *(\u001b[90mJ\u001b[39m::\u001b[1mLinearAlgebra.UniformScaling\u001b[22m, \u001b[90mx\u001b[39m::\u001b[1mNumber\u001b[22m)\n",
       "\u001b[90m     @\u001b[39m \u001b[35mLinearAlgebra\u001b[39m \u001b[90m~/julia/usr/share/julia/stdlib/v1.9/LinearAlgebra/src/\u001b[39m\u001b[90m\u001b[4muniformscaling.jl:264\u001b[24m\u001b[39m\n",
       " [165] *(\u001b[90mx\u001b[39m::\u001b[1mLinearAlgebra.UniformScaling\u001b[22m, \u001b[90mH\u001b[39m::\u001b[1mLinearAlgebra.UpperHessenberg\u001b[22m)\n",
       "\u001b[90m     @\u001b[39m \u001b[35mLinearAlgebra\u001b[39m \u001b[90m~/julia/usr/share/julia/stdlib/v1.9/LinearAlgebra/src/\u001b[39m\u001b[90m\u001b[4mhessenberg.jl:120\u001b[24m\u001b[39m\n",
       " [166] *(\u001b[90mJ\u001b[39m::\u001b[1mLinearAlgebra.UniformScaling\u001b[22m, \u001b[90mA\u001b[39m::\u001b[1mAbstractVecOrMat\u001b[22m)\n",
       "\u001b[90m     @\u001b[39m \u001b[35mLinearAlgebra\u001b[39m \u001b[90m~/julia/usr/share/julia/stdlib/v1.9/LinearAlgebra/src/\u001b[39m\u001b[90m\u001b[4muniformscaling.jl:262\u001b[24m\u001b[39m\n",
       " [167] *(\u001b[90mtA\u001b[39m::\u001b[1mLinearAlgebra.Transpose\u001b[22m\u001b[0m{<:Any, <:StridedMatrix{T}}, \u001b[90mx\u001b[39m::\u001b[1mStridedVector\u001b[22m\u001b[0m{S}) where {T<:Union{Float32, Float64, ComplexF64, ComplexF32}, S}\n",
       "\u001b[90m     @\u001b[39m \u001b[35mLinearAlgebra\u001b[39m \u001b[90m~/julia/usr/share/julia/stdlib/v1.9/LinearAlgebra/src/\u001b[39m\u001b[90m\u001b[4mmatmul.jl:84\u001b[24m\u001b[39m\n",
       " [168] *(\u001b[90mtransx\u001b[39m::\u001b[1mLinearAlgebra.Transpose\u001b[22m\u001b[0m{<:Any, <:StridedVector{T}}, \u001b[90my\u001b[39m::\u001b[1mStridedVector\u001b[22m\u001b[0m{T}) where T<:Union{ComplexF64, ComplexF32}\n",
       "\u001b[90m     @\u001b[39m \u001b[35mLinearAlgebra\u001b[39m \u001b[90m~/julia/usr/share/julia/stdlib/v1.9/LinearAlgebra/src/\u001b[39m\u001b[90m\u001b[4mmatmul.jl:43\u001b[24m\u001b[39m\n",
       " [169] *(\u001b[90mtA\u001b[39m::\u001b[1mLinearAlgebra.Transpose\u001b[22m\u001b[0m{<:Any, <:SparseArrays.AbstractSparseMatrixCSC}, \u001b[90mx\u001b[39m::\u001b[1mUnion\u001b[22m\u001b[0m{StridedVector, BitVector})\n",
       "\u001b[90m     @\u001b[39m \u001b[32mSparseArrays\u001b[39m \u001b[90m~/julia/usr/share/julia/stdlib/v1.9/SparseArrays/src/\u001b[39m\u001b[90m\u001b[4mlinalg.jl:82\u001b[24m\u001b[39m\n",
       " [170] *(\u001b[90mA\u001b[39m::\u001b[1mLinearAlgebra.Transpose\u001b[22m\u001b[0m{<:Any, <:SparseArrays.AbstractSparseMatrixCSC}, \u001b[90mB\u001b[39m::\u001b[1mUnion\u001b[22m\u001b[0m{SparseArrays.AbstractSparseMatrixCSC{Tv, Ti}, SubArray{Tv, 2, <:SparseArrays.AbstractSparseMatrixCSC{Tv, Ti}, Tuple{Base.Slice{Base.OneTo{Int64}}, I}} where I<:AbstractUnitRange, LinearAlgebra.LowerTriangular{Tv, <:Union{SparseArrays.AbstractSparseMatrixCSC{Tv, Ti}, SubArray{Tv, 2, <:SparseArrays.AbstractSparseMatrixCSC{Tv, Ti}, Tuple{Base.Slice{Base.OneTo{Int64}}, I}} where I<:AbstractUnitRange}}, LinearAlgebra.UpperTriangular{Tv, <:Union{SparseArrays.AbstractSparseMatrixCSC{Tv, Ti}, SubArray{Tv, 2, <:SparseArrays.AbstractSparseMatrixCSC{Tv, Ti}, Tuple{Base.Slice{Base.OneTo{Int64}}, I}} where I<:AbstractUnitRange}}} where {Tv, Ti})\n",
       "\u001b[90m     @\u001b[39m \u001b[32mSparseArrays\u001b[39m \u001b[90m~/julia/usr/share/julia/stdlib/v1.9/SparseArrays/src/\u001b[39m\u001b[90m\u001b[4mlinalg.jl:159\u001b[24m\u001b[39m\n",
       " [171] *(\u001b[90mtA\u001b[39m::\u001b[1mLinearAlgebra.Transpose\u001b[22m\u001b[0m{<:Any, <:SparseArrays.AbstractSparseMatrixCSC}, \u001b[90mB\u001b[39m::\u001b[1mUnion\u001b[22m\u001b[0m{LinearAlgebra.Adjoint{<:Any, <:Union{LinearAlgebra.LowerTriangular, LinearAlgebra.UnitLowerTriangular, LinearAlgebra.UnitUpperTriangular, LinearAlgebra.UpperTriangular, StridedMatrix, BitMatrix}}, LinearAlgebra.LowerTriangular, LinearAlgebra.Transpose{<:Any, <:Union{LinearAlgebra.LowerTriangular, LinearAlgebra.UnitLowerTriangular, LinearAlgebra.UnitUpperTriangular, LinearAlgebra.UpperTriangular, StridedMatrix, BitMatrix}}, LinearAlgebra.UnitLowerTriangular, LinearAlgebra.UnitUpperTriangular, LinearAlgebra.UpperTriangular, StridedMatrix, BitMatrix})\n",
       "\u001b[90m     @\u001b[39m \u001b[32mSparseArrays\u001b[39m \u001b[90m~/julia/usr/share/julia/stdlib/v1.9/SparseArrays/src/\u001b[39m\u001b[90m\u001b[4mlinalg.jl:84\u001b[24m\u001b[39m\n",
       " [172] *(\u001b[90mtA\u001b[39m::\u001b[1mLinearAlgebra.Transpose\u001b[22m\u001b[0m{<:Any, <:SparseArrays.AbstractSparseMatrixCSC}, \u001b[90mx\u001b[39m::\u001b[1mSparseArrays.AbstractSparseVector\u001b[22m)\n",
       "\u001b[90m     @\u001b[39m \u001b[32mSparseArrays\u001b[39m \u001b[90m~/julia/usr/share/julia/stdlib/v1.9/SparseArrays/src/\u001b[39m\u001b[90m\u001b[4msparsevector.jl:1953\u001b[24m\u001b[39m\n",
       " [173] *(\u001b[90mtA\u001b[39m::\u001b[1mLinearAlgebra.Transpose\u001b[22m\u001b[0m{<:Any, <:Union{LinearAlgebra.LowerTriangular{Ta, S} where S<:AbstractMatrix{Ta}, LinearAlgebra.UnitLowerTriangular{Ta, S} where S<:AbstractMatrix{Ta}, LinearAlgebra.UnitUpperTriangular{Ta, S} where S<:AbstractMatrix{Ta}, LinearAlgebra.UpperTriangular{Ta, S} where S<:AbstractMatrix{Ta}, StridedArray{Ta, 2}}}, \u001b[90mx\u001b[39m::\u001b[1mSparseArrays.AbstractSparseVector\u001b[22m\u001b[0m{Tx}) where {Ta, Tx}\n",
       "\u001b[90m     @\u001b[39m \u001b[32mSparseArrays\u001b[39m \u001b[90m~/julia/usr/share/julia/stdlib/v1.9/SparseArrays/src/\u001b[39m\u001b[90m\u001b[4msparsevector.jl:1776\u001b[24m\u001b[39m\n",
       " [174] *(\u001b[90mu\u001b[39m::\u001b[1mLinearAlgebra.Transpose\u001b[22m\u001b[0m{T, <:AbstractVector} where T, \u001b[90mv\u001b[39m::\u001b[1mLinearAlgebra.Adjoint\u001b[22m\u001b[0m{<:Any, <:LinearAlgebra.Transpose{T, <:AbstractVector} where T})\n",
       "\u001b[90m     @\u001b[39m \u001b[35mLinearAlgebra\u001b[39m \u001b[90m~/julia/usr/share/julia/stdlib/v1.9/LinearAlgebra/src/\u001b[39m\u001b[90m\u001b[4madjtrans.jl:447\u001b[24m\u001b[39m\n",
       " [175] *(\u001b[90mu\u001b[39m::\u001b[1mLinearAlgebra.Transpose\u001b[22m\u001b[0m{T, <:AbstractVector}, \u001b[90mv\u001b[39m::\u001b[1mAbstractVector\u001b[22m\u001b[0m{T}) where T<:Real\n",
       "\u001b[90m     @\u001b[39m \u001b[35mLinearAlgebra\u001b[39m \u001b[90m~/julia/usr/share/julia/stdlib/v1.9/LinearAlgebra/src/\u001b[39m\u001b[90m\u001b[4madjtrans.jl:434\u001b[24m\u001b[39m\n",
       " [176] *(\u001b[90mu\u001b[39m::\u001b[1mLinearAlgebra.Transpose\u001b[22m\u001b[0m{T, <:AbstractVector} where T, \u001b[90mD\u001b[39m::\u001b[1mLinearAlgebra.Diagonal\u001b[22m)\n",
       "\u001b[90m     @\u001b[39m \u001b[35mLinearAlgebra\u001b[39m \u001b[90m~/julia/usr/share/julia/stdlib/v1.9/LinearAlgebra/src/\u001b[39m\u001b[90m\u001b[4mdiagonal.jl:794\u001b[24m\u001b[39m\n",
       " [177] *(\u001b[90mx\u001b[39m::\u001b[1mLinearAlgebra.Transpose\u001b[22m\u001b[0m{T, <:AbstractVector} where T, \u001b[90mD\u001b[39m::\u001b[1mLinearAlgebra.Diagonal\u001b[22m, \u001b[90my\u001b[39m::\u001b[1mAbstractVector\u001b[22m)\n",
       "\u001b[90m     @\u001b[39m \u001b[35mLinearAlgebra\u001b[39m \u001b[90m~/julia/usr/share/julia/stdlib/v1.9/LinearAlgebra/src/\u001b[39m\u001b[90m\u001b[4mdiagonal.jl:796\u001b[24m\u001b[39m\n",
       " [178] *(\u001b[90mv\u001b[39m::\u001b[1mLinearAlgebra.Transpose\u001b[22m\u001b[0m{T, <:AbstractVector} where T, \u001b[90mA\u001b[39m::\u001b[1mLinearAlgebra.AbstractTriangular\u001b[22m)\n",
       "\u001b[90m     @\u001b[39m \u001b[35mLinearAlgebra\u001b[39m \u001b[90m~/julia/usr/share/julia/stdlib/v1.9/LinearAlgebra/src/\u001b[39m\u001b[90m\u001b[4mtriangular.jl:1453\u001b[24m\u001b[39m\n",
       " [179] *(\u001b[90mu\u001b[39m::\u001b[1mLinearAlgebra.Transpose\u001b[22m\u001b[0m{T, <:AbstractVector} where T, \u001b[90mv\u001b[39m::\u001b[1mLinearAlgebra.Transpose\u001b[22m\u001b[0m{<:Any, <:LinearAlgebra.Adjoint{T, <:AbstractVector} where T})\n",
       "\u001b[90m     @\u001b[39m \u001b[35mLinearAlgebra\u001b[39m \u001b[90m~/julia/usr/share/julia/stdlib/v1.9/LinearAlgebra/src/\u001b[39m\u001b[90m\u001b[4madjtrans.jl:449\u001b[24m\u001b[39m\n",
       " [180] *(\u001b[90mA\u001b[39m::\u001b[1mLinearAlgebra.Transpose\u001b[22m\u001b[0m{<:Any, <:SparseArrays.AbstractSparseMatrixCSC}, \u001b[90mB\u001b[39m::\u001b[1mLinearAlgebra.Transpose\u001b[22m\u001b[0m{<:Any, <:SparseArrays.AbstractSparseMatrixCSC})\n",
       "\u001b[90m     @\u001b[39m \u001b[32mSparseArrays\u001b[39m \u001b[90m~/julia/usr/share/julia/stdlib/v1.9/SparseArrays/src/\u001b[39m\u001b[90m\u001b[4mlinalg.jl:162\u001b[24m\u001b[39m\n",
       " [181] *(\u001b[90mtA\u001b[39m::\u001b[1mLinearAlgebra.Transpose\u001b[22m\u001b[0m{<:Any, <:AbstractMatrix{T}}, \u001b[90mx\u001b[39m::\u001b[1mAbstractVector\u001b[22m\u001b[0m{S}) where {T, S}\n",
       "\u001b[90m     @\u001b[39m \u001b[35mLinearAlgebra\u001b[39m \u001b[90m~/julia/usr/share/julia/stdlib/v1.9/LinearAlgebra/src/\u001b[39m\u001b[90m\u001b[4mmatmul.jl:88\u001b[24m\u001b[39m\n",
       " [182] *(\u001b[90mu\u001b[39m::\u001b[1mLinearAlgebra.Transpose\u001b[22m\u001b[0m{T, <:AbstractVector} where T, \u001b[90mv\u001b[39m::\u001b[1mLinearAlgebra.Transpose\u001b[22m\u001b[0m{T, <:AbstractVector} where T)\n",
       "\u001b[90m     @\u001b[39m \u001b[35mLinearAlgebra\u001b[39m \u001b[90m~/julia/usr/share/julia/stdlib/v1.9/LinearAlgebra/src/\u001b[39m\u001b[90m\u001b[4madjtrans.jl:443\u001b[24m\u001b[39m\n",
       " [183] *(\u001b[90mx\u001b[39m::\u001b[1mLinearAlgebra.Transpose\u001b[22m\u001b[0m{T, <:AbstractVector} where T, \u001b[90mA\u001b[39m::\u001b[1mAbstractMatrix\u001b[22m)\n",
       "\u001b[90m     @\u001b[39m \u001b[35mLinearAlgebra\u001b[39m \u001b[90m~/julia/usr/share/julia/stdlib/v1.9/LinearAlgebra/src/\u001b[39m\u001b[90m\u001b[4mmatmul.jl:120\u001b[24m\u001b[39m\n",
       " [184] *(\u001b[90madjQ\u001b[39m::\u001b[1mLinearAlgebra.Adjoint\u001b[22m\u001b[0m{<:Any, <:LinearAlgebra.AbstractQ}, \u001b[90mB\u001b[39m::\u001b[1mStridedVecOrMat\u001b[22m)\n",
       "\u001b[90m     @\u001b[39m \u001b[35mLinearAlgebra\u001b[39m \u001b[90m~/julia/usr/share/julia/stdlib/v1.9/LinearAlgebra/src/\u001b[39m\u001b[90m\u001b[4mqr.jl:723\u001b[24m\u001b[39m\n",
       " [185] *(\u001b[90madjA\u001b[39m::\u001b[1mLinearAlgebra.Adjoint\u001b[22m\u001b[0m{<:Any, <:StridedMatrix{T}}, \u001b[90mx\u001b[39m::\u001b[1mStridedVector\u001b[22m\u001b[0m{S}) where {T<:Union{Float32, Float64, ComplexF64, ComplexF32}, S}\n",
       "\u001b[90m     @\u001b[39m \u001b[35mLinearAlgebra\u001b[39m \u001b[90m~/julia/usr/share/julia/stdlib/v1.9/LinearAlgebra/src/\u001b[39m\u001b[90m\u001b[4mmatmul.jl:99\u001b[24m\u001b[39m\n",
       " [186] *(\u001b[90madjA\u001b[39m::\u001b[1mLinearAlgebra.Adjoint\u001b[22m\u001b[0m{<:Any, <:LinearAlgebra.LQPackedQ}, \u001b[90mB\u001b[39m::\u001b[1mStridedVecOrMat\u001b[22m)\n",
       "\u001b[90m     @\u001b[39m \u001b[35mLinearAlgebra\u001b[39m \u001b[90m~/julia/usr/share/julia/stdlib/v1.9/LinearAlgebra/src/\u001b[39m\u001b[90m\u001b[4mlq.jl:217\u001b[24m\u001b[39m\n",
       " [187] *(\u001b[90mQ\u001b[39m::\u001b[1mLinearAlgebra.Adjoint\u001b[22m\u001b[0m{<:Any, <:LinearAlgebra.AbstractQ}, \u001b[90mB\u001b[39m::\u001b[1mUnion\u001b[22m\u001b[0m{LinearAlgebra.Bidiagonal, LinearAlgebra.SymTridiagonal, LinearAlgebra.Tridiagonal})\n",
       "\u001b[90m     @\u001b[39m \u001b[35mLinearAlgebra\u001b[39m \u001b[90m~/julia/usr/share/julia/stdlib/v1.9/LinearAlgebra/src/\u001b[39m\u001b[90m\u001b[4mspecial.jl:312\u001b[24m\u001b[39m\n",
       " [188] *(\u001b[90madjA\u001b[39m::\u001b[1mLinearAlgebra.Adjoint\u001b[22m\u001b[0m{<:Any, <:SparseArrays.AbstractSparseMatrixCSC}, \u001b[90mx\u001b[39m::\u001b[1mUnion\u001b[22m\u001b[0m{StridedVector, BitVector})\n",
       "\u001b[90m     @\u001b[39m \u001b[32mSparseArrays\u001b[39m \u001b[90m~/julia/usr/share/julia/stdlib/v1.9/SparseArrays/src/\u001b[39m\u001b[90m\u001b[4mlinalg.jl:78\u001b[24m\u001b[39m\n",
       " [189] *(\u001b[90mA\u001b[39m::\u001b[1mLinearAlgebra.Adjoint\u001b[22m\u001b[0m{<:Any, <:SparseArrays.AbstractSparseMatrixCSC}, \u001b[90mB\u001b[39m::\u001b[1mUnion\u001b[22m\u001b[0m{SparseArrays.AbstractSparseMatrixCSC{Tv, Ti}, SubArray{Tv, 2, <:SparseArrays.AbstractSparseMatrixCSC{Tv, Ti}, Tuple{Base.Slice{Base.OneTo{Int64}}, I}} where I<:AbstractUnitRange, LinearAlgebra.LowerTriangular{Tv, <:Union{SparseArrays.AbstractSparseMatrixCSC{Tv, Ti}, SubArray{Tv, 2, <:SparseArrays.AbstractSparseMatrixCSC{Tv, Ti}, Tuple{Base.Slice{Base.OneTo{Int64}}, I}} where I<:AbstractUnitRange}}, LinearAlgebra.UpperTriangular{Tv, <:Union{SparseArrays.AbstractSparseMatrixCSC{Tv, Ti}, SubArray{Tv, 2, <:SparseArrays.AbstractSparseMatrixCSC{Tv, Ti}, Tuple{Base.Slice{Base.OneTo{Int64}}, I}} where I<:AbstractUnitRange}}} where {Tv, Ti})\n",
       "\u001b[90m     @\u001b[39m \u001b[32mSparseArrays\u001b[39m \u001b[90m~/julia/usr/share/julia/stdlib/v1.9/SparseArrays/src/\u001b[39m\u001b[90m\u001b[4mlinalg.jl:160\u001b[24m\u001b[39m\n",
       " [190] *(\u001b[90madjA\u001b[39m::\u001b[1mLinearAlgebra.Adjoint\u001b[22m\u001b[0m{<:Any, <:SparseArrays.AbstractSparseMatrixCSC}, \u001b[90mB\u001b[39m::\u001b[1mUnion\u001b[22m\u001b[0m{LinearAlgebra.Adjoint{<:Any, <:Union{LinearAlgebra.LowerTriangular, LinearAlgebra.UnitLowerTriangular, LinearAlgebra.UnitUpperTriangular, LinearAlgebra.UpperTriangular, StridedMatrix, BitMatrix}}, LinearAlgebra.LowerTriangular, LinearAlgebra.Transpose{<:Any, <:Union{LinearAlgebra.LowerTriangular, LinearAlgebra.UnitLowerTriangular, LinearAlgebra.UnitUpperTriangular, LinearAlgebra.UpperTriangular, StridedMatrix, BitMatrix}}, LinearAlgebra.UnitLowerTriangular, LinearAlgebra.UnitUpperTriangular, LinearAlgebra.UpperTriangular, StridedMatrix, BitMatrix})\n",
       "\u001b[90m     @\u001b[39m \u001b[32mSparseArrays\u001b[39m \u001b[90m~/julia/usr/share/julia/stdlib/v1.9/SparseArrays/src/\u001b[39m\u001b[90m\u001b[4mlinalg.jl:80\u001b[24m\u001b[39m\n",
       " [191] *(\u001b[90madjA\u001b[39m::\u001b[1mLinearAlgebra.Adjoint\u001b[22m\u001b[0m{<:Any, <:Union{LinearAlgebra.LowerTriangular{Ta, S} where S<:AbstractMatrix{Ta}, LinearAlgebra.UnitLowerTriangular{Ta, S} where S<:AbstractMatrix{Ta}, LinearAlgebra.UnitUpperTriangular{Ta, S} where S<:AbstractMatrix{Ta}, LinearAlgebra.UpperTriangular{Ta, S} where S<:AbstractMatrix{Ta}, StridedArray{Ta, 2}}}, \u001b[90mx\u001b[39m::\u001b[1mSparseArrays.AbstractSparseVector\u001b[22m\u001b[0m{Tx}) where {Ta, Tx}\n",
       "\u001b[90m     @\u001b[39m \u001b[32mSparseArrays\u001b[39m \u001b[90m~/julia/usr/share/julia/stdlib/v1.9/SparseArrays/src/\u001b[39m\u001b[90m\u001b[4msparsevector.jl:1814\u001b[24m\u001b[39m\n",
       " [192] *(\u001b[90madjA\u001b[39m::\u001b[1mLinearAlgebra.Adjoint\u001b[22m\u001b[0m{<:Any, <:SparseArrays.AbstractSparseMatrixCSC}, \u001b[90mx\u001b[39m::\u001b[1mSparseArrays.AbstractSparseVector\u001b[22m)\n",
       "\u001b[90m     @\u001b[39m \u001b[32mSparseArrays\u001b[39m \u001b[90m~/julia/usr/share/julia/stdlib/v1.9/SparseArrays/src/\u001b[39m\u001b[90m\u001b[4msparsevector.jl:1956\u001b[24m\u001b[39m\n",
       " [193] *(\u001b[90madjA\u001b[39m::\u001b[1mLinearAlgebra.Adjoint\u001b[22m\u001b[0m{<:Any, <:StridedMatrix{T} where T}, \u001b[90mQ\u001b[39m::\u001b[1mLinearAlgebra.LQPackedQ\u001b[22m)\n",
       "\u001b[90m     @\u001b[39m \u001b[35mLinearAlgebra\u001b[39m \u001b[90m~/julia/usr/share/julia/stdlib/v1.9/LinearAlgebra/src/\u001b[39m\u001b[90m\u001b[4mlq.jl:305\u001b[24m\u001b[39m\n",
       " [194] *(\u001b[90mu\u001b[39m::\u001b[1mLinearAlgebra.Adjoint\u001b[22m\u001b[0m{<:Number, <:AbstractVector}, \u001b[90mv\u001b[39m::\u001b[1mAbstractVector\u001b[22m\u001b[0m{<:Number})\n",
       "\u001b[90m     @\u001b[39m \u001b[35mLinearAlgebra\u001b[39m \u001b[90m~/julia/usr/share/julia/stdlib/v1.9/LinearAlgebra/src/\u001b[39m\u001b[90m\u001b[4madjtrans.jl:433\u001b[24m\u001b[39m\n",
       " [195] *(\u001b[90mu\u001b[39m::\u001b[1mLinearAlgebra.Adjoint\u001b[22m\u001b[0m{T, <:AbstractVector} where T, \u001b[90mv\u001b[39m::\u001b[1mLinearAlgebra.Transpose\u001b[22m\u001b[0m{<:Any, <:LinearAlgebra.Adjoint{T, <:AbstractVector} where T})\n",
       "\u001b[90m     @\u001b[39m \u001b[35mLinearAlgebra\u001b[39m \u001b[90m~/julia/usr/share/julia/stdlib/v1.9/LinearAlgebra/src/\u001b[39m\u001b[90m\u001b[4madjtrans.jl:450\u001b[24m\u001b[39m\n",
       " [196] *(\u001b[90ma\u001b[39m::\u001b[1mAbstractVector\u001b[22m, \u001b[90mtB\u001b[39m::\u001b[1mLinearAlgebra.Transpose\u001b[22m\u001b[0m{T, <:AbstractMatrix} where T)\n",
       "\u001b[90m     @\u001b[39m \u001b[35mLinearAlgebra\u001b[39m \u001b[90m~/julia/usr/share/julia/stdlib/v1.9/LinearAlgebra/src/\u001b[39m\u001b[90m\u001b[4mmatmul.jl:60\u001b[24m\u001b[39m\n",
       " [197] *(\u001b[90madjA\u001b[39m::\u001b[1mLinearAlgebra.Adjoint\u001b[22m\u001b[0m{<:Any, <:StridedVecOrMat}, \u001b[90mQ\u001b[39m::\u001b[1mLinearAlgebra.AbstractQ\u001b[22m)\n",
       "\u001b[90m     @\u001b[39m \u001b[35mLinearAlgebra\u001b[39m \u001b[90m~/julia/usr/share/julia/stdlib/v1.9/LinearAlgebra/src/\u001b[39m\u001b[90m\u001b[4mqr.jl:839\u001b[24m\u001b[39m\n",
       " [198] *(\u001b[90mQ\u001b[39m::\u001b[1mLinearAlgebra.Adjoint\u001b[22m\u001b[0m{<:Any, <:LinearAlgebra.AbstractQ}, \u001b[90mB\u001b[39m::\u001b[1mLinearAlgebra.AbstractQ\u001b[22m)\n",
       "\u001b[90m     @\u001b[39m \u001b[35mLinearAlgebra\u001b[39m \u001b[90m~/julia/usr/share/julia/stdlib/v1.9/LinearAlgebra/src/\u001b[39m\u001b[90m\u001b[4mspecial.jl:344\u001b[24m\u001b[39m\n",
       " [199] *(\u001b[90madjA\u001b[39m::\u001b[1mLinearAlgebra.Adjoint\u001b[22m\u001b[0m{<:Any, <:SparseArrays.CHOLMOD.Sparse}, \u001b[90mB\u001b[39m::\u001b[1mSparseArrays.CHOLMOD.Dense\u001b[22m)\n",
       "\u001b[90m     @\u001b[39m \u001b[32mSparseArrays.CHOLMOD\u001b[39m \u001b[90m~/julia/usr/share/julia/stdlib/v1.9/SparseArrays/src/solvers/\u001b[39m\u001b[90m\u001b[4mcholmod.jl:1110\u001b[24m\u001b[39m\n",
       " [200] *(\u001b[90madjA\u001b[39m::\u001b[1mLinearAlgebra.Adjoint\u001b[22m\u001b[0m{<:Any, <:StridedVecOrMat}, \u001b[90madjQ\u001b[39m::\u001b[1mLinearAlgebra.Adjoint\u001b[22m\u001b[0m{<:Any, <:LinearAlgebra.AbstractQ})\n",
       "\u001b[90m     @\u001b[39m \u001b[35mLinearAlgebra\u001b[39m \u001b[90m~/julia/usr/share/julia/stdlib/v1.9/LinearAlgebra/src/\u001b[39m\u001b[90m\u001b[4mqr.jl:846\u001b[24m\u001b[39m\n",
       " [201] *(\u001b[90madjQ\u001b[39m::\u001b[1mLinearAlgebra.Adjoint\u001b[22m\u001b[0m{<:Any, <:LinearAlgebra.AbstractQ}, \u001b[90madjB\u001b[39m::\u001b[1mLinearAlgebra.Adjoint\u001b[22m\u001b[0m{<:Any, <:StridedVecOrMat})\n",
       "\u001b[90m     @\u001b[39m \u001b[35mLinearAlgebra\u001b[39m \u001b[90m~/julia/usr/share/julia/stdlib/v1.9/LinearAlgebra/src/\u001b[39m\u001b[90m\u001b[4mqr.jl:737\u001b[24m\u001b[39m\n",
       " [202] *(\u001b[90mu\u001b[39m::\u001b[1mLinearAlgebra.Adjoint\u001b[22m\u001b[0m{T, <:AbstractVector} where T, \u001b[90mv\u001b[39m::\u001b[1mLinearAlgebra.Adjoint\u001b[22m\u001b[0m{<:Any, <:LinearAlgebra.Transpose{T, <:AbstractVector} where T})\n",
       "\u001b[90m     @\u001b[39m \u001b[35mLinearAlgebra\u001b[39m \u001b[90m~/julia/usr/share/julia/stdlib/v1.9/LinearAlgebra/src/\u001b[39m\u001b[90m\u001b[4madjtrans.jl:448\u001b[24m\u001b[39m\n",
       " [203] *(\u001b[90madjA\u001b[39m::\u001b[1mLinearAlgebra.Adjoint\u001b[22m\u001b[0m{<:Any, <:LinearAlgebra.LQPackedQ}, \u001b[90madjB\u001b[39m::\u001b[1mLinearAlgebra.Adjoint\u001b[22m\u001b[0m{<:Any, <:StridedVecOrMat})\n",
       "\u001b[90m     @\u001b[39m \u001b[35mLinearAlgebra\u001b[39m \u001b[90m~/julia/usr/share/julia/stdlib/v1.9/LinearAlgebra/src/\u001b[39m\u001b[90m\u001b[4mlq.jl:237\u001b[24m\u001b[39m\n",
       " [204] *(\u001b[90madjA\u001b[39m::\u001b[1mLinearAlgebra.Adjoint\u001b[22m\u001b[0m{<:Any, <:StridedMatrix{T} where T}, \u001b[90madjQ\u001b[39m::\u001b[1mLinearAlgebra.Adjoint\u001b[22m\u001b[0m{<:Any, <:LinearAlgebra.LQPackedQ})\n",
       "\u001b[90m     @\u001b[39m \u001b[35mLinearAlgebra\u001b[39m \u001b[90m~/julia/usr/share/julia/stdlib/v1.9/LinearAlgebra/src/\u001b[39m\u001b[90m\u001b[4mlq.jl:274\u001b[24m\u001b[39m\n",
       " [205] *(\u001b[90mQ\u001b[39m::\u001b[1mLinearAlgebra.Adjoint\u001b[22m\u001b[0m{<:Any, <:LinearAlgebra.AbstractQ}, \u001b[90mB\u001b[39m::\u001b[1mLinearAlgebra.Adjoint\u001b[22m\u001b[0m{<:Any, <:LinearAlgebra.AbstractQ})\n",
       "\u001b[90m     @\u001b[39m \u001b[35mLinearAlgebra\u001b[39m \u001b[90m~/julia/usr/share/julia/stdlib/v1.9/LinearAlgebra/src/\u001b[39m\u001b[90m\u001b[4mspecial.jl:346\u001b[24m\u001b[39m\n",
       " [206] *(\u001b[90mu\u001b[39m::\u001b[1mLinearAlgebra.Adjoint\u001b[22m\u001b[0m{T, <:AbstractVector} where T, \u001b[90mA\u001b[39m::\u001b[1mLinearAlgebra.Adjoint\u001b[22m\u001b[0m{<:Any, <:LinearAlgebra.AbstractQ})\n",
       "\u001b[90m     @\u001b[39m \u001b[35mLinearAlgebra\u001b[39m \u001b[90m~/julia/usr/share/julia/stdlib/v1.9/LinearAlgebra/src/\u001b[39m\u001b[90m\u001b[4mqr.jl:835\u001b[24m\u001b[39m\n",
       " [207] *(\u001b[90mA\u001b[39m::\u001b[1mLinearAlgebra.Adjoint\u001b[22m\u001b[0m{<:Any, <:SparseArrays.AbstractSparseMatrixCSC}, \u001b[90mB\u001b[39m::\u001b[1mLinearAlgebra.Adjoint\u001b[22m\u001b[0m{<:Any, <:SparseArrays.AbstractSparseMatrixCSC})\n",
       "\u001b[90m     @\u001b[39m \u001b[32mSparseArrays\u001b[39m \u001b[90m~/julia/usr/share/julia/stdlib/v1.9/SparseArrays/src/\u001b[39m\u001b[90m\u001b[4mlinalg.jl:161\u001b[24m\u001b[39m\n",
       " [208] *(\u001b[90mtu\u001b[39m::\u001b[1mUnion\u001b[22m\u001b[0m{LinearAlgebra.Adjoint{T, var\"#s970\"}, LinearAlgebra.Transpose{T, var\"#s970\"}} where {T, var\"#s970\"<:(AbstractVector)}, \u001b[90mB\u001b[39m::\u001b[1mUnion\u001b[22m\u001b[0m{LinearAlgebra.Adjoint{T, var\"#s970\"}, LinearAlgebra.Transpose{T, var\"#s970\"}} where {T, var\"#s970\"<:(AbstractMatrix)}, \u001b[90mv\u001b[39m::\u001b[1mAbstractVector\u001b[22m)\n",
       "\u001b[90m     @\u001b[39m \u001b[35mLinearAlgebra\u001b[39m \u001b[90m~/julia/usr/share/julia/stdlib/v1.9/LinearAlgebra/src/\u001b[39m\u001b[90m\u001b[4mmatmul.jl:1153\u001b[24m\u001b[39m\n",
       " [209] *(\u001b[90mu\u001b[39m::\u001b[1mLinearAlgebra.Adjoint\u001b[22m\u001b[0m{T, <:AbstractVector} where T, \u001b[90mv\u001b[39m::\u001b[1mLinearAlgebra.Adjoint\u001b[22m\u001b[0m{T, <:AbstractVector} where T)\n",
       "\u001b[90m     @\u001b[39m \u001b[35mLinearAlgebra\u001b[39m \u001b[90m~/julia/usr/share/julia/stdlib/v1.9/LinearAlgebra/src/\u001b[39m\u001b[90m\u001b[4madjtrans.jl:442\u001b[24m\u001b[39m\n",
       " [210] *(\u001b[90madjA\u001b[39m::\u001b[1mLinearAlgebra.Adjoint\u001b[22m\u001b[0m{<:Any, <:SparseArrays.CHOLMOD.Sparse}, \u001b[90mB\u001b[39m::\u001b[1mSparseArrays.CHOLMOD.Sparse\u001b[22m)\n",
       "\u001b[90m     @\u001b[39m \u001b[32mSparseArrays.CHOLMOD\u001b[39m \u001b[90m~/julia/usr/share/julia/stdlib/v1.9/SparseArrays/src/solvers/\u001b[39m\u001b[90m\u001b[4mcholmod.jl:1100\u001b[24m\u001b[39m\n",
       " [211] *(\u001b[90mQ\u001b[39m::\u001b[1mLinearAlgebra.Adjoint\u001b[22m\u001b[0m{<:Any, <:LinearAlgebra.AbstractQ}, \u001b[90mB\u001b[39m::\u001b[1mLinearAlgebra.Diagonal\u001b[22m)\n",
       "\u001b[90m     @\u001b[39m \u001b[35mLinearAlgebra\u001b[39m \u001b[90m~/julia/usr/share/julia/stdlib/v1.9/LinearAlgebra/src/\u001b[39m\u001b[90m\u001b[4mspecial.jl:314\u001b[24m\u001b[39m\n",
       " [212] *(\u001b[90mA\u001b[39m::\u001b[1mUnion\u001b[22m\u001b[0m{LinearAlgebra.Adjoint{T, var\"#s970\"}, LinearAlgebra.Transpose{T, var\"#s970\"}} where {T, var\"#s970\"<:(AbstractMatrix)}, \u001b[90mD\u001b[39m::\u001b[1mLinearAlgebra.Diagonal\u001b[22m)\n",
       "\u001b[90m     @\u001b[39m \u001b[35mLinearAlgebra\u001b[39m \u001b[90m~/julia/usr/share/julia/stdlib/v1.9/LinearAlgebra/src/\u001b[39m\u001b[90m\u001b[4mdiagonal.jl:255\u001b[24m\u001b[39m\n",
       " [213] *(\u001b[90mu\u001b[39m::\u001b[1mLinearAlgebra.Adjoint\u001b[22m\u001b[0m{T, <:AbstractVector} where T, \u001b[90mD\u001b[39m::\u001b[1mLinearAlgebra.Diagonal\u001b[22m)\n",
       "\u001b[90m     @\u001b[39m \u001b[35mLinearAlgebra\u001b[39m \u001b[90m~/julia/usr/share/julia/stdlib/v1.9/LinearAlgebra/src/\u001b[39m\u001b[90m\u001b[4mdiagonal.jl:793\u001b[24m\u001b[39m\n",
       " [214] *(\u001b[90mx\u001b[39m::\u001b[1mLinearAlgebra.Adjoint\u001b[22m\u001b[0m{T, <:AbstractVector} where T, \u001b[90mD\u001b[39m::\u001b[1mLinearAlgebra.Diagonal\u001b[22m, \u001b[90my\u001b[39m::\u001b[1mAbstractVector\u001b[22m)\n",
       "\u001b[90m     @\u001b[39m \u001b[35mLinearAlgebra\u001b[39m \u001b[90m~/julia/usr/share/julia/stdlib/v1.9/LinearAlgebra/src/\u001b[39m\u001b[90m\u001b[4mdiagonal.jl:795\u001b[24m\u001b[39m\n",
       " [215] *(\u001b[90mQ\u001b[39m::\u001b[1mLinearAlgebra.Adjoint\u001b[22m\u001b[0m{<:Any, <:LinearAlgebra.AbstractQ}, \u001b[90mB\u001b[39m::\u001b[1mLinearAlgebra.AbstractTriangular\u001b[22m)\n",
       "\u001b[90m     @\u001b[39m \u001b[35mLinearAlgebra\u001b[39m \u001b[90m~/julia/usr/share/julia/stdlib/v1.9/LinearAlgebra/src/\u001b[39m\u001b[90m\u001b[4mspecial.jl:310\u001b[24m\u001b[39m\n",
       " [216] *(\u001b[90mv\u001b[39m::\u001b[1mLinearAlgebra.Adjoint\u001b[22m\u001b[0m{T, <:AbstractVector} where T, \u001b[90mA\u001b[39m::\u001b[1mLinearAlgebra.AbstractTriangular\u001b[22m)\n",
       "\u001b[90m     @\u001b[39m \u001b[35mLinearAlgebra\u001b[39m \u001b[90m~/julia/usr/share/julia/stdlib/v1.9/LinearAlgebra/src/\u001b[39m\u001b[90m\u001b[4mtriangular.jl:1452\u001b[24m\u001b[39m\n",
       " [217] *(\u001b[90madjA\u001b[39m::\u001b[1mLinearAlgebra.Adjoint\u001b[22m\u001b[0m{<:Any, <:SparseArrays.CHOLMOD.Sparse}, \u001b[90mB\u001b[39m::\u001b[1mVecOrMat\u001b[22m)\n",
       "\u001b[90m     @\u001b[39m \u001b[32mSparseArrays.CHOLMOD\u001b[39m \u001b[90m~/julia/usr/share/julia/stdlib/v1.9/SparseArrays/src/solvers/\u001b[39m\u001b[90m\u001b[4mcholmod.jl:1112\u001b[24m\u001b[39m\n",
       " [218] *(\u001b[90mu\u001b[39m::\u001b[1mUnion\u001b[22m\u001b[0m{LinearAlgebra.Adjoint{T, var\"#s970\"}, LinearAlgebra.Transpose{T, var\"#s970\"}} where {T, var\"#s970\"<:(AbstractVector)}, \u001b[90mv\u001b[39m::\u001b[1mAbstractVector\u001b[22m)\n",
       "\u001b[90m     @\u001b[39m \u001b[35mLinearAlgebra\u001b[39m \u001b[90m~/julia/usr/share/julia/stdlib/v1.9/LinearAlgebra/src/\u001b[39m\u001b[90m\u001b[4madjtrans.jl:435\u001b[24m\u001b[39m\n",
       " [219] *(\u001b[90mx\u001b[39m::\u001b[1mLinearAlgebra.Adjoint\u001b[22m\u001b[0m{T, <:AbstractVector} where T, \u001b[90mA\u001b[39m::\u001b[1mAbstractMatrix\u001b[22m)\n",
       "\u001b[90m     @\u001b[39m \u001b[35mLinearAlgebra\u001b[39m \u001b[90m~/julia/usr/share/julia/stdlib/v1.9/LinearAlgebra/src/\u001b[39m\u001b[90m\u001b[4mmatmul.jl:119\u001b[24m\u001b[39m\n",
       " [220] *(\u001b[90mtu\u001b[39m::\u001b[1mUnion\u001b[22m\u001b[0m{LinearAlgebra.Adjoint{T, var\"#s970\"}, LinearAlgebra.Transpose{T, var\"#s970\"}} where {T, var\"#s970\"<:(AbstractVector)}, \u001b[90mB\u001b[39m::\u001b[1mAbstractMatrix\u001b[22m, \u001b[90mv\u001b[39m::\u001b[1mAbstractVector\u001b[22m)\n",
       "\u001b[90m     @\u001b[39m \u001b[35mLinearAlgebra\u001b[39m \u001b[90m~/julia/usr/share/julia/stdlib/v1.9/LinearAlgebra/src/\u001b[39m\u001b[90m\u001b[4mmatmul.jl:1152\u001b[24m\u001b[39m\n",
       " [221] *(\u001b[90mtv\u001b[39m::\u001b[1mUnion\u001b[22m\u001b[0m{LinearAlgebra.Adjoint{T, var\"#s970\"}, LinearAlgebra.Transpose{T, var\"#s970\"}} where {T, var\"#s970\"<:(AbstractVector)}, \u001b[90mB\u001b[39m::\u001b[1mAbstractMatrix\u001b[22m, \u001b[90mC\u001b[39m::\u001b[1mAbstractMatrix\u001b[22m)\n",
       "\u001b[90m     @\u001b[39m \u001b[35mLinearAlgebra\u001b[39m \u001b[90m~/julia/usr/share/julia/stdlib/v1.9/LinearAlgebra/src/\u001b[39m\u001b[90m\u001b[4mmatmul.jl:1167\u001b[24m\u001b[39m\n",
       " [222] *(\u001b[90mvt\u001b[39m::\u001b[1mUnion\u001b[22m\u001b[0m{LinearAlgebra.Adjoint{T, var\"#s970\"}, LinearAlgebra.Transpose{T, var\"#s970\"}} where {T, var\"#s970\"<:(AbstractVector)}, \u001b[90mB\u001b[39m::\u001b[1mAbstractMatrix\u001b[22m, \u001b[90mx\u001b[39m::\u001b[1mAbstractVector\u001b[22m, \u001b[90mδ\u001b[39m::\u001b[1mNumber\u001b[22m)\n",
       "\u001b[90m     @\u001b[39m \u001b[35mLinearAlgebra\u001b[39m \u001b[90m~/julia/usr/share/julia/stdlib/v1.9/LinearAlgebra/src/\u001b[39m\u001b[90m\u001b[4mmatmul.jl:1224\u001b[24m\u001b[39m\n",
       " [223] *(\u001b[90mvt\u001b[39m::\u001b[1mUnion\u001b[22m\u001b[0m{LinearAlgebra.Adjoint{T, var\"#s970\"}, LinearAlgebra.Transpose{T, var\"#s970\"}} where {T, var\"#s970\"<:(AbstractVector)}, \u001b[90mB\u001b[39m::\u001b[1mAbstractMatrix\u001b[22m, \u001b[90mC\u001b[39m::\u001b[1mAbstractMatrix\u001b[22m, \u001b[90mδ\u001b[39m::\u001b[1mNumber\u001b[22m)\n",
       "\u001b[90m     @\u001b[39m \u001b[35mLinearAlgebra\u001b[39m \u001b[90m~/julia/usr/share/julia/stdlib/v1.9/LinearAlgebra/src/\u001b[39m\u001b[90m\u001b[4mmatmul.jl:1225\u001b[24m\u001b[39m\n",
       " [224] *(\u001b[90mvt\u001b[39m::\u001b[1mUnion\u001b[22m\u001b[0m{LinearAlgebra.Adjoint{T, var\"#s970\"}, LinearAlgebra.Transpose{T, var\"#s970\"}} where {T, var\"#s970\"<:(AbstractVector)}, \u001b[90mB\u001b[39m::\u001b[1mAbstractMatrix\u001b[22m, \u001b[90mC\u001b[39m::\u001b[1mAbstractMatrix\u001b[22m, \u001b[90mD\u001b[39m::\u001b[1mAbstractMatrix\u001b[22m)\n",
       "\u001b[90m     @\u001b[39m \u001b[35mLinearAlgebra\u001b[39m \u001b[90m~/julia/usr/share/julia/stdlib/v1.9/LinearAlgebra/src/\u001b[39m\u001b[90m\u001b[4mmatmul.jl:1228\u001b[24m\u001b[39m\n",
       " [225] *(\u001b[90mvt\u001b[39m::\u001b[1mUnion\u001b[22m\u001b[0m{LinearAlgebra.Adjoint{T, var\"#s970\"}, LinearAlgebra.Transpose{T, var\"#s970\"}} where {T, var\"#s970\"<:(AbstractVector)}, \u001b[90mB\u001b[39m::\u001b[1mAbstractMatrix\u001b[22m, \u001b[90mC\u001b[39m::\u001b[1mAbstractMatrix\u001b[22m, \u001b[90mx\u001b[39m::\u001b[1mAbstractVector\u001b[22m)\n",
       "\u001b[90m     @\u001b[39m \u001b[35mLinearAlgebra\u001b[39m \u001b[90m~/julia/usr/share/julia/stdlib/v1.9/LinearAlgebra/src/\u001b[39m\u001b[90m\u001b[4mmatmul.jl:1229\u001b[24m\u001b[39m\n",
       " [226] *(\u001b[90madjA\u001b[39m::\u001b[1mLinearAlgebra.Adjoint\u001b[22m\u001b[0m{<:Any, <:AbstractMatrix{T}}, \u001b[90mx\u001b[39m::\u001b[1mAbstractVector\u001b[22m\u001b[0m{S}) where {T, S}\n",
       "\u001b[90m     @\u001b[39m \u001b[35mLinearAlgebra\u001b[39m \u001b[90m~/julia/usr/share/julia/stdlib/v1.9/LinearAlgebra/src/\u001b[39m\u001b[90m\u001b[4mmatmul.jl:103\u001b[24m\u001b[39m\n",
       " [227] *(\u001b[90mA\u001b[39m::\u001b[1mLinearAlgebra.UnitUpperTriangular\u001b[22m, \u001b[90mx\u001b[39m::\u001b[1mNumber\u001b[22m)\n",
       "\u001b[90m     @\u001b[39m \u001b[35mLinearAlgebra\u001b[39m \u001b[90m~/julia/usr/share/julia/stdlib/v1.9/LinearAlgebra/src/\u001b[39m\u001b[90m\u001b[4mtriangular.jl:851\u001b[24m\u001b[39m\n",
       " [228] *(\u001b[90mA\u001b[39m::\u001b[1mAbstractArray\u001b[22m, \u001b[90mB\u001b[39m::\u001b[1mNumber\u001b[22m)\n",
       "\u001b[90m     @\u001b[39m \u001b[90m\u001b[4marraymath.jl:24\u001b[24m\u001b[39m\n",
       " [229] *(\u001b[90mA\u001b[39m::\u001b[1mLinearAlgebra.UnitUpperTriangular\u001b[22m, \u001b[90mB\u001b[39m::\u001b[1mLinearAlgebra.UpperTriangular\u001b[22m)\n",
       "\u001b[90m     @\u001b[39m \u001b[35mLinearAlgebra\u001b[39m \u001b[90m~/julia/usr/share/julia/stdlib/v1.9/LinearAlgebra/src/\u001b[39m\u001b[90m\u001b[4mtriangular.jl:1326\u001b[24m\u001b[39m\n",
       " [230] *(\u001b[90mA\u001b[39m::\u001b[1mLinearAlgebra.UnitUpperTriangular\u001b[22m, \u001b[90mB\u001b[39m::\u001b[1mLinearAlgebra.UnitUpperTriangular\u001b[22m)\n",
       "\u001b[90m     @\u001b[39m \u001b[35mLinearAlgebra\u001b[39m \u001b[90m~/julia/usr/share/julia/stdlib/v1.9/LinearAlgebra/src/\u001b[39m\u001b[90m\u001b[4mtriangular.jl:1340\u001b[24m\u001b[39m\n",
       " [231] *(\u001b[90mA\u001b[39m::\u001b[1mLinearAlgebra.AbstractTriangular\u001b[22m, \u001b[90mB\u001b[39m::\u001b[1mLinearAlgebra.AbstractTriangular\u001b[22m)\n",
       "\u001b[90m     @\u001b[39m \u001b[35mLinearAlgebra\u001b[39m \u001b[90m~/julia/usr/share/julia/stdlib/v1.9/LinearAlgebra/src/\u001b[39m\u001b[90m\u001b[4mtriangular.jl:1400\u001b[24m\u001b[39m\n",
       " [232] *(\u001b[90mA\u001b[39m::\u001b[1mAbstractMatrix\u001b[22m, \u001b[90mB\u001b[39m::\u001b[1mLinearAlgebra.AbstractTriangular\u001b[22m)\n",
       "\u001b[90m     @\u001b[39m \u001b[35mLinearAlgebra\u001b[39m \u001b[90m~/julia/usr/share/julia/stdlib/v1.9/LinearAlgebra/src/\u001b[39m\u001b[90m\u001b[4mtriangular.jl:1445\u001b[24m\u001b[39m\n",
       " [233] *(\u001b[90mA\u001b[39m::\u001b[1mLinearAlgebra.UnitUpperTriangular\u001b[22m, \u001b[90mD\u001b[39m::\u001b[1mLinearAlgebra.Diagonal\u001b[22m)\n",
       "\u001b[90m     @\u001b[39m \u001b[35mLinearAlgebra\u001b[39m \u001b[90m~/julia/usr/share/julia/stdlib/v1.9/LinearAlgebra/src/\u001b[39m\u001b[90m\u001b[4mdiagonal.jl:541\u001b[24m\u001b[39m\n",
       " [234] *(\u001b[90mA\u001b[39m::\u001b[1mLinearAlgebra.AbstractTriangular\u001b[22m, \u001b[90mD\u001b[39m::\u001b[1mLinearAlgebra.Diagonal\u001b[22m)\n",
       "\u001b[90m     @\u001b[39m \u001b[35mLinearAlgebra\u001b[39m \u001b[90m~/julia/usr/share/julia/stdlib/v1.9/LinearAlgebra/src/\u001b[39m\u001b[90m\u001b[4mdiagonal.jl:800\u001b[24m\u001b[39m\n",
       " [235] *(\u001b[90mA\u001b[39m::\u001b[1mAbstractMatrix\u001b[22m, \u001b[90mD\u001b[39m::\u001b[1mLinearAlgebra.Diagonal\u001b[22m)\n",
       "\u001b[90m     @\u001b[39m \u001b[35mLinearAlgebra\u001b[39m \u001b[90m~/julia/usr/share/julia/stdlib/v1.9/LinearAlgebra/src/\u001b[39m\u001b[90m\u001b[4mdiagonal.jl:247\u001b[24m\u001b[39m\n",
       " [236] *(\u001b[90mA\u001b[39m::\u001b[1mLinearAlgebra.AbstractTriangular\u001b[22m, \u001b[90mB\u001b[39m::\u001b[1mAbstractVector\u001b[22m)\n",
       "\u001b[90m     @\u001b[39m \u001b[35mLinearAlgebra\u001b[39m \u001b[90m~/julia/usr/share/julia/stdlib/v1.9/LinearAlgebra/src/\u001b[39m\u001b[90m\u001b[4mtriangular.jl:1408\u001b[24m\u001b[39m\n",
       " [237] *(\u001b[90mA\u001b[39m::\u001b[1mLinearAlgebra.AbstractTriangular\u001b[22m, \u001b[90mB\u001b[39m::\u001b[1mAbstractMatrix\u001b[22m)\n",
       "\u001b[90m     @\u001b[39m \u001b[35mLinearAlgebra\u001b[39m \u001b[90m~/julia/usr/share/julia/stdlib/v1.9/LinearAlgebra/src/\u001b[39m\u001b[90m\u001b[4mtriangular.jl:1408\u001b[24m\u001b[39m\n",
       " [238] *(\u001b[90mA\u001b[39m::\u001b[1mSparseArrays.CHOLMOD.Sparse\u001b[22m, \u001b[90mB\u001b[39m::\u001b[1mSparseArrays.CHOLMOD.Sparse\u001b[22m)\n",
       "\u001b[90m     @\u001b[39m \u001b[32mSparseArrays.CHOLMOD\u001b[39m \u001b[90m~/julia/usr/share/julia/stdlib/v1.9/SparseArrays/src/solvers/\u001b[39m\u001b[90m\u001b[4mcholmod.jl:1075\u001b[24m\u001b[39m\n",
       " [239] *(\u001b[90mA\u001b[39m::\u001b[1mSparseArrays.CHOLMOD.Sparse\u001b[22m, \u001b[90mB\u001b[39m::\u001b[1mSparseArrays.CHOLMOD.Dense\u001b[22m)\n",
       "\u001b[90m     @\u001b[39m \u001b[32mSparseArrays.CHOLMOD\u001b[39m \u001b[90m~/julia/usr/share/julia/stdlib/v1.9/SparseArrays/src/solvers/\u001b[39m\u001b[90m\u001b[4mcholmod.jl:1076\u001b[24m\u001b[39m\n",
       " [240] *(\u001b[90mA\u001b[39m::\u001b[1mSparseArrays.CHOLMOD.Sparse\u001b[22m, \u001b[90mB\u001b[39m::\u001b[1mVecOrMat\u001b[22m)\n",
       "\u001b[90m     @\u001b[39m \u001b[32mSparseArrays.CHOLMOD\u001b[39m \u001b[90m~/julia/usr/share/julia/stdlib/v1.9/SparseArrays/src/solvers/\u001b[39m\u001b[90m\u001b[4mcholmod.jl:1077\u001b[24m\u001b[39m\n",
       " [241] *(\u001b[90mA\u001b[39m::\u001b[1mSparseArrays.CHOLMOD.Sparse\u001b[22m\u001b[0m{Tv}, \u001b[90madjB\u001b[39m::\u001b[1mLinearAlgebra.Adjoint\u001b[22m\u001b[0m{Tv, SparseArrays.CHOLMOD.Sparse{Tv}}) where Tv<:Float64\n",
       "\u001b[90m     @\u001b[39m \u001b[32mSparseArrays.CHOLMOD\u001b[39m \u001b[90m~/julia/usr/share/julia/stdlib/v1.9/SparseArrays/src/solvers/\u001b[39m\u001b[90m\u001b[4mcholmod.jl:1079\u001b[24m\u001b[39m\n",
       " [242] *(\u001b[90mu\u001b[39m::\u001b[1mAbstractVector\u001b[22m, \u001b[90mv\u001b[39m::\u001b[1mUnion\u001b[22m\u001b[0m{LinearAlgebra.Adjoint{T, var\"#s970\"}, LinearAlgebra.Transpose{T, var\"#s970\"}} where {T, var\"#s970\"<:(AbstractVector)})\n",
       "\u001b[90m     @\u001b[39m \u001b[35mLinearAlgebra\u001b[39m \u001b[90m~/julia/usr/share/julia/stdlib/v1.9/LinearAlgebra/src/\u001b[39m\u001b[90m\u001b[4madjtrans.jl:439\u001b[24m\u001b[39m\n",
       " [243] *(\u001b[90mu\u001b[39m::\u001b[1mAbstractVector\u001b[22m, \u001b[90mtv\u001b[39m::\u001b[1mUnion\u001b[22m\u001b[0m{LinearAlgebra.Adjoint{T, var\"#s970\"}, LinearAlgebra.Transpose{T, var\"#s970\"}} where {T, var\"#s970\"<:(AbstractVector)}, \u001b[90mC\u001b[39m::\u001b[1mAbstractMatrix\u001b[22m)\n",
       "\u001b[90m     @\u001b[39m \u001b[35mLinearAlgebra\u001b[39m \u001b[90m~/julia/usr/share/julia/stdlib/v1.9/LinearAlgebra/src/\u001b[39m\u001b[90m\u001b[4mmatmul.jl:1164\u001b[24m\u001b[39m\n",
       " [244] *(\u001b[90mu\u001b[39m::\u001b[1mAbstractVector\u001b[22m, \u001b[90mtv\u001b[39m::\u001b[1mUnion\u001b[22m\u001b[0m{LinearAlgebra.Adjoint{T, var\"#s970\"}, LinearAlgebra.Transpose{T, var\"#s970\"}} where {T, var\"#s970\"<:(AbstractVector)}, \u001b[90mγ\u001b[39m::\u001b[1mNumber\u001b[22m)\n",
       "\u001b[90m     @\u001b[39m \u001b[35mLinearAlgebra\u001b[39m \u001b[90m~/julia/usr/share/julia/stdlib/v1.9/LinearAlgebra/src/\u001b[39m\u001b[90m\u001b[4mmatmul.jl:1163\u001b[24m\u001b[39m\n",
       " [245] *(\u001b[90mA\u001b[39m::\u001b[1mAbstractMatrix\u001b[22m, \u001b[90mB\u001b[39m::\u001b[1mAbstractMatrix\u001b[22m)\n",
       "\u001b[90m     @\u001b[39m \u001b[35mLinearAlgebra\u001b[39m \u001b[90m~/julia/usr/share/julia/stdlib/v1.9/LinearAlgebra/src/\u001b[39m\u001b[90m\u001b[4mmatmul.jl:139\u001b[24m\u001b[39m\n",
       " [246] *(\u001b[90mA\u001b[39m::\u001b[1mAbstractMatrix\u001b[22m, \u001b[90mB\u001b[39m::\u001b[1mAbstractMatrix\u001b[22m, \u001b[90mγ\u001b[39m::\u001b[1mNumber\u001b[22m)\n",
       "\u001b[90m     @\u001b[39m \u001b[35mLinearAlgebra\u001b[39m \u001b[90m~/julia/usr/share/julia/stdlib/v1.9/LinearAlgebra/src/\u001b[39m\u001b[90m\u001b[4mmatmul.jl:1156\u001b[24m\u001b[39m\n",
       " [247] *(\u001b[90mA\u001b[39m::\u001b[1mAbstractMatrix\u001b[22m, \u001b[90mB\u001b[39m::\u001b[1mAbstractMatrix\u001b[22m, \u001b[90mx\u001b[39m::\u001b[1mAbstractVector\u001b[22m)\n",
       "\u001b[90m     @\u001b[39m \u001b[35mLinearAlgebra\u001b[39m \u001b[90m~/julia/usr/share/julia/stdlib/v1.9/LinearAlgebra/src/\u001b[39m\u001b[90m\u001b[4mmatmul.jl:1150\u001b[24m\u001b[39m\n",
       " [248] *(\u001b[90mA\u001b[39m::\u001b[1mAbstractMatrix\u001b[22m\u001b[0m{T}, \u001b[90mx\u001b[39m::\u001b[1mAbstractVector\u001b[22m\u001b[0m{S}) where {T, S}\n",
       "\u001b[90m     @\u001b[39m \u001b[35mLinearAlgebra\u001b[39m \u001b[90m~/julia/usr/share/julia/stdlib/v1.9/LinearAlgebra/src/\u001b[39m\u001b[90m\u001b[4mmatmul.jl:54\u001b[24m\u001b[39m\n",
       " [249] *(\u001b[90mA\u001b[39m::\u001b[1mAbstractMatrix\u001b[22m, \u001b[90mx\u001b[39m::\u001b[1mAbstractVector\u001b[22m, \u001b[90mγ\u001b[39m::\u001b[1mNumber\u001b[22m)\n",
       "\u001b[90m     @\u001b[39m \u001b[35mLinearAlgebra\u001b[39m \u001b[90m~/julia/usr/share/julia/stdlib/v1.9/LinearAlgebra/src/\u001b[39m\u001b[90m\u001b[4mmatmul.jl:1155\u001b[24m\u001b[39m\n",
       " [250] *(\u001b[90mA\u001b[39m::\u001b[1mAbstractMatrix\u001b[22m, \u001b[90mB\u001b[39m::\u001b[1mAbstractMatrix\u001b[22m, \u001b[90mC\u001b[39m::\u001b[1mAbstractMatrix\u001b[22m)\n",
       "\u001b[90m     @\u001b[39m \u001b[35mLinearAlgebra\u001b[39m \u001b[90m~/julia/usr/share/julia/stdlib/v1.9/LinearAlgebra/src/\u001b[39m\u001b[90m\u001b[4mmatmul.jl:1166\u001b[24m\u001b[39m\n",
       " [251] *(\u001b[90mA\u001b[39m::\u001b[1mAbstractMatrix\u001b[22m, \u001b[90mx\u001b[39m::\u001b[1mAbstractVector\u001b[22m, \u001b[90mγ\u001b[39m::\u001b[1mNumber\u001b[22m, \u001b[90mδ\u001b[39m::\u001b[1mNumber\u001b[22m)\n",
       "\u001b[90m     @\u001b[39m \u001b[35mLinearAlgebra\u001b[39m \u001b[90m~/julia/usr/share/julia/stdlib/v1.9/LinearAlgebra/src/\u001b[39m\u001b[90m\u001b[4mmatmul.jl:1221\u001b[24m\u001b[39m\n",
       " [252] *(\u001b[90mA\u001b[39m::\u001b[1mAbstractMatrix\u001b[22m, \u001b[90mB\u001b[39m::\u001b[1mAbstractMatrix\u001b[22m, \u001b[90mγ\u001b[39m::\u001b[1mNumber\u001b[22m, \u001b[90mδ\u001b[39m::\u001b[1mNumber\u001b[22m)\n",
       "\u001b[90m     @\u001b[39m \u001b[35mLinearAlgebra\u001b[39m \u001b[90m~/julia/usr/share/julia/stdlib/v1.9/LinearAlgebra/src/\u001b[39m\u001b[90m\u001b[4mmatmul.jl:1222\u001b[24m\u001b[39m\n",
       " [253] *(\u001b[90mA\u001b[39m::\u001b[1mAbstractMatrix\u001b[22m, \u001b[90mB\u001b[39m::\u001b[1mAbstractMatrix\u001b[22m, \u001b[90mx\u001b[39m::\u001b[1mAbstractVector\u001b[22m, \u001b[90mδ\u001b[39m::\u001b[1mNumber\u001b[22m)\n",
       "\u001b[90m     @\u001b[39m \u001b[35mLinearAlgebra\u001b[39m \u001b[90m~/julia/usr/share/julia/stdlib/v1.9/LinearAlgebra/src/\u001b[39m\u001b[90m\u001b[4mmatmul.jl:1223\u001b[24m\u001b[39m\n",
       " [254] *(\u001b[90mA\u001b[39m::\u001b[1mAbstractMatrix\u001b[22m, \u001b[90mB\u001b[39m::\u001b[1mAbstractMatrix\u001b[22m, \u001b[90mC\u001b[39m::\u001b[1mAbstractMatrix\u001b[22m, \u001b[90mx\u001b[39m::\u001b[1mAbstractVector\u001b[22m)\n",
       "\u001b[90m     @\u001b[39m \u001b[35mLinearAlgebra\u001b[39m \u001b[90m~/julia/usr/share/julia/stdlib/v1.9/LinearAlgebra/src/\u001b[39m\u001b[90m\u001b[4mmatmul.jl:1227\u001b[24m\u001b[39m\n",
       " [255] *(\u001b[90mA\u001b[39m::\u001b[1mAbstractMatrix\u001b[22m, \u001b[90mB\u001b[39m::\u001b[1mAbstractMatrix\u001b[22m, \u001b[90mC\u001b[39m::\u001b[1mAbstractMatrix\u001b[22m, \u001b[90mδ\u001b[39m::\u001b[1mNumber\u001b[22m)\n",
       "\u001b[90m     @\u001b[39m \u001b[35mLinearAlgebra\u001b[39m \u001b[90m~/julia/usr/share/julia/stdlib/v1.9/LinearAlgebra/src/\u001b[39m\u001b[90m\u001b[4mmatmul.jl:1232\u001b[24m\u001b[39m\n",
       " [256] *(\u001b[90mA\u001b[39m::\u001b[1mAbstractMatrix\u001b[22m, \u001b[90mB\u001b[39m::\u001b[1mAbstractMatrix\u001b[22m, \u001b[90mC\u001b[39m::\u001b[1mAbstractMatrix\u001b[22m, \u001b[90mD\u001b[39m::\u001b[1mAbstractMatrix\u001b[22m)\n",
       "\u001b[90m     @\u001b[39m \u001b[35mLinearAlgebra\u001b[39m \u001b[90m~/julia/usr/share/julia/stdlib/v1.9/LinearAlgebra/src/\u001b[39m\u001b[90m\u001b[4mmatmul.jl:1235\u001b[24m\u001b[39m\n",
       " [257] *(\u001b[90ma\u001b[39m::\u001b[1mAbstractVector\u001b[22m, \u001b[90madjB\u001b[39m::\u001b[1mLinearAlgebra.Adjoint\u001b[22m\u001b[0m{T, <:AbstractMatrix} where T)\n",
       "\u001b[90m     @\u001b[39m \u001b[35mLinearAlgebra\u001b[39m \u001b[90m~/julia/usr/share/julia/stdlib/v1.9/LinearAlgebra/src/\u001b[39m\u001b[90m\u001b[4mmatmul.jl:61\u001b[24m\u001b[39m\n",
       " [258] *(\u001b[90ma\u001b[39m::\u001b[1mAbstractVector\u001b[22m, \u001b[90mB\u001b[39m::\u001b[1mAbstractMatrix\u001b[22m)\n",
       "\u001b[90m     @\u001b[39m \u001b[35mLinearAlgebra\u001b[39m \u001b[90m~/julia/usr/share/julia/stdlib/v1.9/LinearAlgebra/src/\u001b[39m\u001b[90m\u001b[4mmatmul.jl:62\u001b[24m\u001b[39m\n",
       " [259] *(\u001b[90mx\u001b[39m::\u001b[1mP\u001b[22m, \u001b[90my\u001b[39m::\u001b[1mReal\u001b[22m) where P<:Dates.Period\n",
       "\u001b[90m     @\u001b[39m \u001b[36mDates\u001b[39m \u001b[90m~/julia/usr/share/julia/stdlib/v1.9/Dates/src/\u001b[39m\u001b[90m\u001b[4mperiods.jl:90\u001b[24m\u001b[39m\n",
       " [260] *(\u001b[90mx\u001b[39m::\u001b[1mDates.Period\u001b[22m, \u001b[90mr\u001b[39m::\u001b[1mAbstractRange\u001b[22m\u001b[0m{<:Real})\n",
       "\u001b[90m     @\u001b[39m \u001b[36mDates\u001b[39m \u001b[90m~/julia/usr/share/julia/stdlib/v1.9/Dates/src/\u001b[39m\u001b[90m\u001b[4mranges.jl:67\u001b[24m\u001b[39m\n",
       " [261] *(\u001b[90mA\u001b[39m::\u001b[1mDates.Period\u001b[22m, \u001b[90mB\u001b[39m::\u001b[1mAbstractArray\u001b[22m)\n",
       "\u001b[90m     @\u001b[39m \u001b[36mDates\u001b[39m \u001b[90m~/julia/usr/share/julia/stdlib/v1.9/Dates/src/\u001b[39m\u001b[90m\u001b[4mperiods.jl:93\u001b[24m\u001b[39m\n",
       " [262] *(\u001b[90mR\u001b[39m::\u001b[1mLinearAlgebra.Rotation\u001b[22m\u001b[0m{S}, \u001b[90mG\u001b[39m::\u001b[1mLinearAlgebra.Givens\u001b[22m\u001b[0m{T}) where {S, T}\n",
       "\u001b[90m     @\u001b[39m \u001b[35mLinearAlgebra\u001b[39m \u001b[90m~/julia/usr/share/julia/stdlib/v1.9/LinearAlgebra/src/\u001b[39m\u001b[90m\u001b[4mgivens.jl:425\u001b[24m\u001b[39m\n",
       " [263] *(\u001b[90my\u001b[39m::\u001b[1mAbstractFloat\u001b[22m, \u001b[90mx\u001b[39m::\u001b[1mBool\u001b[22m)\n",
       "\u001b[90m     @\u001b[39m \u001b[90m\u001b[4mbool.jl:182\u001b[24m\u001b[39m\n",
       " [264] *(\u001b[90mx\u001b[39m::\u001b[1mBigInt\u001b[22m, \u001b[90mc\u001b[39m::\u001b[1mUnion\u001b[22m\u001b[0m{UInt16, UInt32, UInt64, UInt8})\n",
       "\u001b[90m     @\u001b[39m \u001b[90mBase.GMP\u001b[39m \u001b[90m\u001b[4mgmp.jl:549\u001b[24m\u001b[39m\n",
       " [265] *(\u001b[90mx\u001b[39m::\u001b[1mBigInt\u001b[22m, \u001b[90mc\u001b[39m::\u001b[1mUnion\u001b[22m\u001b[0m{Int16, Int32, Int64, Int8})\n",
       "\u001b[90m     @\u001b[39m \u001b[90mBase.GMP\u001b[39m \u001b[90m\u001b[4mgmp.jl:551\u001b[24m\u001b[39m\n",
       " [266] *(\u001b[90mx\u001b[39m::\u001b[1mBigInt\u001b[22m, \u001b[90my\u001b[39m::\u001b[1mBigInt\u001b[22m)\n",
       "\u001b[90m     @\u001b[39m \u001b[90mBase.GMP\u001b[39m \u001b[90m\u001b[4mgmp.jl:490\u001b[24m\u001b[39m\n",
       " [267] *(\u001b[90ma\u001b[39m::\u001b[1mBigInt\u001b[22m, \u001b[90mb\u001b[39m::\u001b[1mBigInt\u001b[22m, \u001b[90mc\u001b[39m::\u001b[1mBigInt\u001b[22m)\n",
       "\u001b[90m     @\u001b[39m \u001b[90mBase.GMP\u001b[39m \u001b[90m\u001b[4mgmp.jl:530\u001b[24m\u001b[39m\n",
       " [268] *(\u001b[90ma\u001b[39m::\u001b[1mBigInt\u001b[22m, \u001b[90mb\u001b[39m::\u001b[1mBigInt\u001b[22m, \u001b[90mc\u001b[39m::\u001b[1mBigInt\u001b[22m, \u001b[90md\u001b[39m::\u001b[1mBigInt\u001b[22m)\n",
       "\u001b[90m     @\u001b[39m \u001b[90mBase.GMP\u001b[39m \u001b[90m\u001b[4mgmp.jl:531\u001b[24m\u001b[39m\n",
       " [269] *(\u001b[90ma\u001b[39m::\u001b[1mBigInt\u001b[22m, \u001b[90mb\u001b[39m::\u001b[1mBigInt\u001b[22m, \u001b[90mc\u001b[39m::\u001b[1mBigInt\u001b[22m, \u001b[90md\u001b[39m::\u001b[1mBigInt\u001b[22m, \u001b[90me\u001b[39m::\u001b[1mBigInt\u001b[22m)\n",
       "\u001b[90m     @\u001b[39m \u001b[90mBase.GMP\u001b[39m \u001b[90m\u001b[4mgmp.jl:532\u001b[24m\u001b[39m\n",
       " [270] *(\u001b[90mc\u001b[39m::\u001b[1mBigInt\u001b[22m, \u001b[90mx\u001b[39m::\u001b[1mBigFloat\u001b[22m)\n",
       "\u001b[90m     @\u001b[39m \u001b[90mBase.MPFR\u001b[39m \u001b[90m\u001b[4mmpfr.jl:431\u001b[24m\u001b[39m\n",
       " [271] *(::\u001b[1mMissing\u001b[22m)\n",
       "\u001b[90m     @\u001b[39m \u001b[90m\u001b[4mmissing.jl:101\u001b[24m\u001b[39m\n",
       " [272] *(::\u001b[1mMissing\u001b[22m, ::\u001b[1mNumber\u001b[22m)\n",
       "\u001b[90m     @\u001b[39m \u001b[90m\u001b[4mmissing.jl:123\u001b[24m\u001b[39m\n",
       " [273] *(\u001b[90md\u001b[39m::\u001b[1mMissing\u001b[22m, \u001b[90mx\u001b[39m::\u001b[1mUnion\u001b[22m\u001b[0m{AbstractChar, AbstractString})\n",
       "\u001b[90m     @\u001b[39m \u001b[90m\u001b[4mmissing.jl:182\u001b[24m\u001b[39m\n",
       " [274] *(::\u001b[1mMissing\u001b[22m, ::\u001b[1mMissing\u001b[22m)\n",
       "\u001b[90m     @\u001b[39m \u001b[90m\u001b[4mmissing.jl:122\u001b[24m\u001b[39m\n",
       " [275] *(\u001b[90mr\u001b[39m::\u001b[1mRegex\u001b[22m)\n",
       "\u001b[90m     @\u001b[39m \u001b[90m\u001b[4mregex.jl:780\u001b[24m\u001b[39m\n",
       " [276] *(\u001b[90mr1\u001b[39m::\u001b[1mUnion\u001b[22m\u001b[0m{Regex, AbstractChar, AbstractString}, \u001b[90mrs\u001b[39m::\u001b[1mUnion\u001b[22m\u001b[0m{Regex, AbstractChar, AbstractString}\u001b[1m...\u001b[22m)\n",
       "\u001b[90m     @\u001b[39m \u001b[90m\u001b[4mregex.jl:759\u001b[24m\u001b[39m\n",
       " [277] *(\u001b[90mz\u001b[39m::\u001b[1mComplex\u001b[22m\u001b[0m{Bool}, \u001b[90mx\u001b[39m::\u001b[1mBool\u001b[22m)\n",
       "\u001b[90m     @\u001b[39m \u001b[90m\u001b[4mcomplex.jl:307\u001b[24m\u001b[39m\n",
       " [278] *(\u001b[90mz\u001b[39m::\u001b[1mComplex\u001b[22m, \u001b[90mx\u001b[39m::\u001b[1mBool\u001b[22m)\n",
       "\u001b[90m     @\u001b[39m \u001b[90m\u001b[4mcomplex.jl:314\u001b[24m\u001b[39m\n",
       " [279] *(\u001b[90mz\u001b[39m::\u001b[1mComplex\u001b[22m\u001b[0m{Bool}, \u001b[90mx\u001b[39m::\u001b[1mReal\u001b[22m)\n",
       "\u001b[90m     @\u001b[39m \u001b[90m\u001b[4mcomplex.jl:325\u001b[24m\u001b[39m\n",
       " [280] *(\u001b[90mz\u001b[39m::\u001b[1mComplex\u001b[22m, \u001b[90mx\u001b[39m::\u001b[1mReal\u001b[22m)\n",
       "\u001b[90m     @\u001b[39m \u001b[90m\u001b[4mcomplex.jl:337\u001b[24m\u001b[39m\n",
       " [281] *(\u001b[90mx\u001b[39m::\u001b[1mBool\u001b[22m, \u001b[90my\u001b[39m::\u001b[1mT\u001b[22m) where T<:AbstractFloat\n",
       "\u001b[90m     @\u001b[39m \u001b[90m\u001b[4mbool.jl:179\u001b[24m\u001b[39m\n",
       " [282] *(\u001b[90mx\u001b[39m::\u001b[1mBool\u001b[22m, \u001b[90my\u001b[39m::\u001b[1mAbstractIrrational\u001b[22m)\n",
       "\u001b[90m     @\u001b[39m \u001b[90m\u001b[4mirrationals.jl:163\u001b[24m\u001b[39m\n",
       " [283] *(\u001b[90mx\u001b[39m::\u001b[1mBool\u001b[22m, \u001b[90my\u001b[39m::\u001b[1mBool\u001b[22m)\n",
       "\u001b[90m     @\u001b[39m \u001b[90m\u001b[4mbool.jl:168\u001b[24m\u001b[39m\n",
       " [284] *(\u001b[90ma\u001b[39m::\u001b[1mInteger\u001b[22m, \u001b[90mb\u001b[39m::\u001b[1mInteger\u001b[22m)\n",
       "\u001b[90m     @\u001b[39m \u001b[90m\u001b[4mint.jl:1038\u001b[24m\u001b[39m\n",
       " [285] *(\u001b[90mx\u001b[39m::\u001b[1mBool\u001b[22m, \u001b[90mz\u001b[39m::\u001b[1mComplex\u001b[22m\u001b[0m{Bool})\n",
       "\u001b[90m     @\u001b[39m \u001b[90m\u001b[4mcomplex.jl:306\u001b[24m\u001b[39m\n",
       " [286] *(\u001b[90mx\u001b[39m::\u001b[1mReal\u001b[22m, \u001b[90mz\u001b[39m::\u001b[1mComplex\u001b[22m\u001b[0m{Bool})\n",
       "\u001b[90m     @\u001b[39m \u001b[90m\u001b[4mcomplex.jl:324\u001b[24m\u001b[39m\n",
       " [287] *(\u001b[90mx\u001b[39m::\u001b[1mBool\u001b[22m, \u001b[90mz\u001b[39m::\u001b[1mComplex\u001b[22m)\n",
       "\u001b[90m     @\u001b[39m \u001b[90m\u001b[4mcomplex.jl:313\u001b[24m\u001b[39m\n",
       " [288] *(\u001b[90mx\u001b[39m::\u001b[1mReal\u001b[22m, \u001b[90mz\u001b[39m::\u001b[1mComplex\u001b[22m)\n",
       "\u001b[90m     @\u001b[39m \u001b[90m\u001b[4mcomplex.jl:336\u001b[24m\u001b[39m\n",
       " [289] *(\u001b[90mB\u001b[39m::\u001b[1mBitMatrix\u001b[22m, \u001b[90mJ\u001b[39m::\u001b[1mLinearAlgebra.UniformScaling\u001b[22m)\n",
       "\u001b[90m     @\u001b[39m \u001b[35mLinearAlgebra\u001b[39m \u001b[90m~/julia/usr/share/julia/stdlib/v1.9/LinearAlgebra/src/\u001b[39m\u001b[90m\u001b[4muniformscaling.jl:258\u001b[24m\u001b[39m\n",
       " [290] *(\u001b[90mx\u001b[39m::\u001b[1mAbstractMatrix\u001b[22m\u001b[0m{<:Number})\n",
       "\u001b[90m     @\u001b[39m \u001b[90m\u001b[4mabstractarraymath.jl:221\u001b[24m\u001b[39m\n",
       " [291] *(\u001b[90mA\u001b[39m::\u001b[1mAbstractMatrix\u001b[22m, \u001b[90mJ\u001b[39m::\u001b[1mLinearAlgebra.UniformScaling\u001b[22m)\n",
       "\u001b[90m     @\u001b[39m \u001b[35mLinearAlgebra\u001b[39m \u001b[90m~/julia/usr/share/julia/stdlib/v1.9/LinearAlgebra/src/\u001b[39m\u001b[90m\u001b[4muniformscaling.jl:260\u001b[24m\u001b[39m\n",
       " [292] *(\u001b[90mv\u001b[39m::\u001b[1mAbstractVector\u001b[22m, \u001b[90mJ\u001b[39m::\u001b[1mLinearAlgebra.UniformScaling\u001b[22m)\n",
       "\u001b[90m     @\u001b[39m \u001b[35mLinearAlgebra\u001b[39m \u001b[90m~/julia/usr/share/julia/stdlib/v1.9/LinearAlgebra/src/\u001b[39m\u001b[90m\u001b[4muniformscaling.jl:261\u001b[24m\u001b[39m\n",
       " [293] *(\u001b[90mx\u001b[39m::\u001b[1mBigFloat\u001b[22m, \u001b[90mc\u001b[39m::\u001b[1mUnion\u001b[22m\u001b[0m{UInt16, UInt32, UInt64, UInt8})\n",
       "\u001b[90m     @\u001b[39m \u001b[90mBase.MPFR\u001b[39m \u001b[90m\u001b[4mmpfr.jl:402\u001b[24m\u001b[39m\n",
       " [294] *(\u001b[90mx\u001b[39m::\u001b[1mBigFloat\u001b[22m, \u001b[90mc\u001b[39m::\u001b[1mUnion\u001b[22m\u001b[0m{Int16, Int32, Int64, Int8})\n",
       "\u001b[90m     @\u001b[39m \u001b[90mBase.MPFR\u001b[39m \u001b[90m\u001b[4mmpfr.jl:410\u001b[24m\u001b[39m\n",
       " [295] *(\u001b[90mx\u001b[39m::\u001b[1mBigFloat\u001b[22m, \u001b[90mc\u001b[39m::\u001b[1mUnion\u001b[22m\u001b[0m{Float16, Float32, Float64})\n",
       "\u001b[90m     @\u001b[39m \u001b[90mBase.MPFR\u001b[39m \u001b[90m\u001b[4mmpfr.jl:418\u001b[24m\u001b[39m\n",
       " [296] *(\u001b[90mx\u001b[39m::\u001b[1mBigFloat\u001b[22m, \u001b[90my\u001b[39m::\u001b[1mBigFloat\u001b[22m)\n",
       "\u001b[90m     @\u001b[39m \u001b[90mBase.MPFR\u001b[39m \u001b[90m\u001b[4mmpfr.jl:395\u001b[24m\u001b[39m\n",
       " [297] *(\u001b[90mx\u001b[39m::\u001b[1mBigFloat\u001b[22m, \u001b[90mc\u001b[39m::\u001b[1mBigInt\u001b[22m)\n",
       "\u001b[90m     @\u001b[39m \u001b[90mBase.MPFR\u001b[39m \u001b[90m\u001b[4mmpfr.jl:426\u001b[24m\u001b[39m\n",
       " [298] *(\u001b[90ma\u001b[39m::\u001b[1mBigFloat\u001b[22m, \u001b[90mb\u001b[39m::\u001b[1mBigFloat\u001b[22m, \u001b[90mc\u001b[39m::\u001b[1mBigFloat\u001b[22m)\n",
       "\u001b[90m     @\u001b[39m \u001b[90mBase.MPFR\u001b[39m \u001b[90m\u001b[4mmpfr.jl:567\u001b[24m\u001b[39m\n",
       " [299] *(\u001b[90ma\u001b[39m::\u001b[1mBigFloat\u001b[22m, \u001b[90mb\u001b[39m::\u001b[1mBigFloat\u001b[22m, \u001b[90mc\u001b[39m::\u001b[1mBigFloat\u001b[22m, \u001b[90md\u001b[39m::\u001b[1mBigFloat\u001b[22m)\n",
       "\u001b[90m     @\u001b[39m \u001b[90mBase.MPFR\u001b[39m \u001b[90m\u001b[4mmpfr.jl:573\u001b[24m\u001b[39m\n",
       " [300] *(\u001b[90ma\u001b[39m::\u001b[1mBigFloat\u001b[22m, \u001b[90mb\u001b[39m::\u001b[1mBigFloat\u001b[22m, \u001b[90mc\u001b[39m::\u001b[1mBigFloat\u001b[22m, \u001b[90md\u001b[39m::\u001b[1mBigFloat\u001b[22m, \u001b[90me\u001b[39m::\u001b[1mBigFloat\u001b[22m)\n",
       "\u001b[90m     @\u001b[39m \u001b[90mBase.MPFR\u001b[39m \u001b[90m\u001b[4mmpfr.jl:580\u001b[24m\u001b[39m\n",
       " [301] *(\u001b[90mx\u001b[39m::\u001b[1mRational\u001b[22m\u001b[0m{BigInt}, \u001b[90my\u001b[39m::\u001b[1mRational\u001b[22m\u001b[0m{BigInt})\n",
       "\u001b[90m     @\u001b[39m \u001b[90mBase.GMP.MPQ\u001b[39m \u001b[90m\u001b[4mgmp.jl:1030\u001b[24m\u001b[39m\n",
       " [302] *(\u001b[90mx\u001b[39m::\u001b[1mRational\u001b[22m, \u001b[90my\u001b[39m::\u001b[1mRational\u001b[22m)\n",
       "\u001b[90m     @\u001b[39m \u001b[90m\u001b[4mrational.jl:347\u001b[24m\u001b[39m\n",
       " [303] *(\u001b[90mx\u001b[39m::\u001b[1mNumber\u001b[22m)\n",
       "\u001b[90m     @\u001b[39m \u001b[90m\u001b[4moperators.jl:516\u001b[24m\u001b[39m\n",
       " [304] *(\u001b[90mα\u001b[39m::\u001b[1mNumber\u001b[22m, \u001b[90mvt\u001b[39m::\u001b[1mUnion\u001b[22m\u001b[0m{LinearAlgebra.Adjoint{T, var\"#s970\"}, LinearAlgebra.Transpose{T, var\"#s970\"}} where {T, var\"#s970\"<:(AbstractVector)}, \u001b[90mC\u001b[39m::\u001b[1mAbstractMatrix\u001b[22m, \u001b[90mx\u001b[39m::\u001b[1mAbstractVector\u001b[22m)\n",
       "\u001b[90m     @\u001b[39m \u001b[35mLinearAlgebra\u001b[39m \u001b[90m~/julia/usr/share/julia/stdlib/v1.9/LinearAlgebra/src/\u001b[39m\u001b[90m\u001b[4mmatmul.jl:1217\u001b[24m\u001b[39m\n",
       " [305] *(\u001b[90mx\u001b[39m::\u001b[1mT\u001b[22m, \u001b[90my\u001b[39m::\u001b[1mT\u001b[22m) where T<:Number\n",
       "\u001b[90m     @\u001b[39m \u001b[90m\u001b[4mpromotion.jl:486\u001b[24m\u001b[39m\n",
       " [306] *(\u001b[90mx\u001b[39m::\u001b[1mNumber\u001b[22m, \u001b[90my\u001b[39m::\u001b[1mNumber\u001b[22m)\n",
       "\u001b[90m     @\u001b[39m \u001b[90m\u001b[4mpromotion.jl:411\u001b[24m\u001b[39m\n",
       " [307] *(\u001b[90mα\u001b[39m::\u001b[1mNumber\u001b[22m, \u001b[90mβ\u001b[39m::\u001b[1mNumber\u001b[22m, \u001b[90mC\u001b[39m::\u001b[1mAbstractMatrix\u001b[22m, \u001b[90mD\u001b[39m::\u001b[1mAbstractMatrix\u001b[22m)\n",
       "\u001b[90m     @\u001b[39m \u001b[35mLinearAlgebra\u001b[39m \u001b[90m~/julia/usr/share/julia/stdlib/v1.9/LinearAlgebra/src/\u001b[39m\u001b[90m\u001b[4mmatmul.jl:1215\u001b[24m\u001b[39m\n",
       " [308] *(\u001b[90mα\u001b[39m::\u001b[1mNumber\u001b[22m, \u001b[90mβ\u001b[39m::\u001b[1mNumber\u001b[22m, \u001b[90mC\u001b[39m::\u001b[1mAbstractMatrix\u001b[22m, \u001b[90mx\u001b[39m::\u001b[1mAbstractVector\u001b[22m)\n",
       "\u001b[90m     @\u001b[39m \u001b[35mLinearAlgebra\u001b[39m \u001b[90m~/julia/usr/share/julia/stdlib/v1.9/LinearAlgebra/src/\u001b[39m\u001b[90m\u001b[4mmatmul.jl:1214\u001b[24m\u001b[39m\n",
       " [309] *(\u001b[90ma\u001b[39m, \u001b[90mb\u001b[39m, \u001b[90mc\u001b[39m, \u001b[90mxs...\u001b[39m)\n",
       "\u001b[90m     @\u001b[39m \u001b[90m\u001b[4moperators.jl:578\u001b[24m\u001b[39m"
      ]
     },
     "execution_count": 3,
     "metadata": {},
     "output_type": "execute_result"
    }
   ],
   "source": [
    "methods(*)\n"
   ]
  },
  {
   "cell_type": "code",
   "execution_count": 5,
   "id": "30b0a6d9-10de-4ad9-b42f-862e16d5f07f",
   "metadata": {},
   "outputs": [
    {
     "data": {
      "text/html": [
       "*(z::<b>Complex</b>, w::<b>Complex</b>) in Base at <a href=\"https://github.com/JuliaLang/julia/tree/8e630552924eac54c809aa7bc30871c7df1582d3/base/complex.jl#L293\" target=\"_blank\">complex.jl:293</a>"
      ],
      "text/plain": [
       "*(\u001b[90mz\u001b[39m::\u001b[1mComplex\u001b[22m, \u001b[90mw\u001b[39m::\u001b[1mComplex\u001b[22m)\n",
       "\u001b[90m     @\u001b[39m \u001b[90mBase\u001b[39m \u001b[90m\u001b[4mcomplex.jl:293\u001b[24m\u001b[39m"
      ]
     },
     "execution_count": 5,
     "metadata": {},
     "output_type": "execute_result"
    }
   ],
   "source": [
    "@which((1+2im)*(2+3im))"
   ]
  },
  {
   "cell_type": "code",
   "execution_count": 49,
   "id": "02a1732a-39df-42a9-8445-f84ebc5a2407",
   "metadata": {},
   "outputs": [
    {
     "data": {
      "text/plain": [
       "\"covid_usa_national_data.csv\""
      ]
     },
     "execution_count": 49,
     "metadata": {},
     "output_type": "execute_result"
    }
   ],
   "source": [
    "#download(url, \"covid_death_data.csv\")\n",
    "#download(url, \"covid_confirmed_data.csv\")\n",
    "#download(url, \"covid_california_data.csv\")\n",
    "download(url, \"covid_usa_national_data.csv\")"
   ]
  },
  {
   "cell_type": "code",
   "execution_count": 20,
   "id": "07ac3400-9439-4263-b0c1-37af1f809b29",
   "metadata": {},
   "outputs": [
    {
     "data": {
      "text/plain": [
       "118-element Vector{String}:\n",
       " \".ICEauthority\"\n",
       " \".Xauthority\"\n",
       " \".Xresources\"\n",
       " \".bash_history\"\n",
       " \".bash_logout\"\n",
       " \".bashrc\"\n",
       " \".cache\"\n",
       " \".conda\"\n",
       " \".config\"\n",
       " \".dbus\"\n",
       " \".gnupg\"\n",
       " \".gsutil\"\n",
       " \".ipynb_checkpoints\"\n",
       " ⋮\n",
       " \"staticVPN.key\"\n",
       " \"the-littlest-jupyterhub\"\n",
       " \"tljh.jupytr.org-bootstrap.py\"\n",
       " \"usrlocal\"\n",
       " \"versor\"\n",
       " \"webrtc\"\n",
       " \"wordpress.journals.tar.gz\"\n",
       " \"wordpress.zip\"\n",
       " \"wp_options_backup.csv\"\n",
       " \"xv_3.32.0.5-1_amd64.deb\"\n",
       " \"xv_mac_11.10.1.70315_release.pkg\"\n",
       " \"xv_mac_11.12.0.70542_release.pkg\""
      ]
     },
     "execution_count": 20,
     "metadata": {},
     "output_type": "execute_result"
    }
   ],
   "source": [
    "readdir()"
   ]
  },
  {
   "cell_type": "code",
   "execution_count": 14,
   "id": "fa670acd-f6dd-4781-a0b0-5299c434491a",
   "metadata": {},
   "outputs": [
    {
     "name": "stderr",
     "output_type": "stream",
     "text": [
      "\u001b[32m\u001b[1m   Resolving\u001b[22m\u001b[39m package versions...\n",
      "\u001b[32m\u001b[1m  No Changes\u001b[22m\u001b[39m to `~/.julia/environments/v1.9/Project.toml`\n",
      "\u001b[32m\u001b[1m  No Changes\u001b[22m\u001b[39m to `~/.julia/environments/v1.9/Manifest.toml`\n"
     ]
    }
   ],
   "source": [
    "using Pkg\n",
    "Pkg.add(\"CSV\")\n"
   ]
  },
  {
   "cell_type": "code",
   "execution_count": 29,
   "id": "cb56cc50-972e-455a-951a-131e391cf4d0",
   "metadata": {},
   "outputs": [
    {
     "name": "stderr",
     "output_type": "stream",
     "text": [
      "\u001b[32m\u001b[1m   Resolving\u001b[22m\u001b[39m package versions...\n",
      "\u001b[33m\u001b[1m┌ \u001b[22m\u001b[39m\u001b[33m\u001b[1mWarning: \u001b[22m\u001b[39mcould not download https://pkg.julialang.org/registries\n",
      "\u001b[33m\u001b[1m│ \u001b[22m\u001b[39m  exception = RequestError: SSL connection timeout while requesting https://pkg.julialang.org/registries\n",
      "\u001b[33m\u001b[1m└ \u001b[22m\u001b[39m\u001b[90m@ Pkg.Registry ~/julia/usr/share/julia/stdlib/v1.9/Pkg/src/Registry/Registry.jl:69\u001b[39m\n",
      "\u001b[32m\u001b[1m   Installed\u001b[22m\u001b[39m Reexport ─────────── v1.2.2\n",
      "\u001b[32m\u001b[1m   Installed\u001b[22m\u001b[39m Crayons ──────────── v4.1.1\n",
      "\u001b[32m\u001b[1m   Installed\u001b[22m\u001b[39m LaTeXStrings ─────── v1.3.0\n",
      "\u001b[32m\u001b[1m   Installed\u001b[22m\u001b[39m SnoopPrecompile ──── v1.0.3\n",
      "\u001b[32m\u001b[1m   Installed\u001b[22m\u001b[39m InvertedIndices ──── v1.3.0\n",
      "\u001b[32m\u001b[1m   Installed\u001b[22m\u001b[39m DataFrames ───────── v1.5.0\n",
      "\u001b[32m\u001b[1m   Installed\u001b[22m\u001b[39m SortingAlgorithms ── v1.1.0\n",
      "\u001b[32m\u001b[1m   Installed\u001b[22m\u001b[39m Formatting ───────── v0.4.2\n",
      "\u001b[32m\u001b[1m   Installed\u001b[22m\u001b[39m StringManipulation ─ v0.3.0\n",
      "\u001b[32m\u001b[1m   Installed\u001b[22m\u001b[39m Missings ─────────── v1.1.0\n",
      "\u001b[32m\u001b[1m   Installed\u001b[22m\u001b[39m DataStructures ───── v0.18.13\n",
      "\u001b[32m\u001b[1m   Installed\u001b[22m\u001b[39m PrettyTables ─────── v2.2.4\n",
      "\u001b[32m\u001b[1m    Updating\u001b[22m\u001b[39m `~/.julia/environments/v1.9/Project.toml`\n",
      "  \u001b[90m[a93c6f00] \u001b[39m\u001b[92m+ DataFrames v1.5.0\u001b[39m\n",
      "\u001b[32m\u001b[1m    Updating\u001b[22m\u001b[39m `~/.julia/environments/v1.9/Manifest.toml`\n",
      "  \u001b[90m[a8cc5b0e] \u001b[39m\u001b[92m+ Crayons v4.1.1\u001b[39m\n",
      "  \u001b[90m[a93c6f00] \u001b[39m\u001b[92m+ DataFrames v1.5.0\u001b[39m\n",
      "  \u001b[90m[864edb3b] \u001b[39m\u001b[92m+ DataStructures v0.18.13\u001b[39m\n",
      "  \u001b[90m[59287772] \u001b[39m\u001b[92m+ Formatting v0.4.2\u001b[39m\n",
      "  \u001b[90m[41ab1584] \u001b[39m\u001b[92m+ InvertedIndices v1.3.0\u001b[39m\n",
      "  \u001b[90m[b964fa9f] \u001b[39m\u001b[92m+ LaTeXStrings v1.3.0\u001b[39m\n",
      "  \u001b[90m[e1d29d7a] \u001b[39m\u001b[92m+ Missings v1.1.0\u001b[39m\n",
      "  \u001b[90m[08abe8d2] \u001b[39m\u001b[92m+ PrettyTables v2.2.4\u001b[39m\n",
      "  \u001b[90m[189a3867] \u001b[39m\u001b[92m+ Reexport v1.2.2\u001b[39m\n",
      "  \u001b[90m[66db9d55] \u001b[39m\u001b[92m+ SnoopPrecompile v1.0.3\u001b[39m\n",
      "  \u001b[90m[a2af1166] \u001b[39m\u001b[92m+ SortingAlgorithms v1.1.0\u001b[39m\n",
      "  \u001b[90m[892a3eda] \u001b[39m\u001b[92m+ StringManipulation v0.3.0\u001b[39m\n",
      "  \u001b[90m[2f01184e] \u001b[39m\u001b[92m+ SparseArrays\u001b[39m\n",
      "  \u001b[90m[10745b16] \u001b[39m\u001b[92m+ Statistics v1.9.0\u001b[39m\n",
      "  \u001b[90m[bea87d4a] \u001b[39m\u001b[92m+ SuiteSparse_jll v5.10.1+6\u001b[39m\n",
      "\u001b[32m\u001b[1mPrecompiling\u001b[22m\u001b[39m project...\n",
      "\u001b[32m  ✓ \u001b[39m\u001b[90mReexport\u001b[39m\n",
      "\u001b[32m  ✓ \u001b[39m\u001b[90mSuiteSparse_jll\u001b[39m\n",
      "\u001b[32m  ✓ \u001b[39m\u001b[90mLaTeXStrings\u001b[39m\n",
      "\u001b[32m  ✓ \u001b[39m\u001b[90mSnoopPrecompile\u001b[39m\n",
      "\u001b[32m  ✓ \u001b[39m\u001b[90mInvertedIndices\u001b[39m\n",
      "\u001b[32m  ✓ \u001b[39m\u001b[90mMissings\u001b[39m\n",
      "\u001b[32m  ✓ \u001b[39m\u001b[90mFormatting\u001b[39m\n",
      "\u001b[32m  ✓ \u001b[39m\u001b[90mStatistics\u001b[39m\n",
      "\u001b[32m  ✓ \u001b[39m\u001b[90mCrayons\u001b[39m\n",
      "\u001b[32m  ✓ \u001b[39m\u001b[90mDataStructures\u001b[39m\n",
      "\u001b[32m  ✓ \u001b[39m\u001b[90mStringManipulation\u001b[39m\n",
      "\u001b[32m  ✓ \u001b[39m\u001b[90mSortingAlgorithms\u001b[39m\n",
      "\u001b[32m  ✓ \u001b[39m\u001b[90mPrettyTables\u001b[39m\n",
      "\u001b[32m  ✓ \u001b[39mDataFrames\n",
      "  14 dependencies successfully precompiled in 166 seconds. 33 already precompiled.\n"
     ]
    }
   ],
   "source": [
    "using CSV\n",
    "Pkg.add(\"DataFrames\")"
   ]
  },
  {
   "cell_type": "code",
   "execution_count": 51,
   "id": "51c79309-eba1-4e4f-b20f-574bafcb296f",
   "metadata": {},
   "outputs": [
    {
     "data": {
      "text/html": [
       "<div><div style = \"float: left;\"><span>420×17 DataFrame</span></div><div style = \"float: right;\"><span style = \"font-style: italic;\">395 rows omitted</span></div><div style = \"clear: both;\"></div></div><div class = \"data-frame\" style = \"overflow-x: scroll;\"><table class = \"data-frame\" style = \"margin-bottom: 6px;\"><thead><tr class = \"header\"><th class = \"rowNumber\" style = \"font-weight: bold; text-align: right;\">Row</th><th style = \"text-align: left;\">date</th><th style = \"text-align: left;\">death</th><th style = \"text-align: left;\">deathIncrease</th><th style = \"text-align: left;\">inIcuCumulative</th><th style = \"text-align: left;\">inIcuCurrently</th><th style = \"text-align: left;\">hospitalizedIncrease</th><th style = \"text-align: left;\">hospitalizedCurrently</th><th style = \"text-align: left;\">hospitalizedCumulative</th><th style = \"text-align: left;\">negative</th><th style = \"text-align: left;\">negativeIncrease</th><th style = \"text-align: left;\">onVentilatorCumulative</th><th style = \"text-align: left;\">onVentilatorCurrently</th><th style = \"text-align: left;\">positive</th><th style = \"text-align: left;\">positiveIncrease</th><th style = \"text-align: left;\">states</th><th style = \"text-align: left;\">totalTestResults</th><th style = \"text-align: left;\">totalTestResultsIncrease</th></tr><tr class = \"subheader headerLastRow\"><th class = \"rowNumber\" style = \"font-weight: bold; text-align: right;\"></th><th title = \"Dates.Date\" style = \"text-align: left;\">Date</th><th title = \"Union{Missing, Int64}\" style = \"text-align: left;\">Int64?</th><th title = \"Int64\" style = \"text-align: left;\">Int64</th><th title = \"Union{Missing, Int64}\" style = \"text-align: left;\">Int64?</th><th title = \"Union{Missing, Int64}\" style = \"text-align: left;\">Int64?</th><th title = \"Int64\" style = \"text-align: left;\">Int64</th><th title = \"Union{Missing, Int64}\" style = \"text-align: left;\">Int64?</th><th title = \"Union{Missing, Int64}\" style = \"text-align: left;\">Int64?</th><th title = \"Union{Missing, Int64}\" style = \"text-align: left;\">Int64?</th><th title = \"Int64\" style = \"text-align: left;\">Int64</th><th title = \"Union{Missing, Int64}\" style = \"text-align: left;\">Int64?</th><th title = \"Union{Missing, Int64}\" style = \"text-align: left;\">Int64?</th><th title = \"Union{Missing, Int64}\" style = \"text-align: left;\">Int64?</th><th title = \"Int64\" style = \"text-align: left;\">Int64</th><th title = \"Int64\" style = \"text-align: left;\">Int64</th><th title = \"Int64\" style = \"text-align: left;\">Int64</th><th title = \"Int64\" style = \"text-align: left;\">Int64</th></tr></thead><tbody><tr><td class = \"rowNumber\" style = \"font-weight: bold; text-align: right;\">1</td><td style = \"text-align: left;\">2021-03-07</td><td style = \"text-align: right;\">515151</td><td style = \"text-align: right;\">842</td><td style = \"text-align: right;\">45475</td><td style = \"text-align: right;\">8134</td><td style = \"text-align: right;\">726</td><td style = \"text-align: right;\">40199</td><td style = \"text-align: right;\">776361</td><td style = \"text-align: right;\">74582825</td><td style = \"text-align: right;\">131835</td><td style = \"text-align: right;\">4281</td><td style = \"text-align: right;\">2802</td><td style = \"text-align: right;\">28756489</td><td style = \"text-align: right;\">41835</td><td style = \"text-align: right;\">56</td><td style = \"text-align: right;\">363825123</td><td style = \"text-align: right;\">1170059</td></tr><tr><td class = \"rowNumber\" style = \"font-weight: bold; text-align: right;\">2</td><td style = \"text-align: left;\">2021-03-06</td><td style = \"text-align: right;\">514309</td><td style = \"text-align: right;\">1680</td><td style = \"text-align: right;\">45453</td><td style = \"text-align: right;\">8409</td><td style = \"text-align: right;\">503</td><td style = \"text-align: right;\">41401</td><td style = \"text-align: right;\">775635</td><td style = \"text-align: right;\">74450990</td><td style = \"text-align: right;\">143835</td><td style = \"text-align: right;\">4280</td><td style = \"text-align: right;\">2811</td><td style = \"text-align: right;\">28714654</td><td style = \"text-align: right;\">60015</td><td style = \"text-align: right;\">56</td><td style = \"text-align: right;\">362655064</td><td style = \"text-align: right;\">1430992</td></tr><tr><td class = \"rowNumber\" style = \"font-weight: bold; text-align: right;\">3</td><td style = \"text-align: left;\">2021-03-05</td><td style = \"text-align: right;\">512629</td><td style = \"text-align: right;\">2221</td><td style = \"text-align: right;\">45373</td><td style = \"text-align: right;\">8634</td><td style = \"text-align: right;\">2781</td><td style = \"text-align: right;\">42541</td><td style = \"text-align: right;\">775132</td><td style = \"text-align: right;\">74307155</td><td style = \"text-align: right;\">271917</td><td style = \"text-align: right;\">4275</td><td style = \"text-align: right;\">2889</td><td style = \"text-align: right;\">28654639</td><td style = \"text-align: right;\">68787</td><td style = \"text-align: right;\">56</td><td style = \"text-align: right;\">361224072</td><td style = \"text-align: right;\">1744417</td></tr><tr><td class = \"rowNumber\" style = \"font-weight: bold; text-align: right;\">4</td><td style = \"text-align: left;\">2021-03-04</td><td style = \"text-align: right;\">510408</td><td style = \"text-align: right;\">1743</td><td style = \"text-align: right;\">45293</td><td style = \"text-align: right;\">8970</td><td style = \"text-align: right;\">1530</td><td style = \"text-align: right;\">44172</td><td style = \"text-align: right;\">772351</td><td style = \"text-align: right;\">74035238</td><td style = \"text-align: right;\">177957</td><td style = \"text-align: right;\">4267</td><td style = \"text-align: right;\">2973</td><td style = \"text-align: right;\">28585852</td><td style = \"text-align: right;\">65487</td><td style = \"text-align: right;\">56</td><td style = \"text-align: right;\">359479655</td><td style = \"text-align: right;\">1590984</td></tr><tr><td class = \"rowNumber\" style = \"font-weight: bold; text-align: right;\">5</td><td style = \"text-align: left;\">2021-03-03</td><td style = \"text-align: right;\">508665</td><td style = \"text-align: right;\">2449</td><td style = \"text-align: right;\">45214</td><td style = \"text-align: right;\">9359</td><td style = \"text-align: right;\">2172</td><td style = \"text-align: right;\">45462</td><td style = \"text-align: right;\">770821</td><td style = \"text-align: right;\">73857281</td><td style = \"text-align: right;\">267001</td><td style = \"text-align: right;\">4260</td><td style = \"text-align: right;\">3094</td><td style = \"text-align: right;\">28520365</td><td style = \"text-align: right;\">66836</td><td style = \"text-align: right;\">56</td><td style = \"text-align: right;\">357888671</td><td style = \"text-align: right;\">1406795</td></tr><tr><td class = \"rowNumber\" style = \"font-weight: bold; text-align: right;\">6</td><td style = \"text-align: left;\">2021-03-02</td><td style = \"text-align: right;\">506216</td><td style = \"text-align: right;\">1728</td><td style = \"text-align: right;\">45084</td><td style = \"text-align: right;\">9465</td><td style = \"text-align: right;\">1871</td><td style = \"text-align: right;\">46388</td><td style = \"text-align: right;\">768649</td><td style = \"text-align: right;\">73590280</td><td style = \"text-align: right;\">255779</td><td style = \"text-align: right;\">4257</td><td style = \"text-align: right;\">3169</td><td style = \"text-align: right;\">28453529</td><td style = \"text-align: right;\">54248</td><td style = \"text-align: right;\">56</td><td style = \"text-align: right;\">356481876</td><td style = \"text-align: right;\">1343519</td></tr><tr><td class = \"rowNumber\" style = \"font-weight: bold; text-align: right;\">7</td><td style = \"text-align: left;\">2021-03-01</td><td style = \"text-align: right;\">504488</td><td style = \"text-align: right;\">1241</td><td style = \"text-align: right;\">44956</td><td style = \"text-align: right;\">9595</td><td style = \"text-align: right;\">1024</td><td style = \"text-align: right;\">46738</td><td style = \"text-align: right;\">766778</td><td style = \"text-align: right;\">73334501</td><td style = \"text-align: right;\">118077</td><td style = \"text-align: right;\">4252</td><td style = \"text-align: right;\">3171</td><td style = \"text-align: right;\">28399281</td><td style = \"text-align: right;\">48092</td><td style = \"text-align: right;\">56</td><td style = \"text-align: right;\">355138357</td><td style = \"text-align: right;\">1154440</td></tr><tr><td class = \"rowNumber\" style = \"font-weight: bold; text-align: right;\">8</td><td style = \"text-align: left;\">2021-02-28</td><td style = \"text-align: right;\">503247</td><td style = \"text-align: right;\">1051</td><td style = \"text-align: right;\">44907</td><td style = \"text-align: right;\">9802</td><td style = \"text-align: right;\">879</td><td style = \"text-align: right;\">47352</td><td style = \"text-align: right;\">765754</td><td style = \"text-align: right;\">73216424</td><td style = \"text-align: right;\">203599</td><td style = \"text-align: right;\">4252</td><td style = \"text-align: right;\">3245</td><td style = \"text-align: right;\">28351189</td><td style = \"text-align: right;\">54349</td><td style = \"text-align: right;\">56</td><td style = \"text-align: right;\">353983917</td><td style = \"text-align: right;\">1408422</td></tr><tr><td class = \"rowNumber\" style = \"font-weight: bold; text-align: right;\">9</td><td style = \"text-align: left;\">2021-02-27</td><td style = \"text-align: right;\">502196</td><td style = \"text-align: right;\">1847</td><td style = \"text-align: right;\">44875</td><td style = \"text-align: right;\">10114</td><td style = \"text-align: right;\">1428</td><td style = \"text-align: right;\">48871</td><td style = \"text-align: right;\">764875</td><td style = \"text-align: right;\">73012825</td><td style = \"text-align: right;\">205090</td><td style = \"text-align: right;\">4252</td><td style = \"text-align: right;\">3335</td><td style = \"text-align: right;\">28296840</td><td style = \"text-align: right;\">71245</td><td style = \"text-align: right;\">56</td><td style = \"text-align: right;\">352575495</td><td style = \"text-align: right;\">1655179</td></tr><tr><td class = \"rowNumber\" style = \"font-weight: bold; text-align: right;\">10</td><td style = \"text-align: left;\">2021-02-26</td><td style = \"text-align: right;\">500349</td><td style = \"text-align: right;\">2141</td><td style = \"text-align: right;\">44791</td><td style = \"text-align: right;\">10466</td><td style = \"text-align: right;\">1868</td><td style = \"text-align: right;\">51112</td><td style = \"text-align: right;\">763447</td><td style = \"text-align: right;\">72807735</td><td style = \"text-align: right;\">276829</td><td style = \"text-align: right;\">4247</td><td style = \"text-align: right;\">3466</td><td style = \"text-align: right;\">28225595</td><td style = \"text-align: right;\">74857</td><td style = \"text-align: right;\">56</td><td style = \"text-align: right;\">350920316</td><td style = \"text-align: right;\">1803309</td></tr><tr><td class = \"rowNumber\" style = \"font-weight: bold; text-align: right;\">11</td><td style = \"text-align: left;\">2021-02-25</td><td style = \"text-align: right;\">498208</td><td style = \"text-align: right;\">3138</td><td style = \"text-align: right;\">44636</td><td style = \"text-align: right;\">10846</td><td style = \"text-align: right;\">2047</td><td style = \"text-align: right;\">52669</td><td style = \"text-align: right;\">761579</td><td style = \"text-align: right;\">72530906</td><td style = \"text-align: right;\">272209</td><td style = \"text-align: right;\">4240</td><td style = \"text-align: right;\">3567</td><td style = \"text-align: right;\">28150738</td><td style = \"text-align: right;\">75565</td><td style = \"text-align: right;\">56</td><td style = \"text-align: right;\">349117007</td><td style = \"text-align: right;\">1826144</td></tr><tr><td class = \"rowNumber\" style = \"font-weight: bold; text-align: right;\">12</td><td style = \"text-align: left;\">2021-02-24</td><td style = \"text-align: right;\">495070</td><td style = \"text-align: right;\">2447</td><td style = \"text-align: right;\">44534</td><td style = \"text-align: right;\">11026</td><td style = \"text-align: right;\">2172</td><td style = \"text-align: right;\">54118</td><td style = \"text-align: right;\">759532</td><td style = \"text-align: right;\">72258697</td><td style = \"text-align: right;\">245318</td><td style = \"text-align: right;\">4227</td><td style = \"text-align: right;\">3685</td><td style = \"text-align: right;\">28075173</td><td style = \"text-align: right;\">73258</td><td style = \"text-align: right;\">56</td><td style = \"text-align: right;\">347290863</td><td style = \"text-align: right;\">1450666</td></tr><tr><td class = \"rowNumber\" style = \"font-weight: bold; text-align: right;\">13</td><td style = \"text-align: left;\">2021-02-23</td><td style = \"text-align: right;\">492623</td><td style = \"text-align: right;\">2241</td><td style = \"text-align: right;\">44420</td><td style = \"text-align: right;\">11272</td><td style = \"text-align: right;\">2164</td><td style = \"text-align: right;\">55058</td><td style = \"text-align: right;\">757360</td><td style = \"text-align: right;\">72013379</td><td style = \"text-align: right;\">225267</td><td style = \"text-align: right;\">4214</td><td style = \"text-align: right;\">3755</td><td style = \"text-align: right;\">28001915</td><td style = \"text-align: right;\">69105</td><td style = \"text-align: right;\">56</td><td style = \"text-align: right;\">345840197</td><td style = \"text-align: right;\">1193835</td></tr><tr><td style = \"text-align: right;\">&vellip;</td><td style = \"text-align: right;\">&vellip;</td><td style = \"text-align: right;\">&vellip;</td><td style = \"text-align: right;\">&vellip;</td><td style = \"text-align: right;\">&vellip;</td><td style = \"text-align: right;\">&vellip;</td><td style = \"text-align: right;\">&vellip;</td><td style = \"text-align: right;\">&vellip;</td><td style = \"text-align: right;\">&vellip;</td><td style = \"text-align: right;\">&vellip;</td><td style = \"text-align: right;\">&vellip;</td><td style = \"text-align: right;\">&vellip;</td><td style = \"text-align: right;\">&vellip;</td><td style = \"text-align: right;\">&vellip;</td><td style = \"text-align: right;\">&vellip;</td><td style = \"text-align: right;\">&vellip;</td><td style = \"text-align: right;\">&vellip;</td><td style = \"text-align: right;\">&vellip;</td></tr><tr><td class = \"rowNumber\" style = \"font-weight: bold; text-align: right;\">409</td><td style = \"text-align: left;\">2020-01-24</td><td style = \"text-align: right;\">missing</td><td style = \"text-align: right;\">0</td><td style = \"text-align: right;\">missing</td><td style = \"text-align: right;\">missing</td><td style = \"text-align: right;\">0</td><td style = \"text-align: right;\">missing</td><td style = \"text-align: right;\">missing</td><td style = \"text-align: right;\">missing</td><td style = \"text-align: right;\">0</td><td style = \"text-align: right;\">missing</td><td style = \"text-align: right;\">missing</td><td style = \"text-align: right;\">2</td><td style = \"text-align: right;\">0</td><td style = \"text-align: right;\">2</td><td style = \"text-align: right;\">2</td><td style = \"text-align: right;\">0</td></tr><tr><td class = \"rowNumber\" style = \"font-weight: bold; text-align: right;\">410</td><td style = \"text-align: left;\">2020-01-23</td><td style = \"text-align: right;\">missing</td><td style = \"text-align: right;\">0</td><td style = \"text-align: right;\">missing</td><td style = \"text-align: right;\">missing</td><td style = \"text-align: right;\">0</td><td style = \"text-align: right;\">missing</td><td style = \"text-align: right;\">missing</td><td style = \"text-align: right;\">missing</td><td style = \"text-align: right;\">0</td><td style = \"text-align: right;\">missing</td><td style = \"text-align: right;\">missing</td><td style = \"text-align: right;\">2</td><td style = \"text-align: right;\">0</td><td style = \"text-align: right;\">2</td><td style = \"text-align: right;\">2</td><td style = \"text-align: right;\">1</td></tr><tr><td class = \"rowNumber\" style = \"font-weight: bold; text-align: right;\">411</td><td style = \"text-align: left;\">2020-01-22</td><td style = \"text-align: right;\">missing</td><td style = \"text-align: right;\">0</td><td style = \"text-align: right;\">missing</td><td style = \"text-align: right;\">missing</td><td style = \"text-align: right;\">0</td><td style = \"text-align: right;\">missing</td><td style = \"text-align: right;\">missing</td><td style = \"text-align: right;\">missing</td><td style = \"text-align: right;\">0</td><td style = \"text-align: right;\">missing</td><td style = \"text-align: right;\">missing</td><td style = \"text-align: right;\">2</td><td style = \"text-align: right;\">0</td><td style = \"text-align: right;\">2</td><td style = \"text-align: right;\">1</td><td style = \"text-align: right;\">1</td></tr><tr><td class = \"rowNumber\" style = \"font-weight: bold; text-align: right;\">412</td><td style = \"text-align: left;\">2020-01-21</td><td style = \"text-align: right;\">missing</td><td style = \"text-align: right;\">0</td><td style = \"text-align: right;\">missing</td><td style = \"text-align: right;\">missing</td><td style = \"text-align: right;\">0</td><td style = \"text-align: right;\">missing</td><td style = \"text-align: right;\">missing</td><td style = \"text-align: right;\">missing</td><td style = \"text-align: right;\">0</td><td style = \"text-align: right;\">missing</td><td style = \"text-align: right;\">missing</td><td style = \"text-align: right;\">2</td><td style = \"text-align: right;\">1</td><td style = \"text-align: right;\">1</td><td style = \"text-align: right;\">0</td><td style = \"text-align: right;\">0</td></tr><tr><td class = \"rowNumber\" style = \"font-weight: bold; text-align: right;\">413</td><td style = \"text-align: left;\">2020-01-20</td><td style = \"text-align: right;\">missing</td><td style = \"text-align: right;\">0</td><td style = \"text-align: right;\">missing</td><td style = \"text-align: right;\">missing</td><td style = \"text-align: right;\">0</td><td style = \"text-align: right;\">missing</td><td style = \"text-align: right;\">missing</td><td style = \"text-align: right;\">missing</td><td style = \"text-align: right;\">0</td><td style = \"text-align: right;\">missing</td><td style = \"text-align: right;\">missing</td><td style = \"text-align: right;\">1</td><td style = \"text-align: right;\">0</td><td style = \"text-align: right;\">1</td><td style = \"text-align: right;\">0</td><td style = \"text-align: right;\">0</td></tr><tr><td class = \"rowNumber\" style = \"font-weight: bold; text-align: right;\">414</td><td style = \"text-align: left;\">2020-01-19</td><td style = \"text-align: right;\">missing</td><td style = \"text-align: right;\">0</td><td style = \"text-align: right;\">missing</td><td style = \"text-align: right;\">missing</td><td style = \"text-align: right;\">0</td><td style = \"text-align: right;\">missing</td><td style = \"text-align: right;\">missing</td><td style = \"text-align: right;\">missing</td><td style = \"text-align: right;\">0</td><td style = \"text-align: right;\">missing</td><td style = \"text-align: right;\">missing</td><td style = \"text-align: right;\">1</td><td style = \"text-align: right;\">1</td><td style = \"text-align: right;\">1</td><td style = \"text-align: right;\">0</td><td style = \"text-align: right;\">0</td></tr><tr><td class = \"rowNumber\" style = \"font-weight: bold; text-align: right;\">415</td><td style = \"text-align: left;\">2020-01-18</td><td style = \"text-align: right;\">missing</td><td style = \"text-align: right;\">0</td><td style = \"text-align: right;\">missing</td><td style = \"text-align: right;\">missing</td><td style = \"text-align: right;\">0</td><td style = \"text-align: right;\">missing</td><td style = \"text-align: right;\">missing</td><td style = \"text-align: right;\">missing</td><td style = \"text-align: right;\">0</td><td style = \"text-align: right;\">missing</td><td style = \"text-align: right;\">missing</td><td style = \"text-align: right;\">0</td><td style = \"text-align: right;\">0</td><td style = \"text-align: right;\">1</td><td style = \"text-align: right;\">0</td><td style = \"text-align: right;\">0</td></tr><tr><td class = \"rowNumber\" style = \"font-weight: bold; text-align: right;\">416</td><td style = \"text-align: left;\">2020-01-17</td><td style = \"text-align: right;\">missing</td><td style = \"text-align: right;\">0</td><td style = \"text-align: right;\">missing</td><td style = \"text-align: right;\">missing</td><td style = \"text-align: right;\">0</td><td style = \"text-align: right;\">missing</td><td style = \"text-align: right;\">missing</td><td style = \"text-align: right;\">missing</td><td style = \"text-align: right;\">0</td><td style = \"text-align: right;\">missing</td><td style = \"text-align: right;\">missing</td><td style = \"text-align: right;\">0</td><td style = \"text-align: right;\">0</td><td style = \"text-align: right;\">1</td><td style = \"text-align: right;\">0</td><td style = \"text-align: right;\">0</td></tr><tr><td class = \"rowNumber\" style = \"font-weight: bold; text-align: right;\">417</td><td style = \"text-align: left;\">2020-01-16</td><td style = \"text-align: right;\">missing</td><td style = \"text-align: right;\">0</td><td style = \"text-align: right;\">missing</td><td style = \"text-align: right;\">missing</td><td style = \"text-align: right;\">0</td><td style = \"text-align: right;\">missing</td><td style = \"text-align: right;\">missing</td><td style = \"text-align: right;\">missing</td><td style = \"text-align: right;\">0</td><td style = \"text-align: right;\">missing</td><td style = \"text-align: right;\">missing</td><td style = \"text-align: right;\">0</td><td style = \"text-align: right;\">0</td><td style = \"text-align: right;\">1</td><td style = \"text-align: right;\">0</td><td style = \"text-align: right;\">0</td></tr><tr><td class = \"rowNumber\" style = \"font-weight: bold; text-align: right;\">418</td><td style = \"text-align: left;\">2020-01-15</td><td style = \"text-align: right;\">missing</td><td style = \"text-align: right;\">0</td><td style = \"text-align: right;\">missing</td><td style = \"text-align: right;\">missing</td><td style = \"text-align: right;\">0</td><td style = \"text-align: right;\">missing</td><td style = \"text-align: right;\">missing</td><td style = \"text-align: right;\">missing</td><td style = \"text-align: right;\">0</td><td style = \"text-align: right;\">missing</td><td style = \"text-align: right;\">missing</td><td style = \"text-align: right;\">0</td><td style = \"text-align: right;\">0</td><td style = \"text-align: right;\">1</td><td style = \"text-align: right;\">0</td><td style = \"text-align: right;\">0</td></tr><tr><td class = \"rowNumber\" style = \"font-weight: bold; text-align: right;\">419</td><td style = \"text-align: left;\">2020-01-14</td><td style = \"text-align: right;\">missing</td><td style = \"text-align: right;\">0</td><td style = \"text-align: right;\">missing</td><td style = \"text-align: right;\">missing</td><td style = \"text-align: right;\">0</td><td style = \"text-align: right;\">missing</td><td style = \"text-align: right;\">missing</td><td style = \"text-align: right;\">missing</td><td style = \"text-align: right;\">0</td><td style = \"text-align: right;\">missing</td><td style = \"text-align: right;\">missing</td><td style = \"text-align: right;\">0</td><td style = \"text-align: right;\">0</td><td style = \"text-align: right;\">1</td><td style = \"text-align: right;\">0</td><td style = \"text-align: right;\">0</td></tr><tr><td class = \"rowNumber\" style = \"font-weight: bold; text-align: right;\">420</td><td style = \"text-align: left;\">2020-01-13</td><td style = \"text-align: right;\">missing</td><td style = \"text-align: right;\">0</td><td style = \"text-align: right;\">missing</td><td style = \"text-align: right;\">missing</td><td style = \"text-align: right;\">0</td><td style = \"text-align: right;\">missing</td><td style = \"text-align: right;\">missing</td><td style = \"text-align: right;\">missing</td><td style = \"text-align: right;\">0</td><td style = \"text-align: right;\">missing</td><td style = \"text-align: right;\">missing</td><td style = \"text-align: right;\">missing</td><td style = \"text-align: right;\">0</td><td style = \"text-align: right;\">1</td><td style = \"text-align: right;\">0</td><td style = \"text-align: right;\">0</td></tr></tbody></table></div>"
      ],
      "text/latex": [
       "\\begin{tabular}{r|ccccccc}\n",
       "\t& date & death & deathIncrease & inIcuCumulative & inIcuCurrently & hospitalizedIncrease & \\\\\n",
       "\t\\hline\n",
       "\t& Date & Int64? & Int64 & Int64? & Int64? & Int64 & \\\\\n",
       "\t\\hline\n",
       "\t1 & 2021-03-07 & 515151 & 842 & 45475 & 8134 & 726 & $\\dots$ \\\\\n",
       "\t2 & 2021-03-06 & 514309 & 1680 & 45453 & 8409 & 503 & $\\dots$ \\\\\n",
       "\t3 & 2021-03-05 & 512629 & 2221 & 45373 & 8634 & 2781 & $\\dots$ \\\\\n",
       "\t4 & 2021-03-04 & 510408 & 1743 & 45293 & 8970 & 1530 & $\\dots$ \\\\\n",
       "\t5 & 2021-03-03 & 508665 & 2449 & 45214 & 9359 & 2172 & $\\dots$ \\\\\n",
       "\t6 & 2021-03-02 & 506216 & 1728 & 45084 & 9465 & 1871 & $\\dots$ \\\\\n",
       "\t7 & 2021-03-01 & 504488 & 1241 & 44956 & 9595 & 1024 & $\\dots$ \\\\\n",
       "\t8 & 2021-02-28 & 503247 & 1051 & 44907 & 9802 & 879 & $\\dots$ \\\\\n",
       "\t9 & 2021-02-27 & 502196 & 1847 & 44875 & 10114 & 1428 & $\\dots$ \\\\\n",
       "\t10 & 2021-02-26 & 500349 & 2141 & 44791 & 10466 & 1868 & $\\dots$ \\\\\n",
       "\t11 & 2021-02-25 & 498208 & 3138 & 44636 & 10846 & 2047 & $\\dots$ \\\\\n",
       "\t12 & 2021-02-24 & 495070 & 2447 & 44534 & 11026 & 2172 & $\\dots$ \\\\\n",
       "\t13 & 2021-02-23 & 492623 & 2241 & 44420 & 11272 & 2164 & $\\dots$ \\\\\n",
       "\t14 & 2021-02-22 & 490382 & 1235 & 44266 & 11536 & 1305 & $\\dots$ \\\\\n",
       "\t15 & 2021-02-21 & 489147 & 1287 & 44216 & 11862 & 997 & $\\dots$ \\\\\n",
       "\t16 & 2021-02-20 & 487860 & 2160 & 44166 & 12120 & 1732 & $\\dots$ \\\\\n",
       "\t17 & 2021-02-19 & 485700 & 2477 & 44085 & 12491 & 2674 & $\\dots$ \\\\\n",
       "\t18 & 2021-02-18 & 483223 & 2616 & 43964 & 13036 & 2497 & $\\dots$ \\\\\n",
       "\t19 & 2021-02-17 & 480607 & 2348 & 43823 & 13094 & 2857 & $\\dots$ \\\\\n",
       "\t20 & 2021-02-16 & 478259 & 1353 & 43673 & 13607 & 2094 & $\\dots$ \\\\\n",
       "\t21 & 2021-02-15 & 476906 & 1078 & 43553 & 13790 & 1130 & $\\dots$ \\\\\n",
       "\t22 & 2021-02-14 & 475828 & 1366 & 43516 & 14038 & 1236 & $\\dots$ \\\\\n",
       "\t23 & 2021-02-13 & 474462 & 3467 & 43463 & 14387 & 1805 & $\\dots$ \\\\\n",
       "\t24 & 2021-02-12 & 470995 & 5427 & 43389 & 14766 & 2347 & $\\dots$ \\\\\n",
       "\t25 & 2021-02-11 & 465568 & 3873 & 43291 & 15181 & 2460 & $\\dots$ \\\\\n",
       "\t26 & 2021-02-10 & 461695 & 3445 & 43184 & 15788 & 3226 & $\\dots$ \\\\\n",
       "\t27 & 2021-02-09 & 458250 & 2795 & 43000 & 16129 & 3144 & $\\dots$ \\\\\n",
       "\t28 & 2021-02-08 & 455455 & 1309 & 42833 & 16174 & 1638 & $\\dots$ \\\\\n",
       "\t29 & 2021-02-07 & 454146 & 1475 & 42779 & 16616 & 1543 & $\\dots$ \\\\\n",
       "\t30 & 2021-02-06 & 452671 & 2994 & 42730 & 17093 & 2443 & $\\dots$ \\\\\n",
       "\t$\\dots$ & $\\dots$ & $\\dots$ & $\\dots$ & $\\dots$ & $\\dots$ & $\\dots$ &  \\\\\n",
       "\\end{tabular}\n"
      ],
      "text/plain": [
       "\u001b[1m420×17 DataFrame\u001b[0m\n",
       "\u001b[1m Row \u001b[0m│\u001b[1m date       \u001b[0m\u001b[1m death   \u001b[0m\u001b[1m deathIncrease \u001b[0m\u001b[1m inIcuCumulative \u001b[0m\u001b[1m inIcuCurrently \u001b[0m\u001b[1m ho\u001b[0m ⋯\n",
       "     │\u001b[90m Date       \u001b[0m\u001b[90m Int64?  \u001b[0m\u001b[90m Int64         \u001b[0m\u001b[90m Int64?          \u001b[0m\u001b[90m Int64?         \u001b[0m\u001b[90m In\u001b[0m ⋯\n",
       "─────┼──────────────────────────────────────────────────────────────────────────\n",
       "   1 │ 2021-03-07   515151            842            45475            8134     ⋯\n",
       "   2 │ 2021-03-06   514309           1680            45453            8409\n",
       "   3 │ 2021-03-05   512629           2221            45373            8634\n",
       "   4 │ 2021-03-04   510408           1743            45293            8970\n",
       "   5 │ 2021-03-03   508665           2449            45214            9359     ⋯\n",
       "   6 │ 2021-03-02   506216           1728            45084            9465\n",
       "   7 │ 2021-03-01   504488           1241            44956            9595\n",
       "   8 │ 2021-02-28   503247           1051            44907            9802\n",
       "   9 │ 2021-02-27   502196           1847            44875           10114     ⋯\n",
       "  10 │ 2021-02-26   500349           2141            44791           10466\n",
       "  11 │ 2021-02-25   498208           3138            44636           10846\n",
       "  ⋮  │     ⋮          ⋮           ⋮               ⋮               ⋮            ⋱\n",
       " 411 │ 2020-01-22 \u001b[90m missing \u001b[0m             0 \u001b[90m         missing \u001b[0m\u001b[90m        missing \u001b[0m\n",
       " 412 │ 2020-01-21 \u001b[90m missing \u001b[0m             0 \u001b[90m         missing \u001b[0m\u001b[90m        missing \u001b[0m    ⋯\n",
       " 413 │ 2020-01-20 \u001b[90m missing \u001b[0m             0 \u001b[90m         missing \u001b[0m\u001b[90m        missing \u001b[0m\n",
       " 414 │ 2020-01-19 \u001b[90m missing \u001b[0m             0 \u001b[90m         missing \u001b[0m\u001b[90m        missing \u001b[0m\n",
       " 415 │ 2020-01-18 \u001b[90m missing \u001b[0m             0 \u001b[90m         missing \u001b[0m\u001b[90m        missing \u001b[0m\n",
       " 416 │ 2020-01-17 \u001b[90m missing \u001b[0m             0 \u001b[90m         missing \u001b[0m\u001b[90m        missing \u001b[0m    ⋯\n",
       " 417 │ 2020-01-16 \u001b[90m missing \u001b[0m             0 \u001b[90m         missing \u001b[0m\u001b[90m        missing \u001b[0m\n",
       " 418 │ 2020-01-15 \u001b[90m missing \u001b[0m             0 \u001b[90m         missing \u001b[0m\u001b[90m        missing \u001b[0m\n",
       " 419 │ 2020-01-14 \u001b[90m missing \u001b[0m             0 \u001b[90m         missing \u001b[0m\u001b[90m        missing \u001b[0m\n",
       " 420 │ 2020-01-13 \u001b[90m missing \u001b[0m             0 \u001b[90m         missing \u001b[0m\u001b[90m        missing \u001b[0m    ⋯\n",
       "\u001b[36m                                                 12 columns and 399 rows omitted\u001b[0m"
      ]
     },
     "execution_count": 51,
     "metadata": {},
     "output_type": "execute_result"
    }
   ],
   "source": [
    "using DataFrames\n",
    "#recovered_data = CSV.read(\"covid_recovered_data.csv\", DataFrame)\n",
    "#death_data = CSV.read(\"covid_death_data.csv\", DataFrame)\n",
    "#confirmed_data = CSV.read(\"covid_confirmed_data.csv\", DataFrame)\n",
    "#california_data = CSV.read(\"covid_california_data.csv\", DataFrame)\n",
    "usa_national_data = CSV.read(\"covid_usa_national_data.csv\", DataFrame)"
   ]
  },
  {
   "cell_type": "markdown",
   "id": "c9a42fbd-da21-41ef-8edc-823680ec4c4e",
   "metadata": {},
   "source": [
    "**Building the SIR model of the Pandemic**\n",
    "\n",
    "Variables for Model 1\n",
    "\n",
    "$t$ = the time in days with t=0 at the start of observation\n",
    "\n",
    "$S$ = the number of susceptible individuals\n",
    "\n",
    "$I$ = the number of infectious individual\n",
    "\n",
    "$R$ = the number of removed individuals\n",
    "\n",
    "These variables keep track of the number of individuals in each of the compartment. \n",
    "Time t is the independent variable; and $S$, $I$, and $R$ are dependent on time, they are functions of time, but they are not\n",
    "functions given by explicit formulas such as $y = x^3$. Although we will be able to compute $S = S[t]$, there wouldn't be\n",
    "an explicit formula for $S$ in terms of $t$.\n",
    "\n",
    "**Derivation of the Equations of Change**\n",
    "\n",
    "Now we want to add a mathematical description of the way individuals move among the susceptible, infectious, and removed compartments. \n",
    "This will add two parameters to our model, $a$ and $b$, that are specific to a particular $S$-$I$-$R$ disease.\n",
    "\n",
    "Parameters are letters that have a fixed value during the entire problem but can change from one problem to the next. \n",
    "\n",
    "We begin with the simplest change - how one recovers.\n",
    "\n",
    "A person with COVID-19 is infectious for about $x$ number of days, to either be moved away from infectious state, to recovered, or died during.\n",
    "\n",
    "So, the number of people added to the removed compartment tomorrow is $\\frac{1}{x}$th of the infectious compartment today.\n",
    "\n",
    "New people in $R$-compartment tomorrow = $\\frac{1}{x}I$\n",
    "\n",
    "A general disease, from which one recovers and gains immunity, has the day's change in the recovered compartment given by,\n",
    "\n",
    "New people in $R$-compartment tomorrow =$b I$\n",
    "\n",
    "where the parameter $b$ controls how quickly people recover, or $\\frac{1}{b}$ is the number of days one stays in the infectious compatment.\n",
    "\n",
    "For COVID-19, $b=\\frac{1}{x}$\n",
    "\n",
    "Notice that the units of the right side fo the above equation for the day's change in $R$ are \"number of people per day.\"\n",
    "\n",
    "The next change is how one spreads the disease. If one is infectious with COVID-19, and one sit through a whole class next to a person\n",
    "who is susceptible, then one will probably spread the disease to that person. If one sit through class next to an immune person, one will not spread the disease. \n",
    "\n",
    "$c$ = the average number of contacts per infective during the whole infectious period\n",
    "\n",
    "The parameter $c$ is the average total number of \"close\" contacts per infective. We want a parameter that describes the contagiousness. The paramter. $c$ is a combined measure of the level of mixing in the population and the contagiousness of the disease. The proble is:\n",
    "How do we measure $c$? Later we will see that $c$ can be measured indirectly with the help of calculus.\n",
    "\n",
    "The number of contacts per infective each day is given by $a = c \\cdot b$, because $b$ equals 1/(the number of days infectious).\n",
    "This means that if $I$ people are infectious on a particular day,\n",
    "\n",
    "$a \\cdot I$ = the total number of adequate contacts per day\n",
    "\n",
    "Only the contacts with susceptable people result in a new case of the disease, so we multiply this total times the fraction of \n",
    "susceptible people. Our final parameter, $n$, is the fixed total population. This makes the number of new cases of the disease,\n",
    "\n",
    "new cases tomorrow = $a \\frac{S}{n} I$\n",
    "\n",
    "where $n$ =the fixed size of the population\n",
    "\n",
    "**Parameters of the S-I-R Model**\n",
    "\n",
    "$b = \\frac{1}{x}$ (x: the average number of days infectious)\n",
    "\n",
    "$c$ = the average total number of contacts per infectious person\n",
    "\n",
    "$a = b \\cdot c$ the daily rate of contacts per infective\n",
    "\n",
    "$n$ = the total number of people in the population\n",
    "\n",
    "Units of $a, b, c$:\n",
    "\n",
    "$c$ in average number of close contacts per infective\n",
    "\n",
    "$b$ in $\\frac{1}{days} $ or $\\frac{1}{b}$ = number of days infective\n",
    "\n",
    "$a$ in $\\frac{number (of adequate contacts)}{number(infectives) \\times days (infectious)}$\n",
    "\n",
    "Fig. 2.2 Compartements with Parameters\n",
    "\n",
    "$[S] ^a \\rightarrow [I] ^b \\rightarrow [R] $\n",
    "\n",
    "\n",
    "**The First Equations of Change**\n",
    "  \n",
    "  tomorrow's increase in $S = - a\\frac{S}{n} I$\n",
    "  \n",
    "  tomorrow's increase in $I = a\\frac{S}{n} I - b I$\n",
    "  \n",
    "  tomorrow's increase in $R = bI$"
   ]
  },
  {
   "cell_type": "markdown",
   "id": "577dbd7f-6cb6-4942-b85f-ebcfd86f3b89",
   "metadata": {},
   "source": [
    "MIT Open Courseware - Introduction to Modeling"
   ]
  },
  {
   "cell_type": "code",
   "execution_count": 1,
   "id": "83f00a43-5c0b-415d-b3e8-df5190547c9e",
   "metadata": {
    "tags": []
   },
   "outputs": [
    {
     "data": {
      "text/plain": [
       "11-element Vector{Float64}:\n",
       " 10.0\n",
       " 12.0\n",
       " 14.399999999999999\n",
       " 17.279999999999998\n",
       " 20.735999999999997\n",
       " 24.883199999999995\n",
       " 29.85983999999999\n",
       " 35.83180799999999\n",
       " 42.99816959999998\n",
       " 51.59780351999998\n",
       " 61.91736422399997"
      ]
     },
     "execution_count": 1,
     "metadata": {},
     "output_type": "execute_result"
    }
   ],
   "source": [
    "\"\"\"\n",
    "Simulate growth with rate λ, initial value x0 and time N\n",
    "\"\"\"\n",
    "\n",
    "function growth(λ, x0, N)\n",
    "    x = zeros(N+1)\n",
    "    x[1] = x0\n",
    "    \n",
    "    for n in 1:N\n",
    "        x[n+1] = λ * x[n]\n",
    "    end\n",
    "    \n",
    "    return x\n",
    "end\n",
    "\n",
    "growth(1.2, 10.0, 10)"
   ]
  },
  {
   "cell_type": "code",
   "execution_count": 2,
   "id": "1e12914c-003b-47ca-8db2-c94c920b259d",
   "metadata": {
    "tags": []
   },
   "outputs": [
    {
     "data": {
      "text/plain": [
       "11-element Vector{Float64}:\n",
       "    10.0\n",
       "    20.0\n",
       "    40.0\n",
       "    80.0\n",
       "   160.0\n",
       "   320.0\n",
       "   640.0\n",
       "  1280.0\n",
       "  2560.0\n",
       "  5120.0\n",
       " 10240.0"
      ]
     },
     "execution_count": 2,
     "metadata": {},
     "output_type": "execute_result"
    }
   ],
   "source": [
    "growth(2.0, 10.0, 10)"
   ]
  },
  {
   "cell_type": "code",
   "execution_count": 3,
   "id": "b563a9ea-9f1c-419a-aebf-cef0bb270549",
   "metadata": {
    "tags": []
   },
   "outputs": [
    {
     "data": {
      "text/plain": [
       "growth (generic function with 2 methods)"
      ]
     },
     "execution_count": 3,
     "metadata": {},
     "output_type": "execute_result"
    }
   ],
   "source": [
    "growth(; λ = 1.1, x0 = 20.0, N=10) = growth(λ, x0, N)"
   ]
  },
  {
   "cell_type": "code",
   "execution_count": 4,
   "id": "8ff8d462-4cef-42af-b21d-6848e029bbae",
   "metadata": {
    "tags": []
   },
   "outputs": [
    {
     "data": {
      "text/plain": [
       "21-element Vector{Float64}:\n",
       "  20.0\n",
       "  22.0\n",
       "  24.200000000000003\n",
       "  26.620000000000005\n",
       "  29.282000000000007\n",
       "  32.21020000000001\n",
       "  35.43122000000001\n",
       "  38.974342000000014\n",
       "  42.87177620000002\n",
       "  47.15895382000003\n",
       "  51.874849202000036\n",
       "  57.06233412220004\n",
       "  62.76856753442005\n",
       "  69.04542428786206\n",
       "  75.94996671664828\n",
       "  83.5449633883131\n",
       "  91.89945972714443\n",
       " 101.08940569985889\n",
       " 111.19834626984479\n",
       " 122.31818089682928\n",
       " 134.5499989865122"
      ]
     },
     "execution_count": 4,
     "metadata": {},
     "output_type": "execute_result"
    }
   ],
   "source": [
    "growth(N=20)"
   ]
  },
  {
   "cell_type": "code",
   "execution_count": 5,
   "id": "a720bd3b-2155-4678-9403-d159b7241f5a",
   "metadata": {
    "tags": []
   },
   "outputs": [
    {
     "data": {
      "text/plain": [
       "21-element Vector{Float64}:\n",
       " 10.0\n",
       " 11.0\n",
       " 12.100000000000001\n",
       " 13.310000000000002\n",
       " 14.641000000000004\n",
       " 16.105100000000004\n",
       " 17.715610000000005\n",
       " 19.487171000000007\n",
       " 21.43588810000001\n",
       " 23.579476910000015\n",
       " 25.937424601000018\n",
       " 28.53116706110002\n",
       " 31.384283767210025\n",
       " 34.52271214393103\n",
       " 37.97498335832414\n",
       " 41.77248169415655\n",
       " 45.949729863572216\n",
       " 50.54470284992944\n",
       " 55.599173134922395\n",
       " 61.15909044841464\n",
       " 67.2749994932561"
      ]
     },
     "execution_count": 5,
     "metadata": {},
     "output_type": "execute_result"
    }
   ],
   "source": [
    "growth(N=20, x0=10)"
   ]
  },
  {
   "cell_type": "code",
   "execution_count": 6,
   "id": "e92ab022-7732-4a74-adf1-03bf35329701",
   "metadata": {
    "tags": []
   },
   "outputs": [
    {
     "data": {
      "text/html": [
       "# 2 methods for generic function <b>growth</b> from \u001b[35mMain\u001b[39m:<ul><li> growth(; <i>λ, x0, N</i>) in Main at In[3]:1</li> <li> growth(λ, x0, N) in Main at In[1]:5</li> </ul>"
      ],
      "text/plain": [
       "# 2 methods for generic function \"growth\" from \u001b[35mMain\u001b[39m:\n",
       " [1] growth(; λ, x0, N)\n",
       "\u001b[90m     @\u001b[39m \u001b[90m\u001b[4mIn[3]:1\u001b[24m\u001b[39m\n",
       " [2] growth(\u001b[90mλ\u001b[39m, \u001b[90mx0\u001b[39m, \u001b[90mN\u001b[39m)\n",
       "\u001b[90m     @\u001b[39m \u001b[90m\u001b[4mIn[1]:5\u001b[24m\u001b[39m"
      ]
     },
     "execution_count": 6,
     "metadata": {},
     "output_type": "execute_result"
    }
   ],
   "source": [
    "methods(growth)"
   ]
  },
  {
   "cell_type": "code",
   "execution_count": 10,
   "id": "80c92b80-6a85-4ab6-aa2a-9361406da33c",
   "metadata": {
    "tags": []
   },
   "outputs": [
    {
     "name": "stderr",
     "output_type": "stream",
     "text": [
      "\u001b[32m\u001b[1m   Resolving\u001b[22m\u001b[39m package versions...\n",
      "\u001b[32m\u001b[1m  No Changes\u001b[22m\u001b[39m to `~/.julia/environments/v1.9/Project.toml`\n",
      "\u001b[32m\u001b[1m  No Changes\u001b[22m\u001b[39m to `~/.julia/environments/v1.9/Manifest.toml`\n"
     ]
    }
   ],
   "source": [
    "using Pkg\n",
    "Pkg.add(\"Interact\")"
   ]
  },
  {
   "cell_type": "code",
   "execution_count": 12,
   "id": "b694fe68-f956-4958-8cdd-4d7b569f0dca",
   "metadata": {
    "tags": []
   },
   "outputs": [
    {
     "data": {
      "application/vnd.webio.node+json": {
       "children": [],
       "instanceArgs": {
        "namespace": "html",
        "tag": "div"
       },
       "nodeType": "DOM",
       "props": {},
       "type": "node"
      },
      "text/html": [
       "<div style=\"padding: 1em; background-color: #f8d6da; border: 1px solid #f5c6cb; font-weight: bold;\">\n",
       "<p>The WebIO Jupyter extension was not detected. See the\n",
       "<a href=\"https://juliagizmos.github.io/WebIO.jl/latest/providers/ijulia/\" target=\"_blank\">\n",
       "    WebIO Jupyter integration documentation\n",
       "</a>\n",
       "for more information.\n",
       "</div>\n"
      ],
      "text/plain": [
       "WebIO._IJuliaInit()"
      ]
     },
     "metadata": {
      "@webio": {
       "kernelId": "ecfa0009-eb11-440f-a4c5-d330810b6a01"
      }
     },
     "output_type": "display_data"
    },
    {
     "data": {
      "application/vnd.webio.node+json": {
       "children": [
        {
         "children": [
          {
           "children": [
            {
             "children": [
              {
               "children": [
                {
                 "children": [
                  "i"
                 ],
                 "instanceArgs": {
                  "namespace": "html",
                  "tag": "label"
                 },
                 "nodeType": "DOM",
                 "props": {
                  "className": "interact ",
                  "style": {
                   "padding": "5px 10px 0px 10px"
                  }
                 },
                 "type": "node"
                }
               ],
               "instanceArgs": {
                "namespace": "html",
                "tag": "div"
               },
               "nodeType": "DOM",
               "props": {
                "className": "interact-flex-row-left"
               },
               "type": "node"
              },
              {
               "children": [
                {
                 "children": [],
                 "instanceArgs": {
                  "namespace": "html",
                  "tag": "input"
                 },
                 "nodeType": "DOM",
                 "props": {
                  "attributes": {
                   "data-bind": "numericValue: index, valueUpdate: 'input', event: {change: function (){this.changes(this.changes()+1)}}",
                   "orient": "horizontal",
                   "type": "range"
                  },
                  "className": "slider slider is-fullwidth",
                  "max": 10,
                  "min": 1,
                  "step": 1,
                  "style": {}
                 },
                 "type": "node"
                }
               ],
               "instanceArgs": {
                "namespace": "html",
                "tag": "div"
               },
               "nodeType": "DOM",
               "props": {
                "className": "interact-flex-row-center"
               },
               "type": "node"
              },
              {
               "children": [
                {
                 "children": [],
                 "instanceArgs": {
                  "namespace": "html",
                  "tag": "p"
                 },
                 "nodeType": "DOM",
                 "props": {
                  "attributes": {
                   "data-bind": "text: formatted_val"
                  }
                 },
                 "type": "node"
                }
               ],
               "instanceArgs": {
                "namespace": "html",
                "tag": "div"
               },
               "nodeType": "DOM",
               "props": {
                "className": "interact-flex-row-right"
               },
               "type": "node"
              }
             ],
             "instanceArgs": {
              "namespace": "html",
              "tag": "div"
             },
             "nodeType": "DOM",
             "props": {
              "className": "interact-flex-row interact-widget"
             },
             "type": "node"
            }
           ],
           "instanceArgs": {
            "handlers": {
             "changes": [
              "(function (val){return (val!=this.model[\"changes\"]()) ? (this.valueFromJulia[\"changes\"]=true, this.model[\"changes\"](val)) : undefined})"
             ],
             "index": [
              "(function (val){return (val!=this.model[\"index\"]()) ? (this.valueFromJulia[\"index\"]=true, this.model[\"index\"](val)) : undefined})"
             ]
            },
            "id": "12322574061452683887",
            "imports": {
             "data": [
              {
               "name": "knockout",
               "type": "js",
               "url": "/assetserver/27558575459cae9bfc5ad498e3f26f05a87626f1-knockout.js"
              },
              {
               "name": "knockout_punches",
               "type": "js",
               "url": "/assetserver/1193612e08267f438b20451825dc83859edf0198-knockout_punches.js"
              },
              {
               "name": null,
               "type": "js",
               "url": "/assetserver/03be2ce56148ee5ff5290d6d530bbef2d3bb2aa1-all.js"
              },
              {
               "name": null,
               "type": "css",
               "url": "/assetserver/21c24f379814b7eb386ad6b83e5b63e418239198-style.css"
              },
              {
               "name": null,
               "type": "css",
               "url": "/assetserver/80e54b8d854214ee94b129fee392df24c194438f-bulma_confined.min.css"
              }
             ],
             "type": "async_block"
            },
            "mount_callbacks": [
             "function () {\n    var handler = (function (ko, koPunches) {\n    ko.punches.enableAll();\n    ko.bindingHandlers.numericValue = {\n        init: function(element, valueAccessor, allBindings, data, context) {\n            var stringified = ko.observable(ko.unwrap(valueAccessor()));\n            stringified.subscribe(function(value) {\n                var val = parseFloat(value);\n                if (!isNaN(val)) {\n                    valueAccessor()(val);\n                }\n            });\n            valueAccessor().subscribe(function(value) {\n                var str = JSON.stringify(value);\n                if ((str == \"0\") && ([\"-0\", \"-0.\"].indexOf(stringified()) >= 0))\n                     return;\n                 if ([\"null\", \"\"].indexOf(str) >= 0)\n                     return;\n                stringified(str);\n            });\n            ko.applyBindingsToNode(\n                element,\n                {\n                    value: stringified,\n                    valueUpdate: allBindings.get('valueUpdate'),\n                },\n                context,\n            );\n        }\n    };\n    var json_data = {\"formatted_vals\":[\"1\",\"2\",\"3\",\"4\",\"5\",\"6\",\"7\",\"8\",\"9\",\"10\"],\"changes\":WebIO.getval({\"name\":\"changes\",\"scope\":\"12322574061452683887\",\"id\":\"2\",\"type\":\"observable\"}),\"index\":WebIO.getval({\"name\":\"index\",\"scope\":\"12322574061452683887\",\"id\":\"1\",\"type\":\"observable\"})};\n    var self = this;\n    function AppViewModel() {\n        for (var key in json_data) {\n            var el = json_data[key];\n            this[key] = Array.isArray(el) ? ko.observableArray(el) : ko.observable(el);\n        }\n        \n        [this[\"formatted_val\"]=ko.computed(    function(){\n        return this.formatted_vals()[parseInt(this.index())-(1)];\n    }\n,this)]\n        [this[\"changes\"].subscribe((function (val){!(this.valueFromJulia[\"changes\"]) ? (WebIO.setval({\"name\":\"changes\",\"scope\":\"12322574061452683887\",\"id\":\"2\",\"type\":\"observable\"},val)) : undefined; return this.valueFromJulia[\"changes\"]=false}),self),this[\"index\"].subscribe((function (val){!(this.valueFromJulia[\"index\"]) ? (WebIO.setval({\"name\":\"index\",\"scope\":\"12322574061452683887\",\"id\":\"1\",\"type\":\"observable\"},val)) : undefined; return this.valueFromJulia[\"index\"]=false}),self)]\n        \n    }\n    self.model = new AppViewModel();\n    self.valueFromJulia = {};\n    for (var key in json_data) {\n        self.valueFromJulia[key] = false;\n    }\n    ko.applyBindings(self.model, self.dom);\n}\n);\n    (WebIO.importBlock({\"data\":[{\"name\":\"knockout\",\"type\":\"js\",\"url\":\"/assetserver/27558575459cae9bfc5ad498e3f26f05a87626f1-knockout.js\"},{\"name\":\"knockout_punches\",\"type\":\"js\",\"url\":\"/assetserver/1193612e08267f438b20451825dc83859edf0198-knockout_punches.js\"}],\"type\":\"async_block\"})).then((imports) => handler.apply(this, imports));\n}\n"
            ],
            "observables": {
             "changes": {
              "id": "2",
              "sync": false,
              "value": 0
             },
             "index": {
              "id": "1",
              "sync": true,
              "value": 5
             }
            },
            "systemjs_options": null
           },
           "nodeType": "Scope",
           "props": {},
           "type": "node"
          }
         ],
         "instanceArgs": {
          "namespace": "html",
          "tag": "div"
         },
         "nodeType": "DOM",
         "props": {
          "className": "field interact-widget"
         },
         "type": "node"
        },
        {
         "children": [
          {
           "children": [],
           "instanceArgs": {
            "id": "8",
            "name": "obs-node"
           },
           "nodeType": "ObservableNode",
           "props": {},
           "type": "node"
          }
         ],
         "instanceArgs": {
          "handlers": {},
          "id": "6150997892949363137",
          "imports": {
           "data": [],
           "type": "async_block"
          },
          "mount_callbacks": [],
          "observables": {
           "obs-node": {
            "id": "8",
            "sync": false,
            "value": {
             "children": [
              {
               "children": [],
               "instanceArgs": {
                "namespace": "html",
                "tag": "div"
               },
               "nodeType": "DOM",
               "props": {
                "setInnerHtml": "<pre>25</pre>"
               },
               "type": "node"
              }
             ],
             "instanceArgs": {
              "namespace": "html",
              "tag": "div"
             },
             "nodeType": "DOM",
             "props": {
              "className": "interact-flex-row interact-widget"
             },
             "type": "node"
            }
           }
          },
          "systemjs_options": null
         },
         "nodeType": "Scope",
         "props": {},
         "type": "node"
        }
       ],
       "instanceArgs": {
        "namespace": "html",
        "tag": "div"
       },
       "nodeType": "DOM",
       "props": {},
       "type": "node"
      },
      "text/html": [
       "<div\n",
       "    class=\"webio-mountpoint\"\n",
       "    data-webio-mountpoint=\"7829233078931997149\"\n",
       ">\n",
       "    <script>\n",
       "    (function(){\n",
       "    // Some integrations (namely, IJulia/Jupyter) use an alternate render pathway than\n",
       "    // just putting the html on the page. If WebIO isn't defined, then it's pretty likely\n",
       "    // that we're in one of those situations and the integration just isn't installed\n",
       "    // correctly.\n",
       "    if (typeof window.WebIO === \"undefined\") {\n",
       "        document\n",
       "            .querySelector('[data-webio-mountpoint=\"7829233078931997149\"]')\n",
       "            .innerHTML = (\n",
       "                '<div style=\"padding: 1em; background-color: #f8d6da; border: 1px solid #f5c6cb; font-weight: bold;\">' +\n",
       "                '<p><strong>WebIO not detected.</strong></p>' +\n",
       "                '<p>Please read ' +\n",
       "                '<a href=\"https://juliagizmos.github.io/WebIO.jl/latest/troubleshooting/not-detected/\" target=\"_blank\">the troubleshooting guide</a> ' +\n",
       "                'for more information on how to resolve this issue.</p>' +\n",
       "                '<p><a href=\"https://juliagizmos.github.io/WebIO.jl/latest/troubleshooting/not-detected/\" target=\"_blank\">https://juliagizmos.github.io/WebIO.jl/latest/troubleshooting/not-detected/</a></p>' +\n",
       "                '</div>'\n",
       "            );\n",
       "        return;\n",
       "    }\n",
       "    WebIO.mount(\n",
       "        document.querySelector('[data-webio-mountpoint=\"7829233078931997149\"]'),\n",
       "        {\"props\":{},\"nodeType\":\"DOM\",\"type\":\"node\",\"instanceArgs\":{\"namespace\":\"html\",\"tag\":\"div\"},\"children\":[{\"props\":{\"className\":\"field interact-widget\"},\"nodeType\":\"DOM\",\"type\":\"node\",\"instanceArgs\":{\"namespace\":\"html\",\"tag\":\"div\"},\"children\":[{\"props\":{},\"nodeType\":\"Scope\",\"type\":\"node\",\"instanceArgs\":{\"imports\":{\"data\":[{\"name\":\"knockout\",\"type\":\"js\",\"url\":\"\\/assetserver\\/27558575459cae9bfc5ad498e3f26f05a87626f1-knockout.js\"},{\"name\":\"knockout_punches\",\"type\":\"js\",\"url\":\"\\/assetserver\\/1193612e08267f438b20451825dc83859edf0198-knockout_punches.js\"},{\"name\":null,\"type\":\"js\",\"url\":\"\\/assetserver\\/03be2ce56148ee5ff5290d6d530bbef2d3bb2aa1-all.js\"},{\"name\":null,\"type\":\"css\",\"url\":\"\\/assetserver\\/21c24f379814b7eb386ad6b83e5b63e418239198-style.css\"},{\"name\":null,\"type\":\"css\",\"url\":\"\\/assetserver\\/80e54b8d854214ee94b129fee392df24c194438f-bulma_confined.min.css\"}],\"type\":\"async_block\"},\"id\":\"12322574061452683887\",\"handlers\":{\"changes\":[\"(function (val){return (val!=this.model[\\\"changes\\\"]()) ? (this.valueFromJulia[\\\"changes\\\"]=true, this.model[\\\"changes\\\"](val)) : undefined})\"],\"index\":[\"(function (val){return (val!=this.model[\\\"index\\\"]()) ? (this.valueFromJulia[\\\"index\\\"]=true, this.model[\\\"index\\\"](val)) : undefined})\"]},\"systemjs_options\":null,\"mount_callbacks\":[\"function () {\\n    var handler = (function (ko, koPunches) {\\n    ko.punches.enableAll();\\n    ko.bindingHandlers.numericValue = {\\n        init: function(element, valueAccessor, allBindings, data, context) {\\n            var stringified = ko.observable(ko.unwrap(valueAccessor()));\\n            stringified.subscribe(function(value) {\\n                var val = parseFloat(value);\\n                if (!isNaN(val)) {\\n                    valueAccessor()(val);\\n                }\\n            });\\n            valueAccessor().subscribe(function(value) {\\n                var str = JSON.stringify(value);\\n                if ((str == \\\"0\\\") && ([\\\"-0\\\", \\\"-0.\\\"].indexOf(stringified()) >= 0))\\n                     return;\\n                 if ([\\\"null\\\", \\\"\\\"].indexOf(str) >= 0)\\n                     return;\\n                stringified(str);\\n            });\\n            ko.applyBindingsToNode(\\n                element,\\n                {\\n                    value: stringified,\\n                    valueUpdate: allBindings.get('valueUpdate'),\\n                },\\n                context,\\n            );\\n        }\\n    };\\n    var json_data = {\\\"formatted_vals\\\":[\\\"1\\\",\\\"2\\\",\\\"3\\\",\\\"4\\\",\\\"5\\\",\\\"6\\\",\\\"7\\\",\\\"8\\\",\\\"9\\\",\\\"10\\\"],\\\"changes\\\":WebIO.getval({\\\"name\\\":\\\"changes\\\",\\\"scope\\\":\\\"12322574061452683887\\\",\\\"id\\\":\\\"2\\\",\\\"type\\\":\\\"observable\\\"}),\\\"index\\\":WebIO.getval({\\\"name\\\":\\\"index\\\",\\\"scope\\\":\\\"12322574061452683887\\\",\\\"id\\\":\\\"1\\\",\\\"type\\\":\\\"observable\\\"})};\\n    var self = this;\\n    function AppViewModel() {\\n        for (var key in json_data) {\\n            var el = json_data[key];\\n            this[key] = Array.isArray(el) ? ko.observableArray(el) : ko.observable(el);\\n        }\\n        \\n        [this[\\\"formatted_val\\\"]=ko.computed(    function(){\\n        return this.formatted_vals()[parseInt(this.index())-(1)];\\n    }\\n,this)]\\n        [this[\\\"changes\\\"].subscribe((function (val){!(this.valueFromJulia[\\\"changes\\\"]) ? (WebIO.setval({\\\"name\\\":\\\"changes\\\",\\\"scope\\\":\\\"12322574061452683887\\\",\\\"id\\\":\\\"2\\\",\\\"type\\\":\\\"observable\\\"},val)) : undefined; return this.valueFromJulia[\\\"changes\\\"]=false}),self),this[\\\"index\\\"].subscribe((function (val){!(this.valueFromJulia[\\\"index\\\"]) ? (WebIO.setval({\\\"name\\\":\\\"index\\\",\\\"scope\\\":\\\"12322574061452683887\\\",\\\"id\\\":\\\"1\\\",\\\"type\\\":\\\"observable\\\"},val)) : undefined; return this.valueFromJulia[\\\"index\\\"]=false}),self)]\\n        \\n    }\\n    self.model = new AppViewModel();\\n    self.valueFromJulia = {};\\n    for (var key in json_data) {\\n        self.valueFromJulia[key] = false;\\n    }\\n    ko.applyBindings(self.model, self.dom);\\n}\\n);\\n    (WebIO.importBlock({\\\"data\\\":[{\\\"name\\\":\\\"knockout\\\",\\\"type\\\":\\\"js\\\",\\\"url\\\":\\\"\\/assetserver\\/27558575459cae9bfc5ad498e3f26f05a87626f1-knockout.js\\\"},{\\\"name\\\":\\\"knockout_punches\\\",\\\"type\\\":\\\"js\\\",\\\"url\\\":\\\"\\/assetserver\\/1193612e08267f438b20451825dc83859edf0198-knockout_punches.js\\\"}],\\\"type\\\":\\\"async_block\\\"})).then((imports) => handler.apply(this, imports));\\n}\\n\"],\"observables\":{\"changes\":{\"sync\":false,\"id\":\"2\",\"value\":0},\"index\":{\"sync\":true,\"id\":\"1\",\"value\":5}}},\"children\":[{\"props\":{\"className\":\"interact-flex-row interact-widget\"},\"nodeType\":\"DOM\",\"type\":\"node\",\"instanceArgs\":{\"namespace\":\"html\",\"tag\":\"div\"},\"children\":[{\"props\":{\"className\":\"interact-flex-row-left\"},\"nodeType\":\"DOM\",\"type\":\"node\",\"instanceArgs\":{\"namespace\":\"html\",\"tag\":\"div\"},\"children\":[{\"props\":{\"className\":\"interact \",\"style\":{\"padding\":\"5px 10px 0px 10px\"}},\"nodeType\":\"DOM\",\"type\":\"node\",\"instanceArgs\":{\"namespace\":\"html\",\"tag\":\"label\"},\"children\":[\"i\"]}]},{\"props\":{\"className\":\"interact-flex-row-center\"},\"nodeType\":\"DOM\",\"type\":\"node\",\"instanceArgs\":{\"namespace\":\"html\",\"tag\":\"div\"},\"children\":[{\"props\":{\"max\":10,\"min\":1,\"attributes\":{\"type\":\"range\",\"data-bind\":\"numericValue: index, valueUpdate: 'input', event: {change: function (){this.changes(this.changes()+1)}}\",\"orient\":\"horizontal\"},\"step\":1,\"className\":\"slider slider is-fullwidth\",\"style\":{}},\"nodeType\":\"DOM\",\"type\":\"node\",\"instanceArgs\":{\"namespace\":\"html\",\"tag\":\"input\"},\"children\":[]}]},{\"props\":{\"className\":\"interact-flex-row-right\"},\"nodeType\":\"DOM\",\"type\":\"node\",\"instanceArgs\":{\"namespace\":\"html\",\"tag\":\"div\"},\"children\":[{\"props\":{\"attributes\":{\"data-bind\":\"text: formatted_val\"}},\"nodeType\":\"DOM\",\"type\":\"node\",\"instanceArgs\":{\"namespace\":\"html\",\"tag\":\"p\"},\"children\":[]}]}]}]}]},{\"props\":{},\"nodeType\":\"Scope\",\"type\":\"node\",\"instanceArgs\":{\"imports\":{\"data\":[],\"type\":\"async_block\"},\"id\":\"9595799030941608121\",\"handlers\":{},\"systemjs_options\":null,\"mount_callbacks\":[],\"observables\":{\"obs-node\":{\"sync\":false,\"id\":\"6\",\"value\":{\"props\":{\"className\":\"interact-flex-row interact-widget\"},\"nodeType\":\"DOM\",\"type\":\"node\",\"instanceArgs\":{\"namespace\":\"html\",\"tag\":\"div\"},\"children\":[{\"props\":{\"setInnerHtml\":\"<pre>25<\\/pre>\"},\"nodeType\":\"DOM\",\"type\":\"node\",\"instanceArgs\":{\"namespace\":\"html\",\"tag\":\"div\"},\"children\":[]}]}}}},\"children\":[{\"props\":{},\"nodeType\":\"ObservableNode\",\"type\":\"node\",\"instanceArgs\":{\"id\":\"6\",\"name\":\"obs-node\"},\"children\":[]}]}]},\n",
       "        window,\n",
       "    );\n",
       "    })()\n",
       "    </script>\n",
       "</div>\n"
      ],
      "text/plain": [
       "Node{WebIO.DOM}(WebIO.DOM(:html, :div), Any[Node{WebIO.DOM}(WebIO.DOM(:html, :div), Any[Scope(Node{WebIO.DOM}(WebIO.DOM(:html, :div), Any[Node{WebIO.DOM}(WebIO.DOM(:html, :div), Any[Node{WebIO.DOM}(WebIO.DOM(:html, :label), Any[\"i\"], Dict{Symbol, Any}(:className => \"interact \", :style => Dict{Any, Any}(:padding => \"5px 10px 0px 10px\")))], Dict{Symbol, Any}(:className => \"interact-flex-row-left\")), Node{WebIO.DOM}(WebIO.DOM(:html, :div), Any[Node{WebIO.DOM}(WebIO.DOM(:html, :input), Any[], Dict{Symbol, Any}(:max => 10, :min => 1, :attributes => Dict{Any, Any}(:type => \"range\", Symbol(\"data-bind\") => \"numericValue: index, valueUpdate: 'input', event: {change: function (){this.changes(this.changes()+1)}}\", \"orient\" => \"horizontal\"), :step => 1, :className => \"slider slider is-fullwidth\", :style => Dict{Any, Any}()))], Dict{Symbol, Any}(:className => \"interact-flex-row-center\")), Node{WebIO.DOM}(WebIO.DOM(:html, :div), Any[Node{WebIO.DOM}(WebIO.DOM(:html, :p), Any[], Dict{Symbol, Any}(:attributes => Dict(\"data-bind\" => \"text: formatted_val\")))], Dict{Symbol, Any}(:className => \"interact-flex-row-right\"))], Dict{Symbol, Any}(:className => \"interact-flex-row interact-widget\")), Dict{String, Tuple{AbstractObservable, Union{Nothing, Bool}}}(\"changes\" => (Observable(0), nothing), \"index\" => (Observable(5), nothing)), Set{String}(), nothing, Asset[Asset(\"js\", \"knockout\", \"/Users/jzhang/.julia/packages/Knockout/HReiN/src/../assets/knockout.js\"), Asset(\"js\", \"knockout_punches\", \"/Users/jzhang/.julia/packages/Knockout/HReiN/src/../assets/knockout_punches.js\"), Asset(\"js\", nothing, \"/Users/jzhang/.julia/packages/InteractBase/LJXv3/src/../assets/all.js\"), Asset(\"css\", nothing, \"/Users/jzhang/.julia/packages/InteractBase/LJXv3/src/../assets/style.css\"), Asset(\"css\", nothing, \"/Users/jzhang/.julia/packages/Interact/PENUy/src/../assets/bulma_confined.min.css\")], Dict{Any, Any}(\"changes\" => Any[WebIO.JSString(\"(function (val){return (val!=this.model[\\\"changes\\\"]()) ? (this.valueFromJulia[\\\"changes\\\"]=true, this.model[\\\"changes\\\"](val)) : undefined})\")], \"index\" => Any[WebIO.JSString(\"(function (val){return (val!=this.model[\\\"index\\\"]()) ? (this.valueFromJulia[\\\"index\\\"]=true, this.model[\\\"index\\\"](val)) : undefined})\")]), WebIO.ConnectionPool(Channel{Any}(32), Set{AbstractConnection}(), Base.GenericCondition{ReentrantLock}(Base.IntrusiveLinkedList{Task}(Task (runnable) @0x000000013cf3f880, Task (runnable) @0x000000013cf3f880), ReentrantLock(nothing, 0x00000000, 0x00, Base.GenericCondition{Base.Threads.SpinLock}(Base.IntrusiveLinkedList{Task}(nothing, nothing), Base.Threads.SpinLock(0)), (0, 0, 141733920768)))), WebIO.JSString[WebIO.JSString(\"function () {\\n    var handler = (function (ko, koPunches) {\\n    ko.punches.enableAll();\\n    ko.bindingHandlers.numericValue = {\\n        init: function(element, valueAccessor, allBindings, data, context) {\\n            var stringified = ko.observable(ko.unwrap(valueAccessor()));\\n            stringified.subscribe(function(value) {\\n                var val = parseFloat(value);\\n                if (!isNaN(val)) {\\n                    valueAccessor()(val);\\n                }\\n            });\\n            valueAccessor().subscribe(function(value) {\\n                var str = JSON.stringify(value);\\n                if ((str == \\\"0\\\") && ([\\\"-0\\\", \\\"-0.\\\"].indexOf(stringified()) >= 0))\\n                     return;\\n                 if ([\\\"null\\\", \\\"\\\"].indexOf(str) >= 0)\\n                     return;\\n                stringified(str);\\n            });\\n            ko.applyBindingsToNode(\\n                element,\\n                {\\n                    value: stringified,\\n                    valueUpdate: allBindings.get('valueUpdate'),\\n                },\\n                context,\\n            );\\n        }\\n    };\\n    var json_data = {\\\"formatted_vals\\\":[\\\"1\\\",\\\"2\\\",\\\"3\\\",\\\"4\\\",\\\"5\\\",\\\"6\\\",\\\"7\\\",\\\"8\\\",\\\"9\\\",\\\"10\\\"],\\\"changes\\\":WebIO.getval({\\\"name\\\":\\\"changes\\\",\\\"scope\\\":\\\"12322574061452683887\\\",\\\"id\\\":\\\"2\\\",\\\"type\\\":\\\"observable\\\"}),\\\"index\\\":WebIO.getval({\\\"name\\\":\\\"index\\\",\\\"scope\\\":\\\"12322574061452683887\\\",\\\"id\\\":\\\"1\\\",\\\"type\\\":\\\"observable\\\"})};\\n    var self = this;\\n    function AppViewModel() {\\n        for (var key in json_data) {\\n            var el = json_data[key];\\n            this[key] = Array.isArray(el) ? ko.observableArray(el) : ko.observable(el);\\n        }\\n        \\n        [this[\\\"formatted_val\\\"]=ko.computed(    function(){\\n        return this.formatted_vals()[parseInt(this.index())-(1)];\\n    }\\n,this)]\\n        [this[\\\"changes\\\"].subscribe((function (val){!(this.valueFromJulia[\\\"changes\\\"]) ? (WebIO.setval({\\\"name\\\":\\\"changes\\\",\\\"scope\\\":\\\"12322574061452683887\\\",\\\"id\\\":\\\"2\\\",\\\"type\\\":\\\"observable\\\"},val)) : undefined; return this.valueFromJulia[\\\"changes\\\"]=false}),self),this[\\\"index\\\"].subscribe((function (val){!(this.valueFromJulia[\\\"index\\\"]) ? (WebIO.setval({\\\"name\\\":\\\"index\\\",\\\"scope\\\":\\\"12322574061452683887\\\",\\\"id\\\":\\\"1\\\",\\\"type\\\":\\\"observable\\\"},val)) : undefined; return this.valueFromJulia[\\\"index\\\"]=false}),self)]\\n        \\n    }\\n    self.model = new AppViewModel();\\n    self.valueFromJulia = {};\\n    for (var key in json_data) {\\n        self.valueFromJulia[key] = false;\\n    }\\n    ko.applyBindings(self.model, self.dom);\\n}\\n);\\n    (WebIO.importBlock({\\\"data\\\":[{\\\"name\\\":\\\"knockout\\\",\\\"type\\\":\\\"js\\\",\\\"url\\\":\\\"/assetserver/27558575459cae9bfc5ad498e3f26f05a87626f1-knockout.js\\\"},{\\\"name\\\":\\\"knockout_punches\\\",\\\"type\\\":\\\"js\\\",\\\"url\\\":\\\"/assetserver/1193612e08267f438b20451825dc83859edf0198-knockout_punches.js\\\"}],\\\"type\\\":\\\"async_block\\\"})).then((imports) => handler.apply(this, imports));\\n}\\n\")])], Dict{Symbol, Any}(:className => \"field interact-widget\")), Observable(Node{WebIO.DOM}(WebIO.DOM(:html, :div), Any[25], Dict{Symbol, Any}(:className => \"interact-flex-row interact-widget\")))], Dict{Symbol, Any}())"
      ]
     },
     "execution_count": 12,
     "metadata": {
      "@webio": {
       "kernelId": "ecfa0009-eb11-440f-a4c5-d330810b6a01"
      }
     },
     "output_type": "execute_result"
    }
   ],
   "source": [
    "using Interact\n",
    "@manipulate for i in 1:10\n",
    "    i^2\n",
    "end"
   ]
  },
  {
   "cell_type": "code",
   "execution_count": 13,
   "id": "7a9ae70c-ee57-4c06-8666-0431d908290b",
   "metadata": {
    "tags": []
   },
   "outputs": [
    {
     "data": {
      "application/vnd.webio.node+json": {
       "children": [
        {
         "children": [
          {
           "children": [
            {
             "children": [
              {
               "children": [
                {
                 "children": [
                  "a"
                 ],
                 "instanceArgs": {
                  "namespace": "html",
                  "tag": "label"
                 },
                 "nodeType": "DOM",
                 "props": {
                  "className": "interact ",
                  "style": {
                   "padding": "5px 10px 0px 10px"
                  }
                 },
                 "type": "node"
                }
               ],
               "instanceArgs": {
                "namespace": "html",
                "tag": "div"
               },
               "nodeType": "DOM",
               "props": {
                "className": "interact-flex-row-left"
               },
               "type": "node"
              },
              {
               "children": [
                {
                 "children": [],
                 "instanceArgs": {
                  "namespace": "html",
                  "tag": "input"
                 },
                 "nodeType": "DOM",
                 "props": {
                  "attributes": {
                   "data-bind": "numericValue: index, valueUpdate: 'input', event: {change: function (){this.changes(this.changes()+1)}}",
                   "orient": "horizontal",
                   "type": "range"
                  },
                  "className": "slider slider is-fullwidth",
                  "max": 10,
                  "min": 0,
                  "step": 1,
                  "style": {}
                 },
                 "type": "node"
                }
               ],
               "instanceArgs": {
                "namespace": "html",
                "tag": "div"
               },
               "nodeType": "DOM",
               "props": {
                "className": "interact-flex-row-center"
               },
               "type": "node"
              },
              {
               "children": [
                {
                 "children": [],
                 "instanceArgs": {
                  "namespace": "html",
                  "tag": "p"
                 },
                 "nodeType": "DOM",
                 "props": {
                  "attributes": {
                   "data-bind": "text: formatted_val"
                  }
                 },
                 "type": "node"
                }
               ],
               "instanceArgs": {
                "namespace": "html",
                "tag": "div"
               },
               "nodeType": "DOM",
               "props": {
                "className": "interact-flex-row-right"
               },
               "type": "node"
              }
             ],
             "instanceArgs": {
              "namespace": "html",
              "tag": "div"
             },
             "nodeType": "DOM",
             "props": {
              "className": "interact-flex-row interact-widget"
             },
             "type": "node"
            }
           ],
           "instanceArgs": {
            "handlers": {
             "changes": [
              "(function (val){return (val!=this.model[\"changes\"]()) ? (this.valueFromJulia[\"changes\"]=true, this.model[\"changes\"](val)) : undefined})"
             ],
             "index": [
              "(function (val){return (val!=this.model[\"index\"]()) ? (this.valueFromJulia[\"index\"]=true, this.model[\"index\"](val)) : undefined})"
             ]
            },
            "id": "18394276672806264033",
            "imports": {
             "data": [
              {
               "name": "knockout",
               "type": "js",
               "url": "/assetserver/27558575459cae9bfc5ad498e3f26f05a87626f1-knockout.js"
              },
              {
               "name": "knockout_punches",
               "type": "js",
               "url": "/assetserver/1193612e08267f438b20451825dc83859edf0198-knockout_punches.js"
              },
              {
               "name": null,
               "type": "js",
               "url": "/assetserver/03be2ce56148ee5ff5290d6d530bbef2d3bb2aa1-all.js"
              },
              {
               "name": null,
               "type": "css",
               "url": "/assetserver/21c24f379814b7eb386ad6b83e5b63e418239198-style.css"
              },
              {
               "name": null,
               "type": "css",
               "url": "/assetserver/80e54b8d854214ee94b129fee392df24c194438f-bulma_confined.min.css"
              }
             ],
             "type": "async_block"
            },
            "mount_callbacks": [
             "function () {\n    var handler = (function (ko, koPunches) {\n    ko.punches.enableAll();\n    ko.bindingHandlers.numericValue = {\n        init: function(element, valueAccessor, allBindings, data, context) {\n            var stringified = ko.observable(ko.unwrap(valueAccessor()));\n            stringified.subscribe(function(value) {\n                var val = parseFloat(value);\n                if (!isNaN(val)) {\n                    valueAccessor()(val);\n                }\n            });\n            valueAccessor().subscribe(function(value) {\n                var str = JSON.stringify(value);\n                if ((str == \"0\") && ([\"-0\", \"-0.\"].indexOf(stringified()) >= 0))\n                     return;\n                 if ([\"null\", \"\"].indexOf(str) >= 0)\n                     return;\n                stringified(str);\n            });\n            ko.applyBindingsToNode(\n                element,\n                {\n                    value: stringified,\n                    valueUpdate: allBindings.get('valueUpdate'),\n                },\n                context,\n            );\n        }\n    };\n    var json_data = {\"formatted_vals\":[\"0\",\"1\",\"2\",\"3\",\"4\",\"5\",\"6\",\"7\",\"8\",\"9\",\"10\"],\"changes\":WebIO.getval({\"name\":\"changes\",\"scope\":\"18394276672806264033\",\"id\":\"10\",\"type\":\"observable\"}),\"index\":WebIO.getval({\"name\":\"index\",\"scope\":\"18394276672806264033\",\"id\":\"9\",\"type\":\"observable\"})};\n    var self = this;\n    function AppViewModel() {\n        for (var key in json_data) {\n            var el = json_data[key];\n            this[key] = Array.isArray(el) ? ko.observableArray(el) : ko.observable(el);\n        }\n        \n        [this[\"formatted_val\"]=ko.computed(    function(){\n        return this.formatted_vals()[parseInt(this.index())-(0)];\n    }\n,this)]\n        [this[\"changes\"].subscribe((function (val){!(this.valueFromJulia[\"changes\"]) ? (WebIO.setval({\"name\":\"changes\",\"scope\":\"18394276672806264033\",\"id\":\"10\",\"type\":\"observable\"},val)) : undefined; return this.valueFromJulia[\"changes\"]=false}),self),this[\"index\"].subscribe((function (val){!(this.valueFromJulia[\"index\"]) ? (WebIO.setval({\"name\":\"index\",\"scope\":\"18394276672806264033\",\"id\":\"9\",\"type\":\"observable\"},val)) : undefined; return this.valueFromJulia[\"index\"]=false}),self)]\n        \n    }\n    self.model = new AppViewModel();\n    self.valueFromJulia = {};\n    for (var key in json_data) {\n        self.valueFromJulia[key] = false;\n    }\n    ko.applyBindings(self.model, self.dom);\n}\n);\n    (WebIO.importBlock({\"data\":[{\"name\":\"knockout\",\"type\":\"js\",\"url\":\"/assetserver/27558575459cae9bfc5ad498e3f26f05a87626f1-knockout.js\"},{\"name\":\"knockout_punches\",\"type\":\"js\",\"url\":\"/assetserver/1193612e08267f438b20451825dc83859edf0198-knockout_punches.js\"}],\"type\":\"async_block\"})).then((imports) => handler.apply(this, imports));\n}\n"
            ],
            "observables": {
             "changes": {
              "id": "10",
              "sync": false,
              "value": 0
             },
             "index": {
              "id": "9",
              "sync": true,
              "value": 5
             }
            },
            "systemjs_options": null
           },
           "nodeType": "Scope",
           "props": {},
           "type": "node"
          }
         ],
         "instanceArgs": {
          "namespace": "html",
          "tag": "div"
         },
         "nodeType": "DOM",
         "props": {
          "className": "field interact-widget"
         },
         "type": "node"
        },
        {
         "children": [
          {
           "children": [
            {
             "children": [
              {
               "children": [
                {
                 "children": [
                  "b"
                 ],
                 "instanceArgs": {
                  "namespace": "html",
                  "tag": "label"
                 },
                 "nodeType": "DOM",
                 "props": {
                  "className": "interact ",
                  "style": {
                   "padding": "5px 10px 0px 10px"
                  }
                 },
                 "type": "node"
                }
               ],
               "instanceArgs": {
                "namespace": "html",
                "tag": "div"
               },
               "nodeType": "DOM",
               "props": {
                "className": "interact-flex-row-left"
               },
               "type": "node"
              },
              {
               "children": [
                {
                 "children": [],
                 "instanceArgs": {
                  "namespace": "html",
                  "tag": "input"
                 },
                 "nodeType": "DOM",
                 "props": {
                  "attributes": {
                   "data-bind": "numericValue: index, valueUpdate: 'input', event: {change: function (){this.changes(this.changes()+1)}}",
                   "orient": "horizontal",
                   "type": "range"
                  },
                  "className": "slider slider is-fullwidth",
                  "max": 11,
                  "min": 1,
                  "step": 1,
                  "style": {}
                 },
                 "type": "node"
                }
               ],
               "instanceArgs": {
                "namespace": "html",
                "tag": "div"
               },
               "nodeType": "DOM",
               "props": {
                "className": "interact-flex-row-center"
               },
               "type": "node"
              },
              {
               "children": [
                {
                 "children": [],
                 "instanceArgs": {
                  "namespace": "html",
                  "tag": "p"
                 },
                 "nodeType": "DOM",
                 "props": {
                  "attributes": {
                   "data-bind": "text: formatted_val"
                  }
                 },
                 "type": "node"
                }
               ],
               "instanceArgs": {
                "namespace": "html",
                "tag": "div"
               },
               "nodeType": "DOM",
               "props": {
                "className": "interact-flex-row-right"
               },
               "type": "node"
              }
             ],
             "instanceArgs": {
              "namespace": "html",
              "tag": "div"
             },
             "nodeType": "DOM",
             "props": {
              "className": "interact-flex-row interact-widget"
             },
             "type": "node"
            }
           ],
           "instanceArgs": {
            "handlers": {
             "changes": [
              "(function (val){return (val!=this.model[\"changes\"]()) ? (this.valueFromJulia[\"changes\"]=true, this.model[\"changes\"](val)) : undefined})"
             ],
             "index": [
              "(function (val){return (val!=this.model[\"index\"]()) ? (this.valueFromJulia[\"index\"]=true, this.model[\"index\"](val)) : undefined})"
             ]
            },
            "id": "5788754496653516648",
            "imports": {
             "data": [
              {
               "name": "knockout",
               "type": "js",
               "url": "/assetserver/27558575459cae9bfc5ad498e3f26f05a87626f1-knockout.js"
              },
              {
               "name": "knockout_punches",
               "type": "js",
               "url": "/assetserver/1193612e08267f438b20451825dc83859edf0198-knockout_punches.js"
              },
              {
               "name": null,
               "type": "js",
               "url": "/assetserver/03be2ce56148ee5ff5290d6d530bbef2d3bb2aa1-all.js"
              },
              {
               "name": null,
               "type": "css",
               "url": "/assetserver/21c24f379814b7eb386ad6b83e5b63e418239198-style.css"
              },
              {
               "name": null,
               "type": "css",
               "url": "/assetserver/80e54b8d854214ee94b129fee392df24c194438f-bulma_confined.min.css"
              }
             ],
             "type": "async_block"
            },
            "mount_callbacks": [
             "function () {\n    var handler = (function (ko, koPunches) {\n    ko.punches.enableAll();\n    ko.bindingHandlers.numericValue = {\n        init: function(element, valueAccessor, allBindings, data, context) {\n            var stringified = ko.observable(ko.unwrap(valueAccessor()));\n            stringified.subscribe(function(value) {\n                var val = parseFloat(value);\n                if (!isNaN(val)) {\n                    valueAccessor()(val);\n                }\n            });\n            valueAccessor().subscribe(function(value) {\n                var str = JSON.stringify(value);\n                if ((str == \"0\") && ([\"-0\", \"-0.\"].indexOf(stringified()) >= 0))\n                     return;\n                 if ([\"null\", \"\"].indexOf(str) >= 0)\n                     return;\n                stringified(str);\n            });\n            ko.applyBindingsToNode(\n                element,\n                {\n                    value: stringified,\n                    valueUpdate: allBindings.get('valueUpdate'),\n                },\n                context,\n            );\n        }\n    };\n    var json_data = {\"formatted_vals\":[\"1\",\"2\",\"3\",\"4\",\"5\",\"6\",\"7\",\"8\",\"9\",\"10\",\"11\"],\"changes\":WebIO.getval({\"name\":\"changes\",\"scope\":\"5788754496653516648\",\"id\":\"12\",\"type\":\"observable\"}),\"index\":WebIO.getval({\"name\":\"index\",\"scope\":\"5788754496653516648\",\"id\":\"11\",\"type\":\"observable\"})};\n    var self = this;\n    function AppViewModel() {\n        for (var key in json_data) {\n            var el = json_data[key];\n            this[key] = Array.isArray(el) ? ko.observableArray(el) : ko.observable(el);\n        }\n        \n        [this[\"formatted_val\"]=ko.computed(    function(){\n        return this.formatted_vals()[parseInt(this.index())-(1)];\n    }\n,this)]\n        [this[\"changes\"].subscribe((function (val){!(this.valueFromJulia[\"changes\"]) ? (WebIO.setval({\"name\":\"changes\",\"scope\":\"5788754496653516648\",\"id\":\"12\",\"type\":\"observable\"},val)) : undefined; return this.valueFromJulia[\"changes\"]=false}),self),this[\"index\"].subscribe((function (val){!(this.valueFromJulia[\"index\"]) ? (WebIO.setval({\"name\":\"index\",\"scope\":\"5788754496653516648\",\"id\":\"11\",\"type\":\"observable\"},val)) : undefined; return this.valueFromJulia[\"index\"]=false}),self)]\n        \n    }\n    self.model = new AppViewModel();\n    self.valueFromJulia = {};\n    for (var key in json_data) {\n        self.valueFromJulia[key] = false;\n    }\n    ko.applyBindings(self.model, self.dom);\n}\n);\n    (WebIO.importBlock({\"data\":[{\"name\":\"knockout\",\"type\":\"js\",\"url\":\"/assetserver/27558575459cae9bfc5ad498e3f26f05a87626f1-knockout.js\"},{\"name\":\"knockout_punches\",\"type\":\"js\",\"url\":\"/assetserver/1193612e08267f438b20451825dc83859edf0198-knockout_punches.js\"}],\"type\":\"async_block\"})).then((imports) => handler.apply(this, imports));\n}\n"
            ],
            "observables": {
             "changes": {
              "id": "12",
              "sync": false,
              "value": 0
             },
             "index": {
              "id": "11",
              "sync": true,
              "value": 6
             }
            },
            "systemjs_options": null
           },
           "nodeType": "Scope",
           "props": {},
           "type": "node"
          }
         ],
         "instanceArgs": {
          "namespace": "html",
          "tag": "div"
         },
         "nodeType": "DOM",
         "props": {
          "className": "field interact-widget"
         },
         "type": "node"
        },
        {
         "children": [
          {
           "children": [],
           "instanceArgs": {
            "id": "18",
            "name": "obs-node"
           },
           "nodeType": "ObservableNode",
           "props": {},
           "type": "node"
          }
         ],
         "instanceArgs": {
          "handlers": {},
          "id": "7023675688915858879",
          "imports": {
           "data": [],
           "type": "async_block"
          },
          "mount_callbacks": [],
          "observables": {
           "obs-node": {
            "id": "18",
            "sync": false,
            "value": {
             "children": [
              {
               "children": [],
               "instanceArgs": {
                "namespace": "html",
                "tag": "div"
               },
               "nodeType": "DOM",
               "props": {
                "setInnerHtml": "(5, 6)"
               },
               "type": "node"
              }
             ],
             "instanceArgs": {
              "namespace": "html",
              "tag": "div"
             },
             "nodeType": "DOM",
             "props": {
              "className": "interact-flex-row interact-widget"
             },
             "type": "node"
            }
           }
          },
          "systemjs_options": null
         },
         "nodeType": "Scope",
         "props": {},
         "type": "node"
        }
       ],
       "instanceArgs": {
        "namespace": "html",
        "tag": "div"
       },
       "nodeType": "DOM",
       "props": {},
       "type": "node"
      },
      "text/html": [
       "<div\n",
       "    class=\"webio-mountpoint\"\n",
       "    data-webio-mountpoint=\"873979679141218267\"\n",
       ">\n",
       "    <script>\n",
       "    (function(){\n",
       "    // Some integrations (namely, IJulia/Jupyter) use an alternate render pathway than\n",
       "    // just putting the html on the page. If WebIO isn't defined, then it's pretty likely\n",
       "    // that we're in one of those situations and the integration just isn't installed\n",
       "    // correctly.\n",
       "    if (typeof window.WebIO === \"undefined\") {\n",
       "        document\n",
       "            .querySelector('[data-webio-mountpoint=\"873979679141218267\"]')\n",
       "            .innerHTML = (\n",
       "                '<div style=\"padding: 1em; background-color: #f8d6da; border: 1px solid #f5c6cb; font-weight: bold;\">' +\n",
       "                '<p><strong>WebIO not detected.</strong></p>' +\n",
       "                '<p>Please read ' +\n",
       "                '<a href=\"https://juliagizmos.github.io/WebIO.jl/latest/troubleshooting/not-detected/\" target=\"_blank\">the troubleshooting guide</a> ' +\n",
       "                'for more information on how to resolve this issue.</p>' +\n",
       "                '<p><a href=\"https://juliagizmos.github.io/WebIO.jl/latest/troubleshooting/not-detected/\" target=\"_blank\">https://juliagizmos.github.io/WebIO.jl/latest/troubleshooting/not-detected/</a></p>' +\n",
       "                '</div>'\n",
       "            );\n",
       "        return;\n",
       "    }\n",
       "    WebIO.mount(\n",
       "        document.querySelector('[data-webio-mountpoint=\"873979679141218267\"]'),\n",
       "        {\"props\":{},\"nodeType\":\"DOM\",\"type\":\"node\",\"instanceArgs\":{\"namespace\":\"html\",\"tag\":\"div\"},\"children\":[{\"props\":{\"className\":\"field interact-widget\"},\"nodeType\":\"DOM\",\"type\":\"node\",\"instanceArgs\":{\"namespace\":\"html\",\"tag\":\"div\"},\"children\":[{\"props\":{},\"nodeType\":\"Scope\",\"type\":\"node\",\"instanceArgs\":{\"imports\":{\"data\":[{\"name\":\"knockout\",\"type\":\"js\",\"url\":\"\\/assetserver\\/27558575459cae9bfc5ad498e3f26f05a87626f1-knockout.js\"},{\"name\":\"knockout_punches\",\"type\":\"js\",\"url\":\"\\/assetserver\\/1193612e08267f438b20451825dc83859edf0198-knockout_punches.js\"},{\"name\":null,\"type\":\"js\",\"url\":\"\\/assetserver\\/03be2ce56148ee5ff5290d6d530bbef2d3bb2aa1-all.js\"},{\"name\":null,\"type\":\"css\",\"url\":\"\\/assetserver\\/21c24f379814b7eb386ad6b83e5b63e418239198-style.css\"},{\"name\":null,\"type\":\"css\",\"url\":\"\\/assetserver\\/80e54b8d854214ee94b129fee392df24c194438f-bulma_confined.min.css\"}],\"type\":\"async_block\"},\"id\":\"18394276672806264033\",\"handlers\":{\"changes\":[\"(function (val){return (val!=this.model[\\\"changes\\\"]()) ? (this.valueFromJulia[\\\"changes\\\"]=true, this.model[\\\"changes\\\"](val)) : undefined})\"],\"index\":[\"(function (val){return (val!=this.model[\\\"index\\\"]()) ? (this.valueFromJulia[\\\"index\\\"]=true, this.model[\\\"index\\\"](val)) : undefined})\"]},\"systemjs_options\":null,\"mount_callbacks\":[\"function () {\\n    var handler = (function (ko, koPunches) {\\n    ko.punches.enableAll();\\n    ko.bindingHandlers.numericValue = {\\n        init: function(element, valueAccessor, allBindings, data, context) {\\n            var stringified = ko.observable(ko.unwrap(valueAccessor()));\\n            stringified.subscribe(function(value) {\\n                var val = parseFloat(value);\\n                if (!isNaN(val)) {\\n                    valueAccessor()(val);\\n                }\\n            });\\n            valueAccessor().subscribe(function(value) {\\n                var str = JSON.stringify(value);\\n                if ((str == \\\"0\\\") && ([\\\"-0\\\", \\\"-0.\\\"].indexOf(stringified()) >= 0))\\n                     return;\\n                 if ([\\\"null\\\", \\\"\\\"].indexOf(str) >= 0)\\n                     return;\\n                stringified(str);\\n            });\\n            ko.applyBindingsToNode(\\n                element,\\n                {\\n                    value: stringified,\\n                    valueUpdate: allBindings.get('valueUpdate'),\\n                },\\n                context,\\n            );\\n        }\\n    };\\n    var json_data = {\\\"formatted_vals\\\":[\\\"0\\\",\\\"1\\\",\\\"2\\\",\\\"3\\\",\\\"4\\\",\\\"5\\\",\\\"6\\\",\\\"7\\\",\\\"8\\\",\\\"9\\\",\\\"10\\\"],\\\"changes\\\":WebIO.getval({\\\"name\\\":\\\"changes\\\",\\\"scope\\\":\\\"18394276672806264033\\\",\\\"id\\\":\\\"10\\\",\\\"type\\\":\\\"observable\\\"}),\\\"index\\\":WebIO.getval({\\\"name\\\":\\\"index\\\",\\\"scope\\\":\\\"18394276672806264033\\\",\\\"id\\\":\\\"9\\\",\\\"type\\\":\\\"observable\\\"})};\\n    var self = this;\\n    function AppViewModel() {\\n        for (var key in json_data) {\\n            var el = json_data[key];\\n            this[key] = Array.isArray(el) ? ko.observableArray(el) : ko.observable(el);\\n        }\\n        \\n        [this[\\\"formatted_val\\\"]=ko.computed(    function(){\\n        return this.formatted_vals()[parseInt(this.index())-(0)];\\n    }\\n,this)]\\n        [this[\\\"changes\\\"].subscribe((function (val){!(this.valueFromJulia[\\\"changes\\\"]) ? (WebIO.setval({\\\"name\\\":\\\"changes\\\",\\\"scope\\\":\\\"18394276672806264033\\\",\\\"id\\\":\\\"10\\\",\\\"type\\\":\\\"observable\\\"},val)) : undefined; return this.valueFromJulia[\\\"changes\\\"]=false}),self),this[\\\"index\\\"].subscribe((function (val){!(this.valueFromJulia[\\\"index\\\"]) ? (WebIO.setval({\\\"name\\\":\\\"index\\\",\\\"scope\\\":\\\"18394276672806264033\\\",\\\"id\\\":\\\"9\\\",\\\"type\\\":\\\"observable\\\"},val)) : undefined; return this.valueFromJulia[\\\"index\\\"]=false}),self)]\\n        \\n    }\\n    self.model = new AppViewModel();\\n    self.valueFromJulia = {};\\n    for (var key in json_data) {\\n        self.valueFromJulia[key] = false;\\n    }\\n    ko.applyBindings(self.model, self.dom);\\n}\\n);\\n    (WebIO.importBlock({\\\"data\\\":[{\\\"name\\\":\\\"knockout\\\",\\\"type\\\":\\\"js\\\",\\\"url\\\":\\\"\\/assetserver\\/27558575459cae9bfc5ad498e3f26f05a87626f1-knockout.js\\\"},{\\\"name\\\":\\\"knockout_punches\\\",\\\"type\\\":\\\"js\\\",\\\"url\\\":\\\"\\/assetserver\\/1193612e08267f438b20451825dc83859edf0198-knockout_punches.js\\\"}],\\\"type\\\":\\\"async_block\\\"})).then((imports) => handler.apply(this, imports));\\n}\\n\"],\"observables\":{\"changes\":{\"sync\":false,\"id\":\"10\",\"value\":0},\"index\":{\"sync\":true,\"id\":\"9\",\"value\":5}}},\"children\":[{\"props\":{\"className\":\"interact-flex-row interact-widget\"},\"nodeType\":\"DOM\",\"type\":\"node\",\"instanceArgs\":{\"namespace\":\"html\",\"tag\":\"div\"},\"children\":[{\"props\":{\"className\":\"interact-flex-row-left\"},\"nodeType\":\"DOM\",\"type\":\"node\",\"instanceArgs\":{\"namespace\":\"html\",\"tag\":\"div\"},\"children\":[{\"props\":{\"className\":\"interact \",\"style\":{\"padding\":\"5px 10px 0px 10px\"}},\"nodeType\":\"DOM\",\"type\":\"node\",\"instanceArgs\":{\"namespace\":\"html\",\"tag\":\"label\"},\"children\":[\"a\"]}]},{\"props\":{\"className\":\"interact-flex-row-center\"},\"nodeType\":\"DOM\",\"type\":\"node\",\"instanceArgs\":{\"namespace\":\"html\",\"tag\":\"div\"},\"children\":[{\"props\":{\"max\":10,\"min\":0,\"attributes\":{\"type\":\"range\",\"data-bind\":\"numericValue: index, valueUpdate: 'input', event: {change: function (){this.changes(this.changes()+1)}}\",\"orient\":\"horizontal\"},\"step\":1,\"className\":\"slider slider is-fullwidth\",\"style\":{}},\"nodeType\":\"DOM\",\"type\":\"node\",\"instanceArgs\":{\"namespace\":\"html\",\"tag\":\"input\"},\"children\":[]}]},{\"props\":{\"className\":\"interact-flex-row-right\"},\"nodeType\":\"DOM\",\"type\":\"node\",\"instanceArgs\":{\"namespace\":\"html\",\"tag\":\"div\"},\"children\":[{\"props\":{\"attributes\":{\"data-bind\":\"text: formatted_val\"}},\"nodeType\":\"DOM\",\"type\":\"node\",\"instanceArgs\":{\"namespace\":\"html\",\"tag\":\"p\"},\"children\":[]}]}]}]}]},{\"props\":{\"className\":\"field interact-widget\"},\"nodeType\":\"DOM\",\"type\":\"node\",\"instanceArgs\":{\"namespace\":\"html\",\"tag\":\"div\"},\"children\":[{\"props\":{},\"nodeType\":\"Scope\",\"type\":\"node\",\"instanceArgs\":{\"imports\":{\"data\":[{\"name\":\"knockout\",\"type\":\"js\",\"url\":\"\\/assetserver\\/27558575459cae9bfc5ad498e3f26f05a87626f1-knockout.js\"},{\"name\":\"knockout_punches\",\"type\":\"js\",\"url\":\"\\/assetserver\\/1193612e08267f438b20451825dc83859edf0198-knockout_punches.js\"},{\"name\":null,\"type\":\"js\",\"url\":\"\\/assetserver\\/03be2ce56148ee5ff5290d6d530bbef2d3bb2aa1-all.js\"},{\"name\":null,\"type\":\"css\",\"url\":\"\\/assetserver\\/21c24f379814b7eb386ad6b83e5b63e418239198-style.css\"},{\"name\":null,\"type\":\"css\",\"url\":\"\\/assetserver\\/80e54b8d854214ee94b129fee392df24c194438f-bulma_confined.min.css\"}],\"type\":\"async_block\"},\"id\":\"5788754496653516648\",\"handlers\":{\"changes\":[\"(function (val){return (val!=this.model[\\\"changes\\\"]()) ? (this.valueFromJulia[\\\"changes\\\"]=true, this.model[\\\"changes\\\"](val)) : undefined})\"],\"index\":[\"(function (val){return (val!=this.model[\\\"index\\\"]()) ? (this.valueFromJulia[\\\"index\\\"]=true, this.model[\\\"index\\\"](val)) : undefined})\"]},\"systemjs_options\":null,\"mount_callbacks\":[\"function () {\\n    var handler = (function (ko, koPunches) {\\n    ko.punches.enableAll();\\n    ko.bindingHandlers.numericValue = {\\n        init: function(element, valueAccessor, allBindings, data, context) {\\n            var stringified = ko.observable(ko.unwrap(valueAccessor()));\\n            stringified.subscribe(function(value) {\\n                var val = parseFloat(value);\\n                if (!isNaN(val)) {\\n                    valueAccessor()(val);\\n                }\\n            });\\n            valueAccessor().subscribe(function(value) {\\n                var str = JSON.stringify(value);\\n                if ((str == \\\"0\\\") && ([\\\"-0\\\", \\\"-0.\\\"].indexOf(stringified()) >= 0))\\n                     return;\\n                 if ([\\\"null\\\", \\\"\\\"].indexOf(str) >= 0)\\n                     return;\\n                stringified(str);\\n            });\\n            ko.applyBindingsToNode(\\n                element,\\n                {\\n                    value: stringified,\\n                    valueUpdate: allBindings.get('valueUpdate'),\\n                },\\n                context,\\n            );\\n        }\\n    };\\n    var json_data = {\\\"formatted_vals\\\":[\\\"1\\\",\\\"2\\\",\\\"3\\\",\\\"4\\\",\\\"5\\\",\\\"6\\\",\\\"7\\\",\\\"8\\\",\\\"9\\\",\\\"10\\\",\\\"11\\\"],\\\"changes\\\":WebIO.getval({\\\"name\\\":\\\"changes\\\",\\\"scope\\\":\\\"5788754496653516648\\\",\\\"id\\\":\\\"12\\\",\\\"type\\\":\\\"observable\\\"}),\\\"index\\\":WebIO.getval({\\\"name\\\":\\\"index\\\",\\\"scope\\\":\\\"5788754496653516648\\\",\\\"id\\\":\\\"11\\\",\\\"type\\\":\\\"observable\\\"})};\\n    var self = this;\\n    function AppViewModel() {\\n        for (var key in json_data) {\\n            var el = json_data[key];\\n            this[key] = Array.isArray(el) ? ko.observableArray(el) : ko.observable(el);\\n        }\\n        \\n        [this[\\\"formatted_val\\\"]=ko.computed(    function(){\\n        return this.formatted_vals()[parseInt(this.index())-(1)];\\n    }\\n,this)]\\n        [this[\\\"changes\\\"].subscribe((function (val){!(this.valueFromJulia[\\\"changes\\\"]) ? (WebIO.setval({\\\"name\\\":\\\"changes\\\",\\\"scope\\\":\\\"5788754496653516648\\\",\\\"id\\\":\\\"12\\\",\\\"type\\\":\\\"observable\\\"},val)) : undefined; return this.valueFromJulia[\\\"changes\\\"]=false}),self),this[\\\"index\\\"].subscribe((function (val){!(this.valueFromJulia[\\\"index\\\"]) ? (WebIO.setval({\\\"name\\\":\\\"index\\\",\\\"scope\\\":\\\"5788754496653516648\\\",\\\"id\\\":\\\"11\\\",\\\"type\\\":\\\"observable\\\"},val)) : undefined; return this.valueFromJulia[\\\"index\\\"]=false}),self)]\\n        \\n    }\\n    self.model = new AppViewModel();\\n    self.valueFromJulia = {};\\n    for (var key in json_data) {\\n        self.valueFromJulia[key] = false;\\n    }\\n    ko.applyBindings(self.model, self.dom);\\n}\\n);\\n    (WebIO.importBlock({\\\"data\\\":[{\\\"name\\\":\\\"knockout\\\",\\\"type\\\":\\\"js\\\",\\\"url\\\":\\\"\\/assetserver\\/27558575459cae9bfc5ad498e3f26f05a87626f1-knockout.js\\\"},{\\\"name\\\":\\\"knockout_punches\\\",\\\"type\\\":\\\"js\\\",\\\"url\\\":\\\"\\/assetserver\\/1193612e08267f438b20451825dc83859edf0198-knockout_punches.js\\\"}],\\\"type\\\":\\\"async_block\\\"})).then((imports) => handler.apply(this, imports));\\n}\\n\"],\"observables\":{\"changes\":{\"sync\":false,\"id\":\"12\",\"value\":0},\"index\":{\"sync\":true,\"id\":\"11\",\"value\":6}}},\"children\":[{\"props\":{\"className\":\"interact-flex-row interact-widget\"},\"nodeType\":\"DOM\",\"type\":\"node\",\"instanceArgs\":{\"namespace\":\"html\",\"tag\":\"div\"},\"children\":[{\"props\":{\"className\":\"interact-flex-row-left\"},\"nodeType\":\"DOM\",\"type\":\"node\",\"instanceArgs\":{\"namespace\":\"html\",\"tag\":\"div\"},\"children\":[{\"props\":{\"className\":\"interact \",\"style\":{\"padding\":\"5px 10px 0px 10px\"}},\"nodeType\":\"DOM\",\"type\":\"node\",\"instanceArgs\":{\"namespace\":\"html\",\"tag\":\"label\"},\"children\":[\"b\"]}]},{\"props\":{\"className\":\"interact-flex-row-center\"},\"nodeType\":\"DOM\",\"type\":\"node\",\"instanceArgs\":{\"namespace\":\"html\",\"tag\":\"div\"},\"children\":[{\"props\":{\"max\":11,\"min\":1,\"attributes\":{\"type\":\"range\",\"data-bind\":\"numericValue: index, valueUpdate: 'input', event: {change: function (){this.changes(this.changes()+1)}}\",\"orient\":\"horizontal\"},\"step\":1,\"className\":\"slider slider is-fullwidth\",\"style\":{}},\"nodeType\":\"DOM\",\"type\":\"node\",\"instanceArgs\":{\"namespace\":\"html\",\"tag\":\"input\"},\"children\":[]}]},{\"props\":{\"className\":\"interact-flex-row-right\"},\"nodeType\":\"DOM\",\"type\":\"node\",\"instanceArgs\":{\"namespace\":\"html\",\"tag\":\"div\"},\"children\":[{\"props\":{\"attributes\":{\"data-bind\":\"text: formatted_val\"}},\"nodeType\":\"DOM\",\"type\":\"node\",\"instanceArgs\":{\"namespace\":\"html\",\"tag\":\"p\"},\"children\":[]}]}]}]}]},{\"props\":{},\"nodeType\":\"Scope\",\"type\":\"node\",\"instanceArgs\":{\"imports\":{\"data\":[],\"type\":\"async_block\"},\"id\":\"11626972890934892937\",\"handlers\":{},\"systemjs_options\":null,\"mount_callbacks\":[],\"observables\":{\"obs-node\":{\"sync\":false,\"id\":\"16\",\"value\":{\"props\":{\"className\":\"interact-flex-row interact-widget\"},\"nodeType\":\"DOM\",\"type\":\"node\",\"instanceArgs\":{\"namespace\":\"html\",\"tag\":\"div\"},\"children\":[{\"props\":{\"setInnerHtml\":\"(5, 6)\"},\"nodeType\":\"DOM\",\"type\":\"node\",\"instanceArgs\":{\"namespace\":\"html\",\"tag\":\"div\"},\"children\":[]}]}}}},\"children\":[{\"props\":{},\"nodeType\":\"ObservableNode\",\"type\":\"node\",\"instanceArgs\":{\"id\":\"16\",\"name\":\"obs-node\"},\"children\":[]}]}]},\n",
       "        window,\n",
       "    );\n",
       "    })()\n",
       "    </script>\n",
       "</div>\n"
      ],
      "text/plain": [
       "Node{WebIO.DOM}(WebIO.DOM(:html, :div), Any[Node{WebIO.DOM}(WebIO.DOM(:html, :div), Any[Scope(Node{WebIO.DOM}(WebIO.DOM(:html, :div), Any[Node{WebIO.DOM}(WebIO.DOM(:html, :div), Any[Node{WebIO.DOM}(WebIO.DOM(:html, :label), Any[\"a\"], Dict{Symbol, Any}(:className => \"interact \", :style => Dict{Any, Any}(:padding => \"5px 10px 0px 10px\")))], Dict{Symbol, Any}(:className => \"interact-flex-row-left\")), Node{WebIO.DOM}(WebIO.DOM(:html, :div), Any[Node{WebIO.DOM}(WebIO.DOM(:html, :input), Any[], Dict{Symbol, Any}(:max => 10, :min => 0, :attributes => Dict{Any, Any}(:type => \"range\", Symbol(\"data-bind\") => \"numericValue: index, valueUpdate: 'input', event: {change: function (){this.changes(this.changes()+1)}}\", \"orient\" => \"horizontal\"), :step => 1, :className => \"slider slider is-fullwidth\", :style => Dict{Any, Any}()))], Dict{Symbol, Any}(:className => \"interact-flex-row-center\")), Node{WebIO.DOM}(WebIO.DOM(:html, :div), Any[Node{WebIO.DOM}(WebIO.DOM(:html, :p), Any[], Dict{Symbol, Any}(:attributes => Dict(\"data-bind\" => \"text: formatted_val\")))], Dict{Symbol, Any}(:className => \"interact-flex-row-right\"))], Dict{Symbol, Any}(:className => \"interact-flex-row interact-widget\")), Dict{String, Tuple{AbstractObservable, Union{Nothing, Bool}}}(\"changes\" => (Observable(0), nothing), \"index\" => (Observable(5), nothing)), Set{String}(), nothing, Asset[Asset(\"js\", \"knockout\", \"/Users/jzhang/.julia/packages/Knockout/HReiN/src/../assets/knockout.js\"), Asset(\"js\", \"knockout_punches\", \"/Users/jzhang/.julia/packages/Knockout/HReiN/src/../assets/knockout_punches.js\"), Asset(\"js\", nothing, \"/Users/jzhang/.julia/packages/InteractBase/LJXv3/src/../assets/all.js\"), Asset(\"css\", nothing, \"/Users/jzhang/.julia/packages/InteractBase/LJXv3/src/../assets/style.css\"), Asset(\"css\", nothing, \"/Users/jzhang/.julia/packages/Interact/PENUy/src/../assets/bulma_confined.min.css\")], Dict{Any, Any}(\"changes\" => Any[WebIO.JSString(\"(function (val){return (val!=this.model[\\\"changes\\\"]()) ? (this.valueFromJulia[\\\"changes\\\"]=true, this.model[\\\"changes\\\"](val)) : undefined})\")], \"index\" => Any[WebIO.JSString(\"(function (val){return (val!=this.model[\\\"index\\\"]()) ? (this.valueFromJulia[\\\"index\\\"]=true, this.model[\\\"index\\\"](val)) : undefined})\")]), WebIO.ConnectionPool(Channel{Any}(32), Set{AbstractConnection}(), Base.GenericCondition{ReentrantLock}(Base.IntrusiveLinkedList{Task}(Task (runnable) @0x0000000141a4ea10, Task (runnable) @0x0000000141a4ea10), ReentrantLock(nothing, 0x00000000, 0x00, Base.GenericCondition{Base.Threads.SpinLock}(Base.IntrusiveLinkedList{Task}(nothing, nothing), Base.Threads.SpinLock(0)), (0, 5725515264, 0)))), WebIO.JSString[WebIO.JSString(\"function () {\\n    var handler = (function (ko, koPunches) {\\n    ko.punches.enableAll();\\n    ko.bindingHandlers.numericValue = {\\n        init: function(element, valueAccessor, allBindings, data, context) {\\n            var stringified = ko.observable(ko.unwrap(valueAccessor()));\\n            stringified.subscribe(function(value) {\\n                var val = parseFloat(value);\\n                if (!isNaN(val)) {\\n                    valueAccessor()(val);\\n                }\\n            });\\n            valueAccessor().subscribe(function(value) {\\n                var str = JSON.stringify(value);\\n                if ((str == \\\"0\\\") && ([\\\"-0\\\", \\\"-0.\\\"].indexOf(stringified()) >= 0))\\n                     return;\\n                 if ([\\\"null\\\", \\\"\\\"].indexOf(str) >= 0)\\n                     return;\\n                stringified(str);\\n            });\\n            ko.applyBindingsToNode(\\n                element,\\n                {\\n                    value: stringified,\\n                    valueUpdate: allBindings.get('valueUpdate'),\\n                },\\n                context,\\n            );\\n        }\\n    };\\n    var json_data = {\\\"formatted_vals\\\":[\\\"0\\\",\\\"1\\\",\\\"2\\\",\\\"3\\\",\\\"4\\\",\\\"5\\\",\\\"6\\\",\\\"7\\\",\\\"8\\\",\\\"9\\\",\\\"10\\\"],\\\"changes\\\":WebIO.getval({\\\"name\\\":\\\"changes\\\",\\\"scope\\\":\\\"18394276672806264033\\\",\\\"id\\\":\\\"10\\\",\\\"type\\\":\\\"observable\\\"}),\\\"index\\\":WebIO.getval({\\\"name\\\":\\\"index\\\",\\\"scope\\\":\\\"18394276672806264033\\\",\\\"id\\\":\\\"9\\\",\\\"type\\\":\\\"observable\\\"})};\\n    var self = this;\\n    function AppViewModel() {\\n        for (var key in json_data) {\\n            var el = json_data[key];\\n            this[key] = Array.isArray(el) ? ko.observableArray(el) : ko.observable(el);\\n        }\\n        \\n        [this[\\\"formatted_val\\\"]=ko.computed(    function(){\\n        return this.formatted_vals()[parseInt(this.index())-(0)];\\n    }\\n,this)]\\n        [this[\\\"changes\\\"].subscribe((function (val){!(this.valueFromJulia[\\\"changes\\\"]) ? (WebIO.setval({\\\"name\\\":\\\"changes\\\",\\\"scope\\\":\\\"18394276672806264033\\\",\\\"id\\\":\\\"10\\\",\\\"type\\\":\\\"observable\\\"},val)) : undefined; return this.valueFromJulia[\\\"changes\\\"]=false}),self),this[\\\"index\\\"].subscribe((function (val){!(this.valueFromJulia[\\\"index\\\"]) ? (WebIO.setval({\\\"name\\\":\\\"index\\\",\\\"scope\\\":\\\"18394276672806264033\\\",\\\"id\\\":\\\"9\\\",\\\"type\\\":\\\"observable\\\"},val)) : undefined; return this.valueFromJulia[\\\"index\\\"]=false}),self)]\\n        \\n    }\\n    self.model = new AppViewModel();\\n    self.valueFromJulia = {};\\n    for (var key in json_data) {\\n        self.valueFromJulia[key] = false;\\n    }\\n    ko.applyBindings(self.model, self.dom);\\n}\\n);\\n    (WebIO.importBlock({\\\"data\\\":[{\\\"name\\\":\\\"knockout\\\",\\\"type\\\":\\\"js\\\",\\\"url\\\":\\\"/assetserver/27558575459cae9bfc5ad498e3f26f05a87626f1-knockout.js\\\"},{\\\"name\\\":\\\"knockout_punches\\\",\\\"type\\\":\\\"js\\\",\\\"url\\\":\\\"/assetserver/1193612e08267f438b20451825dc83859edf0198-knockout_punches.js\\\"}],\\\"type\\\":\\\"async_block\\\"})).then((imports) => handler.apply(this, imports));\\n}\\n\")])], Dict{Symbol, Any}(:className => \"field interact-widget\")), Node{WebIO.DOM}(WebIO.DOM(:html, :div), Any[Scope(Node{WebIO.DOM}(WebIO.DOM(:html, :div), Any[Node{WebIO.DOM}(WebIO.DOM(:html, :div), Any[Node{WebIO.DOM}(WebIO.DOM(:html, :label), Any[\"b\"], Dict{Symbol, Any}(:className => \"interact \", :style => Dict{Any, Any}(:padding => \"5px 10px 0px 10px\")))], Dict{Symbol, Any}(:className => \"interact-flex-row-left\")), Node{WebIO.DOM}(WebIO.DOM(:html, :div), Any[Node{WebIO.DOM}(WebIO.DOM(:html, :input), Any[], Dict{Symbol, Any}(:max => 11, :min => 1, :attributes => Dict{Any, Any}(:type => \"range\", Symbol(\"data-bind\") => \"numericValue: index, valueUpdate: 'input', event: {change: function (){this.changes(this.changes()+1)}}\", \"orient\" => \"horizontal\"), :step => 1, :className => \"slider slider is-fullwidth\", :style => Dict{Any, Any}()))], Dict{Symbol, Any}(:className => \"interact-flex-row-center\")), Node{WebIO.DOM}(WebIO.DOM(:html, :div), Any[Node{WebIO.DOM}(WebIO.DOM(:html, :p), Any[], Dict{Symbol, Any}(:attributes => Dict(\"data-bind\" => \"text: formatted_val\")))], Dict{Symbol, Any}(:className => \"interact-flex-row-right\"))], Dict{Symbol, Any}(:className => \"interact-flex-row interact-widget\")), Dict{String, Tuple{AbstractObservable, Union{Nothing, Bool}}}(\"changes\" => (Observable(0), nothing), \"index\" => (Observable(6), nothing)), Set{String}(), nothing, Asset[Asset(\"js\", \"knockout\", \"/Users/jzhang/.julia/packages/Knockout/HReiN/src/../assets/knockout.js\"), Asset(\"js\", \"knockout_punches\", \"/Users/jzhang/.julia/packages/Knockout/HReiN/src/../assets/knockout_punches.js\"), Asset(\"js\", nothing, \"/Users/jzhang/.julia/packages/InteractBase/LJXv3/src/../assets/all.js\"), Asset(\"css\", nothing, \"/Users/jzhang/.julia/packages/InteractBase/LJXv3/src/../assets/style.css\"), Asset(\"css\", nothing, \"/Users/jzhang/.julia/packages/Interact/PENUy/src/../assets/bulma_confined.min.css\")], Dict{Any, Any}(\"changes\" => Any[WebIO.JSString(\"(function (val){return (val!=this.model[\\\"changes\\\"]()) ? (this.valueFromJulia[\\\"changes\\\"]=true, this.model[\\\"changes\\\"](val)) : undefined})\")], \"index\" => Any[WebIO.JSString(\"(function (val){return (val!=this.model[\\\"index\\\"]()) ? (this.valueFromJulia[\\\"index\\\"]=true, this.model[\\\"index\\\"](val)) : undefined})\")]), WebIO.ConnectionPool(Channel{Any}(32), Set{AbstractConnection}(), Base.GenericCondition{ReentrantLock}(Base.IntrusiveLinkedList{Task}(Task (runnable) @0x0000000141a4eb60, Task (runnable) @0x0000000141a4eb60), ReentrantLock(nothing, 0x00000000, 0x00, Base.GenericCondition{Base.Threads.SpinLock}(Base.IntrusiveLinkedList{Task}(nothing, nothing), Base.Threads.SpinLock(0)), (8, 5003274384, 5028985904)))), WebIO.JSString[WebIO.JSString(\"function () {\\n    var handler = (function (ko, koPunches) {\\n    ko.punches.enableAll();\\n    ko.bindingHandlers.numericValue = {\\n        init: function(element, valueAccessor, allBindings, data, context) {\\n            var stringified = ko.observable(ko.unwrap(valueAccessor()));\\n            stringified.subscribe(function(value) {\\n                var val = parseFloat(value);\\n                if (!isNaN(val)) {\\n                    valueAccessor()(val);\\n                }\\n            });\\n            valueAccessor().subscribe(function(value) {\\n                var str = JSON.stringify(value);\\n                if ((str == \\\"0\\\") && ([\\\"-0\\\", \\\"-0.\\\"].indexOf(stringified()) >= 0))\\n                     return;\\n                 if ([\\\"null\\\", \\\"\\\"].indexOf(str) >= 0)\\n                     return;\\n                stringified(str);\\n            });\\n            ko.applyBindingsToNode(\\n                element,\\n                {\\n                    value: stringified,\\n                    valueUpdate: allBindings.get('valueUpdate'),\\n                },\\n                context,\\n            );\\n        }\\n    };\\n    var json_data = {\\\"formatted_vals\\\":[\\\"1\\\",\\\"2\\\",\\\"3\\\",\\\"4\\\",\\\"5\\\",\\\"6\\\",\\\"7\\\",\\\"8\\\",\\\"9\\\",\\\"10\\\",\\\"11\\\"],\\\"changes\\\":WebIO.getval({\\\"name\\\":\\\"changes\\\",\\\"scope\\\":\\\"5788754496653516648\\\",\\\"id\\\":\\\"12\\\",\\\"type\\\":\\\"observable\\\"}),\\\"index\\\":WebIO.getval({\\\"name\\\":\\\"index\\\",\\\"scope\\\":\\\"5788754496653516648\\\",\\\"id\\\":\\\"11\\\",\\\"type\\\":\\\"observable\\\"})};\\n    var self = this;\\n    function AppViewModel() {\\n        for (var key in json_data) {\\n            var el = json_data[key];\\n            this[key] = Array.isArray(el) ? ko.observableArray(el) : ko.observable(el);\\n        }\\n        \\n        [this[\\\"formatted_val\\\"]=ko.computed(    function(){\\n        return this.formatted_vals()[parseInt(this.index())-(1)];\\n    }\\n,this)]\\n        [this[\\\"changes\\\"].subscribe((function (val){!(this.valueFromJulia[\\\"changes\\\"]) ? (WebIO.setval({\\\"name\\\":\\\"changes\\\",\\\"scope\\\":\\\"5788754496653516648\\\",\\\"id\\\":\\\"12\\\",\\\"type\\\":\\\"observable\\\"},val)) : undefined; return this.valueFromJulia[\\\"changes\\\"]=false}),self),this[\\\"index\\\"].subscribe((function (val){!(this.valueFromJulia[\\\"index\\\"]) ? (WebIO.setval({\\\"name\\\":\\\"index\\\",\\\"scope\\\":\\\"5788754496653516648\\\",\\\"id\\\":\\\"11\\\",\\\"type\\\":\\\"observable\\\"},val)) : undefined; return this.valueFromJulia[\\\"index\\\"]=false}),self)]\\n        \\n    }\\n    self.model = new AppViewModel();\\n    self.valueFromJulia = {};\\n    for (var key in json_data) {\\n        self.valueFromJulia[key] = false;\\n    }\\n    ko.applyBindings(self.model, self.dom);\\n}\\n);\\n    (WebIO.importBlock({\\\"data\\\":[{\\\"name\\\":\\\"knockout\\\",\\\"type\\\":\\\"js\\\",\\\"url\\\":\\\"/assetserver/27558575459cae9bfc5ad498e3f26f05a87626f1-knockout.js\\\"},{\\\"name\\\":\\\"knockout_punches\\\",\\\"type\\\":\\\"js\\\",\\\"url\\\":\\\"/assetserver/1193612e08267f438b20451825dc83859edf0198-knockout_punches.js\\\"}],\\\"type\\\":\\\"async_block\\\"})).then((imports) => handler.apply(this, imports));\\n}\\n\")])], Dict{Symbol, Any}(:className => \"field interact-widget\")), Observable(Node{WebIO.DOM}(WebIO.DOM(:html, :div), Any[HTML{Tuple{Int64, Int64}}((5, 6))], Dict{Symbol, Any}(:className => \"interact-flex-row interact-widget\")))], Dict{Symbol, Any}())"
      ]
     },
     "execution_count": 13,
     "metadata": {
      "@webio": {
       "kernelId": "ecfa0009-eb11-440f-a4c5-d330810b6a01"
      }
     },
     "output_type": "execute_result"
    }
   ],
   "source": [
    "using Interact\n",
    "@manipulate for a in 0:10, b in 1:11\n",
    "    HTML( (a, b))\n",
    "end"
   ]
  },
  {
   "cell_type": "code",
   "execution_count": 14,
   "id": "b470c454-30fa-414a-ad00-76bbda65f9c4",
   "metadata": {
    "tags": []
   },
   "outputs": [
    {
     "name": "stderr",
     "output_type": "stream",
     "text": [
      "\u001b[32m\u001b[1m   Resolving\u001b[22m\u001b[39m package versions...\n",
      "\u001b[32m\u001b[1m  No Changes\u001b[22m\u001b[39m to `~/.julia/environments/v1.9/Project.toml`\n",
      "\u001b[32m\u001b[1m  No Changes\u001b[22m\u001b[39m to `~/.julia/environments/v1.9/Manifest.toml`\n"
     ]
    }
   ],
   "source": [
    "using Pkg\n",
    "Pkg.add(\"Plots\")"
   ]
  },
  {
   "cell_type": "code",
   "execution_count": 15,
   "id": "db27d6b4-8f4f-455f-a030-a1b873caa0fe",
   "metadata": {
    "tags": []
   },
   "outputs": [
    {
     "data": {
      "image/png": "[encoded data removed]",
      "image/svg+xml": [
       "<?xml version=\"1.0\" encoding=\"utf-8\"?>\n",
       "<svg xmlns=\"http://www.w3.org/2000/svg\" xmlns:xlink=\"http://www.w3.org/1999/xlink\" width=\"600\" height=\"400\" viewBox=\"0 0 2400 1600\">\n",
       "<defs>\n",
       "  <clipPath id=\"clip860\">\n",
       "    <rect x=\"0\" y=\"0\" width=\"2400\" height=\"1600\"/>\n",
       "  </clipPath>\n",
       "</defs>\n",
       "<path clip-path=\"url(#clip860)\" d=\"M0 1600 L2400 1600 L2400 0 L0 0  Z\" fill=\"#ffffff\" fill-rule=\"evenodd\" fill-opacity=\"1\"/>\n",
       "<defs>\n",
       "  <clipPath id=\"clip861\">\n",
       "    <rect x=\"480\" y=\"0\" width=\"1681\" height=\"1600\"/>\n",
       "  </clipPath>\n",
       "</defs>\n",
       "<path clip-path=\"url(#clip860)\" d=\"M201.019 1486.45 L2352.76 1486.45 L2352.76 47.2441 L201.019 47.2441  Z\" fill=\"#ffffff\" fill-rule=\"evenodd\" fill-opacity=\"1\"/>\n",
       "<defs>\n",
       "  <clipPath id=\"clip862\">\n",
       "    <rect x=\"201\" y=\"47\" width=\"2153\" height=\"1440\"/>\n",
       "  </clipPath>\n",
       "</defs>\n",
       "<polyline clip-path=\"url(#clip862)\" style=\"stroke:#000000; stroke-linecap:round; stroke-linejoin:round; stroke-width:2; stroke-opacity:0.1; fill:none\" points=\"464.912,1486.45 464.912,47.2441 \"/>\n",
       "<polyline clip-path=\"url(#clip862)\" style=\"stroke:#000000; stroke-linecap:round; stroke-linejoin:round; stroke-width:2; stroke-opacity:0.1; fill:none\" points=\"870.9,1486.45 870.9,47.2441 \"/>\n",
       "<polyline clip-path=\"url(#clip862)\" style=\"stroke:#000000; stroke-linecap:round; stroke-linejoin:round; stroke-width:2; stroke-opacity:0.1; fill:none\" points=\"1276.89,1486.45 1276.89,47.2441 \"/>\n",
       "<polyline clip-path=\"url(#clip862)\" style=\"stroke:#000000; stroke-linecap:round; stroke-linejoin:round; stroke-width:2; stroke-opacity:0.1; fill:none\" points=\"1682.88,1486.45 1682.88,47.2441 \"/>\n",
       "<polyline clip-path=\"url(#clip862)\" style=\"stroke:#000000; stroke-linecap:round; stroke-linejoin:round; stroke-width:2; stroke-opacity:0.1; fill:none\" points=\"2088.86,1486.45 2088.86,47.2441 \"/>\n",
       "<polyline clip-path=\"url(#clip860)\" style=\"stroke:#000000; stroke-linecap:round; stroke-linejoin:round; stroke-width:4; stroke-opacity:1; fill:none\" points=\"201.019,1486.45 2352.76,1486.45 \"/>\n",
       "<polyline clip-path=\"url(#clip860)\" style=\"stroke:#000000; stroke-linecap:round; stroke-linejoin:round; stroke-width:4; stroke-opacity:1; fill:none\" points=\"464.912,1486.45 464.912,1467.55 \"/>\n",
       "<polyline clip-path=\"url(#clip860)\" style=\"stroke:#000000; stroke-linecap:round; stroke-linejoin:round; stroke-width:4; stroke-opacity:1; fill:none\" points=\"870.9,1486.45 870.9,1467.55 \"/>\n",
       "<polyline clip-path=\"url(#clip860)\" style=\"stroke:#000000; stroke-linecap:round; stroke-linejoin:round; stroke-width:4; stroke-opacity:1; fill:none\" points=\"1276.89,1486.45 1276.89,1467.55 \"/>\n",
       "<polyline clip-path=\"url(#clip860)\" style=\"stroke:#000000; stroke-linecap:round; stroke-linejoin:round; stroke-width:4; stroke-opacity:1; fill:none\" points=\"1682.88,1486.45 1682.88,1467.55 \"/>\n",
       "<polyline clip-path=\"url(#clip860)\" style=\"stroke:#000000; stroke-linecap:round; stroke-linejoin:round; stroke-width:4; stroke-opacity:1; fill:none\" points=\"2088.86,1486.45 2088.86,1467.55 \"/>\n",
       "<path clip-path=\"url(#clip860)\" d=\"M459.564 1544.91 L475.884 1544.91 L475.884 1548.85 L453.939 1548.85 L453.939 1544.91 Q456.601 1542.16 461.185 1537.53 Q465.791 1532.88 466.972 1531.53 Q469.217 1529.01 470.097 1527.27 Q470.999 1525.51 470.999 1523.82 Q470.999 1521.07 469.055 1519.33 Q467.134 1517.6 464.032 1517.6 Q461.833 1517.6 459.379 1518.36 Q456.949 1519.13 454.171 1520.68 L454.171 1515.95 Q456.995 1514.82 459.449 1514.24 Q461.902 1513.66 463.939 1513.66 Q469.31 1513.66 472.504 1516.35 Q475.698 1519.03 475.698 1523.52 Q475.698 1525.65 474.888 1527.57 Q474.101 1529.47 471.995 1532.07 Q471.416 1532.74 468.314 1535.95 Q465.212 1539.15 459.564 1544.91 Z\" fill=\"#000000\" fill-rule=\"nonzero\" fill-opacity=\"1\" /><path clip-path=\"url(#clip860)\" d=\"M873.909 1518.36 L862.103 1536.81 L873.909 1536.81 L873.909 1518.36 M872.682 1514.29 L878.562 1514.29 L878.562 1536.81 L883.492 1536.81 L883.492 1540.7 L878.562 1540.7 L878.562 1548.85 L873.909 1548.85 L873.909 1540.7 L858.307 1540.7 L858.307 1536.19 L872.682 1514.29 Z\" fill=\"#000000\" fill-rule=\"nonzero\" fill-opacity=\"1\" /><path clip-path=\"url(#clip860)\" d=\"M1277.29 1529.7 Q1274.14 1529.7 1272.29 1531.86 Q1270.46 1534.01 1270.46 1537.76 Q1270.46 1541.49 1272.29 1543.66 Q1274.14 1545.82 1277.29 1545.82 Q1280.44 1545.82 1282.27 1543.66 Q1284.12 1541.49 1284.12 1537.76 Q1284.12 1534.01 1282.27 1531.86 Q1280.44 1529.7 1277.29 1529.7 M1286.58 1515.05 L1286.58 1519.31 Q1284.82 1518.48 1283.01 1518.04 Q1281.23 1517.6 1279.47 1517.6 Q1274.84 1517.6 1272.39 1520.72 Q1269.95 1523.85 1269.61 1530.17 Q1270.97 1528.15 1273.03 1527.09 Q1275.09 1526 1277.57 1526 Q1282.78 1526 1285.79 1529.17 Q1288.82 1532.32 1288.82 1537.76 Q1288.82 1543.08 1285.67 1546.3 Q1282.52 1549.52 1277.29 1549.52 Q1271.3 1549.52 1268.13 1544.94 Q1264.95 1540.33 1264.95 1531.6 Q1264.95 1523.41 1268.84 1518.55 Q1272.73 1513.66 1279.28 1513.66 Q1281.04 1513.66 1282.83 1514.01 Q1284.63 1514.36 1286.58 1515.05 Z\" fill=\"#000000\" fill-rule=\"nonzero\" fill-opacity=\"1\" /><path clip-path=\"url(#clip860)\" d=\"M1682.88 1532.44 Q1679.54 1532.44 1677.62 1534.22 Q1675.72 1536 1675.72 1539.13 Q1675.72 1542.25 1677.62 1544.03 Q1679.54 1545.82 1682.88 1545.82 Q1686.21 1545.82 1688.13 1544.03 Q1690.05 1542.23 1690.05 1539.13 Q1690.05 1536 1688.13 1534.22 Q1686.23 1532.44 1682.88 1532.44 M1678.2 1530.45 Q1675.19 1529.7 1673.5 1527.64 Q1671.83 1525.58 1671.83 1522.62 Q1671.83 1518.48 1674.77 1516.07 Q1677.74 1513.66 1682.88 1513.66 Q1688.04 1513.66 1690.98 1516.07 Q1693.92 1518.48 1693.92 1522.62 Q1693.92 1525.58 1692.23 1527.64 Q1690.56 1529.7 1687.57 1530.45 Q1690.95 1531.23 1692.83 1533.52 Q1694.73 1535.82 1694.73 1539.13 Q1694.73 1544.15 1691.65 1546.83 Q1688.59 1549.52 1682.88 1549.52 Q1677.16 1549.52 1674.08 1546.83 Q1671.02 1544.15 1671.02 1539.13 Q1671.02 1535.82 1672.92 1533.52 Q1674.82 1531.23 1678.2 1530.45 M1676.49 1523.06 Q1676.49 1525.75 1678.15 1527.25 Q1679.84 1528.76 1682.88 1528.76 Q1685.88 1528.76 1687.57 1527.25 Q1689.29 1525.75 1689.29 1523.06 Q1689.29 1520.38 1687.57 1518.87 Q1685.88 1517.37 1682.88 1517.37 Q1679.84 1517.37 1678.15 1518.87 Q1676.49 1520.38 1676.49 1523.06 Z\" fill=\"#000000\" fill-rule=\"nonzero\" fill-opacity=\"1\" /><path clip-path=\"url(#clip860)\" d=\"M2063.55 1544.91 L2071.19 1544.91 L2071.19 1518.55 L2062.88 1520.21 L2062.88 1515.95 L2071.14 1514.29 L2075.82 1514.29 L2075.82 1544.91 L2083.46 1544.91 L2083.46 1548.85 L2063.55 1548.85 L2063.55 1544.91 Z\" fill=\"#000000\" fill-rule=\"nonzero\" fill-opacity=\"1\" /><path clip-path=\"url(#clip860)\" d=\"M2102.9 1517.37 Q2099.29 1517.37 2097.46 1520.93 Q2095.66 1524.47 2095.66 1531.6 Q2095.66 1538.71 2097.46 1542.27 Q2099.29 1545.82 2102.9 1545.82 Q2106.54 1545.82 2108.34 1542.27 Q2110.17 1538.71 2110.17 1531.6 Q2110.17 1524.47 2108.34 1520.93 Q2106.54 1517.37 2102.9 1517.37 M2102.9 1513.66 Q2108.71 1513.66 2111.77 1518.27 Q2114.85 1522.85 2114.85 1531.6 Q2114.85 1540.33 2111.77 1544.94 Q2108.71 1549.52 2102.9 1549.52 Q2097.09 1549.52 2094.01 1544.94 Q2090.96 1540.33 2090.96 1531.6 Q2090.96 1522.85 2094.01 1518.27 Q2097.09 1513.66 2102.9 1513.66 Z\" fill=\"#000000\" fill-rule=\"nonzero\" fill-opacity=\"1\" /><polyline clip-path=\"url(#clip862)\" style=\"stroke:#000000; stroke-linecap:round; stroke-linejoin:round; stroke-width:2; stroke-opacity:0.1; fill:none\" points=\"201.019,1447.04 2352.76,1447.04 \"/>\n",
       "<polyline clip-path=\"url(#clip862)\" style=\"stroke:#000000; stroke-linecap:round; stroke-linejoin:round; stroke-width:2; stroke-opacity:0.1; fill:none\" points=\"201.019,1004.64 2352.76,1004.64 \"/>\n",
       "<polyline clip-path=\"url(#clip862)\" style=\"stroke:#000000; stroke-linecap:round; stroke-linejoin:round; stroke-width:2; stroke-opacity:0.1; fill:none\" points=\"201.019,562.234 2352.76,562.234 \"/>\n",
       "<polyline clip-path=\"url(#clip862)\" style=\"stroke:#000000; stroke-linecap:round; stroke-linejoin:round; stroke-width:2; stroke-opacity:0.1; fill:none\" points=\"201.019,119.829 2352.76,119.829 \"/>\n",
       "<polyline clip-path=\"url(#clip860)\" style=\"stroke:#000000; stroke-linecap:round; stroke-linejoin:round; stroke-width:4; stroke-opacity:1; fill:none\" points=\"201.019,1486.45 201.019,47.2441 \"/>\n",
       "<polyline clip-path=\"url(#clip860)\" style=\"stroke:#000000; stroke-linecap:round; stroke-linejoin:round; stroke-width:4; stroke-opacity:1; fill:none\" points=\"201.019,1447.04 219.917,1447.04 \"/>\n",
       "<polyline clip-path=\"url(#clip860)\" style=\"stroke:#000000; stroke-linecap:round; stroke-linejoin:round; stroke-width:4; stroke-opacity:1; fill:none\" points=\"201.019,1004.64 219.917,1004.64 \"/>\n",
       "<polyline clip-path=\"url(#clip860)\" style=\"stroke:#000000; stroke-linecap:round; stroke-linejoin:round; stroke-width:4; stroke-opacity:1; fill:none\" points=\"201.019,562.234 219.917,562.234 \"/>\n",
       "<polyline clip-path=\"url(#clip860)\" style=\"stroke:#000000; stroke-linecap:round; stroke-linejoin:round; stroke-width:4; stroke-opacity:1; fill:none\" points=\"201.019,119.829 219.917,119.829 \"/>\n",
       "<path clip-path=\"url(#clip860)\" d=\"M153.075 1432.84 Q149.464 1432.84 147.635 1436.41 Q145.83 1439.95 145.83 1447.08 Q145.83 1454.18 147.635 1457.75 Q149.464 1461.29 153.075 1461.29 Q156.709 1461.29 158.515 1457.75 Q160.343 1454.18 160.343 1447.08 Q160.343 1439.95 158.515 1436.41 Q156.709 1432.84 153.075 1432.84 M153.075 1429.14 Q158.885 1429.14 161.941 1433.74 Q165.019 1438.33 165.019 1447.08 Q165.019 1455.8 161.941 1460.41 Q158.885 1464.99 153.075 1464.99 Q147.265 1464.99 144.186 1460.41 Q141.131 1455.8 141.131 1447.08 Q141.131 1438.33 144.186 1433.74 Q147.265 1429.14 153.075 1429.14 Z\" fill=\"#000000\" fill-rule=\"nonzero\" fill-opacity=\"1\" /><path clip-path=\"url(#clip860)\" d=\"M53.3995 1017.98 L61.0384 1017.98 L61.0384 991.618 L52.7282 993.284 L52.7282 989.025 L60.9921 987.358 L65.668 987.358 L65.668 1017.98 L73.3068 1017.98 L73.3068 1021.92 L53.3995 1021.92 L53.3995 1017.98 Z\" fill=\"#000000\" fill-rule=\"nonzero\" fill-opacity=\"1\" /><path clip-path=\"url(#clip860)\" d=\"M92.7512 990.437 Q89.1401 990.437 87.3114 994.002 Q85.5058 997.544 85.5058 1004.67 Q85.5058 1011.78 87.3114 1015.34 Q89.1401 1018.89 92.7512 1018.89 Q96.3854 1018.89 98.1909 1015.34 Q100.02 1011.78 100.02 1004.67 Q100.02 997.544 98.1909 994.002 Q96.3854 990.437 92.7512 990.437 M92.7512 986.733 Q98.5613 986.733 101.617 991.34 Q104.696 995.923 104.696 1004.67 Q104.696 1013.4 101.617 1018.01 Q98.5613 1022.59 92.7512 1022.59 Q86.941 1022.59 83.8623 1018.01 Q80.8068 1013.4 80.8068 1004.67 Q80.8068 995.923 83.8623 991.34 Q86.941 986.733 92.7512 986.733 Z\" fill=\"#000000\" fill-rule=\"nonzero\" fill-opacity=\"1\" /><path clip-path=\"url(#clip860)\" d=\"M122.913 990.437 Q119.302 990.437 117.473 994.002 Q115.668 997.544 115.668 1004.67 Q115.668 1011.78 117.473 1015.34 Q119.302 1018.89 122.913 1018.89 Q126.547 1018.89 128.353 1015.34 Q130.182 1011.78 130.182 1004.67 Q130.182 997.544 128.353 994.002 Q126.547 990.437 122.913 990.437 M122.913 986.733 Q128.723 986.733 131.779 991.34 Q134.857 995.923 134.857 1004.67 Q134.857 1013.4 131.779 1018.01 Q128.723 1022.59 122.913 1022.59 Q117.103 1022.59 114.024 1018.01 Q110.969 1013.4 110.969 1004.67 Q110.969 995.923 114.024 991.34 Q117.103 986.733 122.913 986.733 Z\" fill=\"#000000\" fill-rule=\"nonzero\" fill-opacity=\"1\" /><path clip-path=\"url(#clip860)\" d=\"M153.075 990.437 Q149.464 990.437 147.635 994.002 Q145.83 997.544 145.83 1004.67 Q145.83 1011.78 147.635 1015.34 Q149.464 1018.89 153.075 1018.89 Q156.709 1018.89 158.515 1015.34 Q160.343 1011.78 160.343 1004.67 Q160.343 997.544 158.515 994.002 Q156.709 990.437 153.075 990.437 M153.075 986.733 Q158.885 986.733 161.941 991.34 Q165.019 995.923 165.019 1004.67 Q165.019 1013.4 161.941 1018.01 Q158.885 1022.59 153.075 1022.59 Q147.265 1022.59 144.186 1018.01 Q141.131 1013.4 141.131 1004.67 Q141.131 995.923 144.186 991.34 Q147.265 986.733 153.075 986.733 Z\" fill=\"#000000\" fill-rule=\"nonzero\" fill-opacity=\"1\" /><path clip-path=\"url(#clip860)\" d=\"M56.6171 575.579 L72.9365 575.579 L72.9365 579.514 L50.9921 579.514 L50.9921 575.579 Q53.6541 572.824 58.2375 568.195 Q62.8439 563.542 64.0245 562.199 Q66.2698 559.676 67.1494 557.94 Q68.0522 556.181 68.0522 554.491 Q68.0522 551.736 66.1078 550 Q64.1865 548.264 61.0847 548.264 Q58.8856 548.264 56.4319 549.028 Q54.0014 549.792 51.2236 551.343 L51.2236 546.621 Q54.0477 545.486 56.5014 544.908 Q58.955 544.329 60.9921 544.329 Q66.3624 544.329 69.5568 547.014 Q72.7513 549.699 72.7513 554.19 Q72.7513 556.32 71.9411 558.241 Q71.1541 560.139 69.0476 562.732 Q68.4689 563.403 65.367 566.62 Q62.2652 569.815 56.6171 575.579 Z\" fill=\"#000000\" fill-rule=\"nonzero\" fill-opacity=\"1\" /><path clip-path=\"url(#clip860)\" d=\"M92.7512 548.033 Q89.1401 548.033 87.3114 551.597 Q85.5058 555.139 85.5058 562.269 Q85.5058 569.375 87.3114 572.94 Q89.1401 576.482 92.7512 576.482 Q96.3854 576.482 98.1909 572.94 Q100.02 569.375 100.02 562.269 Q100.02 555.139 98.1909 551.597 Q96.3854 548.033 92.7512 548.033 M92.7512 544.329 Q98.5613 544.329 101.617 548.935 Q104.696 553.519 104.696 562.269 Q104.696 570.995 101.617 575.602 Q98.5613 580.185 92.7512 580.185 Q86.941 580.185 83.8623 575.602 Q80.8068 570.995 80.8068 562.269 Q80.8068 553.519 83.8623 548.935 Q86.941 544.329 92.7512 544.329 Z\" fill=\"#000000\" fill-rule=\"nonzero\" fill-opacity=\"1\" /><path clip-path=\"url(#clip860)\" d=\"M122.913 548.033 Q119.302 548.033 117.473 551.597 Q115.668 555.139 115.668 562.269 Q115.668 569.375 117.473 572.94 Q119.302 576.482 122.913 576.482 Q126.547 576.482 128.353 572.94 Q130.182 569.375 130.182 562.269 Q130.182 555.139 128.353 551.597 Q126.547 548.033 122.913 548.033 M122.913 544.329 Q128.723 544.329 131.779 548.935 Q134.857 553.519 134.857 562.269 Q134.857 570.995 131.779 575.602 Q128.723 580.185 122.913 580.185 Q117.103 580.185 114.024 575.602 Q110.969 570.995 110.969 562.269 Q110.969 553.519 114.024 548.935 Q117.103 544.329 122.913 544.329 Z\" fill=\"#000000\" fill-rule=\"nonzero\" fill-opacity=\"1\" /><path clip-path=\"url(#clip860)\" d=\"M153.075 548.033 Q149.464 548.033 147.635 551.597 Q145.83 555.139 145.83 562.269 Q145.83 569.375 147.635 572.94 Q149.464 576.482 153.075 576.482 Q156.709 576.482 158.515 572.94 Q160.343 569.375 160.343 562.269 Q160.343 555.139 158.515 551.597 Q156.709 548.033 153.075 548.033 M153.075 544.329 Q158.885 544.329 161.941 548.935 Q165.019 553.519 165.019 562.269 Q165.019 570.995 161.941 575.602 Q158.885 580.185 153.075 580.185 Q147.265 580.185 144.186 575.602 Q141.131 570.995 141.131 562.269 Q141.131 553.519 144.186 548.935 Q147.265 544.329 153.075 544.329 Z\" fill=\"#000000\" fill-rule=\"nonzero\" fill-opacity=\"1\" /><path clip-path=\"url(#clip860)\" d=\"M66.7559 118.475 Q70.1124 119.193 71.9874 121.461 Q73.8855 123.73 73.8855 127.063 Q73.8855 132.179 70.367 134.98 Q66.8485 137.781 60.3671 137.781 Q58.1912 137.781 55.8764 137.341 Q53.5847 136.924 51.131 136.068 L51.131 131.554 Q53.0754 132.688 55.3903 133.267 Q57.7051 133.846 60.2282 133.846 Q64.6263 133.846 66.918 132.109 Q69.2328 130.373 69.2328 127.063 Q69.2328 124.008 67.08 122.295 Q64.9504 120.559 61.131 120.559 L57.1032 120.559 L57.1032 116.716 L61.3161 116.716 Q64.7652 116.716 66.5939 115.35 Q68.4226 113.961 68.4226 111.369 Q68.4226 108.707 66.5245 107.295 Q64.6495 105.86 61.131 105.86 Q59.2097 105.86 57.0106 106.276 Q54.8115 106.693 52.1727 107.573 L52.1727 103.406 Q54.8347 102.665 57.1495 102.295 Q59.4875 101.924 61.5476 101.924 Q66.8717 101.924 69.9735 104.355 Q73.0753 106.762 73.0753 110.883 Q73.0753 113.753 71.4318 115.744 Q69.7883 117.711 66.7559 118.475 Z\" fill=\"#000000\" fill-rule=\"nonzero\" fill-opacity=\"1\" /><path clip-path=\"url(#clip860)\" d=\"M92.7512 105.628 Q89.1401 105.628 87.3114 109.193 Q85.5058 112.735 85.5058 119.864 Q85.5058 126.971 87.3114 130.535 Q89.1401 134.077 92.7512 134.077 Q96.3854 134.077 98.1909 130.535 Q100.02 126.971 100.02 119.864 Q100.02 112.735 98.1909 109.193 Q96.3854 105.628 92.7512 105.628 M92.7512 101.924 Q98.5613 101.924 101.617 106.531 Q104.696 111.114 104.696 119.864 Q104.696 128.591 101.617 133.197 Q98.5613 137.781 92.7512 137.781 Q86.941 137.781 83.8623 133.197 Q80.8068 128.591 80.8068 119.864 Q80.8068 111.114 83.8623 106.531 Q86.941 101.924 92.7512 101.924 Z\" fill=\"#000000\" fill-rule=\"nonzero\" fill-opacity=\"1\" /><path clip-path=\"url(#clip860)\" d=\"M122.913 105.628 Q119.302 105.628 117.473 109.193 Q115.668 112.735 115.668 119.864 Q115.668 126.971 117.473 130.535 Q119.302 134.077 122.913 134.077 Q126.547 134.077 128.353 130.535 Q130.182 126.971 130.182 119.864 Q130.182 112.735 128.353 109.193 Q126.547 105.628 122.913 105.628 M122.913 101.924 Q128.723 101.924 131.779 106.531 Q134.857 111.114 134.857 119.864 Q134.857 128.591 131.779 133.197 Q128.723 137.781 122.913 137.781 Q117.103 137.781 114.024 133.197 Q110.969 128.591 110.969 119.864 Q110.969 111.114 114.024 106.531 Q117.103 101.924 122.913 101.924 Z\" fill=\"#000000\" fill-rule=\"nonzero\" fill-opacity=\"1\" /><path clip-path=\"url(#clip860)\" d=\"M153.075 105.628 Q149.464 105.628 147.635 109.193 Q145.83 112.735 145.83 119.864 Q145.83 126.971 147.635 130.535 Q149.464 134.077 153.075 134.077 Q156.709 134.077 158.515 130.535 Q160.343 126.971 160.343 119.864 Q160.343 112.735 158.515 109.193 Q156.709 105.628 153.075 105.628 M153.075 101.924 Q158.885 101.924 161.941 106.531 Q165.019 111.114 165.019 119.864 Q165.019 128.591 161.941 133.197 Q158.885 137.781 153.075 137.781 Q147.265 137.781 144.186 133.197 Q141.131 128.591 141.131 119.864 Q141.131 111.114 144.186 106.531 Q147.265 101.924 153.075 101.924 Z\" fill=\"#000000\" fill-rule=\"nonzero\" fill-opacity=\"1\" /><circle clip-path=\"url(#clip862)\" cx=\"261.917\" cy=\"1445.72\" r=\"14.4\" fill=\"#009af9\" fill-rule=\"evenodd\" fill-opacity=\"1\" stroke=\"#000000\" stroke-opacity=\"1\" stroke-width=\"3.2\"/>\n",
       "<circle clip-path=\"url(#clip862)\" cx=\"464.912\" cy=\"1444.39\" r=\"14.4\" fill=\"#009af9\" fill-rule=\"evenodd\" fill-opacity=\"1\" stroke=\"#000000\" stroke-opacity=\"1\" stroke-width=\"3.2\"/>\n",
       "<circle clip-path=\"url(#clip862)\" cx=\"667.906\" cy=\"1441.73\" r=\"14.4\" fill=\"#009af9\" fill-rule=\"evenodd\" fill-opacity=\"1\" stroke=\"#000000\" stroke-opacity=\"1\" stroke-width=\"3.2\"/>\n",
       "<circle clip-path=\"url(#clip862)\" cx=\"870.9\" cy=\"1436.43\" r=\"14.4\" fill=\"#009af9\" fill-rule=\"evenodd\" fill-opacity=\"1\" stroke=\"#000000\" stroke-opacity=\"1\" stroke-width=\"3.2\"/>\n",
       "<circle clip-path=\"url(#clip862)\" cx=\"1073.89\" cy=\"1425.81\" r=\"14.4\" fill=\"#009af9\" fill-rule=\"evenodd\" fill-opacity=\"1\" stroke=\"#000000\" stroke-opacity=\"1\" stroke-width=\"3.2\"/>\n",
       "<circle clip-path=\"url(#clip862)\" cx=\"1276.89\" cy=\"1404.57\" r=\"14.4\" fill=\"#009af9\" fill-rule=\"evenodd\" fill-opacity=\"1\" stroke=\"#000000\" stroke-opacity=\"1\" stroke-width=\"3.2\"/>\n",
       "<circle clip-path=\"url(#clip862)\" cx=\"1479.88\" cy=\"1362.1\" r=\"14.4\" fill=\"#009af9\" fill-rule=\"evenodd\" fill-opacity=\"1\" stroke=\"#000000\" stroke-opacity=\"1\" stroke-width=\"3.2\"/>\n",
       "<circle clip-path=\"url(#clip862)\" cx=\"1682.88\" cy=\"1277.16\" r=\"14.4\" fill=\"#009af9\" fill-rule=\"evenodd\" fill-opacity=\"1\" stroke=\"#000000\" stroke-opacity=\"1\" stroke-width=\"3.2\"/>\n",
       "<circle clip-path=\"url(#clip862)\" cx=\"1885.87\" cy=\"1107.28\" r=\"14.4\" fill=\"#009af9\" fill-rule=\"evenodd\" fill-opacity=\"1\" stroke=\"#000000\" stroke-opacity=\"1\" stroke-width=\"3.2\"/>\n",
       "<circle clip-path=\"url(#clip862)\" cx=\"2088.86\" cy=\"767.51\" r=\"14.4\" fill=\"#009af9\" fill-rule=\"evenodd\" fill-opacity=\"1\" stroke=\"#000000\" stroke-opacity=\"1\" stroke-width=\"3.2\"/>\n",
       "<circle clip-path=\"url(#clip862)\" cx=\"2291.86\" cy=\"87.9763\" r=\"14.4\" fill=\"#009af9\" fill-rule=\"evenodd\" fill-opacity=\"1\" stroke=\"#000000\" stroke-opacity=\"1\" stroke-width=\"3.2\"/>\n",
       "<path clip-path=\"url(#clip860)\" d=\"M272.744 198.898 L540.348 198.898 L540.348 95.2176 L272.744 95.2176  Z\" fill=\"#ffffff\" fill-rule=\"evenodd\" fill-opacity=\"1\"/>\n",
       "<polyline clip-path=\"url(#clip860)\" style=\"stroke:#000000; stroke-linecap:round; stroke-linejoin:round; stroke-width:4; stroke-opacity:1; fill:none\" points=\"272.744,198.898 540.348,198.898 540.348,95.2176 272.744,95.2176 272.744,198.898 \"/>\n",
       "<circle clip-path=\"url(#clip860)\" cx=\"368.377\" cy=\"147.058\" r=\"20.48\" fill=\"#009af9\" fill-rule=\"evenodd\" fill-opacity=\"1\" stroke=\"#000000\" stroke-opacity=\"1\" stroke-width=\"4.55111\"/>\n",
       "<path clip-path=\"url(#clip860)\" d=\"M477.852 166.745 Q476.046 171.375 474.333 172.787 Q472.62 174.199 469.75 174.199 L466.347 174.199 L466.347 170.634 L468.847 170.634 Q470.607 170.634 471.579 169.8 Q472.551 168.967 473.731 165.865 L474.495 163.921 L464.009 138.412 L468.523 138.412 L476.625 158.689 L484.727 138.412 L489.241 138.412 L477.852 166.745 Z\" fill=\"#000000\" fill-rule=\"nonzero\" fill-opacity=\"1\" /><path clip-path=\"url(#clip860)\" d=\"M496.532 160.402 L504.171 160.402 L504.171 134.037 L495.861 135.703 L495.861 131.444 L504.125 129.778 L508.801 129.778 L508.801 160.402 L516.44 160.402 L516.44 164.338 L496.532 164.338 L496.532 160.402 Z\" fill=\"#000000\" fill-rule=\"nonzero\" fill-opacity=\"1\" /></svg>\n"
      ],
      "text/html": [
       "<?xml version=\"1.0\" encoding=\"utf-8\"?>\n",
       "<svg xmlns=\"http://www.w3.org/2000/svg\" xmlns:xlink=\"http://www.w3.org/1999/xlink\" width=\"600\" height=\"400\" viewBox=\"0 0 2400 1600\">\n",
       "<defs>\n",
       "  <clipPath id=\"clip910\">\n",
       "    <rect x=\"0\" y=\"0\" width=\"2400\" height=\"1600\"/>\n",
       "  </clipPath>\n",
       "</defs>\n",
       "<path clip-path=\"url(#clip910)\" d=\"M0 1600 L2400 1600 L2400 0 L0 0  Z\" fill=\"#ffffff\" fill-rule=\"evenodd\" fill-opacity=\"1\"/>\n",
       "<defs>\n",
       "  <clipPath id=\"clip911\">\n",
       "    <rect x=\"480\" y=\"0\" width=\"1681\" height=\"1600\"/>\n",
       "  </clipPath>\n",
       "</defs>\n",
       "<path clip-path=\"url(#clip910)\" d=\"M201.019 1486.45 L2352.76 1486.45 L2352.76 47.2441 L201.019 47.2441  Z\" fill=\"#ffffff\" fill-rule=\"evenodd\" fill-opacity=\"1\"/>\n",
       "<defs>\n",
       "  <clipPath id=\"clip912\">\n",
       "    <rect x=\"201\" y=\"47\" width=\"2153\" height=\"1440\"/>\n",
       "  </clipPath>\n",
       "</defs>\n",
       "<polyline clip-path=\"url(#clip912)\" style=\"stroke:#000000; stroke-linecap:round; stroke-linejoin:round; stroke-width:2; stroke-opacity:0.1; fill:none\" points=\"464.912,1486.45 464.912,47.2441 \"/>\n",
       "<polyline clip-path=\"url(#clip912)\" style=\"stroke:#000000; stroke-linecap:round; stroke-linejoin:round; stroke-width:2; stroke-opacity:0.1; fill:none\" points=\"870.9,1486.45 870.9,47.2441 \"/>\n",
       "<polyline clip-path=\"url(#clip912)\" style=\"stroke:#000000; stroke-linecap:round; stroke-linejoin:round; stroke-width:2; stroke-opacity:0.1; fill:none\" points=\"1276.89,1486.45 1276.89,47.2441 \"/>\n",
       "<polyline clip-path=\"url(#clip912)\" style=\"stroke:#000000; stroke-linecap:round; stroke-linejoin:round; stroke-width:2; stroke-opacity:0.1; fill:none\" points=\"1682.88,1486.45 1682.88,47.2441 \"/>\n",
       "<polyline clip-path=\"url(#clip912)\" style=\"stroke:#000000; stroke-linecap:round; stroke-linejoin:round; stroke-width:2; stroke-opacity:0.1; fill:none\" points=\"2088.86,1486.45 2088.86,47.2441 \"/>\n",
       "<polyline clip-path=\"url(#clip910)\" style=\"stroke:#000000; stroke-linecap:round; stroke-linejoin:round; stroke-width:4; stroke-opacity:1; fill:none\" points=\"201.019,1486.45 2352.76,1486.45 \"/>\n",
       "<polyline clip-path=\"url(#clip910)\" style=\"stroke:#000000; stroke-linecap:round; stroke-linejoin:round; stroke-width:4; stroke-opacity:1; fill:none\" points=\"464.912,1486.45 464.912,1467.55 \"/>\n",
       "<polyline clip-path=\"url(#clip910)\" style=\"stroke:#000000; stroke-linecap:round; stroke-linejoin:round; stroke-width:4; stroke-opacity:1; fill:none\" points=\"870.9,1486.45 870.9,1467.55 \"/>\n",
       "<polyline clip-path=\"url(#clip910)\" style=\"stroke:#000000; stroke-linecap:round; stroke-linejoin:round; stroke-width:4; stroke-opacity:1; fill:none\" points=\"1276.89,1486.45 1276.89,1467.55 \"/>\n",
       "<polyline clip-path=\"url(#clip910)\" style=\"stroke:#000000; stroke-linecap:round; stroke-linejoin:round; stroke-width:4; stroke-opacity:1; fill:none\" points=\"1682.88,1486.45 1682.88,1467.55 \"/>\n",
       "<polyline clip-path=\"url(#clip910)\" style=\"stroke:#000000; stroke-linecap:round; stroke-linejoin:round; stroke-width:4; stroke-opacity:1; fill:none\" points=\"2088.86,1486.45 2088.86,1467.55 \"/>\n",
       "<path clip-path=\"url(#clip910)\" d=\"M459.564 1544.91 L475.884 1544.91 L475.884 1548.85 L453.939 1548.85 L453.939 1544.91 Q456.601 1542.16 461.185 1537.53 Q465.791 1532.88 466.972 1531.53 Q469.217 1529.01 470.097 1527.27 Q470.999 1525.51 470.999 1523.82 Q470.999 1521.07 469.055 1519.33 Q467.134 1517.6 464.032 1517.6 Q461.833 1517.6 459.379 1518.36 Q456.949 1519.13 454.171 1520.68 L454.171 1515.95 Q456.995 1514.82 459.449 1514.24 Q461.902 1513.66 463.939 1513.66 Q469.31 1513.66 472.504 1516.35 Q475.698 1519.03 475.698 1523.52 Q475.698 1525.65 474.888 1527.57 Q474.101 1529.47 471.995 1532.07 Q471.416 1532.74 468.314 1535.95 Q465.212 1539.15 459.564 1544.91 Z\" fill=\"#000000\" fill-rule=\"nonzero\" fill-opacity=\"1\" /><path clip-path=\"url(#clip910)\" d=\"M873.909 1518.36 L862.103 1536.81 L873.909 1536.81 L873.909 1518.36 M872.682 1514.29 L878.562 1514.29 L878.562 1536.81 L883.492 1536.81 L883.492 1540.7 L878.562 1540.7 L878.562 1548.85 L873.909 1548.85 L873.909 1540.7 L858.307 1540.7 L858.307 1536.19 L872.682 1514.29 Z\" fill=\"#000000\" fill-rule=\"nonzero\" fill-opacity=\"1\" /><path clip-path=\"url(#clip910)\" d=\"M1277.29 1529.7 Q1274.14 1529.7 1272.29 1531.86 Q1270.46 1534.01 1270.46 1537.76 Q1270.46 1541.49 1272.29 1543.66 Q1274.14 1545.82 1277.29 1545.82 Q1280.44 1545.82 1282.27 1543.66 Q1284.12 1541.49 1284.12 1537.76 Q1284.12 1534.01 1282.27 1531.86 Q1280.44 1529.7 1277.29 1529.7 M1286.58 1515.05 L1286.58 1519.31 Q1284.82 1518.48 1283.01 1518.04 Q1281.23 1517.6 1279.47 1517.6 Q1274.84 1517.6 1272.39 1520.72 Q1269.95 1523.85 1269.61 1530.17 Q1270.97 1528.15 1273.03 1527.09 Q1275.09 1526 1277.57 1526 Q1282.78 1526 1285.79 1529.17 Q1288.82 1532.32 1288.82 1537.76 Q1288.82 1543.08 1285.67 1546.3 Q1282.52 1549.52 1277.29 1549.52 Q1271.3 1549.52 1268.13 1544.94 Q1264.95 1540.33 1264.95 1531.6 Q1264.95 1523.41 1268.84 1518.55 Q1272.73 1513.66 1279.28 1513.66 Q1281.04 1513.66 1282.83 1514.01 Q1284.63 1514.36 1286.58 1515.05 Z\" fill=\"#000000\" fill-rule=\"nonzero\" fill-opacity=\"1\" /><path clip-path=\"url(#clip910)\" d=\"M1682.88 1532.44 Q1679.54 1532.44 1677.62 1534.22 Q1675.72 1536 1675.72 1539.13 Q1675.72 1542.25 1677.62 1544.03 Q1679.54 1545.82 1682.88 1545.82 Q1686.21 1545.82 1688.13 1544.03 Q1690.05 1542.23 1690.05 1539.13 Q1690.05 1536 1688.13 1534.22 Q1686.23 1532.44 1682.88 1532.44 M1678.2 1530.45 Q1675.19 1529.7 1673.5 1527.64 Q1671.83 1525.58 1671.83 1522.62 Q1671.83 1518.48 1674.77 1516.07 Q1677.74 1513.66 1682.88 1513.66 Q1688.04 1513.66 1690.98 1516.07 Q1693.92 1518.48 1693.92 1522.62 Q1693.92 1525.58 1692.23 1527.64 Q1690.56 1529.7 1687.57 1530.45 Q1690.95 1531.23 1692.83 1533.52 Q1694.73 1535.82 1694.73 1539.13 Q1694.73 1544.15 1691.65 1546.83 Q1688.59 1549.52 1682.88 1549.52 Q1677.16 1549.52 1674.08 1546.83 Q1671.02 1544.15 1671.02 1539.13 Q1671.02 1535.82 1672.92 1533.52 Q1674.82 1531.23 1678.2 1530.45 M1676.49 1523.06 Q1676.49 1525.75 1678.15 1527.25 Q1679.84 1528.76 1682.88 1528.76 Q1685.88 1528.76 1687.57 1527.25 Q1689.29 1525.75 1689.29 1523.06 Q1689.29 1520.38 1687.57 1518.87 Q1685.88 1517.37 1682.88 1517.37 Q1679.84 1517.37 1678.15 1518.87 Q1676.49 1520.38 1676.49 1523.06 Z\" fill=\"#000000\" fill-rule=\"nonzero\" fill-opacity=\"1\" /><path clip-path=\"url(#clip910)\" d=\"M2063.55 1544.91 L2071.19 1544.91 L2071.19 1518.55 L2062.88 1520.21 L2062.88 1515.95 L2071.14 1514.29 L2075.82 1514.29 L2075.82 1544.91 L2083.46 1544.91 L2083.46 1548.85 L2063.55 1548.85 L2063.55 1544.91 Z\" fill=\"#000000\" fill-rule=\"nonzero\" fill-opacity=\"1\" /><path clip-path=\"url(#clip910)\" d=\"M2102.9 1517.37 Q2099.29 1517.37 2097.46 1520.93 Q2095.66 1524.47 2095.66 1531.6 Q2095.66 1538.71 2097.46 1542.27 Q2099.29 1545.82 2102.9 1545.82 Q2106.54 1545.82 2108.34 1542.27 Q2110.17 1538.71 2110.17 1531.6 Q2110.17 1524.47 2108.34 1520.93 Q2106.54 1517.37 2102.9 1517.37 M2102.9 1513.66 Q2108.71 1513.66 2111.77 1518.27 Q2114.85 1522.85 2114.85 1531.6 Q2114.85 1540.33 2111.77 1544.94 Q2108.71 1549.52 2102.9 1549.52 Q2097.09 1549.52 2094.01 1544.94 Q2090.96 1540.33 2090.96 1531.6 Q2090.96 1522.85 2094.01 1518.27 Q2097.09 1513.66 2102.9 1513.66 Z\" fill=\"#000000\" fill-rule=\"nonzero\" fill-opacity=\"1\" /><polyline clip-path=\"url(#clip912)\" style=\"stroke:#000000; stroke-linecap:round; stroke-linejoin:round; stroke-width:2; stroke-opacity:0.1; fill:none\" points=\"201.019,1447.04 2352.76,1447.04 \"/>\n",
       "<polyline clip-path=\"url(#clip912)\" style=\"stroke:#000000; stroke-linecap:round; stroke-linejoin:round; stroke-width:2; stroke-opacity:0.1; fill:none\" points=\"201.019,1004.64 2352.76,1004.64 \"/>\n",
       "<polyline clip-path=\"url(#clip912)\" style=\"stroke:#000000; stroke-linecap:round; stroke-linejoin:round; stroke-width:2; stroke-opacity:0.1; fill:none\" points=\"201.019,562.234 2352.76,562.234 \"/>\n",
       "<polyline clip-path=\"url(#clip912)\" style=\"stroke:#000000; stroke-linecap:round; stroke-linejoin:round; stroke-width:2; stroke-opacity:0.1; fill:none\" points=\"201.019,119.829 2352.76,119.829 \"/>\n",
       "<polyline clip-path=\"url(#clip910)\" style=\"stroke:#000000; stroke-linecap:round; stroke-linejoin:round; stroke-width:4; stroke-opacity:1; fill:none\" points=\"201.019,1486.45 201.019,47.2441 \"/>\n",
       "<polyline clip-path=\"url(#clip910)\" style=\"stroke:#000000; stroke-linecap:round; stroke-linejoin:round; stroke-width:4; stroke-opacity:1; fill:none\" points=\"201.019,1447.04 219.917,1447.04 \"/>\n",
       "<polyline clip-path=\"url(#clip910)\" style=\"stroke:#000000; stroke-linecap:round; stroke-linejoin:round; stroke-width:4; stroke-opacity:1; fill:none\" points=\"201.019,1004.64 219.917,1004.64 \"/>\n",
       "<polyline clip-path=\"url(#clip910)\" style=\"stroke:#000000; stroke-linecap:round; stroke-linejoin:round; stroke-width:4; stroke-opacity:1; fill:none\" points=\"201.019,562.234 219.917,562.234 \"/>\n",
       "<polyline clip-path=\"url(#clip910)\" style=\"stroke:#000000; stroke-linecap:round; stroke-linejoin:round; stroke-width:4; stroke-opacity:1; fill:none\" points=\"201.019,119.829 219.917,119.829 \"/>\n",
       "<path clip-path=\"url(#clip910)\" d=\"M153.075 1432.84 Q149.464 1432.84 147.635 1436.41 Q145.83 1439.95 145.83 1447.08 Q145.83 1454.18 147.635 1457.75 Q149.464 1461.29 153.075 1461.29 Q156.709 1461.29 158.515 1457.75 Q160.343 1454.18 160.343 1447.08 Q160.343 1439.95 158.515 1436.41 Q156.709 1432.84 153.075 1432.84 M153.075 1429.14 Q158.885 1429.14 161.941 1433.74 Q165.019 1438.33 165.019 1447.08 Q165.019 1455.8 161.941 1460.41 Q158.885 1464.99 153.075 1464.99 Q147.265 1464.99 144.186 1460.41 Q141.131 1455.8 141.131 1447.08 Q141.131 1438.33 144.186 1433.74 Q147.265 1429.14 153.075 1429.14 Z\" fill=\"#000000\" fill-rule=\"nonzero\" fill-opacity=\"1\" /><path clip-path=\"url(#clip910)\" d=\"M53.3995 1017.98 L61.0384 1017.98 L61.0384 991.618 L52.7282 993.284 L52.7282 989.025 L60.9921 987.358 L65.668 987.358 L65.668 1017.98 L73.3068 1017.98 L73.3068 1021.92 L53.3995 1021.92 L53.3995 1017.98 Z\" fill=\"#000000\" fill-rule=\"nonzero\" fill-opacity=\"1\" /><path clip-path=\"url(#clip910)\" d=\"M92.7512 990.437 Q89.1401 990.437 87.3114 994.002 Q85.5058 997.544 85.5058 1004.67 Q85.5058 1011.78 87.3114 1015.34 Q89.1401 1018.89 92.7512 1018.89 Q96.3854 1018.89 98.1909 1015.34 Q100.02 1011.78 100.02 1004.67 Q100.02 997.544 98.1909 994.002 Q96.3854 990.437 92.7512 990.437 M92.7512 986.733 Q98.5613 986.733 101.617 991.34 Q104.696 995.923 104.696 1004.67 Q104.696 1013.4 101.617 1018.01 Q98.5613 1022.59 92.7512 1022.59 Q86.941 1022.59 83.8623 1018.01 Q80.8068 1013.4 80.8068 1004.67 Q80.8068 995.923 83.8623 991.34 Q86.941 986.733 92.7512 986.733 Z\" fill=\"#000000\" fill-rule=\"nonzero\" fill-opacity=\"1\" /><path clip-path=\"url(#clip910)\" d=\"M122.913 990.437 Q119.302 990.437 117.473 994.002 Q115.668 997.544 115.668 1004.67 Q115.668 1011.78 117.473 1015.34 Q119.302 1018.89 122.913 1018.89 Q126.547 1018.89 128.353 1015.34 Q130.182 1011.78 130.182 1004.67 Q130.182 997.544 128.353 994.002 Q126.547 990.437 122.913 990.437 M122.913 986.733 Q128.723 986.733 131.779 991.34 Q134.857 995.923 134.857 1004.67 Q134.857 1013.4 131.779 1018.01 Q128.723 1022.59 122.913 1022.59 Q117.103 1022.59 114.024 1018.01 Q110.969 1013.4 110.969 1004.67 Q110.969 995.923 114.024 991.34 Q117.103 986.733 122.913 986.733 Z\" fill=\"#000000\" fill-rule=\"nonzero\" fill-opacity=\"1\" /><path clip-path=\"url(#clip910)\" d=\"M153.075 990.437 Q149.464 990.437 147.635 994.002 Q145.83 997.544 145.83 1004.67 Q145.83 1011.78 147.635 1015.34 Q149.464 1018.89 153.075 1018.89 Q156.709 1018.89 158.515 1015.34 Q160.343 1011.78 160.343 1004.67 Q160.343 997.544 158.515 994.002 Q156.709 990.437 153.075 990.437 M153.075 986.733 Q158.885 986.733 161.941 991.34 Q165.019 995.923 165.019 1004.67 Q165.019 1013.4 161.941 1018.01 Q158.885 1022.59 153.075 1022.59 Q147.265 1022.59 144.186 1018.01 Q141.131 1013.4 141.131 1004.67 Q141.131 995.923 144.186 991.34 Q147.265 986.733 153.075 986.733 Z\" fill=\"#000000\" fill-rule=\"nonzero\" fill-opacity=\"1\" /><path clip-path=\"url(#clip910)\" d=\"M56.6171 575.579 L72.9365 575.579 L72.9365 579.514 L50.9921 579.514 L50.9921 575.579 Q53.6541 572.824 58.2375 568.195 Q62.8439 563.542 64.0245 562.199 Q66.2698 559.676 67.1494 557.94 Q68.0522 556.181 68.0522 554.491 Q68.0522 551.736 66.1078 550 Q64.1865 548.264 61.0847 548.264 Q58.8856 548.264 56.4319 549.028 Q54.0014 549.792 51.2236 551.343 L51.2236 546.621 Q54.0477 545.486 56.5014 544.908 Q58.955 544.329 60.9921 544.329 Q66.3624 544.329 69.5568 547.014 Q72.7513 549.699 72.7513 554.19 Q72.7513 556.32 71.9411 558.241 Q71.1541 560.139 69.0476 562.732 Q68.4689 563.403 65.367 566.62 Q62.2652 569.815 56.6171 575.579 Z\" fill=\"#000000\" fill-rule=\"nonzero\" fill-opacity=\"1\" /><path clip-path=\"url(#clip910)\" d=\"M92.7512 548.033 Q89.1401 548.033 87.3114 551.597 Q85.5058 555.139 85.5058 562.269 Q85.5058 569.375 87.3114 572.94 Q89.1401 576.482 92.7512 576.482 Q96.3854 576.482 98.1909 572.94 Q100.02 569.375 100.02 562.269 Q100.02 555.139 98.1909 551.597 Q96.3854 548.033 92.7512 548.033 M92.7512 544.329 Q98.5613 544.329 101.617 548.935 Q104.696 553.519 104.696 562.269 Q104.696 570.995 101.617 575.602 Q98.5613 580.185 92.7512 580.185 Q86.941 580.185 83.8623 575.602 Q80.8068 570.995 80.8068 562.269 Q80.8068 553.519 83.8623 548.935 Q86.941 544.329 92.7512 544.329 Z\" fill=\"#000000\" fill-rule=\"nonzero\" fill-opacity=\"1\" /><path clip-path=\"url(#clip910)\" d=\"M122.913 548.033 Q119.302 548.033 117.473 551.597 Q115.668 555.139 115.668 562.269 Q115.668 569.375 117.473 572.94 Q119.302 576.482 122.913 576.482 Q126.547 576.482 128.353 572.94 Q130.182 569.375 130.182 562.269 Q130.182 555.139 128.353 551.597 Q126.547 548.033 122.913 548.033 M122.913 544.329 Q128.723 544.329 131.779 548.935 Q134.857 553.519 134.857 562.269 Q134.857 570.995 131.779 575.602 Q128.723 580.185 122.913 580.185 Q117.103 580.185 114.024 575.602 Q110.969 570.995 110.969 562.269 Q110.969 553.519 114.024 548.935 Q117.103 544.329 122.913 544.329 Z\" fill=\"#000000\" fill-rule=\"nonzero\" fill-opacity=\"1\" /><path clip-path=\"url(#clip910)\" d=\"M153.075 548.033 Q149.464 548.033 147.635 551.597 Q145.83 555.139 145.83 562.269 Q145.83 569.375 147.635 572.94 Q149.464 576.482 153.075 576.482 Q156.709 576.482 158.515 572.94 Q160.343 569.375 160.343 562.269 Q160.343 555.139 158.515 551.597 Q156.709 548.033 153.075 548.033 M153.075 544.329 Q158.885 544.329 161.941 548.935 Q165.019 553.519 165.019 562.269 Q165.019 570.995 161.941 575.602 Q158.885 580.185 153.075 580.185 Q147.265 580.185 144.186 575.602 Q141.131 570.995 141.131 562.269 Q141.131 553.519 144.186 548.935 Q147.265 544.329 153.075 544.329 Z\" fill=\"#000000\" fill-rule=\"nonzero\" fill-opacity=\"1\" /><path clip-path=\"url(#clip910)\" d=\"M66.7559 118.475 Q70.1124 119.193 71.9874 121.461 Q73.8855 123.73 73.8855 127.063 Q73.8855 132.179 70.367 134.98 Q66.8485 137.781 60.3671 137.781 Q58.1912 137.781 55.8764 137.341 Q53.5847 136.924 51.131 136.068 L51.131 131.554 Q53.0754 132.688 55.3903 133.267 Q57.7051 133.846 60.2282 133.846 Q64.6263 133.846 66.918 132.109 Q69.2328 130.373 69.2328 127.063 Q69.2328 124.008 67.08 122.295 Q64.9504 120.559 61.131 120.559 L57.1032 120.559 L57.1032 116.716 L61.3161 116.716 Q64.7652 116.716 66.5939 115.35 Q68.4226 113.961 68.4226 111.369 Q68.4226 108.707 66.5245 107.295 Q64.6495 105.86 61.131 105.86 Q59.2097 105.86 57.0106 106.276 Q54.8115 106.693 52.1727 107.573 L52.1727 103.406 Q54.8347 102.665 57.1495 102.295 Q59.4875 101.924 61.5476 101.924 Q66.8717 101.924 69.9735 104.355 Q73.0753 106.762 73.0753 110.883 Q73.0753 113.753 71.4318 115.744 Q69.7883 117.711 66.7559 118.475 Z\" fill=\"#000000\" fill-rule=\"nonzero\" fill-opacity=\"1\" /><path clip-path=\"url(#clip910)\" d=\"M92.7512 105.628 Q89.1401 105.628 87.3114 109.193 Q85.5058 112.735 85.5058 119.864 Q85.5058 126.971 87.3114 130.535 Q89.1401 134.077 92.7512 134.077 Q96.3854 134.077 98.1909 130.535 Q100.02 126.971 100.02 119.864 Q100.02 112.735 98.1909 109.193 Q96.3854 105.628 92.7512 105.628 M92.7512 101.924 Q98.5613 101.924 101.617 106.531 Q104.696 111.114 104.696 119.864 Q104.696 128.591 101.617 133.197 Q98.5613 137.781 92.7512 137.781 Q86.941 137.781 83.8623 133.197 Q80.8068 128.591 80.8068 119.864 Q80.8068 111.114 83.8623 106.531 Q86.941 101.924 92.7512 101.924 Z\" fill=\"#000000\" fill-rule=\"nonzero\" fill-opacity=\"1\" /><path clip-path=\"url(#clip910)\" d=\"M122.913 105.628 Q119.302 105.628 117.473 109.193 Q115.668 112.735 115.668 119.864 Q115.668 126.971 117.473 130.535 Q119.302 134.077 122.913 134.077 Q126.547 134.077 128.353 130.535 Q130.182 126.971 130.182 119.864 Q130.182 112.735 128.353 109.193 Q126.547 105.628 122.913 105.628 M122.913 101.924 Q128.723 101.924 131.779 106.531 Q134.857 111.114 134.857 119.864 Q134.857 128.591 131.779 133.197 Q128.723 137.781 122.913 137.781 Q117.103 137.781 114.024 133.197 Q110.969 128.591 110.969 119.864 Q110.969 111.114 114.024 106.531 Q117.103 101.924 122.913 101.924 Z\" fill=\"#000000\" fill-rule=\"nonzero\" fill-opacity=\"1\" /><path clip-path=\"url(#clip910)\" d=\"M153.075 105.628 Q149.464 105.628 147.635 109.193 Q145.83 112.735 145.83 119.864 Q145.83 126.971 147.635 130.535 Q149.464 134.077 153.075 134.077 Q156.709 134.077 158.515 130.535 Q160.343 126.971 160.343 119.864 Q160.343 112.735 158.515 109.193 Q156.709 105.628 153.075 105.628 M153.075 101.924 Q158.885 101.924 161.941 106.531 Q165.019 111.114 165.019 119.864 Q165.019 128.591 161.941 133.197 Q158.885 137.781 153.075 137.781 Q147.265 137.781 144.186 133.197 Q141.131 128.591 141.131 119.864 Q141.131 111.114 144.186 106.531 Q147.265 101.924 153.075 101.924 Z\" fill=\"#000000\" fill-rule=\"nonzero\" fill-opacity=\"1\" /><circle clip-path=\"url(#clip912)\" cx=\"261.917\" cy=\"1445.72\" r=\"14.4\" fill=\"#009af9\" fill-rule=\"evenodd\" fill-opacity=\"1\" stroke=\"#000000\" stroke-opacity=\"1\" stroke-width=\"3.2\"/>\n",
       "<circle clip-path=\"url(#clip912)\" cx=\"464.912\" cy=\"1444.39\" r=\"14.4\" fill=\"#009af9\" fill-rule=\"evenodd\" fill-opacity=\"1\" stroke=\"#000000\" stroke-opacity=\"1\" stroke-width=\"3.2\"/>\n",
       "<circle clip-path=\"url(#clip912)\" cx=\"667.906\" cy=\"1441.73\" r=\"14.4\" fill=\"#009af9\" fill-rule=\"evenodd\" fill-opacity=\"1\" stroke=\"#000000\" stroke-opacity=\"1\" stroke-width=\"3.2\"/>\n",
       "<circle clip-path=\"url(#clip912)\" cx=\"870.9\" cy=\"1436.43\" r=\"14.4\" fill=\"#009af9\" fill-rule=\"evenodd\" fill-opacity=\"1\" stroke=\"#000000\" stroke-opacity=\"1\" stroke-width=\"3.2\"/>\n",
       "<circle clip-path=\"url(#clip912)\" cx=\"1073.89\" cy=\"1425.81\" r=\"14.4\" fill=\"#009af9\" fill-rule=\"evenodd\" fill-opacity=\"1\" stroke=\"#000000\" stroke-opacity=\"1\" stroke-width=\"3.2\"/>\n",
       "<circle clip-path=\"url(#clip912)\" cx=\"1276.89\" cy=\"1404.57\" r=\"14.4\" fill=\"#009af9\" fill-rule=\"evenodd\" fill-opacity=\"1\" stroke=\"#000000\" stroke-opacity=\"1\" stroke-width=\"3.2\"/>\n",
       "<circle clip-path=\"url(#clip912)\" cx=\"1479.88\" cy=\"1362.1\" r=\"14.4\" fill=\"#009af9\" fill-rule=\"evenodd\" fill-opacity=\"1\" stroke=\"#000000\" stroke-opacity=\"1\" stroke-width=\"3.2\"/>\n",
       "<circle clip-path=\"url(#clip912)\" cx=\"1682.88\" cy=\"1277.16\" r=\"14.4\" fill=\"#009af9\" fill-rule=\"evenodd\" fill-opacity=\"1\" stroke=\"#000000\" stroke-opacity=\"1\" stroke-width=\"3.2\"/>\n",
       "<circle clip-path=\"url(#clip912)\" cx=\"1885.87\" cy=\"1107.28\" r=\"14.4\" fill=\"#009af9\" fill-rule=\"evenodd\" fill-opacity=\"1\" stroke=\"#000000\" stroke-opacity=\"1\" stroke-width=\"3.2\"/>\n",
       "<circle clip-path=\"url(#clip912)\" cx=\"2088.86\" cy=\"767.51\" r=\"14.4\" fill=\"#009af9\" fill-rule=\"evenodd\" fill-opacity=\"1\" stroke=\"#000000\" stroke-opacity=\"1\" stroke-width=\"3.2\"/>\n",
       "<circle clip-path=\"url(#clip912)\" cx=\"2291.86\" cy=\"87.9763\" r=\"14.4\" fill=\"#009af9\" fill-rule=\"evenodd\" fill-opacity=\"1\" stroke=\"#000000\" stroke-opacity=\"1\" stroke-width=\"3.2\"/>\n",
       "<path clip-path=\"url(#clip910)\" d=\"M272.744 198.898 L540.348 198.898 L540.348 95.2176 L272.744 95.2176  Z\" fill=\"#ffffff\" fill-rule=\"evenodd\" fill-opacity=\"1\"/>\n",
       "<polyline clip-path=\"url(#clip910)\" style=\"stroke:#000000; stroke-linecap:round; stroke-linejoin:round; stroke-width:4; stroke-opacity:1; fill:none\" points=\"272.744,198.898 540.348,198.898 540.348,95.2176 272.744,95.2176 272.744,198.898 \"/>\n",
       "<circle clip-path=\"url(#clip910)\" cx=\"368.377\" cy=\"147.058\" r=\"20.48\" fill=\"#009af9\" fill-rule=\"evenodd\" fill-opacity=\"1\" stroke=\"#000000\" stroke-opacity=\"1\" stroke-width=\"4.55111\"/>\n",
       "<path clip-path=\"url(#clip910)\" d=\"M477.852 166.745 Q476.046 171.375 474.333 172.787 Q472.62 174.199 469.75 174.199 L466.347 174.199 L466.347 170.634 L468.847 170.634 Q470.607 170.634 471.579 169.8 Q472.551 168.967 473.731 165.865 L474.495 163.921 L464.009 138.412 L468.523 138.412 L476.625 158.689 L484.727 138.412 L489.241 138.412 L477.852 166.745 Z\" fill=\"#000000\" fill-rule=\"nonzero\" fill-opacity=\"1\" /><path clip-path=\"url(#clip910)\" d=\"M496.532 160.402 L504.171 160.402 L504.171 134.037 L495.861 135.703 L495.861 131.444 L504.125 129.778 L508.801 129.778 L508.801 160.402 L516.44 160.402 L516.44 164.338 L496.532 164.338 L496.532 160.402 Z\" fill=\"#000000\" fill-rule=\"nonzero\" fill-opacity=\"1\" /></svg>\n"
      ]
     },
     "execution_count": 15,
     "metadata": {},
     "output_type": "execute_result"
    }
   ],
   "source": [
    "using Plots\n",
    "x = growth(λ = 2, x0 = 3, N=10)\n",
    "scatter(x)"
   ]
  }
 ],
 "metadata": {
  "@webio": {
   "lastCommId": "f0dd7e8f-f0c4-491d-bdc7-c905c2ae09a7",
   "lastKernelId": "055e6a22-ee24-431a-9874-f39f1a5e5a66"
  },
  "kernelspec": {
   "display_name": "Julia 1.9.0",
   "language": "julia",
   "name": "julia-1.9"
  },
  "language_info": {
   "file_extension": ".jl",
   "mimetype": "application/julia",
   "name": "julia",
   "version": "1.9.0"
  }
 },
 "nbformat": 4,
 "nbformat_minor": 5
}
