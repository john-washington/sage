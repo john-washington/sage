{
 "cells": [
  {
   "cell_type": "markdown",
   "id": "c599aeee-1d56-4efc-b35f-1b2fffea25aa",
   "metadata": {},
   "source": [
    "**Lorentz Transformation**\n",
    "\n",
    "$(x, ct) \\rightarrow (x', ct')$\n",
    "\n",
    "c: the speed of light\n",
    "\n",
    "Lorentz Factor:\n",
    "$\\gamma = \\frac{1}{\\sqrt{1-\\beta ^2}}$\n",
    "\n",
    "$\\gamma = \\frac{1}{\\sqrt{1 - \\frac{v^2}{c^2}}}$\n",
    "\n",
    "$\\beta$: ratio between velocity to the speed of light\n",
    "\n",
    "$\\beta = \\frac{v}{c}$\n",
    "\n",
    "$x' = \\gamma(x - \\beta ct)$\n",
    "\n",
    "$ct' = \\gamma(ct - \\beta x)$\n",
    "\n",
    "Lorentz Transformation:\n",
    "\n",
    "$s:(x, ct) \\rightarrow s'(x', ct')$\n",
    "\n",
    "$x' = \\gamma(x - \\beta ct)$\n",
    "\n",
    "$ct' = \\gamma(ct - \\beta x)$\n",
    "\n",
    "$x'= \\gamma(x -vt)$ \n",
    "\n",
    "$t' = \\gamma(t - \\frac{v x} {c^2})$\n",
    "\n",
    "if $v << c \\rightarrow t' \\approx t$\n",
    "\n",
    "if $v << c \\rightarrow  x' \\approx x -vt $\n"
   ]
  },
  {
   "cell_type": "code",
   "execution_count": null,
   "id": "174d7b87-31fd-4b82-9ea4-740de9781c29",
   "metadata": {},
   "outputs": [],
   "source": []
  }
 ],
 "metadata": {
  "kernelspec": {
   "display_name": "SageMath 9.7",
   "language": "sage",
   "name": "sagemath"
  },
  "language_info": {
   "codemirror_mode": {
    "name": "ipython",
    "version": 3
   },
   "file_extension": ".py",
   "mimetype": "text/x-python",
   "name": "python",
   "nbconvert_exporter": "python",
   "pygments_lexer": "ipython3",
   "version": "3.10.12"
  }
 },
 "nbformat": 4,
 "nbformat_minor": 5
}
