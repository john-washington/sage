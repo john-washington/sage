{
 "cells": [
  {
   "cell_type": "markdown",
   "id": "18656bda-261f-4b99-9eff-b09ecb85bbfa",
   "metadata": {},
   "source": [
    "**1.2 The notion of limit**\n",
    "\n",
    "By using a limit, we'll be able to allow $x$ to get arbitrarily close, but not equal, to 1 and fully understand the behaviro of $g(x)$ near this value.\n",
    "\n",
    "**Preview Activity 1.2**\n",
    "\n",
    "Suppose that $g$ is the function given by the graph below. Use the graph to answer each of the following questions.\n",
    "\n",
    "a) Determine the values $g(-2)$, $g(-1)$, and $g(2)$, if defined. If the function value is not defined, explain\n",
    "\n",
    "Answer:\n",
    " g(-2) = 0\n",
    " g(-1) = 3\n",
    " g(0) = 1\n",
    " g(1) = 3\n",
    " g(2) : not defined\n"
   ]
  },
  {
   "cell_type": "markdown",
   "id": "87b94f95-f38d-4ef8-a3f6-9eb95f192e49",
   "metadata": {},
   "source": [
    "b) For each of the values $a= -1, a =0, a =2$, complete the following sentence:\n",
    "\"As x gets closer and closer (but not equal) to a, g(x) gets as close as we want to ___\""
   ]
  },
  {
   "cell_type": "markdown",
   "id": "24798d69-d27f-421c-b344-c0ad12a66597",
   "metadata": {},
   "source": [
    " case: g(-1) = 3\n",
    " \n",
    " As x gets closer and closer(but not equal) to -1, g(x) gets as close as we want to 3.\n",
    " \n",
    " case: g(0) = 1, but not defined at 4\n",
    " \n",
    " As x gets closer and closer(but not equal) to 0, g(x) gets as close as we want to 4.\n",
    " \n",
    " case: g(2) = not defined, but there is hole at 1\n",
    " \n",
    " As x gets closer and closer(but not equal) to 2, g(x) gets as close as we want to 1\n",
    " \n",
    " "
   ]
  },
  {
   "cell_type": "markdown",
   "id": "0d8b4022-09c3-4bd4-8874-08d07d4d035b",
   "metadata": {},
   "source": [
    "**The Notion of Limit**\n",
    "\n",
    "Limits can be thought of as a way to study the tendency or trend of a function as the input variable approaches a fixed value, or even as the input variable increases or decreases without bound.\n",
    "\n",
    "For the moment, we focus on what it means to say that \"a function f has limit L as x approaches a.\" \n",
    "\n",
    "In Preview Activity 1.2, ...\n",
    "\n",
    "**Definition 1.1**\n",
    "Given a function $f$, a fixed input $x=a$, and a real number $L$, we say that $f$ has limit $L$ as $x$ approaches $a$, and write\n",
    "\n",
    "$$\\lim_{x \\rightarrow a} f(x) = L $$\n",
    "\n",
    "provided that we can make $f(x)$ as close to $L$ as we like by taking $x$ sufficiently close (but not equal) to $a$. If we cannot make $f(x)$ as close to a single value as we would like as $x$ approaches $a$, then we say that $f$ does not have a limit as $x$ approaches $a$.\n",
    "\n",
    "For the function $g$ in Fig 1.5, we make the following observervations:\n",
    "\n",
    "$$\n",
    "\\lim_{x \\rightarrow -1} g(x) = 3,\n",
    "\\lim_{x \\rightarrow 0} g(x) = 4,\n",
    "\\lim_{x \\rightarrow 2} g(x) = 1\n",
    "$$\n",
    "\n",
    "Note: wait a minute, what about when x approach 1?\n",
    "\n",
    "In case, we see two value for g(x), it defined as 3 as x approach 1 from the left, but g(x) is getting close to another value which is 2, as x approach 1 from the right hand side. So there is NOT a single value g(x) as x approaches 1, therefore the limit of g(x) is NOT define when x approaches 1.\n",
    "\n",
    "**Example 1.2.** For each of the following functions, we'd like to know whether or not the function has a limit at the stated $a$-values. Use both numerical and algebraic approaches to investigate and, if possible, estimate or determine the value of the limit. Compare the results with a careful graph of the function on an interval containing the poinsts of interest.\n",
    "\n",
    "a) $f(x) = \\frac{(4-x^2)}{x+2}; a = -1, a =-2$\n",
    "\n"
   ]
  },
  {
   "cell_type": "code",
   "execution_count": 28,
   "id": "53946165-a38e-4e67-9d7b-82283da8a675",
   "metadata": {},
   "outputs": [
    {
     "data": {
      "text/html": [
       "<html>\\(\\displaystyle 3.10000000000000\\)</html>"
      ],
      "text/latex": [
       "$\\displaystyle 3.10000000000000$"
      ],
      "text/plain": [
       "3.10000000000000"
      ]
     },
     "metadata": {},
     "output_type": "display_data"
    },
    {
     "data": {
      "text/html": [
       "<html>\\(\\displaystyle 3.01000000000000\\)</html>"
      ],
      "text/latex": [
       "$\\displaystyle 3.01000000000000$"
      ],
      "text/plain": [
       "3.01000000000000"
      ]
     },
     "metadata": {},
     "output_type": "display_data"
    },
    {
     "data": {
      "text/html": [
       "<html>\\(\\displaystyle 3.00100000000000\\)</html>"
      ],
      "text/latex": [
       "$\\displaystyle 3.00100000000000$"
      ],
      "text/plain": [
       "3.00100000000000"
      ]
     },
     "metadata": {},
     "output_type": "display_data"
    },
    {
     "data": {
      "text/html": [
       "<html>\\(\\displaystyle 3.00010000000000\\)</html>"
      ],
      "text/latex": [
       "$\\displaystyle 3.00010000000000$"
      ],
      "text/plain": [
       "3.00010000000000"
      ]
     },
     "metadata": {},
     "output_type": "display_data"
    },
    {
     "data": {
      "text/html": [
       "<html>\\(\\displaystyle 3.00001000000000\\)</html>"
      ],
      "text/latex": [
       "$\\displaystyle 3.00001000000000$"
      ],
      "text/plain": [
       "3.00001000000000"
      ]
     },
     "metadata": {},
     "output_type": "display_data"
    }
   ],
   "source": [
    "f(x) =(4-x^2)/(x+2)\n",
    "#interesting fact:\n",
    "#show(f(-2))\n",
    "#returns: ValueError: power::eval(): division by zero\n",
    "#which means f is not defined at -2\n",
    "\n",
    "#numberica approach:\n",
    "show(f(-1.1))\n",
    "show(f(-1.01))\n",
    "show(f(-1.001))\n",
    "show(f(-1.0001))\n",
    "show(f(-1.00001))"
   ]
  },
  {
   "cell_type": "code",
   "execution_count": 6,
   "id": "bf9c6c51-8beb-4b27-a1ad-1d71d893b265",
   "metadata": {},
   "outputs": [
    {
     "data": {
      "text/html": [
       "<html>\\(\\displaystyle 2.90000000000000\\)</html>"
      ],
      "text/latex": [
       "$\\displaystyle 2.90000000000000$"
      ],
      "text/plain": [
       "2.90000000000000"
      ]
     },
     "metadata": {},
     "output_type": "display_data"
    },
    {
     "data": {
      "text/html": [
       "<html>\\(\\displaystyle 2.99000000000000\\)</html>"
      ],
      "text/latex": [
       "$\\displaystyle 2.99000000000000$"
      ],
      "text/plain": [
       "2.99000000000000"
      ]
     },
     "metadata": {},
     "output_type": "display_data"
    },
    {
     "data": {
      "text/html": [
       "<html>\\(\\displaystyle 2.99900000000000\\)</html>"
      ],
      "text/latex": [
       "$\\displaystyle 2.99900000000000$"
      ],
      "text/plain": [
       "2.99900000000000"
      ]
     },
     "metadata": {},
     "output_type": "display_data"
    },
    {
     "data": {
      "text/html": [
       "<html>\\(\\displaystyle 2.99990000000000\\)</html>"
      ],
      "text/latex": [
       "$\\displaystyle 2.99990000000000$"
      ],
      "text/plain": [
       "2.99990000000000"
      ]
     },
     "metadata": {},
     "output_type": "display_data"
    },
    {
     "data": {
      "text/html": [
       "<html>\\(\\displaystyle 2.99999000000000\\)</html>"
      ],
      "text/latex": [
       "$\\displaystyle 2.99999000000000$"
      ],
      "text/plain": [
       "2.99999000000000"
      ]
     },
     "metadata": {},
     "output_type": "display_data"
    },
    {
     "data": {
      "text/html": [
       "<html>\\(\\displaystyle 2.99999900000000\\)</html>"
      ],
      "text/latex": [
       "$\\displaystyle 2.99999900000000$"
      ],
      "text/plain": [
       "2.99999900000000"
      ]
     },
     "metadata": {},
     "output_type": "display_data"
    },
    {
     "data": {
      "text/html": [
       "<html>\\(\\displaystyle 2.99999990000000\\)</html>"
      ],
      "text/latex": [
       "$\\displaystyle 2.99999990000000$"
      ],
      "text/plain": [
       "2.99999990000000"
      ]
     },
     "metadata": {},
     "output_type": "display_data"
    },
    {
     "data": {
      "text/html": [
       "<html>\\(\\displaystyle 2.99999999000000\\)</html>"
      ],
      "text/latex": [
       "$\\displaystyle 2.99999999000000$"
      ],
      "text/plain": [
       "2.99999999000000"
      ]
     },
     "metadata": {},
     "output_type": "display_data"
    },
    {
     "data": {
      "text/html": [
       "<html>\\(\\displaystyle 2.99999999900000\\)</html>"
      ],
      "text/latex": [
       "$\\displaystyle 2.99999999900000$"
      ],
      "text/plain": [
       "2.99999999900000"
      ]
     },
     "metadata": {},
     "output_type": "display_data"
    }
   ],
   "source": [
    "#now approach from the right\n",
    "show(f(-0.9))\n",
    "show(f(-0.99))\n",
    "show(f(-0.999))\n",
    "show(f(-0.9999))\n",
    "show(f(-0.99999))\n",
    "show(f(-0.999999))\n",
    "show(f(-0.9999999))\n",
    "show(f(-0.99999999))\n",
    "show(f(-0.999999999))"
   ]
  },
  {
   "cell_type": "markdown",
   "id": "04bf45a0-301b-4fda-830b-b3f7b202fa90",
   "metadata": {},
   "source": [
    "So numerically, we determine as x approaches -1, the limit of $f$ is 3"
   ]
  },
  {
   "cell_type": "code",
   "execution_count": 9,
   "id": "463d650c-3ae9-4ab8-b743-fb761f24934a",
   "metadata": {},
   "outputs": [
    {
     "data": {
      "text/html": [
       "<html>\\(\\displaystyle -x + 2\\)</html>"
      ],
      "text/latex": [
       "$\\displaystyle -x + 2$"
      ],
      "text/plain": [
       "-x + 2"
      ]
     },
     "metadata": {},
     "output_type": "display_data"
    }
   ],
   "source": [
    "#now algebraic approach, even though f is not defined at -2,\n",
    "#we can simply f(x)\n",
    "show(factor(f(x)))"
   ]
  },
  {
   "cell_type": "code",
   "execution_count": 14,
   "id": "a4eb5e25-9afa-49f6-b3ae-ee64520786ae",
   "metadata": {},
   "outputs": [
    {
     "data": {
      "image/png": "[encoded data removed]",
      "text/plain": [
       "Graphics object consisting of 2 graphics primitives"
      ]
     },
     "execution_count": 14,
     "metadata": {},
     "output_type": "execute_result"
    }
   ],
   "source": [
    "#now graphically, that's simple\n",
    "q(x) = 3\n",
    "#how do you draw a vertical line at -1?\n",
    "#w(x) = x \n",
    "plot(f, (x, -2, 2)) + plot(q, (x, -2, 2), color=\"orange\") \n",
    "#+ plot(w, (x, -2, 2), color=\"orange\")"
   ]
  },
  {
   "cell_type": "markdown",
   "id": "2ddeb717-9ac9-45de-bd91-6a8e3d6c78b7",
   "metadata": {},
   "source": [
    "So, algebraically,f(x) is simplified to -x +2,  with understanding that f is not defined at x = -2, so we can still make this statement that as x approaches -2, f(x) get close to but not equal to 4. "
   ]
  },
  {
   "cell_type": "markdown",
   "id": "96a9813f-1f86-4f33-836e-c702d9a6b016",
   "metadata": {},
   "source": [
    "b) $g(x) = \\sin ( \\frac{\\pi}{x} ); a =3, a=0$"
   ]
  },
  {
   "cell_type": "code",
   "execution_count": 2,
   "id": "e24f8bd1-4277-483b-aa2c-7767d593d2b1",
   "metadata": {},
   "outputs": [
    {
     "data": {
      "text/html": [
       "<html>\\(\\displaystyle \\sin\\left(0.344827586206897 \\, \\pi\\right)\\)</html>"
      ],
      "text/latex": [
       "$\\displaystyle \\sin\\left(0.344827586206897 \\, \\pi\\right)$"
      ],
      "text/plain": [
       "sin(0.344827586206897*pi)"
      ]
     },
     "metadata": {},
     "output_type": "display_data"
    },
    {
     "data": {
      "text/html": [
       "<html>\\(\\displaystyle \\sin\\left(0.334448160535117 \\, \\pi\\right)\\)</html>"
      ],
      "text/latex": [
       "$\\displaystyle \\sin\\left(0.334448160535117 \\, \\pi\\right)$"
      ],
      "text/plain": [
       "sin(0.334448160535117*pi)"
      ]
     },
     "metadata": {},
     "output_type": "display_data"
    },
    {
     "data": {
      "text/html": [
       "<html>\\(\\displaystyle \\sin\\left(0.333444481493831 \\, \\pi\\right)\\)</html>"
      ],
      "text/latex": [
       "$\\displaystyle \\sin\\left(0.333444481493831 \\, \\pi\\right)$"
      ],
      "text/plain": [
       "sin(0.333444481493831*pi)"
      ]
     },
     "metadata": {},
     "output_type": "display_data"
    },
    {
     "data": {
      "text/html": [
       "<html>\\(\\displaystyle \\sin\\left(0.333344444814827 \\, \\pi\\right)\\)</html>"
      ],
      "text/latex": [
       "$\\displaystyle \\sin\\left(0.333344444814827 \\, \\pi\\right)$"
      ],
      "text/plain": [
       "sin(0.333344444814827*pi)"
      ]
     },
     "metadata": {},
     "output_type": "display_data"
    },
    {
     "data": {
      "text/html": [
       "<html>\\(\\displaystyle \\sin\\left(0.333334444448148 \\, \\pi\\right)\\)</html>"
      ],
      "text/latex": [
       "$\\displaystyle \\sin\\left(0.333334444448148 \\, \\pi\\right)$"
      ],
      "text/plain": [
       "sin(0.333334444448148*pi)"
      ]
     },
     "metadata": {},
     "output_type": "display_data"
    }
   ],
   "source": [
    "g(x) = sin(pi/x)\n",
    "#numeric appraoch\n",
    "\n",
    "show(g(2.9))\n",
    "show(g(2.99))\n",
    "show(g(2.999))\n",
    "show(g(2.9999))\n",
    "show(g(2.99999))\n"
   ]
  },
  {
   "cell_type": "code",
   "execution_count": 16,
   "id": "2a3489c8-a617-4420-b1a7-b0bf12537f9f",
   "metadata": {},
   "outputs": [
    {
     "data": {
      "text/html": [
       "<html>\\(\\displaystyle \\sin\\left(0.322580645161290 \\, \\pi\\right)\\)</html>"
      ],
      "text/latex": [
       "$\\displaystyle \\sin\\left(0.322580645161290 \\, \\pi\\right)$"
      ],
      "text/plain": [
       "sin(0.322580645161290*pi)"
      ]
     },
     "metadata": {},
     "output_type": "display_data"
    },
    {
     "data": {
      "text/html": [
       "<html>\\(\\displaystyle \\sin\\left(0.332225913621262 \\, \\pi\\right)\\)</html>"
      ],
      "text/latex": [
       "$\\displaystyle \\sin\\left(0.332225913621262 \\, \\pi\\right)$"
      ],
      "text/plain": [
       "sin(0.332225913621262*pi)"
      ]
     },
     "metadata": {},
     "output_type": "display_data"
    },
    {
     "data": {
      "text/html": [
       "<html>\\(\\displaystyle \\sin\\left(0.333222259246918 \\, \\pi\\right)\\)</html>"
      ],
      "text/latex": [
       "$\\displaystyle \\sin\\left(0.333222259246918 \\, \\pi\\right)$"
      ],
      "text/plain": [
       "sin(0.333222259246918*pi)"
      ]
     },
     "metadata": {},
     "output_type": "display_data"
    },
    {
     "data": {
      "text/html": [
       "<html>\\(\\displaystyle \\sin\\left(0.333322222592580 \\, \\pi\\right)\\)</html>"
      ],
      "text/latex": [
       "$\\displaystyle \\sin\\left(0.333322222592580 \\, \\pi\\right)$"
      ],
      "text/plain": [
       "sin(0.333322222592580*pi)"
      ]
     },
     "metadata": {},
     "output_type": "display_data"
    },
    {
     "data": {
      "text/html": [
       "<html>\\(\\displaystyle \\sin\\left(0.333332222225926 \\, \\pi\\right)\\)</html>"
      ],
      "text/latex": [
       "$\\displaystyle \\sin\\left(0.333332222225926 \\, \\pi\\right)$"
      ],
      "text/plain": [
       "sin(0.333332222225926*pi)"
      ]
     },
     "metadata": {},
     "output_type": "display_data"
    }
   ],
   "source": [
    "show(g(3.1))\n",
    "show(g(3.01))\n",
    "show(g(3.001))\n",
    "show(g(3.0001))\n",
    "show(g(3.00001))"
   ]
  },
  {
   "cell_type": "code",
   "execution_count": 26,
   "id": "eeb29853-3f0f-4340-8013-a29851273dba",
   "metadata": {},
   "outputs": [
    {
     "data": {
      "text/html": [
       "<html>\\(\\displaystyle 0.333333333333333\\)</html>"
      ],
      "text/latex": [
       "$\\displaystyle 0.333333333333333$"
      ],
      "text/plain": [
       "0.333333333333333"
      ]
     },
     "metadata": {},
     "output_type": "display_data"
    },
    {
     "data": {
      "text/html": [
       "<html>\\(\\displaystyle 1.04719755119660\\)</html>"
      ],
      "text/latex": [
       "$\\displaystyle 1.04719755119660$"
      ],
      "text/plain": [
       "1.04719755119660"
      ]
     },
     "metadata": {},
     "output_type": "display_data"
    },
    {
     "data": {
      "text/html": [
       "<html>\\(\\displaystyle \\frac{1}{2} \\, \\sqrt{3}\\)</html>"
      ],
      "text/latex": [
       "$\\displaystyle \\frac{1}{2} \\, \\sqrt{3}$"
      ],
      "text/plain": [
       "1/2*sqrt(3)"
      ]
     },
     "metadata": {},
     "output_type": "display_data"
    }
   ],
   "source": [
    "show((1/3).n())\n",
    "show(((1/3)*pi).n())\n",
    "show(sin(pi/3))"
   ]
  },
  {
   "cell_type": "markdown",
   "id": "d70c82fb-f7f4-40b3-b9e9-190614071f57",
   "metadata": {},
   "source": [
    "we say numberically, we determine the result of as x approaches 3, g(x) has a limit at $\\sin(1/3)\\pi$, which is $\\frac{\\sqrt{3}}{2}$"
   ]
  },
  {
   "cell_type": "code",
   "execution_count": 25,
   "id": "293b8011-842f-4f1e-9911-3828e95f7ec4",
   "metadata": {},
   "outputs": [
    {
     "data": {
      "text/html": [
       "<html>\\(\\displaystyle \\frac{1}{2} \\, \\sqrt{3}\\)</html>"
      ],
      "text/latex": [
       "$\\displaystyle \\frac{1}{2} \\, \\sqrt{3}$"
      ],
      "text/plain": [
       "1/2*sqrt(3)"
      ]
     },
     "metadata": {},
     "output_type": "display_data"
    }
   ],
   "source": [
    "#algebraic approach\n",
    "show(g(3))"
   ]
  },
  {
   "cell_type": "markdown",
   "id": "4ae8d200-b728-459c-851d-2937c99e364d",
   "metadata": {},
   "source": [
    "case when $x \\rightarrow 0$"
   ]
  },
  {
   "cell_type": "code",
   "execution_count": 30,
   "id": "ffafa375-d22e-4ecb-ba3b-14f53eb948ee",
   "metadata": {},
   "outputs": [
    {
     "data": {
      "text/html": [
       "<html>\\(\\displaystyle \\sin\\left(10.0000000000000 \\, \\pi\\right)\\)</html>"
      ],
      "text/latex": [
       "$\\displaystyle \\sin\\left(10.0000000000000 \\, \\pi\\right)$"
      ],
      "text/plain": [
       "sin(10.0000000000000*pi)"
      ]
     },
     "metadata": {},
     "output_type": "display_data"
    },
    {
     "data": {
      "text/html": [
       "<html>\\(\\displaystyle \\sin\\left(100.000000000000 \\, \\pi\\right)\\)</html>"
      ],
      "text/latex": [
       "$\\displaystyle \\sin\\left(100.000000000000 \\, \\pi\\right)$"
      ],
      "text/plain": [
       "sin(100.000000000000*pi)"
      ]
     },
     "metadata": {},
     "output_type": "display_data"
    },
    {
     "data": {
      "text/html": [
       "<html>\\(\\displaystyle \\sin\\left(1000.00000000000 \\, \\pi\\right)\\)</html>"
      ],
      "text/latex": [
       "$\\displaystyle \\sin\\left(1000.00000000000 \\, \\pi\\right)$"
      ],
      "text/plain": [
       "sin(1000.00000000000*pi)"
      ]
     },
     "metadata": {},
     "output_type": "display_data"
    },
    {
     "data": {
      "text/html": [
       "<html>\\(\\displaystyle \\sin\\left(10000.0000000000 \\, \\pi\\right)\\)</html>"
      ],
      "text/latex": [
       "$\\displaystyle \\sin\\left(10000.0000000000 \\, \\pi\\right)$"
      ],
      "text/plain": [
       "sin(10000.0000000000*pi)"
      ]
     },
     "metadata": {},
     "output_type": "display_data"
    },
    {
     "data": {
      "text/html": [
       "<html>\\(\\displaystyle \\sin\\left(100000.000000000 \\, \\pi\\right)\\)</html>"
      ],
      "text/latex": [
       "$\\displaystyle \\sin\\left(100000.000000000 \\, \\pi\\right)$"
      ],
      "text/plain": [
       "sin(100000.000000000*pi)"
      ]
     },
     "metadata": {},
     "output_type": "display_data"
    }
   ],
   "source": [
    "show(g(0.1))\n",
    "show(g(0.01))\n",
    "show(g(0.001))\n",
    "show(g(0.0001))\n",
    "show(g(0.00001))"
   ]
  },
  {
   "cell_type": "code",
   "execution_count": 32,
   "id": "0e53a928-48f4-4d29-85fc-cfe88b4b58c7",
   "metadata": {},
   "outputs": [
    {
     "data": {
      "text/html": [
       "<html>\\(\\displaystyle -\\sin\\left(1.11111111111111 \\, \\pi\\right)\\)</html>"
      ],
      "text/latex": [
       "$\\displaystyle -\\sin\\left(1.11111111111111 \\, \\pi\\right)$"
      ],
      "text/plain": [
       "-sin(1.11111111111111*pi)"
      ]
     },
     "metadata": {},
     "output_type": "display_data"
    },
    {
     "data": {
      "text/html": [
       "<html>\\(\\displaystyle -\\sin\\left(1.01010101010101 \\, \\pi\\right)\\)</html>"
      ],
      "text/latex": [
       "$\\displaystyle -\\sin\\left(1.01010101010101 \\, \\pi\\right)$"
      ],
      "text/plain": [
       "-sin(1.01010101010101*pi)"
      ]
     },
     "metadata": {},
     "output_type": "display_data"
    },
    {
     "data": {
      "text/html": [
       "<html>\\(\\displaystyle -\\sin\\left(1.00100100100100 \\, \\pi\\right)\\)</html>"
      ],
      "text/latex": [
       "$\\displaystyle -\\sin\\left(1.00100100100100 \\, \\pi\\right)$"
      ],
      "text/plain": [
       "-sin(1.00100100100100*pi)"
      ]
     },
     "metadata": {},
     "output_type": "display_data"
    },
    {
     "data": {
      "text/html": [
       "<html>\\(\\displaystyle -\\sin\\left(1.00010001000100 \\, \\pi\\right)\\)</html>"
      ],
      "text/latex": [
       "$\\displaystyle -\\sin\\left(1.00010001000100 \\, \\pi\\right)$"
      ],
      "text/plain": [
       "-sin(1.00010001000100*pi)"
      ]
     },
     "metadata": {},
     "output_type": "display_data"
    },
    {
     "data": {
      "text/html": [
       "<html>\\(\\displaystyle -\\sin\\left(1.00001000010000 \\, \\pi\\right)\\)</html>"
      ],
      "text/latex": [
       "$\\displaystyle -\\sin\\left(1.00001000010000 \\, \\pi\\right)$"
      ],
      "text/plain": [
       "-sin(1.00001000010000*pi)"
      ]
     },
     "metadata": {},
     "output_type": "display_data"
    }
   ],
   "source": [
    "show(g(-0.9))\n",
    "show(g(-0.99))\n",
    "show(g(-0.999))\n",
    "show(g(-0.9999))\n",
    "show(g(-0.99999))"
   ]
  },
  {
   "cell_type": "code",
   "execution_count": 33,
   "id": "96ecc83c-c849-4a07-b5f7-264a9d9428e1",
   "metadata": {},
   "outputs": [
    {
     "data": {
      "image/png": "[encoded data removed]",
      "text/plain": [
       "Graphics object consisting of 1 graphics primitive"
      ]
     },
     "execution_count": 33,
     "metadata": {},
     "output_type": "execute_result"
    }
   ],
   "source": [
    "plot(g, (x, -10, 10))"
   ]
  },
  {
   "cell_type": "code",
   "execution_count": 3,
   "id": "36f49b45-71a5-43f0-b9b1-114994eca69f",
   "metadata": {},
   "outputs": [
    {
     "data": {
      "image/png": "[encoded data removed]",
      "text/plain": [
       "Graphics object consisting of 1 graphics primitive"
      ]
     },
     "execution_count": 3,
     "metadata": {},
     "output_type": "execute_result"
    }
   ],
   "source": [
    "plot(g, (x, -0.99, 0))"
   ]
  },
  {
   "cell_type": "code",
   "execution_count": 4,
   "id": "5677f711-d4aa-40d9-ac53-537a4031642b",
   "metadata": {},
   "outputs": [
    {
     "data": {
      "image/png": "[encoded data removed]",
      "text/plain": [
       "Graphics object consisting of 1 graphics primitive"
      ]
     },
     "execution_count": 4,
     "metadata": {},
     "output_type": "execute_result"
    }
   ],
   "source": [
    "plot(g, (x, 0, 1))"
   ]
  },
  {
   "cell_type": "markdown",
   "id": "296b036c-1eab-4718-a9c1-d7ab1e6e205c",
   "metadata": {},
   "source": [
    "comments: looks g(x) oscillates faster and faster as x gets closer to zero, therefore it's hard to pin point a value for limit, so the limit does not exist.\n",
    "\n",
    "I wonder if this is a specific behavior of the sine function.\n",
    "\n",
    "For example, what about $g(x) = c/x, c$ being any constant.\n",
    "\n",
    "Let's try it"
   ]
  },
  {
   "cell_type": "code",
   "execution_count": 10,
   "id": "9d85e80a-1fbe-4cf5-8ac1-c052ce28bee6",
   "metadata": {},
   "outputs": [
    {
     "data": {
      "image/png": "[encoded data removed]",
      "text/plain": [
       "Graphics object consisting of 1 graphics primitive"
      ]
     },
     "execution_count": 10,
     "metadata": {},
     "output_type": "execute_result"
    }
   ],
   "source": [
    "g1(x) = sin(12/x)\n",
    "plot(g1, (x, -5, 5))"
   ]
  },
  {
   "cell_type": "markdown",
   "id": "ef9cb435-c435-4dda-bb3c-dcb2544c3319",
   "metadata": {},
   "source": [
    "Seems like my conjecture is true, it behaves similar to g(x).\n",
    "\n",
    "I also wonder now, if the constant at the nominator has anything to do with it's frequency. Interesting problem to consider.\n",
    "\n",
    "**TO DO: Find out the relationship of the frequency of the sine function to the constant norminator of the form** $\\sin (\\frac{c}{x})$ \n",
    "\n"
   ]
  },
  {
   "cell_type": "code",
   "execution_count": null,
   "id": "5385cb09-0cb3-4e61-9756-b5282bf0fe89",
   "metadata": {},
   "outputs": [],
   "source": []
  },
  {
   "cell_type": "markdown",
   "id": "cd252b00-22f5-4c30-b8d9-aedb1d674e8e",
   "metadata": {},
   "source": [
    "**Activity 1.4**\n",
    "\n",
    "a) $\\lim_{x \\rightarrow 1} \\frac{x^2 -2}{x-1}$\n",
    "\n",
    "b) $\\lim_{x \\rightarrow 0} \\frac{(2+x)^3 -8}{x}$\n",
    "\n",
    "c) $\\lim_{x \\rightarrow 0} \\frac{\\sqrt{x+1} -1}{x}$"
   ]
  },
  {
   "cell_type": "code",
   "execution_count": null,
   "id": "236c3bd0-4406-42b9-adaf-dd492d630ddb",
   "metadata": {},
   "outputs": [],
   "source": []
  },
  {
   "cell_type": "markdown",
   "id": "60049e55-a97f-4b60-b6d6-be81a9a514d2",
   "metadata": {},
   "source": [
    "**Instantaneous Velocity**\n",
    "\n",
    "$IV_{t=a} = \\lim_{b \\rightarrow a} AV_{[a,b]} = \\lim_{b \\rightarrow a} \\frac{s(b) -s(a)}{b-a}$\n",
    "\n",
    "$IV_{t=a} = \\lim_{h \\rightarrow 0} AV_{[a,a+h]} = \\lim_{h \\rightarrow 0} \\frac{s(b) -s(a)}{h}$\n",
    "\n",
    "**Activity 1.5**\n",
    "\n",
    "**Acitivity 1.6**\n",
    "\n",
    "**Summery**\n",
    "\n",
    "**Exercises**"
   ]
  },
  {
   "cell_type": "code",
   "execution_count": null,
   "id": "5bead421-439f-4e37-8f6d-ec2d5f71cb33",
   "metadata": {},
   "outputs": [],
   "source": []
  }
 ],
 "metadata": {
  "kernelspec": {
   "display_name": "SageMath 9.7",
   "language": "sage",
   "name": "sagemath"
  },
  "language_info": {
   "codemirror_mode": {
    "name": "ipython",
    "version": 3
   },
   "file_extension": ".py",
   "mimetype": "text/x-python",
   "name": "python",
   "nbconvert_exporter": "python",
   "pygments_lexer": "ipython3",
   "version": "3.10.6"
  }
 },
 "nbformat": 4,
 "nbformat_minor": 5
}
