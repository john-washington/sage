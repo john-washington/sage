{
 "cells": [
  {
   "cell_type": "markdown",
   "id": "9334389f-9102-4cf8-bf2f-f93cc688937d",
   "metadata": {},
   "source": [
    "**2.3 The product and quotient rules**\n",
    "\n",
    "These rules are the results of analysing algebraic structures of the function in terms of quotion, product, summation, exponentiation, and lineaar combinations, etc, and coming up with fundemental rules on fundemental structues, so that more complicated algebraic structures can be solved with fundemental ones.\n",
    "\n",
    "**Preview Activity 2.3**\n",
    "Let $f$ and $g$ be the functions defined$ f(t) = 2 t^2$ and $g(t) = t^3 + 4 t$\n",
    "\n",
    "a)Determine $f'(t)$ and $g'(t)$\n",
    "\n",
    "b) Let $p(t) = 2 t^2 (t^3 + 4t)$ and observe that $p(tf(t) \\cdot g(t)$.\n",
    "Rewrite the formula for $p$ by distributing the $2 t^2$ term. Then compute\n",
    "$p'(t)$ using sum and constant multiple rules.\n",
    "\n",
    "c) True or false: $p'(t) = f'(t) \\cdot g'(t)$\n",
    "\n",
    "d) $q(t) = \\frac{t+ 4 t}{2 t^2}$ and observe that $q(t) = \\frac{g(t)}{f(t)}$. Rewrite the formula for $q$ by dividing each term in the \n",
    "numerator by the denominator and simplify to write $q$ as a sum of constant multipliers of powers o $t$. Then, compute $q'(t)$ using the sum and constant multiple rules.\n",
    "\n",
    "e) True or false: $q'(t) = \\frac{g'(t)}{f'(t)}$"
   ]
  },
  {
   "cell_type": "code",
   "execution_count": 12,
   "id": "4a7c6be3-2abe-47e0-ba73-a0b8146fd29c",
   "metadata": {},
   "outputs": [
    {
     "data": {
      "text/html": [
       "<html>\\(\\displaystyle t \\ {\\mapsto}\\ 4 \\, t\\)</html>"
      ],
      "text/latex": [
       "$\\displaystyle t \\ {\\mapsto}\\ 4 \\, t$"
      ],
      "text/plain": [
       "t |--> 4*t"
      ]
     },
     "metadata": {},
     "output_type": "display_data"
    }
   ],
   "source": [
    "f(t) = 2* t^2\n",
    "show(f.diff(t))"
   ]
  },
  {
   "cell_type": "code",
   "execution_count": 13,
   "id": "56313866-f850-4f92-91b1-fa3178f5f5d9",
   "metadata": {},
   "outputs": [
    {
     "data": {
      "text/html": [
       "<html>\\(\\displaystyle t \\ {\\mapsto}\\ 3 \\, t^{2} + 4\\)</html>"
      ],
      "text/latex": [
       "$\\displaystyle t \\ {\\mapsto}\\ 3 \\, t^{2} + 4$"
      ],
      "text/plain": [
       "t |--> 3*t^2 + 4"
      ]
     },
     "metadata": {},
     "output_type": "display_data"
    }
   ],
   "source": [
    "g(t) = t^3 + 4*t\n",
    "show(g.diff(t))"
   ]
  },
  {
   "cell_type": "code",
   "execution_count": 14,
   "id": "8aa0edc9-616e-42e7-bbb6-7a90d8be8e1b",
   "metadata": {},
   "outputs": [
    {
     "data": {
      "text/html": [
       "<html>\\(\\displaystyle 2 \\, t^{5} + 8 \\, t^{3}\\)</html>"
      ],
      "text/latex": [
       "$\\displaystyle 2 \\, t^{5} + 8 \\, t^{3}$"
      ],
      "text/plain": [
       "2*t^5 + 8*t^3"
      ]
     },
     "metadata": {},
     "output_type": "display_data"
    }
   ],
   "source": [
    "p(t) = 2 * t^2 * (t^3 + 4*t)\n",
    "show(expand(p(t)))"
   ]
  },
  {
   "cell_type": "code",
   "execution_count": 15,
   "id": "c9156a8c-d9ee-42eb-85f8-95c0f4ded55d",
   "metadata": {},
   "outputs": [
    {
     "data": {
      "text/html": [
       "<html>\\(\\displaystyle 10 \\, t^{4} + 24 \\, t^{2}\\)</html>"
      ],
      "text/latex": [
       "$\\displaystyle 10 \\, t^{4} + 24 \\, t^{2}$"
      ],
      "text/plain": [
       "10*t^4 + 24*t^2"
      ]
     },
     "metadata": {},
     "output_type": "display_data"
    },
    {
     "data": {
      "text/html": [
       "<html>\\(\\displaystyle t \\ {\\mapsto}\\ 10 \\, t^{4} + 24 \\, t^{2}\\)</html>"
      ],
      "text/latex": [
       "$\\displaystyle t \\ {\\mapsto}\\ 10 \\, t^{4} + 24 \\, t^{2}$"
      ],
      "text/plain": [
       "t |--> 10*t^4 + 24*t^2"
      ]
     },
     "metadata": {},
     "output_type": "display_data"
    }
   ],
   "source": [
    "p_prime(t) = 10 * t^4 + 24 * t^2\n",
    "show(p_prime(t))\n",
    "show(expand(p.diff(t)))"
   ]
  },
  {
   "cell_type": "markdown",
   "id": "6d79c073-48e1-4eb6-8722-d30a70908ddc",
   "metadata": {},
   "source": [
    "c) false"
   ]
  },
  {
   "cell_type": "code",
   "execution_count": 16,
   "id": "030dc3d0-da2f-4700-b880-2922a4c0214a",
   "metadata": {},
   "outputs": [
    {
     "data": {
      "text/html": [
       "<html>\\(\\displaystyle t^{3} + 4 \\, t\\)</html>"
      ],
      "text/latex": [
       "$\\displaystyle t^{3} + 4 \\, t$"
      ],
      "text/plain": [
       "t^3 + 4*t"
      ]
     },
     "metadata": {},
     "output_type": "display_data"
    },
    {
     "data": {
      "text/html": [
       "<html>\\(\\displaystyle 2 \\, t^{2}\\)</html>"
      ],
      "text/latex": [
       "$\\displaystyle 2 \\, t^{2}$"
      ],
      "text/plain": [
       "2*t^2"
      ]
     },
     "metadata": {},
     "output_type": "display_data"
    },
    {
     "data": {
      "text/html": [
       "<html>\\(\\displaystyle \\frac{t^{3} + 4 \\, t}{2 \\, t^{2}}\\)</html>"
      ],
      "text/latex": [
       "$\\displaystyle \\frac{t^{3} + 4 \\, t}{2 \\, t^{2}}$"
      ],
      "text/plain": [
       "1/2*(t^3 + 4*t)/t^2"
      ]
     },
     "metadata": {},
     "output_type": "display_data"
    },
    {
     "data": {
      "text/html": [
       "<html>\\(\\displaystyle \\frac{t^{3} + 4 \\, t}{2 \\, t^{2}}\\)</html>"
      ],
      "text/latex": [
       "$\\displaystyle \\frac{t^{3} + 4 \\, t}{2 \\, t^{2}}$"
      ],
      "text/plain": [
       "1/2*(t^3 + 4*t)/t^2"
      ]
     },
     "metadata": {},
     "output_type": "display_data"
    }
   ],
   "source": [
    "q(t) = (t^3 + 4*t )/(2*t^2)\n",
    "show(g(t))\n",
    "show(f(t))\n",
    "     \n",
    "show(q(t))\n",
    "show(g(t)/f(t))"
   ]
  },
  {
   "cell_type": "code",
   "execution_count": 18,
   "id": "5e700819-1ff7-496f-8579-add038d619a2",
   "metadata": {},
   "outputs": [
    {
     "data": {
      "text/html": [
       "<html>\\(\\displaystyle \\frac{1}{2} \\, t + \\frac{2}{t}\\)</html>"
      ],
      "text/latex": [
       "$\\displaystyle \\frac{1}{2} \\, t + \\frac{2}{t}$"
      ],
      "text/plain": [
       "1/2*t + 2/t"
      ]
     },
     "metadata": {},
     "output_type": "display_data"
    }
   ],
   "source": [
    "show(expand(q(t)))"
   ]
  },
  {
   "cell_type": "code",
   "execution_count": 22,
   "id": "b4118e31-8c13-4408-b8ed-cc3bc46c83b9",
   "metadata": {},
   "outputs": [
    {
     "data": {
      "text/html": [
       "<html>\\(\\displaystyle -\\frac{2}{t^{2}} + \\frac{1}{2}\\)</html>"
      ],
      "text/latex": [
       "$\\displaystyle -\\frac{2}{t^{2}} + \\frac{1}{2}$"
      ],
      "text/plain": [
       "-2/t^2 + 1/2"
      ]
     },
     "metadata": {},
     "output_type": "display_data"
    },
    {
     "data": {
      "text/html": [
       "<html>\\(\\displaystyle t \\ {\\mapsto}\\ -\\frac{2}{t^{2}} + \\frac{1}{2}\\)</html>"
      ],
      "text/latex": [
       "$\\displaystyle t \\ {\\mapsto}\\ -\\frac{2}{t^{2}} + \\frac{1}{2}$"
      ],
      "text/plain": [
       "t |--> -2/t^2 + 1/2"
      ]
     },
     "metadata": {},
     "output_type": "display_data"
    }
   ],
   "source": [
    "q_prime(t) = (1/2) -2 * t^(-2)\n",
    "show(q_prime(t))\n",
    "show(expand(q.diff(t)))"
   ]
  },
  {
   "cell_type": "code",
   "execution_count": 25,
   "id": "ae96c01f-c34d-449d-a4f6-8e8d03357ecf",
   "metadata": {},
   "outputs": [
    {
     "data": {
      "text/html": [
       "<html>\\(\\displaystyle t \\ {\\mapsto}\\ 3 \\, t^{2} + 4\\)</html>"
      ],
      "text/latex": [
       "$\\displaystyle t \\ {\\mapsto}\\ 3 \\, t^{2} + 4$"
      ],
      "text/plain": [
       "t |--> 3*t^2 + 4"
      ]
     },
     "metadata": {},
     "output_type": "display_data"
    },
    {
     "data": {
      "text/html": [
       "<html>\\(\\displaystyle t \\ {\\mapsto}\\ 4 \\, t\\)</html>"
      ],
      "text/latex": [
       "$\\displaystyle t \\ {\\mapsto}\\ 4 \\, t$"
      ],
      "text/plain": [
       "t |--> 4*t"
      ]
     },
     "metadata": {},
     "output_type": "display_data"
    },
    {
     "data": {
      "text/html": [
       "<html>\\(\\displaystyle t \\ {\\mapsto}\\ \\frac{3}{4} \\, t + \\frac{1}{t}\\)</html>"
      ],
      "text/latex": [
       "$\\displaystyle t \\ {\\mapsto}\\ \\frac{3}{4} \\, t + \\frac{1}{t}$"
      ],
      "text/plain": [
       "t |--> 3/4*t + 1/t"
      ]
     },
     "metadata": {},
     "output_type": "display_data"
    }
   ],
   "source": [
    "show(g.diff(t))\n",
    "show(f.diff(t))\n",
    "show(expand(g.diff(t)/f.diff(t)))\n"
   ]
  },
  {
   "cell_type": "markdown",
   "id": "7791a86e-e465-4a4e-84d7-418262ee48d5",
   "metadata": {},
   "source": [
    "e) False\n",
    "\n",
    "**The product rule** If $f$ and $g$ are differentiable functions, then their product $P(x)= f(x) \\cdot g(x)$ is also a differentiable function, \n",
    "and \n",
    "$$P'(x)=f(x) g'(x) + g(x) f'(x)$$\n",
    "\n",
    "Example:  $P(z) = z^3 \\cdot cos(z)$, using the product rule to differentiable $P$."
   ]
  },
  {
   "cell_type": "code",
   "execution_count": 67,
   "id": "1a3da427-3bcd-4cc7-9ffb-5a325b40ba29",
   "metadata": {},
   "outputs": [],
   "source": [
    "def Product_Rule(f, g, x):\n",
    "  f_prime(x) = f.diff(x)\n",
    "  g_prime(x) = g.diff(x)\n",
    "  P_prime(x) = f(x)*g_prime(x) + g(x)*f_prime(x)\n",
    "  return P_prime(x)\n"
   ]
  },
  {
   "cell_type": "code",
   "execution_count": 68,
   "id": "5cae8424-0f16-435f-be87-0b09d86b5327",
   "metadata": {},
   "outputs": [
    {
     "data": {
      "text/html": [
       "<html>\\(\\displaystyle -z^{3} \\sin\\left(z\\right) + 3 \\, z^{2} \\cos\\left(z\\right)\\)</html>"
      ],
      "text/latex": [
       "$\\displaystyle -z^{3} \\sin\\left(z\\right) + 3 \\, z^{2} \\cos\\left(z\\right)$"
      ],
      "text/plain": [
       "-z^3*sin(z) + 3*z^2*cos(z)"
      ]
     },
     "metadata": {},
     "output_type": "display_data"
    }
   ],
   "source": [
    "var('z')\n",
    "f(z) = z^3\n",
    "g(z) = cos(z)\n",
    "show(Product_Rule(f,g,z))"
   ]
  },
  {
   "cell_type": "code",
   "execution_count": 26,
   "id": "f43481d2-f7f2-48f1-84c9-90ea0bb7098b",
   "metadata": {},
   "outputs": [
    {
     "data": {
      "text/html": [
       "<html>\\(\\displaystyle -z^{3} \\sin\\left(z\\right) + 3 \\, z^{2} \\cos\\left(z\\right)\\)</html>"
      ],
      "text/latex": [
       "$\\displaystyle -z^{3} \\sin\\left(z\\right) + 3 \\, z^{2} \\cos\\left(z\\right)$"
      ],
      "text/plain": [
       "-z^3*sin(z) + 3*z^2*cos(z)"
      ]
     },
     "metadata": {},
     "output_type": "display_data"
    },
    {
     "data": {
      "text/html": [
       "<html>\\(\\displaystyle z \\ {\\mapsto}\\ -z^{3} \\sin\\left(z\\right) + 3 \\, z^{2} \\cos\\left(z\\right)\\)</html>"
      ],
      "text/latex": [
       "$\\displaystyle z \\ {\\mapsto}\\ -z^{3} \\sin\\left(z\\right) + 3 \\, z^{2} \\cos\\left(z\\right)$"
      ],
      "text/plain": [
       "z |--> -z^3*sin(z) + 3*z^2*cos(z)"
      ]
     },
     "metadata": {},
     "output_type": "display_data"
    }
   ],
   "source": [
    "var('z')\n",
    "P(z) = z^3 * cos(z)\n",
    "\n",
    "P_prime(z) = z^3*(-sin(z)) + cos(z)*3*z^2\n",
    "show(P_prime(z))\n",
    "show(P.diff(z))"
   ]
  },
  {
   "cell_type": "markdown",
   "id": "2a3a54a4-106c-410e-aa1a-af8a3a0b235f",
   "metadata": {},
   "source": [
    "**Activity 2.7**\n",
    "\n",
    "a) Let $m(w) = 3 w^17 4 ^w. Find m'(w)\n",
    "\n",
    "b) Let $h(t) = (sin(t) + cos(t))t^4$. Find $h'(t)$\n",
    "\n",
    "c) Determine the slope of the tangent line to the curve $y=f(x)$ at the point where $a=1$ if $f$ is given by the rule $f(x) = e^x sin(x)$\n",
    "\n",
    "d) Find the tangent line approximation L(x) to the function $y=g(x)$ at the point where $a = -1$ if $g$ is given by the rule $g(x) = (x^2 + x ) 2^x$"
   ]
  },
  {
   "cell_type": "code",
   "execution_count": 28,
   "id": "9e36c9f4-cded-4a5f-81de-8f17650939ea",
   "metadata": {},
   "outputs": [
    {
     "data": {
      "text/html": [
       "<html>\\(\\displaystyle 3 \\cdot 4^{w} w^{17}\\)</html>"
      ],
      "text/latex": [
       "$\\displaystyle 3 \\cdot 4^{w} w^{17}$"
      ],
      "text/plain": [
       "3*4^w*w^17"
      ]
     },
     "metadata": {},
     "output_type": "display_data"
    }
   ],
   "source": [
    "var('w')\n",
    "m(w) = 3 * w^17 * 4^w\n",
    "show(m(w))"
   ]
  },
  {
   "cell_type": "code",
   "execution_count": 31,
   "id": "9eeca1d3-66bd-43ea-9875-332a82f184e5",
   "metadata": {},
   "outputs": [
    {
     "data": {
      "text/html": [
       "<html>\\(\\displaystyle 6 \\cdot 4^{w} w^{17} \\log\\left(2\\right) + 51 \\cdot 4^{w} w^{16}\\)</html>"
      ],
      "text/latex": [
       "$\\displaystyle 6 \\cdot 4^{w} w^{17} \\log\\left(2\\right) + 51 \\cdot 4^{w} w^{16}$"
      ],
      "text/plain": [
       "6*4^w*w^17*log(2) + 51*4^w*w^16"
      ]
     },
     "metadata": {},
     "output_type": "display_data"
    }
   ],
   "source": [
    "m_prime(w) = 3* w^17 * ln(4)*4^w + 4^w * 3* 17*w^16\n",
    "show(m_prime(w))"
   ]
  },
  {
   "cell_type": "code",
   "execution_count": 30,
   "id": "ac453fce-c487-432d-a356-734071ec73de",
   "metadata": {},
   "outputs": [
    {
     "data": {
      "text/html": [
       "<html>\\(\\displaystyle w \\ {\\mapsto}\\ 6 \\cdot 4^{w} w^{17} \\log\\left(2\\right) + 51 \\cdot 4^{w} w^{16}\\)</html>"
      ],
      "text/latex": [
       "$\\displaystyle w \\ {\\mapsto}\\ 6 \\cdot 4^{w} w^{17} \\log\\left(2\\right) + 51 \\cdot 4^{w} w^{16}$"
      ],
      "text/plain": [
       "w |--> 6*4^w*w^17*log(2) + 51*4^w*w^16"
      ]
     },
     "metadata": {},
     "output_type": "display_data"
    }
   ],
   "source": [
    "show(m.diff(w))"
   ]
  },
  {
   "cell_type": "code",
   "execution_count": 33,
   "id": "2f22f08b-c950-4b86-ae7f-713c1d2b32c5",
   "metadata": {},
   "outputs": [
    {
     "data": {
      "text/html": [
       "<html>\\(\\displaystyle t^{4} {\\left(\\cos\\left(t\\right) + \\sin\\left(t\\right)\\right)}\\)</html>"
      ],
      "text/latex": [
       "$\\displaystyle t^{4} {\\left(\\cos\\left(t\\right) + \\sin\\left(t\\right)\\right)}$"
      ],
      "text/plain": [
       "t^4*(cos(t) + sin(t))"
      ]
     },
     "metadata": {},
     "output_type": "display_data"
    }
   ],
   "source": [
    "var('t')\n",
    "h(t) = (sin(t) + cos(t))*t^4\n",
    "show(h(t))"
   ]
  },
  {
   "cell_type": "code",
   "execution_count": 35,
   "id": "0f707f89-504a-4f6f-8cda-09d978d468af",
   "metadata": {},
   "outputs": [
    {
     "data": {
      "text/html": [
       "<html>\\(\\displaystyle t^{4} {\\left(\\cos\\left(t\\right) - \\sin\\left(t\\right)\\right)} + 4 \\, t^{3} {\\left(\\cos\\left(t\\right) + \\sin\\left(t\\right)\\right)}\\)</html>"
      ],
      "text/latex": [
       "$\\displaystyle t^{4} {\\left(\\cos\\left(t\\right) - \\sin\\left(t\\right)\\right)} + 4 \\, t^{3} {\\left(\\cos\\left(t\\right) + \\sin\\left(t\\right)\\right)}$"
      ],
      "text/plain": [
       "t^4*(cos(t) - sin(t)) + 4*t^3*(cos(t) + sin(t))"
      ]
     },
     "metadata": {},
     "output_type": "display_data"
    }
   ],
   "source": [
    "h_prime(t) = (sin(t) + cos(t))* 4*t^3 + t^4 * (cos(t) -sin(t))\n",
    "show(h_prime(t))"
   ]
  },
  {
   "cell_type": "code",
   "execution_count": 36,
   "id": "45172a16-d743-4dee-890c-94c1c9851a90",
   "metadata": {},
   "outputs": [
    {
     "data": {
      "text/html": [
       "<html>\\(\\displaystyle t \\ {\\mapsto}\\ t^{4} {\\left(\\cos\\left(t\\right) - \\sin\\left(t\\right)\\right)} + 4 \\, t^{3} {\\left(\\cos\\left(t\\right) + \\sin\\left(t\\right)\\right)}\\)</html>"
      ],
      "text/latex": [
       "$\\displaystyle t \\ {\\mapsto}\\ t^{4} {\\left(\\cos\\left(t\\right) - \\sin\\left(t\\right)\\right)} + 4 \\, t^{3} {\\left(\\cos\\left(t\\right) + \\sin\\left(t\\right)\\right)}$"
      ],
      "text/plain": [
       "t |--> t^4*(cos(t) - sin(t)) + 4*t^3*(cos(t) + sin(t))"
      ]
     },
     "metadata": {},
     "output_type": "display_data"
    }
   ],
   "source": [
    "show(h.diff(t))"
   ]
  },
  {
   "cell_type": "code",
   "execution_count": 37,
   "id": "52a7b870-a4a9-41e6-9654-2eea9b9971ee",
   "metadata": {},
   "outputs": [
    {
     "data": {
      "text/html": [
       "<html>\\(\\displaystyle \\cos\\left(x\\right) e^{x} + e^{x} \\sin\\left(x\\right)\\)</html>"
      ],
      "text/latex": [
       "$\\displaystyle \\cos\\left(x\\right) e^{x} + e^{x} \\sin\\left(x\\right)$"
      ],
      "text/plain": [
       "cos(x)*e^x + e^x*sin(x)"
      ]
     },
     "metadata": {},
     "output_type": "display_data"
    },
    {
     "data": {
      "text/html": [
       "<html>\\(\\displaystyle x \\ {\\mapsto}\\ \\cos\\left(x\\right) e^{x} + e^{x} \\sin\\left(x\\right)\\)</html>"
      ],
      "text/latex": [
       "$\\displaystyle x \\ {\\mapsto}\\ \\cos\\left(x\\right) e^{x} + e^{x} \\sin\\left(x\\right)$"
      ],
      "text/plain": [
       "x |--> cos(x)*e^x + e^x*sin(x)"
      ]
     },
     "metadata": {},
     "output_type": "display_data"
    }
   ],
   "source": [
    "f(x) = e^x * sin(x)\n",
    "#first calculate the derivate f'(x)\n",
    "f_prime(x) = e^x * cos(x) + sin(x)* e^x\n",
    "show(f_prime(x))\n",
    "show(f.diff(x))"
   ]
  },
  {
   "cell_type": "code",
   "execution_count": 38,
   "id": "621db1df-d25a-492a-86e1-1e5fd744a7c1",
   "metadata": {},
   "outputs": [
    {
     "data": {
      "text/html": [
       "<html>\\(\\displaystyle {\\left(\\cos\\left(1\\right) e + e \\sin\\left(1\\right)\\right)} {\\left(x - 1\\right)} + e \\sin\\left(1\\right)\\)</html>"
      ],
      "text/latex": [
       "$\\displaystyle {\\left(\\cos\\left(1\\right) e + e \\sin\\left(1\\right)\\right)} {\\left(x - 1\\right)} + e \\sin\\left(1\\right)$"
      ],
      "text/plain": [
       "(cos(1)*e + e*sin(1))*(x - 1) + e*sin(1)"
      ]
     },
     "metadata": {},
     "output_type": "display_data"
    }
   ],
   "source": [
    "L(x) = f_prime(1)*(x -1) + f(1)\n",
    "show(L(x))"
   ]
  },
  {
   "cell_type": "code",
   "execution_count": 46,
   "id": "6ed6cd6d-8362-4667-9883-2afd6e436fa0",
   "metadata": {},
   "outputs": [
    {
     "data": {
      "text/html": [
       "<html>\\(\\displaystyle {\\left(x^{2} + x\\right)} 2^{x} \\log\\left(2\\right) + 2^{x} {\\left(2 \\, x + 1\\right)}\\)</html>"
      ],
      "text/latex": [
       "$\\displaystyle {\\left(x^{2} + x\\right)} 2^{x} \\log\\left(2\\right) + 2^{x} {\\left(2 \\, x + 1\\right)}$"
      ],
      "text/plain": [
       "(x^2 + x)*2^x*log(2) + 2^x*(2*x + 1)"
      ]
     },
     "metadata": {},
     "output_type": "display_data"
    },
    {
     "data": {
      "text/html": [
       "<html>\\(\\displaystyle x \\ {\\mapsto}\\ {\\left(x^{2} + x\\right)} 2^{x} \\log\\left(2\\right) + 2^{x} {\\left(2 \\, x + 1\\right)}\\)</html>"
      ],
      "text/latex": [
       "$\\displaystyle x \\ {\\mapsto}\\ {\\left(x^{2} + x\\right)} 2^{x} \\log\\left(2\\right) + 2^{x} {\\left(2 \\, x + 1\\right)}$"
      ],
      "text/plain": [
       "x |--> (x^2 + x)*2^x*log(2) + 2^x*(2*x + 1)"
      ]
     },
     "metadata": {},
     "output_type": "display_data"
    }
   ],
   "source": [
    "g(x) = (x^2 + x) * 2^x\n",
    "g_prime(x) = (x^2 + x)* ln(2)*2^x + 2^x * (2*x + 1* x^0)\n",
    "show(g_prime(x))\n",
    "show(g.diff(x))"
   ]
  },
  {
   "cell_type": "code",
   "execution_count": 45,
   "id": "cd13f922-9eaf-4df8-8ab1-a663f1a3cc9e",
   "metadata": {},
   "outputs": [
    {
     "data": {
      "text/html": [
       "<html>\\(\\displaystyle -\\frac{1}{2} \\, x - \\frac{1}{2}\\)</html>"
      ],
      "text/latex": [
       "$\\displaystyle -\\frac{1}{2} \\, x - \\frac{1}{2}$"
      ],
      "text/plain": [
       "-1/2*x - 1/2"
      ]
     },
     "metadata": {},
     "output_type": "display_data"
    },
    {
     "data": {
      "image/png": "[encoded data removed]",
      "text/plain": [
       "Graphics object consisting of 2 graphics primitives"
      ]
     },
     "execution_count": 45,
     "metadata": {},
     "output_type": "execute_result"
    }
   ],
   "source": [
    "L(x) = g_prime(-1)*(x -(-1)) + g(-1)\n",
    "show(L(x))\n",
    "\n",
    "plot(g, (x, -10, 1)) + plot(L, (x, -10, 1), color=\"indigo\")\n"
   ]
  },
  {
   "cell_type": "markdown",
   "id": "4f6e23c1-b562-4b20-9b87-08a0de6948fc",
   "metadata": {},
   "source": [
    "**The quotient rule**\n",
    "\n",
    "**Note**\n",
    "\n",
    "**Quotient**: the integer part of the result of division of two algebraic expressions, including numbers, e.g.\n",
    "\n",
    "In our current chapter,\n",
    "$Q(x) = {f(x)}/{g(x)}$, which adds to our definition above, the case of division of functions, and seems like the total result of the division of two functions, is another function, called a quotient as well.\n",
    "\n",
    "**Fraction**: the part that is non integer and smaller than 1, as the result of division.\n",
    "\n",
    "When we consider the computing the derivative of Quotient as defined above, we need to think about the idea of differentiable function at points or intervals.\n",
    "\n",
    "In the case of Quotient derivative, we need to think when $g(x) \\neq 0$, because otherwise, the Quotient is not defined.\n",
    "\n",
    "Since $Q = f/g$, solving this equation we get $f(x) = Q(x) \\cdot g(x)$, then this is a product formula which we apply the proven product rule, to get the following equation:\n",
    "\n",
    "$f'(x) =Q(x)g'(x) + g(x)Q'(x)$, which resolve to:\n",
    "\n",
    "$Q'(x)g(x) = f'(x) - Q(x)g'(x)$, divide both sides by $g(x)$, we have:\n",
    "\n",
    "$Q'(x) = \\frac{f'(x) - Q(x)g'(x)}{g(x)}$, finally replacing $Q(x) = f(x)/g(x)$, we get:\n",
    "\n",
    "$Q'(x) = \\frac{g(x)f'(x) - f(x)g'(x)}{g(x)^2}$\n",
    "\n",
    "So the **Quotient Rule**:\n",
    "\n",
    "If $f$ and $g$ are differentiable functions, then their quotient \n",
    "$Q(x) = \\frac{f(x)}{g(x)}$ is also a differentiable function for all $x$ where $g(x) \\neq 0$, and\n",
    "\n",
    "$$Q'(x) = \\frac{g(x)f'(x)-f(x)g'(x)}{g(x)^2} $$\n"
   ]
  },
  {
   "cell_type": "markdown",
   "id": "4c88c85f-8e77-4e90-b1df-2923855f16e2",
   "metadata": {},
   "source": [
    "My own version 1 verbal expression of formula is the following:\n",
    "\n",
    "\"Given two functions both defined over the same variable $x$, the result of their division, is also differentable provided that both functions are differentable, and the derivative of the bottom function is not zero for all values of $x$ in question, and the bottom function itself can not be zero either.\"\n",
    "\n",
    "**Reminder: Differentiable function is defined when the function Continuous**\n",
    "\n",
    "Example:\n",
    "\n",
    "$Q(t) = sin(t) / 2^t$"
   ]
  },
  {
   "cell_type": "code",
   "execution_count": null,
   "id": "cc98ffbe-0db7-4c35-84f1-5044f0205825",
   "metadata": {},
   "outputs": [],
   "source": []
  },
  {
   "cell_type": "code",
   "execution_count": 70,
   "id": "32c6eec2-e576-4ab2-8fe2-9dbf6ab5d131",
   "metadata": {},
   "outputs": [],
   "source": [
    "def Quotient_Rule(f, g, x):\n",
    "  f_prime(x) = f.diff(x)\n",
    "  g_prime(x) = g.diff(x)\n",
    "  Q_prime(x) = (g(x)*f_prime(x) - f(x)*g_prime(x))/g(x)^2\n",
    "  return Q_prime(x)\n"
   ]
  },
  {
   "cell_type": "code",
   "execution_count": 72,
   "id": "b1778afa-1b33-4c6c-a05b-8d8c53e4e313",
   "metadata": {},
   "outputs": [
    {
     "data": {
      "text/html": [
       "<html>\\(\\displaystyle -\\frac{\\log\\left(2\\right) \\sin\\left(t\\right) - \\cos\\left(t\\right)}{2^{t}}\\)</html>"
      ],
      "text/latex": [
       "$\\displaystyle -\\frac{\\log\\left(2\\right) \\sin\\left(t\\right) - \\cos\\left(t\\right)}{2^{t}}$"
      ],
      "text/plain": [
       "-(log(2)*sin(t) - cos(t))/2^t"
      ]
     },
     "metadata": {},
     "output_type": "display_data"
    }
   ],
   "source": [
    "var('t')\n",
    "f(t) = sin(t)\n",
    "g(t) = 2^t\n",
    "show(factor(expand(Quotient_Rule(f,g,t))))"
   ]
  },
  {
   "cell_type": "code",
   "execution_count": 55,
   "id": "f6dfd8cd-87b3-49c5-b0ae-127858d255c6",
   "metadata": {},
   "outputs": [
    {
     "data": {
      "text/html": [
       "<html>\\(\\displaystyle \\sin\\left(t\\right)\\)</html>"
      ],
      "text/latex": [
       "$\\displaystyle \\sin\\left(t\\right)$"
      ],
      "text/plain": [
       "sin(t)"
      ]
     },
     "metadata": {},
     "output_type": "display_data"
    },
    {
     "data": {
      "text/html": [
       "<html>\\(\\displaystyle 2^{t}\\)</html>"
      ],
      "text/latex": [
       "$\\displaystyle 2^{t}$"
      ],
      "text/plain": [
       "2^t"
      ]
     },
     "metadata": {},
     "output_type": "display_data"
    },
    {
     "data": {
      "text/html": [
       "<html>\\(\\displaystyle \\cos\\left(t\\right)\\)</html>"
      ],
      "text/latex": [
       "$\\displaystyle \\cos\\left(t\\right)$"
      ],
      "text/plain": [
       "cos(t)"
      ]
     },
     "metadata": {},
     "output_type": "display_data"
    },
    {
     "data": {
      "text/html": [
       "<html>\\(\\displaystyle 2^{t} \\log\\left(2\\right)\\)</html>"
      ],
      "text/latex": [
       "$\\displaystyle 2^{t} \\log\\left(2\\right)$"
      ],
      "text/plain": [
       "2^t*log(2)"
      ]
     },
     "metadata": {},
     "output_type": "display_data"
    },
    {
     "data": {
      "text/html": [
       "<html>\\(\\displaystyle -\\frac{\\log\\left(2\\right) \\sin\\left(t\\right) - \\cos\\left(t\\right)}{2^{t}}\\)</html>"
      ],
      "text/latex": [
       "$\\displaystyle -\\frac{\\log\\left(2\\right) \\sin\\left(t\\right) - \\cos\\left(t\\right)}{2^{t}}$"
      ],
      "text/plain": [
       "-(log(2)*sin(t) - cos(t))/2^t"
      ]
     },
     "metadata": {},
     "output_type": "display_data"
    },
    {
     "data": {
      "text/html": [
       "<html>\\(\\displaystyle \\frac{\\sin\\left(t\\right)}{2^{t}}\\)</html>"
      ],
      "text/latex": [
       "$\\displaystyle \\frac{\\sin\\left(t\\right)}{2^{t}}$"
      ],
      "text/plain": [
       "sin(t)/2^t"
      ]
     },
     "metadata": {},
     "output_type": "display_data"
    },
    {
     "data": {
      "text/html": [
       "<html>\\(\\displaystyle -\\frac{\\log\\left(2\\right) \\sin\\left(t\\right) - \\cos\\left(t\\right)}{2^{t}}\\)</html>"
      ],
      "text/latex": [
       "$\\displaystyle -\\frac{\\log\\left(2\\right) \\sin\\left(t\\right) - \\cos\\left(t\\right)}{2^{t}}$"
      ],
      "text/plain": [
       "-(log(2)*sin(t) - cos(t))/2^t"
      ]
     },
     "metadata": {},
     "output_type": "display_data"
    }
   ],
   "source": [
    "f(t) = sin(t)\n",
    "f_prime(t) = f.diff(t)\n",
    "g(t) = 2^t\n",
    "g_prime(t) = g.diff(t)\n",
    "Q_prime(t) = (g(t)*f_prime(t)-f(t)*g_prime(t) )/g(t)^2\n",
    "show(f(t))\n",
    "show(g(t))\n",
    "show(f_prime(t))\n",
    "show(g_prime(t))\n",
    "show(factor(expand(Q_prime(t))))\n",
    "\n",
    "Q(t) = f(t)/g(t)\n",
    "show(Q(t))\n",
    "show(factor(expand(Q.diff(t))))\n",
    "\n"
   ]
  },
  {
   "cell_type": "markdown",
   "id": "cc79e1c3-6f62-49e3-811e-1a15ed9ab03e",
   "metadata": {},
   "source": [
    "**Activity 2.8**\n",
    "\n",
    "a) Let $r(z) = \\frac{3^z}{z^4+ 1}, find $r'(z)\n",
    "\n",
    "b) Let $v(t) = \\frac{sin(t)}{cos(t)+t^2}$, find $v'(t)$\n",
    "\n",
    "c) Determine the slope of the tangen line to the curve $R(x) = \\frac{x^2 -2x - 8}{x^2 -9}$ at the point where $x = 0$\n",
    "\n",
    "d) When a camera flashes, the intensity $I$ of light seen by the eye is given by the function\n"
   ]
  },
  {
   "cell_type": "code",
   "execution_count": null,
   "id": "0789ac83-591d-4812-ae1f-53ce93c4a4ca",
   "metadata": {},
   "outputs": [],
   "source": []
  },
  {
   "cell_type": "code",
   "execution_count": 56,
   "id": "1699903f-0ea1-4725-85a7-5347ebf56ab4",
   "metadata": {},
   "outputs": [
    {
     "data": {
      "text/html": [
       "<html>\\(\\displaystyle 3^{t}\\)</html>"
      ],
      "text/latex": [
       "$\\displaystyle 3^{t}$"
      ],
      "text/plain": [
       "3^t"
      ]
     },
     "metadata": {},
     "output_type": "display_data"
    },
    {
     "data": {
      "text/html": [
       "<html>\\(\\displaystyle t^{4} + 1\\)</html>"
      ],
      "text/latex": [
       "$\\displaystyle t^{4} + 1$"
      ],
      "text/plain": [
       "t^4 + 1"
      ]
     },
     "metadata": {},
     "output_type": "display_data"
    },
    {
     "data": {
      "text/html": [
       "<html>\\(\\displaystyle 3^{t} \\log\\left(3\\right)\\)</html>"
      ],
      "text/latex": [
       "$\\displaystyle 3^{t} \\log\\left(3\\right)$"
      ],
      "text/plain": [
       "3^t*log(3)"
      ]
     },
     "metadata": {},
     "output_type": "display_data"
    },
    {
     "data": {
      "text/html": [
       "<html>\\(\\displaystyle 4 \\, t^{3}\\)</html>"
      ],
      "text/latex": [
       "$\\displaystyle 4 \\, t^{3}$"
      ],
      "text/plain": [
       "4*t^3"
      ]
     },
     "metadata": {},
     "output_type": "display_data"
    },
    {
     "data": {
      "text/html": [
       "<html>\\(\\displaystyle \\frac{{\\left(t^{4} \\log\\left(3\\right) - 4 \\, t^{3} + \\log\\left(3\\right)\\right)} 3^{t}}{{\\left(t^{4} + 1\\right)}^{2}}\\)</html>"
      ],
      "text/latex": [
       "$\\displaystyle \\frac{{\\left(t^{4} \\log\\left(3\\right) - 4 \\, t^{3} + \\log\\left(3\\right)\\right)} 3^{t}}{{\\left(t^{4} + 1\\right)}^{2}}$"
      ],
      "text/plain": [
       "(t^4*log(3) - 4*t^3 + log(3))*3^t/(t^4 + 1)^2"
      ]
     },
     "metadata": {},
     "output_type": "display_data"
    },
    {
     "data": {
      "text/html": [
       "<html>\\(\\displaystyle \\frac{3^{t}}{t^{4} + 1}\\)</html>"
      ],
      "text/latex": [
       "$\\displaystyle \\frac{3^{t}}{t^{4} + 1}$"
      ],
      "text/plain": [
       "3^t/(t^4 + 1)"
      ]
     },
     "metadata": {},
     "output_type": "display_data"
    },
    {
     "data": {
      "text/html": [
       "<html>\\(\\displaystyle \\frac{{\\left(t^{4} \\log\\left(3\\right) - 4 \\, t^{3} + \\log\\left(3\\right)\\right)} 3^{t}}{{\\left(t^{4} + 1\\right)}^{2}}\\)</html>"
      ],
      "text/latex": [
       "$\\displaystyle \\frac{{\\left(t^{4} \\log\\left(3\\right) - 4 \\, t^{3} + \\log\\left(3\\right)\\right)} 3^{t}}{{\\left(t^{4} + 1\\right)}^{2}}$"
      ],
      "text/plain": [
       "(t^4*log(3) - 4*t^3 + log(3))*3^t/(t^4 + 1)^2"
      ]
     },
     "metadata": {},
     "output_type": "display_data"
    }
   ],
   "source": [
    "f(t) = 3^t\n",
    "f_prime(t) = f.diff(t)\n",
    "g(t) = t^4 + 1\n",
    "g_prime(t) = g.diff(t)\n",
    "Q_prime(t) = (g(t)*f_prime(t)-f(t)*g_prime(t) )/g(t)^2\n",
    "show(f(t))\n",
    "show(g(t))\n",
    "show(f_prime(t))\n",
    "show(g_prime(t))\n",
    "show(factor(expand(Q_prime(t))))\n",
    "\n",
    "Q(t) = f(t)/g(t)\n",
    "show(Q(t))\n",
    "show(factor(expand(Q.diff(t))))\n",
    "\n"
   ]
  },
  {
   "cell_type": "code",
   "execution_count": null,
   "id": "a4fbf8ee-67cf-409b-a300-278248c7b572",
   "metadata": {},
   "outputs": [],
   "source": []
  },
  {
   "cell_type": "code",
   "execution_count": 57,
   "id": "c879ffe5-74d3-4e49-9484-9f0cb2065e4e",
   "metadata": {},
   "outputs": [
    {
     "data": {
      "text/html": [
       "<html>\\(\\displaystyle \\sin\\left(t\\right)\\)</html>"
      ],
      "text/latex": [
       "$\\displaystyle \\sin\\left(t\\right)$"
      ],
      "text/plain": [
       "sin(t)"
      ]
     },
     "metadata": {},
     "output_type": "display_data"
    },
    {
     "data": {
      "text/html": [
       "<html>\\(\\displaystyle t^{2} + \\cos\\left(t\\right)\\)</html>"
      ],
      "text/latex": [
       "$\\displaystyle t^{2} + \\cos\\left(t\\right)$"
      ],
      "text/plain": [
       "t^2 + cos(t)"
      ]
     },
     "metadata": {},
     "output_type": "display_data"
    },
    {
     "data": {
      "text/html": [
       "<html>\\(\\displaystyle \\cos\\left(t\\right)\\)</html>"
      ],
      "text/latex": [
       "$\\displaystyle \\cos\\left(t\\right)$"
      ],
      "text/plain": [
       "cos(t)"
      ]
     },
     "metadata": {},
     "output_type": "display_data"
    },
    {
     "data": {
      "text/html": [
       "<html>\\(\\displaystyle 2 \\, t - \\sin\\left(t\\right)\\)</html>"
      ],
      "text/latex": [
       "$\\displaystyle 2 \\, t - \\sin\\left(t\\right)$"
      ],
      "text/plain": [
       "2*t - sin(t)"
      ]
     },
     "metadata": {},
     "output_type": "display_data"
    },
    {
     "data": {
      "text/html": [
       "<html>\\(\\displaystyle \\frac{t^{2} \\cos\\left(t\\right) + \\cos\\left(t\\right)^{2} - 2 \\, t \\sin\\left(t\\right) + \\sin\\left(t\\right)^{2}}{{\\left(t^{2} + \\cos\\left(t\\right)\\right)}^{2}}\\)</html>"
      ],
      "text/latex": [
       "$\\displaystyle \\frac{t^{2} \\cos\\left(t\\right) + \\cos\\left(t\\right)^{2} - 2 \\, t \\sin\\left(t\\right) + \\sin\\left(t\\right)^{2}}{{\\left(t^{2} + \\cos\\left(t\\right)\\right)}^{2}}$"
      ],
      "text/plain": [
       "(t^2*cos(t) + cos(t)^2 - 2*t*sin(t) + sin(t)^2)/(t^2 + cos(t))^2"
      ]
     },
     "metadata": {},
     "output_type": "display_data"
    },
    {
     "data": {
      "text/html": [
       "<html>\\(\\displaystyle \\frac{\\sin\\left(t\\right)}{t^{2} + \\cos\\left(t\\right)}\\)</html>"
      ],
      "text/latex": [
       "$\\displaystyle \\frac{\\sin\\left(t\\right)}{t^{2} + \\cos\\left(t\\right)}$"
      ],
      "text/plain": [
       "sin(t)/(t^2 + cos(t))"
      ]
     },
     "metadata": {},
     "output_type": "display_data"
    },
    {
     "data": {
      "text/html": [
       "<html>\\(\\displaystyle \\frac{t^{2} \\cos\\left(t\\right) + \\cos\\left(t\\right)^{2} - 2 \\, t \\sin\\left(t\\right) + \\sin\\left(t\\right)^{2}}{{\\left(t^{2} + \\cos\\left(t\\right)\\right)}^{2}}\\)</html>"
      ],
      "text/latex": [
       "$\\displaystyle \\frac{t^{2} \\cos\\left(t\\right) + \\cos\\left(t\\right)^{2} - 2 \\, t \\sin\\left(t\\right) + \\sin\\left(t\\right)^{2}}{{\\left(t^{2} + \\cos\\left(t\\right)\\right)}^{2}}$"
      ],
      "text/plain": [
       "(t^2*cos(t) + cos(t)^2 - 2*t*sin(t) + sin(t)^2)/(t^2 + cos(t))^2"
      ]
     },
     "metadata": {},
     "output_type": "display_data"
    }
   ],
   "source": [
    "f(t) = sin(t)\n",
    "f_prime(t) = f.diff(t)\n",
    "g(t) = cos(t) + t^2\n",
    "g_prime(t) = g.diff(t)\n",
    "Q_prime(t) = (g(t)*f_prime(t)-f(t)*g_prime(t) )/g(t)^2\n",
    "show(f(t))\n",
    "show(g(t))\n",
    "show(f_prime(t))\n",
    "show(g_prime(t))\n",
    "show(factor(expand(Q_prime(t))))\n",
    "\n",
    "Q(t) = f(t)/g(t)\n",
    "show(Q(t))\n",
    "show(factor(expand(Q.diff(t))))\n",
    "\n"
   ]
  },
  {
   "cell_type": "code",
   "execution_count": null,
   "id": "f0128250-ea5d-49e9-ad63-d553fff1e18e",
   "metadata": {},
   "outputs": [],
   "source": []
  },
  {
   "cell_type": "code",
   "execution_count": 58,
   "id": "3cf9c949-eeb4-49cb-9acd-fe7a6b128213",
   "metadata": {},
   "outputs": [
    {
     "data": {
      "text/html": [
       "<html>\\(\\displaystyle t^{2} - 2 \\, t - 8\\)</html>"
      ],
      "text/latex": [
       "$\\displaystyle t^{2} - 2 \\, t - 8$"
      ],
      "text/plain": [
       "t^2 - 2*t - 8"
      ]
     },
     "metadata": {},
     "output_type": "display_data"
    },
    {
     "data": {
      "text/html": [
       "<html>\\(\\displaystyle t^{2} - 9\\)</html>"
      ],
      "text/latex": [
       "$\\displaystyle t^{2} - 9$"
      ],
      "text/plain": [
       "t^2 - 9"
      ]
     },
     "metadata": {},
     "output_type": "display_data"
    },
    {
     "data": {
      "text/html": [
       "<html>\\(\\displaystyle 2 \\, t - 2\\)</html>"
      ],
      "text/latex": [
       "$\\displaystyle 2 \\, t - 2$"
      ],
      "text/plain": [
       "2*t - 2"
      ]
     },
     "metadata": {},
     "output_type": "display_data"
    },
    {
     "data": {
      "text/html": [
       "<html>\\(\\displaystyle 2 \\, t\\)</html>"
      ],
      "text/latex": [
       "$\\displaystyle 2 \\, t$"
      ],
      "text/plain": [
       "2*t"
      ]
     },
     "metadata": {},
     "output_type": "display_data"
    },
    {
     "data": {
      "text/html": [
       "<html>\\(\\displaystyle \\frac{2 \\, {\\left(t^{2} - t + 9\\right)}}{{\\left(t + 3\\right)}^{2} {\\left(t - 3\\right)}^{2}}\\)</html>"
      ],
      "text/latex": [
       "$\\displaystyle \\frac{2 \\, {\\left(t^{2} - t + 9\\right)}}{{\\left(t + 3\\right)}^{2} {\\left(t - 3\\right)}^{2}}$"
      ],
      "text/plain": [
       "2*(t^2 - t + 9)/((t + 3)^2*(t - 3)^2)"
      ]
     },
     "metadata": {},
     "output_type": "display_data"
    },
    {
     "data": {
      "text/html": [
       "<html>\\(\\displaystyle \\frac{t^{2} - 2 \\, t - 8}{t^{2} - 9}\\)</html>"
      ],
      "text/latex": [
       "$\\displaystyle \\frac{t^{2} - 2 \\, t - 8}{t^{2} - 9}$"
      ],
      "text/plain": [
       "(t^2 - 2*t - 8)/(t^2 - 9)"
      ]
     },
     "metadata": {},
     "output_type": "display_data"
    },
    {
     "data": {
      "text/html": [
       "<html>\\(\\displaystyle t \\ {\\mapsto}\\ \\frac{2 \\, {\\left(t^{2} - t + 9\\right)}}{{\\left(t + 3\\right)}^{2} {\\left(t - 3\\right)}^{2}}\\)</html>"
      ],
      "text/latex": [
       "$\\displaystyle t \\ {\\mapsto}\\ \\frac{2 \\, {\\left(t^{2} - t + 9\\right)}}{{\\left(t + 3\\right)}^{2} {\\left(t - 3\\right)}^{2}}$"
      ],
      "text/plain": [
       "t |--> 2*(t^2 - t + 9)/((t + 3)^2*(t - 3)^2)"
      ]
     },
     "metadata": {},
     "output_type": "display_data"
    }
   ],
   "source": [
    "f(t) = t^2 - 2*t - 8\n",
    "f_prime(t) = f.diff(t)\n",
    "g(t) = t^2 -9\n",
    "g_prime(t) = g.diff(t)\n",
    "Q_prime(t) = (g(t)*f_prime(t)-f(t)*g_prime(t) )/g(t)^2\n",
    "show(f(t))\n",
    "show(g(t))\n",
    "show(f_prime(t))\n",
    "show(g_prime(t))\n",
    "show(factor(expand(Q_prime(t))))\n",
    "\n",
    "Q(t) = f(t)/g(t)\n",
    "show(Q(t))\n",
    "show(factor(expand(Q.diff(t))))\n",
    "\n"
   ]
  },
  {
   "cell_type": "markdown",
   "id": "c9714056-3557-4927-a261-cfd39b55cebf",
   "metadata": {},
   "source": [
    "to determine the slope of the tangent line to $R(x)$, we evaluate\n",
    "the derivative function $Q'(x)$ at $x =0$\n"
   ]
  },
  {
   "cell_type": "code",
   "execution_count": 61,
   "id": "24d31b3b-fa16-4583-995e-5fc2292717e7",
   "metadata": {},
   "outputs": [
    {
     "data": {
      "text/html": [
       "<html>\\(\\displaystyle \\frac{x^{2} - 2 \\, x - 8}{x^{2} - 9}\\)</html>"
      ],
      "text/latex": [
       "$\\displaystyle \\frac{x^{2} - 2 \\, x - 8}{x^{2} - 9}$"
      ],
      "text/plain": [
       "(x^2 - 2*x - 8)/(x^2 - 9)"
      ]
     },
     "metadata": {},
     "output_type": "display_data"
    },
    {
     "data": {
      "text/html": [
       "<html>\\(\\displaystyle \\frac{2 \\, {\\left({\\left(x^{2} - 9\\right)} {\\left(x - 1\\right)} - {\\left(x^{2} - 2 \\, x - 8\\right)} x\\right)}}{{\\left(x^{2} - 9\\right)}^{2}}\\)</html>"
      ],
      "text/latex": [
       "$\\displaystyle \\frac{2 \\, {\\left({\\left(x^{2} - 9\\right)} {\\left(x - 1\\right)} - {\\left(x^{2} - 2 \\, x - 8\\right)} x\\right)}}{{\\left(x^{2} - 9\\right)}^{2}}$"
      ],
      "text/plain": [
       "2*((x^2 - 9)*(x - 1) - (x^2 - 2*x - 8)*x)/(x^2 - 9)^2"
      ]
     },
     "metadata": {},
     "output_type": "display_data"
    },
    {
     "data": {
      "text/html": [
       "<html>\\(\\displaystyle \\frac{2}{9}\\)</html>"
      ],
      "text/latex": [
       "$\\displaystyle \\frac{2}{9}$"
      ],
      "text/plain": [
       "2/9"
      ]
     },
     "metadata": {},
     "output_type": "display_data"
    },
    {
     "data": {
      "text/html": [
       "<html>\\(\\displaystyle 0.222222222222222\\)</html>"
      ],
      "text/latex": [
       "$\\displaystyle 0.222222222222222$"
      ],
      "text/plain": [
       "0.222222222222222"
      ]
     },
     "metadata": {},
     "output_type": "display_data"
    }
   ],
   "source": [
    "show(Q(x))\n",
    "show(Q_prime(x))\n",
    "show(Q_prime(0))\n",
    "show(Q_prime(0).n())"
   ]
  },
  {
   "cell_type": "markdown",
   "id": "b9b79469-89ea-4750-b913-cd88fc47c049",
   "metadata": {},
   "source": [
    "The answer to c) is 0.222222222222, $\\frac{2}{9}$"
   ]
  },
  {
   "cell_type": "markdown",
   "id": "1078ec5e-c500-4a16-bc9f-2cce53269043",
   "metadata": {},
   "source": [
    "d) When a camera flashes, the intensity $I$ of light seen by the eye is given by the function\n",
    "$$I(t) = \\frac{100 t}{e^t}$$\n",
    "where $I$ is measured in candles and $t$ is measured in milliseconds. Compute $I'(0.5), I'(2), I'(5)$; include appropriate units on each value; and discuss the meaning of each."
   ]
  },
  {
   "cell_type": "code",
   "execution_count": null,
   "id": "77f28a3c-ccc6-457c-b8f6-224dab20e549",
   "metadata": {},
   "outputs": [],
   "source": []
  },
  {
   "cell_type": "code",
   "execution_count": 62,
   "id": "076cfe64-e3b7-4132-bd0a-afa0b86ace36",
   "metadata": {},
   "outputs": [
    {
     "data": {
      "text/html": [
       "<html>\\(\\displaystyle 100 \\, t\\)</html>"
      ],
      "text/latex": [
       "$\\displaystyle 100 \\, t$"
      ],
      "text/plain": [
       "100*t"
      ]
     },
     "metadata": {},
     "output_type": "display_data"
    },
    {
     "data": {
      "text/html": [
       "<html>\\(\\displaystyle e^{t}\\)</html>"
      ],
      "text/latex": [
       "$\\displaystyle e^{t}$"
      ],
      "text/plain": [
       "e^t"
      ]
     },
     "metadata": {},
     "output_type": "display_data"
    },
    {
     "data": {
      "text/html": [
       "<html>\\(\\displaystyle 100\\)</html>"
      ],
      "text/latex": [
       "$\\displaystyle 100$"
      ],
      "text/plain": [
       "100"
      ]
     },
     "metadata": {},
     "output_type": "display_data"
    },
    {
     "data": {
      "text/html": [
       "<html>\\(\\displaystyle e^{t}\\)</html>"
      ],
      "text/latex": [
       "$\\displaystyle e^{t}$"
      ],
      "text/plain": [
       "e^t"
      ]
     },
     "metadata": {},
     "output_type": "display_data"
    },
    {
     "data": {
      "text/html": [
       "<html>\\(\\displaystyle -100 \\, {\\left(t - 1\\right)} e^{\\left(-t\\right)}\\)</html>"
      ],
      "text/latex": [
       "$\\displaystyle -100 \\, {\\left(t - 1\\right)} e^{\\left(-t\\right)}$"
      ],
      "text/plain": [
       "-100*(t - 1)*e^(-t)"
      ]
     },
     "metadata": {},
     "output_type": "display_data"
    },
    {
     "data": {
      "text/html": [
       "<html>\\(\\displaystyle 100 \\, t e^{\\left(-t\\right)}\\)</html>"
      ],
      "text/latex": [
       "$\\displaystyle 100 \\, t e^{\\left(-t\\right)}$"
      ],
      "text/plain": [
       "100*t*e^(-t)"
      ]
     },
     "metadata": {},
     "output_type": "display_data"
    },
    {
     "data": {
      "text/html": [
       "<html>\\(\\displaystyle -100 \\, {\\left(t - 1\\right)} e^{\\left(-t\\right)}\\)</html>"
      ],
      "text/latex": [
       "$\\displaystyle -100 \\, {\\left(t - 1\\right)} e^{\\left(-t\\right)}$"
      ],
      "text/plain": [
       "-100*(t - 1)*e^(-t)"
      ]
     },
     "metadata": {},
     "output_type": "display_data"
    }
   ],
   "source": [
    "f(t) = 100*t\n",
    "f_prime(t) = f.diff(t)\n",
    "g(t) = e^t\n",
    "g_prime(t) = g.diff(t)\n",
    "Q_prime(t) = (g(t)*f_prime(t)-f(t)*g_prime(t) )/g(t)^2\n",
    "show(f(t))\n",
    "show(g(t))\n",
    "show(f_prime(t))\n",
    "show(g_prime(t))\n",
    "show(factor(expand(Q_prime(t))))\n",
    "\n",
    "Q(t) = f(t)/g(t)\n",
    "show(Q(t))\n",
    "show(factor(expand(Q.diff(t))))\n",
    "\n"
   ]
  },
  {
   "cell_type": "code",
   "execution_count": 64,
   "id": "634aef03-8a56-4a34-85fc-539c765eab82",
   "metadata": {},
   "outputs": [
    {
     "data": {
      "text/html": [
       "<html>\\(\\displaystyle 100 \\, t e^{\\left(-t\\right)}\\)</html>"
      ],
      "text/latex": [
       "$\\displaystyle 100 \\, t e^{\\left(-t\\right)}$"
      ],
      "text/plain": [
       "100*t*e^(-t)"
      ]
     },
     "metadata": {},
     "output_type": "display_data"
    },
    {
     "data": {
      "text/html": [
       "<html>\\(\\displaystyle -100 \\, {\\left(t e^{t} - e^{t}\\right)} e^{\\left(-2 \\, t\\right)}\\)</html>"
      ],
      "text/latex": [
       "$\\displaystyle -100 \\, {\\left(t e^{t} - e^{t}\\right)} e^{\\left(-2 \\, t\\right)}$"
      ],
      "text/plain": [
       "-100*(t*e^t - e^t)*e^(-2*t)"
      ]
     },
     "metadata": {},
     "output_type": "display_data"
    },
    {
     "data": {
      "text/html": [
       "<html>\\(\\displaystyle 30.3265329856317\\)</html>"
      ],
      "text/latex": [
       "$\\displaystyle 30.3265329856317$"
      ],
      "text/plain": [
       "30.3265329856317"
      ]
     },
     "metadata": {},
     "output_type": "display_data"
    },
    {
     "data": {
      "text/html": [
       "<html>\\(\\displaystyle -13.5335283236613\\)</html>"
      ],
      "text/latex": [
       "$\\displaystyle -13.5335283236613$"
      ],
      "text/plain": [
       "-13.5335283236613"
      ]
     },
     "metadata": {},
     "output_type": "display_data"
    },
    {
     "data": {
      "text/html": [
       "<html>\\(\\displaystyle -2.69517879963419\\)</html>"
      ],
      "text/latex": [
       "$\\displaystyle -2.69517879963419$"
      ],
      "text/plain": [
       "-2.69517879963419"
      ]
     },
     "metadata": {},
     "output_type": "display_data"
    }
   ],
   "source": [
    "show(Q(t))\n",
    "show(Q_prime(t))\n",
    "show(Q_prime(0.5))\n",
    "show(Q_prime(2).n())\n",
    "show(Q_prime(5).n())"
   ]
  },
  {
   "cell_type": "markdown",
   "id": "6d656b69-f6d8-4b4a-8c18-768f21519855",
   "metadata": {},
   "source": [
    "With 0.5 millisseconds point in time, the eye experience increase of intensity of light at $30.3$ candles, with 2 milliseconds point in time, the eye experience decrease of intensity of light at $-13.5$ candles, because the light intensity gets weaker, and at 5 milliseconds point in time, it gets even weaker to be $-2.7$ descreasing.\n",
    "\n",
    "**Combining rules**\n",
    "\n",
    "**My own Rule of Thumb or a psudo code script for a computer routine to solve differential problems**\n",
    "\n",
    "With the fundemental rules of summation, product, quotient, we can now solve derivative problem of the more complicated algebraic functions, by identifying its structure. Rule of thumb, is determine first level algebraic structure, in these orders: \n",
    "1. determine if the structure is summation\n",
    "2. determine if it is a quotient\n",
    "3. dertermine if it is a product\n",
    "\n",
    "Then determine whether there is second or further levels of algebraic structure.\n",
    "\n",
    "Loop back.\n",
    "\n",
    "Apply fundemental rules according to the components by levels.\n",
    "\n",
    "**Activity 2.9**\n",
    "\n",
    "a) Let $f(r)= (5 r^3 + sin(r))(4^r - 2 cos(r))$, Find $f'(r)\n",
    "\n",
    "b) Let $p(t) = \\frac{cos(t)}{t^6 \\cdot 6^t}. Find $p'(t)$\n",
    "\n",
    "c) Let $g(z) = 3 z^7 e^z - 2 z^2 sin(z) + \\frac{z}{z^2 + 1}$\n",
    "\n",
    "d) A moving particle has its position in feet at time $t$ in seconds given by the function $s(t) = \\frac{3 cos(t) -sin(t)}{e^t}$. Find the particle's instantaneous velocity at the moment $t=1$.\n",
    "\n",
    "e) Suppose that $f(x)$ and $g(x)$ are differentiable functions and it is known that $f(3) =-2, f'(3) =7, g(3) =4, g'(3) =-1$. If $ p(x) = f(x) \\cdot g(x)$ and $q(x) = \\frac{f(x)}{g(x)}$, calculate $p'(3), q'(3)$."
   ]
  },
  {
   "cell_type": "code",
   "execution_count": 86,
   "id": "b7406cf9-4a4d-4a9d-972f-34ea75b504f9",
   "metadata": {},
   "outputs": [
    {
     "data": {
      "text/html": [
       "<html>\\(\\displaystyle 2 \\, {\\left(5 \\, r^{3} + \\sin\\left(r\\right)\\right)} {\\left(4^{r} \\log\\left(2\\right) + \\sin\\left(r\\right)\\right)} + {\\left(15 \\, r^{2} + \\cos\\left(r\\right)\\right)} {\\left(4^{r} - 2 \\, \\cos\\left(r\\right)\\right)}\\)</html>"
      ],
      "text/latex": [
       "$\\displaystyle 2 \\, {\\left(5 \\, r^{3} + \\sin\\left(r\\right)\\right)} {\\left(4^{r} \\log\\left(2\\right) + \\sin\\left(r\\right)\\right)} + {\\left(15 \\, r^{2} + \\cos\\left(r\\right)\\right)} {\\left(4^{r} - 2 \\, \\cos\\left(r\\right)\\right)}$"
      ],
      "text/plain": [
       "2*(5*r^3 + sin(r))*(4^r*log(2) + sin(r)) + (15*r^2 + cos(r))*(4^r - 2*cos(r))"
      ]
     },
     "metadata": {},
     "output_type": "display_data"
    },
    {
     "data": {
      "text/html": [
       "<html>\\(\\displaystyle r \\ {\\mapsto}\\ 2 \\, {\\left(5 \\, r^{3} + \\sin\\left(r\\right)\\right)} {\\left(4^{r} \\log\\left(2\\right) + \\sin\\left(r\\right)\\right)} + {\\left(15 \\, r^{2} + \\cos\\left(r\\right)\\right)} {\\left(4^{r} - 2 \\, \\cos\\left(r\\right)\\right)}\\)</html>"
      ],
      "text/latex": [
       "$\\displaystyle r \\ {\\mapsto}\\ 2 \\, {\\left(5 \\, r^{3} + \\sin\\left(r\\right)\\right)} {\\left(4^{r} \\log\\left(2\\right) + \\sin\\left(r\\right)\\right)} + {\\left(15 \\, r^{2} + \\cos\\left(r\\right)\\right)} {\\left(4^{r} - 2 \\, \\cos\\left(r\\right)\\right)}$"
      ],
      "text/plain": [
       "r |--> 2*(5*r^3 + sin(r))*(4^r*log(2) + sin(r)) + (15*r^2 + cos(r))*(4^r - 2*cos(r))"
      ]
     },
     "metadata": {},
     "output_type": "display_data"
    }
   ],
   "source": [
    "var('r')\n",
    "f0(r)=(5*r^3 + sin(r))\n",
    "g0(r)=(4^r - 2*cos(r))\n",
    "f(r)=f0(r)*g0(r)\n",
    "#show(f(r))\n",
    "show(Product_Rule(f0, g0, r))\n",
    "show(f.diff(r))\n"
   ]
  },
  {
   "cell_type": "code",
   "execution_count": 99,
   "id": "0414c81e-0c48-46b3-b0a8-d11c4eb585ff",
   "metadata": {},
   "outputs": [
    {
     "data": {
      "text/html": [
       "<html>\\(\\displaystyle {\\left(t \\log\\left(6\\right) + 6\\right)} 6^{t} t^{5}\\)</html>"
      ],
      "text/latex": [
       "$\\displaystyle {\\left(t \\log\\left(6\\right) + 6\\right)} 6^{t} t^{5}$"
      ],
      "text/plain": [
       "(t*log(6) + 6)*6^t*t^5"
      ]
     },
     "metadata": {},
     "output_type": "display_data"
    },
    {
     "data": {
      "text/html": [
       "<html>\\(\\displaystyle -\\frac{\\cos\\left(t\\right) \\log\\left(6\\right)^{2}}{{\\left(t^{2} \\log\\left(6\\right)^{2} + 12 \\, t \\log\\left(6\\right) + 36\\right)} 6^{t} t^{4}} - \\frac{\\log\\left(6\\right) \\sin\\left(t\\right)}{{\\left(t^{2} \\log\\left(6\\right)^{2} + 12 \\, t \\log\\left(6\\right) + 36\\right)} 6^{t} t^{4}} - \\frac{12 \\, \\cos\\left(t\\right) \\log\\left(6\\right)}{{\\left(t^{2} \\log\\left(6\\right)^{2} + 12 \\, t \\log\\left(6\\right) + 36\\right)} 6^{t} t^{5}} - \\frac{6 \\, \\sin\\left(t\\right)}{{\\left(t^{2} \\log\\left(6\\right)^{2} + 12 \\, t \\log\\left(6\\right) + 36\\right)} 6^{t} t^{5}} - \\frac{30 \\, \\cos\\left(t\\right)}{{\\left(t^{2} \\log\\left(6\\right)^{2} + 12 \\, t \\log\\left(6\\right) + 36\\right)} 6^{t} t^{6}}\\)</html>"
      ],
      "text/latex": [
       "$\\displaystyle -\\frac{\\cos\\left(t\\right) \\log\\left(6\\right)^{2}}{{\\left(t^{2} \\log\\left(6\\right)^{2} + 12 \\, t \\log\\left(6\\right) + 36\\right)} 6^{t} t^{4}} - \\frac{\\log\\left(6\\right) \\sin\\left(t\\right)}{{\\left(t^{2} \\log\\left(6\\right)^{2} + 12 \\, t \\log\\left(6\\right) + 36\\right)} 6^{t} t^{4}} - \\frac{12 \\, \\cos\\left(t\\right) \\log\\left(6\\right)}{{\\left(t^{2} \\log\\left(6\\right)^{2} + 12 \\, t \\log\\left(6\\right) + 36\\right)} 6^{t} t^{5}} - \\frac{6 \\, \\sin\\left(t\\right)}{{\\left(t^{2} \\log\\left(6\\right)^{2} + 12 \\, t \\log\\left(6\\right) + 36\\right)} 6^{t} t^{5}} - \\frac{30 \\, \\cos\\left(t\\right)}{{\\left(t^{2} \\log\\left(6\\right)^{2} + 12 \\, t \\log\\left(6\\right) + 36\\right)} 6^{t} t^{6}}$"
      ],
      "text/plain": [
       "-cos(t)*log(6)^2/((t^2*log(6)^2 + 12*t*log(6) + 36)*6^t*t^4) - log(6)*sin(t)/((t^2*log(6)^2 + 12*t*log(6) + 36)*6^t*t^4) - 12*cos(t)*log(6)/((t^2*log(6)^2 + 12*t*log(6) + 36)*6^t*t^5) - 6*sin(t)/((t^2*log(6)^2 + 12*t*log(6) + 36)*6^t*t^5) - 30*cos(t)/((t^2*log(6)^2 + 12*t*log(6) + 36)*6^t*t^6)"
      ]
     },
     "metadata": {},
     "output_type": "display_data"
    },
    {
     "data": {
      "text/html": [
       "<html>\\(\\displaystyle t \\ {\\mapsto}\\ -\\frac{\\cos\\left(t\\right) \\log\\left(6\\right)}{6^{t} t^{6}} - \\frac{\\sin\\left(t\\right)}{6^{t} t^{6}} - \\frac{6 \\, \\cos\\left(t\\right)}{6^{t} t^{7}}\\)</html>"
      ],
      "text/latex": [
       "$\\displaystyle t \\ {\\mapsto}\\ -\\frac{\\cos\\left(t\\right) \\log\\left(6\\right)}{6^{t} t^{6}} - \\frac{\\sin\\left(t\\right)}{6^{t} t^{6}} - \\frac{6 \\, \\cos\\left(t\\right)}{6^{t} t^{7}}$"
      ],
      "text/plain": [
       "t |--> -cos(t)*log(6)/(6^t*t^6) - sin(t)/(6^t*t^6) - 6*cos(t)/(6^t*t^7)"
      ]
     },
     "metadata": {},
     "output_type": "display_data"
    }
   ],
   "source": [
    "var('t')\n",
    "p0(t) = cos(t)\n",
    "p1(t) =t^6\n",
    "p2(t) =6^t\n",
    "\n",
    "p3(t) = factor(Product_Rule(p1,p2, t))\n",
    "show(p3(t))\n",
    "show(expand(factor(Quotient_Rule(p0, p3, t))))\n",
    "\n",
    "p(t) = p0(t)/(p1(t) * p2(t))\n",
    "show(p.diff(t))"
   ]
  },
  {
   "cell_type": "code",
   "execution_count": null,
   "id": "b846d786-b547-4d39-a101-d56f5581d4a5",
   "metadata": {},
   "outputs": [],
   "source": []
  }
 ],
 "metadata": {
  "kernelspec": {
   "display_name": "SageMath 9.7",
   "language": "sage",
   "name": "sagemath"
  },
  "language_info": {
   "codemirror_mode": {
    "name": "ipython",
    "version": 3
   },
   "file_extension": ".py",
   "mimetype": "text/x-python",
   "name": "python",
   "nbconvert_exporter": "python",
   "pygments_lexer": "ipython3",
   "version": "3.10.6"
  }
 },
 "nbformat": 4,
 "nbformat_minor": 5
}
