{
 "cells": [
  {
   "cell_type": "markdown",
   "id": "bfbe777e-196d-4221-af94-cae43ed0bf56",
   "metadata": {},
   "source": [
    "**Chapter 2**\n",
    "\n",
    "**Computing Derivatives**\n",
    "\n",
    "**2.1 Elementary derivative rules**\n",
    "\n",
    "The derivative of a function gives me two things:\n",
    "    \n",
    "1. measures the instantaneous rate of change of $f$ with respect to $x$\n",
    "2. it gives the slope of the tangent line to $y=f(x)$ at any given value of $x$\n",
    "\n",
    "**Preview Activity 2.1**\n",
    "\n",
    "Power functions: $f(x) = x^n$, where $n =1,2,3,...$ \n",
    "\n",
    "a) Use the limit definition of the derivative to find $f'(x)$ for $f(x)=x^2\n"
   ]
  },
  {
   "cell_type": "code",
   "execution_count": 215,
   "id": "8dab75ab-950b-4f5b-a5b4-b4a80141079f",
   "metadata": {},
   "outputs": [
    {
     "data": {
      "text/html": [
       "<html>\\(\\displaystyle x \\ {\\mapsto}\\ 2 \\, x\\)</html>"
      ],
      "text/latex": [
       "$\\displaystyle x \\ {\\mapsto}\\ 2 \\, x$"
      ],
      "text/plain": [
       "x |--> 2*x"
      ]
     },
     "metadata": {},
     "output_type": "display_data"
    },
    {
     "data": {
      "text/plain": [
       "2*x"
      ]
     },
     "execution_count": 215,
     "metadata": {},
     "output_type": "execute_result"
    }
   ],
   "source": [
    "f(x) =x^2\n",
    "show(f.diff(x))\n",
    "var('h')\n",
    "lim((f(x+h)-f(x))/h, h=0)"
   ]
  },
  {
   "cell_type": "markdown",
   "id": "42da8695-0a10-469b-994a-b1592a4a5078",
   "metadata": {},
   "source": [
    "b) Use the limit definition of the derivative to find $f'(x)$ for $f(x)=x^3$"
   ]
  },
  {
   "cell_type": "code",
   "execution_count": 216,
   "id": "0e389852-f681-4fb0-8ff3-a51ab7c402b8",
   "metadata": {},
   "outputs": [
    {
     "data": {
      "text/html": [
       "<html>\\(\\displaystyle x \\ {\\mapsto}\\ 3 \\, x^{2}\\)</html>"
      ],
      "text/latex": [
       "$\\displaystyle x \\ {\\mapsto}\\ 3 \\, x^{2}$"
      ],
      "text/plain": [
       "x |--> 3*x^2"
      ]
     },
     "metadata": {},
     "output_type": "display_data"
    },
    {
     "data": {
      "text/plain": [
       "3*x^2"
      ]
     },
     "execution_count": 216,
     "metadata": {},
     "output_type": "execute_result"
    }
   ],
   "source": [
    "f(x)=x^3\n",
    "show(f.diff(x))\n",
    "var('h')\n",
    "lim((f(x+h)-f(x))/h, h=0)"
   ]
  },
  {
   "cell_type": "markdown",
   "id": "cb9211aa-91aa-4f5e-b77e-23ab95cdd62d",
   "metadata": {},
   "source": [
    "Use the limit definition of the derivative to find $f'(x)$ for $f(x) = x^4$. (Hint:\n",
    "Apply the rule within the limit definition)\n",
    "\n",
    "Note: I don't understand the value of looking into the expansion of $(a+b)^4$\n",
    "\n",
    "Exercise: use the following code to develop a conjecture of a general formula for $(a +b)^n$"
   ]
  },
  {
   "cell_type": "code",
   "execution_count": 217,
   "id": "43085d04-862e-429d-87b5-258f3ac321f8",
   "metadata": {},
   "outputs": [
    {
     "data": {
      "text/html": [
       "<html>\\(\\displaystyle a + b\\)</html>"
      ],
      "text/latex": [
       "$\\displaystyle a + b$"
      ],
      "text/plain": [
       "a + b"
      ]
     },
     "metadata": {},
     "output_type": "display_data"
    },
    {
     "data": {
      "text/html": [
       "<html>\\(\\displaystyle a^{2} + 2 \\, a b + b^{2}\\)</html>"
      ],
      "text/latex": [
       "$\\displaystyle a^{2} + 2 \\, a b + b^{2}$"
      ],
      "text/plain": [
       "a^2 + 2*a*b + b^2"
      ]
     },
     "metadata": {},
     "output_type": "display_data"
    },
    {
     "data": {
      "text/html": [
       "<html>\\(\\displaystyle a^{3} + 3 \\, a^{2} b + 3 \\, a b^{2} + b^{3}\\)</html>"
      ],
      "text/latex": [
       "$\\displaystyle a^{3} + 3 \\, a^{2} b + 3 \\, a b^{2} + b^{3}$"
      ],
      "text/plain": [
       "a^3 + 3*a^2*b + 3*a*b^2 + b^3"
      ]
     },
     "metadata": {},
     "output_type": "display_data"
    },
    {
     "data": {
      "text/html": [
       "<html>\\(\\displaystyle a^{4} + 4 \\, a^{3} b + 6 \\, a^{2} b^{2} + 4 \\, a b^{3} + b^{4}\\)</html>"
      ],
      "text/latex": [
       "$\\displaystyle a^{4} + 4 \\, a^{3} b + 6 \\, a^{2} b^{2} + 4 \\, a b^{3} + b^{4}$"
      ],
      "text/plain": [
       "a^4 + 4*a^3*b + 6*a^2*b^2 + 4*a*b^3 + b^4"
      ]
     },
     "metadata": {},
     "output_type": "display_data"
    },
    {
     "data": {
      "text/html": [
       "<html>\\(\\displaystyle a^{5} + 5 \\, a^{4} b + 10 \\, a^{3} b^{2} + 10 \\, a^{2} b^{3} + 5 \\, a b^{4} + b^{5}\\)</html>"
      ],
      "text/latex": [
       "$\\displaystyle a^{5} + 5 \\, a^{4} b + 10 \\, a^{3} b^{2} + 10 \\, a^{2} b^{3} + 5 \\, a b^{4} + b^{5}$"
      ],
      "text/plain": [
       "a^5 + 5*a^4*b + 10*a^3*b^2 + 10*a^2*b^3 + 5*a*b^4 + b^5"
      ]
     },
     "metadata": {},
     "output_type": "display_data"
    },
    {
     "data": {
      "text/html": [
       "<html>\\(\\displaystyle a^{6} + 6 \\, a^{5} b + 15 \\, a^{4} b^{2} + 20 \\, a^{3} b^{3} + 15 \\, a^{2} b^{4} + 6 \\, a b^{5} + b^{6}\\)</html>"
      ],
      "text/latex": [
       "$\\displaystyle a^{6} + 6 \\, a^{5} b + 15 \\, a^{4} b^{2} + 20 \\, a^{3} b^{3} + 15 \\, a^{2} b^{4} + 6 \\, a b^{5} + b^{6}$"
      ],
      "text/plain": [
       "a^6 + 6*a^5*b + 15*a^4*b^2 + 20*a^3*b^3 + 15*a^2*b^4 + 6*a*b^5 + b^6"
      ]
     },
     "metadata": {},
     "output_type": "display_data"
    },
    {
     "data": {
      "text/html": [
       "<html>\\(\\displaystyle a^{7} + 7 \\, a^{6} b + 21 \\, a^{5} b^{2} + 35 \\, a^{4} b^{3} + 35 \\, a^{3} b^{4} + 21 \\, a^{2} b^{5} + 7 \\, a b^{6} + b^{7}\\)</html>"
      ],
      "text/latex": [
       "$\\displaystyle a^{7} + 7 \\, a^{6} b + 21 \\, a^{5} b^{2} + 35 \\, a^{4} b^{3} + 35 \\, a^{3} b^{4} + 21 \\, a^{2} b^{5} + 7 \\, a b^{6} + b^{7}$"
      ],
      "text/plain": [
       "a^7 + 7*a^6*b + 21*a^5*b^2 + 35*a^4*b^3 + 35*a^3*b^4 + 21*a^2*b^5 + 7*a*b^6 + b^7"
      ]
     },
     "metadata": {},
     "output_type": "display_data"
    },
    {
     "data": {
      "text/html": [
       "<html>\\(\\displaystyle a^{8} + 8 \\, a^{7} b + 28 \\, a^{6} b^{2} + 56 \\, a^{5} b^{3} + 70 \\, a^{4} b^{4} + 56 \\, a^{3} b^{5} + 28 \\, a^{2} b^{6} + 8 \\, a b^{7} + b^{8}\\)</html>"
      ],
      "text/latex": [
       "$\\displaystyle a^{8} + 8 \\, a^{7} b + 28 \\, a^{6} b^{2} + 56 \\, a^{5} b^{3} + 70 \\, a^{4} b^{4} + 56 \\, a^{3} b^{5} + 28 \\, a^{2} b^{6} + 8 \\, a b^{7} + b^{8}$"
      ],
      "text/plain": [
       "a^8 + 8*a^7*b + 28*a^6*b^2 + 56*a^5*b^3 + 70*a^4*b^4 + 56*a^3*b^5 + 28*a^2*b^6 + 8*a*b^7 + b^8"
      ]
     },
     "metadata": {},
     "output_type": "display_data"
    },
    {
     "data": {
      "text/html": [
       "<html>\\(\\displaystyle a^{9} + 9 \\, a^{8} b + 36 \\, a^{7} b^{2} + 84 \\, a^{6} b^{3} + 126 \\, a^{5} b^{4} + 126 \\, a^{4} b^{5} + 84 \\, a^{3} b^{6} + 36 \\, a^{2} b^{7} + 9 \\, a b^{8} + b^{9}\\)</html>"
      ],
      "text/latex": [
       "$\\displaystyle a^{9} + 9 \\, a^{8} b + 36 \\, a^{7} b^{2} + 84 \\, a^{6} b^{3} + 126 \\, a^{5} b^{4} + 126 \\, a^{4} b^{5} + 84 \\, a^{3} b^{6} + 36 \\, a^{2} b^{7} + 9 \\, a b^{8} + b^{9}$"
      ],
      "text/plain": [
       "a^9 + 9*a^8*b + 36*a^7*b^2 + 84*a^6*b^3 + 126*a^5*b^4 + 126*a^4*b^5 + 84*a^3*b^6 + 36*a^2*b^7 + 9*a*b^8 + b^9"
      ]
     },
     "metadata": {},
     "output_type": "display_data"
    }
   ],
   "source": [
    "var('a,b')\n",
    "show(expand((a+b)^1))\n",
    "show(expand((a+b)^2))\n",
    "show(expand((a+b)^3))\n",
    "show(expand((a+b)^4))\n",
    "show(expand((a+b)^5))\n",
    "show(expand((a+b)^6))\n",
    "show(expand((a+b)^7))\n",
    "show(expand((a+b)^8))\n",
    "show(expand((a+b)^9))"
   ]
  },
  {
   "cell_type": "code",
   "execution_count": 218,
   "id": "1fe0c530-31b2-42b9-aa49-7225215b7510",
   "metadata": {},
   "outputs": [
    {
     "data": {
      "text/html": [
       "<html>\\(\\displaystyle x \\ {\\mapsto}\\ 4 \\, x^{3}\\)</html>"
      ],
      "text/latex": [
       "$\\displaystyle x \\ {\\mapsto}\\ 4 \\, x^{3}$"
      ],
      "text/plain": [
       "x |--> 4*x^3"
      ]
     },
     "metadata": {},
     "output_type": "display_data"
    },
    {
     "data": {
      "text/plain": [
       "4*x^3"
      ]
     },
     "execution_count": 218,
     "metadata": {},
     "output_type": "execute_result"
    }
   ],
   "source": [
    "f(x)=x^4\n",
    "show(f.diff(x))\n",
    "var('h')\n",
    "lim((f(x+h)-f(x))/h, h=0)"
   ]
  },
  {
   "cell_type": "code",
   "execution_count": 219,
   "id": "4c5adc6d-8ceb-417e-8853-92e710330f87",
   "metadata": {},
   "outputs": [
    {
     "data": {
      "text/html": [
       "<html>\\(\\displaystyle x \\ {\\mapsto}\\ 5 \\, x^{4}\\)</html>"
      ],
      "text/latex": [
       "$\\displaystyle x \\ {\\mapsto}\\ 5 \\, x^{4}$"
      ],
      "text/plain": [
       "x |--> 5*x^4"
      ]
     },
     "metadata": {},
     "output_type": "display_data"
    },
    {
     "data": {
      "text/plain": [
       "5*x^4"
      ]
     },
     "execution_count": 219,
     "metadata": {},
     "output_type": "execute_result"
    }
   ],
   "source": [
    "f(x)=x^5\n",
    "show(f.diff(x))\n",
    "var('h')\n",
    "lim((f(x+h)-f(x))/h, h=0)"
   ]
  },
  {
   "cell_type": "code",
   "execution_count": 220,
   "id": "2e07d94c-fd93-4cd9-8ac6-809e20950f76",
   "metadata": {},
   "outputs": [
    {
     "data": {
      "text/html": [
       "<html>\\(\\displaystyle x \\ {\\mapsto}\\ 13 \\, x^{12}\\)</html>"
      ],
      "text/latex": [
       "$\\displaystyle x \\ {\\mapsto}\\ 13 \\, x^{12}$"
      ],
      "text/plain": [
       "x |--> 13*x^12"
      ]
     },
     "metadata": {},
     "output_type": "display_data"
    },
    {
     "data": {
      "text/plain": [
       "13*x^12"
      ]
     },
     "execution_count": 220,
     "metadata": {},
     "output_type": "execute_result"
    }
   ],
   "source": [
    "f(x)=x^13\n",
    "show(f.diff(x))\n",
    "var('h')\n",
    "lim((f(x+h)-f(x))/h, h=0)"
   ]
  },
  {
   "cell_type": "markdown",
   "id": "452e6696-1029-497a-82b3-19fe04023d31",
   "metadata": {},
   "source": [
    "e) Conjecture a formula for the derivative of $f(x) = x^n$\n",
    "\n",
    "The answer is obvious here: $f'(x)= n x^{(n-1)}$"
   ]
  },
  {
   "cell_type": "markdown",
   "id": "8aac6291-1e03-44ae-9b2c-0730b899288c",
   "metadata": {},
   "source": [
    "**Constant, Power and Exponential Functions**\n",
    "\n",
    "**Constant Functions:** For any real number $c$, if $f(x) = c$, then $f'(x) = 0$"
   ]
  },
  {
   "cell_type": "code",
   "execution_count": 221,
   "id": "f9b978c9-84db-4e1a-8e1f-fb598b2d4365",
   "metadata": {},
   "outputs": [
    {
     "data": {
      "text/plain": [
       "x |--> 0"
      ]
     },
     "execution_count": 221,
     "metadata": {},
     "output_type": "execute_result"
    }
   ],
   "source": [
    "f(x) = 12\n",
    "f.diff(x)"
   ]
  },
  {
   "cell_type": "markdown",
   "id": "54400018-8dd1-4151-a9b4-aff993208881",
   "metadata": {},
   "source": [
    "**Power Functions:**\n",
    "For any nonzero real number, if$f(x) = x^n$\n",
    "then $f'(x)= n x^{(n-1)}$"
   ]
  },
  {
   "cell_type": "code",
   "execution_count": 222,
   "id": "ec67106b-beba-4896-a8b5-e21331c5df93",
   "metadata": {},
   "outputs": [
    {
     "data": {
      "text/html": [
       "<html>\\(\\displaystyle t \\ {\\mapsto}\\ \\frac{7}{5} \\, t^{\\frac{2}{5}}\\)</html>"
      ],
      "text/latex": [
       "$\\displaystyle t \\ {\\mapsto}\\ \\frac{7}{5} \\, t^{\\frac{2}{5}}$"
      ],
      "text/plain": [
       "t |--> 7/5*t^(2/5)"
      ]
     },
     "metadata": {},
     "output_type": "display_data"
    },
    {
     "data": {
      "text/html": [
       "<html>\\(\\displaystyle \\frac{2}{5}\\)</html>"
      ],
      "text/latex": [
       "$\\displaystyle \\frac{2}{5}$"
      ],
      "text/plain": [
       "2/5"
      ]
     },
     "metadata": {},
     "output_type": "display_data"
    }
   ],
   "source": [
    "h(t) = t^(7/5)\n",
    "show(h.diff(t))\n",
    "show(7/5 -1)"
   ]
  },
  {
   "cell_type": "code",
   "execution_count": 223,
   "id": "cd1be90a-732a-4991-8c72-79f139db30c9",
   "metadata": {},
   "outputs": [
    {
     "data": {
      "text/html": [
       "<html>\\(\\displaystyle q \\ {\\mapsto}\\ \\pi q^{\\pi - 1}\\)</html>"
      ],
      "text/latex": [
       "$\\displaystyle q \\ {\\mapsto}\\ \\pi q^{\\pi - 1}$"
      ],
      "text/plain": [
       "q |--> pi*q^(pi - 1)"
      ]
     },
     "metadata": {},
     "output_type": "display_data"
    }
   ],
   "source": [
    "f(q) = q^(pi)\n",
    "show(f.diff(q))"
   ]
  },
  {
   "cell_type": "markdown",
   "id": "ae65df55-3cda-46c2-8d0c-7d987c9cc0b4",
   "metadata": {},
   "source": [
    "**Exponential Functions:** For any positive real number $a$, if $f(x)=a^x$, then $f'(x) = a^x ln(a)$"
   ]
  },
  {
   "cell_type": "code",
   "execution_count": 224,
   "id": "9f71d99f-611d-4821-b93e-14a26e83c8a2",
   "metadata": {},
   "outputs": [
    {
     "data": {
      "text/html": [
       "<html>\\(\\displaystyle x \\ {\\mapsto}\\ 2^{x} \\log\\left(2\\right)\\)</html>"
      ],
      "text/latex": [
       "$\\displaystyle x \\ {\\mapsto}\\ 2^{x} \\log\\left(2\\right)$"
      ],
      "text/plain": [
       "x |--> 2^x*log(2)"
      ]
     },
     "metadata": {},
     "output_type": "display_data"
    }
   ],
   "source": [
    "f(x)=2^x\n",
    "show(f.diff(x))"
   ]
  },
  {
   "cell_type": "code",
   "execution_count": 225,
   "id": "3b5d345a-93b6-4d25-8fd0-5f1229315b7c",
   "metadata": {},
   "outputs": [
    {
     "data": {
      "text/html": [
       "<html>\\(\\displaystyle t \\ {\\mapsto}\\ 10^{t} \\log\\left(10\\right)\\)</html>"
      ],
      "text/latex": [
       "$\\displaystyle t \\ {\\mapsto}\\ 10^{t} \\log\\left(10\\right)$"
      ],
      "text/plain": [
       "t |--> 10^t*log(10)"
      ]
     },
     "metadata": {},
     "output_type": "display_data"
    }
   ],
   "source": [
    "p(t) = 10^t\n",
    "show(p.diff(t))"
   ]
  },
  {
   "cell_type": "markdown",
   "id": "2dd5a0b2-a9d6-41e7-b14d-8fdb7b5da220",
   "metadata": {},
   "source": [
    "**Important Note:** when $a = e$, where $e$ is the base of the natural logarithm function, then\n",
    "\n",
    "$\\frac{d}{dx}{[e^x]} = e^x ln(e) = e^x$, because $ln(e) = 1$,\n",
    "\n",
    "which is an extremely important property of the function $e^x$, its derivative function is itself!"
   ]
  },
  {
   "cell_type": "code",
   "execution_count": 226,
   "id": "2eababe1-8363-4cc4-ad24-04734bd50250",
   "metadata": {},
   "outputs": [
    {
     "data": {
      "text/html": [
       "<html>\\(\\displaystyle x \\ {\\mapsto}\\ e^{x}\\)</html>"
      ],
      "text/latex": [
       "$\\displaystyle x \\ {\\mapsto}\\ e^{x}$"
      ],
      "text/plain": [
       "x |--> e^x"
      ]
     },
     "metadata": {},
     "output_type": "display_data"
    }
   ],
   "source": [
    "f(x) = e^x\n",
    "show(f.diff(x))"
   ]
  },
  {
   "cell_type": "markdown",
   "id": "83130e90-6680-42cd-b389-c986fe3f0c6e",
   "metadata": {},
   "source": [
    "**Activity 2.1**\n",
    "\n",
    "Use the tree rules above to determine the derivative of each of the following functions. For each, state your answer using full and proper notation, labeling the deriative with its name. \n",
    "\n",
    "a) $f(t) = \\pi$"
   ]
  },
  {
   "cell_type": "code",
   "execution_count": 227,
   "id": "62bd9697-9f36-4bea-b7cc-7ad201bbf8cd",
   "metadata": {},
   "outputs": [
    {
     "data": {
      "text/html": [
       "<html>\\(\\displaystyle t \\ {\\mapsto}\\ 0\\)</html>"
      ],
      "text/latex": [
       "$\\displaystyle t \\ {\\mapsto}\\ 0$"
      ],
      "text/plain": [
       "t |--> 0"
      ]
     },
     "metadata": {},
     "output_type": "display_data"
    }
   ],
   "source": [
    "f(t) = pi\n",
    "show(f.diff(t))"
   ]
  },
  {
   "cell_type": "markdown",
   "id": "b4b74c28-052a-4eae-a1ff-e890a039e55d",
   "metadata": {},
   "source": [
    "$\\frac{df}{dt} \\pi = 0$"
   ]
  },
  {
   "cell_type": "markdown",
   "id": "3cb8dce0-3abc-4b39-89fc-b140dacd7971",
   "metadata": {},
   "source": [
    "b) $g(z) = 7^z$"
   ]
  },
  {
   "cell_type": "code",
   "execution_count": 228,
   "id": "4dedf4c9-baed-4259-922c-17a77adb5c29",
   "metadata": {},
   "outputs": [
    {
     "data": {
      "text/html": [
       "<html>\\(\\displaystyle z \\ {\\mapsto}\\ 7^{z} \\log\\left(7\\right)\\)</html>"
      ],
      "text/latex": [
       "$\\displaystyle z \\ {\\mapsto}\\ 7^{z} \\log\\left(7\\right)$"
      ],
      "text/plain": [
       "z |--> 7^z*log(7)"
      ]
     },
     "metadata": {},
     "output_type": "display_data"
    },
    {
     "data": {
      "text/html": [
       "<html>\\(\\displaystyle z \\ {\\mapsto}\\ e^{z}\\)</html>"
      ],
      "text/latex": [
       "$\\displaystyle z \\ {\\mapsto}\\ e^{z}$"
      ],
      "text/plain": [
       "z |--> e^z"
      ]
     },
     "metadata": {},
     "output_type": "display_data"
    }
   ],
   "source": [
    "g(z) = 7^z\n",
    "show(g.diff(z))\n",
    "g_prime(z) = e^z\n",
    "show(g_prime.diff(z))"
   ]
  },
  {
   "cell_type": "markdown",
   "id": "7635e59c-ac90-4011-acc6-903c4414f893",
   "metadata": {},
   "source": [
    "c) $h(w) = w^{(3/4)}$"
   ]
  },
  {
   "cell_type": "code",
   "execution_count": 229,
   "id": "3fae4e68-f32a-489e-8e24-6518e7fd9c53",
   "metadata": {},
   "outputs": [
    {
     "data": {
      "text/html": [
       "<html>\\(\\displaystyle w \\ {\\mapsto}\\ \\frac{3}{4 \\, w^{\\frac{1}{4}}}\\)</html>"
      ],
      "text/latex": [
       "$\\displaystyle w \\ {\\mapsto}\\ \\frac{3}{4 \\, w^{\\frac{1}{4}}}$"
      ],
      "text/plain": [
       "w |--> 3/4/w^(1/4)"
      ]
     },
     "metadata": {},
     "output_type": "display_data"
    },
    {
     "data": {
      "text/html": [
       "<html>\\(\\displaystyle -\\frac{1}{4}\\)</html>"
      ],
      "text/latex": [
       "$\\displaystyle -\\frac{1}{4}$"
      ],
      "text/plain": [
       "-1/4"
      ]
     },
     "metadata": {},
     "output_type": "display_data"
    },
    {
     "data": {
      "text/html": [
       "<html>\\(\\displaystyle \\frac{1}{w^{\\frac{1}{4}}}\\)</html>"
      ],
      "text/latex": [
       "$\\displaystyle \\frac{1}{w^{\\frac{1}{4}}}$"
      ],
      "text/plain": [
       "w^(-1/4)"
      ]
     },
     "metadata": {},
     "output_type": "display_data"
    }
   ],
   "source": [
    "var('w')\n",
    "h(w) = w^(3/4)\n",
    "show(h.diff(w))\n",
    "show(3/4 -1)\n",
    "show(w^(-(1/4)))"
   ]
  },
  {
   "cell_type": "markdown",
   "id": "436aab16-20cc-488f-a370-6b4572a8b02c",
   "metadata": {},
   "source": [
    "d) $p(x) = 3^{(1/2)}$"
   ]
  },
  {
   "cell_type": "code",
   "execution_count": 230,
   "id": "ec9ffafe-1efa-4c09-96ab-805bca03c51b",
   "metadata": {},
   "outputs": [
    {
     "data": {
      "text/html": [
       "<html>\\(\\displaystyle x \\ {\\mapsto}\\ 0\\)</html>"
      ],
      "text/latex": [
       "$\\displaystyle x \\ {\\mapsto}\\ 0$"
      ],
      "text/plain": [
       "x |--> 0"
      ]
     },
     "metadata": {},
     "output_type": "display_data"
    }
   ],
   "source": [
    "p(x) = 3^(1/2)\n",
    "show(p.diff(x))"
   ]
  },
  {
   "cell_type": "markdown",
   "id": "9598e967-5a63-4b24-b564-7d712f19c0e8",
   "metadata": {},
   "source": [
    "e) $r(t) = (\\sqrt 2 ) ^t$, it should be $\\sqrt 2 ^t ln(\\sqrt 2)$, I am having some trouble with the following results:"
   ]
  },
  {
   "cell_type": "code",
   "execution_count": 231,
   "id": "1805b2a8-905c-4e77-b240-876ca1ec6f66",
   "metadata": {},
   "outputs": [
    {
     "data": {
      "text/html": [
       "<html>\\(\\displaystyle t \\ {\\mapsto}\\ \\frac{1}{2} \\cdot 2^{\\frac{1}{2} \\, t} \\log\\left(2\\right)\\)</html>"
      ],
      "text/latex": [
       "$\\displaystyle t \\ {\\mapsto}\\ \\frac{1}{2} \\cdot 2^{\\frac{1}{2} \\, t} \\log\\left(2\\right)$"
      ],
      "text/plain": [
       "t |--> 1/2*2^(1/2*t)*log(2)"
      ]
     },
     "metadata": {},
     "output_type": "display_data"
    },
    {
     "data": {
      "text/html": [
       "<html>\\(\\displaystyle 2^{\\frac{1}{2} \\, t} \\log\\left(\\sqrt{2}\\right)\\)</html>"
      ],
      "text/latex": [
       "$\\displaystyle 2^{\\frac{1}{2} \\, t} \\log\\left(\\sqrt{2}\\right)$"
      ],
      "text/plain": [
       "2^(1/2*t)*log(sqrt(2))"
      ]
     },
     "metadata": {},
     "output_type": "display_data"
    }
   ],
   "source": [
    "r(t) = (sqrt(2))^t\n",
    "show(r.diff(t))\n",
    "show((sqrt(2)^t) * ln(sqrt(2)))"
   ]
  },
  {
   "cell_type": "markdown",
   "id": "6507689d-0aee-4597-af59-0165d10f8251",
   "metadata": {},
   "source": [
    "f) $\\frac{d}{dq} [ q^{-1}]$"
   ]
  },
  {
   "cell_type": "code",
   "execution_count": 232,
   "id": "66fd5e86-8176-4965-b84a-4f525d48fe70",
   "metadata": {},
   "outputs": [
    {
     "data": {
      "text/html": [
       "<html>\\(\\displaystyle q \\ {\\mapsto}\\ -\\frac{1}{q^{2}}\\)</html>"
      ],
      "text/latex": [
       "$\\displaystyle q \\ {\\mapsto}\\ -\\frac{1}{q^{2}}$"
      ],
      "text/plain": [
       "q |--> -1/q^2"
      ]
     },
     "metadata": {},
     "output_type": "display_data"
    }
   ],
   "source": [
    "f(q) = q^(-1)\n",
    "show(f.diff(q))"
   ]
  },
  {
   "cell_type": "markdown",
   "id": "fee78517-2bdf-420d-9c7a-c7b2841307c8",
   "metadata": {},
   "source": [
    "g) $m(t) = \\frac{1} {t^3}$"
   ]
  },
  {
   "cell_type": "code",
   "execution_count": 233,
   "id": "0b117444-9438-48fe-825c-f39b4079c1e4",
   "metadata": {},
   "outputs": [
    {
     "data": {
      "text/html": [
       "<html>\\(\\displaystyle t \\ {\\mapsto}\\ -\\frac{3}{t^{4}}\\)</html>"
      ],
      "text/latex": [
       "$\\displaystyle t \\ {\\mapsto}\\ -\\frac{3}{t^{4}}$"
      ],
      "text/plain": [
       "t |--> -3/t^4"
      ]
     },
     "metadata": {},
     "output_type": "display_data"
    }
   ],
   "source": [
    "m(t) = 1/ (t^3)\n",
    "show(m.diff(t))"
   ]
  },
  {
   "cell_type": "markdown",
   "id": "d883e828-7706-4398-a53d-40647393d561",
   "metadata": {},
   "source": [
    "**Constant Multiples and Sums of Functions**\n",
    "\n",
    "In order to take the derivative of a polynomial function such as $p(t) = 3 t^5 -7 t^4 + t^2 - 9$,\n",
    "which is a function made up of constant multiples and sums of powers of $t$.\n",
    "\n",
    "For any real number $k$, if $f(x)$ is a differentiable function with derivative $f'(x)$, then $\\frac{d}{dx}[kf(x)] = k f'(x)$\n",
    "\n",
    "The following checks out! We have the reuslt g_prime = g_prime2, one using the constant rule to calculate, the other using direct derivative."
   ]
  },
  {
   "cell_type": "code",
   "execution_count": 234,
   "id": "e791cbed-995d-4e25-9e30-0a4204919e1a",
   "metadata": {},
   "outputs": [
    {
     "data": {
      "image/png": "[encoded data removed]",
      "text/plain": [
       "Graphics object consisting of 5 graphics primitives"
      ]
     },
     "metadata": {},
     "output_type": "display_data"
    }
   ],
   "source": [
    "var('k')\n",
    "f(x) = x^2\n",
    "f_prime(x) = f.diff(x)\n",
    "g(x) = k*f(x)\n",
    "g_prime(x) = g.diff(x)\n",
    "g_prime2(x) = k*f_prime(x)\n",
    "fplot=plot(f, (x, -10, 10))\n",
    "f_prime_plot=plot(f_prime, (x, -10, 10))\n",
    "gplot=plot(g(k=2), (x, -10, 10), color=\"red\")\n",
    "g_primeplot = plot(g_prime(k=2), (x, -10, 10), color = \"red\")\n",
    "g_prime2plot = plot(g_prime2(k=2), (x, -10, 10), color = \"yellow\")\n",
    "(fplot + f_prime_plot + gplot + g_primeplot  + g_prime2plot).show()"
   ]
  },
  {
   "cell_type": "markdown",
   "id": "65a704bb-b95d-48cf-a1ab-5d3453dd4339",
   "metadata": {},
   "source": [
    "**The Sume Rule** If $f(x)$ and $g(x)$ are differentiable functions with derivatives $f'(x)$ and $g'(x)$ \n",
    "respectively, then $$\\frac{d}{dx}[f(x) + g(x)] = f'(x) + g'(x)$$\n",
    "\n",
    "a) $f(x) =x^{5/3} - x^4 + 2^x $"
   ]
  },
  {
   "cell_type": "code",
   "execution_count": 235,
   "id": "c966626d-f87d-450e-9f43-4c51eea255d5",
   "metadata": {},
   "outputs": [
    {
     "data": {
      "text/html": [
       "<html>\\(\\displaystyle \\frac{5}{3} \\, x^{\\frac{2}{3}}\\)</html>"
      ],
      "text/latex": [
       "$\\displaystyle \\frac{5}{3} \\, x^{\\frac{2}{3}}$"
      ],
      "text/plain": [
       "5/3*x^(2/3)"
      ]
     },
     "metadata": {},
     "output_type": "display_data"
    },
    {
     "data": {
      "text/html": [
       "<html>\\(\\displaystyle 4 \\, x^{3}\\)</html>"
      ],
      "text/latex": [
       "$\\displaystyle 4 \\, x^{3}$"
      ],
      "text/plain": [
       "4*x^3"
      ]
     },
     "metadata": {},
     "output_type": "display_data"
    },
    {
     "data": {
      "text/html": [
       "<html>\\(\\displaystyle 2^{x} \\log\\left(2\\right)\\)</html>"
      ],
      "text/latex": [
       "$\\displaystyle 2^{x} \\log\\left(2\\right)$"
      ],
      "text/plain": [
       "2^x*log(2)"
      ]
     },
     "metadata": {},
     "output_type": "display_data"
    },
    {
     "data": {
      "text/html": [
       "<html>\\(\\displaystyle -4 \\, x^{3} + 2^{x} \\log\\left(2\\right) + \\frac{5}{3} \\, x^{\\frac{2}{3}}\\)</html>"
      ],
      "text/latex": [
       "$\\displaystyle -4 \\, x^{3} + 2^{x} \\log\\left(2\\right) + \\frac{5}{3} \\, x^{\\frac{2}{3}}$"
      ],
      "text/plain": [
       "-4*x^3 + 2^x*log(2) + 5/3*x^(2/3)"
      ]
     },
     "metadata": {},
     "output_type": "display_data"
    },
    {
     "data": {
      "text/html": [
       "<html>\\(\\displaystyle x \\ {\\mapsto}\\ -4 \\, x^{3} + 2^{x} \\log\\left(2\\right) + \\frac{5}{3} \\, x^{\\frac{2}{3}}\\)</html>"
      ],
      "text/latex": [
       "$\\displaystyle x \\ {\\mapsto}\\ -4 \\, x^{3} + 2^{x} \\log\\left(2\\right) + \\frac{5}{3} \\, x^{\\frac{2}{3}}$"
      ],
      "text/plain": [
       "x |--> -4*x^3 + 2^x*log(2) + 5/3*x^(2/3)"
      ]
     },
     "metadata": {},
     "output_type": "display_data"
    }
   ],
   "source": [
    "f(x) = x^(5/3) - x^4 + 2^x\n",
    "a = (x^(5/3)).diff(x)\n",
    "show(a)\n",
    "b = (x^4).diff(x)\n",
    "show(b)\n",
    "c = (2^x).diff(x)\n",
    "show(c)\n",
    "show (a -b + c)\n",
    "show(f.diff(x))"
   ]
  },
  {
   "cell_type": "markdown",
   "id": "8243d7d5-68c6-4619-9aa1-f879be2d0c22",
   "metadata": {},
   "source": [
    "b) $g(x) = 14  e^x + 3 x^5 -x$"
   ]
  },
  {
   "cell_type": "code",
   "execution_count": 236,
   "id": "2aee2b36-17c7-453f-acac-08f57e9c13c7",
   "metadata": {},
   "outputs": [
    {
     "data": {
      "text/html": [
       "<html>\\(\\displaystyle x \\ {\\mapsto}\\ 15 \\, x^{4} + 14 \\, e^{x} - 1\\)</html>"
      ],
      "text/latex": [
       "$\\displaystyle x \\ {\\mapsto}\\ 15 \\, x^{4} + 14 \\, e^{x} - 1$"
      ],
      "text/plain": [
       "x |--> 15*x^4 + 14*e^x - 1"
      ]
     },
     "metadata": {},
     "output_type": "display_data"
    },
    {
     "data": {
      "text/html": [
       "<html>\\(\\displaystyle 14 \\, e^{x}\\)</html>"
      ],
      "text/latex": [
       "$\\displaystyle 14 \\, e^{x}$"
      ],
      "text/plain": [
       "14*e^x"
      ]
     },
     "metadata": {},
     "output_type": "display_data"
    },
    {
     "data": {
      "text/html": [
       "<html>\\(\\displaystyle 15 \\, x^{4}\\)</html>"
      ],
      "text/latex": [
       "$\\displaystyle 15 \\, x^{4}$"
      ],
      "text/plain": [
       "15*x^4"
      ]
     },
     "metadata": {},
     "output_type": "display_data"
    },
    {
     "data": {
      "text/html": [
       "<html>\\(\\displaystyle 1\\)</html>"
      ],
      "text/latex": [
       "$\\displaystyle 1$"
      ],
      "text/plain": [
       "1"
      ]
     },
     "metadata": {},
     "output_type": "display_data"
    },
    {
     "data": {
      "text/html": [
       "<html>\\(\\displaystyle 15 \\, x^{4} + 14 \\, e^{x} - 1\\)</html>"
      ],
      "text/latex": [
       "$\\displaystyle 15 \\, x^{4} + 14 \\, e^{x} - 1$"
      ],
      "text/plain": [
       "15*x^4 + 14*e^x - 1"
      ]
     },
     "metadata": {},
     "output_type": "display_data"
    }
   ],
   "source": [
    "g(x) = 14 * e^x + 3 * x^5 - x\n",
    "show(g.diff(x))\n",
    "a = 14 * e^x \n",
    "b = 3 * x^5\n",
    "c = x\n",
    "show(a.diff(x))\n",
    "show(b.diff(x))\n",
    "show(c.diff(x))\n",
    "show(a.diff(x) + b.diff(x) - c.diff(x))"
   ]
  },
  {
   "cell_type": "markdown",
   "id": "c8bac3ea-eb53-4bd5-8dfa-49c6a4925817",
   "metadata": {},
   "source": [
    "c) $h(z) = \\sqrt z + \\frac{1}{z^4} + 5^z$"
   ]
  },
  {
   "cell_type": "code",
   "execution_count": 237,
   "id": "a39b96a2-7c94-4182-8242-8fa7c91b906d",
   "metadata": {},
   "outputs": [
    {
     "data": {
      "text/html": [
       "<html>\\(\\displaystyle z \\ {\\mapsto}\\ 5^{z} \\log\\left(5\\right) + \\frac{1}{2 \\, \\sqrt{z}} - \\frac{4}{z^{5}}\\)</html>"
      ],
      "text/latex": [
       "$\\displaystyle z \\ {\\mapsto}\\ 5^{z} \\log\\left(5\\right) + \\frac{1}{2 \\, \\sqrt{z}} - \\frac{4}{z^{5}}$"
      ],
      "text/plain": [
       "z |--> 5^z*log(5) + 1/2/sqrt(z) - 4/z^5"
      ]
     },
     "metadata": {},
     "output_type": "display_data"
    },
    {
     "data": {
      "text/html": [
       "<html>\\(\\displaystyle 5^{z} \\log\\left(5\\right) + \\frac{1}{2 \\, \\sqrt{z}} - \\frac{4}{z^{5}}\\)</html>"
      ],
      "text/latex": [
       "$\\displaystyle 5^{z} \\log\\left(5\\right) + \\frac{1}{2 \\, \\sqrt{z}} - \\frac{4}{z^{5}}$"
      ],
      "text/plain": [
       "5^z*log(5) + 1/2/sqrt(z) - 4/z^5"
      ]
     },
     "metadata": {},
     "output_type": "display_data"
    }
   ],
   "source": [
    "h(z) = sqrt(z) + 1/(z^4) + 5^z\n",
    "show(h.diff(z))\n",
    "a = sqrt(z) \n",
    "b =  1/(z^4)\n",
    "c =  5^z\n",
    "show(a.diff(z) + b.diff(z) + c.diff(z))"
   ]
  },
  {
   "cell_type": "markdown",
   "id": "010847ca-0e9d-419a-a0e1-2ef66c3a2a4d",
   "metadata": {},
   "source": [
    "d) $r(t) = \\sqrt {53}  t^7 - \\pi e^t + e^4$"
   ]
  },
  {
   "cell_type": "code",
   "execution_count": 238,
   "id": "70f9de9e-e7c8-4959-9a20-4f96bb46e35c",
   "metadata": {},
   "outputs": [
    {
     "data": {
      "text/html": [
       "<html>\\(\\displaystyle t \\ {\\mapsto}\\ 7 \\, \\sqrt{53} t^{6} - \\pi e^{t}\\)</html>"
      ],
      "text/latex": [
       "$\\displaystyle t \\ {\\mapsto}\\ 7 \\, \\sqrt{53} t^{6} - \\pi e^{t}$"
      ],
      "text/plain": [
       "t |--> 7*sqrt(53)*t^6 - pi*e^t"
      ]
     },
     "metadata": {},
     "output_type": "display_data"
    },
    {
     "data": {
      "text/html": [
       "<html>\\(\\displaystyle 7 \\, \\sqrt{53} t^{6} - \\pi e^{t}\\)</html>"
      ],
      "text/latex": [
       "$\\displaystyle 7 \\, \\sqrt{53} t^{6} - \\pi e^{t}$"
      ],
      "text/plain": [
       "7*sqrt(53)*t^6 - pi*e^t"
      ]
     },
     "metadata": {},
     "output_type": "display_data"
    }
   ],
   "source": [
    "r(t) = sqrt(53) * t^7  - pi * e^t + e^4\n",
    "show(r.diff(t))\n",
    "a = sqrt(53) * t^7 \n",
    "b = pi * e^t\n",
    "c = e^4\n",
    "show(a.diff(t) - b.diff(t) + c.diff(t) )"
   ]
  },
  {
   "cell_type": "markdown",
   "id": "ba43b48b-bae2-48ff-a6d7-69ad47cd4b8f",
   "metadata": {},
   "source": [
    "e) $s(y) = (y^2 + 1) (y^2 -1)$"
   ]
  },
  {
   "cell_type": "code",
   "execution_count": 239,
   "id": "a348c8cc-ea39-44fd-b354-19402bf35e88",
   "metadata": {},
   "outputs": [
    {
     "data": {
      "text/html": [
       "<html>\\(\\displaystyle y \\ {\\mapsto}\\ 4 \\, y^{3}\\)</html>"
      ],
      "text/latex": [
       "$\\displaystyle y \\ {\\mapsto}\\ 4 \\, y^{3}$"
      ],
      "text/plain": [
       "y |--> 4*y^3"
      ]
     },
     "metadata": {},
     "output_type": "display_data"
    },
    {
     "data": {
      "text/html": [
       "<html>\\(\\displaystyle y \\ {\\mapsto}\\ 2 \\, y\\)</html>"
      ],
      "text/latex": [
       "$\\displaystyle y \\ {\\mapsto}\\ 2 \\, y$"
      ],
      "text/plain": [
       "y |--> 2*y"
      ]
     },
     "metadata": {},
     "output_type": "display_data"
    },
    {
     "data": {
      "text/html": [
       "<html>\\(\\displaystyle y \\ {\\mapsto}\\ 2 \\, y\\)</html>"
      ],
      "text/latex": [
       "$\\displaystyle y \\ {\\mapsto}\\ 2 \\, y$"
      ],
      "text/plain": [
       "y |--> 2*y"
      ]
     },
     "metadata": {},
     "output_type": "display_data"
    },
    {
     "data": {
      "text/html": [
       "<html>\\(\\displaystyle y \\ {\\mapsto}\\ 4 \\, y^{3}\\)</html>"
      ],
      "text/latex": [
       "$\\displaystyle y \\ {\\mapsto}\\ 4 \\, y^{3}$"
      ],
      "text/plain": [
       "y |--> 4*y^3"
      ]
     },
     "metadata": {},
     "output_type": "display_data"
    }
   ],
   "source": [
    "s(y) = (y^2 + 1) * (y^2 - 1)\n",
    "show(expand(s.diff(y)))\n",
    "a(y) = y^2+1\n",
    "b(y) = y^2 -1\n",
    "\n",
    "#2*y * 2*y = 4 y^2 #my mistake is I am using a rule that does not exist, \n",
    "#there is only the sum rule\n",
    "\n",
    "show(a.diff(y))\n",
    "show(b.diff(y))\n",
    "show(a.diff(y)*b.diff(y)*y)\n",
    "#maybe:(conjecture: the product rule\n",
    "#the derivative of the product of two functions, is the product of the derivatives\n",
    "#of the functions multiplied with the variable of derivative.\n",
    "\n",
    "\n"
   ]
  },
  {
   "cell_type": "markdown",
   "id": "bfab77e8-84b5-4876-a0aa-42de2ce59d61",
   "metadata": {},
   "source": [
    "**conjecture: the product rule**\n",
    "\n",
    "the derivative of the product of two functions, is the product of the derivatives of the functions multiplied with the variable of derivative.\n",
    "\n",
    "To test this conjecture, making up some more experiments:"
   ]
  },
  {
   "cell_type": "code",
   "execution_count": 240,
   "id": "7f370ae9-7ecd-4fcd-a6ac-fa07772bea74",
   "metadata": {},
   "outputs": [
    {
     "data": {
      "text/html": [
       "<html>\\(\\displaystyle 2 \\, y\\)</html>"
      ],
      "text/latex": [
       "$\\displaystyle 2 \\, y$"
      ],
      "text/plain": [
       "2*y"
      ]
     },
     "metadata": {},
     "output_type": "display_data"
    },
    {
     "data": {
      "text/html": [
       "<html>\\(\\displaystyle 3 \\, y^{2}\\)</html>"
      ],
      "text/latex": [
       "$\\displaystyle 3 \\, y^{2}$"
      ],
      "text/plain": [
       "3*y^2"
      ]
     },
     "metadata": {},
     "output_type": "display_data"
    },
    {
     "data": {
      "text/html": [
       "<html>\\(\\displaystyle 6 \\, y^{4}\\)</html>"
      ],
      "text/latex": [
       "$\\displaystyle 6 \\, y^{4}$"
      ],
      "text/plain": [
       "6*y^4"
      ]
     },
     "metadata": {},
     "output_type": "display_data"
    },
    {
     "data": {
      "text/html": [
       "<html>\\(\\displaystyle y \\ {\\mapsto}\\ 5 \\, y^{4} + 3 \\, y^{2} - 2 \\, y\\)</html>"
      ],
      "text/latex": [
       "$\\displaystyle y \\ {\\mapsto}\\ 5 \\, y^{4} + 3 \\, y^{2} - 2 \\, y$"
      ],
      "text/plain": [
       "y |--> 5*y^4 + 3*y^2 - 2*y"
      ]
     },
     "metadata": {},
     "output_type": "display_data"
    }
   ],
   "source": [
    "var('y')\n",
    "s(y)=(y^2 + 1)*(y^3 -1)\n",
    "#show(expand(s))\n",
    "#show(expand(s.diff(y)))\n",
    "\n",
    "a = y^2 + 1\n",
    "b = y^3 - 1\n",
    "\n",
    "#apply the sum rule:\n",
    "show(a.diff(y) )\n",
    "show(b.diff(y) )\n",
    "\n",
    "#apply product rule conjecture:\n",
    "show(a.diff(y) * b.diff(y) *y)\n",
    "\n",
    "#get the correct result\n",
    "show(expand(s.diff(y)))\n",
    "\n",
    "#the product rule conjecture so far does not work\n",
    "#a(y) = y^2+1\n",
    "#b(y) = y^3 -1\n",
    "\n",
    "#show(a.diff(y))\n",
    "#show(b.diff(y))\n",
    "#show(a.diff(y)*b.diff(y)*y)"
   ]
  },
  {
   "cell_type": "markdown",
   "id": "bdaba9ba-d678-4c47-a11e-d1714c104e90",
   "metadata": {},
   "source": [
    "f) $q(x) = \\frac{x^3 - x + 2}{x}$"
   ]
  },
  {
   "cell_type": "code",
   "execution_count": 241,
   "id": "9997805d-29f8-405a-ac7c-1f62241ddbdf",
   "metadata": {},
   "outputs": [
    {
     "data": {
      "text/html": [
       "<html>\\(\\displaystyle 2 \\, x - \\frac{2}{x^{2}}\\)</html>"
      ],
      "text/latex": [
       "$\\displaystyle 2 \\, x - \\frac{2}{x^{2}}$"
      ],
      "text/plain": [
       "2*x - 2/x^2"
      ]
     },
     "metadata": {},
     "output_type": "display_data"
    },
    {
     "data": {
      "text/html": [
       "<html>\\(\\displaystyle x \\ {\\mapsto}\\ 2 \\, x - \\frac{2}{x^{2}}\\)</html>"
      ],
      "text/latex": [
       "$\\displaystyle x \\ {\\mapsto}\\ 2 \\, x - \\frac{2}{x^{2}}$"
      ],
      "text/plain": [
       "x |--> 2*x - 2/x^2"
      ]
     },
     "metadata": {},
     "output_type": "display_data"
    }
   ],
   "source": [
    "q(x) = (x^3 - x + 2)/x\n",
    "\n",
    "a = x^3/x\n",
    "b = x/x\n",
    "c = 2/x\n",
    "\n",
    "show(a.diff(x) - b.diff(x) + c.diff(x))\n",
    "show( expand(q.diff(x)) )"
   ]
  },
  {
   "cell_type": "markdown",
   "id": "247e9e8c-322b-491a-bb13-1445bf654e0c",
   "metadata": {},
   "source": [
    "g) $p(a) = 3 a^4 - a^3 + 7 a^2 - a + 12 $"
   ]
  },
  {
   "cell_type": "code",
   "execution_count": 242,
   "id": "59dc7759-151a-4d6b-8dd4-05b41e2cccfe",
   "metadata": {},
   "outputs": [
    {
     "data": {
      "text/html": [
       "<html>\\(\\displaystyle a \\ {\\mapsto}\\ 12 \\, a^{3} - 3 \\, a^{2} + 14 \\, a - 1\\)</html>"
      ],
      "text/latex": [
       "$\\displaystyle a \\ {\\mapsto}\\ 12 \\, a^{3} - 3 \\, a^{2} + 14 \\, a - 1$"
      ],
      "text/plain": [
       "a |--> 12*a^3 - 3*a^2 + 14*a - 1"
      ]
     },
     "metadata": {},
     "output_type": "display_data"
    },
    {
     "data": {
      "text/html": [
       "<html>\\(\\displaystyle 12 \\, a^{3} - 3 \\, a^{2} + 14 \\, a - 1\\)</html>"
      ],
      "text/latex": [
       "$\\displaystyle 12 \\, a^{3} - 3 \\, a^{2} + 14 \\, a - 1$"
      ],
      "text/plain": [
       "12*a^3 - 3*a^2 + 14*a - 1"
      ]
     },
     "metadata": {},
     "output_type": "display_data"
    },
    {
     "data": {
      "text/html": [
       "<html>\\(\\displaystyle 12 \\, a^{3} - 3 \\, a^{2} + 14 \\, a - 1\\)</html>"
      ],
      "text/latex": [
       "$\\displaystyle 12 \\, a^{3} - 3 \\, a^{2} + 14 \\, a - 1$"
      ],
      "text/plain": [
       "12*a^3 - 3*a^2 + 14*a - 1"
      ]
     },
     "metadata": {},
     "output_type": "display_data"
    }
   ],
   "source": [
    "p(a) = 3* a^4 - a^3 + 7 * a^2 -a + 12\n",
    "show(expand(p.diff(a)))\n",
    "\n",
    "#apply sum rule:\n",
    "\n",
    "a1 = 3* a^4\n",
    "b = a^3 \n",
    "c = 7 * a^2\n",
    "d = a\n",
    "\n",
    "a1_prime = 12*a^3\n",
    "b_prime = 3* a^2\n",
    "c_prime = 14*a\n",
    "d_prime = 1\n",
    "\n",
    "#show(a.diff(a))\n",
    "show(a1_prime - b_prime + c_prime -d_prime)\n",
    "show(a1.diff(a) - b.diff(a) + c.diff(a) - d.diff(a)) "
   ]
  },
  {
   "cell_type": "markdown",
   "id": "f0359120-ea14-4126-9479-b2bc680b1d99",
   "metadata": {},
   "source": [
    "google search found some article regarding product rule:\n",
    "https://www.whitman.edu/mathematics/calculus_late_online/section03.03.html\n",
    "This give me a confirmation of its existence, so our text should have it too.\n",
    "\n",
    "Indeed, this is developed in the section after the current and the next section, which we will go through now because we are interested in it, then we will come back to finish the section we skip regarding sine and cosine.\n",
    "\n",
    "A quick preview of the chapter on product rule changed my mind because it uses sine and cosine in the examples, which is the next section following,This suggests I should just stay on course. \n",
    "\n",
    "\n",
    "**Langauge convention**\n",
    "\n",
    "\"take the derivative of f == differentiate f\"\n",
    "\n",
    "f is differentiable at a point on the function.\n"
   ]
  },
  {
   "cell_type": "code",
   "execution_count": 243,
   "id": "88db618e-48bd-42b6-a5ae-93de8f6d6876",
   "metadata": {},
   "outputs": [
    {
     "data": {
      "text/html": [
       "<html>\\(\\displaystyle z \\ {\\mapsto}\\ 7 \\cdot 2^{z} \\log\\left(2\\right)\\)</html>"
      ],
      "text/latex": [
       "$\\displaystyle z \\ {\\mapsto}\\ 7 \\cdot 2^{z} \\log\\left(2\\right)$"
      ],
      "text/plain": [
       "z |--> 7*2^z*log(2)"
      ]
     },
     "metadata": {},
     "output_type": "display_data"
    },
    {
     "data": {
      "text/html": [
       "<html>\\(\\displaystyle 0.693147180559945\\)</html>"
      ],
      "text/latex": [
       "$\\displaystyle 0.693147180559945$"
      ],
      "text/plain": [
       "0.693147180559945"
      ]
     },
     "metadata": {},
     "output_type": "display_data"
    },
    {
     "data": {
      "image/png": "[encoded data removed]",
      "text/plain": [
       "Graphics object consisting of 2 graphics primitives"
      ]
     },
     "metadata": {},
     "output_type": "display_data"
    }
   ],
   "source": [
    "g(z) = 7 * 2^z\n",
    "show(g.diff(z))\n",
    "show(ln(2).n())\n",
    "a = plot(g, (z, -100, 100))\n",
    "b = plot(g.diff(z), (z, -100,100), color=\"red\")\n",
    "(a+b).show()"
   ]
  },
  {
   "cell_type": "code",
   "execution_count": 244,
   "id": "2ee50a38-7ec1-4f26-a916-d925b7f36004",
   "metadata": {},
   "outputs": [
    {
     "data": {
      "text/html": [
       "<html>\\(\\displaystyle t \\ {\\mapsto}\\ 35 \\, t^{4} - 12 \\, t^{2} + 8\\)</html>"
      ],
      "text/latex": [
       "$\\displaystyle t \\ {\\mapsto}\\ 35 \\, t^{4} - 12 \\, t^{2} + 8$"
      ],
      "text/plain": [
       "t |--> 35*t^4 - 12*t^2 + 8"
      ]
     },
     "metadata": {},
     "output_type": "display_data"
    },
    {
     "data": {
      "image/png": "[encoded data removed]",
      "text/plain": [
       "Graphics object consisting of 2 graphics primitives"
      ]
     },
     "metadata": {},
     "output_type": "display_data"
    }
   ],
   "source": [
    "p(t) = 7 * t^5 - 4* t^3 + 8 * t\n",
    "show(p.diff(t))\n",
    "a=plot(p, (t, -10, 10))\n",
    "b=plot(p.diff(t), (t, -10, 10), color=\"red\")\n",
    "(a+b).show()"
   ]
  },
  {
   "cell_type": "markdown",
   "id": "f9b5dcd2-e39e-4925-8677-fa2adf660628",
   "metadata": {},
   "source": [
    "Note: we could use the plot feature to plot each and every example, maybe we can discover\n",
    "some pattern, or perhaps conjecture.\n",
    "\n",
    "Comments: looking at the graph of the exponential function and its derivative, one can\n",
    "get a sense of the instantaneous rate of change of the exponential\n",
    "\n",
    "**Activity 2.3**\n"
   ]
  },
  {
   "cell_type": "code",
   "execution_count": 245,
   "id": "4627d014-dc04-444c-8c48-ed3e69b8ae4c",
   "metadata": {},
   "outputs": [
    {
     "data": {
      "text/html": [
       "<html>\\(\\displaystyle z \\ {\\mapsto}\\ \\frac{1}{2 \\, \\sqrt{z}} - \\frac{1}{z^{2}}\\)</html>"
      ],
      "text/latex": [
       "$\\displaystyle z \\ {\\mapsto}\\ \\frac{1}{2 \\, \\sqrt{z}} - \\frac{1}{z^{2}}$"
      ],
      "text/plain": [
       "z |--> 1/2/sqrt(z) - 1/z^2"
      ]
     },
     "metadata": {},
     "output_type": "display_data"
    },
    {
     "data": {
      "text/html": [
       "<html>\\(\\displaystyle \\frac{3}{16}\\)</html>"
      ],
      "text/latex": [
       "$\\displaystyle \\frac{3}{16}$"
      ],
      "text/plain": [
       "3/16"
      ]
     },
     "metadata": {},
     "output_type": "display_data"
    },
    {
     "name": "stdout",
     "output_type": "stream",
     "text": [
      "verbose 0 (3899: plot.py, generate_plot_points) WARNING: When plotting, failed to evaluate function at 100 points.\n",
      "verbose 0 (3899: plot.py, generate_plot_points) Last error message: 'Unable to compute f(-0.029985519561682168)'\n",
      "verbose 0 (3899: plot.py, generate_plot_points) WARNING: When plotting, failed to evaluate function at 100 points.\n",
      "verbose 0 (3899: plot.py, generate_plot_points) Last error message: 'Unable to compute f(-0.04998163196552279)'\n"
     ]
    },
    {
     "data": {
      "image/png": "[encoded data removed]",
      "text/plain": [
       "Graphics object consisting of 2 graphics primitives"
      ]
     },
     "metadata": {},
     "output_type": "display_data"
    }
   ],
   "source": [
    "h(z) = sqrt(z) + 1/z\n",
    "show(h.diff(z))\n",
    "h_prime(z) = h.diff(z)\n",
    "show(h_prime(z= 4))\n",
    "a = plot(h, (z, -5, 5))\n",
    "b = plot(h_prime, (z, -5, 5), color=\"red\")\n",
    "#c = plot(h_prime, (z, 4, 4), thinkness = 10, color = \"Orange\")\n",
    "(a+b).show()"
   ]
  },
  {
   "cell_type": "code",
   "execution_count": 246,
   "id": "ef4bc26a-2397-4e60-b764-c32a21b004a5",
   "metadata": {},
   "outputs": [
    {
     "data": {
      "text/html": [
       "<html>\\(\\displaystyle t \\ {\\mapsto}\\ 0.629621479680067 \\cdot 1.37000000000000^{t}\\)</html>"
      ],
      "text/latex": [
       "$\\displaystyle t \\ {\\mapsto}\\ 0.629621479680067 \\cdot 1.37000000000000^{t}$"
      ],
      "text/plain": [
       "t |--> 0.629621479680067*1.37000000000000^t"
      ]
     },
     "metadata": {},
     "output_type": "display_data"
    },
    {
     "data": {
      "text/html": [
       "<html>\\(\\displaystyle 2.21800134047650\\)</html>"
      ],
      "text/latex": [
       "$\\displaystyle 2.21800134047650$"
      ],
      "text/plain": [
       "2.21800134047650"
      ]
     },
     "metadata": {},
     "output_type": "display_data"
    },
    {
     "data": {
      "image/png": "[encoded data removed]",
      "text/plain": [
       "Graphics object consisting of 2 graphics primitives"
      ]
     },
     "metadata": {},
     "output_type": "display_data"
    }
   ],
   "source": [
    "p(t)=2*(1.37)^t + 32\n",
    "p_prime(t) = p.diff(t)\n",
    "show(p_prime)\n",
    "show(p_prime(t=4))\n",
    "\n",
    "a = plot(p, (t, 0, 10))\n",
    "b = plot(p_prime, (t, 0, 10), color=\"red\")\n",
    "(a+b).show()"
   ]
  },
  {
   "cell_type": "markdown",
   "id": "29c16871-cb05-4d6d-8154-832b9757c095",
   "metadata": {},
   "source": [
    "i. units of measure: numbers of cells/day\n",
    "ii. it's a postitive number, meaning growth rate(rate of change) is increasing. The second reason is by looking at the graph of the two functions as provided above, on day 4, the red curve, is concave up."
   ]
  },
  {
   "cell_type": "code",
   "execution_count": 247,
   "id": "99c2530e-e374-4775-867d-60362b922a71",
   "metadata": {},
   "outputs": [
    {
     "data": {
      "text/html": [
       "<html>\\(\\displaystyle 12 \\, a^{3} - 6 \\, a^{2} + 14 \\, a - 1\\)</html>"
      ],
      "text/latex": [
       "$\\displaystyle 12 \\, a^{3} - 6 \\, a^{2} + 14 \\, a - 1$"
      ],
      "text/plain": [
       "12*a^3 - 6*a^2 + 14*a - 1"
      ]
     },
     "metadata": {},
     "output_type": "display_data"
    },
    {
     "data": {
      "text/html": [
       "<html>\\(\\displaystyle -33 \\, x - 8\\)</html>"
      ],
      "text/latex": [
       "$\\displaystyle -33 \\, x - 8$"
      ],
      "text/plain": [
       "-33*x - 8"
      ]
     },
     "metadata": {},
     "output_type": "display_data"
    },
    {
     "data": {
      "text/html": [
       "<html>\\(\\displaystyle -33\\)</html>"
      ],
      "text/latex": [
       "$\\displaystyle -33$"
      ],
      "text/plain": [
       "-33"
      ]
     },
     "metadata": {},
     "output_type": "display_data"
    },
    {
     "data": {
      "image/png": "[encoded data removed]",
      "text/plain": [
       "Graphics object consisting of 2 graphics primitives"
      ]
     },
     "metadata": {},
     "output_type": "display_data"
    }
   ],
   "source": [
    "var('x', 'a')\n",
    "p(a)=  3* a^4 - 2* a^3 + 7 * a^2 -a + 12\n",
    "p_prime(a) = p.diff(a)\n",
    "tangent_line(x) = p_prime(-1)*(x+1) + p(a=-1)\n",
    "show(p_prime(a))\n",
    "show(tangent_line(x))\n",
    "\n",
    "show(p_prime(a=-1))\n",
    "p1=plot(p, (a, -3, 3))\n",
    "#p2=plot(p_prime, (a, -3, 3), color=\"red\")\n",
    "p3=plot(tangent_line, (x, -5, 5), color=\"orange\")\n",
    "(p1+p3).show()"
   ]
  },
  {
   "cell_type": "markdown",
   "id": "a17d8af4-a0da-4fac-9246-7993fa64cd8b",
   "metadata": {},
   "source": [
    "d)What is the difference between being asked to find the slope of the tangen line and the equation of the tangent line?"
   ]
  },
  {
   "cell_type": "markdown",
   "id": "77214ed6-57f2-4731-9117-606e725fa8d6",
   "metadata": {},
   "source": [
    "slope of the tangent line is the $f'(x)$\n",
    "\n",
    "while, the equation is given by the formula: $L(x)= f'(x) (x -a) + f(a)$, where $x = a$"
   ]
  },
  {
   "cell_type": "markdown",
   "id": "06432fdf-e24c-48e8-bfe3-dddcd1bafc43",
   "metadata": {},
   "source": [
    "\n",
    "\n",
    "\n",
    "\n"
   ]
  },
  {
   "cell_type": "markdown",
   "id": "0ae5083f-c20a-42b6-ab95-4602c93b92f6",
   "metadata": {},
   "source": [
    "**Summary**\n",
    "\n",
    "**Exercise**"
   ]
  },
  {
   "cell_type": "markdown",
   "id": "c799d499-d8db-466f-a46a-6d850106340b",
   "metadata": {},
   "source": []
  },
  {
   "cell_type": "markdown",
   "id": "bcdea124-fb20-4842-b1a7-b25101c9a6c5",
   "metadata": {},
   "source": []
  },
  {
   "cell_type": "markdown",
   "id": "5e7f3a43-2a7d-4877-9dc3-03c5d6129332",
   "metadata": {},
   "source": []
  },
  {
   "cell_type": "code",
   "execution_count": null,
   "id": "ffefb6d6-d99f-4ba3-89ec-a82da2875ee0",
   "metadata": {},
   "outputs": [],
   "source": []
  },
  {
   "cell_type": "markdown",
   "id": "aaf1aa1f-9457-46d7-9684-6bae2d1793dc",
   "metadata": {},
   "source": []
  },
  {
   "cell_type": "markdown",
   "id": "ed2b783d-fce7-4fef-9c39-e35c69e8cf5c",
   "metadata": {},
   "source": []
  },
  {
   "cell_type": "code",
   "execution_count": null,
   "id": "0e65866b-d4a7-499d-870f-a325801bb566",
   "metadata": {},
   "outputs": [],
   "source": []
  },
  {
   "cell_type": "markdown",
   "id": "5b53ed74-fe62-41f8-87a3-6ab66ff1a472",
   "metadata": {},
   "source": []
  },
  {
   "cell_type": "code",
   "execution_count": null,
   "id": "2633c3e5-ade5-4a79-99ab-419bd41d98ad",
   "metadata": {},
   "outputs": [],
   "source": []
  },
  {
   "cell_type": "markdown",
   "id": "9eb27cab-5ee9-45db-9e83-8ab28fbc0f35",
   "metadata": {},
   "source": [
    "\n"
   ]
  },
  {
   "cell_type": "code",
   "execution_count": null,
   "id": "08ef4003-16d7-4f4f-af96-c5e450ae5499",
   "metadata": {},
   "outputs": [],
   "source": []
  },
  {
   "cell_type": "markdown",
   "id": "13c2d0aa-ddf2-4178-918a-d637c87e1221",
   "metadata": {},
   "source": [
    "\n"
   ]
  },
  {
   "cell_type": "code",
   "execution_count": null,
   "id": "42b47939-b0a2-4e1e-8d95-530925ef37ff",
   "metadata": {},
   "outputs": [],
   "source": []
  }
 ],
 "metadata": {
  "kernelspec": {
   "display_name": "SageMath 9.7",
   "language": "sage",
   "name": "sagemath"
  },
  "language_info": {
   "codemirror_mode": {
    "name": "ipython",
    "version": 3
   },
   "file_extension": ".py",
   "mimetype": "text/x-python",
   "name": "python",
   "nbconvert_exporter": "python",
   "pygments_lexer": "ipython3",
   "version": "3.10.6"
  }
 },
 "nbformat": 4,
 "nbformat_minor": 5
}
