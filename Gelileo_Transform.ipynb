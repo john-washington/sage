{
 "cells": [
  {
   "cell_type": "markdown",
   "id": "9c35bd10",
   "metadata": {},
   "source": [
    "To run the code, From Cell->Run All\n",
    "\n",
    "As part of the teaching material in the School of Mathematical Sciences, this work is to help illustrate the Galilean Transformation with actually running code of mathematical formulas to verify and experience the definition of concepts using the related mathematical ideas.\n",
    "     \n",
    "     \n",
    "     Copyright : John S. Z. Washington\n",
    "     June 1, 2023"
   ]
  },
  {
   "cell_type": "markdown",
   "id": "d3761ad4",
   "metadata": {},
   "source": [
    "Text Source: \n",
    "https://phys.libretexts.org/Bookshelves/Classical_Mechanics/Variational_Principles_in_Classical_Mechanics_(Cline)/02%3A_Review_of_Newtonian_Mechanics/2.03%3A_Inertial_Frames_of_reference\n",
    "\n",
    "\"An inertial frame of reference is one in which Newton’s Laws of motion are valid. It is a non-accelerated frame of reference. An inertial frame must be homogeneous and isotropic. Physical experiments can be carried out in different inertial reference frames. The Galilean transformation provides a means of converting between two inertial frames of reference moving at a constant relative velocity. Consider two reference frames  𝑂 and  𝑂′ with  𝑂′ moving with constant relative velocity 𝐕 at time  𝑡\n",
    " . Figure  2.3.1 shows a Galilean transformation which can be expressed in vector form.\n",
    " \n",
    "$$𝐫′= 𝐫−𝐕𝑡 $$\n",
    "$$𝑡′= 𝑡$$                    (2.3.1)\n",
    "\n",
    " Equation 2.3.1 gives the boost, assuming Newton’s hypothesis that the time is invariant to change of inertial frames of reference. Differentiation of this transformation gives\n",
    "\n",
    "$$\\dot{𝐫'} = \\dot{𝐫}−𝐕$$ \n",
    "$$\\ddot{𝐫'}= \\ddot{𝐫}$$                      (2.3.2)\n",
    " \n",
    "Note that the forces in the primed and unprimed inertial frames are related by\n",
    "$$𝐅=\\frac{𝑑𝐩}{𝑑𝑡}=𝑚\\ddot{𝐫}=𝑚\\ddot{𝐫'}=𝐅′ $$           (2.3.3) \"\n",
    "\n",
    "To verify these sets of mathematical relations, we now define Vector Value Function version of the position vector\n",
    "from the perspective of the inertail frame 𝑂 as below:"
   ]
  },
  {
   "cell_type": "code",
   "execution_count": 32,
   "id": "88a0cb85",
   "metadata": {},
   "outputs": [
    {
     "data": {
      "text/plain": [
       "(2*t^2, t, 3)"
      ]
     },
     "execution_count": 32,
     "metadata": {},
     "output_type": "execute_result"
    }
   ],
   "source": [
    "ax = 2;\n",
    "ay = 1;\n",
    "az = 3;\n",
    "a1=3\n",
    "a2 =4\n",
    "a3=2\n",
    "var('t')\n",
    "var('t_prime')\n",
    "#case 1:r.diff(t, 2) would be zero, so the force would be zero\n",
    "#analysis:\n",
    "#    this seems that the velocity is going linear in all dimension, which would \n",
    "#mean some type of equilibrium, and the resulting force is zero\n",
    "#r=vector((ax*t, ay*t, az*t  ))\n",
    "#case 2: r.diff(t, 2) not equal to zero, so the resulting force > 0\n",
    "#analysis:\n",
    "#    this seems to be the average case when the force acting on the moving\n",
    "#    object results in one direction having a push, so the force is not zero\n",
    "r=vector((ax*t^2, ay*t, az  ))\n",
    "r\n",
    "#r(t=10)\n",
    "#check if the second derivative is  zero, which results in 0 force\n",
    "#r.diff(t, 2) == 0"
   ]
  },
  {
   "cell_type": "markdown",
   "id": "e0291687",
   "metadata": {},
   "source": [
    "the derivative(rate of change with regard to time) of the position vector r is actually the velocity of the moving object, NOT of the inertial frame, from O to O', the velocity of the inertial frame is defined as vector value function, so that it too can take derivative to be the acceration later.\n",
    "\n",
    "then puting in 10 seconds as input to the vector valued function gives us\n",
    "a vector in time, representing the inertail transformaing, Vt being a vector value.\n"
   ]
  },
  {
   "cell_type": "code",
   "execution_count": 33,
   "id": "ca6ae5c4",
   "metadata": {},
   "outputs": [
    {
     "data": {
      "text/plain": [
       "True"
      ]
     },
     "execution_count": 33,
     "metadata": {},
     "output_type": "execute_result"
    }
   ],
   "source": [
    "Inertial_Frame_Position_Vector = vector((a1*t, a2*t , a3*t ))\n",
    "#this is how we calculate V times t, with vector valued functions:\n",
    "Vt = Inertial_Frame_Position_Vector(t= 10)\n",
    "Vt\n",
    "#check if second derivative to be zero, if not zero, the equations fails, because\n",
    "#the inertail frame would not be moving with constant speed\n",
    "#in which case, we could investigate the dynamics of formulas as an exercise\n",
    "Inertial_Frame_Position_Vector.diff(t, 2) == 0"
   ]
  },
  {
   "cell_type": "markdown",
   "id": "7f40515c",
   "metadata": {},
   "source": [
    "The following must be asserted true in order for the inertial frame to have a constant velocity, otherwise the transformation would failed:\n",
    "Frame O is moving at a constant speed without acceleration.\n",
    "\n",
    "$$\\frac{dO^2}{dt^2} = 0$$"
   ]
  },
  {
   "cell_type": "code",
   "execution_count": 34,
   "id": "7f4f33cb",
   "metadata": {},
   "outputs": [
    {
     "data": {
      "text/plain": [
       "True"
      ]
     },
     "execution_count": 34,
     "metadata": {},
     "output_type": "execute_result"
    }
   ],
   "source": [
    "Inertial_Frame_Position_Vector.diff(t, 2)==0"
   ]
  },
  {
   "cell_type": "markdown",
   "id": "a77da2d7",
   "metadata": {},
   "source": [
    "The result of Vt when t is 10 is a vector, not a vector valued function. \n",
    "\n",
    "The question is can we subject Vt from r? to get r_prime?\n",
    "\n",
    "then the position vector in the transformed frame is given by the following:\n",
    "\n",
    "Relation between the two position vectors is that of vector subrstaction.\n",
    "\n",
    "r' should be vector value at time 10 seconds, but we can't take derivative off it\n",
    "when we model the vector valued function without evaluating at certain in time\n",
    "the relationship of the vector addition(substraction) should still hold, so we do instead:"
   ]
  },
  {
   "cell_type": "code",
   "execution_count": 35,
   "id": "6085b052",
   "metadata": {},
   "outputs": [
    {
     "data": {
      "text/plain": [
       "(2*t^2 - 3*t, -3*t, -2*t + 3)"
      ]
     },
     "execution_count": 35,
     "metadata": {},
     "output_type": "execute_result"
    }
   ],
   "source": [
    "r_prime = r - Inertial_Frame_Position_Vector\n",
    "r_prime "
   ]
  },
  {
   "cell_type": "markdown",
   "id": "c2c4f1f6",
   "metadata": {},
   "source": [
    "this thinking not direct copy of symbols in the diagram may get it right\n",
    "if we wish to perform derivative on r_prime, it too needs to be a vector valued function.\n",
    "\n",
    "The result is indeed a vector valued function.\n",
    "\n",
    "Now we are ready to verify the mathmatical relation:\n",
    "\n",
    "assume calculation of r_prime is correct, then the following relations should hold:\n",
    "In Gelileo Transform, Time and Space is absolute, so the following is true:\n",
    "\n",
    "t_prime = t\n",
    "\n",
    "the derivative of the positive vector at the new frame with regard to t_prime\n",
    "this should be the relative velocity"
   ]
  },
  {
   "cell_type": "code",
   "execution_count": 36,
   "id": "3610b891",
   "metadata": {},
   "outputs": [
    {
     "data": {
      "text/plain": [
       "(4*t - 3, -3, -2)"
      ]
     },
     "execution_count": 36,
     "metadata": {},
     "output_type": "execute_result"
    }
   ],
   "source": [
    "r_prime.diff(t) #result is a vector indicating relative velocity\n"
   ]
  },
  {
   "cell_type": "code",
   "execution_count": 37,
   "id": "85666066",
   "metadata": {},
   "outputs": [
    {
     "data": {
      "text/plain": [
       "(4*t, 1, 0)"
      ]
     },
     "execution_count": 37,
     "metadata": {},
     "output_type": "execute_result"
    }
   ],
   "source": [
    "r.diff(t) #resul is a vector indicating velocity of the moving object"
   ]
  },
  {
   "cell_type": "code",
   "execution_count": 38,
   "id": "41390437",
   "metadata": {},
   "outputs": [
    {
     "data": {
      "text/plain": [
       "(4*t - 3, -3, -2)"
      ]
     },
     "execution_count": 38,
     "metadata": {},
     "output_type": "execute_result"
    }
   ],
   "source": [
    "r.diff(t) - Inertial_Frame_Position_Vector.diff(t)\n"
   ]
  },
  {
   "cell_type": "markdown",
   "id": "7b20fb79",
   "metadata": {},
   "source": [
    "Now we can verify the rest of the equations \n",
    "$$\\dot{r'} = \\dot{r} - V $$ in 2.3.2:\n",
    "To get V as a velocity vector, we take the derivative of the Inertial Frame Position Vector function with regard to time to get V as below:"
   ]
  },
  {
   "cell_type": "code",
   "execution_count": 39,
   "id": "61bbfe31",
   "metadata": {},
   "outputs": [
    {
     "data": {
      "text/plain": [
       "True"
      ]
     },
     "execution_count": 39,
     "metadata": {},
     "output_type": "execute_result"
    }
   ],
   "source": [
    "V = Inertial_Frame_Position_Vector.diff(t,1)\n",
    "V\n",
    "r_prime.diff(t, 1) == r.diff(t, 1) - V \n"
   ]
  },
  {
   "cell_type": "markdown",
   "id": "fa3bcd3b",
   "metadata": {},
   "source": [
    "We also verify $$\\ddot{r'} = \\ddot{r} $$ as below:"
   ]
  },
  {
   "cell_type": "code",
   "execution_count": 40,
   "id": "dcd9d2d3",
   "metadata": {},
   "outputs": [
    {
     "data": {
      "text/plain": [
       "True"
      ]
     },
     "execution_count": 40,
     "metadata": {},
     "output_type": "execute_result"
    }
   ],
   "source": [
    "r_prime.diff(t, 2) == r.diff(t, 2)\n"
   ]
  },
  {
   "cell_type": "markdown",
   "id": "2153b133",
   "metadata": {},
   "source": [
    "Lastly,\n",
    "define linear momentum $$P = m \\dot{r} $$\n",
    "\n",
    "define a mass value\n",
    "\n",
    "$$F = \\frac{dp}{dt} = m \\ddot{r} = m \\ddot{r'} = F' $$\n"
   ]
  },
  {
   "cell_type": "code",
   "execution_count": 41,
   "id": "c24a59bd",
   "metadata": {},
   "outputs": [
    {
     "data": {
      "text/plain": [
       "(40*t, 10, 0)"
      ]
     },
     "execution_count": 41,
     "metadata": {},
     "output_type": "execute_result"
    }
   ],
   "source": [
    "m = 10 #this is just an arbitrary value of the mass\n",
    "#what is the unit of momentum?\n",
    "#it seems to be mass * distance / unit time\n",
    "#how to make a vector value function out of this?\n",
    "#fr = vector(r.diff(t)*t)\n",
    "#P = m * fr\n",
    "#r=vector((ax*t, ay*t, az*t  ))\n",
    "P = m * r.diff(t, 1)\n",
    "P"
   ]
  },
  {
   "cell_type": "markdown",
   "id": "ec3ce5fd",
   "metadata": {},
   "source": [
    "define force  ${F = \\frac{dP}{dt}}$ as below:"
   ]
  },
  {
   "cell_type": "code",
   "execution_count": 42,
   "id": "95882afa",
   "metadata": {},
   "outputs": [
    {
     "data": {
      "text/plain": [
       "(40, 0, 0)"
      ]
     },
     "execution_count": 42,
     "metadata": {},
     "output_type": "execute_result"
    }
   ],
   "source": [
    "F0 = P.diff(t)\n",
    "F0 #this the last problem, why F is always 0??????? \n",
    "#it's because r.diff(t, 2) == 0, then F would be zero\n",
    "#r.diff(t, 2)\n",
    "#we just realize that force is a vector, not a scalar\n",
    "#why 0s on y, z axes, is it just coincidence?"
   ]
  },
  {
   "cell_type": "markdown",
   "id": "5a389e22",
   "metadata": {},
   "source": [
    "Post Gelileo Transform, Force F prime is give by: $$F = m \\ddot{r} $$\n",
    "$$F' = m \\ddot{r'}$$\n",
    "\n",
    "Verify F defined as Differentiate Linear Momentum with regard to time is equal to the formula with mass:\n",
    "\n",
    "$$F0 = F $$\n",
    "\n",
    "\n"
   ]
  },
  {
   "cell_type": "code",
   "execution_count": 43,
   "id": "8302e278",
   "metadata": {},
   "outputs": [
    {
     "data": {
      "text/plain": [
       "True"
      ]
     },
     "execution_count": 43,
     "metadata": {},
     "output_type": "execute_result"
    }
   ],
   "source": [
    "#r\n",
    "#r.diff(t, 1)\n",
    "#another problem, why the acceleration derivative is always 0?\n",
    "#the answer is the r vector was defined as linear multiple of time t\n",
    "#in all its dimensions, which is a very special case, that results\n",
    "#in no acceleration, we can further investigate the nature of\n",
    "#vector value function in another exercise to determine the kind\n",
    "#of vector value function that is appropriate for realistic scenarios\n",
    "\n",
    "F = m* r.diff(t, 2) #result:(0, 0, 0)\n",
    "F\n",
    "F0 == F"
   ]
  },
  {
   "cell_type": "markdown",
   "id": "f3846f24",
   "metadata": {},
   "source": [
    "verify this relation: $${F = F'}$$"
   ]
  },
  {
   "cell_type": "code",
   "execution_count": 44,
   "id": "0940bae2",
   "metadata": {},
   "outputs": [
    {
     "data": {
      "text/plain": [
       "True"
      ]
     },
     "execution_count": 44,
     "metadata": {},
     "output_type": "execute_result"
    }
   ],
   "source": [
    "F_prime = m*r_prime.diff(t, 2) #result:(0, 0, 0)\n",
    "F == F_prime\n"
   ]
  },
  {
   "cell_type": "markdown",
   "id": "c2e1394e",
   "metadata": {},
   "source": [
    "Plotting it: We construct the vector graphs to resemble Figure 2.3.1\n",
    "\n",
    "Suppose we want to look 2 seconds into the time\n",
    "so let tick = 2"
   ]
  },
  {
   "cell_type": "markdown",
   "id": "972e84ad",
   "metadata": {},
   "source": [
    "now we construct the Vt vector from the perspective of the original frame\n",
    "by passing 5 seconds as parameter to the vector valued function to get a snap shot of the vectors\n",
    "in time, then define vectors by assigning 2 seconds to each of the vector value functions to get\n",
    "their snapshot in time to be plotted:"
   ]
  },
  {
   "cell_type": "code",
   "execution_count": 45,
   "id": "cb0e0209",
   "metadata": {},
   "outputs": [
    {
     "data": {
      "text/plain": [
       "(-1, -3, 1)"
      ]
     },
     "execution_count": 45,
     "metadata": {},
     "output_type": "execute_result"
    }
   ],
   "source": [
    "tick =1 #time unit\n",
    "#V\n",
    "Vt = Inertial_Frame_Position_Vector(t=tick)# this is equalvalent to V multiply with t in the formula\n",
    "Vt\n",
    "#firt time we made a mistake using V, but V = Inertial_Frame_Position_Vector.diff(t,1) is the velocity vector value \n",
    "#it is not a function and so can not be evaluted at t,\n",
    "#however we can try calculating Vt in two ways:\n",
    "Vt2 = V*tick\n",
    "Vt == Vt2 #answer is true, so we could define Vt in two ways as shown\n",
    "\n",
    "rt = r(t=tick)\n",
    "rt\n",
    "r_primet = r_prime(t=tick)\n",
    "r_primet"
   ]
  },
  {
   "cell_type": "code",
   "execution_count": 46,
   "id": "13d4271a",
   "metadata": {
    "scrolled": true,
    "tags": []
   },
   "outputs": [],
   "source": [
    "#define base vectors for plotting the Transformation at time t\n",
    "e1_x = 1\n",
    "e1_y = 0\n",
    "e1_z = 0\n",
    "e1=vector(e1_x *[1,0,0] + e1_y *[0,1,0] + e1_z*[0,0,1])\n",
    "e2_x = 0\n",
    "e2_y = 1\n",
    "e2_z = 0\n",
    "e2=vector(e2_x * [1,0,0] + e2_y *[0,1,0] + e2_z *[0,0,1])\n",
    "e3_x = 0\n",
    "e3_y = 0\n",
    "e3_z = 1\n",
    "e3=vector(e3_x *[1,0,0] + e3_y *[0,1,0] + e3_z*[0,0,1])\n",
    "\n",
    "e1Plot=plot(e1, legend_lable='Base Vector e1', color='blue', thickness=2)\n",
    "e2Plot=plot(e2, legend_lable='Base Vector e2', color='blue', thickness=2)\n",
    "e3Plot=plot(e3, legend_lable='Base Vector e3', color='blue', thickness=2)\n",
    "\n",
    "#the transformed base vectors\n",
    "e1_prime_x =  e1_x \n",
    "e1_prime_y = e1_y \n",
    "e1_prime_z =  e1_z \n",
    "e1_prime= vector(e1_prime_x *[1,0,0] + e1_prime_y *[0,1,0] + e1_prime_z*[0,0,1])\n",
    "#vector([e1_prime_x, e1_prime_y, e1_prime_z])\n",
    "e2_prime_x = e2_x \n",
    "e2_prime_y = e2_y \n",
    "e2_prime_z =  e2_z \n",
    "e2_prime= vector(e2_prime_x * [1,0,0] + e2_prime_y *[0,1,0] + e2_prime_z *[0,0,1])\n",
    "#vector([e2_prime_x, e2_prime_y, e2_prime_z])\n",
    "e3_prime_x = e3_x \n",
    "e3_prime_y = e3_y \n",
    "e3_prime_z = e3_z\n",
    "e3_prime= vector(e3_prime_x *[1,0,0] + e3_prime_y *[0,1,0] + e3_prime_z*[0,0,1])\n",
    "#vector([e3_prime_x, e3_prime_y, e3_prime_z])\n",
    "Vt = Inertial_Frame_Position_Vector(t= tick)\n",
    "\n",
    "e1PrimePlot=plot(e1_prime, start= Vt, color='blue', thickness=2)\n",
    "e2PrimePlot=plot(e2_prime, start= Vt, color='blue', thickness=2)\n",
    "e3PrimePlot=plot(e3_prime, start= Vt, color='blue', thickness=2)\n",
    "\n",
    "\n",
    "VtPlot=plot(Vt,  legend_label='Vector Vt', color='green', thickness=5)\n",
    "rPrimePlot=plot(r_primet,start=Vt, legend_label='Vector r prime', color=\"red\", thickness=5)\n",
    "rPlot=plot(rt, legend_label='Vector r ', color='yellow', thickness=5)\n",
    "AllPlot= e1Plot + e2Plot + e3Plot+ rPlot + VtPlot+ rPrimePlot + e1PrimePlot +e2PrimePlot + e3PrimePlot \n",
    "#AllPlot.show()\n",
    "\n"
   ]
  },
  {
   "cell_type": "markdown",
   "id": "bcf0580f-7d7f-4aed-a3f3-ac21a6732034",
   "metadata": {},
   "source": [
    "**My Own Development of the Formulas with integral thinking**\n",
    "\n",
    "The following is my own extension to the physics text referenced above, but thinking with integrals\n",
    "\n",
    "What about integral? According to:\n",
    "https://www.allthescience.org/what-is-integral-calculus.htm\n",
    "\n",
    "\"Calculus is used to describe how a function (f) changes in relation to time (t). If the velocity (v) of a particle is defined by the function v = f(t), then how far it has traveled can be worked out using integration, because this is equal the area under the curve. The distance traveled between two distinct points can be found using a definite integral.\"\n",
    "\n",
    "So in our case, we could try the following, the thinking is instead of using position vectors to formulate things, we will try using v = f(t) to model things, and using integral instead of differentiation to model the Gelileo Transform scenario. \n",
    "\n",
    "Let's try it:\n",
    "\n",
    "Let $$[a,b]$$ denotes the time interval between the inertial frame transformation, we define the same distance variable for velocities as below:\n",
    "\n",
    "1) the velocity of the moving inertal frame\n",
    "$$V_{O} = f_0(t)$$\n",
    "\n",
    "the distance of the inertial frame travels is given by:\n",
    "\n",
    "$$Vt= \\int _a^b f_0 dt $$\n",
    "\n",
    "2) the veolocity of the moving object inside the frame at time 0\n",
    "$$V = f(t)$$\n",
    "\n",
    "the distance the moving object tranvels is given by:\n",
    "\n",
    "$$r = \\int _a^b f dt $$\n",
    "\n",
    "3) the relative velocity of the moving object inside the frame at time t, which can be written as: \n",
    "\n",
    "$$V_{prime}  = f_{prime}(t)$$\n",
    "\n",
    "and the relative distance it travels inside the inertal frame is given by:\n",
    "\n",
    "$$r_{prime} =\\int _a^b f_{prime} dt $$\n",
    "\n",
    "So we want prove or verify that the following sets of equations still holds:\n",
    "\n",
    "$$r_{prime} = r - Vt $$\n",
    "\n",
    "So here we go:"
   ]
  },
  {
   "cell_type": "code",
   "execution_count": 53,
   "id": "587925fe",
   "metadata": {},
   "outputs": [
    {
     "data": {
      "text/plain": [
       "-1/2*a^2*ax + 1/2*ax*b^2 - a*ay - a*az + (ay + az)*b"
      ]
     },
     "execution_count": 53,
     "metadata": {},
     "output_type": "execute_result"
    }
   ],
   "source": [
    "var('t', 'a', 'b', 'ax', 'ay', 'az', 'bx', 'by', 'bz')\n",
    "#define f(t) to be a linear function of time as the inertial frame is moving at a constant speed.\n",
    "f_0(t) = ax* t +ay + az\n",
    "#V_0 = f(t)\n",
    "Vt = integral(f_0, (t, a, b))\n",
    "Vt"
   ]
  },
  {
   "cell_type": "code",
   "execution_count": 55,
   "id": "430684e9",
   "metadata": {},
   "outputs": [
    {
     "data": {
      "text/plain": [
       "-1/3*a^3*bx + 1/3*b^3*bx - 1/2*a^2*by + 1/2*b^2*by - a*bz + b*bz"
      ]
     },
     "execution_count": 55,
     "metadata": {},
     "output_type": "execute_result"
    }
   ],
   "source": [
    "#define f(t) as polynomial function of time as the object accelerates in the frame transform\n",
    "f(t) = bx*t^2 + by* t + bz\n",
    "r = integral(f, (t, a, b))\n",
    "r"
   ]
  },
  {
   "cell_type": "code",
   "execution_count": 56,
   "id": "0a1b8d17-a3e7-47f5-abdf-36e76df5211c",
   "metadata": {},
   "outputs": [
    {
     "data": {
      "text/plain": [
       "-1/3*a^3*bx + 1/3*b^3*bx + 1/2*a^2*ax - 1/2*ax*b^2 - 1/2*a^2*by + 1/2*b^2*by + a*ay + a*az - (ay + az)*b - a*bz + b*bz"
      ]
     },
     "execution_count": 56,
     "metadata": {},
     "output_type": "execute_result"
    }
   ],
   "source": [
    "#define f_prime(t)\n",
    "#f_prime(t) =\n",
    "r_prime = r - Vt\n",
    "r_prime"
   ]
  },
  {
   "cell_type": "code",
   "execution_count": null,
   "id": "147a8cc0-c25c-4735-ad64-20d8dfe32b6d",
   "metadata": {},
   "outputs": [],
   "source": []
  }
 ],
 "metadata": {
  "kernelspec": {
   "display_name": "SageMath 9.7",
   "language": "sage",
   "name": "sagemath"
  },
  "language_info": {
   "codemirror_mode": {
    "name": "ipython",
    "version": 3
   },
   "file_extension": ".py",
   "mimetype": "text/x-python",
   "name": "python",
   "nbconvert_exporter": "python",
   "pygments_lexer": "ipython3",
   "version": "3.10.6"
  }
 },
 "nbformat": 4,
 "nbformat_minor": 5
}
