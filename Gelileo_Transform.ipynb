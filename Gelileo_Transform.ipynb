{
 "cells": [
  {
   "cell_type": "markdown",
   "id": "9c35bd10",
   "metadata": {},
   "source": [
    "To run the code, From Cell->Run All\n",
    "\n",
    "As part of the teaching material in the School of Mathematical Sciences, this work is to help illustrate the Galilean Transformation with actually running code of mathematical formulas to verify and experience the definition of concepts using the related mathematical ideas.\n",
    "     \n",
    "     \n",
    "     Copyright : John S. Z. Washington\n",
    "     June 1, 2023"
   ]
  },
  {
   "cell_type": "markdown",
   "id": "d3761ad4",
   "metadata": {},
   "source": [
    "Text Source: \n",
    "https://phys.libretexts.org/Bookshelves/Classical_Mechanics/Variational_Principles_in_Classical_Mechanics_(Cline)/02%3A_Review_of_Newtonian_Mechanics/2.03%3A_Inertial_Frames_of_reference\n",
    "\n",
    "\"An inertial frame of reference is one in which Newton’s Laws of motion are valid. It is a non-accelerated frame of reference. An inertial frame must be homogeneous and isotropic. Physical experiments can be carried out in different inertial reference frames. The Galilean transformation provides a means of converting between two inertial frames of reference moving at a constant relative velocity. Consider two reference frames  𝑂 and  𝑂′ with  𝑂′ moving with constant relative velocity 𝐕 at time  𝑡\n",
    " . Figure  2.3.1 shows a Galilean transformation which can be expressed in vector form.\n",
    " \n",
    "$$𝐫′= 𝐫−𝐕𝑡 $$\n",
    "$$𝑡′= 𝑡$$                    (2.3.1)\n",
    "\n",
    " Equation 2.3.1 gives the boost, assuming Newton’s hypothesis that the time is invariant to change of inertial frames of reference. Differentiation of this transformation gives\n",
    "\n",
    "$$\\dot{𝐫'} = \\dot{𝐫}−𝐕$$ \n",
    "$$\\ddot{𝐫'}= \\ddot{𝐫}$$                      (2.3.2)\n",
    " \n",
    "Note that the forces in the primed and unprimed inertial frames are related by\n",
    "$$𝐅=\\frac{𝑑𝐩}{𝑑𝑡}=𝑚\\ddot{𝐫}=𝑚\\ddot{𝐫'}=𝐅′ $$           (2.3.3) \"\n",
    "\n",
    "To verify these sets of mathematical relations, we now define Vector Value Function version of the position vector\n",
    "from the perspective of the inertail frame 𝑂 as below:"
   ]
  },
  {
   "cell_type": "code",
   "execution_count": 138,
   "id": "88a0cb85",
   "metadata": {},
   "outputs": [
    {
     "data": {
      "text/plain": [
       "(2*t^2, t, 3)"
      ]
     },
     "execution_count": 138,
     "metadata": {},
     "output_type": "execute_result"
    }
   ],
   "source": [
    "ax = 2;\n",
    "ay = 1;\n",
    "az = 3;\n",
    "a1=3\n",
    "a2 =4\n",
    "a3=2\n",
    "var('t')\n",
    "var('t_prime')\n",
    "#case 1:r.diff(t, 2) would be zero, so the force would be zero\n",
    "#analysis:\n",
    "#    this seems that the velocity is going linear in all dimension, which would \n",
    "#mean some type of equilibrium, and the resulting force is zero\n",
    "#r=vector((ax*t, ay*t, az*t  ))\n",
    "#case 2: r.diff(t, 2) not equal to zero, so the resulting force > 0\n",
    "#analysis:\n",
    "#    this seems to be the average case when the force acting on the moving\n",
    "#    object results in one direction having a push, so the force is not zero\n",
    "r=vector((ax*t^2, ay*t, az  ))\n",
    "r\n",
    "#r(t=10)\n",
    "#check if the second derivative is  zero, which results in 0 force\n",
    "#r.diff(t, 2) == 0"
   ]
  },
  {
   "cell_type": "markdown",
   "id": "e0291687",
   "metadata": {},
   "source": [
    "the derivative(rate of change with regard to time) of the position vector r is actually the velocity of the moving object, NOT of the inertial frame, from O to O', the velocity of the inertial frame is defined as vector value function, so that it too can take derivative to be the acceration later.\n",
    "\n",
    "then puting in 10 seconds as input to the vector valued function gives us\n",
    "a vector in time, representing the inertail transformaing, Vt being a vector value.\n"
   ]
  },
  {
   "cell_type": "code",
   "execution_count": 139,
   "id": "ca6ae5c4",
   "metadata": {},
   "outputs": [
    {
     "data": {
      "text/plain": [
       "True"
      ]
     },
     "execution_count": 139,
     "metadata": {},
     "output_type": "execute_result"
    }
   ],
   "source": [
    "Inertial_Frame_Position_Vector = vector((a1*t, a2*t , a3*t ))\n",
    "#this is how we calculate V times t, with vector valued functions:\n",
    "Vt = Inertial_Frame_Position_Vector(t= 10)\n",
    "Vt\n",
    "#check if second derivative to be zero, if not zero, the equations fails, because\n",
    "#the inertail frame would not be moving with constant speed\n",
    "#in which case, we could investigate the dynamics of formulas as an exercise\n",
    "Inertial_Frame_Position_Vector.diff(t, 2) == 0"
   ]
  },
  {
   "cell_type": "markdown",
   "id": "7f40515c",
   "metadata": {},
   "source": [
    "The following must be asserted true in order for the inertial frame to have a constant velocity, otherwise the transformation would failed:\n",
    "Frame O is moving at a constant speed without acceleration.\n",
    "\n",
    "$$\\frac{dO^2}{dt^2} = 0$$"
   ]
  },
  {
   "cell_type": "code",
   "execution_count": 140,
   "id": "7f4f33cb",
   "metadata": {},
   "outputs": [
    {
     "data": {
      "text/plain": [
       "True"
      ]
     },
     "execution_count": 140,
     "metadata": {},
     "output_type": "execute_result"
    }
   ],
   "source": [
    "Inertial_Frame_Position_Vector.diff(t, 2)==0"
   ]
  },
  {
   "cell_type": "markdown",
   "id": "a77da2d7",
   "metadata": {},
   "source": [
    "The result of Vt when t is 10 is a vector, not a vector valued function. \n",
    "\n",
    "The question is can we subject Vt from r? to get r_prime?\n",
    "\n",
    "then the position vector in the transformed frame is given by the following:\n",
    "\n",
    "Relation between the two position vectors is that of vector subrstaction.\n",
    "\n",
    "r' should be vector value at time 10 seconds, but we can't take derivative off it\n",
    "when we model the vector valued function without evaluating at certain in time\n",
    "the relationship of the vector addition(substraction) should still hold, so we do instead:"
   ]
  },
  {
   "cell_type": "code",
   "execution_count": 141,
   "id": "6085b052",
   "metadata": {},
   "outputs": [
    {
     "data": {
      "text/plain": [
       "(2*t^2 - 3*t, -3*t, -2*t + 3)"
      ]
     },
     "execution_count": 141,
     "metadata": {},
     "output_type": "execute_result"
    }
   ],
   "source": [
    "r_prime = r - Inertial_Frame_Position_Vector\n",
    "r_prime "
   ]
  },
  {
   "cell_type": "markdown",
   "id": "c2c4f1f6",
   "metadata": {},
   "source": [
    "this thinking not direct copy of symbols in the diagram may get it right\n",
    "if we wish to perform derivative on r_prime, it too needs to be a vector valued function.\n",
    "\n",
    "The result is indeed a vector valued function.\n",
    "\n",
    "Now we are ready to verify the mathmatical relation:\n",
    "\n",
    "assume calculation of r_prime is correct, then the following relations should hold:\n",
    "In Gelileo Transform, Time and Space is absolute, so the following is true:\n",
    "\n",
    "t_prime = t\n",
    "\n",
    "the derivative of the positive vector at the new frame with regard to t_prime\n",
    "this should be the relative velocity"
   ]
  },
  {
   "cell_type": "code",
   "execution_count": 142,
   "id": "3610b891",
   "metadata": {},
   "outputs": [
    {
     "data": {
      "text/plain": [
       "(4*t - 3, -3, -2)"
      ]
     },
     "execution_count": 142,
     "metadata": {},
     "output_type": "execute_result"
    }
   ],
   "source": [
    "r_prime.diff(t) #result is a vector indicating relative velocity\n"
   ]
  },
  {
   "cell_type": "code",
   "execution_count": 143,
   "id": "85666066",
   "metadata": {},
   "outputs": [
    {
     "data": {
      "text/plain": [
       "(4*t, 1, 0)"
      ]
     },
     "execution_count": 143,
     "metadata": {},
     "output_type": "execute_result"
    }
   ],
   "source": [
    "r.diff(t) #resul is a vector indicating velocity of the moving object"
   ]
  },
  {
   "cell_type": "code",
   "execution_count": 144,
   "id": "41390437",
   "metadata": {},
   "outputs": [
    {
     "data": {
      "text/plain": [
       "(4*t - 3, -3, -2)"
      ]
     },
     "execution_count": 144,
     "metadata": {},
     "output_type": "execute_result"
    }
   ],
   "source": [
    "r.diff(t) - Inertial_Frame_Position_Vector.diff(t)\n"
   ]
  },
  {
   "cell_type": "markdown",
   "id": "7b20fb79",
   "metadata": {},
   "source": [
    "Now we can verify the rest of the equations \n",
    "$$\\dot{r'} = \\dot{r} - V $$ in 2.3.2:\n",
    "To get V as a velocity vector, we take the derivative of the Inertial Frame Position Vector function with regard to time to get V as below:"
   ]
  },
  {
   "cell_type": "code",
   "execution_count": 145,
   "id": "61bbfe31",
   "metadata": {},
   "outputs": [
    {
     "data": {
      "text/plain": [
       "True"
      ]
     },
     "execution_count": 145,
     "metadata": {},
     "output_type": "execute_result"
    }
   ],
   "source": [
    "V = Inertial_Frame_Position_Vector.diff(t,1)\n",
    "V\n",
    "r_prime.diff(t, 1) == r.diff(t, 1) - V \n"
   ]
  },
  {
   "cell_type": "markdown",
   "id": "fa3bcd3b",
   "metadata": {},
   "source": [
    "We also verify $$\\ddot{r'} = \\ddot{r} $$ as below:"
   ]
  },
  {
   "cell_type": "code",
   "execution_count": 146,
   "id": "dcd9d2d3",
   "metadata": {},
   "outputs": [
    {
     "data": {
      "text/plain": [
       "True"
      ]
     },
     "execution_count": 146,
     "metadata": {},
     "output_type": "execute_result"
    }
   ],
   "source": [
    "r_prime.diff(t, 2) == r.diff(t, 2)\n"
   ]
  },
  {
   "cell_type": "markdown",
   "id": "2153b133",
   "metadata": {},
   "source": [
    "Lastly,\n",
    "define linear momentum $$P = m \\dot{r} $$\n",
    "\n",
    "define a mass value\n",
    "\n",
    "$$F = \\frac{dp}{dt} = m \\ddot{r} = m \\ddot{r'} = F' $$\n"
   ]
  },
  {
   "cell_type": "code",
   "execution_count": 153,
   "id": "c24a59bd",
   "metadata": {},
   "outputs": [
    {
     "data": {
      "text/plain": [
       "(40*t, 10, 0)"
      ]
     },
     "execution_count": 153,
     "metadata": {},
     "output_type": "execute_result"
    }
   ],
   "source": [
    "m = 10 #this is just an arbitrary value of the mass\n",
    "#what is the unit of momentum?\n",
    "#it seems to be mass * distance / unit time\n",
    "#how to make a vector value function out of this?\n",
    "#fr = vector(r.diff(t)*t)\n",
    "#P = m * fr\n",
    "#r=vector((ax*t, ay*t, az*t  ))\n",
    "P = m * r.diff(t, 1)\n",
    "P"
   ]
  },
  {
   "cell_type": "markdown",
   "id": "ec3ce5fd",
   "metadata": {},
   "source": [
    "define force  ${F = \\frac{dP}{dt}}$ as below:"
   ]
  },
  {
   "cell_type": "code",
   "execution_count": 154,
   "id": "95882afa",
   "metadata": {},
   "outputs": [
    {
     "data": {
      "text/plain": [
       "(40, 0, 0)"
      ]
     },
     "execution_count": 154,
     "metadata": {},
     "output_type": "execute_result"
    }
   ],
   "source": [
    "F0 = P.diff(t)\n",
    "F0 #this the last problem, why F is always 0??????? \n",
    "#it's because r.diff(t, 2) == 0, then F would be zero\n",
    "#r.diff(t, 2)\n",
    "#we just realize that force is a vector, not a scalar\n",
    "#why 0s on y, z axes, is it just coincidence?"
   ]
  },
  {
   "cell_type": "markdown",
   "id": "5a389e22",
   "metadata": {},
   "source": [
    "Post Gelileo Transform, Force F prime is give by: $$F = m \\ddot{r} $$\n",
    "$$F' = m \\ddot{r'}$$\n",
    "\n",
    "Verify F defined as Differentiate Linear Momentum with regard to time is equal to the formula with mass:\n",
    "\n",
    "$$F0 = F $$\n",
    "\n",
    "\n"
   ]
  },
  {
   "cell_type": "code",
   "execution_count": 149,
   "id": "8302e278",
   "metadata": {},
   "outputs": [
    {
     "data": {
      "text/plain": [
       "True"
      ]
     },
     "execution_count": 149,
     "metadata": {},
     "output_type": "execute_result"
    }
   ],
   "source": [
    "#r\n",
    "#r.diff(t, 1)\n",
    "#another problem, why the acceleration derivative is always 0?\n",
    "#the answer is the r vector was defined as linear multiple of time t\n",
    "#in all its dimensions, which is a very special case, that results\n",
    "#in no acceleration, we can further investigate the nature of\n",
    "#vector value function in another exercise to determine the kind\n",
    "#of vector value function that is appropriate for realistic scenarios\n",
    "\n",
    "F = m* r.diff(t, 2) #result:(0, 0, 0)\n",
    "F\n",
    "F0 == F"
   ]
  },
  {
   "cell_type": "markdown",
   "id": "f3846f24",
   "metadata": {},
   "source": [
    "verify this relation: $${F = F'}$$"
   ]
  },
  {
   "cell_type": "code",
   "execution_count": 150,
   "id": "0940bae2",
   "metadata": {},
   "outputs": [
    {
     "data": {
      "text/plain": [
       "True"
      ]
     },
     "execution_count": 150,
     "metadata": {},
     "output_type": "execute_result"
    }
   ],
   "source": [
    "F_prime = m*r_prime.diff(t, 2) #result:(0, 0, 0)\n",
    "F == F_prime\n"
   ]
  },
  {
   "cell_type": "markdown",
   "id": "c2e1394e",
   "metadata": {},
   "source": [
    "Plotting it: We construct the vector graphs to resemble Figure 2.3.1\n",
    "\n",
    "Suppose we want to look 2 seconds into the time\n",
    "so let tick = 2"
   ]
  },
  {
   "cell_type": "markdown",
   "id": "972e84ad",
   "metadata": {},
   "source": [
    "now we construct the Vt vector from the perspective of the original frame\n",
    "by passing 5 seconds as parameter to the vector valued function to get a snap shot of the vectors\n",
    "in time, then define vectors by assigning 2 seconds to each of the vector value functions to get\n",
    "their snapshot in time to be plotted:"
   ]
  },
  {
   "cell_type": "code",
   "execution_count": 151,
   "id": "cb0e0209",
   "metadata": {},
   "outputs": [
    {
     "data": {
      "text/plain": [
       "(-1, -3, 1)"
      ]
     },
     "execution_count": 151,
     "metadata": {},
     "output_type": "execute_result"
    }
   ],
   "source": [
    "tick =1 #time unit\n",
    "#V\n",
    "Vt = Inertial_Frame_Position_Vector(t=tick)# this is equalvalent to V multiply with t in the formula\n",
    "Vt\n",
    "#firt time we made a mistake using V, but V = Inertial_Frame_Position_Vector.diff(t,1) is the velocity vector value \n",
    "#it is not a function and so can not be evaluted at t,\n",
    "#however we can try calculating Vt in two ways:\n",
    "Vt2 = V*tick\n",
    "Vt == Vt2 #answer is true, so we could define Vt in two ways as shown\n",
    "\n",
    "rt = r(t=tick)\n",
    "rt\n",
    "r_primet = r_prime(t=tick)\n",
    "r_primet"
   ]
  },
  {
   "cell_type": "code",
   "execution_count": 152,
   "id": "13d4271a",
   "metadata": {
    "scrolled": true
   },
   "outputs": [
    {
     "data": {
      "text/html": [
       "\n",
       "<iframe srcdoc=\"<!DOCTYPE html>\n",
       "<html>\n",
       "<head>\n",
       "<title></title>\n",
       "<meta charset=&quot;utf-8&quot;>\n",
       "<meta name=viewport content=&quot;width=device-width, user-scalable=no, minimum-scale=1.0, maximum-scale=1.0&quot;>\n",
       "<style>\n",
       "\n",
       "    body { margin: 0px; overflow: hidden; }\n",
       "\n",
       "    #menu-container { position: absolute; bottom: 30px; right: 40px; cursor: default; }\n",
       "\n",
       "    #menu-message { position: absolute; bottom: 0px; right: 0px; white-space: nowrap;\n",
       "                    display: none; background-color: #F5F5F5; padding: 10px; }\n",
       "\n",
       "    #menu-content { position: absolute; bottom: 0px; right: 0px;\n",
       "                    display: none; background-color: #F5F5F5; border-bottom: 1px solid black;\n",
       "                    border-right: 1px solid black; border-left: 1px solid black; }\n",
       "\n",
       "    #menu-content div { border-top: 1px solid black; padding: 10px; white-space: nowrap; }\n",
       "\n",
       "    #menu-content div:hover { background-color: #FEFEFE; }\n",
       "\n",
       "    .dark-theme #menu-container { color: white; }\n",
       "\n",
       "    .dark-theme #menu-message { background-color: #181818; }\n",
       "\n",
       "    .dark-theme #menu-content { background-color: #181818; border-color: white; }\n",
       "\n",
       "    .dark-theme #menu-content div { border-color: white; }\n",
       "\n",
       "    .dark-theme #menu-content div:hover { background-color: #303030; }\n",
       "\n",
       "</style>\n",
       "\n",
       "</head>\n",
       "\n",
       "<body>\n",
       "\n",
       "<script src=&quot;/nbextensions/threejs-sage/r122/three.min.js&quot;></script>\n",
       "<script>\n",
       "  if ( !window.THREE ) document.write(' \\\n",
       "<script src=&quot;https://cdn.jsdelivr.net/gh/sagemath/threejs-sage@r122/build/three.min.js&quot;><\\/script> \\\n",
       "            ');\n",
       "</script>\n",
       "        \n",
       "<script>\n",
       "\n",
       "    var options = {&quot;animate&quot;: false, &quot;animationControls&quot;: true, &quot;aspectRatio&quot;: [1.0, 1.0, 1.0], &quot;autoScaling&quot;: [false, false, false], &quot;autoPlay&quot;: true, &quot;axes&quot;: false, &quot;axesLabels&quot;: [&quot;x&quot;, &quot;y&quot;, &quot;z&quot;], &quot;axesLabelsStyle&quot;: null, &quot;decimals&quot;: 2, &quot;delay&quot;: 20, &quot;frame&quot;: true, &quot;loop&quot;: true, &quot;projection&quot;: &quot;perspective&quot;, &quot;theme&quot;: &quot;light&quot;, &quot;viewpoint&quot;: false};\n",
       "    var animate = options.animate;\n",
       "\n",
       "    if ( options.theme === 'dark' )\n",
       "        document.body.className = 'dark-theme';\n",
       "\n",
       "    var scene = new THREE.Scene();\n",
       "\n",
       "    var renderer = new THREE.WebGLRenderer( { antialias: true, preserveDrawingBuffer: true } );\n",
       "    renderer.setPixelRatio( window.devicePixelRatio );\n",
       "    renderer.setSize( window.innerWidth, window.innerHeight );\n",
       "    renderer.setClearColor( options.theme === 'dark' ? 0 : 0xffffff, 1 );\n",
       "    document.body.appendChild( renderer.domElement );\n",
       "\n",
       "    var b = [{&quot;x&quot;:0.0, &quot;y&quot;:0.0, &quot;z&quot;:0.0}, {&quot;x&quot;:4.0, &quot;y&quot;:5.0, &quot;z&quot;:3.0}]; // bounds\n",
       "\n",
       "    if ( b[0].x === b[1].x ) {\n",
       "        b[0].x -= 1;\n",
       "        b[1].x += 1;\n",
       "    }\n",
       "    if ( b[0].y === b[1].y ) {\n",
       "        b[0].y -= 1;\n",
       "        b[1].y += 1;\n",
       "    }\n",
       "    if ( b[0].z === b[1].z ) {\n",
       "        b[0].z -= 1;\n",
       "        b[1].z += 1;\n",
       "    }\n",
       "\n",
       "    var rxRange = Math.sqrt( Math.pow( b[1].z - b[0].z, 2 )\n",
       "                            + Math.pow( b[1].y - b[0].y, 2 ) );\n",
       "    var ryRange = Math.sqrt( Math.pow( b[1].x - b[0].x, 2 )\n",
       "                            + Math.pow( b[1].z - b[0].z, 2 ) );\n",
       "    var rzRange = Math.sqrt( Math.pow( b[1].x - b[0].x, 2 )\n",
       "                            + Math.pow( b[1].y - b[0].y, 2 ) );\n",
       "    var xRange = b[1].x - b[0].x;\n",
       "    var yRange = b[1].y - b[0].y;\n",
       "    var zRange = b[1].z - b[0].z;\n",
       "\n",
       "    var ar = options.aspectRatio;\n",
       "    var a = [ ar[0], ar[1], ar[2] ]; // aspect multipliers\n",
       "\n",
       "    var autoScaling = options.autoScaling;\n",
       "    var autoAspect = 2.5;\n",
       "    if ( xRange > autoAspect * rxRange && autoScaling[0] ) a[0] = autoAspect * rxRange / xRange;\n",
       "    if ( yRange > autoAspect * ryRange && autoScaling[1] ) a[1] = autoAspect * ryRange / yRange;\n",
       "    if ( zRange > autoAspect * rzRange && autoScaling[2] ) a[2] = autoAspect * rzRange / zRange;\n",
       "\n",
       "    // Distance from (xMid,yMid,zMid) to any corner of the bounding box, after applying aspectRatio\n",
       "    var midToCorner = Math.sqrt( a[0]*a[0]*xRange*xRange + a[1]*a[1]*yRange*yRange + a[2]*a[2]*zRange*zRange ) / 2;\n",
       "\n",
       "    var xMid = ( b[0].x + b[1].x ) / 2;\n",
       "    var yMid = ( b[0].y + b[1].y ) / 2;\n",
       "    var zMid = ( b[0].z + b[1].z ) / 2;\n",
       "\n",
       "    var box = new THREE.Geometry();\n",
       "    box.vertices.push( new THREE.Vector3( a[0]*b[0].x, a[1]*b[0].y, a[2]*b[0].z ) );\n",
       "    box.vertices.push( new THREE.Vector3( a[0]*b[1].x, a[1]*b[1].y, a[2]*b[1].z ) );\n",
       "    var boxMesh = new THREE.Line( box );\n",
       "    var boxColor = options.theme === 'dark' ? 'white' : 'black';\n",
       "    if ( options.frame ) scene.add( new THREE.BoxHelper( boxMesh, boxColor ) );\n",
       "\n",
       "    if ( options.axesLabels ) {\n",
       "\n",
       "        var d = options.decimals; // decimals\n",
       "        var offsetRatio = 0.1;\n",
       "        var al = options.axesLabels;\n",
       "        var als = options.axesLabelsStyle || [{}, {}, {}];\n",
       "\n",
       "        var offset = offsetRatio * a[1]*( b[1].y - b[0].y );\n",
       "        var xm = xMid.toFixed(d);\n",
       "        if ( /^-0.?0*$/.test(xm) ) xm = xm.substr(1);\n",
       "        addLabel( al[0] + '=' + xm, a[0]*xMid, a[1]*b[1].y+offset, a[2]*b[0].z, als[0] );\n",
       "        addLabel( ( b[0].x ).toFixed(d), a[0]*b[0].x, a[1]*b[1].y+offset, a[2]*b[0].z, als[0] );\n",
       "        addLabel( ( b[1].x ).toFixed(d), a[0]*b[1].x, a[1]*b[1].y+offset, a[2]*b[0].z, als[0] );\n",
       "\n",
       "        var offset = offsetRatio * a[0]*( b[1].x - b[0].x );\n",
       "        var ym = yMid.toFixed(d);\n",
       "        if ( /^-0.?0*$/.test(ym) ) ym = ym.substr(1);\n",
       "        addLabel( al[1] + '=' + ym, a[0]*b[1].x+offset, a[1]*yMid, a[2]*b[0].z, als[1] );\n",
       "        addLabel( ( b[0].y ).toFixed(d), a[0]*b[1].x+offset, a[1]*b[0].y, a[2]*b[0].z, als[1] );\n",
       "        addLabel( ( b[1].y ).toFixed(d), a[0]*b[1].x+offset, a[1]*b[1].y, a[2]*b[0].z, als[1] );\n",
       "\n",
       "        var offset = offsetRatio * a[1]*( b[1].y - b[0].y );\n",
       "        var zm = zMid.toFixed(d);\n",
       "        if ( /^-0.?0*$/.test(zm) ) zm = zm.substr(1);\n",
       "        addLabel( al[2] + '=' + zm, a[0]*b[1].x, a[1]*b[0].y-offset, a[2]*zMid, als[2] );\n",
       "        addLabel( ( b[0].z ).toFixed(d), a[0]*b[1].x, a[1]*b[0].y-offset, a[2]*b[0].z, als[2] );\n",
       "        addLabel( ( b[1].z ).toFixed(d), a[0]*b[1].x, a[1]*b[0].y-offset, a[2]*b[1].z, als[2] );\n",
       "\n",
       "    }\n",
       "\n",
       "    function addLabel( text, x, y, z, style ) {\n",
       "\n",
       "        var color = style.color || 'black';\n",
       "        var fontSize = style.fontSize || 14;\n",
       "        var fontFamily = style.fontFamily || 'monospace';\n",
       "        var fontStyle = style.fontStyle || 'normal';\n",
       "        var fontWeight = style.fontWeight || 'normal';\n",
       "        var opacity = style.opacity || 1;\n",
       "\n",
       "        if ( options.theme === 'dark' )\n",
       "            if ( color === 'black' || color === '#000000' )\n",
       "                color = 'white';\n",
       "\n",
       "        if ( Array.isArray( fontStyle ) ) {\n",
       "            fontFamily = fontFamily.map( function( f ) {\n",
       "                // Need to put quotes around fonts that have whitespace in their names.\n",
       "                return /\\s/.test( f ) ? '&quot;' + f + '&quot;' : f;\n",
       "            }).join(', ');\n",
       "        }\n",
       "\n",
       "        var canvas = document.createElement( 'canvas' );\n",
       "        var context = canvas.getContext( '2d' );\n",
       "        var pixelRatio = Math.round( window.devicePixelRatio );\n",
       "\n",
       "        // For example: italic bold 20px &quot;Times New Roman&quot;, Georgia, serif\n",
       "        var font = [fontStyle, fontWeight, fontSize + 'px', fontFamily].join(' ');\n",
       "\n",
       "        context.font = font;\n",
       "        var width = context.measureText( text ).width;\n",
       "        var height = fontSize;\n",
       "\n",
       "        // The dimensions of the canvas's underlying image data need to be powers\n",
       "        // of two in order for the resulting texture to support mipmapping.\n",
       "        canvas.width = THREE.MathUtils.ceilPowerOfTwo( width * pixelRatio );\n",
       "        canvas.height = THREE.MathUtils.ceilPowerOfTwo( height * pixelRatio );\n",
       "\n",
       "        // Re-compute the unscaled dimensions after the power of two conversion.\n",
       "        width = canvas.width / pixelRatio;\n",
       "        height = canvas.height / pixelRatio;\n",
       "\n",
       "        canvas.style.width = width + 'px';\n",
       "        canvas.style.height = height + 'px';\n",
       "\n",
       "        context.scale( pixelRatio, pixelRatio );\n",
       "        context.fillStyle = color;\n",
       "        context.font = font; // Must be set again after measureText.\n",
       "        context.textAlign = 'center';\n",
       "        context.textBaseline = 'middle';\n",
       "        context.fillText( text, width/2, height/2 );\n",
       "\n",
       "        var texture = new THREE.Texture( canvas );\n",
       "        texture.needsUpdate = true;\n",
       "\n",
       "        var materialOptions = { map: texture, sizeAttenuation: false, depthWrite: false };\n",
       "        if ( opacity < 1 ) {\n",
       "            // Setting opacity=1 would cause the texture's alpha component to be\n",
       "            // discarded, giving the text a black background instead of the\n",
       "            // background being transparent.\n",
       "            materialOptions.opacity = opacity;\n",
       "        }\n",
       "        var sprite = new THREE.Sprite( new THREE.SpriteMaterial( materialOptions ) );\n",
       "        sprite.position.set( x, y, z );\n",
       "\n",
       "        // Scaling factor, chosen somewhat arbitrarily so that the size of the text\n",
       "        // is consistent with previously generated plots.\n",
       "        var scale = 1/625;\n",
       "        if ( options.projection === 'orthographic' ) {\n",
       "            scale = midToCorner/256; // Needs to scale along with the plot itself.\n",
       "        }\n",
       "        sprite.scale.set( scale * width, scale * height, 1 );\n",
       "\n",
       "        scene.add( sprite );\n",
       "\n",
       "        return sprite;\n",
       "\n",
       "    }\n",
       "\n",
       "    if ( options.axes ) scene.add( new THREE.AxesHelper( Math.min( a[0]*b[1].x, a[1]*b[1].y, a[2]*b[1].z ) ) );\n",
       "\n",
       "    var camera = createCamera();\n",
       "    camera.up.set( 0, 0, 1 );\n",
       "    camera.position.set( a[0]*xMid, a[1]*yMid, a[2]*zMid );\n",
       "\n",
       "    var offset = new THREE.Vector3( a[0]*xRange, a[1]*yRange, a[2]*zRange );\n",
       "\n",
       "    if ( options.viewpoint ) {\n",
       "\n",
       "        var aa = options.viewpoint;\n",
       "        var axis = new THREE.Vector3( aa[0][0], aa[0][1], aa[0][2] ).normalize();\n",
       "        var angle = aa[1] * Math.PI / 180;\n",
       "        var q = new THREE.Quaternion().setFromAxisAngle( axis, angle ).inverse();\n",
       "\n",
       "        offset.set( 0, 0, offset.length() );\n",
       "        offset.applyQuaternion( q );\n",
       "\n",
       "    }\n",
       "\n",
       "    camera.position.add( offset );\n",
       "\n",
       "    function createCamera() {\n",
       "\n",
       "        var aspect = window.innerWidth / window.innerHeight;\n",
       "\n",
       "        // Scale the near and far clipping planes along with the overall plot size.\n",
       "        var nearClip = 0.01 * midToCorner;\n",
       "        var farClip = 100 * midToCorner;\n",
       "\n",
       "        if ( options.projection === 'orthographic' ) {\n",
       "            var camera = new THREE.OrthographicCamera( -1, 1, 1, -1, -farClip, farClip );\n",
       "            updateCameraAspect( camera, aspect );\n",
       "            return camera;\n",
       "        }\n",
       "\n",
       "        return new THREE.PerspectiveCamera( 45, aspect, nearClip, farClip );\n",
       "\n",
       "    }\n",
       "\n",
       "    function updateCameraAspect( camera, aspect ) {\n",
       "\n",
       "        if ( camera.isPerspectiveCamera ) {\n",
       "            camera.aspect = aspect;\n",
       "        } else if ( camera.isOrthographicCamera ) {\n",
       "            // Fit the camera frustum to the bounding box's diagonal so that the entire plot fits\n",
       "            // within at the default zoom level and camera position.\n",
       "            if ( aspect > 1 ) { // Wide window\n",
       "                camera.top = midToCorner;\n",
       "                camera.right = midToCorner * aspect;\n",
       "            } else { // Tall or square window\n",
       "                camera.top = midToCorner / aspect;\n",
       "                camera.right = midToCorner;\n",
       "            }\n",
       "            camera.bottom = -camera.top;\n",
       "            camera.left = -camera.right;\n",
       "        }\n",
       "\n",
       "        camera.updateProjectionMatrix();\n",
       "\n",
       "    }\n",
       "\n",
       "    var lights = [{&quot;x&quot;:-5, &quot;y&quot;:3, &quot;z&quot;:0, &quot;color&quot;:&quot;#7f7f7f&quot;, &quot;parent&quot;:&quot;camera&quot;}];\n",
       "    for ( var i=0 ; i < lights.length ; i++ ) {\n",
       "        var light = new THREE.DirectionalLight( lights[i].color, 1 );\n",
       "        light.position.set( a[0]*lights[i].x, a[1]*lights[i].y, a[2]*lights[i].z );\n",
       "        if ( lights[i].parent === 'camera' ) {\n",
       "            light.target.position.set( a[0]*xMid, a[1]*yMid, a[2]*zMid );\n",
       "            scene.add( light.target );\n",
       "            camera.add( light );\n",
       "        } else scene.add( light );\n",
       "    }\n",
       "    scene.add( camera );\n",
       "\n",
       "    var ambient = {&quot;color&quot;:&quot;#7f7f7f&quot;};\n",
       "    scene.add( new THREE.AmbientLight( ambient.color, 1 ) );\n",
       "\n",
       "    var controls = new THREE.OrbitControls( camera, renderer.domElement );\n",
       "    controls.target.set( a[0]*xMid, a[1]*yMid, a[2]*zMid );\n",
       "    controls.addEventListener( 'change', function() { if ( !animate ) render(); } );\n",
       "\n",
       "    window.addEventListener( 'resize', function() {\n",
       "\n",
       "        renderer.setSize( window.innerWidth, window.innerHeight );\n",
       "        updateCameraAspect( camera, window.innerWidth / window.innerHeight );\n",
       "        if ( window.rescaleFatLines ) rescaleFatLines();\n",
       "        if ( !animate ) render();\n",
       "\n",
       "    } );\n",
       "\n",
       "    var texts = [];\n",
       "    for ( var i=0 ; i < texts.length ; i++ ) addText( texts[i] );\n",
       "\n",
       "    function addText( json ) {\n",
       "        var sprite = addLabel( json.text, a[0]*json.x, a[1]*json.y, a[2]*json.z, json );\n",
       "        sprite.userData = json;\n",
       "    }\n",
       "\n",
       "    var points = [];\n",
       "    for ( var i=0 ; i < points.length ; i++ ) addPoint( points[i] );\n",
       "\n",
       "    function addPoint( json ) {\n",
       "\n",
       "        var geometry = new THREE.Geometry();\n",
       "        var v = json.point;\n",
       "        geometry.vertices.push( new THREE.Vector3( a[0]*v[0], a[1]*v[1], a[2]*v[2] ) );\n",
       "\n",
       "        var canvas = document.createElement( 'canvas' );\n",
       "        canvas.width = 128;\n",
       "        canvas.height = 128;\n",
       "\n",
       "        var context = canvas.getContext( '2d' );\n",
       "        context.arc( 64, 64, 64, 0, 2 * Math.PI );\n",
       "        context.fillStyle = json.color;\n",
       "        context.fill();\n",
       "\n",
       "        var texture = new THREE.Texture( canvas );\n",
       "        texture.needsUpdate = true;\n",
       "\n",
       "        var transparent = json.opacity < 1 ? true : false;\n",
       "        var size = camera.isOrthographicCamera ? json.size : json.size/100;\n",
       "        var material = new THREE.PointsMaterial( { size: size, map: texture,\n",
       "                                                   transparent: transparent, opacity: json.opacity,\n",
       "                                                   alphaTest: .1 } );\n",
       "\n",
       "        var c = new THREE.Vector3();\n",
       "        geometry.computeBoundingBox();\n",
       "        geometry.boundingBox.getCenter( c );\n",
       "        geometry.translate( -c.x, -c.y, -c.z );\n",
       "\n",
       "        var mesh = new THREE.Points( geometry, material );\n",
       "        mesh.position.set( c.x, c.y, c.z );\n",
       "        mesh.userData = json;\n",
       "        scene.add( mesh );\n",
       "\n",
       "    }\n",
       "\n",
       "    var lines = [];\n",
       "    for ( var i=0 ; i < lines.length ; i++ ) addLine( lines[i] );\n",
       "\n",
       "    function addLine( json ) {\n",
       "\n",
       "        var geometry = new THREE.Geometry();\n",
       "        for ( var i=0 ; i < json.points.length ; i++ ) {\n",
       "            var v = json.points[i];\n",
       "            geometry.vertices.push( new THREE.Vector3( a[0]*v[0], a[1]*v[1], a[2]*v[2] ) );\n",
       "        }\n",
       "\n",
       "        var c = new THREE.Vector3();\n",
       "        geometry.computeBoundingBox();\n",
       "        geometry.boundingBox.getCenter( c );\n",
       "        geometry.translate( -c.x, -c.y, -c.z );\n",
       "\n",
       "        var transparent = json.opacity < 1 ? true : false;\n",
       "        var materialOptions = { color: json.color, linewidth: json.linewidth,\n",
       "                                transparent: transparent, opacity: json.opacity };\n",
       "\n",
       "        var mesh;\n",
       "        if ( json.linewidth > 1 && window.createFatLineStrip ) {\n",
       "            mesh = createFatLineStrip( geometry, materialOptions );\n",
       "        } else {\n",
       "            var material = new THREE.LineBasicMaterial( materialOptions );\n",
       "            mesh = new THREE.Line( geometry, material );\n",
       "        }\n",
       "\n",
       "        mesh.position.set( c.x, c.y, c.z );\n",
       "        mesh.userData = json;\n",
       "        scene.add( mesh );\n",
       "\n",
       "    }\n",
       "\n",
       "    var surfaces = [{&quot;vertices&quot;: [{&quot;x&quot;: 0.8200000000000001, &quot;y&quot;: 0.0, &quot;z&quot;: 5.021051876504149e-17}, {&quot;x&quot;: 0.8200000000000001, &quot;y&quot;: 0.006180339887498949, &quot;z&quot;: -0.019021130325903024}, {&quot;x&quot;: 0.8200000000000001, &quot;y&quot;: 0.02, &quot;z&quot;: 5.021051876504149e-17}, {&quot;x&quot;: 0.8200000000000001, &quot;y&quot;: -0.016180339887498948, &quot;z&quot;: -0.011755705045849415}, {&quot;x&quot;: 0.8200000000000001, &quot;y&quot;: -0.01618033988749895, &quot;z&quot;: 0.011755705045849512}, {&quot;x&quot;: 0.8200000000000001, &quot;y&quot;: 0.006180339887498945, &quot;z&quot;: 0.01902113032590312}, {&quot;x&quot;: 1.1647083184890924e-18, &quot;y&quot;: 0.006180339887498949, &quot;z&quot;: -0.019021130325903073}, {&quot;x&quot;: 0.0, &quot;y&quot;: 0.02, &quot;z&quot;: 0.0}, {&quot;x&quot;: 7.198293278059968e-19, &quot;y&quot;: -0.016180339887498948, &quot;z&quot;: -0.011755705045849465}, {&quot;x&quot;: -7.198293278059966e-19, &quot;y&quot;: -0.01618033988749895, &quot;z&quot;: 0.011755705045849461}, {&quot;x&quot;: -1.1647083184890924e-18, &quot;y&quot;: 0.006180339887498945, &quot;z&quot;: 0.019021130325903073}, {&quot;x&quot;: 0.0, &quot;y&quot;: 0.0, &quot;z&quot;: 0.0}], &quot;faces&quot;: [[0, 1, 2], [0, 3, 1], [0, 4, 3], [0, 5, 4], [0, 2, 5], [2, 1, 6, 7], [1, 3, 8, 6], [3, 4, 9, 8], [4, 5, 10, 9], [5, 2, 7, 10], [7, 6, 11], [6, 8, 11], [8, 9, 11], [9, 10, 11], [10, 7, 11]], &quot;color&quot;: &quot;#0000ff&quot;, &quot;opacity&quot;: 1.0}, {&quot;vertices&quot;: [{&quot;x&quot;: 1.0, &quot;y&quot;: 0.0, &quot;z&quot;: 6.123233995736767e-17}, {&quot;x&quot;: 0.8200000000000001, &quot;y&quot;: 0.018541019662496848, &quot;z&quot;: -0.05706339097770916}, {&quot;x&quot;: 0.8200000000000001, &quot;y&quot;: 0.06, &quot;z&quot;: 5.021051876504149e-17}, {&quot;x&quot;: 0.8200000000000001, &quot;y&quot;: -0.04854101966249684, &quot;z&quot;: -0.03526711513754834}, {&quot;x&quot;: 0.8200000000000001, &quot;y&quot;: -0.048541019662496854, &quot;z&quot;: 0.035267115137548426}, {&quot;x&quot;: 0.8200000000000001, &quot;y&quot;: 0.018541019662496834, &quot;z&quot;: 0.057063390977709266}, {&quot;x&quot;: 0.8200000000000001, &quot;y&quot;: 0.0, &quot;z&quot;: 5.021051876504149e-17}], &quot;faces&quot;: [[0, 1, 2], [0, 3, 1], [0, 4, 3], [0, 5, 4], [0, 2, 5], [2, 1, 6], [1, 3, 6], [3, 4, 6], [4, 5, 6], [5, 2, 6]], &quot;color&quot;: &quot;#0000ff&quot;, &quot;opacity&quot;: 1.0}, {&quot;vertices&quot;: [{&quot;x&quot;: 0.0, &quot;y&quot;: 0.8200000000000001, &quot;z&quot;: 5.021051876504149e-17}, {&quot;x&quot;: 0.019021130325903073, &quot;y&quot;: 0.8200000000000001, &quot;z&quot;: -0.006180339887498899}, {&quot;x&quot;: 0.0, &quot;y&quot;: 0.8200000000000001, &quot;z&quot;: -0.019999999999999952}, {&quot;x&quot;: 0.011755705045849465, &quot;y&quot;: 0.8200000000000001, &quot;z&quot;: 0.016180339887498996}, {&quot;x&quot;: -0.011755705045849461, &quot;y&quot;: 0.8200000000000001, &quot;z&quot;: 0.016180339887499}, {&quot;x&quot;: -0.019021130325903073, &quot;y&quot;: 0.8200000000000001, &quot;z&quot;: -0.006180339887498895}, {&quot;x&quot;: 0.019021130325903073, &quot;y&quot;: 3.7843667304341507e-19, &quot;z&quot;: -0.006180339887498949}, {&quot;x&quot;: 0.0, &quot;y&quot;: 1.2246467991473532e-18, &quot;z&quot;: -0.02}, {&quot;x&quot;: 0.011755705045849465, &quot;y&quot;: -9.907600726170915e-19, &quot;z&quot;: 0.016180339887498948}, {&quot;x&quot;: -0.011755705045849461, &quot;y&quot;: -9.907600726170917e-19, &quot;z&quot;: 0.01618033988749895}, {&quot;x&quot;: -0.019021130325903073, &quot;y&quot;: 3.784366730434148e-19, &quot;z&quot;: -0.006180339887498945}, {&quot;x&quot;: 0.0, &quot;y&quot;: 0.0, &quot;z&quot;: 0.0}], &quot;faces&quot;: [[0, 1, 2], [0, 3, 1], [0, 4, 3], [0, 5, 4], [0, 2, 5], [2, 1, 6, 7], [1, 3, 8, 6], [3, 4, 9, 8], [4, 5, 10, 9], [5, 2, 7, 10], [7, 6, 11], [6, 8, 11], [8, 9, 11], [9, 10, 11], [10, 7, 11]], &quot;color&quot;: &quot;#0000ff&quot;, &quot;opacity&quot;: 1.0}, {&quot;vertices&quot;: [{&quot;x&quot;: 0.0, &quot;y&quot;: 1.0, &quot;z&quot;: 6.123233995736767e-17}, {&quot;x&quot;: 0.05706339097770921, &quot;y&quot;: 0.8200000000000001, &quot;z&quot;: -0.0185410196624968}, {&quot;x&quot;: 0.0, &quot;y&quot;: 0.8200000000000001, &quot;z&quot;: -0.05999999999999995}, {&quot;x&quot;: 0.03526711513754839, &quot;y&quot;: 0.8200000000000001, &quot;z&quot;: 0.04854101966249689}, {&quot;x&quot;: -0.03526711513754838, &quot;y&quot;: 0.8200000000000001, &quot;z&quot;: 0.0485410196624969}, {&quot;x&quot;: -0.05706339097770922, &quot;y&quot;: 0.8200000000000001, &quot;z&quot;: -0.018541019662496785}, {&quot;x&quot;: 0.0, &quot;y&quot;: 0.8200000000000001, &quot;z&quot;: 5.021051876504149e-17}], &quot;faces&quot;: [[0, 1, 2], [0, 3, 1], [0, 4, 3], [0, 5, 4], [0, 2, 5], [2, 1, 6], [1, 3, 6], [3, 4, 6], [4, 5, 6], [5, 2, 6]], &quot;color&quot;: &quot;#0000ff&quot;, &quot;opacity&quot;: 1.0}, {&quot;vertices&quot;: [{&quot;x&quot;: 0.0, &quot;y&quot;: 0.0, &quot;z&quot;: 0.8200000000000001}, {&quot;x&quot;: 0.019021130325903073, &quot;y&quot;: 0.006180339887498949, &quot;z&quot;: 0.8200000000000001}, {&quot;x&quot;: 0.0, &quot;y&quot;: 0.02, &quot;z&quot;: 0.8200000000000001}, {&quot;x&quot;: 0.011755705045849465, &quot;y&quot;: -0.016180339887498948, &quot;z&quot;: 0.8200000000000001}, {&quot;x&quot;: -0.011755705045849461, &quot;y&quot;: -0.01618033988749895, &quot;z&quot;: 0.8200000000000001}, {&quot;x&quot;: -0.019021130325903073, &quot;y&quot;: 0.006180339887498945, &quot;z&quot;: 0.8200000000000001}, {&quot;x&quot;: 0.019021130325903073, &quot;y&quot;: 0.006180339887498949, &quot;z&quot;: 0.0}, {&quot;x&quot;: 0.0, &quot;y&quot;: 0.02, &quot;z&quot;: 0.0}, {&quot;x&quot;: 0.011755705045849465, &quot;y&quot;: -0.016180339887498948, &quot;z&quot;: 0.0}, {&quot;x&quot;: -0.011755705045849461, &quot;y&quot;: -0.01618033988749895, &quot;z&quot;: 0.0}, {&quot;x&quot;: -0.019021130325903073, &quot;y&quot;: 0.006180339887498945, &quot;z&quot;: 0.0}, {&quot;x&quot;: 0.0, &quot;y&quot;: 0.0, &quot;z&quot;: 0.0}], &quot;faces&quot;: [[0, 1, 2], [0, 3, 1], [0, 4, 3], [0, 5, 4], [0, 2, 5], [2, 1, 6, 7], [1, 3, 8, 6], [3, 4, 9, 8], [4, 5, 10, 9], [5, 2, 7, 10], [7, 6, 11], [6, 8, 11], [8, 9, 11], [9, 10, 11], [10, 7, 11]], &quot;color&quot;: &quot;#0000ff&quot;, &quot;opacity&quot;: 1.0}, {&quot;vertices&quot;: [{&quot;x&quot;: 0.0, &quot;y&quot;: 0.0, &quot;z&quot;: 1.0}, {&quot;x&quot;: 0.05706339097770921, &quot;y&quot;: 0.018541019662496848, &quot;z&quot;: 0.8200000000000001}, {&quot;x&quot;: 0.0, &quot;y&quot;: 0.06, &quot;z&quot;: 0.8200000000000001}, {&quot;x&quot;: 0.03526711513754839, &quot;y&quot;: -0.04854101966249684, &quot;z&quot;: 0.8200000000000001}, {&quot;x&quot;: -0.03526711513754838, &quot;y&quot;: -0.048541019662496854, &quot;z&quot;: 0.8200000000000001}, {&quot;x&quot;: -0.05706339097770922, &quot;y&quot;: 0.018541019662496834, &quot;z&quot;: 0.8200000000000001}, {&quot;x&quot;: 0.0, &quot;y&quot;: 0.0, &quot;z&quot;: 0.8200000000000001}], &quot;faces&quot;: [[0, 1, 2], [0, 3, 1], [0, 4, 3], [0, 5, 4], [0, 2, 5], [2, 1, 6], [1, 3, 6], [3, 4, 6], [4, 5, 6], [5, 2, 6]], &quot;color&quot;: &quot;#0000ff&quot;, &quot;opacity&quot;: 1.0}, {&quot;vertices&quot;: [{&quot;x&quot;: 1.7594648822788177, &quot;y&quot;: 0.8797324411394088, &quot;z&quot;: 2.639197323418227}, {&quot;x&quot;: 1.7982520689764654, &quot;y&quot;: 0.8908004712996013, &quot;z&quot;: 2.609649855566398}, {&quot;x&quot;: 1.755500556793563, &quot;y&quot;: 0.9277502783967816, &quot;z&quot;: 2.625834261322606}, {&quot;x&quot;: 1.7874010074712063, &quot;y&quot;: 0.838555022709544, &quot;z&quot;: 2.634299046099923}, {&quot;x&quot;: 1.7379431704640382, &quot;y&quot;: 0.8432153668205836, &quot;z&quot;: 2.665717489401022}, {&quot;x&quot;: 1.7182276076888152, &quot;y&quot;: 0.8983410664705338, &quot;z&quot;: 2.660485964701187}, {&quot;x&quot;: 0.038787186697647774, &quot;y&quot;: 0.011068030160192418, &quot;z&quot;: -0.029547467851829313}, {&quot;x&quot;: -0.003964325485254536, &quot;y&quot;: 0.048017837257372735, &quot;z&quot;: -0.013363062095621218}, {&quot;x&quot;: 0.027936125192388656, &quot;y&quot;: -0.04117741842986487, &quot;z&quot;: -0.004898277318304145}, {&quot;x&quot;: -0.02152171181477939, &quot;y&quot;: -0.03651707431882525, &quot;z&quot;: 0.026520165982794667}, {&quot;x&quot;: -0.041237274590002496, &quot;y&quot;: 0.018608625331124957, &quot;z&quot;: 0.02128864128296001}, {&quot;x&quot;: 0.0, &quot;y&quot;: 0.0, &quot;z&quot;: 0.0}], &quot;faces&quot;: [[0, 1, 2], [0, 3, 1], [0, 4, 3], [0, 5, 4], [0, 2, 5], [2, 1, 6, 7], [1, 3, 8, 6], [3, 4, 9, 8], [4, 5, 10, 9], [5, 2, 7, 10], [7, 6, 11], [6, 8, 11], [8, 9, 11], [9, 10, 11], [10, 7, 11]], &quot;color&quot;: &quot;#ffff00&quot;, &quot;opacity&quot;: 1.0}, {&quot;vertices&quot;: [{&quot;x&quot;: 1.9999999999999996, &quot;y&quot;: 0.9999999999999998, &quot;z&quot;: 3.0}, {&quot;x&quot;: 1.8122722860857525, &quot;y&quot;: 0.9985399536105422, &quot;z&quot;: 2.5643898833898926}, {&quot;x&quot;: 1.747571905823054, &quot;y&quot;: 1.0237859529115272, &quot;z&quot;: 2.5991081371313633}, {&quot;x&quot;: 1.8628229651439987, &quot;y&quot;: 0.9414595772881664, &quot;z&quot;: 2.549716222791854}, {&quot;x&quot;: 1.8856789293672904, &quot;y&quot;: 0.8678394646836453, &quot;z&quot;: 2.5590189508444996}, {&quot;x&quot;: 1.8747159415997623, &quot;y&quot;: 0.7974060655160482, &quot;z&quot;: 2.5898054090787177}, {&quot;x&quot;: 1.8328715255603556, &quot;y&quot;: 0.749031952212512, &quot;z&quot;: 2.633826390872834}, {&quot;x&quot;: 1.7713578587345813, &quot;y&quot;: 0.7356789293672906, &quot;z&quot;: 2.679286509705091}, {&quot;x&quot;: 1.7066574784718829, &quot;y&quot;: 0.7609249286682755, &quot;z&quot;: 2.7140047634465616}, {&quot;x&quot;: 1.6561067994136367, &quot;y&quot;: 0.8180053049906512, &quot;z&quot;: 2.7286784240446003}, {&quot;x&quot;: 1.633250835190345, &quot;y&quot;: 0.8916254175951724, &quot;z&quot;: 2.7193756959919546}, {&quot;x&quot;: 1.644213822957873, &quot;y&quot;: 0.9620588167627695, &quot;z&quot;: 2.6885892377577365}, {&quot;x&quot;: 1.6860582389972798, &quot;y&quot;: 1.0104329300663057, &quot;z&quot;: 2.64456825596362}, {&quot;x&quot;: 1.7594648822788177, &quot;y&quot;: 0.8797324411394088, &quot;z&quot;: 2.639197323418227}], &quot;faces&quot;: [[0, 1, 2], [0, 3, 1], [0, 4, 3], [0, 5, 4], [0, 6, 5], [0, 7, 6], [0, 8, 7], [0, 9, 8], [0, 10, 9], [0, 11, 10], [0, 12, 11], [0, 2, 12], [2, 1, 13], [1, 3, 13], [3, 4, 13], [4, 5, 13], [5, 6, 13], [6, 7, 13], [7, 8, 13], [8, 9, 13], [9, 10, 13], [10, 11, 13], [11, 12, 13], [12, 2, 13]], &quot;color&quot;: &quot;#ffff00&quot;, &quot;opacity&quot;: 1.0}, {&quot;vertices&quot;: [{&quot;x&quot;: 2.7493112934609796, &quot;y&quot;: 3.6657483912813063, &quot;z&quot;: 1.8328741956406533}, {&quot;x&quot;: 2.7814409222616066, &quot;y&quot;: 3.660634978314546, &quot;z&quot;: 1.7949065783732334}, {&quot;x&quot;: 2.734224669693478, &quot;y&quot;: 3.6956328929246376, &quot;z&quot;: 1.795735128005243}, {&quot;x&quot;: 2.784255119873186, &quot;y&quot;: 3.632703626626003, &quot;z&quot;: 1.8465479853329507}, {&quot;x&quot;: 2.7387781370800726, &quot;y&quot;: 3.650439016540848, &quot;z&quot;: 1.8792926796929312}, {&quot;x&quot;: 2.7078576183965546, &quot;y&quot;: 3.6893314420004972, &quot;z&quot;: 1.8478886067989087}, {&quot;x&quot;: 0.032129628800626975, &quot;y&quot;: -0.00511341296676023, &quot;z&quot;: -0.037967617267420005}, {&quot;x&quot;: -0.015086623767501512, &quot;y&quot;: 0.02988450164333132, &quot;z&quot;: -0.037139067635410375}, {&quot;x&quot;: 0.03494382641220651, &quot;y&quot;: -0.03304476465530358, &quot;z&quot;: 0.013673789692297399}, {&quot;x&quot;: -0.010533156380907063, &quot;y&quot;: -0.01530937474045859, &quot;z&quot;: 0.046418484052277775}, {&quot;x&quot;: -0.041453675064424905, &quot;y&quot;: 0.02358305071919107, &quot;z&quot;: 0.015014411158255216}, {&quot;x&quot;: 0.0, &quot;y&quot;: 0.0, &quot;z&quot;: 0.0}], &quot;faces&quot;: [[0, 1, 2], [0, 3, 1], [0, 4, 3], [0, 5, 4], [0, 2, 5], [2, 1, 6, 7], [1, 3, 8, 6], [3, 4, 9, 8], [4, 5, 10, 9], [5, 2, 7, 10], [7, 6, 11], [6, 8, 11], [8, 9, 11], [9, 10, 11], [10, 7, 11]], &quot;color&quot;: &quot;#008000&quot;, &quot;opacity&quot;: 1.0}, {&quot;vertices&quot;: [{&quot;x&quot;: 2.9999999999999996, &quot;y&quot;: 3.9999999999999996, &quot;z&quot;: 2.0}, {&quot;x&quot;: 2.768142643402557, &quot;y&quot;: 3.7207606684377423, &quot;z&quot;: 1.694602616415415}, {&quot;x&quot;: 2.704051422158475, &quot;y&quot;: 3.7554018962113003, &quot;z&quot;: 1.721456992734422}, {&quot;x&quot;: 2.8271880196374055, &quot;y&quot;: 3.67137894542632, &quot;z&quot;: 1.7047979980859866}, {&quot;x&quot;: 2.8653663899841013, &quot;y&quot;: 3.6204885199788017, &quot;z&quot;: 1.74931129346098}, {&quot;x&quot;: 2.87244789093991, &quot;y&quot;: 3.581725440496326, &quot;z&quot;: 1.8162152009922177}, {&quot;x&quot;: 2.846535040042524, &quot;y&quot;: 3.5654762428223656, &quot;z&quot;: 1.8875828726862183}, {&quot;x&quot;: 2.794571164763484, &quot;y&quot;: 3.5760948863513122, &quot;z&quot;: 1.9442913985468844}, {&quot;x&quot;: 2.730479943519402, &quot;y&quot;: 3.61073611412487, &quot;z&quot;: 1.9711457748658916}, {&quot;x&quot;: 2.6714345672845536, &quot;y&quot;: 3.6601178371362924, &quot;z&quot;: 1.96095039319532}, {&quot;x&quot;: 2.633256196937858, &quot;y&quot;: 3.711008262583811, &quot;z&quot;: 1.9164370978203267}, {&quot;x&quot;: 2.626174695982049, &quot;y&quot;: 3.7497713420662864, &quot;z&quot;: 1.849533190289089}, {&quot;x&quot;: 2.6520875468794354, &quot;y&quot;: 3.766020539740247, &quot;z&quot;: 1.7781655185950886}, {&quot;x&quot;: 2.7493112934609796, &quot;y&quot;: 3.6657483912813063, &quot;z&quot;: 1.8328741956406533}], &quot;faces&quot;: [[0, 1, 2], [0, 3, 1], [0, 4, 3], [0, 5, 4], [0, 6, 5], [0, 7, 6], [0, 8, 7], [0, 9, 8], [0, 10, 9], [0, 11, 10], [0, 12, 11], [0, 2, 12], [2, 1, 13], [1, 3, 13], [3, 4, 13], [4, 5, 13], [5, 6, 13], [6, 7, 13], [7, 8, 13], [8, 9, 13], [9, 10, 13], [10, 11, 13], [11, 12, 13], [12, 2, 13]], &quot;color&quot;: &quot;#008000&quot;, &quot;opacity&quot;: 1.0}, {&quot;vertices&quot;: [{&quot;x&quot;: 2.135680105059994, &quot;y&quot;: 1.407040315179981, &quot;z&quot;: 2.864319894940006}, {&quot;x&quot;: 2.1766737469647097, &quot;y&quot;: 1.402813613168604, &quot;z&quot;: 2.8926334308105917}, {&quot;x&quot;: 2.12520277522866, &quot;y&quot;: 1.4256083256859804, &quot;z&quot;: 2.909546596626671}, {&quot;x&quot;: 2.171492898911084, &quot;y&quot;: 1.3858600591706334, &quot;z&quot;: 2.8365919207630528}, {&quot;x&quot;: 2.1168199869873443, &quot;y&quot;: 1.398176899087157, &quot;z&quot;: 2.8188695285888845}, {&quot;x&quot;: 2.08821111720817, &quot;y&quot;: 1.422742678787531, &quot;z&quot;: 2.863957997910832}, {&quot;x&quot;: 3.0409936419047163, &quot;y&quot;: 3.995773297988623, &quot;z&quot;: 2.028313535870585}, {&quot;x&quot;: 2.9895226701686664, &quot;y&quot;: 4.018568010506, &quot;z&quot;: 2.0452267016866648}, {&quot;x&quot;: 3.03581279385109, &quot;y&quot;: 3.9788197439906523, &quot;z&quot;: 1.9722720258230464}, {&quot;x&quot;: 2.981139881927351, &quot;y&quot;: 3.991136583907176, &quot;z&quot;: 1.9545496336488781}, {&quot;x&quot;: 2.9525310121481763, &quot;y&quot;: 4.0157023636075495, &quot;z&quot;: 1.9996381029708257}, {&quot;x&quot;: 3.0, &quot;y&quot;: 4.0, &quot;z&quot;: 2.0}], &quot;faces&quot;: [[0, 1, 2], [0, 3, 1], [0, 4, 3], [0, 5, 4], [0, 2, 5], [2, 1, 6, 7], [1, 3, 8, 6], [3, 4, 9, 8], [4, 5, 10, 9], [5, 2, 7, 10], [7, 6, 11], [6, 8, 11], [8, 9, 11], [9, 10, 11], [10, 7, 11]], &quot;color&quot;: &quot;#ff0000&quot;, &quot;opacity&quot;: 1.0}, {&quot;vertices&quot;: [{&quot;x&quot;: 2.0, &quot;y&quot;: 1.0, &quot;z&quot;: 3.0}, {&quot;x&quot;: 2.1782205387510367, &quot;y&quot;: 1.439565426820776, &quot;z&quot;: 3.0044356635534344}, {&quot;x&quot;: 2.1042481155659933, &quot;y&quot;: 1.4627443466979793, &quot;z&quot;: 3.0}, {&quot;x&quot;: 2.240794287082896, &quot;y&quot;: 1.40767142954569, &quot;z&quot;: 2.971327420060035}, {&quot;x&quot;: 2.27520277522866, &quot;y&quot;: 1.3756083256859803, &quot;z&quot;: 2.909546596626671}, {&quot;x&quot;: 2.2722262765768964, &quot;y&quot;: 1.3519673980276918, &quot;z&quot;: 2.8356473150000414}, {&quot;x&quot;: 2.2326623415376172, &quot;y&quot;: 1.3430832140451854, &quot;z&quot;: 2.7694308280132423}, {&quot;x&quot;: 2.1671120945539943, &quot;y&quot;: 1.3513362836619829, &quot;z&quot;: 2.7286397898800123}, {&quot;x&quot;: 2.093139671368951, &quot;y&quot;: 1.3745152035391859, &quot;z&quot;: 2.724204126326578}, {&quot;x&quot;: 2.030565923037092, &quot;y&quot;: 1.4064092008142721, &quot;z&quot;: 2.757312369819977}, {&quot;x&quot;: 1.9961574348913274, &quot;y&quot;: 1.4384723046739818, &quot;z&quot;: 2.8190931932533414}, {&quot;x&quot;: 1.999133933543091, &quot;y&quot;: 1.4621132323322703, &quot;z&quot;: 2.892992474879971}, {&quot;x&quot;: 2.0386978685823705, &quot;y&quot;: 1.4709974163147768, &quot;z&quot;: 2.95920896186677}, {&quot;x&quot;: 2.135680105059994, &quot;y&quot;: 1.407040315179981, &quot;z&quot;: 2.864319894940006}], &quot;faces&quot;: [[0, 1, 2], [0, 3, 1], [0, 4, 3], [0, 5, 4], [0, 6, 5], [0, 7, 6], [0, 8, 7], [0, 9, 8], [0, 10, 9], [0, 11, 10], [0, 12, 11], [0, 2, 12], [2, 1, 13], [1, 3, 13], [3, 4, 13], [4, 5, 13], [5, 6, 13], [6, 7, 13], [7, 8, 13], [8, 9, 13], [9, 10, 13], [10, 11, 13], [11, 12, 13], [12, 2, 13]], &quot;color&quot;: &quot;#ff0000&quot;, &quot;opacity&quot;: 1.0}, {&quot;vertices&quot;: [{&quot;x&quot;: 3.8200000000000003, &quot;y&quot;: 4.0, &quot;z&quot;: 2.0}, {&quot;x&quot;: 3.8200000000000003, &quot;y&quot;: 4.006180339887499, &quot;z&quot;: 1.980978869674097}, {&quot;x&quot;: 3.8200000000000003, &quot;y&quot;: 4.02, &quot;z&quot;: 2.0}, {&quot;x&quot;: 3.8200000000000003, &quot;y&quot;: 3.983819660112501, &quot;z&quot;: 1.9882442949541506}, {&quot;x&quot;: 3.8200000000000003, &quot;y&quot;: 3.983819660112501, &quot;z&quot;: 2.0117557050458497}, {&quot;x&quot;: 3.8200000000000003, &quot;y&quot;: 4.006180339887499, &quot;z&quot;: 2.019021130325903}, {&quot;x&quot;: 3.0, &quot;y&quot;: 4.006180339887499, &quot;z&quot;: 1.9809788696740969}, {&quot;x&quot;: 3.0, &quot;y&quot;: 4.02, &quot;z&quot;: 2.0}, {&quot;x&quot;: 3.0, &quot;y&quot;: 3.983819660112501, &quot;z&quot;: 1.9882442949541506}, {&quot;x&quot;: 3.0, &quot;y&quot;: 3.983819660112501, &quot;z&quot;: 2.0117557050458497}, {&quot;x&quot;: 3.0, &quot;y&quot;: 4.006180339887499, &quot;z&quot;: 2.019021130325903}, {&quot;x&quot;: 3.0, &quot;y&quot;: 4.0, &quot;z&quot;: 2.0}], &quot;faces&quot;: [[0, 1, 2], [0, 3, 1], [0, 4, 3], [0, 5, 4], [0, 2, 5], [2, 1, 6, 7], [1, 3, 8, 6], [3, 4, 9, 8], [4, 5, 10, 9], [5, 2, 7, 10], [7, 6, 11], [6, 8, 11], [8, 9, 11], [9, 10, 11], [10, 7, 11]], &quot;color&quot;: &quot;#0000ff&quot;, &quot;opacity&quot;: 1.0}, {&quot;vertices&quot;: [{&quot;x&quot;: 4.0, &quot;y&quot;: 4.0, &quot;z&quot;: 2.0}, {&quot;x&quot;: 3.8200000000000003, &quot;y&quot;: 4.018541019662496, &quot;z&quot;: 1.9429366090222908}, {&quot;x&quot;: 3.8200000000000003, &quot;y&quot;: 4.06, &quot;z&quot;: 2.0}, {&quot;x&quot;: 3.8200000000000003, &quot;y&quot;: 3.9514589803375033, &quot;z&quot;: 1.9647328848624517}, {&quot;x&quot;: 3.8200000000000003, &quot;y&quot;: 3.9514589803375033, &quot;z&quot;: 2.0352671151375485}, {&quot;x&quot;: 3.8200000000000003, &quot;y&quot;: 4.018541019662496, &quot;z&quot;: 2.057063390977709}, {&quot;x&quot;: 3.8200000000000003, &quot;y&quot;: 4.0, &quot;z&quot;: 2.0}], &quot;faces&quot;: [[0, 1, 2], [0, 3, 1], [0, 4, 3], [0, 5, 4], [0, 2, 5], [2, 1, 6], [1, 3, 6], [3, 4, 6], [4, 5, 6], [5, 2, 6]], &quot;color&quot;: &quot;#0000ff&quot;, &quot;opacity&quot;: 1.0}, {&quot;vertices&quot;: [{&quot;x&quot;: 3.0, &quot;y&quot;: 4.82, &quot;z&quot;: 2.0}, {&quot;x&quot;: 3.019021130325903, &quot;y&quot;: 4.82, &quot;z&quot;: 1.9938196601125011}, {&quot;x&quot;: 3.0, &quot;y&quot;: 4.82, &quot;z&quot;: 1.98}, {&quot;x&quot;: 3.0117557050458497, &quot;y&quot;: 4.82, &quot;z&quot;: 2.016180339887499}, {&quot;x&quot;: 2.9882442949541503, &quot;y&quot;: 4.82, &quot;z&quot;: 2.016180339887499}, {&quot;x&quot;: 2.980978869674097, &quot;y&quot;: 4.82, &quot;z&quot;: 1.9938196601125011}, {&quot;x&quot;: 3.019021130325903, &quot;y&quot;: 4.0, &quot;z&quot;: 1.9938196601125011}, {&quot;x&quot;: 3.0, &quot;y&quot;: 4.0, &quot;z&quot;: 1.98}, {&quot;x&quot;: 3.0117557050458497, &quot;y&quot;: 4.0, &quot;z&quot;: 2.016180339887499}, {&quot;x&quot;: 2.9882442949541503, &quot;y&quot;: 4.0, &quot;z&quot;: 2.016180339887499}, {&quot;x&quot;: 2.980978869674097, &quot;y&quot;: 4.0, &quot;z&quot;: 1.9938196601125011}, {&quot;x&quot;: 3.0, &quot;y&quot;: 4.0, &quot;z&quot;: 2.0}], &quot;faces&quot;: [[0, 1, 2], [0, 3, 1], [0, 4, 3], [0, 5, 4], [0, 2, 5], [2, 1, 6, 7], [1, 3, 8, 6], [3, 4, 9, 8], [4, 5, 10, 9], [5, 2, 7, 10], [7, 6, 11], [6, 8, 11], [8, 9, 11], [9, 10, 11], [10, 7, 11]], &quot;color&quot;: &quot;#0000ff&quot;, &quot;opacity&quot;: 1.0}, {&quot;vertices&quot;: [{&quot;x&quot;: 3.0, &quot;y&quot;: 5.0, &quot;z&quot;: 2.0}, {&quot;x&quot;: 3.057063390977709, &quot;y&quot;: 4.82, &quot;z&quot;: 1.9814589803375031}, {&quot;x&quot;: 3.0, &quot;y&quot;: 4.82, &quot;z&quot;: 1.94}, {&quot;x&quot;: 3.0352671151375485, &quot;y&quot;: 4.82, &quot;z&quot;: 2.0485410196624967}, {&quot;x&quot;: 2.9647328848624515, &quot;y&quot;: 4.82, &quot;z&quot;: 2.0485410196624967}, {&quot;x&quot;: 2.942936609022291, &quot;y&quot;: 4.82, &quot;z&quot;: 1.9814589803375031}, {&quot;x&quot;: 3.0, &quot;y&quot;: 4.82, &quot;z&quot;: 2.0}], &quot;faces&quot;: [[0, 1, 2], [0, 3, 1], [0, 4, 3], [0, 5, 4], [0, 2, 5], [2, 1, 6], [1, 3, 6], [3, 4, 6], [4, 5, 6], [5, 2, 6]], &quot;color&quot;: &quot;#0000ff&quot;, &quot;opacity&quot;: 1.0}, {&quot;vertices&quot;: [{&quot;x&quot;: 3.0, &quot;y&quot;: 4.0, &quot;z&quot;: 2.8200000000000003}, {&quot;x&quot;: 3.019021130325903, &quot;y&quot;: 4.006180339887499, &quot;z&quot;: 2.8200000000000003}, {&quot;x&quot;: 3.0, &quot;y&quot;: 4.02, &quot;z&quot;: 2.8200000000000003}, {&quot;x&quot;: 3.0117557050458497, &quot;y&quot;: 3.983819660112501, &quot;z&quot;: 2.8200000000000003}, {&quot;x&quot;: 2.9882442949541503, &quot;y&quot;: 3.983819660112501, &quot;z&quot;: 2.8200000000000003}, {&quot;x&quot;: 2.980978869674097, &quot;y&quot;: 4.006180339887499, &quot;z&quot;: 2.8200000000000003}, {&quot;x&quot;: 3.019021130325903, &quot;y&quot;: 4.006180339887499, &quot;z&quot;: 2.0}, {&quot;x&quot;: 3.0, &quot;y&quot;: 4.02, &quot;z&quot;: 2.0}, {&quot;x&quot;: 3.0117557050458497, &quot;y&quot;: 3.983819660112501, &quot;z&quot;: 2.0}, {&quot;x&quot;: 2.9882442949541503, &quot;y&quot;: 3.983819660112501, &quot;z&quot;: 2.0}, {&quot;x&quot;: 2.980978869674097, &quot;y&quot;: 4.006180339887499, &quot;z&quot;: 2.0}, {&quot;x&quot;: 3.0, &quot;y&quot;: 4.0, &quot;z&quot;: 2.0}], &quot;faces&quot;: [[0, 1, 2], [0, 3, 1], [0, 4, 3], [0, 5, 4], [0, 2, 5], [2, 1, 6, 7], [1, 3, 8, 6], [3, 4, 9, 8], [4, 5, 10, 9], [5, 2, 7, 10], [7, 6, 11], [6, 8, 11], [8, 9, 11], [9, 10, 11], [10, 7, 11]], &quot;color&quot;: &quot;#0000ff&quot;, &quot;opacity&quot;: 1.0}, {&quot;vertices&quot;: [{&quot;x&quot;: 3.0, &quot;y&quot;: 4.0, &quot;z&quot;: 3.0000000000000004}, {&quot;x&quot;: 3.057063390977709, &quot;y&quot;: 4.018541019662496, &quot;z&quot;: 2.8200000000000003}, {&quot;x&quot;: 3.0, &quot;y&quot;: 4.06, &quot;z&quot;: 2.8200000000000003}, {&quot;x&quot;: 3.0352671151375485, &quot;y&quot;: 3.9514589803375033, &quot;z&quot;: 2.8200000000000003}, {&quot;x&quot;: 2.9647328848624515, &quot;y&quot;: 3.9514589803375033, &quot;z&quot;: 2.8200000000000003}, {&quot;x&quot;: 2.942936609022291, &quot;y&quot;: 4.018541019662496, &quot;z&quot;: 2.8200000000000003}, {&quot;x&quot;: 3.0, &quot;y&quot;: 4.0, &quot;z&quot;: 2.8200000000000003}], &quot;faces&quot;: [[0, 1, 2], [0, 3, 1], [0, 4, 3], [0, 5, 4], [0, 2, 5], [2, 1, 6], [1, 3, 6], [3, 4, 6], [4, 5, 6], [5, 2, 6]], &quot;color&quot;: &quot;#0000ff&quot;, &quot;opacity&quot;: 1.0}];\n",
       "    for ( var i=0 ; i < surfaces.length ; i++ ) addSurface( surfaces[i] );\n",
       "\n",
       "    function addSurface( json ) {\n",
       "\n",
       "        var useFaceColors = 'faceColors' in json ? true : false;\n",
       "\n",
       "        var geometry = new THREE.Geometry();\n",
       "        for ( var i=0 ; i < json.vertices.length ; i++ ) {\n",
       "            var v = json.vertices[i];\n",
       "            geometry.vertices.push( new THREE.Vector3( a[0]*v.x, a[1]*v.y, a[2]*v.z ) );\n",
       "        }\n",
       "        for ( var i=0 ; i < json.faces.length ; i++ ) {\n",
       "            var f = json.faces[i];\n",
       "            for ( var j=0 ; j < f.length - 2 ; j++ ) {\n",
       "                var face = new THREE.Face3( f[0], f[j+1], f[j+2] );\n",
       "                if ( useFaceColors ) face.color.set( json.faceColors[i] );\n",
       "                geometry.faces.push( face );\n",
       "            }\n",
       "        }\n",
       "        geometry.computeVertexNormals();\n",
       "\n",
       "        var side = json.singleSide ? THREE.FrontSide : THREE.DoubleSide;\n",
       "        var transparent = json.opacity < 1 ? true : false;\n",
       "        var depthWrite = 'depthWrite' in json ? json.depthWrite : !transparent;\n",
       "        var flatShading = json.useFlatShading ? json.useFlatShading : false;\n",
       "\n",
       "        var material = new THREE.MeshPhongMaterial( { side: side,\n",
       "                                     color: useFaceColors ? 'white' : json.color,\n",
       "                                     vertexColors: useFaceColors ? THREE.FaceColors : THREE.NoColors,\n",
       "                                     transparent: transparent, opacity: json.opacity,\n",
       "                                     shininess: 20, flatShading: flatShading,\n",
       "                                     depthWrite: depthWrite } );\n",
       "\n",
       "        var c = new THREE.Vector3();\n",
       "        geometry.computeBoundingBox();\n",
       "        geometry.boundingBox.getCenter( c );\n",
       "        geometry.translate( -c.x, -c.y, -c.z );\n",
       "\n",
       "        var mesh = new THREE.Mesh( geometry, material );\n",
       "        mesh.position.set( c.x, c.y, c.z );\n",
       "        if ( transparent && json.renderOrder ) mesh.renderOrder = json.renderOrder;\n",
       "        mesh.userData = json;\n",
       "        scene.add( mesh );\n",
       "\n",
       "        if ( json.showMeshGrid ) addSurfaceMeshGrid( json );\n",
       "\n",
       "    }\n",
       "\n",
       "    function addSurfaceMeshGrid( json ) {\n",
       "\n",
       "        var geometry = new THREE.Geometry();\n",
       "\n",
       "        for ( var i=0 ; i < json.faces.length ; i++ ) {\n",
       "            var f = json.faces[i];\n",
       "            for ( var j=0 ; j < f.length ; j++ ) {\n",
       "                var k = j === f.length-1 ? 0 : j+1;\n",
       "                var v1 = json.vertices[f[j]];\n",
       "                var v2 = json.vertices[f[k]];\n",
       "                // vertices in opposite directions on neighboring faces\n",
       "                var nudge = f[j] < f[k] ? .0005*zRange : -.0005*zRange;\n",
       "                geometry.vertices.push( new THREE.Vector3( a[0]*v1.x, a[1]*v1.y, a[2]*(v1.z+nudge) ) );\n",
       "                geometry.vertices.push( new THREE.Vector3( a[0]*v2.x, a[1]*v2.y, a[2]*(v2.z+nudge) ) );\n",
       "            }\n",
       "        }\n",
       "\n",
       "        var c = new THREE.Vector3();\n",
       "        geometry.computeBoundingBox();\n",
       "        geometry.boundingBox.getCenter( c );\n",
       "        geometry.translate( -c.x, -c.y, -c.z );\n",
       "\n",
       "        var gridColor = options.theme === 'dark' ? 'white' : 'black';\n",
       "        var linewidth = json.linewidth || 1;\n",
       "        var materialOptions = { color: gridColor, linewidth: linewidth };\n",
       "\n",
       "        var mesh;\n",
       "        if ( linewidth > 1 && window.createFatLineSegments ) {\n",
       "            mesh = createFatLineSegments( geometry, materialOptions );\n",
       "        } else {\n",
       "            var material = new THREE.LineBasicMaterial( materialOptions );\n",
       "            mesh = new THREE.LineSegments( geometry, material );\n",
       "        }\n",
       "\n",
       "        mesh.position.set( c.x, c.y, c.z );\n",
       "        mesh.userData = json;\n",
       "        scene.add( mesh );\n",
       "\n",
       "    }\n",
       "\n",
       "    function render() {\n",
       "\n",
       "        if ( window.updateAnimation ) animate = updateAnimation();\n",
       "        if ( animate ) requestAnimationFrame( render );\n",
       "\n",
       "        renderer.render( scene, camera );\n",
       "\n",
       "    }\n",
       "\n",
       "    render();\n",
       "    controls.update();\n",
       "    if ( !animate ) render();\n",
       "\n",
       "\n",
       "    // menu functions\n",
       "\n",
       "    function toggleMenu() {\n",
       "\n",
       "        var m = document.getElementById( 'menu-content' );\n",
       "        if ( m.style.display === 'block' ) m.style.display = 'none'\n",
       "        else m.style.display = 'block';\n",
       "\n",
       "    }\n",
       "\n",
       "\n",
       "    function saveAsPNG() {\n",
       "\n",
       "        var a = document.body.appendChild( document.createElement( 'a' ) );\n",
       "        a.href = renderer.domElement.toDataURL( 'image/png' );\n",
       "        a.download = 'screenshot';\n",
       "        a.click();\n",
       "\n",
       "    }\n",
       "\n",
       "    function saveAsHTML() {\n",
       "\n",
       "        toggleMenu(); // otherwise visible in output\n",
       "        event.stopPropagation();\n",
       "\n",
       "        var blob = new Blob( [ '<!DOCTYPE html>\\n' + document.documentElement.outerHTML ] );\n",
       "        var a = document.body.appendChild( document.createElement( 'a' ) );\n",
       "        a.href = window.URL.createObjectURL( blob );\n",
       "        a.download = suggestFilename();\n",
       "        a.click();\n",
       "\n",
       "        function suggestFilename() {\n",
       "            if ( !document.title ) {\n",
       "                return 'graphic.html';\n",
       "            } else if ( /\\.html?$/i.test( document.title ) ) {\n",
       "                return document.title; // already ends in .htm or .html\n",
       "            } else {\n",
       "                return document.title + '.html';\n",
       "            }\n",
       "        }\n",
       "\n",
       "    }\n",
       "\n",
       "    function getViewpoint() {\n",
       "\n",
       "        function roundTo( x, n ) { return +x.toFixed(n); }\n",
       "\n",
       "        var v = camera.quaternion.inverse();\n",
       "        var r = Math.sqrt( v.x*v.x + v.y*v.y + v.z*v.z );\n",
       "        var axis = [ roundTo( v.x / r, 4 ), roundTo( v.y / r, 4 ), roundTo( v.z / r, 4 ) ];\n",
       "        var angle = roundTo( 2 * Math.atan2( r, v.w ) * 180 / Math.PI, 2 );\n",
       "\n",
       "        var textArea = document.createElement( 'textarea' );\n",
       "        textArea.textContent = JSON.stringify( axis ) + ',' + angle;\n",
       "        textArea.style.csstext = 'position: absolute; top: -100%';\n",
       "        document.body.append( textArea );\n",
       "        textArea.select();\n",
       "        document.execCommand( 'copy' );\n",
       "\n",
       "        var m = document.getElementById( 'menu-message' );\n",
       "        m.innerHTML = 'Viewpoint copied to clipboard';\n",
       "        m.style.display = 'block';\n",
       "        setTimeout( function() { m.style.display = 'none'; }, 2000 );\n",
       "\n",
       "    }\n",
       "\n",
       "    function getCamera() {\n",
       "\n",
       "        function roundTo( x, n ) { return +x.toFixed(n); }\n",
       "\n",
       "        var pos = camera.position;\n",
       "        var pos_r = [ roundTo( pos.x, 4 ), roundTo( pos.y, 4 ), roundTo( pos.z, 4 ) ];\n",
       "   //     var up = camera.up; // up is always (0,0,1)\n",
       "        var textArea = document.createElement('textarea');\n",
       "        var cam_position = JSON.stringify(pos_r);\n",
       "        textArea.textContent = ',camera_position=' + cam_position;\n",
       "        textArea.style.csstext = 'position: absolute; top: -100%';\n",
       "        document.body.append( textArea );\n",
       "        textArea.select();\n",
       "        document.execCommand( 'copy' );\n",
       "\n",
       "        var m = document.getElementById( 'menu-message' );\n",
       "        m.innerHTML = 'Camera position '+ cam_position+' copied to clipboard';\n",
       "        m.style.display = 'block';\n",
       "        setTimeout( function() { m.style.display = 'none'; }, 2000 );\n",
       "\n",
       "    }\n",
       "                                       \n",
       "</script>\n",
       "\n",
       "<div id=&quot;menu-container&quot; onclick=&quot;toggleMenu()&quot;>&#x24d8;\n",
       "<div id=&quot;menu-message&quot;></div>\n",
       "<div id=&quot;menu-content&quot;>\n",
       "<div onclick=&quot;saveAsPNG()&quot;>Save as PNG</div>\n",
       "<div onclick=&quot;saveAsHTML()&quot;>Save as HTML</div>\n",
       "<div onclick=&quot;getCamera()&quot;>Get camera</div>\n",
       "<div onclick=&quot;getViewpoint()&quot;>Get viewpoint</div>\n",
       "<div>Close Menu</div>\n",
       "</div></div>\n",
       "\n",
       "\n",
       "</body>\n",
       "</html>\n",
       "\"\n",
       "        width=\"100%\"\n",
       "        height=\"400\"\n",
       "        style=\"border: 0;\">\n",
       "</iframe>\n"
      ],
      "text/plain": [
       "Graphics3d Object"
      ]
     },
     "metadata": {},
     "output_type": "display_data"
    }
   ],
   "source": [
    "#define base vectors for plotting the Transformation at time t\n",
    "e1_x = 1\n",
    "e1_y = 0\n",
    "e1_z = 0\n",
    "e1=vector(e1_x *[1,0,0] + e1_y *[0,1,0] + e1_z*[0,0,1])\n",
    "e2_x = 0\n",
    "e2_y = 1\n",
    "e2_z = 0\n",
    "e2=vector(e2_x * [1,0,0] + e2_y *[0,1,0] + e2_z *[0,0,1])\n",
    "e3_x = 0\n",
    "e3_y = 0\n",
    "e3_z = 1\n",
    "e3=vector(e3_x *[1,0,0] + e3_y *[0,1,0] + e3_z*[0,0,1])\n",
    "\n",
    "e1Plot=plot(e1, legend_lable='Base Vector e1', color='blue', thickness=2)\n",
    "e2Plot=plot(e2, legend_lable='Base Vector e2', color='blue', thickness=2)\n",
    "e3Plot=plot(e3, legend_lable='Base Vector e3', color='blue', thickness=2)\n",
    "\n",
    "#the transformed base vectors\n",
    "e1_prime_x =  e1_x \n",
    "e1_prime_y = e1_y \n",
    "e1_prime_z =  e1_z \n",
    "e1_prime= vector(e1_prime_x *[1,0,0] + e1_prime_y *[0,1,0] + e1_prime_z*[0,0,1])\n",
    "#vector([e1_prime_x, e1_prime_y, e1_prime_z])\n",
    "e2_prime_x = e2_x \n",
    "e2_prime_y = e2_y \n",
    "e2_prime_z =  e2_z \n",
    "e2_prime= vector(e2_prime_x * [1,0,0] + e2_prime_y *[0,1,0] + e2_prime_z *[0,0,1])\n",
    "#vector([e2_prime_x, e2_prime_y, e2_prime_z])\n",
    "e3_prime_x = e3_x \n",
    "e3_prime_y = e3_y \n",
    "e3_prime_z = e3_z\n",
    "e3_prime= vector(e3_prime_x *[1,0,0] + e3_prime_y *[0,1,0] + e3_prime_z*[0,0,1])\n",
    "#vector([e3_prime_x, e3_prime_y, e3_prime_z])\n",
    "Vt = Inertial_Frame_Position_Vector(t= tick)\n",
    "\n",
    "e1PrimePlot=plot(e1_prime, start= Vt, color='blue', thickness=2)\n",
    "e2PrimePlot=plot(e2_prime, start= Vt, color='blue', thickness=2)\n",
    "e3PrimePlot=plot(e3_prime, start= Vt, color='blue', thickness=2)\n",
    "\n",
    "\n",
    "VtPlot=plot(Vt,  legend_label='Vector Vt', color='green', thickness=5)\n",
    "rPrimePlot=plot(r_primet,start=Vt, legend_label='Vector r prime', color=\"red\", thickness=5)\n",
    "rPlot=plot(rt, legend_label='Vector r ', color='yellow', thickness=5)\n",
    "AllPlot= e1Plot + e2Plot + e3Plot+ rPlot + VtPlot+ rPrimePlot + e1PrimePlot +e2PrimePlot + e3PrimePlot \n",
    "AllPlot.show()\n",
    "\n"
   ]
  },
  {
   "cell_type": "code",
   "execution_count": null,
   "id": "741e5397",
   "metadata": {},
   "outputs": [],
   "source": []
  },
  {
   "cell_type": "code",
   "execution_count": null,
   "id": "587925fe",
   "metadata": {},
   "outputs": [],
   "source": []
  },
  {
   "cell_type": "code",
   "execution_count": null,
   "id": "430684e9",
   "metadata": {},
   "outputs": [],
   "source": []
  }
 ],
 "metadata": {
  "kernelspec": {
   "display_name": "SageMath 9.7",
   "language": "sage",
   "name": "sagemath"
  },
  "language_info": {
   "codemirror_mode": {
    "name": "ipython",
    "version": 3
   },
   "file_extension": ".py",
   "mimetype": "text/x-python",
   "name": "python",
   "nbconvert_exporter": "python",
   "pygments_lexer": "ipython3",
   "version": "3.10.6"
  }
 },
 "nbformat": 4,
 "nbformat_minor": 5
}
