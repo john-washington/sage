{
 "cells": [
  {
   "cell_type": "markdown",
   "id": "49fbda47-7cfb-4a45-9af7-f6be1291f305",
   "metadata": {},
   "source": [
    "**1.8 The Tangent Line Approximation**\n",
    "\n",
    "Problems:\n",
    "\n",
    "What is a differentiable at a function point $(a, f(a)$?\n",
    "\n",
    "\n",
    "\n",
    "**My Own Thoughts regarding the Tangent Line Function**\n",
    "\n",
    "The linear nature of this approximation of a complicated function at a \n",
    "certain point [a, f(a)], with a tangent line function, feels\n",
    "very much a method of calculus.\n",
    "\n",
    "When we do integral, it's also about some approximation\n",
    "technique with the rectangular boxes.\n",
    "\n",
    "The math of taking limits\n",
    "\n",
    "Also the things it reminds me is that of\n",
    "the famouse Fourier Transform, which says any function can\n",
    "be represented with the fundemental function of sine and cosine.\n",
    "\n",
    "The idea of linear approximation, happens a lot in Mathematics.\n",
    "\n",
    "Like Coding Theory, linear code is fundemental, in computer science.\n",
    "\n",
    "Linear Algebra\n",
    "\n",
    "Geometric Algebra, with linear subspace.\n",
    "\n",
    "SpaceTime Algebra, Electromagnetism, i.e. Maxwell's equation\n",
    "\n",
    "Ultimate Goal:\n",
    "\n",
    "A Space Time Model from Keylontic Science, this is my unique research. This would be a published paper in scienticfic communities.\n",
    "\n",
    "**Preview Activity 1.8**\n",
    "\n",
    "Note: a line with slope $m$ that passes through $(x_0, y_0)$ has equation \n",
    "$y -y_0 = m(x - x_0)$\n",
    "\n",
    "a) Use the limit definition of the derivative to compute a formula for $y=g'(x)$"
   ]
  },
  {
   "cell_type": "code",
   "execution_count": 47,
   "id": "a524e355-e3e0-4ab5-a849-bc63e9a69de6",
   "metadata": {},
   "outputs": [
    {
     "data": {
      "text/html": [
       "<html>\\(\\displaystyle -2 \\, x + 3\\)</html>"
      ],
      "text/latex": [
       "$\\displaystyle -2 \\, x + 3$"
      ],
      "text/plain": [
       "-2*x + 3"
      ]
     },
     "metadata": {},
     "output_type": "display_data"
    },
    {
     "data": {
      "text/html": [
       "<html>\\(\\displaystyle x \\ {\\mapsto}\\ -2 \\, x + 3\\)</html>"
      ],
      "text/latex": [
       "$\\displaystyle x \\ {\\mapsto}\\ -2 \\, x + 3$"
      ],
      "text/plain": [
       "x |--> -2*x + 3"
      ]
     },
     "metadata": {},
     "output_type": "display_data"
    },
    {
     "data": {
      "text/html": [
       "<html>\\(\\displaystyle 4\\)</html>"
      ],
      "text/latex": [
       "$\\displaystyle 4$"
      ],
      "text/plain": [
       "4"
      ]
     },
     "metadata": {},
     "output_type": "display_data"
    },
    {
     "data": {
      "image/png": "[encoded data removed]",
      "text/plain": [
       "Graphics object consisting of 1 graphics primitive"
      ]
     },
     "metadata": {},
     "output_type": "display_data"
    }
   ],
   "source": [
    "var('x', 'h')\n",
    "g(x) = - x^2 + 3*x + 2\n",
    "g_prime(x) = lim((g(x+h) - g(x))/h, h=0)\n",
    "show(g_prime(x))\n",
    "show(g.diff(x))\n",
    "gplot=plot(g, (x, -10, 10))\n",
    "gplot.show()"
   ]
  },
  {
   "cell_type": "code",
   "execution_count": null,
   "id": "bc7c385d-0d42-4a06-a0be-6191f889b7f3",
   "metadata": {},
   "outputs": [],
   "source": []
  },
  {
   "cell_type": "markdown",
   "id": "3d5723eb-51e7-467a-aa5a-77099755a230",
   "metadata": {},
   "source": [
    "b) Determine the slope of the tangent line to $y=g(x)$ at the value $x=2$\n",
    "Answer: it is the factor of the linear function for the derivative of g as below,\n",
    "the factor is -2, so the slope of the tangent line is -2.\n",
    "\n",
    "Not sure, is it -1, or -2?"
   ]
  },
  {
   "cell_type": "code",
   "execution_count": 54,
   "id": "228a08ba-ad58-41ab-986b-0cefb68a528f",
   "metadata": {},
   "outputs": [
    {
     "data": {
      "text/html": [
       "<html>\\(\\displaystyle -2 \\, x + 3\\)</html>"
      ],
      "text/latex": [
       "$\\displaystyle -2 \\, x + 3$"
      ],
      "text/plain": [
       "-2*x + 3"
      ]
     },
     "metadata": {},
     "output_type": "display_data"
    },
    {
     "data": {
      "text/html": [
       "<html>\\(\\displaystyle -1\\)</html>"
      ],
      "text/latex": [
       "$\\displaystyle -1$"
      ],
      "text/plain": [
       "-1"
      ]
     },
     "metadata": {},
     "output_type": "display_data"
    }
   ],
   "source": [
    "g_prime(x) = g.diff(x)\n",
    "show(g_prime(x))\n",
    "show(g_prime(2))"
   ]
  },
  {
   "cell_type": "markdown",
   "id": "2b283c55-b6b1-4df5-8d89-2112cb3be50a",
   "metadata": {},
   "source": [
    "c) Computer $g(2)$"
   ]
  },
  {
   "cell_type": "code",
   "execution_count": 51,
   "id": "8ac4b32d-9820-4fe6-970c-57a14f3ff85a",
   "metadata": {},
   "outputs": [
    {
     "data": {
      "text/html": [
       "<html>\\(\\displaystyle 4\\)</html>"
      ],
      "text/latex": [
       "$\\displaystyle 4$"
      ],
      "text/plain": [
       "4"
      ]
     },
     "metadata": {},
     "output_type": "display_data"
    }
   ],
   "source": [
    "show(g(2))"
   ]
  },
  {
   "cell_type": "markdown",
   "id": "757c5aa2-a2a5-422a-aa1d-e3ef99235f52",
   "metadata": {},
   "source": [
    "d) Find an equation for the tangent line to $y=g(x)$ at the point $(2, g(2))$. Write your result in point-slope form."
   ]
  },
  {
   "cell_type": "code",
   "execution_count": 52,
   "id": "b10d169d-674e-4e44-8f79-46d627e435d3",
   "metadata": {},
   "outputs": [
    {
     "data": {
      "text/html": [
       "<html>\\(\\displaystyle -x + 6\\)</html>"
      ],
      "text/latex": [
       "$\\displaystyle -x + 6$"
      ],
      "text/plain": [
       "-x + 6"
      ]
     },
     "metadata": {},
     "output_type": "display_data"
    },
    {
     "data": {
      "image/png": "[encoded data removed]",
      "text/plain": [
       "Graphics object consisting of 2 graphics primitives"
      ]
     },
     "metadata": {},
     "output_type": "display_data"
    }
   ],
   "source": [
    "#the following uses the note above\n",
    "f(x) = g_prime(2)*(x -2) + g(2)\n",
    "show(f(x))\n",
    "fplot=plot(f, (x, -10, 10), color=\"orange\")\n",
    "(gplot+ fplot).show()"
   ]
  },
  {
   "cell_type": "code",
   "execution_count": null,
   "id": "8e053714-5c00-419c-8bb0-f8bd3d746df0",
   "metadata": {},
   "outputs": [],
   "source": []
  },
  {
   "cell_type": "code",
   "execution_count": null,
   "id": "5e1a6606-d70a-407e-a54f-d05d08eca786",
   "metadata": {},
   "outputs": [],
   "source": []
  },
  {
   "cell_type": "code",
   "execution_count": null,
   "id": "81c23cf9-57f8-4665-b567-a7f5f433d365",
   "metadata": {},
   "outputs": [],
   "source": []
  },
  {
   "cell_type": "markdown",
   "id": "8877a9d3-c2c8-4463-8d7d-64bc283dd1d7",
   "metadata": {},
   "source": [
    "**The local linearization**\n",
    "\n",
    "$L(x) =f'(a)(x-a) + f(a)$ is the local linearization of $f$ \n",
    "at the point $(a, f(a))$, which is nothing more than a new name for the \n",
    "tangent line formula, as $x$ approaching $a$, we have \n",
    "$f(x) \\approx L(x)$\n",
    "\n",
    "The next activity explores additional properties of lcoal linearization at a given $a$ value.\n",
    "\n",
    "**Activity 1.21**\n",
    "Suppose it is known that for a given differentiable function $y=g(x)$, its local linearization at the point where $a = -1$ is given by $L(x) = -2 + 3(x+1)$.\n",
    "\n",
    "a) Compute the values of $L(-1)$ and $L'(-1)$."
   ]
  },
  {
   "cell_type": "code",
   "execution_count": 35,
   "id": "a537923e-cee4-414c-8d7c-1b486b4c4e94",
   "metadata": {},
   "outputs": [
    {
     "data": {
      "text/html": [
       "<html>\\(\\displaystyle -2\\)</html>"
      ],
      "text/latex": [
       "$\\displaystyle -2$"
      ],
      "text/plain": [
       "-2"
      ]
     },
     "metadata": {},
     "output_type": "display_data"
    },
    {
     "data": {
      "text/html": [
       "<html>\\(\\displaystyle 3\\)</html>"
      ],
      "text/latex": [
       "$\\displaystyle 3$"
      ],
      "text/plain": [
       "3"
      ]
     },
     "metadata": {},
     "output_type": "display_data"
    }
   ],
   "source": [
    "L(x) = -2 + 3*(x+1)\n",
    "#manual result of L'(-1) = 3\n",
    "L_prime(x) = L.diff(x)\n",
    "a = -1\n",
    "show(L(-1))\n",
    "show(L_prime(-1))"
   ]
  },
  {
   "cell_type": "code",
   "execution_count": 37,
   "id": "b3c201ba-1bb7-4dae-b6bd-377c544f7b87",
   "metadata": {},
   "outputs": [
    {
     "data": {
      "image/png": "[encoded data removed]",
      "text/plain": [
       "Graphics object consisting of 2 graphics primitives"
      ]
     },
     "metadata": {},
     "output_type": "display_data"
    }
   ],
   "source": [
    "Lplot=plot(L, (x, -10, 10))\n",
    "Lprimeplot=plot(L_prime, (x, -10, 10), color=\"red\")\n",
    "(Lplot + Lprimeplot).show()\n",
    "#The answer to the c) is that it is unknown, because we don't know the shape of g(x), i.e.\n",
    "#it's convavity of the graph near the point of tangency: whether the tangent line lies avove\n",
    "#or below the curve itself"
   ]
  },
  {
   "cell_type": "markdown",
   "id": "d866424d-f96f-46f3-a65c-7b046e65a4f4",
   "metadata": {},
   "source": [
    "b) What must be the values of $g(-1)$ and $g'(-1)$ ? Why?"
   ]
  },
  {
   "cell_type": "markdown",
   "id": "65aa7965-537b-46ac-8b5f-d515213cc637",
   "metadata": {},
   "source": [
    "The answer is the same as a), meaning $g(-1) \\approx L(-1)$, as x approaches a, which is -2,\n",
    "and $g'(-1) \\approx L'(-1)$, as x approaches a, which is 3. Because L is the local linearization at the point $a=-1$."
   ]
  },
  {
   "cell_type": "markdown",
   "id": "15d00091-4c80-483c-8afb-514508672560",
   "metadata": {},
   "source": [
    "c) Do you expect the value of $g(-1.03)$ to be greater than or less than the value of $g(-1)$? Why?"
   ]
  },
  {
   "cell_type": "markdown",
   "id": "e05e6dfa-2d91-4c47-92fc-e0f8267fec2d",
   "metadata": {},
   "source": [
    "We expect the value of $g(-1.03) < g(-1)$, because the rate of change function of $g$, i.e. its derivative function is a positive constant, i.e. 3, which means the function value of $g(x)$ as x increases, is also increasing, just like it has a constant velocity, so the distance it travels must be going up. On the contrary, if the derivative function value at this point is negative, that would mean the function is decreasing at this point, or the object is moving backward."
   ]
  },
  {
   "cell_type": "markdown",
   "id": "15c7edd9-23c6-4258-b50d-77a42bf6109f",
   "metadata": {},
   "source": [
    "**Activity 1.22**\n",
    "\n",
    "1. $f$ is a differentiable function defined at every real number $x$\n",
    "2. $f(2) = -1$\n",
    "3. $y = f'(x)$ has its graph given in Fig 1.48\n",
    "\n",
    "\n",
    "a)Find a formula for the tangent line approximation, $L(x)$, to $f$ at the point $(2, -1)$."
   ]
  },
  {
   "cell_type": "markdown",
   "id": "270a0eed-244b-4ef3-adc4-35bd045402a1",
   "metadata": {},
   "source": [
    "The answer is that is the formula:\n",
    "$L(x) =f'(a)(x-a) + f(a)$ , where $a=2$. \n",
    "This the local linear approximation to $f(x)$, with x approach 2."
   ]
  },
  {
   "cell_type": "code",
   "execution_count": 3,
   "id": "abffe847-f93b-47d0-ba33-b6bc2049ef62",
   "metadata": {},
   "outputs": [
    {
     "data": {
      "text/html": [
       "<html>\\(\\displaystyle 2 \\, x - 5\\)</html>"
      ],
      "text/latex": [
       "$\\displaystyle 2 \\, x - 5$"
      ],
      "text/plain": [
       "2*x - 5"
      ]
     },
     "metadata": {},
     "output_type": "display_data"
    },
    {
     "data": {
      "image/png": "[encoded data removed]",
      "text/plain": [
       "Graphics object consisting of 1 graphics primitive"
      ]
     },
     "execution_count": 3,
     "metadata": {},
     "output_type": "execute_result"
    }
   ],
   "source": [
    "L(x) = 2*(x-2) -1\n",
    "show(L(x))\n",
    "plot(L, (x, -10, 10))"
   ]
  },
  {
   "cell_type": "markdown",
   "id": "f4b3c0cb-47a2-4a6a-9d74-cc6767eb70b4",
   "metadata": {},
   "source": [
    "b) Use the tangent line approaximation to estimate the value of $f(2.07)$. Show your work carefully and clearly.\n",
    "\n",
    "We first establish this fact:\n",
    "$f(2.07) > -1$\n",
    "\n",
    "Now we assume the tangent line stays the same at $x=2.07$, then the following holds:\n",
    "$L(x) =f'(a)(x-a) + f(a)$ , where $a=2.07$\n",
    "\n",
    "assume from the graph of $f'(x), f'(2.07) \\approx 1.9$\n"
   ]
  },
  {
   "cell_type": "code",
   "execution_count": 1,
   "id": "f2fe4672-ab41-4c41-b64c-5de7e6d88965",
   "metadata": {},
   "outputs": [
    {
     "data": {
      "text/html": [
       "<html>\\(\\displaystyle -0.990000000000000\\)</html>"
      ],
      "text/latex": [
       "$\\displaystyle -0.990000000000000$"
      ],
      "text/plain": [
       "-0.990000000000000"
      ]
     },
     "metadata": {},
     "output_type": "display_data"
    }
   ],
   "source": [
    "L(x) = 1.9*(x-2.07) -0.99\n",
    "\n",
    "#L(x) = f(x), as x approach 2.07\n",
    "#L'(x) = f'(x) as x approach 2.07\n",
    "\n",
    "show(L(2.07))\n",
    "\n",
    "#f(2.07)\n",
    "#f(2.07) = 2*(x-2) -1 - 1.9*(x-2.07) \n",
    "#x=2.07\n",
    "#show(2*(x-2) -1 - 1.9*(x-2.07))\n",
    "\n",
    "#f(x) = L(x)\n",
    "#f(2.07) = L(2.07)\n",
    "\n",
    "#L2(x) = 1.9*(x-2.07) -f(2.07)\n",
    "#var('z')\n",
    "#L2(x) = 1.9*(x-2.07) - z\n",
    "#trying to estimate z\n",
    "#f_prime(x) = 1.9\n",
    "\n",
    "#f(x) = 1.9*x -5\n",
    "\n",
    "#f(2.07) == L2(2.07)\n",
    "\n",
    "#1.9*2.07 - 5 = -z\n",
    "\n",
    "#z = 5 - 1.9*.07\n",
    "#show(z)\n",
    "#f.diff\n",
    "#L2(2.07) = z\n",
    "\n",
    "#L2(x) = 1.9*(x -2.07) - z\n",
    "\n",
    "#L2_prime(x)  = L2.diff(x)\n",
    "#show(L2_prime)   \n",
    "\n",
    "#L'(a) = f'(a)\n",
    "\n",
    "#f'(2.07) = 1.9\n",
    "\n",
    "#f(2) = -1\n",
    "#L(x) = 2*x - 5\n",
    "#L2(x) = 1.9*x - f(2.07)\n",
    "\n",
    "\n",
    "\n",
    "\n",
    "#f(2.07) = 1.9*(x -2.07) - L2(x)\n",
    "\n",
    "\n",
    "\n",
    "\n",
    "#L2(2.07) = f(2.07)\n",
    "\n",
    "#L2(2.07) = -f(2.07)\n",
    "\n",
    "\n",
    "#f(2.07) == -f(2.07)\n",
    "\n",
    "#show(L2(2.07))\n",
    "\n",
    "\n",
    "#fact: at x=2.07, f(2.07 = L2(2.07)\n",
    "#x=2.07\n",
    "#f(2.07) = 1.9*(2.07 -2.07) - f(2.07)\n",
    "\n",
    "\n",
    "#f(2.07) = lim(1.9*(x - 2.07) /2, x = 2.07)\n",
    "#show(lim(1.9*(x - 2.07) /2, x = 2.07))\n",
    "\n",
    "\n",
    "#show(L(x))\n",
    "#show(L2(x))\n",
    "\n",
    "#L(x) = 1.9*(x-2.07) + f(2.07)\n",
    "#f(2.07) = 2*(x-2) -1 - 1.9*(x-2.07) \n",
    "#x=2.07\n",
    "#show(2*(x-2) -1 - 1.9*(x-2.07))\n",
    "\n",
    "#f(x) = L(x)\n",
    "#f(2.07) = L(2.07)\n",
    "\n",
    "#L2(x) = 1.9*(x-2.07) -f(2.07)\n",
    "#var('z')\n",
    "#L2(x) = 1.9*(x-2.07) - z\n",
    "#trying to estimate z\n",
    "#f_prime(x) = 1.9\n",
    "\n",
    "#f(x) = 1.9*x -5\n",
    "\n",
    "#f(2.07) == L2(2.07)\n",
    "\n",
    "#1.9*2.07 - 5 = -z\n",
    "\n",
    "#z = 5 - 1.9*.07\n",
    "#show(z)\n",
    "#f.diff\n",
    "#L2(2.07) = z\n",
    "\n",
    "#L2(x) = 1.9*(x -2.07) - z\n",
    "\n",
    "#L2_prime(x)  = L2.diff(x)\n",
    "#show(L2_prime)   \n",
    "\n",
    "#L'(a) = f'(a)\n",
    "\n",
    "#f'(2.07) = 1.9\n",
    "\n",
    "#f(2) = -1\n",
    "#L(x) = 2*x - 5\n",
    "#L2(x) = 1.9*x - f(2.07)\n",
    "\n",
    "\n",
    "\n",
    "\n",
    "#f(2.07) = 1.9*(x -2.07) - L2(x)\n",
    "\n",
    "\n",
    "\n",
    "\n",
    "#L2(2.07) = f(2.07)\n",
    "\n",
    "#L2(2.07) = -f(2.07)\n",
    "\n",
    "#f(2.07) == -f(2.07)\n",
    "\n",
    "#show(L2(2.07))\n",
    "\n",
    "\n",
    "\n",
    "\n",
    "#show(L2(2.07))"
   ]
  },
  {
   "cell_type": "markdown",
   "id": "042eb9a3-88ac-4ac6-9eed-f9173a8ac335",
   "metadata": {},
   "source": [
    "**The local linearization**\n",
    "A slight change in perspective and notation will enable us to be more precise in discussing how the tangent lie to\n",
    "$y = f(x)$ at $(a, f(a))$ approximates $f$ near $x =a$. \n",
    "\n",
    "Taking the equation for the tangent line and solving for $y$, we observe that the tangent line is given by:\n",
    "\n",
    "$y =f'(a)(x -a) + f(a)$\n",
    "\n",
    "and moreover that this line is itself a function of $x$. Replacing the variable $y$ with the expression $L(x)$, we call\n",
    "\n",
    "$L(x) = f'(a)(x -a) + f(a) $\n",
    "\n",
    "the local linearization of $f$ at the point $(a, f(a))$. In this notation, it is particularly important to observe that $L(x)$ is nothing more than a new name for the tangent line, and that for $x$ close to $a$, we have that $f(x) \\approx L(x)$, or we could write:\n",
    "\n",
    "$f(x) \\approx f(a) + f'(a)(x -a )$ for $x$ near $a$.\n",
    "\n",
    "**Activity 1.21**\n",
    "Suppose it is known that for a given differentiable function $y = g(x)$, its local linearization at the point where $a = -1$ is given by $L(x) = -2 + 3(x+1)$\n",
    "\n",
    "a)Compute the values of $L(-1)$ and $L'(-1)"
   ]
  },
  {
   "cell_type": "code",
   "execution_count": 3,
   "id": "8e4c0d86-d133-4d0f-b8d6-bba3311ceed4",
   "metadata": {},
   "outputs": [
    {
     "data": {
      "text/html": [
       "<html>\\(\\displaystyle -2\\)</html>"
      ],
      "text/latex": [
       "$\\displaystyle -2$"
      ],
      "text/plain": [
       "-2"
      ]
     },
     "metadata": {},
     "output_type": "display_data"
    }
   ],
   "source": [
    "L(x) = -2 + 3*(x +1)\n",
    "show(L(-1))\n",
    "#show("
   ]
  },
  {
   "cell_type": "code",
   "execution_count": 4,
   "id": "21e67361-3785-4f80-a3d6-36c1f5ea1ba4",
   "metadata": {},
   "outputs": [
    {
     "data": {
      "text/html": [
       "<html>\\(\\displaystyle 0\\)</html>"
      ],
      "text/latex": [
       "$\\displaystyle 0$"
      ],
      "text/plain": [
       "0"
      ]
     },
     "metadata": {},
     "output_type": "display_data"
    }
   ],
   "source": [
    "show(L(-1).diff(x))"
   ]
  },
  {
   "cell_type": "markdown",
   "id": "f654aa8a-0fcd-44cd-a079-8a0b0a2da650",
   "metadata": {},
   "source": [
    "b) What must be the values of $g(-1)$ and $g'(-1)$? Why?"
   ]
  },
  {
   "cell_type": "markdown",
   "id": "e59567ac-abfc-493d-99ce-bdc5f7b26d2b",
   "metadata": {},
   "source": [
    "We take $g(-1) \\approx L(-1)$, hense it is -2. \n",
    "Since $g(-1) = -2$, a constant, $g'(-1)$ must also be 0."
   ]
  },
  {
   "cell_type": "markdown",
   "id": "b273c608-6f8c-44e3-a4a3-f8e9212aef7b",
   "metadata": {},
   "source": [
    "c) Do you expect the value of $g(=-1.03)$ to be greater or less than the value of $g(-1)$, Why?"
   ]
  },
  {
   "cell_type": "markdown",
   "id": "614c39d4-aaff-455d-ab11-7b773c38cb76",
   "metadata": {},
   "source": [
    "If the instantaneous rate of change at $x =-1$ is 0, for value cloe to -1, its function value also close to -2, but sine the slope of L(x) is a positive number, which means the line is moving up, the value before $x=-1$, would have resulted in a function value of something less than -2."
   ]
  },
  {
   "cell_type": "markdown",
   "id": "f2a41713-5dc6-4b92-a426-65985d4c28b9",
   "metadata": {},
   "source": [
    "d) Use the local linearization to estimate the value of $g(-1.03)$"
   ]
  },
  {
   "cell_type": "markdown",
   "id": "71b4a8a7-b02a-4fbe-8dd4-a7fabbcbfea9",
   "metadata": {},
   "source": [
    "We use the formula for local linearization:\n",
    "$L(x) = f'(a)(x-1) + f(a)$, for $a=-1.03$"
   ]
  },
  {
   "cell_type": "code",
   "execution_count": 8,
   "id": "dc216bcc-5d0e-4a5d-ac04-0bbc805b0439",
   "metadata": {},
   "outputs": [
    {
     "data": {
      "text/html": [
       "<html>\\(\\displaystyle -2.09000000000000\\)</html>"
      ],
      "text/latex": [
       "$\\displaystyle -2.09000000000000$"
      ],
      "text/plain": [
       "-2.09000000000000"
      ]
     },
     "metadata": {},
     "output_type": "display_data"
    },
    {
     "data": {
      "text/html": [
       "<html>\\(\\displaystyle \\left[g_{103} = \\left(-\\frac{209}{100}\\right)\\right]\\)</html>"
      ],
      "text/latex": [
       "$\\displaystyle \\left[g_{103} = \\left(-\\frac{209}{100}\\right)\\right]$"
      ],
      "text/plain": [
       "[g_103 == (-209/100)]"
      ]
     },
     "metadata": {},
     "output_type": "display_data"
    }
   ],
   "source": [
    "show(L(-1.03))\n",
    "var('g_103')\n",
    "#assuming the slope is the same at 1.03, which is 3\n",
    "show(solve([L(x) == 3*( x + 1.03) + g_103], g_103))"
   ]
  },
  {
   "cell_type": "markdown",
   "id": "dfb019c3-5a75-4af8-829c-d40e98955844",
   "metadata": {},
   "source": [
    "e) Suppose that you also know that $g''(-1) =2$. What does this tell you about the graph of $y = g(x)$ at $a = -1$?"
   ]
  },
  {
   "cell_type": "markdown",
   "id": "1c76d39f-ffce-4ec1-a892-91560c93cf6e",
   "metadata": {},
   "source": [
    "This means the acceleration is 2, this says something about the graph of  $y = g(x)$ at $a = -1$ must be curving up."
   ]
  },
  {
   "cell_type": "markdown",
   "id": "07fd269c-7eb9-49cf-9bc9-e7d165610fdb",
   "metadata": {},
   "source": [
    "f) For $x$ near $-1$, sketch the graph of the local linearization $y=L(x)$ as well as a possible graph of $y=g(x)$ on the aexes provided in Fig 1.46"
   ]
  },
  {
   "cell_type": "code",
   "execution_count": 13,
   "id": "63930243-ea27-469d-ba07-3f5be5a328c9",
   "metadata": {},
   "outputs": [
    {
     "data": {
      "image/png": "[encoded data removed]",
      "text/plain": [
       "Graphics object consisting of 1 graphics primitive"
      ]
     },
     "execution_count": 13,
     "metadata": {},
     "output_type": "execute_result"
    }
   ],
   "source": [
    "f(x) = -2*x^2\n",
    "plot(f, (x, -2, 1))"
   ]
  },
  {
   "cell_type": "markdown",
   "id": "5c7af349-023a-448f-ad6f-d7668974d0a6",
   "metadata": {},
   "source": [
    "As we saw in the example provided by Activity 1.21, the local linearization $y=L(x)$ is a linear function that shares two importnat values with the function y=f(x) that it is derived from. In particular, observe that since $L(x0 = f(a) + f'(a)(x-a)$, it follows that $L(a) = f(a)$. In addition, since $L$ is a linear function, its derivative is its slope. Hence, $L'(x) = f'(a)$ for every value of $x$, and specifically $L'(a) = f'(a)$. Therefore, we see that $L$ is a linear functin that has both the same value and the same slope as the function $f$ at the point $(a, f(a))$.\n",
    "\n",
    "In situations where we know the linear approximation $y=L(x)$, we therefore know the original function's value and slope at the point of tangency. What remains unknown, however, is the shape of the function $f$ at the point of tangency. There are essentially four possibilities, as below:"
   ]
  },
  {
   "cell_type": "code",
   "execution_count": null,
   "id": "6eb42345-7cff-42ac-9c82-2fda10a40e5c",
   "metadata": {},
   "outputs": [],
   "source": [
    "#space to plot the examples"
   ]
  },
  {
   "cell_type": "markdown",
   "id": "ccb4b318-338b-4eb3-a127-72bf696eb637",
   "metadata": {},
   "source": [
    "These stem from the fact that there are three options for the value of the second derivative: either $f''(a) < 0, f''(a) =0, f''(a)>0$. If $f''(a) > 0$, the we know the graph of $f$ is concave up, and we see the first possibility on the life, where the tangent line lies entirely below the curve. If $f''(a) < 0$, then we find ourselves in the second situation(from left) where $f$ is concave down and the tangent line lies above the curve. In the situation where $f''(a) =0$, and $f''$ changes sign at $x=1$, the concavity of the graph will change, and we will see either the third or fourth option. A fifth option(that is not very interesting) can occur, which is where the function $f$ is linear, and so $f(x) = L(x)$ for all values of $x$.\n",
    "\n",
    "The plots in Figure 1.47 highlight yet another important thing that we can learn from the convavity of the graph near the point of tangency: whether the tangent line lies agove or below the curve itself. This is key because it tells us whether or not the tangent line approximation's values will be too large or too small in comparison to the true value of $f$. For instance, in the first situation in the leftmost polot in Fig 1.47 where $f''(a) > 0$, since the tangent line falls below the curve, we know that $L(x) \\leq f(x)$ for all values of $x$ near $a$."
   ]
  },
  {
   "cell_type": "markdown",
   "id": "f04c8cc4-9344-4219-a71b-b853a9bfaa6a",
   "metadata": {},
   "source": [
    "**Acitivity 1.22**\n",
    "* $f$ is differentiable function deifned at every real number $x$\n",
    "* $f(2) = -1$\n",
    "* $y = f'(x)$ has its graph given in Fig 1.48"
   ]
  },
  {
   "cell_type": "code",
   "execution_count": null,
   "id": "78e47d33-4f29-484f-b456-7971f80d5a9a",
   "metadata": {},
   "outputs": [],
   "source": []
  },
  {
   "cell_type": "markdown",
   "id": "acbae343-7ee2-4537-af77-c66724b35189",
   "metadata": {},
   "source": [
    "a) Find a formula for the tangent line approximation, $L(x)$, to $f$ at the point $(2, -1)$."
   ]
  },
  {
   "cell_type": "markdown",
   "id": "a2084a35-e005-4b90-9f25-93699851704c",
   "metadata": {},
   "source": [
    "$L(x) = f'(2)(x-2) -1$\n",
    "\n",
    "from observing the grap of $f'(x)$, $f'(2) = 2$\n",
    "\n",
    "so, we have\n",
    "$L(x) = 2 (x-2) -1$"
   ]
  },
  {
   "cell_type": "markdown",
   "id": "8d896507-e8d1-4ca3-8297-3a45f9f29025",
   "metadata": {},
   "source": [
    "b) Use the tangent line approximation to estimate the value of $f(2.07)$. show your work carefully and clearly."
   ]
  },
  {
   "cell_type": "code",
   "execution_count": 62,
   "id": "7ff9d80d-6d07-434c-b00b-e1307e09645b",
   "metadata": {},
   "outputs": [],
   "source": [
    "L(x) = 2*(x-2) -1"
   ]
  },
  {
   "cell_type": "markdown",
   "id": "9c405763-ad58-482c-92f2-243a92899cbf",
   "metadata": {},
   "source": [
    "since $L(x) \\approx f(x)$ at $x=1$\n",
    "\n",
    "$f(a) \\approx L(a)$, so"
   ]
  },
  {
   "cell_type": "code",
   "execution_count": 63,
   "id": "1982e370-a43d-4175-b01d-3d50a9397c90",
   "metadata": {},
   "outputs": [
    {
     "data": {
      "text/html": [
       "<html>\\(\\displaystyle 2 \\, x - 5\\)</html>"
      ],
      "text/latex": [
       "$\\displaystyle 2 \\, x - 5$"
      ],
      "text/plain": [
       "2*x - 5"
      ]
     },
     "metadata": {},
     "output_type": "display_data"
    },
    {
     "data": {
      "text/html": [
       "<html>\\(\\displaystyle -1\\)</html>"
      ],
      "text/latex": [
       "$\\displaystyle -1$"
      ],
      "text/plain": [
       "-1"
      ]
     },
     "metadata": {},
     "output_type": "display_data"
    },
    {
     "data": {
      "text/html": [
       "<html>\\(\\displaystyle -0.980000000000000\\)</html>"
      ],
      "text/latex": [
       "$\\displaystyle -0.980000000000000$"
      ],
      "text/plain": [
       "-0.980000000000000"
      ]
     },
     "metadata": {},
     "output_type": "display_data"
    },
    {
     "data": {
      "text/html": [
       "<html>\\(\\displaystyle -0.960000000000000\\)</html>"
      ],
      "text/latex": [
       "$\\displaystyle -0.960000000000000$"
      ],
      "text/plain": [
       "-0.960000000000000"
      ]
     },
     "metadata": {},
     "output_type": "display_data"
    },
    {
     "data": {
      "text/html": [
       "<html>\\(\\displaystyle -0.940000000000000\\)</html>"
      ],
      "text/latex": [
       "$\\displaystyle -0.940000000000000$"
      ],
      "text/plain": [
       "-0.940000000000000"
      ]
     },
     "metadata": {},
     "output_type": "display_data"
    },
    {
     "data": {
      "text/html": [
       "<html>\\(\\displaystyle -0.920000000000000\\)</html>"
      ],
      "text/latex": [
       "$\\displaystyle -0.920000000000000$"
      ],
      "text/plain": [
       "-0.920000000000000"
      ]
     },
     "metadata": {},
     "output_type": "display_data"
    },
    {
     "data": {
      "text/html": [
       "<html>\\(\\displaystyle -0.900000000000000\\)</html>"
      ],
      "text/latex": [
       "$\\displaystyle -0.900000000000000$"
      ],
      "text/plain": [
       "-0.900000000000000"
      ]
     },
     "metadata": {},
     "output_type": "display_data"
    },
    {
     "data": {
      "text/html": [
       "<html>\\(\\displaystyle -0.880000000000000\\)</html>"
      ],
      "text/latex": [
       "$\\displaystyle -0.880000000000000$"
      ],
      "text/plain": [
       "-0.880000000000000"
      ]
     },
     "metadata": {},
     "output_type": "display_data"
    },
    {
     "data": {
      "text/html": [
       "<html>\\(\\displaystyle -0.860000000000000\\)</html>"
      ],
      "text/latex": [
       "$\\displaystyle -0.860000000000000$"
      ],
      "text/plain": [
       "-0.860000000000000"
      ]
     },
     "metadata": {},
     "output_type": "display_data"
    }
   ],
   "source": [
    "show(L(x))\n",
    "show(L(2))\n",
    "#L(x) = 2*(x-2) -1\n",
    "\n",
    "\n",
    "show(L(2.01))\n",
    "show(L(2.02))\n",
    "show(L(2.03))\n",
    "show(L(2.04))\n",
    "show(L(2.05))\n",
    "show(L(2.06))\n",
    "show(L(2.07))\n",
    "\n",
    "#f_207 = L(2.07)\n",
    "#show('f(2.07)=', L(2.07))"
   ]
  },
  {
   "cell_type": "markdown",
   "id": "014cfd35-3fde-426f-8d2a-25238394e0ff",
   "metadata": {},
   "source": [
    "c)Sketch a graph of $y=f''(x)$ "
   ]
  },
  {
   "cell_type": "code",
   "execution_count": 37,
   "id": "4a50fe59-3adc-455e-8188-8e43129784ea",
   "metadata": {},
   "outputs": [
    {
     "data": {
      "text/plain": [
       "[[a == (1/2), b == 0, c == 2]]"
      ]
     },
     "execution_count": 37,
     "metadata": {},
     "output_type": "execute_result"
    }
   ],
   "source": [
    "#f_prime(x) = -(x-2)^2 +b\n",
    "\n",
    "#plot(f_prime, (x, -3, 5))\n",
    "var('a', 'b', 'c')\n",
    "solve([[-a*(0-2)^2+b*0 + c == 0], [-a*(2-2)^2 + b*2+c ==2], [-a*(4-2)^2 + b*4 +c ==0]], a, b,c)"
   ]
  },
  {
   "cell_type": "code",
   "execution_count": 45,
   "id": "c4467005-42e5-40b8-a7b4-9569cad5bc31",
   "metadata": {},
   "outputs": [
    {
     "data": {
      "text/html": [
       "<html>\\(\\displaystyle x \\ {\\mapsto}\\ -\\frac{1}{2} \\, {\\left(x - 2\\right)}^{2} + 2\\)</html>"
      ],
      "text/latex": [
       "$\\displaystyle x \\ {\\mapsto}\\ -\\frac{1}{2} \\, {\\left(x - 2\\right)}^{2} + 2$"
      ],
      "text/plain": [
       "x |--> -1/2*(x - 2)^2 + 2"
      ]
     },
     "metadata": {},
     "output_type": "display_data"
    },
    {
     "data": {
      "text/html": [
       "<html>\\(\\displaystyle 0\\)</html>"
      ],
      "text/latex": [
       "$\\displaystyle 0$"
      ],
      "text/plain": [
       "0"
      ]
     },
     "metadata": {},
     "output_type": "display_data"
    },
    {
     "data": {
      "text/html": [
       "<html>\\(\\displaystyle 2\\)</html>"
      ],
      "text/latex": [
       "$\\displaystyle 2$"
      ],
      "text/plain": [
       "2"
      ]
     },
     "metadata": {},
     "output_type": "display_data"
    },
    {
     "data": {
      "text/html": [
       "<html>\\(\\displaystyle 0\\)</html>"
      ],
      "text/latex": [
       "$\\displaystyle 0$"
      ],
      "text/plain": [
       "0"
      ]
     },
     "metadata": {},
     "output_type": "display_data"
    },
    {
     "data": {
      "image/png": "[encoded data removed]",
      "text/plain": [
       "Graphics object consisting of 2 graphics primitives"
      ]
     },
     "metadata": {},
     "output_type": "display_data"
    }
   ],
   "source": [
    "f_prime(x) = -(1/2)*(x-2)^2 +2\n",
    "show(f_prime)\n",
    "show(f_prime(0))\n",
    "show(f_prime(2))\n",
    "show(f_prime(4))\n",
    "fplot = plot(f_prime, (x, -2, 6))\n",
    "f_double_prime(x) = f_prime.diff(x)\n",
    "fd_plot = plot(f_double_prime, (x, -2, 6), color =\"red\")\n",
    "(fplot+fd_plot).show()"
   ]
  },
  {
   "cell_type": "markdown",
   "id": "fdd5c0b3-964b-428c-a957-dd722a0c2fcc",
   "metadata": {},
   "source": [
    "d)Is the slope of the tangent line to $y = f(x)$ increasing, decreasing, or neither when $x=2$? Explain."
   ]
  },
  {
   "cell_type": "markdown",
   "id": "caf8c0c2-82be-47ae-9966-b78178efe722",
   "metadata": {},
   "source": [
    "It's that at $x=2$, the slope of the tangent line is at the top of the bell shape, which means its instantaneous rate of change is 0."
   ]
  },
  {
   "cell_type": "markdown",
   "id": "905e3020-bf96-44ae-a9c9-e64065e8cff7",
   "metadata": {},
   "source": [
    "e) Sketech a possible graph of $y=f(x)$ near $x =2$, including a graph of L(x), and explain."
   ]
  },
  {
   "cell_type": "code",
   "execution_count": 48,
   "id": "9069d076-a0b0-478e-b671-b32965be7067",
   "metadata": {},
   "outputs": [
    {
     "data": {
      "text/html": [
       "<html>\\(\\displaystyle 7\\)</html>"
      ],
      "text/latex": [
       "$\\displaystyle 7$"
      ],
      "text/plain": [
       "7"
      ]
     },
     "metadata": {},
     "output_type": "display_data"
    },
    {
     "data": {
      "text/html": [
       "<html>\\(\\displaystyle x \\ {\\mapsto}\\ -\\frac{1}{2} \\, {\\left(x - 2\\right)}^{2} + 2\\)</html>"
      ],
      "text/latex": [
       "$\\displaystyle x \\ {\\mapsto}\\ -\\frac{1}{2} \\, {\\left(x - 2\\right)}^{2} + 2$"
      ],
      "text/plain": [
       "x |--> -1/2*(x - 2)^2 + 2"
      ]
     },
     "metadata": {},
     "output_type": "display_data"
    }
   ],
   "source": [
    "show(L(2))\n",
    "show(f_prime)\n",
    "#plot(L, (x, -2, 3))\n",
    "#L(x) = 2*(x-2) -1\n"
   ]
  },
  {
   "cell_type": "markdown",
   "id": "6ebac508-9a69-48f2-834c-82201446e29b",
   "metadata": {},
   "source": [
    "looking at $f'(x)$ above, we reconstruct the $f(x)$ as follows:"
   ]
  },
  {
   "cell_type": "code",
   "execution_count": 57,
   "id": "f55da75a-cacf-4155-bb00-886ffa7cd760",
   "metadata": {},
   "outputs": [
    {
     "data": {
      "text/html": [
       "<html>\\(\\displaystyle x \\ {\\mapsto}\\ -\\frac{1}{2} \\, {\\left(x - 2\\right)}^{2} + 2\\)</html>"
      ],
      "text/latex": [
       "$\\displaystyle x \\ {\\mapsto}\\ -\\frac{1}{2} \\, {\\left(x - 2\\right)}^{2} + 2$"
      ],
      "text/plain": [
       "x |--> -1/2*(x - 2)^2 + 2"
      ]
     },
     "metadata": {},
     "output_type": "display_data"
    }
   ],
   "source": [
    "f(x) = -(1/3)*(1/2)*(x-2)^3 + 2*x -5\n",
    "show(f.diff(x))"
   ]
  },
  {
   "cell_type": "markdown",
   "id": "9b0540d7-c9a1-4937-a5b8-8004786a40e9",
   "metadata": {},
   "source": [
    "looking good, so f(x) is:"
   ]
  },
  {
   "cell_type": "code",
   "execution_count": 58,
   "id": "21b9f06f-755b-4df1-bd03-d431901ccc7c",
   "metadata": {},
   "outputs": [
    {
     "data": {
      "text/html": [
       "<html>\\(\\displaystyle -\\frac{1}{6} \\, {\\left(x - 2\\right)}^{3} + 2 \\, x - 5\\)</html>"
      ],
      "text/latex": [
       "$\\displaystyle -\\frac{1}{6} \\, {\\left(x - 2\\right)}^{3} + 2 \\, x - 5$"
      ],
      "text/plain": [
       "-1/6*(x - 2)^3 + 2*x - 5"
      ]
     },
     "metadata": {},
     "output_type": "display_data"
    },
    {
     "data": {
      "text/html": [
       "<html>\\(\\displaystyle -1\\)</html>"
      ],
      "text/latex": [
       "$\\displaystyle -1$"
      ],
      "text/plain": [
       "-1"
      ]
     },
     "metadata": {},
     "output_type": "display_data"
    },
    {
     "data": {
      "text/html": [
       "<html>\\(\\displaystyle -0.860057166666667\\)</html>"
      ],
      "text/latex": [
       "$\\displaystyle -0.860057166666667$"
      ],
      "text/plain": [
       "-0.860057166666667"
      ]
     },
     "metadata": {},
     "output_type": "display_data"
    }
   ],
   "source": [
    "show(f(x))\n",
    "show(f(2))\n",
    "show(f(2.07))"
   ]
  },
  {
   "cell_type": "markdown",
   "id": "aafafe21-5316-4d6c-8867-9c94cc193436",
   "metadata": {},
   "source": [
    "Now we are ready to plot"
   ]
  },
  {
   "cell_type": "code",
   "execution_count": 54,
   "id": "77ba6ea8-a201-4023-8242-d2ec9938f40b",
   "metadata": {},
   "outputs": [
    {
     "data": {
      "image/png": "[encoded data removed]",
      "text/plain": [
       "Graphics object consisting of 2 graphics primitives"
      ]
     },
     "metadata": {},
     "output_type": "display_data"
    }
   ],
   "source": [
    "fplot=plot(f, (x, -3, 3))\n",
    "lplot=plot(L, (x, -3, 3), color=\"red\")\n",
    "(fplot+lplot).show()"
   ]
  },
  {
   "cell_type": "markdown",
   "id": "d81b7b61-9fff-4c4e-95e1-a3c4ba98fdbf",
   "metadata": {},
   "source": [
    "f)"
   ]
  },
  {
   "cell_type": "markdown",
   "id": "50862be8-d15d-42c9-bf98-3f3095b31c08",
   "metadata": {},
   "source": [
    "−0.860000000000000(estimate) vs. −0.860057166666667(true value)"
   ]
  },
  {
   "cell_type": "markdown",
   "id": "27ef106f-902f-4ae7-b71d-ef5c0ce908c2",
   "metadata": {},
   "source": [
    "The idea that a differentiable function looks linear and can be well-approximated by a linear function is an important one that finds wide application in calculus. For example, developing an effective algorithm to estimate the zeroes of a function. Local linearity also helps us to make further sense of certain chanllenging limits. For instance, we have seen that a limit such as \n",
    "$$\\lim_{x \\rightarrow 0} \\frac{sin(x)}{x}$$\n",
    "is indeterminate because both its numerator and denominatro tend to 0. While there is no algebra that we can do to simplify $\\frac{sin(x)}{x}$, it is straightforward to show that the linearization of $f(x) = sin(x)$ at the point $(0.0)$ is given by $L(x) = x$. Hence, for values o x near 0, $sin(x) \\approx x$. "
   ]
  },
  {
   "cell_type": "code",
   "execution_count": 70,
   "id": "46c54648-2eeb-4152-ab78-8125ac5a2752",
   "metadata": {},
   "outputs": [
    {
     "data": {
      "image/png": "[encoded data removed]",
      "text/plain": [
       "Graphics object consisting of 2 graphics primitives"
      ]
     },
     "execution_count": 70,
     "metadata": {},
     "output_type": "execute_result"
    }
   ],
   "source": [
    "plot(sin(x), (x, -pi, pi))+plot(x, (x, -pi, pi), color=\"red\")"
   ]
  },
  {
   "cell_type": "code",
   "execution_count": 69,
   "id": "f8201faf-1d1a-4c76-920c-ea75c9470d65",
   "metadata": {},
   "outputs": [
    {
     "data": {
      "text/html": [
       "<html>\\(\\displaystyle 0\\)</html>"
      ],
      "text/latex": [
       "$\\displaystyle 0$"
      ],
      "text/plain": [
       "0"
      ]
     },
     "metadata": {},
     "output_type": "display_data"
    },
    {
     "data": {
      "text/html": [
       "<html>\\(\\displaystyle x \\ {\\mapsto}\\ \\cos\\left(x\\right)\\)</html>"
      ],
      "text/latex": [
       "$\\displaystyle x \\ {\\mapsto}\\ \\cos\\left(x\\right)$"
      ],
      "text/plain": [
       "x |--> cos(x)"
      ]
     },
     "metadata": {},
     "output_type": "display_data"
    },
    {
     "data": {
      "text/html": [
       "<html>\\(\\displaystyle 1\\)</html>"
      ],
      "text/latex": [
       "$\\displaystyle 1$"
      ],
      "text/plain": [
       "1"
      ]
     },
     "metadata": {},
     "output_type": "display_data"
    },
    {
     "data": {
      "text/html": [
       "<html>\\(\\displaystyle x\\)</html>"
      ],
      "text/latex": [
       "$\\displaystyle x$"
      ],
      "text/plain": [
       "x"
      ]
     },
     "metadata": {},
     "output_type": "display_data"
    }
   ],
   "source": [
    "f(x) = sin(x)\n",
    "show(f(0))\n",
    "show(f.diff(x))\n",
    "show(cos(0))\n",
    "#$L(x) = f'(a)(x -a) + f(a) #a = 0\n",
    "\n",
    "L(x) = 1*x + 0\n",
    "show(L(x))"
   ]
  },
  {
   "cell_type": "markdown",
   "id": "3bae6b73-ba42-4bcc-8e81-7ff3e799dd90",
   "metadata": {},
   "source": [
    "Hence, for values of x near 0, $sin(x) \\approx x$, so\n",
    "for x near 0, \n",
    "$$\\frac{sin(x)}{x} \\approx \\frac{x}{x} = 1$$, which is to say:\n",
    "\n",
    "$$\\lim_{x \\rightarrow 0} \\frac{sin(x)}{x} =1 $$"
   ]
  },
  {
   "cell_type": "markdown",
   "id": "8a45dc16-3315-4c2d-8d10-622a3189555e",
   "metadata": {},
   "source": []
  },
  {
   "cell_type": "code",
   "execution_count": null,
   "id": "f0bc38ef-a132-41dd-b821-475f662dc676",
   "metadata": {},
   "outputs": [],
   "source": []
  },
  {
   "cell_type": "code",
   "execution_count": null,
   "id": "4463c078-7ee1-4174-bcd1-0407b8da053f",
   "metadata": {},
   "outputs": [],
   "source": []
  },
  {
   "cell_type": "code",
   "execution_count": 71,
   "id": "5135d244-0ee0-4b91-b247-3050e9c99ca2",
   "metadata": {
    "tags": []
   },
   "outputs": [
    {
     "data": {
      "image/png": "[encoded data removed]",
      "text/plain": [
       "Graphics object consisting of 4 graphics primitives"
      ]
     },
     "metadata": {},
     "output_type": "display_data"
    }
   ],
   "source": [
    "f0(x) =  x^2\n",
    "g0(x) =  e^x\n",
    "f(x) = - x^2\n",
    "g(x) = - e^x\n",
    "f0plot = plot(f0, (x, -5, 5))\n",
    "g0plot = plot(g0, (x, -5, 5), color=\"orange\")\n",
    "fplot = plot(f, (x, -5, 5))\n",
    "gplot = plot(g, (x, -5, 5), color=\"orange\")\n",
    "(f0plot + g0plot + fplot + gplot).show()"
   ]
  },
  {
   "cell_type": "markdown",
   "id": "e4bcd4c9-d2a1-4a2a-a9f4-63c1b377bfd1",
   "metadata": {},
   "source": [
    "**concave up = derivative function(rate of change function) is increasing on the interval**\n",
    "\n",
    "**concave down = derivative function(rate of change function) is decreasing on the internval**\n"
   ]
  },
  {
   "cell_type": "code",
   "execution_count": null,
   "id": "c47a1b60-11ac-44e3-965e-69a6ae22a91a",
   "metadata": {},
   "outputs": [],
   "source": []
  }
 ],
 "metadata": {
  "kernelspec": {
   "display_name": "SageMath 9.7",
   "language": "sage",
   "name": "sagemath"
  },
  "language_info": {
   "codemirror_mode": {
    "name": "ipython",
    "version": 3
   },
   "file_extension": ".py",
   "mimetype": "text/x-python",
   "name": "python",
   "nbconvert_exporter": "python",
   "pygments_lexer": "ipython3",
   "version": "3.10.6"
  }
 },
 "nbformat": 4,
 "nbformat_minor": 5
}
