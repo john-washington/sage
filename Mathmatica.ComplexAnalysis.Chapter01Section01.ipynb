{
 "cells": [
  {
   "cell_type": "code",
   "execution_count": 6,
   "id": "e2455a8d-67c5-4740-a9f4-e2d52300a7f9",
   "metadata": {},
   "outputs": [
    {
     "data": {
      "text/html": [
       "<html>\\(\\displaystyle a_{3} z^{3} + a_{2} z^{2} + a_{1} z + a_{0}\\)</html>"
      ],
      "text/latex": [
       "$\\displaystyle a_{3} z^{3} + a_{2} z^{2} + a_{1} z + a_{0}$"
      ],
      "text/plain": [
       "a3*z^3 + a2*z^2 + a1*z + a0"
      ]
     },
     "metadata": {},
     "output_type": "display_data"
    },
    {
     "data": {
      "text/html": [
       "<html>\\(\\displaystyle a_{3} x^{3} + a_{1} x - \\frac{a_{2}^{2} x}{3 \\, a_{3}} + a_{0} + \\frac{2 \\, a_{2}^{3}}{27 \\, a_{3}^{2}} - \\frac{a_{1} a_{2}}{3 \\, a_{3}}\\)</html>"
      ],
      "text/latex": [
       "$\\displaystyle a_{3} x^{3} + a_{1} x - \\frac{a_{2}^{2} x}{3 \\, a_{3}} + a_{0} + \\frac{2 \\, a_{2}^{3}}{27 \\, a_{3}^{2}} - \\frac{a_{1} a_{2}}{3 \\, a_{3}}$"
      ],
      "text/plain": [
       "a3*x^3 + a1*x - 1/3*a2^2*x/a3 + a0 + 2/27*a2^3/a3^2 - 1/3*a1*a2/a3"
      ]
     },
     "metadata": {},
     "output_type": "display_data"
    },
    {
     "data": {
      "text/html": [
       "<html>\\(\\displaystyle a_{3} x^{3} + \\frac{1}{3} \\, {\\left(3 \\, a_{1} - \\frac{a_{2}^{2}}{a_{3}}\\right)} x + a_{0} + \\frac{2 \\, a_{2}^{3}}{27 \\, a_{3}^{2}} - \\frac{a_{1} a_{2}}{3 \\, a_{3}}\\)</html>"
      ],
      "text/latex": [
       "$\\displaystyle a_{3} x^{3} + \\frac{1}{3} \\, {\\left(3 \\, a_{1} - \\frac{a_{2}^{2}}{a_{3}}\\right)} x + a_{0} + \\frac{2 \\, a_{2}^{3}}{27 \\, a_{3}^{2}} - \\frac{a_{1} a_{2}}{3 \\, a_{3}}$"
      ],
      "text/plain": [
       "a3*x^3 + 1/3*(3*a1 - a2^2/a3)*x + a0 + 2/27*a2^3/a3^2 - 1/3*a1*a2/a3"
      ]
     },
     "metadata": {},
     "output_type": "display_data"
    },
    {
     "data": {
      "text/html": [
       "<html>\\(\\displaystyle \\verb|a=| a_{3}\\)</html>"
      ],
      "text/latex": [
       "$\\displaystyle \\verb|a=| a_{3}$"
      ],
      "text/plain": [
       "'a=' a3"
      ]
     },
     "metadata": {},
     "output_type": "display_data"
    },
    {
     "data": {
      "text/html": [
       "<html>\\(\\displaystyle \\verb|b=| a_{1} - \\frac{a_{2}^{2}}{3 \\, a_{3}}\\)</html>"
      ],
      "text/latex": [
       "$\\displaystyle \\verb|b=| a_{1} - \\frac{a_{2}^{2}}{3 \\, a_{3}}$"
      ],
      "text/plain": [
       "'b=' a1 - 1/3*a2^2/a3"
      ]
     },
     "metadata": {},
     "output_type": "display_data"
    },
    {
     "data": {
      "text/html": [
       "<html>\\(\\displaystyle \\verb|c=| a_{0} + \\frac{2 \\, a_{2}^{3}}{27 \\, a_{3}^{2}} - \\frac{a_{1} a_{2}}{3 \\, a_{3}}\\)</html>"
      ],
      "text/latex": [
       "$\\displaystyle \\verb|c=| a_{0} + \\frac{2 \\, a_{2}^{3}}{27 \\, a_{3}^{2}} - \\frac{a_{1} a_{2}}{3 \\, a_{3}}$"
      ],
      "text/plain": [
       "'c=' a0 + 2/27*a2^3/a3^2 - 1/3*a1*a2/a3"
      ]
     },
     "metadata": {},
     "output_type": "display_data"
    }
   ],
   "source": [
    "#mathematica counter example\n",
    "var('z')\n",
    "var('x')\n",
    "var('a0', 'a1','a2', 'a3')\n",
    "eqn0 = a3*z^3 +a2 *z^2 + a1 *z + a0 \n",
    "show(eqn0)\n",
    "eqn1 = eqn0.subs(z = x - a2/(3*a3)).simplify()\n",
    "eqn2 = eqn1.expand()\n",
    "show(eqn2)\n",
    "eqn3 = eqn2.collect(x)\n",
    "show(eqn3)\n",
    "show('a=', eqn3.coefficient(x,3))\n",
    "show('b=', eqn3.coefficient(x, 1))\n",
    "show('c=', eqn3.coefficient(x, 0))"
   ]
  },
  {
   "cell_type": "code",
   "execution_count": 12,
   "id": "fe460770-8c9b-422a-a715-651b4b68b0d9",
   "metadata": {},
   "outputs": [
    {
     "data": {
      "text/html": [
       "<html>\\(\\displaystyle \\verb|eqn0=| a x^{3} + b x^{2} + c x + d\\)</html>"
      ],
      "text/latex": [
       "$\\displaystyle \\verb|eqn0=| a x^{3} + b x^{2} + c x + d$"
      ],
      "text/plain": [
       "'eqn0=' a*x^3 + b*x^2 + c*x + d"
      ]
     },
     "metadata": {},
     "output_type": "display_data"
    },
    {
     "data": {
      "text/html": [
       "<html>\\(\\displaystyle \\verb|eqn2=| a t^{3} - \\frac{b^{2} t}{3 \\, a} + c t + \\frac{2 \\, b^{3}}{27 \\, a^{2}} - \\frac{b c}{3 \\, a} + d\\)</html>"
      ],
      "text/latex": [
       "$\\displaystyle \\verb|eqn2=| a t^{3} - \\frac{b^{2} t}{3 \\, a} + c t + \\frac{2 \\, b^{3}}{27 \\, a^{2}} - \\frac{b c}{3 \\, a} + d$"
      ],
      "text/plain": [
       "'eqn2=' a*t^3 - 1/3*b^2*t/a + c*t + 2/27*b^3/a^2 - 1/3*b*c/a + d"
      ]
     },
     "metadata": {},
     "output_type": "display_data"
    },
    {
     "data": {
      "text/html": [
       "<html>\\(\\displaystyle \\verb|eqn3=| a t^{3} - \\frac{1}{3} \\, {\\left(\\frac{b^{2}}{a} - 3 \\, c\\right)} t + \\frac{2 \\, b^{3}}{27 \\, a^{2}} - \\frac{b c}{3 \\, a} + d\\)</html>"
      ],
      "text/latex": [
       "$\\displaystyle \\verb|eqn3=| a t^{3} - \\frac{1}{3} \\, {\\left(\\frac{b^{2}}{a} - 3 \\, c\\right)} t + \\frac{2 \\, b^{3}}{27 \\, a^{2}} - \\frac{b c}{3 \\, a} + d$"
      ],
      "text/plain": [
       "'eqn3=' a*t^3 - 1/3*(b^2/a - 3*c)*t + 2/27*b^3/a^2 - 1/3*b*c/a + d"
      ]
     },
     "metadata": {},
     "output_type": "display_data"
    },
    {
     "data": {
      "text/html": [
       "<html>\\(\\displaystyle \\verb|w=| a\\)</html>"
      ],
      "text/latex": [
       "$\\displaystyle \\verb|w=| a$"
      ],
      "text/plain": [
       "'w=' a"
      ]
     },
     "metadata": {},
     "output_type": "display_data"
    },
    {
     "data": {
      "text/html": [
       "<html>\\(\\displaystyle \\verb|p=| -\\frac{b^{2}}{3 \\, a} + c\\)</html>"
      ],
      "text/latex": [
       "$\\displaystyle \\verb|p=| -\\frac{b^{2}}{3 \\, a} + c$"
      ],
      "text/plain": [
       "'p=' -1/3*b^2/a + c"
      ]
     },
     "metadata": {},
     "output_type": "display_data"
    },
    {
     "data": {
      "text/html": [
       "<html>\\(\\displaystyle \\verb|q=| \\frac{2 \\, b^{3}}{27 \\, a^{2}} - \\frac{b c}{3 \\, a} + d\\)</html>"
      ],
      "text/latex": [
       "$\\displaystyle \\verb|q=| \\frac{2 \\, b^{3}}{27 \\, a^{2}} - \\frac{b c}{3 \\, a} + d$"
      ],
      "text/plain": [
       "'q=' 2/27*b^3/a^2 - 1/3*b*c/a + d"
      ]
     },
     "metadata": {},
     "output_type": "display_data"
    }
   ],
   "source": [
    "#wikipedia article formulation\n",
    "var('t')\n",
    "var('x')\n",
    "var('a', 'b','c', 'd')\n",
    "var('p', 'q', 'w')\n",
    "#a = 1\n",
    "eqn0 = a*x^3 +b*x^2 + c *x + d \n",
    "show('eqn0=',eqn0)\n",
    "eqn1 = eqn0.subs(x = t - b/(3*a)).simplify()\n",
    "eqn2 = eqn1.expand()\n",
    "show('eqn2=', eqn2)\n",
    "eqn3 = eqn2.collect(t)\n",
    "show('eqn3=', eqn3)\n",
    "w= eqn3.coefficient(t,3)\n",
    "p= eqn3.coefficient(t, 1)\n",
    "q= eqn3.coefficient(t, 0)\n",
    "eqn3.subs("
   ]
  },
  {
   "cell_type": "code",
   "execution_count": null,
   "id": "6d6202bb-1024-474d-baaa-8e42b1342807",
   "metadata": {},
   "outputs": [],
   "source": []
  },
  {
   "cell_type": "code",
   "execution_count": 3,
   "id": "1ea019bc-4308-414b-ac6d-2e7953b2ed25",
   "metadata": {},
   "outputs": [
    {
     "data": {
      "text/html": [
       "<html>\\(\\displaystyle \\verb|wikipedia's|\\verb| |\\verb|answer|\\)</html>"
      ],
      "text/latex": [
       "$\\displaystyle \\verb|wikipedia's|\\verb| |\\verb|answer|$"
      ],
      "text/plain": [
       "\"wikipedia's answer\""
      ]
     },
     "metadata": {},
     "output_type": "display_data"
    },
    {
     "data": {
      "text/html": [
       "<html>\\(\\displaystyle \\verb|t=| \\frac{1}{3} \\, b + x\\)</html>"
      ],
      "text/latex": [
       "$\\displaystyle \\verb|t=| \\frac{1}{3} \\, b + x$"
      ],
      "text/plain": [
       "'t=' 1/3*b + x"
      ]
     },
     "metadata": {},
     "output_type": "display_data"
    },
    {
     "data": {
      "text/html": [
       "<html>\\(\\displaystyle \\verb|p=| -\\frac{1}{3} \\, b^{2} + c\\)</html>"
      ],
      "text/latex": [
       "$\\displaystyle \\verb|p=| -\\frac{1}{3} \\, b^{2} + c$"
      ],
      "text/plain": [
       "'p=' -1/3*b^2 + c"
      ]
     },
     "metadata": {},
     "output_type": "display_data"
    },
    {
     "data": {
      "text/html": [
       "<html>\\(\\displaystyle \\verb|q=| \\frac{2}{27} \\, b^{3} - \\frac{1}{3} \\, b c + d\\)</html>"
      ],
      "text/latex": [
       "$\\displaystyle \\verb|q=| \\frac{2}{27} \\, b^{3} - \\frac{1}{3} \\, b c + d$"
      ],
      "text/plain": [
       "'q=' 2/27*b^3 - 1/3*b*c + d"
      ]
     },
     "metadata": {},
     "output_type": "display_data"
    }
   ],
   "source": [
    "#how wikipedia is wrong\n",
    "t = x + b/(3*a)\n",
    "p = (3*a*c - b^2)/(3*a^2)\n",
    "q = (2*b^3 - 9*a*b*c + 27 *a^2 * d)/(27 * a^3)\n",
    "show(\"wikipedia's answer\")\n",
    "show('t=', t)\n",
    "show('p=', p.expand())\n",
    "show('q=', q.expand())"
   ]
  },
  {
   "cell_type": "markdown",
   "id": "afc95536-4cdd-42c2-ad4b-449d78eb74d6",
   "metadata": {},
   "source": [
    "This is something I am doing in extra to the original text. \n",
    "\n",
    "Instead of given the answer regarding coeffient c and b, which is \n",
    "$$ b = a_1 - \\frac{1}{3} a_2^2 $$\n",
    "$$ c = a_0 - \\frac{1}{3} a_1 a_2 + \\frac{1}{27} 2 a_2^3 $$\n",
    "\n",
    "We are going to derive the answer ourself, as below:"
   ]
  },
  {
   "cell_type": "code",
   "execution_count": 108,
   "id": "747b6060-fb12-490f-96dd-9101c2d7aa0c",
   "metadata": {},
   "outputs": [
    {
     "data": {
      "text/plain": [
       "[{c: 2/27*a2^3 - 1/3*a1*a2 - 1/3*(a2^2 - 3*a1 + 3*b)*x + a0}]"
      ]
     },
     "execution_count": 108,
     "metadata": {},
     "output_type": "execute_result"
    }
   ],
   "source": [
    "#my own effort reaching the formula with the subtitution\n",
    "var('b', 'c', 'B', 'C')\n",
    "C=solve([x^3 + b*x + c == eqn3], c, solution_dict=True)\n",
    "B=solve([x^3 + b*x + c == eqn3], b, solution_dict=True)\n",
    "#B\n",
    "C\n",
    "#B\n",
    "#show(type(C[0]))\n",
    "#this is manually copying the solution to the variable\n",
    "#something is wanted here to actually save the solution to variables\n",
    "#as in a program\n",
    "#essentially we need a way to save the expression in the answers to\n",
    "#a variable\n",
    "\n",
    "#c = 2/27*a2^3 - 1/3*a1*a2 - 1/3*(a2^2 - 3*a1 + 3*b)*x + a0\n",
    "#b = 1/27*(2*a2^3 - 9*a1*a2 - 9*(a2^2 - 3*a1)*x + 27*a0 - 27*c)/x\n",
    "\n",
    "#show('c=',c)\n",
    "#show('b=', b)\n",
    "#show('b=', b.expand())\n",
    "#the subsitution DOSE NOT work for some reason here\n",
    "\n",
    "#c.substitute(b = 1/27*(2*a2^3 - 9*a1*a2 - 9*(a2^2 - 3*a1)*x + 27*a0 - 27*c)/x)\n",
    "#show('c=',c)\n",
    "       #show(solve([x^3 + b*x +c == eqn3], (b, c)))"
   ]
  },
  {
   "cell_type": "code",
   "execution_count": 96,
   "id": "e9710f27-bc53-4143-a936-4351590291fd",
   "metadata": {},
   "outputs": [
    {
     "data": {
      "text/html": [
       "<html>\\(\\displaystyle \\verb|b=| -\\frac{1}{3} \\, a_{2}^{2} + \\frac{2 \\, a_{2}^{3}}{27 \\, x} + a_{1} - \\frac{a_{1} a_{2}}{3 \\, x} + \\frac{a_{0}}{x} - \\frac{c}{x}\\)</html>"
      ],
      "text/latex": [
       "$\\displaystyle \\verb|b=| -\\frac{1}{3} \\, a_{2}^{2} + \\frac{2 \\, a_{2}^{3}}{27 \\, x} + a_{1} - \\frac{a_{1} a_{2}}{3 \\, x} + \\frac{a_{0}}{x} - \\frac{c}{x}$"
      ],
      "text/plain": [
       "'b=' -1/3*a2^2 + 2/27*a2^3/x + a1 - 1/3*a1*a2/x + a0/x - c/x"
      ]
     },
     "metadata": {},
     "output_type": "display_data"
    }
   ],
   "source": [
    "#my own effort solving to get to the depressed form\n",
    "var('b', 'c', 'B', 'C')\n",
    "B=solve([x^3 + b*x + c == eqn3], (b), solution_dict=True)\n",
    "B\n",
    "\n",
    "b = 1/27*(2*a2^3 - 9*a1*a2 - 9*(a2^2 - 3*a1)*x + 27*a0 - 27*c)/x\n",
    "show('b=', b.expand())\n",
    "#B=solve([x^3 + b*x + c == eqn3], b, solution_dict=True)\n",
    "#B\n",
    "#show(B)\n",
    "#show(type(C[0]))\n",
    "#\n",
    "#c = 2/27*a2^3 - 1/3*a1*a2 - 1/3*(a2^2 - 3*a1 + 3*b)*x + a0\n",
    "#b = 1/27*(2*a2^3 - 9*a1*a2 - 9*(a2^2 - 3*a1)*x + 27*a0 - 27*c)/x\n",
    "\n",
    "#show('c=',c)\n",
    "#show('b=', b.simplify())\n",
    "#c.substitute(b = 1/27*(2*a2^3 - 9*a1*a2 - 9*(a2^2 - 3*a1)*x + 27*a0 - 27*c)/x)\n",
    "#show('c=',c)\n",
    "       #show(solve([x^3 + b*x +c == eqn3], (b, c)))"
   ]
  },
  {
   "cell_type": "markdown",
   "id": "f1d3ccd6-12ed-42dc-a633-69289d63216c",
   "metadata": {},
   "source": []
  },
  {
   "cell_type": "code",
   "execution_count": 31,
   "id": "4901dde5-1b6a-4b52-b3cc-644436d19525",
   "metadata": {},
   "outputs": [
    {
     "data": {
      "text/html": [
       "<html>\\(\\displaystyle z^{3} + 9 \\, z^{2} + 24 \\, z + 20\\)</html>"
      ],
      "text/latex": [
       "$\\displaystyle z^{3} + 9 \\, z^{2} + 24 \\, z + 20$"
      ],
      "text/plain": [
       "z^3 + 9*z^2 + 24*z + 20"
      ]
     },
     "metadata": {},
     "output_type": "display_data"
    },
    {
     "data": {
      "text/html": [
       "<html>\\(\\displaystyle x^{3} - 3 \\, x + 2\\)</html>"
      ],
      "text/latex": [
       "$\\displaystyle x^{3} - 3 \\, x + 2$"
      ],
      "text/plain": [
       "x^3 - 3*x + 2"
      ]
     },
     "metadata": {},
     "output_type": "display_data"
    },
    {
     "data": {
      "text/html": [
       "<html>\\(\\displaystyle x^{3} - 3 \\, x + 2\\)</html>"
      ],
      "text/latex": [
       "$\\displaystyle x^{3} - 3 \\, x + 2$"
      ],
      "text/plain": [
       "x^3 - 3*x + 2"
      ]
     },
     "metadata": {},
     "output_type": "display_data"
    }
   ],
   "source": [
    "#mathematica's example of plug in real numbers to coefficients\n",
    "var('z')\n",
    "var('x')\n",
    "var('a0', 'a1','a2')\n",
    "a0=20\n",
    "a1=24\n",
    "a2=9\n",
    "eqn0 = z^3 +a2 *z^2 + a1 *z + a0\n",
    "show(eqn0)\n",
    "eqn1 = eqn0.subs(z = x - (1/3)*a2).simplify()\n",
    "eqn2 = eqn1.expand()\n",
    "show(eqn2)\n",
    "eqn3 = eqn2.collect(x)\n",
    "show(eqn3)"
   ]
  },
  {
   "cell_type": "code",
   "execution_count": 10,
   "id": "234e4954-1799-4fff-9422-5ed7ff56dceb",
   "metadata": {},
   "outputs": [
    {
     "data": {
      "text/html": [
       "<html>\\(\\displaystyle a x^{3} + b x^{2} + c x + d\\)</html>"
      ],
      "text/latex": [
       "$\\displaystyle a x^{3} + b x^{2} + c x + d$"
      ],
      "text/plain": [
       "a*x^3 + b*x^2 + c*x + d"
      ]
     },
     "metadata": {},
     "output_type": "display_data"
    }
   ],
   "source": []
  },
  {
   "cell_type": "code",
   "execution_count": null,
   "id": "97d44d09-e59d-4dbe-98de-0bfd33c4ab95",
   "metadata": {},
   "outputs": [],
   "source": []
  },
  {
   "cell_type": "code",
   "execution_count": null,
   "id": "0d9a0ba1-7f9e-48e5-9b5e-36925ec8549e",
   "metadata": {},
   "outputs": [],
   "source": []
  }
 ],
 "metadata": {
  "kernelspec": {
   "display_name": "SageMath 10.5.beta4",
   "language": "sage",
   "name": "sage-10.5.beta4"
  },
  "language_info": {
   "codemirror_mode": {
    "name": "ipython",
    "version": 3
   },
   "file_extension": ".py",
   "mimetype": "text/x-python",
   "name": "python",
   "nbconvert_exporter": "python",
   "pygments_lexer": "ipython3",
   "version": "3.10.12"
  }
 },
 "nbformat": 4,
 "nbformat_minor": 5
}
