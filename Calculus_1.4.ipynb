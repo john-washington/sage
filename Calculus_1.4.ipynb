{
 "cells": [
  {
   "cell_type": "markdown",
   "id": "2e1bccff-0118-41e7-a062-b8f5ac88d024",
   "metadata": {},
   "source": [
    "This  chapter is about evolving the mathematical idea of $f'(a)$ to $f'(x)$."
   ]
  },
  {
   "cell_type": "markdown",
   "id": "91baf32d-f262-4d57-83de-7ef2a0faec06",
   "metadata": {},
   "source": [
    "**Preview Activity 1.4**\n",
    "\n",
    "Consider the function $f(x) = 4x - x^2$\n",
    "\n",
    "a) Use the limit definition to compute the following derivative values: \n",
    "    $f'(0),  f'(1),  f'(2), f'(3)$\n"
   ]
  },
  {
   "cell_type": "code",
   "execution_count": 12,
   "id": "da6f270b-50f8-4e1a-9d92-1895b8adda6f",
   "metadata": {},
   "outputs": [
    {
     "data": {
      "text/html": [
       "<html>\\(\\displaystyle -h\\)</html>"
      ],
      "text/latex": [
       "$\\displaystyle -h$"
      ],
      "text/plain": [
       "-h"
      ]
     },
     "metadata": {},
     "output_type": "display_data"
    }
   ],
   "source": [
    "f(x) = 4*x - x^2\n",
    "var('a', 'h')\n",
    "f_AverageRateOfChangeAta(a,h) = (f(a+h) - f(a))/h\n",
    "show(expand(f_AverageRateOfChangeAta(2,h)))"
   ]
  },
  {
   "cell_type": "markdown",
   "id": "7e81faad-f8cc-43e2-ac65-d8cdb5ccc52c",
   "metadata": {},
   "source": [
    "Because the rate of change function evaluate to $-h$, that means the following:\n",
    "As $h$, which is the interval for evaluating the average rate of change, gets closer and closer (but not equal) to 0, the average rate of change function should give us the approximation of the instantaneous rate of change of $f(x)$ at $x=2$, but sine it evaluates to 0, that means the instantaneous rate of change of $f(x)$ is also 0. What does it mean really? It means $f(x)$ at point [2, f(2)], the $f(2)$ is the not changing from previous evaluation of x.\n",
    "\n",
    "(Note: previous exampel of precise language for notion of limit:\n",
    "As $x$ gets closer and closer(but not equal) to 2, $f(x)$ gets as close as we want to 0.)\n"
   ]
  },
  {
   "cell_type": "code",
   "execution_count": 16,
   "id": "0a533cff-67d5-441e-b0ba-f39fc66e2138",
   "metadata": {},
   "outputs": [
    {
     "data": {
      "text/html": [
       "<html>\\(\\displaystyle -0.0401000000000000\\)</html>"
      ],
      "text/latex": [
       "$\\displaystyle -0.0401000000000000$"
      ],
      "text/plain": [
       "-0.0401000000000000"
      ]
     },
     "metadata": {},
     "output_type": "display_data"
    },
    {
     "data": {
      "text/html": [
       "<html>\\(\\displaystyle 0\\)</html>"
      ],
      "text/latex": [
       "$\\displaystyle 0$"
      ],
      "text/plain": [
       "0"
      ]
     },
     "metadata": {},
     "output_type": "display_data"
    },
    {
     "data": {
      "text/html": [
       "<html>\\(\\displaystyle 0.0399000000000000\\)</html>"
      ],
      "text/latex": [
       "$\\displaystyle 0.0399000000000000$"
      ],
      "text/plain": [
       "0.0399000000000000"
      ]
     },
     "metadata": {},
     "output_type": "display_data"
    }
   ],
   "source": [
    "show(f(-0.01))\n",
    "show(f(0))\n",
    "show(f(0.01))"
   ]
  },
  {
   "cell_type": "code",
   "execution_count": 17,
   "id": "b36f7693-2fa9-4d5a-bd16-faec6d54c4bb",
   "metadata": {},
   "outputs": [
    {
     "data": {
      "text/html": [
       "<html>\\(\\displaystyle -h + 4\\)</html>"
      ],
      "text/latex": [
       "$\\displaystyle -h + 4$"
      ],
      "text/plain": [
       "-h + 4"
      ]
     },
     "metadata": {},
     "output_type": "display_data"
    }
   ],
   "source": [
    "show(expand(f_AverageRateOfChangeAta(0,h)))"
   ]
  },
  {
   "cell_type": "markdown",
   "id": "21adaf35-c2b0-4f59-8a21-b8db7084026e",
   "metadata": {},
   "source": [
    "As h approaches 0, the average rate of change at x=0, reduced to 4, the data previously seems to confirm this result."
   ]
  },
  {
   "cell_type": "code",
   "execution_count": 30,
   "id": "8ec781b5-0bc6-4a4a-bf64-23c5d98c66d2",
   "metadata": {},
   "outputs": [
    {
     "data": {
      "text/html": [
       "<html>\\(\\displaystyle 1.75000000000000\\)</html>"
      ],
      "text/latex": [
       "$\\displaystyle 1.75000000000000$"
      ],
      "text/plain": [
       "1.75000000000000"
      ]
     },
     "metadata": {},
     "output_type": "display_data"
    },
    {
     "data": {
      "text/html": [
       "<html>\\(\\displaystyle 3\\)</html>"
      ],
      "text/latex": [
       "$\\displaystyle 3$"
      ],
      "text/plain": [
       "3"
      ]
     },
     "metadata": {},
     "output_type": "display_data"
    },
    {
     "data": {
      "text/html": [
       "<html>\\(\\displaystyle 3.75000000000000\\)</html>"
      ],
      "text/latex": [
       "$\\displaystyle 3.75000000000000$"
      ],
      "text/plain": [
       "3.75000000000000"
      ]
     },
     "metadata": {},
     "output_type": "display_data"
    }
   ],
   "source": [
    "show(f(0.5))\n",
    "show(f(1))\n",
    "show(f(1.5))"
   ]
  },
  {
   "cell_type": "code",
   "execution_count": 20,
   "id": "6d409d9c-e30e-4755-a0b5-f6f1f816693e",
   "metadata": {},
   "outputs": [
    {
     "data": {
      "text/html": [
       "<html>\\(\\displaystyle -h + 2\\)</html>"
      ],
      "text/latex": [
       "$\\displaystyle -h + 2$"
      ],
      "text/plain": [
       "-h + 2"
      ]
     },
     "metadata": {},
     "output_type": "display_data"
    }
   ],
   "source": [
    "show(expand(f_AverageRateOfChangeAta(1,h)))"
   ]
  },
  {
   "cell_type": "markdown",
   "id": "40904b42-70f3-4316-bae9-a084475d436b",
   "metadata": {},
   "source": [
    "again, this confirms that the rate change as h approaches 0, is 2"
   ]
  },
  {
   "cell_type": "code",
   "execution_count": 33,
   "id": "396606ed-b22d-4596-880a-f0400c23934e",
   "metadata": {},
   "outputs": [
    {
     "data": {
      "text/html": [
       "<html>\\(\\displaystyle 2.97990000000000\\)</html>"
      ],
      "text/latex": [
       "$\\displaystyle 2.97990000000000$"
      ],
      "text/plain": [
       "2.97990000000000"
      ]
     },
     "metadata": {},
     "output_type": "display_data"
    },
    {
     "data": {
      "text/html": [
       "<html>\\(\\displaystyle 3\\)</html>"
      ],
      "text/latex": [
       "$\\displaystyle 3$"
      ],
      "text/plain": [
       "3"
      ]
     },
     "metadata": {},
     "output_type": "display_data"
    },
    {
     "data": {
      "text/html": [
       "<html>\\(\\displaystyle 3.01990000000000\\)</html>"
      ],
      "text/latex": [
       "$\\displaystyle 3.01990000000000$"
      ],
      "text/plain": [
       "3.01990000000000"
      ]
     },
     "metadata": {},
     "output_type": "display_data"
    }
   ],
   "source": [
    "show(f(0.99))\n",
    "show(f(1))\n",
    "show(f(1.01))"
   ]
  },
  {
   "cell_type": "code",
   "execution_count": 35,
   "id": "5ed2e9a7-6882-4cdf-879c-c255ece62062",
   "metadata": {},
   "outputs": [
    {
     "data": {
      "text/html": [
       "<html>\\(\\displaystyle 3.99000000000000\\)</html>"
      ],
      "text/latex": [
       "$\\displaystyle 3.99000000000000$"
      ],
      "text/plain": [
       "3.99000000000000"
      ]
     },
     "metadata": {},
     "output_type": "display_data"
    },
    {
     "data": {
      "text/html": [
       "<html>\\(\\displaystyle 4\\)</html>"
      ],
      "text/latex": [
       "$\\displaystyle 4$"
      ],
      "text/plain": [
       "4"
      ]
     },
     "metadata": {},
     "output_type": "display_data"
    },
    {
     "data": {
      "text/html": [
       "<html>\\(\\displaystyle 3.99000000000000\\)</html>"
      ],
      "text/latex": [
       "$\\displaystyle 3.99000000000000$"
      ],
      "text/plain": [
       "3.99000000000000"
      ]
     },
     "metadata": {},
     "output_type": "display_data"
    }
   ],
   "source": [
    "show(f(1.9))\n",
    "show(f(2))\n",
    "show(f(2.1))"
   ]
  },
  {
   "cell_type": "code",
   "execution_count": 21,
   "id": "796f294d-d848-453a-9a7c-4aaaca8fa8cc",
   "metadata": {},
   "outputs": [
    {
     "data": {
      "text/html": [
       "<html>\\(\\displaystyle -h\\)</html>"
      ],
      "text/latex": [
       "$\\displaystyle -h$"
      ],
      "text/plain": [
       "-h"
      ]
     },
     "metadata": {},
     "output_type": "display_data"
    }
   ],
   "source": [
    "show(expand(f_AverageRateOfChangeAta(2,h)))"
   ]
  },
  {
   "cell_type": "markdown",
   "id": "26d8f54a-0fcf-4cbf-9f6e-1261c8a7db6f",
   "metadata": {},
   "source": [
    "This looks like at 2, the function $f$ is approach 4, the average rate of change as x getting closer to 2, approximate to 0, which means, the function value of $f$ near $x =2$, is no different than $f(2)$, which is 4. from the data we see, it confirms this theory."
   ]
  },
  {
   "cell_type": "markdown",
   "id": "eb47c094-e8cd-4548-bc61-4761feaeb1f1",
   "metadata": {},
   "source": [
    "at $x=3$, the rate of change algebraically reduced to -2, so it seems we can predict the value change around 3, is going to -2, let's see:"
   ]
  },
  {
   "cell_type": "code",
   "execution_count": 22,
   "id": "f3408c08-be7b-46a9-b66c-d8e307b46db8",
   "metadata": {},
   "outputs": [
    {
     "data": {
      "text/html": [
       "<html>\\(\\displaystyle -h - 2\\)</html>"
      ],
      "text/latex": [
       "$\\displaystyle -h - 2$"
      ],
      "text/plain": [
       "-h - 2"
      ]
     },
     "metadata": {},
     "output_type": "display_data"
    }
   ],
   "source": [
    "show(expand(f_AverageRateOfChangeAta(3,h)))"
   ]
  },
  {
   "cell_type": "code",
   "execution_count": 14,
   "id": "8a6bd920-b537-4707-b900-6c841e3be71f",
   "metadata": {},
   "outputs": [
    {
     "data": {
      "text/html": [
       "<html>\\(\\displaystyle 3.01990000000000\\)</html>"
      ],
      "text/latex": [
       "$\\displaystyle 3.01990000000000$"
      ],
      "text/plain": [
       "3.01990000000000"
      ]
     },
     "metadata": {},
     "output_type": "display_data"
    },
    {
     "data": {
      "text/html": [
       "<html>\\(\\displaystyle 3\\)</html>"
      ],
      "text/latex": [
       "$\\displaystyle 3$"
      ],
      "text/plain": [
       "3"
      ]
     },
     "metadata": {},
     "output_type": "display_data"
    },
    {
     "data": {
      "text/html": [
       "<html>\\(\\displaystyle 2.97990000000000\\)</html>"
      ],
      "text/latex": [
       "$\\displaystyle 2.97990000000000$"
      ],
      "text/plain": [
       "2.97990000000000"
      ]
     },
     "metadata": {},
     "output_type": "display_data"
    }
   ],
   "source": [
    "show(f(2.99))\n",
    "show(f(3))\n",
    "show(f(3.01))"
   ]
  },
  {
   "cell_type": "markdown",
   "id": "983b5c7c-2df6-488c-a732-a77195fe502d",
   "metadata": {},
   "source": [
    "Actually, the data looks correct, the rate of change at x=3, reduces to -2. So for every unit of change on x, the function is changed by a factor of -2. The data in the previous cell does confirm this theory."
   ]
  },
  {
   "cell_type": "markdown",
   "id": "27caa8f2-305b-4c0a-b380-8850748d26aa",
   "metadata": {},
   "source": [
    "b)Observe that the work to find $f'(a)$ is the same, regardless o the value of a), what do you conjecture is the value of $f'(4)$ How about $f'(5)$(Note: don't use the limit definition to find these values)"
   ]
  },
  {
   "cell_type": "code",
   "execution_count": 23,
   "id": "5817be61-bb3d-4f44-ae17-489109fdfe3b",
   "metadata": {},
   "outputs": [
    {
     "data": {
      "text/html": [
       "<html>\\(\\displaystyle -h - 4\\)</html>"
      ],
      "text/latex": [
       "$\\displaystyle -h - 4$"
      ],
      "text/plain": [
       "-h - 4"
      ]
     },
     "metadata": {},
     "output_type": "display_data"
    }
   ],
   "source": [
    "show(expand(f_AverageRateOfChangeAta(4,h)))"
   ]
  },
  {
   "cell_type": "markdown",
   "id": "03168a46-8e67-4f36-aca1-175b692fadab",
   "metadata": {},
   "source": [
    "we say $f'(4) = -4$"
   ]
  },
  {
   "cell_type": "code",
   "execution_count": 24,
   "id": "ca76b6fd-4d57-4f38-8850-be0566bfccda",
   "metadata": {},
   "outputs": [
    {
     "data": {
      "text/html": [
       "<html>\\(\\displaystyle -h - 6\\)</html>"
      ],
      "text/latex": [
       "$\\displaystyle -h - 6$"
      ],
      "text/plain": [
       "-h - 6"
      ]
     },
     "metadata": {},
     "output_type": "display_data"
    }
   ],
   "source": [
    "show(expand(f_AverageRateOfChangeAta(5,h)))"
   ]
  },
  {
   "cell_type": "markdown",
   "id": "824eba14-51ac-4eaa-b2bd-1a5174e6acb0",
   "metadata": {},
   "source": [
    "We say $f'(5) = -6$"
   ]
  },
  {
   "cell_type": "markdown",
   "id": "1d10daec-ac34-4511-a774-e4ac321b6ef3",
   "metadata": {},
   "source": [
    "c) Conjecture a formula for $f'(a)$ that depends only on the value $a$"
   ]
  },
  {
   "cell_type": "markdown",
   "id": "578c50f6-0a20-4922-8133-7607efbaed54",
   "metadata": {},
   "source": [
    "we answer this by slight change of the f_AverageRateOfChangeAta as follows:"
   ]
  },
  {
   "cell_type": "code",
   "execution_count": 26,
   "id": "be2638ba-22d7-4a58-9912-1ace18f5fc76",
   "metadata": {},
   "outputs": [],
   "source": [
    "f_InstantaneousRateOfChangeAta(a) = lim((f(a+h) - f(a))/h, h=0)"
   ]
  },
  {
   "cell_type": "markdown",
   "id": "75d6f2e4-4c04-4ecf-bf45-20d1e48d70dd",
   "metadata": {},
   "source": [
    "Let's test this formula for the case $f'(0),  f'(1),  f'(2), f'(3)$"
   ]
  },
  {
   "cell_type": "code",
   "execution_count": 31,
   "id": "95597c2b-27f6-43d1-8eb9-9a6eb94f01af",
   "metadata": {},
   "outputs": [
    {
     "data": {
      "text/html": [
       "<html>\\(\\displaystyle 4\\)</html>"
      ],
      "text/latex": [
       "$\\displaystyle 4$"
      ],
      "text/plain": [
       "4"
      ]
     },
     "metadata": {},
     "output_type": "display_data"
    },
    {
     "data": {
      "text/html": [
       "<html>\\(\\displaystyle 2\\)</html>"
      ],
      "text/latex": [
       "$\\displaystyle 2$"
      ],
      "text/plain": [
       "2"
      ]
     },
     "metadata": {},
     "output_type": "display_data"
    },
    {
     "data": {
      "text/html": [
       "<html>\\(\\displaystyle 0\\)</html>"
      ],
      "text/latex": [
       "$\\displaystyle 0$"
      ],
      "text/plain": [
       "0"
      ]
     },
     "metadata": {},
     "output_type": "display_data"
    },
    {
     "data": {
      "text/html": [
       "<html>\\(\\displaystyle -2\\)</html>"
      ],
      "text/latex": [
       "$\\displaystyle -2$"
      ],
      "text/plain": [
       "-2"
      ]
     },
     "metadata": {},
     "output_type": "display_data"
    }
   ],
   "source": [
    "show(f_InstantaneousRateOfChangeAta(0))\n",
    "show(f_InstantaneousRateOfChangeAta(1))\n",
    "show(f_InstantaneousRateOfChangeAta(2))\n",
    "show(f_InstantaneousRateOfChangeAta(3))"
   ]
  },
  {
   "cell_type": "markdown",
   "id": "223008a1-a7fe-4132-9de0-56740d639604",
   "metadata": {},
   "source": [
    "This result confirms with previous exercise results."
   ]
  },
  {
   "cell_type": "code",
   "execution_count": 36,
   "id": "49816fd5-d9ef-4e02-b3de-3e4fcb9af067",
   "metadata": {},
   "outputs": [
    {
     "data": {
      "text/html": [
       "<html>\\(\\displaystyle -4\\)</html>"
      ],
      "text/latex": [
       "$\\displaystyle -4$"
      ],
      "text/plain": [
       "-4"
      ]
     },
     "metadata": {},
     "output_type": "display_data"
    },
    {
     "data": {
      "text/html": [
       "<html>\\(\\displaystyle -6\\)</html>"
      ],
      "text/latex": [
       "$\\displaystyle -6$"
      ],
      "text/plain": [
       "-6"
      ]
     },
     "metadata": {},
     "output_type": "display_data"
    }
   ],
   "source": [
    "show(f_InstantaneousRateOfChangeAta(4))\n",
    "show(f_InstantaneousRateOfChangeAta(5))"
   ]
  },
  {
   "cell_type": "code",
   "execution_count": 39,
   "id": "969189d5-9f1e-4a8d-83b3-46dea1270b13",
   "metadata": {},
   "outputs": [
    {
     "data": {
      "image/png": "[encoded data removed]",
      "text/plain": [
       "Graphics object consisting of 2 graphics primitives"
      ]
     },
     "execution_count": 39,
     "metadata": {},
     "output_type": "execute_result"
    }
   ],
   "source": [
    "plot(f, (x, -10, 10)) + plot(f.diff(x), (x, -10,10), color=\"red\")"
   ]
  },
  {
   "cell_type": "markdown",
   "id": "5c5d5489-798a-4137-9543-a96d2f47f1e6",
   "metadata": {},
   "source": [
    "**How the derivative is itself a function**"
   ]
  },
  {
   "cell_type": "markdown",
   "id": "544b3cdf-a6ff-4546-b798-75d81818e16f",
   "metadata": {},
   "source": [
    "**Definition 1.4** Let f be a function and x a value in the function's domain. We define the derivative of f with respect to x at the value x, denoted $f'(x)$, by the formula $f'(x) = \\lim_{h \\rightarrow 0} \\frac{f(x+h) - f(x)}{h}$, provided this limit exists."
   ]
  },
  {
   "cell_type": "markdown",
   "id": "c37be7fb-206a-4fcf-90b0-c94b80e6a2ac",
   "metadata": {},
   "source": [
    "**Activity 1.10** \n",
    "\n",
    "Note: I don't know how to do it!!"
   ]
  },
  {
   "cell_type": "markdown",
   "id": "6135f505-2833-42ea-af01-ba4bded18b6b",
   "metadata": {},
   "source": [
    "**Activity 1.11**\n",
    "\n",
    "a) $f(x) =1$\n",
    "\n",
    "b) $g(t) = t$"
   ]
  },
  {
   "cell_type": "code",
   "execution_count": 44,
   "id": "f098b0ff-170e-4ac0-8cd4-a00e178cd870",
   "metadata": {},
   "outputs": [
    {
     "data": {
      "image/png": "[encoded data removed]",
      "text/plain": [
       "Graphics object consisting of 2 graphics primitives"
      ]
     },
     "execution_count": 44,
     "metadata": {},
     "output_type": "execute_result"
    }
   ],
   "source": [
    "f(x) =1\n",
    "f_prime(x) = f.diff(x)\n",
    "plot(f, (x, -10, 10))+ plot(f_prime, (x, -10, 10), color=\"red\")"
   ]
  },
  {
   "cell_type": "code",
   "execution_count": 43,
   "id": "87256e06-8e38-4826-b76e-e9f02f3c0c83",
   "metadata": {},
   "outputs": [
    {
     "data": {
      "image/png": "[encoded data removed]",
      "text/plain": [
       "Graphics object consisting of 2 graphics primitives"
      ]
     },
     "execution_count": 43,
     "metadata": {},
     "output_type": "execute_result"
    }
   ],
   "source": [
    "g(t) = t\n",
    "g_prime(t) = g.diff(t)\n",
    "plot(g, (t, -10, 10)) + plot(g_prime, (t, -10, 10), color = \"red\")"
   ]
  },
  {
   "cell_type": "code",
   "execution_count": 47,
   "id": "0545bb33-0c9b-4eec-a0a9-8cbb0aeeeae3",
   "metadata": {},
   "outputs": [
    {
     "data": {
      "text/html": [
       "<html>\\(\\displaystyle z^{2}\\)</html>"
      ],
      "text/latex": [
       "$\\displaystyle z^{2}$"
      ],
      "text/plain": [
       "z^2"
      ]
     },
     "metadata": {},
     "output_type": "display_data"
    },
    {
     "data": {
      "text/html": [
       "<html>\\(\\displaystyle 2 \\, z\\)</html>"
      ],
      "text/latex": [
       "$\\displaystyle 2 \\, z$"
      ],
      "text/plain": [
       "2*z"
      ]
     },
     "metadata": {},
     "output_type": "display_data"
    },
    {
     "data": {
      "image/png": "[encoded data removed]",
      "text/plain": [
       "Graphics object consisting of 2 graphics primitives"
      ]
     },
     "execution_count": 47,
     "metadata": {},
     "output_type": "execute_result"
    }
   ],
   "source": [
    "p(z) = z^2\n",
    "show(p(z))\n",
    "p_prime(z) = p.diff(z)\n",
    "show(p_prime(z))\n",
    "plot(p, (z, -10, 10)) + plot(p_prime, (z, -10, 10), color=\"red\")"
   ]
  },
  {
   "cell_type": "code",
   "execution_count": 48,
   "id": "55e1c1c6-8fd6-44b5-ad07-cf1f40349d4d",
   "metadata": {},
   "outputs": [
    {
     "data": {
      "text/html": [
       "<html>\\(\\displaystyle s^{3}\\)</html>"
      ],
      "text/latex": [
       "$\\displaystyle s^{3}$"
      ],
      "text/plain": [
       "s^3"
      ]
     },
     "metadata": {},
     "output_type": "display_data"
    },
    {
     "data": {
      "text/html": [
       "<html>\\(\\displaystyle 3 \\, s^{2}\\)</html>"
      ],
      "text/latex": [
       "$\\displaystyle 3 \\, s^{2}$"
      ],
      "text/plain": [
       "3*s^2"
      ]
     },
     "metadata": {},
     "output_type": "display_data"
    },
    {
     "data": {
      "image/png": "[encoded data removed]",
      "text/plain": [
       "Graphics object consisting of 2 graphics primitives"
      ]
     },
     "execution_count": 48,
     "metadata": {},
     "output_type": "execute_result"
    }
   ],
   "source": [
    "q(s) = s^3\n",
    "show(q(s))\n",
    "q_prime(s) = q.diff(s)\n",
    "show(q_prime(s))\n",
    "plot(q, (s, -10, 10)) + plot(q_prime, (s, -10, 10), color=\"red\")"
   ]
  },
  {
   "cell_type": "code",
   "execution_count": 49,
   "id": "bc780862-7436-4f95-a195-17b8038dc12c",
   "metadata": {},
   "outputs": [
    {
     "data": {
      "text/html": [
       "<html>\\(\\displaystyle \\frac{1}{t}\\)</html>"
      ],
      "text/latex": [
       "$\\displaystyle \\frac{1}{t}$"
      ],
      "text/plain": [
       "1/t"
      ]
     },
     "metadata": {},
     "output_type": "display_data"
    },
    {
     "data": {
      "text/html": [
       "<html>\\(\\displaystyle -\\frac{1}{t^{2}}\\)</html>"
      ],
      "text/latex": [
       "$\\displaystyle -\\frac{1}{t^{2}}$"
      ],
      "text/plain": [
       "-1/t^2"
      ]
     },
     "metadata": {},
     "output_type": "display_data"
    },
    {
     "data": {
      "image/png": "[encoded data removed]",
      "text/plain": [
       "Graphics object consisting of 2 graphics primitives"
      ]
     },
     "execution_count": 49,
     "metadata": {},
     "output_type": "execute_result"
    }
   ],
   "source": [
    "F(t) = 1/t\n",
    "show(F(t))\n",
    "F_prime(t) = F.diff(t)\n",
    "show(F_prime(t))\n",
    "plot(F, (t, -10, 10)) + plot(F_prime, (t, -10, 10), color=\"red\")"
   ]
  },
  {
   "cell_type": "code",
   "execution_count": 50,
   "id": "7fa8c888-ffde-4c28-aa89-c23e77b165ca",
   "metadata": {},
   "outputs": [
    {
     "data": {
      "text/html": [
       "<html>\\(\\displaystyle \\sqrt{y}\\)</html>"
      ],
      "text/latex": [
       "$\\displaystyle \\sqrt{y}$"
      ],
      "text/plain": [
       "sqrt(y)"
      ]
     },
     "metadata": {},
     "output_type": "display_data"
    },
    {
     "data": {
      "text/html": [
       "<html>\\(\\displaystyle \\frac{1}{2 \\, \\sqrt{y}}\\)</html>"
      ],
      "text/latex": [
       "$\\displaystyle \\frac{1}{2 \\, \\sqrt{y}}$"
      ],
      "text/plain": [
       "1/2/sqrt(y)"
      ]
     },
     "metadata": {},
     "output_type": "display_data"
    },
    {
     "name": "stdout",
     "output_type": "stream",
     "text": [
      "verbose 0 (3899: plot.py, generate_plot_points) WARNING: When plotting, failed to evaluate function at 100 points.\n",
      "verbose 0 (3899: plot.py, generate_plot_points) Last error message: 'Unable to compute f(-0.035954127460693985)'\n",
      "verbose 0 (3899: plot.py, generate_plot_points) WARNING: When plotting, failed to evaluate function at 100 points.\n",
      "verbose 0 (3899: plot.py, generate_plot_points) Last error message: 'Unable to compute f(-0.08425363970097269)'\n"
     ]
    },
    {
     "data": {
      "image/png": "[encoded data removed]",
      "text/plain": [
       "Graphics object consisting of 2 graphics primitives"
      ]
     },
     "execution_count": 50,
     "metadata": {},
     "output_type": "execute_result"
    }
   ],
   "source": [
    "G(y) = sqrt(y)\n",
    "show(G(y))\n",
    "G_prime(y) = G.diff(y)\n",
    "show(G_prime(y))\n",
    "plot(G, (y, -10, 10)) + plot(G_prime, (y, -10, 10), color=\"red\")"
   ]
  },
  {
   "cell_type": "markdown",
   "id": "65b0be04-cb79-4bd3-9b74-bb180935077f",
   "metadata": {},
   "source": [
    "**Summery** \n",
    "\n",
    "* Given the graph of a function $y = f(x)$, we can sketech an approximate graph of its derivative $y = f'(x)$ by observing that heights on the derivative's graph correspond to slopes on the original function's graph.\n",
    "\n",
    "Note: I don't understand this yet! Ok, after thinking about it, it is making sense."
   ]
  },
  {
   "cell_type": "markdown",
   "id": "64de98f1-b5d8-477e-a883-c7a03a64f7b0",
   "metadata": {},
   "source": [
    "**Exercises**\n",
    "\n",
    "Note: we leave these exercises for students to complete in class or as homework, using sagemath assistance."
   ]
  },
  {
   "cell_type": "code",
   "execution_count": null,
   "id": "0b04bb3c-dd67-4755-978c-77f0003fdcc5",
   "metadata": {},
   "outputs": [],
   "source": []
  }
 ],
 "metadata": {
  "kernelspec": {
   "display_name": "SageMath 9.7",
   "language": "sage",
   "name": "sagemath"
  },
  "language_info": {
   "codemirror_mode": {
    "name": "ipython",
    "version": 3
   },
   "file_extension": ".py",
   "mimetype": "text/x-python",
   "name": "python",
   "nbconvert_exporter": "python",
   "pygments_lexer": "ipython3",
   "version": "3.10.6"
  }
 },
 "nbformat": 4,
 "nbformat_minor": 5
}
