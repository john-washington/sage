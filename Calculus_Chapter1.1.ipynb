{
 "cells": [
  {
   "cell_type": "markdown",
   "id": "de317afc-1a97-4202-af92-6656905bfb1c",
   "metadata": {},
   "source": [
    "**Chapter 1 Understanding the Derivative**\n",
    "\n",
    "**Motivating Questions**\n",
    "\n",
    "How is the average velocity of a moving object connected to the values of its position function?\n",
    "\n",
    "How do we interpret the average velocity of an object geometrically with regard to the graph of its position function?\n",
    "\n",
    "How is the notion of instantaneous velocity connected to average velocity?\n",
    " \n",
    "**Introduction**\n",
    "\n",
    "Calculus can be viewed broadly as the study of change. \n",
    "\n",
    "**Preview Activity 1.1**\n",
    "\n",
    "Suppose that the height $s$ of a ball (in feet) at time $t$ (in seconds) is given by the formula $s(t) = 64 - 16(t -1)^2$.\n",
    "\n",
    "a) Construct an accurate graph of $y=s(t)$ on the time interval $0 \\leq t \\leq 3$. Lable at least six distinct points on the graph, including the three points that coorespond to when the ball was released, when the ball reaches its hightest point, and when the ball lands.\n",
    "\n"
   ]
  },
  {
   "cell_type": "code",
   "execution_count": 2,
   "id": "0aea3c55-d2ba-48a9-af69-12c535ef4cb8",
   "metadata": {},
   "outputs": [
    {
     "data": {
      "text/html": [
       "<html>\\(\\displaystyle -16 \\, {\\left(t - 1\\right)}^{2} + 64\\)</html>"
      ],
      "text/latex": [
       "$\\displaystyle -16 \\, {\\left(t - 1\\right)}^{2} + 64$"
      ],
      "text/plain": [
       "-16*(t - 1)^2 + 64"
      ]
     },
     "metadata": {},
     "output_type": "display_data"
    },
    {
     "data": {
      "image/png": "[encoded data removed]",
      "text/plain": [
       "Graphics object consisting of 1 graphics primitive"
      ]
     },
     "execution_count": 2,
     "metadata": {},
     "output_type": "execute_result"
    }
   ],
   "source": [
    "s(t) = 64- 16*(t-1)^2\n",
    "show(s(t))\n",
    "plot(s, (t, 0, 3))"
   ]
  },
  {
   "cell_type": "markdown",
   "id": "4715ddf2-9331-4eef-9d94-ec0dada1a783",
   "metadata": {},
   "source": [
    "b) In everyday language, describe the behavior of the ball on the time interval $0 \\leq t \\leq 1$ and on \n",
    "the time interval $1 \\leq t \\leq 3$. What occurs at the instant $t= 1$?"
   ]
  },
  {
   "cell_type": "markdown",
   "id": "4ec2a334-636b-4764-a3a0-3bb7c530bf6d",
   "metadata": {},
   "source": [
    "Between zero to 1 second, the ball is going up in heights, between 1 and 3 seconds, the ball is dropping to the ground."
   ]
  },
  {
   "cell_type": "markdown",
   "id": "e97d6f3e-1257-4d97-8ab0-7f032834c16c",
   "metadata": {},
   "source": [
    "c) Consider the expression\n",
    "$$AV_{[0.5, 1]} = \\frac{s(1) -s(0.5)}{1-0.5} $$\n",
    "\n",
    "Compute the value of $AV_{[0.5,1]}$.What does this value measure geometrically? What does this value measure physically? \n",
    "In particular, what are the units on $AV_{[0.5, 1]}?"
   ]
  },
  {
   "cell_type": "code",
   "execution_count": 3,
   "id": "8763b52e-1631-4801-9717-1cdafba6f520",
   "metadata": {},
   "outputs": [
    {
     "data": {
      "text/html": [
       "<html>\\(\\displaystyle 8.00000000000000\\)</html>"
      ],
      "text/latex": [
       "$\\displaystyle 8.00000000000000$"
      ],
      "text/plain": [
       "8.00000000000000"
      ]
     },
     "metadata": {},
     "output_type": "display_data"
    }
   ],
   "source": [
    "var('t1, t2')\n",
    "AV(t1, t2) = (s(t2) -s(t1))/(t2-t1)\n",
    "show(AV(0.5, 1))"
   ]
  },
  {
   "cell_type": "code",
   "execution_count": 4,
   "id": "9999e301-ec63-4b9c-879b-f7e74cbfa890",
   "metadata": {},
   "outputs": [
    {
     "data": {
      "image/png": "[encoded data removed]",
      "text/plain": [
       "Graphics object consisting of 1 graphics primitive"
      ]
     },
     "execution_count": 4,
     "metadata": {},
     "output_type": "execute_result"
    }
   ],
   "source": [
    "plot(AV(t1=0.5, t2=1), aspect_ratio=1)"
   ]
  },
  {
   "cell_type": "markdown",
   "id": "780d5bde-b6c8-46e8-a2eb-49bad476befb",
   "metadata": {},
   "source": [
    "This value measures geometrically the a horizontal line at the value 8. \n",
    "\n",
    "This value measures physically the distance the ball travels in the first half second.\n",
    "\n",
    "The unit of $AV_{[0.5, 1]}$ is feet/second.(feet per second)"
   ]
  },
  {
   "cell_type": "markdown",
   "id": "29662909-57bd-497f-a78d-59462bea4294",
   "metadata": {},
   "source": [
    "**Position and average velocity**\n",
    "\n",
    "In general, the following defines the average velocity of the object on the time interval from $a$ to $b$:\n",
    "$$AV_{[a,b]} = \\frac{s(b)-s(a)}{b-a} $$\n",
    "\n",
    "**Activity 1.1**\n",
    "\n",
    "postion function given by $s(t) = 64 - 16(t-1)^2$\n",
    "\n",
    "a)Compute the average velocity of the ball on each of the following time intervals:\n",
    "\n",
    "[0.4, 0.8], [0.7, 0.8], [0.79, 0.8], [0.799, 0.8], [0.8, 1.2], [0.8, 0.9], [0.8, 0.81], [0.8, 0.801]. Include units for each value."
   ]
  },
  {
   "cell_type": "code",
   "execution_count": 5,
   "id": "00a683e3-7c14-4725-b3e1-04fdb755d6c5",
   "metadata": {},
   "outputs": [
    {
     "data": {
      "text/html": [
       "<html>\\(\\displaystyle 12.8000000000000\\)</html>"
      ],
      "text/latex": [
       "$\\displaystyle 12.8000000000000$"
      ],
      "text/plain": [
       "12.8000000000000"
      ]
     },
     "metadata": {},
     "output_type": "display_data"
    },
    {
     "data": {
      "text/html": [
       "<html>\\(\\displaystyle 8.00000000000000\\)</html>"
      ],
      "text/latex": [
       "$\\displaystyle 8.00000000000000$"
      ],
      "text/plain": [
       "8.00000000000000"
      ]
     },
     "metadata": {},
     "output_type": "display_data"
    },
    {
     "data": {
      "text/html": [
       "<html>\\(\\displaystyle 6.56000000000000\\)</html>"
      ],
      "text/latex": [
       "$\\displaystyle 6.56000000000000$"
      ],
      "text/plain": [
       "6.56000000000000"
      ]
     },
     "metadata": {},
     "output_type": "display_data"
    },
    {
     "data": {
      "text/html": [
       "<html>\\(\\displaystyle 6.41600000000008\\)</html>"
      ],
      "text/latex": [
       "$\\displaystyle 6.41600000000008$"
      ],
      "text/plain": [
       "6.41600000000008"
      ]
     },
     "metadata": {},
     "output_type": "display_data"
    },
    {
     "data": {
      "text/html": [
       "<html>\\(\\displaystyle 0.000000000000000\\)</html>"
      ],
      "text/latex": [
       "$\\displaystyle 0.000000000000000$"
      ],
      "text/plain": [
       "0.000000000000000"
      ]
     },
     "metadata": {},
     "output_type": "display_data"
    },
    {
     "data": {
      "text/html": [
       "<html>\\(\\displaystyle 4.80000000000000\\)</html>"
      ],
      "text/latex": [
       "$\\displaystyle 4.80000000000000$"
      ],
      "text/plain": [
       "4.80000000000000"
      ]
     },
     "metadata": {},
     "output_type": "display_data"
    },
    {
     "data": {
      "text/html": [
       "<html>\\(\\displaystyle 6.24000000000000\\)</html>"
      ],
      "text/latex": [
       "$\\displaystyle 6.24000000000000$"
      ],
      "text/plain": [
       "6.24000000000000"
      ]
     },
     "metadata": {},
     "output_type": "display_data"
    },
    {
     "data": {
      "text/html": [
       "<html>\\(\\displaystyle 6.38399999999994\\)</html>"
      ],
      "text/latex": [
       "$\\displaystyle 6.38399999999994$"
      ],
      "text/plain": [
       "6.38399999999994"
      ]
     },
     "metadata": {},
     "output_type": "display_data"
    }
   ],
   "source": [
    "s(t) = 64 -16 * (t-1)^2\n",
    "var('a,b')\n",
    "AV(a, b)= (s(b) - s(a))/ (b-a)\n",
    "show(AV(0.4,0.8))\n",
    "show(AV(0.7,0.8))\n",
    "show(AV(0.79,0.8))\n",
    "show(AV(0.799,0.8))\n",
    "show(AV(0.8,1.2))\n",
    "show(AV(0.8,0.9))\n",
    "show(AV(0.8,0.81))\n",
    "show(AV(0.8,0.801))"
   ]
  },
  {
   "cell_type": "markdown",
   "id": "f31c43b3-1bb9-4af4-8fc8-be456d793571",
   "metadata": {},
   "source": [
    "sketch the line that passes through the points\n",
    "$A = (0.4, s(0.4))$, and $B =(0.8, s(0.8))$.\n",
    "What is the meaning of the slope of this line? In light of this meaning, what is a geometric way to interpret each of the´values computed in the preceding question?"
   ]
  },
  {
   "cell_type": "code",
   "execution_count": 48,
   "id": "fed24479-e2bb-4a14-8752-51a5153684a6",
   "metadata": {},
   "outputs": [
    {
     "data": {
      "text/html": [
       "<html>\\(\\displaystyle t \\ {\\mapsto}\\ -16 \\, {\\left(t - 1\\right)}^{2} + 64\\)</html>"
      ],
      "text/latex": [
       "$\\displaystyle t \\ {\\mapsto}\\ -16 \\, {\\left(t - 1\\right)}^{2} + 64$"
      ],
      "text/plain": [
       "t |--> -16*(t - 1)^2 + 64"
      ]
     },
     "metadata": {},
     "output_type": "display_data"
    },
    {
     "data": {
      "text/html": [
       "<html>\\(\\displaystyle x \\ {\\mapsto}\\ \\frac{64}{5} \\, x + \\frac{1328}{25}\\)</html>"
      ],
      "text/latex": [
       "$\\displaystyle x \\ {\\mapsto}\\ \\frac{64}{5} \\, x + \\frac{1328}{25}$"
      ],
      "text/plain": [
       "x |--> 64/5*x + 1328/25"
      ]
     },
     "metadata": {},
     "output_type": "display_data"
    },
    {
     "data": {
      "image/png": "[encoded data removed]",
      "text/plain": [
       "Graphics object consisting of 6 graphics primitives"
      ]
     },
     "metadata": {},
     "output_type": "display_data"
    }
   ],
   "source": [
    "lplot = plot(s, (t, 0, 1.2) )\n",
    "#lplot.show()\n",
    "var('a, b, y1, y2, x1, x2')\n",
    "solve([s(0.4) == a*0.4 + b, s(0.8) == a*0.8 + b], a, b)\n",
    "#[[a == (64/5), b == (1328/25)]]\n",
    "f(x) = (64/5)*x + 1328/25\n",
    "fplot = plot(f, (x, 0, 1.2), color=\"orange\")\n",
    "\n",
    "x1=0.4\n",
    "x2=0.8\n",
    "y1 = f(x1)\n",
    "y2 = f(x2)\n",
    "pt1 = point((x1, y1), rgbcolor=(1,0,0), pointsize=30)\n",
    "pt2 = point((x2, y2), rgbcolor=(1,0,0), pointsize=30)\n",
    "\n",
    "t1 = text(\"(%s, %s)\" % (float(x1), float(y1)), (x1+0.4, y1-0.8), rgbcolor=(1,0,0))\n",
    "t2 = text(\"(%s, %s)\" % (float(x2), float(y2)), (x2+0.4, y2-0.8), rgbcolor=(1,0,0))\n",
    "#t3 = text(\"slope: %s\" % float(64/5), ((x1+x2)/0.8-0.4, (y1+y2)/2), rgbcolor=(1,0,0))\n",
    "show(s)\n",
    "show(f)\n",
    "(lplot+fplot+ pt1 + pt2+t1 +t2).show()"
   ]
  },
  {
   "cell_type": "markdown",
   "id": "c477a26f-dea2-47c0-af33-537732461a61",
   "metadata": {},
   "source": [
    "The slope of the orange line seems like the rate of change of the y value as x progress, the factor is like the average velocity of the object moving from A, to B.\n",
    "\n",
    "The geometric way to interpret A, B"
   ]
  },
  {
   "cell_type": "code",
   "execution_count": 7,
   "id": "e48f65f4-f017-4377-9028-16a3e5a82f83",
   "metadata": {},
   "outputs": [
    {
     "data": {
      "text/html": [
       "<html>\\(\\displaystyle 0.400000000000000 58.2400000000000\\)</html>"
      ],
      "text/latex": [
       "$\\displaystyle 0.400000000000000 58.2400000000000$"
      ],
      "text/plain": [
       "0.400000000000000 58.2400000000000"
      ]
     },
     "metadata": {},
     "output_type": "display_data"
    },
    {
     "data": {
      "text/html": [
       "<html>\\(\\displaystyle 0.800000000000000 63.3600000000000\\)</html>"
      ],
      "text/latex": [
       "$\\displaystyle 0.800000000000000 63.3600000000000$"
      ],
      "text/plain": [
       "0.800000000000000 63.3600000000000"
      ]
     },
     "metadata": {},
     "output_type": "display_data"
    },
    {
     "data": {
      "text/html": [
       "<html>\\(\\displaystyle 12.8000000000000\\)</html>"
      ],
      "text/latex": [
       "$\\displaystyle 12.8000000000000$"
      ],
      "text/plain": [
       "12.8000000000000"
      ]
     },
     "metadata": {},
     "output_type": "display_data"
    },
    {
     "data": {
      "text/html": [
       "<html>\\(\\displaystyle 12.8000000000000\\)</html>"
      ],
      "text/latex": [
       "$\\displaystyle 12.8000000000000$"
      ],
      "text/plain": [
       "12.8000000000000"
      ]
     },
     "metadata": {},
     "output_type": "display_data"
    }
   ],
   "source": [
    "show(0.4, s(0.4))\n",
    "show(0.8, s(0.8))\n",
    "show(AV(0.4, 0.8))\n",
    "show((64/5).n())"
   ]
  },
  {
   "cell_type": "markdown",
   "id": "e37ae464-6df5-4436-b08e-21919930e362",
   "metadata": {},
   "source": [
    "c) skip\n",
    "\n",
    "d) What do you conjecture is the velocity of the ball at the instant at $t=0.8$? Why?\n",
    "\n",
    "Answer: it is probably slightly less than $12.8$, which is the average, given that the range of $[0.4, 0.8]$ is till fairly large. If the range is very small, and we calculate the average again, and plot a line segment again, we would conjecture that the velocity at 0.8 is exactly the average, when visually we can confirm the line segment is very similar or no difference than the curve within that range. judging from the calculation below, both approaching 0.8 from the left and from the right, I would say it's the average of the two numbers, which is shown as around $6.40720000000013$"
   ]
  },
  {
   "cell_type": "code",
   "execution_count": 8,
   "id": "a2da3dfe-9062-43b8-95f9-34ba57f983fc",
   "metadata": {},
   "outputs": [
    {
     "data": {
      "text/html": [
       "<html>\\(\\displaystyle 6.41600000000008\\)</html>"
      ],
      "text/latex": [
       "$\\displaystyle 6.41600000000008$"
      ],
      "text/plain": [
       "6.41600000000008"
      ]
     },
     "metadata": {},
     "output_type": "display_data"
    },
    {
     "data": {
      "text/html": [
       "<html>\\(\\displaystyle 6.39840000000018\\)</html>"
      ],
      "text/latex": [
       "$\\displaystyle 6.39840000000018$"
      ],
      "text/plain": [
       "6.39840000000018"
      ]
     },
     "metadata": {},
     "output_type": "display_data"
    },
    {
     "data": {
      "text/html": [
       "<html>\\(\\displaystyle 6.40720000000013\\)</html>"
      ],
      "text/latex": [
       "$\\displaystyle 6.40720000000013$"
      ],
      "text/plain": [
       "6.40720000000013"
      ]
     },
     "metadata": {},
     "output_type": "display_data"
    }
   ],
   "source": [
    "show(AV(0.799,0.8))\n",
    "show(AV(0.8,0.8001))\n",
    "show((AV(0.799,0.8) + AV(0.8,0.8001))/2)"
   ]
  },
  {
   "cell_type": "markdown",
   "id": "646deb3d-b90d-4101-b980-c14fad87d56c",
   "metadata": {},
   "source": [
    "**Instantaneous Velocity**\n",
    "\n",
    "take average velocities on smaller and smaller time intervals, and if those average velocities approach a single number, then that number will be the instantaneous velocity at that point.\n",
    "\n",
    "**Activity 1.2**\n",
    "\n",
    "a) Compute the average velocity of the ball on the time interval [1.5, 2]. What is the difference between this value and the average velocity on the interval $[0, 0.5]$?\n",
    "\n"
   ]
  },
  {
   "cell_type": "code",
   "execution_count": 9,
   "id": "3d4a3555-2e51-4e0f-8c93-60a4f5419a4d",
   "metadata": {},
   "outputs": [
    {
     "data": {
      "text/html": [
       "<html>\\(\\displaystyle -24.0000000000000\\)</html>"
      ],
      "text/latex": [
       "$\\displaystyle -24.0000000000000$"
      ],
      "text/plain": [
       "-24.0000000000000"
      ]
     },
     "metadata": {},
     "output_type": "display_data"
    }
   ],
   "source": [
    "show(AV(1.5, 2))"
   ]
  },
  {
   "cell_type": "code",
   "execution_count": 10,
   "id": "dda6ff4b-1834-4db4-aff1-3cf2ba7198cd",
   "metadata": {},
   "outputs": [
    {
     "data": {
      "text/html": [
       "<html>\\(\\displaystyle 24.0000000000000\\)</html>"
      ],
      "text/latex": [
       "$\\displaystyle 24.0000000000000$"
      ],
      "text/plain": [
       "24.0000000000000"
      ]
     },
     "metadata": {},
     "output_type": "display_data"
    }
   ],
   "source": [
    "show(AV(0, 0.5))"
   ]
  },
  {
   "cell_type": "markdown",
   "id": "e5d47e50-3768-40b9-a082-eff2c767c1cc",
   "metadata": {},
   "source": [
    "b) Use appropriate computing technology to estimate the instantaneous velocty of the ball at $t=1.5$. Likewise, estimate the instantantaneous velocity of the ball at $t=2$. Which value is greater?"
   ]
  },
  {
   "cell_type": "code",
   "execution_count": 11,
   "id": "ec92916c-5d73-4979-9203-93ecc668fdf1",
   "metadata": {},
   "outputs": [
    {
     "data": {
      "text/html": [
       "<html>\\(\\displaystyle -24.0000000000000\\)</html>"
      ],
      "text/latex": [
       "$\\displaystyle -24.0000000000000$"
      ],
      "text/plain": [
       "-24.0000000000000"
      ]
     },
     "metadata": {},
     "output_type": "display_data"
    },
    {
     "data": {
      "text/html": [
       "<html>\\(\\displaystyle -8.00000000000000\\)</html>"
      ],
      "text/latex": [
       "$\\displaystyle -8.00000000000000$"
      ],
      "text/plain": [
       "-8.00000000000000"
      ]
     },
     "metadata": {},
     "output_type": "display_data"
    }
   ],
   "source": [
    "show(AV(1.5, 2))\n",
    "show(AV(1, 1.5))\n"
   ]
  },
  {
   "cell_type": "code",
   "execution_count": 12,
   "id": "d686a73a-bd81-4bfb-8324-44bb20e721b0",
   "metadata": {},
   "outputs": [
    {
     "data": {
      "text/html": [
       "<html>\\(\\displaystyle -17.6000000000000\\)</html>"
      ],
      "text/latex": [
       "$\\displaystyle -17.6000000000000$"
      ],
      "text/plain": [
       "-17.6000000000000"
      ]
     },
     "metadata": {},
     "output_type": "display_data"
    },
    {
     "data": {
      "text/html": [
       "<html>\\(\\displaystyle -14.4000000000000\\)</html>"
      ],
      "text/latex": [
       "$\\displaystyle -14.4000000000000$"
      ],
      "text/plain": [
       "-14.4000000000000"
      ]
     },
     "metadata": {},
     "output_type": "display_data"
    }
   ],
   "source": [
    "show(AV(1.5, 1.6))\n",
    "show(AV(1.4, 1.5))"
   ]
  },
  {
   "cell_type": "code",
   "execution_count": 13,
   "id": "12504c2c-b37d-4e0f-b0dd-19da2b50d731",
   "metadata": {},
   "outputs": [
    {
     "data": {
      "text/html": [
       "<html>\\(\\displaystyle -16.1600000000000\\)</html>"
      ],
      "text/latex": [
       "$\\displaystyle -16.1600000000000$"
      ],
      "text/plain": [
       "-16.1600000000000"
      ]
     },
     "metadata": {},
     "output_type": "display_data"
    },
    {
     "data": {
      "text/html": [
       "<html>\\(\\displaystyle -15.8400000000000\\)</html>"
      ],
      "text/latex": [
       "$\\displaystyle -15.8400000000000$"
      ],
      "text/plain": [
       "-15.8400000000000"
      ]
     },
     "metadata": {},
     "output_type": "display_data"
    }
   ],
   "source": [
    "show(AV(1.5, 1.51))\n",
    "show(AV(1.49, 1.5))"
   ]
  },
  {
   "cell_type": "code",
   "execution_count": 14,
   "id": "c54a2d8a-1271-4691-8203-ea144def65e9",
   "metadata": {},
   "outputs": [
    {
     "data": {
      "text/html": [
       "<html>\\(\\displaystyle -16.0159999999996\\)</html>"
      ],
      "text/latex": [
       "$\\displaystyle -16.0159999999996$"
      ],
      "text/plain": [
       "-16.0159999999996"
      ]
     },
     "metadata": {},
     "output_type": "display_data"
    },
    {
     "data": {
      "text/html": [
       "<html>\\(\\displaystyle -15.9840000000000\\)</html>"
      ],
      "text/latex": [
       "$\\displaystyle -15.9840000000000$"
      ],
      "text/plain": [
       "-15.9840000000000"
      ]
     },
     "metadata": {},
     "output_type": "display_data"
    }
   ],
   "source": [
    "show(AV(1.5, 1.501))\n",
    "show(AV(1.499, 1.5))"
   ]
  },
  {
   "cell_type": "code",
   "execution_count": 15,
   "id": "566f4b96-66d9-40b7-ae44-e14af6b55be6",
   "metadata": {},
   "outputs": [
    {
     "data": {
      "text/html": [
       "<html>\\(\\displaystyle -16.0015999999992\\)</html>"
      ],
      "text/latex": [
       "$\\displaystyle -16.0015999999992$"
      ],
      "text/plain": [
       "-16.0015999999992"
      ]
     },
     "metadata": {},
     "output_type": "display_data"
    },
    {
     "data": {
      "text/html": [
       "<html>\\(\\displaystyle -15.9984000000008\\)</html>"
      ],
      "text/latex": [
       "$\\displaystyle -15.9984000000008$"
      ],
      "text/plain": [
       "-15.9984000000008"
      ]
     },
     "metadata": {},
     "output_type": "display_data"
    }
   ],
   "source": [
    "show(AV(1.5, 1.5001))\n",
    "show(AV(1.4999, 1.5))"
   ]
  },
  {
   "cell_type": "code",
   "execution_count": 16,
   "id": "d41cccd7-63a8-4f75-b419-d2c5730d0508",
   "metadata": {},
   "outputs": [
    {
     "data": {
      "text/html": [
       "<html>\\(\\displaystyle -16.0001600000132\\)</html>"
      ],
      "text/latex": [
       "$\\displaystyle -16.0001600000132$"
      ],
      "text/plain": [
       "-16.0001600000132"
      ]
     },
     "metadata": {},
     "output_type": "display_data"
    },
    {
     "data": {
      "text/html": [
       "<html>\\(\\displaystyle -15.9998399999868\\)</html>"
      ],
      "text/latex": [
       "$\\displaystyle -15.9998399999868$"
      ],
      "text/plain": [
       "-15.9998399999868"
      ]
     },
     "metadata": {},
     "output_type": "display_data"
    }
   ],
   "source": [
    "show(AV(1.5, 1.50001))\n",
    "show(AV(1.49999, 1.5))"
   ]
  },
  {
   "cell_type": "code",
   "execution_count": 17,
   "id": "78f7bd79-4083-4341-8145-6a2fd3c72638",
   "metadata": {},
   "outputs": [
    {
     "data": {
      "text/html": [
       "<html>\\(\\displaystyle -16.0000159996461\\)</html>"
      ],
      "text/latex": [
       "$\\displaystyle -16.0000159996461$"
      ],
      "text/plain": [
       "-16.0000159996461"
      ]
     },
     "metadata": {},
     "output_type": "display_data"
    },
    {
     "data": {
      "text/html": [
       "<html>\\(\\displaystyle -15.9999839999099\\)</html>"
      ],
      "text/latex": [
       "$\\displaystyle -15.9999839999099$"
      ],
      "text/plain": [
       "-15.9999839999099"
      ]
     },
     "metadata": {},
     "output_type": "display_data"
    }
   ],
   "source": [
    "show(AV(1.5, 1.500001))\n",
    "show(AV(1.499999, 1.5))"
   ]
  },
  {
   "cell_type": "code",
   "execution_count": 18,
   "id": "33b4b365-f037-49ee-8399-12952ce93dc2",
   "metadata": {},
   "outputs": [
    {
     "data": {
      "text/html": [
       "<html>\\(\\displaystyle -16.0000015987212\\)</html>"
      ],
      "text/latex": [
       "$\\displaystyle -16.0000015987212$"
      ],
      "text/plain": [
       "-16.0000015987212"
      ]
     },
     "metadata": {},
     "output_type": "display_data"
    },
    {
     "data": {
      "text/html": [
       "<html>\\(\\displaystyle -15.9999984012788\\)</html>"
      ],
      "text/latex": [
       "$\\displaystyle -15.9999984012788$"
      ],
      "text/plain": [
       "-15.9999984012788"
      ]
     },
     "metadata": {},
     "output_type": "display_data"
    }
   ],
   "source": [
    "show(AV(1.5, 1.5000001))\n",
    "show(AV(1.4999999, 1.5))"
   ]
  },
  {
   "cell_type": "markdown",
   "id": "2734c46c-48dd-405a-abc5-1464f753431e",
   "metadata": {},
   "source": [
    "Looks like the instantaneous velocity at $t=1.5$, is $16$ feet/sec"
   ]
  },
  {
   "cell_type": "code",
   "execution_count": 19,
   "id": "ff67d362-8f94-4c67-8863-e022c25e1535",
   "metadata": {},
   "outputs": [
    {
     "data": {
      "text/html": [
       "<html>\\(\\displaystyle -24.0000000000000\\)</html>"
      ],
      "text/latex": [
       "$\\displaystyle -24.0000000000000$"
      ],
      "text/plain": [
       "-24.0000000000000"
      ]
     },
     "metadata": {},
     "output_type": "display_data"
    },
    {
     "data": {
      "text/html": [
       "<html>\\(\\displaystyle -40.0000000000000\\)</html>"
      ],
      "text/latex": [
       "$\\displaystyle -40.0000000000000$"
      ],
      "text/plain": [
       "-40.0000000000000"
      ]
     },
     "metadata": {},
     "output_type": "display_data"
    }
   ],
   "source": [
    "show(AV(1.5, 2))\n",
    "show(AV(2, 2.5))"
   ]
  },
  {
   "cell_type": "code",
   "execution_count": 20,
   "id": "5bc09f3e-5c36-4f79-8243-fc5943ae757e",
   "metadata": {},
   "outputs": [
    {
     "data": {
      "text/html": [
       "<html>\\(\\displaystyle -23.8400000000000\\)</html>"
      ],
      "text/latex": [
       "$\\displaystyle -23.8400000000000$"
      ],
      "text/plain": [
       "-23.8400000000000"
      ]
     },
     "metadata": {},
     "output_type": "display_data"
    },
    {
     "data": {
      "text/html": [
       "<html>\\(\\displaystyle -32.1600000000000\\)</html>"
      ],
      "text/latex": [
       "$\\displaystyle -32.1600000000000$"
      ],
      "text/plain": [
       "-32.1600000000000"
      ]
     },
     "metadata": {},
     "output_type": "display_data"
    }
   ],
   "source": [
    "show(AV(1.49, 2))\n",
    "show(AV(2, 2.01))"
   ]
  },
  {
   "cell_type": "code",
   "execution_count": 21,
   "id": "8564b446-9e70-495f-aee5-36258bb17819",
   "metadata": {},
   "outputs": [
    {
     "data": {
      "text/html": [
       "<html>\\(\\displaystyle -30.4000000000000\\)</html>"
      ],
      "text/latex": [
       "$\\displaystyle -30.4000000000000$"
      ],
      "text/plain": [
       "-30.4000000000000"
      ]
     },
     "metadata": {},
     "output_type": "display_data"
    },
    {
     "data": {
      "text/html": [
       "<html>\\(\\displaystyle -32.1600000000000\\)</html>"
      ],
      "text/latex": [
       "$\\displaystyle -32.1600000000000$"
      ],
      "text/plain": [
       "-32.1600000000000"
      ]
     },
     "metadata": {},
     "output_type": "display_data"
    }
   ],
   "source": [
    "show(AV(1.9, 2))\n",
    "show(AV(2, 2.01))"
   ]
  },
  {
   "cell_type": "code",
   "execution_count": 22,
   "id": "fffed340-4822-4fa1-ae75-64bcdaa63172",
   "metadata": {},
   "outputs": [
    {
     "data": {
      "text/html": [
       "<html>\\(\\displaystyle -31.8400000000000\\)</html>"
      ],
      "text/latex": [
       "$\\displaystyle -31.8400000000000$"
      ],
      "text/plain": [
       "-31.8400000000000"
      ]
     },
     "metadata": {},
     "output_type": "display_data"
    },
    {
     "data": {
      "text/html": [
       "<html>\\(\\displaystyle -32.1600000000000\\)</html>"
      ],
      "text/latex": [
       "$\\displaystyle -32.1600000000000$"
      ],
      "text/plain": [
       "-32.1600000000000"
      ]
     },
     "metadata": {},
     "output_type": "display_data"
    }
   ],
   "source": [
    "show(AV(1.99, 2))\n",
    "show(AV(2, 2.01))"
   ]
  },
  {
   "cell_type": "code",
   "execution_count": 23,
   "id": "45cc9a5e-1472-490f-96e5-dcfc457c6e90",
   "metadata": {},
   "outputs": [
    {
     "data": {
      "text/html": [
       "<html>\\(\\displaystyle -31.9839999999995\\)</html>"
      ],
      "text/latex": [
       "$\\displaystyle -31.9839999999995$"
      ],
      "text/plain": [
       "-31.9839999999995"
      ]
     },
     "metadata": {},
     "output_type": "display_data"
    },
    {
     "data": {
      "text/html": [
       "<html>\\(\\displaystyle -32.0159999999987\\)</html>"
      ],
      "text/latex": [
       "$\\displaystyle -32.0159999999987$"
      ],
      "text/plain": [
       "-32.0159999999987"
      ]
     },
     "metadata": {},
     "output_type": "display_data"
    }
   ],
   "source": [
    "show(AV(1.999, 2))\n",
    "show(AV(2, 2.001))"
   ]
  },
  {
   "cell_type": "code",
   "execution_count": 24,
   "id": "6171f8b3-ccd1-464c-9b39-c0984467bd81",
   "metadata": {},
   "outputs": [
    {
     "data": {
      "text/html": [
       "<html>\\(\\displaystyle -31.9983999999920\\)</html>"
      ],
      "text/latex": [
       "$\\displaystyle -31.9983999999920$"
      ],
      "text/plain": [
       "-31.9983999999920"
      ]
     },
     "metadata": {},
     "output_type": "display_data"
    },
    {
     "data": {
      "text/html": [
       "<html>\\(\\displaystyle -32.0015999999903\\)</html>"
      ],
      "text/latex": [
       "$\\displaystyle -32.0015999999903$"
      ],
      "text/plain": [
       "-32.0015999999903"
      ]
     },
     "metadata": {},
     "output_type": "display_data"
    }
   ],
   "source": [
    "show(AV(1.9999, 2))\n",
    "show(AV(2, 2.0001))"
   ]
  },
  {
   "cell_type": "code",
   "execution_count": 25,
   "id": "ae572e8b-6468-4ac7-adc3-707620c21863",
   "metadata": {},
   "outputs": [
    {
     "data": {
      "text/html": [
       "<html>\\(\\displaystyle -31.9998399999868\\)</html>"
      ],
      "text/latex": [
       "$\\displaystyle -31.9998399999868$"
      ],
      "text/plain": [
       "-31.9998399999868"
      ]
     },
     "metadata": {},
     "output_type": "display_data"
    },
    {
     "data": {
      "text/html": [
       "<html>\\(\\displaystyle -32.0001600000132\\)</html>"
      ],
      "text/latex": [
       "$\\displaystyle -32.0001600000132$"
      ],
      "text/plain": [
       "-32.0001600000132"
      ]
     },
     "metadata": {},
     "output_type": "display_data"
    }
   ],
   "source": [
    "show(AV(1.99999, 2))\n",
    "show(AV(2, 2.00001))"
   ]
  },
  {
   "cell_type": "markdown",
   "id": "dd562667-b03b-40d9-b94b-98598aed0fed",
   "metadata": {},
   "source": [
    "Looks like at $t=2$, the instantaneous velocity is $-32$ feet/sec, which is the greater value than when $t=1.5$, which has the instantaneous velocity as $-16$ feet/sec."
   ]
  },
  {
   "cell_type": "markdown",
   "id": "e4c1a9a9-deed-48ae-9521-cba0a9448c40",
   "metadata": {},
   "source": [
    "c) skip.\n",
    "d)Without doing any computations, what do you expect to be the instantaneous velocity of the ball at $t =1$? Why?\n",
    "\n",
    "Look at the graph of the position function, from 0 to 3 seconds, looks like at $t=1$, it reaches the hightest point, and the velocity would be exactly 0.\n",
    "\n",
    "We also plot the graph for the range 0 to 5, and we see 3 seconds is when the ball hit the ground, so it confirms out conclusion."
   ]
  },
  {
   "cell_type": "code",
   "execution_count": 26,
   "id": "73555880-1c93-4b23-a1b0-64dd3247eaab",
   "metadata": {},
   "outputs": [
    {
     "data": {
      "image/png": "[encoded data removed]",
      "text/plain": [
       "Graphics object consisting of 1 graphics primitive"
      ]
     },
     "metadata": {},
     "output_type": "display_data"
    },
    {
     "data": {
      "image/png": "[encoded data removed]",
      "text/plain": [
       "Graphics object consisting of 1 graphics primitive"
      ]
     },
     "metadata": {},
     "output_type": "display_data"
    }
   ],
   "source": [
    "l2plot = plot(s, (t, 0,3) )\n",
    "l2plot.show()\n",
    "l2plot = plot(s, (t, 0,5) )\n",
    "l2plot.show()"
   ]
  },
  {
   "cell_type": "markdown",
   "id": "faab2995-62cd-451f-8807-d29614705943",
   "metadata": {},
   "source": [
    "\n",
    "$$AV_{[a, a+h]} = \\frac{s(a+h) -s(a)}{h}$$, where $h$ could be either positive or negative. When $h , 0 $, $AV_{[a, a+h]}$ measures the average velocity on the interval $[a +h, a]$. \n",
    "\n",
    "To find the instantaneous velocty at $t =1$, we investigate what happens as the value of $h$ aproaches zero. \n",
    "\n",
    "**Example 1.1**\n",
    "\n",
    "compute the average velocity on $[0.5, 0.75]$, $[0.4, 0.5]$"
   ]
  },
  {
   "cell_type": "code",
   "execution_count": 27,
   "id": "f0a30191-2f10-48b2-8ab9-bd190b66a81d",
   "metadata": {},
   "outputs": [
    {
     "data": {
      "text/html": [
       "<html>\\(\\displaystyle -20.0000000000000\\)</html>"
      ],
      "text/latex": [
       "$\\displaystyle -20.0000000000000$"
      ],
      "text/plain": [
       "-20.0000000000000"
      ]
     },
     "metadata": {},
     "output_type": "display_data"
    },
    {
     "data": {
      "text/html": [
       "<html>\\(\\displaystyle -14.4000000000000\\)</html>"
      ],
      "text/latex": [
       "$\\displaystyle -14.4000000000000$"
      ],
      "text/plain": [
       "-14.4000000000000"
      ]
     },
     "metadata": {},
     "output_type": "display_data"
    }
   ],
   "source": [
    "var('h', 'a')\n",
    "s(t)= 16 - 16*t^2\n",
    "AV(a,h) = (s(a+h) - s(a))/h\n",
    "show(AV(0.5, 0.25))\n",
    "show(AV(0.4, 0.1))"
   ]
  },
  {
   "cell_type": "markdown",
   "id": "717e1721-cb58-41d7-96ea-2a99246e6b80",
   "metadata": {},
   "source": [
    "To conjecture about the instantaneous velocity at $t=5$, we call the AV function for intervals around $t=5$ with progressive smaller $h$"
   ]
  },
  {
   "cell_type": "code",
   "execution_count": 28,
   "id": "328ebfd1-c264-423e-9eea-36ae8415a096",
   "metadata": {},
   "outputs": [
    {
     "data": {
      "text/html": [
       "<html>\\(\\displaystyle -17.6000000000000\\)</html>"
      ],
      "text/latex": [
       "$\\displaystyle -17.6000000000000$"
      ],
      "text/plain": [
       "-17.6000000000000"
      ]
     },
     "metadata": {},
     "output_type": "display_data"
    }
   ],
   "source": [
    "a=0.5\n",
    "h=0.1\n",
    "show(AV(a, h))\n"
   ]
  },
  {
   "cell_type": "code",
   "execution_count": 29,
   "id": "0ae413fe-b6a0-4236-8acc-0d5140be4634",
   "metadata": {},
   "outputs": [
    {
     "data": {
      "text/html": [
       "<html>\\(\\displaystyle -16.1600000000000\\)</html>"
      ],
      "text/latex": [
       "$\\displaystyle -16.1600000000000$"
      ],
      "text/plain": [
       "-16.1600000000000"
      ]
     },
     "metadata": {},
     "output_type": "display_data"
    }
   ],
   "source": [
    "h=0.01\n",
    "show(AV(a, h))"
   ]
  },
  {
   "cell_type": "code",
   "execution_count": 30,
   "id": "72398229-198e-4943-ae8a-a6987fd2cf48",
   "metadata": {},
   "outputs": [
    {
     "data": {
      "text/html": [
       "<html>\\(\\displaystyle -16.0159999999996\\)</html>"
      ],
      "text/latex": [
       "$\\displaystyle -16.0159999999996$"
      ],
      "text/plain": [
       "-16.0159999999996"
      ]
     },
     "metadata": {},
     "output_type": "display_data"
    }
   ],
   "source": [
    "h=0.001\n",
    "show(AV(a, h))"
   ]
  },
  {
   "cell_type": "code",
   "execution_count": 31,
   "id": "6f3184cd-14f4-40a4-bc9a-cf16e898f538",
   "metadata": {},
   "outputs": [
    {
     "data": {
      "text/html": [
       "<html>\\(\\displaystyle -16.0015999999974\\)</html>"
      ],
      "text/latex": [
       "$\\displaystyle -16.0015999999974$"
      ],
      "text/plain": [
       "-16.0015999999974"
      ]
     },
     "metadata": {},
     "output_type": "display_data"
    }
   ],
   "source": [
    "h=0.0001\n",
    "show(AV(a, h))"
   ]
  },
  {
   "cell_type": "code",
   "execution_count": 32,
   "id": "ecbf364d-b63d-4cfe-ad9f-0c7cdea08c6b",
   "metadata": {},
   "outputs": [
    {
     "data": {
      "text/html": [
       "<html>\\(\\displaystyle -16.0001599999404\\)</html>"
      ],
      "text/latex": [
       "$\\displaystyle -16.0001599999404$"
      ],
      "text/plain": [
       "-16.0001599999404"
      ]
     },
     "metadata": {},
     "output_type": "display_data"
    }
   ],
   "source": [
    "h=0.00001\n",
    "show(AV(a, h))"
   ]
  },
  {
   "cell_type": "code",
   "execution_count": 33,
   "id": "f7da4a3e-0169-47fc-8dcb-0591f4dc0fab",
   "metadata": {},
   "outputs": [
    {
     "data": {
      "text/html": [
       "<html>\\(\\displaystyle -16.0000160001061\\)</html>"
      ],
      "text/latex": [
       "$\\displaystyle -16.0000160001061$"
      ],
      "text/plain": [
       "-16.0000160001061"
      ]
     },
     "metadata": {},
     "output_type": "display_data"
    }
   ],
   "source": [
    "h=0.000001\n",
    "show(AV(a, h))"
   ]
  },
  {
   "cell_type": "markdown",
   "id": "0be857de-4820-43c5-a621-32b0344c259b",
   "metadata": {},
   "source": [
    "based on the results above, we conclude that at $t=0.5$, the instantaneous velocity is $-16$ feet/sec"
   ]
  },
  {
   "cell_type": "markdown",
   "id": "15881cd4-b5eb-4d84-a7c4-fcbcb8e821f9",
   "metadata": {},
   "source": [
    "Wait a minute! What about h to be negative? Well, let's try"
   ]
  },
  {
   "cell_type": "code",
   "execution_count": 34,
   "id": "25cf6797-2b86-4192-9755-2ecf16fcc08b",
   "metadata": {},
   "outputs": [
    {
     "data": {
      "text/html": [
       "<html>\\(\\displaystyle -14.4000000000000\\)</html>"
      ],
      "text/latex": [
       "$\\displaystyle -14.4000000000000$"
      ],
      "text/plain": [
       "-14.4000000000000"
      ]
     },
     "metadata": {},
     "output_type": "display_data"
    }
   ],
   "source": [
    "h=-0.1\n",
    "show(AV(a, h))"
   ]
  },
  {
   "cell_type": "code",
   "execution_count": 35,
   "id": "66eccfc8-7a6e-444a-91e8-82c7162eddf5",
   "metadata": {},
   "outputs": [
    {
     "data": {
      "text/html": [
       "<html>\\(\\displaystyle -15.9840000000000\\)</html>"
      ],
      "text/latex": [
       "$\\displaystyle -15.9840000000000$"
      ],
      "text/plain": [
       "-15.9840000000000"
      ]
     },
     "metadata": {},
     "output_type": "display_data"
    }
   ],
   "source": [
    "h=-0.001\n",
    "show(AV(a, h))"
   ]
  },
  {
   "cell_type": "code",
   "execution_count": 36,
   "id": "5f7f37bb-610f-4489-bbc2-d67dacd2afb4",
   "metadata": {},
   "outputs": [
    {
     "data": {
      "text/html": [
       "<html>\\(\\displaystyle -15.9983999999991\\)</html>"
      ],
      "text/latex": [
       "$\\displaystyle -15.9983999999991$"
      ],
      "text/plain": [
       "-15.9983999999991"
      ]
     },
     "metadata": {},
     "output_type": "display_data"
    }
   ],
   "source": [
    "h=-0.0001\n",
    "show(AV(a, h))"
   ]
  },
  {
   "cell_type": "code",
   "execution_count": 37,
   "id": "2e6ed721-b509-4514-8223-0196153b7be3",
   "metadata": {},
   "outputs": [
    {
     "data": {
      "text/html": [
       "<html>\\(\\displaystyle -15.9998400000028\\)</html>"
      ],
      "text/latex": [
       "$\\displaystyle -15.9998400000028$"
      ],
      "text/plain": [
       "-15.9998400000028"
      ]
     },
     "metadata": {},
     "output_type": "display_data"
    }
   ],
   "source": [
    "h=-0.00001\n",
    "show(AV(a, h))"
   ]
  },
  {
   "cell_type": "code",
   "execution_count": 38,
   "id": "6ad2244a-7d1c-443b-bda8-69533db90e1d",
   "metadata": {},
   "outputs": [
    {
     "data": {
      "text/html": [
       "<html>\\(\\displaystyle -15.9999984017389\\)</html>"
      ],
      "text/latex": [
       "$\\displaystyle -15.9999984017389$"
      ],
      "text/plain": [
       "-15.9999984017389"
      ]
     },
     "metadata": {},
     "output_type": "display_data"
    }
   ],
   "source": [
    "h=-0.0000001\n",
    "show(AV(a, h))"
   ]
  },
  {
   "cell_type": "code",
   "execution_count": 39,
   "id": "b729ec6d-07ca-4132-b2b5-6254bb8cd142",
   "metadata": {},
   "outputs": [
    {
     "data": {
      "text/html": [
       "<html>\\(\\displaystyle -15.9999998139426\\)</html>"
      ],
      "text/latex": [
       "$\\displaystyle -15.9999998139426$"
      ],
      "text/plain": [
       "-15.9999998139426"
      ]
     },
     "metadata": {},
     "output_type": "display_data"
    }
   ],
   "source": [
    "h=-0.00000001\n",
    "show(AV(a, h))"
   ]
  },
  {
   "cell_type": "code",
   "execution_count": 40,
   "id": "84134c8a-d008-46e0-be81-361662cf51bf",
   "metadata": {},
   "outputs": [
    {
     "data": {
      "text/html": [
       "<html>\\(\\displaystyle -16.0000004356675\\)</html>"
      ],
      "text/latex": [
       "$\\displaystyle -16.0000004356675$"
      ],
      "text/plain": [
       "-16.0000004356675"
      ]
     },
     "metadata": {},
     "output_type": "display_data"
    }
   ],
   "source": [
    "h=-0.000000001\n",
    "show(AV(a, h))"
   ]
  },
  {
   "cell_type": "code",
   "execution_count": 41,
   "id": "6e91e4ee-b280-4978-982c-641214d32695",
   "metadata": {},
   "outputs": [
    {
     "data": {
      "text/html": [
       "<html>\\(\\displaystyle -16.0000013238459\\)</html>"
      ],
      "text/latex": [
       "$\\displaystyle -16.0000013238459$"
      ],
      "text/plain": [
       "-16.0000013238459"
      ]
     },
     "metadata": {},
     "output_type": "display_data"
    }
   ],
   "source": [
    "h=-0.0000000001\n",
    "show(AV(a, h))"
   ]
  },
  {
   "cell_type": "markdown",
   "id": "f08af157-78d7-465c-9ddd-881978a2c7b0",
   "metadata": {},
   "source": [
    "From observing the above sequence of computation when $h$ is negative, the trend is still approaching $-16$ as $h$ progress towards to zero, the result is approaching $-16$. So our conclusion that the instantaneous velocity at $t=0.5$ second is indeed $-16$ feet/sec."
   ]
  },
  {
   "cell_type": "markdown",
   "id": "a656629a-5377-45b4-8e3c-18062b5e4a0e",
   "metadata": {},
   "source": [
    "**Activity 1.3**\n",
    "for $s(t) = 64 -16(t-1)^2$, find the most simplified expression for the average velocity of the ball on the interval $[2, 2+h]$. Use your result to compute the average velocity on $[1.5, 2]$ and to estimate the instantaneous velocity at $t=2$. Finally, compare your earlier work in Activity 1.1."
   ]
  },
  {
   "cell_type": "code",
   "execution_count": 42,
   "id": "b48795ed-6115-4ae2-a58e-2729ce228378",
   "metadata": {},
   "outputs": [
    {
     "data": {
      "text/html": [
       "<html>\\(\\displaystyle -24.0000000000000\\)</html>"
      ],
      "text/latex": [
       "$\\displaystyle -24.0000000000000$"
      ],
      "text/plain": [
       "-24.0000000000000"
      ]
     },
     "metadata": {},
     "output_type": "display_data"
    }
   ],
   "source": [
    "s(t) = 64 - 16*(t-1)^2\n",
    "var('h', 'a')\n",
    "AV(a,h) = (s(a+h) - s(a))/h\n",
    "\n",
    "show(AV(1.5,0.5))"
   ]
  },
  {
   "cell_type": "markdown",
   "id": "834aca11-04f4-4218-afcc-b85e75e2856d",
   "metadata": {},
   "source": [
    "To estimate the instantaneous velocity at $t=2$, we compute the average velocity at $t=2$, and allow h to progress smaller and smaller, from both negative and postitive directions."
   ]
  },
  {
   "cell_type": "code",
   "execution_count": 43,
   "id": "80401831-99fd-453b-b82b-f7dbb68224e6",
   "metadata": {},
   "outputs": [
    {
     "data": {
      "text/html": [
       "<html>\\(\\displaystyle -33.6000000000000\\)</html>"
      ],
      "text/latex": [
       "$\\displaystyle -33.6000000000000$"
      ],
      "text/plain": [
       "-33.6000000000000"
      ]
     },
     "metadata": {},
     "output_type": "display_data"
    },
    {
     "data": {
      "text/html": [
       "<html>\\(\\displaystyle -32.1600000000000\\)</html>"
      ],
      "text/latex": [
       "$\\displaystyle -32.1600000000000$"
      ],
      "text/plain": [
       "-32.1600000000000"
      ]
     },
     "metadata": {},
     "output_type": "display_data"
    },
    {
     "data": {
      "text/html": [
       "<html>\\(\\displaystyle -32.0159999999952\\)</html>"
      ],
      "text/latex": [
       "$\\displaystyle -32.0159999999952$"
      ],
      "text/plain": [
       "-32.0159999999952"
      ]
     },
     "metadata": {},
     "output_type": "display_data"
    },
    {
     "data": {
      "text/html": [
       "<html>\\(\\displaystyle -32.0015999999868\\)</html>"
      ],
      "text/latex": [
       "$\\displaystyle -32.0015999999868$"
      ],
      "text/plain": [
       "-32.0015999999868"
      ]
     },
     "metadata": {},
     "output_type": "display_data"
    },
    {
     "data": {
      "text/html": [
       "<html>\\(\\displaystyle -32.0001600002229\\)</html>"
      ],
      "text/latex": [
       "$\\displaystyle -32.0001600002229$"
      ],
      "text/plain": [
       "-32.0001600002229"
      ]
     },
     "metadata": {},
     "output_type": "display_data"
    },
    {
     "data": {
      "text/html": [
       "<html>\\(\\displaystyle -32.0000160058953\\)</html>"
      ],
      "text/latex": [
       "$\\displaystyle -32.0000160058953$"
      ],
      "text/plain": [
       "-32.0000160058953"
      ]
     },
     "metadata": {},
     "output_type": "display_data"
    }
   ],
   "source": [
    "show(AV(2,0.1))\n",
    "show(AV(2,0.01))\n",
    "show(AV(2,0.001))\n",
    "show(AV(2,0.0001))\n",
    "show(AV(2,0.00001))\n",
    "show(AV(2,0.000001))"
   ]
  },
  {
   "cell_type": "code",
   "execution_count": 44,
   "id": "a78a590b-e508-45ce-9a50-f23276e49b58",
   "metadata": {},
   "outputs": [
    {
     "data": {
      "text/html": [
       "<html>\\(\\displaystyle -30.4000000000000\\)</html>"
      ],
      "text/latex": [
       "$\\displaystyle -30.4000000000000$"
      ],
      "text/plain": [
       "-30.4000000000000"
      ]
     },
     "metadata": {},
     "output_type": "display_data"
    },
    {
     "data": {
      "text/html": [
       "<html>\\(\\displaystyle -31.8400000000000\\)</html>"
      ],
      "text/latex": [
       "$\\displaystyle -31.8400000000000$"
      ],
      "text/plain": [
       "-31.8400000000000"
      ]
     },
     "metadata": {},
     "output_type": "display_data"
    },
    {
     "data": {
      "text/html": [
       "<html>\\(\\displaystyle -31.9839999999960\\)</html>"
      ],
      "text/latex": [
       "$\\displaystyle -31.9839999999960$"
      ],
      "text/plain": [
       "-31.9839999999960"
      ]
     },
     "metadata": {},
     "output_type": "display_data"
    },
    {
     "data": {
      "text/html": [
       "<html>\\(\\displaystyle -31.9983999999884\\)</html>"
      ],
      "text/latex": [
       "$\\displaystyle -31.9983999999884$"
      ],
      "text/plain": [
       "-31.9983999999884"
      ]
     },
     "metadata": {},
     "output_type": "display_data"
    },
    {
     "data": {
      "text/html": [
       "<html>\\(\\displaystyle -31.9998400001964\\)</html>"
      ],
      "text/latex": [
       "$\\displaystyle -31.9998400001964$"
      ],
      "text/plain": [
       "-31.9998400001964"
      ]
     },
     "metadata": {},
     "output_type": "display_data"
    },
    {
     "data": {
      "text/html": [
       "<html>\\(\\displaystyle -31.9999839977214\\)</html>"
      ],
      "text/latex": [
       "$\\displaystyle -31.9999839977214$"
      ],
      "text/plain": [
       "-31.9999839977214"
      ]
     },
     "metadata": {},
     "output_type": "display_data"
    }
   ],
   "source": [
    "show(AV(2,-0.1))\n",
    "show(AV(2,-0.01))\n",
    "show(AV(2,-0.001))\n",
    "show(AV(2,-0.0001))\n",
    "show(AV(2,-0.00001))\n",
    "show(AV(2,-0.000001))"
   ]
  },
  {
   "cell_type": "code",
   "execution_count": 45,
   "id": "01ef2509-702a-42bc-9bc1-3d688a15c15c",
   "metadata": {},
   "outputs": [
    {
     "data": {
      "text/html": [
       "<html>\\(\\displaystyle -31.9999839977214\\)</html>"
      ],
      "text/latex": [
       "$\\displaystyle -31.9999839977214$"
      ],
      "text/plain": [
       "-31.9999839977214"
      ]
     },
     "metadata": {},
     "output_type": "display_data"
    },
    {
     "data": {
      "text/html": [
       "<html>\\(\\displaystyle -31.9999984199626\\)</html>"
      ],
      "text/latex": [
       "$\\displaystyle -31.9999984199626$"
      ],
      "text/plain": [
       "-31.9999984199626"
      ]
     },
     "metadata": {},
     "output_type": "display_data"
    },
    {
     "data": {
      "text/html": [
       "<html>\\(\\displaystyle -31.9999996278852\\)</html>"
      ],
      "text/latex": [
       "$\\displaystyle -31.9999996278852$"
      ],
      "text/plain": [
       "-31.9999996278852"
      ]
     },
     "metadata": {},
     "output_type": "display_data"
    },
    {
     "data": {
      "text/html": [
       "<html>\\(\\displaystyle -32.0000026476919\\)</html>"
      ],
      "text/latex": [
       "$\\displaystyle -32.0000026476919$"
      ],
      "text/plain": [
       "-32.0000026476919"
      ]
     },
     "metadata": {},
     "output_type": "display_data"
    },
    {
     "data": {
      "text/html": [
       "<html>\\(\\displaystyle -32.0000026476919\\)</html>"
      ],
      "text/latex": [
       "$\\displaystyle -32.0000026476919$"
      ],
      "text/plain": [
       "-32.0000026476919"
      ]
     },
     "metadata": {},
     "output_type": "display_data"
    },
    {
     "data": {
      "text/html": [
       "<html>\\(\\displaystyle -32.0000026476919\\)</html>"
      ],
      "text/latex": [
       "$\\displaystyle -32.0000026476919$"
      ],
      "text/plain": [
       "-32.0000026476919"
      ]
     },
     "metadata": {},
     "output_type": "display_data"
    }
   ],
   "source": [
    "show(AV(2,-0.000001))\n",
    "show(AV(2,-0.0000001))\n",
    "show(AV(2,-0.00000001))\n",
    "show(AV(2,-0.000000001))\n",
    "show(AV(2,-0.0000000001))\n",
    "show(AV(2,-0.00000000001))"
   ]
  },
  {
   "cell_type": "markdown",
   "id": "fb99043d-cfc1-418b-b3ab-66cfe202b1ea",
   "metadata": {},
   "source": [
    "So from the above results, we conclude that at $t=2$, the instantaneous velocity is $-32$ feet/sec. This result is the same as Activity 1.1\n",
    "\n",
    "**Question:\n",
    "Does it even make sense to have negative velocity?**\n",
    "\n",
    "Oops, we are in some trouble!! Let's figure this out.\n",
    "\n",
    "Clue: The text has the same answer, some negative velocity.\n",
    "\n",
    "**Exercises**\n",
    "\n",
    "This part is for the students to complete. Use the sample code above to help you do the exercises."
   ]
  },
  {
   "cell_type": "code",
   "execution_count": null,
   "id": "df3b1b20-3510-4ed4-a2b1-2ea181d930c1",
   "metadata": {},
   "outputs": [],
   "source": []
  }
 ],
 "metadata": {
  "kernelspec": {
   "display_name": "SageMath 9.7",
   "language": "sage",
   "name": "sagemath"
  },
  "language_info": {
   "codemirror_mode": {
    "name": "ipython",
    "version": 3
   },
   "file_extension": ".py",
   "mimetype": "text/x-python",
   "name": "python",
   "nbconvert_exporter": "python",
   "pygments_lexer": "ipython3",
   "version": "3.10.6"
  }
 },
 "nbformat": 4,
 "nbformat_minor": 5
}
