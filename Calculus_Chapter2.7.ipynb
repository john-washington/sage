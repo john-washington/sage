{
 "cells": [
  {
   "cell_type": "markdown",
   "id": "f92a5831-4d6e-46bd-a4ce-3b17aef7bdb2",
   "metadata": {},
   "source": [
    "**2.7 Derivatives of Functions Given Implicitly**\n",
    "\n",
    "**Preview Activity 2.7**\n",
    "\n",
    "a) $\\frac{d}{dx}[x^2 + f(x)]$"
   ]
  },
  {
   "cell_type": "markdown",
   "id": "b804473f-7c81-4f6f-8ddc-35f5cb69473b",
   "metadata": {},
   "source": [
    "applying the sum rule: $2 x + f'(x)$"
   ]
  },
  {
   "cell_type": "markdown",
   "id": "89cc3336-7ea2-47d4-adfe-70c78c5c78ad",
   "metadata": {},
   "source": []
  },
  {
   "cell_type": "code",
   "execution_count": 215,
   "id": "04bd6fdf-b327-4504-8819-a5894247ea8b",
   "metadata": {},
   "outputs": [],
   "source": [
    "\n",
    "def symbolic_diff(f, x):\n",
    "  f = function('f')  \n",
    "  return diff(f(x), x)\n"
   ]
  },
  {
   "cell_type": "code",
   "execution_count": null,
   "id": "ad4874d8-bcc1-4ada-90cd-72e9b5d90599",
   "metadata": {},
   "outputs": [],
   "source": [
    "\n",
    "    "
   ]
  },
  {
   "cell_type": "code",
   "execution_count": 216,
   "id": "b3ef516b-ba20-4458-918c-38dff219a7d4",
   "metadata": {},
   "outputs": [],
   "source": [
    "#provided, f, g are inverse\n",
    "def g_prime_as_Inverse_Diff_f(f, g, x):\n",
    "  f_prime(x) = diff(f(x),x)\n",
    "  #c(x) = Chain_Rule(f_prime, g, x)\n",
    "  g_prime(x) = 1/f_prime(g(x))\n",
    "  #g_prime(x) = 1/Chain_Rule(f_prime, g, x)\n",
    "  return g_prime(x)\n"
   ]
  },
  {
   "cell_type": "code",
   "execution_count": 411,
   "id": "88b34a3f-4aad-4d9d-930f-fc0ef41efea8",
   "metadata": {},
   "outputs": [],
   "source": [
    "def Chain_Rule(f, g, x):\n",
    "  f_prime(x) = diff(f(x),x)\n",
    "  g_prime(x) = diff(g(x),x)\n",
    "  C_prime(x) = f_prime(g(x))*g_prime(x)\n",
    "  return C_prime(x)\n"
   ]
  },
  {
   "cell_type": "code",
   "execution_count": 401,
   "id": "3425c8b2-5211-40d3-826d-9fed4b8ba2f5",
   "metadata": {},
   "outputs": [],
   "source": [
    "def Quotient_Rule(f, g, x):\n",
    "  f_prime(x) = diff(f(x),x)\n",
    "  g_prime(x) = diff(g(x),x)\n",
    "  Q_prime(x) = (g*f_prime(x) - f*g_prime(x))/g^2\n",
    "  return Q_prime(x)\n"
   ]
  },
  {
   "cell_type": "code",
   "execution_count": 397,
   "id": "18a571e6-187d-42d2-88e1-dec5772dcf21",
   "metadata": {
    "tags": []
   },
   "outputs": [],
   "source": [
    "def Product_Rule(f, g, x):\n",
    "  f_prime(x) = diff(f,x)\n",
    "  g_prime(x) = diff(g,x)\n",
    "  P_prime(x) = f*g_prime(x) + g*f_prime(x)\n",
    "  return P_prime(x)\n"
   ]
  },
  {
   "cell_type": "code",
   "execution_count": 403,
   "id": "e73a1ace-1639-437b-b24e-d53bd253ff40",
   "metadata": {},
   "outputs": [
    {
     "data": {
      "text/html": [
       "<html>\\(\\displaystyle x^{2} \\frac{\\partial}{\\partial x}f\\left(x\\right) + 2 \\, x f\\left(x\\right)\\)</html>"
      ],
      "text/latex": [
       "$\\displaystyle x^{2} \\frac{\\partial}{\\partial x}f\\left(x\\right) + 2 \\, x f\\left(x\\right)$"
      ],
      "text/plain": [
       "x^2*diff(f(x), x) + 2*x*f(x)"
      ]
     },
     "metadata": {},
     "output_type": "display_data"
    }
   ],
   "source": [
    "g(x) = x^2\n",
    "f = function('f')(x)\n",
    "show(Product_Rule(g, f, x))\n"
   ]
  },
  {
   "cell_type": "markdown",
   "id": "5f8686c5-3234-4bd3-bd4d-3afcc3ed16d8",
   "metadata": {},
   "source": [
    "c) $\\frac{d}{dx}[c + x + f(x)^2]$"
   ]
  },
  {
   "cell_type": "code",
   "execution_count": 404,
   "id": "9c5b375f-0a7a-438b-872d-407cfc27bc68",
   "metadata": {},
   "outputs": [
    {
     "data": {
      "text/html": [
       "<html>\\(\\displaystyle 2 \\, f\\left(x\\right) \\frac{\\partial}{\\partial x}f\\left(x\\right) + 1\\)</html>"
      ],
      "text/latex": [
       "$\\displaystyle 2 \\, f\\left(x\\right) \\frac{\\partial}{\\partial x}f\\left(x\\right) + 1$"
      ],
      "text/plain": [
       "2*f(x)*diff(f(x), x) + 1"
      ]
     },
     "metadata": {},
     "output_type": "display_data"
    },
    {
     "data": {
      "text/html": [
       "<html>\\(\\displaystyle 2 \\, f\\left(x\\right) \\frac{\\partial}{\\partial x}f\\left(x\\right) + 1\\)</html>"
      ],
      "text/latex": [
       "$\\displaystyle 2 \\, f\\left(x\\right) \\frac{\\partial}{\\partial x}f\\left(x\\right) + 1$"
      ],
      "text/plain": [
       "2*f(x)*diff(f(x), x) + 1"
      ]
     },
     "metadata": {},
     "output_type": "display_data"
    }
   ],
   "source": [
    "var('c')\n",
    "f = function('f')(x)\n",
    "show(diff((c + x + f^2), x))\n",
    "\n",
    "show(diff(c, x) + diff(x, x) + Product_Rule(f, f, x))"
   ]
  },
  {
   "cell_type": "markdown",
   "id": "bec37bea-2c37-4b0f-ae3b-ea7fc92f2a35",
   "metadata": {},
   "source": [
    "d) $\\frac{d}{dx} [f(x^2)]$"
   ]
  },
  {
   "cell_type": "code",
   "execution_count": 418,
   "id": "b479c875-470e-47ec-a415-16c696adbe78",
   "metadata": {},
   "outputs": [
    {
     "data": {
      "text/html": [
       "<html>\\(\\displaystyle \\frac{\\partial}{\\partial x}f\\left(x\\right)\\)</html>"
      ],
      "text/latex": [
       "$\\displaystyle \\frac{\\partial}{\\partial x}f\\left(x\\right)$"
      ],
      "text/plain": [
       "diff(f(x), x)"
      ]
     },
     "metadata": {},
     "output_type": "display_data"
    },
    {
     "data": {
      "text/html": [
       "<html>\\(\\displaystyle 2 \\, x \\mathrm{D}_{0}\\left(f\\right)\\left(x^{2}\\right)\\)</html>"
      ],
      "text/latex": [
       "$\\displaystyle 2 \\, x \\mathrm{D}_{0}\\left(f\\right)\\left(x^{2}\\right)$"
      ],
      "text/plain": [
       "2*x*D[0](f)(x^2)"
      ]
     },
     "metadata": {},
     "output_type": "display_data"
    },
    {
     "data": {
      "text/html": [
       "<html>\\(\\displaystyle 2 \\, x \\mathrm{D}_{0}\\left(f\\right)\\left(x^{2}\\right)\\)</html>"
      ],
      "text/latex": [
       "$\\displaystyle 2 \\, x \\mathrm{D}_{0}\\left(f\\right)\\left(x^{2}\\right)$"
      ],
      "text/plain": [
       "2*x*D[0](f)(x^2)"
      ]
     },
     "metadata": {},
     "output_type": "display_data"
    }
   ],
   "source": [
    "x = var('x')\n",
    "f = function('f')\n",
    "show(diff(f(x),x))\n",
    "g = function('g')\n",
    "g(x) = x^2\n",
    "show(Chain_Rule(f, g, x))\n",
    "show(diff(f(g(x)), x))"
   ]
  },
  {
   "cell_type": "markdown",
   "id": "21c8e703-168e-4b36-b220-a86f1dc13b96",
   "metadata": {},
   "source": [
    "e) $\\frac{d}{dx}[x f(x) + f(c x) + c f(x)]$"
   ]
  },
  {
   "cell_type": "code",
   "execution_count": 421,
   "id": "a1692e8b-b61c-4063-8f95-2206346bdcfe",
   "metadata": {},
   "outputs": [
    {
     "data": {
      "text/html": [
       "<html>\\(\\displaystyle x \\frac{\\partial}{\\partial x}f\\left(x\\right) + f\\left(x\\right)\\)</html>"
      ],
      "text/latex": [
       "$\\displaystyle x \\frac{\\partial}{\\partial x}f\\left(x\\right) + f\\left(x\\right)$"
      ],
      "text/plain": [
       "x*diff(f(x), x) + f(x)"
      ]
     },
     "metadata": {},
     "output_type": "display_data"
    },
    {
     "data": {
      "text/html": [
       "<html>\\(\\displaystyle c \\mathrm{D}_{0}\\left(f\\right)\\left(c x\\right)\\)</html>"
      ],
      "text/latex": [
       "$\\displaystyle c \\mathrm{D}_{0}\\left(f\\right)\\left(c x\\right)$"
      ],
      "text/plain": [
       "c*D[0](f)(c*x)"
      ]
     },
     "metadata": {},
     "output_type": "display_data"
    },
    {
     "data": {
      "text/html": [
       "<html>\\(\\displaystyle c \\frac{\\partial}{\\partial x}f\\left(x\\right)\\)</html>"
      ],
      "text/latex": [
       "$\\displaystyle c \\frac{\\partial}{\\partial x}f\\left(x\\right)$"
      ],
      "text/plain": [
       "c*diff(f(x), x)"
      ]
     },
     "metadata": {},
     "output_type": "display_data"
    },
    {
     "data": {
      "text/html": [
       "<html>\\(\\displaystyle c \\mathrm{D}_{0}\\left(f\\right)\\left(c x\\right) + c \\frac{\\partial}{\\partial x}f\\left(x\\right) + x \\frac{\\partial}{\\partial x}f\\left(x\\right) + f\\left(x\\right)\\)</html>"
      ],
      "text/latex": [
       "$\\displaystyle c \\mathrm{D}_{0}\\left(f\\right)\\left(c x\\right) + c \\frac{\\partial}{\\partial x}f\\left(x\\right) + x \\frac{\\partial}{\\partial x}f\\left(x\\right) + f\\left(x\\right)$"
      ],
      "text/plain": [
       "c*D[0](f)(c*x) + c*diff(f(x), x) + x*diff(f(x), x) + f(x)"
      ]
     },
     "metadata": {},
     "output_type": "display_data"
    }
   ],
   "source": [
    "f=function('f')\n",
    "g=function('g')\n",
    "g0 = function('g0')\n",
    "var('c')\n",
    "g(x) =x\n",
    "show(Product_Rule(g(x), f(x), x))\n",
    "g0(x) = c*x\n",
    "show(Chain_Rule(f, g0, x))\n",
    "show(diff(c*f(x), x))\n",
    "\n",
    "show(diff(x*f(x) + f(c*x) + c*f(x), x))"
   ]
  },
  {
   "cell_type": "code",
   "execution_count": 224,
   "id": "b47e6585-ae69-4327-9ad1-7f09355c940e",
   "metadata": {},
   "outputs": [
    {
     "data": {
      "text/html": [
       "<html>\\(\\displaystyle \\frac{\\partial}{\\partial a}{\\rm cr}\\left(a\\right)\\)</html>"
      ],
      "text/latex": [
       "$\\displaystyle \\frac{\\partial}{\\partial a}{\\rm cr}\\left(a\\right)$"
      ],
      "text/plain": [
       "diff(cr(a), a)"
      ]
     },
     "metadata": {},
     "output_type": "display_data"
    }
   ],
   "source": [
    "a = var('a')\n",
    "f = function('cr')(a)\n",
    "g = f.diff(a); show(g)"
   ]
  },
  {
   "cell_type": "markdown",
   "id": "42c7a609-1e99-403c-ac23-b5b53303bed5",
   "metadata": {},
   "source": [
    "**Implicit Differentiation**\n"
   ]
  },
  {
   "cell_type": "code",
   "execution_count": null,
   "id": "3cfda22b-36fc-47a9-973a-382e0d64ee47",
   "metadata": {},
   "outputs": [],
   "source": [
    "(x^2).diff(x)"
   ]
  },
  {
   "cell_type": "code",
   "execution_count": 424,
   "id": "0965ea74-577e-42ae-a4ca-af7d7ac347a8",
   "metadata": {},
   "outputs": [
    {
     "data": {
      "text/html": [
       "<html>\\(\\displaystyle 2 \\, y\\left(x\\right) \\frac{\\partial}{\\partial x}y\\left(x\\right)\\)</html>"
      ],
      "text/latex": [
       "$\\displaystyle 2 \\, y\\left(x\\right) \\frac{\\partial}{\\partial x}y\\left(x\\right)$"
      ],
      "text/plain": [
       "2*y(x)*diff(y(x), x)"
      ]
     },
     "metadata": {},
     "output_type": "display_data"
    }
   ],
   "source": [
    "y = function('y')(x)\n",
    "z =Product_Rule(y, y, x)\n",
    "show(z)\n"
   ]
  },
  {
   "cell_type": "code",
   "execution_count": 425,
   "id": "9f830e8f-6878-4adc-8ee6-6e4250850dc2",
   "metadata": {},
   "outputs": [
    {
     "data": {
      "text/plain": [
       "[dy_dx == -x/y]"
      ]
     },
     "execution_count": 425,
     "metadata": {},
     "output_type": "execute_result"
    }
   ],
   "source": [
    "#replacing f(x) with y, we have:\n",
    "var('y', 'x')\n",
    "var('dy_dx')\n",
    "solve([2*x + 2*y *( dy_dx) ==0], dy_dx)"
   ]
  },
  {
   "cell_type": "code",
   "execution_count": 429,
   "id": "5c16f926-8495-45b2-8f2e-89f0e4450efc",
   "metadata": {},
   "outputs": [
    {
     "data": {
      "text/html": [
       "<html>\\(\\displaystyle x \\ {\\mapsto}\\ 0\\)</html>"
      ],
      "text/latex": [
       "$\\displaystyle x \\ {\\mapsto}\\ 0$"
      ],
      "text/plain": [
       "x |--> 0"
      ]
     },
     "metadata": {},
     "output_type": "display_data"
    },
    {
     "data": {
      "text/html": [
       "<html>\\(\\displaystyle 3 \\, x^{2} - 2 \\, x \\frac{\\partial}{\\partial x}y\\left(x\\right) + 2 \\, y\\left(x\\right) \\frac{\\partial}{\\partial x}y\\left(x\\right) - 2 \\, y\\left(x\\right)\\)</html>"
      ],
      "text/latex": [
       "$\\displaystyle 3 \\, x^{2} - 2 \\, x \\frac{\\partial}{\\partial x}y\\left(x\\right) + 2 \\, y\\left(x\\right) \\frac{\\partial}{\\partial x}y\\left(x\\right) - 2 \\, y\\left(x\\right)$"
      ],
      "text/plain": [
       "3*x^2 - 2*x*diff(y(x), x) + 2*y(x)*diff(y(x), x) - 2*y(x)"
      ]
     },
     "metadata": {},
     "output_type": "display_data"
    }
   ],
   "source": [
    "#x^3 + y^2 - 2* x *y ==2\n",
    "#right hand side:\n",
    "g(x) =2\n",
    "show(g.diff(x))\n",
    "\n",
    "#left hand side:\n",
    "var('f1') #f1 is an expression\n",
    "#show(type(f1))\n",
    "f1=x^3\n",
    "y=function('y')(x) #this represents: y = f(x)\n",
    "f3=function('f3')(x)\n",
    "f3(x) = -2*x\n",
    "\n",
    "show(f1.diff(x) + Product_Rule(y, y, x) + Product_Rule(f3, y, x))"
   ]
  },
  {
   "cell_type": "markdown",
   "id": "1cd1447c-90f5-46b1-b843-7226fd534f1c",
   "metadata": {},
   "source": [
    "we replace the symbol of [d/dx]y(x) with directly dy/dx, then the result looks like the following, with dx_dy representing the dy/dx, so that it can solved:"
   ]
  },
  {
   "cell_type": "code",
   "execution_count": 430,
   "id": "677a3e21-9a9a-4c01-a384-2f7fe8fb31d1",
   "metadata": {},
   "outputs": [
    {
     "data": {
      "text/html": [
       "<html>\\(\\displaystyle \\left[\\mathit{dy}_{\\mathit{dx}} = \\frac{3 \\, x^{2} - 2 \\, y}{2 \\, {\\left(x - y\\right)}}\\right]\\)</html>"
      ],
      "text/latex": [
       "$\\displaystyle \\left[\\mathit{dy}_{\\mathit{dx}} = \\frac{3 \\, x^{2} - 2 \\, y}{2 \\, {\\left(x - y\\right)}}\\right]$"
      ],
      "text/plain": [
       "[dy_dx == 1/2*(3*x^2 - 2*y)/(x - y)]"
      ]
     },
     "metadata": {},
     "output_type": "display_data"
    }
   ],
   "source": [
    "var('dy_dx', 'y')\n",
    "show(solve([3*x^2-2*x*dy_dx + 2*y*dy_dx -2*y==0], dy_dx))"
   ]
  },
  {
   "cell_type": "code",
   "execution_count": 431,
   "id": "1f44dc60-5a98-4fb8-b2bf-61c3e11832e7",
   "metadata": {},
   "outputs": [
    {
     "data": {
      "text/html": [
       "<html>\\(\\displaystyle \\frac{3 \\, x^{2} - 2 \\, y}{2 \\, {\\left(x - y\\right)}}\\)</html>"
      ],
      "text/latex": [
       "$\\displaystyle \\frac{3 \\, x^{2} - 2 \\, y}{2 \\, {\\left(x - y\\right)}}$"
      ],
      "text/plain": [
       "1/2*(3*x^2 - 2*y)/(x - y)"
      ]
     },
     "metadata": {},
     "output_type": "display_data"
    },
    {
     "data": {
      "text/html": [
       "<html>\\(\\displaystyle -\\frac{1}{4}\\)</html>"
      ],
      "text/latex": [
       "$\\displaystyle -\\frac{1}{4}$"
      ],
      "text/plain": [
       "-1/4"
      ]
     },
     "metadata": {},
     "output_type": "display_data"
    }
   ],
   "source": [
    "dy_dx(x,y) =(3*x^2 - 2*y)/(2*(x-y))\n",
    "show(dy_dx(x,y))\n",
    "show(dy_dx(-1, 1))"
   ]
  },
  {
   "cell_type": "markdown",
   "id": "6cf6c26b-890b-43db-b75b-6987d046dd04",
   "metadata": {},
   "source": [
    "**Activty 2.19**\n",
    "\n",
    "a)"
   ]
  },
  {
   "cell_type": "code",
   "execution_count": 344,
   "id": "dc4a45cc-08b5-4188-9e63-99373933553b",
   "metadata": {},
   "outputs": [
    {
     "data": {
      "image/png": "[encoded data removed]",
      "text/plain": [
       "Graphics object consisting of 1 graphics primitive"
      ]
     },
     "execution_count": 344,
     "metadata": {},
     "output_type": "execute_result"
    }
   ],
   "source": [
    "var('x')\n",
    "#y=function('y')(x)\n",
    "x=  y^5 -5 * y^3 + 4*y\n",
    "f = x^(-1)\n",
    "plot(x, (y, -2, 2))"
   ]
  },
  {
   "cell_type": "code",
   "execution_count": 345,
   "id": "423dcaa8-cb15-4782-be4c-b494c4ef3d3f",
   "metadata": {},
   "outputs": [
    {
     "data": {
      "text/html": [
       "<html>\\(\\displaystyle \\left[y\\left(y^{5} - 5 \\, y^{3} + 4 \\, y\\right) = y, y\\left(y^{5} - 5 \\, y^{3} + 4 \\, y\\right) = -\\frac{1}{4} \\, y - \\frac{1}{2} \\, \\sqrt{-\\frac{5}{6} \\, y^{2} - \\frac{9 \\, y^{4} + {\\left(y^{2} - 5\\right)}^{2} - 45 \\, y^{2} + 48}{9 \\, {\\left(-y^{6} + \\frac{25}{2} \\, y^{4} + \\frac{1}{27} \\, {\\left(y^{2} - 5\\right)}^{3} + \\frac{1}{6} \\, {\\left(3 \\, y^{4} - 15 \\, y^{2} + 16\\right)} {\\left(y^{2} - 5\\right)} - \\frac{87}{2} \\, y^{2} + \\frac{1}{6} \\, \\sqrt{-\\frac{125}{3} \\, y^{12} + \\frac{1750}{3} \\, y^{10} - 2975 \\, y^{8} + 6600 \\, y^{6} - 6080 \\, y^{4} + \\frac{8620}{3} \\, y^{2} - 1728} + 40\\right)}^{\\frac{1}{3}}} + \\frac{3 \\, {\\left(9 \\, y^{3} - 4 \\, {\\left(y^{2} - 5\\right)} y - 40 \\, y\\right)}}{2 \\, \\sqrt{\\frac{40 \\, y^{4} - 220 \\, y^{2} - 15 \\, {\\left(-y^{6} + \\frac{25}{2} \\, y^{4} + \\frac{1}{27} \\, {\\left(y^{2} - 5\\right)}^{3} + \\frac{1}{6} \\, {\\left(3 \\, y^{4} - 15 \\, y^{2} + 16\\right)} {\\left(y^{2} - 5\\right)} - \\frac{87}{2} \\, y^{2} + \\frac{1}{6} \\, \\sqrt{-\\frac{125}{3} \\, y^{12} + \\frac{1750}{3} \\, y^{10} - 2975 \\, y^{8} + 6600 \\, y^{6} - 6080 \\, y^{4} + \\frac{8620}{3} \\, y^{2} - 1728} + 40\\right)}^{\\frac{1}{3}} {\\left(y^{2} - 8\\right)} + 36 \\, {\\left(-y^{6} + \\frac{25}{2} \\, y^{4} + \\frac{1}{27} \\, {\\left(y^{2} - 5\\right)}^{3} + \\frac{1}{6} \\, {\\left(3 \\, y^{4} - 15 \\, y^{2} + 16\\right)} {\\left(y^{2} - 5\\right)} - \\frac{87}{2} \\, y^{2} + \\frac{1}{6} \\, \\sqrt{-\\frac{125}{3} \\, y^{12} + \\frac{1750}{3} \\, y^{10} - 2975 \\, y^{8} + 6600 \\, y^{6} - 6080 \\, y^{4} + \\frac{8620}{3} \\, y^{2} - 1728} + 40\\right)}^{\\frac{2}{3}} + 292}{{\\left(-y^{6} + \\frac{25}{2} \\, y^{4} + \\frac{1}{27} \\, {\\left(y^{2} - 5\\right)}^{3} + \\frac{1}{6} \\, {\\left(3 \\, y^{4} - 15 \\, y^{2} + 16\\right)} {\\left(y^{2} - 5\\right)} - \\frac{87}{2} \\, y^{2} + \\frac{1}{6} \\, \\sqrt{-\\frac{125}{3} \\, y^{12} + \\frac{1750}{3} \\, y^{10} - 2975 \\, y^{8} + 6600 \\, y^{6} - 6080 \\, y^{4} + \\frac{8620}{3} \\, y^{2} - 1728} + 40\\right)}^{\\frac{1}{3}}}}} - {\\left(-y^{6} + \\frac{25}{2} \\, y^{4} + \\frac{1}{27} \\, {\\left(y^{2} - 5\\right)}^{3} + \\frac{1}{6} \\, {\\left(3 \\, y^{4} - 15 \\, y^{2} + 16\\right)} {\\left(y^{2} - 5\\right)} - \\frac{87}{2} \\, y^{2} + \\frac{1}{6} \\, \\sqrt{-\\frac{125}{3} \\, y^{12} + \\frac{1750}{3} \\, y^{10} - 2975 \\, y^{8} + 6600 \\, y^{6} - 6080 \\, y^{4} + \\frac{8620}{3} \\, y^{2} - 1728} + 40\\right)}^{\\frac{1}{3}} + \\frac{20}{3}} - \\frac{1}{12} \\, \\sqrt{\\frac{40 \\, y^{4} - 220 \\, y^{2} - 15 \\, {\\left(-y^{6} + \\frac{25}{2} \\, y^{4} + \\frac{1}{27} \\, {\\left(y^{2} - 5\\right)}^{3} + \\frac{1}{6} \\, {\\left(3 \\, y^{4} - 15 \\, y^{2} + 16\\right)} {\\left(y^{2} - 5\\right)} - \\frac{87}{2} \\, y^{2} + \\frac{1}{6} \\, \\sqrt{-\\frac{125}{3} \\, y^{12} + \\frac{1750}{3} \\, y^{10} - 2975 \\, y^{8} + 6600 \\, y^{6} - 6080 \\, y^{4} + \\frac{8620}{3} \\, y^{2} - 1728} + 40\\right)}^{\\frac{1}{3}} {\\left(y^{2} - 8\\right)} + 36 \\, {\\left(-y^{6} + \\frac{25}{2} \\, y^{4} + \\frac{1}{27} \\, {\\left(y^{2} - 5\\right)}^{3} + \\frac{1}{6} \\, {\\left(3 \\, y^{4} - 15 \\, y^{2} + 16\\right)} {\\left(y^{2} - 5\\right)} - \\frac{87}{2} \\, y^{2} + \\frac{1}{6} \\, \\sqrt{-\\frac{125}{3} \\, y^{12} + \\frac{1750}{3} \\, y^{10} - 2975 \\, y^{8} + 6600 \\, y^{6} - 6080 \\, y^{4} + \\frac{8620}{3} \\, y^{2} - 1728} + 40\\right)}^{\\frac{2}{3}} + 292}{{\\left(-y^{6} + \\frac{25}{2} \\, y^{4} + \\frac{1}{27} \\, {\\left(y^{2} - 5\\right)}^{3} + \\frac{1}{6} \\, {\\left(3 \\, y^{4} - 15 \\, y^{2} + 16\\right)} {\\left(y^{2} - 5\\right)} - \\frac{87}{2} \\, y^{2} + \\frac{1}{6} \\, \\sqrt{-\\frac{125}{3} \\, y^{12} + \\frac{1750}{3} \\, y^{10} - 2975 \\, y^{8} + 6600 \\, y^{6} - 6080 \\, y^{4} + \\frac{8620}{3} \\, y^{2} - 1728} + 40\\right)}^{\\frac{1}{3}}}}, y\\left(y^{5} - 5 \\, y^{3} + 4 \\, y\\right) = -\\frac{1}{4} \\, y + \\frac{1}{2} \\, \\sqrt{-\\frac{5}{6} \\, y^{2} - \\frac{9 \\, y^{4} + {\\left(y^{2} - 5\\right)}^{2} - 45 \\, y^{2} + 48}{9 \\, {\\left(-y^{6} + \\frac{25}{2} \\, y^{4} + \\frac{1}{27} \\, {\\left(y^{2} - 5\\right)}^{3} + \\frac{1}{6} \\, {\\left(3 \\, y^{4} - 15 \\, y^{2} + 16\\right)} {\\left(y^{2} - 5\\right)} - \\frac{87}{2} \\, y^{2} + \\frac{1}{6} \\, \\sqrt{-\\frac{125}{3} \\, y^{12} + \\frac{1750}{3} \\, y^{10} - 2975 \\, y^{8} + 6600 \\, y^{6} - 6080 \\, y^{4} + \\frac{8620}{3} \\, y^{2} - 1728} + 40\\right)}^{\\frac{1}{3}}} + \\frac{3 \\, {\\left(9 \\, y^{3} - 4 \\, {\\left(y^{2} - 5\\right)} y - 40 \\, y\\right)}}{2 \\, \\sqrt{\\frac{40 \\, y^{4} - 220 \\, y^{2} - 15 \\, {\\left(-y^{6} + \\frac{25}{2} \\, y^{4} + \\frac{1}{27} \\, {\\left(y^{2} - 5\\right)}^{3} + \\frac{1}{6} \\, {\\left(3 \\, y^{4} - 15 \\, y^{2} + 16\\right)} {\\left(y^{2} - 5\\right)} - \\frac{87}{2} \\, y^{2} + \\frac{1}{6} \\, \\sqrt{-\\frac{125}{3} \\, y^{12} + \\frac{1750}{3} \\, y^{10} - 2975 \\, y^{8} + 6600 \\, y^{6} - 6080 \\, y^{4} + \\frac{8620}{3} \\, y^{2} - 1728} + 40\\right)}^{\\frac{1}{3}} {\\left(y^{2} - 8\\right)} + 36 \\, {\\left(-y^{6} + \\frac{25}{2} \\, y^{4} + \\frac{1}{27} \\, {\\left(y^{2} - 5\\right)}^{3} + \\frac{1}{6} \\, {\\left(3 \\, y^{4} - 15 \\, y^{2} + 16\\right)} {\\left(y^{2} - 5\\right)} - \\frac{87}{2} \\, y^{2} + \\frac{1}{6} \\, \\sqrt{-\\frac{125}{3} \\, y^{12} + \\frac{1750}{3} \\, y^{10} - 2975 \\, y^{8} + 6600 \\, y^{6} - 6080 \\, y^{4} + \\frac{8620}{3} \\, y^{2} - 1728} + 40\\right)}^{\\frac{2}{3}} + 292}{{\\left(-y^{6} + \\frac{25}{2} \\, y^{4} + \\frac{1}{27} \\, {\\left(y^{2} - 5\\right)}^{3} + \\frac{1}{6} \\, {\\left(3 \\, y^{4} - 15 \\, y^{2} + 16\\right)} {\\left(y^{2} - 5\\right)} - \\frac{87}{2} \\, y^{2} + \\frac{1}{6} \\, \\sqrt{-\\frac{125}{3} \\, y^{12} + \\frac{1750}{3} \\, y^{10} - 2975 \\, y^{8} + 6600 \\, y^{6} - 6080 \\, y^{4} + \\frac{8620}{3} \\, y^{2} - 1728} + 40\\right)}^{\\frac{1}{3}}}}} - {\\left(-y^{6} + \\frac{25}{2} \\, y^{4} + \\frac{1}{27} \\, {\\left(y^{2} - 5\\right)}^{3} + \\frac{1}{6} \\, {\\left(3 \\, y^{4} - 15 \\, y^{2} + 16\\right)} {\\left(y^{2} - 5\\right)} - \\frac{87}{2} \\, y^{2} + \\frac{1}{6} \\, \\sqrt{-\\frac{125}{3} \\, y^{12} + \\frac{1750}{3} \\, y^{10} - 2975 \\, y^{8} + 6600 \\, y^{6} - 6080 \\, y^{4} + \\frac{8620}{3} \\, y^{2} - 1728} + 40\\right)}^{\\frac{1}{3}} + \\frac{20}{3}} - \\frac{1}{12} \\, \\sqrt{\\frac{40 \\, y^{4} - 220 \\, y^{2} - 15 \\, {\\left(-y^{6} + \\frac{25}{2} \\, y^{4} + \\frac{1}{27} \\, {\\left(y^{2} - 5\\right)}^{3} + \\frac{1}{6} \\, {\\left(3 \\, y^{4} - 15 \\, y^{2} + 16\\right)} {\\left(y^{2} - 5\\right)} - \\frac{87}{2} \\, y^{2} + \\frac{1}{6} \\, \\sqrt{-\\frac{125}{3} \\, y^{12} + \\frac{1750}{3} \\, y^{10} - 2975 \\, y^{8} + 6600 \\, y^{6} - 6080 \\, y^{4} + \\frac{8620}{3} \\, y^{2} - 1728} + 40\\right)}^{\\frac{1}{3}} {\\left(y^{2} - 8\\right)} + 36 \\, {\\left(-y^{6} + \\frac{25}{2} \\, y^{4} + \\frac{1}{27} \\, {\\left(y^{2} - 5\\right)}^{3} + \\frac{1}{6} \\, {\\left(3 \\, y^{4} - 15 \\, y^{2} + 16\\right)} {\\left(y^{2} - 5\\right)} - \\frac{87}{2} \\, y^{2} + \\frac{1}{6} \\, \\sqrt{-\\frac{125}{3} \\, y^{12} + \\frac{1750}{3} \\, y^{10} - 2975 \\, y^{8} + 6600 \\, y^{6} - 6080 \\, y^{4} + \\frac{8620}{3} \\, y^{2} - 1728} + 40\\right)}^{\\frac{2}{3}} + 292}{{\\left(-y^{6} + \\frac{25}{2} \\, y^{4} + \\frac{1}{27} \\, {\\left(y^{2} - 5\\right)}^{3} + \\frac{1}{6} \\, {\\left(3 \\, y^{4} - 15 \\, y^{2} + 16\\right)} {\\left(y^{2} - 5\\right)} - \\frac{87}{2} \\, y^{2} + \\frac{1}{6} \\, \\sqrt{-\\frac{125}{3} \\, y^{12} + \\frac{1750}{3} \\, y^{10} - 2975 \\, y^{8} + 6600 \\, y^{6} - 6080 \\, y^{4} + \\frac{8620}{3} \\, y^{2} - 1728} + 40\\right)}^{\\frac{1}{3}}}}, y\\left(y^{5} - 5 \\, y^{3} + 4 \\, y\\right) = -\\frac{1}{4} \\, y - \\frac{1}{2} \\, \\sqrt{-\\frac{5}{6} \\, y^{2} - \\frac{9 \\, y^{4} + {\\left(y^{2} - 5\\right)}^{2} - 45 \\, y^{2} + 48}{9 \\, {\\left(-y^{6} + \\frac{25}{2} \\, y^{4} + \\frac{1}{27} \\, {\\left(y^{2} - 5\\right)}^{3} + \\frac{1}{6} \\, {\\left(3 \\, y^{4} - 15 \\, y^{2} + 16\\right)} {\\left(y^{2} - 5\\right)} - \\frac{87}{2} \\, y^{2} + \\frac{1}{6} \\, \\sqrt{-\\frac{125}{3} \\, y^{12} + \\frac{1750}{3} \\, y^{10} - 2975 \\, y^{8} + 6600 \\, y^{6} - 6080 \\, y^{4} + \\frac{8620}{3} \\, y^{2} - 1728} + 40\\right)}^{\\frac{1}{3}}} - \\frac{3 \\, {\\left(9 \\, y^{3} - 4 \\, {\\left(y^{2} - 5\\right)} y - 40 \\, y\\right)}}{2 \\, \\sqrt{\\frac{40 \\, y^{4} - 220 \\, y^{2} - 15 \\, {\\left(-y^{6} + \\frac{25}{2} \\, y^{4} + \\frac{1}{27} \\, {\\left(y^{2} - 5\\right)}^{3} + \\frac{1}{6} \\, {\\left(3 \\, y^{4} - 15 \\, y^{2} + 16\\right)} {\\left(y^{2} - 5\\right)} - \\frac{87}{2} \\, y^{2} + \\frac{1}{6} \\, \\sqrt{-\\frac{125}{3} \\, y^{12} + \\frac{1750}{3} \\, y^{10} - 2975 \\, y^{8} + 6600 \\, y^{6} - 6080 \\, y^{4} + \\frac{8620}{3} \\, y^{2} - 1728} + 40\\right)}^{\\frac{1}{3}} {\\left(y^{2} - 8\\right)} + 36 \\, {\\left(-y^{6} + \\frac{25}{2} \\, y^{4} + \\frac{1}{27} \\, {\\left(y^{2} - 5\\right)}^{3} + \\frac{1}{6} \\, {\\left(3 \\, y^{4} - 15 \\, y^{2} + 16\\right)} {\\left(y^{2} - 5\\right)} - \\frac{87}{2} \\, y^{2} + \\frac{1}{6} \\, \\sqrt{-\\frac{125}{3} \\, y^{12} + \\frac{1750}{3} \\, y^{10} - 2975 \\, y^{8} + 6600 \\, y^{6} - 6080 \\, y^{4} + \\frac{8620}{3} \\, y^{2} - 1728} + 40\\right)}^{\\frac{2}{3}} + 292}{{\\left(-y^{6} + \\frac{25}{2} \\, y^{4} + \\frac{1}{27} \\, {\\left(y^{2} - 5\\right)}^{3} + \\frac{1}{6} \\, {\\left(3 \\, y^{4} - 15 \\, y^{2} + 16\\right)} {\\left(y^{2} - 5\\right)} - \\frac{87}{2} \\, y^{2} + \\frac{1}{6} \\, \\sqrt{-\\frac{125}{3} \\, y^{12} + \\frac{1750}{3} \\, y^{10} - 2975 \\, y^{8} + 6600 \\, y^{6} - 6080 \\, y^{4} + \\frac{8620}{3} \\, y^{2} - 1728} + 40\\right)}^{\\frac{1}{3}}}}} - {\\left(-y^{6} + \\frac{25}{2} \\, y^{4} + \\frac{1}{27} \\, {\\left(y^{2} - 5\\right)}^{3} + \\frac{1}{6} \\, {\\left(3 \\, y^{4} - 15 \\, y^{2} + 16\\right)} {\\left(y^{2} - 5\\right)} - \\frac{87}{2} \\, y^{2} + \\frac{1}{6} \\, \\sqrt{-\\frac{125}{3} \\, y^{12} + \\frac{1750}{3} \\, y^{10} - 2975 \\, y^{8} + 6600 \\, y^{6} - 6080 \\, y^{4} + \\frac{8620}{3} \\, y^{2} - 1728} + 40\\right)}^{\\frac{1}{3}} + \\frac{20}{3}} + \\frac{1}{12} \\, \\sqrt{\\frac{40 \\, y^{4} - 220 \\, y^{2} - 15 \\, {\\left(-y^{6} + \\frac{25}{2} \\, y^{4} + \\frac{1}{27} \\, {\\left(y^{2} - 5\\right)}^{3} + \\frac{1}{6} \\, {\\left(3 \\, y^{4} - 15 \\, y^{2} + 16\\right)} {\\left(y^{2} - 5\\right)} - \\frac{87}{2} \\, y^{2} + \\frac{1}{6} \\, \\sqrt{-\\frac{125}{3} \\, y^{12} + \\frac{1750}{3} \\, y^{10} - 2975 \\, y^{8} + 6600 \\, y^{6} - 6080 \\, y^{4} + \\frac{8620}{3} \\, y^{2} - 1728} + 40\\right)}^{\\frac{1}{3}} {\\left(y^{2} - 8\\right)} + 36 \\, {\\left(-y^{6} + \\frac{25}{2} \\, y^{4} + \\frac{1}{27} \\, {\\left(y^{2} - 5\\right)}^{3} + \\frac{1}{6} \\, {\\left(3 \\, y^{4} - 15 \\, y^{2} + 16\\right)} {\\left(y^{2} - 5\\right)} - \\frac{87}{2} \\, y^{2} + \\frac{1}{6} \\, \\sqrt{-\\frac{125}{3} \\, y^{12} + \\frac{1750}{3} \\, y^{10} - 2975 \\, y^{8} + 6600 \\, y^{6} - 6080 \\, y^{4} + \\frac{8620}{3} \\, y^{2} - 1728} + 40\\right)}^{\\frac{2}{3}} + 292}{{\\left(-y^{6} + \\frac{25}{2} \\, y^{4} + \\frac{1}{27} \\, {\\left(y^{2} - 5\\right)}^{3} + \\frac{1}{6} \\, {\\left(3 \\, y^{4} - 15 \\, y^{2} + 16\\right)} {\\left(y^{2} - 5\\right)} - \\frac{87}{2} \\, y^{2} + \\frac{1}{6} \\, \\sqrt{-\\frac{125}{3} \\, y^{12} + \\frac{1750}{3} \\, y^{10} - 2975 \\, y^{8} + 6600 \\, y^{6} - 6080 \\, y^{4} + \\frac{8620}{3} \\, y^{2} - 1728} + 40\\right)}^{\\frac{1}{3}}}}, y\\left(y^{5} - 5 \\, y^{3} + 4 \\, y\\right) = -\\frac{1}{4} \\, y + \\frac{1}{2} \\, \\sqrt{-\\frac{5}{6} \\, y^{2} - \\frac{9 \\, y^{4} + {\\left(y^{2} - 5\\right)}^{2} - 45 \\, y^{2} + 48}{9 \\, {\\left(-y^{6} + \\frac{25}{2} \\, y^{4} + \\frac{1}{27} \\, {\\left(y^{2} - 5\\right)}^{3} + \\frac{1}{6} \\, {\\left(3 \\, y^{4} - 15 \\, y^{2} + 16\\right)} {\\left(y^{2} - 5\\right)} - \\frac{87}{2} \\, y^{2} + \\frac{1}{6} \\, \\sqrt{-\\frac{125}{3} \\, y^{12} + \\frac{1750}{3} \\, y^{10} - 2975 \\, y^{8} + 6600 \\, y^{6} - 6080 \\, y^{4} + \\frac{8620}{3} \\, y^{2} - 1728} + 40\\right)}^{\\frac{1}{3}}} - \\frac{3 \\, {\\left(9 \\, y^{3} - 4 \\, {\\left(y^{2} - 5\\right)} y - 40 \\, y\\right)}}{2 \\, \\sqrt{\\frac{40 \\, y^{4} - 220 \\, y^{2} - 15 \\, {\\left(-y^{6} + \\frac{25}{2} \\, y^{4} + \\frac{1}{27} \\, {\\left(y^{2} - 5\\right)}^{3} + \\frac{1}{6} \\, {\\left(3 \\, y^{4} - 15 \\, y^{2} + 16\\right)} {\\left(y^{2} - 5\\right)} - \\frac{87}{2} \\, y^{2} + \\frac{1}{6} \\, \\sqrt{-\\frac{125}{3} \\, y^{12} + \\frac{1750}{3} \\, y^{10} - 2975 \\, y^{8} + 6600 \\, y^{6} - 6080 \\, y^{4} + \\frac{8620}{3} \\, y^{2} - 1728} + 40\\right)}^{\\frac{1}{3}} {\\left(y^{2} - 8\\right)} + 36 \\, {\\left(-y^{6} + \\frac{25}{2} \\, y^{4} + \\frac{1}{27} \\, {\\left(y^{2} - 5\\right)}^{3} + \\frac{1}{6} \\, {\\left(3 \\, y^{4} - 15 \\, y^{2} + 16\\right)} {\\left(y^{2} - 5\\right)} - \\frac{87}{2} \\, y^{2} + \\frac{1}{6} \\, \\sqrt{-\\frac{125}{3} \\, y^{12} + \\frac{1750}{3} \\, y^{10} - 2975 \\, y^{8} + 6600 \\, y^{6} - 6080 \\, y^{4} + \\frac{8620}{3} \\, y^{2} - 1728} + 40\\right)}^{\\frac{2}{3}} + 292}{{\\left(-y^{6} + \\frac{25}{2} \\, y^{4} + \\frac{1}{27} \\, {\\left(y^{2} - 5\\right)}^{3} + \\frac{1}{6} \\, {\\left(3 \\, y^{4} - 15 \\, y^{2} + 16\\right)} {\\left(y^{2} - 5\\right)} - \\frac{87}{2} \\, y^{2} + \\frac{1}{6} \\, \\sqrt{-\\frac{125}{3} \\, y^{12} + \\frac{1750}{3} \\, y^{10} - 2975 \\, y^{8} + 6600 \\, y^{6} - 6080 \\, y^{4} + \\frac{8620}{3} \\, y^{2} - 1728} + 40\\right)}^{\\frac{1}{3}}}}} - {\\left(-y^{6} + \\frac{25}{2} \\, y^{4} + \\frac{1}{27} \\, {\\left(y^{2} - 5\\right)}^{3} + \\frac{1}{6} \\, {\\left(3 \\, y^{4} - 15 \\, y^{2} + 16\\right)} {\\left(y^{2} - 5\\right)} - \\frac{87}{2} \\, y^{2} + \\frac{1}{6} \\, \\sqrt{-\\frac{125}{3} \\, y^{12} + \\frac{1750}{3} \\, y^{10} - 2975 \\, y^{8} + 6600 \\, y^{6} - 6080 \\, y^{4} + \\frac{8620}{3} \\, y^{2} - 1728} + 40\\right)}^{\\frac{1}{3}} + \\frac{20}{3}} + \\frac{1}{12} \\, \\sqrt{\\frac{40 \\, y^{4} - 220 \\, y^{2} - 15 \\, {\\left(-y^{6} + \\frac{25}{2} \\, y^{4} + \\frac{1}{27} \\, {\\left(y^{2} - 5\\right)}^{3} + \\frac{1}{6} \\, {\\left(3 \\, y^{4} - 15 \\, y^{2} + 16\\right)} {\\left(y^{2} - 5\\right)} - \\frac{87}{2} \\, y^{2} + \\frac{1}{6} \\, \\sqrt{-\\frac{125}{3} \\, y^{12} + \\frac{1750}{3} \\, y^{10} - 2975 \\, y^{8} + 6600 \\, y^{6} - 6080 \\, y^{4} + \\frac{8620}{3} \\, y^{2} - 1728} + 40\\right)}^{\\frac{1}{3}} {\\left(y^{2} - 8\\right)} + 36 \\, {\\left(-y^{6} + \\frac{25}{2} \\, y^{4} + \\frac{1}{27} \\, {\\left(y^{2} - 5\\right)}^{3} + \\frac{1}{6} \\, {\\left(3 \\, y^{4} - 15 \\, y^{2} + 16\\right)} {\\left(y^{2} - 5\\right)} - \\frac{87}{2} \\, y^{2} + \\frac{1}{6} \\, \\sqrt{-\\frac{125}{3} \\, y^{12} + \\frac{1750}{3} \\, y^{10} - 2975 \\, y^{8} + 6600 \\, y^{6} - 6080 \\, y^{4} + \\frac{8620}{3} \\, y^{2} - 1728} + 40\\right)}^{\\frac{2}{3}} + 292}{{\\left(-y^{6} + \\frac{25}{2} \\, y^{4} + \\frac{1}{27} \\, {\\left(y^{2} - 5\\right)}^{3} + \\frac{1}{6} \\, {\\left(3 \\, y^{4} - 15 \\, y^{2} + 16\\right)} {\\left(y^{2} - 5\\right)} - \\frac{87}{2} \\, y^{2} + \\frac{1}{6} \\, \\sqrt{-\\frac{125}{3} \\, y^{12} + \\frac{1750}{3} \\, y^{10} - 2975 \\, y^{8} + 6600 \\, y^{6} - 6080 \\, y^{4} + \\frac{8620}{3} \\, y^{2} - 1728} + 40\\right)}^{\\frac{1}{3}}}}\\right]\\)</html>"
      ],
      "text/latex": [
       "$\\displaystyle \\left[y\\left(y^{5} - 5 \\, y^{3} + 4 \\, y\\right) = y, y\\left(y^{5} - 5 \\, y^{3} + 4 \\, y\\right) = -\\frac{1}{4} \\, y - \\frac{1}{2} \\, \\sqrt{-\\frac{5}{6} \\, y^{2} - \\frac{9 \\, y^{4} + {\\left(y^{2} - 5\\right)}^{2} - 45 \\, y^{2} + 48}{9 \\, {\\left(-y^{6} + \\frac{25}{2} \\, y^{4} + \\frac{1}{27} \\, {\\left(y^{2} - 5\\right)}^{3} + \\frac{1}{6} \\, {\\left(3 \\, y^{4} - 15 \\, y^{2} + 16\\right)} {\\left(y^{2} - 5\\right)} - \\frac{87}{2} \\, y^{2} + \\frac{1}{6} \\, \\sqrt{-\\frac{125}{3} \\, y^{12} + \\frac{1750}{3} \\, y^{10} - 2975 \\, y^{8} + 6600 \\, y^{6} - 6080 \\, y^{4} + \\frac{8620}{3} \\, y^{2} - 1728} + 40\\right)}^{\\frac{1}{3}}} + \\frac{3 \\, {\\left(9 \\, y^{3} - 4 \\, {\\left(y^{2} - 5\\right)} y - 40 \\, y\\right)}}{2 \\, \\sqrt{\\frac{40 \\, y^{4} - 220 \\, y^{2} - 15 \\, {\\left(-y^{6} + \\frac{25}{2} \\, y^{4} + \\frac{1}{27} \\, {\\left(y^{2} - 5\\right)}^{3} + \\frac{1}{6} \\, {\\left(3 \\, y^{4} - 15 \\, y^{2} + 16\\right)} {\\left(y^{2} - 5\\right)} - \\frac{87}{2} \\, y^{2} + \\frac{1}{6} \\, \\sqrt{-\\frac{125}{3} \\, y^{12} + \\frac{1750}{3} \\, y^{10} - 2975 \\, y^{8} + 6600 \\, y^{6} - 6080 \\, y^{4} + \\frac{8620}{3} \\, y^{2} - 1728} + 40\\right)}^{\\frac{1}{3}} {\\left(y^{2} - 8\\right)} + 36 \\, {\\left(-y^{6} + \\frac{25}{2} \\, y^{4} + \\frac{1}{27} \\, {\\left(y^{2} - 5\\right)}^{3} + \\frac{1}{6} \\, {\\left(3 \\, y^{4} - 15 \\, y^{2} + 16\\right)} {\\left(y^{2} - 5\\right)} - \\frac{87}{2} \\, y^{2} + \\frac{1}{6} \\, \\sqrt{-\\frac{125}{3} \\, y^{12} + \\frac{1750}{3} \\, y^{10} - 2975 \\, y^{8} + 6600 \\, y^{6} - 6080 \\, y^{4} + \\frac{8620}{3} \\, y^{2} - 1728} + 40\\right)}^{\\frac{2}{3}} + 292}{{\\left(-y^{6} + \\frac{25}{2} \\, y^{4} + \\frac{1}{27} \\, {\\left(y^{2} - 5\\right)}^{3} + \\frac{1}{6} \\, {\\left(3 \\, y^{4} - 15 \\, y^{2} + 16\\right)} {\\left(y^{2} - 5\\right)} - \\frac{87}{2} \\, y^{2} + \\frac{1}{6} \\, \\sqrt{-\\frac{125}{3} \\, y^{12} + \\frac{1750}{3} \\, y^{10} - 2975 \\, y^{8} + 6600 \\, y^{6} - 6080 \\, y^{4} + \\frac{8620}{3} \\, y^{2} - 1728} + 40\\right)}^{\\frac{1}{3}}}}} - {\\left(-y^{6} + \\frac{25}{2} \\, y^{4} + \\frac{1}{27} \\, {\\left(y^{2} - 5\\right)}^{3} + \\frac{1}{6} \\, {\\left(3 \\, y^{4} - 15 \\, y^{2} + 16\\right)} {\\left(y^{2} - 5\\right)} - \\frac{87}{2} \\, y^{2} + \\frac{1}{6} \\, \\sqrt{-\\frac{125}{3} \\, y^{12} + \\frac{1750}{3} \\, y^{10} - 2975 \\, y^{8} + 6600 \\, y^{6} - 6080 \\, y^{4} + \\frac{8620}{3} \\, y^{2} - 1728} + 40\\right)}^{\\frac{1}{3}} + \\frac{20}{3}} - \\frac{1}{12} \\, \\sqrt{\\frac{40 \\, y^{4} - 220 \\, y^{2} - 15 \\, {\\left(-y^{6} + \\frac{25}{2} \\, y^{4} + \\frac{1}{27} \\, {\\left(y^{2} - 5\\right)}^{3} + \\frac{1}{6} \\, {\\left(3 \\, y^{4} - 15 \\, y^{2} + 16\\right)} {\\left(y^{2} - 5\\right)} - \\frac{87}{2} \\, y^{2} + \\frac{1}{6} \\, \\sqrt{-\\frac{125}{3} \\, y^{12} + \\frac{1750}{3} \\, y^{10} - 2975 \\, y^{8} + 6600 \\, y^{6} - 6080 \\, y^{4} + \\frac{8620}{3} \\, y^{2} - 1728} + 40\\right)}^{\\frac{1}{3}} {\\left(y^{2} - 8\\right)} + 36 \\, {\\left(-y^{6} + \\frac{25}{2} \\, y^{4} + \\frac{1}{27} \\, {\\left(y^{2} - 5\\right)}^{3} + \\frac{1}{6} \\, {\\left(3 \\, y^{4} - 15 \\, y^{2} + 16\\right)} {\\left(y^{2} - 5\\right)} - \\frac{87}{2} \\, y^{2} + \\frac{1}{6} \\, \\sqrt{-\\frac{125}{3} \\, y^{12} + \\frac{1750}{3} \\, y^{10} - 2975 \\, y^{8} + 6600 \\, y^{6} - 6080 \\, y^{4} + \\frac{8620}{3} \\, y^{2} - 1728} + 40\\right)}^{\\frac{2}{3}} + 292}{{\\left(-y^{6} + \\frac{25}{2} \\, y^{4} + \\frac{1}{27} \\, {\\left(y^{2} - 5\\right)}^{3} + \\frac{1}{6} \\, {\\left(3 \\, y^{4} - 15 \\, y^{2} + 16\\right)} {\\left(y^{2} - 5\\right)} - \\frac{87}{2} \\, y^{2} + \\frac{1}{6} \\, \\sqrt{-\\frac{125}{3} \\, y^{12} + \\frac{1750}{3} \\, y^{10} - 2975 \\, y^{8} + 6600 \\, y^{6} - 6080 \\, y^{4} + \\frac{8620}{3} \\, y^{2} - 1728} + 40\\right)}^{\\frac{1}{3}}}}, y\\left(y^{5} - 5 \\, y^{3} + 4 \\, y\\right) = -\\frac{1}{4} \\, y + \\frac{1}{2} \\, \\sqrt{-\\frac{5}{6} \\, y^{2} - \\frac{9 \\, y^{4} + {\\left(y^{2} - 5\\right)}^{2} - 45 \\, y^{2} + 48}{9 \\, {\\left(-y^{6} + \\frac{25}{2} \\, y^{4} + \\frac{1}{27} \\, {\\left(y^{2} - 5\\right)}^{3} + \\frac{1}{6} \\, {\\left(3 \\, y^{4} - 15 \\, y^{2} + 16\\right)} {\\left(y^{2} - 5\\right)} - \\frac{87}{2} \\, y^{2} + \\frac{1}{6} \\, \\sqrt{-\\frac{125}{3} \\, y^{12} + \\frac{1750}{3} \\, y^{10} - 2975 \\, y^{8} + 6600 \\, y^{6} - 6080 \\, y^{4} + \\frac{8620}{3} \\, y^{2} - 1728} + 40\\right)}^{\\frac{1}{3}}} + \\frac{3 \\, {\\left(9 \\, y^{3} - 4 \\, {\\left(y^{2} - 5\\right)} y - 40 \\, y\\right)}}{2 \\, \\sqrt{\\frac{40 \\, y^{4} - 220 \\, y^{2} - 15 \\, {\\left(-y^{6} + \\frac{25}{2} \\, y^{4} + \\frac{1}{27} \\, {\\left(y^{2} - 5\\right)}^{3} + \\frac{1}{6} \\, {\\left(3 \\, y^{4} - 15 \\, y^{2} + 16\\right)} {\\left(y^{2} - 5\\right)} - \\frac{87}{2} \\, y^{2} + \\frac{1}{6} \\, \\sqrt{-\\frac{125}{3} \\, y^{12} + \\frac{1750}{3} \\, y^{10} - 2975 \\, y^{8} + 6600 \\, y^{6} - 6080 \\, y^{4} + \\frac{8620}{3} \\, y^{2} - 1728} + 40\\right)}^{\\frac{1}{3}} {\\left(y^{2} - 8\\right)} + 36 \\, {\\left(-y^{6} + \\frac{25}{2} \\, y^{4} + \\frac{1}{27} \\, {\\left(y^{2} - 5\\right)}^{3} + \\frac{1}{6} \\, {\\left(3 \\, y^{4} - 15 \\, y^{2} + 16\\right)} {\\left(y^{2} - 5\\right)} - \\frac{87}{2} \\, y^{2} + \\frac{1}{6} \\, \\sqrt{-\\frac{125}{3} \\, y^{12} + \\frac{1750}{3} \\, y^{10} - 2975 \\, y^{8} + 6600 \\, y^{6} - 6080 \\, y^{4} + \\frac{8620}{3} \\, y^{2} - 1728} + 40\\right)}^{\\frac{2}{3}} + 292}{{\\left(-y^{6} + \\frac{25}{2} \\, y^{4} + \\frac{1}{27} \\, {\\left(y^{2} - 5\\right)}^{3} + \\frac{1}{6} \\, {\\left(3 \\, y^{4} - 15 \\, y^{2} + 16\\right)} {\\left(y^{2} - 5\\right)} - \\frac{87}{2} \\, y^{2} + \\frac{1}{6} \\, \\sqrt{-\\frac{125}{3} \\, y^{12} + \\frac{1750}{3} \\, y^{10} - 2975 \\, y^{8} + 6600 \\, y^{6} - 6080 \\, y^{4} + \\frac{8620}{3} \\, y^{2} - 1728} + 40\\right)}^{\\frac{1}{3}}}}} - {\\left(-y^{6} + \\frac{25}{2} \\, y^{4} + \\frac{1}{27} \\, {\\left(y^{2} - 5\\right)}^{3} + \\frac{1}{6} \\, {\\left(3 \\, y^{4} - 15 \\, y^{2} + 16\\right)} {\\left(y^{2} - 5\\right)} - \\frac{87}{2} \\, y^{2} + \\frac{1}{6} \\, \\sqrt{-\\frac{125}{3} \\, y^{12} + \\frac{1750}{3} \\, y^{10} - 2975 \\, y^{8} + 6600 \\, y^{6} - 6080 \\, y^{4} + \\frac{8620}{3} \\, y^{2} - 1728} + 40\\right)}^{\\frac{1}{3}} + \\frac{20}{3}} - \\frac{1}{12} \\, \\sqrt{\\frac{40 \\, y^{4} - 220 \\, y^{2} - 15 \\, {\\left(-y^{6} + \\frac{25}{2} \\, y^{4} + \\frac{1}{27} \\, {\\left(y^{2} - 5\\right)}^{3} + \\frac{1}{6} \\, {\\left(3 \\, y^{4} - 15 \\, y^{2} + 16\\right)} {\\left(y^{2} - 5\\right)} - \\frac{87}{2} \\, y^{2} + \\frac{1}{6} \\, \\sqrt{-\\frac{125}{3} \\, y^{12} + \\frac{1750}{3} \\, y^{10} - 2975 \\, y^{8} + 6600 \\, y^{6} - 6080 \\, y^{4} + \\frac{8620}{3} \\, y^{2} - 1728} + 40\\right)}^{\\frac{1}{3}} {\\left(y^{2} - 8\\right)} + 36 \\, {\\left(-y^{6} + \\frac{25}{2} \\, y^{4} + \\frac{1}{27} \\, {\\left(y^{2} - 5\\right)}^{3} + \\frac{1}{6} \\, {\\left(3 \\, y^{4} - 15 \\, y^{2} + 16\\right)} {\\left(y^{2} - 5\\right)} - \\frac{87}{2} \\, y^{2} + \\frac{1}{6} \\, \\sqrt{-\\frac{125}{3} \\, y^{12} + \\frac{1750}{3} \\, y^{10} - 2975 \\, y^{8} + 6600 \\, y^{6} - 6080 \\, y^{4} + \\frac{8620}{3} \\, y^{2} - 1728} + 40\\right)}^{\\frac{2}{3}} + 292}{{\\left(-y^{6} + \\frac{25}{2} \\, y^{4} + \\frac{1}{27} \\, {\\left(y^{2} - 5\\right)}^{3} + \\frac{1}{6} \\, {\\left(3 \\, y^{4} - 15 \\, y^{2} + 16\\right)} {\\left(y^{2} - 5\\right)} - \\frac{87}{2} \\, y^{2} + \\frac{1}{6} \\, \\sqrt{-\\frac{125}{3} \\, y^{12} + \\frac{1750}{3} \\, y^{10} - 2975 \\, y^{8} + 6600 \\, y^{6} - 6080 \\, y^{4} + \\frac{8620}{3} \\, y^{2} - 1728} + 40\\right)}^{\\frac{1}{3}}}}, y\\left(y^{5} - 5 \\, y^{3} + 4 \\, y\\right) = -\\frac{1}{4} \\, y - \\frac{1}{2} \\, \\sqrt{-\\frac{5}{6} \\, y^{2} - \\frac{9 \\, y^{4} + {\\left(y^{2} - 5\\right)}^{2} - 45 \\, y^{2} + 48}{9 \\, {\\left(-y^{6} + \\frac{25}{2} \\, y^{4} + \\frac{1}{27} \\, {\\left(y^{2} - 5\\right)}^{3} + \\frac{1}{6} \\, {\\left(3 \\, y^{4} - 15 \\, y^{2} + 16\\right)} {\\left(y^{2} - 5\\right)} - \\frac{87}{2} \\, y^{2} + \\frac{1}{6} \\, \\sqrt{-\\frac{125}{3} \\, y^{12} + \\frac{1750}{3} \\, y^{10} - 2975 \\, y^{8} + 6600 \\, y^{6} - 6080 \\, y^{4} + \\frac{8620}{3} \\, y^{2} - 1728} + 40\\right)}^{\\frac{1}{3}}} - \\frac{3 \\, {\\left(9 \\, y^{3} - 4 \\, {\\left(y^{2} - 5\\right)} y - 40 \\, y\\right)}}{2 \\, \\sqrt{\\frac{40 \\, y^{4} - 220 \\, y^{2} - 15 \\, {\\left(-y^{6} + \\frac{25}{2} \\, y^{4} + \\frac{1}{27} \\, {\\left(y^{2} - 5\\right)}^{3} + \\frac{1}{6} \\, {\\left(3 \\, y^{4} - 15 \\, y^{2} + 16\\right)} {\\left(y^{2} - 5\\right)} - \\frac{87}{2} \\, y^{2} + \\frac{1}{6} \\, \\sqrt{-\\frac{125}{3} \\, y^{12} + \\frac{1750}{3} \\, y^{10} - 2975 \\, y^{8} + 6600 \\, y^{6} - 6080 \\, y^{4} + \\frac{8620}{3} \\, y^{2} - 1728} + 40\\right)}^{\\frac{1}{3}} {\\left(y^{2} - 8\\right)} + 36 \\, {\\left(-y^{6} + \\frac{25}{2} \\, y^{4} + \\frac{1}{27} \\, {\\left(y^{2} - 5\\right)}^{3} + \\frac{1}{6} \\, {\\left(3 \\, y^{4} - 15 \\, y^{2} + 16\\right)} {\\left(y^{2} - 5\\right)} - \\frac{87}{2} \\, y^{2} + \\frac{1}{6} \\, \\sqrt{-\\frac{125}{3} \\, y^{12} + \\frac{1750}{3} \\, y^{10} - 2975 \\, y^{8} + 6600 \\, y^{6} - 6080 \\, y^{4} + \\frac{8620}{3} \\, y^{2} - 1728} + 40\\right)}^{\\frac{2}{3}} + 292}{{\\left(-y^{6} + \\frac{25}{2} \\, y^{4} + \\frac{1}{27} \\, {\\left(y^{2} - 5\\right)}^{3} + \\frac{1}{6} \\, {\\left(3 \\, y^{4} - 15 \\, y^{2} + 16\\right)} {\\left(y^{2} - 5\\right)} - \\frac{87}{2} \\, y^{2} + \\frac{1}{6} \\, \\sqrt{-\\frac{125}{3} \\, y^{12} + \\frac{1750}{3} \\, y^{10} - 2975 \\, y^{8} + 6600 \\, y^{6} - 6080 \\, y^{4} + \\frac{8620}{3} \\, y^{2} - 1728} + 40\\right)}^{\\frac{1}{3}}}}} - {\\left(-y^{6} + \\frac{25}{2} \\, y^{4} + \\frac{1}{27} \\, {\\left(y^{2} - 5\\right)}^{3} + \\frac{1}{6} \\, {\\left(3 \\, y^{4} - 15 \\, y^{2} + 16\\right)} {\\left(y^{2} - 5\\right)} - \\frac{87}{2} \\, y^{2} + \\frac{1}{6} \\, \\sqrt{-\\frac{125}{3} \\, y^{12} + \\frac{1750}{3} \\, y^{10} - 2975 \\, y^{8} + 6600 \\, y^{6} - 6080 \\, y^{4} + \\frac{8620}{3} \\, y^{2} - 1728} + 40\\right)}^{\\frac{1}{3}} + \\frac{20}{3}} + \\frac{1}{12} \\, \\sqrt{\\frac{40 \\, y^{4} - 220 \\, y^{2} - 15 \\, {\\left(-y^{6} + \\frac{25}{2} \\, y^{4} + \\frac{1}{27} \\, {\\left(y^{2} - 5\\right)}^{3} + \\frac{1}{6} \\, {\\left(3 \\, y^{4} - 15 \\, y^{2} + 16\\right)} {\\left(y^{2} - 5\\right)} - \\frac{87}{2} \\, y^{2} + \\frac{1}{6} \\, \\sqrt{-\\frac{125}{3} \\, y^{12} + \\frac{1750}{3} \\, y^{10} - 2975 \\, y^{8} + 6600 \\, y^{6} - 6080 \\, y^{4} + \\frac{8620}{3} \\, y^{2} - 1728} + 40\\right)}^{\\frac{1}{3}} {\\left(y^{2} - 8\\right)} + 36 \\, {\\left(-y^{6} + \\frac{25}{2} \\, y^{4} + \\frac{1}{27} \\, {\\left(y^{2} - 5\\right)}^{3} + \\frac{1}{6} \\, {\\left(3 \\, y^{4} - 15 \\, y^{2} + 16\\right)} {\\left(y^{2} - 5\\right)} - \\frac{87}{2} \\, y^{2} + \\frac{1}{6} \\, \\sqrt{-\\frac{125}{3} \\, y^{12} + \\frac{1750}{3} \\, y^{10} - 2975 \\, y^{8} + 6600 \\, y^{6} - 6080 \\, y^{4} + \\frac{8620}{3} \\, y^{2} - 1728} + 40\\right)}^{\\frac{2}{3}} + 292}{{\\left(-y^{6} + \\frac{25}{2} \\, y^{4} + \\frac{1}{27} \\, {\\left(y^{2} - 5\\right)}^{3} + \\frac{1}{6} \\, {\\left(3 \\, y^{4} - 15 \\, y^{2} + 16\\right)} {\\left(y^{2} - 5\\right)} - \\frac{87}{2} \\, y^{2} + \\frac{1}{6} \\, \\sqrt{-\\frac{125}{3} \\, y^{12} + \\frac{1750}{3} \\, y^{10} - 2975 \\, y^{8} + 6600 \\, y^{6} - 6080 \\, y^{4} + \\frac{8620}{3} \\, y^{2} - 1728} + 40\\right)}^{\\frac{1}{3}}}}, y\\left(y^{5} - 5 \\, y^{3} + 4 \\, y\\right) = -\\frac{1}{4} \\, y + \\frac{1}{2} \\, \\sqrt{-\\frac{5}{6} \\, y^{2} - \\frac{9 \\, y^{4} + {\\left(y^{2} - 5\\right)}^{2} - 45 \\, y^{2} + 48}{9 \\, {\\left(-y^{6} + \\frac{25}{2} \\, y^{4} + \\frac{1}{27} \\, {\\left(y^{2} - 5\\right)}^{3} + \\frac{1}{6} \\, {\\left(3 \\, y^{4} - 15 \\, y^{2} + 16\\right)} {\\left(y^{2} - 5\\right)} - \\frac{87}{2} \\, y^{2} + \\frac{1}{6} \\, \\sqrt{-\\frac{125}{3} \\, y^{12} + \\frac{1750}{3} \\, y^{10} - 2975 \\, y^{8} + 6600 \\, y^{6} - 6080 \\, y^{4} + \\frac{8620}{3} \\, y^{2} - 1728} + 40\\right)}^{\\frac{1}{3}}} - \\frac{3 \\, {\\left(9 \\, y^{3} - 4 \\, {\\left(y^{2} - 5\\right)} y - 40 \\, y\\right)}}{2 \\, \\sqrt{\\frac{40 \\, y^{4} - 220 \\, y^{2} - 15 \\, {\\left(-y^{6} + \\frac{25}{2} \\, y^{4} + \\frac{1}{27} \\, {\\left(y^{2} - 5\\right)}^{3} + \\frac{1}{6} \\, {\\left(3 \\, y^{4} - 15 \\, y^{2} + 16\\right)} {\\left(y^{2} - 5\\right)} - \\frac{87}{2} \\, y^{2} + \\frac{1}{6} \\, \\sqrt{-\\frac{125}{3} \\, y^{12} + \\frac{1750}{3} \\, y^{10} - 2975 \\, y^{8} + 6600 \\, y^{6} - 6080 \\, y^{4} + \\frac{8620}{3} \\, y^{2} - 1728} + 40\\right)}^{\\frac{1}{3}} {\\left(y^{2} - 8\\right)} + 36 \\, {\\left(-y^{6} + \\frac{25}{2} \\, y^{4} + \\frac{1}{27} \\, {\\left(y^{2} - 5\\right)}^{3} + \\frac{1}{6} \\, {\\left(3 \\, y^{4} - 15 \\, y^{2} + 16\\right)} {\\left(y^{2} - 5\\right)} - \\frac{87}{2} \\, y^{2} + \\frac{1}{6} \\, \\sqrt{-\\frac{125}{3} \\, y^{12} + \\frac{1750}{3} \\, y^{10} - 2975 \\, y^{8} + 6600 \\, y^{6} - 6080 \\, y^{4} + \\frac{8620}{3} \\, y^{2} - 1728} + 40\\right)}^{\\frac{2}{3}} + 292}{{\\left(-y^{6} + \\frac{25}{2} \\, y^{4} + \\frac{1}{27} \\, {\\left(y^{2} - 5\\right)}^{3} + \\frac{1}{6} \\, {\\left(3 \\, y^{4} - 15 \\, y^{2} + 16\\right)} {\\left(y^{2} - 5\\right)} - \\frac{87}{2} \\, y^{2} + \\frac{1}{6} \\, \\sqrt{-\\frac{125}{3} \\, y^{12} + \\frac{1750}{3} \\, y^{10} - 2975 \\, y^{8} + 6600 \\, y^{6} - 6080 \\, y^{4} + \\frac{8620}{3} \\, y^{2} - 1728} + 40\\right)}^{\\frac{1}{3}}}}} - {\\left(-y^{6} + \\frac{25}{2} \\, y^{4} + \\frac{1}{27} \\, {\\left(y^{2} - 5\\right)}^{3} + \\frac{1}{6} \\, {\\left(3 \\, y^{4} - 15 \\, y^{2} + 16\\right)} {\\left(y^{2} - 5\\right)} - \\frac{87}{2} \\, y^{2} + \\frac{1}{6} \\, \\sqrt{-\\frac{125}{3} \\, y^{12} + \\frac{1750}{3} \\, y^{10} - 2975 \\, y^{8} + 6600 \\, y^{6} - 6080 \\, y^{4} + \\frac{8620}{3} \\, y^{2} - 1728} + 40\\right)}^{\\frac{1}{3}} + \\frac{20}{3}} + \\frac{1}{12} \\, \\sqrt{\\frac{40 \\, y^{4} - 220 \\, y^{2} - 15 \\, {\\left(-y^{6} + \\frac{25}{2} \\, y^{4} + \\frac{1}{27} \\, {\\left(y^{2} - 5\\right)}^{3} + \\frac{1}{6} \\, {\\left(3 \\, y^{4} - 15 \\, y^{2} + 16\\right)} {\\left(y^{2} - 5\\right)} - \\frac{87}{2} \\, y^{2} + \\frac{1}{6} \\, \\sqrt{-\\frac{125}{3} \\, y^{12} + \\frac{1750}{3} \\, y^{10} - 2975 \\, y^{8} + 6600 \\, y^{6} - 6080 \\, y^{4} + \\frac{8620}{3} \\, y^{2} - 1728} + 40\\right)}^{\\frac{1}{3}} {\\left(y^{2} - 8\\right)} + 36 \\, {\\left(-y^{6} + \\frac{25}{2} \\, y^{4} + \\frac{1}{27} \\, {\\left(y^{2} - 5\\right)}^{3} + \\frac{1}{6} \\, {\\left(3 \\, y^{4} - 15 \\, y^{2} + 16\\right)} {\\left(y^{2} - 5\\right)} - \\frac{87}{2} \\, y^{2} + \\frac{1}{6} \\, \\sqrt{-\\frac{125}{3} \\, y^{12} + \\frac{1750}{3} \\, y^{10} - 2975 \\, y^{8} + 6600 \\, y^{6} - 6080 \\, y^{4} + \\frac{8620}{3} \\, y^{2} - 1728} + 40\\right)}^{\\frac{2}{3}} + 292}{{\\left(-y^{6} + \\frac{25}{2} \\, y^{4} + \\frac{1}{27} \\, {\\left(y^{2} - 5\\right)}^{3} + \\frac{1}{6} \\, {\\left(3 \\, y^{4} - 15 \\, y^{2} + 16\\right)} {\\left(y^{2} - 5\\right)} - \\frac{87}{2} \\, y^{2} + \\frac{1}{6} \\, \\sqrt{-\\frac{125}{3} \\, y^{12} + \\frac{1750}{3} \\, y^{10} - 2975 \\, y^{8} + 6600 \\, y^{6} - 6080 \\, y^{4} + \\frac{8620}{3} \\, y^{2} - 1728} + 40\\right)}^{\\frac{1}{3}}}}\\right]$"
      ],
      "text/plain": [
       "[y(y^5 - 5*y^3 + 4*y) == y, y(y^5 - 5*y^3 + 4*y) == -1/4*y - 1/2*sqrt(-5/6*y^2 - 1/9*(9*y^4 + (y^2 - 5)^2 - 45*y^2 + 48)/(-y^6 + 25/2*y^4 + 1/27*(y^2 - 5)^3 + 1/6*(3*y^4 - 15*y^2 + 16)*(y^2 - 5) - 87/2*y^2 + 1/6*sqrt(-125/3*y^12 + 1750/3*y^10 - 2975*y^8 + 6600*y^6 - 6080*y^4 + 8620/3*y^2 - 1728) + 40)^(1/3) + 3/2*(9*y^3 - 4*(y^2 - 5)*y - 40*y)/sqrt((40*y^4 - 220*y^2 - 15*(-y^6 + 25/2*y^4 + 1/27*(y^2 - 5)^3 + 1/6*(3*y^4 - 15*y^2 + 16)*(y^2 - 5) - 87/2*y^2 + 1/6*sqrt(-125/3*y^12 + 1750/3*y^10 - 2975*y^8 + 6600*y^6 - 6080*y^4 + 8620/3*y^2 - 1728) + 40)^(1/3)*(y^2 - 8) + 36*(-y^6 + 25/2*y^4 + 1/27*(y^2 - 5)^3 + 1/6*(3*y^4 - 15*y^2 + 16)*(y^2 - 5) - 87/2*y^2 + 1/6*sqrt(-125/3*y^12 + 1750/3*y^10 - 2975*y^8 + 6600*y^6 - 6080*y^4 + 8620/3*y^2 - 1728) + 40)^(2/3) + 292)/(-y^6 + 25/2*y^4 + 1/27*(y^2 - 5)^3 + 1/6*(3*y^4 - 15*y^2 + 16)*(y^2 - 5) - 87/2*y^2 + 1/6*sqrt(-125/3*y^12 + 1750/3*y^10 - 2975*y^8 + 6600*y^6 - 6080*y^4 + 8620/3*y^2 - 1728) + 40)^(1/3)) - (-y^6 + 25/2*y^4 + 1/27*(y^2 - 5)^3 + 1/6*(3*y^4 - 15*y^2 + 16)*(y^2 - 5) - 87/2*y^2 + 1/6*sqrt(-125/3*y^12 + 1750/3*y^10 - 2975*y^8 + 6600*y^6 - 6080*y^4 + 8620/3*y^2 - 1728) + 40)^(1/3) + 20/3) - 1/12*sqrt((40*y^4 - 220*y^2 - 15*(-y^6 + 25/2*y^4 + 1/27*(y^2 - 5)^3 + 1/6*(3*y^4 - 15*y^2 + 16)*(y^2 - 5) - 87/2*y^2 + 1/6*sqrt(-125/3*y^12 + 1750/3*y^10 - 2975*y^8 + 6600*y^6 - 6080*y^4 + 8620/3*y^2 - 1728) + 40)^(1/3)*(y^2 - 8) + 36*(-y^6 + 25/2*y^4 + 1/27*(y^2 - 5)^3 + 1/6*(3*y^4 - 15*y^2 + 16)*(y^2 - 5) - 87/2*y^2 + 1/6*sqrt(-125/3*y^12 + 1750/3*y^10 - 2975*y^8 + 6600*y^6 - 6080*y^4 + 8620/3*y^2 - 1728) + 40)^(2/3) + 292)/(-y^6 + 25/2*y^4 + 1/27*(y^2 - 5)^3 + 1/6*(3*y^4 - 15*y^2 + 16)*(y^2 - 5) - 87/2*y^2 + 1/6*sqrt(-125/3*y^12 + 1750/3*y^10 - 2975*y^8 + 6600*y^6 - 6080*y^4 + 8620/3*y^2 - 1728) + 40)^(1/3)), y(y^5 - 5*y^3 + 4*y) == -1/4*y + 1/2*sqrt(-5/6*y^2 - 1/9*(9*y^4 + (y^2 - 5)^2 - 45*y^2 + 48)/(-y^6 + 25/2*y^4 + 1/27*(y^2 - 5)^3 + 1/6*(3*y^4 - 15*y^2 + 16)*(y^2 - 5) - 87/2*y^2 + 1/6*sqrt(-125/3*y^12 + 1750/3*y^10 - 2975*y^8 + 6600*y^6 - 6080*y^4 + 8620/3*y^2 - 1728) + 40)^(1/3) + 3/2*(9*y^3 - 4*(y^2 - 5)*y - 40*y)/sqrt((40*y^4 - 220*y^2 - 15*(-y^6 + 25/2*y^4 + 1/27*(y^2 - 5)^3 + 1/6*(3*y^4 - 15*y^2 + 16)*(y^2 - 5) - 87/2*y^2 + 1/6*sqrt(-125/3*y^12 + 1750/3*y^10 - 2975*y^8 + 6600*y^6 - 6080*y^4 + 8620/3*y^2 - 1728) + 40)^(1/3)*(y^2 - 8) + 36*(-y^6 + 25/2*y^4 + 1/27*(y^2 - 5)^3 + 1/6*(3*y^4 - 15*y^2 + 16)*(y^2 - 5) - 87/2*y^2 + 1/6*sqrt(-125/3*y^12 + 1750/3*y^10 - 2975*y^8 + 6600*y^6 - 6080*y^4 + 8620/3*y^2 - 1728) + 40)^(2/3) + 292)/(-y^6 + 25/2*y^4 + 1/27*(y^2 - 5)^3 + 1/6*(3*y^4 - 15*y^2 + 16)*(y^2 - 5) - 87/2*y^2 + 1/6*sqrt(-125/3*y^12 + 1750/3*y^10 - 2975*y^8 + 6600*y^6 - 6080*y^4 + 8620/3*y^2 - 1728) + 40)^(1/3)) - (-y^6 + 25/2*y^4 + 1/27*(y^2 - 5)^3 + 1/6*(3*y^4 - 15*y^2 + 16)*(y^2 - 5) - 87/2*y^2 + 1/6*sqrt(-125/3*y^12 + 1750/3*y^10 - 2975*y^8 + 6600*y^6 - 6080*y^4 + 8620/3*y^2 - 1728) + 40)^(1/3) + 20/3) - 1/12*sqrt((40*y^4 - 220*y^2 - 15*(-y^6 + 25/2*y^4 + 1/27*(y^2 - 5)^3 + 1/6*(3*y^4 - 15*y^2 + 16)*(y^2 - 5) - 87/2*y^2 + 1/6*sqrt(-125/3*y^12 + 1750/3*y^10 - 2975*y^8 + 6600*y^6 - 6080*y^4 + 8620/3*y^2 - 1728) + 40)^(1/3)*(y^2 - 8) + 36*(-y^6 + 25/2*y^4 + 1/27*(y^2 - 5)^3 + 1/6*(3*y^4 - 15*y^2 + 16)*(y^2 - 5) - 87/2*y^2 + 1/6*sqrt(-125/3*y^12 + 1750/3*y^10 - 2975*y^8 + 6600*y^6 - 6080*y^4 + 8620/3*y^2 - 1728) + 40)^(2/3) + 292)/(-y^6 + 25/2*y^4 + 1/27*(y^2 - 5)^3 + 1/6*(3*y^4 - 15*y^2 + 16)*(y^2 - 5) - 87/2*y^2 + 1/6*sqrt(-125/3*y^12 + 1750/3*y^10 - 2975*y^8 + 6600*y^6 - 6080*y^4 + 8620/3*y^2 - 1728) + 40)^(1/3)), y(y^5 - 5*y^3 + 4*y) == -1/4*y - 1/2*sqrt(-5/6*y^2 - 1/9*(9*y^4 + (y^2 - 5)^2 - 45*y^2 + 48)/(-y^6 + 25/2*y^4 + 1/27*(y^2 - 5)^3 + 1/6*(3*y^4 - 15*y^2 + 16)*(y^2 - 5) - 87/2*y^2 + 1/6*sqrt(-125/3*y^12 + 1750/3*y^10 - 2975*y^8 + 6600*y^6 - 6080*y^4 + 8620/3*y^2 - 1728) + 40)^(1/3) - 3/2*(9*y^3 - 4*(y^2 - 5)*y - 40*y)/sqrt((40*y^4 - 220*y^2 - 15*(-y^6 + 25/2*y^4 + 1/27*(y^2 - 5)^3 + 1/6*(3*y^4 - 15*y^2 + 16)*(y^2 - 5) - 87/2*y^2 + 1/6*sqrt(-125/3*y^12 + 1750/3*y^10 - 2975*y^8 + 6600*y^6 - 6080*y^4 + 8620/3*y^2 - 1728) + 40)^(1/3)*(y^2 - 8) + 36*(-y^6 + 25/2*y^4 + 1/27*(y^2 - 5)^3 + 1/6*(3*y^4 - 15*y^2 + 16)*(y^2 - 5) - 87/2*y^2 + 1/6*sqrt(-125/3*y^12 + 1750/3*y^10 - 2975*y^8 + 6600*y^6 - 6080*y^4 + 8620/3*y^2 - 1728) + 40)^(2/3) + 292)/(-y^6 + 25/2*y^4 + 1/27*(y^2 - 5)^3 + 1/6*(3*y^4 - 15*y^2 + 16)*(y^2 - 5) - 87/2*y^2 + 1/6*sqrt(-125/3*y^12 + 1750/3*y^10 - 2975*y^8 + 6600*y^6 - 6080*y^4 + 8620/3*y^2 - 1728) + 40)^(1/3)) - (-y^6 + 25/2*y^4 + 1/27*(y^2 - 5)^3 + 1/6*(3*y^4 - 15*y^2 + 16)*(y^2 - 5) - 87/2*y^2 + 1/6*sqrt(-125/3*y^12 + 1750/3*y^10 - 2975*y^8 + 6600*y^6 - 6080*y^4 + 8620/3*y^2 - 1728) + 40)^(1/3) + 20/3) + 1/12*sqrt((40*y^4 - 220*y^2 - 15*(-y^6 + 25/2*y^4 + 1/27*(y^2 - 5)^3 + 1/6*(3*y^4 - 15*y^2 + 16)*(y^2 - 5) - 87/2*y^2 + 1/6*sqrt(-125/3*y^12 + 1750/3*y^10 - 2975*y^8 + 6600*y^6 - 6080*y^4 + 8620/3*y^2 - 1728) + 40)^(1/3)*(y^2 - 8) + 36*(-y^6 + 25/2*y^4 + 1/27*(y^2 - 5)^3 + 1/6*(3*y^4 - 15*y^2 + 16)*(y^2 - 5) - 87/2*y^2 + 1/6*sqrt(-125/3*y^12 + 1750/3*y^10 - 2975*y^8 + 6600*y^6 - 6080*y^4 + 8620/3*y^2 - 1728) + 40)^(2/3) + 292)/(-y^6 + 25/2*y^4 + 1/27*(y^2 - 5)^3 + 1/6*(3*y^4 - 15*y^2 + 16)*(y^2 - 5) - 87/2*y^2 + 1/6*sqrt(-125/3*y^12 + 1750/3*y^10 - 2975*y^8 + 6600*y^6 - 6080*y^4 + 8620/3*y^2 - 1728) + 40)^(1/3)), y(y^5 - 5*y^3 + 4*y) == -1/4*y + 1/2*sqrt(-5/6*y^2 - 1/9*(9*y^4 + (y^2 - 5)^2 - 45*y^2 + 48)/(-y^6 + 25/2*y^4 + 1/27*(y^2 - 5)^3 + 1/6*(3*y^4 - 15*y^2 + 16)*(y^2 - 5) - 87/2*y^2 + 1/6*sqrt(-125/3*y^12 + 1750/3*y^10 - 2975*y^8 + 6600*y^6 - 6080*y^4 + 8620/3*y^2 - 1728) + 40)^(1/3) - 3/2*(9*y^3 - 4*(y^2 - 5)*y - 40*y)/sqrt((40*y^4 - 220*y^2 - 15*(-y^6 + 25/2*y^4 + 1/27*(y^2 - 5)^3 + 1/6*(3*y^4 - 15*y^2 + 16)*(y^2 - 5) - 87/2*y^2 + 1/6*sqrt(-125/3*y^12 + 1750/3*y^10 - 2975*y^8 + 6600*y^6 - 6080*y^4 + 8620/3*y^2 - 1728) + 40)^(1/3)*(y^2 - 8) + 36*(-y^6 + 25/2*y^4 + 1/27*(y^2 - 5)^3 + 1/6*(3*y^4 - 15*y^2 + 16)*(y^2 - 5) - 87/2*y^2 + 1/6*sqrt(-125/3*y^12 + 1750/3*y^10 - 2975*y^8 + 6600*y^6 - 6080*y^4 + 8620/3*y^2 - 1728) + 40)^(2/3) + 292)/(-y^6 + 25/2*y^4 + 1/27*(y^2 - 5)^3 + 1/6*(3*y^4 - 15*y^2 + 16)*(y^2 - 5) - 87/2*y^2 + 1/6*sqrt(-125/3*y^12 + 1750/3*y^10 - 2975*y^8 + 6600*y^6 - 6080*y^4 + 8620/3*y^2 - 1728) + 40)^(1/3)) - (-y^6 + 25/2*y^4 + 1/27*(y^2 - 5)^3 + 1/6*(3*y^4 - 15*y^2 + 16)*(y^2 - 5) - 87/2*y^2 + 1/6*sqrt(-125/3*y^12 + 1750/3*y^10 - 2975*y^8 + 6600*y^6 - 6080*y^4 + 8620/3*y^2 - 1728) + 40)^(1/3) + 20/3) + 1/12*sqrt((40*y^4 - 220*y^2 - 15*(-y^6 + 25/2*y^4 + 1/27*(y^2 - 5)^3 + 1/6*(3*y^4 - 15*y^2 + 16)*(y^2 - 5) - 87/2*y^2 + 1/6*sqrt(-125/3*y^12 + 1750/3*y^10 - 2975*y^8 + 6600*y^6 - 6080*y^4 + 8620/3*y^2 - 1728) + 40)^(1/3)*(y^2 - 8) + 36*(-y^6 + 25/2*y^4 + 1/27*(y^2 - 5)^3 + 1/6*(3*y^4 - 15*y^2 + 16)*(y^2 - 5) - 87/2*y^2 + 1/6*sqrt(-125/3*y^12 + 1750/3*y^10 - 2975*y^8 + 6600*y^6 - 6080*y^4 + 8620/3*y^2 - 1728) + 40)^(2/3) + 292)/(-y^6 + 25/2*y^4 + 1/27*(y^2 - 5)^3 + 1/6*(3*y^4 - 15*y^2 + 16)*(y^2 - 5) - 87/2*y^2 + 1/6*sqrt(-125/3*y^12 + 1750/3*y^10 - 2975*y^8 + 6600*y^6 - 6080*y^4 + 8620/3*y^2 - 1728) + 40)^(1/3))]"
      ]
     },
     "metadata": {},
     "output_type": "display_data"
    }
   ],
   "source": [
    "y = function('y')(x)\n",
    "show(solve([0 == y^5 - 5*y^3 + 4*y -x], y))\n",
    "#here we have a miracle that the computer solved it, while the text claimed it is\n",
    "#'humanly' impossible\n",
    "\n",
    "#plot(y, (x, -4, 4))"
   ]
  },
  {
   "cell_type": "code",
   "execution_count": 242,
   "id": "dd8ddcd4-d3bc-40e4-801b-b50d818fe155",
   "metadata": {},
   "outputs": [],
   "source": [
    "y = function('y')(x)\n",
    "x = var('x')\n",
    "#y(x) = -x + y^5 - 5*y^3 + 4*y ==0\n",
    "#plot(y, (x, -4, 4)) #we can not plot this"
   ]
  },
  {
   "cell_type": "markdown",
   "id": "8de22c0d-50db-49f7-9be2-cdd8f72803c7",
   "metadata": {},
   "source": [
    "a) the reason why we canot express $y$ as an explicit function of $x$ is because y shows up in the equation itself."
   ]
  },
  {
   "cell_type": "markdown",
   "id": "5100741f-0a5a-4ae5-8b52-20472c392369",
   "metadata": {},
   "source": [
    "b)Use implicit differentiation to find a formula for $dy/dx$"
   ]
  },
  {
   "cell_type": "code",
   "execution_count": 432,
   "id": "50d96cdc-57a1-45a5-9bc6-6a58cab017d8",
   "metadata": {},
   "outputs": [
    {
     "data": {
      "text/html": [
       "<html>\\(\\displaystyle x \\ {\\mapsto}\\ 5 \\, y\\left(x\\right)^{4} \\frac{\\partial}{\\partial x}y\\left(x\\right) - 15 \\, y\\left(x\\right)^{2} \\frac{\\partial}{\\partial x}y\\left(x\\right) + 4 \\, \\frac{\\partial}{\\partial x}y\\left(x\\right) - 1\\)</html>"
      ],
      "text/latex": [
       "$\\displaystyle x \\ {\\mapsto}\\ 5 \\, y\\left(x\\right)^{4} \\frac{\\partial}{\\partial x}y\\left(x\\right) - 15 \\, y\\left(x\\right)^{2} \\frac{\\partial}{\\partial x}y\\left(x\\right) + 4 \\, \\frac{\\partial}{\\partial x}y\\left(x\\right) - 1$"
      ],
      "text/plain": [
       "x |--> 5*y(x)^4*diff(y(x), x) - 15*y(x)^2*diff(y(x), x) + 4*diff(y(x), x) - 1"
      ]
     },
     "metadata": {},
     "output_type": "display_data"
    }
   ],
   "source": [
    "#-x + y^5 -5*y^3 + 4*y ==0\n",
    "y=function('y')(x)\n",
    "f(x)=-x\n",
    "show(diff(f,x)+diff(y^5,x)-5*diff(y^3,x)+4*diff(y,x) )"
   ]
  },
  {
   "cell_type": "markdown",
   "id": "9decdf41-0be6-4947-bf81-cbca59a61cf5",
   "metadata": {},
   "source": [
    "#replacing dy/dx with dy_dx"
   ]
  },
  {
   "cell_type": "code",
   "execution_count": 433,
   "id": "51fcad6d-69a0-4db7-95f6-6b771f993561",
   "metadata": {},
   "outputs": [
    {
     "data": {
      "text/html": [
       "<html>\\(\\displaystyle \\left[\\mathit{dy}_{\\mathit{dx}} = \\frac{1}{5 \\, y^{4} - 15 \\, y^{2} + 4}\\right]\\)</html>"
      ],
      "text/latex": [
       "$\\displaystyle \\left[\\mathit{dy}_{\\mathit{dx}} = \\frac{1}{5 \\, y^{4} - 15 \\, y^{2} + 4}\\right]$"
      ],
      "text/plain": [
       "[dy_dx == (1/(5*y^4 - 15*y^2 + 4))]"
      ]
     },
     "metadata": {},
     "output_type": "display_data"
    }
   ],
   "source": [
    "var('dy_dx')\n",
    "var('y')\n",
    "show(solve([5*y^4*dy_dx - 15*y^2*dy_dx + 4*dy_dx -1 ==0], dy_dx))"
   ]
  },
  {
   "cell_type": "code",
   "execution_count": 434,
   "id": "5c0f8e5a-3672-4b99-8820-1f929389309a",
   "metadata": {},
   "outputs": [
    {
     "data": {
      "text/html": [
       "<html>\\(\\displaystyle \\left( x, y \\right) \\ {\\mapsto} \\ \\frac{1}{5 \\, y^{4} - 15 \\, y^{2} + 4}\\)</html>"
      ],
      "text/latex": [
       "$\\displaystyle \\left( x, y \\right) \\ {\\mapsto} \\ \\frac{1}{5 \\, y^{4} - 15 \\, y^{2} + 4}$"
      ],
      "text/plain": [
       "(x, y) |--> 1/(5*y^4 - 15*y^2 + 4)"
      ]
     },
     "metadata": {},
     "output_type": "display_data"
    },
    {
     "data": {
      "text/html": [
       "<html>\\(\\displaystyle -\\frac{1}{6}\\)</html>"
      ],
      "text/latex": [
       "$\\displaystyle -\\frac{1}{6}$"
      ],
      "text/plain": [
       "-1/6"
      ]
     },
     "metadata": {},
     "output_type": "display_data"
    }
   ],
   "source": [
    "dy_dx(x,y) =1/(5*y^4 -15*y^2 +4)\n",
    "show(dy_dx)\n",
    "show(dy_dx(0,1))"
   ]
  },
  {
   "cell_type": "code",
   "execution_count": 355,
   "id": "48ab2e2d-b354-4e8c-86a5-d292cf22cb7f",
   "metadata": {},
   "outputs": [
    {
     "data": {
      "text/html": [
       "<html>\\(\\displaystyle -\\frac{1}{6} \\, x + 1\\)</html>"
      ],
      "text/latex": [
       "$\\displaystyle -\\frac{1}{6} \\, x + 1$"
      ],
      "text/plain": [
       "-1/6*x + 1"
      ]
     },
     "metadata": {},
     "output_type": "display_data"
    },
    {
     "data": {
      "image/png": "[encoded data removed]",
      "text/plain": [
       "Graphics object consisting of 1 graphics primitive"
      ]
     },
     "execution_count": 355,
     "metadata": {},
     "output_type": "execute_result"
    }
   ],
   "source": [
    "L(x) = -1/6*(x -0) + 1 #to fit the problem in question, we choose 1 out of the 5 possible value of y, -2, -1, 0, 1, 2, \n",
    "show(L(x))\n",
    "plot(L, (x, -4, 4), aspect_ratio=1)"
   ]
  },
  {
   "cell_type": "code",
   "execution_count": 438,
   "id": "5b196a7d-3ee6-4d62-b503-8a3210311488",
   "metadata": {},
   "outputs": [
    {
     "data": {
      "text/html": [
       "<html>\\(\\displaystyle x \\ {\\mapsto}\\ 0\\)</html>"
      ],
      "text/latex": [
       "$\\displaystyle x \\ {\\mapsto}\\ 0$"
      ],
      "text/plain": [
       "x |--> 0"
      ]
     },
     "metadata": {},
     "output_type": "display_data"
    },
    {
     "data": {
      "text/html": [
       "<html>\\(\\displaystyle x \\ {\\mapsto}\\ 8 \\, {\\left(\\frac{\\partial}{\\partial x}y\\left(x\\right)^{2} + y\\left(x\\right) \\frac{\\partial^{2}}{(\\partial x)^{2}}y\\left(x\\right)\\right)} y\\left(x\\right) \\frac{\\partial}{\\partial x}y\\left(x\\right)^{2} - 10 \\, y\\left(x\\right) \\frac{\\partial}{\\partial x}y\\left(x\\right)^{2} + 8 \\, {\\left({\\left(3 \\, \\frac{\\partial}{\\partial x}y\\left(x\\right) \\frac{\\partial^{2}}{(\\partial x)^{2}}y\\left(x\\right) + y\\left(x\\right) \\frac{\\partial^{3}}{(\\partial x)^{3}}y\\left(x\\right)\\right)} y\\left(x\\right) \\frac{\\partial}{\\partial x}y\\left(x\\right) + {\\left(\\frac{\\partial}{\\partial x}y\\left(x\\right)^{2} + y\\left(x\\right) \\frac{\\partial^{2}}{(\\partial x)^{2}}y\\left(x\\right)\\right)} \\frac{\\partial}{\\partial x}y\\left(x\\right)^{2} + {\\left(\\frac{\\partial}{\\partial x}y\\left(x\\right)^{2} + y\\left(x\\right) \\frac{\\partial^{2}}{(\\partial x)^{2}}y\\left(x\\right)\\right)} y\\left(x\\right) \\frac{\\partial^{2}}{(\\partial x)^{2}}y\\left(x\\right)\\right)} y\\left(x\\right) - 10 \\, {\\left(\\frac{\\partial}{\\partial x}y\\left(x\\right)^{2} + y\\left(x\\right) \\frac{\\partial^{2}}{(\\partial x)^{2}}y\\left(x\\right)\\right)} y\\left(x\\right) + 4 \\, \\frac{\\partial}{\\partial x}y\\left(x\\right) - 1\\)</html>"
      ],
      "text/latex": [
       "$\\displaystyle x \\ {\\mapsto}\\ 8 \\, {\\left(\\frac{\\partial}{\\partial x}y\\left(x\\right)^{2} + y\\left(x\\right) \\frac{\\partial^{2}}{(\\partial x)^{2}}y\\left(x\\right)\\right)} y\\left(x\\right) \\frac{\\partial}{\\partial x}y\\left(x\\right)^{2} - 10 \\, y\\left(x\\right) \\frac{\\partial}{\\partial x}y\\left(x\\right)^{2} + 8 \\, {\\left({\\left(3 \\, \\frac{\\partial}{\\partial x}y\\left(x\\right) \\frac{\\partial^{2}}{(\\partial x)^{2}}y\\left(x\\right) + y\\left(x\\right) \\frac{\\partial^{3}}{(\\partial x)^{3}}y\\left(x\\right)\\right)} y\\left(x\\right) \\frac{\\partial}{\\partial x}y\\left(x\\right) + {\\left(\\frac{\\partial}{\\partial x}y\\left(x\\right)^{2} + y\\left(x\\right) \\frac{\\partial^{2}}{(\\partial x)^{2}}y\\left(x\\right)\\right)} \\frac{\\partial}{\\partial x}y\\left(x\\right)^{2} + {\\left(\\frac{\\partial}{\\partial x}y\\left(x\\right)^{2} + y\\left(x\\right) \\frac{\\partial^{2}}{(\\partial x)^{2}}y\\left(x\\right)\\right)} y\\left(x\\right) \\frac{\\partial^{2}}{(\\partial x)^{2}}y\\left(x\\right)\\right)} y\\left(x\\right) - 10 \\, {\\left(\\frac{\\partial}{\\partial x}y\\left(x\\right)^{2} + y\\left(x\\right) \\frac{\\partial^{2}}{(\\partial x)^{2}}y\\left(x\\right)\\right)} y\\left(x\\right) + 4 \\, \\frac{\\partial}{\\partial x}y\\left(x\\right) - 1$"
      ],
      "text/plain": [
       "x |--> 8*(diff(y(x), x)^2 + y(x)*diff(y(x), x, x))*y(x)*diff(y(x), x)^2 - 10*y(x)*diff(y(x), x)^2 + 8*((3*diff(y(x), x)*diff(y(x), x, x) + y(x)*diff(y(x), x, x, x))*y(x)*diff(y(x), x) + (diff(y(x), x)^2 + y(x)*diff(y(x), x, x))*diff(y(x), x)^2 + (diff(y(x), x)^2 + y(x)*diff(y(x), x, x))*y(x)*diff(y(x), x, x))*y(x) - 10*(diff(y(x), x)^2 + y(x)*diff(y(x), x, x))*y(x) + 4*diff(y(x), x) - 1"
      ]
     },
     "metadata": {},
     "output_type": "display_data"
    }
   ],
   "source": [
    "#the following has problem, using product rule to do exponential seems problematic\n",
    "#-x + y^5 - 5*y^3 + 4*y == 0\n",
    "#right hand side:\n",
    "g(x) =0\n",
    "show(g.diff(x))\n",
    "\n",
    "#left hand side:\n",
    "var('f1') #f1 is an expression\n",
    "#show(type(f1))\n",
    "f1=-x\n",
    "\n",
    "y  = function('y')(x) #y = f(x)\n",
    "y_2= function('y_2')(x) #y^2\n",
    "y_3= function('y_3')(x) #y^3\n",
    "y_4= function('y_4')(x) #y^4\n",
    "y_5= function('y_5')(x) #y^5\n",
    "\n",
    "y_2(x) = Product_Rule(y, y, x) # this is [d/dx]y^2\n",
    "y_3(x) = Product_Rule(y, y_2,x) # this is [d/dx]y^3\n",
    "y_4(x) = Product_Rule(y_2, y_2, x) #this is [d/dx]y^4\n",
    "y_5(x) = Product_Rule(y, y_4, x) #thi is [d/dx]y^5\n",
    "\n",
    "r =f1.diff(x) + y_5 -5*y_3 + 4*diff(y, x)\n",
    "show(r)\n",
    "#r2= r.factor()\n",
    "#r3 = r2.simplify()\n",
    "#show(r3)\n"
   ]
  },
  {
   "cell_type": "code",
   "execution_count": null,
   "id": "c49a144f-b4f8-4a71-816b-3b066d87476d",
   "metadata": {
    "tags": []
   },
   "outputs": [],
   "source": [
    "#next step, replacing symbols with dy_dx"
   ]
  },
  {
   "cell_type": "code",
   "execution_count": 439,
   "id": "c322b17e-981f-4e51-a2c8-ce55b99a3337",
   "metadata": {},
   "outputs": [
    {
     "data": {
      "text/html": [
       "<html>\\(\\displaystyle \\left[\\mathit{dy}_{\\mathit{dx}} = -\\frac{1}{2} \\, \\sqrt{-\\frac{\\frac{{\\left(4 \\, y\\left(x\\right)^{2} + 19 \\, y\\left(x\\right) - 10\\right)}^{2}}{{\\left(y\\left(x\\right)^{2} + 2\\right)}^{2}} - \\frac{24}{y\\left(x\\right)^{3} + 2 \\, y\\left(x\\right)}}{12 \\, {\\left(\\frac{108 \\, {\\left(4 \\, y\\left(x\\right)^{3} + 19 \\, y\\left(x\\right)^{2} - 10 \\, y\\left(x\\right) + 2\\right)}}{y\\left(x\\right)^{6} + 4 \\, y\\left(x\\right)^{4} + 4 \\, y\\left(x\\right)^{2}} + \\frac{{\\left(4 \\, y\\left(x\\right)^{2} + 19 \\, y\\left(x\\right) - 10\\right)}^{3}}{{\\left(y\\left(x\\right)^{2} + 2\\right)}^{3}} - \\frac{36 \\, {\\left(4 \\, y\\left(x\\right)^{2} + 19 \\, y\\left(x\\right) - 10\\right)}}{{\\left(y\\left(x\\right)^{3} + 2 \\, y\\left(x\\right)\\right)} {\\left(y\\left(x\\right)^{2} + 2\\right)}} + \\frac{36 \\, \\sqrt{\\frac{1}{6}} \\sqrt{\\frac{256 \\, y\\left(x\\right)^{11} + 4864 \\, y\\left(x\\right)^{10} + 32096 \\, y\\left(x\\right)^{9} + 73648 \\, y\\left(x\\right)^{8} - 29103 \\, y\\left(x\\right)^{7} - 170448 \\, y\\left(x\\right)^{6} + 204622 \\, y\\left(x\\right)^{5} - 81932 \\, y\\left(x\\right)^{4} + 9208 \\, y\\left(x\\right)^{3} + 6888 \\, y\\left(x\\right)^{2} - 2624 \\, y\\left(x\\right) + 432}{y\\left(x\\right)^{2} + 2}}}{{\\left(y\\left(x\\right)^{2} + 2\\right)}^{2} y\\left(x\\right)^{2}}\\right)}^{\\frac{1}{3}}} - \\frac{1}{12} \\, {\\left(\\frac{108 \\, {\\left(4 \\, y\\left(x\\right)^{3} + 19 \\, y\\left(x\\right)^{2} - 10 \\, y\\left(x\\right) + 2\\right)}}{y\\left(x\\right)^{6} + 4 \\, y\\left(x\\right)^{4} + 4 \\, y\\left(x\\right)^{2}} + \\frac{{\\left(4 \\, y\\left(x\\right)^{2} + 19 \\, y\\left(x\\right) - 10\\right)}^{3}}{{\\left(y\\left(x\\right)^{2} + 2\\right)}^{3}} - \\frac{36 \\, {\\left(4 \\, y\\left(x\\right)^{2} + 19 \\, y\\left(x\\right) - 10\\right)}}{{\\left(y\\left(x\\right)^{3} + 2 \\, y\\left(x\\right)\\right)} {\\left(y\\left(x\\right)^{2} + 2\\right)}} + \\frac{36 \\, \\sqrt{\\frac{1}{6}} \\sqrt{\\frac{256 \\, y\\left(x\\right)^{11} + 4864 \\, y\\left(x\\right)^{10} + 32096 \\, y\\left(x\\right)^{9} + 73648 \\, y\\left(x\\right)^{8} - 29103 \\, y\\left(x\\right)^{7} - 170448 \\, y\\left(x\\right)^{6} + 204622 \\, y\\left(x\\right)^{5} - 81932 \\, y\\left(x\\right)^{4} + 9208 \\, y\\left(x\\right)^{3} + 6888 \\, y\\left(x\\right)^{2} - 2624 \\, y\\left(x\\right) + 432}{y\\left(x\\right)^{2} + 2}}}{{\\left(y\\left(x\\right)^{2} + 2\\right)}^{2} y\\left(x\\right)^{2}}\\right)}^{\\frac{1}{3}} - \\frac{4 \\, y\\left(x\\right)^{2} + 19 \\, y\\left(x\\right) - 10}{3 \\, {\\left(y\\left(x\\right)^{2} + 2\\right)}} + \\frac{2 \\, \\sqrt{3} {\\left(y\\left(x\\right)^{2} + 2\\right)}}{{\\left(y\\left(x\\right)^{3} + 2 \\, y\\left(x\\right)\\right)} \\sqrt{\\frac{16 \\, y\\left(x\\right)^{5} + 152 \\, y\\left(x\\right)^{4} + 281 \\, y\\left(x\\right)^{3} - 404 \\, y\\left(x\\right)^{2} + {\\left(y\\left(x\\right)^{5} + 4 \\, y\\left(x\\right)^{3} + 4 \\, y\\left(x\\right)\\right)} {\\left(\\frac{108 \\, {\\left(4 \\, y\\left(x\\right)^{3} + 19 \\, y\\left(x\\right)^{2} - 10 \\, y\\left(x\\right) + 2\\right)}}{y\\left(x\\right)^{6} + 4 \\, y\\left(x\\right)^{4} + 4 \\, y\\left(x\\right)^{2}} + \\frac{{\\left(4 \\, y\\left(x\\right)^{2} + 19 \\, y\\left(x\\right) - 10\\right)}^{3}}{{\\left(y\\left(x\\right)^{2} + 2\\right)}^{3}} - \\frac{36 \\, {\\left(4 \\, y\\left(x\\right)^{2} + 19 \\, y\\left(x\\right) - 10\\right)}}{{\\left(y\\left(x\\right)^{3} + 2 \\, y\\left(x\\right)\\right)} {\\left(y\\left(x\\right)^{2} + 2\\right)}} + \\frac{36 \\, \\sqrt{\\frac{1}{6}} \\sqrt{\\frac{256 \\, y\\left(x\\right)^{11} + 4864 \\, y\\left(x\\right)^{10} + 32096 \\, y\\left(x\\right)^{9} + 73648 \\, y\\left(x\\right)^{8} - 29103 \\, y\\left(x\\right)^{7} - 170448 \\, y\\left(x\\right)^{6} + 204622 \\, y\\left(x\\right)^{5} - 81932 \\, y\\left(x\\right)^{4} + 9208 \\, y\\left(x\\right)^{3} + 6888 \\, y\\left(x\\right)^{2} - 2624 \\, y\\left(x\\right) + 432}{y\\left(x\\right)^{2} + 2}}}{{\\left(y\\left(x\\right)^{2} + 2\\right)}^{2} y\\left(x\\right)^{2}}\\right)}^{\\frac{2}{3}} - 2 \\, {\\left(4 \\, y\\left(x\\right)^{5} + 19 \\, y\\left(x\\right)^{4} - 2 \\, y\\left(x\\right)^{3} + 38 \\, y\\left(x\\right)^{2} - 20 \\, y\\left(x\\right)\\right)} {\\left(\\frac{108 \\, {\\left(4 \\, y\\left(x\\right)^{3} + 19 \\, y\\left(x\\right)^{2} - 10 \\, y\\left(x\\right) + 2\\right)}}{y\\left(x\\right)^{6} + 4 \\, y\\left(x\\right)^{4} + 4 \\, y\\left(x\\right)^{2}} + \\frac{{\\left(4 \\, y\\left(x\\right)^{2} + 19 \\, y\\left(x\\right) - 10\\right)}^{3}}{{\\left(y\\left(x\\right)^{2} + 2\\right)}^{3}} - \\frac{36 \\, {\\left(4 \\, y\\left(x\\right)^{2} + 19 \\, y\\left(x\\right) - 10\\right)}}{{\\left(y\\left(x\\right)^{3} + 2 \\, y\\left(x\\right)\\right)} {\\left(y\\left(x\\right)^{2} + 2\\right)}} + \\frac{36 \\, \\sqrt{\\frac{1}{6}} \\sqrt{\\frac{256 \\, y\\left(x\\right)^{11} + 4864 \\, y\\left(x\\right)^{10} + 32096 \\, y\\left(x\\right)^{9} + 73648 \\, y\\left(x\\right)^{8} - 29103 \\, y\\left(x\\right)^{7} - 170448 \\, y\\left(x\\right)^{6} + 204622 \\, y\\left(x\\right)^{5} - 81932 \\, y\\left(x\\right)^{4} + 9208 \\, y\\left(x\\right)^{3} + 6888 \\, y\\left(x\\right)^{2} - 2624 \\, y\\left(x\\right) + 432}{y\\left(x\\right)^{2} + 2}}}{{\\left(y\\left(x\\right)^{2} + 2\\right)}^{2} y\\left(x\\right)^{2}}\\right)}^{\\frac{1}{3}} + 100 \\, y\\left(x\\right) - 48}{{\\left(\\frac{108 \\, {\\left(4 \\, y\\left(x\\right)^{3} + 19 \\, y\\left(x\\right)^{2} - 10 \\, y\\left(x\\right) + 2\\right)}}{y\\left(x\\right)^{6} + 4 \\, y\\left(x\\right)^{4} + 4 \\, y\\left(x\\right)^{2}} + \\frac{{\\left(4 \\, y\\left(x\\right)^{2} + 19 \\, y\\left(x\\right) - 10\\right)}^{3}}{{\\left(y\\left(x\\right)^{2} + 2\\right)}^{3}} - \\frac{36 \\, {\\left(4 \\, y\\left(x\\right)^{2} + 19 \\, y\\left(x\\right) - 10\\right)}}{{\\left(y\\left(x\\right)^{3} + 2 \\, y\\left(x\\right)\\right)} {\\left(y\\left(x\\right)^{2} + 2\\right)}} + \\frac{36 \\, \\sqrt{\\frac{1}{6}} \\sqrt{\\frac{256 \\, y\\left(x\\right)^{11} + 4864 \\, y\\left(x\\right)^{10} + 32096 \\, y\\left(x\\right)^{9} + 73648 \\, y\\left(x\\right)^{8} - 29103 \\, y\\left(x\\right)^{7} - 170448 \\, y\\left(x\\right)^{6} + 204622 \\, y\\left(x\\right)^{5} - 81932 \\, y\\left(x\\right)^{4} + 9208 \\, y\\left(x\\right)^{3} + 6888 \\, y\\left(x\\right)^{2} - 2624 \\, y\\left(x\\right) + 432}{y\\left(x\\right)^{2} + 2}}}{{\\left(y\\left(x\\right)^{2} + 2\\right)}^{2} y\\left(x\\right)^{2}}\\right)}^{\\frac{1}{3}} y\\left(x\\right)}}}} - \\frac{\\sqrt{3} \\sqrt{\\frac{16 \\, y\\left(x\\right)^{5} + 152 \\, y\\left(x\\right)^{4} + 281 \\, y\\left(x\\right)^{3} - 404 \\, y\\left(x\\right)^{2} + {\\left(y\\left(x\\right)^{5} + 4 \\, y\\left(x\\right)^{3} + 4 \\, y\\left(x\\right)\\right)} {\\left(\\frac{108 \\, {\\left(4 \\, y\\left(x\\right)^{3} + 19 \\, y\\left(x\\right)^{2} - 10 \\, y\\left(x\\right) + 2\\right)}}{y\\left(x\\right)^{6} + 4 \\, y\\left(x\\right)^{4} + 4 \\, y\\left(x\\right)^{2}} + \\frac{{\\left(4 \\, y\\left(x\\right)^{2} + 19 \\, y\\left(x\\right) - 10\\right)}^{3}}{{\\left(y\\left(x\\right)^{2} + 2\\right)}^{3}} - \\frac{36 \\, {\\left(4 \\, y\\left(x\\right)^{2} + 19 \\, y\\left(x\\right) - 10\\right)}}{{\\left(y\\left(x\\right)^{3} + 2 \\, y\\left(x\\right)\\right)} {\\left(y\\left(x\\right)^{2} + 2\\right)}} + \\frac{36 \\, \\sqrt{\\frac{1}{6}} \\sqrt{\\frac{256 \\, y\\left(x\\right)^{11} + 4864 \\, y\\left(x\\right)^{10} + 32096 \\, y\\left(x\\right)^{9} + 73648 \\, y\\left(x\\right)^{8} - 29103 \\, y\\left(x\\right)^{7} - 170448 \\, y\\left(x\\right)^{6} + 204622 \\, y\\left(x\\right)^{5} - 81932 \\, y\\left(x\\right)^{4} + 9208 \\, y\\left(x\\right)^{3} + 6888 \\, y\\left(x\\right)^{2} - 2624 \\, y\\left(x\\right) + 432}{y\\left(x\\right)^{2} + 2}}}{{\\left(y\\left(x\\right)^{2} + 2\\right)}^{2} y\\left(x\\right)^{2}}\\right)}^{\\frac{2}{3}} - 2 \\, {\\left(4 \\, y\\left(x\\right)^{5} + 19 \\, y\\left(x\\right)^{4} - 2 \\, y\\left(x\\right)^{3} + 38 \\, y\\left(x\\right)^{2} - 20 \\, y\\left(x\\right)\\right)} {\\left(\\frac{108 \\, {\\left(4 \\, y\\left(x\\right)^{3} + 19 \\, y\\left(x\\right)^{2} - 10 \\, y\\left(x\\right) + 2\\right)}}{y\\left(x\\right)^{6} + 4 \\, y\\left(x\\right)^{4} + 4 \\, y\\left(x\\right)^{2}} + \\frac{{\\left(4 \\, y\\left(x\\right)^{2} + 19 \\, y\\left(x\\right) - 10\\right)}^{3}}{{\\left(y\\left(x\\right)^{2} + 2\\right)}^{3}} - \\frac{36 \\, {\\left(4 \\, y\\left(x\\right)^{2} + 19 \\, y\\left(x\\right) - 10\\right)}}{{\\left(y\\left(x\\right)^{3} + 2 \\, y\\left(x\\right)\\right)} {\\left(y\\left(x\\right)^{2} + 2\\right)}} + \\frac{36 \\, \\sqrt{\\frac{1}{6}} \\sqrt{\\frac{256 \\, y\\left(x\\right)^{11} + 4864 \\, y\\left(x\\right)^{10} + 32096 \\, y\\left(x\\right)^{9} + 73648 \\, y\\left(x\\right)^{8} - 29103 \\, y\\left(x\\right)^{7} - 170448 \\, y\\left(x\\right)^{6} + 204622 \\, y\\left(x\\right)^{5} - 81932 \\, y\\left(x\\right)^{4} + 9208 \\, y\\left(x\\right)^{3} + 6888 \\, y\\left(x\\right)^{2} - 2624 \\, y\\left(x\\right) + 432}{y\\left(x\\right)^{2} + 2}}}{{\\left(y\\left(x\\right)^{2} + 2\\right)}^{2} y\\left(x\\right)^{2}}\\right)}^{\\frac{1}{3}} + 100 \\, y\\left(x\\right) - 48}{{\\left(\\frac{108 \\, {\\left(4 \\, y\\left(x\\right)^{3} + 19 \\, y\\left(x\\right)^{2} - 10 \\, y\\left(x\\right) + 2\\right)}}{y\\left(x\\right)^{6} + 4 \\, y\\left(x\\right)^{4} + 4 \\, y\\left(x\\right)^{2}} + \\frac{{\\left(4 \\, y\\left(x\\right)^{2} + 19 \\, y\\left(x\\right) - 10\\right)}^{3}}{{\\left(y\\left(x\\right)^{2} + 2\\right)}^{3}} - \\frac{36 \\, {\\left(4 \\, y\\left(x\\right)^{2} + 19 \\, y\\left(x\\right) - 10\\right)}}{{\\left(y\\left(x\\right)^{3} + 2 \\, y\\left(x\\right)\\right)} {\\left(y\\left(x\\right)^{2} + 2\\right)}} + \\frac{36 \\, \\sqrt{\\frac{1}{6}} \\sqrt{\\frac{256 \\, y\\left(x\\right)^{11} + 4864 \\, y\\left(x\\right)^{10} + 32096 \\, y\\left(x\\right)^{9} + 73648 \\, y\\left(x\\right)^{8} - 29103 \\, y\\left(x\\right)^{7} - 170448 \\, y\\left(x\\right)^{6} + 204622 \\, y\\left(x\\right)^{5} - 81932 \\, y\\left(x\\right)^{4} + 9208 \\, y\\left(x\\right)^{3} + 6888 \\, y\\left(x\\right)^{2} - 2624 \\, y\\left(x\\right) + 432}{y\\left(x\\right)^{2} + 2}}}{{\\left(y\\left(x\\right)^{2} + 2\\right)}^{2} y\\left(x\\right)^{2}}\\right)}^{\\frac{1}{3}} y\\left(x\\right)}}}{12 \\, {\\left(y\\left(x\\right)^{2} + 2\\right)}}, \\mathit{dy}_{\\mathit{dx}} = \\frac{1}{2} \\, \\sqrt{-\\frac{\\frac{{\\left(4 \\, y\\left(x\\right)^{2} + 19 \\, y\\left(x\\right) - 10\\right)}^{2}}{{\\left(y\\left(x\\right)^{2} + 2\\right)}^{2}} - \\frac{24}{y\\left(x\\right)^{3} + 2 \\, y\\left(x\\right)}}{12 \\, {\\left(\\frac{108 \\, {\\left(4 \\, y\\left(x\\right)^{3} + 19 \\, y\\left(x\\right)^{2} - 10 \\, y\\left(x\\right) + 2\\right)}}{y\\left(x\\right)^{6} + 4 \\, y\\left(x\\right)^{4} + 4 \\, y\\left(x\\right)^{2}} + \\frac{{\\left(4 \\, y\\left(x\\right)^{2} + 19 \\, y\\left(x\\right) - 10\\right)}^{3}}{{\\left(y\\left(x\\right)^{2} + 2\\right)}^{3}} - \\frac{36 \\, {\\left(4 \\, y\\left(x\\right)^{2} + 19 \\, y\\left(x\\right) - 10\\right)}}{{\\left(y\\left(x\\right)^{3} + 2 \\, y\\left(x\\right)\\right)} {\\left(y\\left(x\\right)^{2} + 2\\right)}} + \\frac{36 \\, \\sqrt{\\frac{1}{6}} \\sqrt{\\frac{256 \\, y\\left(x\\right)^{11} + 4864 \\, y\\left(x\\right)^{10} + 32096 \\, y\\left(x\\right)^{9} + 73648 \\, y\\left(x\\right)^{8} - 29103 \\, y\\left(x\\right)^{7} - 170448 \\, y\\left(x\\right)^{6} + 204622 \\, y\\left(x\\right)^{5} - 81932 \\, y\\left(x\\right)^{4} + 9208 \\, y\\left(x\\right)^{3} + 6888 \\, y\\left(x\\right)^{2} - 2624 \\, y\\left(x\\right) + 432}{y\\left(x\\right)^{2} + 2}}}{{\\left(y\\left(x\\right)^{2} + 2\\right)}^{2} y\\left(x\\right)^{2}}\\right)}^{\\frac{1}{3}}} - \\frac{1}{12} \\, {\\left(\\frac{108 \\, {\\left(4 \\, y\\left(x\\right)^{3} + 19 \\, y\\left(x\\right)^{2} - 10 \\, y\\left(x\\right) + 2\\right)}}{y\\left(x\\right)^{6} + 4 \\, y\\left(x\\right)^{4} + 4 \\, y\\left(x\\right)^{2}} + \\frac{{\\left(4 \\, y\\left(x\\right)^{2} + 19 \\, y\\left(x\\right) - 10\\right)}^{3}}{{\\left(y\\left(x\\right)^{2} + 2\\right)}^{3}} - \\frac{36 \\, {\\left(4 \\, y\\left(x\\right)^{2} + 19 \\, y\\left(x\\right) - 10\\right)}}{{\\left(y\\left(x\\right)^{3} + 2 \\, y\\left(x\\right)\\right)} {\\left(y\\left(x\\right)^{2} + 2\\right)}} + \\frac{36 \\, \\sqrt{\\frac{1}{6}} \\sqrt{\\frac{256 \\, y\\left(x\\right)^{11} + 4864 \\, y\\left(x\\right)^{10} + 32096 \\, y\\left(x\\right)^{9} + 73648 \\, y\\left(x\\right)^{8} - 29103 \\, y\\left(x\\right)^{7} - 170448 \\, y\\left(x\\right)^{6} + 204622 \\, y\\left(x\\right)^{5} - 81932 \\, y\\left(x\\right)^{4} + 9208 \\, y\\left(x\\right)^{3} + 6888 \\, y\\left(x\\right)^{2} - 2624 \\, y\\left(x\\right) + 432}{y\\left(x\\right)^{2} + 2}}}{{\\left(y\\left(x\\right)^{2} + 2\\right)}^{2} y\\left(x\\right)^{2}}\\right)}^{\\frac{1}{3}} - \\frac{4 \\, y\\left(x\\right)^{2} + 19 \\, y\\left(x\\right) - 10}{3 \\, {\\left(y\\left(x\\right)^{2} + 2\\right)}} + \\frac{2 \\, \\sqrt{3} {\\left(y\\left(x\\right)^{2} + 2\\right)}}{{\\left(y\\left(x\\right)^{3} + 2 \\, y\\left(x\\right)\\right)} \\sqrt{\\frac{16 \\, y\\left(x\\right)^{5} + 152 \\, y\\left(x\\right)^{4} + 281 \\, y\\left(x\\right)^{3} - 404 \\, y\\left(x\\right)^{2} + {\\left(y\\left(x\\right)^{5} + 4 \\, y\\left(x\\right)^{3} + 4 \\, y\\left(x\\right)\\right)} {\\left(\\frac{108 \\, {\\left(4 \\, y\\left(x\\right)^{3} + 19 \\, y\\left(x\\right)^{2} - 10 \\, y\\left(x\\right) + 2\\right)}}{y\\left(x\\right)^{6} + 4 \\, y\\left(x\\right)^{4} + 4 \\, y\\left(x\\right)^{2}} + \\frac{{\\left(4 \\, y\\left(x\\right)^{2} + 19 \\, y\\left(x\\right) - 10\\right)}^{3}}{{\\left(y\\left(x\\right)^{2} + 2\\right)}^{3}} - \\frac{36 \\, {\\left(4 \\, y\\left(x\\right)^{2} + 19 \\, y\\left(x\\right) - 10\\right)}}{{\\left(y\\left(x\\right)^{3} + 2 \\, y\\left(x\\right)\\right)} {\\left(y\\left(x\\right)^{2} + 2\\right)}} + \\frac{36 \\, \\sqrt{\\frac{1}{6}} \\sqrt{\\frac{256 \\, y\\left(x\\right)^{11} + 4864 \\, y\\left(x\\right)^{10} + 32096 \\, y\\left(x\\right)^{9} + 73648 \\, y\\left(x\\right)^{8} - 29103 \\, y\\left(x\\right)^{7} - 170448 \\, y\\left(x\\right)^{6} + 204622 \\, y\\left(x\\right)^{5} - 81932 \\, y\\left(x\\right)^{4} + 9208 \\, y\\left(x\\right)^{3} + 6888 \\, y\\left(x\\right)^{2} - 2624 \\, y\\left(x\\right) + 432}{y\\left(x\\right)^{2} + 2}}}{{\\left(y\\left(x\\right)^{2} + 2\\right)}^{2} y\\left(x\\right)^{2}}\\right)}^{\\frac{2}{3}} - 2 \\, {\\left(4 \\, y\\left(x\\right)^{5} + 19 \\, y\\left(x\\right)^{4} - 2 \\, y\\left(x\\right)^{3} + 38 \\, y\\left(x\\right)^{2} - 20 \\, y\\left(x\\right)\\right)} {\\left(\\frac{108 \\, {\\left(4 \\, y\\left(x\\right)^{3} + 19 \\, y\\left(x\\right)^{2} - 10 \\, y\\left(x\\right) + 2\\right)}}{y\\left(x\\right)^{6} + 4 \\, y\\left(x\\right)^{4} + 4 \\, y\\left(x\\right)^{2}} + \\frac{{\\left(4 \\, y\\left(x\\right)^{2} + 19 \\, y\\left(x\\right) - 10\\right)}^{3}}{{\\left(y\\left(x\\right)^{2} + 2\\right)}^{3}} - \\frac{36 \\, {\\left(4 \\, y\\left(x\\right)^{2} + 19 \\, y\\left(x\\right) - 10\\right)}}{{\\left(y\\left(x\\right)^{3} + 2 \\, y\\left(x\\right)\\right)} {\\left(y\\left(x\\right)^{2} + 2\\right)}} + \\frac{36 \\, \\sqrt{\\frac{1}{6}} \\sqrt{\\frac{256 \\, y\\left(x\\right)^{11} + 4864 \\, y\\left(x\\right)^{10} + 32096 \\, y\\left(x\\right)^{9} + 73648 \\, y\\left(x\\right)^{8} - 29103 \\, y\\left(x\\right)^{7} - 170448 \\, y\\left(x\\right)^{6} + 204622 \\, y\\left(x\\right)^{5} - 81932 \\, y\\left(x\\right)^{4} + 9208 \\, y\\left(x\\right)^{3} + 6888 \\, y\\left(x\\right)^{2} - 2624 \\, y\\left(x\\right) + 432}{y\\left(x\\right)^{2} + 2}}}{{\\left(y\\left(x\\right)^{2} + 2\\right)}^{2} y\\left(x\\right)^{2}}\\right)}^{\\frac{1}{3}} + 100 \\, y\\left(x\\right) - 48}{{\\left(\\frac{108 \\, {\\left(4 \\, y\\left(x\\right)^{3} + 19 \\, y\\left(x\\right)^{2} - 10 \\, y\\left(x\\right) + 2\\right)}}{y\\left(x\\right)^{6} + 4 \\, y\\left(x\\right)^{4} + 4 \\, y\\left(x\\right)^{2}} + \\frac{{\\left(4 \\, y\\left(x\\right)^{2} + 19 \\, y\\left(x\\right) - 10\\right)}^{3}}{{\\left(y\\left(x\\right)^{2} + 2\\right)}^{3}} - \\frac{36 \\, {\\left(4 \\, y\\left(x\\right)^{2} + 19 \\, y\\left(x\\right) - 10\\right)}}{{\\left(y\\left(x\\right)^{3} + 2 \\, y\\left(x\\right)\\right)} {\\left(y\\left(x\\right)^{2} + 2\\right)}} + \\frac{36 \\, \\sqrt{\\frac{1}{6}} \\sqrt{\\frac{256 \\, y\\left(x\\right)^{11} + 4864 \\, y\\left(x\\right)^{10} + 32096 \\, y\\left(x\\right)^{9} + 73648 \\, y\\left(x\\right)^{8} - 29103 \\, y\\left(x\\right)^{7} - 170448 \\, y\\left(x\\right)^{6} + 204622 \\, y\\left(x\\right)^{5} - 81932 \\, y\\left(x\\right)^{4} + 9208 \\, y\\left(x\\right)^{3} + 6888 \\, y\\left(x\\right)^{2} - 2624 \\, y\\left(x\\right) + 432}{y\\left(x\\right)^{2} + 2}}}{{\\left(y\\left(x\\right)^{2} + 2\\right)}^{2} y\\left(x\\right)^{2}}\\right)}^{\\frac{1}{3}} y\\left(x\\right)}}}} - \\frac{\\sqrt{3} \\sqrt{\\frac{16 \\, y\\left(x\\right)^{5} + 152 \\, y\\left(x\\right)^{4} + 281 \\, y\\left(x\\right)^{3} - 404 \\, y\\left(x\\right)^{2} + {\\left(y\\left(x\\right)^{5} + 4 \\, y\\left(x\\right)^{3} + 4 \\, y\\left(x\\right)\\right)} {\\left(\\frac{108 \\, {\\left(4 \\, y\\left(x\\right)^{3} + 19 \\, y\\left(x\\right)^{2} - 10 \\, y\\left(x\\right) + 2\\right)}}{y\\left(x\\right)^{6} + 4 \\, y\\left(x\\right)^{4} + 4 \\, y\\left(x\\right)^{2}} + \\frac{{\\left(4 \\, y\\left(x\\right)^{2} + 19 \\, y\\left(x\\right) - 10\\right)}^{3}}{{\\left(y\\left(x\\right)^{2} + 2\\right)}^{3}} - \\frac{36 \\, {\\left(4 \\, y\\left(x\\right)^{2} + 19 \\, y\\left(x\\right) - 10\\right)}}{{\\left(y\\left(x\\right)^{3} + 2 \\, y\\left(x\\right)\\right)} {\\left(y\\left(x\\right)^{2} + 2\\right)}} + \\frac{36 \\, \\sqrt{\\frac{1}{6}} \\sqrt{\\frac{256 \\, y\\left(x\\right)^{11} + 4864 \\, y\\left(x\\right)^{10} + 32096 \\, y\\left(x\\right)^{9} + 73648 \\, y\\left(x\\right)^{8} - 29103 \\, y\\left(x\\right)^{7} - 170448 \\, y\\left(x\\right)^{6} + 204622 \\, y\\left(x\\right)^{5} - 81932 \\, y\\left(x\\right)^{4} + 9208 \\, y\\left(x\\right)^{3} + 6888 \\, y\\left(x\\right)^{2} - 2624 \\, y\\left(x\\right) + 432}{y\\left(x\\right)^{2} + 2}}}{{\\left(y\\left(x\\right)^{2} + 2\\right)}^{2} y\\left(x\\right)^{2}}\\right)}^{\\frac{2}{3}} - 2 \\, {\\left(4 \\, y\\left(x\\right)^{5} + 19 \\, y\\left(x\\right)^{4} - 2 \\, y\\left(x\\right)^{3} + 38 \\, y\\left(x\\right)^{2} - 20 \\, y\\left(x\\right)\\right)} {\\left(\\frac{108 \\, {\\left(4 \\, y\\left(x\\right)^{3} + 19 \\, y\\left(x\\right)^{2} - 10 \\, y\\left(x\\right) + 2\\right)}}{y\\left(x\\right)^{6} + 4 \\, y\\left(x\\right)^{4} + 4 \\, y\\left(x\\right)^{2}} + \\frac{{\\left(4 \\, y\\left(x\\right)^{2} + 19 \\, y\\left(x\\right) - 10\\right)}^{3}}{{\\left(y\\left(x\\right)^{2} + 2\\right)}^{3}} - \\frac{36 \\, {\\left(4 \\, y\\left(x\\right)^{2} + 19 \\, y\\left(x\\right) - 10\\right)}}{{\\left(y\\left(x\\right)^{3} + 2 \\, y\\left(x\\right)\\right)} {\\left(y\\left(x\\right)^{2} + 2\\right)}} + \\frac{36 \\, \\sqrt{\\frac{1}{6}} \\sqrt{\\frac{256 \\, y\\left(x\\right)^{11} + 4864 \\, y\\left(x\\right)^{10} + 32096 \\, y\\left(x\\right)^{9} + 73648 \\, y\\left(x\\right)^{8} - 29103 \\, y\\left(x\\right)^{7} - 170448 \\, y\\left(x\\right)^{6} + 204622 \\, y\\left(x\\right)^{5} - 81932 \\, y\\left(x\\right)^{4} + 9208 \\, y\\left(x\\right)^{3} + 6888 \\, y\\left(x\\right)^{2} - 2624 \\, y\\left(x\\right) + 432}{y\\left(x\\right)^{2} + 2}}}{{\\left(y\\left(x\\right)^{2} + 2\\right)}^{2} y\\left(x\\right)^{2}}\\right)}^{\\frac{1}{3}} + 100 \\, y\\left(x\\right) - 48}{{\\left(\\frac{108 \\, {\\left(4 \\, y\\left(x\\right)^{3} + 19 \\, y\\left(x\\right)^{2} - 10 \\, y\\left(x\\right) + 2\\right)}}{y\\left(x\\right)^{6} + 4 \\, y\\left(x\\right)^{4} + 4 \\, y\\left(x\\right)^{2}} + \\frac{{\\left(4 \\, y\\left(x\\right)^{2} + 19 \\, y\\left(x\\right) - 10\\right)}^{3}}{{\\left(y\\left(x\\right)^{2} + 2\\right)}^{3}} - \\frac{36 \\, {\\left(4 \\, y\\left(x\\right)^{2} + 19 \\, y\\left(x\\right) - 10\\right)}}{{\\left(y\\left(x\\right)^{3} + 2 \\, y\\left(x\\right)\\right)} {\\left(y\\left(x\\right)^{2} + 2\\right)}} + \\frac{36 \\, \\sqrt{\\frac{1}{6}} \\sqrt{\\frac{256 \\, y\\left(x\\right)^{11} + 4864 \\, y\\left(x\\right)^{10} + 32096 \\, y\\left(x\\right)^{9} + 73648 \\, y\\left(x\\right)^{8} - 29103 \\, y\\left(x\\right)^{7} - 170448 \\, y\\left(x\\right)^{6} + 204622 \\, y\\left(x\\right)^{5} - 81932 \\, y\\left(x\\right)^{4} + 9208 \\, y\\left(x\\right)^{3} + 6888 \\, y\\left(x\\right)^{2} - 2624 \\, y\\left(x\\right) + 432}{y\\left(x\\right)^{2} + 2}}}{{\\left(y\\left(x\\right)^{2} + 2\\right)}^{2} y\\left(x\\right)^{2}}\\right)}^{\\frac{1}{3}} y\\left(x\\right)}}}{12 \\, {\\left(y\\left(x\\right)^{2} + 2\\right)}}, \\mathit{dy}_{\\mathit{dx}} = -\\frac{1}{2} \\, \\sqrt{-\\frac{\\frac{{\\left(4 \\, y\\left(x\\right)^{2} + 19 \\, y\\left(x\\right) - 10\\right)}^{2}}{{\\left(y\\left(x\\right)^{2} + 2\\right)}^{2}} - \\frac{24}{y\\left(x\\right)^{3} + 2 \\, y\\left(x\\right)}}{12 \\, {\\left(\\frac{108 \\, {\\left(4 \\, y\\left(x\\right)^{3} + 19 \\, y\\left(x\\right)^{2} - 10 \\, y\\left(x\\right) + 2\\right)}}{y\\left(x\\right)^{6} + 4 \\, y\\left(x\\right)^{4} + 4 \\, y\\left(x\\right)^{2}} + \\frac{{\\left(4 \\, y\\left(x\\right)^{2} + 19 \\, y\\left(x\\right) - 10\\right)}^{3}}{{\\left(y\\left(x\\right)^{2} + 2\\right)}^{3}} - \\frac{36 \\, {\\left(4 \\, y\\left(x\\right)^{2} + 19 \\, y\\left(x\\right) - 10\\right)}}{{\\left(y\\left(x\\right)^{3} + 2 \\, y\\left(x\\right)\\right)} {\\left(y\\left(x\\right)^{2} + 2\\right)}} + \\frac{36 \\, \\sqrt{\\frac{1}{6}} \\sqrt{\\frac{256 \\, y\\left(x\\right)^{11} + 4864 \\, y\\left(x\\right)^{10} + 32096 \\, y\\left(x\\right)^{9} + 73648 \\, y\\left(x\\right)^{8} - 29103 \\, y\\left(x\\right)^{7} - 170448 \\, y\\left(x\\right)^{6} + 204622 \\, y\\left(x\\right)^{5} - 81932 \\, y\\left(x\\right)^{4} + 9208 \\, y\\left(x\\right)^{3} + 6888 \\, y\\left(x\\right)^{2} - 2624 \\, y\\left(x\\right) + 432}{y\\left(x\\right)^{2} + 2}}}{{\\left(y\\left(x\\right)^{2} + 2\\right)}^{2} y\\left(x\\right)^{2}}\\right)}^{\\frac{1}{3}}} - \\frac{1}{12} \\, {\\left(\\frac{108 \\, {\\left(4 \\, y\\left(x\\right)^{3} + 19 \\, y\\left(x\\right)^{2} - 10 \\, y\\left(x\\right) + 2\\right)}}{y\\left(x\\right)^{6} + 4 \\, y\\left(x\\right)^{4} + 4 \\, y\\left(x\\right)^{2}} + \\frac{{\\left(4 \\, y\\left(x\\right)^{2} + 19 \\, y\\left(x\\right) - 10\\right)}^{3}}{{\\left(y\\left(x\\right)^{2} + 2\\right)}^{3}} - \\frac{36 \\, {\\left(4 \\, y\\left(x\\right)^{2} + 19 \\, y\\left(x\\right) - 10\\right)}}{{\\left(y\\left(x\\right)^{3} + 2 \\, y\\left(x\\right)\\right)} {\\left(y\\left(x\\right)^{2} + 2\\right)}} + \\frac{36 \\, \\sqrt{\\frac{1}{6}} \\sqrt{\\frac{256 \\, y\\left(x\\right)^{11} + 4864 \\, y\\left(x\\right)^{10} + 32096 \\, y\\left(x\\right)^{9} + 73648 \\, y\\left(x\\right)^{8} - 29103 \\, y\\left(x\\right)^{7} - 170448 \\, y\\left(x\\right)^{6} + 204622 \\, y\\left(x\\right)^{5} - 81932 \\, y\\left(x\\right)^{4} + 9208 \\, y\\left(x\\right)^{3} + 6888 \\, y\\left(x\\right)^{2} - 2624 \\, y\\left(x\\right) + 432}{y\\left(x\\right)^{2} + 2}}}{{\\left(y\\left(x\\right)^{2} + 2\\right)}^{2} y\\left(x\\right)^{2}}\\right)}^{\\frac{1}{3}} - \\frac{4 \\, y\\left(x\\right)^{2} + 19 \\, y\\left(x\\right) - 10}{3 \\, {\\left(y\\left(x\\right)^{2} + 2\\right)}} - \\frac{2 \\, \\sqrt{3} {\\left(y\\left(x\\right)^{2} + 2\\right)}}{{\\left(y\\left(x\\right)^{3} + 2 \\, y\\left(x\\right)\\right)} \\sqrt{\\frac{16 \\, y\\left(x\\right)^{5} + 152 \\, y\\left(x\\right)^{4} + 281 \\, y\\left(x\\right)^{3} - 404 \\, y\\left(x\\right)^{2} + {\\left(y\\left(x\\right)^{5} + 4 \\, y\\left(x\\right)^{3} + 4 \\, y\\left(x\\right)\\right)} {\\left(\\frac{108 \\, {\\left(4 \\, y\\left(x\\right)^{3} + 19 \\, y\\left(x\\right)^{2} - 10 \\, y\\left(x\\right) + 2\\right)}}{y\\left(x\\right)^{6} + 4 \\, y\\left(x\\right)^{4} + 4 \\, y\\left(x\\right)^{2}} + \\frac{{\\left(4 \\, y\\left(x\\right)^{2} + 19 \\, y\\left(x\\right) - 10\\right)}^{3}}{{\\left(y\\left(x\\right)^{2} + 2\\right)}^{3}} - \\frac{36 \\, {\\left(4 \\, y\\left(x\\right)^{2} + 19 \\, y\\left(x\\right) - 10\\right)}}{{\\left(y\\left(x\\right)^{3} + 2 \\, y\\left(x\\right)\\right)} {\\left(y\\left(x\\right)^{2} + 2\\right)}} + \\frac{36 \\, \\sqrt{\\frac{1}{6}} \\sqrt{\\frac{256 \\, y\\left(x\\right)^{11} + 4864 \\, y\\left(x\\right)^{10} + 32096 \\, y\\left(x\\right)^{9} + 73648 \\, y\\left(x\\right)^{8} - 29103 \\, y\\left(x\\right)^{7} - 170448 \\, y\\left(x\\right)^{6} + 204622 \\, y\\left(x\\right)^{5} - 81932 \\, y\\left(x\\right)^{4} + 9208 \\, y\\left(x\\right)^{3} + 6888 \\, y\\left(x\\right)^{2} - 2624 \\, y\\left(x\\right) + 432}{y\\left(x\\right)^{2} + 2}}}{{\\left(y\\left(x\\right)^{2} + 2\\right)}^{2} y\\left(x\\right)^{2}}\\right)}^{\\frac{2}{3}} - 2 \\, {\\left(4 \\, y\\left(x\\right)^{5} + 19 \\, y\\left(x\\right)^{4} - 2 \\, y\\left(x\\right)^{3} + 38 \\, y\\left(x\\right)^{2} - 20 \\, y\\left(x\\right)\\right)} {\\left(\\frac{108 \\, {\\left(4 \\, y\\left(x\\right)^{3} + 19 \\, y\\left(x\\right)^{2} - 10 \\, y\\left(x\\right) + 2\\right)}}{y\\left(x\\right)^{6} + 4 \\, y\\left(x\\right)^{4} + 4 \\, y\\left(x\\right)^{2}} + \\frac{{\\left(4 \\, y\\left(x\\right)^{2} + 19 \\, y\\left(x\\right) - 10\\right)}^{3}}{{\\left(y\\left(x\\right)^{2} + 2\\right)}^{3}} - \\frac{36 \\, {\\left(4 \\, y\\left(x\\right)^{2} + 19 \\, y\\left(x\\right) - 10\\right)}}{{\\left(y\\left(x\\right)^{3} + 2 \\, y\\left(x\\right)\\right)} {\\left(y\\left(x\\right)^{2} + 2\\right)}} + \\frac{36 \\, \\sqrt{\\frac{1}{6}} \\sqrt{\\frac{256 \\, y\\left(x\\right)^{11} + 4864 \\, y\\left(x\\right)^{10} + 32096 \\, y\\left(x\\right)^{9} + 73648 \\, y\\left(x\\right)^{8} - 29103 \\, y\\left(x\\right)^{7} - 170448 \\, y\\left(x\\right)^{6} + 204622 \\, y\\left(x\\right)^{5} - 81932 \\, y\\left(x\\right)^{4} + 9208 \\, y\\left(x\\right)^{3} + 6888 \\, y\\left(x\\right)^{2} - 2624 \\, y\\left(x\\right) + 432}{y\\left(x\\right)^{2} + 2}}}{{\\left(y\\left(x\\right)^{2} + 2\\right)}^{2} y\\left(x\\right)^{2}}\\right)}^{\\frac{1}{3}} + 100 \\, y\\left(x\\right) - 48}{{\\left(\\frac{108 \\, {\\left(4 \\, y\\left(x\\right)^{3} + 19 \\, y\\left(x\\right)^{2} - 10 \\, y\\left(x\\right) + 2\\right)}}{y\\left(x\\right)^{6} + 4 \\, y\\left(x\\right)^{4} + 4 \\, y\\left(x\\right)^{2}} + \\frac{{\\left(4 \\, y\\left(x\\right)^{2} + 19 \\, y\\left(x\\right) - 10\\right)}^{3}}{{\\left(y\\left(x\\right)^{2} + 2\\right)}^{3}} - \\frac{36 \\, {\\left(4 \\, y\\left(x\\right)^{2} + 19 \\, y\\left(x\\right) - 10\\right)}}{{\\left(y\\left(x\\right)^{3} + 2 \\, y\\left(x\\right)\\right)} {\\left(y\\left(x\\right)^{2} + 2\\right)}} + \\frac{36 \\, \\sqrt{\\frac{1}{6}} \\sqrt{\\frac{256 \\, y\\left(x\\right)^{11} + 4864 \\, y\\left(x\\right)^{10} + 32096 \\, y\\left(x\\right)^{9} + 73648 \\, y\\left(x\\right)^{8} - 29103 \\, y\\left(x\\right)^{7} - 170448 \\, y\\left(x\\right)^{6} + 204622 \\, y\\left(x\\right)^{5} - 81932 \\, y\\left(x\\right)^{4} + 9208 \\, y\\left(x\\right)^{3} + 6888 \\, y\\left(x\\right)^{2} - 2624 \\, y\\left(x\\right) + 432}{y\\left(x\\right)^{2} + 2}}}{{\\left(y\\left(x\\right)^{2} + 2\\right)}^{2} y\\left(x\\right)^{2}}\\right)}^{\\frac{1}{3}} y\\left(x\\right)}}}} + \\frac{\\sqrt{3} \\sqrt{\\frac{16 \\, y\\left(x\\right)^{5} + 152 \\, y\\left(x\\right)^{4} + 281 \\, y\\left(x\\right)^{3} - 404 \\, y\\left(x\\right)^{2} + {\\left(y\\left(x\\right)^{5} + 4 \\, y\\left(x\\right)^{3} + 4 \\, y\\left(x\\right)\\right)} {\\left(\\frac{108 \\, {\\left(4 \\, y\\left(x\\right)^{3} + 19 \\, y\\left(x\\right)^{2} - 10 \\, y\\left(x\\right) + 2\\right)}}{y\\left(x\\right)^{6} + 4 \\, y\\left(x\\right)^{4} + 4 \\, y\\left(x\\right)^{2}} + \\frac{{\\left(4 \\, y\\left(x\\right)^{2} + 19 \\, y\\left(x\\right) - 10\\right)}^{3}}{{\\left(y\\left(x\\right)^{2} + 2\\right)}^{3}} - \\frac{36 \\, {\\left(4 \\, y\\left(x\\right)^{2} + 19 \\, y\\left(x\\right) - 10\\right)}}{{\\left(y\\left(x\\right)^{3} + 2 \\, y\\left(x\\right)\\right)} {\\left(y\\left(x\\right)^{2} + 2\\right)}} + \\frac{36 \\, \\sqrt{\\frac{1}{6}} \\sqrt{\\frac{256 \\, y\\left(x\\right)^{11} + 4864 \\, y\\left(x\\right)^{10} + 32096 \\, y\\left(x\\right)^{9} + 73648 \\, y\\left(x\\right)^{8} - 29103 \\, y\\left(x\\right)^{7} - 170448 \\, y\\left(x\\right)^{6} + 204622 \\, y\\left(x\\right)^{5} - 81932 \\, y\\left(x\\right)^{4} + 9208 \\, y\\left(x\\right)^{3} + 6888 \\, y\\left(x\\right)^{2} - 2624 \\, y\\left(x\\right) + 432}{y\\left(x\\right)^{2} + 2}}}{{\\left(y\\left(x\\right)^{2} + 2\\right)}^{2} y\\left(x\\right)^{2}}\\right)}^{\\frac{2}{3}} - 2 \\, {\\left(4 \\, y\\left(x\\right)^{5} + 19 \\, y\\left(x\\right)^{4} - 2 \\, y\\left(x\\right)^{3} + 38 \\, y\\left(x\\right)^{2} - 20 \\, y\\left(x\\right)\\right)} {\\left(\\frac{108 \\, {\\left(4 \\, y\\left(x\\right)^{3} + 19 \\, y\\left(x\\right)^{2} - 10 \\, y\\left(x\\right) + 2\\right)}}{y\\left(x\\right)^{6} + 4 \\, y\\left(x\\right)^{4} + 4 \\, y\\left(x\\right)^{2}} + \\frac{{\\left(4 \\, y\\left(x\\right)^{2} + 19 \\, y\\left(x\\right) - 10\\right)}^{3}}{{\\left(y\\left(x\\right)^{2} + 2\\right)}^{3}} - \\frac{36 \\, {\\left(4 \\, y\\left(x\\right)^{2} + 19 \\, y\\left(x\\right) - 10\\right)}}{{\\left(y\\left(x\\right)^{3} + 2 \\, y\\left(x\\right)\\right)} {\\left(y\\left(x\\right)^{2} + 2\\right)}} + \\frac{36 \\, \\sqrt{\\frac{1}{6}} \\sqrt{\\frac{256 \\, y\\left(x\\right)^{11} + 4864 \\, y\\left(x\\right)^{10} + 32096 \\, y\\left(x\\right)^{9} + 73648 \\, y\\left(x\\right)^{8} - 29103 \\, y\\left(x\\right)^{7} - 170448 \\, y\\left(x\\right)^{6} + 204622 \\, y\\left(x\\right)^{5} - 81932 \\, y\\left(x\\right)^{4} + 9208 \\, y\\left(x\\right)^{3} + 6888 \\, y\\left(x\\right)^{2} - 2624 \\, y\\left(x\\right) + 432}{y\\left(x\\right)^{2} + 2}}}{{\\left(y\\left(x\\right)^{2} + 2\\right)}^{2} y\\left(x\\right)^{2}}\\right)}^{\\frac{1}{3}} + 100 \\, y\\left(x\\right) - 48}{{\\left(\\frac{108 \\, {\\left(4 \\, y\\left(x\\right)^{3} + 19 \\, y\\left(x\\right)^{2} - 10 \\, y\\left(x\\right) + 2\\right)}}{y\\left(x\\right)^{6} + 4 \\, y\\left(x\\right)^{4} + 4 \\, y\\left(x\\right)^{2}} + \\frac{{\\left(4 \\, y\\left(x\\right)^{2} + 19 \\, y\\left(x\\right) - 10\\right)}^{3}}{{\\left(y\\left(x\\right)^{2} + 2\\right)}^{3}} - \\frac{36 \\, {\\left(4 \\, y\\left(x\\right)^{2} + 19 \\, y\\left(x\\right) - 10\\right)}}{{\\left(y\\left(x\\right)^{3} + 2 \\, y\\left(x\\right)\\right)} {\\left(y\\left(x\\right)^{2} + 2\\right)}} + \\frac{36 \\, \\sqrt{\\frac{1}{6}} \\sqrt{\\frac{256 \\, y\\left(x\\right)^{11} + 4864 \\, y\\left(x\\right)^{10} + 32096 \\, y\\left(x\\right)^{9} + 73648 \\, y\\left(x\\right)^{8} - 29103 \\, y\\left(x\\right)^{7} - 170448 \\, y\\left(x\\right)^{6} + 204622 \\, y\\left(x\\right)^{5} - 81932 \\, y\\left(x\\right)^{4} + 9208 \\, y\\left(x\\right)^{3} + 6888 \\, y\\left(x\\right)^{2} - 2624 \\, y\\left(x\\right) + 432}{y\\left(x\\right)^{2} + 2}}}{{\\left(y\\left(x\\right)^{2} + 2\\right)}^{2} y\\left(x\\right)^{2}}\\right)}^{\\frac{1}{3}} y\\left(x\\right)}}}{12 \\, {\\left(y\\left(x\\right)^{2} + 2\\right)}}, \\mathit{dy}_{\\mathit{dx}} = \\frac{1}{2} \\, \\sqrt{-\\frac{\\frac{{\\left(4 \\, y\\left(x\\right)^{2} + 19 \\, y\\left(x\\right) - 10\\right)}^{2}}{{\\left(y\\left(x\\right)^{2} + 2\\right)}^{2}} - \\frac{24}{y\\left(x\\right)^{3} + 2 \\, y\\left(x\\right)}}{12 \\, {\\left(\\frac{108 \\, {\\left(4 \\, y\\left(x\\right)^{3} + 19 \\, y\\left(x\\right)^{2} - 10 \\, y\\left(x\\right) + 2\\right)}}{y\\left(x\\right)^{6} + 4 \\, y\\left(x\\right)^{4} + 4 \\, y\\left(x\\right)^{2}} + \\frac{{\\left(4 \\, y\\left(x\\right)^{2} + 19 \\, y\\left(x\\right) - 10\\right)}^{3}}{{\\left(y\\left(x\\right)^{2} + 2\\right)}^{3}} - \\frac{36 \\, {\\left(4 \\, y\\left(x\\right)^{2} + 19 \\, y\\left(x\\right) - 10\\right)}}{{\\left(y\\left(x\\right)^{3} + 2 \\, y\\left(x\\right)\\right)} {\\left(y\\left(x\\right)^{2} + 2\\right)}} + \\frac{36 \\, \\sqrt{\\frac{1}{6}} \\sqrt{\\frac{256 \\, y\\left(x\\right)^{11} + 4864 \\, y\\left(x\\right)^{10} + 32096 \\, y\\left(x\\right)^{9} + 73648 \\, y\\left(x\\right)^{8} - 29103 \\, y\\left(x\\right)^{7} - 170448 \\, y\\left(x\\right)^{6} + 204622 \\, y\\left(x\\right)^{5} - 81932 \\, y\\left(x\\right)^{4} + 9208 \\, y\\left(x\\right)^{3} + 6888 \\, y\\left(x\\right)^{2} - 2624 \\, y\\left(x\\right) + 432}{y\\left(x\\right)^{2} + 2}}}{{\\left(y\\left(x\\right)^{2} + 2\\right)}^{2} y\\left(x\\right)^{2}}\\right)}^{\\frac{1}{3}}} - \\frac{1}{12} \\, {\\left(\\frac{108 \\, {\\left(4 \\, y\\left(x\\right)^{3} + 19 \\, y\\left(x\\right)^{2} - 10 \\, y\\left(x\\right) + 2\\right)}}{y\\left(x\\right)^{6} + 4 \\, y\\left(x\\right)^{4} + 4 \\, y\\left(x\\right)^{2}} + \\frac{{\\left(4 \\, y\\left(x\\right)^{2} + 19 \\, y\\left(x\\right) - 10\\right)}^{3}}{{\\left(y\\left(x\\right)^{2} + 2\\right)}^{3}} - \\frac{36 \\, {\\left(4 \\, y\\left(x\\right)^{2} + 19 \\, y\\left(x\\right) - 10\\right)}}{{\\left(y\\left(x\\right)^{3} + 2 \\, y\\left(x\\right)\\right)} {\\left(y\\left(x\\right)^{2} + 2\\right)}} + \\frac{36 \\, \\sqrt{\\frac{1}{6}} \\sqrt{\\frac{256 \\, y\\left(x\\right)^{11} + 4864 \\, y\\left(x\\right)^{10} + 32096 \\, y\\left(x\\right)^{9} + 73648 \\, y\\left(x\\right)^{8} - 29103 \\, y\\left(x\\right)^{7} - 170448 \\, y\\left(x\\right)^{6} + 204622 \\, y\\left(x\\right)^{5} - 81932 \\, y\\left(x\\right)^{4} + 9208 \\, y\\left(x\\right)^{3} + 6888 \\, y\\left(x\\right)^{2} - 2624 \\, y\\left(x\\right) + 432}{y\\left(x\\right)^{2} + 2}}}{{\\left(y\\left(x\\right)^{2} + 2\\right)}^{2} y\\left(x\\right)^{2}}\\right)}^{\\frac{1}{3}} - \\frac{4 \\, y\\left(x\\right)^{2} + 19 \\, y\\left(x\\right) - 10}{3 \\, {\\left(y\\left(x\\right)^{2} + 2\\right)}} - \\frac{2 \\, \\sqrt{3} {\\left(y\\left(x\\right)^{2} + 2\\right)}}{{\\left(y\\left(x\\right)^{3} + 2 \\, y\\left(x\\right)\\right)} \\sqrt{\\frac{16 \\, y\\left(x\\right)^{5} + 152 \\, y\\left(x\\right)^{4} + 281 \\, y\\left(x\\right)^{3} - 404 \\, y\\left(x\\right)^{2} + {\\left(y\\left(x\\right)^{5} + 4 \\, y\\left(x\\right)^{3} + 4 \\, y\\left(x\\right)\\right)} {\\left(\\frac{108 \\, {\\left(4 \\, y\\left(x\\right)^{3} + 19 \\, y\\left(x\\right)^{2} - 10 \\, y\\left(x\\right) + 2\\right)}}{y\\left(x\\right)^{6} + 4 \\, y\\left(x\\right)^{4} + 4 \\, y\\left(x\\right)^{2}} + \\frac{{\\left(4 \\, y\\left(x\\right)^{2} + 19 \\, y\\left(x\\right) - 10\\right)}^{3}}{{\\left(y\\left(x\\right)^{2} + 2\\right)}^{3}} - \\frac{36 \\, {\\left(4 \\, y\\left(x\\right)^{2} + 19 \\, y\\left(x\\right) - 10\\right)}}{{\\left(y\\left(x\\right)^{3} + 2 \\, y\\left(x\\right)\\right)} {\\left(y\\left(x\\right)^{2} + 2\\right)}} + \\frac{36 \\, \\sqrt{\\frac{1}{6}} \\sqrt{\\frac{256 \\, y\\left(x\\right)^{11} + 4864 \\, y\\left(x\\right)^{10} + 32096 \\, y\\left(x\\right)^{9} + 73648 \\, y\\left(x\\right)^{8} - 29103 \\, y\\left(x\\right)^{7} - 170448 \\, y\\left(x\\right)^{6} + 204622 \\, y\\left(x\\right)^{5} - 81932 \\, y\\left(x\\right)^{4} + 9208 \\, y\\left(x\\right)^{3} + 6888 \\, y\\left(x\\right)^{2} - 2624 \\, y\\left(x\\right) + 432}{y\\left(x\\right)^{2} + 2}}}{{\\left(y\\left(x\\right)^{2} + 2\\right)}^{2} y\\left(x\\right)^{2}}\\right)}^{\\frac{2}{3}} - 2 \\, {\\left(4 \\, y\\left(x\\right)^{5} + 19 \\, y\\left(x\\right)^{4} - 2 \\, y\\left(x\\right)^{3} + 38 \\, y\\left(x\\right)^{2} - 20 \\, y\\left(x\\right)\\right)} {\\left(\\frac{108 \\, {\\left(4 \\, y\\left(x\\right)^{3} + 19 \\, y\\left(x\\right)^{2} - 10 \\, y\\left(x\\right) + 2\\right)}}{y\\left(x\\right)^{6} + 4 \\, y\\left(x\\right)^{4} + 4 \\, y\\left(x\\right)^{2}} + \\frac{{\\left(4 \\, y\\left(x\\right)^{2} + 19 \\, y\\left(x\\right) - 10\\right)}^{3}}{{\\left(y\\left(x\\right)^{2} + 2\\right)}^{3}} - \\frac{36 \\, {\\left(4 \\, y\\left(x\\right)^{2} + 19 \\, y\\left(x\\right) - 10\\right)}}{{\\left(y\\left(x\\right)^{3} + 2 \\, y\\left(x\\right)\\right)} {\\left(y\\left(x\\right)^{2} + 2\\right)}} + \\frac{36 \\, \\sqrt{\\frac{1}{6}} \\sqrt{\\frac{256 \\, y\\left(x\\right)^{11} + 4864 \\, y\\left(x\\right)^{10} + 32096 \\, y\\left(x\\right)^{9} + 73648 \\, y\\left(x\\right)^{8} - 29103 \\, y\\left(x\\right)^{7} - 170448 \\, y\\left(x\\right)^{6} + 204622 \\, y\\left(x\\right)^{5} - 81932 \\, y\\left(x\\right)^{4} + 9208 \\, y\\left(x\\right)^{3} + 6888 \\, y\\left(x\\right)^{2} - 2624 \\, y\\left(x\\right) + 432}{y\\left(x\\right)^{2} + 2}}}{{\\left(y\\left(x\\right)^{2} + 2\\right)}^{2} y\\left(x\\right)^{2}}\\right)}^{\\frac{1}{3}} + 100 \\, y\\left(x\\right) - 48}{{\\left(\\frac{108 \\, {\\left(4 \\, y\\left(x\\right)^{3} + 19 \\, y\\left(x\\right)^{2} - 10 \\, y\\left(x\\right) + 2\\right)}}{y\\left(x\\right)^{6} + 4 \\, y\\left(x\\right)^{4} + 4 \\, y\\left(x\\right)^{2}} + \\frac{{\\left(4 \\, y\\left(x\\right)^{2} + 19 \\, y\\left(x\\right) - 10\\right)}^{3}}{{\\left(y\\left(x\\right)^{2} + 2\\right)}^{3}} - \\frac{36 \\, {\\left(4 \\, y\\left(x\\right)^{2} + 19 \\, y\\left(x\\right) - 10\\right)}}{{\\left(y\\left(x\\right)^{3} + 2 \\, y\\left(x\\right)\\right)} {\\left(y\\left(x\\right)^{2} + 2\\right)}} + \\frac{36 \\, \\sqrt{\\frac{1}{6}} \\sqrt{\\frac{256 \\, y\\left(x\\right)^{11} + 4864 \\, y\\left(x\\right)^{10} + 32096 \\, y\\left(x\\right)^{9} + 73648 \\, y\\left(x\\right)^{8} - 29103 \\, y\\left(x\\right)^{7} - 170448 \\, y\\left(x\\right)^{6} + 204622 \\, y\\left(x\\right)^{5} - 81932 \\, y\\left(x\\right)^{4} + 9208 \\, y\\left(x\\right)^{3} + 6888 \\, y\\left(x\\right)^{2} - 2624 \\, y\\left(x\\right) + 432}{y\\left(x\\right)^{2} + 2}}}{{\\left(y\\left(x\\right)^{2} + 2\\right)}^{2} y\\left(x\\right)^{2}}\\right)}^{\\frac{1}{3}} y\\left(x\\right)}}}} + \\frac{\\sqrt{3} \\sqrt{\\frac{16 \\, y\\left(x\\right)^{5} + 152 \\, y\\left(x\\right)^{4} + 281 \\, y\\left(x\\right)^{3} - 404 \\, y\\left(x\\right)^{2} + {\\left(y\\left(x\\right)^{5} + 4 \\, y\\left(x\\right)^{3} + 4 \\, y\\left(x\\right)\\right)} {\\left(\\frac{108 \\, {\\left(4 \\, y\\left(x\\right)^{3} + 19 \\, y\\left(x\\right)^{2} - 10 \\, y\\left(x\\right) + 2\\right)}}{y\\left(x\\right)^{6} + 4 \\, y\\left(x\\right)^{4} + 4 \\, y\\left(x\\right)^{2}} + \\frac{{\\left(4 \\, y\\left(x\\right)^{2} + 19 \\, y\\left(x\\right) - 10\\right)}^{3}}{{\\left(y\\left(x\\right)^{2} + 2\\right)}^{3}} - \\frac{36 \\, {\\left(4 \\, y\\left(x\\right)^{2} + 19 \\, y\\left(x\\right) - 10\\right)}}{{\\left(y\\left(x\\right)^{3} + 2 \\, y\\left(x\\right)\\right)} {\\left(y\\left(x\\right)^{2} + 2\\right)}} + \\frac{36 \\, \\sqrt{\\frac{1}{6}} \\sqrt{\\frac{256 \\, y\\left(x\\right)^{11} + 4864 \\, y\\left(x\\right)^{10} + 32096 \\, y\\left(x\\right)^{9} + 73648 \\, y\\left(x\\right)^{8} - 29103 \\, y\\left(x\\right)^{7} - 170448 \\, y\\left(x\\right)^{6} + 204622 \\, y\\left(x\\right)^{5} - 81932 \\, y\\left(x\\right)^{4} + 9208 \\, y\\left(x\\right)^{3} + 6888 \\, y\\left(x\\right)^{2} - 2624 \\, y\\left(x\\right) + 432}{y\\left(x\\right)^{2} + 2}}}{{\\left(y\\left(x\\right)^{2} + 2\\right)}^{2} y\\left(x\\right)^{2}}\\right)}^{\\frac{2}{3}} - 2 \\, {\\left(4 \\, y\\left(x\\right)^{5} + 19 \\, y\\left(x\\right)^{4} - 2 \\, y\\left(x\\right)^{3} + 38 \\, y\\left(x\\right)^{2} - 20 \\, y\\left(x\\right)\\right)} {\\left(\\frac{108 \\, {\\left(4 \\, y\\left(x\\right)^{3} + 19 \\, y\\left(x\\right)^{2} - 10 \\, y\\left(x\\right) + 2\\right)}}{y\\left(x\\right)^{6} + 4 \\, y\\left(x\\right)^{4} + 4 \\, y\\left(x\\right)^{2}} + \\frac{{\\left(4 \\, y\\left(x\\right)^{2} + 19 \\, y\\left(x\\right) - 10\\right)}^{3}}{{\\left(y\\left(x\\right)^{2} + 2\\right)}^{3}} - \\frac{36 \\, {\\left(4 \\, y\\left(x\\right)^{2} + 19 \\, y\\left(x\\right) - 10\\right)}}{{\\left(y\\left(x\\right)^{3} + 2 \\, y\\left(x\\right)\\right)} {\\left(y\\left(x\\right)^{2} + 2\\right)}} + \\frac{36 \\, \\sqrt{\\frac{1}{6}} \\sqrt{\\frac{256 \\, y\\left(x\\right)^{11} + 4864 \\, y\\left(x\\right)^{10} + 32096 \\, y\\left(x\\right)^{9} + 73648 \\, y\\left(x\\right)^{8} - 29103 \\, y\\left(x\\right)^{7} - 170448 \\, y\\left(x\\right)^{6} + 204622 \\, y\\left(x\\right)^{5} - 81932 \\, y\\left(x\\right)^{4} + 9208 \\, y\\left(x\\right)^{3} + 6888 \\, y\\left(x\\right)^{2} - 2624 \\, y\\left(x\\right) + 432}{y\\left(x\\right)^{2} + 2}}}{{\\left(y\\left(x\\right)^{2} + 2\\right)}^{2} y\\left(x\\right)^{2}}\\right)}^{\\frac{1}{3}} + 100 \\, y\\left(x\\right) - 48}{{\\left(\\frac{108 \\, {\\left(4 \\, y\\left(x\\right)^{3} + 19 \\, y\\left(x\\right)^{2} - 10 \\, y\\left(x\\right) + 2\\right)}}{y\\left(x\\right)^{6} + 4 \\, y\\left(x\\right)^{4} + 4 \\, y\\left(x\\right)^{2}} + \\frac{{\\left(4 \\, y\\left(x\\right)^{2} + 19 \\, y\\left(x\\right) - 10\\right)}^{3}}{{\\left(y\\left(x\\right)^{2} + 2\\right)}^{3}} - \\frac{36 \\, {\\left(4 \\, y\\left(x\\right)^{2} + 19 \\, y\\left(x\\right) - 10\\right)}}{{\\left(y\\left(x\\right)^{3} + 2 \\, y\\left(x\\right)\\right)} {\\left(y\\left(x\\right)^{2} + 2\\right)}} + \\frac{36 \\, \\sqrt{\\frac{1}{6}} \\sqrt{\\frac{256 \\, y\\left(x\\right)^{11} + 4864 \\, y\\left(x\\right)^{10} + 32096 \\, y\\left(x\\right)^{9} + 73648 \\, y\\left(x\\right)^{8} - 29103 \\, y\\left(x\\right)^{7} - 170448 \\, y\\left(x\\right)^{6} + 204622 \\, y\\left(x\\right)^{5} - 81932 \\, y\\left(x\\right)^{4} + 9208 \\, y\\left(x\\right)^{3} + 6888 \\, y\\left(x\\right)^{2} - 2624 \\, y\\left(x\\right) + 432}{y\\left(x\\right)^{2} + 2}}}{{\\left(y\\left(x\\right)^{2} + 2\\right)}^{2} y\\left(x\\right)^{2}}\\right)}^{\\frac{1}{3}} y\\left(x\\right)}}}{12 \\, {\\left(y\\left(x\\right)^{2} + 2\\right)}}\\right]\\)</html>"
      ],
      "text/latex": [
       "$\\displaystyle \\left[\\mathit{dy}_{\\mathit{dx}} = -\\frac{1}{2} \\, \\sqrt{-\\frac{\\frac{{\\left(4 \\, y\\left(x\\right)^{2} + 19 \\, y\\left(x\\right) - 10\\right)}^{2}}{{\\left(y\\left(x\\right)^{2} + 2\\right)}^{2}} - \\frac{24}{y\\left(x\\right)^{3} + 2 \\, y\\left(x\\right)}}{12 \\, {\\left(\\frac{108 \\, {\\left(4 \\, y\\left(x\\right)^{3} + 19 \\, y\\left(x\\right)^{2} - 10 \\, y\\left(x\\right) + 2\\right)}}{y\\left(x\\right)^{6} + 4 \\, y\\left(x\\right)^{4} + 4 \\, y\\left(x\\right)^{2}} + \\frac{{\\left(4 \\, y\\left(x\\right)^{2} + 19 \\, y\\left(x\\right) - 10\\right)}^{3}}{{\\left(y\\left(x\\right)^{2} + 2\\right)}^{3}} - \\frac{36 \\, {\\left(4 \\, y\\left(x\\right)^{2} + 19 \\, y\\left(x\\right) - 10\\right)}}{{\\left(y\\left(x\\right)^{3} + 2 \\, y\\left(x\\right)\\right)} {\\left(y\\left(x\\right)^{2} + 2\\right)}} + \\frac{36 \\, \\sqrt{\\frac{1}{6}} \\sqrt{\\frac{256 \\, y\\left(x\\right)^{11} + 4864 \\, y\\left(x\\right)^{10} + 32096 \\, y\\left(x\\right)^{9} + 73648 \\, y\\left(x\\right)^{8} - 29103 \\, y\\left(x\\right)^{7} - 170448 \\, y\\left(x\\right)^{6} + 204622 \\, y\\left(x\\right)^{5} - 81932 \\, y\\left(x\\right)^{4} + 9208 \\, y\\left(x\\right)^{3} + 6888 \\, y\\left(x\\right)^{2} - 2624 \\, y\\left(x\\right) + 432}{y\\left(x\\right)^{2} + 2}}}{{\\left(y\\left(x\\right)^{2} + 2\\right)}^{2} y\\left(x\\right)^{2}}\\right)}^{\\frac{1}{3}}} - \\frac{1}{12} \\, {\\left(\\frac{108 \\, {\\left(4 \\, y\\left(x\\right)^{3} + 19 \\, y\\left(x\\right)^{2} - 10 \\, y\\left(x\\right) + 2\\right)}}{y\\left(x\\right)^{6} + 4 \\, y\\left(x\\right)^{4} + 4 \\, y\\left(x\\right)^{2}} + \\frac{{\\left(4 \\, y\\left(x\\right)^{2} + 19 \\, y\\left(x\\right) - 10\\right)}^{3}}{{\\left(y\\left(x\\right)^{2} + 2\\right)}^{3}} - \\frac{36 \\, {\\left(4 \\, y\\left(x\\right)^{2} + 19 \\, y\\left(x\\right) - 10\\right)}}{{\\left(y\\left(x\\right)^{3} + 2 \\, y\\left(x\\right)\\right)} {\\left(y\\left(x\\right)^{2} + 2\\right)}} + \\frac{36 \\, \\sqrt{\\frac{1}{6}} \\sqrt{\\frac{256 \\, y\\left(x\\right)^{11} + 4864 \\, y\\left(x\\right)^{10} + 32096 \\, y\\left(x\\right)^{9} + 73648 \\, y\\left(x\\right)^{8} - 29103 \\, y\\left(x\\right)^{7} - 170448 \\, y\\left(x\\right)^{6} + 204622 \\, y\\left(x\\right)^{5} - 81932 \\, y\\left(x\\right)^{4} + 9208 \\, y\\left(x\\right)^{3} + 6888 \\, y\\left(x\\right)^{2} - 2624 \\, y\\left(x\\right) + 432}{y\\left(x\\right)^{2} + 2}}}{{\\left(y\\left(x\\right)^{2} + 2\\right)}^{2} y\\left(x\\right)^{2}}\\right)}^{\\frac{1}{3}} - \\frac{4 \\, y\\left(x\\right)^{2} + 19 \\, y\\left(x\\right) - 10}{3 \\, {\\left(y\\left(x\\right)^{2} + 2\\right)}} + \\frac{2 \\, \\sqrt{3} {\\left(y\\left(x\\right)^{2} + 2\\right)}}{{\\left(y\\left(x\\right)^{3} + 2 \\, y\\left(x\\right)\\right)} \\sqrt{\\frac{16 \\, y\\left(x\\right)^{5} + 152 \\, y\\left(x\\right)^{4} + 281 \\, y\\left(x\\right)^{3} - 404 \\, y\\left(x\\right)^{2} + {\\left(y\\left(x\\right)^{5} + 4 \\, y\\left(x\\right)^{3} + 4 \\, y\\left(x\\right)\\right)} {\\left(\\frac{108 \\, {\\left(4 \\, y\\left(x\\right)^{3} + 19 \\, y\\left(x\\right)^{2} - 10 \\, y\\left(x\\right) + 2\\right)}}{y\\left(x\\right)^{6} + 4 \\, y\\left(x\\right)^{4} + 4 \\, y\\left(x\\right)^{2}} + \\frac{{\\left(4 \\, y\\left(x\\right)^{2} + 19 \\, y\\left(x\\right) - 10\\right)}^{3}}{{\\left(y\\left(x\\right)^{2} + 2\\right)}^{3}} - \\frac{36 \\, {\\left(4 \\, y\\left(x\\right)^{2} + 19 \\, y\\left(x\\right) - 10\\right)}}{{\\left(y\\left(x\\right)^{3} + 2 \\, y\\left(x\\right)\\right)} {\\left(y\\left(x\\right)^{2} + 2\\right)}} + \\frac{36 \\, \\sqrt{\\frac{1}{6}} \\sqrt{\\frac{256 \\, y\\left(x\\right)^{11} + 4864 \\, y\\left(x\\right)^{10} + 32096 \\, y\\left(x\\right)^{9} + 73648 \\, y\\left(x\\right)^{8} - 29103 \\, y\\left(x\\right)^{7} - 170448 \\, y\\left(x\\right)^{6} + 204622 \\, y\\left(x\\right)^{5} - 81932 \\, y\\left(x\\right)^{4} + 9208 \\, y\\left(x\\right)^{3} + 6888 \\, y\\left(x\\right)^{2} - 2624 \\, y\\left(x\\right) + 432}{y\\left(x\\right)^{2} + 2}}}{{\\left(y\\left(x\\right)^{2} + 2\\right)}^{2} y\\left(x\\right)^{2}}\\right)}^{\\frac{2}{3}} - 2 \\, {\\left(4 \\, y\\left(x\\right)^{5} + 19 \\, y\\left(x\\right)^{4} - 2 \\, y\\left(x\\right)^{3} + 38 \\, y\\left(x\\right)^{2} - 20 \\, y\\left(x\\right)\\right)} {\\left(\\frac{108 \\, {\\left(4 \\, y\\left(x\\right)^{3} + 19 \\, y\\left(x\\right)^{2} - 10 \\, y\\left(x\\right) + 2\\right)}}{y\\left(x\\right)^{6} + 4 \\, y\\left(x\\right)^{4} + 4 \\, y\\left(x\\right)^{2}} + \\frac{{\\left(4 \\, y\\left(x\\right)^{2} + 19 \\, y\\left(x\\right) - 10\\right)}^{3}}{{\\left(y\\left(x\\right)^{2} + 2\\right)}^{3}} - \\frac{36 \\, {\\left(4 \\, y\\left(x\\right)^{2} + 19 \\, y\\left(x\\right) - 10\\right)}}{{\\left(y\\left(x\\right)^{3} + 2 \\, y\\left(x\\right)\\right)} {\\left(y\\left(x\\right)^{2} + 2\\right)}} + \\frac{36 \\, \\sqrt{\\frac{1}{6}} \\sqrt{\\frac{256 \\, y\\left(x\\right)^{11} + 4864 \\, y\\left(x\\right)^{10} + 32096 \\, y\\left(x\\right)^{9} + 73648 \\, y\\left(x\\right)^{8} - 29103 \\, y\\left(x\\right)^{7} - 170448 \\, y\\left(x\\right)^{6} + 204622 \\, y\\left(x\\right)^{5} - 81932 \\, y\\left(x\\right)^{4} + 9208 \\, y\\left(x\\right)^{3} + 6888 \\, y\\left(x\\right)^{2} - 2624 \\, y\\left(x\\right) + 432}{y\\left(x\\right)^{2} + 2}}}{{\\left(y\\left(x\\right)^{2} + 2\\right)}^{2} y\\left(x\\right)^{2}}\\right)}^{\\frac{1}{3}} + 100 \\, y\\left(x\\right) - 48}{{\\left(\\frac{108 \\, {\\left(4 \\, y\\left(x\\right)^{3} + 19 \\, y\\left(x\\right)^{2} - 10 \\, y\\left(x\\right) + 2\\right)}}{y\\left(x\\right)^{6} + 4 \\, y\\left(x\\right)^{4} + 4 \\, y\\left(x\\right)^{2}} + \\frac{{\\left(4 \\, y\\left(x\\right)^{2} + 19 \\, y\\left(x\\right) - 10\\right)}^{3}}{{\\left(y\\left(x\\right)^{2} + 2\\right)}^{3}} - \\frac{36 \\, {\\left(4 \\, y\\left(x\\right)^{2} + 19 \\, y\\left(x\\right) - 10\\right)}}{{\\left(y\\left(x\\right)^{3} + 2 \\, y\\left(x\\right)\\right)} {\\left(y\\left(x\\right)^{2} + 2\\right)}} + \\frac{36 \\, \\sqrt{\\frac{1}{6}} \\sqrt{\\frac{256 \\, y\\left(x\\right)^{11} + 4864 \\, y\\left(x\\right)^{10} + 32096 \\, y\\left(x\\right)^{9} + 73648 \\, y\\left(x\\right)^{8} - 29103 \\, y\\left(x\\right)^{7} - 170448 \\, y\\left(x\\right)^{6} + 204622 \\, y\\left(x\\right)^{5} - 81932 \\, y\\left(x\\right)^{4} + 9208 \\, y\\left(x\\right)^{3} + 6888 \\, y\\left(x\\right)^{2} - 2624 \\, y\\left(x\\right) + 432}{y\\left(x\\right)^{2} + 2}}}{{\\left(y\\left(x\\right)^{2} + 2\\right)}^{2} y\\left(x\\right)^{2}}\\right)}^{\\frac{1}{3}} y\\left(x\\right)}}}} - \\frac{\\sqrt{3} \\sqrt{\\frac{16 \\, y\\left(x\\right)^{5} + 152 \\, y\\left(x\\right)^{4} + 281 \\, y\\left(x\\right)^{3} - 404 \\, y\\left(x\\right)^{2} + {\\left(y\\left(x\\right)^{5} + 4 \\, y\\left(x\\right)^{3} + 4 \\, y\\left(x\\right)\\right)} {\\left(\\frac{108 \\, {\\left(4 \\, y\\left(x\\right)^{3} + 19 \\, y\\left(x\\right)^{2} - 10 \\, y\\left(x\\right) + 2\\right)}}{y\\left(x\\right)^{6} + 4 \\, y\\left(x\\right)^{4} + 4 \\, y\\left(x\\right)^{2}} + \\frac{{\\left(4 \\, y\\left(x\\right)^{2} + 19 \\, y\\left(x\\right) - 10\\right)}^{3}}{{\\left(y\\left(x\\right)^{2} + 2\\right)}^{3}} - \\frac{36 \\, {\\left(4 \\, y\\left(x\\right)^{2} + 19 \\, y\\left(x\\right) - 10\\right)}}{{\\left(y\\left(x\\right)^{3} + 2 \\, y\\left(x\\right)\\right)} {\\left(y\\left(x\\right)^{2} + 2\\right)}} + \\frac{36 \\, \\sqrt{\\frac{1}{6}} \\sqrt{\\frac{256 \\, y\\left(x\\right)^{11} + 4864 \\, y\\left(x\\right)^{10} + 32096 \\, y\\left(x\\right)^{9} + 73648 \\, y\\left(x\\right)^{8} - 29103 \\, y\\left(x\\right)^{7} - 170448 \\, y\\left(x\\right)^{6} + 204622 \\, y\\left(x\\right)^{5} - 81932 \\, y\\left(x\\right)^{4} + 9208 \\, y\\left(x\\right)^{3} + 6888 \\, y\\left(x\\right)^{2} - 2624 \\, y\\left(x\\right) + 432}{y\\left(x\\right)^{2} + 2}}}{{\\left(y\\left(x\\right)^{2} + 2\\right)}^{2} y\\left(x\\right)^{2}}\\right)}^{\\frac{2}{3}} - 2 \\, {\\left(4 \\, y\\left(x\\right)^{5} + 19 \\, y\\left(x\\right)^{4} - 2 \\, y\\left(x\\right)^{3} + 38 \\, y\\left(x\\right)^{2} - 20 \\, y\\left(x\\right)\\right)} {\\left(\\frac{108 \\, {\\left(4 \\, y\\left(x\\right)^{3} + 19 \\, y\\left(x\\right)^{2} - 10 \\, y\\left(x\\right) + 2\\right)}}{y\\left(x\\right)^{6} + 4 \\, y\\left(x\\right)^{4} + 4 \\, y\\left(x\\right)^{2}} + \\frac{{\\left(4 \\, y\\left(x\\right)^{2} + 19 \\, y\\left(x\\right) - 10\\right)}^{3}}{{\\left(y\\left(x\\right)^{2} + 2\\right)}^{3}} - \\frac{36 \\, {\\left(4 \\, y\\left(x\\right)^{2} + 19 \\, y\\left(x\\right) - 10\\right)}}{{\\left(y\\left(x\\right)^{3} + 2 \\, y\\left(x\\right)\\right)} {\\left(y\\left(x\\right)^{2} + 2\\right)}} + \\frac{36 \\, \\sqrt{\\frac{1}{6}} \\sqrt{\\frac{256 \\, y\\left(x\\right)^{11} + 4864 \\, y\\left(x\\right)^{10} + 32096 \\, y\\left(x\\right)^{9} + 73648 \\, y\\left(x\\right)^{8} - 29103 \\, y\\left(x\\right)^{7} - 170448 \\, y\\left(x\\right)^{6} + 204622 \\, y\\left(x\\right)^{5} - 81932 \\, y\\left(x\\right)^{4} + 9208 \\, y\\left(x\\right)^{3} + 6888 \\, y\\left(x\\right)^{2} - 2624 \\, y\\left(x\\right) + 432}{y\\left(x\\right)^{2} + 2}}}{{\\left(y\\left(x\\right)^{2} + 2\\right)}^{2} y\\left(x\\right)^{2}}\\right)}^{\\frac{1}{3}} + 100 \\, y\\left(x\\right) - 48}{{\\left(\\frac{108 \\, {\\left(4 \\, y\\left(x\\right)^{3} + 19 \\, y\\left(x\\right)^{2} - 10 \\, y\\left(x\\right) + 2\\right)}}{y\\left(x\\right)^{6} + 4 \\, y\\left(x\\right)^{4} + 4 \\, y\\left(x\\right)^{2}} + \\frac{{\\left(4 \\, y\\left(x\\right)^{2} + 19 \\, y\\left(x\\right) - 10\\right)}^{3}}{{\\left(y\\left(x\\right)^{2} + 2\\right)}^{3}} - \\frac{36 \\, {\\left(4 \\, y\\left(x\\right)^{2} + 19 \\, y\\left(x\\right) - 10\\right)}}{{\\left(y\\left(x\\right)^{3} + 2 \\, y\\left(x\\right)\\right)} {\\left(y\\left(x\\right)^{2} + 2\\right)}} + \\frac{36 \\, \\sqrt{\\frac{1}{6}} \\sqrt{\\frac{256 \\, y\\left(x\\right)^{11} + 4864 \\, y\\left(x\\right)^{10} + 32096 \\, y\\left(x\\right)^{9} + 73648 \\, y\\left(x\\right)^{8} - 29103 \\, y\\left(x\\right)^{7} - 170448 \\, y\\left(x\\right)^{6} + 204622 \\, y\\left(x\\right)^{5} - 81932 \\, y\\left(x\\right)^{4} + 9208 \\, y\\left(x\\right)^{3} + 6888 \\, y\\left(x\\right)^{2} - 2624 \\, y\\left(x\\right) + 432}{y\\left(x\\right)^{2} + 2}}}{{\\left(y\\left(x\\right)^{2} + 2\\right)}^{2} y\\left(x\\right)^{2}}\\right)}^{\\frac{1}{3}} y\\left(x\\right)}}}{12 \\, {\\left(y\\left(x\\right)^{2} + 2\\right)}}, \\mathit{dy}_{\\mathit{dx}} = \\frac{1}{2} \\, \\sqrt{-\\frac{\\frac{{\\left(4 \\, y\\left(x\\right)^{2} + 19 \\, y\\left(x\\right) - 10\\right)}^{2}}{{\\left(y\\left(x\\right)^{2} + 2\\right)}^{2}} - \\frac{24}{y\\left(x\\right)^{3} + 2 \\, y\\left(x\\right)}}{12 \\, {\\left(\\frac{108 \\, {\\left(4 \\, y\\left(x\\right)^{3} + 19 \\, y\\left(x\\right)^{2} - 10 \\, y\\left(x\\right) + 2\\right)}}{y\\left(x\\right)^{6} + 4 \\, y\\left(x\\right)^{4} + 4 \\, y\\left(x\\right)^{2}} + \\frac{{\\left(4 \\, y\\left(x\\right)^{2} + 19 \\, y\\left(x\\right) - 10\\right)}^{3}}{{\\left(y\\left(x\\right)^{2} + 2\\right)}^{3}} - \\frac{36 \\, {\\left(4 \\, y\\left(x\\right)^{2} + 19 \\, y\\left(x\\right) - 10\\right)}}{{\\left(y\\left(x\\right)^{3} + 2 \\, y\\left(x\\right)\\right)} {\\left(y\\left(x\\right)^{2} + 2\\right)}} + \\frac{36 \\, \\sqrt{\\frac{1}{6}} \\sqrt{\\frac{256 \\, y\\left(x\\right)^{11} + 4864 \\, y\\left(x\\right)^{10} + 32096 \\, y\\left(x\\right)^{9} + 73648 \\, y\\left(x\\right)^{8} - 29103 \\, y\\left(x\\right)^{7} - 170448 \\, y\\left(x\\right)^{6} + 204622 \\, y\\left(x\\right)^{5} - 81932 \\, y\\left(x\\right)^{4} + 9208 \\, y\\left(x\\right)^{3} + 6888 \\, y\\left(x\\right)^{2} - 2624 \\, y\\left(x\\right) + 432}{y\\left(x\\right)^{2} + 2}}}{{\\left(y\\left(x\\right)^{2} + 2\\right)}^{2} y\\left(x\\right)^{2}}\\right)}^{\\frac{1}{3}}} - \\frac{1}{12} \\, {\\left(\\frac{108 \\, {\\left(4 \\, y\\left(x\\right)^{3} + 19 \\, y\\left(x\\right)^{2} - 10 \\, y\\left(x\\right) + 2\\right)}}{y\\left(x\\right)^{6} + 4 \\, y\\left(x\\right)^{4} + 4 \\, y\\left(x\\right)^{2}} + \\frac{{\\left(4 \\, y\\left(x\\right)^{2} + 19 \\, y\\left(x\\right) - 10\\right)}^{3}}{{\\left(y\\left(x\\right)^{2} + 2\\right)}^{3}} - \\frac{36 \\, {\\left(4 \\, y\\left(x\\right)^{2} + 19 \\, y\\left(x\\right) - 10\\right)}}{{\\left(y\\left(x\\right)^{3} + 2 \\, y\\left(x\\right)\\right)} {\\left(y\\left(x\\right)^{2} + 2\\right)}} + \\frac{36 \\, \\sqrt{\\frac{1}{6}} \\sqrt{\\frac{256 \\, y\\left(x\\right)^{11} + 4864 \\, y\\left(x\\right)^{10} + 32096 \\, y\\left(x\\right)^{9} + 73648 \\, y\\left(x\\right)^{8} - 29103 \\, y\\left(x\\right)^{7} - 170448 \\, y\\left(x\\right)^{6} + 204622 \\, y\\left(x\\right)^{5} - 81932 \\, y\\left(x\\right)^{4} + 9208 \\, y\\left(x\\right)^{3} + 6888 \\, y\\left(x\\right)^{2} - 2624 \\, y\\left(x\\right) + 432}{y\\left(x\\right)^{2} + 2}}}{{\\left(y\\left(x\\right)^{2} + 2\\right)}^{2} y\\left(x\\right)^{2}}\\right)}^{\\frac{1}{3}} - \\frac{4 \\, y\\left(x\\right)^{2} + 19 \\, y\\left(x\\right) - 10}{3 \\, {\\left(y\\left(x\\right)^{2} + 2\\right)}} + \\frac{2 \\, \\sqrt{3} {\\left(y\\left(x\\right)^{2} + 2\\right)}}{{\\left(y\\left(x\\right)^{3} + 2 \\, y\\left(x\\right)\\right)} \\sqrt{\\frac{16 \\, y\\left(x\\right)^{5} + 152 \\, y\\left(x\\right)^{4} + 281 \\, y\\left(x\\right)^{3} - 404 \\, y\\left(x\\right)^{2} + {\\left(y\\left(x\\right)^{5} + 4 \\, y\\left(x\\right)^{3} + 4 \\, y\\left(x\\right)\\right)} {\\left(\\frac{108 \\, {\\left(4 \\, y\\left(x\\right)^{3} + 19 \\, y\\left(x\\right)^{2} - 10 \\, y\\left(x\\right) + 2\\right)}}{y\\left(x\\right)^{6} + 4 \\, y\\left(x\\right)^{4} + 4 \\, y\\left(x\\right)^{2}} + \\frac{{\\left(4 \\, y\\left(x\\right)^{2} + 19 \\, y\\left(x\\right) - 10\\right)}^{3}}{{\\left(y\\left(x\\right)^{2} + 2\\right)}^{3}} - \\frac{36 \\, {\\left(4 \\, y\\left(x\\right)^{2} + 19 \\, y\\left(x\\right) - 10\\right)}}{{\\left(y\\left(x\\right)^{3} + 2 \\, y\\left(x\\right)\\right)} {\\left(y\\left(x\\right)^{2} + 2\\right)}} + \\frac{36 \\, \\sqrt{\\frac{1}{6}} \\sqrt{\\frac{256 \\, y\\left(x\\right)^{11} + 4864 \\, y\\left(x\\right)^{10} + 32096 \\, y\\left(x\\right)^{9} + 73648 \\, y\\left(x\\right)^{8} - 29103 \\, y\\left(x\\right)^{7} - 170448 \\, y\\left(x\\right)^{6} + 204622 \\, y\\left(x\\right)^{5} - 81932 \\, y\\left(x\\right)^{4} + 9208 \\, y\\left(x\\right)^{3} + 6888 \\, y\\left(x\\right)^{2} - 2624 \\, y\\left(x\\right) + 432}{y\\left(x\\right)^{2} + 2}}}{{\\left(y\\left(x\\right)^{2} + 2\\right)}^{2} y\\left(x\\right)^{2}}\\right)}^{\\frac{2}{3}} - 2 \\, {\\left(4 \\, y\\left(x\\right)^{5} + 19 \\, y\\left(x\\right)^{4} - 2 \\, y\\left(x\\right)^{3} + 38 \\, y\\left(x\\right)^{2} - 20 \\, y\\left(x\\right)\\right)} {\\left(\\frac{108 \\, {\\left(4 \\, y\\left(x\\right)^{3} + 19 \\, y\\left(x\\right)^{2} - 10 \\, y\\left(x\\right) + 2\\right)}}{y\\left(x\\right)^{6} + 4 \\, y\\left(x\\right)^{4} + 4 \\, y\\left(x\\right)^{2}} + \\frac{{\\left(4 \\, y\\left(x\\right)^{2} + 19 \\, y\\left(x\\right) - 10\\right)}^{3}}{{\\left(y\\left(x\\right)^{2} + 2\\right)}^{3}} - \\frac{36 \\, {\\left(4 \\, y\\left(x\\right)^{2} + 19 \\, y\\left(x\\right) - 10\\right)}}{{\\left(y\\left(x\\right)^{3} + 2 \\, y\\left(x\\right)\\right)} {\\left(y\\left(x\\right)^{2} + 2\\right)}} + \\frac{36 \\, \\sqrt{\\frac{1}{6}} \\sqrt{\\frac{256 \\, y\\left(x\\right)^{11} + 4864 \\, y\\left(x\\right)^{10} + 32096 \\, y\\left(x\\right)^{9} + 73648 \\, y\\left(x\\right)^{8} - 29103 \\, y\\left(x\\right)^{7} - 170448 \\, y\\left(x\\right)^{6} + 204622 \\, y\\left(x\\right)^{5} - 81932 \\, y\\left(x\\right)^{4} + 9208 \\, y\\left(x\\right)^{3} + 6888 \\, y\\left(x\\right)^{2} - 2624 \\, y\\left(x\\right) + 432}{y\\left(x\\right)^{2} + 2}}}{{\\left(y\\left(x\\right)^{2} + 2\\right)}^{2} y\\left(x\\right)^{2}}\\right)}^{\\frac{1}{3}} + 100 \\, y\\left(x\\right) - 48}{{\\left(\\frac{108 \\, {\\left(4 \\, y\\left(x\\right)^{3} + 19 \\, y\\left(x\\right)^{2} - 10 \\, y\\left(x\\right) + 2\\right)}}{y\\left(x\\right)^{6} + 4 \\, y\\left(x\\right)^{4} + 4 \\, y\\left(x\\right)^{2}} + \\frac{{\\left(4 \\, y\\left(x\\right)^{2} + 19 \\, y\\left(x\\right) - 10\\right)}^{3}}{{\\left(y\\left(x\\right)^{2} + 2\\right)}^{3}} - \\frac{36 \\, {\\left(4 \\, y\\left(x\\right)^{2} + 19 \\, y\\left(x\\right) - 10\\right)}}{{\\left(y\\left(x\\right)^{3} + 2 \\, y\\left(x\\right)\\right)} {\\left(y\\left(x\\right)^{2} + 2\\right)}} + \\frac{36 \\, \\sqrt{\\frac{1}{6}} \\sqrt{\\frac{256 \\, y\\left(x\\right)^{11} + 4864 \\, y\\left(x\\right)^{10} + 32096 \\, y\\left(x\\right)^{9} + 73648 \\, y\\left(x\\right)^{8} - 29103 \\, y\\left(x\\right)^{7} - 170448 \\, y\\left(x\\right)^{6} + 204622 \\, y\\left(x\\right)^{5} - 81932 \\, y\\left(x\\right)^{4} + 9208 \\, y\\left(x\\right)^{3} + 6888 \\, y\\left(x\\right)^{2} - 2624 \\, y\\left(x\\right) + 432}{y\\left(x\\right)^{2} + 2}}}{{\\left(y\\left(x\\right)^{2} + 2\\right)}^{2} y\\left(x\\right)^{2}}\\right)}^{\\frac{1}{3}} y\\left(x\\right)}}}} - \\frac{\\sqrt{3} \\sqrt{\\frac{16 \\, y\\left(x\\right)^{5} + 152 \\, y\\left(x\\right)^{4} + 281 \\, y\\left(x\\right)^{3} - 404 \\, y\\left(x\\right)^{2} + {\\left(y\\left(x\\right)^{5} + 4 \\, y\\left(x\\right)^{3} + 4 \\, y\\left(x\\right)\\right)} {\\left(\\frac{108 \\, {\\left(4 \\, y\\left(x\\right)^{3} + 19 \\, y\\left(x\\right)^{2} - 10 \\, y\\left(x\\right) + 2\\right)}}{y\\left(x\\right)^{6} + 4 \\, y\\left(x\\right)^{4} + 4 \\, y\\left(x\\right)^{2}} + \\frac{{\\left(4 \\, y\\left(x\\right)^{2} + 19 \\, y\\left(x\\right) - 10\\right)}^{3}}{{\\left(y\\left(x\\right)^{2} + 2\\right)}^{3}} - \\frac{36 \\, {\\left(4 \\, y\\left(x\\right)^{2} + 19 \\, y\\left(x\\right) - 10\\right)}}{{\\left(y\\left(x\\right)^{3} + 2 \\, y\\left(x\\right)\\right)} {\\left(y\\left(x\\right)^{2} + 2\\right)}} + \\frac{36 \\, \\sqrt{\\frac{1}{6}} \\sqrt{\\frac{256 \\, y\\left(x\\right)^{11} + 4864 \\, y\\left(x\\right)^{10} + 32096 \\, y\\left(x\\right)^{9} + 73648 \\, y\\left(x\\right)^{8} - 29103 \\, y\\left(x\\right)^{7} - 170448 \\, y\\left(x\\right)^{6} + 204622 \\, y\\left(x\\right)^{5} - 81932 \\, y\\left(x\\right)^{4} + 9208 \\, y\\left(x\\right)^{3} + 6888 \\, y\\left(x\\right)^{2} - 2624 \\, y\\left(x\\right) + 432}{y\\left(x\\right)^{2} + 2}}}{{\\left(y\\left(x\\right)^{2} + 2\\right)}^{2} y\\left(x\\right)^{2}}\\right)}^{\\frac{2}{3}} - 2 \\, {\\left(4 \\, y\\left(x\\right)^{5} + 19 \\, y\\left(x\\right)^{4} - 2 \\, y\\left(x\\right)^{3} + 38 \\, y\\left(x\\right)^{2} - 20 \\, y\\left(x\\right)\\right)} {\\left(\\frac{108 \\, {\\left(4 \\, y\\left(x\\right)^{3} + 19 \\, y\\left(x\\right)^{2} - 10 \\, y\\left(x\\right) + 2\\right)}}{y\\left(x\\right)^{6} + 4 \\, y\\left(x\\right)^{4} + 4 \\, y\\left(x\\right)^{2}} + \\frac{{\\left(4 \\, y\\left(x\\right)^{2} + 19 \\, y\\left(x\\right) - 10\\right)}^{3}}{{\\left(y\\left(x\\right)^{2} + 2\\right)}^{3}} - \\frac{36 \\, {\\left(4 \\, y\\left(x\\right)^{2} + 19 \\, y\\left(x\\right) - 10\\right)}}{{\\left(y\\left(x\\right)^{3} + 2 \\, y\\left(x\\right)\\right)} {\\left(y\\left(x\\right)^{2} + 2\\right)}} + \\frac{36 \\, \\sqrt{\\frac{1}{6}} \\sqrt{\\frac{256 \\, y\\left(x\\right)^{11} + 4864 \\, y\\left(x\\right)^{10} + 32096 \\, y\\left(x\\right)^{9} + 73648 \\, y\\left(x\\right)^{8} - 29103 \\, y\\left(x\\right)^{7} - 170448 \\, y\\left(x\\right)^{6} + 204622 \\, y\\left(x\\right)^{5} - 81932 \\, y\\left(x\\right)^{4} + 9208 \\, y\\left(x\\right)^{3} + 6888 \\, y\\left(x\\right)^{2} - 2624 \\, y\\left(x\\right) + 432}{y\\left(x\\right)^{2} + 2}}}{{\\left(y\\left(x\\right)^{2} + 2\\right)}^{2} y\\left(x\\right)^{2}}\\right)}^{\\frac{1}{3}} + 100 \\, y\\left(x\\right) - 48}{{\\left(\\frac{108 \\, {\\left(4 \\, y\\left(x\\right)^{3} + 19 \\, y\\left(x\\right)^{2} - 10 \\, y\\left(x\\right) + 2\\right)}}{y\\left(x\\right)^{6} + 4 \\, y\\left(x\\right)^{4} + 4 \\, y\\left(x\\right)^{2}} + \\frac{{\\left(4 \\, y\\left(x\\right)^{2} + 19 \\, y\\left(x\\right) - 10\\right)}^{3}}{{\\left(y\\left(x\\right)^{2} + 2\\right)}^{3}} - \\frac{36 \\, {\\left(4 \\, y\\left(x\\right)^{2} + 19 \\, y\\left(x\\right) - 10\\right)}}{{\\left(y\\left(x\\right)^{3} + 2 \\, y\\left(x\\right)\\right)} {\\left(y\\left(x\\right)^{2} + 2\\right)}} + \\frac{36 \\, \\sqrt{\\frac{1}{6}} \\sqrt{\\frac{256 \\, y\\left(x\\right)^{11} + 4864 \\, y\\left(x\\right)^{10} + 32096 \\, y\\left(x\\right)^{9} + 73648 \\, y\\left(x\\right)^{8} - 29103 \\, y\\left(x\\right)^{7} - 170448 \\, y\\left(x\\right)^{6} + 204622 \\, y\\left(x\\right)^{5} - 81932 \\, y\\left(x\\right)^{4} + 9208 \\, y\\left(x\\right)^{3} + 6888 \\, y\\left(x\\right)^{2} - 2624 \\, y\\left(x\\right) + 432}{y\\left(x\\right)^{2} + 2}}}{{\\left(y\\left(x\\right)^{2} + 2\\right)}^{2} y\\left(x\\right)^{2}}\\right)}^{\\frac{1}{3}} y\\left(x\\right)}}}{12 \\, {\\left(y\\left(x\\right)^{2} + 2\\right)}}, \\mathit{dy}_{\\mathit{dx}} = -\\frac{1}{2} \\, \\sqrt{-\\frac{\\frac{{\\left(4 \\, y\\left(x\\right)^{2} + 19 \\, y\\left(x\\right) - 10\\right)}^{2}}{{\\left(y\\left(x\\right)^{2} + 2\\right)}^{2}} - \\frac{24}{y\\left(x\\right)^{3} + 2 \\, y\\left(x\\right)}}{12 \\, {\\left(\\frac{108 \\, {\\left(4 \\, y\\left(x\\right)^{3} + 19 \\, y\\left(x\\right)^{2} - 10 \\, y\\left(x\\right) + 2\\right)}}{y\\left(x\\right)^{6} + 4 \\, y\\left(x\\right)^{4} + 4 \\, y\\left(x\\right)^{2}} + \\frac{{\\left(4 \\, y\\left(x\\right)^{2} + 19 \\, y\\left(x\\right) - 10\\right)}^{3}}{{\\left(y\\left(x\\right)^{2} + 2\\right)}^{3}} - \\frac{36 \\, {\\left(4 \\, y\\left(x\\right)^{2} + 19 \\, y\\left(x\\right) - 10\\right)}}{{\\left(y\\left(x\\right)^{3} + 2 \\, y\\left(x\\right)\\right)} {\\left(y\\left(x\\right)^{2} + 2\\right)}} + \\frac{36 \\, \\sqrt{\\frac{1}{6}} \\sqrt{\\frac{256 \\, y\\left(x\\right)^{11} + 4864 \\, y\\left(x\\right)^{10} + 32096 \\, y\\left(x\\right)^{9} + 73648 \\, y\\left(x\\right)^{8} - 29103 \\, y\\left(x\\right)^{7} - 170448 \\, y\\left(x\\right)^{6} + 204622 \\, y\\left(x\\right)^{5} - 81932 \\, y\\left(x\\right)^{4} + 9208 \\, y\\left(x\\right)^{3} + 6888 \\, y\\left(x\\right)^{2} - 2624 \\, y\\left(x\\right) + 432}{y\\left(x\\right)^{2} + 2}}}{{\\left(y\\left(x\\right)^{2} + 2\\right)}^{2} y\\left(x\\right)^{2}}\\right)}^{\\frac{1}{3}}} - \\frac{1}{12} \\, {\\left(\\frac{108 \\, {\\left(4 \\, y\\left(x\\right)^{3} + 19 \\, y\\left(x\\right)^{2} - 10 \\, y\\left(x\\right) + 2\\right)}}{y\\left(x\\right)^{6} + 4 \\, y\\left(x\\right)^{4} + 4 \\, y\\left(x\\right)^{2}} + \\frac{{\\left(4 \\, y\\left(x\\right)^{2} + 19 \\, y\\left(x\\right) - 10\\right)}^{3}}{{\\left(y\\left(x\\right)^{2} + 2\\right)}^{3}} - \\frac{36 \\, {\\left(4 \\, y\\left(x\\right)^{2} + 19 \\, y\\left(x\\right) - 10\\right)}}{{\\left(y\\left(x\\right)^{3} + 2 \\, y\\left(x\\right)\\right)} {\\left(y\\left(x\\right)^{2} + 2\\right)}} + \\frac{36 \\, \\sqrt{\\frac{1}{6}} \\sqrt{\\frac{256 \\, y\\left(x\\right)^{11} + 4864 \\, y\\left(x\\right)^{10} + 32096 \\, y\\left(x\\right)^{9} + 73648 \\, y\\left(x\\right)^{8} - 29103 \\, y\\left(x\\right)^{7} - 170448 \\, y\\left(x\\right)^{6} + 204622 \\, y\\left(x\\right)^{5} - 81932 \\, y\\left(x\\right)^{4} + 9208 \\, y\\left(x\\right)^{3} + 6888 \\, y\\left(x\\right)^{2} - 2624 \\, y\\left(x\\right) + 432}{y\\left(x\\right)^{2} + 2}}}{{\\left(y\\left(x\\right)^{2} + 2\\right)}^{2} y\\left(x\\right)^{2}}\\right)}^{\\frac{1}{3}} - \\frac{4 \\, y\\left(x\\right)^{2} + 19 \\, y\\left(x\\right) - 10}{3 \\, {\\left(y\\left(x\\right)^{2} + 2\\right)}} - \\frac{2 \\, \\sqrt{3} {\\left(y\\left(x\\right)^{2} + 2\\right)}}{{\\left(y\\left(x\\right)^{3} + 2 \\, y\\left(x\\right)\\right)} \\sqrt{\\frac{16 \\, y\\left(x\\right)^{5} + 152 \\, y\\left(x\\right)^{4} + 281 \\, y\\left(x\\right)^{3} - 404 \\, y\\left(x\\right)^{2} + {\\left(y\\left(x\\right)^{5} + 4 \\, y\\left(x\\right)^{3} + 4 \\, y\\left(x\\right)\\right)} {\\left(\\frac{108 \\, {\\left(4 \\, y\\left(x\\right)^{3} + 19 \\, y\\left(x\\right)^{2} - 10 \\, y\\left(x\\right) + 2\\right)}}{y\\left(x\\right)^{6} + 4 \\, y\\left(x\\right)^{4} + 4 \\, y\\left(x\\right)^{2}} + \\frac{{\\left(4 \\, y\\left(x\\right)^{2} + 19 \\, y\\left(x\\right) - 10\\right)}^{3}}{{\\left(y\\left(x\\right)^{2} + 2\\right)}^{3}} - \\frac{36 \\, {\\left(4 \\, y\\left(x\\right)^{2} + 19 \\, y\\left(x\\right) - 10\\right)}}{{\\left(y\\left(x\\right)^{3} + 2 \\, y\\left(x\\right)\\right)} {\\left(y\\left(x\\right)^{2} + 2\\right)}} + \\frac{36 \\, \\sqrt{\\frac{1}{6}} \\sqrt{\\frac{256 \\, y\\left(x\\right)^{11} + 4864 \\, y\\left(x\\right)^{10} + 32096 \\, y\\left(x\\right)^{9} + 73648 \\, y\\left(x\\right)^{8} - 29103 \\, y\\left(x\\right)^{7} - 170448 \\, y\\left(x\\right)^{6} + 204622 \\, y\\left(x\\right)^{5} - 81932 \\, y\\left(x\\right)^{4} + 9208 \\, y\\left(x\\right)^{3} + 6888 \\, y\\left(x\\right)^{2} - 2624 \\, y\\left(x\\right) + 432}{y\\left(x\\right)^{2} + 2}}}{{\\left(y\\left(x\\right)^{2} + 2\\right)}^{2} y\\left(x\\right)^{2}}\\right)}^{\\frac{2}{3}} - 2 \\, {\\left(4 \\, y\\left(x\\right)^{5} + 19 \\, y\\left(x\\right)^{4} - 2 \\, y\\left(x\\right)^{3} + 38 \\, y\\left(x\\right)^{2} - 20 \\, y\\left(x\\right)\\right)} {\\left(\\frac{108 \\, {\\left(4 \\, y\\left(x\\right)^{3} + 19 \\, y\\left(x\\right)^{2} - 10 \\, y\\left(x\\right) + 2\\right)}}{y\\left(x\\right)^{6} + 4 \\, y\\left(x\\right)^{4} + 4 \\, y\\left(x\\right)^{2}} + \\frac{{\\left(4 \\, y\\left(x\\right)^{2} + 19 \\, y\\left(x\\right) - 10\\right)}^{3}}{{\\left(y\\left(x\\right)^{2} + 2\\right)}^{3}} - \\frac{36 \\, {\\left(4 \\, y\\left(x\\right)^{2} + 19 \\, y\\left(x\\right) - 10\\right)}}{{\\left(y\\left(x\\right)^{3} + 2 \\, y\\left(x\\right)\\right)} {\\left(y\\left(x\\right)^{2} + 2\\right)}} + \\frac{36 \\, \\sqrt{\\frac{1}{6}} \\sqrt{\\frac{256 \\, y\\left(x\\right)^{11} + 4864 \\, y\\left(x\\right)^{10} + 32096 \\, y\\left(x\\right)^{9} + 73648 \\, y\\left(x\\right)^{8} - 29103 \\, y\\left(x\\right)^{7} - 170448 \\, y\\left(x\\right)^{6} + 204622 \\, y\\left(x\\right)^{5} - 81932 \\, y\\left(x\\right)^{4} + 9208 \\, y\\left(x\\right)^{3} + 6888 \\, y\\left(x\\right)^{2} - 2624 \\, y\\left(x\\right) + 432}{y\\left(x\\right)^{2} + 2}}}{{\\left(y\\left(x\\right)^{2} + 2\\right)}^{2} y\\left(x\\right)^{2}}\\right)}^{\\frac{1}{3}} + 100 \\, y\\left(x\\right) - 48}{{\\left(\\frac{108 \\, {\\left(4 \\, y\\left(x\\right)^{3} + 19 \\, y\\left(x\\right)^{2} - 10 \\, y\\left(x\\right) + 2\\right)}}{y\\left(x\\right)^{6} + 4 \\, y\\left(x\\right)^{4} + 4 \\, y\\left(x\\right)^{2}} + \\frac{{\\left(4 \\, y\\left(x\\right)^{2} + 19 \\, y\\left(x\\right) - 10\\right)}^{3}}{{\\left(y\\left(x\\right)^{2} + 2\\right)}^{3}} - \\frac{36 \\, {\\left(4 \\, y\\left(x\\right)^{2} + 19 \\, y\\left(x\\right) - 10\\right)}}{{\\left(y\\left(x\\right)^{3} + 2 \\, y\\left(x\\right)\\right)} {\\left(y\\left(x\\right)^{2} + 2\\right)}} + \\frac{36 \\, \\sqrt{\\frac{1}{6}} \\sqrt{\\frac{256 \\, y\\left(x\\right)^{11} + 4864 \\, y\\left(x\\right)^{10} + 32096 \\, y\\left(x\\right)^{9} + 73648 \\, y\\left(x\\right)^{8} - 29103 \\, y\\left(x\\right)^{7} - 170448 \\, y\\left(x\\right)^{6} + 204622 \\, y\\left(x\\right)^{5} - 81932 \\, y\\left(x\\right)^{4} + 9208 \\, y\\left(x\\right)^{3} + 6888 \\, y\\left(x\\right)^{2} - 2624 \\, y\\left(x\\right) + 432}{y\\left(x\\right)^{2} + 2}}}{{\\left(y\\left(x\\right)^{2} + 2\\right)}^{2} y\\left(x\\right)^{2}}\\right)}^{\\frac{1}{3}} y\\left(x\\right)}}}} + \\frac{\\sqrt{3} \\sqrt{\\frac{16 \\, y\\left(x\\right)^{5} + 152 \\, y\\left(x\\right)^{4} + 281 \\, y\\left(x\\right)^{3} - 404 \\, y\\left(x\\right)^{2} + {\\left(y\\left(x\\right)^{5} + 4 \\, y\\left(x\\right)^{3} + 4 \\, y\\left(x\\right)\\right)} {\\left(\\frac{108 \\, {\\left(4 \\, y\\left(x\\right)^{3} + 19 \\, y\\left(x\\right)^{2} - 10 \\, y\\left(x\\right) + 2\\right)}}{y\\left(x\\right)^{6} + 4 \\, y\\left(x\\right)^{4} + 4 \\, y\\left(x\\right)^{2}} + \\frac{{\\left(4 \\, y\\left(x\\right)^{2} + 19 \\, y\\left(x\\right) - 10\\right)}^{3}}{{\\left(y\\left(x\\right)^{2} + 2\\right)}^{3}} - \\frac{36 \\, {\\left(4 \\, y\\left(x\\right)^{2} + 19 \\, y\\left(x\\right) - 10\\right)}}{{\\left(y\\left(x\\right)^{3} + 2 \\, y\\left(x\\right)\\right)} {\\left(y\\left(x\\right)^{2} + 2\\right)}} + \\frac{36 \\, \\sqrt{\\frac{1}{6}} \\sqrt{\\frac{256 \\, y\\left(x\\right)^{11} + 4864 \\, y\\left(x\\right)^{10} + 32096 \\, y\\left(x\\right)^{9} + 73648 \\, y\\left(x\\right)^{8} - 29103 \\, y\\left(x\\right)^{7} - 170448 \\, y\\left(x\\right)^{6} + 204622 \\, y\\left(x\\right)^{5} - 81932 \\, y\\left(x\\right)^{4} + 9208 \\, y\\left(x\\right)^{3} + 6888 \\, y\\left(x\\right)^{2} - 2624 \\, y\\left(x\\right) + 432}{y\\left(x\\right)^{2} + 2}}}{{\\left(y\\left(x\\right)^{2} + 2\\right)}^{2} y\\left(x\\right)^{2}}\\right)}^{\\frac{2}{3}} - 2 \\, {\\left(4 \\, y\\left(x\\right)^{5} + 19 \\, y\\left(x\\right)^{4} - 2 \\, y\\left(x\\right)^{3} + 38 \\, y\\left(x\\right)^{2} - 20 \\, y\\left(x\\right)\\right)} {\\left(\\frac{108 \\, {\\left(4 \\, y\\left(x\\right)^{3} + 19 \\, y\\left(x\\right)^{2} - 10 \\, y\\left(x\\right) + 2\\right)}}{y\\left(x\\right)^{6} + 4 \\, y\\left(x\\right)^{4} + 4 \\, y\\left(x\\right)^{2}} + \\frac{{\\left(4 \\, y\\left(x\\right)^{2} + 19 \\, y\\left(x\\right) - 10\\right)}^{3}}{{\\left(y\\left(x\\right)^{2} + 2\\right)}^{3}} - \\frac{36 \\, {\\left(4 \\, y\\left(x\\right)^{2} + 19 \\, y\\left(x\\right) - 10\\right)}}{{\\left(y\\left(x\\right)^{3} + 2 \\, y\\left(x\\right)\\right)} {\\left(y\\left(x\\right)^{2} + 2\\right)}} + \\frac{36 \\, \\sqrt{\\frac{1}{6}} \\sqrt{\\frac{256 \\, y\\left(x\\right)^{11} + 4864 \\, y\\left(x\\right)^{10} + 32096 \\, y\\left(x\\right)^{9} + 73648 \\, y\\left(x\\right)^{8} - 29103 \\, y\\left(x\\right)^{7} - 170448 \\, y\\left(x\\right)^{6} + 204622 \\, y\\left(x\\right)^{5} - 81932 \\, y\\left(x\\right)^{4} + 9208 \\, y\\left(x\\right)^{3} + 6888 \\, y\\left(x\\right)^{2} - 2624 \\, y\\left(x\\right) + 432}{y\\left(x\\right)^{2} + 2}}}{{\\left(y\\left(x\\right)^{2} + 2\\right)}^{2} y\\left(x\\right)^{2}}\\right)}^{\\frac{1}{3}} + 100 \\, y\\left(x\\right) - 48}{{\\left(\\frac{108 \\, {\\left(4 \\, y\\left(x\\right)^{3} + 19 \\, y\\left(x\\right)^{2} - 10 \\, y\\left(x\\right) + 2\\right)}}{y\\left(x\\right)^{6} + 4 \\, y\\left(x\\right)^{4} + 4 \\, y\\left(x\\right)^{2}} + \\frac{{\\left(4 \\, y\\left(x\\right)^{2} + 19 \\, y\\left(x\\right) - 10\\right)}^{3}}{{\\left(y\\left(x\\right)^{2} + 2\\right)}^{3}} - \\frac{36 \\, {\\left(4 \\, y\\left(x\\right)^{2} + 19 \\, y\\left(x\\right) - 10\\right)}}{{\\left(y\\left(x\\right)^{3} + 2 \\, y\\left(x\\right)\\right)} {\\left(y\\left(x\\right)^{2} + 2\\right)}} + \\frac{36 \\, \\sqrt{\\frac{1}{6}} \\sqrt{\\frac{256 \\, y\\left(x\\right)^{11} + 4864 \\, y\\left(x\\right)^{10} + 32096 \\, y\\left(x\\right)^{9} + 73648 \\, y\\left(x\\right)^{8} - 29103 \\, y\\left(x\\right)^{7} - 170448 \\, y\\left(x\\right)^{6} + 204622 \\, y\\left(x\\right)^{5} - 81932 \\, y\\left(x\\right)^{4} + 9208 \\, y\\left(x\\right)^{3} + 6888 \\, y\\left(x\\right)^{2} - 2624 \\, y\\left(x\\right) + 432}{y\\left(x\\right)^{2} + 2}}}{{\\left(y\\left(x\\right)^{2} + 2\\right)}^{2} y\\left(x\\right)^{2}}\\right)}^{\\frac{1}{3}} y\\left(x\\right)}}}{12 \\, {\\left(y\\left(x\\right)^{2} + 2\\right)}}, \\mathit{dy}_{\\mathit{dx}} = \\frac{1}{2} \\, \\sqrt{-\\frac{\\frac{{\\left(4 \\, y\\left(x\\right)^{2} + 19 \\, y\\left(x\\right) - 10\\right)}^{2}}{{\\left(y\\left(x\\right)^{2} + 2\\right)}^{2}} - \\frac{24}{y\\left(x\\right)^{3} + 2 \\, y\\left(x\\right)}}{12 \\, {\\left(\\frac{108 \\, {\\left(4 \\, y\\left(x\\right)^{3} + 19 \\, y\\left(x\\right)^{2} - 10 \\, y\\left(x\\right) + 2\\right)}}{y\\left(x\\right)^{6} + 4 \\, y\\left(x\\right)^{4} + 4 \\, y\\left(x\\right)^{2}} + \\frac{{\\left(4 \\, y\\left(x\\right)^{2} + 19 \\, y\\left(x\\right) - 10\\right)}^{3}}{{\\left(y\\left(x\\right)^{2} + 2\\right)}^{3}} - \\frac{36 \\, {\\left(4 \\, y\\left(x\\right)^{2} + 19 \\, y\\left(x\\right) - 10\\right)}}{{\\left(y\\left(x\\right)^{3} + 2 \\, y\\left(x\\right)\\right)} {\\left(y\\left(x\\right)^{2} + 2\\right)}} + \\frac{36 \\, \\sqrt{\\frac{1}{6}} \\sqrt{\\frac{256 \\, y\\left(x\\right)^{11} + 4864 \\, y\\left(x\\right)^{10} + 32096 \\, y\\left(x\\right)^{9} + 73648 \\, y\\left(x\\right)^{8} - 29103 \\, y\\left(x\\right)^{7} - 170448 \\, y\\left(x\\right)^{6} + 204622 \\, y\\left(x\\right)^{5} - 81932 \\, y\\left(x\\right)^{4} + 9208 \\, y\\left(x\\right)^{3} + 6888 \\, y\\left(x\\right)^{2} - 2624 \\, y\\left(x\\right) + 432}{y\\left(x\\right)^{2} + 2}}}{{\\left(y\\left(x\\right)^{2} + 2\\right)}^{2} y\\left(x\\right)^{2}}\\right)}^{\\frac{1}{3}}} - \\frac{1}{12} \\, {\\left(\\frac{108 \\, {\\left(4 \\, y\\left(x\\right)^{3} + 19 \\, y\\left(x\\right)^{2} - 10 \\, y\\left(x\\right) + 2\\right)}}{y\\left(x\\right)^{6} + 4 \\, y\\left(x\\right)^{4} + 4 \\, y\\left(x\\right)^{2}} + \\frac{{\\left(4 \\, y\\left(x\\right)^{2} + 19 \\, y\\left(x\\right) - 10\\right)}^{3}}{{\\left(y\\left(x\\right)^{2} + 2\\right)}^{3}} - \\frac{36 \\, {\\left(4 \\, y\\left(x\\right)^{2} + 19 \\, y\\left(x\\right) - 10\\right)}}{{\\left(y\\left(x\\right)^{3} + 2 \\, y\\left(x\\right)\\right)} {\\left(y\\left(x\\right)^{2} + 2\\right)}} + \\frac{36 \\, \\sqrt{\\frac{1}{6}} \\sqrt{\\frac{256 \\, y\\left(x\\right)^{11} + 4864 \\, y\\left(x\\right)^{10} + 32096 \\, y\\left(x\\right)^{9} + 73648 \\, y\\left(x\\right)^{8} - 29103 \\, y\\left(x\\right)^{7} - 170448 \\, y\\left(x\\right)^{6} + 204622 \\, y\\left(x\\right)^{5} - 81932 \\, y\\left(x\\right)^{4} + 9208 \\, y\\left(x\\right)^{3} + 6888 \\, y\\left(x\\right)^{2} - 2624 \\, y\\left(x\\right) + 432}{y\\left(x\\right)^{2} + 2}}}{{\\left(y\\left(x\\right)^{2} + 2\\right)}^{2} y\\left(x\\right)^{2}}\\right)}^{\\frac{1}{3}} - \\frac{4 \\, y\\left(x\\right)^{2} + 19 \\, y\\left(x\\right) - 10}{3 \\, {\\left(y\\left(x\\right)^{2} + 2\\right)}} - \\frac{2 \\, \\sqrt{3} {\\left(y\\left(x\\right)^{2} + 2\\right)}}{{\\left(y\\left(x\\right)^{3} + 2 \\, y\\left(x\\right)\\right)} \\sqrt{\\frac{16 \\, y\\left(x\\right)^{5} + 152 \\, y\\left(x\\right)^{4} + 281 \\, y\\left(x\\right)^{3} - 404 \\, y\\left(x\\right)^{2} + {\\left(y\\left(x\\right)^{5} + 4 \\, y\\left(x\\right)^{3} + 4 \\, y\\left(x\\right)\\right)} {\\left(\\frac{108 \\, {\\left(4 \\, y\\left(x\\right)^{3} + 19 \\, y\\left(x\\right)^{2} - 10 \\, y\\left(x\\right) + 2\\right)}}{y\\left(x\\right)^{6} + 4 \\, y\\left(x\\right)^{4} + 4 \\, y\\left(x\\right)^{2}} + \\frac{{\\left(4 \\, y\\left(x\\right)^{2} + 19 \\, y\\left(x\\right) - 10\\right)}^{3}}{{\\left(y\\left(x\\right)^{2} + 2\\right)}^{3}} - \\frac{36 \\, {\\left(4 \\, y\\left(x\\right)^{2} + 19 \\, y\\left(x\\right) - 10\\right)}}{{\\left(y\\left(x\\right)^{3} + 2 \\, y\\left(x\\right)\\right)} {\\left(y\\left(x\\right)^{2} + 2\\right)}} + \\frac{36 \\, \\sqrt{\\frac{1}{6}} \\sqrt{\\frac{256 \\, y\\left(x\\right)^{11} + 4864 \\, y\\left(x\\right)^{10} + 32096 \\, y\\left(x\\right)^{9} + 73648 \\, y\\left(x\\right)^{8} - 29103 \\, y\\left(x\\right)^{7} - 170448 \\, y\\left(x\\right)^{6} + 204622 \\, y\\left(x\\right)^{5} - 81932 \\, y\\left(x\\right)^{4} + 9208 \\, y\\left(x\\right)^{3} + 6888 \\, y\\left(x\\right)^{2} - 2624 \\, y\\left(x\\right) + 432}{y\\left(x\\right)^{2} + 2}}}{{\\left(y\\left(x\\right)^{2} + 2\\right)}^{2} y\\left(x\\right)^{2}}\\right)}^{\\frac{2}{3}} - 2 \\, {\\left(4 \\, y\\left(x\\right)^{5} + 19 \\, y\\left(x\\right)^{4} - 2 \\, y\\left(x\\right)^{3} + 38 \\, y\\left(x\\right)^{2} - 20 \\, y\\left(x\\right)\\right)} {\\left(\\frac{108 \\, {\\left(4 \\, y\\left(x\\right)^{3} + 19 \\, y\\left(x\\right)^{2} - 10 \\, y\\left(x\\right) + 2\\right)}}{y\\left(x\\right)^{6} + 4 \\, y\\left(x\\right)^{4} + 4 \\, y\\left(x\\right)^{2}} + \\frac{{\\left(4 \\, y\\left(x\\right)^{2} + 19 \\, y\\left(x\\right) - 10\\right)}^{3}}{{\\left(y\\left(x\\right)^{2} + 2\\right)}^{3}} - \\frac{36 \\, {\\left(4 \\, y\\left(x\\right)^{2} + 19 \\, y\\left(x\\right) - 10\\right)}}{{\\left(y\\left(x\\right)^{3} + 2 \\, y\\left(x\\right)\\right)} {\\left(y\\left(x\\right)^{2} + 2\\right)}} + \\frac{36 \\, \\sqrt{\\frac{1}{6}} \\sqrt{\\frac{256 \\, y\\left(x\\right)^{11} + 4864 \\, y\\left(x\\right)^{10} + 32096 \\, y\\left(x\\right)^{9} + 73648 \\, y\\left(x\\right)^{8} - 29103 \\, y\\left(x\\right)^{7} - 170448 \\, y\\left(x\\right)^{6} + 204622 \\, y\\left(x\\right)^{5} - 81932 \\, y\\left(x\\right)^{4} + 9208 \\, y\\left(x\\right)^{3} + 6888 \\, y\\left(x\\right)^{2} - 2624 \\, y\\left(x\\right) + 432}{y\\left(x\\right)^{2} + 2}}}{{\\left(y\\left(x\\right)^{2} + 2\\right)}^{2} y\\left(x\\right)^{2}}\\right)}^{\\frac{1}{3}} + 100 \\, y\\left(x\\right) - 48}{{\\left(\\frac{108 \\, {\\left(4 \\, y\\left(x\\right)^{3} + 19 \\, y\\left(x\\right)^{2} - 10 \\, y\\left(x\\right) + 2\\right)}}{y\\left(x\\right)^{6} + 4 \\, y\\left(x\\right)^{4} + 4 \\, y\\left(x\\right)^{2}} + \\frac{{\\left(4 \\, y\\left(x\\right)^{2} + 19 \\, y\\left(x\\right) - 10\\right)}^{3}}{{\\left(y\\left(x\\right)^{2} + 2\\right)}^{3}} - \\frac{36 \\, {\\left(4 \\, y\\left(x\\right)^{2} + 19 \\, y\\left(x\\right) - 10\\right)}}{{\\left(y\\left(x\\right)^{3} + 2 \\, y\\left(x\\right)\\right)} {\\left(y\\left(x\\right)^{2} + 2\\right)}} + \\frac{36 \\, \\sqrt{\\frac{1}{6}} \\sqrt{\\frac{256 \\, y\\left(x\\right)^{11} + 4864 \\, y\\left(x\\right)^{10} + 32096 \\, y\\left(x\\right)^{9} + 73648 \\, y\\left(x\\right)^{8} - 29103 \\, y\\left(x\\right)^{7} - 170448 \\, y\\left(x\\right)^{6} + 204622 \\, y\\left(x\\right)^{5} - 81932 \\, y\\left(x\\right)^{4} + 9208 \\, y\\left(x\\right)^{3} + 6888 \\, y\\left(x\\right)^{2} - 2624 \\, y\\left(x\\right) + 432}{y\\left(x\\right)^{2} + 2}}}{{\\left(y\\left(x\\right)^{2} + 2\\right)}^{2} y\\left(x\\right)^{2}}\\right)}^{\\frac{1}{3}} y\\left(x\\right)}}}} + \\frac{\\sqrt{3} \\sqrt{\\frac{16 \\, y\\left(x\\right)^{5} + 152 \\, y\\left(x\\right)^{4} + 281 \\, y\\left(x\\right)^{3} - 404 \\, y\\left(x\\right)^{2} + {\\left(y\\left(x\\right)^{5} + 4 \\, y\\left(x\\right)^{3} + 4 \\, y\\left(x\\right)\\right)} {\\left(\\frac{108 \\, {\\left(4 \\, y\\left(x\\right)^{3} + 19 \\, y\\left(x\\right)^{2} - 10 \\, y\\left(x\\right) + 2\\right)}}{y\\left(x\\right)^{6} + 4 \\, y\\left(x\\right)^{4} + 4 \\, y\\left(x\\right)^{2}} + \\frac{{\\left(4 \\, y\\left(x\\right)^{2} + 19 \\, y\\left(x\\right) - 10\\right)}^{3}}{{\\left(y\\left(x\\right)^{2} + 2\\right)}^{3}} - \\frac{36 \\, {\\left(4 \\, y\\left(x\\right)^{2} + 19 \\, y\\left(x\\right) - 10\\right)}}{{\\left(y\\left(x\\right)^{3} + 2 \\, y\\left(x\\right)\\right)} {\\left(y\\left(x\\right)^{2} + 2\\right)}} + \\frac{36 \\, \\sqrt{\\frac{1}{6}} \\sqrt{\\frac{256 \\, y\\left(x\\right)^{11} + 4864 \\, y\\left(x\\right)^{10} + 32096 \\, y\\left(x\\right)^{9} + 73648 \\, y\\left(x\\right)^{8} - 29103 \\, y\\left(x\\right)^{7} - 170448 \\, y\\left(x\\right)^{6} + 204622 \\, y\\left(x\\right)^{5} - 81932 \\, y\\left(x\\right)^{4} + 9208 \\, y\\left(x\\right)^{3} + 6888 \\, y\\left(x\\right)^{2} - 2624 \\, y\\left(x\\right) + 432}{y\\left(x\\right)^{2} + 2}}}{{\\left(y\\left(x\\right)^{2} + 2\\right)}^{2} y\\left(x\\right)^{2}}\\right)}^{\\frac{2}{3}} - 2 \\, {\\left(4 \\, y\\left(x\\right)^{5} + 19 \\, y\\left(x\\right)^{4} - 2 \\, y\\left(x\\right)^{3} + 38 \\, y\\left(x\\right)^{2} - 20 \\, y\\left(x\\right)\\right)} {\\left(\\frac{108 \\, {\\left(4 \\, y\\left(x\\right)^{3} + 19 \\, y\\left(x\\right)^{2} - 10 \\, y\\left(x\\right) + 2\\right)}}{y\\left(x\\right)^{6} + 4 \\, y\\left(x\\right)^{4} + 4 \\, y\\left(x\\right)^{2}} + \\frac{{\\left(4 \\, y\\left(x\\right)^{2} + 19 \\, y\\left(x\\right) - 10\\right)}^{3}}{{\\left(y\\left(x\\right)^{2} + 2\\right)}^{3}} - \\frac{36 \\, {\\left(4 \\, y\\left(x\\right)^{2} + 19 \\, y\\left(x\\right) - 10\\right)}}{{\\left(y\\left(x\\right)^{3} + 2 \\, y\\left(x\\right)\\right)} {\\left(y\\left(x\\right)^{2} + 2\\right)}} + \\frac{36 \\, \\sqrt{\\frac{1}{6}} \\sqrt{\\frac{256 \\, y\\left(x\\right)^{11} + 4864 \\, y\\left(x\\right)^{10} + 32096 \\, y\\left(x\\right)^{9} + 73648 \\, y\\left(x\\right)^{8} - 29103 \\, y\\left(x\\right)^{7} - 170448 \\, y\\left(x\\right)^{6} + 204622 \\, y\\left(x\\right)^{5} - 81932 \\, y\\left(x\\right)^{4} + 9208 \\, y\\left(x\\right)^{3} + 6888 \\, y\\left(x\\right)^{2} - 2624 \\, y\\left(x\\right) + 432}{y\\left(x\\right)^{2} + 2}}}{{\\left(y\\left(x\\right)^{2} + 2\\right)}^{2} y\\left(x\\right)^{2}}\\right)}^{\\frac{1}{3}} + 100 \\, y\\left(x\\right) - 48}{{\\left(\\frac{108 \\, {\\left(4 \\, y\\left(x\\right)^{3} + 19 \\, y\\left(x\\right)^{2} - 10 \\, y\\left(x\\right) + 2\\right)}}{y\\left(x\\right)^{6} + 4 \\, y\\left(x\\right)^{4} + 4 \\, y\\left(x\\right)^{2}} + \\frac{{\\left(4 \\, y\\left(x\\right)^{2} + 19 \\, y\\left(x\\right) - 10\\right)}^{3}}{{\\left(y\\left(x\\right)^{2} + 2\\right)}^{3}} - \\frac{36 \\, {\\left(4 \\, y\\left(x\\right)^{2} + 19 \\, y\\left(x\\right) - 10\\right)}}{{\\left(y\\left(x\\right)^{3} + 2 \\, y\\left(x\\right)\\right)} {\\left(y\\left(x\\right)^{2} + 2\\right)}} + \\frac{36 \\, \\sqrt{\\frac{1}{6}} \\sqrt{\\frac{256 \\, y\\left(x\\right)^{11} + 4864 \\, y\\left(x\\right)^{10} + 32096 \\, y\\left(x\\right)^{9} + 73648 \\, y\\left(x\\right)^{8} - 29103 \\, y\\left(x\\right)^{7} - 170448 \\, y\\left(x\\right)^{6} + 204622 \\, y\\left(x\\right)^{5} - 81932 \\, y\\left(x\\right)^{4} + 9208 \\, y\\left(x\\right)^{3} + 6888 \\, y\\left(x\\right)^{2} - 2624 \\, y\\left(x\\right) + 432}{y\\left(x\\right)^{2} + 2}}}{{\\left(y\\left(x\\right)^{2} + 2\\right)}^{2} y\\left(x\\right)^{2}}\\right)}^{\\frac{1}{3}} y\\left(x\\right)}}}{12 \\, {\\left(y\\left(x\\right)^{2} + 2\\right)}}\\right]$"
      ],
      "text/plain": [
       "[dy_dx == -1/2*sqrt(-1/12*((4*y(x)^2 + 19*y(x) - 10)^2/(y(x)^2 + 2)^2 - 24/(y(x)^3 + 2*y(x)))/(108*(4*y(x)^3 + 19*y(x)^2 - 10*y(x) + 2)/(y(x)^6 + 4*y(x)^4 + 4*y(x)^2) + (4*y(x)^2 + 19*y(x) - 10)^3/(y(x)^2 + 2)^3 - 36*(4*y(x)^2 + 19*y(x) - 10)/((y(x)^3 + 2*y(x))*(y(x)^2 + 2)) + 36*sqrt(1/6)*sqrt((256*y(x)^11 + 4864*y(x)^10 + 32096*y(x)^9 + 73648*y(x)^8 - 29103*y(x)^7 - 170448*y(x)^6 + 204622*y(x)^5 - 81932*y(x)^4 + 9208*y(x)^3 + 6888*y(x)^2 - 2624*y(x) + 432)/(y(x)^2 + 2))/((y(x)^2 + 2)^2*y(x)^2))^(1/3) - 1/12*(108*(4*y(x)^3 + 19*y(x)^2 - 10*y(x) + 2)/(y(x)^6 + 4*y(x)^4 + 4*y(x)^2) + (4*y(x)^2 + 19*y(x) - 10)^3/(y(x)^2 + 2)^3 - 36*(4*y(x)^2 + 19*y(x) - 10)/((y(x)^3 + 2*y(x))*(y(x)^2 + 2)) + 36*sqrt(1/6)*sqrt((256*y(x)^11 + 4864*y(x)^10 + 32096*y(x)^9 + 73648*y(x)^8 - 29103*y(x)^7 - 170448*y(x)^6 + 204622*y(x)^5 - 81932*y(x)^4 + 9208*y(x)^3 + 6888*y(x)^2 - 2624*y(x) + 432)/(y(x)^2 + 2))/((y(x)^2 + 2)^2*y(x)^2))^(1/3) - 1/3*(4*y(x)^2 + 19*y(x) - 10)/(y(x)^2 + 2) + 2*sqrt(3)*(y(x)^2 + 2)/((y(x)^3 + 2*y(x))*sqrt((16*y(x)^5 + 152*y(x)^4 + 281*y(x)^3 - 404*y(x)^2 + (y(x)^5 + 4*y(x)^3 + 4*y(x))*(108*(4*y(x)^3 + 19*y(x)^2 - 10*y(x) + 2)/(y(x)^6 + 4*y(x)^4 + 4*y(x)^2) + (4*y(x)^2 + 19*y(x) - 10)^3/(y(x)^2 + 2)^3 - 36*(4*y(x)^2 + 19*y(x) - 10)/((y(x)^3 + 2*y(x))*(y(x)^2 + 2)) + 36*sqrt(1/6)*sqrt((256*y(x)^11 + 4864*y(x)^10 + 32096*y(x)^9 + 73648*y(x)^8 - 29103*y(x)^7 - 170448*y(x)^6 + 204622*y(x)^5 - 81932*y(x)^4 + 9208*y(x)^3 + 6888*y(x)^2 - 2624*y(x) + 432)/(y(x)^2 + 2))/((y(x)^2 + 2)^2*y(x)^2))^(2/3) - 2*(4*y(x)^5 + 19*y(x)^4 - 2*y(x)^3 + 38*y(x)^2 - 20*y(x))*(108*(4*y(x)^3 + 19*y(x)^2 - 10*y(x) + 2)/(y(x)^6 + 4*y(x)^4 + 4*y(x)^2) + (4*y(x)^2 + 19*y(x) - 10)^3/(y(x)^2 + 2)^3 - 36*(4*y(x)^2 + 19*y(x) - 10)/((y(x)^3 + 2*y(x))*(y(x)^2 + 2)) + 36*sqrt(1/6)*sqrt((256*y(x)^11 + 4864*y(x)^10 + 32096*y(x)^9 + 73648*y(x)^8 - 29103*y(x)^7 - 170448*y(x)^6 + 204622*y(x)^5 - 81932*y(x)^4 + 9208*y(x)^3 + 6888*y(x)^2 - 2624*y(x) + 432)/(y(x)^2 + 2))/((y(x)^2 + 2)^2*y(x)^2))^(1/3) + 100*y(x) - 48)/((108*(4*y(x)^3 + 19*y(x)^2 - 10*y(x) + 2)/(y(x)^6 + 4*y(x)^4 + 4*y(x)^2) + (4*y(x)^2 + 19*y(x) - 10)^3/(y(x)^2 + 2)^3 - 36*(4*y(x)^2 + 19*y(x) - 10)/((y(x)^3 + 2*y(x))*(y(x)^2 + 2)) + 36*sqrt(1/6)*sqrt((256*y(x)^11 + 4864*y(x)^10 + 32096*y(x)^9 + 73648*y(x)^8 - 29103*y(x)^7 - 170448*y(x)^6 + 204622*y(x)^5 - 81932*y(x)^4 + 9208*y(x)^3 + 6888*y(x)^2 - 2624*y(x) + 432)/(y(x)^2 + 2))/((y(x)^2 + 2)^2*y(x)^2))^(1/3)*y(x))))) - 1/12*sqrt(3)*sqrt((16*y(x)^5 + 152*y(x)^4 + 281*y(x)^3 - 404*y(x)^2 + (y(x)^5 + 4*y(x)^3 + 4*y(x))*(108*(4*y(x)^3 + 19*y(x)^2 - 10*y(x) + 2)/(y(x)^6 + 4*y(x)^4 + 4*y(x)^2) + (4*y(x)^2 + 19*y(x) - 10)^3/(y(x)^2 + 2)^3 - 36*(4*y(x)^2 + 19*y(x) - 10)/((y(x)^3 + 2*y(x))*(y(x)^2 + 2)) + 36*sqrt(1/6)*sqrt((256*y(x)^11 + 4864*y(x)^10 + 32096*y(x)^9 + 73648*y(x)^8 - 29103*y(x)^7 - 170448*y(x)^6 + 204622*y(x)^5 - 81932*y(x)^4 + 9208*y(x)^3 + 6888*y(x)^2 - 2624*y(x) + 432)/(y(x)^2 + 2))/((y(x)^2 + 2)^2*y(x)^2))^(2/3) - 2*(4*y(x)^5 + 19*y(x)^4 - 2*y(x)^3 + 38*y(x)^2 - 20*y(x))*(108*(4*y(x)^3 + 19*y(x)^2 - 10*y(x) + 2)/(y(x)^6 + 4*y(x)^4 + 4*y(x)^2) + (4*y(x)^2 + 19*y(x) - 10)^3/(y(x)^2 + 2)^3 - 36*(4*y(x)^2 + 19*y(x) - 10)/((y(x)^3 + 2*y(x))*(y(x)^2 + 2)) + 36*sqrt(1/6)*sqrt((256*y(x)^11 + 4864*y(x)^10 + 32096*y(x)^9 + 73648*y(x)^8 - 29103*y(x)^7 - 170448*y(x)^6 + 204622*y(x)^5 - 81932*y(x)^4 + 9208*y(x)^3 + 6888*y(x)^2 - 2624*y(x) + 432)/(y(x)^2 + 2))/((y(x)^2 + 2)^2*y(x)^2))^(1/3) + 100*y(x) - 48)/((108*(4*y(x)^3 + 19*y(x)^2 - 10*y(x) + 2)/(y(x)^6 + 4*y(x)^4 + 4*y(x)^2) + (4*y(x)^2 + 19*y(x) - 10)^3/(y(x)^2 + 2)^3 - 36*(4*y(x)^2 + 19*y(x) - 10)/((y(x)^3 + 2*y(x))*(y(x)^2 + 2)) + 36*sqrt(1/6)*sqrt((256*y(x)^11 + 4864*y(x)^10 + 32096*y(x)^9 + 73648*y(x)^8 - 29103*y(x)^7 - 170448*y(x)^6 + 204622*y(x)^5 - 81932*y(x)^4 + 9208*y(x)^3 + 6888*y(x)^2 - 2624*y(x) + 432)/(y(x)^2 + 2))/((y(x)^2 + 2)^2*y(x)^2))^(1/3)*y(x)))/(y(x)^2 + 2), dy_dx == 1/2*sqrt(-1/12*((4*y(x)^2 + 19*y(x) - 10)^2/(y(x)^2 + 2)^2 - 24/(y(x)^3 + 2*y(x)))/(108*(4*y(x)^3 + 19*y(x)^2 - 10*y(x) + 2)/(y(x)^6 + 4*y(x)^4 + 4*y(x)^2) + (4*y(x)^2 + 19*y(x) - 10)^3/(y(x)^2 + 2)^3 - 36*(4*y(x)^2 + 19*y(x) - 10)/((y(x)^3 + 2*y(x))*(y(x)^2 + 2)) + 36*sqrt(1/6)*sqrt((256*y(x)^11 + 4864*y(x)^10 + 32096*y(x)^9 + 73648*y(x)^8 - 29103*y(x)^7 - 170448*y(x)^6 + 204622*y(x)^5 - 81932*y(x)^4 + 9208*y(x)^3 + 6888*y(x)^2 - 2624*y(x) + 432)/(y(x)^2 + 2))/((y(x)^2 + 2)^2*y(x)^2))^(1/3) - 1/12*(108*(4*y(x)^3 + 19*y(x)^2 - 10*y(x) + 2)/(y(x)^6 + 4*y(x)^4 + 4*y(x)^2) + (4*y(x)^2 + 19*y(x) - 10)^3/(y(x)^2 + 2)^3 - 36*(4*y(x)^2 + 19*y(x) - 10)/((y(x)^3 + 2*y(x))*(y(x)^2 + 2)) + 36*sqrt(1/6)*sqrt((256*y(x)^11 + 4864*y(x)^10 + 32096*y(x)^9 + 73648*y(x)^8 - 29103*y(x)^7 - 170448*y(x)^6 + 204622*y(x)^5 - 81932*y(x)^4 + 9208*y(x)^3 + 6888*y(x)^2 - 2624*y(x) + 432)/(y(x)^2 + 2))/((y(x)^2 + 2)^2*y(x)^2))^(1/3) - 1/3*(4*y(x)^2 + 19*y(x) - 10)/(y(x)^2 + 2) + 2*sqrt(3)*(y(x)^2 + 2)/((y(x)^3 + 2*y(x))*sqrt((16*y(x)^5 + 152*y(x)^4 + 281*y(x)^3 - 404*y(x)^2 + (y(x)^5 + 4*y(x)^3 + 4*y(x))*(108*(4*y(x)^3 + 19*y(x)^2 - 10*y(x) + 2)/(y(x)^6 + 4*y(x)^4 + 4*y(x)^2) + (4*y(x)^2 + 19*y(x) - 10)^3/(y(x)^2 + 2)^3 - 36*(4*y(x)^2 + 19*y(x) - 10)/((y(x)^3 + 2*y(x))*(y(x)^2 + 2)) + 36*sqrt(1/6)*sqrt((256*y(x)^11 + 4864*y(x)^10 + 32096*y(x)^9 + 73648*y(x)^8 - 29103*y(x)^7 - 170448*y(x)^6 + 204622*y(x)^5 - 81932*y(x)^4 + 9208*y(x)^3 + 6888*y(x)^2 - 2624*y(x) + 432)/(y(x)^2 + 2))/((y(x)^2 + 2)^2*y(x)^2))^(2/3) - 2*(4*y(x)^5 + 19*y(x)^4 - 2*y(x)^3 + 38*y(x)^2 - 20*y(x))*(108*(4*y(x)^3 + 19*y(x)^2 - 10*y(x) + 2)/(y(x)^6 + 4*y(x)^4 + 4*y(x)^2) + (4*y(x)^2 + 19*y(x) - 10)^3/(y(x)^2 + 2)^3 - 36*(4*y(x)^2 + 19*y(x) - 10)/((y(x)^3 + 2*y(x))*(y(x)^2 + 2)) + 36*sqrt(1/6)*sqrt((256*y(x)^11 + 4864*y(x)^10 + 32096*y(x)^9 + 73648*y(x)^8 - 29103*y(x)^7 - 170448*y(x)^6 + 204622*y(x)^5 - 81932*y(x)^4 + 9208*y(x)^3 + 6888*y(x)^2 - 2624*y(x) + 432)/(y(x)^2 + 2))/((y(x)^2 + 2)^2*y(x)^2))^(1/3) + 100*y(x) - 48)/((108*(4*y(x)^3 + 19*y(x)^2 - 10*y(x) + 2)/(y(x)^6 + 4*y(x)^4 + 4*y(x)^2) + (4*y(x)^2 + 19*y(x) - 10)^3/(y(x)^2 + 2)^3 - 36*(4*y(x)^2 + 19*y(x) - 10)/((y(x)^3 + 2*y(x))*(y(x)^2 + 2)) + 36*sqrt(1/6)*sqrt((256*y(x)^11 + 4864*y(x)^10 + 32096*y(x)^9 + 73648*y(x)^8 - 29103*y(x)^7 - 170448*y(x)^6 + 204622*y(x)^5 - 81932*y(x)^4 + 9208*y(x)^3 + 6888*y(x)^2 - 2624*y(x) + 432)/(y(x)^2 + 2))/((y(x)^2 + 2)^2*y(x)^2))^(1/3)*y(x))))) - 1/12*sqrt(3)*sqrt((16*y(x)^5 + 152*y(x)^4 + 281*y(x)^3 - 404*y(x)^2 + (y(x)^5 + 4*y(x)^3 + 4*y(x))*(108*(4*y(x)^3 + 19*y(x)^2 - 10*y(x) + 2)/(y(x)^6 + 4*y(x)^4 + 4*y(x)^2) + (4*y(x)^2 + 19*y(x) - 10)^3/(y(x)^2 + 2)^3 - 36*(4*y(x)^2 + 19*y(x) - 10)/((y(x)^3 + 2*y(x))*(y(x)^2 + 2)) + 36*sqrt(1/6)*sqrt((256*y(x)^11 + 4864*y(x)^10 + 32096*y(x)^9 + 73648*y(x)^8 - 29103*y(x)^7 - 170448*y(x)^6 + 204622*y(x)^5 - 81932*y(x)^4 + 9208*y(x)^3 + 6888*y(x)^2 - 2624*y(x) + 432)/(y(x)^2 + 2))/((y(x)^2 + 2)^2*y(x)^2))^(2/3) - 2*(4*y(x)^5 + 19*y(x)^4 - 2*y(x)^3 + 38*y(x)^2 - 20*y(x))*(108*(4*y(x)^3 + 19*y(x)^2 - 10*y(x) + 2)/(y(x)^6 + 4*y(x)^4 + 4*y(x)^2) + (4*y(x)^2 + 19*y(x) - 10)^3/(y(x)^2 + 2)^3 - 36*(4*y(x)^2 + 19*y(x) - 10)/((y(x)^3 + 2*y(x))*(y(x)^2 + 2)) + 36*sqrt(1/6)*sqrt((256*y(x)^11 + 4864*y(x)^10 + 32096*y(x)^9 + 73648*y(x)^8 - 29103*y(x)^7 - 170448*y(x)^6 + 204622*y(x)^5 - 81932*y(x)^4 + 9208*y(x)^3 + 6888*y(x)^2 - 2624*y(x) + 432)/(y(x)^2 + 2))/((y(x)^2 + 2)^2*y(x)^2))^(1/3) + 100*y(x) - 48)/((108*(4*y(x)^3 + 19*y(x)^2 - 10*y(x) + 2)/(y(x)^6 + 4*y(x)^4 + 4*y(x)^2) + (4*y(x)^2 + 19*y(x) - 10)^3/(y(x)^2 + 2)^3 - 36*(4*y(x)^2 + 19*y(x) - 10)/((y(x)^3 + 2*y(x))*(y(x)^2 + 2)) + 36*sqrt(1/6)*sqrt((256*y(x)^11 + 4864*y(x)^10 + 32096*y(x)^9 + 73648*y(x)^8 - 29103*y(x)^7 - 170448*y(x)^6 + 204622*y(x)^5 - 81932*y(x)^4 + 9208*y(x)^3 + 6888*y(x)^2 - 2624*y(x) + 432)/(y(x)^2 + 2))/((y(x)^2 + 2)^2*y(x)^2))^(1/3)*y(x)))/(y(x)^2 + 2), dy_dx == -1/2*sqrt(-1/12*((4*y(x)^2 + 19*y(x) - 10)^2/(y(x)^2 + 2)^2 - 24/(y(x)^3 + 2*y(x)))/(108*(4*y(x)^3 + 19*y(x)^2 - 10*y(x) + 2)/(y(x)^6 + 4*y(x)^4 + 4*y(x)^2) + (4*y(x)^2 + 19*y(x) - 10)^3/(y(x)^2 + 2)^3 - 36*(4*y(x)^2 + 19*y(x) - 10)/((y(x)^3 + 2*y(x))*(y(x)^2 + 2)) + 36*sqrt(1/6)*sqrt((256*y(x)^11 + 4864*y(x)^10 + 32096*y(x)^9 + 73648*y(x)^8 - 29103*y(x)^7 - 170448*y(x)^6 + 204622*y(x)^5 - 81932*y(x)^4 + 9208*y(x)^3 + 6888*y(x)^2 - 2624*y(x) + 432)/(y(x)^2 + 2))/((y(x)^2 + 2)^2*y(x)^2))^(1/3) - 1/12*(108*(4*y(x)^3 + 19*y(x)^2 - 10*y(x) + 2)/(y(x)^6 + 4*y(x)^4 + 4*y(x)^2) + (4*y(x)^2 + 19*y(x) - 10)^3/(y(x)^2 + 2)^3 - 36*(4*y(x)^2 + 19*y(x) - 10)/((y(x)^3 + 2*y(x))*(y(x)^2 + 2)) + 36*sqrt(1/6)*sqrt((256*y(x)^11 + 4864*y(x)^10 + 32096*y(x)^9 + 73648*y(x)^8 - 29103*y(x)^7 - 170448*y(x)^6 + 204622*y(x)^5 - 81932*y(x)^4 + 9208*y(x)^3 + 6888*y(x)^2 - 2624*y(x) + 432)/(y(x)^2 + 2))/((y(x)^2 + 2)^2*y(x)^2))^(1/3) - 1/3*(4*y(x)^2 + 19*y(x) - 10)/(y(x)^2 + 2) - 2*sqrt(3)*(y(x)^2 + 2)/((y(x)^3 + 2*y(x))*sqrt((16*y(x)^5 + 152*y(x)^4 + 281*y(x)^3 - 404*y(x)^2 + (y(x)^5 + 4*y(x)^3 + 4*y(x))*(108*(4*y(x)^3 + 19*y(x)^2 - 10*y(x) + 2)/(y(x)^6 + 4*y(x)^4 + 4*y(x)^2) + (4*y(x)^2 + 19*y(x) - 10)^3/(y(x)^2 + 2)^3 - 36*(4*y(x)^2 + 19*y(x) - 10)/((y(x)^3 + 2*y(x))*(y(x)^2 + 2)) + 36*sqrt(1/6)*sqrt((256*y(x)^11 + 4864*y(x)^10 + 32096*y(x)^9 + 73648*y(x)^8 - 29103*y(x)^7 - 170448*y(x)^6 + 204622*y(x)^5 - 81932*y(x)^4 + 9208*y(x)^3 + 6888*y(x)^2 - 2624*y(x) + 432)/(y(x)^2 + 2))/((y(x)^2 + 2)^2*y(x)^2))^(2/3) - 2*(4*y(x)^5 + 19*y(x)^4 - 2*y(x)^3 + 38*y(x)^2 - 20*y(x))*(108*(4*y(x)^3 + 19*y(x)^2 - 10*y(x) + 2)/(y(x)^6 + 4*y(x)^4 + 4*y(x)^2) + (4*y(x)^2 + 19*y(x) - 10)^3/(y(x)^2 + 2)^3 - 36*(4*y(x)^2 + 19*y(x) - 10)/((y(x)^3 + 2*y(x))*(y(x)^2 + 2)) + 36*sqrt(1/6)*sqrt((256*y(x)^11 + 4864*y(x)^10 + 32096*y(x)^9 + 73648*y(x)^8 - 29103*y(x)^7 - 170448*y(x)^6 + 204622*y(x)^5 - 81932*y(x)^4 + 9208*y(x)^3 + 6888*y(x)^2 - 2624*y(x) + 432)/(y(x)^2 + 2))/((y(x)^2 + 2)^2*y(x)^2))^(1/3) + 100*y(x) - 48)/((108*(4*y(x)^3 + 19*y(x)^2 - 10*y(x) + 2)/(y(x)^6 + 4*y(x)^4 + 4*y(x)^2) + (4*y(x)^2 + 19*y(x) - 10)^3/(y(x)^2 + 2)^3 - 36*(4*y(x)^2 + 19*y(x) - 10)/((y(x)^3 + 2*y(x))*(y(x)^2 + 2)) + 36*sqrt(1/6)*sqrt((256*y(x)^11 + 4864*y(x)^10 + 32096*y(x)^9 + 73648*y(x)^8 - 29103*y(x)^7 - 170448*y(x)^6 + 204622*y(x)^5 - 81932*y(x)^4 + 9208*y(x)^3 + 6888*y(x)^2 - 2624*y(x) + 432)/(y(x)^2 + 2))/((y(x)^2 + 2)^2*y(x)^2))^(1/3)*y(x))))) + 1/12*sqrt(3)*sqrt((16*y(x)^5 + 152*y(x)^4 + 281*y(x)^3 - 404*y(x)^2 + (y(x)^5 + 4*y(x)^3 + 4*y(x))*(108*(4*y(x)^3 + 19*y(x)^2 - 10*y(x) + 2)/(y(x)^6 + 4*y(x)^4 + 4*y(x)^2) + (4*y(x)^2 + 19*y(x) - 10)^3/(y(x)^2 + 2)^3 - 36*(4*y(x)^2 + 19*y(x) - 10)/((y(x)^3 + 2*y(x))*(y(x)^2 + 2)) + 36*sqrt(1/6)*sqrt((256*y(x)^11 + 4864*y(x)^10 + 32096*y(x)^9 + 73648*y(x)^8 - 29103*y(x)^7 - 170448*y(x)^6 + 204622*y(x)^5 - 81932*y(x)^4 + 9208*y(x)^3 + 6888*y(x)^2 - 2624*y(x) + 432)/(y(x)^2 + 2))/((y(x)^2 + 2)^2*y(x)^2))^(2/3) - 2*(4*y(x)^5 + 19*y(x)^4 - 2*y(x)^3 + 38*y(x)^2 - 20*y(x))*(108*(4*y(x)^3 + 19*y(x)^2 - 10*y(x) + 2)/(y(x)^6 + 4*y(x)^4 + 4*y(x)^2) + (4*y(x)^2 + 19*y(x) - 10)^3/(y(x)^2 + 2)^3 - 36*(4*y(x)^2 + 19*y(x) - 10)/((y(x)^3 + 2*y(x))*(y(x)^2 + 2)) + 36*sqrt(1/6)*sqrt((256*y(x)^11 + 4864*y(x)^10 + 32096*y(x)^9 + 73648*y(x)^8 - 29103*y(x)^7 - 170448*y(x)^6 + 204622*y(x)^5 - 81932*y(x)^4 + 9208*y(x)^3 + 6888*y(x)^2 - 2624*y(x) + 432)/(y(x)^2 + 2))/((y(x)^2 + 2)^2*y(x)^2))^(1/3) + 100*y(x) - 48)/((108*(4*y(x)^3 + 19*y(x)^2 - 10*y(x) + 2)/(y(x)^6 + 4*y(x)^4 + 4*y(x)^2) + (4*y(x)^2 + 19*y(x) - 10)^3/(y(x)^2 + 2)^3 - 36*(4*y(x)^2 + 19*y(x) - 10)/((y(x)^3 + 2*y(x))*(y(x)^2 + 2)) + 36*sqrt(1/6)*sqrt((256*y(x)^11 + 4864*y(x)^10 + 32096*y(x)^9 + 73648*y(x)^8 - 29103*y(x)^7 - 170448*y(x)^6 + 204622*y(x)^5 - 81932*y(x)^4 + 9208*y(x)^3 + 6888*y(x)^2 - 2624*y(x) + 432)/(y(x)^2 + 2))/((y(x)^2 + 2)^2*y(x)^2))^(1/3)*y(x)))/(y(x)^2 + 2), dy_dx == 1/2*sqrt(-1/12*((4*y(x)^2 + 19*y(x) - 10)^2/(y(x)^2 + 2)^2 - 24/(y(x)^3 + 2*y(x)))/(108*(4*y(x)^3 + 19*y(x)^2 - 10*y(x) + 2)/(y(x)^6 + 4*y(x)^4 + 4*y(x)^2) + (4*y(x)^2 + 19*y(x) - 10)^3/(y(x)^2 + 2)^3 - 36*(4*y(x)^2 + 19*y(x) - 10)/((y(x)^3 + 2*y(x))*(y(x)^2 + 2)) + 36*sqrt(1/6)*sqrt((256*y(x)^11 + 4864*y(x)^10 + 32096*y(x)^9 + 73648*y(x)^8 - 29103*y(x)^7 - 170448*y(x)^6 + 204622*y(x)^5 - 81932*y(x)^4 + 9208*y(x)^3 + 6888*y(x)^2 - 2624*y(x) + 432)/(y(x)^2 + 2))/((y(x)^2 + 2)^2*y(x)^2))^(1/3) - 1/12*(108*(4*y(x)^3 + 19*y(x)^2 - 10*y(x) + 2)/(y(x)^6 + 4*y(x)^4 + 4*y(x)^2) + (4*y(x)^2 + 19*y(x) - 10)^3/(y(x)^2 + 2)^3 - 36*(4*y(x)^2 + 19*y(x) - 10)/((y(x)^3 + 2*y(x))*(y(x)^2 + 2)) + 36*sqrt(1/6)*sqrt((256*y(x)^11 + 4864*y(x)^10 + 32096*y(x)^9 + 73648*y(x)^8 - 29103*y(x)^7 - 170448*y(x)^6 + 204622*y(x)^5 - 81932*y(x)^4 + 9208*y(x)^3 + 6888*y(x)^2 - 2624*y(x) + 432)/(y(x)^2 + 2))/((y(x)^2 + 2)^2*y(x)^2))^(1/3) - 1/3*(4*y(x)^2 + 19*y(x) - 10)/(y(x)^2 + 2) - 2*sqrt(3)*(y(x)^2 + 2)/((y(x)^3 + 2*y(x))*sqrt((16*y(x)^5 + 152*y(x)^4 + 281*y(x)^3 - 404*y(x)^2 + (y(x)^5 + 4*y(x)^3 + 4*y(x))*(108*(4*y(x)^3 + 19*y(x)^2 - 10*y(x) + 2)/(y(x)^6 + 4*y(x)^4 + 4*y(x)^2) + (4*y(x)^2 + 19*y(x) - 10)^3/(y(x)^2 + 2)^3 - 36*(4*y(x)^2 + 19*y(x) - 10)/((y(x)^3 + 2*y(x))*(y(x)^2 + 2)) + 36*sqrt(1/6)*sqrt((256*y(x)^11 + 4864*y(x)^10 + 32096*y(x)^9 + 73648*y(x)^8 - 29103*y(x)^7 - 170448*y(x)^6 + 204622*y(x)^5 - 81932*y(x)^4 + 9208*y(x)^3 + 6888*y(x)^2 - 2624*y(x) + 432)/(y(x)^2 + 2))/((y(x)^2 + 2)^2*y(x)^2))^(2/3) - 2*(4*y(x)^5 + 19*y(x)^4 - 2*y(x)^3 + 38*y(x)^2 - 20*y(x))*(108*(4*y(x)^3 + 19*y(x)^2 - 10*y(x) + 2)/(y(x)^6 + 4*y(x)^4 + 4*y(x)^2) + (4*y(x)^2 + 19*y(x) - 10)^3/(y(x)^2 + 2)^3 - 36*(4*y(x)^2 + 19*y(x) - 10)/((y(x)^3 + 2*y(x))*(y(x)^2 + 2)) + 36*sqrt(1/6)*sqrt((256*y(x)^11 + 4864*y(x)^10 + 32096*y(x)^9 + 73648*y(x)^8 - 29103*y(x)^7 - 170448*y(x)^6 + 204622*y(x)^5 - 81932*y(x)^4 + 9208*y(x)^3 + 6888*y(x)^2 - 2624*y(x) + 432)/(y(x)^2 + 2))/((y(x)^2 + 2)^2*y(x)^2))^(1/3) + 100*y(x) - 48)/((108*(4*y(x)^3 + 19*y(x)^2 - 10*y(x) + 2)/(y(x)^6 + 4*y(x)^4 + 4*y(x)^2) + (4*y(x)^2 + 19*y(x) - 10)^3/(y(x)^2 + 2)^3 - 36*(4*y(x)^2 + 19*y(x) - 10)/((y(x)^3 + 2*y(x))*(y(x)^2 + 2)) + 36*sqrt(1/6)*sqrt((256*y(x)^11 + 4864*y(x)^10 + 32096*y(x)^9 + 73648*y(x)^8 - 29103*y(x)^7 - 170448*y(x)^6 + 204622*y(x)^5 - 81932*y(x)^4 + 9208*y(x)^3 + 6888*y(x)^2 - 2624*y(x) + 432)/(y(x)^2 + 2))/((y(x)^2 + 2)^2*y(x)^2))^(1/3)*y(x))))) + 1/12*sqrt(3)*sqrt((16*y(x)^5 + 152*y(x)^4 + 281*y(x)^3 - 404*y(x)^2 + (y(x)^5 + 4*y(x)^3 + 4*y(x))*(108*(4*y(x)^3 + 19*y(x)^2 - 10*y(x) + 2)/(y(x)^6 + 4*y(x)^4 + 4*y(x)^2) + (4*y(x)^2 + 19*y(x) - 10)^3/(y(x)^2 + 2)^3 - 36*(4*y(x)^2 + 19*y(x) - 10)/((y(x)^3 + 2*y(x))*(y(x)^2 + 2)) + 36*sqrt(1/6)*sqrt((256*y(x)^11 + 4864*y(x)^10 + 32096*y(x)^9 + 73648*y(x)^8 - 29103*y(x)^7 - 170448*y(x)^6 + 204622*y(x)^5 - 81932*y(x)^4 + 9208*y(x)^3 + 6888*y(x)^2 - 2624*y(x) + 432)/(y(x)^2 + 2))/((y(x)^2 + 2)^2*y(x)^2))^(2/3) - 2*(4*y(x)^5 + 19*y(x)^4 - 2*y(x)^3 + 38*y(x)^2 - 20*y(x))*(108*(4*y(x)^3 + 19*y(x)^2 - 10*y(x) + 2)/(y(x)^6 + 4*y(x)^4 + 4*y(x)^2) + (4*y(x)^2 + 19*y(x) - 10)^3/(y(x)^2 + 2)^3 - 36*(4*y(x)^2 + 19*y(x) - 10)/((y(x)^3 + 2*y(x))*(y(x)^2 + 2)) + 36*sqrt(1/6)*sqrt((256*y(x)^11 + 4864*y(x)^10 + 32096*y(x)^9 + 73648*y(x)^8 - 29103*y(x)^7 - 170448*y(x)^6 + 204622*y(x)^5 - 81932*y(x)^4 + 9208*y(x)^3 + 6888*y(x)^2 - 2624*y(x) + 432)/(y(x)^2 + 2))/((y(x)^2 + 2)^2*y(x)^2))^(1/3) + 100*y(x) - 48)/((108*(4*y(x)^3 + 19*y(x)^2 - 10*y(x) + 2)/(y(x)^6 + 4*y(x)^4 + 4*y(x)^2) + (4*y(x)^2 + 19*y(x) - 10)^3/(y(x)^2 + 2)^3 - 36*(4*y(x)^2 + 19*y(x) - 10)/((y(x)^3 + 2*y(x))*(y(x)^2 + 2)) + 36*sqrt(1/6)*sqrt((256*y(x)^11 + 4864*y(x)^10 + 32096*y(x)^9 + 73648*y(x)^8 - 29103*y(x)^7 - 170448*y(x)^6 + 204622*y(x)^5 - 81932*y(x)^4 + 9208*y(x)^3 + 6888*y(x)^2 - 2624*y(x) + 432)/(y(x)^2 + 2))/((y(x)^2 + 2)^2*y(x)^2))^(1/3)*y(x)))/(y(x)^2 + 2)]"
      ]
     },
     "metadata": {},
     "output_type": "display_data"
    }
   ],
   "source": [
    "dy_dx = var('dy_dx')\n",
    "show(solve([16* y * (dy_dx^4) + 48* y^2 *dy_dx^2+8*y^3*dy_dx^2+8*y^3*dy_dx^4-20*y*dy_dx^2-10*y^2*dy_dx^2 + 4*dy_dx -1==0], dy_dx))"
   ]
  },
  {
   "cell_type": "markdown",
   "id": "de67351e-5b64-4a7c-b32e-7dc59d8b015f",
   "metadata": {},
   "source": [
    "**Activity 2.20**"
   ]
  },
  {
   "cell_type": "markdown",
   "id": "4f5a7aff-6c90-44c3-802f-f96918a7d87c",
   "metadata": {},
   "source": [
    "**Activity 2.21**\n",
    "a) $x^3 - y^3 = 6 xy, (-3,3)$"
   ]
  },
  {
   "cell_type": "code",
   "execution_count": 445,
   "id": "4ca759c2-0b89-498e-842c-761d27209af4",
   "metadata": {},
   "outputs": [
    {
     "data": {
      "text/html": [
       "<html>\\(\\displaystyle 3 \\, x^{2}\\)</html>"
      ],
      "text/latex": [
       "$\\displaystyle 3 \\, x^{2}$"
      ],
      "text/plain": [
       "3*x^2"
      ]
     },
     "metadata": {},
     "output_type": "display_data"
    },
    {
     "data": {
      "text/html": [
       "<html>\\(\\displaystyle -3 \\, y\\left(x\\right)^{2} \\frac{\\partial}{\\partial x}y\\left(x\\right)\\)</html>"
      ],
      "text/latex": [
       "$\\displaystyle -3 \\, y\\left(x\\right)^{2} \\frac{\\partial}{\\partial x}y\\left(x\\right)$"
      ],
      "text/plain": [
       "-3*y(x)^2*diff(y(x), x)"
      ]
     },
     "metadata": {},
     "output_type": "display_data"
    },
    {
     "data": {
      "text/html": [
       "<html>\\(\\displaystyle -6 \\, x \\frac{\\partial}{\\partial x}y\\left(x\\right) - 6 \\, y\\left(x\\right)\\)</html>"
      ],
      "text/latex": [
       "$\\displaystyle -6 \\, x \\frac{\\partial}{\\partial x}y\\left(x\\right) - 6 \\, y\\left(x\\right)$"
      ],
      "text/plain": [
       "-6*x*diff(y(x), x) - 6*y(x)"
      ]
     },
     "metadata": {},
     "output_type": "display_data"
    }
   ],
   "source": [
    "y=function('y')(x)\n",
    "show(diff(x^3, x))\n",
    "show(-1*diff(y^3, x))\n",
    "g= function('g')(x)\n",
    "g=-6*x\n",
    "#show(g(x))\n",
    "#show(diff(g(x),x))\n",
    "show(Product_Rule(g, y, x))\n",
    "#show(g*diff(y,x) + diff(g, x)*y)"
   ]
  },
  {
   "cell_type": "code",
   "execution_count": 446,
   "id": "091dacb9-544a-463b-a6a5-94cab14551a8",
   "metadata": {},
   "outputs": [
    {
     "data": {
      "text/html": [
       "<html>\\(\\displaystyle \\left[\\mathit{dy}_{\\mathit{dx}} = \\frac{x^{2} - 2 \\, y\\left(x\\right)}{y\\left(x\\right)^{2} + 2 \\, x}\\right]\\)</html>"
      ],
      "text/latex": [
       "$\\displaystyle \\left[\\mathit{dy}_{\\mathit{dx}} = \\frac{x^{2} - 2 \\, y\\left(x\\right)}{y\\left(x\\right)^{2} + 2 \\, x}\\right]$"
      ],
      "text/plain": [
       "[dy_dx == (x^2 - 2*y(x))/(y(x)^2 + 2*x)]"
      ]
     },
     "metadata": {},
     "output_type": "display_data"
    }
   ],
   "source": [
    "var('dy_dx')\n",
    "show(solve([3*x^2 -3*y^2*dy_dx -6*x*dy_dx -6*y == 0], dy_dx))"
   ]
  },
  {
   "cell_type": "code",
   "execution_count": 447,
   "id": "7cf19557-f6d2-4137-9840-cb4cd288695f",
   "metadata": {},
   "outputs": [
    {
     "data": {
      "text/html": [
       "<html>\\(\\displaystyle \\frac{x^{2} - 2 \\, y}{y^{2} + 2 \\, x}\\)</html>"
      ],
      "text/latex": [
       "$\\displaystyle \\frac{x^{2} - 2 \\, y}{y^{2} + 2 \\, x}$"
      ],
      "text/plain": [
       "(x^2 - 2*y)/(y^2 + 2*x)"
      ]
     },
     "metadata": {},
     "output_type": "display_data"
    },
    {
     "data": {
      "text/html": [
       "<html>\\(\\displaystyle 1\\)</html>"
      ],
      "text/latex": [
       "$\\displaystyle 1$"
      ],
      "text/plain": [
       "1"
      ]
     },
     "metadata": {},
     "output_type": "display_data"
    }
   ],
   "source": [
    "dy_dx(x,y)=(x^2 - 2*y)/(y^2 + 2*x)\n",
    "show(dy_dx(x,y))\n",
    "show(dy_dx(-3,3))"
   ]
  },
  {
   "cell_type": "code",
   "execution_count": 452,
   "id": "37ed8be5-0c8c-48f4-a9fc-b5310e6b413e",
   "metadata": {},
   "outputs": [
    {
     "data": {
      "text/html": [
       "<html>\\(\\displaystyle \\left[y = -\\frac{3}{2} \\, \\sqrt{5} - \\frac{3}{2}, y = \\frac{3}{2} \\, \\sqrt{5} - \\frac{3}{2}, y = 3\\right]\\)</html>"
      ],
      "text/latex": [
       "$\\displaystyle \\left[y = -\\frac{3}{2} \\, \\sqrt{5} - \\frac{3}{2}, y = \\frac{3}{2} \\, \\sqrt{5} - \\frac{3}{2}, y = 3\\right]$"
      ],
      "text/plain": [
       "[y == -3/2*sqrt(5) - 3/2, y == 3/2*sqrt(5) - 3/2, y == 3]"
      ]
     },
     "metadata": {},
     "output_type": "display_data"
    },
    {
     "data": {
      "text/html": [
       "<html>\\(\\displaystyle x + 6\\)</html>"
      ],
      "text/latex": [
       "$\\displaystyle x + 6$"
      ],
      "text/plain": [
       "x + 6"
      ]
     },
     "metadata": {},
     "output_type": "display_data"
    },
    {
     "data": {
      "image/png": "[encoded data removed]",
      "text/plain": [
       "Graphics object consisting of 1 graphics primitive"
      ]
     },
     "execution_count": 452,
     "metadata": {},
     "output_type": "execute_result"
    }
   ],
   "source": [
    "#f(x,y) = x^3 -y^3\n",
    "\n",
    "show(solve([(-3)^3 - y^3 == 6*(-3)*y], y))\n",
    "L(x) = 1*(x-(-3)) + 3\n",
    "show(L(x))\n",
    "plot(L, (x, -4, 4), aspect_ratio=1)"
   ]
  },
  {
   "cell_type": "markdown",
   "id": "c22c6557-47de-4a75-833d-e81a92b5c874",
   "metadata": {},
   "source": [
    "b) $sin(y) + y = x^3 + x, (0,0)$"
   ]
  },
  {
   "cell_type": "code",
   "execution_count": 456,
   "id": "d11c72c9-6fee-482a-a985-cb311cc4025e",
   "metadata": {},
   "outputs": [
    {
     "data": {
      "text/html": [
       "<html>\\(\\displaystyle \\cos\\left(y\\left(x\\right)\\right) \\frac{\\partial}{\\partial x}y\\left(x\\right)\\)</html>"
      ],
      "text/latex": [
       "$\\displaystyle \\cos\\left(y\\left(x\\right)\\right) \\frac{\\partial}{\\partial x}y\\left(x\\right)$"
      ],
      "text/plain": [
       "cos(y(x))*diff(y(x), x)"
      ]
     },
     "metadata": {},
     "output_type": "display_data"
    },
    {
     "data": {
      "text/html": [
       "<html>\\(\\displaystyle \\frac{\\partial}{\\partial x}y\\left(x\\right)\\)</html>"
      ],
      "text/latex": [
       "$\\displaystyle \\frac{\\partial}{\\partial x}y\\left(x\\right)$"
      ],
      "text/plain": [
       "diff(y(x), x)"
      ]
     },
     "metadata": {},
     "output_type": "display_data"
    },
    {
     "data": {
      "text/html": [
       "<html>\\(\\displaystyle -3 \\, x^{2}\\)</html>"
      ],
      "text/latex": [
       "$\\displaystyle -3 \\, x^{2}$"
      ],
      "text/plain": [
       "-3*x^2"
      ]
     },
     "metadata": {},
     "output_type": "display_data"
    },
    {
     "data": {
      "text/html": [
       "<html>\\(\\displaystyle -1\\)</html>"
      ],
      "text/latex": [
       "$\\displaystyle -1$"
      ],
      "text/plain": [
       "-1"
      ]
     },
     "metadata": {},
     "output_type": "display_data"
    }
   ],
   "source": [
    "#sin(y)+y -x^3 -x ==0\n",
    "y=function('y')(x)\n",
    "show(diff(sin(y)))\n",
    "show(diff(y, x))\n",
    "t = -x^3\n",
    "show(diff(t, x))\n",
    "t1 = -x\n",
    "show(diff(t1, x))"
   ]
  },
  {
   "cell_type": "code",
   "execution_count": 459,
   "id": "426628dd-7aec-4297-9e32-a428dd7fc84b",
   "metadata": {},
   "outputs": [
    {
     "data": {
      "text/html": [
       "<html>\\(\\displaystyle \\left[\\mathit{dy}_{\\mathit{dx}} = \\frac{3 \\, x^{2} + 1}{\\cos\\left(y\\left(x\\right)\\right) + 1}\\right]\\)</html>"
      ],
      "text/latex": [
       "$\\displaystyle \\left[\\mathit{dy}_{\\mathit{dx}} = \\frac{3 \\, x^{2} + 1}{\\cos\\left(y\\left(x\\right)\\right) + 1}\\right]$"
      ],
      "text/plain": [
       "[dy_dx == (3*x^2 + 1)/(cos(y(x)) + 1)]"
      ]
     },
     "metadata": {},
     "output_type": "display_data"
    }
   ],
   "source": [
    "dy_dx=var('dy_dx')\n",
    "show(solve([cos(y)*dy_dx + dy_dx -3* x^2 -1 ==0], dy_dx))"
   ]
  },
  {
   "cell_type": "code",
   "execution_count": 461,
   "id": "f1a7389b-2437-44d9-8c12-c9a4b1bbc6f7",
   "metadata": {},
   "outputs": [
    {
     "data": {
      "text/html": [
       "<html>\\(\\displaystyle \\frac{3 \\, x^{2} + 1}{\\cos\\left(y\\right) + 1}\\)</html>"
      ],
      "text/latex": [
       "$\\displaystyle \\frac{3 \\, x^{2} + 1}{\\cos\\left(y\\right) + 1}$"
      ],
      "text/plain": [
       "(3*x^2 + 1)/(cos(y) + 1)"
      ]
     },
     "metadata": {},
     "output_type": "display_data"
    },
    {
     "data": {
      "text/html": [
       "<html>\\(\\displaystyle \\frac{1}{2}\\)</html>"
      ],
      "text/latex": [
       "$\\displaystyle \\frac{1}{2}$"
      ],
      "text/plain": [
       "1/2"
      ]
     },
     "metadata": {},
     "output_type": "display_data"
    }
   ],
   "source": [
    "dy_dx(x,y) = (3*x^2 +1)/(cos(y)+1)\n",
    "show(dy_dx(x,y))\n",
    "show(dy_dx(0,0))"
   ]
  },
  {
   "cell_type": "code",
   "execution_count": 462,
   "id": "06260b7e-052a-4212-94cb-049852d598a3",
   "metadata": {},
   "outputs": [
    {
     "data": {
      "text/html": [
       "<html>\\(\\displaystyle \\frac{1}{2} \\, x\\)</html>"
      ],
      "text/latex": [
       "$\\displaystyle \\frac{1}{2} \\, x$"
      ],
      "text/plain": [
       "1/2*x"
      ]
     },
     "metadata": {},
     "output_type": "display_data"
    }
   ],
   "source": [
    "L(x) = 1/2*(x - 0) + 0\n",
    "show(L(x))"
   ]
  },
  {
   "cell_type": "code",
   "execution_count": 463,
   "id": "d44a0615-cad7-419a-81cc-4280f45a1f6c",
   "metadata": {},
   "outputs": [
    {
     "data": {
      "image/png": "[encoded data removed]",
      "text/plain": [
       "Graphics object consisting of 1 graphics primitive"
      ]
     },
     "execution_count": 463,
     "metadata": {},
     "output_type": "execute_result"
    }
   ],
   "source": [
    "plot(L, (x, -3, 3), aspect_ratio=1)"
   ]
  },
  {
   "cell_type": "markdown",
   "id": "10e526de-12bc-4da9-b77b-52ea5e0e411d",
   "metadata": {},
   "source": [
    "c) $3 x e^{-xy} = y^2, (0.619061,1)$"
   ]
  },
  {
   "cell_type": "code",
   "execution_count": 464,
   "id": "d8265957-93bb-4fed-8151-91005b0eba77",
   "metadata": {},
   "outputs": [
    {
     "data": {
      "text/html": [
       "<html>\\(\\displaystyle -3 \\, {\\left(x \\frac{\\partial}{\\partial x}y\\left(x\\right) + y\\left(x\\right)\\right)} x e^{\\left(-x y\\left(x\\right)\\right)} + 3 \\, e^{\\left(-x y\\left(x\\right)\\right)}\\)</html>"
      ],
      "text/latex": [
       "$\\displaystyle -3 \\, {\\left(x \\frac{\\partial}{\\partial x}y\\left(x\\right) + y\\left(x\\right)\\right)} x e^{\\left(-x y\\left(x\\right)\\right)} + 3 \\, e^{\\left(-x y\\left(x\\right)\\right)}$"
      ],
      "text/plain": [
       "-3*(x*diff(y(x), x) + y(x))*x*e^(-x*y(x)) + 3*e^(-x*y(x))"
      ]
     },
     "metadata": {},
     "output_type": "display_data"
    },
    {
     "data": {
      "text/html": [
       "<html>\\(\\displaystyle -2 \\, y\\left(x\\right) \\frac{\\partial}{\\partial x}y\\left(x\\right)\\)</html>"
      ],
      "text/latex": [
       "$\\displaystyle -2 \\, y\\left(x\\right) \\frac{\\partial}{\\partial x}y\\left(x\\right)$"
      ],
      "text/plain": [
       "-2*y(x)*diff(y(x), x)"
      ]
     },
     "metadata": {},
     "output_type": "display_data"
    }
   ],
   "source": [
    "y=function('y')(x)\n",
    "t1 = 3*x *e^(-x*y) \n",
    "show(diff(t1, x))\n",
    "t2 = -y^2\n",
    "show(diff(t2, x))"
   ]
  },
  {
   "cell_type": "code",
   "execution_count": 465,
   "id": "2d64c0c6-63aa-4966-996b-3cd79c5a48ed",
   "metadata": {},
   "outputs": [
    {
     "data": {
      "text/html": [
       "<html>\\(\\displaystyle \\left[\\mathit{dy}_{\\mathit{dx}} = -\\frac{3 \\, {\\left(x y\\left(x\\right) - 1\\right)}}{3 \\, x^{2} + 2 \\, e^{\\left(x y\\left(x\\right)\\right)} y\\left(x\\right)}\\right]\\)</html>"
      ],
      "text/latex": [
       "$\\displaystyle \\left[\\mathit{dy}_{\\mathit{dx}} = -\\frac{3 \\, {\\left(x y\\left(x\\right) - 1\\right)}}{3 \\, x^{2} + 2 \\, e^{\\left(x y\\left(x\\right)\\right)} y\\left(x\\right)}\\right]$"
      ],
      "text/plain": [
       "[dy_dx == -3*(x*y(x) - 1)/(3*x^2 + 2*e^(x*y(x))*y(x))]"
      ]
     },
     "metadata": {},
     "output_type": "display_data"
    }
   ],
   "source": [
    "dy_dx=var('dy_dx')\n",
    "show(solve([-3*(x * dy_dx + y)*x*e^(-x*y) + 3*e^(-x*y) -2*y*dy_dx == 0], dy_dx))"
   ]
  },
  {
   "cell_type": "code",
   "execution_count": 466,
   "id": "8a895561-d955-4236-a82f-2634944848f6",
   "metadata": {},
   "outputs": [
    {
     "data": {
      "text/html": [
       "<html>\\(\\displaystyle -\\frac{3 \\, {\\left(x y - 1\\right)}}{3 \\, x^{2} + 2 \\, y e^{\\left(x y\\right)}}\\)</html>"
      ],
      "text/latex": [
       "$\\displaystyle -\\frac{3 \\, {\\left(x y - 1\\right)}}{3 \\, x^{2} + 2 \\, y e^{\\left(x y\\right)}}$"
      ],
      "text/plain": [
       "-3*(x*y - 1)/(3*x^2 + 2*y*e^(x*y))"
      ]
     },
     "metadata": {},
     "output_type": "display_data"
    }
   ],
   "source": [
    "dy_dx(x,y) = -3*(x*y-1)/(3*x^2 + 2*e^(x*y)*y)\n",
    "show(dy_dx(x,y))"
   ]
  },
  {
   "cell_type": "code",
   "execution_count": 467,
   "id": "5a5b6373-e92b-4c5e-b1a2-e47b3514faba",
   "metadata": {},
   "outputs": [
    {
     "data": {
      "text/html": [
       "<html>\\(\\displaystyle 0.234950471206647\\)</html>"
      ],
      "text/latex": [
       "$\\displaystyle 0.234950471206647$"
      ],
      "text/plain": [
       "0.234950471206647"
      ]
     },
     "metadata": {},
     "output_type": "display_data"
    }
   ],
   "source": [
    "show(dy_dx(0.619061, 1))"
   ]
  },
  {
   "cell_type": "code",
   "execution_count": 469,
   "id": "529326d8-836a-49f2-84d9-7aa6481b8caf",
   "metadata": {},
   "outputs": [
    {
     "data": {
      "text/html": [
       "<html>\\(\\displaystyle 0.234950471206647 \\, x + 0.854551326344342\\)</html>"
      ],
      "text/latex": [
       "$\\displaystyle 0.234950471206647 \\, x + 0.854551326344342$"
      ],
      "text/plain": [
       "0.234950471206647*x + 0.854551326344342"
      ]
     },
     "metadata": {},
     "output_type": "display_data"
    },
    {
     "data": {
      "image/png": "[encoded data removed]",
      "text/plain": [
       "Graphics object consisting of 1 graphics primitive"
      ]
     },
     "execution_count": 469,
     "metadata": {},
     "output_type": "execute_result"
    }
   ],
   "source": [
    "L(x) = 0.234950471206647*(x - 0.619061)+1\n",
    "show(L(x))\n",
    "plot(L, (x, -3, 3), aspect_ratio=1)"
   ]
  },
  {
   "cell_type": "code",
   "execution_count": null,
   "id": "9a2762cd-5384-4196-85f8-8b9cec007268",
   "metadata": {},
   "outputs": [],
   "source": []
  }
 ],
 "metadata": {
  "kernelspec": {
   "display_name": "SageMath 9.7",
   "language": "sage",
   "name": "sagemath"
  },
  "language_info": {
   "codemirror_mode": {
    "name": "ipython",
    "version": 3
   },
   "file_extension": ".py",
   "mimetype": "text/x-python",
   "name": "python",
   "nbconvert_exporter": "python",
   "pygments_lexer": "ipython3",
   "version": "3.10.12"
  }
 },
 "nbformat": 4,
 "nbformat_minor": 5
}
