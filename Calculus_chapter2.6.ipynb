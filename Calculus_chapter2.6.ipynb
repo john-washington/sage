{
 "cells": [
  {
   "cell_type": "markdown",
   "id": "2d1595f8-303e-46c1-a8e1-4c288eb5cc17",
   "metadata": {},
   "source": [
    "**Derivative of Inverse functions**\n",
    "\n",
    "**Preview Activity 2.6**\n",
    "\n",
    "a)Solve the equation $y=\\frac{5}{9} (x - 32)$ for $x$ to write $x$ (Fahrenheit temperature) in terms of $y$ (Celcius temperature).\n",
    "\n",
    "    \n"
   ]
  },
  {
   "cell_type": "code",
   "execution_count": 47,
   "id": "76649cdd-a009-46f5-abf3-93bf918b821b",
   "metadata": {},
   "outputs": [
    {
     "data": {
      "text/plain": [
       "[x == 9/5*y + 32]"
      ]
     },
     "execution_count": 47,
     "metadata": {},
     "output_type": "execute_result"
    }
   ],
   "source": [
    "var('x,y')\n",
    "#y = (5/9)*(x-32)\n",
    "\n",
    "solve([y== (5/9)*(x -32)], x)\n"
   ]
  },
  {
   "cell_type": "markdown",
   "id": "45aeecb5-df56-4489-9c94-5cbf7070b4e1",
   "metadata": {
    "tags": []
   },
   "source": [
    "b)Let $C(x) = \\frac{5}{9} (x -32)$ be the function that takes a Fahrenheit temperature as input and produes the Celcius temperature as output. In addition, let $F(y)$ be the function that converts a temperature given in $y$ degrees Celcius to the temperature $F(y)$ measured in degrees Fahrenheit. Use your work in a) to write a formula for $F(y)$."
   ]
  },
  {
   "cell_type": "code",
   "execution_count": 48,
   "id": "5ab7dde0-a5e6-43a2-9902-d4f778943004",
   "metadata": {},
   "outputs": [
    {
     "data": {
      "text/html": [
       "<html>\\(\\displaystyle \\frac{5}{9} \\, x - \\frac{160}{9}\\)</html>"
      ],
      "text/latex": [
       "$\\displaystyle \\frac{5}{9} \\, x - \\frac{160}{9}$"
      ],
      "text/plain": [
       "5/9*x - 160/9"
      ]
     },
     "metadata": {},
     "output_type": "display_data"
    },
    {
     "data": {
      "text/html": [
       "<html>\\(\\displaystyle \\frac{9}{5} \\, y + 32\\)</html>"
      ],
      "text/latex": [
       "$\\displaystyle \\frac{9}{5} \\, y + 32$"
      ],
      "text/plain": [
       "9/5*y + 32"
      ]
     },
     "metadata": {},
     "output_type": "display_data"
    }
   ],
   "source": [
    "C(x) = (5/9)*(x-32)\n",
    "F(y) = (9/5)*y + 32\n",
    "show(C(x))\n",
    "show(F(y))"
   ]
  },
  {
   "cell_type": "markdown",
   "id": "6c1a6fe9-f929-4d78-b66a-424359c9a9b8",
   "metadata": {},
   "source": [
    "c) Next consider the new function defined by $p(x) = F(C(x))$. Use the formulas for $F$ and $C$ to determine an expression for $p(x)$ and simplify this expression as much as possible. What do you observe?"
   ]
  },
  {
   "cell_type": "code",
   "execution_count": 49,
   "id": "b3d449f8-46de-4485-aa70-353cfd0b6b31",
   "metadata": {},
   "outputs": [
    {
     "data": {
      "text/html": [
       "<html>\\(\\displaystyle x\\)</html>"
      ],
      "text/latex": [
       "$\\displaystyle x$"
      ],
      "text/plain": [
       "x"
      ]
     },
     "metadata": {},
     "output_type": "display_data"
    }
   ],
   "source": [
    "p(x) = F(C(x))\n",
    "show(p(x))"
   ]
  },
  {
   "cell_type": "markdown",
   "id": "162636a4-b38c-4343-ab72-c08112c51a3f",
   "metadata": {},
   "source": [
    "d)Now, let $r(y) = C(F(y))$. Use the formulas for $F$ and $C$ to determine an expression for $r(y)$ and simplify this expression as much as possible. What do you observe?"
   ]
  },
  {
   "cell_type": "code",
   "execution_count": 50,
   "id": "e0bd6f7d-1a1b-4257-b34d-6fa5cfbbd12f",
   "metadata": {},
   "outputs": [
    {
     "data": {
      "text/html": [
       "<html>\\(\\displaystyle y\\)</html>"
      ],
      "text/latex": [
       "$\\displaystyle y$"
      ],
      "text/plain": [
       "y"
      ]
     },
     "metadata": {},
     "output_type": "display_data"
    }
   ],
   "source": [
    "r(y) = C(F(y))\n",
    "show(r(y))"
   ]
  },
  {
   "cell_type": "markdown",
   "id": "4ee31e71-9019-416c-8001-51d3d6730717",
   "metadata": {
    "tags": []
   },
   "source": [
    "e) What is the value of $C'(x)$? of $F'(y)$? How do these values appear to be related?"
   ]
  },
  {
   "cell_type": "code",
   "execution_count": 51,
   "id": "4da0f81c-c05d-4375-b1d4-310d3bfc9ed6",
   "metadata": {
    "tags": []
   },
   "outputs": [
    {
     "data": {
      "text/html": [
       "<html>\\(\\displaystyle x \\ {\\mapsto}\\ \\frac{5}{9}\\)</html>"
      ],
      "text/latex": [
       "$\\displaystyle x \\ {\\mapsto}\\ \\frac{5}{9}$"
      ],
      "text/plain": [
       "x |--> 5/9"
      ]
     },
     "metadata": {},
     "output_type": "display_data"
    },
    {
     "data": {
      "text/html": [
       "<html>\\(\\displaystyle y \\ {\\mapsto}\\ 0\\)</html>"
      ],
      "text/latex": [
       "$\\displaystyle y \\ {\\mapsto}\\ 0$"
      ],
      "text/plain": [
       "y |--> 0"
      ]
     },
     "metadata": {},
     "output_type": "display_data"
    }
   ],
   "source": [
    "show(C.diff(x))\n",
    "show(F.diff(x))"
   ]
  },
  {
   "cell_type": "code",
   "execution_count": 52,
   "id": "452fe1af-edb2-42b7-aaa4-c07e374b1643",
   "metadata": {
    "tags": []
   },
   "outputs": [
    {
     "data": {
      "text/html": [
       "<html>\\(\\displaystyle \\frac{5}{9} \\, x - \\frac{160}{9}\\)</html>"
      ],
      "text/latex": [
       "$\\displaystyle \\frac{5}{9} \\, x - \\frac{160}{9}$"
      ],
      "text/plain": [
       "5/9*x - 160/9"
      ]
     },
     "metadata": {},
     "output_type": "display_data"
    },
    {
     "data": {
      "text/html": [
       "<html>\\(\\displaystyle x\\)</html>"
      ],
      "text/latex": [
       "$\\displaystyle x$"
      ],
      "text/plain": [
       "x"
      ]
     },
     "metadata": {},
     "output_type": "display_data"
    },
    {
     "data": {
      "text/html": [
       "<html>\\(\\displaystyle \\frac{9}{5} \\, x + 32\\)</html>"
      ],
      "text/latex": [
       "$\\displaystyle \\frac{9}{5} \\, x + 32$"
      ],
      "text/plain": [
       "9/5*x + 32"
      ]
     },
     "metadata": {},
     "output_type": "display_data"
    },
    {
     "data": {
      "image/png": "[encoded data removed]",
      "text/plain": [
       "Graphics object consisting of 3 graphics primitives"
      ]
     },
     "execution_count": 52,
     "metadata": {},
     "output_type": "execute_result"
    }
   ],
   "source": [
    "r(x) = x\n",
    "show(C(x))\n",
    "show(r(x))\n",
    "show(F(x))\n",
    "plot(C, (x, -100, 100), aspect_ratio=1)+ plot(F, (x, -100, 100), color=\"indigo\", aspect_ratio=1)+ plot(r, (x, -100, 100), color=\"red\", aspect_ratio=1)"
   ]
  },
  {
   "cell_type": "code",
   "execution_count": 53,
   "id": "bfae48eb-2a98-4472-847a-4498d9ded7b2",
   "metadata": {},
   "outputs": [],
   "source": [
    "def Chain_Rule(f, g, x):\n",
    "  f_prime(x) = f.diff(x)\n",
    "  g_prime(x) = g.diff(x)\n",
    "  C_prime(x) = f_prime(g(x))*g_prime(x)\n",
    "  return C_prime(x)\n"
   ]
  },
  {
   "cell_type": "code",
   "execution_count": 54,
   "id": "faf6a326-5654-4667-8acc-03a02b1eac87",
   "metadata": {},
   "outputs": [],
   "source": [
    "def Quotient_Rule(f, g, x):\n",
    "  f_prime(x) = f.diff(x)\n",
    "  g_prime(x) = g.diff(x)\n",
    "  Q_prime(x) = (g(x)*f_prime(x) - f(x)*g_prime(x))/g(x)^2\n",
    "  return Q_prime(x)\n"
   ]
  },
  {
   "cell_type": "code",
   "execution_count": 55,
   "id": "777eb81d-c9c7-4220-ae36-d8bc320b4f64",
   "metadata": {
    "tags": []
   },
   "outputs": [],
   "source": [
    "def Product_Rule(f, g, x):\n",
    "  f_prime(x) = f.diff(x)\n",
    "  g_prime(x) = g.diff(x)\n",
    "  P_prime(x) = f(x)*g_prime(x) + g(x)*f_prime(x)\n",
    "  return P_prime(x)\n"
   ]
  },
  {
   "cell_type": "code",
   "execution_count": 57,
   "id": "edde7aad-c5d6-4963-a78a-037993f52153",
   "metadata": {
    "tags": []
   },
   "outputs": [
    {
     "data": {
      "text/html": [
       "<html>\\(\\displaystyle 1\\)</html>"
      ],
      "text/latex": [
       "$\\displaystyle 1$"
      ],
      "text/plain": [
       "1"
      ]
     },
     "metadata": {},
     "output_type": "display_data"
    },
    {
     "data": {
      "text/html": [
       "<html>\\(\\displaystyle x \\ {\\mapsto}\\ \\frac{1}{x}\\)</html>"
      ],
      "text/latex": [
       "$\\displaystyle x \\ {\\mapsto}\\ \\frac{1}{x}$"
      ],
      "text/plain": [
       "x |--> 1/x"
      ]
     },
     "metadata": {},
     "output_type": "display_data"
    }
   ],
   "source": [
    "f(x) = e^x\n",
    "g(x) = ln(x)\n",
    "#show(e^g(x))\n",
    "#show(f(g(x)))\n",
    "\n",
    "show(Chain_Rule(f,g,x))\n",
    "\n",
    "show(g.diff(x))\n",
    "\n",
    "#fplot=plot(f, (x, -1, 1.5), aspect_ratio=1)\n",
    "#gplot= plot(g, (x, 0, 1.5), color=\"indigo\", aspect_ratio=1)\n",
    "#rplot=plot(r, (x, -1, 1.5), color=\"red\", aspect_ratio=1)\n",
    "#(rplot +fplot+gplot).show()"
   ]
  },
  {
   "cell_type": "markdown",
   "id": "d196dd17-8fdc-4786-bbb5-45f89e0bb2ab",
   "metadata": {},
   "source": [
    "\"exponential function $y=f(x)=e^x$ has an inverse function, which is the natural logarithm, $x=f^{-1}(y) =ln(y)$.\n",
    "\n",
    "Indeed, writing $y=e^x$ is interchangeable with $x=1n(y)$, plus $ln(e^x) = x$ for every real number $x$ and $e^{ln(y)} = y$ for every positive real number y.\"\n",
    "\n",
    "**My Observation**\n",
    "the $ln(x)$ function never gets negative, it approaches the y-axis into infinity\n",
    "\n",
    "By differentiating the equation $e^{g(x)} = x$, on both sides, we get:\n",
    "$$\\frac{d}{dx}[e^{g(x)}] = \\frac{d}{dx}[x] $$\n",
    "\n",
    "applying the chain rule, it would seem always equals 1, as show in the above code, provided that $f$, and $g$ are inverse function of each other.\n",
    "\n",
    "We want to prove this conjecture."
   ]
  },
  {
   "cell_type": "code",
   "execution_count": null,
   "id": "48bf6830-dd1e-4d5e-ba2a-bcbbae8f1ca1",
   "metadata": {},
   "outputs": [],
   "source": []
  }
 ],
 "metadata": {
  "kernelspec": {
   "display_name": "SageMath 9.7",
   "language": "sage",
   "name": "sagemath"
  },
  "language_info": {
   "codemirror_mode": {
    "name": "ipython",
    "version": 3
   },
   "file_extension": ".py",
   "mimetype": "text/x-python",
   "name": "python",
   "nbconvert_exporter": "python",
   "pygments_lexer": "ipython3",
   "version": "3.10.12"
  }
 },
 "nbformat": 4,
 "nbformat_minor": 5
}
