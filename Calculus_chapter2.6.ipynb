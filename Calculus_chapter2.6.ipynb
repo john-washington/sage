{
 "cells": [
  {
   "cell_type": "markdown",
   "id": "2d1595f8-303e-46c1-a8e1-4c288eb5cc17",
   "metadata": {},
   "source": [
    "**Derivative of Inverse functions**\n",
    "\n",
    "**Preview Activity 2.6**\n",
    "\n",
    "a)Solve the equation $y=\\frac{5}{9} (x - 32)$ for $x$ to write $x$ (Fahrenheit temperature) in terms of $y$ (Celcius temperature).\n",
    "\n",
    "    \n"
   ]
  },
  {
   "cell_type": "code",
   "execution_count": 47,
   "id": "76649cdd-a009-46f5-abf3-93bf918b821b",
   "metadata": {},
   "outputs": [
    {
     "data": {
      "text/plain": [
       "[x == 9/5*y + 32]"
      ]
     },
     "execution_count": 47,
     "metadata": {},
     "output_type": "execute_result"
    }
   ],
   "source": [
    "var('x,y')\n",
    "#y = (5/9)*(x-32)\n",
    "\n",
    "solve([y== (5/9)*(x -32)], x)\n"
   ]
  },
  {
   "cell_type": "markdown",
   "id": "45aeecb5-df56-4489-9c94-5cbf7070b4e1",
   "metadata": {
    "tags": []
   },
   "source": [
    "b)Let $C(x) = \\frac{5}{9} (x -32)$ be the function that takes a Fahrenheit temperature as input and produes the Celcius temperature as output. In addition, let $F(y)$ be the function that converts a temperature given in $y$ degrees Celcius to the temperature $F(y)$ measured in degrees Fahrenheit. Use your work in a) to write a formula for $F(y)$."
   ]
  },
  {
   "cell_type": "code",
   "execution_count": 48,
   "id": "5ab7dde0-a5e6-43a2-9902-d4f778943004",
   "metadata": {},
   "outputs": [
    {
     "data": {
      "text/html": [
       "<html>\\(\\displaystyle \\frac{5}{9} \\, x - \\frac{160}{9}\\)</html>"
      ],
      "text/latex": [
       "$\\displaystyle \\frac{5}{9} \\, x - \\frac{160}{9}$"
      ],
      "text/plain": [
       "5/9*x - 160/9"
      ]
     },
     "metadata": {},
     "output_type": "display_data"
    },
    {
     "data": {
      "text/html": [
       "<html>\\(\\displaystyle \\frac{9}{5} \\, y + 32\\)</html>"
      ],
      "text/latex": [
       "$\\displaystyle \\frac{9}{5} \\, y + 32$"
      ],
      "text/plain": [
       "9/5*y + 32"
      ]
     },
     "metadata": {},
     "output_type": "display_data"
    }
   ],
   "source": [
    "C(x) = (5/9)*(x-32)\n",
    "F(y) = (9/5)*y + 32\n",
    "show(C(x))\n",
    "show(F(y))"
   ]
  },
  {
   "cell_type": "markdown",
   "id": "6c1a6fe9-f929-4d78-b66a-424359c9a9b8",
   "metadata": {},
   "source": [
    "c) Next consider the new function defined by $p(x) = F(C(x))$. Use the formulas for $F$ and $C$ to determine an expression for $p(x)$ and simplify this expression as much as possible. What do you observe?"
   ]
  },
  {
   "cell_type": "code",
   "execution_count": 49,
   "id": "b3d449f8-46de-4485-aa70-353cfd0b6b31",
   "metadata": {},
   "outputs": [
    {
     "data": {
      "text/html": [
       "<html>\\(\\displaystyle x\\)</html>"
      ],
      "text/latex": [
       "$\\displaystyle x$"
      ],
      "text/plain": [
       "x"
      ]
     },
     "metadata": {},
     "output_type": "display_data"
    }
   ],
   "source": [
    "p(x) = F(C(x))\n",
    "show(p(x))"
   ]
  },
  {
   "cell_type": "markdown",
   "id": "162636a4-b38c-4343-ab72-c08112c51a3f",
   "metadata": {},
   "source": [
    "d)Now, let $r(y) = C(F(y))$. Use the formulas for $F$ and $C$ to determine an expression for $r(y)$ and simplify this expression as much as possible. What do you observe?"
   ]
  },
  {
   "cell_type": "code",
   "execution_count": 50,
   "id": "e0bd6f7d-1a1b-4257-b34d-6fa5cfbbd12f",
   "metadata": {},
   "outputs": [
    {
     "data": {
      "text/html": [
       "<html>\\(\\displaystyle y\\)</html>"
      ],
      "text/latex": [
       "$\\displaystyle y$"
      ],
      "text/plain": [
       "y"
      ]
     },
     "metadata": {},
     "output_type": "display_data"
    }
   ],
   "source": [
    "r(y) = C(F(y))\n",
    "show(r(y))"
   ]
  },
  {
   "cell_type": "markdown",
   "id": "4ee31e71-9019-416c-8001-51d3d6730717",
   "metadata": {
    "tags": []
   },
   "source": [
    "e) What is the value of $C'(x)$? of $F'(y)$? How do these values appear to be related?"
   ]
  },
  {
   "cell_type": "code",
   "execution_count": 51,
   "id": "4da0f81c-c05d-4375-b1d4-310d3bfc9ed6",
   "metadata": {
    "tags": []
   },
   "outputs": [
    {
     "data": {
      "text/html": [
       "<html>\\(\\displaystyle x \\ {\\mapsto}\\ \\frac{5}{9}\\)</html>"
      ],
      "text/latex": [
       "$\\displaystyle x \\ {\\mapsto}\\ \\frac{5}{9}$"
      ],
      "text/plain": [
       "x |--> 5/9"
      ]
     },
     "metadata": {},
     "output_type": "display_data"
    },
    {
     "data": {
      "text/html": [
       "<html>\\(\\displaystyle y \\ {\\mapsto}\\ 0\\)</html>"
      ],
      "text/latex": [
       "$\\displaystyle y \\ {\\mapsto}\\ 0$"
      ],
      "text/plain": [
       "y |--> 0"
      ]
     },
     "metadata": {},
     "output_type": "display_data"
    }
   ],
   "source": [
    "show(C.diff(x))\n",
    "show(F.diff(x))"
   ]
  },
  {
   "cell_type": "code",
   "execution_count": 52,
   "id": "452fe1af-edb2-42b7-aaa4-c07e374b1643",
   "metadata": {
    "tags": []
   },
   "outputs": [
    {
     "data": {
      "text/html": [
       "<html>\\(\\displaystyle \\frac{5}{9} \\, x - \\frac{160}{9}\\)</html>"
      ],
      "text/latex": [
       "$\\displaystyle \\frac{5}{9} \\, x - \\frac{160}{9}$"
      ],
      "text/plain": [
       "5/9*x - 160/9"
      ]
     },
     "metadata": {},
     "output_type": "display_data"
    },
    {
     "data": {
      "text/html": [
       "<html>\\(\\displaystyle x\\)</html>"
      ],
      "text/latex": [
       "$\\displaystyle x$"
      ],
      "text/plain": [
       "x"
      ]
     },
     "metadata": {},
     "output_type": "display_data"
    },
    {
     "data": {
      "text/html": [
       "<html>\\(\\displaystyle \\frac{9}{5} \\, x + 32\\)</html>"
      ],
      "text/latex": [
       "$\\displaystyle \\frac{9}{5} \\, x + 32$"
      ],
      "text/plain": [
       "9/5*x + 32"
      ]
     },
     "metadata": {},
     "output_type": "display_data"
    },
    {
     "data": {
      "image/png": "[encoded data removed]",
      "text/plain": [
       "Graphics object consisting of 3 graphics primitives"
      ]
     },
     "execution_count": 52,
     "metadata": {},
     "output_type": "execute_result"
    }
   ],
   "source": [
    "r(x) = x\n",
    "show(C(x))\n",
    "show(r(x))\n",
    "show(F(x))\n",
    "plot(C, (x, -100, 100), aspect_ratio=1)+ plot(F, (x, -100, 100), color=\"indigo\", aspect_ratio=1)+ plot(r, (x, -100, 100), color=\"red\", aspect_ratio=1)"
   ]
  },
  {
   "cell_type": "code",
   "execution_count": 106,
   "id": "bfae48eb-2a98-4472-847a-4498d9ded7b2",
   "metadata": {},
   "outputs": [],
   "source": [
    "def Chain_Rule(f, g, x):\n",
    "  f_prime(x) = f.diff(x)\n",
    "  g_prime(x) = g.diff(x)\n",
    "  C_prime(x) = f_prime(g(x))*g_prime(x)\n",
    "  return C_prime(x)\n"
   ]
  },
  {
   "cell_type": "code",
   "execution_count": 54,
   "id": "faf6a326-5654-4667-8acc-03a02b1eac87",
   "metadata": {},
   "outputs": [],
   "source": [
    "def Quotient_Rule(f, g, x):\n",
    "  f_prime(x) = f.diff(x)\n",
    "  g_prime(x) = g.diff(x)\n",
    "  Q_prime(x) = (g(x)*f_prime(x) - f(x)*g_prime(x))/g(x)^2\n",
    "  return Q_prime(x)\n"
   ]
  },
  {
   "cell_type": "code",
   "execution_count": 55,
   "id": "777eb81d-c9c7-4220-ae36-d8bc320b4f64",
   "metadata": {
    "tags": []
   },
   "outputs": [],
   "source": [
    "def Product_Rule(f, g, x):\n",
    "  f_prime(x) = f.diff(x)\n",
    "  g_prime(x) = g.diff(x)\n",
    "  P_prime(x) = f(x)*g_prime(x) + g(x)*f_prime(x)\n",
    "  return P_prime(x)\n"
   ]
  },
  {
   "cell_type": "code",
   "execution_count": 81,
   "id": "edde7aad-c5d6-4963-a78a-037993f52153",
   "metadata": {
    "tags": []
   },
   "outputs": [
    {
     "data": {
      "text/html": [
       "<html>\\(\\displaystyle 1\\)</html>"
      ],
      "text/latex": [
       "$\\displaystyle 1$"
      ],
      "text/plain": [
       "1"
      ]
     },
     "metadata": {},
     "output_type": "display_data"
    },
    {
     "data": {
      "text/html": [
       "<html>\\(\\displaystyle x \\ {\\mapsto}\\ \\frac{1}{x}\\)</html>"
      ],
      "text/latex": [
       "$\\displaystyle x \\ {\\mapsto}\\ \\frac{1}{x}$"
      ],
      "text/plain": [
       "x |--> 1/x"
      ]
     },
     "metadata": {},
     "output_type": "display_data"
    },
    {
     "data": {
      "image/png": "[encoded data removed]",
      "text/plain": [
       "Graphics object consisting of 3 graphics primitives"
      ]
     },
     "metadata": {},
     "output_type": "display_data"
    }
   ],
   "source": [
    "f(x) = e^x\n",
    "g(x) = ln(x)\n",
    "#show(e^g(x))\n",
    "#show(f(g(x)))\n",
    "\n",
    "show(Chain_Rule(f,g,x))\n",
    "\n",
    "show(g.diff(x))\n",
    "\n",
    "fplot=plot(f, (x, -3, 2), aspect_ratio=1)\n",
    "gplot= plot(g, (x, 0, 2), color=\"indigo\", aspect_ratio=1)\n",
    "rplot=plot(r, (x, -3, 2), color=\"red\", aspect_ratio=1)\n",
    "(rplot +fplot+gplot).show()"
   ]
  },
  {
   "cell_type": "markdown",
   "id": "d196dd17-8fdc-4786-bbb5-45f89e0bb2ab",
   "metadata": {},
   "source": [
    "\"exponential function $y=f(x)=e^x$ has an inverse function, which is the natural logarithm, $x=f^{-1}(y) =ln(y)$.\n",
    "\n",
    "Indeed, writing $y=e^x$ is interchangeable with $x=1n(y)$, plus $ln(e^x) = x$ for every real number $x$ and $e^{ln(y)} = y$ for every positive real number y.\"\n",
    "\n",
    "**My Observation**\n",
    "the $ln(x)$ function never gets negative, it approaches the y-axis into infinity\n",
    "\n",
    "By differentiating the equation $e^{g(x)} = x$, on both sides, we get:\n",
    "$$\\frac{d}{dx}[e^{g(x)}] = \\frac{d}{dx}[x] $$\n",
    "\n",
    "applying the chain rule, it would seem always equals 1, as show in the above code, provided that $f$, and $g$ are inverse function of each other, and they are not periodic.\n",
    "\n",
    "We want to prove this conjecture.\n",
    "\n",
    "**Activity 2.6**\n",
    "\n",
    "a) h(x) = x^2 ln(x)"
   ]
  },
  {
   "cell_type": "code",
   "execution_count": 59,
   "id": "48bf6830-dd1e-4d5e-ba2a-bcbbae8f1ca1",
   "metadata": {},
   "outputs": [
    {
     "data": {
      "text/html": [
       "<html>\\(\\displaystyle 2 \\, x \\log\\left(x\\right) + x\\)</html>"
      ],
      "text/latex": [
       "$\\displaystyle 2 \\, x \\log\\left(x\\right) + x$"
      ],
      "text/plain": [
       "2*x*log(x) + x"
      ]
     },
     "metadata": {},
     "output_type": "display_data"
    },
    {
     "data": {
      "text/html": [
       "<html>\\(\\displaystyle x \\ {\\mapsto}\\ 2 \\, x \\log\\left(x\\right) + x\\)</html>"
      ],
      "text/latex": [
       "$\\displaystyle x \\ {\\mapsto}\\ 2 \\, x \\log\\left(x\\right) + x$"
      ],
      "text/plain": [
       "x |--> 2*x*log(x) + x"
      ]
     },
     "metadata": {},
     "output_type": "display_data"
    }
   ],
   "source": [
    "h(x) = x^2 * ln(x)\n",
    "f1(x) = x^2\n",
    "f2(x) = ln(x)\n",
    "h_prime(x) = Product_Rule(f1, f2, x)\n",
    "show(h_prime(x))\n",
    "\n",
    "show(h.diff(x))"
   ]
  },
  {
   "cell_type": "markdown",
   "id": "617b7bb1-ffbd-48d1-9257-1777904a5696",
   "metadata": {},
   "source": [
    "b) $p(t) = \\frac{ln(t)}{e^t + 1}$"
   ]
  },
  {
   "cell_type": "code",
   "execution_count": 63,
   "id": "9acdbc5a-52e7-494e-86ad-4e0c34f5b8c9",
   "metadata": {},
   "outputs": [
    {
     "data": {
      "text/html": [
       "<html>\\(\\displaystyle -\\frac{t e^{t} \\log\\left(t\\right) - e^{t} - 1}{t {\\left(e^{t} + 1\\right)}^{2}}\\)</html>"
      ],
      "text/latex": [
       "$\\displaystyle -\\frac{t e^{t} \\log\\left(t\\right) - e^{t} - 1}{t {\\left(e^{t} + 1\\right)}^{2}}$"
      ],
      "text/plain": [
       "-(t*e^t*log(t) - e^t - 1)/(t*(e^t + 1)^2)"
      ]
     },
     "metadata": {},
     "output_type": "display_data"
    },
    {
     "data": {
      "text/html": [
       "<html>\\(\\displaystyle -\\frac{t e^{t} \\log\\left(t\\right) - e^{t} - 1}{t {\\left(e^{t} + 1\\right)}^{2}}\\)</html>"
      ],
      "text/latex": [
       "$\\displaystyle -\\frac{t e^{t} \\log\\left(t\\right) - e^{t} - 1}{t {\\left(e^{t} + 1\\right)}^{2}}$"
      ],
      "text/plain": [
       "-(t*e^t*log(t) - e^t - 1)/(t*(e^t + 1)^2)"
      ]
     },
     "metadata": {},
     "output_type": "display_data"
    }
   ],
   "source": [
    "p(t) = ln(t) / (e^t +1)\n",
    "f1(t) = ln(t)\n",
    "f2(t) = e^t +1\n",
    "p_prime(t) = Quotient_Rule(f1, f2, t)\n",
    "show(factor(p_prime(t)))\n",
    "show(factor(p.diff(t)))"
   ]
  },
  {
   "cell_type": "markdown",
   "id": "bfc935ab-1c2d-44ff-9ada-3c93b8c1fcfa",
   "metadata": {},
   "source": [
    "c) $s(y) = ln( cos(y) + 2)$"
   ]
  },
  {
   "cell_type": "code",
   "execution_count": 64,
   "id": "b12302cc-df53-4dc0-8993-fa642641ef3f",
   "metadata": {},
   "outputs": [
    {
     "data": {
      "text/html": [
       "<html>\\(\\displaystyle -\\frac{\\sin\\left(y\\right)}{\\cos\\left(y\\right) + 2}\\)</html>"
      ],
      "text/latex": [
       "$\\displaystyle -\\frac{\\sin\\left(y\\right)}{\\cos\\left(y\\right) + 2}$"
      ],
      "text/plain": [
       "-sin(y)/(cos(y) + 2)"
      ]
     },
     "metadata": {},
     "output_type": "display_data"
    },
    {
     "data": {
      "text/html": [
       "<html>\\(\\displaystyle y \\ {\\mapsto}\\ -\\frac{\\sin\\left(y\\right)}{\\cos\\left(y\\right) + 2}\\)</html>"
      ],
      "text/latex": [
       "$\\displaystyle y \\ {\\mapsto}\\ -\\frac{\\sin\\left(y\\right)}{\\cos\\left(y\\right) + 2}$"
      ],
      "text/plain": [
       "y |--> -sin(y)/(cos(y) + 2)"
      ]
     },
     "metadata": {},
     "output_type": "display_data"
    }
   ],
   "source": [
    "s(y) = ln(cos(y) +2)\n",
    "f1(y) = ln(y)\n",
    "f2(y) =cos(y) + 2\n",
    "s_prime(y) = Chain_Rule(f1, f2, y)\n",
    "show(s_prime(y))\n",
    "\n",
    "show(s.diff(y))"
   ]
  },
  {
   "cell_type": "markdown",
   "id": "d732ace0-f426-46b1-931f-21a8c3fae183",
   "metadata": {},
   "source": [
    "d) $z(x) = tan(ln(x))$"
   ]
  },
  {
   "cell_type": "code",
   "execution_count": 66,
   "id": "3ac33328-685d-40cb-9b2c-34d85e890332",
   "metadata": {},
   "outputs": [
    {
     "data": {
      "text/html": [
       "<html>\\(\\displaystyle \\frac{\\tan\\left(\\log\\left(x\\right)\\right)^{2} + 1}{x}\\)</html>"
      ],
      "text/latex": [
       "$\\displaystyle \\frac{\\tan\\left(\\log\\left(x\\right)\\right)^{2} + 1}{x}$"
      ],
      "text/plain": [
       "(tan(log(x))^2 + 1)/x"
      ]
     },
     "metadata": {},
     "output_type": "display_data"
    },
    {
     "data": {
      "text/html": [
       "<html>\\(\\displaystyle x \\ {\\mapsto}\\ \\frac{\\tan\\left(\\log\\left(x\\right)\\right)^{2} + 1}{x}\\)</html>"
      ],
      "text/latex": [
       "$\\displaystyle x \\ {\\mapsto}\\ \\frac{\\tan\\left(\\log\\left(x\\right)\\right)^{2} + 1}{x}$"
      ],
      "text/plain": [
       "x |--> (tan(log(x))^2 + 1)/x"
      ]
     },
     "metadata": {},
     "output_type": "display_data"
    }
   ],
   "source": [
    "z(x) = tan(ln(x))\n",
    "f1(x) = tan(x)\n",
    "f2(x) = ln(x)\n",
    "z_prime(x) = Chain_Rule(f1, f2, x)\n",
    "show(z_prime(x))\n",
    "show(z.diff(x))"
   ]
  },
  {
   "cell_type": "markdown",
   "id": "c5c8a9a1-c3cb-4189-8436-3e211866700b",
   "metadata": {},
   "source": [
    "e) $m(z) = ln( ln(z))$"
   ]
  },
  {
   "cell_type": "code",
   "execution_count": 67,
   "id": "05126032-1d46-44ef-840b-3370e1c5daff",
   "metadata": {},
   "outputs": [
    {
     "data": {
      "text/html": [
       "<html>\\(\\displaystyle \\frac{1}{z \\log\\left(z\\right)}\\)</html>"
      ],
      "text/latex": [
       "$\\displaystyle \\frac{1}{z \\log\\left(z\\right)}$"
      ],
      "text/plain": [
       "1/(z*log(z))"
      ]
     },
     "metadata": {},
     "output_type": "display_data"
    },
    {
     "data": {
      "text/html": [
       "<html>\\(\\displaystyle z \\ {\\mapsto}\\ \\frac{1}{z \\log\\left(z\\right)}\\)</html>"
      ],
      "text/latex": [
       "$\\displaystyle z \\ {\\mapsto}\\ \\frac{1}{z \\log\\left(z\\right)}$"
      ],
      "text/plain": [
       "z |--> 1/(z*log(z))"
      ]
     },
     "metadata": {},
     "output_type": "display_data"
    }
   ],
   "source": [
    "m(z) = ln(ln(z))\n",
    "f1(z) = ln(z)\n",
    "f2(z) = ln(z)\n",
    "m_prime(z) = Chain_Rule(f1, f2, z)\n",
    "show(m_prime(z))\n",
    "show(m.diff(z))"
   ]
  },
  {
   "cell_type": "markdown",
   "id": "5ce84119-42fd-4671-bf70-797d43429bdc",
   "metadata": {},
   "source": [
    "**Inverse trigonometric functions and their derivatives**\n"
   ]
  },
  {
   "cell_type": "code",
   "execution_count": 82,
   "id": "494c50ac-76cf-4ff9-ad6c-7505afb3fb50",
   "metadata": {},
   "outputs": [
    {
     "data": {
      "image/png": "[encoded data removed]",
      "text/plain": [
       "Graphics object consisting of 3 graphics primitives"
      ]
     },
     "metadata": {},
     "output_type": "display_data"
    }
   ],
   "source": [
    "f(x) = sin(x)\n",
    "\n",
    "f_inverse(x) = arcsin(x)\n",
    "r(x) = x\n",
    "\n",
    "fplot=plot(f, (x, -pi/2, pi/2))\n",
    "f_inplot=plot(f_inverse, (x, -1, 1), color=\"indigo\")\n",
    "rplot=plot(r, (x, -pi/2, pi/2), color=\"red\")\n",
    "\n",
    "(fplot+f_inplot+rplot).show()"
   ]
  },
  {
   "cell_type": "markdown",
   "id": "c0431bfd-16ee-45af-b0ed-cdfde74d5d63",
   "metadata": {},
   "source": [
    "**Inverse sine:** For all real numbers $x$ such that $-1 < x < 1$, $\\frac{d}{dx}[arcsin(x)] = \\frac{1}{\\sqrt{1 -x^2}}$"
   ]
  },
  {
   "cell_type": "code",
   "execution_count": 83,
   "id": "bc6eb976-3ee2-470f-8221-f9c7038a3733",
   "metadata": {},
   "outputs": [],
   "source": [
    "def arcsin_diff(x):\n",
    "    return 1/sqrt(1-x^2)\n"
   ]
  },
  {
   "cell_type": "markdown",
   "id": "e3109e00-2d81-4ab8-a97e-cfee05814ac2",
   "metadata": {},
   "source": [
    "**Activity 2.17**\n",
    "\n",
    "a) r(x) = arctan(x)"
   ]
  },
  {
   "cell_type": "code",
   "execution_count": 91,
   "id": "892e1e65-a931-4661-8675-54fd71f2eaf6",
   "metadata": {},
   "outputs": [
    {
     "data": {
      "image/png": "[encoded data removed]",
      "text/plain": [
       "Graphics object consisting of 3 graphics primitives"
      ]
     },
     "metadata": {},
     "output_type": "display_data"
    }
   ],
   "source": [
    "f(x) = tan(x)\n",
    "\n",
    "f_inverse(x) = arctan(x)\n",
    "r(x) = x\n",
    "\n",
    "fplot=plot(f, (x, -pi/3, pi/3))\n",
    "f_inplot=plot(f_inverse, (x, -1, 1), color=\"indigo\")\n",
    "rplot=plot(r, (x, -pi/3, pi/3), color=\"red\")\n",
    "#fplot.show()\n",
    "(fplot+f_inplot+rplot).show()"
   ]
  },
  {
   "cell_type": "markdown",
   "id": "9fe087e2-4627-47f3-a6d1-741a470b11d5",
   "metadata": {},
   "source": [
    "$h(x) = arctan(x)$\n",
    "\n",
    "$tan(arctan(x)) = x$\n",
    "\n",
    "$\\frac{d}{dx}[tan(h(x))] = \\frac{d}{dx}[x]$\n",
    "\n",
    "applying chain rule on the left side, we have:\n",
    "\n",
    "\n"
   ]
  },
  {
   "cell_type": "markdown",
   "id": "3a513234-8e82-4a48-97da-da2051d859f5",
   "metadata": {},
   "source": [
    "$(tan(h(x))^2+1)h'(x) = 1$\n",
    "\n",
    "solving $h'(x)$, we have:\n",
    "\n",
    "$h'(x) = \\frac{1}{tan(h(x))^2+1}$\n",
    "\n",
    "since h(x) = arctan(x), we have:\n",
    "\n",
    "$h'(x) = \\frac{1}{x^2+1}$\n"
   ]
  },
  {
   "cell_type": "code",
   "execution_count": 93,
   "id": "30b7ccd8-d11a-418d-9481-ef10cd5dbd98",
   "metadata": {},
   "outputs": [
    {
     "data": {
      "text/html": [
       "<html>\\(\\displaystyle x \\ {\\mapsto}\\ \\tan\\left(x\\right)^{2} + 1\\)</html>"
      ],
      "text/latex": [
       "$\\displaystyle x \\ {\\mapsto}\\ \\tan\\left(x\\right)^{2} + 1$"
      ],
      "text/plain": [
       "x |--> tan(x)^2 + 1"
      ]
     },
     "metadata": {},
     "output_type": "display_data"
    }
   ],
   "source": [
    "f(x) =tan(x)\n",
    "show(f.diff(x))"
   ]
  },
  {
   "cell_type": "code",
   "execution_count": 94,
   "id": "88f7c916-2da4-4474-ab10-396e436c2301",
   "metadata": {},
   "outputs": [
    {
     "data": {
      "text/html": [
       "<html>\\(\\displaystyle x \\ {\\mapsto}\\ \\frac{1}{x^{2} + 1}\\)</html>"
      ],
      "text/latex": [
       "$\\displaystyle x \\ {\\mapsto}\\ \\frac{1}{x^{2} + 1}$"
      ],
      "text/plain": [
       "x |--> 1/(x^2 + 1)"
      ]
     },
     "metadata": {},
     "output_type": "display_data"
    }
   ],
   "source": [
    "h(x)= arctan(x)\n",
    "show(h.diff(x))"
   ]
  },
  {
   "cell_type": "markdown",
   "id": "b04bdd0a-1fd8-4641-a7b1-72900b87a94f",
   "metadata": {},
   "source": [
    "**The link between the derivative of a function and the derivative of its inverse**\n",
    "\n",
    "**Derivative of an inverse function**\n",
    "Suppose that $f$ is a differentiable function with inverse $g$ and that $(a, b)$ is a point that lies on the graph of $f$ at which $f'(a) \\neq 0$. Then,\n",
    "$$g'(b) = \\frac{1}{f'(a)} $$\n",
    "\n",
    "More generally, for any $x$ in the domain of $g'$, we have $g'(x) = \\frac{1}{f'(g(x))}$"
   ]
  },
  {
   "cell_type": "code",
   "execution_count": null,
   "id": "5a835e69-ac18-446f-ba30-ed93982d083a",
   "metadata": {},
   "outputs": [],
   "source": [
    "    "
   ]
  },
  {
   "cell_type": "code",
   "execution_count": 116,
   "id": "1129f5f6-4398-4793-ac90-5221b23a1c73",
   "metadata": {},
   "outputs": [],
   "source": [
    "#provided, f, g are inverse\n",
    "def g_prime_as_Inverse_Diff_f(f, g, x):\n",
    "  f_prime(x) = f.diff(x)\n",
    "  #c(x) = Chain_Rule(f_prime, g, x)\n",
    "  g_prime(x) = 1/f_prime(g(x))\n",
    "  #g_prime(x) = 1/Chain_Rule(f_prime, g, x)\n",
    "  return g_prime(x)\n"
   ]
  },
  {
   "cell_type": "code",
   "execution_count": 117,
   "id": "9811cefb-d346-4d60-9985-e2a31b1858e8",
   "metadata": {},
   "outputs": [
    {
     "data": {
      "text/html": [
       "<html>\\(\\displaystyle \\frac{1}{x}\\)</html>"
      ],
      "text/latex": [
       "$\\displaystyle \\frac{1}{x}$"
      ],
      "text/plain": [
       "1/x"
      ]
     },
     "metadata": {},
     "output_type": "display_data"
    }
   ],
   "source": [
    "g(x) = ln(x)\n",
    "f(x) = e^x\n",
    "show(g_prime_as_Inverse_Diff_f(f, g, x))"
   ]
  },
  {
   "cell_type": "code",
   "execution_count": null,
   "id": "959639d9-54a4-42ad-9030-5beb2e5169f5",
   "metadata": {},
   "outputs": [],
   "source": []
  }
 ],
 "metadata": {
  "kernelspec": {
   "display_name": "SageMath 9.7",
   "language": "sage",
   "name": "sagemath"
  },
  "language_info": {
   "codemirror_mode": {
    "name": "ipython",
    "version": 3
   },
   "file_extension": ".py",
   "mimetype": "text/x-python",
   "name": "python",
   "nbconvert_exporter": "python",
   "pygments_lexer": "ipython3",
   "version": "3.10.12"
  }
 },
 "nbformat": 4,
 "nbformat_minor": 5
}
