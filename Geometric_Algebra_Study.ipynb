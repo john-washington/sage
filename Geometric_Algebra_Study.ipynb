{
 "cells": [
  {
   "cell_type": "markdown",
   "id": "f3655c36-15bb-47c9-9795-e380561f143b",
   "metadata": {},
   "source": [
    "**Alan MacDonald Text**\n",
    "\n",
    "\n",
    "**Coordinates**\n",
    "\n",
    "cooridate-free geometric defintion of the inner product of two oriented lengths:\n",
    "\n",
    "$$\n",
    "\\begin{align}\n",
    "\\mathbf{u} \\cdot \\mathbf{v} = |\\mathbf{u}| |\\mathbf{v}| \\cos \\theta, 0 \\leq \\theta \\leq \\pi && (4.1) \n",
    "\\end{align}\n",
    "$$\n",
    "\n"
   ]
  },
  {
   "cell_type": "code",
   "execution_count": 1,
   "id": "73acb862-e3a2-4c11-8224-3a39ad04b211",
   "metadata": {},
   "outputs": [
    {
     "data": {
      "text/plain": [
       "0"
      ]
     },
     "execution_count": 1,
     "metadata": {},
     "output_type": "execute_result"
    }
   ],
   "source": [
    "cos(pi/2)"
   ]
  },
  {
   "cell_type": "code",
   "execution_count": 2,
   "id": "e3e5f326-8ce6-47ca-a1a1-d3472157837b",
   "metadata": {},
   "outputs": [
    {
     "data": {
      "text/plain": [
       "1"
      ]
     },
     "execution_count": 2,
     "metadata": {},
     "output_type": "execute_result"
    }
   ],
   "source": [
    "sin(pi/2)"
   ]
  },
  {
   "cell_type": "markdown",
   "id": "cc4f50c8-453e-41a7-bb8d-4293d843b8df",
   "metadata": {},
   "source": [
    "**Theorem 4.6** Let $u$ and $v$ be vectors in $L^3$ with $u \\cdot v$ defined by eq 4.1\n",
    "If ${\\mathbf{e}_1, \\mathbf{e}_2, \\mathbf{e}_3}$ is an orthonormal basis for $L^3$ and $u = u_1 \\mathbf{e}_1 + u_2 \\mathbf{e}_2 + u_3 \\mathbf{e}_3$\n",
    "and $v = v_1 \\mathbf{e}_1 + v_2 \\mathbf{e}_2 + v_3 \\mathbf{e}_3$, then\n",
    "\n",
    "$$ \\mathbf{u} \\cdot \\mathbf{v} = u_1 v_1 + u_2 v_2 + u_3 v_3 $$\n",
    "\n",
    "because\n",
    "\n",
    "$$\n",
    "\\begin{align}\n",
    "\\mathbf{e}_1 \\cdot \\mathbf{e}_2 = \\mathbf{e}_1 \\cdot \\mathbf{e}_3  = \\mathbf{e}_2 \\cdot \\mathbf{e}_3 &= 0 && \\text{Orthogonal} \\\\\n",
    "\\mathbf{e}_1 \\cdot \\mathbf{e}_1 = \\mathbf{e}_2 \\cdot \\mathbf{e}_2  = \\mathbf{e}_3 \\cdot \\mathbf{e}_3 &= 1 && \\text{Normalized}\n",
    "\\end{align}\n",
    "$$\n",
    "\n",
    "Proof\n",
    "\n",
    "**Exercise 4.14 (Polarization identity)**. The norm is defined in terms of the inner product:\n",
    "\n",
    "$|\\mathbf{v}|^2 = \\mathbf{v} \\cdot \\mathbf{v}$. Show that the inner product can be expressed in terms of the norm by the polarization identity:\n",
    "\n",
    "$$\n",
    "\\begin{align}\n",
    "        \\mathbf{u} \\cdot \\mathbf{v} &= \\frac{1}{2} (|\\mathbf{u}+\\mathbf{v}|^2 - |\\mathbf{u}|^2 -|\\mathbf{v}|^2) && (4.9)\n",
    "\\end{align}\n",
    "$$\n",
    "\n",
    "**Law of cosines**\n",
    "\n",
    "$$\n",
    "\\begin{align}\n",
    "|\\mathbf{u}+\\mathbf{v}|^2  &=  |\\mathbf{u}|^2 +|\\mathbf{v}|^2 - 2 |\\mathbf{u}| |\\mathbf{v}| \\cos \\theta && \\text{(law of cosines)}\n",
    "\\end{align}\n",
    "$$\n",
    "\n",
    "**Angles between vectors**\n",
    "\n",
    "$$\n",
    "\\begin{align}\n",
    "\\cos \\theta &= \\frac{\\mathbf{u} \\cdot \\mathbf{v}}{|\\mathbf{u}||\\mathbf{v}|} && \\text{(4.10)}\n",
    "\\end{align}\n",
    "$$\n"
   ]
  },
  {
   "cell_type": "code",
   "execution_count": 18,
   "id": "cd3bb7c0-7db9-4cf6-a9aa-941d1d002bf4",
   "metadata": {},
   "outputs": [
    {
     "data": {
      "text/plain": [
       "1"
      ]
     },
     "execution_count": 18,
     "metadata": {},
     "output_type": "execute_result"
    }
   ],
   "source": [
    "var('theta', 'alpha')\n",
    "alpha + theta == pi\n",
    "#cos(pi)\n",
    "#cos(0)\n",
    "sin(pi/2)\n"
   ]
  },
  {
   "cell_type": "code",
   "execution_count": 5,
   "id": "7b6f391d-8b19-492a-b63b-8e996bb12b83",
   "metadata": {},
   "outputs": [
    {
     "data": {
      "text/plain": [
       "cos(pi - theta)"
      ]
     },
     "execution_count": 5,
     "metadata": {},
     "output_type": "execute_result"
    }
   ],
   "source": [
    "cos(pi - theta)"
   ]
  },
  {
   "cell_type": "markdown",
   "id": "77e86854-61d4-4f5a-85d1-7be583eae2db",
   "metadata": {},
   "source": [
    "**what is this? inner product defined as integral**\n",
    "\n",
    "\\begin{align}\n",
    "f \\cdot g = \\int_{a} ^b f(x) g(x) dx && (4.11)\n",
    "\\end{align}\n",
    "\n",
    "**Theorem 4.18 (Fourier expansion)** Let $\\varepsilon = \\{ \\mathbf{e}_1, \\mathbf{e}_2, ..., \\mathbf{e}_n \\} $\n",
    "be an orthnormal basis for an inner product space $\\mathbf{V}$. Then for every $\\mathbf{v} \\in \\mathbf{V}$,\n",
    "\n",
    "$$\n",
    "\\begin{align}\n",
    "\\mathbf{v} = (\\mathbf{v} \\cdot \\mathbf{e}_1 ) \\mathbf{e}_1 + (\\mathbf{v} \\cdot \\mathbf{e}_2) \\mathbf{e}_2 + \\cdots + (\\mathbf{v} \\cdot \\mathbf{e}_n) \\mathbf{e}_n && (.4.12)\n",
    "\\end{align}\n",
    "$$\n",
    "\n",
    "This is the Fourier Expansion of $\\mathbf{v}$ with respect to $\\varepsilon$. It expresses $\\mathbf{v}$ as the sum of its projections on the basis vectors(Theorem 4.2).\n",
    "\n",
    "We will use Fourier expansions many times in this book. The expansion and its generalizations are a major theme in mathematics and its applications.\n",
    "\n",
    "**Theorem 4.19** Let $\\varepsilon = \\{ \\mathbf{e}_1, \\mathbf{e}_2, ..., \\mathbf{e}_n \\} $\n",
    "be an orthnormal basis for an $n$-dimensional inner product space $\\mathbf{V}$. Let \n",
    "$$\n",
    "\\begin{align}\n",
    "\\mathbf{u} = u_1 \\cdot \\mathbf{e}_1  + u_2 \\cdot \\mathbf{e}_2 + \\cdots + u_n \\cdot \\mathbf{e}_n \n",
    "\\end{align}\n",
    "$$\n",
    "and\n",
    "$$\n",
    "\\begin{align}\n",
    "\\mathbf{v} = v_1 \\cdot \\mathbf{e}_1 + v_2 \\cdot \\mathbf{e}_2 + \\cdots + v_n \\cdot \\mathbf{e}_n \n",
    "\\end{align}\n",
    "$$\n",
    "then\n",
    "$$\n",
    "\\begin{align}\n",
    "\\mathbf{u \\cdot v} = u_1  v_1  + u_2  v_2  + \\cdots + u_n  v_n && (.4.13)\n",
    "\\end{align}\n",
    "$$\n"
   ]
  },
  {
   "cell_type": "markdown",
   "id": "9aafea79-df30-4332-8a1c-e9ecddda01b3",
   "metadata": {},
   "source": [
    "**Theorem 4.21 (Gram-Schmidt orthogonlization)**\n",
    "a. Let $\\mathbf{u}_1, \\mathbf{u}_2, ... \\mathbf{u}_k$ be linearly independent vectors in an inner product space\n",
    "$\\mathbf{V}$. Then GramSchmidt orthogonalization produces nonzero orthogonal vectors $\\mathbf{b_1, b_2, ..., b_k} $ with the same span as the $\\mathbf{u}$'s.\n",
    "\n",
    "b. If $\\mathbf{V} = \\mathbb{R}^n$, then the volume of the parallelogram with edges $\\mathbf{u_i}$ is \n",
    "$\\mathbf{|b_1| |b_2|\\cdots |b_k|}$, the volume of the rectangular paralleogram with edges $\\mathbf{b_i}$\n",
    "\n",
    "The analog of a parallelogram in higher dimensions is usually called a \"paralleepiped\"\n",
    "\n"
   ]
  },
  {
   "cell_type": "markdown",
   "id": "894d0ad5-bd9d-41fd-8548-cbe1bdc05ba2",
   "metadata": {},
   "source": [
    "**Part II Geometric Algebra Chapter 5 $\\mathbb{G^5}$**\n",
    "\n",
    "The geometric algebra $\\mathbb{G^n}$ is an extension of the inner product space $\\mathbb{R^n}$. Members of  $\\mathbb{G^n}$ represent geometric objects of all dimensions in $\\mathbb{R^n}$. Algebraic operations of $\\mathbb{G^n}$ manipulate these geometric objects.\n",
    "\n",
    "**The Vector Space of Oriented Areas**\n",
    "\n",
    "Oriented areas in $\\mathbb{R^3}$ are a new kind of vector, they form a vector space. To show this we define scalar mulitplication, oriented area addition, and a zero.\n",
    "\n",
    "\n",
    "**Theorem 5.3** \n",
    "Let ${e_1, e_2}$ be an orthonormal basis for a plane. Orient the plane with $\\mathbf{e}_1 \\wedge \\mathbf{e}_2$.  Let \n",
    "$\\mathbf{u}$ and $\\mathbf{v}$ be vectors in the plane. \n",
    "\n",
    "Let $\\theta$ be the oriented angle from $\\mathbf{u}$ to $\\mathbf{v}$, $-\\pi < \\theta < \\pi$. Then\n",
    "\n",
    "$$ \n",
    "\\begin{align}\n",
    "\\mathbf{u} \\wedge \\mathbf{v} &= |\\mathbf{u}| |\\mathbf{v}| \\sin \\theta (\\mathbf{e}_1 \\wedge \\mathbf{e}_2)  && (5.1)\n",
    "\\end{align}\n",
    "$$\n",
    "\n",
    "**Coordinates**\n",
    "\n",
    "Let $\\mathbf{u} = u_1 \\mathbf{e_1} + u_2 \\mathbf{e_2}$ and $\\mathbf{v} = v_1 \\mathbf{e_1} + v_2 \\mathbf{e_2}$. \n",
    "\n",
    "$$\n",
    "\\begin{align}\n",
    "\\mathbf{u} \\wedge \\mathbf{v} &= (u_1 \\mathbf{e_1} + u_2 \\mathbf{e_2}) \\wedge (v_1 \\mathbf{e_1} + v_2 \\mathbf{e_2}) \\\\\n",
    " &= u_1 v_1 (\\mathbf{e_1} \\wedge \\mathbf{e_1}) + u_1 v_2(\\mathbf{e_1} \\wedge \\mathbf{e_2}) + u_2 v_1 ( \\mathbf{e_2} \\wedge \\mathbf{e_1}) + u_2 v_2 (\\mathbf{e_2} \\wedge \\mathbf{e_2}) \\\\\n",
    " &= (u_1 v_2 - u_2 v_1) ( \\mathbf{e_1} \\wedge \\mathbf{e_2})   &&  (5.2)\n",
    "\\end{align}\n",
    "$$\n",
    "\n",
    "Thus the oriented area of $\\mathbf{u} \\wedge \\mathbf{v}$ is $u_1 v_2 - u_2 v_1$\n",
    "\n",
    "**Theorem 5.4.**\n",
    "Let $\\mathbf{u} = u_1 \\mathbf{e_1} + u_2 \\mathbf{e_2} +  u_3 \\mathbf{e_3}$  and $\\mathbf{v} = v_1 \\mathbf{e_1} + v_2 \\mathbf{e_2} + v_3 \\mathbf{e_3}$. Then\n",
    "\n",
    "$$\n",
    "\\begin{align}\n",
    "\\mathbf{u} \\wedge \\mathbf{v} &= (u_3 v_2 - u_2 v_3) \\mathbf{e_3} \\wedge \\mathbf{e_2} + (u_1 v_3 - u_3 v_1) \\mathbf{e_1} \\wedge \\mathbf{e_3} + (u_2 v_1 - u_1 v_2) \\mathbf{e_2} \\wedge \\mathbf{e_1}&&  (5.3)\n",
    "\\end{align}\n",
    "$$\n",
    "and \n",
    "\n",
    "\n",
    "$$\n",
    "\\begin{align}\n",
    "|\\mathbf{u} \\wedge \\mathbf{v}|^2 &= (u_3v_2 - u_2 v_3)^2 + (u_1 v_3 - u_3 v_1)^2 +(u_2 v_1 - u_1 v_2)^2  &&  (5.4)\n",
    "\\end{align}\n",
    "$$\n",
    "\n",
    "Comparing Eqs. (5.3) and (5.4) shows that the latter is a \"Pythagorean Theorem for areas\"\n",
    "\n",
    "**Theorem 5.5** (Oriented area basis) The oriented areas \n",
    "$ \\{ \\mathbf{e_1} \\wedge \\mathbf{e_2}, \\mathbf{e_2} \\wedge \\mathbf{e_3}, \\mathbf{e_3} \\wedge \\mathbf{e_1}, \\}$ form a basis for the vector space of oriented areas.\n",
    "\n",
    "Therefore, the vector space of oriented areas is three dimensional.\n",
    "\n",
    "**5.2 Oriented Volumes**\n",
    "\n",
    "**Definition 5.6** (Oriented volume). An oriented volumn $T$ is an  oriented segment of (i.e., solid in ) three dimensional space.\n",
    "\n",
    "The volume of $T$ is called its norm. It is denoted $|T|$.\n",
    "\n",
    "\n",
    "*5.3* $\\mathbb{G}^3$ The Vector Space\n",
    "\n",
    "*Definition 5.7.* The vector space $\\mathbb{G}^3$ consists of objects of the ofrm\n",
    "$$M = s + \\mathbf{v} + \\mathbf{B} + \\mathbf{T} $$\n",
    "\n",
    "where $s$ is a scalar, $\\mathbf{v}$ is a vector, $\\mathbf{B}$ is a bivector, and \n",
    "$\\mathbf{T}$ is a trivector.\n",
    "\n",
    "**Basis** Scalars, vectors, bivectors, and trivectors each form a subspace of $\\mathbb{G}^3$.\n",
    "\n",
    "scalar basis: 1\n",
    "\n",
    "vector basis: $\\mathbf{e}_1$      $\\mathbf{e}_2$   $\\mathbf{e}_3$\n",
    "\n",
    "bivector basis: $\\mathbf{e}_1 \\wedge \\mathbf{e}_2$   $\\mathbf{e}_1 \\wedge \\mathbf{e}_3$   $\\mathbf{e}_2 \\wedge \\mathbf{e}_3$\n",
    "\n",
    "trivector basis: $\\mathbf{e}_1 \\wedge \\mathbf{e}_2 \\wedge \\mathbf{e}_3$\n",
    "\n",
    "**$\\mathbf{G}^3$: The Geometric Product**\n",
    "\n",
    "\\begin{align}\n",
    "\\mathbf{uv} = \\mathbf{u} \\cdot \\mathbf{v} + \\mathbf{u} \\wedge \\mathbf{v} && (5.7) \\text{fundamental identity}\n",
    "\\end{align}\n",
    "\n",
    "**5.4 Generalized Complex Nubmers**\n",
    "\n",
    "**Pseudoscalars**\n",
    "\n",
    "**Definition 5.10** (The unit pseudoscalar). Let $\\{ \\mathbf{e}_1, \\mathbf{e}_2 \\}$ be an orthonormal basis for a plane. Define the orientation of the plane to be that of $\\mathbf{e}_1 \\wedge \\mathbf{e}_2$. Then the bivector $\\mathbf{i} = \\mathbf{e}_1 \\wedge \\mathbf{e}_2 = \\mathbf{e}_1 \\mathbf{e}_2$ is the unit pseudoscalar of the oriented plane.\n",
    "\n"
   ]
  },
  {
   "cell_type": "markdown",
   "id": "efa27aa6-edc8-4404-842b-6afb15ca8602",
   "metadata": {},
   "source": [
    "**Exercise 5.13** The bases in Fig 5.14 are related by\n",
    "$$\n",
    "\\begin{align}\n",
    "\\mathbf{e'}_1 &= \\cos \\theta \\mathbf{e}_1 + \\sin \\theta \\mathbf{e}_2 \\\\\n",
    "\\mathbf{e'}_2 &= -\\sin \\theta \\mathbf{e}_1 + \\cos \\theta \\mathbf{e}_2  && (5.11)\n",
    "\\end{align}\n",
    "$$"
   ]
  },
  {
   "cell_type": "markdown",
   "id": "c4a3e88d-7271-4c1d-abd6-c5f778e650f4",
   "metadata": {},
   "source": [
    "proving $\\mathbf{i} = \\mathbf{i}'$\n",
    "\n",
    "Proof: \n",
    "\n",
    "$\\mathbf{i} = \\mathbf{e}_1 \\wedge \\mathbf{e}_2$\n",
    "\n",
    "$\\mathbf{i}' = \\mathbf{e}'_1 \\cdot \\mathbf{e}'_2 + \\mathbf{e}'_1 \\wedge \\mathbf{e}'_2$\n",
    "\n",
    "We want to show $\\mathbf{e}_1 \\wedge \\mathbf{e}_2 = \\mathbf{e}'_1 \\cdot \\mathbf{e}'_2 + \\mathbf{e}'_1 \\wedge \\mathbf{e}'_2$\n",
    "\n",
    "On the left hand side, we have an area of a square with length 1, by definition drawn with mathbf{e}_1 and mathbfe}_2, so it's area value is also $1 \\times 1 = 1$, and its orientation is counter clockwise.\n",
    "\n",
    "On the right hand side, \n",
    "\n",
    "$$\n",
    "\\begin{align}\n",
    "\\mathbf{e}'_1 \\cdot \\mathbf{e}'_2 &= (\\cos \\theta \\mathbf{e}_1 + \\sin \\theta \\mathbf{e}_2 ) \\cdot (-\\sin \\theta \\mathbf{e}_1 + \\cos \\theta \\mathbf{e}_2) \\\\\n",
    "&= \\cos \\theta \\mathbf{e}_1 (-\\sin \\theta \\mathbf{e}_1) + \\sin \\theta \\mathbf{e}_2  \\cos \\theta \\mathbf{e}_2 \\\\\n",
    "&=-\\cos \\theta \\sin \\theta \\mathbf{e}_1 ^2 +  \\sin \\theta \\cos \\theta  \\mathbf{e}_2 ^2 \\\\\n",
    "&=(-\\cos \\theta \\sin \\theta  + \\sin \\theta \\cos \\theta  )(\\mathbf{e}_1 ^2 +  \\mathbf{e}_2 ^2) \\\\\n",
    "&= 0 \\times (\\mathbf{e}_1 ^2 +  \\mathbf{e}_2 ^2) \\\\\n",
    "&= 0\n",
    "\\end{align}\n",
    "$$\n",
    "\n",
    "What remains to be proven is the following \n",
    "\n",
    "$\\mathbf{e}_1 \\wedge \\mathbf{e}_2 = \\mathbf{e}'_1 \\wedge \\mathbf{e}'_2$, and the orientation of $\\mathbf{e}'_1 \\wedge \\mathbf{e}'_2$ is also counter clockwise.\n",
    "\n",
    "We need to study Theorem 5.2 in more detail to develop the algebraic senses of outer product arithematics, so let's list them out:\n",
    "\n",
    "03)$a(u \\wedge v) = (a u) \\wedge v $, here I am extending this property to include the following:\n",
    "\n",
    "03.1) $a(u \\wedge v) = u \\wedge (a v)$\n",
    "\n",
    "04) $(u + v) \\wedge w = u \\wedge w + v \\wedge w$, we are extending this property to include the following cases:\n",
    "\n",
    "04.1) $w \\wedge ( u + v) = w \\wedge u + w \\wedge v$\n",
    "proof:(white board)\n",
    "\n",
    "04.2) $ (u + v ) \\wedge (w +z ) = u \\wedge w + u \\wedge z + z \\wedge w + v \\wedge z $\n",
    "proof: (white board)\n",
    "\n",
    "\n",
    "\n",
    "\n",
    "By (5.11), and applying Theorem 5.2, item 04, and its extension we come up with and proved, we have the following:\n",
    "$$\n",
    "\\begin{align}\n",
    "\\mathbf{e'}_1 \\wedge \\mathbf{e'}_2 &= (\\cos \\theta \\mathbf{e}_1 + \\sin \\theta \\mathbf{e}_2)  \\wedge (-\\sin \\theta \\mathbf{e}_1 + \\cos \\theta \\mathbf{e}_2) \\\\\n",
    "&= \\sin \\theta \\mathbf{e}_1 \\wedge \\cos \\theta \\mathbf{e}_1 + \\cos \\theta \\mathbf{e}_1 \\wedge \\cos \\theta \\mathbf{e}_2 + \\sin \\theta \\mathbf{e}_1 \\wedge \\sin \\theta \\mathbf{e}_2 + \\cos \\theta \\mathbf{e}_2 \\wedge \\sin \\theta \\mathbf{e}_2 \\\\ \n",
    "&= \\sin \\theta \\cos \\theta ( \\mathbf{e}_1 \\wedge  \\mathbf{e}_1) + \\cos \\theta \\mathbf{e}_1 \\wedge \\cos \\theta \\mathbf{e}_2 + \\sin \\theta \\mathbf{e}_1 \\wedge \\sin \\theta \\mathbf{e}_2 + \\cos \\theta \\sin \\theta (\\mathbf{e}_2 \\wedge  \\mathbf{e}_2) \\\\ \n",
    "&= \\cos ^2 \\theta  (\\mathbf{e}_1 \\wedge \\mathbf{e}_2) + \\sin ^2 \\theta (\\mathbf{e}_1 \\wedge \\mathbf{e}_2) \\\\\n",
    "&= (\\cos ^2 \\theta + \\sin ^2 \\theta ) (\\mathbf{e}_1 \\wedge \\mathbf{e}_2) \\\\\n",
    "&= \\mathbf{e}_1 \\wedge \\mathbf{e}_2\n",
    "\\end{align}\n",
    "$$\n",
    "\n",
    "Because $e_1, e_2$ ared defineds as unit pseudoscalar, which is essentially a unit square, with length of the sides to be equal to 1, we can conclude that \n",
    "$\\cos ^2 \\theta + sin ^2 \\theta = 1$, by the Pythegorean Theorem therefore we prove that:\n",
    "\n",
    "$\\mathbf{e}_1' \\wedge \\mathbf{e}_2' = \\mathbf{e}_1 \\wedge \\mathbf{e}_2 $, which says the unit pseduoscalar identity $\\mathbf{i}$ is unique given a plane, this is the imanginary number in the traditional complex number system, but now carries a clear geometric meaning, in the generalized complex number system.\n",
    "\n"
   ]
  },
  {
   "cell_type": "code",
   "execution_count": 13,
   "id": "3f6d5977-2333-4763-8a0b-736fe9183316",
   "metadata": {},
   "outputs": [
    {
     "data": {
      "image/png": "[encoded data removed]",
      "text/plain": [
       "Graphics object consisting of 4 graphics primitives"
      ]
     },
     "metadata": {},
     "output_type": "display_data"
    }
   ],
   "source": [
    "#define base vectors for plotting the Transformation at time t\n",
    "#e1_x = 1\n",
    "#e1_y = 0\n",
    "#e1_z = 0\n",
    "e1=vector([1,0]) \n",
    "#+ e1_z*[0,0,1])\n",
    "#e2_x = 0\n",
    "#e2_y = 1\n",
    "#e2_z = 0\n",
    "e2=vector([0,1])\n",
    "    #e2_x * [1,0,0] + e2_y *[0,1,0] + e2_z *[0,0,1])\n",
    "\n",
    "#e3_x = 0\n",
    "#e3_y = 0\n",
    "#e3_z = 1\n",
    "#e3=vector(e3_x *[1,0,0] + e3_y *[0,1,0] + e3_z*[0,0,1])\n",
    "\n",
    "e1Plot=plot(e1,  color='blue', thickness=1, aspect_ratio=1)\n",
    "e2Plot=plot(e2, color='blue', thickness=1, aspect_ratio=1)\n",
    "#e3Plot=plot(e3, legend_lable='Base Vector e3', color='blue', thickness=1)\n",
    "\n",
    "theta = (1/4)* pi\n",
    "\n",
    "#eprime1_x = 1 * cos(theta)\n",
    "#eprime1_y = 1 * sin(theta)\n",
    "#eprime1_z = 0\n",
    "eprime1= cos(theta)*e1 + sin(theta)*e2\n",
    "#vector(RR, eprime1_x *e1 + eprime1_y *e2 )\n",
    "\n",
    "#eprime2_x = cos(pi/2 - theta)* 1\n",
    "#eprime2_y = -sin(pi/2 - theta)*1\n",
    "#eprime2_z = 0\n",
    "eprime2= -sin(theta)*e1 + cos(theta)*e2\n",
    "#vector(RR, eprime2_x * e1 + eprime2_y *e2 )\n",
    "\n",
    "#eprime3_x = 0\n",
    "#eprime3_y = 0\n",
    "#eprime3_z = 1\n",
    "#eprime3=vector(RR, eprime3_x *[1,0,0] + e3prime_y *[0,1,0] + e3prime_z*[0,0,1])\n",
    "\n",
    "eprime1Plot=plot(eprime1,  color='red', thickness=1,aspect_ratio=1)\n",
    "eprime2Plot=plot(eprime2,  color='red', thickness=1, aspect_ratio=1)\n",
    "#eprime3Plot=plot(eprime3, legend_lable='Base Vector e3', color='red', thickness=1)\n",
    "\n",
    "all2 = e1Plot + e2Plot +  eprime1Plot + eprime2Plot \n",
    "all2.show()\n",
    "\n",
    "\n",
    "\n"
   ]
  },
  {
   "cell_type": "markdown",
   "id": "d37b0e95-df03-4eb1-bd28-d60cf467401e",
   "metadata": {},
   "source": [
    "**Exercise 5.14** \n",
    "a. prove $\\mathbf{i}^2 = -1$\n",
    "\n",
    "Proof:\n",
    "\n",
    "First question is what does $i ^2 $ mean? it means $i i$, now this got to be geometric product between i and itself.\n",
    "\n",
    "$\n",
    "\\begin{align}\n",
    "i^2 &= (e_1 \\wedge e_2) (e_1 \\wedge e_2) \\\\\n",
    "&= (e_1 \\wedge e_2) \\cdot (e_1 \\wedge e_2) + (e_1 \\wedge e_2) \\wedge (e_1 \\wedge e_2) \\\\\n",
    "&=\n",
    "\\end{align}\n",
    "$\n",
    "\n",
    "By(5.9) which says:\n",
    "$u \\cdot v = \\frac{1}{2} (uv + vu)$\n",
    "\n",
    "we simply the above equation of i^2 to be:\n",
    "\n",
    "$\\frac{1}{2}((e_1 \\wedge e_2) (e_1 \\wedge e_2) + (e_1 \\wedge e_2) (e_1 \\wedge e_2)) $\n",
    "\n",
    "\n",
    "b. Compute $\\mathbf{i}^0, \\mathbf{i}^1, \\mathbf{i}^2, \\mathbf{i}^3, \\mathbf{i}^4, \\mathbf{i}^5, \\mathbf{i}^6, \\mathbf{i}^7, \\mathbf{i}^8,\\mathbf{i}^9, $\n",
    "\n",
    "**Exercise 5.15** Let $\\{ \\mathbf{e}_1, \\mathbf{e}_2, \\mathbf{e}_3 \\}$ be an orthonormal basis for $\\mathbb{R}^3$. Then $ \\mathbf{I} = \\mathbf{e}_1 \\mathbf{e}_2 \\mathbf{e}_3$ is a unit pseudoscalar for $\\mathbb{G}^3$. Once again, $\\mathbb{I}$ is independent, except for sign, of the orthonomral basis. Show that $\\mathbf{I}^2 = -1$. Note: In $\\mathbb{G}^4, \\mathbf{I}^2 = +1$\n",
    "\n",
    "\n",
    "**My Note:** I think $\\mathbb{G}^4$ has no practical application, because once you go beyond 3 dimensions, you got to have time as the extra dimension, and space would only take up 3 dimensions, so mathematical i^2 = -1, would be true for all density in the Cosmic Creation Model, reference: Keylontic Sciene Literature\n"
   ]
  },
  {
   "cell_type": "code",
   "execution_count": null,
   "id": "19b867fe-3473-4746-a76c-3af1300b2722",
   "metadata": {},
   "outputs": [],
   "source": []
  },
  {
   "cell_type": "code",
   "execution_count": 5,
   "id": "c360d9fc-b916-4c42-bf58-b12f5031301d",
   "metadata": {},
   "outputs": [],
   "source": [
    "# G3: Standard 3D Model\n",
    "#######CELL 1######\n",
    "# Make SymPy available to this program:\n",
    "import sympy \n",
    "from sympy import *\n",
    "\n",
    "# Make GAlgebra available to this program:\n",
    "from galgebra.ga import *  \n",
    "from galgebra.mv import *\n",
    "from galgebra.printer import Fmt, GaPrinter, Format\n",
    "    # Fmt:       sets the way that a multivector's basis expansion is output.\n",
    "    # GaPrinter: makes GA output a little more readable.\n",
    "    # Format:    turns on latex printer.\n",
    "from galgebra.gprinter import gFormat, gprint\n",
    "gFormat()"
   ]
  },
  {
   "cell_type": "code",
   "execution_count": 6,
   "id": "bf39cfad-f6d5-46f8-8f1b-1cdacd3cb782",
   "metadata": {},
   "outputs": [],
   "source": [
    "######CELL 2#######\n",
    "# g3: The geometric algebra G^3.\n",
    "g3coords = (x,y,z) = symbols('x y z', real=True)\n",
    "g3 = Ga('e', g=[1,1,1], coords=g3coords)\n",
    "(ex, ey, ez) = g3.mv()\n",
    "\n",
    "grad = g3.grad\n",
    "from galgebra.dop import *\n",
    "pdx = Pdop(x)\n",
    "pdy = Pdop(y)\n",
    "pdz = Pdop(z)"
   ]
  },
  {
   "cell_type": "code",
   "execution_count": 3,
   "id": "88d0bd2c-5904-4294-9f30-767e3be77113",
   "metadata": {},
   "outputs": [
    {
     "data": {
      "text/latex": [
       "$\\displaystyle   \\boldsymbol{e}_{x}\\wedge \\boldsymbol{e}_{y} $"
      ],
      "text/plain": [
       "<IPython.core.display.Math object>"
      ]
     },
     "metadata": {},
     "output_type": "display_data"
    }
   ],
   "source": [
    "#A = y*ex + 3*ex*ey\n",
    "#B = x*ey\n",
    "gprint(ex * ey)"
   ]
  },
  {
   "cell_type": "code",
   "execution_count": 13,
   "id": "af7de5d0-cd3d-4dfa-9f13-450413276e86",
   "metadata": {},
   "outputs": [
    {
     "data": {
      "text/latex": [
       "\\begin{equation*}  \\boldsymbol{e}_{x}\\wedge \\boldsymbol{e}_{y}\\wedge \\boldsymbol{e}_{z} \\end{equation*}"
      ],
      "text/plain": [
       "e_x^e_y^e_z"
      ]
     },
     "execution_count": 13,
     "metadata": {},
     "output_type": "execute_result"
    }
   ],
   "source": [
    "from galgebra.mv import *\n",
    "g3.I()\n",
    "#V = g3.mv('V', 'vector')\n",
    "#gprint(V)"
   ]
  },
  {
   "cell_type": "code",
   "execution_count": 20,
   "id": "157ed035-5dcc-497f-beee-ae8ba8e8575f",
   "metadata": {},
   "outputs": [
    {
     "data": {
      "text/latex": [
       "\\begin{equation*} -1 \\end{equation*}"
      ],
      "text/plain": [
       "-1"
      ]
     },
     "execution_count": 20,
     "metadata": {},
     "output_type": "execute_result"
    }
   ],
   "source": [
    "g3.I()* g3.I()"
   ]
  },
  {
   "cell_type": "code",
   "execution_count": 21,
   "id": "723d47bc-2702-4e67-b7f3-d3b9afa8a211",
   "metadata": {},
   "outputs": [
    {
     "data": {
      "text/latex": [
       "\\begin{equation*} -1 \\end{equation*}"
      ],
      "text/plain": [
       "-1"
      ]
     },
     "execution_count": 21,
     "metadata": {},
     "output_type": "execute_result"
    }
   ],
   "source": [
    "ex*ey*ex*ey"
   ]
  },
  {
   "cell_type": "code",
   "execution_count": 22,
   "id": "f9f770a2-f202-4779-984c-270b2f12be2c",
   "metadata": {},
   "outputs": [
    {
     "data": {
      "text/latex": [
       "\\begin{equation*} - \\boldsymbol{e}_{x}\\wedge \\boldsymbol{e}_{y}\\wedge \\boldsymbol{e}_{z} \\end{equation*}"
      ],
      "text/plain": [
       "-e_x^e_y^e_z"
      ]
     },
     "execution_count": 22,
     "metadata": {},
     "output_type": "execute_result"
    }
   ],
   "source": [
    "g3.I()* g3.I()*g3.I()"
   ]
  },
  {
   "cell_type": "code",
   "execution_count": 23,
   "id": "be33a41d-6d91-4957-8464-d53ae4db1bc1",
   "metadata": {},
   "outputs": [
    {
     "data": {
      "text/latex": [
       "\\begin{equation*} 1 \\end{equation*}"
      ],
      "text/plain": [
       "1"
      ]
     },
     "execution_count": 23,
     "metadata": {},
     "output_type": "execute_result"
    }
   ],
   "source": [
    "g3.I()* g3.I()*g3.I()*g3.I()"
   ]
  },
  {
   "cell_type": "code",
   "execution_count": 24,
   "id": "c7fa226a-2ca1-4e4a-8854-666b8add8aa7",
   "metadata": {},
   "outputs": [
    {
     "data": {
      "text/latex": [
       "\\begin{equation*}  \\boldsymbol{e}_{x}\\wedge \\boldsymbol{e}_{y}\\wedge \\boldsymbol{e}_{z} \\end{equation*}"
      ],
      "text/plain": [
       "e_x^e_y^e_z"
      ]
     },
     "execution_count": 24,
     "metadata": {},
     "output_type": "execute_result"
    }
   ],
   "source": [
    "g3.I()* g3.I()*g3.I()*g3.I()*g3.I()"
   ]
  },
  {
   "cell_type": "code",
   "execution_count": 25,
   "id": "d0b532d0-49e9-4e74-835f-15e8e0c122fe",
   "metadata": {},
   "outputs": [
    {
     "data": {
      "text/latex": [
       "\\begin{equation*} -1 \\end{equation*}"
      ],
      "text/plain": [
       "-1"
      ]
     },
     "execution_count": 25,
     "metadata": {},
     "output_type": "execute_result"
    }
   ],
   "source": [
    "g3.I()* g3.I()*g3.I()*g3.I()*g3.I()*g3.I()"
   ]
  },
  {
   "cell_type": "code",
   "execution_count": 26,
   "id": "f4104da9-7afe-4958-b586-12144e46d2f4",
   "metadata": {},
   "outputs": [
    {
     "data": {
      "text/latex": [
       "\\begin{equation*} - \\boldsymbol{e}_{x}\\wedge \\boldsymbol{e}_{y}\\wedge \\boldsymbol{e}_{z} \\end{equation*}"
      ],
      "text/plain": [
       "-e_x^e_y^e_z"
      ]
     },
     "execution_count": 26,
     "metadata": {},
     "output_type": "execute_result"
    }
   ],
   "source": [
    "g3.I()* g3.I()*g3.I()*g3.I()*g3.I()*g3.I()*g3.I()"
   ]
  },
  {
   "cell_type": "code",
   "execution_count": 27,
   "id": "0d6ce21d-c0fa-442a-ad78-f632f81d950f",
   "metadata": {},
   "outputs": [
    {
     "data": {
      "text/latex": [
       "\\begin{equation*} 1 \\end{equation*}"
      ],
      "text/plain": [
       "1"
      ]
     },
     "execution_count": 27,
     "metadata": {},
     "output_type": "execute_result"
    }
   ],
   "source": [
    "g3.I()* g3.I()*g3.I()*g3.I()*g3.I()*g3.I()*g3.I()*g3.I()"
   ]
  },
  {
   "cell_type": "code",
   "execution_count": 28,
   "id": "bf324498-271d-495e-a9fc-2fbb7deb2847",
   "metadata": {},
   "outputs": [
    {
     "data": {
      "text/latex": [
       "\\begin{equation*}  \\boldsymbol{e}_{x}\\wedge \\boldsymbol{e}_{y}\\wedge \\boldsymbol{e}_{z} \\end{equation*}"
      ],
      "text/plain": [
       "e_x^e_y^e_z"
      ]
     },
     "execution_count": 28,
     "metadata": {},
     "output_type": "execute_result"
    }
   ],
   "source": [
    "g3.I()* g3.I()*g3.I()*g3.I()*g3.I()*g3.I()*g3.I()*g3.I()*g3.I()"
   ]
  },
  {
   "cell_type": "markdown",
   "id": "ed992a31-4cc3-4aee-aac2-17bc6b22d77e",
   "metadata": {},
   "source": [
    "**Exercise 5.15** Let $\\{ \\mathbf{e}_1, \\mathbf{e}_2, \\mathbf{e}_3 \\}$ be an orthonormal basis for $\\mathbb{R}^3$. Then $\\mathbf{I} = \\mathbf{e}_1 \\mathbf{e}_2 \\mathbf{e}_3 $ is a unit pseudosclar for $\\mathbb{G}^3$. $\\mathbf{I}$ is independent, except for sign, of the orthonormal basis. Show $\\mathbf{I} ^2 = -1$. Note: in $\\mathbb{G}^4$, $\\mathbf{I}^2 = +1$"
   ]
  },
  {
   "cell_type": "code",
   "execution_count": 30,
   "id": "a028e88b-4433-474f-8f8d-fdf79b7bcae1",
   "metadata": {},
   "outputs": [
    {
     "data": {
      "text/latex": [
       "\\begin{equation*}  \\boldsymbol{e}_{x}\\wedge \\boldsymbol{e}_{y}\\wedge \\boldsymbol{e}_{z} \\end{equation*}"
      ],
      "text/plain": [
       "e_x^e_y^e_z"
      ]
     },
     "execution_count": 30,
     "metadata": {},
     "output_type": "execute_result"
    }
   ],
   "source": [
    "g3.I()"
   ]
  },
  {
   "cell_type": "code",
   "execution_count": 31,
   "id": "88c6238a-ddae-49f2-94f7-b43144b088f1",
   "metadata": {},
   "outputs": [
    {
     "data": {
      "text/latex": [
       "\\begin{equation*} -1 \\end{equation*}"
      ],
      "text/plain": [
       "-1"
      ]
     },
     "execution_count": 31,
     "metadata": {},
     "output_type": "execute_result"
    }
   ],
   "source": [
    "g3.I() * g3.I()"
   ]
  },
  {
   "cell_type": "markdown",
   "id": "70ae1c63-184a-4883-91dc-d19ef2aea603",
   "metadata": {},
   "source": [
    "**Theorem 5.11** Every bivector in $\\mathbb{G}^3$ is of the form $b \\mathbf{i}$ for some plane $\\mathbf{i}$\n",
    "\n",
    "**Definition 5.12** (Angle $\\mathbf{i}\\theta$). Consider an angle $\\theta$ in a plane $\\mathbf{i}$. We call the bivector $\\mathbf{i}\\theta$ an angle also. The bivector specifies both the plane $\\mathbf{i}$ in which it resides and its size $\\theta$. Changing the plane's orientation changes the sign of both $\\mathbf{i}$ and $\\theta$, leaving $\\mathbf{i}\\theta$ unchanged.\n",
    "\n",
    "**Definition 5.13** $(e^{\\mathbf{i} \\theta})$. Define the exponential \n",
    "$$e^{\\mathbf{i} \\theta} = \\cos \\theta + \\mathbf{i} \\sin \\theta$$. \n",
    "\n",
    "More generally, for scalars $r$ and $s$ we can define \n",
    "$$e^{r+si} = e^r e^{s \\mathbf{i}} = e^r (\\cos s + \\mathbf{i} \\sin s)$$\n",
    "\n",
    "**Exercise 5.16** Compute\n",
    "\n",
    "a. $e^{\\mathbf{i} \\pi /4}$\n",
    "\n",
    "b. $e^{\\mathbf{i} \\pi /2}$\n",
    "\n",
    "c. $e^{\\mathbf{i} \\pi}$\n",
    "\n",
    "d. $e^{\\mathbf{i} 2 \\pi}$"
   ]
  },
  {
   "cell_type": "code",
   "execution_count": 33,
   "id": "5bca929f-f8ac-456e-8ef7-a165a126e98b",
   "metadata": {},
   "outputs": [
    {
     "ename": "NameError",
     "evalue": "name 'e' is not defined",
     "output_type": "error",
     "traceback": [
      "\u001b[0;31m---------------------------------------------------------------------------\u001b[0m",
      "\u001b[0;31mNameError\u001b[0m                                 Traceback (most recent call last)",
      "Input \u001b[0;32mIn [33]\u001b[0m, in \u001b[0;36m<cell line: 1>\u001b[0;34m()\u001b[0m\n\u001b[0;32m----> 1\u001b[0m \u001b[43me\u001b[49m\u001b[38;5;241m^\u001b[39m(I \u001b[38;5;241m*\u001b[39m pi \u001b[38;5;241m/\u001b[39m\u001b[38;5;241m4\u001b[39m)\n",
      "\u001b[0;31mNameError\u001b[0m: name 'e' is not defined"
     ]
    }
   ],
   "source": [
    "e^(I * pi /4)"
   ]
  },
  {
   "cell_type": "markdown",
   "id": "0fc58ec2-d311-40fa-bead-42c1c390909f",
   "metadata": {},
   "source": [
    "**Theorem 5.14** $e^{\\mathbf{i} \\theta}$ properties. \n",
    "\n",
    "a. $$e^{\\mathbf{i} \\theta_1} e^{\\mathbf{i} \\theta_2} = e^{\\mathbf{i}(\\theta_1 + \\theta_2)}$$\n",
    "\n",
    "(Be careful: In general, if $i_1 \\neq i_2$, then $e^{i_1 \\theta_1} e^{i_2 \\theta_2} \\neq e^{i_1 \\theta_1 + i_2 \\theta_2}$\n",
    "\n",
    "b. $$(e^{i \\theta})^{-1} = e ^{- \\mathbf{i} \\theta} $$"
   ]
  },
  {
   "cell_type": "markdown",
   "id": "6759b267-07e9-4224-ada0-649893d2a45c",
   "metadata": {},
   "source": [
    "**Generalized Complex Numbers**\n",
    "\n",
    "**Theorem 5.15** Let $\\mathbf{u}$ and $\\mathbf{v}$ be vectors and $\\mathbf{i} \\theta$ be the angle from $\\mathbf{u}$  to $\\mathbf{v}$. Set\n",
    "$r =|u| |v|, a = r \\cos \\theta$, and $b = r \\sin \\theta$.  Thus $a^2 + b^2 = r^2$. Then\n",
    "\n",
    "$$\\mathbf{uv} = r e^{\\mathbf{i} \\theta} = a + b \\mathbf{i}$$\n",
    "\n",
    "Proof. Use Eqs. (4.1) and (5.1) in Step (2):\n",
    "\n",
    "$$\n",
    "\\mathbf{uv} = \\mathbf{u} \\cdot \\mathbf{v} + \\mathbf{u} \\wedge \\mathbf{v} = |\\mathbf{u}| |\\mathbf{v}| \\cos \\theta + |\\mathbf{u}| |\\mathbf{v}| \\mathbf{i} \\sin \\theta\n",
    "= r(\\cos \\theta + \\mathbf{i} \\sin \\theta)\n",
    "$$\n",
    "\n",
    "\n",
    "Note also that a multivector of the $a + bi$ is a product of two vectors:\n",
    "\n",
    "$$ a + b \\mathbf{i} = a + b\\mathbf{e}_1 \\mathbf{e}_2 = \\mathbf{e}_1(a \\mathbf{e}_1 + b \\mathbf{e}_2)$$ \n",
    "\n",
    "for example.\n",
    "\n",
    "**Exercise 5.18** Express $6 e^{\\mathbf{i} 2 \\pi /3}$ as a product of two vectors"
   ]
  },
  {
   "cell_type": "code",
   "execution_count": null,
   "id": "2d31618c-66db-4345-9d1f-3590a0d57963",
   "metadata": {},
   "outputs": [],
   "source": []
  },
  {
   "cell_type": "markdown",
   "id": "d829fa35-8068-4e49-984a-bebe1dc6df4c",
   "metadata": {},
   "source": [
    "**Definition 5.16** (Generalized Complex Number). A generalized complex number is a multivector which can be put in one, and thus all, of the forms in Eq. (5.12)\n",
    "\n",
    "$a + b\\mathbf{i}$ the cartesian form\n",
    "\n",
    "$re^{\\mathbf{i} \\theta}$ the polar form\n",
    "\n",
    "The generalized complex number $re^{\\mathbf{i}\\theta}$ is represented geometrically as an oriented arc of a circle of radius $r$.\n",
    "\n",
    "The arc is in the plane $\\mathbf{i}$ and subtends the angle $\\mathbf{i}\\theta$.\n",
    "\n",
    "See Fig 5.15. The arc can be moved around the circle w/o changing $re^{\\mathbf{i} \\theta}$, just as a vector can be moved along a line w/o changing it."
   ]
  },
  {
   "cell_type": "code",
   "execution_count": null,
   "id": "ad4bce81-dad4-4566-94c5-b49fbe24b8e2",
   "metadata": {},
   "outputs": [],
   "source": []
  },
  {
   "cell_type": "markdown",
   "id": "cdd412de-f3c4-42d9-8e4f-6d4361456a87",
   "metadata": {},
   "source": [
    "**Theorem 5.17** (Complex conjugate). Let $Z=\\mathbf{uv} = re^{\\mathbf{i} \\theta} = a+ b\\mathbf{i}$ be a generalized complex number. Then\n",
    "\n",
    "$$\n",
    "\\mathbf{vu} = re^{-\\mathbf{i}theta} = a - b\\mathbf{i}\n",
    "$$\n",
    "\n",
    "This is the complex conjugate $\\bar{Z} $ of $Z$\n",
    "\n",
    "**Theorem 5.18** (Norm). Let $Z= \\mathbf{uv} = re^{\\mathbf{i}\\theta} = a+b\\mathbf{i}$ be a generalized complex number. Then\n",
    "\n",
    "$$ |\\mathbf{u}||\\mathbf{v}| = r = \\sqrt{a^2 + b^2} $$\n",
    "\n",
    "This is the norm $|Z|$ of $Z$.\n",
    "\n",
    "**Theorem 5.19** Let $Z$ be a generalized complex number. Then $|Z|^2 = Z \\bar{Z}$.\n",
    "Thus if $Z \\neq 0$, then $Z^{-1}$ exists and $Z^{-1} = \\frac{\\bar{Z}} {|Z|^2}$."
   ]
  },
  {
   "cell_type": "markdown",
   "id": "cc008765-8488-450c-80a5-643f02482097",
   "metadata": {},
   "source": [
    "**Complex Numbers**\n",
    "\n",
    "**Definition 5.20** (Complex number). A generalized complex number in $\\mathbb{G}^2$ is called a complex number.\n",
    "\n",
    "**Theorem 5.21** (Complex number properties). Let $Z_1 = a_1 + b_1 \\mathbf{i} = r_1 e^{\\mathbf{i} \\theta_1}$ and $Z_2 = a_2 + b_2 \\mathbf{i} = r_2 e^{\\mathbf{i} \\theta_2}$ be complex numbers. Then\n",
    "\n",
    "a. $(a_1 + b_1\\mathbf{i}) + (a_2 + b_2 \\mathbf{i}) = (a_1 + a_2) + (b_1 + b_2) \\mathbf{i}$.\n",
    "\n",
    "b. $(a_1 + b_1 \\mathbf{i}) (a_2 + b_2 \\mathbf{i}) = (a_1 a_2 - b_1 b_2) + (a_1 b_2 + a2 b_1) \\mathbf{i}$.\n",
    "\n",
    "Part a) and b) tell us that complex numbers are closed under multivector addition and multiplication and that they commute under the two operations.\n",
    "\n",
    "c) $\\overline{Z_1 + Z_2} = \\overline{Z_1} + \\overline{Z_2}$\n",
    "\n",
    "d) $\\overline{Z_1 Z_2} = \\overline{Z_1} \\overline{Z_2}$.\n",
    "\n",
    "e. $|Z_1 Z_2| = |Z_1| |Z_2| $."
   ]
  },
  {
   "cell_type": "markdown",
   "id": "b3668ead-6ac5-4dc1-aa4f-52efeddc07ae",
   "metadata": {},
   "source": [
    "Complex numbers in Geometric Algebra do not have the same geometric interpretation as traditional complex numbers, which is a point in a plane. Geometric algebra complex numbers are interpreted as oriented circular arcs."
   ]
  },
  {
   "cell_type": "markdown",
   "id": "b3273398-e0fc-4718-b6d9-9e26a6cb5b0f",
   "metadata": {},
   "source": [
    "**Quaternions**\n",
    "\n",
    "**Definition 5.22** (Quaternion). A generalized complex number in $\\mathbb{G}^3$ is called a quaternion or spinor.\n",
    "\n",
    "The bivectors\n",
    "\n",
    "$\\{\\mathbf{i}_3 = \\mathbf{e}_2 \\mathbf{e}_1, \\mathbf{i_1} = \\mathbf{e}_3 \\mathbf{e}_2, \\mathbf{i}_2 = \\mathbf{e_1} \\mathbf{e_3} \\}$ \n",
    "\n",
    "form a basis for the bivectors in $\\mathbb{G}^3$. (They are the negaives of the bivectors basis from Theorem 5.5).  Thus every bivector $b\\mathbf{i}$ can be written $b\\mathbf{i} = b_1 \\mathbf{i}_1 + b_2 \\mathbf{i}_2 + b_3 \\mathbf{i}_3 $.\n",
    "\n",
    "Thus quaternions are those multivectors in $\\mathbb{G}^3$ which can be put in the form\n",
    "\n",
    "$$\n",
    "\\begin{align}\n",
    "a+ b_1 \\mathbf{i}_1 + b_2 \\mathbf{i}_2 + b_3 \\mathbf{i}_3 && (5.13)\n",
    "\\end{align}\n",
    "$$"
   ]
  },
  {
   "cell_type": "markdown",
   "id": "a199b5fd-7008-414f-bed5-15bf8c42558b",
   "metadata": {},
   "source": [
    "**5.5 Rotations in $\\mathbb{R}^3$**\n",
    "\n",
    "**Representing Rotations**\n",
    "\n",
    "The usual way to specify a rotation in $\\mathbb{R}^3$ is by its axis $\\mathbf{n}$ and scalar rotation angle $\\theta$. Instead, we will specify the rotation by the plane $\\mathbf{i}$ orthogonal to its axis(the \"plane of the rotation\") and $\\theta$ (the \"size of the rotation\"). Then the bivector angle $\\mathbf{i}\\theta$ completely specifies the rotation.\n",
    "\n"
   ]
  },
  {
   "cell_type": "code",
   "execution_count": null,
   "id": "4be61d55-2534-4dfe-827c-d44f3a30731b",
   "metadata": {},
   "outputs": [],
   "source": []
  }
 ],
 "metadata": {
  "kernelspec": {
   "display_name": "SageMath 9.7",
   "language": "sage",
   "name": "sagemath"
  },
  "language_info": {
   "codemirror_mode": {
    "name": "ipython",
    "version": 3
   },
   "file_extension": ".py",
   "mimetype": "text/x-python",
   "name": "python",
   "nbconvert_exporter": "python",
   "pygments_lexer": "ipython3",
   "version": "3.10.12"
  }
 },
 "nbformat": 4,
 "nbformat_minor": 5
}
