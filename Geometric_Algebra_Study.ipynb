{
 "cells": [
  {
   "cell_type": "markdown",
   "id": "11c7f083-64cd-4aeb-9fb6-21eeb3885ade",
   "metadata": {},
   "source": [
    "**Alan MacDonald Text**\n",
    "\n",
    "\n",
    "**Coordinates**\n",
    "\n",
    "cooridate-free geometric defintion of the inner product of two oriented lengths:\n",
    "\n",
    "$$\n",
    "\\begin{align}\n",
    "\\mathbf{u} \\cdot \\mathbf{v} = |\\mathbf{u}| |\\mathbf{v}| \\cos \\theta, 0 \\leq \\theta \\leq \\pi && (4.1) \n",
    "\\end{align}\n",
    "$$\n",
    "\n"
   ]
  },
  {
   "cell_type": "code",
   "execution_count": 21,
   "id": "73acb862-e3a2-4c11-8224-3a39ad04b211",
   "metadata": {},
   "outputs": [
    {
     "data": {
      "text/plain": [
       "-1"
      ]
     },
     "execution_count": 21,
     "metadata": {},
     "output_type": "execute_result"
    }
   ],
   "source": [
    "cos(pi)"
   ]
  },
  {
   "cell_type": "code",
   "execution_count": 2,
   "id": "e3e5f326-8ce6-47ca-a1a1-d3472157837b",
   "metadata": {},
   "outputs": [
    {
     "data": {
      "text/plain": [
       "1"
      ]
     },
     "execution_count": 2,
     "metadata": {},
     "output_type": "execute_result"
    }
   ],
   "source": [
    "sin(pi/2)"
   ]
  },
  {
   "cell_type": "markdown",
   "id": "cc4f50c8-453e-41a7-bb8d-4293d843b8df",
   "metadata": {},
   "source": [
    "**Theorem 4.6** Let $u$ and $v$ be vectors in $L^3$ with $u \\cdot v$ defined by eq 4.1\n",
    "If ${\\mathbf{e}_1, \\mathbf{e}_2, \\mathbf{e}_3}$ is an orthonormal basis for $L^3$ and $u = u_1 \\mathbf{e}_1 + u_2 \\mathbf{e}_2 + u_3 \\mathbf{e}_3$\n",
    "and $v = v_1 \\mathbf{e}_1 + v_2 \\mathbf{e}_2 + v_3 \\mathbf{e}_3$, then\n",
    "\n",
    "$$ \\mathbf{u} \\cdot \\mathbf{v} = u_1 v_1 + u_2 v_2 + u_3 v_3 $$\n",
    "\n",
    "because\n",
    "\n",
    "$$\n",
    "\\begin{align}\n",
    "\\mathbf{e}_1 \\cdot \\mathbf{e}_2 = \\mathbf{e}_1 \\cdot \\mathbf{e}_3  = \\mathbf{e}_2 \\cdot \\mathbf{e}_3 &= 0 && \\text{Orthogonal} \\\\\n",
    "\\mathbf{e}_1 \\cdot \\mathbf{e}_1 = \\mathbf{e}_2 \\cdot \\mathbf{e}_2  = \\mathbf{e}_3 \\cdot \\mathbf{e}_3 &= 1 && \\text{Normalized}\n",
    "\\end{align}\n",
    "$$\n",
    "\n",
    "Proof\n",
    "\n",
    "**Exercise 4.14 (Polarization identity)**. The norm is defined in terms of the inner product:\n",
    "\n",
    "$|\\mathbf{v}|^2 = \\mathbf{v} \\cdot \\mathbf{v}$. Show that the inner product can be expressed in terms of the norm by the polarization identity:\n",
    "\n",
    "$$\n",
    "\\begin{align}\n",
    "        \\mathbf{u} \\cdot \\mathbf{v} &= \\frac{1}{2} (|\\mathbf{u}+\\mathbf{v}|^2 - |\\mathbf{u}|^2 -|\\mathbf{v}|^2) && (4.9)\n",
    "\\end{align}\n",
    "$$\n",
    "\n",
    "**Law of cosines**\n",
    "\n",
    "$$\n",
    "\\begin{align}\n",
    "|\\mathbf{u}+\\mathbf{v}|^2  &=  |\\mathbf{u}|^2 +|\\mathbf{v}|^2 - 2 |\\mathbf{u}| |\\mathbf{v}| \\cos \\theta && \\text{(law of cosines)}\n",
    "\\end{align}\n",
    "$$\n",
    "\n",
    "**Angles between vectors**\n",
    "\n",
    "$$\n",
    "\\begin{align}\n",
    "\\cos \\theta &= \\frac{\\mathbf{u} \\cdot \\mathbf{v}}{|\\mathbf{u}||\\mathbf{v}|} && \\text{(4.10)}\n",
    "\\end{align}\n",
    "$$\n"
   ]
  },
  {
   "cell_type": "code",
   "execution_count": 18,
   "id": "cd3bb7c0-7db9-4cf6-a9aa-941d1d002bf4",
   "metadata": {},
   "outputs": [
    {
     "data": {
      "text/plain": [
       "1"
      ]
     },
     "execution_count": 18,
     "metadata": {},
     "output_type": "execute_result"
    }
   ],
   "source": [
    "var('theta', 'alpha')\n",
    "alpha + theta == pi\n",
    "#cos(pi)\n",
    "#cos(0)\n",
    "sin(pi/2)\n"
   ]
  },
  {
   "cell_type": "code",
   "execution_count": 5,
   "id": "7b6f391d-8b19-492a-b63b-8e996bb12b83",
   "metadata": {},
   "outputs": [
    {
     "data": {
      "text/plain": [
       "cos(pi - theta)"
      ]
     },
     "execution_count": 5,
     "metadata": {},
     "output_type": "execute_result"
    }
   ],
   "source": [
    "cos(pi - theta)"
   ]
  },
  {
   "cell_type": "markdown",
   "id": "77e86854-61d4-4f5a-85d1-7be583eae2db",
   "metadata": {},
   "source": [
    "**what is this? inner product defined as integral**\n",
    "\n",
    "\\begin{align}\n",
    "f \\cdot g = \\int_{a} ^b f(x) g(x) dx && (4.11)\n",
    "\\end{align}\n",
    "\n",
    "**Theorem 4.18 (Fourier expansion)** Let $\\varepsilon = \\{ \\mathbf{e}_1, \\mathbf{e}_2, ..., \\mathbf{e}_n \\} $\n",
    "be an orthnormal basis for an inner product space $\\mathbf{V}$. Then for every $\\mathbf{v} \\in \\mathbf{V}$,\n",
    "\n",
    "$$\n",
    "\\begin{align}\n",
    "\\mathbf{v} = (\\mathbf{v} \\cdot \\mathbf{e}_1 ) \\mathbf{e}_1 + (\\mathbf{v} \\cdot \\mathbf{e}_2) \\mathbf{e}_2 + \\cdots + (\\mathbf{v} \\cdot \\mathbf{e}_n) \\mathbf{e}_n && (.4.12)\n",
    "\\end{align}\n",
    "$$\n",
    "\n",
    "This is the Fourier Expansion of $\\mathbf{v}$ with respect to $\\varepsilon$. It expresses $\\mathbf{v}$ as the sum of its projections on the basis vectors(Theorem 4.2).\n",
    "\n",
    "We will use Fourier expansions many times in this book. The expansion and its generalizations are a major theme in mathematics and its applications.\n",
    "\n",
    "**Theorem 4.19** Let $\\varepsilon = \\{ \\mathbf{e}_1, \\mathbf{e}_2, ..., \\mathbf{e}_n \\} $\n",
    "be an orthnormal basis for an $n$-dimensional inner product space $\\mathbf{V}$. Let \n",
    "$$\n",
    "\\begin{align}\n",
    "\\mathbf{u} = u_1 \\cdot \\mathbf{e}_1  + u_2 \\cdot \\mathbf{e}_2 + \\cdots + u_n \\cdot \\mathbf{e}_n \n",
    "\\end{align}\n",
    "$$\n",
    "and\n",
    "$$\n",
    "\\begin{align}\n",
    "\\mathbf{v} = v_1 \\cdot \\mathbf{e}_1 + v_2 \\cdot \\mathbf{e}_2 + \\cdots + v_n \\cdot \\mathbf{e}_n \n",
    "\\end{align}\n",
    "$$\n",
    "then\n",
    "$$\n",
    "\\begin{align}\n",
    "\\mathbf{u \\cdot v} = u_1  v_1  + u_2  v_2  + \\cdots + u_n  v_n && (.4.13)\n",
    "\\end{align}\n",
    "$$\n"
   ]
  },
  {
   "cell_type": "markdown",
   "id": "9aafea79-df30-4332-8a1c-e9ecddda01b3",
   "metadata": {},
   "source": [
    "**Theorem 4.21 (Gram-Schmidt orthogonlization)**\n",
    "a. Let $\\mathbf{u}_1, \\mathbf{u}_2, ... \\mathbf{u}_k$ be linearly independent vectors in an inner product space\n",
    "$\\mathbf{V}$. Then GramSchmidt orthogonalization produces nonzero orthogonal vectors $\\mathbf{b_1, b_2, ..., b_k} $ with the same span as the $\\mathbf{u}$'s.\n",
    "\n",
    "b. If $\\mathbf{V} = \\mathbb{R}^n$, then the volume of the parallelogram with edges $\\mathbf{u_i}$ is \n",
    "$\\mathbf{|b_1| |b_2|\\cdots |b_k|}$, the volume of the rectangular paralleogram with edges $\\mathbf{b_i}$\n",
    "\n",
    "The analog of a parallelogram in higher dimensions is usually called a \"paralleepiped\"\n",
    "\n"
   ]
  },
  {
   "cell_type": "markdown",
   "id": "894d0ad5-bd9d-41fd-8548-cbe1bdc05ba2",
   "metadata": {},
   "source": [
    "**Part II Geometric Algebra Chapter 5 $\\mathbb{G^5}$**\n",
    "\n",
    "The geometric algebra $\\mathbb{G^n}$ is an extension of the inner product space $\\mathbb{R^n}$. Members of  $\\mathbb{G^n}$ represent geometric objects of all dimensions in $\\mathbb{R^n}$. Algebraic operations of $\\mathbb{G^n}$ manipulate these geometric objects.\n",
    "\n",
    "**The Vector Space of Oriented Areas**\n",
    "\n",
    "Oriented areas in $\\mathbb{R^3}$ are a new kind of vector, they form a vector space. To show this we define scalar mulitplication, oriented area addition, and a zero.\n",
    "\n",
    "\n",
    "**Theorem 5.3** \n",
    "Let ${e_1, e_2}$ be an orthonormal basis for a plane. Orient the plane with $\\mathbf{e}_1 \\wedge \\mathbf{e}_2$.  Let \n",
    "$\\mathbf{u}$ and $\\mathbf{v}$ be vectors in the plane. \n",
    "\n",
    "Let $\\theta$ be the oriented angle from $\\mathbf{u}$ to $\\mathbf{v}$, $-\\pi < \\theta < \\pi$. Then\n",
    "\n",
    "$$ \n",
    "\\begin{align}\n",
    "\\mathbf{u} \\wedge \\mathbf{v} &= |\\mathbf{u}| |\\mathbf{v}| \\sin \\theta (\\mathbf{e}_1 \\wedge \\mathbf{e}_2)  && (5.1)\n",
    "\\end{align}\n",
    "$$\n",
    "\n",
    "**Coordinates**\n",
    "\n",
    "Let $\\mathbf{u} = u_1 \\mathbf{e_1} + u_2 \\mathbf{e_2}$ and $\\mathbf{v} = v_1 \\mathbf{e_1} + v_2 \\mathbf{e_2}$. \n",
    "\n",
    "$$\n",
    "\\begin{align}\n",
    "\\mathbf{u} \\wedge \\mathbf{v} &= (u_1 \\mathbf{e_1} + u_2 \\mathbf{e_2}) \\wedge (v_1 \\mathbf{e_1} + v_2 \\mathbf{e_2}) \\\\\n",
    " &= u_1 v_1 (\\mathbf{e_1} \\wedge \\mathbf{e_1}) + u_1 v_2(\\mathbf{e_1} \\wedge \\mathbf{e_2}) + u_2 v_1 ( \\mathbf{e_2} \\wedge \\mathbf{e_1}) + u_2 v_2 (\\mathbf{e_2} \\wedge \\mathbf{e_2}) \\\\\n",
    " &= (u_1 v_2 - u_2 v_1) ( \\mathbf{e_1} \\wedge \\mathbf{e_2})   &&  (5.2)\n",
    "\\end{align}\n",
    "$$\n",
    "\n",
    "Thus the oriented area of $\\mathbf{u} \\wedge \\mathbf{v}$ is $u_1 v_2 - u_2 v_1$\n",
    "\n",
    "**Theorem 5.4.**\n",
    "Let $\\mathbf{u} = u_1 \\mathbf{e_1} + u_2 \\mathbf{e_2} +  u_3 \\mathbf{e_3}$  and $\\mathbf{v} = v_1 \\mathbf{e_1} + v_2 \\mathbf{e_2} + v_3 \\mathbf{e_3}$. Then\n",
    "\n",
    "$$\n",
    "\\begin{align}\n",
    "\\mathbf{u} \\wedge \\mathbf{v} &= (u_3 v_2 - u_2 v_3) \\mathbf{e_3} \\wedge \\mathbf{e_2} + (u_1 v_3 - u_3 v_1) \\mathbf{e_1} \\wedge \\mathbf{e_3} + (u_2 v_1 - u_1 v_2) \\mathbf{e_2} \\wedge \\mathbf{e_1}&&  (5.3)\n",
    "\\end{align}\n",
    "$$\n",
    "and \n",
    "\n",
    "\n",
    "$$\n",
    "\\begin{align}\n",
    "|\\mathbf{u} \\wedge \\mathbf{v}|^2 &= (u_3v_2 - u_2 v_3)^2 + (u_1 v_3 - u_3 v_1)^2 +(u_2 v_1 - u_1 v_2)^2  &&  (5.4)\n",
    "\\end{align}\n",
    "$$\n",
    "\n",
    "Comparing Eqs. (5.3) and (5.4) shows that the latter is a \"Pythagorean Theorem for areas\"\n",
    "\n",
    "**Theorem 5.5** (Oriented area basis) The oriented areas \n",
    "$ \\{ \\mathbf{e_1} \\wedge \\mathbf{e_2}, \\mathbf{e_2} \\wedge \\mathbf{e_3}, \\mathbf{e_3} \\wedge \\mathbf{e_1}, \\}$ form a basis for the vector space of oriented areas.\n",
    "\n",
    "Therefore, the vector space of oriented areas is three dimensional.\n",
    "\n",
    "**5.2 Oriented Volumes**\n",
    "\n",
    "**Definition 5.6** (Oriented volume). An oriented volumn $T$ is an  oriented segment of (i.e., solid in ) three dimensional space.\n",
    "\n",
    "The volume of $T$ is called its norm. It is denoted $|T|$.\n",
    "\n",
    "\n",
    "*5.3* $\\mathbb{G}^3$ The Vector Space\n",
    "\n",
    "*Definition 5.7.* The vector space $\\mathbb{G}^3$ consists of objects of the ofrm\n",
    "$$M = s + \\mathbf{v} + \\mathbf{B} + \\mathbf{T} $$\n",
    "\n",
    "where $s$ is a scalar, $\\mathbf{v}$ is a vector, $\\mathbf{B}$ is a bivector, and \n",
    "$\\mathbf{T}$ is a trivector.\n",
    "\n",
    "**Basis** Scalars, vectors, bivectors, and trivectors each form a subspace of $\\mathbb{G}^3$.\n",
    "\n",
    "scalar basis: 1\n",
    "\n",
    "vector basis: $\\mathbf{e}_1$      $\\mathbf{e}_2$   $\\mathbf{e}_3$\n",
    "\n",
    "bivector basis: $\\mathbf{e}_1 \\wedge \\mathbf{e}_2$   $\\mathbf{e}_1 \\wedge \\mathbf{e}_3$   $\\mathbf{e}_2 \\wedge \\mathbf{e}_3$\n",
    "\n",
    "trivector basis: $\\mathbf{e}_1 \\wedge \\mathbf{e}_2 \\wedge \\mathbf{e}_3$\n",
    "\n",
    "**$\\mathbf{G}^3$: The Geometric Product**\n",
    "\n",
    "\\begin{align}\n",
    "\\mathbf{uv} = \\mathbf{u} \\cdot \\mathbf{v} + \\mathbf{u} \\wedge \\mathbf{v} && (5.7) \\text{fundamental identity}\n",
    "\\end{align}\n",
    "\n",
    "**5.4 Generalized Complex Nubmers**\n",
    "\n",
    "**Pseudoscalars**\n",
    "\n",
    "**Definition 5.10** (The unit pseudoscalar). Let $\\{ \\mathbf{e}_1, \\mathbf{e}_2 \\}$ be an orthonormal basis for a plane. Define the orientation of the plane to be that of $\\mathbf{e}_1 \\wedge \\mathbf{e}_2$. Then the bivector $\\mathbf{i} = \\mathbf{e}_1 \\wedge \\mathbf{e}_2 = \\mathbf{e}_1 \\mathbf{e}_2$ is the unit pseudoscalar of the oriented plane.\n",
    "\n"
   ]
  },
  {
   "cell_type": "markdown",
   "id": "efa27aa6-edc8-4404-842b-6afb15ca8602",
   "metadata": {},
   "source": [
    "**Exercise 5.13** The bases in Fig 5.14 are related by\n",
    "$$\n",
    "\\begin{align}\n",
    "\\mathbf{e'}_1 &= \\cos \\theta \\mathbf{e}_1 + \\sin \\theta \\mathbf{e}_2 \\\\\n",
    "\\mathbf{e'}_2 &= -\\sin \\theta \\mathbf{e}_1 + \\cos \\theta \\mathbf{e}_2  && (5.11)\n",
    "\\end{align}\n",
    "$$"
   ]
  },
  {
   "cell_type": "markdown",
   "id": "c4a3e88d-7271-4c1d-abd6-c5f778e650f4",
   "metadata": {},
   "source": [
    "proving $\\mathbf{i} = \\mathbf{i}'$\n",
    "\n",
    "Proof: \n",
    "\n",
    "$\\mathbf{i} = \\mathbf{e}_1 \\wedge \\mathbf{e}_2$\n",
    "\n",
    "$\\mathbf{i}' = \\mathbf{e}'_1 \\cdot \\mathbf{e}'_2 + \\mathbf{e}'_1 \\wedge \\mathbf{e}'_2$\n",
    "\n",
    "We want to show $\\mathbf{e}_1 \\wedge \\mathbf{e}_2 = \\mathbf{e}'_1 \\cdot \\mathbf{e}'_2 + \\mathbf{e}'_1 \\wedge \\mathbf{e}'_2$\n",
    "\n",
    "On the left hand side, we have an area of a square with length 1, by definition drawn with mathbf{e}_1 and mathbfe}_2, so it's area value is also $1 \\times 1 = 1$, and its orientation is counter clockwise.\n",
    "\n",
    "On the right hand side, \n",
    "\n",
    "$$\n",
    "\\begin{align}\n",
    "\\mathbf{e}'_1 \\cdot \\mathbf{e}'_2 &= (\\cos \\theta \\mathbf{e}_1 + \\sin \\theta \\mathbf{e}_2 ) \\cdot (-\\sin \\theta \\mathbf{e}_1 + \\cos \\theta \\mathbf{e}_2) \\\\\n",
    "&= \\cos \\theta \\mathbf{e}_1 (-\\sin \\theta \\mathbf{e}_1) + \\sin \\theta \\mathbf{e}_2  \\cos \\theta \\mathbf{e}_2 \\\\\n",
    "&=-\\cos \\theta \\sin \\theta \\mathbf{e}_1 ^2 +  \\sin \\theta \\cos \\theta  \\mathbf{e}_2 ^2 \\\\\n",
    "&=(-\\cos \\theta \\sin \\theta  + \\sin \\theta \\cos \\theta  )(\\mathbf{e}_1 ^2 +  \\mathbf{e}_2 ^2) \\\\\n",
    "&= 0 \\times (\\mathbf{e}_1 ^2 +  \\mathbf{e}_2 ^2) \\\\\n",
    "&= 0\n",
    "\\end{align}\n",
    "$$\n",
    "\n",
    "What remains to be proven is the following \n",
    "\n",
    "$\\mathbf{e}_1 \\wedge \\mathbf{e}_2 = \\mathbf{e}'_1 \\wedge \\mathbf{e}'_2$, and the orientation of $\\mathbf{e}'_1 \\wedge \\mathbf{e}'_2$ is also counter clockwise.\n",
    "\n",
    "We need to study Theorem 5.2 in more detail to develop the algebraic senses of outer product arithematics, so let's list them out:\n",
    "\n",
    "03)$a(u \\wedge v) = (a u) \\wedge v $, here I am extending this property to include the following:\n",
    "\n",
    "03.1) $a(u \\wedge v) = u \\wedge (a v)$\n",
    "\n",
    "04) $(u + v) \\wedge w = u \\wedge w + v \\wedge w$, we are extending this property to include the following cases:\n",
    "\n",
    "04.1) $w \\wedge ( u + v) = w \\wedge u + w \\wedge v$\n",
    "proof:(white board)\n",
    "\n",
    "04.2) $ (u + v ) \\wedge (w +z ) = u \\wedge w + u \\wedge z + z \\wedge w + v \\wedge z $\n",
    "proof: (white board)\n",
    "\n",
    "\n",
    "\n",
    "\n",
    "By (5.11), and applying Theorem 5.2, item 04, and its extension we come up with and proved, we have the following:\n",
    "$$\n",
    "\\begin{align}\n",
    "\\mathbf{e'}_1 \\wedge \\mathbf{e'}_2 &= (\\cos \\theta \\mathbf{e}_1 + \\sin \\theta \\mathbf{e}_2)  \\wedge (-\\sin \\theta \\mathbf{e}_1 + \\cos \\theta \\mathbf{e}_2) \\\\\n",
    "&= \\sin \\theta \\mathbf{e}_1 \\wedge \\cos \\theta \\mathbf{e}_1 + \\cos \\theta \\mathbf{e}_1 \\wedge \\cos \\theta \\mathbf{e}_2 + \\sin \\theta \\mathbf{e}_1 \\wedge \\sin \\theta \\mathbf{e}_2 + \\cos \\theta \\mathbf{e}_2 \\wedge \\sin \\theta \\mathbf{e}_2 \\\\ \n",
    "&= \\sin \\theta \\cos \\theta ( \\mathbf{e}_1 \\wedge  \\mathbf{e}_1) + \\cos \\theta \\mathbf{e}_1 \\wedge \\cos \\theta \\mathbf{e}_2 + \\sin \\theta \\mathbf{e}_1 \\wedge \\sin \\theta \\mathbf{e}_2 + \\cos \\theta \\sin \\theta (\\mathbf{e}_2 \\wedge  \\mathbf{e}_2) \\\\ \n",
    "&= \\cos ^2 \\theta  (\\mathbf{e}_1 \\wedge \\mathbf{e}_2) + \\sin ^2 \\theta (\\mathbf{e}_1 \\wedge \\mathbf{e}_2) \\\\\n",
    "&= (\\cos ^2 \\theta + \\sin ^2 \\theta ) (\\mathbf{e}_1 \\wedge \\mathbf{e}_2) \\\\\n",
    "&= \\mathbf{e}_1 \\wedge \\mathbf{e}_2\n",
    "\\end{align}\n",
    "$$\n",
    "\n",
    "Because $e_1, e_2$ ared defineds as unit pseudoscalar, which is essentially a unit square, with length of the sides to be equal to 1, we can conclude that \n",
    "$\\cos ^2 \\theta + sin ^2 \\theta = 1$, by the Pythegorean Theorem therefore we prove that:\n",
    "\n",
    "$\\mathbf{e}_1' \\wedge \\mathbf{e}_2' = \\mathbf{e}_1 \\wedge \\mathbf{e}_2 $, which says the unit pseduoscalar identity $\\mathbf{i}$ is unique given a plane, this is the imanginary number in the traditional complex number system, but now carries a clear geometric meaning, in the generalized complex number system.\n",
    "\n"
   ]
  },
  {
   "cell_type": "code",
   "execution_count": 13,
   "id": "3f6d5977-2333-4763-8a0b-736fe9183316",
   "metadata": {},
   "outputs": [
    {
     "data": {
      "image/png": "[encoded data removed]",
      "text/plain": [
       "Graphics object consisting of 4 graphics primitives"
      ]
     },
     "metadata": {},
     "output_type": "display_data"
    }
   ],
   "source": [
    "#define base vectors for plotting the Transformation at time t\n",
    "#e1_x = 1\n",
    "#e1_y = 0\n",
    "#e1_z = 0\n",
    "e1=vector([1,0]) \n",
    "#+ e1_z*[0,0,1])\n",
    "#e2_x = 0\n",
    "#e2_y = 1\n",
    "#e2_z = 0\n",
    "e2=vector([0,1])\n",
    "    #e2_x * [1,0,0] + e2_y *[0,1,0] + e2_z *[0,0,1])\n",
    "\n",
    "#e3_x = 0\n",
    "#e3_y = 0\n",
    "#e3_z = 1\n",
    "#e3=vector(e3_x *[1,0,0] + e3_y *[0,1,0] + e3_z*[0,0,1])\n",
    "\n",
    "e1Plot=plot(e1,  color='blue', thickness=1, aspect_ratio=1)\n",
    "e2Plot=plot(e2, color='blue', thickness=1, aspect_ratio=1)\n",
    "#e3Plot=plot(e3, legend_lable='Base Vector e3', color='blue', thickness=1)\n",
    "\n",
    "theta = (1/4)* pi\n",
    "\n",
    "#eprime1_x = 1 * cos(theta)\n",
    "#eprime1_y = 1 * sin(theta)\n",
    "#eprime1_z = 0\n",
    "eprime1= cos(theta)*e1 + sin(theta)*e2\n",
    "#vector(RR, eprime1_x *e1 + eprime1_y *e2 )\n",
    "\n",
    "#eprime2_x = cos(pi/2 - theta)* 1\n",
    "#eprime2_y = -sin(pi/2 - theta)*1\n",
    "#eprime2_z = 0\n",
    "eprime2= -sin(theta)*e1 + cos(theta)*e2\n",
    "#vector(RR, eprime2_x * e1 + eprime2_y *e2 )\n",
    "\n",
    "#eprime3_x = 0\n",
    "#eprime3_y = 0\n",
    "#eprime3_z = 1\n",
    "#eprime3=vector(RR, eprime3_x *[1,0,0] + e3prime_y *[0,1,0] + e3prime_z*[0,0,1])\n",
    "\n",
    "eprime1Plot=plot(eprime1,  color='red', thickness=1,aspect_ratio=1)\n",
    "eprime2Plot=plot(eprime2,  color='red', thickness=1, aspect_ratio=1)\n",
    "#eprime3Plot=plot(eprime3, legend_lable='Base Vector e3', color='red', thickness=1)\n",
    "\n",
    "all2 = e1Plot + e2Plot +  eprime1Plot + eprime2Plot \n",
    "all2.show()\n",
    "\n",
    "\n",
    "\n"
   ]
  },
  {
   "cell_type": "markdown",
   "id": "d37b0e95-df03-4eb1-bd28-d60cf467401e",
   "metadata": {},
   "source": [
    "**Exercise 5.14** \n",
    "a. prove $\\mathbf{i}^2 = -1$\n",
    "\n",
    "Proof:\n",
    "\n",
    "First question is what does $i ^2 $ mean? it means $i i$, now this got to be geometric product between i and itself.\n",
    "\n",
    "$\n",
    "\\begin{align}\n",
    "i^2 &= (e_1 \\wedge e_2) (e_1 \\wedge e_2) \\\\\n",
    "&= (e_1 \\wedge e_2) \\cdot (e_1 \\wedge e_2) + (e_1 \\wedge e_2) \\wedge (e_1 \\wedge e_2) \\\\\n",
    "&=\n",
    "\\end{align}\n",
    "$\n",
    "\n",
    "By(5.9) which says:\n",
    "$u \\cdot v = \\frac{1}{2} (uv + vu)$\n",
    "\n",
    "we simply the above equation of i^2 to be:\n",
    "\n",
    "$\\frac{1}{2}((e_1 \\wedge e_2) (e_1 \\wedge e_2) + (e_1 \\wedge e_2) (e_1 \\wedge e_2)) $\n",
    "\n",
    "\n",
    "b. Compute $\\mathbf{i}^0, \\mathbf{i}^1, \\mathbf{i}^2, \\mathbf{i}^3, \\mathbf{i}^4, \\mathbf{i}^5, \\mathbf{i}^6, \\mathbf{i}^7, \\mathbf{i}^8,\\mathbf{i}^9, $\n",
    "\n",
    "**Exercise 5.15** Let $\\{ \\mathbf{e}_1, \\mathbf{e}_2, \\mathbf{e}_3 \\}$ be an orthonormal basis for $\\mathbb{R}^3$. Then $ \\mathbf{I} = \\mathbf{e}_1 \\mathbf{e}_2 \\mathbf{e}_3$ is a unit pseudoscalar for $\\mathbb{G}^3$. Once again, $\\mathbb{I}$ is independent, except for sign, of the orthonomral basis. Show that $\\mathbf{I}^2 = -1$. Note: In $\\mathbb{G}^4, \\mathbf{I}^2 = +1$\n",
    "\n",
    "\n",
    "**My Note:** I think $\\mathbb{G}^4$ has no practical application, because once you go beyond 3 dimensions, you got to have time as the extra dimension, and space would only take up 3 dimensions, so mathematical i^2 = -1, would be true for all density in the Cosmic Creation Model, reference: Keylontic Sciene Literature\n"
   ]
  },
  {
   "cell_type": "code",
   "execution_count": null,
   "id": "19b867fe-3473-4746-a76c-3af1300b2722",
   "metadata": {},
   "outputs": [],
   "source": []
  },
  {
   "cell_type": "code",
   "execution_count": 5,
   "id": "c360d9fc-b916-4c42-bf58-b12f5031301d",
   "metadata": {},
   "outputs": [],
   "source": [
    "# G3: Standard 3D Model\n",
    "#######CELL 1######\n",
    "# Make SymPy available to this program:\n",
    "import sympy \n",
    "from sympy import *\n",
    "\n",
    "# Make GAlgebra available to this program:\n",
    "from galgebra.ga import *  \n",
    "from galgebra.mv import *\n",
    "from galgebra.printer import Fmt, GaPrinter, Format\n",
    "    # Fmt:       sets the way that a multivector's basis expansion is output.\n",
    "    # GaPrinter: makes GA output a little more readable.\n",
    "    # Format:    turns on latex printer.\n",
    "from galgebra.gprinter import gFormat, gprint\n",
    "gFormat()"
   ]
  },
  {
   "cell_type": "code",
   "execution_count": 6,
   "id": "bf39cfad-f6d5-46f8-8f1b-1cdacd3cb782",
   "metadata": {},
   "outputs": [],
   "source": [
    "######CELL 2#######\n",
    "# g3: The geometric algebra G^3.\n",
    "g3coords = (x,y,z) = symbols('x y z', real=True)\n",
    "g3 = Ga('e', g=[1,1,1], coords=g3coords)\n",
    "(ex, ey, ez) = g3.mv()\n",
    "\n",
    "grad = g3.grad\n",
    "from galgebra.dop import *\n",
    "pdx = Pdop(x)\n",
    "pdy = Pdop(y)\n",
    "pdz = Pdop(z)"
   ]
  },
  {
   "cell_type": "code",
   "execution_count": 3,
   "id": "88d0bd2c-5904-4294-9f30-767e3be77113",
   "metadata": {},
   "outputs": [
    {
     "data": {
      "text/latex": [
       "$\\displaystyle   \\boldsymbol{e}_{x}\\wedge \\boldsymbol{e}_{y} $"
      ],
      "text/plain": [
       "<IPython.core.display.Math object>"
      ]
     },
     "metadata": {},
     "output_type": "display_data"
    }
   ],
   "source": [
    "#A = y*ex + 3*ex*ey\n",
    "#B = x*ey\n",
    "gprint(ex * ey)"
   ]
  },
  {
   "cell_type": "code",
   "execution_count": 13,
   "id": "af7de5d0-cd3d-4dfa-9f13-450413276e86",
   "metadata": {},
   "outputs": [
    {
     "data": {
      "text/latex": [
       "\\begin{equation*}  \\boldsymbol{e}_{x}\\wedge \\boldsymbol{e}_{y}\\wedge \\boldsymbol{e}_{z} \\end{equation*}"
      ],
      "text/plain": [
       "e_x^e_y^e_z"
      ]
     },
     "execution_count": 13,
     "metadata": {},
     "output_type": "execute_result"
    }
   ],
   "source": [
    "from galgebra.mv import *\n",
    "g3.I()\n",
    "#V = g3.mv('V', 'vector')\n",
    "#gprint(V)"
   ]
  },
  {
   "cell_type": "code",
   "execution_count": 20,
   "id": "157ed035-5dcc-497f-beee-ae8ba8e8575f",
   "metadata": {},
   "outputs": [
    {
     "data": {
      "text/latex": [
       "\\begin{equation*} -1 \\end{equation*}"
      ],
      "text/plain": [
       "-1"
      ]
     },
     "execution_count": 20,
     "metadata": {},
     "output_type": "execute_result"
    }
   ],
   "source": [
    "g3.I()* g3.I()"
   ]
  },
  {
   "cell_type": "code",
   "execution_count": 21,
   "id": "723d47bc-2702-4e67-b7f3-d3b9afa8a211",
   "metadata": {},
   "outputs": [
    {
     "data": {
      "text/latex": [
       "\\begin{equation*} -1 \\end{equation*}"
      ],
      "text/plain": [
       "-1"
      ]
     },
     "execution_count": 21,
     "metadata": {},
     "output_type": "execute_result"
    }
   ],
   "source": [
    "ex*ey*ex*ey"
   ]
  },
  {
   "cell_type": "code",
   "execution_count": 22,
   "id": "f9f770a2-f202-4779-984c-270b2f12be2c",
   "metadata": {},
   "outputs": [
    {
     "data": {
      "text/latex": [
       "\\begin{equation*} - \\boldsymbol{e}_{x}\\wedge \\boldsymbol{e}_{y}\\wedge \\boldsymbol{e}_{z} \\end{equation*}"
      ],
      "text/plain": [
       "-e_x^e_y^e_z"
      ]
     },
     "execution_count": 22,
     "metadata": {},
     "output_type": "execute_result"
    }
   ],
   "source": [
    "g3.I()* g3.I()*g3.I()"
   ]
  },
  {
   "cell_type": "code",
   "execution_count": 23,
   "id": "be33a41d-6d91-4957-8464-d53ae4db1bc1",
   "metadata": {},
   "outputs": [
    {
     "data": {
      "text/latex": [
       "\\begin{equation*} 1 \\end{equation*}"
      ],
      "text/plain": [
       "1"
      ]
     },
     "execution_count": 23,
     "metadata": {},
     "output_type": "execute_result"
    }
   ],
   "source": [
    "g3.I()* g3.I()*g3.I()*g3.I()"
   ]
  },
  {
   "cell_type": "code",
   "execution_count": 24,
   "id": "c7fa226a-2ca1-4e4a-8854-666b8add8aa7",
   "metadata": {},
   "outputs": [
    {
     "data": {
      "text/latex": [
       "\\begin{equation*}  \\boldsymbol{e}_{x}\\wedge \\boldsymbol{e}_{y}\\wedge \\boldsymbol{e}_{z} \\end{equation*}"
      ],
      "text/plain": [
       "e_x^e_y^e_z"
      ]
     },
     "execution_count": 24,
     "metadata": {},
     "output_type": "execute_result"
    }
   ],
   "source": [
    "g3.I()* g3.I()*g3.I()*g3.I()*g3.I()"
   ]
  },
  {
   "cell_type": "code",
   "execution_count": 25,
   "id": "d0b532d0-49e9-4e74-835f-15e8e0c122fe",
   "metadata": {},
   "outputs": [
    {
     "data": {
      "text/latex": [
       "\\begin{equation*} -1 \\end{equation*}"
      ],
      "text/plain": [
       "-1"
      ]
     },
     "execution_count": 25,
     "metadata": {},
     "output_type": "execute_result"
    }
   ],
   "source": [
    "g3.I()* g3.I()*g3.I()*g3.I()*g3.I()*g3.I()"
   ]
  },
  {
   "cell_type": "code",
   "execution_count": 26,
   "id": "f4104da9-7afe-4958-b586-12144e46d2f4",
   "metadata": {},
   "outputs": [
    {
     "data": {
      "text/latex": [
       "\\begin{equation*} - \\boldsymbol{e}_{x}\\wedge \\boldsymbol{e}_{y}\\wedge \\boldsymbol{e}_{z} \\end{equation*}"
      ],
      "text/plain": [
       "-e_x^e_y^e_z"
      ]
     },
     "execution_count": 26,
     "metadata": {},
     "output_type": "execute_result"
    }
   ],
   "source": [
    "g3.I()* g3.I()*g3.I()*g3.I()*g3.I()*g3.I()*g3.I()"
   ]
  },
  {
   "cell_type": "code",
   "execution_count": 27,
   "id": "0d6ce21d-c0fa-442a-ad78-f632f81d950f",
   "metadata": {},
   "outputs": [
    {
     "data": {
      "text/latex": [
       "\\begin{equation*} 1 \\end{equation*}"
      ],
      "text/plain": [
       "1"
      ]
     },
     "execution_count": 27,
     "metadata": {},
     "output_type": "execute_result"
    }
   ],
   "source": [
    "g3.I()* g3.I()*g3.I()*g3.I()*g3.I()*g3.I()*g3.I()*g3.I()"
   ]
  },
  {
   "cell_type": "code",
   "execution_count": 28,
   "id": "bf324498-271d-495e-a9fc-2fbb7deb2847",
   "metadata": {},
   "outputs": [
    {
     "data": {
      "text/latex": [
       "\\begin{equation*}  \\boldsymbol{e}_{x}\\wedge \\boldsymbol{e}_{y}\\wedge \\boldsymbol{e}_{z} \\end{equation*}"
      ],
      "text/plain": [
       "e_x^e_y^e_z"
      ]
     },
     "execution_count": 28,
     "metadata": {},
     "output_type": "execute_result"
    }
   ],
   "source": [
    "g3.I()* g3.I()*g3.I()*g3.I()*g3.I()*g3.I()*g3.I()*g3.I()*g3.I()"
   ]
  },
  {
   "cell_type": "markdown",
   "id": "ed992a31-4cc3-4aee-aac2-17bc6b22d77e",
   "metadata": {},
   "source": [
    "**Exercise 5.15** Let $\\{ \\mathbf{e}_1, \\mathbf{e}_2, \\mathbf{e}_3 \\}$ be an orthonormal basis for $\\mathbb{R}^3$. Then $\\mathbf{I} = \\mathbf{e}_1 \\mathbf{e}_2 \\mathbf{e}_3 $ is a unit pseudosclar for $\\mathbb{G}^3$. $\\mathbf{I}$ is independent, except for sign, of the orthonormal basis. Show $\\mathbf{I} ^2 = -1$. Note: in $\\mathbb{G}^4$, $\\mathbf{I}^2 = +1$"
   ]
  },
  {
   "cell_type": "code",
   "execution_count": 30,
   "id": "a028e88b-4433-474f-8f8d-fdf79b7bcae1",
   "metadata": {},
   "outputs": [
    {
     "data": {
      "text/latex": [
       "\\begin{equation*}  \\boldsymbol{e}_{x}\\wedge \\boldsymbol{e}_{y}\\wedge \\boldsymbol{e}_{z} \\end{equation*}"
      ],
      "text/plain": [
       "e_x^e_y^e_z"
      ]
     },
     "execution_count": 30,
     "metadata": {},
     "output_type": "execute_result"
    }
   ],
   "source": [
    "g3.I()"
   ]
  },
  {
   "cell_type": "code",
   "execution_count": 31,
   "id": "88c6238a-ddae-49f2-94f7-b43144b088f1",
   "metadata": {},
   "outputs": [
    {
     "data": {
      "text/latex": [
       "\\begin{equation*} -1 \\end{equation*}"
      ],
      "text/plain": [
       "-1"
      ]
     },
     "execution_count": 31,
     "metadata": {},
     "output_type": "execute_result"
    }
   ],
   "source": [
    "g3.I() * g3.I()"
   ]
  },
  {
   "cell_type": "markdown",
   "id": "70ae1c63-184a-4883-91dc-d19ef2aea603",
   "metadata": {},
   "source": [
    "**Theorem 5.11** Every bivector in $\\mathbb{G}^3$ is of the form $b \\mathbf{i}$ for some plane $\\mathbf{i}$\n",
    "\n",
    "**Definition 5.12** (Angle $\\mathbf{i}\\theta$). Consider an angle $\\theta$ in a plane $\\mathbf{i}$. We call the bivector $\\mathbf{i}\\theta$ an angle also. The bivector specifies both the plane $\\mathbf{i}$ in which it resides and its size $\\theta$. Changing the plane's orientation changes the sign of both $\\mathbf{i}$ and $\\theta$, leaving $\\mathbf{i}\\theta$ unchanged.\n",
    "\n",
    "**Definition 5.13** $(e^{\\mathbf{i} \\theta})$. Define the exponential \n",
    "$$e^{\\mathbf{i} \\theta} = \\cos \\theta + \\mathbf{i} \\sin \\theta$$. \n",
    "\n",
    "More generally, for scalars $r$ and $s$ we can define \n",
    "$$e^{r+si} = e^r e^{s \\mathbf{i}} = e^r (\\cos s + \\mathbf{i} \\sin s)$$\n",
    "\n",
    "**Exercise 5.16** Compute\n",
    "\n",
    "a. $e^{\\mathbf{i} \\pi /4}$\n",
    "\n",
    "b. $e^{\\mathbf{i} \\pi /2}$\n",
    "\n",
    "c. $e^{\\mathbf{i} \\pi}$\n",
    "\n",
    "d. $e^{\\mathbf{i} 2 \\pi}$"
   ]
  },
  {
   "cell_type": "code",
   "execution_count": 33,
   "id": "5bca929f-f8ac-456e-8ef7-a165a126e98b",
   "metadata": {},
   "outputs": [
    {
     "ename": "NameError",
     "evalue": "name 'e' is not defined",
     "output_type": "error",
     "traceback": [
      "\u001b[0;31m---------------------------------------------------------------------------\u001b[0m",
      "\u001b[0;31mNameError\u001b[0m                                 Traceback (most recent call last)",
      "Input \u001b[0;32mIn [33]\u001b[0m, in \u001b[0;36m<cell line: 1>\u001b[0;34m()\u001b[0m\n\u001b[0;32m----> 1\u001b[0m \u001b[43me\u001b[49m\u001b[38;5;241m^\u001b[39m(I \u001b[38;5;241m*\u001b[39m pi \u001b[38;5;241m/\u001b[39m\u001b[38;5;241m4\u001b[39m)\n",
      "\u001b[0;31mNameError\u001b[0m: name 'e' is not defined"
     ]
    }
   ],
   "source": [
    "e^(I * pi /4)"
   ]
  },
  {
   "cell_type": "markdown",
   "id": "0fc58ec2-d311-40fa-bead-42c1c390909f",
   "metadata": {},
   "source": [
    "**Theorem 5.14** $e^{\\mathbf{i} \\theta}$ properties. \n",
    "\n",
    "a. $$e^{\\mathbf{i} \\theta_1} e^{\\mathbf{i} \\theta_2} = e^{\\mathbf{i}(\\theta_1 + \\theta_2)}$$\n",
    "\n",
    "(Be careful: In general, if $i_1 \\neq i_2$, then $e^{i_1 \\theta_1} e^{i_2 \\theta_2} \\neq e^{i_1 \\theta_1 + i_2 \\theta_2}$\n",
    "\n",
    "b. $$(e^{i \\theta})^{-1} = e ^{- \\mathbf{i} \\theta} $$"
   ]
  },
  {
   "cell_type": "markdown",
   "id": "6759b267-07e9-4224-ada0-649893d2a45c",
   "metadata": {},
   "source": [
    "**Generalized Complex Numbers**\n",
    "\n",
    "**Theorem 5.15** Let $\\mathbf{u}$ and $\\mathbf{v}$ be vectors and $\\mathbf{i} \\theta$ be the angle from $\\mathbf{u}$  to $\\mathbf{v}$. Set\n",
    "$r =|u| |v|, a = r \\cos \\theta$, and $b = r \\sin \\theta$.  Thus $a^2 + b^2 = r^2$. Then\n",
    "\n",
    "$$\\mathbf{uv} = r e^{\\mathbf{i} \\theta} = a + b \\mathbf{i}$$\n",
    "\n",
    "Proof. Use Eqs. (4.1) and (5.1) in Step (2):\n",
    "\n",
    "$$\n",
    "\\mathbf{uv} = \\mathbf{u} \\cdot \\mathbf{v} + \\mathbf{u} \\wedge \\mathbf{v} = |\\mathbf{u}| |\\mathbf{v}| \\cos \\theta + |\\mathbf{u}| |\\mathbf{v}| \\mathbf{i} \\sin \\theta\n",
    "= r(\\cos \\theta + \\mathbf{i} \\sin \\theta)\n",
    "$$\n",
    "\n",
    "\n",
    "Note also that a multivector of the $a + bi$ is a product of two vectors:\n",
    "\n",
    "$$ a + b \\mathbf{i} = a + b\\mathbf{e}_1 \\mathbf{e}_2 = \\mathbf{e}_1(a \\mathbf{e}_1 + b \\mathbf{e}_2)$$ \n",
    "\n",
    "for example.\n",
    "\n",
    "**Exercise 5.18** Express $6 e^{\\mathbf{i} 2 \\pi /3}$ as a product of two vectors"
   ]
  },
  {
   "cell_type": "code",
   "execution_count": null,
   "id": "2d31618c-66db-4345-9d1f-3590a0d57963",
   "metadata": {},
   "outputs": [],
   "source": []
  },
  {
   "cell_type": "markdown",
   "id": "d829fa35-8068-4e49-984a-bebe1dc6df4c",
   "metadata": {},
   "source": [
    "**Definition 5.16** (Generalized Complex Number). A generalized complex number is a multivector which can be put in one, and thus all, of the forms in Eq. (5.12)\n",
    "\n",
    "$a + b\\mathbf{i}$ the cartesian form\n",
    "\n",
    "$re^{\\mathbf{i} \\theta}$ the polar form\n",
    "\n",
    "The generalized complex number $re^{\\mathbf{i}\\theta}$ is represented geometrically as an oriented arc of a circle of radius $r$.\n",
    "\n",
    "The arc is in the plane $\\mathbf{i}$ and subtends the angle $\\mathbf{i}\\theta$.\n",
    "\n",
    "See Fig 5.15. The arc can be moved around the circle w/o changing $re^{\\mathbf{i} \\theta}$, just as a vector can be moved along a line w/o changing it."
   ]
  },
  {
   "cell_type": "code",
   "execution_count": null,
   "id": "ad4bce81-dad4-4566-94c5-b49fbe24b8e2",
   "metadata": {},
   "outputs": [],
   "source": []
  },
  {
   "cell_type": "markdown",
   "id": "cdd412de-f3c4-42d9-8e4f-6d4361456a87",
   "metadata": {},
   "source": [
    "**Theorem 5.17** (Complex conjugate). Let $Z=\\mathbf{uv} = re^{\\mathbf{i} \\theta} = a+ b\\mathbf{i}$ be a generalized complex number. Then\n",
    "\n",
    "$$\n",
    "\\mathbf{vu} = re^{-\\mathbf{i}theta} = a - b\\mathbf{i}\n",
    "$$\n",
    "\n",
    "This is the complex conjugate $\\bar{Z} $ of $Z$\n",
    "\n",
    "**Theorem 5.18** (Norm). Let $Z= \\mathbf{uv} = re^{\\mathbf{i}\\theta} = a+b\\mathbf{i}$ be a generalized complex number. Then\n",
    "\n",
    "$$ |\\mathbf{u}||\\mathbf{v}| = r = \\sqrt{a^2 + b^2} $$\n",
    "\n",
    "This is the norm $|Z|$ of $Z$.\n",
    "\n",
    "**Theorem 5.19** Let $Z$ be a generalized complex number. Then $|Z|^2 = Z \\bar{Z}$.\n",
    "Thus if $Z \\neq 0$, then $Z^{-1}$ exists and $Z^{-1} = \\frac{\\bar{Z}} {|Z|^2}$."
   ]
  },
  {
   "cell_type": "markdown",
   "id": "cc008765-8488-450c-80a5-643f02482097",
   "metadata": {},
   "source": [
    "**Complex Numbers**\n",
    "\n",
    "**Definition 5.20** (Complex number). A generalized complex number in $\\mathbb{G}^2$ is called a complex number.\n",
    "\n",
    "**Theorem 5.21** (Complex number properties). Let $Z_1 = a_1 + b_1 \\mathbf{i} = r_1 e^{\\mathbf{i} \\theta_1}$ and $Z_2 = a_2 + b_2 \\mathbf{i} = r_2 e^{\\mathbf{i} \\theta_2}$ be complex numbers. Then\n",
    "\n",
    "a. $(a_1 + b_1\\mathbf{i}) + (a_2 + b_2 \\mathbf{i}) = (a_1 + a_2) + (b_1 + b_2) \\mathbf{i}$.\n",
    "\n",
    "b. $(a_1 + b_1 \\mathbf{i}) (a_2 + b_2 \\mathbf{i}) = (a_1 a_2 - b_1 b_2) + (a_1 b_2 + a2 b_1) \\mathbf{i}$.\n",
    "\n",
    "Part a) and b) tell us that complex numbers are closed under multivector addition and multiplication and that they commute under the two operations.\n",
    "\n",
    "c) $\\overline{Z_1 + Z_2} = \\overline{Z_1} + \\overline{Z_2}$\n",
    "\n",
    "d) $\\overline{Z_1 Z_2} = \\overline{Z_1} \\overline{Z_2}$.\n",
    "\n",
    "e. $|Z_1 Z_2| = |Z_1| |Z_2| $."
   ]
  },
  {
   "cell_type": "markdown",
   "id": "b3668ead-6ac5-4dc1-aa4f-52efeddc07ae",
   "metadata": {},
   "source": [
    "Complex numbers in Geometric Algebra do not have the same geometric interpretation as traditional complex numbers, which is a point in a plane. Geometric algebra complex numbers are interpreted as oriented circular arcs."
   ]
  },
  {
   "cell_type": "markdown",
   "id": "b3273398-e0fc-4718-b6d9-9e26a6cb5b0f",
   "metadata": {},
   "source": [
    "**Quaternions**\n",
    "\n",
    "**Definition 5.22** (Quaternion). A generalized complex number in $\\mathbb{G}^3$ is called a quaternion or spinor.\n",
    "\n",
    "The bivectors\n",
    "\n",
    "$\\{\\mathbf{i}_3 = \\mathbf{e}_2 \\mathbf{e}_1, \\mathbf{i_1} = \\mathbf{e}_3 \\mathbf{e}_2, \\mathbf{i}_2 = \\mathbf{e_1} \\mathbf{e_3} \\}$ \n",
    "\n",
    "form a basis for the bivectors in $\\mathbb{G}^3$. (They are the negaives of the bivectors basis from Theorem 5.5).  Thus every bivector $b\\mathbf{i}$ can be written $b\\mathbf{i} = b_1 \\mathbf{i}_1 + b_2 \\mathbf{i}_2 + b_3 \\mathbf{i}_3 $.\n",
    "\n",
    "Thus quaternions are those multivectors in $\\mathbb{G}^3$ which can be put in the form\n",
    "\n",
    "$$\n",
    "\\begin{align}\n",
    "a+ b_1 \\mathbf{i}_1 + b_2 \\mathbf{i}_2 + b_3 \\mathbf{i}_3 && (5.13)\n",
    "\\end{align}\n",
    "$$"
   ]
  },
  {
   "cell_type": "markdown",
   "id": "a199b5fd-7008-414f-bed5-15bf8c42558b",
   "metadata": {},
   "source": [
    "**5.5 Rotations in $\\mathbb{R}^3$**\n",
    "\n",
    "**Representing Rotations**\n",
    "\n",
    "The usual way to specify a rotation in $\\mathbb{R}^3$ is by its axis $\\mathbf{n}$ and scalar rotation angle $\\theta$. Instead, we will specify the rotation by the plane $\\mathbf{i}$ orthogonal to its axis(the \"plane of the rotation\") and $\\theta$ (the \"size of the rotation\"). Then the bivector angle $\\mathbf{i}\\theta$ completely specifies the rotation.\n",
    "\n"
   ]
  },
  {
   "cell_type": "markdown",
   "id": "bf646d00-404e-476f-8b3a-b38c3ffd351d",
   "metadata": {},
   "source": [
    "**Developing the Idea of Geometric Product**\n",
    "Date: Nov 6. 2023\n",
    "Ref:\n",
    "\"Relativistic Physics as Application of Geometric Algebra\"\n",
    "\n",
    "We can now immediately coding the Geometric Product using:\n",
    "\n",
    "$ab = |a| |b| (cos \\alpha + i sin \\alpha), i= e_1 e_2$\n",
    "\n",
    "$$ \\cos(\\alpha) = \\frac{a \\cdot b} {|a| |b|}$$\n",
    "\n",
    "$sin(\\alpha)= cos(\\alpha -\\pi/2)$\n",
    "\n",
    "Problem: how to compute sine alpha with just two vectors?\n",
    "\n",
    "sin_alpha = \n",
    "\n",
    "What do we do about the mysterious i? This is the complex number imaginary part.\n",
    "\n",
    "**5.4 Generalized Complex Numbers**\n",
    "\n",
    "**Definition 5.10** (The unit pseudoscalar). Let e1, e2 be an orthonormal basis for a plane. Define the orientation of the plane to be that of $e_1 \\wedge e_2$. Then the bivector $i = e_1 \\wedge e_2 = e_1 e_2$ is the unit pseudoscalar of the oriented plane."
   ]
  },
  {
   "cell_type": "markdown",
   "id": "cd27f3d5-6ac8-4d1f-8ec8-a887a3f1ef19",
   "metadata": {},
   "source": [
    "**Chapter 5**\n",
    "\n",
    "$\\mathbf{G}^3$\n",
    "\n",
    "Members of the inner product space $\\mathbb{R}^n$ are vectors, one-dimensional objects. We can describe higher dimensional objects geometrically or with equations. e.g. the plane $ax+by +cz =d$. But higher dimensional objects are not members of $\\mathbb{R}^n$, so $\\mathbb{R}^n$ cannot manipulate them algebraically.\n",
    "\n",
    "The geometric algebra $\\mathbb{G}^n$ is an extension of the inner product space $\\mathbb{R}^n$. \n",
    "\n",
    "Members of $\\mathbb{G}^n$ represent geometric objects of all dimensions in $\\mathbb{R}^n$. \n",
    "\n",
    "Algebraic operations of $\\mathbb{G}^n$ manipulate these geometric objects.\n",
    "\n",
    "**5.1 Oriented Areas**\n",
    "\n",
    "**Definition 5.1** (Oriented Area). An oriented area $B$ is an oriented segment of i.e. area in a plane.\n",
    "\n",
    "The area value of B is called its norm. denoted $|B|$.\n",
    "\n",
    "Oriented areas have no information about location or shape: two oriented areas on the same or parallel planes and with the same norm and orientation are considered equal.\n",
    "\n",
    "**The Vector Space of Oriented Areas**\n",
    "\n",
    "Oriented areas in $\\mathbb{R}^3$ are a new kind of vector; they form a vector space. \n",
    "\n",
    "To satisfy the Vector Space Algebra:\n",
    "\n",
    "Scalar multiplication.\n",
    "\n",
    "$aB$, \n",
    "\n",
    "Vector addition\n",
    "\n",
    "case 1: adding parallel-oriented areas\n",
    "\n",
    "Define $B_1 = b_1 B, B_2 = b_2 B$,\n",
    "then, $B_1 + B_2 = (b_1 +b_2)B$\n",
    "\n",
    "case 2: adding intersecting oriented areas\n",
    "\n",
    "\n",
    "Zero. It is useful to have a zero oriented area 0, common to all planes. \n",
    "\n",
    "**The Outer Product**\n",
    "\n",
    "A common way to construct an oriented area is to take the outer product $\\mathbf{u} \\wedge \\mathbf{v}$ of oriented lengths $u$ and $v$. \n",
    "\n"
   ]
  },
  {
   "cell_type": "code",
   "execution_count": 1,
   "id": "5ca6aa2b-dada-42f6-a037-eb0ac1db7394",
   "metadata": {},
   "outputs": [
    {
     "data": {
      "text/html": [
       "<html>\\(\\displaystyle \\verb|&lt;class|\\verb| |\\verb|'sage.modules.vector_integer_dense.Vector_integer_dense'>|\\)</html>"
      ],
      "text/latex": [
       "$\\displaystyle \\verb|<class|\\verb| |\\verb|'sage.modules.vector_integer_dense.Vector_integer_dense'>|$"
      ],
      "text/plain": [
       "<class 'sage.modules.vector_integer_dense.Vector_integer_dense'>"
      ]
     },
     "metadata": {},
     "output_type": "display_data"
    },
    {
     "data": {
      "text/html": [
       "<html>\\(\\displaystyle \\verb|making|\\verb| |\\verb|sure|\\verb| |\\verb|i^2=-1:| -1\\)</html>"
      ],
      "text/latex": [
       "$\\displaystyle \\verb|making|\\verb| |\\verb|sure|\\verb| |\\verb|i^2=-1:| -1$"
      ],
      "text/plain": [
       "'making sure i^2=-1:' -1"
      ]
     },
     "metadata": {},
     "output_type": "display_data"
    },
    {
     "data": {
      "text/html": [
       "<html>\\(\\displaystyle \\verb\"|u|=\" 14\\)</html>"
      ],
      "text/latex": [
       "$\\displaystyle \\verb\"|u|=\" 14$"
      ],
      "text/plain": [
       "'|u|=' 14"
      ]
     },
     "metadata": {},
     "output_type": "display_data"
    },
    {
     "data": {
      "text/html": [
       "<html>\\(\\displaystyle \\verb\"|v|=\" \\sqrt{43}\\)</html>"
      ],
      "text/latex": [
       "$\\displaystyle \\verb\"|v|=\" \\sqrt{43}$"
      ],
      "text/plain": [
       "'|v|=' sqrt(43)"
      ]
     },
     "metadata": {},
     "output_type": "display_data"
    },
    {
     "data": {
      "text/html": [
       "<html>\\(\\displaystyle \\verb|u|\\verb| |\\verb|dot|\\verb| |\\verb|v=| 74\\)</html>"
      ],
      "text/latex": [
       "$\\displaystyle \\verb|u|\\verb| |\\verb|dot|\\verb| |\\verb|v=| 74$"
      ],
      "text/plain": [
       "'u dot v=' 74"
      ]
     },
     "metadata": {},
     "output_type": "display_data"
    },
    {
     "data": {
      "text/html": [
       "<html>\\(\\displaystyle \\verb\"|u||v|=\" 14 \\, \\sqrt{43}\\)</html>"
      ],
      "text/latex": [
       "$\\displaystyle \\verb\"|u||v|=\" 14 \\, \\sqrt{43}$"
      ],
      "text/plain": [
       "'|u||v|=' 14*sqrt(43)"
      ]
     },
     "metadata": {},
     "output_type": "display_data"
    },
    {
     "data": {
      "text/html": [
       "<html>\\(\\displaystyle \\verb|computing|\\verb| |\\verb|geometric|\\verb| |\\verb|product|\\verb| |\\verb|uv:...|\\)</html>"
      ],
      "text/latex": [
       "$\\displaystyle \\verb|computing|\\verb| |\\verb|geometric|\\verb| |\\verb|product|\\verb| |\\verb|uv:...|$"
      ],
      "text/plain": [
       "'computing geometric product uv:...'"
      ]
     },
     "metadata": {},
     "output_type": "display_data"
    },
    {
     "data": {
      "text/html": [
       "<html>\\(\\displaystyle \\verb|uv=| -\\frac{2}{43} \\, \\sqrt{43} {\\left(-3 i \\, \\sqrt{82} \\sqrt{43} - 1591 \\, \\sqrt{43}\\right)}\\)</html>"
      ],
      "text/latex": [
       "$\\displaystyle \\verb|uv=| -\\frac{2}{43} \\, \\sqrt{43} {\\left(-3 i \\, \\sqrt{82} \\sqrt{43} - 1591 \\, \\sqrt{43}\\right)}$"
      ],
      "text/plain": [
       "'uv=' -2/43*sqrt(43)*(-3*I*sqrt(82)*sqrt(43) - 1591*sqrt(43))"
      ]
     },
     "metadata": {},
     "output_type": "display_data"
    },
    {
     "data": {
      "text/html": [
       "<html>\\(\\displaystyle \\verb|interpreting|\\verb| |\\verb|its|\\verb| |\\verb|geometric|\\verb| |\\verb|meaning...|\\)</html>"
      ],
      "text/latex": [
       "$\\displaystyle \\verb|interpreting|\\verb| |\\verb|its|\\verb| |\\verb|geometric|\\verb| |\\verb|meaning...|$"
      ],
      "text/plain": [
       "'interpreting its geometric meaning...'"
      ]
     },
     "metadata": {},
     "output_type": "display_data"
    },
    {
     "data": {
      "text/html": [
       "<html>\\(\\displaystyle \\verb|vector|\\verb| |\\verb|u|\\verb| |\\verb|in|\\verb| |\\verb|yellow,|\\verb| |\\verb|vector|\\verb| |\\verb|v|\\verb| |\\verb|in|\\verb| |\\verb|red|\\)</html>"
      ],
      "text/latex": [
       "$\\displaystyle \\verb|vector|\\verb| |\\verb|u|\\verb| |\\verb|in|\\verb| |\\verb|yellow,|\\verb| |\\verb|vector|\\verb| |\\verb|v|\\verb| |\\verb|in|\\verb| |\\verb|red|$"
      ],
      "text/plain": [
       "'vector u in yellow, vector v in red'"
      ]
     },
     "metadata": {},
     "output_type": "display_data"
    },
    {
     "data": {
      "text/html": [
       "<html>\\(\\displaystyle \\verb|basis|\\verb| |\\verb|vectors|\\verb| |\\verb|e1,|\\verb| |\\verb|e2,|\\verb| |\\verb|e3|\\verb| |\\verb|in|\\verb| |\\verb|blue|\\)</html>"
      ],
      "text/latex": [
       "$\\displaystyle \\verb|basis|\\verb| |\\verb|vectors|\\verb| |\\verb|e1,|\\verb| |\\verb|e2,|\\verb| |\\verb|e3|\\verb| |\\verb|in|\\verb| |\\verb|blue|$"
      ],
      "text/plain": [
       "'basis vectors e1, e2, e3 in blue'"
      ]
     },
     "metadata": {},
     "output_type": "display_data"
    },
    {
     "data": {
      "text/html": [
       "<html>\\(\\displaystyle \\verb|cross|\\verb| |\\verb|product|\\verb| |\\verb|of|\\verb| |\\verb|u|\\verb| |\\verb|and|\\verb| |\\verb|v| \\left(-18,\\,48,\\,-18\\right)\\)</html>"
      ],
      "text/latex": [
       "$\\displaystyle \\verb|cross|\\verb| |\\verb|product|\\verb| |\\verb|of|\\verb| |\\verb|u|\\verb| |\\verb|and|\\verb| |\\verb|v| \\left(-18,\\,48,\\,-18\\right)$"
      ],
      "text/plain": [
       "'cross product of u and v' (-18, 48, -18)"
      ]
     },
     "metadata": {},
     "output_type": "display_data"
    },
    {
     "data": {
      "text/html": [
       "\n",
       "<iframe srcdoc=\"<!DOCTYPE html>\n",
       "<html>\n",
       "<head>\n",
       "<title></title>\n",
       "<meta charset=&quot;utf-8&quot;>\n",
       "<meta name=viewport content=&quot;width=device-width, user-scalable=no, minimum-scale=1.0, maximum-scale=1.0&quot;>\n",
       "<style>\n",
       "\n",
       "    body { margin: 0px; overflow: hidden; }\n",
       "\n",
       "    #menu-container { position: absolute; bottom: 30px; right: 40px; cursor: default; }\n",
       "\n",
       "    #menu-message { position: absolute; bottom: 0px; right: 0px; white-space: nowrap;\n",
       "                    display: none; background-color: #F5F5F5; padding: 10px; }\n",
       "\n",
       "    #menu-content { position: absolute; bottom: 0px; right: 0px;\n",
       "                    display: none; background-color: #F5F5F5; border-bottom: 1px solid black;\n",
       "                    border-right: 1px solid black; border-left: 1px solid black; }\n",
       "\n",
       "    #menu-content div { border-top: 1px solid black; padding: 10px; white-space: nowrap; }\n",
       "\n",
       "    #menu-content div:hover { background-color: #FEFEFE; }\n",
       "\n",
       "    .dark-theme #menu-container { color: white; }\n",
       "\n",
       "    .dark-theme #menu-message { background-color: #181818; }\n",
       "\n",
       "    .dark-theme #menu-content { background-color: #181818; border-color: white; }\n",
       "\n",
       "    .dark-theme #menu-content div { border-color: white; }\n",
       "\n",
       "    .dark-theme #menu-content div:hover { background-color: #303030; }\n",
       "\n",
       "</style>\n",
       "\n",
       "</head>\n",
       "\n",
       "<body>\n",
       "\n",
       "<script src=&quot;/nbextensions/threejs-sage/r122/three.min.js&quot;></script>\n",
       "<script>\n",
       "  if ( !window.THREE ) document.write(' \\\n",
       "<script src=&quot;https://cdn.jsdelivr.net/gh/sagemath/threejs-sage@r122/build/three.min.js&quot;><\\/script> \\\n",
       "            ');\n",
       "</script>\n",
       "        \n",
       "<script>\n",
       "\n",
       "    var options = {&quot;animate&quot;: false, &quot;animationControls&quot;: true, &quot;aspectRatio&quot;: [1.0, 1.0, 1.0], &quot;autoScaling&quot;: [false, false, false], &quot;autoPlay&quot;: true, &quot;axes&quot;: false, &quot;axesLabels&quot;: [&quot;x&quot;, &quot;y&quot;, &quot;z&quot;], &quot;axesLabelsStyle&quot;: null, &quot;decimals&quot;: 2, &quot;delay&quot;: 20, &quot;frame&quot;: true, &quot;loop&quot;: true, &quot;projection&quot;: &quot;perspective&quot;, &quot;theme&quot;: &quot;light&quot;, &quot;viewpoint&quot;: false};\n",
       "    var animate = options.animate;\n",
       "\n",
       "    if ( options.theme === 'dark' )\n",
       "        document.body.className = 'dark-theme';\n",
       "\n",
       "    var scene = new THREE.Scene();\n",
       "\n",
       "    var renderer = new THREE.WebGLRenderer( { antialias: true, preserveDrawingBuffer: true } );\n",
       "    renderer.setPixelRatio( window.devicePixelRatio );\n",
       "    renderer.setSize( window.innerWidth, window.innerHeight );\n",
       "    renderer.setClearColor( options.theme === 'dark' ? 0 : 0xffffff, 1 );\n",
       "    document.body.appendChild( renderer.domElement );\n",
       "\n",
       "    var b = [{&quot;x&quot;:-18.0, &quot;y&quot;:0.0, &quot;z&quot;:-18.0}, {&quot;x&quot;:5.0, &quot;y&quot;:48.0, &quot;z&quot;:12.0}]; // bounds\n",
       "\n",
       "    if ( b[0].x === b[1].x ) {\n",
       "        b[0].x -= 1;\n",
       "        b[1].x += 1;\n",
       "    }\n",
       "    if ( b[0].y === b[1].y ) {\n",
       "        b[0].y -= 1;\n",
       "        b[1].y += 1;\n",
       "    }\n",
       "    if ( b[0].z === b[1].z ) {\n",
       "        b[0].z -= 1;\n",
       "        b[1].z += 1;\n",
       "    }\n",
       "\n",
       "    var rxRange = Math.sqrt( Math.pow( b[1].z - b[0].z, 2 )\n",
       "                            + Math.pow( b[1].y - b[0].y, 2 ) );\n",
       "    var ryRange = Math.sqrt( Math.pow( b[1].x - b[0].x, 2 )\n",
       "                            + Math.pow( b[1].z - b[0].z, 2 ) );\n",
       "    var rzRange = Math.sqrt( Math.pow( b[1].x - b[0].x, 2 )\n",
       "                            + Math.pow( b[1].y - b[0].y, 2 ) );\n",
       "    var xRange = b[1].x - b[0].x;\n",
       "    var yRange = b[1].y - b[0].y;\n",
       "    var zRange = b[1].z - b[0].z;\n",
       "\n",
       "    var ar = options.aspectRatio;\n",
       "    var a = [ ar[0], ar[1], ar[2] ]; // aspect multipliers\n",
       "\n",
       "    var autoScaling = options.autoScaling;\n",
       "    var autoAspect = 2.5;\n",
       "    if ( xRange > autoAspect * rxRange && autoScaling[0] ) a[0] = autoAspect * rxRange / xRange;\n",
       "    if ( yRange > autoAspect * ryRange && autoScaling[1] ) a[1] = autoAspect * ryRange / yRange;\n",
       "    if ( zRange > autoAspect * rzRange && autoScaling[2] ) a[2] = autoAspect * rzRange / zRange;\n",
       "\n",
       "    // Distance from (xMid,yMid,zMid) to any corner of the bounding box, after applying aspectRatio\n",
       "    var midToCorner = Math.sqrt( a[0]*a[0]*xRange*xRange + a[1]*a[1]*yRange*yRange + a[2]*a[2]*zRange*zRange ) / 2;\n",
       "\n",
       "    var xMid = ( b[0].x + b[1].x ) / 2;\n",
       "    var yMid = ( b[0].y + b[1].y ) / 2;\n",
       "    var zMid = ( b[0].z + b[1].z ) / 2;\n",
       "\n",
       "    var box = new THREE.Geometry();\n",
       "    box.vertices.push( new THREE.Vector3( a[0]*b[0].x, a[1]*b[0].y, a[2]*b[0].z ) );\n",
       "    box.vertices.push( new THREE.Vector3( a[0]*b[1].x, a[1]*b[1].y, a[2]*b[1].z ) );\n",
       "    var boxMesh = new THREE.Line( box );\n",
       "    var boxColor = options.theme === 'dark' ? 'white' : 'black';\n",
       "    if ( options.frame ) scene.add( new THREE.BoxHelper( boxMesh, boxColor ) );\n",
       "\n",
       "    if ( options.axesLabels ) {\n",
       "\n",
       "        var d = options.decimals; // decimals\n",
       "        var offsetRatio = 0.1;\n",
       "        var al = options.axesLabels;\n",
       "        var als = options.axesLabelsStyle || [{}, {}, {}];\n",
       "\n",
       "        var offset = offsetRatio * a[1]*( b[1].y - b[0].y );\n",
       "        var xm = xMid.toFixed(d);\n",
       "        if ( /^-0.?0*$/.test(xm) ) xm = xm.substr(1);\n",
       "        addLabel( al[0] + '=' + xm, a[0]*xMid, a[1]*b[1].y+offset, a[2]*b[0].z, als[0] );\n",
       "        addLabel( ( b[0].x ).toFixed(d), a[0]*b[0].x, a[1]*b[1].y+offset, a[2]*b[0].z, als[0] );\n",
       "        addLabel( ( b[1].x ).toFixed(d), a[0]*b[1].x, a[1]*b[1].y+offset, a[2]*b[0].z, als[0] );\n",
       "\n",
       "        var offset = offsetRatio * a[0]*( b[1].x - b[0].x );\n",
       "        var ym = yMid.toFixed(d);\n",
       "        if ( /^-0.?0*$/.test(ym) ) ym = ym.substr(1);\n",
       "        addLabel( al[1] + '=' + ym, a[0]*b[1].x+offset, a[1]*yMid, a[2]*b[0].z, als[1] );\n",
       "        addLabel( ( b[0].y ).toFixed(d), a[0]*b[1].x+offset, a[1]*b[0].y, a[2]*b[0].z, als[1] );\n",
       "        addLabel( ( b[1].y ).toFixed(d), a[0]*b[1].x+offset, a[1]*b[1].y, a[2]*b[0].z, als[1] );\n",
       "\n",
       "        var offset = offsetRatio * a[1]*( b[1].y - b[0].y );\n",
       "        var zm = zMid.toFixed(d);\n",
       "        if ( /^-0.?0*$/.test(zm) ) zm = zm.substr(1);\n",
       "        addLabel( al[2] + '=' + zm, a[0]*b[1].x, a[1]*b[0].y-offset, a[2]*zMid, als[2] );\n",
       "        addLabel( ( b[0].z ).toFixed(d), a[0]*b[1].x, a[1]*b[0].y-offset, a[2]*b[0].z, als[2] );\n",
       "        addLabel( ( b[1].z ).toFixed(d), a[0]*b[1].x, a[1]*b[0].y-offset, a[2]*b[1].z, als[2] );\n",
       "\n",
       "    }\n",
       "\n",
       "    function addLabel( text, x, y, z, style ) {\n",
       "\n",
       "        var color = style.color || 'black';\n",
       "        var fontSize = style.fontSize || 14;\n",
       "        var fontFamily = style.fontFamily || 'monospace';\n",
       "        var fontStyle = style.fontStyle || 'normal';\n",
       "        var fontWeight = style.fontWeight || 'normal';\n",
       "        var opacity = style.opacity || 1;\n",
       "\n",
       "        if ( options.theme === 'dark' )\n",
       "            if ( color === 'black' || color === '#000000' )\n",
       "                color = 'white';\n",
       "\n",
       "        if ( Array.isArray( fontStyle ) ) {\n",
       "            fontFamily = fontFamily.map( function( f ) {\n",
       "                // Need to put quotes around fonts that have whitespace in their names.\n",
       "                return /\\s/.test( f ) ? '&quot;' + f + '&quot;' : f;\n",
       "            }).join(', ');\n",
       "        }\n",
       "\n",
       "        var canvas = document.createElement( 'canvas' );\n",
       "        var context = canvas.getContext( '2d' );\n",
       "        var pixelRatio = Math.round( window.devicePixelRatio );\n",
       "\n",
       "        // For example: italic bold 20px &quot;Times New Roman&quot;, Georgia, serif\n",
       "        var font = [fontStyle, fontWeight, fontSize + 'px', fontFamily].join(' ');\n",
       "\n",
       "        context.font = font;\n",
       "        var width = context.measureText( text ).width;\n",
       "        var height = fontSize;\n",
       "\n",
       "        // The dimensions of the canvas's underlying image data need to be powers\n",
       "        // of two in order for the resulting texture to support mipmapping.\n",
       "        canvas.width = THREE.MathUtils.ceilPowerOfTwo( width * pixelRatio );\n",
       "        canvas.height = THREE.MathUtils.ceilPowerOfTwo( height * pixelRatio );\n",
       "\n",
       "        // Re-compute the unscaled dimensions after the power of two conversion.\n",
       "        width = canvas.width / pixelRatio;\n",
       "        height = canvas.height / pixelRatio;\n",
       "\n",
       "        canvas.style.width = width + 'px';\n",
       "        canvas.style.height = height + 'px';\n",
       "\n",
       "        context.scale( pixelRatio, pixelRatio );\n",
       "        context.fillStyle = color;\n",
       "        context.font = font; // Must be set again after measureText.\n",
       "        context.textAlign = 'center';\n",
       "        context.textBaseline = 'middle';\n",
       "        context.fillText( text, width/2, height/2 );\n",
       "\n",
       "        var texture = new THREE.Texture( canvas );\n",
       "        texture.needsUpdate = true;\n",
       "\n",
       "        var materialOptions = { map: texture, sizeAttenuation: false, depthWrite: false };\n",
       "        if ( opacity < 1 ) {\n",
       "            // Setting opacity=1 would cause the texture's alpha component to be\n",
       "            // discarded, giving the text a black background instead of the\n",
       "            // background being transparent.\n",
       "            materialOptions.opacity = opacity;\n",
       "        }\n",
       "        var sprite = new THREE.Sprite( new THREE.SpriteMaterial( materialOptions ) );\n",
       "        sprite.position.set( x, y, z );\n",
       "\n",
       "        // Scaling factor, chosen somewhat arbitrarily so that the size of the text\n",
       "        // is consistent with previously generated plots.\n",
       "        var scale = 1/625;\n",
       "        if ( options.projection === 'orthographic' ) {\n",
       "            scale = midToCorner/256; // Needs to scale along with the plot itself.\n",
       "        }\n",
       "        sprite.scale.set( scale * width, scale * height, 1 );\n",
       "\n",
       "        scene.add( sprite );\n",
       "\n",
       "        return sprite;\n",
       "\n",
       "    }\n",
       "\n",
       "    if ( options.axes ) scene.add( new THREE.AxesHelper( Math.min( a[0]*b[1].x, a[1]*b[1].y, a[2]*b[1].z ) ) );\n",
       "\n",
       "    var camera = createCamera();\n",
       "    camera.up.set( 0, 0, 1 );\n",
       "    camera.position.set( a[0]*xMid, a[1]*yMid, a[2]*zMid );\n",
       "\n",
       "    var offset = new THREE.Vector3( a[0]*xRange, a[1]*yRange, a[2]*zRange );\n",
       "\n",
       "    if ( options.viewpoint ) {\n",
       "\n",
       "        var aa = options.viewpoint;\n",
       "        var axis = new THREE.Vector3( aa[0][0], aa[0][1], aa[0][2] ).normalize();\n",
       "        var angle = aa[1] * Math.PI / 180;\n",
       "        var q = new THREE.Quaternion().setFromAxisAngle( axis, angle ).inverse();\n",
       "\n",
       "        offset.set( 0, 0, offset.length() );\n",
       "        offset.applyQuaternion( q );\n",
       "\n",
       "    }\n",
       "\n",
       "    camera.position.add( offset );\n",
       "\n",
       "    function createCamera() {\n",
       "\n",
       "        var aspect = window.innerWidth / window.innerHeight;\n",
       "\n",
       "        // Scale the near and far clipping planes along with the overall plot size.\n",
       "        var nearClip = 0.01 * midToCorner;\n",
       "        var farClip = 100 * midToCorner;\n",
       "\n",
       "        if ( options.projection === 'orthographic' ) {\n",
       "            var camera = new THREE.OrthographicCamera( -1, 1, 1, -1, -farClip, farClip );\n",
       "            updateCameraAspect( camera, aspect );\n",
       "            return camera;\n",
       "        }\n",
       "\n",
       "        return new THREE.PerspectiveCamera( 45, aspect, nearClip, farClip );\n",
       "\n",
       "    }\n",
       "\n",
       "    function updateCameraAspect( camera, aspect ) {\n",
       "\n",
       "        if ( camera.isPerspectiveCamera ) {\n",
       "            camera.aspect = aspect;\n",
       "        } else if ( camera.isOrthographicCamera ) {\n",
       "            // Fit the camera frustum to the bounding box's diagonal so that the entire plot fits\n",
       "            // within at the default zoom level and camera position.\n",
       "            if ( aspect > 1 ) { // Wide window\n",
       "                camera.top = midToCorner;\n",
       "                camera.right = midToCorner * aspect;\n",
       "            } else { // Tall or square window\n",
       "                camera.top = midToCorner / aspect;\n",
       "                camera.right = midToCorner;\n",
       "            }\n",
       "            camera.bottom = -camera.top;\n",
       "            camera.left = -camera.right;\n",
       "        }\n",
       "\n",
       "        camera.updateProjectionMatrix();\n",
       "\n",
       "    }\n",
       "\n",
       "    var lights = [{&quot;x&quot;:-5, &quot;y&quot;:3, &quot;z&quot;:0, &quot;color&quot;:&quot;#7f7f7f&quot;, &quot;parent&quot;:&quot;camera&quot;}];\n",
       "    for ( var i=0 ; i < lights.length ; i++ ) {\n",
       "        var light = new THREE.DirectionalLight( lights[i].color, 1 );\n",
       "        light.position.set( a[0]*lights[i].x, a[1]*lights[i].y, a[2]*lights[i].z );\n",
       "        if ( lights[i].parent === 'camera' ) {\n",
       "            light.target.position.set( a[0]*xMid, a[1]*yMid, a[2]*zMid );\n",
       "            scene.add( light.target );\n",
       "            camera.add( light );\n",
       "        } else scene.add( light );\n",
       "    }\n",
       "    scene.add( camera );\n",
       "\n",
       "    var ambient = {&quot;color&quot;:&quot;#7f7f7f&quot;};\n",
       "    scene.add( new THREE.AmbientLight( ambient.color, 1 ) );\n",
       "\n",
       "    var controls = new THREE.OrbitControls( camera, renderer.domElement );\n",
       "    controls.target.set( a[0]*xMid, a[1]*yMid, a[2]*zMid );\n",
       "    controls.addEventListener( 'change', function() { if ( !animate ) render(); } );\n",
       "\n",
       "    window.addEventListener( 'resize', function() {\n",
       "\n",
       "        renderer.setSize( window.innerWidth, window.innerHeight );\n",
       "        updateCameraAspect( camera, window.innerWidth / window.innerHeight );\n",
       "        if ( window.rescaleFatLines ) rescaleFatLines();\n",
       "        if ( !animate ) render();\n",
       "\n",
       "    } );\n",
       "\n",
       "    var texts = [];\n",
       "    for ( var i=0 ; i < texts.length ; i++ ) addText( texts[i] );\n",
       "\n",
       "    function addText( json ) {\n",
       "        var sprite = addLabel( json.text, a[0]*json.x, a[1]*json.y, a[2]*json.z, json );\n",
       "        sprite.userData = json;\n",
       "    }\n",
       "\n",
       "    var points = [];\n",
       "    for ( var i=0 ; i < points.length ; i++ ) addPoint( points[i] );\n",
       "\n",
       "    function addPoint( json ) {\n",
       "\n",
       "        var geometry = new THREE.Geometry();\n",
       "        var v = json.point;\n",
       "        geometry.vertices.push( new THREE.Vector3( a[0]*v[0], a[1]*v[1], a[2]*v[2] ) );\n",
       "\n",
       "        var canvas = document.createElement( 'canvas' );\n",
       "        canvas.width = 128;\n",
       "        canvas.height = 128;\n",
       "\n",
       "        var context = canvas.getContext( '2d' );\n",
       "        context.arc( 64, 64, 64, 0, 2 * Math.PI );\n",
       "        context.fillStyle = json.color;\n",
       "        context.fill();\n",
       "\n",
       "        var texture = new THREE.Texture( canvas );\n",
       "        texture.needsUpdate = true;\n",
       "\n",
       "        var transparent = json.opacity < 1 ? true : false;\n",
       "        var size = camera.isOrthographicCamera ? json.size : json.size/100;\n",
       "        var material = new THREE.PointsMaterial( { size: size, map: texture,\n",
       "                                                   transparent: transparent, opacity: json.opacity,\n",
       "                                                   alphaTest: .1 } );\n",
       "\n",
       "        var c = new THREE.Vector3();\n",
       "        geometry.computeBoundingBox();\n",
       "        geometry.boundingBox.getCenter( c );\n",
       "        geometry.translate( -c.x, -c.y, -c.z );\n",
       "\n",
       "        var mesh = new THREE.Points( geometry, material );\n",
       "        mesh.position.set( c.x, c.y, c.z );\n",
       "        mesh.userData = json;\n",
       "        scene.add( mesh );\n",
       "\n",
       "    }\n",
       "\n",
       "    var lines = [];\n",
       "    for ( var i=0 ; i < lines.length ; i++ ) addLine( lines[i] );\n",
       "\n",
       "    function addLine( json ) {\n",
       "\n",
       "        var geometry = new THREE.Geometry();\n",
       "        for ( var i=0 ; i < json.points.length ; i++ ) {\n",
       "            var v = json.points[i];\n",
       "            geometry.vertices.push( new THREE.Vector3( a[0]*v[0], a[1]*v[1], a[2]*v[2] ) );\n",
       "        }\n",
       "\n",
       "        var c = new THREE.Vector3();\n",
       "        geometry.computeBoundingBox();\n",
       "        geometry.boundingBox.getCenter( c );\n",
       "        geometry.translate( -c.x, -c.y, -c.z );\n",
       "\n",
       "        var transparent = json.opacity < 1 ? true : false;\n",
       "        var materialOptions = { color: json.color, linewidth: json.linewidth,\n",
       "                                transparent: transparent, opacity: json.opacity };\n",
       "\n",
       "        var mesh;\n",
       "        if ( json.linewidth > 1 && window.createFatLineStrip ) {\n",
       "            mesh = createFatLineStrip( geometry, materialOptions );\n",
       "        } else {\n",
       "            var material = new THREE.LineBasicMaterial( materialOptions );\n",
       "            mesh = new THREE.Line( geometry, material );\n",
       "        }\n",
       "\n",
       "        mesh.position.set( c.x, c.y, c.z );\n",
       "        mesh.userData = json;\n",
       "        scene.add( mesh );\n",
       "\n",
       "    }\n",
       "\n",
       "    var surfaces = [{&quot;vertices&quot;: [{&quot;x&quot;: 0.73, &quot;y&quot;: 0.0, &quot;z&quot;: 4.469960816887839e-17}, {&quot;x&quot;: 0.73, &quot;y&quot;: 0.009270509831248424, &quot;z&quot;: -0.02853169548885456}, {&quot;x&quot;: 0.73, &quot;y&quot;: 0.03, &quot;z&quot;: 4.469960816887839e-17}, {&quot;x&quot;: 0.73, &quot;y&quot;: -0.02427050983124842, &quot;z&quot;: -0.01763355756877415}, {&quot;x&quot;: 0.73, &quot;y&quot;: -0.024270509831248427, &quot;z&quot;: 0.017633557568774234}, {&quot;x&quot;: 0.73, &quot;y&quot;: 0.009270509831248417, &quot;z&quot;: 0.028531695488854654}, {&quot;x&quot;: 1.7470624777336386e-18, &quot;y&quot;: 0.009270509831248424, &quot;z&quot;: -0.028531695488854605}, {&quot;x&quot;: 0.0, &quot;y&quot;: 0.03, &quot;z&quot;: 0.0}, {&quot;x&quot;: 1.079743991708995e-18, &quot;y&quot;: -0.02427050983124842, &quot;z&quot;: -0.017633557568774196}, {&quot;x&quot;: -1.0797439917089947e-18, &quot;y&quot;: -0.024270509831248427, &quot;z&quot;: 0.01763355756877419}, {&quot;x&quot;: -1.7470624777336386e-18, &quot;y&quot;: 0.009270509831248417, &quot;z&quot;: 0.02853169548885461}, {&quot;x&quot;: 0.0, &quot;y&quot;: 0.0, &quot;z&quot;: 0.0}], &quot;faces&quot;: [[0, 1, 2], [0, 3, 1], [0, 4, 3], [0, 5, 4], [0, 2, 5], [2, 1, 6, 7], [1, 3, 8, 6], [3, 4, 9, 8], [4, 5, 10, 9], [5, 2, 7, 10], [7, 6, 11], [6, 8, 11], [8, 9, 11], [9, 10, 11], [10, 7, 11]], &quot;color&quot;: &quot;#0000ff&quot;, &quot;opacity&quot;: 1.0}, {&quot;vertices&quot;: [{&quot;x&quot;: 1.0, &quot;y&quot;: 0.0, &quot;z&quot;: 6.123233995736766e-17}, {&quot;x&quot;: 0.73, &quot;y&quot;: 0.05611408216728602, &quot;z&quot;: -0.07036483342212264}, {&quot;x&quot;: 0.73, &quot;y&quot;: 0.09, &quot;z&quot;: 4.469960816887839e-17}, {&quot;x&quot;: 0.73, &quot;y&quot;: -0.02002688405606829, &quot;z&quot;: -0.08774351209636408}, {&quot;x&quot;: 0.73, &quot;y&quot;: -0.08108719811121771, &quot;z&quot;: -0.0390495365205802}, {&quot;x&quot;: 0.73, &quot;y&quot;: -0.08108719811121771, &quot;z&quot;: 0.03904953652058026}, {&quot;x&quot;: 0.73, &quot;y&quot;: -0.02002688405606831, &quot;z&quot;: 0.08774351209636416}, {&quot;x&quot;: 0.73, &quot;y&quot;: 0.056114082167286, &quot;z&quot;: 0.07036483342212273}, {&quot;x&quot;: 0.73, &quot;y&quot;: 0.0, &quot;z&quot;: 4.469960816887839e-17}], &quot;faces&quot;: [[0, 1, 2], [0, 3, 1], [0, 4, 3], [0, 5, 4], [0, 6, 5], [0, 7, 6], [0, 2, 7], [2, 1, 8], [1, 3, 8], [3, 4, 8], [4, 5, 8], [5, 6, 8], [6, 7, 8], [7, 2, 8]], &quot;color&quot;: &quot;#0000ff&quot;, &quot;opacity&quot;: 1.0}, {&quot;vertices&quot;: [{&quot;x&quot;: 0.0, &quot;y&quot;: 0.73, &quot;z&quot;: 4.469960816887839e-17}, {&quot;x&quot;: 0.028531695488854605, &quot;y&quot;: 0.73, &quot;z&quot;: -0.009270509831248379}, {&quot;x&quot;: 0.0, &quot;y&quot;: 0.73, &quot;z&quot;: -0.029999999999999954}, {&quot;x&quot;: 0.017633557568774196, &quot;y&quot;: 0.73, &quot;z&quot;: 0.024270509831248465}, {&quot;x&quot;: -0.01763355756877419, &quot;y&quot;: 0.73, &quot;z&quot;: 0.024270509831248472}, {&quot;x&quot;: -0.02853169548885461, &quot;y&quot;: 0.73, &quot;z&quot;: -0.009270509831248372}, {&quot;x&quot;: 0.028531695488854605, &quot;y&quot;: 5.676550095651226e-19, &quot;z&quot;: -0.009270509831248424}, {&quot;x&quot;: 0.0, &quot;y&quot;: 1.8369701987210296e-18, &quot;z&quot;: -0.03}, {&quot;x&quot;: 0.017633557568774196, &quot;y&quot;: -1.4861401089256373e-18, &quot;z&quot;: 0.02427050983124842}, {&quot;x&quot;: -0.01763355756877419, &quot;y&quot;: -1.4861401089256377e-18, &quot;z&quot;: 0.024270509831248427}, {&quot;x&quot;: -0.02853169548885461, &quot;y&quot;: 5.676550095651222e-19, &quot;z&quot;: -0.009270509831248417}, {&quot;x&quot;: 0.0, &quot;y&quot;: 0.0, &quot;z&quot;: 0.0}], &quot;faces&quot;: [[0, 1, 2], [0, 3, 1], [0, 4, 3], [0, 5, 4], [0, 2, 5], [2, 1, 6, 7], [1, 3, 8, 6], [3, 4, 9, 8], [4, 5, 10, 9], [5, 2, 7, 10], [7, 6, 11], [6, 8, 11], [8, 9, 11], [9, 10, 11], [10, 7, 11]], &quot;color&quot;: &quot;#0000ff&quot;, &quot;opacity&quot;: 1.0}, {&quot;vertices&quot;: [{&quot;x&quot;: 0.0, &quot;y&quot;: 1.0, &quot;z&quot;: 6.123233995736766e-17}, {&quot;x&quot;: 0.07036483342212269, &quot;y&quot;: 0.73, &quot;z&quot;: -0.05611408216728598}, {&quot;x&quot;: 0.0, &quot;y&quot;: 0.73, &quot;z&quot;: -0.08999999999999996}, {&quot;x&quot;: 0.08774351209636412, &quot;y&quot;: 0.73, &quot;z&quot;: 0.020026884056068336}, {&quot;x&quot;: 0.03904953652058024, &quot;y&quot;: 0.73, &quot;z&quot;: 0.08108719811121776}, {&quot;x&quot;: -0.03904953652058022, &quot;y&quot;: 0.73, &quot;z&quot;: 0.08108719811121776}, {&quot;x&quot;: -0.08774351209636412, &quot;y&quot;: 0.73, &quot;z&quot;: 0.020026884056068357}, {&quot;x&quot;: -0.07036483342212269, &quot;y&quot;: 0.73, &quot;z&quot;: -0.05611408216728596}, {&quot;x&quot;: 0.0, &quot;y&quot;: 0.73, &quot;z&quot;: 4.469960816887839e-17}], &quot;faces&quot;: [[0, 1, 2], [0, 3, 1], [0, 4, 3], [0, 5, 4], [0, 6, 5], [0, 7, 6], [0, 2, 7], [2, 1, 8], [1, 3, 8], [3, 4, 8], [4, 5, 8], [5, 6, 8], [6, 7, 8], [7, 2, 8]], &quot;color&quot;: &quot;#0000ff&quot;, &quot;opacity&quot;: 1.0}, {&quot;vertices&quot;: [{&quot;x&quot;: 0.0, &quot;y&quot;: 0.0, &quot;z&quot;: 0.73}, {&quot;x&quot;: 0.028531695488854605, &quot;y&quot;: 0.009270509831248424, &quot;z&quot;: 0.73}, {&quot;x&quot;: 0.0, &quot;y&quot;: 0.03, &quot;z&quot;: 0.73}, {&quot;x&quot;: 0.017633557568774196, &quot;y&quot;: -0.02427050983124842, &quot;z&quot;: 0.73}, {&quot;x&quot;: -0.01763355756877419, &quot;y&quot;: -0.024270509831248427, &quot;z&quot;: 0.73}, {&quot;x&quot;: -0.02853169548885461, &quot;y&quot;: 0.009270509831248417, &quot;z&quot;: 0.73}, {&quot;x&quot;: 0.028531695488854605, &quot;y&quot;: 0.009270509831248424, &quot;z&quot;: 0.0}, {&quot;x&quot;: 0.0, &quot;y&quot;: 0.03, &quot;z&quot;: 0.0}, {&quot;x&quot;: 0.017633557568774196, &quot;y&quot;: -0.02427050983124842, &quot;z&quot;: 0.0}, {&quot;x&quot;: -0.01763355756877419, &quot;y&quot;: -0.024270509831248427, &quot;z&quot;: 0.0}, {&quot;x&quot;: -0.02853169548885461, &quot;y&quot;: 0.009270509831248417, &quot;z&quot;: 0.0}, {&quot;x&quot;: 0.0, &quot;y&quot;: 0.0, &quot;z&quot;: 0.0}], &quot;faces&quot;: [[0, 1, 2], [0, 3, 1], [0, 4, 3], [0, 5, 4], [0, 2, 5], [2, 1, 6, 7], [1, 3, 8, 6], [3, 4, 9, 8], [4, 5, 10, 9], [5, 2, 7, 10], [7, 6, 11], [6, 8, 11], [8, 9, 11], [9, 10, 11], [10, 7, 11]], &quot;color&quot;: &quot;#0000ff&quot;, &quot;opacity&quot;: 1.0}, {&quot;vertices&quot;: [{&quot;x&quot;: 0.0, &quot;y&quot;: 0.0, &quot;z&quot;: 1.0}, {&quot;x&quot;: 0.07036483342212269, &quot;y&quot;: 0.05611408216728602, &quot;z&quot;: 0.73}, {&quot;x&quot;: 0.0, &quot;y&quot;: 0.09, &quot;z&quot;: 0.73}, {&quot;x&quot;: 0.08774351209636412, &quot;y&quot;: -0.02002688405606829, &quot;z&quot;: 0.73}, {&quot;x&quot;: 0.03904953652058024, &quot;y&quot;: -0.08108719811121771, &quot;z&quot;: 0.73}, {&quot;x&quot;: -0.03904953652058022, &quot;y&quot;: -0.08108719811121771, &quot;z&quot;: 0.73}, {&quot;x&quot;: -0.08774351209636412, &quot;y&quot;: -0.02002688405606831, &quot;z&quot;: 0.73}, {&quot;x&quot;: -0.07036483342212269, &quot;y&quot;: 0.056114082167286, &quot;z&quot;: 0.73}, {&quot;x&quot;: 0.0, &quot;y&quot;: 0.0, &quot;z&quot;: 0.73}], &quot;faces&quot;: [[0, 1, 2], [0, 3, 1], [0, 4, 3], [0, 5, 4], [0, 6, 5], [0, 7, 6], [0, 2, 7], [2, 1, 8], [1, 3, 8], [3, 4, 8], [4, 5, 8], [5, 6, 8], [6, 7, 8], [7, 2, 8]], &quot;color&quot;: &quot;#0000ff&quot;, &quot;opacity&quot;: 1.0}, {&quot;vertices&quot;: [{&quot;x&quot;: 3.9228571428571435, &quot;y&quot;: 5.884285714285715, &quot;z&quot;: 11.768571428571429}, {&quot;x&quot;: 3.9495234554784937, &quot;y&quot;: 5.890758149815707, &quot;z&quot;: 11.756446439932649}, {&quot;x&quot;: 3.9208791208791216, &quot;y&quot;: 5.911318681318682, &quot;z&quot;: 11.755714285714285}, {&quot;x&quot;: 3.94131585238979, &quot;y&quot;: 5.861252932400276, &quot;z&quot;: 11.7739349163366}, {&quot;x&quot;: 3.9075989401154305, &quot;y&quot;: 5.863578236695059, &quot;z&quot;: 11.784011234947327}, {&quot;x&quot;: 3.8949683454228814, &quot;y&quot;: 5.894520571198853, &quot;z&quot;: 11.77275026592628}, {&quot;x&quot;: 0.02666631262135011, &quot;y&quot;: 0.006472435529991683, &quot;z&quot;: -0.012124988638779213}, {&quot;x&quot;: -0.001978021978021979, &quot;y&quot;: 0.027032967032967033, &quot;z&quot;: -0.012857142857142859}, {&quot;x&quot;: 0.018458709532646653, &quot;y&quot;: -0.023032781885439734, &quot;z&quot;: 0.005363487765170983}, {&quot;x&quot;: -0.015258202741712787, &quot;y&quot;: -0.020707477590656328, &quot;z&quot;: 0.015439806375899097}, {&quot;x&quot;: -0.02788879743426199, &quot;y&quot;: 0.010234856913137339, &quot;z&quot;: 0.0041788373548519945}, {&quot;x&quot;: 0.0, &quot;y&quot;: 0.0, &quot;z&quot;: 0.0}], &quot;faces&quot;: [[0, 1, 2], [0, 3, 1], [0, 4, 3], [0, 5, 4], [0, 2, 5], [2, 1, 6, 7], [1, 3, 8, 6], [3, 4, 9, 8], [4, 5, 10, 9], [5, 2, 7, 10], [7, 6, 11], [6, 8, 11], [8, 9, 11], [9, 10, 11], [10, 7, 11]], &quot;color&quot;: &quot;#ffff00&quot;, &quot;opacity&quot;: 1.0}, {&quot;vertices&quot;: [{&quot;x&quot;: 4.000000000000001, &quot;y&quot;: 6.000000000000001, &quot;z&quot;: 12.0}, {&quot;x&quot;: 3.986429186974956, &quot;y&quot;: 5.930210612496536, &quot;z&quot;: 11.724418298093413}, {&quot;x&quot;: 3.9169230769230774, &quot;y&quot;: 5.965384615384616, &quot;z&quot;: 11.73}, {&quot;x&quot;: 4.0080642511727484, &quot;y&quot;: 5.8604542245585085, &quot;z&quot;: 11.752084803996496}, {&quot;x&quot;: 3.965536624900636, &quot;y&quot;: 5.808643434458865, &quot;z&quot;: 11.792166074470357}, {&quot;x&quot;: 3.890870478146999, &quot;y&quot;: 5.813792823890151, &quot;z&quot;: 11.81448009533926}, {&quot;x&quot;: 3.8402909423291516, &quot;y&quot;: 5.872024797582205, &quot;z&quot;: 11.802223953765848}, {&quot;x&quot;: 3.851885439552436, &quot;y&quot;: 5.939489491629124, &quot;z&quot;: 11.764626774334626}, {&quot;x&quot;: 3.9228571428571435, &quot;y&quot;: 5.884285714285715, &quot;z&quot;: 11.768571428571429}], &quot;faces&quot;: [[0, 1, 2], [0, 3, 1], [0, 4, 3], [0, 5, 4], [0, 6, 5], [0, 7, 6], [0, 2, 7], [2, 1, 8], [1, 3, 8], [3, 4, 8], [4, 5, 8], [5, 6, 8], [6, 7, 8], [7, 2, 8]], &quot;color&quot;: &quot;#ffff00&quot;, &quot;opacity&quot;: 1.0}, {&quot;vertices&quot;: [{&quot;x&quot;: 4.794126930050983, &quot;y&quot;: 2.8764761580305898, &quot;z&quot;: 2.8764761580305906}, {&quot;x&quot;: 4.809058521141293, &quot;y&quot;: 2.877586605222711, &quot;z&quot;: 2.8504797256879537}, {&quot;x&quot;: 4.786946726225954, &quot;y&quot;: 2.9021680357355724, &quot;z&quot;: 2.8627512867006564}, {&quot;x&quot;: 4.810535364675938, &quot;y&quot;: 2.85147057443305, &quot;z&quot;: 2.874134350586538}, {&quot;x&quot;: 4.789336309261077, &quot;y&quot;: 2.859911410266662, &quot;z&quot;: 2.901025273777696}, {&quot;x&quot;: 4.774757728950654, &quot;y&quot;: 2.891244164494953, &quot;z&quot;: 2.893990153400109}, {&quot;x&quot;: 0.01493159109030941, &quot;y&quot;: 0.0011104471921213072, &quot;z&quot;: -0.025996432342636988}, {&quot;x&quot;: -0.00718020382502893, &quot;y&quot;: 0.025691877704982637, &quot;z&quot;: -0.013724871329934418}, {&quot;x&quot;: 0.016408434624955247, &quot;y&quot;: -0.025005583597539783, &quot;z&quot;: -0.0023418074440522945}, {&quot;x&quot;: -0.004790620789906432, &quot;y&quot;: -0.01656474776392777, &quot;z&quot;: 0.024549115747105152}, {&quot;x&quot;: -0.019369201100329296, &quot;y&quot;: 0.014768006464363603, &quot;z&quot;: 0.01751399536951855}, {&quot;x&quot;: 0.0, &quot;y&quot;: 0.0, &quot;z&quot;: 0.0}], &quot;faces&quot;: [[0, 1, 2], [0, 3, 1], [0, 4, 3], [0, 5, 4], [0, 2, 5], [2, 1, 6, 7], [1, 3, 8, 6], [3, 4, 9, 8], [4, 5, 10, 9], [5, 2, 7, 10], [7, 6, 11], [6, 8, 11], [8, 9, 11], [9, 10, 11], [10, 7, 11]], &quot;color&quot;: &quot;#ff0000&quot;, &quot;opacity&quot;: 1.0}, {&quot;vertices&quot;: [{&quot;x&quot;: 4.999999999999999, &quot;y&quot;: 2.9999999999999996, &quot;z&quot;: 3.0000000000000004}, {&quot;x&quot;: 4.822992864887863, &quot;y&quot;: 2.9076909010467302, &quot;z&quot;: 2.7971515236196502}, {&quot;x&quot;: 4.772586318575897, &quot;y&quot;: 2.9535517911455376, &quot;z&quot;: 2.8353015440407874}, {&quot;x&quot;: 4.851662773509897, &quot;y&quot;: 2.838324672792051, &quot;z&quot;: 2.8187345708376066}, {&quot;x&quot;: 4.837007018490049, &quot;y&quot;: 2.7976872910704635, &quot;z&quot;: 2.8837982109256064}, {&quot;x&quot;: 4.790061682281187, &quot;y&quot;: 2.816379533169842, &quot;z&quot;: 2.9433481958409993}, {&quot;x&quot;: 4.746177560558922, &quot;y&quot;: 2.8803257595371035, &quot;z&quot;: 2.9525421723441783}, {&quot;x&quot;: 4.7384002920530675, &quot;y&quot;: 2.9413731574524, &quot;z&quot;: 2.9044568886053064}, {&quot;x&quot;: 4.794126930050983, &quot;y&quot;: 2.8764761580305898, &quot;z&quot;: 2.8764761580305906}], &quot;faces&quot;: [[0, 1, 2], [0, 3, 1], [0, 4, 3], [0, 5, 4], [0, 6, 5], [0, 7, 6], [0, 2, 7], [2, 1, 8], [1, 3, 8], [3, 4, 8], [4, 5, 8], [5, 6, 8], [6, 7, 8], [7, 2, 8]], &quot;color&quot;: &quot;#ff0000&quot;, &quot;opacity&quot;: 1.0}, {&quot;vertices&quot;: [{&quot;x&quot;: -17.910550463879375, &quot;y&quot;: 47.76146790367833, &quot;z&quot;: -17.91055046387937}, {&quot;x&quot;: -17.882644167242432, &quot;y&quot;: 47.772406143781346, &quot;z&quot;: -17.909288120241612}, {&quot;x&quot;: -17.897419887217435, &quot;y&quot;: 47.75645303257982, &quot;z&quot;: -17.937054030137336}, {&quot;x&quot;: -17.906434000719546, &quot;y&quot;: 47.77324297893761, &quot;z&quot;: -17.88326672634779}, {&quot;x&quot;: -17.93591264637011, &quot;y&quot;: 47.75780706030564, &quot;z&quot;: -17.89495053038248}, {&quot;x&quot;: -17.93034161784735, &quot;y&quot;: 47.74743030278724, &quot;z&quot;: -17.928192912287635}, {&quot;x&quot;: 0.02790629663694294, &quot;y&quot;: 0.010938240103012864, &quot;z&quot;: 0.0012623436377580347}, {&quot;x&quot;: 0.013130576661940663, &quot;y&quot;: -0.005014871098508439, &quot;z&quot;: -0.02650356625796317}, {&quot;x&quot;: 0.004116463159826963, &quot;y&quot;: 0.01177507525927754, &quot;z&quot;: 0.02728373753157982}, {&quot;x&quot;: -0.02536218249073309, &quot;y&quot;: -0.0036608433726913617, &quot;z&quot;: 0.015599933496889457}, {&quot;x&quot;: -0.019791153967977478, &quot;y&quot;: -0.014037600891090601, &quot;z&quot;: -0.017642448408264136}, {&quot;x&quot;: 0.0, &quot;y&quot;: 0.0, &quot;z&quot;: 0.0}], &quot;faces&quot;: [[0, 1, 2], [0, 3, 1], [0, 4, 3], [0, 5, 4], [0, 2, 5], [2, 1, 6, 7], [1, 3, 8, 6], [3, 4, 9, 8], [4, 5, 10, 9], [5, 2, 7, 10], [7, 6, 11], [6, 8, 11], [8, 9, 11], [9, 10, 11], [10, 7, 11]], &quot;color&quot;: &quot;#4b0082&quot;, &quot;opacity&quot;: 1.0}, {&quot;vertices&quot;: [{&quot;x&quot;: -18.0, &quot;y&quot;: 48.0, &quot;z&quot;: -17.999999999999996}, {&quot;x&quot;: -17.82717442402794, &quot;y&quot;: 47.782885435367454, &quot;z&quot;: -17.93681308589313}, {&quot;x&quot;: -17.87115873389355, &quot;y&quot;: 47.74642329038281, &quot;z&quot;: -17.990061162653262}, {&quot;x&quot;: -17.845973972731727, &quot;y&quot;: 47.80321974215217, &quot;z&quot;: -17.86378871909678}, {&quot;x&quot;: -17.913400936390047, &quot;y&quot;: 47.792114062983785, &quot;z&quot;: -17.82597689988748}, {&quot;x&quot;: -17.97868143610879, &quot;y&quot;: 47.75793120079067, &quot;z&quot;: -17.85185069935038}, {&quot;x&quot;: -17.992657924120223, &quot;y&quot;: 47.726411548007555, &quot;z&quot;: -17.92192661876059}, {&quot;x&quot;: -17.944805819883342, &quot;y&quot;: 47.721290046063864, &quot;z&quot;: -17.983436061513974}, {&quot;x&quot;: -17.910550463879375, &quot;y&quot;: 47.76146790367833, &quot;z&quot;: -17.91055046387937}], &quot;faces&quot;: [[0, 1, 2], [0, 3, 1], [0, 4, 3], [0, 5, 4], [0, 6, 5], [0, 7, 6], [0, 2, 7], [2, 1, 8], [1, 3, 8], [3, 4, 8], [4, 5, 8], [5, 6, 8], [6, 7, 8], [7, 2, 8]], &quot;color&quot;: &quot;#4b0082&quot;, &quot;opacity&quot;: 1.0}];\n",
       "    for ( var i=0 ; i < surfaces.length ; i++ ) addSurface( surfaces[i] );\n",
       "\n",
       "    function addSurface( json ) {\n",
       "\n",
       "        var useFaceColors = 'faceColors' in json ? true : false;\n",
       "\n",
       "        var geometry = new THREE.Geometry();\n",
       "        for ( var i=0 ; i < json.vertices.length ; i++ ) {\n",
       "            var v = json.vertices[i];\n",
       "            geometry.vertices.push( new THREE.Vector3( a[0]*v.x, a[1]*v.y, a[2]*v.z ) );\n",
       "        }\n",
       "        for ( var i=0 ; i < json.faces.length ; i++ ) {\n",
       "            var f = json.faces[i];\n",
       "            for ( var j=0 ; j < f.length - 2 ; j++ ) {\n",
       "                var face = new THREE.Face3( f[0], f[j+1], f[j+2] );\n",
       "                if ( useFaceColors ) face.color.set( json.faceColors[i] );\n",
       "                geometry.faces.push( face );\n",
       "            }\n",
       "        }\n",
       "        geometry.computeVertexNormals();\n",
       "\n",
       "        var side = json.singleSide ? THREE.FrontSide : THREE.DoubleSide;\n",
       "        var transparent = json.opacity < 1 ? true : false;\n",
       "        var depthWrite = 'depthWrite' in json ? json.depthWrite : !transparent;\n",
       "        var flatShading = json.useFlatShading ? json.useFlatShading : false;\n",
       "\n",
       "        var material = new THREE.MeshPhongMaterial( { side: side,\n",
       "                                     color: useFaceColors ? 'white' : json.color,\n",
       "                                     vertexColors: useFaceColors ? THREE.FaceColors : THREE.NoColors,\n",
       "                                     transparent: transparent, opacity: json.opacity,\n",
       "                                     shininess: 20, flatShading: flatShading,\n",
       "                                     depthWrite: depthWrite } );\n",
       "\n",
       "        var c = new THREE.Vector3();\n",
       "        geometry.computeBoundingBox();\n",
       "        geometry.boundingBox.getCenter( c );\n",
       "        geometry.translate( -c.x, -c.y, -c.z );\n",
       "\n",
       "        var mesh = new THREE.Mesh( geometry, material );\n",
       "        mesh.position.set( c.x, c.y, c.z );\n",
       "        if ( transparent && json.renderOrder ) mesh.renderOrder = json.renderOrder;\n",
       "        mesh.userData = json;\n",
       "        scene.add( mesh );\n",
       "\n",
       "        if ( json.showMeshGrid ) addSurfaceMeshGrid( json );\n",
       "\n",
       "    }\n",
       "\n",
       "    function addSurfaceMeshGrid( json ) {\n",
       "\n",
       "        var geometry = new THREE.Geometry();\n",
       "\n",
       "        for ( var i=0 ; i < json.faces.length ; i++ ) {\n",
       "            var f = json.faces[i];\n",
       "            for ( var j=0 ; j < f.length ; j++ ) {\n",
       "                var k = j === f.length-1 ? 0 : j+1;\n",
       "                var v1 = json.vertices[f[j]];\n",
       "                var v2 = json.vertices[f[k]];\n",
       "                // vertices in opposite directions on neighboring faces\n",
       "                var nudge = f[j] < f[k] ? .0005*zRange : -.0005*zRange;\n",
       "                geometry.vertices.push( new THREE.Vector3( a[0]*v1.x, a[1]*v1.y, a[2]*(v1.z+nudge) ) );\n",
       "                geometry.vertices.push( new THREE.Vector3( a[0]*v2.x, a[1]*v2.y, a[2]*(v2.z+nudge) ) );\n",
       "            }\n",
       "        }\n",
       "\n",
       "        var c = new THREE.Vector3();\n",
       "        geometry.computeBoundingBox();\n",
       "        geometry.boundingBox.getCenter( c );\n",
       "        geometry.translate( -c.x, -c.y, -c.z );\n",
       "\n",
       "        var gridColor = options.theme === 'dark' ? 'white' : 'black';\n",
       "        var linewidth = json.linewidth || 1;\n",
       "        var materialOptions = { color: gridColor, linewidth: linewidth };\n",
       "\n",
       "        var mesh;\n",
       "        if ( linewidth > 1 && window.createFatLineSegments ) {\n",
       "            mesh = createFatLineSegments( geometry, materialOptions );\n",
       "        } else {\n",
       "            var material = new THREE.LineBasicMaterial( materialOptions );\n",
       "            mesh = new THREE.LineSegments( geometry, material );\n",
       "        }\n",
       "\n",
       "        mesh.position.set( c.x, c.y, c.z );\n",
       "        mesh.userData = json;\n",
       "        scene.add( mesh );\n",
       "\n",
       "    }\n",
       "\n",
       "    function render() {\n",
       "\n",
       "        if ( window.updateAnimation ) animate = updateAnimation();\n",
       "        if ( animate ) requestAnimationFrame( render );\n",
       "\n",
       "        renderer.render( scene, camera );\n",
       "\n",
       "    }\n",
       "\n",
       "    render();\n",
       "    controls.update();\n",
       "    if ( !animate ) render();\n",
       "\n",
       "\n",
       "    // menu functions\n",
       "\n",
       "    function toggleMenu() {\n",
       "\n",
       "        var m = document.getElementById( 'menu-content' );\n",
       "        if ( m.style.display === 'block' ) m.style.display = 'none'\n",
       "        else m.style.display = 'block';\n",
       "\n",
       "    }\n",
       "\n",
       "\n",
       "    function saveAsPNG() {\n",
       "\n",
       "        var a = document.body.appendChild( document.createElement( 'a' ) );\n",
       "        a.href = renderer.domElement.toDataURL( 'image/png' );\n",
       "        a.download = 'screenshot';\n",
       "        a.click();\n",
       "\n",
       "    }\n",
       "\n",
       "    function saveAsHTML() {\n",
       "\n",
       "        toggleMenu(); // otherwise visible in output\n",
       "        event.stopPropagation();\n",
       "\n",
       "        var blob = new Blob( [ '<!DOCTYPE html>\\n' + document.documentElement.outerHTML ] );\n",
       "        var a = document.body.appendChild( document.createElement( 'a' ) );\n",
       "        a.href = window.URL.createObjectURL( blob );\n",
       "        a.download = suggestFilename();\n",
       "        a.click();\n",
       "\n",
       "        function suggestFilename() {\n",
       "            if ( !document.title ) {\n",
       "                return 'graphic.html';\n",
       "            } else if ( /\\.html?$/i.test( document.title ) ) {\n",
       "                return document.title; // already ends in .htm or .html\n",
       "            } else {\n",
       "                return document.title + '.html';\n",
       "            }\n",
       "        }\n",
       "\n",
       "    }\n",
       "\n",
       "    function getViewpoint() {\n",
       "\n",
       "        function roundTo( x, n ) { return +x.toFixed(n); }\n",
       "\n",
       "        var v = camera.quaternion.inverse();\n",
       "        var r = Math.sqrt( v.x*v.x + v.y*v.y + v.z*v.z );\n",
       "        var axis = [ roundTo( v.x / r, 4 ), roundTo( v.y / r, 4 ), roundTo( v.z / r, 4 ) ];\n",
       "        var angle = roundTo( 2 * Math.atan2( r, v.w ) * 180 / Math.PI, 2 );\n",
       "\n",
       "        var textArea = document.createElement( 'textarea' );\n",
       "        textArea.textContent = JSON.stringify( axis ) + ',' + angle;\n",
       "        textArea.style.csstext = 'position: absolute; top: -100%';\n",
       "        document.body.append( textArea );\n",
       "        textArea.select();\n",
       "        document.execCommand( 'copy' );\n",
       "\n",
       "        var m = document.getElementById( 'menu-message' );\n",
       "        m.innerHTML = 'Viewpoint copied to clipboard';\n",
       "        m.style.display = 'block';\n",
       "        setTimeout( function() { m.style.display = 'none'; }, 2000 );\n",
       "\n",
       "    }\n",
       "\n",
       "    function getCamera() {\n",
       "\n",
       "        function roundTo( x, n ) { return +x.toFixed(n); }\n",
       "\n",
       "        var pos = camera.position;\n",
       "        var pos_r = [ roundTo( pos.x, 4 ), roundTo( pos.y, 4 ), roundTo( pos.z, 4 ) ];\n",
       "   //     var up = camera.up; // up is always (0,0,1)\n",
       "        var textArea = document.createElement('textarea');\n",
       "        var cam_position = JSON.stringify(pos_r);\n",
       "        textArea.textContent = ',camera_position=' + cam_position;\n",
       "        textArea.style.csstext = 'position: absolute; top: -100%';\n",
       "        document.body.append( textArea );\n",
       "        textArea.select();\n",
       "        document.execCommand( 'copy' );\n",
       "\n",
       "        var m = document.getElementById( 'menu-message' );\n",
       "        m.innerHTML = 'Camera position '+ cam_position+' copied to clipboard';\n",
       "        m.style.display = 'block';\n",
       "        setTimeout( function() { m.style.display = 'none'; }, 2000 );\n",
       "\n",
       "    }\n",
       "                                       \n",
       "</script>\n",
       "\n",
       "<div id=&quot;menu-container&quot; onclick=&quot;toggleMenu()&quot;>&#x24d8;\n",
       "<div id=&quot;menu-message&quot;></div>\n",
       "<div id=&quot;menu-content&quot;>\n",
       "<div onclick=&quot;saveAsPNG()&quot;>Save as PNG</div>\n",
       "<div onclick=&quot;saveAsHTML()&quot;>Save as HTML</div>\n",
       "<div onclick=&quot;getCamera()&quot;>Get camera</div>\n",
       "<div onclick=&quot;getViewpoint()&quot;>Get viewpoint</div>\n",
       "<div>Close Menu</div>\n",
       "</div></div>\n",
       "\n",
       "\n",
       "</body>\n",
       "</html>\n",
       "\"\n",
       "        width=\"100%\"\n",
       "        height=\"400\"\n",
       "        style=\"border: 0;\">\n",
       "</iframe>\n"
      ],
      "text/plain": [
       "Graphics3d Object"
      ]
     },
     "metadata": {},
     "output_type": "display_data"
    }
   ],
   "source": [
    "def show_math(r):\n",
    "    #r = self.print()\n",
    "    text = fr\"\"\"\n",
    "    <p>\n",
    "    ${r}$\n",
    "    </p>\n",
    "    \"\"\"\n",
    "    show(html(text))\n",
    "        \n",
    "def cos_alpha(a, b):\n",
    "   return a.dot_product(b) / (a.norm() * b.norm())\n",
    "\n",
    "def sin_alpha(a, b):\n",
    "    norm_multiple =  a.norm() * b.norm()\n",
    "    s = a.norm()\n",
    "    #s2 = my_norm(b)\n",
    "    e_a = (1/ s) * a\n",
    "    #e_b = (1/ s2) * b\n",
    "    X = b.norm() * (a.dot_product(b) / (norm_multiple)) * e_a\n",
    "    Z2 = b - X\n",
    "    sin_alpha = Z2.norm() / b.norm()\n",
    "    return sin_alpha\n",
    "    \n",
    "#this is the Geometric Product function\n",
    "def geometric_product(a, b):\n",
    "  #here we are borrowing from complex number I, the imaginary I\n",
    "   r = a.norm() * b.norm() * ( cos_alpha(a, b) + I* sin_alpha(a, b))\n",
    "   return r \n",
    "\n",
    "e1=vector([1,0,0])\n",
    "e2=vector([0,1,0])\n",
    "e3=vector([0,0,1])\n",
    "u= 4*e1 + 6*e2 + 12*e3\n",
    "v= 5*e1 + 3*e2 + 3*e3\n",
    "#we need to make an i ^2 = 0\n",
    "#define the base vectors:\n",
    "#i = geometric_product(e1, e2)\n",
    "show(type(u))\n",
    "show('making sure i^2=-1:', I^2)\n",
    "\n",
    "\n",
    "show('|u|=', u.norm())\n",
    "show('|v|=', v.norm())\n",
    "show('u dot v=', u.dot_product(v))\n",
    "show('|u||v|=', u.norm()* v.norm())\n",
    "show('computing geometric product uv:...')\n",
    "show('uv=', geometric_product(u, v))\n",
    "\n",
    "show('interpreting its geometric meaning...')\n",
    "show('vector u in yellow, vector v in red')\n",
    "show('basis vectors e1, e2, e3 in blue')\n",
    "#we want to show the dot product aspect, and the wedge product aspect of the\n",
    "#geometric product\n",
    "\n",
    "cross = u.cross_product(v)\n",
    "show('cross product of u and v', cross)\n",
    "\n",
    "e1Plot=plot(e1, legend_lable='Base Vector e1', color='blue', thickness=3)\n",
    "e2Plot=plot(e2, legend_lable='Base Vector e2', color='blue', thickness=3)\n",
    "e3Plot=plot(e3, legend_lable='Base Vector e3', color='blue', thickness=3)\n",
    "uPlot=plot(u, legend_label='Vector u', color='yellow', thickness=3, show_axes=true)\n",
    "#v2Plot=plot(v1_prime, legend_label='Vector v2', color='green', thickness=5)\n",
    "vPlot=plot(v, legend_label='Vector v', color=\"red\", thickness=3)\n",
    "cPlot=plot(cross, legend_label='cross product of u v', color=\"indigo\", thickness=3)\n",
    "AllPlot= e1Plot + e2Plot + e3Plot + uPlot + vPlot  + cPlot\n",
    "AllPlot.show()\n"
   ]
  },
  {
   "cell_type": "markdown",
   "id": "1a9b59d3-a309-432e-aa12-e5c893c43e5c",
   "metadata": {},
   "source": [
    "**Theorem 5.2(Outer Product properties)**\n",
    "1. $\\mathbf{v} \\wedge \\mathbf{v} = 0$\n",
    "2. $\\mathbf{v} \\wedge \\mathbf{u} = -\\mathbf{u} \\wedge \\mathbf{v}$\n",
    "3. $a(\\mathbf{u} \\wedge \\mathbf{v}) = (a \\mathbf{u}) \\wedge \\mathbf{v} $\n",
    "4. $(\\mathbf{u} + \\mathbf{v}) \\wedge \\mathbf{w} =  \\mathbf{u}) \\wedge \\mathbf{w} + \\mathbf{v}) \\wedge \\mathbf{w} $\n",
    "\n",
    "**Theorem 5.3**\n",
    "Let $[\\mathbf{e_1}, \\mathbf{e_2}]$ be an orthonormal basis for a plane. Orient the plane with $\\mathbf{e}_1 \\wedge \\mathbf{e}_2$. Let $\\mathbf{u}$ and $\\mathbf{v}$ be vectors in the plane. Let $\\theta$ be the oriented angle from $\\mathbf{u}$ to $\\mathbf{v}$, $- \\pi < \\theta \\leq \\pi$. Then\n",
    "\n",
    "$\\mathbf{u} \\wedge \\mathbf{v} = |\\mathbf{u}| |\\mathbf{v}| sin \\theta ( \\mathbf{e}_1 \\wedge \\mathbf{e}_2) $   (5.1)\n",
    "\n",
    "**Theorem 5.4**\n",
    "\n",
    "Let $\\mathbf{u} = _1 \\mathbf{e}_1 + \\mathbf{u}_2 \\mathbf{e}_2 + \\mathbf{u}_3 \\mathbf{e}_3$ and $\\mathbf{v} = \\mathbf{v}_1 \\mathbf{e}_1 + \\mathbf{v}_2 \\mathbf{e}_2 + \\mathbf{v}_3 \\mathbf{e}_3$. \n",
    "Then\n",
    "$\\mathbf{u} \\wedge \\mathbf{v} = (\\mathbf{u}_3 \\mathbf{v}_2 - \\mathbf{u}_2 \\mathbf{v}_3) \\mathbf{e}_3 \\wedge \\mathbf{e}_2 + (\\mathbf{u}_1 \\mathbf{v}_3 = \\mathbf{u}_3 \\mathbf{v}_1) \\mathbf{e}_1 \\wedge \\mathbf{e}_3 + (\\mathbf{u}_2 \\mathbf{v}_1 - \\mathbf{u}_1 \\mathbf{v}_2) \\mathbf{e}_2 \\wedge \\mathbf{e}_1$   (5.3)\n",
    "\n",
    "and\n",
    "\n",
    "$|\\mathbf{u} \\wedge \\mathbf{v}| ^2 = (\\mathbf{u}_3 \\mathbf{v}_2 - \\mathbf{u}_2 \\mathbf{v}_3)^2 + (\\mathbf{u}_1 \\mathbf{v}_3 - \\mathbf{u}_3 \\mathbf{v}_1)^2 + (\\mathbf{u}_2 \\mathbf{v}_1 - \\mathbf{u}_1 \\mathbf{v}_2)^2$  (5.4)\n",
    "\n",
    "**Theorem 5.5**(Oriented area basis) The oriented areas $[e1 \\wedge e2, e2 \\wedge 3, e3 \\wedge e1]$ form a basis \n",
    "for the vector space of oriented areas.\n",
    "\n",
    "$a_1 \\mathbf{e}_1 \\wedge \\mathbf{e}_2 + a_2 \\mathbf{e}_2 \\wedge \\mathbf{e}_3 + a_3 \\mathbf{e}_3 \\wedge \\mathbf{e}_1 = \\mathbf{e}_1 \\wedge (a_1 \\mathbf{e}_2 - a_3 \\mathbf{e}_3) + a_2 e_2 \\wedge \\mathbf{e}_3$ (5.6)\n",
    "\n",
    "**Note:**\n",
    "This is important realization that the result of wedge product is really a cross product like geometry, having a vector along the $\\mathbf{e}_1$ axis and an area defined with multples of unit area of $\\mathbf{e}_2 \\wedge \\mathbf{e}_3$\n",
    "\n",
    "So, this is telling the result is a cross product. A Theorem can be constructed here.\n",
    "What it means to our code, is that the wedge product needs to return a cross product result, so it can plotted as such. Also, the new idea of imaginary number I can be put in place to indicate the dimensional aspect of the vector, perpendicular to the bivector of the other two unit bases vectors.\n",
    "\n",
    "**Eq 5.6**\n",
    "$a_1 \\mathbf{e}_1 \\wedge \\mathbf{e}_2 + a_2 \\mathbf{e}_2 \\wedge \\mathbf{e}_3 + a_3 \\mathbf{e}_3 \\wedge \\mathbf{e}_1 = \\mathbf{e}_1 \\wedge (a_1 \\mathbf{e}_2 - a_3 \\mathbf{e}_3) + a_2 \\mathbf{e}_2 \\wedge \\mathbf{e}_3$\n",
    "\n",
    "**From another book: Geometric Algebra by Vince**\n",
    "\n",
    "**equation 3.46**\n",
    "\n",
    "$a \\wedge b = (a_2 b_3 - a_3 b_2)e_2 \\wedge e_3 + (a_3b_1 - a_1 b_3) e_3 \\wedge e_1 + (a_1 b_2 - a_2 b_1) e_1 \\wedge e2 $\n"
   ]
  },
  {
   "cell_type": "code",
   "execution_count": 95,
   "id": "fe7b9550-22af-4799-853b-124528710b36",
   "metadata": {
    "scrolled": true
   },
   "outputs": [
    {
     "data": {
      "text/html": [
       "<html>\\(\\displaystyle \\verb|show|\\verb| |\\verb|testing|\\verb| |\\verb|perpendicular|\\verb| |\\verb|bases:|\\)</html>"
      ],
      "text/latex": [
       "$\\displaystyle \\verb|show|\\verb| |\\verb|testing|\\verb| |\\verb|perpendicular|\\verb| |\\verb|bases:|$"
      ],
      "text/plain": [
       "'show testing perpendicular bases:'"
      ]
     },
     "metadata": {},
     "output_type": "display_data"
    },
    {
     "data": {
      "text/html": [
       "<html>\\(\\displaystyle \\verb|e1|\\verb| |\\verb|dot|\\verb| |\\verb|e2=| 0\\)</html>"
      ],
      "text/latex": [
       "$\\displaystyle \\verb|e1|\\verb| |\\verb|dot|\\verb| |\\verb|e2=| 0$"
      ],
      "text/plain": [
       "'e1 dot e2=' 0"
      ]
     },
     "metadata": {},
     "output_type": "display_data"
    },
    {
     "data": {
      "text/html": [
       "<html>\\(\\displaystyle \\verb|E1|\\verb| |\\verb|dot|\\verb| |\\verb|E2=| 0\\)</html>"
      ],
      "text/latex": [
       "$\\displaystyle \\verb|E1|\\verb| |\\verb|dot|\\verb| |\\verb|E2=| 0$"
      ],
      "text/plain": [
       "'E1 dot E2=' 0"
      ]
     },
     "metadata": {},
     "output_type": "display_data"
    },
    {
     "data": {
      "text/html": [
       "<html>\\(\\displaystyle \\verb|show|\\verb| |\\verb|testing|\\verb| |\\verb|parallel|\\verb| |\\verb|vectors:|\\)</html>"
      ],
      "text/latex": [
       "$\\displaystyle \\verb|show|\\verb| |\\verb|testing|\\verb| |\\verb|parallel|\\verb| |\\verb|vectors:|$"
      ],
      "text/plain": [
       "'show testing parallel vectors:'"
      ]
     },
     "metadata": {},
     "output_type": "display_data"
    },
    {
     "data": {
      "text/html": [
       "<html>\\(\\displaystyle \\verb|e1|\\verb| |\\verb|dot|\\verb| |\\verb|x=| 1\\)</html>"
      ],
      "text/latex": [
       "$\\displaystyle \\verb|e1|\\verb| |\\verb|dot|\\verb| |\\verb|x=| 1$"
      ],
      "text/plain": [
       "'e1 dot x=' 1"
      ]
     },
     "metadata": {},
     "output_type": "display_data"
    },
    {
     "data": {
      "text/html": [
       "<html>\\(\\displaystyle \\verb|E1|\\verb| |\\verb|dot|\\verb| |\\verb|X=| 1\\)</html>"
      ],
      "text/latex": [
       "$\\displaystyle \\verb|E1|\\verb| |\\verb|dot|\\verb| |\\verb|X=| 1$"
      ],
      "text/plain": [
       "'E1 dot X=' 1"
      ]
     },
     "metadata": {},
     "output_type": "display_data"
    },
    {
     "data": {
      "text/html": [
       "<html>\\(\\displaystyle \\verb|showing|\\verb| |\\verb|angling|\\verb| |\\verb|vectors|\\verb| |\\verb|dot|\\verb| |\\verb|product:|\\)</html>"
      ],
      "text/latex": [
       "$\\displaystyle \\verb|showing|\\verb| |\\verb|angling|\\verb| |\\verb|vectors|\\verb| |\\verb|dot|\\verb| |\\verb|product:|$"
      ],
      "text/plain": [
       "'showing angling vectors dot product:'"
      ]
     },
     "metadata": {},
     "output_type": "display_data"
    },
    {
     "data": {
      "text/html": [
       "<html>\\(\\displaystyle \\verb|[4,6,12]|\\verb| |\\verb|dot|\\verb| |\\verb|[10,|\\verb| |\\verb|0,|\\verb| |\\verb|0]=| 10\\)</html>"
      ],
      "text/latex": [
       "$\\displaystyle \\verb|[4,6,12]|\\verb| |\\verb|dot|\\verb| |\\verb|[10,|\\verb| |\\verb|0,|\\verb| |\\verb|0]=| 10$"
      ],
      "text/plain": [
       "'[4,6,12] dot [10, 0, 0]=' 10"
      ]
     },
     "metadata": {},
     "output_type": "display_data"
    },
    {
     "data": {
      "text/html": [
       "\n",
       "        <p>\n",
       "        \\(\\mathbf(1, 0, 0) \\wedge \\mathbf(0, 1, 0)\\) = \\(0 \\mathbf{e}_1 \\wedge \\mathbf{e}_2+0 \\mathbf{e}_2 \\wedge \\mathbf{e}_3+0 \\mathbf{e}_3 \\wedge \\mathbf{e}_1\\)\n",
       "        </p>\n",
       "        "
      ],
      "text/plain": [
       "\n",
       "        <p>\n",
       "        \\(\\mathbf(1, 0, 0) \\wedge \\mathbf(0, 1, 0)\\) = \\(0 \\mathbf{e}_1 \\wedge \\mathbf{e}_2+0 \\mathbf{e}_2 \\wedge \\mathbf{e}_3+0 \\mathbf{e}_3 \\wedge \\mathbf{e}_1\\)\n",
       "        </p>\n",
       "        "
      ]
     },
     "metadata": {},
     "output_type": "display_data"
    },
    {
     "data": {
      "text/html": [
       "<html>\\(\\displaystyle \\verb|a|\\verb| |\\verb|^|\\verb| |\\verb|c:|\\)</html>"
      ],
      "text/latex": [
       "$\\displaystyle \\verb|a|\\verb| |\\verb|^|\\verb| |\\verb|c:|$"
      ],
      "text/plain": [
       "'a ^ c:'"
      ]
     },
     "metadata": {},
     "output_type": "display_data"
    },
    {
     "data": {
      "text/html": [
       "\n",
       "        <p>\n",
       "        \\(\\mathbf(4, 6, 12) \\wedge \\mathbf(5, 3, 3)\\) = \\(-30 \\mathbf{e}_1 \\wedge \\mathbf{e}_2+-18 \\mathbf{e}_2 \\wedge \\mathbf{e}_3+48 \\mathbf{e}_3 \\wedge \\mathbf{e}_1\\)\n",
       "        </p>\n",
       "        "
      ],
      "text/plain": [
       "\n",
       "        <p>\n",
       "        \\(\\mathbf(4, 6, 12) \\wedge \\mathbf(5, 3, 3)\\) = \\(-30 \\mathbf{e}_1 \\wedge \\mathbf{e}_2+-18 \\mathbf{e}_2 \\wedge \\mathbf{e}_3+48 \\mathbf{e}_3 \\wedge \\mathbf{e}_1\\)\n",
       "        </p>\n",
       "        "
      ]
     },
     "metadata": {},
     "output_type": "display_data"
    },
    {
     "data": {
      "text/html": [
       "\n",
       "<iframe srcdoc=\"<!DOCTYPE html>\n",
       "<html>\n",
       "<head>\n",
       "<title></title>\n",
       "<meta charset=&quot;utf-8&quot;>\n",
       "<meta name=viewport content=&quot;width=device-width, user-scalable=no, minimum-scale=1.0, maximum-scale=1.0&quot;>\n",
       "<style>\n",
       "\n",
       "    body { margin: 0px; overflow: hidden; }\n",
       "\n",
       "    #menu-container { position: absolute; bottom: 30px; right: 40px; cursor: default; }\n",
       "\n",
       "    #menu-message { position: absolute; bottom: 0px; right: 0px; white-space: nowrap;\n",
       "                    display: none; background-color: #F5F5F5; padding: 10px; }\n",
       "\n",
       "    #menu-content { position: absolute; bottom: 0px; right: 0px;\n",
       "                    display: none; background-color: #F5F5F5; border-bottom: 1px solid black;\n",
       "                    border-right: 1px solid black; border-left: 1px solid black; }\n",
       "\n",
       "    #menu-content div { border-top: 1px solid black; padding: 10px; white-space: nowrap; }\n",
       "\n",
       "    #menu-content div:hover { background-color: #FEFEFE; }\n",
       "\n",
       "    .dark-theme #menu-container { color: white; }\n",
       "\n",
       "    .dark-theme #menu-message { background-color: #181818; }\n",
       "\n",
       "    .dark-theme #menu-content { background-color: #181818; border-color: white; }\n",
       "\n",
       "    .dark-theme #menu-content div { border-color: white; }\n",
       "\n",
       "    .dark-theme #menu-content div:hover { background-color: #303030; }\n",
       "\n",
       "</style>\n",
       "\n",
       "</head>\n",
       "\n",
       "<body>\n",
       "\n",
       "<script src=&quot;/nbextensions/threejs-sage/r122/three.min.js&quot;></script>\n",
       "<script>\n",
       "  if ( !window.THREE ) document.write(' \\\n",
       "<script src=&quot;https://cdn.jsdelivr.net/gh/sagemath/threejs-sage@r122/build/three.min.js&quot;><\\/script> \\\n",
       "            ');\n",
       "</script>\n",
       "        \n",
       "<script>\n",
       "\n",
       "    var options = {&quot;animate&quot;: false, &quot;animationControls&quot;: true, &quot;aspectRatio&quot;: [1.0, 1.0, 1.0], &quot;autoScaling&quot;: [false, false, false], &quot;autoPlay&quot;: true, &quot;axes&quot;: false, &quot;axesLabels&quot;: [&quot;x&quot;, &quot;y&quot;, &quot;z&quot;], &quot;axesLabelsStyle&quot;: null, &quot;decimals&quot;: 2, &quot;delay&quot;: 20, &quot;frame&quot;: true, &quot;loop&quot;: true, &quot;projection&quot;: &quot;perspective&quot;, &quot;theme&quot;: &quot;light&quot;, &quot;viewpoint&quot;: false};\n",
       "    var animate = options.animate;\n",
       "\n",
       "    if ( options.theme === 'dark' )\n",
       "        document.body.className = 'dark-theme';\n",
       "\n",
       "    var scene = new THREE.Scene();\n",
       "\n",
       "    var renderer = new THREE.WebGLRenderer( { antialias: true, preserveDrawingBuffer: true } );\n",
       "    renderer.setPixelRatio( window.devicePixelRatio );\n",
       "    renderer.setSize( window.innerWidth, window.innerHeight );\n",
       "    renderer.setClearColor( options.theme === 'dark' ? 0 : 0xffffff, 1 );\n",
       "    document.body.appendChild( renderer.domElement );\n",
       "\n",
       "    var b = [{&quot;x&quot;:0.0, &quot;y&quot;:0.0, &quot;z&quot;:0.0}, {&quot;x&quot;:9.0, &quot;y&quot;:9.0, &quot;z&quot;:15.0}]; // bounds\n",
       "\n",
       "    if ( b[0].x === b[1].x ) {\n",
       "        b[0].x -= 1;\n",
       "        b[1].x += 1;\n",
       "    }\n",
       "    if ( b[0].y === b[1].y ) {\n",
       "        b[0].y -= 1;\n",
       "        b[1].y += 1;\n",
       "    }\n",
       "    if ( b[0].z === b[1].z ) {\n",
       "        b[0].z -= 1;\n",
       "        b[1].z += 1;\n",
       "    }\n",
       "\n",
       "    var rxRange = Math.sqrt( Math.pow( b[1].z - b[0].z, 2 )\n",
       "                            + Math.pow( b[1].y - b[0].y, 2 ) );\n",
       "    var ryRange = Math.sqrt( Math.pow( b[1].x - b[0].x, 2 )\n",
       "                            + Math.pow( b[1].z - b[0].z, 2 ) );\n",
       "    var rzRange = Math.sqrt( Math.pow( b[1].x - b[0].x, 2 )\n",
       "                            + Math.pow( b[1].y - b[0].y, 2 ) );\n",
       "    var xRange = b[1].x - b[0].x;\n",
       "    var yRange = b[1].y - b[0].y;\n",
       "    var zRange = b[1].z - b[0].z;\n",
       "\n",
       "    var ar = options.aspectRatio;\n",
       "    var a = [ ar[0], ar[1], ar[2] ]; // aspect multipliers\n",
       "\n",
       "    var autoScaling = options.autoScaling;\n",
       "    var autoAspect = 2.5;\n",
       "    if ( xRange > autoAspect * rxRange && autoScaling[0] ) a[0] = autoAspect * rxRange / xRange;\n",
       "    if ( yRange > autoAspect * ryRange && autoScaling[1] ) a[1] = autoAspect * ryRange / yRange;\n",
       "    if ( zRange > autoAspect * rzRange && autoScaling[2] ) a[2] = autoAspect * rzRange / zRange;\n",
       "\n",
       "    // Distance from (xMid,yMid,zMid) to any corner of the bounding box, after applying aspectRatio\n",
       "    var midToCorner = Math.sqrt( a[0]*a[0]*xRange*xRange + a[1]*a[1]*yRange*yRange + a[2]*a[2]*zRange*zRange ) / 2;\n",
       "\n",
       "    var xMid = ( b[0].x + b[1].x ) / 2;\n",
       "    var yMid = ( b[0].y + b[1].y ) / 2;\n",
       "    var zMid = ( b[0].z + b[1].z ) / 2;\n",
       "\n",
       "    var box = new THREE.Geometry();\n",
       "    box.vertices.push( new THREE.Vector3( a[0]*b[0].x, a[1]*b[0].y, a[2]*b[0].z ) );\n",
       "    box.vertices.push( new THREE.Vector3( a[0]*b[1].x, a[1]*b[1].y, a[2]*b[1].z ) );\n",
       "    var boxMesh = new THREE.Line( box );\n",
       "    var boxColor = options.theme === 'dark' ? 'white' : 'black';\n",
       "    if ( options.frame ) scene.add( new THREE.BoxHelper( boxMesh, boxColor ) );\n",
       "\n",
       "    if ( options.axesLabels ) {\n",
       "\n",
       "        var d = options.decimals; // decimals\n",
       "        var offsetRatio = 0.1;\n",
       "        var al = options.axesLabels;\n",
       "        var als = options.axesLabelsStyle || [{}, {}, {}];\n",
       "\n",
       "        var offset = offsetRatio * a[1]*( b[1].y - b[0].y );\n",
       "        var xm = xMid.toFixed(d);\n",
       "        if ( /^-0.?0*$/.test(xm) ) xm = xm.substr(1);\n",
       "        addLabel( al[0] + '=' + xm, a[0]*xMid, a[1]*b[1].y+offset, a[2]*b[0].z, als[0] );\n",
       "        addLabel( ( b[0].x ).toFixed(d), a[0]*b[0].x, a[1]*b[1].y+offset, a[2]*b[0].z, als[0] );\n",
       "        addLabel( ( b[1].x ).toFixed(d), a[0]*b[1].x, a[1]*b[1].y+offset, a[2]*b[0].z, als[0] );\n",
       "\n",
       "        var offset = offsetRatio * a[0]*( b[1].x - b[0].x );\n",
       "        var ym = yMid.toFixed(d);\n",
       "        if ( /^-0.?0*$/.test(ym) ) ym = ym.substr(1);\n",
       "        addLabel( al[1] + '=' + ym, a[0]*b[1].x+offset, a[1]*yMid, a[2]*b[0].z, als[1] );\n",
       "        addLabel( ( b[0].y ).toFixed(d), a[0]*b[1].x+offset, a[1]*b[0].y, a[2]*b[0].z, als[1] );\n",
       "        addLabel( ( b[1].y ).toFixed(d), a[0]*b[1].x+offset, a[1]*b[1].y, a[2]*b[0].z, als[1] );\n",
       "\n",
       "        var offset = offsetRatio * a[1]*( b[1].y - b[0].y );\n",
       "        var zm = zMid.toFixed(d);\n",
       "        if ( /^-0.?0*$/.test(zm) ) zm = zm.substr(1);\n",
       "        addLabel( al[2] + '=' + zm, a[0]*b[1].x, a[1]*b[0].y-offset, a[2]*zMid, als[2] );\n",
       "        addLabel( ( b[0].z ).toFixed(d), a[0]*b[1].x, a[1]*b[0].y-offset, a[2]*b[0].z, als[2] );\n",
       "        addLabel( ( b[1].z ).toFixed(d), a[0]*b[1].x, a[1]*b[0].y-offset, a[2]*b[1].z, als[2] );\n",
       "\n",
       "    }\n",
       "\n",
       "    function addLabel( text, x, y, z, style ) {\n",
       "\n",
       "        var color = style.color || 'black';\n",
       "        var fontSize = style.fontSize || 14;\n",
       "        var fontFamily = style.fontFamily || 'monospace';\n",
       "        var fontStyle = style.fontStyle || 'normal';\n",
       "        var fontWeight = style.fontWeight || 'normal';\n",
       "        var opacity = style.opacity || 1;\n",
       "\n",
       "        if ( options.theme === 'dark' )\n",
       "            if ( color === 'black' || color === '#000000' )\n",
       "                color = 'white';\n",
       "\n",
       "        if ( Array.isArray( fontStyle ) ) {\n",
       "            fontFamily = fontFamily.map( function( f ) {\n",
       "                // Need to put quotes around fonts that have whitespace in their names.\n",
       "                return /\\s/.test( f ) ? '&quot;' + f + '&quot;' : f;\n",
       "            }).join(', ');\n",
       "        }\n",
       "\n",
       "        var canvas = document.createElement( 'canvas' );\n",
       "        var context = canvas.getContext( '2d' );\n",
       "        var pixelRatio = Math.round( window.devicePixelRatio );\n",
       "\n",
       "        // For example: italic bold 20px &quot;Times New Roman&quot;, Georgia, serif\n",
       "        var font = [fontStyle, fontWeight, fontSize + 'px', fontFamily].join(' ');\n",
       "\n",
       "        context.font = font;\n",
       "        var width = context.measureText( text ).width;\n",
       "        var height = fontSize;\n",
       "\n",
       "        // The dimensions of the canvas's underlying image data need to be powers\n",
       "        // of two in order for the resulting texture to support mipmapping.\n",
       "        canvas.width = THREE.MathUtils.ceilPowerOfTwo( width * pixelRatio );\n",
       "        canvas.height = THREE.MathUtils.ceilPowerOfTwo( height * pixelRatio );\n",
       "\n",
       "        // Re-compute the unscaled dimensions after the power of two conversion.\n",
       "        width = canvas.width / pixelRatio;\n",
       "        height = canvas.height / pixelRatio;\n",
       "\n",
       "        canvas.style.width = width + 'px';\n",
       "        canvas.style.height = height + 'px';\n",
       "\n",
       "        context.scale( pixelRatio, pixelRatio );\n",
       "        context.fillStyle = color;\n",
       "        context.font = font; // Must be set again after measureText.\n",
       "        context.textAlign = 'center';\n",
       "        context.textBaseline = 'middle';\n",
       "        context.fillText( text, width/2, height/2 );\n",
       "\n",
       "        var texture = new THREE.Texture( canvas );\n",
       "        texture.needsUpdate = true;\n",
       "\n",
       "        var materialOptions = { map: texture, sizeAttenuation: false, depthWrite: false };\n",
       "        if ( opacity < 1 ) {\n",
       "            // Setting opacity=1 would cause the texture's alpha component to be\n",
       "            // discarded, giving the text a black background instead of the\n",
       "            // background being transparent.\n",
       "            materialOptions.opacity = opacity;\n",
       "        }\n",
       "        var sprite = new THREE.Sprite( new THREE.SpriteMaterial( materialOptions ) );\n",
       "        sprite.position.set( x, y, z );\n",
       "\n",
       "        // Scaling factor, chosen somewhat arbitrarily so that the size of the text\n",
       "        // is consistent with previously generated plots.\n",
       "        var scale = 1/625;\n",
       "        if ( options.projection === 'orthographic' ) {\n",
       "            scale = midToCorner/256; // Needs to scale along with the plot itself.\n",
       "        }\n",
       "        sprite.scale.set( scale * width, scale * height, 1 );\n",
       "\n",
       "        scene.add( sprite );\n",
       "\n",
       "        return sprite;\n",
       "\n",
       "    }\n",
       "\n",
       "    if ( options.axes ) scene.add( new THREE.AxesHelper( Math.min( a[0]*b[1].x, a[1]*b[1].y, a[2]*b[1].z ) ) );\n",
       "\n",
       "    var camera = createCamera();\n",
       "    camera.up.set( 0, 0, 1 );\n",
       "    camera.position.set( a[0]*xMid, a[1]*yMid, a[2]*zMid );\n",
       "\n",
       "    var offset = new THREE.Vector3( a[0]*xRange, a[1]*yRange, a[2]*zRange );\n",
       "\n",
       "    if ( options.viewpoint ) {\n",
       "\n",
       "        var aa = options.viewpoint;\n",
       "        var axis = new THREE.Vector3( aa[0][0], aa[0][1], aa[0][2] ).normalize();\n",
       "        var angle = aa[1] * Math.PI / 180;\n",
       "        var q = new THREE.Quaternion().setFromAxisAngle( axis, angle ).inverse();\n",
       "\n",
       "        offset.set( 0, 0, offset.length() );\n",
       "        offset.applyQuaternion( q );\n",
       "\n",
       "    }\n",
       "\n",
       "    camera.position.add( offset );\n",
       "\n",
       "    function createCamera() {\n",
       "\n",
       "        var aspect = window.innerWidth / window.innerHeight;\n",
       "\n",
       "        // Scale the near and far clipping planes along with the overall plot size.\n",
       "        var nearClip = 0.01 * midToCorner;\n",
       "        var farClip = 100 * midToCorner;\n",
       "\n",
       "        if ( options.projection === 'orthographic' ) {\n",
       "            var camera = new THREE.OrthographicCamera( -1, 1, 1, -1, -farClip, farClip );\n",
       "            updateCameraAspect( camera, aspect );\n",
       "            return camera;\n",
       "        }\n",
       "\n",
       "        return new THREE.PerspectiveCamera( 45, aspect, nearClip, farClip );\n",
       "\n",
       "    }\n",
       "\n",
       "    function updateCameraAspect( camera, aspect ) {\n",
       "\n",
       "        if ( camera.isPerspectiveCamera ) {\n",
       "            camera.aspect = aspect;\n",
       "        } else if ( camera.isOrthographicCamera ) {\n",
       "            // Fit the camera frustum to the bounding box's diagonal so that the entire plot fits\n",
       "            // within at the default zoom level and camera position.\n",
       "            if ( aspect > 1 ) { // Wide window\n",
       "                camera.top = midToCorner;\n",
       "                camera.right = midToCorner * aspect;\n",
       "            } else { // Tall or square window\n",
       "                camera.top = midToCorner / aspect;\n",
       "                camera.right = midToCorner;\n",
       "            }\n",
       "            camera.bottom = -camera.top;\n",
       "            camera.left = -camera.right;\n",
       "        }\n",
       "\n",
       "        camera.updateProjectionMatrix();\n",
       "\n",
       "    }\n",
       "\n",
       "    var lights = [{&quot;x&quot;:-5, &quot;y&quot;:3, &quot;z&quot;:0, &quot;color&quot;:&quot;#7f7f7f&quot;, &quot;parent&quot;:&quot;camera&quot;}];\n",
       "    for ( var i=0 ; i < lights.length ; i++ ) {\n",
       "        var light = new THREE.DirectionalLight( lights[i].color, 1 );\n",
       "        light.position.set( a[0]*lights[i].x, a[1]*lights[i].y, a[2]*lights[i].z );\n",
       "        if ( lights[i].parent === 'camera' ) {\n",
       "            light.target.position.set( a[0]*xMid, a[1]*yMid, a[2]*zMid );\n",
       "            scene.add( light.target );\n",
       "            camera.add( light );\n",
       "        } else scene.add( light );\n",
       "    }\n",
       "    scene.add( camera );\n",
       "\n",
       "    var ambient = {&quot;color&quot;:&quot;#7f7f7f&quot;};\n",
       "    scene.add( new THREE.AmbientLight( ambient.color, 1 ) );\n",
       "\n",
       "    var controls = new THREE.OrbitControls( camera, renderer.domElement );\n",
       "    controls.target.set( a[0]*xMid, a[1]*yMid, a[2]*zMid );\n",
       "    controls.addEventListener( 'change', function() { if ( !animate ) render(); } );\n",
       "\n",
       "    window.addEventListener( 'resize', function() {\n",
       "\n",
       "        renderer.setSize( window.innerWidth, window.innerHeight );\n",
       "        updateCameraAspect( camera, window.innerWidth / window.innerHeight );\n",
       "        if ( window.rescaleFatLines ) rescaleFatLines();\n",
       "        if ( !animate ) render();\n",
       "\n",
       "    } );\n",
       "\n",
       "    var texts = [];\n",
       "    for ( var i=0 ; i < texts.length ; i++ ) addText( texts[i] );\n",
       "\n",
       "    function addText( json ) {\n",
       "        var sprite = addLabel( json.text, a[0]*json.x, a[1]*json.y, a[2]*json.z, json );\n",
       "        sprite.userData = json;\n",
       "    }\n",
       "\n",
       "    var points = [];\n",
       "    for ( var i=0 ; i < points.length ; i++ ) addPoint( points[i] );\n",
       "\n",
       "    function addPoint( json ) {\n",
       "\n",
       "        var geometry = new THREE.Geometry();\n",
       "        var v = json.point;\n",
       "        geometry.vertices.push( new THREE.Vector3( a[0]*v[0], a[1]*v[1], a[2]*v[2] ) );\n",
       "\n",
       "        var canvas = document.createElement( 'canvas' );\n",
       "        canvas.width = 128;\n",
       "        canvas.height = 128;\n",
       "\n",
       "        var context = canvas.getContext( '2d' );\n",
       "        context.arc( 64, 64, 64, 0, 2 * Math.PI );\n",
       "        context.fillStyle = json.color;\n",
       "        context.fill();\n",
       "\n",
       "        var texture = new THREE.Texture( canvas );\n",
       "        texture.needsUpdate = true;\n",
       "\n",
       "        var transparent = json.opacity < 1 ? true : false;\n",
       "        var size = camera.isOrthographicCamera ? json.size : json.size/100;\n",
       "        var material = new THREE.PointsMaterial( { size: size, map: texture,\n",
       "                                                   transparent: transparent, opacity: json.opacity,\n",
       "                                                   alphaTest: .1 } );\n",
       "\n",
       "        var c = new THREE.Vector3();\n",
       "        geometry.computeBoundingBox();\n",
       "        geometry.boundingBox.getCenter( c );\n",
       "        geometry.translate( -c.x, -c.y, -c.z );\n",
       "\n",
       "        var mesh = new THREE.Points( geometry, material );\n",
       "        mesh.position.set( c.x, c.y, c.z );\n",
       "        mesh.userData = json;\n",
       "        scene.add( mesh );\n",
       "\n",
       "    }\n",
       "\n",
       "    var lines = [];\n",
       "    for ( var i=0 ; i < lines.length ; i++ ) addLine( lines[i] );\n",
       "\n",
       "    function addLine( json ) {\n",
       "\n",
       "        var geometry = new THREE.Geometry();\n",
       "        for ( var i=0 ; i < json.points.length ; i++ ) {\n",
       "            var v = json.points[i];\n",
       "            geometry.vertices.push( new THREE.Vector3( a[0]*v[0], a[1]*v[1], a[2]*v[2] ) );\n",
       "        }\n",
       "\n",
       "        var c = new THREE.Vector3();\n",
       "        geometry.computeBoundingBox();\n",
       "        geometry.boundingBox.getCenter( c );\n",
       "        geometry.translate( -c.x, -c.y, -c.z );\n",
       "\n",
       "        var transparent = json.opacity < 1 ? true : false;\n",
       "        var materialOptions = { color: json.color, linewidth: json.linewidth,\n",
       "                                transparent: transparent, opacity: json.opacity };\n",
       "\n",
       "        var mesh;\n",
       "        if ( json.linewidth > 1 && window.createFatLineStrip ) {\n",
       "            mesh = createFatLineStrip( geometry, materialOptions );\n",
       "        } else {\n",
       "            var material = new THREE.LineBasicMaterial( materialOptions );\n",
       "            mesh = new THREE.Line( geometry, material );\n",
       "        }\n",
       "\n",
       "        mesh.position.set( c.x, c.y, c.z );\n",
       "        mesh.userData = json;\n",
       "        scene.add( mesh );\n",
       "\n",
       "    }\n",
       "\n",
       "    var surfaces = [{&quot;vertices&quot;: [{&quot;x&quot;: 0.0, &quot;y&quot;: 0.73, &quot;z&quot;: 4.469960816887839e-17}, {&quot;x&quot;: 0.028531695488854605, &quot;y&quot;: 0.73, &quot;z&quot;: -0.009270509831248379}, {&quot;x&quot;: 0.0, &quot;y&quot;: 0.73, &quot;z&quot;: -0.029999999999999954}, {&quot;x&quot;: 0.017633557568774196, &quot;y&quot;: 0.73, &quot;z&quot;: 0.024270509831248465}, {&quot;x&quot;: -0.01763355756877419, &quot;y&quot;: 0.73, &quot;z&quot;: 0.024270509831248472}, {&quot;x&quot;: -0.02853169548885461, &quot;y&quot;: 0.73, &quot;z&quot;: -0.009270509831248372}, {&quot;x&quot;: 0.028531695488854605, &quot;y&quot;: 5.676550095651226e-19, &quot;z&quot;: -0.009270509831248424}, {&quot;x&quot;: 0.0, &quot;y&quot;: 1.8369701987210296e-18, &quot;z&quot;: -0.03}, {&quot;x&quot;: 0.017633557568774196, &quot;y&quot;: -1.4861401089256373e-18, &quot;z&quot;: 0.02427050983124842}, {&quot;x&quot;: -0.01763355756877419, &quot;y&quot;: -1.4861401089256377e-18, &quot;z&quot;: 0.024270509831248427}, {&quot;x&quot;: -0.02853169548885461, &quot;y&quot;: 5.676550095651222e-19, &quot;z&quot;: -0.009270509831248417}, {&quot;x&quot;: 0.0, &quot;y&quot;: 0.0, &quot;z&quot;: 0.0}], &quot;faces&quot;: [[0, 1, 2], [0, 3, 1], [0, 4, 3], [0, 5, 4], [0, 2, 5], [2, 1, 6, 7], [1, 3, 8, 6], [3, 4, 9, 8], [4, 5, 10, 9], [5, 2, 7, 10], [7, 6, 11], [6, 8, 11], [8, 9, 11], [9, 10, 11], [10, 7, 11]], &quot;color&quot;: &quot;#0000ff&quot;, &quot;opacity&quot;: 1.0}, {&quot;vertices&quot;: [{&quot;x&quot;: 0.0, &quot;y&quot;: 1.0, &quot;z&quot;: 6.123233995736766e-17}, {&quot;x&quot;: 0.07036483342212269, &quot;y&quot;: 0.73, &quot;z&quot;: -0.05611408216728598}, {&quot;x&quot;: 0.0, &quot;y&quot;: 0.73, &quot;z&quot;: -0.08999999999999996}, {&quot;x&quot;: 0.08774351209636412, &quot;y&quot;: 0.73, &quot;z&quot;: 0.020026884056068336}, {&quot;x&quot;: 0.03904953652058024, &quot;y&quot;: 0.73, &quot;z&quot;: 0.08108719811121776}, {&quot;x&quot;: -0.03904953652058022, &quot;y&quot;: 0.73, &quot;z&quot;: 0.08108719811121776}, {&quot;x&quot;: -0.08774351209636412, &quot;y&quot;: 0.73, &quot;z&quot;: 0.020026884056068357}, {&quot;x&quot;: -0.07036483342212269, &quot;y&quot;: 0.73, &quot;z&quot;: -0.05611408216728596}, {&quot;x&quot;: 0.0, &quot;y&quot;: 0.73, &quot;z&quot;: 4.469960816887839e-17}], &quot;faces&quot;: [[0, 1, 2], [0, 3, 1], [0, 4, 3], [0, 5, 4], [0, 6, 5], [0, 7, 6], [0, 2, 7], [2, 1, 8], [1, 3, 8], [3, 4, 8], [4, 5, 8], [5, 6, 8], [6, 7, 8], [7, 2, 8]], &quot;color&quot;: &quot;#0000ff&quot;, &quot;opacity&quot;: 1.0}, {&quot;vertices&quot;: [{&quot;x&quot;: 0.73, &quot;y&quot;: 0.0, &quot;z&quot;: 4.469960816887839e-17}, {&quot;x&quot;: 0.73, &quot;y&quot;: 0.009270509831248424, &quot;z&quot;: -0.02853169548885456}, {&quot;x&quot;: 0.73, &quot;y&quot;: 0.03, &quot;z&quot;: 4.469960816887839e-17}, {&quot;x&quot;: 0.73, &quot;y&quot;: -0.02427050983124842, &quot;z&quot;: -0.01763355756877415}, {&quot;x&quot;: 0.73, &quot;y&quot;: -0.024270509831248427, &quot;z&quot;: 0.017633557568774234}, {&quot;x&quot;: 0.73, &quot;y&quot;: 0.009270509831248417, &quot;z&quot;: 0.028531695488854654}, {&quot;x&quot;: 1.7470624777336386e-18, &quot;y&quot;: 0.009270509831248424, &quot;z&quot;: -0.028531695488854605}, {&quot;x&quot;: 0.0, &quot;y&quot;: 0.03, &quot;z&quot;: 0.0}, {&quot;x&quot;: 1.079743991708995e-18, &quot;y&quot;: -0.02427050983124842, &quot;z&quot;: -0.017633557568774196}, {&quot;x&quot;: -1.0797439917089947e-18, &quot;y&quot;: -0.024270509831248427, &quot;z&quot;: 0.01763355756877419}, {&quot;x&quot;: -1.7470624777336386e-18, &quot;y&quot;: 0.009270509831248417, &quot;z&quot;: 0.02853169548885461}, {&quot;x&quot;: 0.0, &quot;y&quot;: 0.0, &quot;z&quot;: 0.0}], &quot;faces&quot;: [[0, 1, 2], [0, 3, 1], [0, 4, 3], [0, 5, 4], [0, 2, 5], [2, 1, 6, 7], [1, 3, 8, 6], [3, 4, 9, 8], [4, 5, 10, 9], [5, 2, 7, 10], [7, 6, 11], [6, 8, 11], [8, 9, 11], [9, 10, 11], [10, 7, 11]], &quot;color&quot;: &quot;#0000ff&quot;, &quot;opacity&quot;: 1.0}, {&quot;vertices&quot;: [{&quot;x&quot;: 1.0, &quot;y&quot;: 0.0, &quot;z&quot;: 6.123233995736766e-17}, {&quot;x&quot;: 0.73, &quot;y&quot;: 0.05611408216728602, &quot;z&quot;: -0.07036483342212264}, {&quot;x&quot;: 0.73, &quot;y&quot;: 0.09, &quot;z&quot;: 4.469960816887839e-17}, {&quot;x&quot;: 0.73, &quot;y&quot;: -0.02002688405606829, &quot;z&quot;: -0.08774351209636408}, {&quot;x&quot;: 0.73, &quot;y&quot;: -0.08108719811121771, &quot;z&quot;: -0.0390495365205802}, {&quot;x&quot;: 0.73, &quot;y&quot;: -0.08108719811121771, &quot;z&quot;: 0.03904953652058026}, {&quot;x&quot;: 0.73, &quot;y&quot;: -0.02002688405606831, &quot;z&quot;: 0.08774351209636416}, {&quot;x&quot;: 0.73, &quot;y&quot;: 0.056114082167286, &quot;z&quot;: 0.07036483342212273}, {&quot;x&quot;: 0.73, &quot;y&quot;: 0.0, &quot;z&quot;: 4.469960816887839e-17}], &quot;faces&quot;: [[0, 1, 2], [0, 3, 1], [0, 4, 3], [0, 5, 4], [0, 6, 5], [0, 7, 6], [0, 2, 7], [2, 1, 8], [1, 3, 8], [3, 4, 8], [4, 5, 8], [5, 6, 8], [6, 7, 8], [7, 2, 8]], &quot;color&quot;: &quot;#0000ff&quot;, &quot;opacity&quot;: 1.0}, {&quot;vertices&quot;: [{&quot;x&quot;: 1.0, &quot;y&quot;: 0.73, &quot;z&quot;: 4.469960816887839e-17}, {&quot;x&quot;: 1.0285316954888546, &quot;y&quot;: 0.73, &quot;z&quot;: -0.009270509831248379}, {&quot;x&quot;: 1.0, &quot;y&quot;: 0.73, &quot;z&quot;: -0.029999999999999954}, {&quot;x&quot;: 1.0176335575687743, &quot;y&quot;: 0.73, &quot;z&quot;: 0.024270509831248465}, {&quot;x&quot;: 0.9823664424312258, &quot;y&quot;: 0.73, &quot;z&quot;: 0.024270509831248472}, {&quot;x&quot;: 0.9714683045111454, &quot;y&quot;: 0.73, &quot;z&quot;: -0.009270509831248372}, {&quot;x&quot;: 1.0285316954888546, &quot;y&quot;: 5.676550095651226e-19, &quot;z&quot;: -0.009270509831248424}, {&quot;x&quot;: 1.0, &quot;y&quot;: 1.8369701987210296e-18, &quot;z&quot;: -0.03}, {&quot;x&quot;: 1.0176335575687743, &quot;y&quot;: -1.4861401089256373e-18, &quot;z&quot;: 0.02427050983124842}, {&quot;x&quot;: 0.9823664424312258, &quot;y&quot;: -1.4861401089256377e-18, &quot;z&quot;: 0.024270509831248427}, {&quot;x&quot;: 0.9714683045111454, &quot;y&quot;: 5.676550095651222e-19, &quot;z&quot;: -0.009270509831248417}, {&quot;x&quot;: 1.0, &quot;y&quot;: 0.0, &quot;z&quot;: 0.0}], &quot;faces&quot;: [[0, 1, 2], [0, 3, 1], [0, 4, 3], [0, 5, 4], [0, 2, 5], [2, 1, 6, 7], [1, 3, 8, 6], [3, 4, 9, 8], [4, 5, 10, 9], [5, 2, 7, 10], [7, 6, 11], [6, 8, 11], [8, 9, 11], [9, 10, 11], [10, 7, 11]], &quot;color&quot;: &quot;#0000ff&quot;, &quot;opacity&quot;: 1.0}, {&quot;vertices&quot;: [{&quot;x&quot;: 1.0, &quot;y&quot;: 1.0, &quot;z&quot;: 6.123233995736766e-17}, {&quot;x&quot;: 1.0703648334221227, &quot;y&quot;: 0.73, &quot;z&quot;: -0.05611408216728598}, {&quot;x&quot;: 1.0, &quot;y&quot;: 0.73, &quot;z&quot;: -0.08999999999999996}, {&quot;x&quot;: 1.087743512096364, &quot;y&quot;: 0.73, &quot;z&quot;: 0.020026884056068336}, {&quot;x&quot;: 1.0390495365205803, &quot;y&quot;: 0.73, &quot;z&quot;: 0.08108719811121776}, {&quot;x&quot;: 0.9609504634794198, &quot;y&quot;: 0.73, &quot;z&quot;: 0.08108719811121776}, {&quot;x&quot;: 0.9122564879036359, &quot;y&quot;: 0.73, &quot;z&quot;: 0.020026884056068357}, {&quot;x&quot;: 0.9296351665778773, &quot;y&quot;: 0.73, &quot;z&quot;: -0.05611408216728596}, {&quot;x&quot;: 1.0, &quot;y&quot;: 0.73, &quot;z&quot;: 4.469960816887839e-17}], &quot;faces&quot;: [[0, 1, 2], [0, 3, 1], [0, 4, 3], [0, 5, 4], [0, 6, 5], [0, 7, 6], [0, 2, 7], [2, 1, 8], [1, 3, 8], [3, 4, 8], [4, 5, 8], [5, 6, 8], [6, 7, 8], [7, 2, 8]], &quot;color&quot;: &quot;#0000ff&quot;, &quot;opacity&quot;: 1.0}, {&quot;vertices&quot;: [{&quot;x&quot;: 0.73, &quot;y&quot;: 1.0, &quot;z&quot;: 4.469960816887839e-17}, {&quot;x&quot;: 0.73, &quot;y&quot;: 1.0092705098312484, &quot;z&quot;: -0.02853169548885456}, {&quot;x&quot;: 0.73, &quot;y&quot;: 1.03, &quot;z&quot;: 4.469960816887839e-17}, {&quot;x&quot;: 0.73, &quot;y&quot;: 0.9757294901687515, &quot;z&quot;: -0.01763355756877415}, {&quot;x&quot;: 0.73, &quot;y&quot;: 0.9757294901687515, &quot;z&quot;: 0.017633557568774234}, {&quot;x&quot;: 0.73, &quot;y&quot;: 1.0092705098312484, &quot;z&quot;: 0.028531695488854654}, {&quot;x&quot;: 1.7470624777336386e-18, &quot;y&quot;: 1.0092705098312484, &quot;z&quot;: -0.028531695488854605}, {&quot;x&quot;: 0.0, &quot;y&quot;: 1.03, &quot;z&quot;: 0.0}, {&quot;x&quot;: 1.079743991708995e-18, &quot;y&quot;: 0.9757294901687515, &quot;z&quot;: -0.017633557568774196}, {&quot;x&quot;: -1.0797439917089947e-18, &quot;y&quot;: 0.9757294901687515, &quot;z&quot;: 0.01763355756877419}, {&quot;x&quot;: -1.7470624777336386e-18, &quot;y&quot;: 1.0092705098312484, &quot;z&quot;: 0.02853169548885461}, {&quot;x&quot;: 0.0, &quot;y&quot;: 1.0, &quot;z&quot;: 0.0}], &quot;faces&quot;: [[0, 1, 2], [0, 3, 1], [0, 4, 3], [0, 5, 4], [0, 2, 5], [2, 1, 6, 7], [1, 3, 8, 6], [3, 4, 9, 8], [4, 5, 10, 9], [5, 2, 7, 10], [7, 6, 11], [6, 8, 11], [8, 9, 11], [9, 10, 11], [10, 7, 11]], &quot;color&quot;: &quot;#0000ff&quot;, &quot;opacity&quot;: 1.0}, {&quot;vertices&quot;: [{&quot;x&quot;: 1.0, &quot;y&quot;: 1.0, &quot;z&quot;: 6.123233995736766e-17}, {&quot;x&quot;: 0.73, &quot;y&quot;: 1.056114082167286, &quot;z&quot;: -0.07036483342212264}, {&quot;x&quot;: 0.73, &quot;y&quot;: 1.09, &quot;z&quot;: 4.469960816887839e-17}, {&quot;x&quot;: 0.73, &quot;y&quot;: 0.9799731159439317, &quot;z&quot;: -0.08774351209636408}, {&quot;x&quot;: 0.73, &quot;y&quot;: 0.9189128018887823, &quot;z&quot;: -0.0390495365205802}, {&quot;x&quot;: 0.73, &quot;y&quot;: 0.9189128018887823, &quot;z&quot;: 0.03904953652058026}, {&quot;x&quot;: 0.73, &quot;y&quot;: 0.9799731159439317, &quot;z&quot;: 0.08774351209636416}, {&quot;x&quot;: 0.73, &quot;y&quot;: 1.056114082167286, &quot;z&quot;: 0.07036483342212273}, {&quot;x&quot;: 0.73, &quot;y&quot;: 1.0, &quot;z&quot;: 4.469960816887839e-17}], &quot;faces&quot;: [[0, 1, 2], [0, 3, 1], [0, 4, 3], [0, 5, 4], [0, 6, 5], [0, 7, 6], [0, 2, 7], [2, 1, 8], [1, 3, 8], [3, 4, 8], [4, 5, 8], [5, 6, 8], [6, 7, 8], [7, 2, 8]], &quot;color&quot;: &quot;#0000ff&quot;, &quot;opacity&quot;: 1.0}, {&quot;vertices&quot;: [{&quot;x&quot;: 3.8502309470191878, &quot;y&quot;: 5.775346420528781, &quot;z&quot;: 4.2501995107737383e-16}, {&quot;x&quot;: 3.865704962435511, &quot;y&quot;: 5.765030410251232, &quot;z&quot;: -0.02354006752005783}, {&quot;x&quot;: 3.8363847931730337, &quot;y&quot;: 5.784577189759551, &quot;z&quot;: -0.024961508830134885}, {&quot;x&quot;: 3.873640568335069, &quot;y&quot;: 5.759740006318194, &quot;z&quot;: 0.010412947005272283}, {&quot;x&quot;: 3.8492248732398435, &quot;y&quot;: 5.776017136381678, &quot;z&quot;: 0.029975622692368125}, {&quot;x&quot;: 3.8261995379124816, &quot;y&quot;: 5.791367359933252, &quot;z&quot;: 0.008113006652554444}, {&quot;x&quot;: 0.015474015416323149, &quot;y&quot;: -0.010316010277548762, &quot;z&quot;: -0.023540067520058258}, {&quot;x&quot;: -0.013846153846153845, &quot;y&quot;: 0.009230769230769232, &quot;z&quot;: -0.02496150883013531}, {&quot;x&quot;: 0.023409621315881406, &quot;y&quot;: -0.015606414210587604, &quot;z&quot;: 0.010412947005271858}, {&quot;x&quot;: -0.0010060737793443977, &quot;y&quot;: 0.000670715852896262, &quot;z&quot;: 0.0299756226923677}, {&quot;x&quot;: -0.024031409106706307, &quot;y&quot;: 0.01602093940447087, &quot;z&quot;: 0.008113006652554018}, {&quot;x&quot;: 0.0, &quot;y&quot;: 0.0, &quot;z&quot;: 0.0}], &quot;faces&quot;: [[0, 1, 2], [0, 3, 1], [0, 4, 3], [0, 5, 4], [0, 2, 5], [2, 1, 6, 7], [1, 3, 8, 6], [3, 4, 9, 8], [4, 5, 10, 9], [5, 2, 7, 10], [7, 6, 11], [6, 8, 11], [8, 9, 11], [9, 10, 11], [10, 7, 11]], &quot;color&quot;: &quot;#4b0082&quot;, &quot;opacity&quot;: 1.0}, {&quot;vertices&quot;: [{&quot;x&quot;: 3.9999999999999996, &quot;y&quot;: 5.999999999999999, &quot;z&quot;: 4.415526828658631e-16}, {&quot;x&quot;: 3.8730462553111407, &quot;y&quot;: 5.760136215000813, &quot;z&quot;: -0.08572112549039486}, {&quot;x&quot;: 3.808692485480726, &quot;y&quot;: 5.80303872822109, &quot;z&quot;: -0.0748845264904055}, {&quot;x&quot;: 3.9202196326502405, &quot;y&quot;: 5.728687296774746, &quot;z&quot;: -0.03200796860382203}, {&quot;x&quot;: 3.9146901022001517, &quot;y&quot;: 5.732373650408139, &quot;z&quot;: 0.045807841485000056}, {&quot;x&quot;: 3.860621513171656, &quot;y&quot;: 5.768419376427136, &quot;z&quot;: 0.08912941262594028}, {&quot;x&quot;: 3.7987286159014286, &quot;y&quot;: 5.809681307940621, &quot;z&quot;: 0.06533471815086589}, {&quot;x&quot;: 3.775618024418971, &quot;y&quot;: 5.825088368928926, &quot;z&quot;: -0.007658351677180824}, {&quot;x&quot;: 3.8502309470191878, &quot;y&quot;: 5.775346420528781, &quot;z&quot;: 4.2501995107737383e-16}], &quot;faces&quot;: [[0, 1, 2], [0, 3, 1], [0, 4, 3], [0, 5, 4], [0, 6, 5], [0, 7, 6], [0, 2, 7], [2, 1, 8], [1, 3, 8], [3, 4, 8], [4, 5, 8], [5, 6, 8], [6, 7, 8], [7, 2, 8]], &quot;color&quot;: &quot;#4b0082&quot;, &quot;opacity&quot;: 1.0}, {&quot;vertices&quot;: [{&quot;x&quot;: 4.73, &quot;y&quot;: 0.0, &quot;z&quot;: 2.8962896799834905e-16}, {&quot;x&quot;: 4.73, &quot;y&quot;: 0.009270509831248424, &quot;z&quot;: -0.028531695488854317}, {&quot;x&quot;: 4.73, &quot;y&quot;: 0.03, &quot;z&quot;: 2.8962896799834905e-16}, {&quot;x&quot;: 4.73, &quot;y&quot;: -0.02427050983124842, &quot;z&quot;: -0.017633557568773908}, {&quot;x&quot;: 4.73, &quot;y&quot;: -0.024270509831248427, &quot;z&quot;: 0.017633557568774477}, {&quot;x&quot;: 4.73, &quot;y&quot;: 0.009270509831248417, &quot;z&quot;: 0.028531695488854897}, {&quot;x&quot;: 1.7470624777336386e-18, &quot;y&quot;: 0.009270509831248424, &quot;z&quot;: -0.028531695488854605}, {&quot;x&quot;: 0.0, &quot;y&quot;: 0.03, &quot;z&quot;: 0.0}, {&quot;x&quot;: 1.079743991708995e-18, &quot;y&quot;: -0.02427050983124842, &quot;z&quot;: -0.017633557568774196}, {&quot;x&quot;: -1.0797439917089947e-18, &quot;y&quot;: -0.024270509831248427, &quot;z&quot;: 0.01763355756877419}, {&quot;x&quot;: -1.7470624777336386e-18, &quot;y&quot;: 0.009270509831248417, &quot;z&quot;: 0.02853169548885461}, {&quot;x&quot;: 0.0, &quot;y&quot;: 0.0, &quot;z&quot;: 0.0}], &quot;faces&quot;: [[0, 1, 2], [0, 3, 1], [0, 4, 3], [0, 5, 4], [0, 2, 5], [2, 1, 6, 7], [1, 3, 8, 6], [3, 4, 9, 8], [4, 5, 10, 9], [5, 2, 7, 10], [7, 6, 11], [6, 8, 11], [8, 9, 11], [9, 10, 11], [10, 7, 11]], &quot;color&quot;: &quot;#4b0082&quot;, &quot;opacity&quot;: 1.0}, {&quot;vertices&quot;: [{&quot;x&quot;: 5.0, &quot;y&quot;: 0.0, &quot;z&quot;: 3.061616997868383e-16}, {&quot;x&quot;: 4.73, &quot;y&quot;: 0.05611408216728602, &quot;z&quot;: -0.0703648334221224}, {&quot;x&quot;: 4.73, &quot;y&quot;: 0.09, &quot;z&quot;: 2.8962896799834905e-16}, {&quot;x&quot;: 4.73, &quot;y&quot;: -0.02002688405606829, &quot;z&quot;: -0.08774351209636383}, {&quot;x&quot;: 4.73, &quot;y&quot;: -0.08108719811121771, &quot;z&quot;: -0.03904953652057995}, {&quot;x&quot;: 4.73, &quot;y&quot;: -0.08108719811121771, &quot;z&quot;: 0.03904953652058051}, {&quot;x&quot;: 4.73, &quot;y&quot;: -0.02002688405606831, &quot;z&quot;: 0.08774351209636441}, {&quot;x&quot;: 4.73, &quot;y&quot;: 0.056114082167286, &quot;z&quot;: 0.07036483342212298}, {&quot;x&quot;: 4.73, &quot;y&quot;: 0.0, &quot;z&quot;: 2.8962896799834905e-16}], &quot;faces&quot;: [[0, 1, 2], [0, 3, 1], [0, 4, 3], [0, 5, 4], [0, 6, 5], [0, 7, 6], [0, 2, 7], [2, 1, 8], [1, 3, 8], [3, 4, 8], [4, 5, 8], [5, 6, 8], [6, 7, 8], [7, 2, 8]], &quot;color&quot;: &quot;#4b0082&quot;, &quot;opacity&quot;: 1.0}, {&quot;vertices&quot;: [{&quot;x&quot;: 8.850230947019188, &quot;y&quot;: 5.775346420528781, &quot;z&quot;: 4.2501995107737383e-16}, {&quot;x&quot;: 8.865704962435512, &quot;y&quot;: 5.765030410251232, &quot;z&quot;: -0.02354006752005783}, {&quot;x&quot;: 8.836384793173034, &quot;y&quot;: 5.784577189759551, &quot;z&quot;: -0.024961508830134885}, {&quot;x&quot;: 8.87364056833507, &quot;y&quot;: 5.759740006318194, &quot;z&quot;: 0.010412947005272283}, {&quot;x&quot;: 8.849224873239844, &quot;y&quot;: 5.776017136381678, &quot;z&quot;: 0.029975622692368125}, {&quot;x&quot;: 8.826199537912482, &quot;y&quot;: 5.791367359933252, &quot;z&quot;: 0.008113006652554444}, {&quot;x&quot;: 5.0154740154163235, &quot;y&quot;: -0.010316010277548762, &quot;z&quot;: -0.023540067520058258}, {&quot;x&quot;: 4.986153846153846, &quot;y&quot;: 0.009230769230769232, &quot;z&quot;: -0.02496150883013531}, {&quot;x&quot;: 5.023409621315881, &quot;y&quot;: -0.015606414210587604, &quot;z&quot;: 0.010412947005271858}, {&quot;x&quot;: 4.998993926220655, &quot;y&quot;: 0.000670715852896262, &quot;z&quot;: 0.0299756226923677}, {&quot;x&quot;: 4.975968590893293, &quot;y&quot;: 0.01602093940447087, &quot;z&quot;: 0.008113006652554018}, {&quot;x&quot;: 5.0, &quot;y&quot;: 0.0, &quot;z&quot;: 0.0}], &quot;faces&quot;: [[0, 1, 2], [0, 3, 1], [0, 4, 3], [0, 5, 4], [0, 2, 5], [2, 1, 6, 7], [1, 3, 8, 6], [3, 4, 9, 8], [4, 5, 10, 9], [5, 2, 7, 10], [7, 6, 11], [6, 8, 11], [8, 9, 11], [9, 10, 11], [10, 7, 11]], &quot;color&quot;: &quot;#4b0082&quot;, &quot;opacity&quot;: 1.0}, {&quot;vertices&quot;: [{&quot;x&quot;: 9.0, &quot;y&quot;: 5.999999999999999, &quot;z&quot;: 4.415526828658631e-16}, {&quot;x&quot;: 8.873046255311142, &quot;y&quot;: 5.760136215000813, &quot;z&quot;: -0.08572112549039486}, {&quot;x&quot;: 8.808692485480726, &quot;y&quot;: 5.80303872822109, &quot;z&quot;: -0.0748845264904055}, {&quot;x&quot;: 8.920219632650241, &quot;y&quot;: 5.728687296774746, &quot;z&quot;: -0.03200796860382203}, {&quot;x&quot;: 8.914690102200153, &quot;y&quot;: 5.732373650408139, &quot;z&quot;: 0.045807841485000056}, {&quot;x&quot;: 8.860621513171656, &quot;y&quot;: 5.768419376427136, &quot;z&quot;: 0.08912941262594028}, {&quot;x&quot;: 8.79872861590143, &quot;y&quot;: 5.809681307940621, &quot;z&quot;: 0.06533471815086589}, {&quot;x&quot;: 8.775618024418971, &quot;y&quot;: 5.825088368928926, &quot;z&quot;: -0.007658351677180824}, {&quot;x&quot;: 8.850230947019188, &quot;y&quot;: 5.775346420528781, &quot;z&quot;: 4.2501995107737383e-16}], &quot;faces&quot;: [[0, 1, 2], [0, 3, 1], [0, 4, 3], [0, 5, 4], [0, 6, 5], [0, 7, 6], [0, 2, 7], [2, 1, 8], [1, 3, 8], [3, 4, 8], [4, 5, 8], [5, 6, 8], [6, 7, 8], [7, 2, 8]], &quot;color&quot;: &quot;#4b0082&quot;, &quot;opacity&quot;: 1.0}, {&quot;vertices&quot;: [{&quot;x&quot;: 8.73, &quot;y&quot;: 6.0, &quot;z&quot;: 2.8962896799834905e-16}, {&quot;x&quot;: 8.73, &quot;y&quot;: 6.009270509831248, &quot;z&quot;: -0.028531695488854317}, {&quot;x&quot;: 8.73, &quot;y&quot;: 6.03, &quot;z&quot;: 2.8962896799834905e-16}, {&quot;x&quot;: 8.73, &quot;y&quot;: 5.975729490168751, &quot;z&quot;: -0.017633557568773908}, {&quot;x&quot;: 8.73, &quot;y&quot;: 5.975729490168751, &quot;z&quot;: 0.017633557568774477}, {&quot;x&quot;: 8.73, &quot;y&quot;: 6.009270509831248, &quot;z&quot;: 0.028531695488854897}, {&quot;x&quot;: 4.0, &quot;y&quot;: 6.009270509831248, &quot;z&quot;: -0.028531695488854605}, {&quot;x&quot;: 4.0, &quot;y&quot;: 6.03, &quot;z&quot;: 0.0}, {&quot;x&quot;: 4.0, &quot;y&quot;: 5.975729490168751, &quot;z&quot;: -0.017633557568774196}, {&quot;x&quot;: 4.0, &quot;y&quot;: 5.975729490168751, &quot;z&quot;: 0.01763355756877419}, {&quot;x&quot;: 4.0, &quot;y&quot;: 6.009270509831248, &quot;z&quot;: 0.02853169548885461}, {&quot;x&quot;: 4.0, &quot;y&quot;: 6.0, &quot;z&quot;: 0.0}], &quot;faces&quot;: [[0, 1, 2], [0, 3, 1], [0, 4, 3], [0, 5, 4], [0, 2, 5], [2, 1, 6, 7], [1, 3, 8, 6], [3, 4, 9, 8], [4, 5, 10, 9], [5, 2, 7, 10], [7, 6, 11], [6, 8, 11], [8, 9, 11], [9, 10, 11], [10, 7, 11]], &quot;color&quot;: &quot;#4b0082&quot;, &quot;opacity&quot;: 1.0}, {&quot;vertices&quot;: [{&quot;x&quot;: 9.0, &quot;y&quot;: 6.0, &quot;z&quot;: 3.061616997868383e-16}, {&quot;x&quot;: 8.73, &quot;y&quot;: 6.056114082167286, &quot;z&quot;: -0.0703648334221224}, {&quot;x&quot;: 8.73, &quot;y&quot;: 6.09, &quot;z&quot;: 2.8962896799834905e-16}, {&quot;x&quot;: 8.73, &quot;y&quot;: 5.979973115943932, &quot;z&quot;: -0.08774351209636383}, {&quot;x&quot;: 8.73, &quot;y&quot;: 5.918912801888783, &quot;z&quot;: -0.03904953652057995}, {&quot;x&quot;: 8.73, &quot;y&quot;: 5.918912801888783, &quot;z&quot;: 0.03904953652058051}, {&quot;x&quot;: 8.73, &quot;y&quot;: 5.979973115943932, &quot;z&quot;: 0.08774351209636441}, {&quot;x&quot;: 8.73, &quot;y&quot;: 6.056114082167286, &quot;z&quot;: 0.07036483342212298}, {&quot;x&quot;: 8.73, &quot;y&quot;: 6.0, &quot;z&quot;: 2.8962896799834905e-16}], &quot;faces&quot;: [[0, 1, 2], [0, 3, 1], [0, 4, 3], [0, 5, 4], [0, 6, 5], [0, 7, 6], [0, 2, 7], [2, 1, 8], [1, 3, 8], [3, 4, 8], [4, 5, 8], [5, 6, 8], [6, 7, 8], [7, 2, 8]], &quot;color&quot;: &quot;#4b0082&quot;, &quot;opacity&quot;: 1.0}, {&quot;vertices&quot;: [{&quot;x&quot;: 0.0, &quot;y&quot;: 0.0, &quot;z&quot;: 0.73}, {&quot;x&quot;: 0.028531695488854605, &quot;y&quot;: 0.009270509831248424, &quot;z&quot;: 0.73}, {&quot;x&quot;: 0.0, &quot;y&quot;: 0.03, &quot;z&quot;: 0.73}, {&quot;x&quot;: 0.017633557568774196, &quot;y&quot;: -0.02427050983124842, &quot;z&quot;: 0.73}, {&quot;x&quot;: -0.01763355756877419, &quot;y&quot;: -0.024270509831248427, &quot;z&quot;: 0.73}, {&quot;x&quot;: -0.02853169548885461, &quot;y&quot;: 0.009270509831248417, &quot;z&quot;: 0.73}, {&quot;x&quot;: 0.028531695488854605, &quot;y&quot;: 0.009270509831248424, &quot;z&quot;: 0.0}, {&quot;x&quot;: 0.0, &quot;y&quot;: 0.03, &quot;z&quot;: 0.0}, {&quot;x&quot;: 0.017633557568774196, &quot;y&quot;: -0.02427050983124842, &quot;z&quot;: 0.0}, {&quot;x&quot;: -0.01763355756877419, &quot;y&quot;: -0.024270509831248427, &quot;z&quot;: 0.0}, {&quot;x&quot;: -0.02853169548885461, &quot;y&quot;: 0.009270509831248417, &quot;z&quot;: 0.0}, {&quot;x&quot;: 0.0, &quot;y&quot;: 0.0, &quot;z&quot;: 0.0}], &quot;faces&quot;: [[0, 1, 2], [0, 3, 1], [0, 4, 3], [0, 5, 4], [0, 2, 5], [2, 1, 6, 7], [1, 3, 8, 6], [3, 4, 9, 8], [4, 5, 10, 9], [5, 2, 7, 10], [7, 6, 11], [6, 8, 11], [8, 9, 11], [9, 10, 11], [10, 7, 11]], &quot;color&quot;: &quot;#0000ff&quot;, &quot;opacity&quot;: 1.0}, {&quot;vertices&quot;: [{&quot;x&quot;: 0.0, &quot;y&quot;: 0.0, &quot;z&quot;: 1.0}, {&quot;x&quot;: 0.07036483342212269, &quot;y&quot;: 0.05611408216728602, &quot;z&quot;: 0.73}, {&quot;x&quot;: 0.0, &quot;y&quot;: 0.09, &quot;z&quot;: 0.73}, {&quot;x&quot;: 0.08774351209636412, &quot;y&quot;: -0.02002688405606829, &quot;z&quot;: 0.73}, {&quot;x&quot;: 0.03904953652058024, &quot;y&quot;: -0.08108719811121771, &quot;z&quot;: 0.73}, {&quot;x&quot;: -0.03904953652058022, &quot;y&quot;: -0.08108719811121771, &quot;z&quot;: 0.73}, {&quot;x&quot;: -0.08774351209636412, &quot;y&quot;: -0.02002688405606831, &quot;z&quot;: 0.73}, {&quot;x&quot;: -0.07036483342212269, &quot;y&quot;: 0.056114082167286, &quot;z&quot;: 0.73}, {&quot;x&quot;: 0.0, &quot;y&quot;: 0.0, &quot;z&quot;: 0.73}], &quot;faces&quot;: [[0, 1, 2], [0, 3, 1], [0, 4, 3], [0, 5, 4], [0, 6, 5], [0, 7, 6], [0, 2, 7], [2, 1, 8], [1, 3, 8], [3, 4, 8], [4, 5, 8], [5, 6, 8], [6, 7, 8], [7, 2, 8]], &quot;color&quot;: &quot;#0000ff&quot;, &quot;opacity&quot;: 1.0}, {&quot;vertices&quot;: [{&quot;x&quot;: 0.0, &quot;y&quot;: 0.73, &quot;z&quot;: 4.469960816887839e-17}, {&quot;x&quot;: 0.028531695488854605, &quot;y&quot;: 0.73, &quot;z&quot;: -0.009270509831248379}, {&quot;x&quot;: 0.0, &quot;y&quot;: 0.73, &quot;z&quot;: -0.029999999999999954}, {&quot;x&quot;: 0.017633557568774196, &quot;y&quot;: 0.73, &quot;z&quot;: 0.024270509831248465}, {&quot;x&quot;: -0.01763355756877419, &quot;y&quot;: 0.73, &quot;z&quot;: 0.024270509831248472}, {&quot;x&quot;: -0.02853169548885461, &quot;y&quot;: 0.73, &quot;z&quot;: -0.009270509831248372}, {&quot;x&quot;: 0.028531695488854605, &quot;y&quot;: 5.676550095651226e-19, &quot;z&quot;: -0.009270509831248424}, {&quot;x&quot;: 0.0, &quot;y&quot;: 1.8369701987210296e-18, &quot;z&quot;: -0.03}, {&quot;x&quot;: 0.017633557568774196, &quot;y&quot;: -1.4861401089256373e-18, &quot;z&quot;: 0.02427050983124842}, {&quot;x&quot;: -0.01763355756877419, &quot;y&quot;: -1.4861401089256377e-18, &quot;z&quot;: 0.024270509831248427}, {&quot;x&quot;: -0.02853169548885461, &quot;y&quot;: 5.676550095651222e-19, &quot;z&quot;: -0.009270509831248417}, {&quot;x&quot;: 0.0, &quot;y&quot;: 0.0, &quot;z&quot;: 0.0}], &quot;faces&quot;: [[0, 1, 2], [0, 3, 1], [0, 4, 3], [0, 5, 4], [0, 2, 5], [2, 1, 6, 7], [1, 3, 8, 6], [3, 4, 9, 8], [4, 5, 10, 9], [5, 2, 7, 10], [7, 6, 11], [6, 8, 11], [8, 9, 11], [9, 10, 11], [10, 7, 11]], &quot;color&quot;: &quot;#0000ff&quot;, &quot;opacity&quot;: 1.0}, {&quot;vertices&quot;: [{&quot;x&quot;: 0.0, &quot;y&quot;: 1.0, &quot;z&quot;: 6.123233995736766e-17}, {&quot;x&quot;: 0.07036483342212269, &quot;y&quot;: 0.73, &quot;z&quot;: -0.05611408216728598}, {&quot;x&quot;: 0.0, &quot;y&quot;: 0.73, &quot;z&quot;: -0.08999999999999996}, {&quot;x&quot;: 0.08774351209636412, &quot;y&quot;: 0.73, &quot;z&quot;: 0.020026884056068336}, {&quot;x&quot;: 0.03904953652058024, &quot;y&quot;: 0.73, &quot;z&quot;: 0.08108719811121776}, {&quot;x&quot;: -0.03904953652058022, &quot;y&quot;: 0.73, &quot;z&quot;: 0.08108719811121776}, {&quot;x&quot;: -0.08774351209636412, &quot;y&quot;: 0.73, &quot;z&quot;: 0.020026884056068357}, {&quot;x&quot;: -0.07036483342212269, &quot;y&quot;: 0.73, &quot;z&quot;: -0.05611408216728596}, {&quot;x&quot;: 0.0, &quot;y&quot;: 0.73, &quot;z&quot;: 4.469960816887839e-17}], &quot;faces&quot;: [[0, 1, 2], [0, 3, 1], [0, 4, 3], [0, 5, 4], [0, 6, 5], [0, 7, 6], [0, 2, 7], [2, 1, 8], [1, 3, 8], [3, 4, 8], [4, 5, 8], [5, 6, 8], [6, 7, 8], [7, 2, 8]], &quot;color&quot;: &quot;#0000ff&quot;, &quot;opacity&quot;: 1.0}, {&quot;vertices&quot;: [{&quot;x&quot;: 0.0, &quot;y&quot;: 0.73, &quot;z&quot;: 1.0}, {&quot;x&quot;: 0.028531695488854605, &quot;y&quot;: 0.73, &quot;z&quot;: 0.9907294901687517}, {&quot;x&quot;: 0.0, &quot;y&quot;: 0.73, &quot;z&quot;: 0.9700000000000001}, {&quot;x&quot;: 0.017633557568774196, &quot;y&quot;: 0.73, &quot;z&quot;: 1.0242705098312486}, {&quot;x&quot;: -0.01763355756877419, &quot;y&quot;: 0.73, &quot;z&quot;: 1.0242705098312486}, {&quot;x&quot;: -0.02853169548885461, &quot;y&quot;: 0.73, &quot;z&quot;: 0.9907294901687517}, {&quot;x&quot;: 0.028531695488854605, &quot;y&quot;: 5.676550095651226e-19, &quot;z&quot;: 0.9907294901687516}, {&quot;x&quot;: 0.0, &quot;y&quot;: 1.8369701987210296e-18, &quot;z&quot;: 0.97}, {&quot;x&quot;: 0.017633557568774196, &quot;y&quot;: -1.4861401089256373e-18, &quot;z&quot;: 1.0242705098312483}, {&quot;x&quot;: -0.01763355756877419, &quot;y&quot;: -1.4861401089256377e-18, &quot;z&quot;: 1.0242705098312483}, {&quot;x&quot;: -0.02853169548885461, &quot;y&quot;: 5.676550095651222e-19, &quot;z&quot;: 0.9907294901687516}, {&quot;x&quot;: 0.0, &quot;y&quot;: 0.0, &quot;z&quot;: 1.0}], &quot;faces&quot;: [[0, 1, 2], [0, 3, 1], [0, 4, 3], [0, 5, 4], [0, 2, 5], [2, 1, 6, 7], [1, 3, 8, 6], [3, 4, 9, 8], [4, 5, 10, 9], [5, 2, 7, 10], [7, 6, 11], [6, 8, 11], [8, 9, 11], [9, 10, 11], [10, 7, 11]], &quot;color&quot;: &quot;#0000ff&quot;, &quot;opacity&quot;: 1.0}, {&quot;vertices&quot;: [{&quot;x&quot;: 0.0, &quot;y&quot;: 1.0, &quot;z&quot;: 1.0}, {&quot;x&quot;: 0.07036483342212269, &quot;y&quot;: 0.73, &quot;z&quot;: 0.943885917832714}, {&quot;x&quot;: 0.0, &quot;y&quot;: 0.73, &quot;z&quot;: 0.91}, {&quot;x&quot;: 0.08774351209636412, &quot;y&quot;: 0.73, &quot;z&quot;: 1.0200268840560682}, {&quot;x&quot;: 0.03904953652058024, &quot;y&quot;: 0.73, &quot;z&quot;: 1.0810871981112178}, {&quot;x&quot;: -0.03904953652058022, &quot;y&quot;: 0.73, &quot;z&quot;: 1.0810871981112178}, {&quot;x&quot;: -0.08774351209636412, &quot;y&quot;: 0.73, &quot;z&quot;: 1.0200268840560682}, {&quot;x&quot;: -0.07036483342212269, &quot;y&quot;: 0.73, &quot;z&quot;: 0.943885917832714}, {&quot;x&quot;: 0.0, &quot;y&quot;: 0.73, &quot;z&quot;: 1.0}], &quot;faces&quot;: [[0, 1, 2], [0, 3, 1], [0, 4, 3], [0, 5, 4], [0, 6, 5], [0, 7, 6], [0, 2, 7], [2, 1, 8], [1, 3, 8], [3, 4, 8], [4, 5, 8], [5, 6, 8], [6, 7, 8], [7, 2, 8]], &quot;color&quot;: &quot;#0000ff&quot;, &quot;opacity&quot;: 1.0}, {&quot;vertices&quot;: [{&quot;x&quot;: 0.0, &quot;y&quot;: 1.0, &quot;z&quot;: 0.73}, {&quot;x&quot;: 0.028531695488854605, &quot;y&quot;: 1.0092705098312484, &quot;z&quot;: 0.73}, {&quot;x&quot;: 0.0, &quot;y&quot;: 1.03, &quot;z&quot;: 0.73}, {&quot;x&quot;: 0.017633557568774196, &quot;y&quot;: 0.9757294901687515, &quot;z&quot;: 0.73}, {&quot;x&quot;: -0.01763355756877419, &quot;y&quot;: 0.9757294901687515, &quot;z&quot;: 0.73}, {&quot;x&quot;: -0.02853169548885461, &quot;y&quot;: 1.0092705098312484, &quot;z&quot;: 0.73}, {&quot;x&quot;: 0.028531695488854605, &quot;y&quot;: 1.0092705098312484, &quot;z&quot;: 0.0}, {&quot;x&quot;: 0.0, &quot;y&quot;: 1.03, &quot;z&quot;: 0.0}, {&quot;x&quot;: 0.017633557568774196, &quot;y&quot;: 0.9757294901687515, &quot;z&quot;: 0.0}, {&quot;x&quot;: -0.01763355756877419, &quot;y&quot;: 0.9757294901687515, &quot;z&quot;: 0.0}, {&quot;x&quot;: -0.02853169548885461, &quot;y&quot;: 1.0092705098312484, &quot;z&quot;: 0.0}, {&quot;x&quot;: 0.0, &quot;y&quot;: 1.0, &quot;z&quot;: 0.0}], &quot;faces&quot;: [[0, 1, 2], [0, 3, 1], [0, 4, 3], [0, 5, 4], [0, 2, 5], [2, 1, 6, 7], [1, 3, 8, 6], [3, 4, 9, 8], [4, 5, 10, 9], [5, 2, 7, 10], [7, 6, 11], [6, 8, 11], [8, 9, 11], [9, 10, 11], [10, 7, 11]], &quot;color&quot;: &quot;#0000ff&quot;, &quot;opacity&quot;: 1.0}, {&quot;vertices&quot;: [{&quot;x&quot;: 0.0, &quot;y&quot;: 1.0, &quot;z&quot;: 1.0}, {&quot;x&quot;: 0.07036483342212269, &quot;y&quot;: 1.056114082167286, &quot;z&quot;: 0.73}, {&quot;x&quot;: 0.0, &quot;y&quot;: 1.09, &quot;z&quot;: 0.73}, {&quot;x&quot;: 0.08774351209636412, &quot;y&quot;: 0.9799731159439317, &quot;z&quot;: 0.73}, {&quot;x&quot;: 0.03904953652058024, &quot;y&quot;: 0.9189128018887823, &quot;z&quot;: 0.73}, {&quot;x&quot;: -0.03904953652058022, &quot;y&quot;: 0.9189128018887823, &quot;z&quot;: 0.73}, {&quot;x&quot;: -0.08774351209636412, &quot;y&quot;: 0.9799731159439317, &quot;z&quot;: 0.73}, {&quot;x&quot;: -0.07036483342212269, &quot;y&quot;: 1.056114082167286, &quot;z&quot;: 0.73}, {&quot;x&quot;: 0.0, &quot;y&quot;: 1.0, &quot;z&quot;: 0.73}], &quot;faces&quot;: [[0, 1, 2], [0, 3, 1], [0, 4, 3], [0, 5, 4], [0, 6, 5], [0, 7, 6], [0, 2, 7], [2, 1, 8], [1, 3, 8], [3, 4, 8], [4, 5, 8], [5, 6, 8], [6, 7, 8], [7, 2, 8]], &quot;color&quot;: &quot;#0000ff&quot;, &quot;opacity&quot;: 1.0}, {&quot;vertices&quot;: [{&quot;x&quot;: 0.0, &quot;y&quot;: 5.879252329215013, &quot;z&quot;: 11.758504658430024}, {&quot;x&quot;: 0.028531695488854605, &quot;y&quot;: 5.887544125282513, &quot;z&quot;: 11.754358760396274}, {&quot;x&quot;: 0.0, &quot;y&quot;: 5.90608514494501, &quot;z&quot;: 11.745088250565026}, {&quot;x&quot;: 0.017633557568774196, &quot;y&quot;: 5.857544125282513, &quot;z&quot;: 11.769358760396273}, {&quot;x&quot;: -0.01763355756877419, &quot;y&quot;: 5.857544125282513, &quot;z&quot;: 11.769358760396273}, {&quot;x&quot;: -0.02853169548885461, &quot;y&quot;: 5.887544125282513, &quot;z&quot;: 11.754358760396274}, {&quot;x&quot;: 0.028531695488854605, &quot;y&quot;: 0.008291796067500632, &quot;z&quot;: -0.004145898033750316}, {&quot;x&quot;: 0.0, &quot;y&quot;: 0.026832815729997475, &quot;z&quot;: -0.01341640786499874}, {&quot;x&quot;: 0.017633557568774196, &quot;y&quot;: -0.021708203932499365, &quot;z&quot;: 0.010854101966249684}, {&quot;x&quot;: -0.01763355756877419, &quot;y&quot;: -0.02170820393249937, &quot;z&quot;: 0.010854101966249688}, {&quot;x&quot;: -0.02853169548885461, &quot;y&quot;: 0.008291796067500625, &quot;z&quot;: -0.004145898033750314}, {&quot;x&quot;: 0.0, &quot;y&quot;: 0.0, &quot;z&quot;: 0.0}], &quot;faces&quot;: [[0, 1, 2], [0, 3, 1], [0, 4, 3], [0, 5, 4], [0, 2, 5], [2, 1, 6, 7], [1, 3, 8, 6], [3, 4, 9, 8], [4, 5, 10, 9], [5, 2, 7, 10], [7, 6, 11], [6, 8, 11], [8, 9, 11], [9, 10, 11], [10, 7, 11]], &quot;color&quot;: &quot;#4b0082&quot;, &quot;opacity&quot;: 1.0}, {&quot;vertices&quot;: [{&quot;x&quot;: 0.0, &quot;y&quot;: 6.000000000000002, &quot;z&quot;: 12.000000000000002}, {&quot;x&quot;: 0.07036483342212269, &quot;y&quot;: 5.929442290103437, &quot;z&quot;: 11.733409677985811}, {&quot;x&quot;: 0.0, &quot;y&quot;: 5.959750776405005, &quot;z&quot;: 11.718255434835028}, {&quot;x&quot;: 0.08774351209636412, &quot;y&quot;: 5.861339739564262, &quot;z&quot;: 11.767460953255398}, {&quot;x&quot;: 0.03904953652058024, &quot;y&quot;: 5.806725734382343, &quot;z&quot;: 11.794767955846359}, {&quot;x&quot;: -0.03904953652058022, &quot;y&quot;: 5.806725734382343, &quot;z&quot;: 11.794767955846359}, {&quot;x&quot;: -0.08774351209636412, &quot;y&quot;: 5.861339739564262, &quot;z&quot;: 11.767460953255398}, {&quot;x&quot;: -0.07036483342212269, &quot;y&quot;: 5.929442290103437, &quot;z&quot;: 11.733409677985811}, {&quot;x&quot;: 0.0, &quot;y&quot;: 5.879252329215013, &quot;z&quot;: 11.758504658430024}], &quot;faces&quot;: [[0, 1, 2], [0, 3, 1], [0, 4, 3], [0, 5, 4], [0, 6, 5], [0, 7, 6], [0, 2, 7], [2, 1, 8], [1, 3, 8], [3, 4, 8], [4, 5, 8], [5, 6, 8], [6, 7, 8], [7, 2, 8]], &quot;color&quot;: &quot;#4b0082&quot;, &quot;opacity&quot;: 1.0}, {&quot;vertices&quot;: [{&quot;x&quot;: 0.0, &quot;y&quot;: 2.8090811690796316, &quot;z&quot;: 2.809081169079632}, {&quot;x&quot;: 0.028531695488854605, &quot;y&quot;: 2.815636409446364, &quot;z&quot;: 2.8025259287128996}, {&quot;x&quot;: 0.0, &quot;y&quot;: 2.830294372515228, &quot;z&quot;: 2.7878679656440357}, {&quot;x&quot;: 0.017633557568774196, &quot;y&quot;: 2.7919193269951013, &quot;z&quot;: 2.8262430111641623}, {&quot;x&quot;: -0.01763355756877419, &quot;y&quot;: 2.7919193269951013, &quot;z&quot;: 2.8262430111641628}, {&quot;x&quot;: -0.02853169548885461, &quot;y&quot;: 2.815636409446364, &quot;z&quot;: 2.8025259287128996}, {&quot;x&quot;: 0.028531695488854605, &quot;y&quot;: 0.006555240366732318, &quot;z&quot;: -0.006555240366732317}, {&quot;x&quot;: 0.0, &quot;y&quot;: 0.021213203435596427, &quot;z&quot;: -0.021213203435596423}, {&quot;x&quot;: 0.017633557568774196, &quot;y&quot;: -0.01716184208453053, &quot;z&quot;: 0.017161842084530525}, {&quot;x&quot;: -0.01763355756877419, &quot;y&quot;: -0.017161842084530532, &quot;z&quot;: 0.017161842084530532}, {&quot;x&quot;: -0.02853169548885461, &quot;y&quot;: 0.006555240366732312, &quot;z&quot;: -0.0065552403667323116}, {&quot;x&quot;: 0.0, &quot;y&quot;: 0.0, &quot;z&quot;: 0.0}], &quot;faces&quot;: [[0, 1, 2], [0, 3, 1], [0, 4, 3], [0, 5, 4], [0, 2, 5], [2, 1, 6, 7], [1, 3, 8, 6], [3, 4, 9, 8], [4, 5, 10, 9], [5, 2, 7, 10], [7, 6, 11], [6, 8, 11], [8, 9, 11], [9, 10, 11], [10, 7, 11]], &quot;color&quot;: &quot;#4b0082&quot;, &quot;opacity&quot;: 1.0}, {&quot;vertices&quot;: [{&quot;x&quot;: 0.0, &quot;y&quot;: 2.9999999999999996, &quot;z&quot;: 3.0}, {&quot;x&quot;: 0.07036483342212269, &quot;y&quot;: 2.8487598171001784, &quot;z&quot;: 2.769402521059085}, {&quot;x&quot;: 0.0, &quot;y&quot;: 2.872720779386421, &quot;z&quot;: 2.7454415587728427}, {&quot;x&quot;: 0.08774351209636412, &quot;y&quot;: 2.794920023557549, &quot;z&quot;: 2.8232423146017145}, {&quot;x&quot;: 0.03904953652058024, &quot;y&quot;: 2.7517438614277725, &quot;z&quot;: 2.866418476731491}, {&quot;x&quot;: -0.03904953652058022, &quot;y&quot;: 2.7517438614277725, &quot;z&quot;: 2.866418476731491}, {&quot;x&quot;: -0.08774351209636412, &quot;y&quot;: 2.794920023557549, &quot;z&quot;: 2.8232423146017145}, {&quot;x&quot;: -0.07036483342212269, &quot;y&quot;: 2.8487598171001784, &quot;z&quot;: 2.769402521059085}, {&quot;x&quot;: 0.0, &quot;y&quot;: 2.8090811690796316, &quot;z&quot;: 2.809081169079632}], &quot;faces&quot;: [[0, 1, 2], [0, 3, 1], [0, 4, 3], [0, 5, 4], [0, 6, 5], [0, 7, 6], [0, 2, 7], [2, 1, 8], [1, 3, 8], [3, 4, 8], [4, 5, 8], [5, 6, 8], [6, 7, 8], [7, 2, 8]], &quot;color&quot;: &quot;#4b0082&quot;, &quot;opacity&quot;: 1.0}, {&quot;vertices&quot;: [{&quot;x&quot;: 0.0, &quot;y&quot;: 8.879252329215014, &quot;z&quot;: 14.758504658430024}, {&quot;x&quot;: 0.028531695488854605, &quot;y&quot;: 8.887544125282513, &quot;z&quot;: 14.754358760396274}, {&quot;x&quot;: 0.0, &quot;y&quot;: 8.90608514494501, &quot;z&quot;: 14.745088250565026}, {&quot;x&quot;: 0.017633557568774196, &quot;y&quot;: 8.857544125282512, &quot;z&quot;: 14.769358760396273}, {&quot;x&quot;: -0.01763355756877419, &quot;y&quot;: 8.857544125282512, &quot;z&quot;: 14.769358760396273}, {&quot;x&quot;: -0.02853169548885461, &quot;y&quot;: 8.887544125282513, &quot;z&quot;: 14.754358760396274}, {&quot;x&quot;: 0.028531695488854605, &quot;y&quot;: 3.0082917960675006, &quot;z&quot;: 2.9958541019662497}, {&quot;x&quot;: 0.0, &quot;y&quot;: 3.0268328157299975, &quot;z&quot;: 2.9865835921350015}, {&quot;x&quot;: 0.017633557568774196, &quot;y&quot;: 2.978291796067501, &quot;z&quot;: 3.01085410196625}, {&quot;x&quot;: -0.01763355756877419, &quot;y&quot;: 2.978291796067501, &quot;z&quot;: 3.01085410196625}, {&quot;x&quot;: -0.02853169548885461, &quot;y&quot;: 3.0082917960675006, &quot;z&quot;: 2.9958541019662497}, {&quot;x&quot;: 0.0, &quot;y&quot;: 3.0, &quot;z&quot;: 3.0}], &quot;faces&quot;: [[0, 1, 2], [0, 3, 1], [0, 4, 3], [0, 5, 4], [0, 2, 5], [2, 1, 6, 7], [1, 3, 8, 6], [3, 4, 9, 8], [4, 5, 10, 9], [5, 2, 7, 10], [7, 6, 11], [6, 8, 11], [8, 9, 11], [9, 10, 11], [10, 7, 11]], &quot;color&quot;: &quot;#4b0082&quot;, &quot;opacity&quot;: 1.0}, {&quot;vertices&quot;: [{&quot;x&quot;: 0.0, &quot;y&quot;: 9.000000000000002, &quot;z&quot;: 15.000000000000002}, {&quot;x&quot;: 0.07036483342212269, &quot;y&quot;: 8.929442290103438, &quot;z&quot;: 14.733409677985811}, {&quot;x&quot;: 0.0, &quot;y&quot;: 8.959750776405006, &quot;z&quot;: 14.718255434835028}, {&quot;x&quot;: 0.08774351209636412, &quot;y&quot;: 8.861339739564263, &quot;z&quot;: 14.767460953255398}, {&quot;x&quot;: 0.03904953652058024, &quot;y&quot;: 8.806725734382344, &quot;z&quot;: 14.794767955846359}, {&quot;x&quot;: -0.03904953652058022, &quot;y&quot;: 8.806725734382344, &quot;z&quot;: 14.794767955846359}, {&quot;x&quot;: -0.08774351209636412, &quot;y&quot;: 8.861339739564263, &quot;z&quot;: 14.767460953255398}, {&quot;x&quot;: -0.07036483342212269, &quot;y&quot;: 8.929442290103438, &quot;z&quot;: 14.733409677985811}, {&quot;x&quot;: 0.0, &quot;y&quot;: 8.879252329215014, &quot;z&quot;: 14.758504658430024}], &quot;faces&quot;: [[0, 1, 2], [0, 3, 1], [0, 4, 3], [0, 5, 4], [0, 6, 5], [0, 7, 6], [0, 2, 7], [2, 1, 8], [1, 3, 8], [3, 4, 8], [4, 5, 8], [5, 6, 8], [6, 7, 8], [7, 2, 8]], &quot;color&quot;: &quot;#4b0082&quot;, &quot;opacity&quot;: 1.0}, {&quot;vertices&quot;: [{&quot;x&quot;: 0.0, &quot;y&quot;: 8.809081169079631, &quot;z&quot;: 14.809081169079633}, {&quot;x&quot;: 0.028531695488854605, &quot;y&quot;: 8.815636409446364, &quot;z&quot;: 14.8025259287129}, {&quot;x&quot;: 0.0, &quot;y&quot;: 8.830294372515228, &quot;z&quot;: 14.787867965644036}, {&quot;x&quot;: 0.017633557568774196, &quot;y&quot;: 8.791919326995101, &quot;z&quot;: 14.826243011164163}, {&quot;x&quot;: -0.01763355756877419, &quot;y&quot;: 8.791919326995101, &quot;z&quot;: 14.826243011164163}, {&quot;x&quot;: -0.02853169548885461, &quot;y&quot;: 8.815636409446364, &quot;z&quot;: 14.8025259287129}, {&quot;x&quot;: 0.028531695488854605, &quot;y&quot;: 6.006555240366732, &quot;z&quot;: 11.993444759633269}, {&quot;x&quot;: 0.0, &quot;y&quot;: 6.021213203435597, &quot;z&quot;: 11.978786796564403}, {&quot;x&quot;: 0.017633557568774196, &quot;y&quot;: 5.982838157915469, &quot;z&quot;: 12.01716184208453}, {&quot;x&quot;: -0.01763355756877419, &quot;y&quot;: 5.982838157915469, &quot;z&quot;: 12.01716184208453}, {&quot;x&quot;: -0.02853169548885461, &quot;y&quot;: 6.006555240366732, &quot;z&quot;: 11.993444759633269}, {&quot;x&quot;: 0.0, &quot;y&quot;: 6.0, &quot;z&quot;: 12.0}], &quot;faces&quot;: [[0, 1, 2], [0, 3, 1], [0, 4, 3], [0, 5, 4], [0, 2, 5], [2, 1, 6, 7], [1, 3, 8, 6], [3, 4, 9, 8], [4, 5, 10, 9], [5, 2, 7, 10], [7, 6, 11], [6, 8, 11], [8, 9, 11], [9, 10, 11], [10, 7, 11]], &quot;color&quot;: &quot;#4b0082&quot;, &quot;opacity&quot;: 1.0}, {&quot;vertices&quot;: [{&quot;x&quot;: 0.0, &quot;y&quot;: 8.999999999999998, &quot;z&quot;: 15.0}, {&quot;x&quot;: 0.07036483342212269, &quot;y&quot;: 8.848759817100179, &quot;z&quot;: 14.769402521059085}, {&quot;x&quot;: 0.0, &quot;y&quot;: 8.87272077938642, &quot;z&quot;: 14.745441558772844}, {&quot;x&quot;: 0.08774351209636412, &quot;y&quot;: 8.794920023557548, &quot;z&quot;: 14.823242314601716}, {&quot;x&quot;: 0.03904953652058024, &quot;y&quot;: 8.751743861427773, &quot;z&quot;: 14.866418476731491}, {&quot;x&quot;: -0.03904953652058022, &quot;y&quot;: 8.751743861427773, &quot;z&quot;: 14.866418476731491}, {&quot;x&quot;: -0.08774351209636412, &quot;y&quot;: 8.794920023557548, &quot;z&quot;: 14.823242314601716}, {&quot;x&quot;: -0.07036483342212269, &quot;y&quot;: 8.848759817100179, &quot;z&quot;: 14.769402521059085}, {&quot;x&quot;: 0.0, &quot;y&quot;: 8.809081169079631, &quot;z&quot;: 14.809081169079633}], &quot;faces&quot;: [[0, 1, 2], [0, 3, 1], [0, 4, 3], [0, 5, 4], [0, 6, 5], [0, 7, 6], [0, 2, 7], [2, 1, 8], [1, 3, 8], [3, 4, 8], [4, 5, 8], [5, 6, 8], [6, 7, 8], [7, 2, 8]], &quot;color&quot;: &quot;#4b0082&quot;, &quot;opacity&quot;: 1.0}, {&quot;vertices&quot;: [{&quot;x&quot;: 0.73, &quot;y&quot;: 0.0, &quot;z&quot;: 4.469960816887839e-17}, {&quot;x&quot;: 0.73, &quot;y&quot;: 0.009270509831248424, &quot;z&quot;: -0.02853169548885456}, {&quot;x&quot;: 0.73, &quot;y&quot;: 0.03, &quot;z&quot;: 4.469960816887839e-17}, {&quot;x&quot;: 0.73, &quot;y&quot;: -0.02427050983124842, &quot;z&quot;: -0.01763355756877415}, {&quot;x&quot;: 0.73, &quot;y&quot;: -0.024270509831248427, &quot;z&quot;: 0.017633557568774234}, {&quot;x&quot;: 0.73, &quot;y&quot;: 0.009270509831248417, &quot;z&quot;: 0.028531695488854654}, {&quot;x&quot;: 1.7470624777336386e-18, &quot;y&quot;: 0.009270509831248424, &quot;z&quot;: -0.028531695488854605}, {&quot;x&quot;: 0.0, &quot;y&quot;: 0.03, &quot;z&quot;: 0.0}, {&quot;x&quot;: 1.079743991708995e-18, &quot;y&quot;: -0.02427050983124842, &quot;z&quot;: -0.017633557568774196}, {&quot;x&quot;: -1.0797439917089947e-18, &quot;y&quot;: -0.024270509831248427, &quot;z&quot;: 0.01763355756877419}, {&quot;x&quot;: -1.7470624777336386e-18, &quot;y&quot;: 0.009270509831248417, &quot;z&quot;: 0.02853169548885461}, {&quot;x&quot;: 0.0, &quot;y&quot;: 0.0, &quot;z&quot;: 0.0}], &quot;faces&quot;: [[0, 1, 2], [0, 3, 1], [0, 4, 3], [0, 5, 4], [0, 2, 5], [2, 1, 6, 7], [1, 3, 8, 6], [3, 4, 9, 8], [4, 5, 10, 9], [5, 2, 7, 10], [7, 6, 11], [6, 8, 11], [8, 9, 11], [9, 10, 11], [10, 7, 11]], &quot;color&quot;: &quot;#0000ff&quot;, &quot;opacity&quot;: 1.0}, {&quot;vertices&quot;: [{&quot;x&quot;: 1.0, &quot;y&quot;: 0.0, &quot;z&quot;: 6.123233995736766e-17}, {&quot;x&quot;: 0.73, &quot;y&quot;: 0.05611408216728602, &quot;z&quot;: -0.07036483342212264}, {&quot;x&quot;: 0.73, &quot;y&quot;: 0.09, &quot;z&quot;: 4.469960816887839e-17}, {&quot;x&quot;: 0.73, &quot;y&quot;: -0.02002688405606829, &quot;z&quot;: -0.08774351209636408}, {&quot;x&quot;: 0.73, &quot;y&quot;: -0.08108719811121771, &quot;z&quot;: -0.0390495365205802}, {&quot;x&quot;: 0.73, &quot;y&quot;: -0.08108719811121771, &quot;z&quot;: 0.03904953652058026}, {&quot;x&quot;: 0.73, &quot;y&quot;: -0.02002688405606831, &quot;z&quot;: 0.08774351209636416}, {&quot;x&quot;: 0.73, &quot;y&quot;: 0.056114082167286, &quot;z&quot;: 0.07036483342212273}, {&quot;x&quot;: 0.73, &quot;y&quot;: 0.0, &quot;z&quot;: 4.469960816887839e-17}], &quot;faces&quot;: [[0, 1, 2], [0, 3, 1], [0, 4, 3], [0, 5, 4], [0, 6, 5], [0, 7, 6], [0, 2, 7], [2, 1, 8], [1, 3, 8], [3, 4, 8], [4, 5, 8], [5, 6, 8], [6, 7, 8], [7, 2, 8]], &quot;color&quot;: &quot;#0000ff&quot;, &quot;opacity&quot;: 1.0}, {&quot;vertices&quot;: [{&quot;x&quot;: 0.0, &quot;y&quot;: 0.0, &quot;z&quot;: 0.73}, {&quot;x&quot;: 0.028531695488854605, &quot;y&quot;: 0.009270509831248424, &quot;z&quot;: 0.73}, {&quot;x&quot;: 0.0, &quot;y&quot;: 0.03, &quot;z&quot;: 0.73}, {&quot;x&quot;: 0.017633557568774196, &quot;y&quot;: -0.02427050983124842, &quot;z&quot;: 0.73}, {&quot;x&quot;: -0.01763355756877419, &quot;y&quot;: -0.024270509831248427, &quot;z&quot;: 0.73}, {&quot;x&quot;: -0.02853169548885461, &quot;y&quot;: 0.009270509831248417, &quot;z&quot;: 0.73}, {&quot;x&quot;: 0.028531695488854605, &quot;y&quot;: 0.009270509831248424, &quot;z&quot;: 0.0}, {&quot;x&quot;: 0.0, &quot;y&quot;: 0.03, &quot;z&quot;: 0.0}, {&quot;x&quot;: 0.017633557568774196, &quot;y&quot;: -0.02427050983124842, &quot;z&quot;: 0.0}, {&quot;x&quot;: -0.01763355756877419, &quot;y&quot;: -0.024270509831248427, &quot;z&quot;: 0.0}, {&quot;x&quot;: -0.02853169548885461, &quot;y&quot;: 0.009270509831248417, &quot;z&quot;: 0.0}, {&quot;x&quot;: 0.0, &quot;y&quot;: 0.0, &quot;z&quot;: 0.0}], &quot;faces&quot;: [[0, 1, 2], [0, 3, 1], [0, 4, 3], [0, 5, 4], [0, 2, 5], [2, 1, 6, 7], [1, 3, 8, 6], [3, 4, 9, 8], [4, 5, 10, 9], [5, 2, 7, 10], [7, 6, 11], [6, 8, 11], [8, 9, 11], [9, 10, 11], [10, 7, 11]], &quot;color&quot;: &quot;#0000ff&quot;, &quot;opacity&quot;: 1.0}, {&quot;vertices&quot;: [{&quot;x&quot;: 0.0, &quot;y&quot;: 0.0, &quot;z&quot;: 1.0}, {&quot;x&quot;: 0.07036483342212269, &quot;y&quot;: 0.05611408216728602, &quot;z&quot;: 0.73}, {&quot;x&quot;: 0.0, &quot;y&quot;: 0.09, &quot;z&quot;: 0.73}, {&quot;x&quot;: 0.08774351209636412, &quot;y&quot;: -0.02002688405606829, &quot;z&quot;: 0.73}, {&quot;x&quot;: 0.03904953652058024, &quot;y&quot;: -0.08108719811121771, &quot;z&quot;: 0.73}, {&quot;x&quot;: -0.03904953652058022, &quot;y&quot;: -0.08108719811121771, &quot;z&quot;: 0.73}, {&quot;x&quot;: -0.08774351209636412, &quot;y&quot;: -0.02002688405606831, &quot;z&quot;: 0.73}, {&quot;x&quot;: -0.07036483342212269, &quot;y&quot;: 0.056114082167286, &quot;z&quot;: 0.73}, {&quot;x&quot;: 0.0, &quot;y&quot;: 0.0, &quot;z&quot;: 0.73}], &quot;faces&quot;: [[0, 1, 2], [0, 3, 1], [0, 4, 3], [0, 5, 4], [0, 6, 5], [0, 7, 6], [0, 2, 7], [2, 1, 8], [1, 3, 8], [3, 4, 8], [4, 5, 8], [5, 6, 8], [6, 7, 8], [7, 2, 8]], &quot;color&quot;: &quot;#0000ff&quot;, &quot;opacity&quot;: 1.0}, {&quot;vertices&quot;: [{&quot;x&quot;: 0.73, &quot;y&quot;: 0.0, &quot;z&quot;: 1.0}, {&quot;x&quot;: 0.73, &quot;y&quot;: 0.009270509831248424, &quot;z&quot;: 0.9714683045111454}, {&quot;x&quot;: 0.73, &quot;y&quot;: 0.03, &quot;z&quot;: 1.0}, {&quot;x&quot;: 0.73, &quot;y&quot;: -0.02427050983124842, &quot;z&quot;: 0.9823664424312258}, {&quot;x&quot;: 0.73, &quot;y&quot;: -0.024270509831248427, &quot;z&quot;: 1.0176335575687743}, {&quot;x&quot;: 0.73, &quot;y&quot;: 0.009270509831248417, &quot;z&quot;: 1.0285316954888546}, {&quot;x&quot;: 1.7470624777336386e-18, &quot;y&quot;: 0.009270509831248424, &quot;z&quot;: 0.9714683045111454}, {&quot;x&quot;: 0.0, &quot;y&quot;: 0.03, &quot;z&quot;: 1.0}, {&quot;x&quot;: 1.079743991708995e-18, &quot;y&quot;: -0.02427050983124842, &quot;z&quot;: 0.9823664424312258}, {&quot;x&quot;: -1.0797439917089947e-18, &quot;y&quot;: -0.024270509831248427, &quot;z&quot;: 1.0176335575687743}, {&quot;x&quot;: -1.7470624777336386e-18, &quot;y&quot;: 0.009270509831248417, &quot;z&quot;: 1.0285316954888546}, {&quot;x&quot;: 0.0, &quot;y&quot;: 0.0, &quot;z&quot;: 1.0}], &quot;faces&quot;: [[0, 1, 2], [0, 3, 1], [0, 4, 3], [0, 5, 4], [0, 2, 5], [2, 1, 6, 7], [1, 3, 8, 6], [3, 4, 9, 8], [4, 5, 10, 9], [5, 2, 7, 10], [7, 6, 11], [6, 8, 11], [8, 9, 11], [9, 10, 11], [10, 7, 11]], &quot;color&quot;: &quot;#0000ff&quot;, &quot;opacity&quot;: 1.0}, {&quot;vertices&quot;: [{&quot;x&quot;: 1.0, &quot;y&quot;: 0.0, &quot;z&quot;: 1.0}, {&quot;x&quot;: 0.73, &quot;y&quot;: 0.05611408216728602, &quot;z&quot;: 0.9296351665778773}, {&quot;x&quot;: 0.73, &quot;y&quot;: 0.09, &quot;z&quot;: 1.0}, {&quot;x&quot;: 0.73, &quot;y&quot;: -0.02002688405606829, &quot;z&quot;: 0.9122564879036359}, {&quot;x&quot;: 0.73, &quot;y&quot;: -0.08108719811121771, &quot;z&quot;: 0.9609504634794197}, {&quot;x&quot;: 0.73, &quot;y&quot;: -0.08108719811121771, &quot;z&quot;: 1.0390495365205803}, {&quot;x&quot;: 0.73, &quot;y&quot;: -0.02002688405606831, &quot;z&quot;: 1.087743512096364}, {&quot;x&quot;: 0.73, &quot;y&quot;: 0.056114082167286, &quot;z&quot;: 1.0703648334221227}, {&quot;x&quot;: 0.73, &quot;y&quot;: 0.0, &quot;z&quot;: 1.0}], &quot;faces&quot;: [[0, 1, 2], [0, 3, 1], [0, 4, 3], [0, 5, 4], [0, 6, 5], [0, 7, 6], [0, 2, 7], [2, 1, 8], [1, 3, 8], [3, 4, 8], [4, 5, 8], [5, 6, 8], [6, 7, 8], [7, 2, 8]], &quot;color&quot;: &quot;#0000ff&quot;, &quot;opacity&quot;: 1.0}, {&quot;vertices&quot;: [{&quot;x&quot;: 1.0, &quot;y&quot;: 0.0, &quot;z&quot;: 0.73}, {&quot;x&quot;: 1.0285316954888546, &quot;y&quot;: 0.009270509831248424, &quot;z&quot;: 0.73}, {&quot;x&quot;: 1.0, &quot;y&quot;: 0.03, &quot;z&quot;: 0.73}, {&quot;x&quot;: 1.0176335575687743, &quot;y&quot;: -0.02427050983124842, &quot;z&quot;: 0.73}, {&quot;x&quot;: 0.9823664424312258, &quot;y&quot;: -0.024270509831248427, &quot;z&quot;: 0.73}, {&quot;x&quot;: 0.9714683045111454, &quot;y&quot;: 0.009270509831248417, &quot;z&quot;: 0.73}, {&quot;x&quot;: 1.0285316954888546, &quot;y&quot;: 0.009270509831248424, &quot;z&quot;: 0.0}, {&quot;x&quot;: 1.0, &quot;y&quot;: 0.03, &quot;z&quot;: 0.0}, {&quot;x&quot;: 1.0176335575687743, &quot;y&quot;: -0.02427050983124842, &quot;z&quot;: 0.0}, {&quot;x&quot;: 0.9823664424312258, &quot;y&quot;: -0.024270509831248427, &quot;z&quot;: 0.0}, {&quot;x&quot;: 0.9714683045111454, &quot;y&quot;: 0.009270509831248417, &quot;z&quot;: 0.0}, {&quot;x&quot;: 1.0, &quot;y&quot;: 0.0, &quot;z&quot;: 0.0}], &quot;faces&quot;: [[0, 1, 2], [0, 3, 1], [0, 4, 3], [0, 5, 4], [0, 2, 5], [2, 1, 6, 7], [1, 3, 8, 6], [3, 4, 9, 8], [4, 5, 10, 9], [5, 2, 7, 10], [7, 6, 11], [6, 8, 11], [8, 9, 11], [9, 10, 11], [10, 7, 11]], &quot;color&quot;: &quot;#0000ff&quot;, &quot;opacity&quot;: 1.0}, {&quot;vertices&quot;: [{&quot;x&quot;: 1.0, &quot;y&quot;: 0.0, &quot;z&quot;: 1.0}, {&quot;x&quot;: 1.0703648334221227, &quot;y&quot;: 0.05611408216728602, &quot;z&quot;: 0.73}, {&quot;x&quot;: 1.0, &quot;y&quot;: 0.09, &quot;z&quot;: 0.73}, {&quot;x&quot;: 1.087743512096364, &quot;y&quot;: -0.02002688405606829, &quot;z&quot;: 0.73}, {&quot;x&quot;: 1.0390495365205803, &quot;y&quot;: -0.08108719811121771, &quot;z&quot;: 0.73}, {&quot;x&quot;: 0.9609504634794198, &quot;y&quot;: -0.08108719811121771, &quot;z&quot;: 0.73}, {&quot;x&quot;: 0.9122564879036359, &quot;y&quot;: -0.02002688405606831, &quot;z&quot;: 0.73}, {&quot;x&quot;: 0.9296351665778773, &quot;y&quot;: 0.056114082167286, &quot;z&quot;: 0.73}, {&quot;x&quot;: 1.0, &quot;y&quot;: 0.0, &quot;z&quot;: 0.73}], &quot;faces&quot;: [[0, 1, 2], [0, 3, 1], [0, 4, 3], [0, 5, 4], [0, 6, 5], [0, 7, 6], [0, 2, 7], [2, 1, 8], [1, 3, 8], [3, 4, 8], [4, 5, 8], [5, 6, 8], [6, 7, 8], [7, 2, 8]], &quot;color&quot;: &quot;#0000ff&quot;, &quot;opacity&quot;: 1.0}, {&quot;vertices&quot;: [{&quot;x&quot;: 3.9146185031754555, &quot;y&quot;: 0.0, &quot;z&quot;: 11.743855509526362}, {&quot;x&quot;: 3.941686046150795, &quot;y&quot;: 0.009270509831248424, &quot;z&quot;: 11.734832995201248}, {&quot;x&quot;: 3.9146185031754555, &quot;y&quot;: 0.03, &quot;z&quot;: 11.743855509526362}, {&quot;x&quot;: 3.931347164726164, &quot;y&quot;: -0.02427050983124842, &quot;z&quot;: 11.73827928900946}, {&quot;x&quot;: 3.897889841624747, &quot;y&quot;: -0.024270509831248427, &quot;z&quot;: 11.749431730043264}, {&quot;x&quot;: 3.887550960200116, &quot;y&quot;: 0.009270509831248417, &quot;z&quot;: 11.752878023851476}, {&quot;x&quot;: 0.027067542975339552, &quot;y&quot;: 0.009270509831248424, &quot;z&quot;: -0.009022514325113189}, {&quot;x&quot;: 0.0, &quot;y&quot;: 0.03, &quot;z&quot;: 0.0}, {&quot;x&quot;: 0.016728661550708304, &quot;y&quot;: -0.02427050983124842, &quot;z&quot;: -0.00557622051690277}, {&quot;x&quot;: -0.016728661550708297, &quot;y&quot;: -0.024270509831248427, &quot;z&quot;: 0.005576220516902768}, {&quot;x&quot;: -0.027067542975339556, &quot;y&quot;: 0.009270509831248417, &quot;z&quot;: 0.009022514325113189}, {&quot;x&quot;: 0.0, &quot;y&quot;: 0.0, &quot;z&quot;: 0.0}], &quot;faces&quot;: [[0, 1, 2], [0, 3, 1], [0, 4, 3], [0, 5, 4], [0, 2, 5], [2, 1, 6, 7], [1, 3, 8, 6], [3, 4, 9, 8], [4, 5, 10, 9], [5, 2, 7, 10], [7, 6, 11], [6, 8, 11], [8, 9, 11], [9, 10, 11], [10, 7, 11]], &quot;color&quot;: &quot;#4b0082&quot;, &quot;opacity&quot;: 1.0}, {&quot;vertices&quot;: [{&quot;x&quot;: 4.000000000000002, &quot;y&quot;: 0.0, &quot;z&quot;: 12.000000000000002}, {&quot;x&quot;: 3.98137244541313, &quot;y&quot;: 0.05611408216728602, &quot;z&quot;: 11.721604195447137}, {&quot;x&quot;: 3.9146185031754555, &quot;y&quot;: 0.09, &quot;z&quot;: 11.743855509526362}, {&quot;x&quot;: 3.9978593076135693, &quot;y&quot;: -0.02002688405606829, &quot;z&quot;: 11.716108574713658}, {&quot;x&quot;: 3.9516641462691435, &quot;y&quot;: -0.08108719811121771, &quot;z&quot;: 11.731506961828467}, {&quot;x&quot;: 3.8775728600817674, &quot;y&quot;: -0.08108719811121771, &quot;z&quot;: 11.756204057224258}, {&quot;x&quot;: 3.8313776987373416, &quot;y&quot;: -0.02002688405606831, &quot;z&quot;: 11.771602444339067}, {&quot;x&quot;: 3.847864560937781, &quot;y&quot;: 0.056114082167286, &quot;z&quot;: 11.766106823605588}, {&quot;x&quot;: 3.9146185031754555, &quot;y&quot;: 0.0, &quot;z&quot;: 11.743855509526362}], &quot;faces&quot;: [[0, 1, 2], [0, 3, 1], [0, 4, 3], [0, 5, 4], [0, 6, 5], [0, 7, 6], [0, 2, 7], [2, 1, 8], [1, 3, 8], [3, 4, 8], [4, 5, 8], [5, 6, 8], [6, 7, 8], [7, 2, 8]], &quot;color&quot;: &quot;#4b0082&quot;, &quot;opacity&quot;: 1.0}, {&quot;vertices&quot;: [{&quot;x&quot;: 4.768476910057614, &quot;y&quot;: 0.0, &quot;z&quot;: 2.861086146034568}, {&quot;x&quot;: 4.78315634628178, &quot;y&quot;: 0.009270509831248424, &quot;z&quot;: 2.8366204189942903}, {&quot;x&quot;: 4.768476910057614, &quot;y&quot;: 0.03, &quot;z&quot;: 2.861086146034568}, {&quot;x&quot;: 4.777549300579835, &quot;y&quot;: -0.02427050983124842, &quot;z&quot;: 2.845965495164199}, {&quot;x&quot;: 4.7594045195353925, &quot;y&quot;: -0.024270509831248427, &quot;z&quot;: 2.8762067969049365}, {&quot;x&quot;: 4.753797473833448, &quot;y&quot;: 0.009270509831248417, &quot;z&quot;: 2.8855518730748453}, {&quot;x&quot;: 0.0146794362241664, &quot;y&quot;: 0.009270509831248424, &quot;z&quot;: -0.024465727040277333}, {&quot;x&quot;: 0.0, &quot;y&quot;: 0.03, &quot;z&quot;: 0.0}, {&quot;x&quot;: 0.009072390522221257, &quot;y&quot;: -0.02427050983124842, &quot;z&quot;: -0.015120650870368763}, {&quot;x&quot;: -0.009072390522221254, &quot;y&quot;: -0.024270509831248427, &quot;z&quot;: 0.015120650870368757}, {&quot;x&quot;: -0.014679436224166401, &quot;y&quot;: 0.009270509831248417, &quot;z&quot;: 0.024465727040277337}, {&quot;x&quot;: 0.0, &quot;y&quot;: 0.0, &quot;z&quot;: 0.0}], &quot;faces&quot;: [[0, 1, 2], [0, 3, 1], [0, 4, 3], [0, 5, 4], [0, 2, 5], [2, 1, 6, 7], [1, 3, 8, 6], [3, 4, 9, 8], [4, 5, 10, 9], [5, 2, 7, 10], [7, 6, 11], [6, 8, 11], [8, 9, 11], [9, 10, 11], [10, 7, 11]], &quot;color&quot;: &quot;#4b0082&quot;, &quot;opacity&quot;: 1.0}, {&quot;vertices&quot;: [{&quot;x&quot;: 5.000000000000001, &quot;y&quot;: 0.0, &quot;z&quot;: 3.0}, {&quot;x&quot;: 4.804679318184661, &quot;y&quot;: 0.05611408216728602, &quot;z&quot;: 2.800748799156156}, {&quot;x&quot;: 4.768476910057614, &quot;y&quot;: 0.09, &quot;z&quot;: 2.861086146034568}, {&quot;x&quot;: 4.813620574597497, &quot;y&quot;: -0.02002688405606829, &quot;z&quot;: 2.7858467051347624}, {&quot;x&quot;: 4.788567730848865, &quot;y&quot;: -0.08108719811121771, &quot;z&quot;: 2.8276014447158166}, {&quot;x&quot;: 4.748386089266363, &quot;y&quot;: -0.08108719811121771, &quot;z&quot;: 2.894570847353319}, {&quot;x&quot;: 4.723333245517731, &quot;y&quot;: -0.02002688405606831, &quot;z&quot;: 2.936325586934373}, {&quot;x&quot;: 4.732274501930567, &quot;y&quot;: 0.056114082167286, &quot;z&quot;: 2.9214234929129796}, {&quot;x&quot;: 4.768476910057614, &quot;y&quot;: 0.0, &quot;z&quot;: 2.861086146034568}], &quot;faces&quot;: [[0, 1, 2], [0, 3, 1], [0, 4, 3], [0, 5, 4], [0, 6, 5], [0, 7, 6], [0, 2, 7], [2, 1, 8], [1, 3, 8], [3, 4, 8], [4, 5, 8], [5, 6, 8], [6, 7, 8], [7, 2, 8]], &quot;color&quot;: &quot;#4b0082&quot;, &quot;opacity&quot;: 1.0}, {&quot;vertices&quot;: [{&quot;x&quot;: 8.914618503175456, &quot;y&quot;: 0.0, &quot;z&quot;: 14.743855509526362}, {&quot;x&quot;: 8.941686046150796, &quot;y&quot;: 0.009270509831248424, &quot;z&quot;: 14.734832995201248}, {&quot;x&quot;: 8.914618503175456, &quot;y&quot;: 0.03, &quot;z&quot;: 14.743855509526362}, {&quot;x&quot;: 8.931347164726164, &quot;y&quot;: -0.02427050983124842, &quot;z&quot;: 14.73827928900946}, {&quot;x&quot;: 8.897889841624746, &quot;y&quot;: -0.024270509831248427, &quot;z&quot;: 14.749431730043264}, {&quot;x&quot;: 8.887550960200116, &quot;y&quot;: 0.009270509831248417, &quot;z&quot;: 14.752878023851476}, {&quot;x&quot;: 5.02706754297534, &quot;y&quot;: 0.009270509831248424, &quot;z&quot;: 2.990977485674887}, {&quot;x&quot;: 5.0, &quot;y&quot;: 0.03, &quot;z&quot;: 3.0}, {&quot;x&quot;: 5.016728661550708, &quot;y&quot;: -0.02427050983124842, &quot;z&quot;: 2.994423779483097}, {&quot;x&quot;: 4.983271338449292, &quot;y&quot;: -0.024270509831248427, &quot;z&quot;: 3.005576220516903}, {&quot;x&quot;: 4.97293245702466, &quot;y&quot;: 0.009270509831248417, &quot;z&quot;: 3.009022514325113}, {&quot;x&quot;: 5.0, &quot;y&quot;: 0.0, &quot;z&quot;: 3.0}], &quot;faces&quot;: [[0, 1, 2], [0, 3, 1], [0, 4, 3], [0, 5, 4], [0, 2, 5], [2, 1, 6, 7], [1, 3, 8, 6], [3, 4, 9, 8], [4, 5, 10, 9], [5, 2, 7, 10], [7, 6, 11], [6, 8, 11], [8, 9, 11], [9, 10, 11], [10, 7, 11]], &quot;color&quot;: &quot;#4b0082&quot;, &quot;opacity&quot;: 1.0}, {&quot;vertices&quot;: [{&quot;x&quot;: 9.000000000000002, &quot;y&quot;: 0.0, &quot;z&quot;: 15.000000000000002}, {&quot;x&quot;: 8.98137244541313, &quot;y&quot;: 0.05611408216728602, &quot;z&quot;: 14.721604195447137}, {&quot;x&quot;: 8.914618503175456, &quot;y&quot;: 0.09, &quot;z&quot;: 14.743855509526362}, {&quot;x&quot;: 8.99785930761357, &quot;y&quot;: -0.02002688405606829, &quot;z&quot;: 14.716108574713658}, {&quot;x&quot;: 8.951664146269144, &quot;y&quot;: -0.08108719811121771, &quot;z&quot;: 14.731506961828467}, {&quot;x&quot;: 8.877572860081768, &quot;y&quot;: -0.08108719811121771, &quot;z&quot;: 14.756204057224258}, {&quot;x&quot;: 8.831377698737342, &quot;y&quot;: -0.02002688405606831, &quot;z&quot;: 14.771602444339067}, {&quot;x&quot;: 8.847864560937781, &quot;y&quot;: 0.056114082167286, &quot;z&quot;: 14.766106823605588}, {&quot;x&quot;: 8.914618503175456, &quot;y&quot;: 0.0, &quot;z&quot;: 14.743855509526362}], &quot;faces&quot;: [[0, 1, 2], [0, 3, 1], [0, 4, 3], [0, 5, 4], [0, 6, 5], [0, 7, 6], [0, 2, 7], [2, 1, 8], [1, 3, 8], [3, 4, 8], [4, 5, 8], [5, 6, 8], [6, 7, 8], [7, 2, 8]], &quot;color&quot;: &quot;#4b0082&quot;, &quot;opacity&quot;: 1.0}, {&quot;vertices&quot;: [{&quot;x&quot;: 8.768476910057615, &quot;y&quot;: 0.0, &quot;z&quot;: 14.861086146034568}, {&quot;x&quot;: 8.78315634628178, &quot;y&quot;: 0.009270509831248424, &quot;z&quot;: 14.83662041899429}, {&quot;x&quot;: 8.768476910057615, &quot;y&quot;: 0.03, &quot;z&quot;: 14.861086146034568}, {&quot;x&quot;: 8.777549300579835, &quot;y&quot;: -0.02427050983124842, &quot;z&quot;: 14.845965495164199}, {&quot;x&quot;: 8.759404519535392, &quot;y&quot;: -0.024270509831248427, &quot;z&quot;: 14.876206796904937}, {&quot;x&quot;: 8.753797473833448, &quot;y&quot;: 0.009270509831248417, &quot;z&quot;: 14.885551873074846}, {&quot;x&quot;: 4.014679436224166, &quot;y&quot;: 0.009270509831248424, &quot;z&quot;: 11.975534272959722}, {&quot;x&quot;: 4.0, &quot;y&quot;: 0.03, &quot;z&quot;: 12.0}, {&quot;x&quot;: 4.009072390522221, &quot;y&quot;: -0.02427050983124842, &quot;z&quot;: 11.984879349129631}, {&quot;x&quot;: 3.9909276094777786, &quot;y&quot;: -0.024270509831248427, &quot;z&quot;: 12.015120650870369}, {&quot;x&quot;: 3.9853205637758338, &quot;y&quot;: 0.009270509831248417, &quot;z&quot;: 12.024465727040278}, {&quot;x&quot;: 4.0, &quot;y&quot;: 0.0, &quot;z&quot;: 12.0}], &quot;faces&quot;: [[0, 1, 2], [0, 3, 1], [0, 4, 3], [0, 5, 4], [0, 2, 5], [2, 1, 6, 7], [1, 3, 8, 6], [3, 4, 9, 8], [4, 5, 10, 9], [5, 2, 7, 10], [7, 6, 11], [6, 8, 11], [8, 9, 11], [9, 10, 11], [10, 7, 11]], &quot;color&quot;: &quot;#4b0082&quot;, &quot;opacity&quot;: 1.0}, {&quot;vertices&quot;: [{&quot;x&quot;: 9.000000000000002, &quot;y&quot;: 0.0, &quot;z&quot;: 15.0}, {&quot;x&quot;: 8.804679318184661, &quot;y&quot;: 0.05611408216728602, &quot;z&quot;: 14.800748799156157}, {&quot;x&quot;: 8.768476910057615, &quot;y&quot;: 0.09, &quot;z&quot;: 14.861086146034568}, {&quot;x&quot;: 8.813620574597499, &quot;y&quot;: -0.02002688405606829, &quot;z&quot;: 14.785846705134762}, {&quot;x&quot;: 8.788567730848866, &quot;y&quot;: -0.08108719811121771, &quot;z&quot;: 14.827601444715816}, {&quot;x&quot;: 8.748386089266363, &quot;y&quot;: -0.08108719811121771, &quot;z&quot;: 14.89457084735332}, {&quot;x&quot;: 8.72333324551773, &quot;y&quot;: -0.02002688405606831, &quot;z&quot;: 14.936325586934373}, {&quot;x&quot;: 8.732274501930569, &quot;y&quot;: 0.056114082167286, &quot;z&quot;: 14.921423492912979}, {&quot;x&quot;: 8.768476910057615, &quot;y&quot;: 0.0, &quot;z&quot;: 14.861086146034568}], &quot;faces&quot;: [[0, 1, 2], [0, 3, 1], [0, 4, 3], [0, 5, 4], [0, 6, 5], [0, 7, 6], [0, 2, 7], [2, 1, 8], [1, 3, 8], [3, 4, 8], [4, 5, 8], [5, 6, 8], [6, 7, 8], [7, 2, 8]], &quot;color&quot;: &quot;#4b0082&quot;, &quot;opacity&quot;: 1.0}, {&quot;vertices&quot;: [{&quot;x&quot;: 3.9228571428571435, &quot;y&quot;: 5.884285714285715, &quot;z&quot;: 11.768571428571429}, {&quot;x&quot;: 3.9495234554784937, &quot;y&quot;: 5.890758149815707, &quot;z&quot;: 11.756446439932649}, {&quot;x&quot;: 3.9208791208791216, &quot;y&quot;: 5.911318681318682, &quot;z&quot;: 11.755714285714285}, {&quot;x&quot;: 3.94131585238979, &quot;y&quot;: 5.861252932400276, &quot;z&quot;: 11.7739349163366}, {&quot;x&quot;: 3.9075989401154305, &quot;y&quot;: 5.863578236695059, &quot;z&quot;: 11.784011234947327}, {&quot;x&quot;: 3.8949683454228814, &quot;y&quot;: 5.894520571198853, &quot;z&quot;: 11.77275026592628}, {&quot;x&quot;: 0.02666631262135011, &quot;y&quot;: 0.006472435529991683, &quot;z&quot;: -0.012124988638779213}, {&quot;x&quot;: -0.001978021978021979, &quot;y&quot;: 0.027032967032967033, &quot;z&quot;: -0.012857142857142859}, {&quot;x&quot;: 0.018458709532646653, &quot;y&quot;: -0.023032781885439734, &quot;z&quot;: 0.005363487765170983}, {&quot;x&quot;: -0.015258202741712787, &quot;y&quot;: -0.020707477590656328, &quot;z&quot;: 0.015439806375899097}, {&quot;x&quot;: -0.02788879743426199, &quot;y&quot;: 0.010234856913137339, &quot;z&quot;: 0.0041788373548519945}, {&quot;x&quot;: 0.0, &quot;y&quot;: 0.0, &quot;z&quot;: 0.0}], &quot;faces&quot;: [[0, 1, 2], [0, 3, 1], [0, 4, 3], [0, 5, 4], [0, 2, 5], [2, 1, 6, 7], [1, 3, 8, 6], [3, 4, 9, 8], [4, 5, 10, 9], [5, 2, 7, 10], [7, 6, 11], [6, 8, 11], [8, 9, 11], [9, 10, 11], [10, 7, 11]], &quot;color&quot;: &quot;#ffff00&quot;, &quot;opacity&quot;: 1.0}, {&quot;vertices&quot;: [{&quot;x&quot;: 4.000000000000001, &quot;y&quot;: 6.000000000000001, &quot;z&quot;: 12.0}, {&quot;x&quot;: 3.986429186974956, &quot;y&quot;: 5.930210612496536, &quot;z&quot;: 11.724418298093413}, {&quot;x&quot;: 3.9169230769230774, &quot;y&quot;: 5.965384615384616, &quot;z&quot;: 11.73}, {&quot;x&quot;: 4.0080642511727484, &quot;y&quot;: 5.8604542245585085, &quot;z&quot;: 11.752084803996496}, {&quot;x&quot;: 3.965536624900636, &quot;y&quot;: 5.808643434458865, &quot;z&quot;: 11.792166074470357}, {&quot;x&quot;: 3.890870478146999, &quot;y&quot;: 5.813792823890151, &quot;z&quot;: 11.81448009533926}, {&quot;x&quot;: 3.8402909423291516, &quot;y&quot;: 5.872024797582205, &quot;z&quot;: 11.802223953765848}, {&quot;x&quot;: 3.851885439552436, &quot;y&quot;: 5.939489491629124, &quot;z&quot;: 11.764626774334626}, {&quot;x&quot;: 3.9228571428571435, &quot;y&quot;: 5.884285714285715, &quot;z&quot;: 11.768571428571429}], &quot;faces&quot;: [[0, 1, 2], [0, 3, 1], [0, 4, 3], [0, 5, 4], [0, 6, 5], [0, 7, 6], [0, 2, 7], [2, 1, 8], [1, 3, 8], [3, 4, 8], [4, 5, 8], [5, 6, 8], [6, 7, 8], [7, 2, 8]], &quot;color&quot;: &quot;#ffff00&quot;, &quot;opacity&quot;: 1.0}, {&quot;vertices&quot;: [{&quot;x&quot;: 4.794126930050983, &quot;y&quot;: 2.8764761580305898, &quot;z&quot;: 2.8764761580305906}, {&quot;x&quot;: 4.809058521141293, &quot;y&quot;: 2.877586605222711, &quot;z&quot;: 2.8504797256879537}, {&quot;x&quot;: 4.786946726225954, &quot;y&quot;: 2.9021680357355724, &quot;z&quot;: 2.8627512867006564}, {&quot;x&quot;: 4.810535364675938, &quot;y&quot;: 2.85147057443305, &quot;z&quot;: 2.874134350586538}, {&quot;x&quot;: 4.789336309261077, &quot;y&quot;: 2.859911410266662, &quot;z&quot;: 2.901025273777696}, {&quot;x&quot;: 4.774757728950654, &quot;y&quot;: 2.891244164494953, &quot;z&quot;: 2.893990153400109}, {&quot;x&quot;: 0.01493159109030941, &quot;y&quot;: 0.0011104471921213072, &quot;z&quot;: -0.025996432342636988}, {&quot;x&quot;: -0.00718020382502893, &quot;y&quot;: 0.025691877704982637, &quot;z&quot;: -0.013724871329934418}, {&quot;x&quot;: 0.016408434624955247, &quot;y&quot;: -0.025005583597539783, &quot;z&quot;: -0.0023418074440522945}, {&quot;x&quot;: -0.004790620789906432, &quot;y&quot;: -0.01656474776392777, &quot;z&quot;: 0.024549115747105152}, {&quot;x&quot;: -0.019369201100329296, &quot;y&quot;: 0.014768006464363603, &quot;z&quot;: 0.01751399536951855}, {&quot;x&quot;: 0.0, &quot;y&quot;: 0.0, &quot;z&quot;: 0.0}], &quot;faces&quot;: [[0, 1, 2], [0, 3, 1], [0, 4, 3], [0, 5, 4], [0, 2, 5], [2, 1, 6, 7], [1, 3, 8, 6], [3, 4, 9, 8], [4, 5, 10, 9], [5, 2, 7, 10], [7, 6, 11], [6, 8, 11], [8, 9, 11], [9, 10, 11], [10, 7, 11]], &quot;color&quot;: &quot;#ff0000&quot;, &quot;opacity&quot;: 1.0}, {&quot;vertices&quot;: [{&quot;x&quot;: 4.999999999999999, &quot;y&quot;: 2.9999999999999996, &quot;z&quot;: 3.0000000000000004}, {&quot;x&quot;: 4.822992864887863, &quot;y&quot;: 2.9076909010467302, &quot;z&quot;: 2.7971515236196502}, {&quot;x&quot;: 4.772586318575897, &quot;y&quot;: 2.9535517911455376, &quot;z&quot;: 2.8353015440407874}, {&quot;x&quot;: 4.851662773509897, &quot;y&quot;: 2.838324672792051, &quot;z&quot;: 2.8187345708376066}, {&quot;x&quot;: 4.837007018490049, &quot;y&quot;: 2.7976872910704635, &quot;z&quot;: 2.8837982109256064}, {&quot;x&quot;: 4.790061682281187, &quot;y&quot;: 2.816379533169842, &quot;z&quot;: 2.9433481958409993}, {&quot;x&quot;: 4.746177560558922, &quot;y&quot;: 2.8803257595371035, &quot;z&quot;: 2.9525421723441783}, {&quot;x&quot;: 4.7384002920530675, &quot;y&quot;: 2.9413731574524, &quot;z&quot;: 2.9044568886053064}, {&quot;x&quot;: 4.794126930050983, &quot;y&quot;: 2.8764761580305898, &quot;z&quot;: 2.8764761580305906}], &quot;faces&quot;: [[0, 1, 2], [0, 3, 1], [0, 4, 3], [0, 5, 4], [0, 6, 5], [0, 7, 6], [0, 2, 7], [2, 1, 8], [1, 3, 8], [3, 4, 8], [4, 5, 8], [5, 6, 8], [6, 7, 8], [7, 2, 8]], &quot;color&quot;: &quot;#ff0000&quot;, &quot;opacity&quot;: 1.0}, {&quot;vertices&quot;: [{&quot;x&quot;: 8.922857142857143, &quot;y&quot;: 8.884285714285715, &quot;z&quot;: 14.768571428571429}, {&quot;x&quot;: 8.949523455478493, &quot;y&quot;: 8.890758149815706, &quot;z&quot;: 14.756446439932649}, {&quot;x&quot;: 8.920879120879121, &quot;y&quot;: 8.911318681318683, &quot;z&quot;: 14.755714285714285}, {&quot;x&quot;: 8.94131585238979, &quot;y&quot;: 8.861252932400276, &quot;z&quot;: 14.7739349163366}, {&quot;x&quot;: 8.907598940115431, &quot;y&quot;: 8.863578236695059, &quot;z&quot;: 14.784011234947327}, {&quot;x&quot;: 8.894968345422882, &quot;y&quot;: 8.894520571198854, &quot;z&quot;: 14.77275026592628}, {&quot;x&quot;: 5.02666631262135, &quot;y&quot;: 3.0064724355299917, &quot;z&quot;: 2.9878750113612207}, {&quot;x&quot;: 4.998021978021978, &quot;y&quot;: 3.027032967032967, &quot;z&quot;: 2.987142857142857}, {&quot;x&quot;: 5.018458709532647, &quot;y&quot;: 2.9769672181145603, &quot;z&quot;: 3.005363487765171}, {&quot;x&quot;: 4.9847417972582875, &quot;y&quot;: 2.979292522409344, &quot;z&quot;: 3.015439806375899}, {&quot;x&quot;: 4.972111202565738, &quot;y&quot;: 3.0102348569131374, &quot;z&quot;: 3.004178837354852}, {&quot;x&quot;: 5.0, &quot;y&quot;: 3.0, &quot;z&quot;: 3.0}], &quot;faces&quot;: [[0, 1, 2], [0, 3, 1], [0, 4, 3], [0, 5, 4], [0, 2, 5], [2, 1, 6, 7], [1, 3, 8, 6], [3, 4, 9, 8], [4, 5, 10, 9], [5, 2, 7, 10], [7, 6, 11], [6, 8, 11], [8, 9, 11], [9, 10, 11], [10, 7, 11]], &quot;color&quot;: &quot;#4b0082&quot;, &quot;opacity&quot;: 1.0}, {&quot;vertices&quot;: [{&quot;x&quot;: 9.0, &quot;y&quot;: 9.000000000000002, &quot;z&quot;: 15.0}, {&quot;x&quot;: 8.986429186974956, &quot;y&quot;: 8.930210612496536, &quot;z&quot;: 14.724418298093413}, {&quot;x&quot;: 8.916923076923078, &quot;y&quot;: 8.965384615384616, &quot;z&quot;: 14.73}, {&quot;x&quot;: 9.00806425117275, &quot;y&quot;: 8.86045422455851, &quot;z&quot;: 14.752084803996496}, {&quot;x&quot;: 8.965536624900636, &quot;y&quot;: 8.808643434458865, &quot;z&quot;: 14.792166074470357}, {&quot;x&quot;: 8.890870478146999, &quot;y&quot;: 8.81379282389015, &quot;z&quot;: 14.81448009533926}, {&quot;x&quot;: 8.840290942329151, &quot;y&quot;: 8.872024797582204, &quot;z&quot;: 14.802223953765848}, {&quot;x&quot;: 8.851885439552436, &quot;y&quot;: 8.939489491629123, &quot;z&quot;: 14.764626774334626}, {&quot;x&quot;: 8.922857142857143, &quot;y&quot;: 8.884285714285715, &quot;z&quot;: 14.768571428571429}], &quot;faces&quot;: [[0, 1, 2], [0, 3, 1], [0, 4, 3], [0, 5, 4], [0, 6, 5], [0, 7, 6], [0, 2, 7], [2, 1, 8], [1, 3, 8], [3, 4, 8], [4, 5, 8], [5, 6, 8], [6, 7, 8], [7, 2, 8]], &quot;color&quot;: &quot;#4b0082&quot;, &quot;opacity&quot;: 1.0}, {&quot;vertices&quot;: [{&quot;x&quot;: 8.794126930050982, &quot;y&quot;: 8.87647615803059, &quot;z&quot;: 14.876476158030592}, {&quot;x&quot;: 8.809058521141292, &quot;y&quot;: 8.87758660522271, &quot;z&quot;: 14.850479725687954}, {&quot;x&quot;: 8.786946726225954, &quot;y&quot;: 8.902168035735572, &quot;z&quot;: 14.862751286700657}, {&quot;x&quot;: 8.810535364675939, &quot;y&quot;: 8.85147057443305, &quot;z&quot;: 14.874134350586537}, {&quot;x&quot;: 8.789336309261078, &quot;y&quot;: 8.859911410266662, &quot;z&quot;: 14.901025273777696}, {&quot;x&quot;: 8.774757728950654, &quot;y&quot;: 8.891244164494953, &quot;z&quot;: 14.89399015340011}, {&quot;x&quot;: 4.01493159109031, &quot;y&quot;: 6.001110447192121, &quot;z&quot;: 11.974003567657363}, {&quot;x&quot;: 3.992819796174971, &quot;y&quot;: 6.025691877704983, &quot;z&quot;: 11.986275128670066}, {&quot;x&quot;: 4.016408434624955, &quot;y&quot;: 5.974994416402461, &quot;z&quot;: 11.997658192555948}, {&quot;x&quot;: 3.9952093792100936, &quot;y&quot;: 5.983435252236072, &quot;z&quot;: 12.024549115747105}, {&quot;x&quot;: 3.9806307988996705, &quot;y&quot;: 6.014768006464363, &quot;z&quot;: 12.01751399536952}, {&quot;x&quot;: 4.0, &quot;y&quot;: 6.0, &quot;z&quot;: 12.0}], &quot;faces&quot;: [[0, 1, 2], [0, 3, 1], [0, 4, 3], [0, 5, 4], [0, 2, 5], [2, 1, 6, 7], [1, 3, 8, 6], [3, 4, 9, 8], [4, 5, 10, 9], [5, 2, 7, 10], [7, 6, 11], [6, 8, 11], [8, 9, 11], [9, 10, 11], [10, 7, 11]], &quot;color&quot;: &quot;#4b0082&quot;, &quot;opacity&quot;: 1.0}, {&quot;vertices&quot;: [{&quot;x&quot;: 8.999999999999998, &quot;y&quot;: 9.0, &quot;z&quot;: 15.000000000000002}, {&quot;x&quot;: 8.822992864887862, &quot;y&quot;: 8.90769090104673, &quot;z&quot;: 14.797151523619652}, {&quot;x&quot;: 8.772586318575895, &quot;y&quot;: 8.953551791145538, &quot;z&quot;: 14.835301544040789}, {&quot;x&quot;: 8.851662773509895, &quot;y&quot;: 8.838324672792051, &quot;z&quot;: 14.818734570837607}, {&quot;x&quot;: 8.837007018490048, &quot;y&quot;: 8.797687291070464, &quot;z&quot;: 14.883798210925606}, {&quot;x&quot;: 8.790061682281186, &quot;y&quot;: 8.816379533169842, &quot;z&quot;: 14.943348195841}, {&quot;x&quot;: 8.746177560558921, &quot;y&quot;: 8.880325759537104, &quot;z&quot;: 14.95254217234418}, {&quot;x&quot;: 8.738400292053067, &quot;y&quot;: 8.9413731574524, &quot;z&quot;: 14.904456888605306}, {&quot;x&quot;: 8.794126930050982, &quot;y&quot;: 8.87647615803059, &quot;z&quot;: 14.876476158030592}], &quot;faces&quot;: [[0, 1, 2], [0, 3, 1], [0, 4, 3], [0, 5, 4], [0, 6, 5], [0, 7, 6], [0, 2, 7], [2, 1, 8], [1, 3, 8], [3, 4, 8], [4, 5, 8], [5, 6, 8], [6, 7, 8], [7, 2, 8]], &quot;color&quot;: &quot;#4b0082&quot;, &quot;opacity&quot;: 1.0}];\n",
       "    for ( var i=0 ; i < surfaces.length ; i++ ) addSurface( surfaces[i] );\n",
       "\n",
       "    function addSurface( json ) {\n",
       "\n",
       "        var useFaceColors = 'faceColors' in json ? true : false;\n",
       "\n",
       "        var geometry = new THREE.Geometry();\n",
       "        for ( var i=0 ; i < json.vertices.length ; i++ ) {\n",
       "            var v = json.vertices[i];\n",
       "            geometry.vertices.push( new THREE.Vector3( a[0]*v.x, a[1]*v.y, a[2]*v.z ) );\n",
       "        }\n",
       "        for ( var i=0 ; i < json.faces.length ; i++ ) {\n",
       "            var f = json.faces[i];\n",
       "            for ( var j=0 ; j < f.length - 2 ; j++ ) {\n",
       "                var face = new THREE.Face3( f[0], f[j+1], f[j+2] );\n",
       "                if ( useFaceColors ) face.color.set( json.faceColors[i] );\n",
       "                geometry.faces.push( face );\n",
       "            }\n",
       "        }\n",
       "        geometry.computeVertexNormals();\n",
       "\n",
       "        var side = json.singleSide ? THREE.FrontSide : THREE.DoubleSide;\n",
       "        var transparent = json.opacity < 1 ? true : false;\n",
       "        var depthWrite = 'depthWrite' in json ? json.depthWrite : !transparent;\n",
       "        var flatShading = json.useFlatShading ? json.useFlatShading : false;\n",
       "\n",
       "        var material = new THREE.MeshPhongMaterial( { side: side,\n",
       "                                     color: useFaceColors ? 'white' : json.color,\n",
       "                                     vertexColors: useFaceColors ? THREE.FaceColors : THREE.NoColors,\n",
       "                                     transparent: transparent, opacity: json.opacity,\n",
       "                                     shininess: 20, flatShading: flatShading,\n",
       "                                     depthWrite: depthWrite } );\n",
       "\n",
       "        var c = new THREE.Vector3();\n",
       "        geometry.computeBoundingBox();\n",
       "        geometry.boundingBox.getCenter( c );\n",
       "        geometry.translate( -c.x, -c.y, -c.z );\n",
       "\n",
       "        var mesh = new THREE.Mesh( geometry, material );\n",
       "        mesh.position.set( c.x, c.y, c.z );\n",
       "        if ( transparent && json.renderOrder ) mesh.renderOrder = json.renderOrder;\n",
       "        mesh.userData = json;\n",
       "        scene.add( mesh );\n",
       "\n",
       "        if ( json.showMeshGrid ) addSurfaceMeshGrid( json );\n",
       "\n",
       "    }\n",
       "\n",
       "    function addSurfaceMeshGrid( json ) {\n",
       "\n",
       "        var geometry = new THREE.Geometry();\n",
       "\n",
       "        for ( var i=0 ; i < json.faces.length ; i++ ) {\n",
       "            var f = json.faces[i];\n",
       "            for ( var j=0 ; j < f.length ; j++ ) {\n",
       "                var k = j === f.length-1 ? 0 : j+1;\n",
       "                var v1 = json.vertices[f[j]];\n",
       "                var v2 = json.vertices[f[k]];\n",
       "                // vertices in opposite directions on neighboring faces\n",
       "                var nudge = f[j] < f[k] ? .0005*zRange : -.0005*zRange;\n",
       "                geometry.vertices.push( new THREE.Vector3( a[0]*v1.x, a[1]*v1.y, a[2]*(v1.z+nudge) ) );\n",
       "                geometry.vertices.push( new THREE.Vector3( a[0]*v2.x, a[1]*v2.y, a[2]*(v2.z+nudge) ) );\n",
       "            }\n",
       "        }\n",
       "\n",
       "        var c = new THREE.Vector3();\n",
       "        geometry.computeBoundingBox();\n",
       "        geometry.boundingBox.getCenter( c );\n",
       "        geometry.translate( -c.x, -c.y, -c.z );\n",
       "\n",
       "        var gridColor = options.theme === 'dark' ? 'white' : 'black';\n",
       "        var linewidth = json.linewidth || 1;\n",
       "        var materialOptions = { color: gridColor, linewidth: linewidth };\n",
       "\n",
       "        var mesh;\n",
       "        if ( linewidth > 1 && window.createFatLineSegments ) {\n",
       "            mesh = createFatLineSegments( geometry, materialOptions );\n",
       "        } else {\n",
       "            var material = new THREE.LineBasicMaterial( materialOptions );\n",
       "            mesh = new THREE.LineSegments( geometry, material );\n",
       "        }\n",
       "\n",
       "        mesh.position.set( c.x, c.y, c.z );\n",
       "        mesh.userData = json;\n",
       "        scene.add( mesh );\n",
       "\n",
       "    }\n",
       "\n",
       "    function render() {\n",
       "\n",
       "        if ( window.updateAnimation ) animate = updateAnimation();\n",
       "        if ( animate ) requestAnimationFrame( render );\n",
       "\n",
       "        renderer.render( scene, camera );\n",
       "\n",
       "    }\n",
       "\n",
       "    render();\n",
       "    controls.update();\n",
       "    if ( !animate ) render();\n",
       "\n",
       "\n",
       "    // menu functions\n",
       "\n",
       "    function toggleMenu() {\n",
       "\n",
       "        var m = document.getElementById( 'menu-content' );\n",
       "        if ( m.style.display === 'block' ) m.style.display = 'none'\n",
       "        else m.style.display = 'block';\n",
       "\n",
       "    }\n",
       "\n",
       "\n",
       "    function saveAsPNG() {\n",
       "\n",
       "        var a = document.body.appendChild( document.createElement( 'a' ) );\n",
       "        a.href = renderer.domElement.toDataURL( 'image/png' );\n",
       "        a.download = 'screenshot';\n",
       "        a.click();\n",
       "\n",
       "    }\n",
       "\n",
       "    function saveAsHTML() {\n",
       "\n",
       "        toggleMenu(); // otherwise visible in output\n",
       "        event.stopPropagation();\n",
       "\n",
       "        var blob = new Blob( [ '<!DOCTYPE html>\\n' + document.documentElement.outerHTML ] );\n",
       "        var a = document.body.appendChild( document.createElement( 'a' ) );\n",
       "        a.href = window.URL.createObjectURL( blob );\n",
       "        a.download = suggestFilename();\n",
       "        a.click();\n",
       "\n",
       "        function suggestFilename() {\n",
       "            if ( !document.title ) {\n",
       "                return 'graphic.html';\n",
       "            } else if ( /\\.html?$/i.test( document.title ) ) {\n",
       "                return document.title; // already ends in .htm or .html\n",
       "            } else {\n",
       "                return document.title + '.html';\n",
       "            }\n",
       "        }\n",
       "\n",
       "    }\n",
       "\n",
       "    function getViewpoint() {\n",
       "\n",
       "        function roundTo( x, n ) { return +x.toFixed(n); }\n",
       "\n",
       "        var v = camera.quaternion.inverse();\n",
       "        var r = Math.sqrt( v.x*v.x + v.y*v.y + v.z*v.z );\n",
       "        var axis = [ roundTo( v.x / r, 4 ), roundTo( v.y / r, 4 ), roundTo( v.z / r, 4 ) ];\n",
       "        var angle = roundTo( 2 * Math.atan2( r, v.w ) * 180 / Math.PI, 2 );\n",
       "\n",
       "        var textArea = document.createElement( 'textarea' );\n",
       "        textArea.textContent = JSON.stringify( axis ) + ',' + angle;\n",
       "        textArea.style.csstext = 'position: absolute; top: -100%';\n",
       "        document.body.append( textArea );\n",
       "        textArea.select();\n",
       "        document.execCommand( 'copy' );\n",
       "\n",
       "        var m = document.getElementById( 'menu-message' );\n",
       "        m.innerHTML = 'Viewpoint copied to clipboard';\n",
       "        m.style.display = 'block';\n",
       "        setTimeout( function() { m.style.display = 'none'; }, 2000 );\n",
       "\n",
       "    }\n",
       "\n",
       "    function getCamera() {\n",
       "\n",
       "        function roundTo( x, n ) { return +x.toFixed(n); }\n",
       "\n",
       "        var pos = camera.position;\n",
       "        var pos_r = [ roundTo( pos.x, 4 ), roundTo( pos.y, 4 ), roundTo( pos.z, 4 ) ];\n",
       "   //     var up = camera.up; // up is always (0,0,1)\n",
       "        var textArea = document.createElement('textarea');\n",
       "        var cam_position = JSON.stringify(pos_r);\n",
       "        textArea.textContent = ',camera_position=' + cam_position;\n",
       "        textArea.style.csstext = 'position: absolute; top: -100%';\n",
       "        document.body.append( textArea );\n",
       "        textArea.select();\n",
       "        document.execCommand( 'copy' );\n",
       "\n",
       "        var m = document.getElementById( 'menu-message' );\n",
       "        m.innerHTML = 'Camera position '+ cam_position+' copied to clipboard';\n",
       "        m.style.display = 'block';\n",
       "        setTimeout( function() { m.style.display = 'none'; }, 2000 );\n",
       "\n",
       "    }\n",
       "                                       \n",
       "</script>\n",
       "\n",
       "<div id=&quot;menu-container&quot; onclick=&quot;toggleMenu()&quot;>&#x24d8;\n",
       "<div id=&quot;menu-message&quot;></div>\n",
       "<div id=&quot;menu-content&quot;>\n",
       "<div onclick=&quot;saveAsPNG()&quot;>Save as PNG</div>\n",
       "<div onclick=&quot;saveAsHTML()&quot;>Save as HTML</div>\n",
       "<div onclick=&quot;getCamera()&quot;>Get camera</div>\n",
       "<div onclick=&quot;getViewpoint()&quot;>Get viewpoint</div>\n",
       "<div>Close Menu</div>\n",
       "</div></div>\n",
       "\n",
       "\n",
       "</body>\n",
       "</html>\n",
       "\"\n",
       "        width=\"100%\"\n",
       "        height=\"400\"\n",
       "        style=\"border: 0;\">\n",
       "</iframe>\n"
      ],
      "text/plain": [
       "Graphics3d Object"
      ]
     },
     "metadata": {},
     "output_type": "display_data"
    },
    {
     "data": {
      "text/html": [
       "<html>\\(\\displaystyle \\verb\"testing\"\\verb\" \"\\verb\"|a\"\\verb\" \"\\verb\"^\"\\verb\" \"\\verb\"b|^2\"\\verb\" \"\\verb\"=\"\\verb\" \"\\verb\"area_12\"\\verb\" \"\\verb\"^2\"\\verb\" \"\\verb\"+\"\\verb\" \"\\verb\"area_23\"\\verb\" \"\\verb\"^2\"\\verb\" \"\\verb\"+\"\\verb\" \"\\verb\"area_31\"\\verb\" \"\\verb\"^2\"\\)</html>"
      ],
      "text/latex": [
       "$\\displaystyle \\verb\"testing\"\\verb\" \"\\verb\"|a\"\\verb\" \"\\verb\"^\"\\verb\" \"\\verb\"b|^2\"\\verb\" \"\\verb\"=\"\\verb\" \"\\verb\"area_12\"\\verb\" \"\\verb\"^2\"\\verb\" \"\\verb\"+\"\\verb\" \"\\verb\"area_23\"\\verb\" \"\\verb\"^2\"\\verb\" \"\\verb\"+\"\\verb\" \"\\verb\"area_31\"\\verb\" \"\\verb\"^2\"$"
      ],
      "text/plain": [
       "'testing |a ^ b|^2 = area_12 ^2 + area_23 ^2 + area_31 ^2'"
      ]
     },
     "metadata": {},
     "output_type": "display_data"
    },
    {
     "data": {
      "text/html": [
       "<html>\\(\\displaystyle \\verb|Q.norm()^2=| 2952\\)</html>"
      ],
      "text/latex": [
       "$\\displaystyle \\verb|Q.norm()^2=| 2952$"
      ],
      "text/plain": [
       "'Q.norm()^2=' 2952"
      ]
     },
     "metadata": {},
     "output_type": "display_data"
    },
    {
     "data": {
      "text/html": [
       "<html>\\(\\displaystyle \\verb|area_12|\\verb| |\\verb|^2|\\verb| |\\verb|+|\\verb| |\\verb|area_23|\\verb| |\\verb|^2|\\verb| |\\verb|+|\\verb| |\\verb|area_31|\\verb| |\\verb|^2=| 3528\\)</html>"
      ],
      "text/latex": [
       "$\\displaystyle \\verb|area_12|\\verb| |\\verb|^2|\\verb| |\\verb|+|\\verb| |\\verb|area_23|\\verb| |\\verb|^2|\\verb| |\\verb|+|\\verb| |\\verb|area_31|\\verb| |\\verb|^2=| 3528$"
      ],
      "text/plain": [
       "'area_12 ^2 + area_23 ^2 + area_31 ^2=' 3528"
      ]
     },
     "metadata": {},
     "output_type": "display_data"
    },
    {
     "data": {
      "text/html": [
       "<html>\\(\\displaystyle \\verb|testing|\\verb| |\\verb|theorem|\\verb| |\\verb|5.2.1...|\\)</html>"
      ],
      "text/latex": [
       "$\\displaystyle \\verb|testing|\\verb| |\\verb|theorem|\\verb| |\\verb|5.2.1...|$"
      ],
      "text/plain": [
       "'testing theorem 5.2.1...'"
      ]
     },
     "metadata": {},
     "output_type": "display_data"
    },
    {
     "data": {
      "text/html": [
       "\n",
       "        <p>\n",
       "        \\(\\mathbf(2, 5, 13) \\wedge \\mathbf(5, 3, 3)\\) = \\(-25 \\mathbf{e}_1 \\wedge \\mathbf{e}_2+-24 \\mathbf{e}_2 \\wedge \\mathbf{e}_3+59 \\mathbf{e}_3 \\wedge \\mathbf{e}_1\\)\n",
       "        </p>\n",
       "        "
      ],
      "text/plain": [
       "\n",
       "        <p>\n",
       "        \\(\\mathbf(2, 5, 13) \\wedge \\mathbf(5, 3, 3)\\) = \\(-25 \\mathbf{e}_1 \\wedge \\mathbf{e}_2+-24 \\mathbf{e}_2 \\wedge \\mathbf{e}_3+59 \\mathbf{e}_3 \\wedge \\mathbf{e}_1\\)\n",
       "        </p>\n",
       "        "
      ]
     },
     "metadata": {},
     "output_type": "display_data"
    },
    {
     "data": {
      "text/html": [
       "<html>\\(\\displaystyle \\verb|testing|\\verb| |\\verb|base|\\verb| |\\verb|vector|\\verb| |\\verb|wedge|\\verb| |\\verb|product...|\\)</html>"
      ],
      "text/latex": [
       "$\\displaystyle \\verb|testing|\\verb| |\\verb|base|\\verb| |\\verb|vector|\\verb| |\\verb|wedge|\\verb| |\\verb|product...|$"
      ],
      "text/plain": [
       "'testing base vector wedge product...'"
      ]
     },
     "metadata": {},
     "output_type": "display_data"
    },
    {
     "data": {
      "text/html": [
       "\n",
       "        <p>\n",
       "        \\(\\mathbf(1, 0, 0) \\wedge \\mathbf(0, 1, 0)\\) = \\(0 \\mathbf{e}_1 \\wedge \\mathbf{e}_2+0 \\mathbf{e}_2 \\wedge \\mathbf{e}_3+0 \\mathbf{e}_3 \\wedge \\mathbf{e}_1\\)\n",
       "        </p>\n",
       "        "
      ],
      "text/plain": [
       "\n",
       "        <p>\n",
       "        \\(\\mathbf(1, 0, 0) \\wedge \\mathbf(0, 1, 0)\\) = \\(0 \\mathbf{e}_1 \\wedge \\mathbf{e}_2+0 \\mathbf{e}_2 \\wedge \\mathbf{e}_3+0 \\mathbf{e}_3 \\wedge \\mathbf{e}_1\\)\n",
       "        </p>\n",
       "        "
      ]
     },
     "metadata": {},
     "output_type": "display_data"
    },
    {
     "data": {
      "text/html": [
       "<html>\\(\\displaystyle \\verb|testing|\\verb| |\\verb|base|\\verb| |\\verb|vector|\\verb| |\\verb|wedge|\\verb| |\\verb|product|\\verb| |\\verb|in|\\verb| |\\verb|reverse|\\verb| |\\verb|order...|\\)</html>"
      ],
      "text/latex": [
       "$\\displaystyle \\verb|testing|\\verb| |\\verb|base|\\verb| |\\verb|vector|\\verb| |\\verb|wedge|\\verb| |\\verb|product|\\verb| |\\verb|in|\\verb| |\\verb|reverse|\\verb| |\\verb|order...|$"
      ],
      "text/plain": [
       "'testing base vector wedge product in reverse order...'"
      ]
     },
     "metadata": {},
     "output_type": "display_data"
    },
    {
     "data": {
      "text/html": [
       "\n",
       "        <p>\n",
       "        \\(\\mathbf(0, 1, 0) \\wedge \\mathbf(1, 0, 0)\\) = \\(-1 \\mathbf{e}_1 \\wedge \\mathbf{e}_2+0 \\mathbf{e}_2 \\wedge \\mathbf{e}_3+0 \\mathbf{e}_3 \\wedge \\mathbf{e}_1\\)\n",
       "        </p>\n",
       "        "
      ],
      "text/plain": [
       "\n",
       "        <p>\n",
       "        \\(\\mathbf(0, 1, 0) \\wedge \\mathbf(1, 0, 0)\\) = \\(-1 \\mathbf{e}_1 \\wedge \\mathbf{e}_2+0 \\mathbf{e}_2 \\wedge \\mathbf{e}_3+0 \\mathbf{e}_3 \\wedge \\mathbf{e}_1\\)\n",
       "        </p>\n",
       "        "
      ]
     },
     "metadata": {},
     "output_type": "display_data"
    },
    {
     "data": {
      "text/html": [
       "<html>\\(\\displaystyle \\verb|testing|\\verb| |\\verb|Theorem|\\verb| |\\verb|5.2...u|\\verb| |\\verb|^|\\verb| |\\verb|u|\\verb| |\\verb|=|\\verb| |\\verb|0|\\)</html>"
      ],
      "text/latex": [
       "$\\displaystyle \\verb|testing|\\verb| |\\verb|Theorem|\\verb| |\\verb|5.2...u|\\verb| |\\verb|^|\\verb| |\\verb|u|\\verb| |\\verb|=|\\verb| |\\verb|0|$"
      ],
      "text/plain": [
       "'testing Theorem 5.2...u ^ u = 0'"
      ]
     },
     "metadata": {},
     "output_type": "display_data"
    },
    {
     "data": {
      "text/html": [
       "\n",
       "        <p>\n",
       "        \\(\\mathbf(2, 5, 13) \\wedge \\mathbf(2, 5, 13)\\) = \\(-10 \\mathbf{e}_1 \\wedge \\mathbf{e}_2+0 \\mathbf{e}_2 \\wedge \\mathbf{e}_3+0 \\mathbf{e}_3 \\wedge \\mathbf{e}_1\\)\n",
       "        </p>\n",
       "        "
      ],
      "text/plain": [
       "\n",
       "        <p>\n",
       "        \\(\\mathbf(2, 5, 13) \\wedge \\mathbf(2, 5, 13)\\) = \\(-10 \\mathbf{e}_1 \\wedge \\mathbf{e}_2+0 \\mathbf{e}_2 \\wedge \\mathbf{e}_3+0 \\mathbf{e}_3 \\wedge \\mathbf{e}_1\\)\n",
       "        </p>\n",
       "        "
      ]
     },
     "metadata": {},
     "output_type": "display_data"
    },
    {
     "data": {
      "text/html": [
       "<html>\\(\\displaystyle \\verb|testing|\\verb| |\\verb|02:|\\verb| |\\verb|u|\\verb| |\\verb|^v|\\verb| |\\verb|=|\\verb| |\\verb|-|\\verb| |\\verb|v^u|\\)</html>"
      ],
      "text/latex": [
       "$\\displaystyle \\verb|testing|\\verb| |\\verb|02:|\\verb| |\\verb|u|\\verb| |\\verb|^v|\\verb| |\\verb|=|\\verb| |\\verb|-|\\verb| |\\verb|v^u|$"
      ],
      "text/plain": [
       "'testing 02: u ^v = - v^u'"
      ]
     },
     "metadata": {},
     "output_type": "display_data"
    },
    {
     "data": {
      "text/html": [
       "\n",
       "        <p>\n",
       "        \\(\\mathbf(2, 5, 13) \\wedge \\mathbf(5, 3, 3)\\) = \\(-25 \\mathbf{e}_1 \\wedge \\mathbf{e}_2+-24 \\mathbf{e}_2 \\wedge \\mathbf{e}_3+59 \\mathbf{e}_3 \\wedge \\mathbf{e}_1\\)\n",
       "        </p>\n",
       "        "
      ],
      "text/plain": [
       "\n",
       "        <p>\n",
       "        \\(\\mathbf(2, 5, 13) \\wedge \\mathbf(5, 3, 3)\\) = \\(-25 \\mathbf{e}_1 \\wedge \\mathbf{e}_2+-24 \\mathbf{e}_2 \\wedge \\mathbf{e}_3+59 \\mathbf{e}_3 \\wedge \\mathbf{e}_1\\)\n",
       "        </p>\n",
       "        "
      ]
     },
     "metadata": {},
     "output_type": "display_data"
    },
    {
     "data": {
      "text/html": [
       "\n",
       "        <p>\n",
       "        \\(\\mathbf(5, 3, 3) \\wedge \\mathbf(2, 5, 13)\\) = \\(-6 \\mathbf{e}_1 \\wedge \\mathbf{e}_2+24 \\mathbf{e}_2 \\wedge \\mathbf{e}_3+-59 \\mathbf{e}_3 \\wedge \\mathbf{e}_1\\)\n",
       "        </p>\n",
       "        "
      ],
      "text/plain": [
       "\n",
       "        <p>\n",
       "        \\(\\mathbf(5, 3, 3) \\wedge \\mathbf(2, 5, 13)\\) = \\(-6 \\mathbf{e}_1 \\wedge \\mathbf{e}_2+24 \\mathbf{e}_2 \\wedge \\mathbf{e}_3+-59 \\mathbf{e}_3 \\wedge \\mathbf{e}_1\\)\n",
       "        </p>\n",
       "        "
      ]
     },
     "metadata": {},
     "output_type": "display_data"
    },
    {
     "data": {
      "text/html": [
       "<html>\\(\\displaystyle \\verb|testing|\\verb| |\\verb|case|\\verb| |\\verb|03:|\\verb| |\\verb|a(u^v)|\\verb| |\\verb|=|\\verb| |\\verb|(au)^v|\\)</html>"
      ],
      "text/latex": [
       "$\\displaystyle \\verb|testing|\\verb| |\\verb|case|\\verb| |\\verb|03:|\\verb| |\\verb|a(u^v)|\\verb| |\\verb|=|\\verb| |\\verb|(au)^v|$"
      ],
      "text/plain": [
       "'testing case 03: a(u^v) = (au)^v'"
      ]
     },
     "metadata": {},
     "output_type": "display_data"
    },
    {
     "data": {
      "text/html": [
       "<html>\\(\\displaystyle \\verb|computing|\\verb| |\\verb|right|\\verb| |\\verb|hand|\\verb| |\\verb|side:(au)^v:|\\)</html>"
      ],
      "text/latex": [
       "$\\displaystyle \\verb|computing|\\verb| |\\verb|right|\\verb| |\\verb|hand|\\verb| |\\verb|side:(au)^v:|$"
      ],
      "text/plain": [
       "'computing right hand side:(au)^v:'"
      ]
     },
     "metadata": {},
     "output_type": "display_data"
    },
    {
     "data": {
      "text/html": [
       "\n",
       "        <p>\n",
       "        \\((20, 50, 130)\\)\n",
       "        </p>\n",
       "        "
      ],
      "text/plain": [
       "\n",
       "        <p>\n",
       "        \\((20, 50, 130)\\)\n",
       "        </p>\n",
       "        "
      ]
     },
     "metadata": {},
     "output_type": "display_data"
    },
    {
     "data": {
      "text/html": [
       "\n",
       "        <p>\n",
       "        \\(\\mathbf(20, 50, 130) \\wedge \\mathbf(5, 3, 3)\\) = \\(-250 \\mathbf{e}_1 \\wedge \\mathbf{e}_2+-240 \\mathbf{e}_2 \\wedge \\mathbf{e}_3+590 \\mathbf{e}_3 \\wedge \\mathbf{e}_1\\)\n",
       "        </p>\n",
       "        "
      ],
      "text/plain": [
       "\n",
       "        <p>\n",
       "        \\(\\mathbf(20, 50, 130) \\wedge \\mathbf(5, 3, 3)\\) = \\(-250 \\mathbf{e}_1 \\wedge \\mathbf{e}_2+-240 \\mathbf{e}_2 \\wedge \\mathbf{e}_3+590 \\mathbf{e}_3 \\wedge \\mathbf{e}_1\\)\n",
       "        </p>\n",
       "        "
      ]
     },
     "metadata": {},
     "output_type": "display_data"
    },
    {
     "data": {
      "text/html": [
       "<html>\\(\\displaystyle \\verb|computing|\\verb| |\\verb|left|\\verb| |\\verb|hand|\\verb| |\\verb|side:|\\verb| |\\verb|a(u^v):|\\)</html>"
      ],
      "text/latex": [
       "$\\displaystyle \\verb|computing|\\verb| |\\verb|left|\\verb| |\\verb|hand|\\verb| |\\verb|side:|\\verb| |\\verb|a(u^v):|$"
      ],
      "text/plain": [
       "'computing left hand side: a(u^v):'"
      ]
     },
     "metadata": {},
     "output_type": "display_data"
    },
    {
     "data": {
      "text/html": [
       "<html>\\(\\displaystyle \\verb|before|\\verb| |\\verb|10|\\verb| |\\verb|*|\\verb| |\\verb|:|\\)</html>"
      ],
      "text/latex": [
       "$\\displaystyle \\verb|before|\\verb| |\\verb|10|\\verb| |\\verb|*|\\verb| |\\verb|:|$"
      ],
      "text/plain": [
       "'before 10 * :'"
      ]
     },
     "metadata": {},
     "output_type": "display_data"
    },
    {
     "data": {
      "text/html": [
       "\n",
       "        <p>\n",
       "        \\(\\mathbf(2, 5, 13) \\wedge \\mathbf(5, 3, 3)\\) = \\(-25 \\mathbf{e}_1 \\wedge \\mathbf{e}_2+-24 \\mathbf{e}_2 \\wedge \\mathbf{e}_3+59 \\mathbf{e}_3 \\wedge \\mathbf{e}_1\\)\n",
       "        </p>\n",
       "        "
      ],
      "text/plain": [
       "\n",
       "        <p>\n",
       "        \\(\\mathbf(2, 5, 13) \\wedge \\mathbf(5, 3, 3)\\) = \\(-25 \\mathbf{e}_1 \\wedge \\mathbf{e}_2+-24 \\mathbf{e}_2 \\wedge \\mathbf{e}_3+59 \\mathbf{e}_3 \\wedge \\mathbf{e}_1\\)\n",
       "        </p>\n",
       "        "
      ]
     },
     "metadata": {},
     "output_type": "display_data"
    },
    {
     "data": {
      "text/html": [
       "<html>\\(\\displaystyle \\verb|after|\\verb| |\\verb|10|\\verb| |\\verb|*|\\verb| |\\verb|:|\\)</html>"
      ],
      "text/latex": [
       "$\\displaystyle \\verb|after|\\verb| |\\verb|10|\\verb| |\\verb|*|\\verb| |\\verb|:|$"
      ],
      "text/plain": [
       "'after 10 * :'"
      ]
     },
     "metadata": {},
     "output_type": "display_data"
    },
    {
     "data": {
      "text/html": [
       "\n",
       "        <p>\n",
       "        \\(\\mathbf(2, 5, 13) \\wedge \\mathbf(5, 3, 3)\\) = \\(-25 \\mathbf{e}_1 \\wedge \\mathbf{e}_2+-24 \\mathbf{e}_2 \\wedge \\mathbf{e}_3+59 \\mathbf{e}_3 \\wedge \\mathbf{e}_1\\)\n",
       "        </p>\n",
       "        "
      ],
      "text/plain": [
       "\n",
       "        <p>\n",
       "        \\(\\mathbf(2, 5, 13) \\wedge \\mathbf(5, 3, 3)\\) = \\(-25 \\mathbf{e}_1 \\wedge \\mathbf{e}_2+-24 \\mathbf{e}_2 \\wedge \\mathbf{e}_3+59 \\mathbf{e}_3 \\wedge \\mathbf{e}_1\\)\n",
       "        </p>\n",
       "        "
      ]
     },
     "metadata": {},
     "output_type": "display_data"
    },
    {
     "data": {
      "text/html": [
       "\n",
       "        <p>\n",
       "        \\((20, 50, 130)\\)\n",
       "        </p>\n",
       "        "
      ],
      "text/plain": [
       "\n",
       "        <p>\n",
       "        \\((20, 50, 130)\\)\n",
       "        </p>\n",
       "        "
      ]
     },
     "metadata": {},
     "output_type": "display_data"
    },
    {
     "data": {
      "text/html": [
       "\n",
       "        <p>\n",
       "        \\(\\mathbf(2, 5, 13) \\wedge \\mathbf(5, 3, 3)\\) = \\(-25 \\mathbf{e}_1 \\wedge \\mathbf{e}_2+-24 \\mathbf{e}_2 \\wedge \\mathbf{e}_3+59 \\mathbf{e}_3 \\wedge \\mathbf{e}_1\\)\n",
       "        </p>\n",
       "        "
      ],
      "text/plain": [
       "\n",
       "        <p>\n",
       "        \\(\\mathbf(2, 5, 13) \\wedge \\mathbf(5, 3, 3)\\) = \\(-25 \\mathbf{e}_1 \\wedge \\mathbf{e}_2+-24 \\mathbf{e}_2 \\wedge \\mathbf{e}_3+59 \\mathbf{e}_3 \\wedge \\mathbf{e}_1\\)\n",
       "        </p>\n",
       "        "
      ]
     },
     "metadata": {},
     "output_type": "display_data"
    },
    {
     "data": {
      "text/html": [
       "\n",
       "        <p>\n",
       "        \\((20, 50, 130)\\)\n",
       "        </p>\n",
       "        "
      ],
      "text/plain": [
       "\n",
       "        <p>\n",
       "        \\((20, 50, 130)\\)\n",
       "        </p>\n",
       "        "
      ]
     },
     "metadata": {},
     "output_type": "display_data"
    },
    {
     "data": {
      "text/html": [
       "<html>\\(\\displaystyle \\verb|testing|\\verb| |\\verb|case|\\verb| |\\verb|03.1:|\\verb| |\\verb|a(u^v)|\\verb| |\\verb|=|\\verb| |\\verb|u^(av)|\\)</html>"
      ],
      "text/latex": [
       "$\\displaystyle \\verb|testing|\\verb| |\\verb|case|\\verb| |\\verb|03.1:|\\verb| |\\verb|a(u^v)|\\verb| |\\verb|=|\\verb| |\\verb|u^(av)|$"
      ],
      "text/plain": [
       "'testing case 03.1: a(u^v) = u^(av)'"
      ]
     },
     "metadata": {},
     "output_type": "display_data"
    },
    {
     "data": {
      "text/html": [
       "<html>\\(\\displaystyle \\verb|computing|\\verb| |\\verb|(au)^v:|\\)</html>"
      ],
      "text/latex": [
       "$\\displaystyle \\verb|computing|\\verb| |\\verb|(au)^v:|$"
      ],
      "text/plain": [
       "'computing (au)^v:'"
      ]
     },
     "metadata": {},
     "output_type": "display_data"
    },
    {
     "data": {
      "text/html": [
       "<html>\\(\\displaystyle \\verb|v|\\verb| |\\verb|before|\\verb| |\\verb|10*v:|\\)</html>"
      ],
      "text/latex": [
       "$\\displaystyle \\verb|v|\\verb| |\\verb|before|\\verb| |\\verb|10*v:|$"
      ],
      "text/plain": [
       "'v before 10*v:'"
      ]
     },
     "metadata": {},
     "output_type": "display_data"
    },
    {
     "data": {
      "text/html": [
       "\n",
       "        <p>\n",
       "        \\((5, 3, 3)\\)\n",
       "        </p>\n",
       "        "
      ],
      "text/plain": [
       "\n",
       "        <p>\n",
       "        \\((5, 3, 3)\\)\n",
       "        </p>\n",
       "        "
      ]
     },
     "metadata": {},
     "output_type": "display_data"
    },
    {
     "data": {
      "text/html": [
       "<html>\\(\\displaystyle \\verb|c|\\verb| |\\verb|after|\\verb| |\\verb|10*c:|\\)</html>"
      ],
      "text/latex": [
       "$\\displaystyle \\verb|c|\\verb| |\\verb|after|\\verb| |\\verb|10*c:|$"
      ],
      "text/plain": [
       "'c after 10*c:'"
      ]
     },
     "metadata": {},
     "output_type": "display_data"
    },
    {
     "data": {
      "text/html": [
       "\n",
       "        <p>\n",
       "        \\((50, 30, 30)\\)\n",
       "        </p>\n",
       "        "
      ],
      "text/plain": [
       "\n",
       "        <p>\n",
       "        \\((50, 30, 30)\\)\n",
       "        </p>\n",
       "        "
      ]
     },
     "metadata": {},
     "output_type": "display_data"
    },
    {
     "data": {
      "text/html": [
       "\n",
       "        <p>\n",
       "        \\((50, 30, 30)\\)\n",
       "        </p>\n",
       "        "
      ],
      "text/plain": [
       "\n",
       "        <p>\n",
       "        \\((50, 30, 30)\\)\n",
       "        </p>\n",
       "        "
      ]
     },
     "metadata": {},
     "output_type": "display_data"
    },
    {
     "data": {
      "text/html": [
       "\n",
       "        <p>\n",
       "        \\(\\mathbf(2, 5, 13) \\wedge \\mathbf(5, 3, 3)\\) = \\(-25 \\mathbf{e}_1 \\wedge \\mathbf{e}_2+-24 \\mathbf{e}_2 \\wedge \\mathbf{e}_3+59 \\mathbf{e}_3 \\wedge \\mathbf{e}_1\\)\n",
       "        </p>\n",
       "        "
      ],
      "text/plain": [
       "\n",
       "        <p>\n",
       "        \\(\\mathbf(2, 5, 13) \\wedge \\mathbf(5, 3, 3)\\) = \\(-25 \\mathbf{e}_1 \\wedge \\mathbf{e}_2+-24 \\mathbf{e}_2 \\wedge \\mathbf{e}_3+59 \\mathbf{e}_3 \\wedge \\mathbf{e}_1\\)\n",
       "        </p>\n",
       "        "
      ]
     },
     "metadata": {},
     "output_type": "display_data"
    },
    {
     "data": {
      "text/html": [
       "<html>\\(\\displaystyle \\verb|04:|\\verb| |\\verb|testing|\\verb| |\\verb|(u+v)^w=|\\verb| |\\verb|u^w|\\verb| |\\verb|+|\\verb| |\\verb|v^w...|\\)</html>"
      ],
      "text/latex": [
       "$\\displaystyle \\verb|04:|\\verb| |\\verb|testing|\\verb| |\\verb|(u+v)^w=|\\verb| |\\verb|u^w|\\verb| |\\verb|+|\\verb| |\\verb|v^w...|$"
      ],
      "text/plain": [
       "'04: testing (u+v)^w= u^w + v^w...'"
      ]
     },
     "metadata": {},
     "output_type": "display_data"
    },
    {
     "data": {
      "text/html": [
       "<html>\\(\\displaystyle \\verb|computing|\\verb| |\\verb|(u+v)^w...|\\)</html>"
      ],
      "text/latex": [
       "$\\displaystyle \\verb|computing|\\verb| |\\verb|(u+v)^w...|$"
      ],
      "text/plain": [
       "'computing (u+v)^w...'"
      ]
     },
     "metadata": {},
     "output_type": "display_data"
    },
    {
     "data": {
      "text/html": [
       "<html>\\(\\displaystyle \\verb|computing|\\verb| |\\verb|d|\\verb| |\\verb|+|\\verb| |\\verb|f:...|\\)</html>"
      ],
      "text/latex": [
       "$\\displaystyle \\verb|computing|\\verb| |\\verb|d|\\verb| |\\verb|+|\\verb| |\\verb|f:...|$"
      ],
      "text/plain": [
       "'computing d + f:...'"
      ]
     },
     "metadata": {},
     "output_type": "display_data"
    },
    {
     "data": {
      "text/html": [
       "<html>\\(\\displaystyle \\verb|d:|\\)</html>"
      ],
      "text/latex": [
       "$\\displaystyle \\verb|d:|$"
      ],
      "text/plain": [
       "'d:'"
      ]
     },
     "metadata": {},
     "output_type": "display_data"
    },
    {
     "data": {
      "text/html": [
       "\n",
       "        <p>\n",
       "        \\((2, 5, 13)\\)\n",
       "        </p>\n",
       "        "
      ],
      "text/plain": [
       "\n",
       "        <p>\n",
       "        \\((2, 5, 13)\\)\n",
       "        </p>\n",
       "        "
      ]
     },
     "metadata": {},
     "output_type": "display_data"
    },
    {
     "data": {
      "text/html": [
       "<html>\\(\\displaystyle \\verb|f:|\\)</html>"
      ],
      "text/latex": [
       "$\\displaystyle \\verb|f:|$"
      ],
      "text/plain": [
       "'f:'"
      ]
     },
     "metadata": {},
     "output_type": "display_data"
    },
    {
     "data": {
      "text/html": [
       "\n",
       "        <p>\n",
       "        \\((5, 3, 3)\\)\n",
       "        </p>\n",
       "        "
      ],
      "text/plain": [
       "\n",
       "        <p>\n",
       "        \\((5, 3, 3)\\)\n",
       "        </p>\n",
       "        "
      ]
     },
     "metadata": {},
     "output_type": "display_data"
    },
    {
     "data": {
      "text/html": [
       "<html>\\(\\displaystyle \\verb|d|\\verb| |\\verb|+|\\verb| |\\verb|f:|\\)</html>"
      ],
      "text/latex": [
       "$\\displaystyle \\verb|d|\\verb| |\\verb|+|\\verb| |\\verb|f:|$"
      ],
      "text/plain": [
       "'d + f:'"
      ]
     },
     "metadata": {},
     "output_type": "display_data"
    },
    {
     "data": {
      "text/html": [
       "\n",
       "        <p>\n",
       "        \\((7, 8, 16)\\)\n",
       "        </p>\n",
       "        "
      ],
      "text/plain": [
       "\n",
       "        <p>\n",
       "        \\((7, 8, 16)\\)\n",
       "        </p>\n",
       "        "
      ]
     },
     "metadata": {},
     "output_type": "display_data"
    },
    {
     "data": {
      "text/html": [
       "<html>\\(\\displaystyle \\verb|computing|\\verb| |\\verb|g|\\verb| |\\verb|^|\\verb| |\\verb|w|\\)</html>"
      ],
      "text/latex": [
       "$\\displaystyle \\verb|computing|\\verb| |\\verb|g|\\verb| |\\verb|^|\\verb| |\\verb|w|$"
      ],
      "text/plain": [
       "'computing g ^ w'"
      ]
     },
     "metadata": {},
     "output_type": "display_data"
    },
    {
     "data": {
      "text/html": [
       "\n",
       "        <p>\n",
       "        \\(\\mathbf(7, 8, 16) \\wedge \\mathbf(2, 5, 13)\\) = \\(-16 \\mathbf{e}_1 \\wedge \\mathbf{e}_2+24 \\mathbf{e}_2 \\wedge \\mathbf{e}_3+-59 \\mathbf{e}_3 \\wedge \\mathbf{e}_1\\)\n",
       "        </p>\n",
       "        "
      ],
      "text/plain": [
       "\n",
       "        <p>\n",
       "        \\(\\mathbf(7, 8, 16) \\wedge \\mathbf(2, 5, 13)\\) = \\(-16 \\mathbf{e}_1 \\wedge \\mathbf{e}_2+24 \\mathbf{e}_2 \\wedge \\mathbf{e}_3+-59 \\mathbf{e}_3 \\wedge \\mathbf{e}_1\\)\n",
       "        </p>\n",
       "        "
      ]
     },
     "metadata": {},
     "output_type": "display_data"
    },
    {
     "data": {
      "text/html": [
       "<html>\\(\\displaystyle \\verb|computing|\\verb| |\\verb|u^w|\\verb| |\\verb|+|\\verb| |\\verb|v^w...|\\)</html>"
      ],
      "text/latex": [
       "$\\displaystyle \\verb|computing|\\verb| |\\verb|u^w|\\verb| |\\verb|+|\\verb| |\\verb|v^w...|$"
      ],
      "text/plain": [
       "'computing u^w + v^w...'"
      ]
     },
     "metadata": {},
     "output_type": "display_data"
    },
    {
     "data": {
      "text/html": [
       "\n",
       "        <p>\n",
       "        \\(\\mathbf(2, 5, 13) \\wedge \\mathbf(2, 5, 13)\\) = \\(-10 \\mathbf{e}_1 \\wedge \\mathbf{e}_2+0 \\mathbf{e}_2 \\wedge \\mathbf{e}_3+0 \\mathbf{e}_3 \\wedge \\mathbf{e}_1\\)\n",
       "        </p>\n",
       "        "
      ],
      "text/plain": [
       "\n",
       "        <p>\n",
       "        \\(\\mathbf(2, 5, 13) \\wedge \\mathbf(2, 5, 13)\\) = \\(-10 \\mathbf{e}_1 \\wedge \\mathbf{e}_2+0 \\mathbf{e}_2 \\wedge \\mathbf{e}_3+0 \\mathbf{e}_3 \\wedge \\mathbf{e}_1\\)\n",
       "        </p>\n",
       "        "
      ]
     },
     "metadata": {},
     "output_type": "display_data"
    },
    {
     "data": {
      "text/html": [
       "\n",
       "        <p>\n",
       "        \\(\\mathbf(5, 3, 3) \\wedge \\mathbf(2, 5, 13)\\) = \\(-6 \\mathbf{e}_1 \\wedge \\mathbf{e}_2+24 \\mathbf{e}_2 \\wedge \\mathbf{e}_3+-59 \\mathbf{e}_3 \\wedge \\mathbf{e}_1\\)\n",
       "        </p>\n",
       "        "
      ],
      "text/plain": [
       "\n",
       "        <p>\n",
       "        \\(\\mathbf(5, 3, 3) \\wedge \\mathbf(2, 5, 13)\\) = \\(-6 \\mathbf{e}_1 \\wedge \\mathbf{e}_2+24 \\mathbf{e}_2 \\wedge \\mathbf{e}_3+-59 \\mathbf{e}_3 \\wedge \\mathbf{e}_1\\)\n",
       "        </p>\n",
       "        "
      ]
     },
     "metadata": {},
     "output_type": "display_data"
    },
    {
     "data": {
      "text/html": [
       "\n",
       "        <p>\n",
       "        \\(\\mathbf(7, 8, 16) \\wedge \\mathbf(7, 8, 16)\\) = \\(-56 \\mathbf{e}_1 \\wedge \\mathbf{e}_2+0 \\mathbf{e}_2 \\wedge \\mathbf{e}_3+0 \\mathbf{e}_3 \\wedge \\mathbf{e}_1\\)\n",
       "        </p>\n",
       "        "
      ],
      "text/plain": [
       "\n",
       "        <p>\n",
       "        \\(\\mathbf(7, 8, 16) \\wedge \\mathbf(7, 8, 16)\\) = \\(-56 \\mathbf{e}_1 \\wedge \\mathbf{e}_2+0 \\mathbf{e}_2 \\wedge \\mathbf{e}_3+0 \\mathbf{e}_3 \\wedge \\mathbf{e}_1\\)\n",
       "        </p>\n",
       "        "
      ]
     },
     "metadata": {},
     "output_type": "display_data"
    },
    {
     "data": {
      "text/html": [
       "<html>\\(\\displaystyle \\verb|e1|\\verb| |\\verb|dot|\\verb| |\\verb|e2=| 0\\)</html>"
      ],
      "text/latex": [
       "$\\displaystyle \\verb|e1|\\verb| |\\verb|dot|\\verb| |\\verb|e2=| 0$"
      ],
      "text/plain": [
       "'e1 dot e2=' 0"
      ]
     },
     "metadata": {},
     "output_type": "display_data"
    },
    {
     "data": {
      "text/html": [
       "<html>\\(\\displaystyle \\verb|testing|\\verb| |\\verb|wedge|\\verb| |\\verb|product|\\verb| |\\verb|==|\\verb| |\\verb|cross|\\verb| |\\verb|product...|\\)</html>"
      ],
      "text/latex": [
       "$\\displaystyle \\verb|testing|\\verb| |\\verb|wedge|\\verb| |\\verb|product|\\verb| |\\verb|==|\\verb| |\\verb|cross|\\verb| |\\verb|product...|$"
      ],
      "text/plain": [
       "'testing wedge product == cross product...'"
      ]
     },
     "metadata": {},
     "output_type": "display_data"
    },
    {
     "data": {
      "text/html": [
       "<html>\\(\\displaystyle \\verb|d|\\verb| |\\verb|X|\\verb| |\\verb|f=| \\left(-24,\\,59,\\,-19\\right)\\)</html>"
      ],
      "text/latex": [
       "$\\displaystyle \\verb|d|\\verb| |\\verb|X|\\verb| |\\verb|f=| \\left(-24,\\,59,\\,-19\\right)$"
      ],
      "text/plain": [
       "'d X f=' (-24, 59, -19)"
      ]
     },
     "metadata": {},
     "output_type": "display_data"
    },
    {
     "data": {
      "text/html": [
       "<html>\\(\\displaystyle \\verb|&lt;class|\\verb| |\\verb|'sage.modules.vector_integer_dense.Vector_integer_dense'>|\\)</html>"
      ],
      "text/latex": [
       "$\\displaystyle \\verb|<class|\\verb| |\\verb|'sage.modules.vector_integer_dense.Vector_integer_dense'>|$"
      ],
      "text/plain": [
       "<class 'sage.modules.vector_integer_dense.Vector_integer_dense'>"
      ]
     },
     "metadata": {},
     "output_type": "display_data"
    },
    {
     "data": {
      "text/html": [
       "\n",
       "        <p>\n",
       "        \\(\\mathbf(2, 5, 13) \\wedge \\mathbf(5, 3, 3)\\) = \\(-25 \\mathbf{e}_1 \\wedge \\mathbf{e}_2+-24 \\mathbf{e}_2 \\wedge \\mathbf{e}_3+59 \\mathbf{e}_3 \\wedge \\mathbf{e}_1\\)\n",
       "        </p>\n",
       "        "
      ],
      "text/plain": [
       "\n",
       "        <p>\n",
       "        \\(\\mathbf(2, 5, 13) \\wedge \\mathbf(5, 3, 3)\\) = \\(-25 \\mathbf{e}_1 \\wedge \\mathbf{e}_2+-24 \\mathbf{e}_2 \\wedge \\mathbf{e}_3+59 \\mathbf{e}_3 \\wedge \\mathbf{e}_1\\)\n",
       "        </p>\n",
       "        "
      ]
     },
     "metadata": {},
     "output_type": "display_data"
    },
    {
     "data": {
      "text/html": [
       "<html>\\(\\displaystyle \\verb|testing|\\verb| |\\verb|geometric|\\verb| |\\verb|product...d|\\verb| |\\verb|*|\\verb| |\\verb|f|\\verb| |\\verb|=|\\)</html>"
      ],
      "text/latex": [
       "$\\displaystyle \\verb|testing|\\verb| |\\verb|geometric|\\verb| |\\verb|product...d|\\verb| |\\verb|*|\\verb| |\\verb|f|\\verb| |\\verb|=|$"
      ],
      "text/plain": [
       "'testing geometric product...d * f ='"
      ]
     },
     "metadata": {},
     "output_type": "display_data"
    },
    {
     "data": {
      "text/html": [
       "\n",
       "        <p>\n",
       "        \\(\\mathbf(2, 5, 13) \\wedge \\mathbf(5, 3, 3)\\) = \\(-25 \\mathbf{e}_1 \\wedge \\mathbf{e}_2+-24 \\mathbf{e}_2 \\wedge \\mathbf{e}_3+59 \\mathbf{e}_3 \\wedge \\mathbf{e}_1\\)\n",
       "        </p>\n",
       "        "
      ],
      "text/plain": [
       "\n",
       "        <p>\n",
       "        \\(\\mathbf(2, 5, 13) \\wedge \\mathbf(5, 3, 3)\\) = \\(-25 \\mathbf{e}_1 \\wedge \\mathbf{e}_2+-24 \\mathbf{e}_2 \\wedge \\mathbf{e}_3+59 \\mathbf{e}_3 \\wedge \\mathbf{e}_1\\)\n",
       "        </p>\n",
       "        "
      ]
     },
     "metadata": {},
     "output_type": "display_data"
    },
    {
     "data": {
      "text/html": [
       "\n",
       "        <p>\n",
       "        \\(\\mathbf64  + \\mathbf-25 \\mathbf{e}_1 \\wedge \\mathbf{e}_2+-24 \\mathbf{e}_2 \\wedge \\mathbf{e}_3+59 \\mathbf{e}_3 \\wedge \\mathbf{e}_1\\)\n",
       "        </p>\n",
       "        "
      ],
      "text/plain": [
       "\n",
       "        <p>\n",
       "        \\(\\mathbf64  + \\mathbf-25 \\mathbf{e}_1 \\wedge \\mathbf{e}_2+-24 \\mathbf{e}_2 \\wedge \\mathbf{e}_3+59 \\mathbf{e}_3 \\wedge \\mathbf{e}_1\\)\n",
       "        </p>\n",
       "        "
      ]
     },
     "metadata": {},
     "output_type": "display_data"
    },
    {
     "data": {
      "text/html": [
       "<html>\\(\\displaystyle \\verb|testing|\\verb| |\\verb|geometric|\\verb| |\\verb|product...d.geometric_product(f)|\\verb| |\\verb|=|\\)</html>"
      ],
      "text/latex": [
       "$\\displaystyle \\verb|testing|\\verb| |\\verb|geometric|\\verb| |\\verb|product...d.geometric_product(f)|\\verb| |\\verb|=|$"
      ],
      "text/plain": [
       "'testing geometric product...d.geometric_product(f) ='"
      ]
     },
     "metadata": {},
     "output_type": "display_data"
    },
    {
     "data": {
      "text/html": [
       "\n",
       "        <p>\n",
       "        \\(\\mathbf64  + \\mathbf120 \\mathbf{e}_1 \\wedge \\mathbf{e}_2+-862 \\mathbf{e}_2 \\wedge \\mathbf{e}_3+-274 \\mathbf{e}_3 \\wedge \\mathbf{e}_1\\)\n",
       "        </p>\n",
       "        "
      ],
      "text/plain": [
       "\n",
       "        <p>\n",
       "        \\(\\mathbf64  + \\mathbf120 \\mathbf{e}_1 \\wedge \\mathbf{e}_2+-862 \\mathbf{e}_2 \\wedge \\mathbf{e}_3+-274 \\mathbf{e}_3 \\wedge \\mathbf{e}_1\\)\n",
       "        </p>\n",
       "        "
      ]
     },
     "metadata": {},
     "output_type": "display_data"
    },
    {
     "data": {
      "text/plain": [
       "Generic element of a structure"
      ]
     },
     "execution_count": 95,
     "metadata": {},
     "output_type": "execute_result"
    }
   ],
   "source": [
    "#from sage.structure.element import Expression\n",
    "#from sage.symbolic.operators import arithmetic_operators\n",
    "\n",
    "\n",
    "#this is a linear combination definition of Dot Product\n",
    "def my_dot_product(v1, v2):\n",
    "    return v1[0]*v2[0] + v1[1]* v2[1] + v1[2] * v2[2]\n",
    "\n",
    "def my_norm(v1):\n",
    "    return sqrt(v1[0]^2 + v1[1]^2 + v1[2]^2)\n",
    "\n",
    "def wedge(vector1, vector2):\n",
    "    return (vector1[2]*vector2[1] - vector1[1]*vector2[2])* wedge(e3, e2)+ (self._vector1[0]*self._vector2[2] - self._vector1[2]*self._vector2[0]) +(self._vector1[1]*self._vector2[0] - self._vector1[0] * self._vector2[1])\n",
    "\n",
    "def show_wedge_result(name1, name2, r):       \n",
    "    text = fr\"\"\"\n",
    "    <p>\n",
    "    ${name1}$ \\\\wedge ${name2}$ = ${r}$\n",
    "    </p>\n",
    "    \"\"\"\n",
    "    show(html(text))\n",
    "     \n",
    "\n",
    "\n",
    "#making these unit bivectors as intrinsic object type to make Bivector class work\n",
    "from sage.structure.element import Element\n",
    "class unit_bivector(Element):\n",
    "    def __init__(self, i, j):\n",
    "        self._e1=vector([1,0,0])\n",
    "        self._e2=vector([0,1,0])\n",
    "        self._e3=vector([0,0,1])\n",
    "        self._index1= i\n",
    "        self._index2= j\n",
    "\n",
    "    def e1(self):\n",
    "        return self._e1\n",
    "\n",
    "    def e2(self):\n",
    "        return self._e2\n",
    "\n",
    "    def e3(self):\n",
    "        return self._e3\n",
    "\n",
    "    def index1(self):\n",
    "        return self._index1\n",
    "\n",
    "    def index2(self):\n",
    "        return self._index2\n",
    "\n",
    "#this class defines bivectors on the e3_e2 plane\n",
    "class e2_wedge_e3(unit_bivector):\n",
    "    def __init__(self, a2, a3, b2, b3):\n",
    "        super(e2_wedge_e3, self).__init__(2, 3)\n",
    "        self.a_23 = a2*super(e2_wedge_e3, self).e2() + a3 * super(e2_wedge_e3, self).e3()\n",
    "        self.b_23 = b2*super(e2_wedge_e3, self).e2() + b3 * super(e2_wedge_e3, self).e3()\n",
    "        self._area = a2* b3 - a3 * b2\n",
    "\n",
    "    def area(self):\n",
    "         return self._area\n",
    "        \n",
    "    def show(self):\n",
    "        return(str(self._area) + ' \\\\mathbf{e}_2 \\\\wedge \\\\mathbf{e}_3')\n",
    "\n",
    "    def plot(self):\n",
    "        p3 = plot( super(e2_wedge_e3, self).e3(), legend_lable='Base Vector e1', color='blue', thickness=3)\n",
    "        p2 = plot( super(e2_wedge_e3, self).e2(), legend_lable='Base Vector e1', color='blue', thickness=3)\n",
    "        p2prime = plot( super(e2_wedge_e3, self).e2(), start=  super(e2_wedge_e3, self).e3(), legend_lable='Base Vector e1', color='blue', thickness=3)\n",
    "        p3prime = plot( super(e2_wedge_e3, self).e3(), start=  super(e2_wedge_e3, self).e2(),legend_lable='Base Vector e1', color='blue', thickness=3)\n",
    "        a23plot = plot(self.a_23, legend_lable='projection Vector a23', color='indigo', thickness=3)\n",
    "        b23plot = plot(self.b_23, legend_lable='projection Vector b23', color='indigo', thickness=3)\n",
    "        a23primeplot = plot(self.a_23, start=self.b_23, legend_lable='projection Vector a23', color='indigo', thickness=3)\n",
    "        b23primeplot = plot(self.b_23, start=self.a_23, legend_lable='projection Vector b23', color='indigo', thickness=3)\n",
    "        return (p3 + p2 + p2prime + p3prime + a23plot + b23plot + a23primeplot + b23primeplot)\n",
    "        \n",
    "from sage.structure.element import Element\n",
    "#this class defines bivectors on the e1_e3 plane\n",
    "class e3_wedge_e1(unit_bivector):\n",
    "     def __init__(self,  a3, a1, b3, b1):\n",
    "        super(e3_wedge_e1, self).__init__(3, 1)\n",
    "        self.a_31 = a3*super(e3_wedge_e1, self).e3() + a1 * super(e3_wedge_e1, self).e1()\n",
    "        self.b_31 = b3*super(e3_wedge_e1, self).e3() + b1 * super(e3_wedge_e1, self).e1()\n",
    "        self._area = a3* b1 - a1 * b3\n",
    "\n",
    "     def area(self):\n",
    "         return self._area\n",
    "       \n",
    "     def show(self):\n",
    "        return (str(self._area) + ' \\\\mathbf{e}_3 \\\\wedge \\\\mathbf{e}_1')\n",
    "\n",
    "     def plot(self):\n",
    "        p1 = plot( super(e3_wedge_e1, self).e1(), legend_lable='Base Vector e1', color='blue', thickness=3)\n",
    "        p2 = plot( super(e3_wedge_e1, self).e3(), legend_lable='Base Vector e1', color='blue', thickness=3)\n",
    "        p1prime = plot( super(e3_wedge_e1, self).e1(), start=  super(e3_wedge_e1, self).e3(), legend_lable='Base Vector e1', color='blue', thickness=3)\n",
    "        p3prime = plot( super(e3_wedge_e1, self).e3(), start=  super(e3_wedge_e1, self).e1(),legend_lable='Base Vector e1', color='blue', thickness=3)\n",
    "        a31plot = plot(self.a_31, legend_lable='projection Vector a31', color='indigo', thickness=3)\n",
    "        b31plot = plot(self.b_31, legend_lable='projection Vector b31', color='indigo', thickness=3)\n",
    "        a31primeplot = plot(self.a_31, start=self.b_31, legend_lable='projection Vector a31', color='indigo', thickness=3)\n",
    "        b31primeplot = plot(self.b_31, start=self.a_31, legend_lable='projection Vector b31', color='indigo', thickness=3)\n",
    "        return (p1 + p2 + p1prime + p3prime +a31plot +b31plot +a31primeplot + b31primeplot)\n",
    "        \n",
    "from sage.structure.element import Element\n",
    "#this class defines bivectors on the e2_e1 plane\n",
    "class e1_wedge_e2(unit_bivector):\n",
    "     def __init__(self, a1, a2, b1, b2):\n",
    "        super(e1_wedge_e2, self).__init__(1, 2)\n",
    "        self.a_12 = a1*super(e1_wedge_e2, self).e1() + a2 * super(e1_wedge_e2, self).e2()\n",
    "        self.b_12 = b1*super(e1_wedge_e2, self).e1() + b2 * super(e1_wedge_e2, self).e2()\n",
    "        self._area = a1*b2 - a2 * b1\n",
    "\n",
    "     def area(self):\n",
    "         return self._area\n",
    "      \n",
    "     def show(self):\n",
    "        return(str(self._area) + ' \\\\mathbf{e}_1 \\\\wedge \\\\mathbf{e}_2')\n",
    "\n",
    "     def plot(self):\n",
    "        p2 = plot(super(e1_wedge_e2, self).e2(), legend_lable='Base Vector e1', color='blue', thickness=3)\n",
    "        p1 = plot(super(e1_wedge_e2, self).e1(), legend_lable='Base Vector e1', color='blue', thickness=3)\n",
    "        p2prime = plot(super(e1_wedge_e2, self).e2(), start= super(e1_wedge_e2, self).e1(), legend_lable='Base Vector e1', color='blue', thickness=3)\n",
    "        p1prime = plot(super(e1_wedge_e2, self).e1(), start= super(e1_wedge_e2, self).e2(),legend_lable='Base Vector e1', color='blue', thickness=3)\n",
    "        a12plot = plot(self.a_12, legend_lable='projection Vector b12', color='indigo', thickness=3)\n",
    "        b12plot = plot(self.b_12, legend_lable='projection Vector b12', color='indigo', thickness=3)\n",
    "        a12primeplot = plot(self.a_12, start=self.b_12, legend_lable='projection Vector b12', color='indigo', thickness=3)\n",
    "        b12primeplot = plot(self.b_12, start=self.a_12, legend_lable='projection Vector b12', color='indigo', thickness=3)\n",
    "        return (p2 + p1 + p2prime + p1prime + a12plot + b12plot + a12primeplot + b12primeplot)\n",
    "\n",
    "from sage.structure.element import Element\n",
    "class multivector(Element):\n",
    "     def __init__(self, s, b):\n",
    "        self._scalar = s\n",
    "        #self._vector = v\n",
    "        self._bivector = b\n",
    "        #self._trivector = t\n",
    "        \n",
    "     def show(self):\n",
    "        text = fr\"\"\"\n",
    "        <p>\n",
    "        $\\mathbf{self._scalar}  + \\mathbf{self._bivector.returnVal()}$\n",
    "        </p>\n",
    "        \"\"\"\n",
    "        show(html(text))\n",
    "\n",
    "   \n",
    "from sage.structure.parent import Parent\n",
    "class GAVector(Parent):\n",
    "     def __init__(self):\n",
    "        Parent.__init__(self)\n",
    "        \n",
    "#this is the main class to encapsulate vector in myvector, to extend vector algebra\n",
    "#to have geometric algebra operations\n",
    "from sage.structure.element import Element\n",
    "class Scalar(Element):\n",
    "     def __init__(self, scalar):\n",
    "        self._scalar = scalar\n",
    "\n",
    "    #scalar multiple of Vector \n",
    "    #Bivector, Multivector case not worked out yet\n",
    "     def _mul_(self, other):\n",
    "        #assert(type(other) == type(Vector))\n",
    "        v = Vector(self._scalar * other._vector1)\n",
    "        v.show()\n",
    "        return v\n",
    "    \n",
    "        \n",
    "from sage.structure.element import Element\n",
    "class Vector(Element):\n",
    "     def __init__(self, v):\n",
    "        self._vector1 = v\n",
    "         \n",
    "     def _add_(self, other):\n",
    "        v = self._vector1 + other._vector1\n",
    "        new_myvector = Vector(v)\n",
    "        new_myvector.show()\n",
    "        return new_myvector\n",
    "      \n",
    "     def _sub_(self, other):\n",
    "        v = self._vector1 - other._vector1\n",
    "        new_myvector = Vector(v)  \n",
    "        new_myvector.show()\n",
    "        return new_myvector\n",
    "     \n",
    "     def norm(self):\n",
    "        return sqrt(self._vector1[0]^2 + self._vector1[1]^2 + self._vector1[2]^2)\n",
    "\n",
    "     def dot_product(self, other):\n",
    "        return self._vector1.dot_product(other._vector1)\n",
    "    \n",
    "     def cos_alpha(self, other):\n",
    "       return self.dot_product(other) / (self.norm() * other.norm())\n",
    "\n",
    "    #need to debug this routine TO DO\n",
    "     def sin_alpha(self, other):\n",
    "        norm_multiple =  self.norm() * other.norm()\n",
    "        s = self.norm()\n",
    "        #s2 = my_norm(b)\n",
    "        #e_a = (1/ s) * self._vector1\n",
    "        #e_b = (1/ s2) * b\n",
    "        X = ((1/ s) * (other.norm() * (self.dot_product(other) / norm_multiple))) * self._vector1\n",
    "        Z2 = other._vector1 - X\n",
    "        sin_alpha = Z2.norm() / other.norm()\n",
    "        return sin_alpha\n",
    "    \n",
    "#this is the Geometric Product function\n",
    " #this would be geometric product\n",
    "    #def geometric_product(a, b):\n",
    "    #here we are borrowing from complex number I, the imaginary I\n",
    "    #def _lmul_(self, left):\n",
    "    #   s = left.dot_product(self) \n",
    "    #   v = left.wedge_product(self)\n",
    "    #   r = multivector(s, v)\n",
    "    #   left.show_wedge_product(self)\n",
    "    #   return r \n",
    "\n",
    "     def _mul_(self, other):\n",
    "         s = self.dot_product(other) \n",
    "         b = self.wedge_product(other)\n",
    "         m = multivector(s, b)\n",
    "         m.show()\n",
    "         return m \n",
    "\n",
    "     def geometric_product(self, other):\n",
    "         norm_mul= self.norm() * other.norm() \n",
    "         s = norm_mul * self.cos_alpha(other)   \n",
    "         v1 = Vector(self._vector1)\n",
    "         v2 = v1.cross_product(other)\n",
    "         v = Vector(v2)\n",
    "         v._scalar = norm_mul * self.sin_alpha(other) \n",
    "         b = Bivector(v1, v)\n",
    "         m = multivector(s, b)\n",
    "         m.show()\n",
    "         return m \n",
    "\n",
    "     def scalar_multiple(self, scalar):\n",
    "         v = Vector(scalar*self._vector1)\n",
    "         return v\n",
    "        \n",
    "    #def _rmul_(self, right):\n",
    "    #    v = Vector(self._vector1 * right)\n",
    "    #    return v\n",
    "       \n",
    "    #def _lmul_(self, left):\n",
    "    #    v = Vector(left * self._vector1)\n",
    "    #    return v\n",
    "    \n",
    "     def cross_product(self, other):\n",
    "        #self.show_wedge_product(other)\n",
    "        return self._vector1.cross_product(other._vector1)\n",
    "  \n",
    "    #def show_wedge_product(self, vector2):    \n",
    "    #    r = str(self._e3_wedge_e2.show()) + '+' + str(self._e1_wedge_e3.show()) + '+' + str(self._e2_wedge_e1.show()) \n",
    "    #    text = fr\"\"\"\n",
    "    #    <p>\n",
    "    #    $\\mathbf{self._vector1} \\wedge \\mathbf{vector2._vector1}$ = ${r}$\n",
    "    #    </p>\n",
    "    #    \"\"\"\n",
    "    #    show(html(text))\n",
    "         \n",
    "    #vector2 is also Vector\n",
    "    #this is where I am 11-18-2023\n",
    "    #the wedge_product should work with 2D, 3D, ..., nD\n",
    "     def wedge_product(self, other):\n",
    "         e2_e3 = self._vector1[1]*other._vector1[2] - self._vector1[2] * other._vector1[1]\n",
    "         e3_e1 = self._vector1[2]*other._vector1[0] - self._vector1[0] * other._vector1[2]\n",
    "         e1_e2 = self._vector1[0]*other._vector1[1] - self._vector1[1] * other._vector1[0]\n",
    "         b = Bivector(self, other)\n",
    "         b.show()\n",
    "         return b\n",
    "      \n",
    "     def show(self):\n",
    "        #return self._vector1\n",
    "        r = self._vector1\n",
    "        text = fr\"\"\"\n",
    "        <p>\n",
    "        ${r}$\n",
    "        </p>\n",
    "        \"\"\"\n",
    "        show(html(text))\n",
    "\n",
    "\n",
    "#this gives you a bivector\n",
    "#we need to design a bivector class here\n",
    "from sage.structure.element import Element\n",
    "#this class defines bivectors in R^3 vector space, with unit-bivector defining its coordinates framework\n",
    "class Bivector(Element):\n",
    "      def __init__(self, u, v):\n",
    "        #assert type(v1) = vector\n",
    "        #theorem 5.4\n",
    "        self._e2_wedge_e3 = e2_wedge_e3(u._vector1[1], u._vector1[2], v._vector1[1], v._vector1[2])\n",
    "        self._e3_wedge_e1 = e3_wedge_e1(u._vector1[2], u._vector1[0], v._vector1[2], v._vector1[0])\n",
    "        self._e1_wedge_e2 = e1_wedge_e2(u._vector1[0], u._vector1[1], v._vector1[0], b._vector1[1])\n",
    "        self._vector1 = u._vector1 \n",
    "        #u._vector1[0]*self._e1 + u._vector1[1]*self._e2 + u._vector1[2]*self._e3\n",
    "        self._vector2 = v._vector1\n",
    "        #v._vector1[0]*self._e1 + v._vector1[1]*self._e2 + v._vector1[2]*self._e3\n",
    "\n",
    "        #Problem 5.1 11-17-2023  Chapter 5, page 74,\n",
    "        #case 0: Vector addition\n",
    "        #adding parallel oriented areas, choose any nonzero oriented area B parallel to B1 and B2\n",
    "        #, then B1 and B2 are scalar multiples of B: B1 = b1B, B2 = b2 B, (exercise 5.2),\n",
    "        #define B1 + B2 = (b1 + b2)B\n",
    "        \n",
    "        #case 1: adding nonparallel oriented areas \n",
    "        #assuming B1, and B2 share a vector w as one side of the bivector\n",
    "        #assuming B1 is on the plane of unit bivector e1_e2, B2 on e2_e3\n",
    "        #then Fig 5.4, Chapter 5, page 74, show that adding is defined as the following:\n",
    "        #u ->e1, w->e2, v->e3\n",
    "        #B1 + B2 = |u + v| |w|, which translates to |ax* e1||az * e3|\n",
    "\n",
    "      def vector1(self):\n",
    "         return _vector1\n",
    "\n",
    "      def vector2(self):\n",
    "         return _vector2\n",
    "    \n",
    "      def e2_wedge_e3(self):\n",
    "        return self._e2_wedge_e3\n",
    "\n",
    "      def e3_wedge_e1(self):\n",
    "        return self._e3_wedge_e1\n",
    "\n",
    "      def e1_wedge_e2(self):\n",
    "        return self._e1_wedge_e2\n",
    "    \n",
    "      def _add_(self, other):\n",
    "        #case 1:\n",
    "            #1. make sure u, v are not parallel\n",
    "            #assert( u.dot_product(v) == 0)\n",
    "            \n",
    "        v = self._vector1 + other._vector1\n",
    "        V = Vector(v)\n",
    "        new_bivector = Bivector(V, V)\n",
    "        new_bivector.show()\n",
    "        return new_bivector\n",
    "        \n",
    "      def _sub_(self, other):\n",
    "        v = self._vector1 - other._vector1\n",
    "        V = Vector(v)\n",
    "        new_bivector = Bivector(V, V)  \n",
    "        new_bivector.show()\n",
    "        return new_bivector\n",
    "        \n",
    "      def dot_product(self):\n",
    "        return self._vector1[0]*self._vector2[0] + self._vector1[1]* self._vector2[1] + self._vector1[2] * self._vector2[2]\n",
    "\n",
    "    #this needs to be multiply the area of the bivector by the scalar\n",
    "      def scalar_multiple(self, scalar):\n",
    "        self._vector1.scalar_multiple(scalar)\n",
    "        return self\n",
    "         \n",
    "      def vector1_norm(self):\n",
    "        #return sqrt(self._vector1[0]^2 + self._vector1[1]^2 + self._vector1[2]^2)\n",
    "        return self._vector1.norm()\n",
    "          \n",
    "      def vector2_norm(self):\n",
    "        #return sqrt(self._vector2[0]^2 + self._vector2[1]^2 + self._vector2[2]^2)\n",
    "        return self._vector2.norm()\n",
    "          \n",
    "      def sine_alpha(self):\n",
    "        norm_multiple =  self.vector1_norm() * self.vector2_norm()\n",
    "        s = self.vector1_norm()\n",
    "        #s2 = my_norm(b)\n",
    "        e_vector1 = (1/ s) * self._vector1\n",
    "        #e_b = (1/ s2) * b\n",
    "        X = self.vector2_norm() * (self.dot_product() / (norm_multiple)) * e_vector1\n",
    "        Z2 = self._vector2 - X\n",
    "        return Z2.norm() / self.vector2_norm()\n",
    "\n",
    "      def cosine_alpha(self):\n",
    "       return self.dot_product() / (self.vector1_norm() * self.vector2_norm())\n",
    "        \n",
    "      def norm(self):\n",
    "        return self.vector1_norm() * self.vector2_norm() * abs(self.sine_alpha())\n",
    "\n",
    "      def dot_product2(self):\n",
    "        return self.vector1_norm()* self.vector2_norm() * self.cosine_alpha() \n",
    "\n",
    "      def returnVal(self):\n",
    "        r =  str(self._e1_wedge_e2.show()) + '+' + str(self._e2_wedge_e3.show()) + '+' + str(self._e3_wedge_e1.show()) \n",
    "        return r\n",
    "    \n",
    "      def show(self):    \n",
    "        text = fr\"\"\"\n",
    "        <p>\n",
    "        $\\mathbf{self._vector1} \\wedge \\mathbf{self._vector2}$ = ${self.returnVal()}$\n",
    "        </p>\n",
    "        \"\"\"\n",
    "        show(html(text))\n",
    "        \n",
    "      def plot(self):\n",
    "        e1e2Plot=self._e1_wedge_e2.plot()\n",
    "        e2e3Plot=self._e2_wedge_e3.plot()\n",
    "        e3e1Plot=self._e3_wedge_e1.plot() \n",
    "        uPlot=plot(self._vector1, legend_label='Vector u', color='yellow', thickness=3, show_axes=true)\n",
    "        #v2Plot=plot(v1_prime, legend_label='Vector v2', color='green', thickness=5)\n",
    "        vPlot=plot(self._vector2, legend_label='Vector v', color=\"red\", thickness=3)\n",
    "        uprimePlot=plot(self._vector1, start=self._vector2, legend_label='cross product of u v', color=\"indigo\", thickness=3)\n",
    "        vprimePlot=plot(self._vector2, start=self._vector1, legend_label='cross product of u v', color=\"indigo\", thickness=3)\n",
    "        AllPlot= e1e2Plot + e2e3Plot + e3e1Plot + uPlot + vPlot  + uprimePlot + vprimePlot\n",
    "        AllPlot.show()\n",
    "\n",
    "############Main Program Starts###################\n",
    "e1=vector([1,0,0])\n",
    "e2=vector([0,1,0])\n",
    "e3=vector([0,0,1])\n",
    "\n",
    "E1=Vector(e1)\n",
    "E2=Vector(e2)\n",
    "E3=Vector(e3)\n",
    "\n",
    "show('show testing perpendicular bases:')\n",
    "show('e1 dot e2=',e1.dot_product(e2))\n",
    "show('E1 dot E2=',E1.dot_product(E2))\n",
    "\n",
    "show('show testing parallel vectors:')\n",
    "\n",
    "\n",
    "#show('scalar 10 multiple of e1 and 2 multiple on e2, then perform dot product w/ e1, which should be parallel, the result of which should be 1')\n",
    "#x = 1*e1 + 1*e2 + 0*e3 #we should be able to compute linear combination of our Vector objects, TO DO\n",
    "x = vector([1, 1, 0])\n",
    "show('e1 dot x=', e1.dot_product(x))\n",
    "X = Vector(x)\n",
    "show('E1 dot X=', E1.dot_product(X))\n",
    "\n",
    "#e1p = plot(e1, color='blue') \n",
    "#xp = plot(x, color='red')\n",
    "#(e1p + xp).show()\n",
    "\n",
    "l1= vector([4, 6, 12])\n",
    "l2= vector([5, 3, 3])\n",
    "#we need to make an i ^2 = -1\n",
    "\n",
    "a = Vector(l1)\n",
    "show('showing angling vectors dot product:')\n",
    "show('[4,6,12] dot [10, 0, 0]=', a.dot_product(X))\n",
    "\n",
    "c = Vector(l2)\n",
    "b = Bivector(E1, E2)\n",
    "#show('b.norm=', b.norm())\n",
    "#show('b.sine_alpha=', b.sine_alpha())\n",
    "#show('b.cosine_alpha=', b.cosine_alpha())\n",
    "b.show()\n",
    "#b.plot()\n",
    "\n",
    "show('a ^ c:')\n",
    "Q = a.wedge_product(c)\n",
    "Q.plot()\n",
    "show('testing |a ^ b|^2 = area_12 ^2 + area_23 ^2 + area_31 ^2')\n",
    "\n",
    "show('Q.norm()^2=', Q.norm()^2)\n",
    "show('area_12 ^2 + area_23 ^2 + area_31 ^2=', Q.e1_wedge_e2().area() ^2 + Q.e2_wedge_e3().area() ^2 + Q.e3_wedge_e1().area() ^2 )\n",
    "\n",
    "#we want something like a^c\n",
    "u1 = vector([2, 5, 13])\n",
    "v1 = vector([5, 3, 3])\n",
    "w1 = vector([5, 4, 5])\n",
    "\n",
    "show('testing theorem 5.2.1...')\n",
    "d = Vector(u1)\n",
    "f = Vector(v1)\n",
    "w = Vector(w1)\n",
    "\n",
    "d.wedge_product(f)\n",
    "\n",
    "show('testing base vector wedge product...')\n",
    "E1.wedge_product(E2)\n",
    "\n",
    "show('testing base vector wedge product in reverse order...')\n",
    "E2.wedge_product(E1)\n",
    "\n",
    "show('testing Theorem 5.2...u ^ u = 0')\n",
    "d.wedge_product(d)\n",
    "show('testing 02: u ^v = - v^u')\n",
    "d.wedge_product(f) \n",
    "f.wedge_product(d) \n",
    "\n",
    "show('testing case 03: a(u^v) = (au)^v')\n",
    "show('computing right hand side:(au)^v:')\n",
    "(Scalar(10) * d).wedge_product(f)\n",
    "\n",
    "show('computing left hand side: a(u^v):')\n",
    "show('before 10 * :')\n",
    "d.wedge_product(f)\n",
    "show('after 10 * :') #failure 1\n",
    "w = d.wedge_product(f)\n",
    "Scalar(10) * w \n",
    "\n",
    "Scalar(10) * d.wedge_product(f)\n",
    "\n",
    "show('testing case 03.1: a(u^v) = u^(av)')\n",
    "show('computing (au)^v:')\n",
    "show('v before 10*v:')\n",
    "f.show()\n",
    "show('c after 10*c:')\n",
    "(Scalar(10) * f).show()\n",
    "d.wedge_product(c)\n",
    "\n",
    "show('04: testing (u+v)^w= u^w + v^w...')\n",
    "show('computing (u+v)^w...')\n",
    "show('computing d + f:...')\n",
    "show('d:')\n",
    "d.show()\n",
    "show('f:')\n",
    "f.show()\n",
    "show('d + f:')\n",
    "g = d + f\n",
    "\n",
    "show('computing g ^ w')\n",
    "g.wedge_product(w)\n",
    "\n",
    "show('computing u^w + v^w...')\n",
    "x = d.wedge_product(w) + f.wedge_product(w)\n",
    "#x.show()\n",
    "\n",
    "show('e1 dot e2=', e1.dot_product(e2))\n",
    "show('testing wedge product == cross product...')\n",
    "d_cross_f = d.cross_product(f)\n",
    "show('d X f=', d_cross_f)\n",
    "show(type(d_cross_f))\n",
    "d.wedge_product(f)\n",
    "\n",
    "#show('testing problem 5.1.5...(x -a) ^ b = 0')\n",
    "#show('convert to our vectors: x->w, a-> d, b->f')\n",
    "#show('testing vector subtraction:')\n",
    "#show('computing y = x -d:')\n",
    "#y = x - d\n",
    "#show('computing y^f:...')\n",
    "#y.wedge_product(f)\n",
    "\n",
    "#dplot = plot(x._vector1, color='yellow', thickness=3)\n",
    "#dplot = plot(d._vector1, color='blue', thickness=3)\n",
    "#yplot = plot(y._vector1, start = d._vector1, color='red', thickness=3)\n",
    "#fplot = plot(f._vector1, color='indigo', thickness=3)\n",
    "#all= dplot + dplot + yplot + fplot\n",
    "#all.show()\n",
    "\n",
    "#show('testing |V|^2 = v dot v')\n",
    "#assert(y.dot_product(y) == y.norm())\n",
    "#show('y dot y=', y.dot_product(y))\n",
    "#show('|y|=', y.norm())\n",
    "\n",
    "show('testing geometric product...d * f =')\n",
    "m = d * f\n",
    "show('testing geometric product...d.geometric_product(f) =')\n",
    "d.geometric_product(f)\n",
    "\n",
    "\n"
   ]
  },
  {
   "cell_type": "markdown",
   "id": "8b73b22c-69ed-4728-8894-e8d1d26864e4",
   "metadata": {},
   "source": [
    "the thought here is to use the linear algebra idea of systems of linear equations, page 45 of the text\n",
    "\n",
    "we want a linear system of equations to have no solutions, which would make the two line parallel\n",
    "\n",
    "$$ax + by +c = 0\n",
    "a1x + b1y + c1 =0$$\n",
    "\n",
    "the second thought is to solve an equation involving the two vectors' coordinates in terms of \n",
    "dot product, and make it equal to 1, which should give us two parallel vectors:\n",
    "\n",
    "e1: 1x +0y + 0 = 0\n",
    "line a: ax + by + c = 0\n",
    "the dot product: [1,0,0] dot [a, b, c] =1\n",
    "or a + b + 0 = 1\n",
    "let's try a =1, b =0, that is e1, what about a = 2, b = -1\n",
    "\n",
    "\n",
    "the third idea:  y = 2, translate this to a vector, [0, 2, 0]\n",
    "how to translate a linear equation representing a line to a vector?\n",
    "\n",
    "\n",
    "the 4the idea: on page 78, problem 5.1,a\n",
    "Show that (x -a) \\wedge b = 0 is an equation of the straight line l through a and\n",
    "parallel to b. See fig. 5.10\n",
    "we should be able draw this graph, we did too. so, this is like solve an equation\n",
    "with a new operator, called the wedge product for an x, so that with vector addition\n",
    "would result in a l vector to be parallel to b.\n",
    "this could a way to construct parallel vector, and to use to verify dot product between\n",
    "parallel vectors\n",
    "\n",
    "what this problem is saying is that now we have two ways to determine parallel vectors\n",
    ", with dot product, and with wedge product\n",
    "\n",
    "so solving this equation by hand, goes like the following, while eventually\n",
    "we want our algebra system that we are constructing to be able to solve equations\n",
    "with these new operators in Geometric Algebra, scalar multiple, dot product, wedge product, geometric product\n",
    "\n",
    "dot product to be 1, while wedge product to be 0\n"
   ]
  },
  {
   "cell_type": "markdown",
   "id": "eaab5cdc-b346-4964-8643-cf30706adf37",
   "metadata": {},
   "source": []
  },
  {
   "cell_type": "code",
   "execution_count": 53,
   "id": "7e8ab3f2-9a7a-4fa3-9be9-88abdf6bd32a",
   "metadata": {
    "scrolled": true
   },
   "outputs": [
    {
     "data": {
      "text/html": [
       "<html>\\(\\displaystyle \\verb|show|\\verb| |\\verb|testing|\\verb| |\\verb|perpendicular|\\verb| |\\verb|bases:|\\)</html>"
      ],
      "text/latex": [
       "$\\displaystyle \\verb|show|\\verb| |\\verb|testing|\\verb| |\\verb|perpendicular|\\verb| |\\verb|bases:|$"
      ],
      "text/plain": [
       "'show testing perpendicular bases:'"
      ]
     },
     "metadata": {},
     "output_type": "display_data"
    },
    {
     "data": {
      "text/html": [
       "<html>\\(\\displaystyle \\verb|e1|\\verb| |\\verb|dot|\\verb| |\\verb|e2=| 0\\)</html>"
      ],
      "text/latex": [
       "$\\displaystyle \\verb|e1|\\verb| |\\verb|dot|\\verb| |\\verb|e2=| 0$"
      ],
      "text/plain": [
       "'e1 dot e2=' 0"
      ]
     },
     "metadata": {},
     "output_type": "display_data"
    },
    {
     "data": {
      "text/html": [
       "<html>\\(\\displaystyle \\verb|E1|\\verb| |\\verb|dot|\\verb| |\\verb|E2=| 0\\)</html>"
      ],
      "text/latex": [
       "$\\displaystyle \\verb|E1|\\verb| |\\verb|dot|\\verb| |\\verb|E2=| 0$"
      ],
      "text/plain": [
       "'E1 dot E2=' 0"
      ]
     },
     "metadata": {},
     "output_type": "display_data"
    },
    {
     "data": {
      "text/html": [
       "<html>\\(\\displaystyle \\verb|show|\\verb| |\\verb|testing|\\verb| |\\verb|parallel|\\verb| |\\verb|vectors:|\\)</html>"
      ],
      "text/latex": [
       "$\\displaystyle \\verb|show|\\verb| |\\verb|testing|\\verb| |\\verb|parallel|\\verb| |\\verb|vectors:|$"
      ],
      "text/plain": [
       "'show testing parallel vectors:'"
      ]
     },
     "metadata": {},
     "output_type": "display_data"
    },
    {
     "data": {
      "text/html": [
       "<html>\\(\\displaystyle \\verb|showing|\\verb| |\\verb|angling|\\verb| |\\verb|vectors|\\verb| |\\verb|dot|\\verb| |\\verb|product:|\\)</html>"
      ],
      "text/latex": [
       "$\\displaystyle \\verb|showing|\\verb| |\\verb|angling|\\verb| |\\verb|vectors|\\verb| |\\verb|dot|\\verb| |\\verb|product:|$"
      ],
      "text/plain": [
       "'showing angling vectors dot product:'"
      ]
     },
     "metadata": {},
     "output_type": "display_data"
    },
    {
     "data": {
      "text/html": [
       "<html>\\(\\displaystyle \\verb|[4,6,12]|\\verb| |\\verb|dot|\\verb| |\\verb|[10,|\\verb| |\\verb|0,|\\verb| |\\verb|0]=| 22\\)</html>"
      ],
      "text/latex": [
       "$\\displaystyle \\verb|[4,6,12]|\\verb| |\\verb|dot|\\verb| |\\verb|[10,|\\verb| |\\verb|0,|\\verb| |\\verb|0]=| 22$"
      ],
      "text/plain": [
       "'[4,6,12] dot [10, 0, 0]=' 22"
      ]
     },
     "metadata": {},
     "output_type": "display_data"
    },
    {
     "data": {
      "text/html": [
       "\n",
       "        <p>\n",
       "        \\(\\mathbf(1, 0, 0) \\wedge \\mathbf(0, 1, 0)\\) = \\(1 e3 \\wedge e2+1 e1 \\wedge e3+0 e2 \\wedge e1\\)\n",
       "        </p>\n",
       "        "
      ],
      "text/plain": [
       "\n",
       "        <p>\n",
       "        \\(\\mathbf(1, 0, 0) \\wedge \\mathbf(0, 1, 0)\\) = \\(1 e3 \\wedge e2+1 e1 \\wedge e3+0 e2 \\wedge e1\\)\n",
       "        </p>\n",
       "        "
      ]
     },
     "metadata": {},
     "output_type": "display_data"
    },
    {
     "data": {
      "text/html": [
       "\n",
       "        <p>\n",
       "        \\(\\mathbf(4, 6, 12) \\wedge \\mathbf(5, 3, 3)\\) = \\(18 e3 \\wedge e2+-48 e1 \\wedge e3+18 e2 \\wedge e1\\)\n",
       "        </p>\n",
       "        "
      ],
      "text/plain": [
       "\n",
       "        <p>\n",
       "        \\(\\mathbf(4, 6, 12) \\wedge \\mathbf(5, 3, 3)\\) = \\(18 e3 \\wedge e2+-48 e1 \\wedge e3+18 e2 \\wedge e1\\)\n",
       "        </p>\n",
       "        "
      ]
     },
     "metadata": {},
     "output_type": "display_data"
    },
    {
     "data": {
      "text/html": [
       "<html>\\(\\displaystyle \\verb|testing|\\verb| |\\verb|theorem|\\verb| |\\verb|5.2.1...|\\)</html>"
      ],
      "text/latex": [
       "$\\displaystyle \\verb|testing|\\verb| |\\verb|theorem|\\verb| |\\verb|5.2.1...|$"
      ],
      "text/plain": [
       "'testing theorem 5.2.1...'"
      ]
     },
     "metadata": {},
     "output_type": "display_data"
    },
    {
     "data": {
      "text/html": [
       "\n",
       "        <p>\n",
       "        \\(\\mathbf(2, 5, 13) \\wedge \\mathbf(5, 3, 3)\\) = \\(24 e3 \\wedge e2+-59 e1 \\wedge e3+19 e2 \\wedge e1\\)\n",
       "        </p>\n",
       "        "
      ],
      "text/plain": [
       "\n",
       "        <p>\n",
       "        \\(\\mathbf(2, 5, 13) \\wedge \\mathbf(5, 3, 3)\\) = \\(24 e3 \\wedge e2+-59 e1 \\wedge e3+19 e2 \\wedge e1\\)\n",
       "        </p>\n",
       "        "
      ]
     },
     "metadata": {},
     "output_type": "display_data"
    },
    {
     "data": {
      "text/html": [
       "<html>\\(\\displaystyle \\verb|testing|\\verb| |\\verb|base|\\verb| |\\verb|vector|\\verb| |\\verb|wedge|\\verb| |\\verb|product...|\\)</html>"
      ],
      "text/latex": [
       "$\\displaystyle \\verb|testing|\\verb| |\\verb|base|\\verb| |\\verb|vector|\\verb| |\\verb|wedge|\\verb| |\\verb|product...|$"
      ],
      "text/plain": [
       "'testing base vector wedge product...'"
      ]
     },
     "metadata": {},
     "output_type": "display_data"
    },
    {
     "data": {
      "text/html": [
       "\n",
       "        <p>\n",
       "        \\(\\mathbf(1, 0, 0) \\wedge \\mathbf(0, 1, 0)\\) = \\(0 e3 \\wedge e2+0 e1 \\wedge e3+-1 e2 \\wedge e1\\)\n",
       "        </p>\n",
       "        "
      ],
      "text/plain": [
       "\n",
       "        <p>\n",
       "        \\(\\mathbf(1, 0, 0) \\wedge \\mathbf(0, 1, 0)\\) = \\(0 e3 \\wedge e2+0 e1 \\wedge e3+-1 e2 \\wedge e1\\)\n",
       "        </p>\n",
       "        "
      ]
     },
     "metadata": {},
     "output_type": "display_data"
    },
    {
     "data": {
      "text/html": [
       "<html>\\(\\displaystyle \\verb|testing|\\verb| |\\verb|base|\\verb| |\\verb|vector|\\verb| |\\verb|wedge|\\verb| |\\verb|product|\\verb| |\\verb|in|\\verb| |\\verb|reverse|\\verb| |\\verb|order...|\\)</html>"
      ],
      "text/latex": [
       "$\\displaystyle \\verb|testing|\\verb| |\\verb|base|\\verb| |\\verb|vector|\\verb| |\\verb|wedge|\\verb| |\\verb|product|\\verb| |\\verb|in|\\verb| |\\verb|reverse|\\verb| |\\verb|order...|$"
      ],
      "text/plain": [
       "'testing base vector wedge product in reverse order...'"
      ]
     },
     "metadata": {},
     "output_type": "display_data"
    },
    {
     "data": {
      "text/html": [
       "\n",
       "        <p>\n",
       "        \\(\\mathbf(0, 1, 0) \\wedge \\mathbf(1, 0, 0)\\) = \\(0 e3 \\wedge e2+0 e1 \\wedge e3+1 e2 \\wedge e1\\)\n",
       "        </p>\n",
       "        "
      ],
      "text/plain": [
       "\n",
       "        <p>\n",
       "        \\(\\mathbf(0, 1, 0) \\wedge \\mathbf(1, 0, 0)\\) = \\(0 e3 \\wedge e2+0 e1 \\wedge e3+1 e2 \\wedge e1\\)\n",
       "        </p>\n",
       "        "
      ]
     },
     "metadata": {},
     "output_type": "display_data"
    },
    {
     "data": {
      "text/html": [
       "<html>\\(\\displaystyle \\verb|testing|\\verb| |\\verb|Theorem|\\verb| |\\verb|5.2...u|\\verb| |\\verb|^|\\verb| |\\verb|u|\\verb| |\\verb|=|\\verb| |\\verb|0|\\)</html>"
      ],
      "text/latex": [
       "$\\displaystyle \\verb|testing|\\verb| |\\verb|Theorem|\\verb| |\\verb|5.2...u|\\verb| |\\verb|^|\\verb| |\\verb|u|\\verb| |\\verb|=|\\verb| |\\verb|0|$"
      ],
      "text/plain": [
       "'testing Theorem 5.2...u ^ u = 0'"
      ]
     },
     "metadata": {},
     "output_type": "display_data"
    },
    {
     "data": {
      "text/html": [
       "\n",
       "        <p>\n",
       "        \\(\\mathbf(2, 5, 13) \\wedge \\mathbf(2, 5, 13)\\) = \\(0 e3 \\wedge e2+0 e1 \\wedge e3+0 e2 \\wedge e1\\)\n",
       "        </p>\n",
       "        "
      ],
      "text/plain": [
       "\n",
       "        <p>\n",
       "        \\(\\mathbf(2, 5, 13) \\wedge \\mathbf(2, 5, 13)\\) = \\(0 e3 \\wedge e2+0 e1 \\wedge e3+0 e2 \\wedge e1\\)\n",
       "        </p>\n",
       "        "
      ]
     },
     "metadata": {},
     "output_type": "display_data"
    },
    {
     "data": {
      "text/html": [
       "<html>\\(\\displaystyle \\verb|testing|\\verb| |\\verb|02:|\\verb| |\\verb|u|\\verb| |\\verb|^v|\\verb| |\\verb|=|\\verb| |\\verb|-|\\verb| |\\verb|v^u|\\)</html>"
      ],
      "text/latex": [
       "$\\displaystyle \\verb|testing|\\verb| |\\verb|02:|\\verb| |\\verb|u|\\verb| |\\verb|^v|\\verb| |\\verb|=|\\verb| |\\verb|-|\\verb| |\\verb|v^u|$"
      ],
      "text/plain": [
       "'testing 02: u ^v = - v^u'"
      ]
     },
     "metadata": {},
     "output_type": "display_data"
    },
    {
     "data": {
      "text/html": [
       "\n",
       "        <p>\n",
       "        \\(\\mathbf(2, 5, 13) \\wedge \\mathbf(5, 3, 3)\\) = \\(24 e3 \\wedge e2+-59 e1 \\wedge e3+19 e2 \\wedge e1\\)\n",
       "        </p>\n",
       "        "
      ],
      "text/plain": [
       "\n",
       "        <p>\n",
       "        \\(\\mathbf(2, 5, 13) \\wedge \\mathbf(5, 3, 3)\\) = \\(24 e3 \\wedge e2+-59 e1 \\wedge e3+19 e2 \\wedge e1\\)\n",
       "        </p>\n",
       "        "
      ]
     },
     "metadata": {},
     "output_type": "display_data"
    },
    {
     "data": {
      "text/html": [
       "\n",
       "        <p>\n",
       "        \\(\\mathbf(5, 3, 3) \\wedge \\mathbf(2, 5, 13)\\) = \\(-24 e3 \\wedge e2+59 e1 \\wedge e3+-19 e2 \\wedge e1\\)\n",
       "        </p>\n",
       "        "
      ],
      "text/plain": [
       "\n",
       "        <p>\n",
       "        \\(\\mathbf(5, 3, 3) \\wedge \\mathbf(2, 5, 13)\\) = \\(-24 e3 \\wedge e2+59 e1 \\wedge e3+-19 e2 \\wedge e1\\)\n",
       "        </p>\n",
       "        "
      ]
     },
     "metadata": {},
     "output_type": "display_data"
    },
    {
     "data": {
      "text/html": [
       "<html>\\(\\displaystyle \\verb|testing|\\verb| |\\verb|case|\\verb| |\\verb|03:|\\verb| |\\verb|a(u^v)|\\verb| |\\verb|=|\\verb| |\\verb|(au)^v|\\)</html>"
      ],
      "text/latex": [
       "$\\displaystyle \\verb|testing|\\verb| |\\verb|case|\\verb| |\\verb|03:|\\verb| |\\verb|a(u^v)|\\verb| |\\verb|=|\\verb| |\\verb|(au)^v|$"
      ],
      "text/plain": [
       "'testing case 03: a(u^v) = (au)^v'"
      ]
     },
     "metadata": {},
     "output_type": "display_data"
    },
    {
     "data": {
      "text/html": [
       "<html>\\(\\displaystyle \\verb|computing|\\verb| |\\verb|right|\\verb| |\\verb|hand|\\verb| |\\verb|side:(au)^v:|\\)</html>"
      ],
      "text/latex": [
       "$\\displaystyle \\verb|computing|\\verb| |\\verb|right|\\verb| |\\verb|hand|\\verb| |\\verb|side:(au)^v:|$"
      ],
      "text/plain": [
       "'computing right hand side:(au)^v:'"
      ]
     },
     "metadata": {},
     "output_type": "display_data"
    },
    {
     "data": {
      "text/html": [
       "\n",
       "        <p>\n",
       "        \\((20, 50, 130)\\)\n",
       "        </p>\n",
       "        "
      ],
      "text/plain": [
       "\n",
       "        <p>\n",
       "        \\((20, 50, 130)\\)\n",
       "        </p>\n",
       "        "
      ]
     },
     "metadata": {},
     "output_type": "display_data"
    },
    {
     "data": {
      "text/html": [
       "\n",
       "        <p>\n",
       "        \\(\\mathbf(20, 50, 130) \\wedge \\mathbf(5, 3, 3)\\) = \\(240 e3 \\wedge e2+-590 e1 \\wedge e3+190 e2 \\wedge e1\\)\n",
       "        </p>\n",
       "        "
      ],
      "text/plain": [
       "\n",
       "        <p>\n",
       "        \\(\\mathbf(20, 50, 130) \\wedge \\mathbf(5, 3, 3)\\) = \\(240 e3 \\wedge e2+-590 e1 \\wedge e3+190 e2 \\wedge e1\\)\n",
       "        </p>\n",
       "        "
      ]
     },
     "metadata": {},
     "output_type": "display_data"
    },
    {
     "data": {
      "text/html": [
       "<html>\\(\\displaystyle \\verb|computing|\\verb| |\\verb|left|\\verb| |\\verb|hand|\\verb| |\\verb|side:|\\verb| |\\verb|a(u^v):|\\)</html>"
      ],
      "text/latex": [
       "$\\displaystyle \\verb|computing|\\verb| |\\verb|left|\\verb| |\\verb|hand|\\verb| |\\verb|side:|\\verb| |\\verb|a(u^v):|$"
      ],
      "text/plain": [
       "'computing left hand side: a(u^v):'"
      ]
     },
     "metadata": {},
     "output_type": "display_data"
    },
    {
     "data": {
      "text/html": [
       "<html>\\(\\displaystyle \\verb|before|\\verb| |\\verb|10|\\verb| |\\verb|*|\\verb| |\\verb|:|\\)</html>"
      ],
      "text/latex": [
       "$\\displaystyle \\verb|before|\\verb| |\\verb|10|\\verb| |\\verb|*|\\verb| |\\verb|:|$"
      ],
      "text/plain": [
       "'before 10 * :'"
      ]
     },
     "metadata": {},
     "output_type": "display_data"
    },
    {
     "data": {
      "text/html": [
       "\n",
       "        <p>\n",
       "        \\(\\mathbf(2, 5, 13) \\wedge \\mathbf(5, 3, 3)\\) = \\(24 e3 \\wedge e2+-59 e1 \\wedge e3+19 e2 \\wedge e1\\)\n",
       "        </p>\n",
       "        "
      ],
      "text/plain": [
       "\n",
       "        <p>\n",
       "        \\(\\mathbf(2, 5, 13) \\wedge \\mathbf(5, 3, 3)\\) = \\(24 e3 \\wedge e2+-59 e1 \\wedge e3+19 e2 \\wedge e1\\)\n",
       "        </p>\n",
       "        "
      ]
     },
     "metadata": {},
     "output_type": "display_data"
    },
    {
     "data": {
      "text/html": [
       "<html>\\(\\displaystyle \\verb|after|\\verb| |\\verb|10|\\verb| |\\verb|*|\\verb| |\\verb|:|\\)</html>"
      ],
      "text/latex": [
       "$\\displaystyle \\verb|after|\\verb| |\\verb|10|\\verb| |\\verb|*|\\verb| |\\verb|:|$"
      ],
      "text/plain": [
       "'after 10 * :'"
      ]
     },
     "metadata": {},
     "output_type": "display_data"
    },
    {
     "data": {
      "text/html": [
       "\n",
       "        <p>\n",
       "        \\(\\mathbf(2, 5, 13) \\wedge \\mathbf(5, 3, 3)\\) = \\(24 e3 \\wedge e2+-59 e1 \\wedge e3+19 e2 \\wedge e1\\)\n",
       "        </p>\n",
       "        "
      ],
      "text/plain": [
       "\n",
       "        <p>\n",
       "        \\(\\mathbf(2, 5, 13) \\wedge \\mathbf(5, 3, 3)\\) = \\(24 e3 \\wedge e2+-59 e1 \\wedge e3+19 e2 \\wedge e1\\)\n",
       "        </p>\n",
       "        "
      ]
     },
     "metadata": {},
     "output_type": "display_data"
    },
    {
     "data": {
      "text/html": [
       "\n",
       "        <p>\n",
       "        \\((20, 50, 130)\\)\n",
       "        </p>\n",
       "        "
      ],
      "text/plain": [
       "\n",
       "        <p>\n",
       "        \\((20, 50, 130)\\)\n",
       "        </p>\n",
       "        "
      ]
     },
     "metadata": {},
     "output_type": "display_data"
    },
    {
     "data": {
      "text/html": [
       "\n",
       "        <p>\n",
       "        \\(\\mathbf(2, 5, 13) \\wedge \\mathbf(5, 3, 3)\\) = \\(24 e3 \\wedge e2+-59 e1 \\wedge e3+19 e2 \\wedge e1\\)\n",
       "        </p>\n",
       "        "
      ],
      "text/plain": [
       "\n",
       "        <p>\n",
       "        \\(\\mathbf(2, 5, 13) \\wedge \\mathbf(5, 3, 3)\\) = \\(24 e3 \\wedge e2+-59 e1 \\wedge e3+19 e2 \\wedge e1\\)\n",
       "        </p>\n",
       "        "
      ]
     },
     "metadata": {},
     "output_type": "display_data"
    },
    {
     "data": {
      "text/html": [
       "\n",
       "        <p>\n",
       "        \\((20, 50, 130)\\)\n",
       "        </p>\n",
       "        "
      ],
      "text/plain": [
       "\n",
       "        <p>\n",
       "        \\((20, 50, 130)\\)\n",
       "        </p>\n",
       "        "
      ]
     },
     "metadata": {},
     "output_type": "display_data"
    },
    {
     "data": {
      "text/html": [
       "<html>\\(\\displaystyle \\verb|testing|\\verb| |\\verb|case|\\verb| |\\verb|03.1:|\\verb| |\\verb|a(u^v)|\\verb| |\\verb|=|\\verb| |\\verb|u^(av)|\\)</html>"
      ],
      "text/latex": [
       "$\\displaystyle \\verb|testing|\\verb| |\\verb|case|\\verb| |\\verb|03.1:|\\verb| |\\verb|a(u^v)|\\verb| |\\verb|=|\\verb| |\\verb|u^(av)|$"
      ],
      "text/plain": [
       "'testing case 03.1: a(u^v) = u^(av)'"
      ]
     },
     "metadata": {},
     "output_type": "display_data"
    },
    {
     "data": {
      "text/html": [
       "<html>\\(\\displaystyle \\verb|computing|\\verb| |\\verb|(au)^v:|\\)</html>"
      ],
      "text/latex": [
       "$\\displaystyle \\verb|computing|\\verb| |\\verb|(au)^v:|$"
      ],
      "text/plain": [
       "'computing (au)^v:'"
      ]
     },
     "metadata": {},
     "output_type": "display_data"
    },
    {
     "data": {
      "text/html": [
       "<html>\\(\\displaystyle \\verb|v|\\verb| |\\verb|before|\\verb| |\\verb|10*v:|\\)</html>"
      ],
      "text/latex": [
       "$\\displaystyle \\verb|v|\\verb| |\\verb|before|\\verb| |\\verb|10*v:|$"
      ],
      "text/plain": [
       "'v before 10*v:'"
      ]
     },
     "metadata": {},
     "output_type": "display_data"
    },
    {
     "data": {
      "text/html": [
       "\n",
       "        <p>\n",
       "        \\((5, 3, 3)\\)\n",
       "        </p>\n",
       "        "
      ],
      "text/plain": [
       "\n",
       "        <p>\n",
       "        \\((5, 3, 3)\\)\n",
       "        </p>\n",
       "        "
      ]
     },
     "metadata": {},
     "output_type": "display_data"
    },
    {
     "data": {
      "text/html": [
       "<html>\\(\\displaystyle \\verb|c|\\verb| |\\verb|after|\\verb| |\\verb|10*c:|\\)</html>"
      ],
      "text/latex": [
       "$\\displaystyle \\verb|c|\\verb| |\\verb|after|\\verb| |\\verb|10*c:|$"
      ],
      "text/plain": [
       "'c after 10*c:'"
      ]
     },
     "metadata": {},
     "output_type": "display_data"
    },
    {
     "data": {
      "text/html": [
       "\n",
       "        <p>\n",
       "        \\((50, 30, 30)\\)\n",
       "        </p>\n",
       "        "
      ],
      "text/plain": [
       "\n",
       "        <p>\n",
       "        \\((50, 30, 30)\\)\n",
       "        </p>\n",
       "        "
      ]
     },
     "metadata": {},
     "output_type": "display_data"
    },
    {
     "data": {
      "text/html": [
       "\n",
       "        <p>\n",
       "        \\((50, 30, 30)\\)\n",
       "        </p>\n",
       "        "
      ],
      "text/plain": [
       "\n",
       "        <p>\n",
       "        \\((50, 30, 30)\\)\n",
       "        </p>\n",
       "        "
      ]
     },
     "metadata": {},
     "output_type": "display_data"
    },
    {
     "data": {
      "text/html": [
       "\n",
       "        <p>\n",
       "        \\(\\mathbf(2, 5, 13) \\wedge \\mathbf(5, 3, 3)\\) = \\(24 e3 \\wedge e2+-59 e1 \\wedge e3+19 e2 \\wedge e1\\)\n",
       "        </p>\n",
       "        "
      ],
      "text/plain": [
       "\n",
       "        <p>\n",
       "        \\(\\mathbf(2, 5, 13) \\wedge \\mathbf(5, 3, 3)\\) = \\(24 e3 \\wedge e2+-59 e1 \\wedge e3+19 e2 \\wedge e1\\)\n",
       "        </p>\n",
       "        "
      ]
     },
     "metadata": {},
     "output_type": "display_data"
    },
    {
     "data": {
      "text/html": [
       "<html>\\(\\displaystyle \\verb|04:|\\verb| |\\verb|testing|\\verb| |\\verb|(u+v)^w=|\\verb| |\\verb|u^w|\\verb| |\\verb|+|\\verb| |\\verb|v^w...|\\)</html>"
      ],
      "text/latex": [
       "$\\displaystyle \\verb|04:|\\verb| |\\verb|testing|\\verb| |\\verb|(u+v)^w=|\\verb| |\\verb|u^w|\\verb| |\\verb|+|\\verb| |\\verb|v^w...|$"
      ],
      "text/plain": [
       "'04: testing (u+v)^w= u^w + v^w...'"
      ]
     },
     "metadata": {},
     "output_type": "display_data"
    },
    {
     "data": {
      "text/html": [
       "<html>\\(\\displaystyle \\verb|computing|\\verb| |\\verb|(u+v)^w...|\\)</html>"
      ],
      "text/latex": [
       "$\\displaystyle \\verb|computing|\\verb| |\\verb|(u+v)^w...|$"
      ],
      "text/plain": [
       "'computing (u+v)^w...'"
      ]
     },
     "metadata": {},
     "output_type": "display_data"
    },
    {
     "data": {
      "text/html": [
       "\n",
       "        <p>\n",
       "        \\((7, 8, 16)\\)\n",
       "        </p>\n",
       "        "
      ],
      "text/plain": [
       "\n",
       "        <p>\n",
       "        \\((7, 8, 16)\\)\n",
       "        </p>\n",
       "        "
      ]
     },
     "metadata": {},
     "output_type": "display_data"
    },
    {
     "data": {
      "text/html": [
       "\n",
       "        <p>\n",
       "        \\(\\mathbf(7, 8, 16) \\wedge \\mathbf(2, 5, 13)\\) = \\(-24 e3 \\wedge e2+59 e1 \\wedge e3+-19 e2 \\wedge e1\\)\n",
       "        </p>\n",
       "        "
      ],
      "text/plain": [
       "\n",
       "        <p>\n",
       "        \\(\\mathbf(7, 8, 16) \\wedge \\mathbf(2, 5, 13)\\) = \\(-24 e3 \\wedge e2+59 e1 \\wedge e3+-19 e2 \\wedge e1\\)\n",
       "        </p>\n",
       "        "
      ]
     },
     "metadata": {},
     "output_type": "display_data"
    },
    {
     "data": {
      "text/html": [
       "<html>\\(\\displaystyle \\verb|computing|\\verb| |\\verb|u^w|\\verb| |\\verb|+|\\verb| |\\verb|v^w...|\\)</html>"
      ],
      "text/latex": [
       "$\\displaystyle \\verb|computing|\\verb| |\\verb|u^w|\\verb| |\\verb|+|\\verb| |\\verb|v^w...|$"
      ],
      "text/plain": [
       "'computing u^w + v^w...'"
      ]
     },
     "metadata": {},
     "output_type": "display_data"
    },
    {
     "data": {
      "text/html": [
       "\n",
       "        <p>\n",
       "        \\(\\mathbf(2, 5, 13) \\wedge \\mathbf(2, 5, 13)\\) = \\(0 e3 \\wedge e2+0 e1 \\wedge e3+0 e2 \\wedge e1\\)\n",
       "        </p>\n",
       "        "
      ],
      "text/plain": [
       "\n",
       "        <p>\n",
       "        \\(\\mathbf(2, 5, 13) \\wedge \\mathbf(2, 5, 13)\\) = \\(0 e3 \\wedge e2+0 e1 \\wedge e3+0 e2 \\wedge e1\\)\n",
       "        </p>\n",
       "        "
      ]
     },
     "metadata": {},
     "output_type": "display_data"
    },
    {
     "data": {
      "text/html": [
       "\n",
       "        <p>\n",
       "        \\(\\mathbf(5, 3, 3) \\wedge \\mathbf(2, 5, 13)\\) = \\(-24 e3 \\wedge e2+59 e1 \\wedge e3+-19 e2 \\wedge e1\\)\n",
       "        </p>\n",
       "        "
      ],
      "text/plain": [
       "\n",
       "        <p>\n",
       "        \\(\\mathbf(5, 3, 3) \\wedge \\mathbf(2, 5, 13)\\) = \\(-24 e3 \\wedge e2+59 e1 \\wedge e3+-19 e2 \\wedge e1\\)\n",
       "        </p>\n",
       "        "
      ]
     },
     "metadata": {},
     "output_type": "display_data"
    },
    {
     "data": {
      "text/html": [
       "\n",
       "        <p>\n",
       "        \\(\\mathbf(7, 8, 16) \\wedge \\mathbf(7, 8, 16)\\) = \\(1 e3 \\wedge e2+1 e1 \\wedge e3+1 e2 \\wedge e1\\)\n",
       "        </p>\n",
       "        "
      ],
      "text/plain": [
       "\n",
       "        <p>\n",
       "        \\(\\mathbf(7, 8, 16) \\wedge \\mathbf(7, 8, 16)\\) = \\(1 e3 \\wedge e2+1 e1 \\wedge e3+1 e2 \\wedge e1\\)\n",
       "        </p>\n",
       "        "
      ]
     },
     "metadata": {},
     "output_type": "display_data"
    },
    {
     "data": {
      "text/html": [
       "<html>\\(\\displaystyle \\verb|e1|\\verb| |\\verb|dot|\\verb| |\\verb|e2=| 0\\)</html>"
      ],
      "text/latex": [
       "$\\displaystyle \\verb|e1|\\verb| |\\verb|dot|\\verb| |\\verb|e2=| 0$"
      ],
      "text/plain": [
       "'e1 dot e2=' 0"
      ]
     },
     "metadata": {},
     "output_type": "display_data"
    },
    {
     "data": {
      "text/html": [
       "<html>\\(\\displaystyle \\verb|testing|\\verb| |\\verb|wedge|\\verb| |\\verb|product|\\verb| |\\verb|==|\\verb| |\\verb|cross|\\verb| |\\verb|product...|\\)</html>"
      ],
      "text/latex": [
       "$\\displaystyle \\verb|testing|\\verb| |\\verb|wedge|\\verb| |\\verb|product|\\verb| |\\verb|==|\\verb| |\\verb|cross|\\verb| |\\verb|product...|$"
      ],
      "text/plain": [
       "'testing wedge product == cross product...'"
      ]
     },
     "metadata": {},
     "output_type": "display_data"
    },
    {
     "data": {
      "text/html": [
       "<html>\\(\\displaystyle \\verb|d|\\verb| |\\verb|X|\\verb| |\\verb|f=| \\left(-24,\\,59,\\,-19\\right)\\)</html>"
      ],
      "text/latex": [
       "$\\displaystyle \\verb|d|\\verb| |\\verb|X|\\verb| |\\verb|f=| \\left(-24,\\,59,\\,-19\\right)$"
      ],
      "text/plain": [
       "'d X f=' (-24, 59, -19)"
      ]
     },
     "metadata": {},
     "output_type": "display_data"
    },
    {
     "data": {
      "text/html": [
       "<html>\\(\\displaystyle \\verb|&lt;class|\\verb| |\\verb|'sage.modules.vector_integer_dense.Vector_integer_dense'>|\\)</html>"
      ],
      "text/latex": [
       "$\\displaystyle \\verb|<class|\\verb| |\\verb|'sage.modules.vector_integer_dense.Vector_integer_dense'>|$"
      ],
      "text/plain": [
       "<class 'sage.modules.vector_integer_dense.Vector_integer_dense'>"
      ]
     },
     "metadata": {},
     "output_type": "display_data"
    },
    {
     "data": {
      "text/html": [
       "\n",
       "        <p>\n",
       "        \\(\\mathbf(2, 5, 13) \\wedge \\mathbf(5, 3, 3)\\) = \\(24 e3 \\wedge e2+-59 e1 \\wedge e3+19 e2 \\wedge e1\\)\n",
       "        </p>\n",
       "        "
      ],
      "text/plain": [
       "\n",
       "        <p>\n",
       "        \\(\\mathbf(2, 5, 13) \\wedge \\mathbf(5, 3, 3)\\) = \\(24 e3 \\wedge e2+-59 e1 \\wedge e3+19 e2 \\wedge e1\\)\n",
       "        </p>\n",
       "        "
      ]
     },
     "metadata": {},
     "output_type": "display_data"
    },
    {
     "data": {
      "text/html": [
       "<html>\\(\\displaystyle \\verb|testing|\\verb| |\\verb|problem|\\verb| |\\verb|5.1.5...(x|\\verb| |\\verb|-a)|\\verb| |\\verb|^|\\verb| |\\verb|b|\\verb| |\\verb|=|\\verb| |\\verb|0|\\)</html>"
      ],
      "text/latex": [
       "$\\displaystyle \\verb|testing|\\verb| |\\verb|problem|\\verb| |\\verb|5.1.5...(x|\\verb| |\\verb|-a)|\\verb| |\\verb|^|\\verb| |\\verb|b|\\verb| |\\verb|=|\\verb| |\\verb|0|$"
      ],
      "text/plain": [
       "'testing problem 5.1.5...(x -a) ^ b = 0'"
      ]
     },
     "metadata": {},
     "output_type": "display_data"
    },
    {
     "data": {
      "text/html": [
       "<html>\\(\\displaystyle \\verb|convert|\\verb| |\\verb|to|\\verb| |\\verb|our|\\verb| |\\verb|vectors:|\\verb| |\\verb|x->w,|\\verb| |\\verb|a->|\\verb| |\\verb|d,|\\verb| |\\verb|b->f|\\)</html>"
      ],
      "text/latex": [
       "$\\displaystyle \\verb|convert|\\verb| |\\verb|to|\\verb| |\\verb|our|\\verb| |\\verb|vectors:|\\verb| |\\verb|x->w,|\\verb| |\\verb|a->|\\verb| |\\verb|d,|\\verb| |\\verb|b->f|$"
      ],
      "text/plain": [
       "'convert to our vectors: x->w, a-> d, b->f'"
      ]
     },
     "metadata": {},
     "output_type": "display_data"
    },
    {
     "data": {
      "text/html": [
       "<html>\\(\\displaystyle \\verb|testing|\\verb| |\\verb|vector|\\verb| |\\verb|subtraction:|\\)</html>"
      ],
      "text/latex": [
       "$\\displaystyle \\verb|testing|\\verb| |\\verb|vector|\\verb| |\\verb|subtraction:|$"
      ],
      "text/plain": [
       "'testing vector subtraction:'"
      ]
     },
     "metadata": {},
     "output_type": "display_data"
    },
    {
     "data": {
      "text/html": [
       "<html>\\(\\displaystyle \\verb|testing|\\verb| |\\verb|geometric|\\verb| |\\verb|product...d|\\verb| |\\verb|*|\\verb| |\\verb|f|\\verb| |\\verb|=|\\)</html>"
      ],
      "text/latex": [
       "$\\displaystyle \\verb|testing|\\verb| |\\verb|geometric|\\verb| |\\verb|product...d|\\verb| |\\verb|*|\\verb| |\\verb|f|\\verb| |\\verb|=|$"
      ],
      "text/plain": [
       "'testing geometric product...d * f ='"
      ]
     },
     "metadata": {},
     "output_type": "display_data"
    },
    {
     "data": {
      "text/html": [
       "\n",
       "        <p>\n",
       "        \\(\\mathbf(2, 5, 13) \\wedge \\mathbf(5, 3, 3)\\) = \\(24 e3 \\wedge e2+-59 e1 \\wedge e3+19 e2 \\wedge e1\\)\n",
       "        </p>\n",
       "        "
      ],
      "text/plain": [
       "\n",
       "        <p>\n",
       "        \\(\\mathbf(2, 5, 13) \\wedge \\mathbf(5, 3, 3)\\) = \\(24 e3 \\wedge e2+-59 e1 \\wedge e3+19 e2 \\wedge e1\\)\n",
       "        </p>\n",
       "        "
      ]
     },
     "metadata": {},
     "output_type": "display_data"
    },
    {
     "data": {
      "text/html": [
       "\n",
       "        <p>\n",
       "        \\(\\mathbf64 + \\mathbf(2, 5, 13)\\) + \\(5 e3 \\wedge e2+13 e1 \\wedge e3+2 e2 \\wedge e1\\)\n",
       "        </p>\n",
       "        "
      ],
      "text/plain": [
       "\n",
       "        <p>\n",
       "        \\(\\mathbf64 + \\mathbf(2, 5, 13)\\) + \\(5 e3 \\wedge e2+13 e1 \\wedge e3+2 e2 \\wedge e1\\)\n",
       "        </p>\n",
       "        "
      ]
     },
     "metadata": {},
     "output_type": "display_data"
    },
    {
     "data": {
      "text/html": [
       "<html>\\(\\displaystyle \\verb|testing|\\verb| |\\verb|geometric|\\verb| |\\verb|product...d.geometric_product(f)|\\verb| |\\verb|=|\\)</html>"
      ],
      "text/latex": [
       "$\\displaystyle \\verb|testing|\\verb| |\\verb|geometric|\\verb| |\\verb|product...d.geometric_product(f)|\\verb| |\\verb|=|$"
      ],
      "text/plain": [
       "'testing geometric product...d.geometric_product(f) ='"
      ]
     },
     "metadata": {},
     "output_type": "display_data"
    },
    {
     "data": {
      "text/html": [
       "\n",
       "        <p>\n",
       "        \\(\\mathbf64 + \\mathbf(-24, 59, -19)\\) + \\(59 e3 \\wedge e2+-19 e1 \\wedge e3+-24 e2 \\wedge e1\\)\n",
       "        </p>\n",
       "        "
      ],
      "text/plain": [
       "\n",
       "        <p>\n",
       "        \\(\\mathbf64 + \\mathbf(-24, 59, -19)\\) + \\(59 e3 \\wedge e2+-19 e1 \\wedge e3+-24 e2 \\wedge e1\\)\n",
       "        </p>\n",
       "        "
      ]
     },
     "metadata": {},
     "output_type": "display_data"
    },
    {
     "data": {
      "text/plain": [
       "Generic element of a structure"
      ]
     },
     "execution_count": 53,
     "metadata": {},
     "output_type": "execute_result"
    }
   ],
   "source": [
    " \n",
    "\n",
    "\n"
   ]
  },
  {
   "cell_type": "code",
   "execution_count": null,
   "id": "db315dd5-8d3f-4271-b805-7eb055703800",
   "metadata": {},
   "outputs": [],
   "source": []
  },
  {
   "cell_type": "markdown",
   "id": "02155924-7e6c-4272-9f02-5c134c4a66ca",
   "metadata": {},
   "source": [
    "**Theorem 4.18** (Fourier expansion).\n",
    "\n",
    "Let $\\epsilon = [e_1, e_2, ..., e_n]$ be an orthonormal basis for an inner product space $V$. Then for every $v \\in V$,\n",
    "\n",
    "$v = (v \\cdot e_1)e_1 + (v \\cdot e_2) e_2 + \\cdot + (v \\cdot e_n)e_n$ (4.12)\n",
    "\n",
    "This is the Fourier expansion of $v$ with respect to $\\epsilon$. It expresses $v$ as the sum of its projections on the basis vectors(Theorem 4.2). See Figure 4.10.\n",
    "\n",
    "We will use Fourier expansion many times in this book. The expansion and its generalizations are a major theme in mathematics and its applications.\n",
    "\n",
    "\n",
    "**Dot product defined as integral of functions**\n",
    "\n",
    "$f \\cdot g = \\int_a ^b{f(x) g(x) dx}$  (4.11)\n",
    "\n",
    "\n",
    "**Definition 4.11** (Norm). \n",
    "The norm $|V|$ of a vector $v$ in an inner product space is given by $|V|^2 = v \\cdot v$\n"
   ]
  },
  {
   "cell_type": "code",
   "execution_count": null,
   "id": "0cb31af9-d6d0-4b90-8a59-d9e012e50860",
   "metadata": {},
   "outputs": [],
   "source": []
  },
  {
   "cell_type": "code",
   "execution_count": null,
   "id": "9dc9ca66-32be-4dd2-bba2-b4b4ff852c8e",
   "metadata": {},
   "outputs": [],
   "source": []
  },
  {
   "cell_type": "code",
   "execution_count": null,
   "id": "9098e60f-3084-4d31-958c-9b0d15c32d9f",
   "metadata": {},
   "outputs": [],
   "source": []
  }
 ],
 "metadata": {
  "kernelspec": {
   "display_name": "SageMath 9.7",
   "language": "sage",
   "name": "sagemath"
  },
  "language_info": {
   "codemirror_mode": {
    "name": "ipython",
    "version": 3
   },
   "file_extension": ".py",
   "mimetype": "text/x-python",
   "name": "python",
   "nbconvert_exporter": "python",
   "pygments_lexer": "ipython3",
   "version": "3.10.12"
  }
 },
 "nbformat": 4,
 "nbformat_minor": 5
}
