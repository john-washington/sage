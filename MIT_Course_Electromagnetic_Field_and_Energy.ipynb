{
 "cells": [
  {
   "cell_type": "markdown",
   "id": "14b4089b-1105-486a-b85e-36149928ab28",
   "metadata": {},
   "source": [
    "**Maxwell's Integral Laws in Free Space Chapter 1**\n",
    "\n",
    "**The Lorentz Law in Free Space**\n",
    "There are two points of view for formulating a theory of electrodynamics. The older one views\n",
    "the forces of attraction or repulsion between two charges or currents as the result of action at a distnace.\n",
    "Coulomb's law of electrostatics and the law of magnetostatics were first stated in this fashion. Faraday introduced\n",
    "a new approach in which he envisioned the space between interacting charges to be filled with fields, by which\n",
    "the space is activated in a certain sense; forces between two interacting charges are then transferred, \n",
    "in Faraday's view, from volumn element to volumn element in the space between the interacting bodies until \n",
    "finally they are transfered from one charge to the other. The advantage of Faraday's approach was that it brought \n",
    "to bear on the electromagnetic problem the then well-developed theory of continuum mechanics. \n",
    "The culmination of this point of view was Maxwell's formlation of the equations.\n",
    "  \n",
    "From Faraday's point of view, electric and magnetic fields are defined at a point $\\mathbf{r}$ \n",
    "even when there is no charge present there. \n",
    "The fields are defined in terms of the force that would be exerted on a test charge $q$ if it were introduced\n",
    "at \n",
    "$\\mathbf{r}$ moving at a velocity $\\mathbf{v}$ and orthoginal to it. The force is summarized in terms of the electric\n",
    "field intensity $\\mathbf{E}$ and magnetic flux density $\\mu_0 \\mathbf{H}$ by the Lorentz force law.\n",
    "\n",
    "$$\n",
    "  \\begin{align}\n",
    "  \\mathbf{f}=q(\\mathbf{E} + \\mathbf{v} \\times \\mu_0 \\mathbf{H})  && (1)\n",
    "  \\end{align}\n",
    "$$    \n",
    "  \n",
    "In general, $E$ and $H$ are not uniform, but rather are functions of position $r$ and time $t$\n",
    "  \n",
    "$\\mathbf{E}=\\mathbf{E}(\\mathbf{r},t)$ and $\\mu_0\\mathbf{H} = \\mu_0 \\mathbf{H}(\\mathbf{r},t)$\n",
    "  \n",
    "Note: I am assuming $\\mathbf{v}$ to be a constant velocity, i.e. there's no acceleration."
   ]
  },
  {
   "cell_type": "markdown",
   "id": "49a1f6b0-c65d-4a8e-96e3-306a652cd926",
   "metadata": {},
   "source": [
    "**case 1:r.diff(t, 2) would be zero, so the force would be zero**\n",
    "analysis:\n",
    "    this seems that the velocity is going linear in all dimension, which would \n",
    "#mean some type of equilibrium, and the resulting force is zero\n",
    "#r=vector((ax*t, ay*t, az*t  ))\n",
    "**case 2: r.diff(t, 2) not equal to zero, so the resulting force > 0**\n",
    "analysis:\n",
    "    this seems to be the average case when the force acting on the moving\n",
    "    object results in one direction having a push, so the force is not zero"
   ]
  },
  {
   "cell_type": "markdown",
   "id": "7c031d3b-94ca-4e4c-82ef-1961ea76a6c9",
   "metadata": {},
   "source": [
    "here I am thinking since both $r$, and $E$ are functions of t, can $E$ be expressed as a final function\n",
    "of t, with some sort of product with $E$ in between?, I am ignoring the r factor for now, and simply\n",
    "expressing $E$ as a function of t"
   ]
  },
  {
   "cell_type": "code",
   "execution_count": 69,
   "id": "2a3e004f-a899-408f-8350-2efbec9faab7",
   "metadata": {},
   "outputs": [],
   "source": [
    "ax = 2;\n",
    "ay = 1;\n",
    "az = 3;\n",
    "a1=3\n",
    "a2 =0\n",
    "a3=2\n",
    "var('t')\n",
    "var('t_prime')\n",
    "\n",
    "#we should use position vector to get velocity V\n",
    "r=vector((ax*t, ay*t, az  ))\n",
    "v = r.diff(t)\n",
    "v\n",
    "\n",
    "#I need to make sure second derivate of r is zero, in order V to be constanct velocity\n",
    "r.diff(t, 2) == 0\n",
    "\n",
    "q=2\n",
    "#E(r,t)\n",
    "\n",
    "#TO DO: here I am thinking since both r, and E are functions of t, can E be expressed as a final function\n",
    "#of t, with some sort of product with E in between?, I am ignoring the r factor for now, and simply\n",
    "#expressing E as a function of t\n",
    "\n",
    "#we will make E as a function of r and t\n",
    "E= r * t\n",
    "E\n",
    "qE = q*E(t=1)"
   ]
  },
  {
   "cell_type": "markdown",
   "id": "13538b7a-5403-4d45-a046-c2ba71c1d5d6",
   "metadata": {},
   "source": [
    "we can plot $qE$ as a vector now as in Figure 1.1.1 a) in the book"
   ]
  },
  {
   "cell_type": "code",
   "execution_count": 70,
   "id": "f2a5d962-e605-49e6-9aa0-5ffbdfead6ac",
   "metadata": {},
   "outputs": [],
   "source": [
    "EPlot=plot(E(t=1), legend_label='Vector qE ', color='yellow', thickness=15)\n",
    "AllPlot= EPlot \n",
    "#AllPlot.show()"
   ]
  },
  {
   "cell_type": "markdown",
   "id": "6a5f5405-4283-4ea9-9367-a6c61bf590c0",
   "metadata": {},
   "source": [
    "Now let's draw vector $v$ and $H$, $v$ is the velocity pointing horizontal to the right\n",
    "$H$ is the Magnetic Density vector point vertical upward, their cross product\n",
    "is a vector perpendicular to the plane made by $v$ and $H$.\n",
    "\n",
    "We shall experiment with the cross product, and see if it plot \n",
    "correctly.\n",
    "\n"
   ]
  },
  {
   "cell_type": "code",
   "execution_count": 82,
   "id": "3fe11991-1f4e-4072-ad83-a022b9cb1e00",
   "metadata": {},
   "outputs": [],
   "source": [
    "#v = vector((a1*t , a2*t, a3*t))\n",
    "bx = 0\n",
    "by =2\n",
    "bz = 3\n",
    "H = vector((bx*t, by*t, bz*t))\n",
    "tick = 1\n",
    "magnetic_force = v.cross_product(H)\n",
    "vplot = plot(v(t=tick), legend_label='Vector v ', color='blue', thickness=10)\n",
    "Hplot = plot(H(t=tick), legend_label='Vector H ', color='blue', thickness=10)\n",
    "magnetic_forceplot = plot(magnetic_force(t=1), legend_label='Vector v ', color='blue', thickness=10)\n",
    "AllPlot= EPlot + vplot + Hplot + magnetic_forceplot\n",
    "#AllPlot.show()"
   ]
  },
  {
   "cell_type": "markdown",
   "id": "f5c648ba-341e-43d8-9a9b-5a0a606d2bcd",
   "metadata": {},
   "source": [
    "Now the total force\n",
    " $$\n",
    "  \\begin{align}\n",
    "  \\mathbf{f}=q(\\mathbf{E} + \\mathbf{v} \\times \\mu_0 \\mathbf{H})  && (1)\n",
    "  \\end{align}\n",
    "  $$   "
   ]
  },
  {
   "cell_type": "code",
   "execution_count": 84,
   "id": "6ff4a9dd-8804-4ea6-9e1f-c8691003421f",
   "metadata": {},
   "outputs": [],
   "source": [
    "q=1\n",
    "f = q*(E + v.cross_product(H))\n",
    "fplot = plot(f(t=tick), legend_label='the Lorentz force Vector f ', color='red', thickness=10)\n",
    "AllPlot= EPlot + vplot + Hplot + magnetic_forceplot + fplot\n",
    "#AllPlot.show()"
   ]
  },
  {
   "cell_type": "markdown",
   "id": "96fae74c-70ad-4fe0-b44a-d1b9935d9e45",
   "metadata": {},
   "source": [
    "Things looking good. Now we investigate other relations:\n",
    "    \n",
    "**Example 1.1.1. Electron Motion in Vacuum in a Uniform Static Electric Field**\n",
    "Fig. 1.1.2.\n",
    "\n",
    "In vacuum, the motion of a charged particle is limited only by its own inertia. In the uniform electric\n",
    "field illustrated in Fig. 1.1.2, there is no magnetic field, and an electron starts out from the plane $x=0$ with an \n",
    "initial velocity $v_i$.\n",
    "\n",
    "The imposed electric field is $E = i_x E_x$, where $i_x$ is the unit vector in the $x$ direction and $E_x$ is a given\n",
    "constant. The trajectory is to be determined here and used to exemplify the charge and current density in Example 1.2.1.\n",
    "\n",
    "\n",
    "Fig. 1.1.2\n",
    "\n",
    "\n",
    "Here we are going to try to code and plot Fig 1.1.2, and verify our graph is similar to the text book."
   ]
  },
  {
   "cell_type": "code",
   "execution_count": null,
   "id": "c2e9c288-0b3e-4acc-8ffd-1558612b12a5",
   "metadata": {},
   "outputs": [],
   "source": []
  },
  {
   "cell_type": "markdown",
   "id": "855fe378-f6d0-4a4d-a552-6264d442a0d9",
   "metadata": {},
   "source": [
    "An electron, subject to the uniform electric field intensity $E_x$, has the \n",
    "position $\\xi_x$, shown as a function of time for positive and negative fields.\n",
    "\n",
    "With $m$ defined as the electron mass, Newton's law + Lorentz Law = electron's motion:\n",
    "\n",
    "Reminder:\n",
    "Newton's Law: $$F = ma$$\n",
    "Lorendz Law:\n",
    " $$\n",
    "  \\begin{align}\n",
    "  \\mathbf{f}=q(\\mathbf{E} + \\mathbf{v} \\times \\mu_0 \\mathbf{H})  && (1)\n",
    "  \\end{align}\n",
    "  $$   \n",
    "  \n",
    "$$\n",
    "\\begin{align}\n",
    "m \\frac{d^2 \\xi_x}{dt^2} = f = -e E_x  && (4)\n",
    "\\end{align}\n",
    "$$\n",
    "\n",
    "The electron position $\\xi_x$ is shown in Fig. 1.1.2. The charge of the electron is customarily denoted by $e (e= 1.6 \\times 10^{-19}$ coulomb) where $e$ is positive, thus necessitating an explicity minus sign in (4). (WHY negative???)\n",
    "\n",
    "By integrating twice, we get\n",
    "\n"
   ]
  },
  {
   "cell_type": "code",
   "execution_count": 157,
   "id": "3ac3a954-1f27-457f-8f26-2de731ef3241",
   "metadata": {},
   "outputs": [
    {
     "data": {
      "image/png": "[encoded data removed]",
      "text/plain": [
       "Graphics object consisting of 1 graphics primitive"
      ]
     },
     "metadata": {},
     "output_type": "display_data"
    }
   ],
   "source": [
    "#ax = 3\n",
    "#by=4\n",
    "#cz = 5\n",
    "#xi_x = vector((ax*t^2, by*t, cz))\n",
    "var('m', 'e', 'c1', 'c2', 'E_x')\n",
    "\n",
    "#E_x = 10\n",
    "#define base vectors for plotting the Transformation at time t\n",
    "e1_x = 1\n",
    "e1_y = 0\n",
    "e1_z = 0\n",
    "i_x=vector(e1_x *[1,0,0] + e1_y *[0,1,0] + e1_z*[0,0,1])\n",
    "\n",
    "E = i_x * E_x\n",
    "\n",
    "#we should use position vector to get velocity V\n",
    "#xi_x= E * t^2\n",
    "\n",
    "#to get the result in formula (5) we set it up as below:\n",
    "#here I interpret E_x to be really E\n",
    "#e = 1.6 * 10^(-19)\n",
    "\n",
    "f=  -e* E \n",
    "#m* xi_x.diff(t, 2)\n",
    "xi_x0 = integral(f, (t))\n",
    "xi_x0\n",
    "XI(t)  =  integral(xi_x0, (t))\n",
    "XI(t)\n",
    "XI(E_x=10.0, e=1.6*10^(-19))\n",
    "#XI(t)\n",
    "#ixPlot=plot(i_x, legend_lable='Base Vector i_x', color='blue', thickness=2)\n",
    "#EPlot=plot(E(E_x=10.0), legend_lable='E', color='red', thickness=2)\n",
    "\n",
    "xiPlot = plot( (8.00000000000000e-19)*t^2, (t, -10, 10), color='blue', thickness=2)\n",
    "#xiPlot = plot(XI(E_x=10.0, e=1.6*10^(-19)), (t, -10, 10), color='blue', thickness=2)\n",
    "\n",
    "#-(8.00000000000000e-19)*t^2\n",
    "AllPlot= xiPlot\n",
    "#EPlot + ixPlot+ \n",
    "AllPlot.show()"
   ]
  },
  {
   "cell_type": "markdown",
   "id": "dfb6ff94-758b-4ac3-9ac9-61a5d811a394",
   "metadata": {},
   "source": [
    "How to integrate twice?? to get what's in the book:\n",
    "\n",
    "$$\n",
    "\\begin{align}\n",
    "\\xi_x = - \\frac{1}{2} \\frac{e}{m} E_x t^2 + c_1 t + c2 && (5)\n",
    "\\end{align}\n",
    "$$\n",
    "\n",
    "where $c_1, c_2$ are integration constants. If we assume that the eletron is at $\\xi_x = 0$ and has velocity $v_i$ when $t = t_i$, it \n",
    "follows that these constants are\n",
    "\n",
    "$$\n",
    "\\begin{align}\n",
    "c_1 &= v_i + \\frac{e}{m} E_x t_i \\\\\n",
    "c_2 &= -v_i t_i - \\frac{1}{2} \\frac{e}{m} E_x t^2_i & (6)\n",
    "\\end{align}\n",
    "$$\n",
    "\n",
    "Thus, the electron position and velocity are given as a function of time by\n",
    "\n",
    "$$\n",
    "\\begin{align}\n",
    "\\xi_x &= - \\frac{1}{2} \\frac{e}{m} E_x(t - t_i)^2 + v_i (t - t_i)  & (7)\n",
    "\\end{align}\n",
    "$$"
   ]
  },
  {
   "cell_type": "code",
   "execution_count": null,
   "id": "baa9965e-f279-4252-b0dc-e81af25db3c2",
   "metadata": {},
   "outputs": [],
   "source": []
  }
 ],
 "metadata": {
  "kernelspec": {
   "display_name": "SageMath 9.7",
   "language": "sage",
   "name": "sagemath"
  },
  "language_info": {
   "codemirror_mode": {
    "name": "ipython",
    "version": 3
   },
   "file_extension": ".py",
   "mimetype": "text/x-python",
   "name": "python",
   "nbconvert_exporter": "python",
   "pygments_lexer": "ipython3",
   "version": "3.10.6"
  }
 },
 "nbformat": 4,
 "nbformat_minor": 5
}
