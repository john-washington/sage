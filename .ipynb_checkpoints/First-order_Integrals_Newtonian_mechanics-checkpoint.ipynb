{
 "cells": [
  {
   "cell_type": "markdown",
   "id": "21ab5f38-96ea-412a-ba49-d39547ce69cf",
   "metadata": {},
   "source": [
    "https://phys.libretexts.org/@go/page/9568\n",
    "or\n",
    "https://phys.libretexts.org/Bookshelves/Classical_Mechanics/Variational_Principles_in_Classical_Mechanics_(Cline)/02%3A_Review_of_Newtonian_Mechanics/2.04%3A_First-order_Integrals_in_Newtonian_mechanics\n",
    "\n",
    "General Introduction to Integral:\n",
    "https://encyclopediaofmath.org/wiki/Integral\n"
   ]
  },
  {
   "cell_type": "markdown",
   "id": "4dcb4f59-c48a-4b89-a114-2c550cc7e24f",
   "metadata": {},
   "source": [
    "**2.4: First-order Integrals in Newtonian mechanics**\n",
    " \n",
    " A fundamental goal of mechanics is to determine the equations of motion for an n−body system, where the force $\\mathbf{F}_i$ acts on the individual mass $m_i$ where $1 ≤ i ≤ n $. \n",
    " \n",
    " Newton’s second-order equation of motion, \n",
    " $\\begin{align}\n",
    "\\mathbf{F}=\\frac{d\\mathbf{p}}{dt}=m \\frac{d^2\\mathbf{r}}{dt^2} = m \\ddot{\\mathbf{r}}  && (2.2.6)\n",
    "\\end{align} $   \n",
    "\n",
    "must be solved to calculate instantaneous spatial locations, velocities, and accelerations for each mass $m_i$ of an n-body system. Both $\\mathbf{F} $ and $\\ddot{\\mathbf{r}}_i$ are vectors each having three orthogonal components. \n",
    "\n",
    "The solution of equation (2.2.6) involves integrating second-order equations of motion subject to a set of initial conditions. Although this task appears simple in principle, it can be exceedingly complicated for many- body systems. Fortunately, solution of the motion often can be simplified by exploiting three first-order integrals of Newton’s equations of motion, that relate directly to conservation of either the linear momentum, angular momentum, or energy of the system. In addition, for the special case of these three first-order integrals, the internal motion of any many-body system can be factored out by a simple transformations into the center of mass of the system. As a consequence, the following three first-order integrals are exploited extensively in classical mechanics.\n",
    "\n",
    "**Linear Momentum**\n",
    "\n",
    "Newton’s Laws can be written as the differential and integral forms of the first-order time integral which equals the change in linear momentum.\n",
    "\n",
    "$\\mathbf{F}_i = \\frac{d\\mathbf{p}_i}{dt} $\n",
    "\n",
    "$\n",
    "\\begin{align}\n",
    "\\int_1 ^2 {\\mathbf{F}_i dt} = \\int_1^2{\\frac{d\\mathbf{p}_i}{dt} dt} = (\\mathbf{p}_2 - \\mathbf{p}_1)_i  &&  (2.4.1)\n",
    "\\end{align}\n",
    "$\n",
    "\n",
    "\n",
    "This allows Newton's law of motion to be expressed directly in terms o the linear momentum $\\mathbf{p}_i = m_i \\dot{r}_i $ of each of the $1 < i < n $ bodies in the system. This first-order time integral features prominently in classical mechanics since it connects to the important concept of linear momentum $\\mathbf{p} $. This first-order time integral gives that the total linear momentum is a constant of motion when the sum of the external forces is zero.\n",
    "\n",
    "Let's put 2.3.1 into code by copying the sets of code from Gelileo_Transform sageMath notebook as below:"
   ]
  },
  {
   "cell_type": "code",
   "execution_count": 43,
   "id": "ffc2372c-7e7d-4bec-a233-d5713abf0565",
   "metadata": {},
   "outputs": [
    {
     "data": {
      "text/plain": [
       "(40*t, 10, 0)"
      ]
     },
     "execution_count": 43,
     "metadata": {},
     "output_type": "execute_result"
    }
   ],
   "source": [
    "ax = 2;\n",
    "ay = 1;\n",
    "az = 3;\n",
    "a1=3\n",
    "a2 =4\n",
    "a3=2\n",
    "var('t')\n",
    "var('t_prime')\n",
    "#case 1:r.diff(t, 2) would be zero, so the force would be zero\n",
    "#analysis:\n",
    "#    this seems that the velocity is going linear in all dimension, which would \n",
    "#mean some type of equilibrium, and the resulting force is zero\n",
    "#r=vector((ax*t, ay*t, az*t  ))\n",
    "#case 2: r.diff(t, 2) not equal to zero, so the resulting force > 0\n",
    "#analysis:\n",
    "#    this seems to be the average case when the force acting on the moving\n",
    "#    object results in one direction having a push, so the force is not zero\n",
    "r=vector((ax*t^2, ay*t, az  ))\n",
    "r\n",
    "#r(t=10)\n",
    "#check if the second derivative is  zero, which results in 0 force\n",
    "#r.diff(t, 2) == 0\n",
    "\n",
    "m = 10 #this is just an arbitrary value of the mass\n",
    "#what is the unit of momentum?\n",
    "#it seems to be mass * distance / unit time\n",
    "#how to make a vector value function out of this?\n",
    "#fr = vector(r.diff(t)*t)\n",
    "#P = m * fr\n",
    "#r=vector((ax*t, ay*t, az*t  ))\n",
    "Pi = m * r.diff(t, 1)\n",
    "Pi"
   ]
  },
  {
   "cell_type": "markdown",
   "id": "5c79ecb5-1575-4788-a277-350f51fbd565",
   "metadata": {},
   "source": [
    "Now we linear momentum as a Vector Valued Function, we can go ahead and code equation\n",
    "2.4.1 as below:"
   ]
  },
  {
   "cell_type": "code",
   "execution_count": 41,
   "id": "d4ae050a-e256-448f-9304-4e662023d068",
   "metadata": {},
   "outputs": [
    {
     "data": {
      "text/plain": [
       "(40, 0, 0)"
      ]
     },
     "execution_count": 41,
     "metadata": {},
     "output_type": "execute_result"
    }
   ],
   "source": [
    "#var('i')\n",
    "#technically, i should be an index for an array or list structure holding \n",
    "#values of Fi, we probably don't need to worry about here just yet, not sure\n",
    "#instead we just call the i as part of the symbol\n",
    "Fi = m * r.diff(t, 2)\n",
    "#Pi.diff(t, 1)\n",
    "Fi\n"
   ]
  },
  {
   "cell_type": "markdown",
   "id": "fdc1bfbd-3d71-4dcd-8591-b822654fcc21",
   "metadata": {},
   "source": [
    "Now the fun part of this chapter, the integral, how we code integral in sageMath?\n",
    "standard way as:"
   ]
  },
  {
   "cell_type": "code",
   "execution_count": 42,
   "id": "3e849e9d-1067-4ad4-9be2-59a64a4913c2",
   "metadata": {},
   "outputs": [
    {
     "data": {
      "text/plain": [
       "(120, 0, 0)"
      ]
     },
     "execution_count": 42,
     "metadata": {},
     "output_type": "execute_result"
    }
   ],
   "source": [
    "integral(Fi, (t, 1, 4))\n"
   ]
  },
  {
   "cell_type": "markdown",
   "id": "467ea038-46cd-4fd3-bcf9-ef1778e88da9",
   "metadata": {},
   "source": [
    "But this looks like the same value as the force, is it because we are performing integral over a vector?\n",
    "\n",
    "Let's try making the force a vector valued function so that we could do calculus on it\n",
    "by:\n"
   ]
  },
  {
   "cell_type": "code",
   "execution_count": 23,
   "id": "7924765a-56f6-41ef-b6a4-6230183a490f",
   "metadata": {},
   "outputs": [
    {
     "data": {
      "text/plain": [
       "(300, 0, 0)"
      ]
     },
     "execution_count": 23,
     "metadata": {},
     "output_type": "execute_result"
    }
   ],
   "source": [
    "F(t)=Fi * t\n",
    "integral(F, (t, 1, 4))"
   ]
  },
  {
   "cell_type": "markdown",
   "id": "18f5f6fa-f5f5-4752-9b2f-bc28d78d2a1b",
   "metadata": {},
   "source": [
    "Now which one is correct? the 40 or the 60\n",
    "According to the text, it should equal to\n",
    "$$\n",
    "\\begin{align}\n",
    "\\int_1 ^2 {\\mathbf{F}_i dt} = \\int_1^2{\\frac{d\\mathbf{p}_i}{dt} dt} = (\\mathbf{p}_2 - \\mathbf{p}_1)_i  &&  (2.4.1)\n",
    "\\end{align}\n",
    "$$\n",
    "\n",
    "So let's try coding the momentum formula:\n"
   ]
  },
  {
   "cell_type": "code",
   "execution_count": 26,
   "id": "8bbd7c72-bce0-4fd6-bbc3-9ab4a7e1b8d3",
   "metadata": {},
   "outputs": [
    {
     "data": {
      "text/plain": [
       "(120, 0, 0)"
      ]
     },
     "execution_count": 26,
     "metadata": {},
     "output_type": "execute_result"
    }
   ],
   "source": [
    "Pi(t=4) #(160, 10, 0)\n",
    "#Pi(t=1) #(40, 10, 0)\n",
    "Pi(t=4) - Pi(t=1)"
   ]
  },
  {
   "cell_type": "markdown",
   "id": "b8d713ee-d13e-41ed-8b6f-64e747f3e24d",
   "metadata": {},
   "source": [
    "well, the answer is the 40!! Hmm, what does it mean?\n",
    "\n",
    "So according to https://encyclopediaofmath.org/wiki/Integral\n",
    "\n",
    "\"The notion of the definite integral is introduced either as a limit of integral sums (see Cauchy integral; Riemann integral; Lebesgue integral; Stieltjes integral) or, in the case when the given function f is defined on some interval [a,b] and has a primitive F\n",
    " on this interval, as the difference between the values at the end points, that is, as F(b)−F(a). \n",
    "\n",
    "The definite integral of f\n",
    " on [a,b]\n",
    " is denoted by $$ \\int \\limits^b_a f(x) dx $$\n",
    ". The definition of the integral as a limit of integral sums for the case of continuous functions was stated by A.L. Cauchy in 1823. The case of arbitrary functions was studied by B. Riemann (1853). A substantial advance in the theory of definite integrals was made by G. Darboux (1879), who introduced the notion of upper and lower Riemann sums (see Darboux sum). A necessary and sufficient condition for the Riemann integrability of discontinuous functions was established in final form in 1902 by H. Lebesgue.\n",
    "\n",
    "There is the following relationship between the definitions of the definite integral of a continuous function f on a closed interval [a,b] and the indefinite integral (or primitive) of this function: \n",
    " \n",
    " 1) if F is any primitive of f, then the following Newton–Leibniz formula holds:\n",
    "$$\\int \\limits_a^b f(x) \\, dx = F(b) - F(a) $$\n",
    "\n",
    " 2) for any x in the interval [a,b]\n",
    ", the indefinite integral of the continuous function f\n",
    " can be written in the form\n",
    " \n",
    " $$\\int f(x)\\, dx=\\int\\limits_a^x f(t)\\, dt+C $$\n",
    " \n",
    " where C is an arbitrary constant. In particular, the definite integral with variable upper limit,\n",
    "\n",
    "$$ F(x) = \\int \\limits_a^x f(t)\\, dt \\label{1}$$\n",
    "\n",
    "is a primitive of f.\"\n",
    "\n",
    "One can see that\n",
    "$$\n",
    "\\begin{align}\n",
    "\\int_1 ^2 {\\mathbf{F}_i dt} = \\int_1^2{\\frac{d\\mathbf{p}_i}{dt} dt} = (\\mathbf{p}_2 - \\mathbf{p}_1)_i  &&  (2.4.1)\n",
    "\\end{align}\n",
    "$$\n",
    "is correct application of part 1) of the above definition of integral formulas, in that momentum function P is the so called primitive function F(x), while the force F in the 2.4.2 is the given function f(x) in the Newton–Leibniz formula.\n",
    "\n",
    "Still the question is that integral of a vector, is it going to be correct? \n",
    "\n",
    "We would like to prove this formula 1) for vectors."
   ]
  },
  {
   "cell_type": "code",
   "execution_count": 44,
   "id": "2da63397-c964-4a97-909e-d3bceeb7ac08",
   "metadata": {},
   "outputs": [
    {
     "data": {
      "image/png": "[encoded data removed]",
      "text/plain": [
       "Graphics object consisting of 1 graphics primitive"
      ]
     },
     "metadata": {},
     "output_type": "display_data"
    }
   ],
   "source": [
    "#the following is just to get a sense of what these functions look like graphically\n",
    "f(t)=t^2\n",
    "f2(t) =t^3\n",
    "fplot=plot(f, (t, -100, 100), color=\"red\")\n",
    "f2plot=plot(f2, (t, -100, 100) )\n",
    "g = fplot \n",
    "#+ fplot\n",
    "g.show()"
   ]
  },
  {
   "cell_type": "code",
   "execution_count": null,
   "id": "daa6872d-7ce3-47ea-9808-473184304414",
   "metadata": {},
   "outputs": [],
   "source": []
  }
 ],
 "metadata": {
  "kernelspec": {
   "display_name": "SageMath 9.7",
   "language": "sage",
   "name": "sagemath"
  },
  "language_info": {
   "codemirror_mode": {
    "name": "ipython",
    "version": 3
   },
   "file_extension": ".py",
   "mimetype": "text/x-python",
   "name": "python",
   "nbconvert_exporter": "python",
   "pygments_lexer": "ipython3",
   "version": "3.10.6"
  }
 },
 "nbformat": 4,
 "nbformat_minor": 5
}
