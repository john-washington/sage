{
 "cells": [
  {
   "cell_type": "markdown",
   "id": "9334389f-9102-4cf8-bf2f-f93cc688937d",
   "metadata": {},
   "source": [
    "** The product and quotient rules**\n",
    "\n",
    "**Preview Activity 2.3**\n",
    "Let $f$ and $g$ be the functions defined$ f(t) = 2 t^2$ and $g(t) = t^3 + 4 t$\n",
    "\n",
    "a)Determine $f'(t)$ and $g'(t)$\n",
    "\n",
    "b) Let p(t) = 2 t^2 (t^3 + 4t) and observe that $p(tf(t) \\cdot g(t)$.\n",
    "Rewrite the formula for $p$ by distributing the $2 t^2$ term. Then compute\n",
    "$p'(t)$ using sum and constant multiple rules.\n",
    "\n",
    "c) True or false: $p'(t) = f'(t) \\cdot g'(t)$\n",
    "\n",
    "d) $q(t) = \\frac{t+ 4 t}{2 t^2}$ and observe that $q(t) = \\frac{g(t)}{f(t)}$. Rewrite the formula for $q$ by dividing each term in the \n",
    "numerator by the denominator and simplify to write $q$ as a sum of constant multipliers of powers o $t$. Then, compute $q'(t)$ using the sum and constant multiple rules.\n",
    "\n",
    "e) True or false: $q'(t) = \\frac{g'(t)}{f'(t)}$"
   ]
  },
  {
   "cell_type": "code",
   "execution_count": 12,
   "id": "4a7c6be3-2abe-47e0-ba73-a0b8146fd29c",
   "metadata": {},
   "outputs": [
    {
     "data": {
      "text/html": [
       "<html>\\(\\displaystyle t \\ {\\mapsto}\\ 4 \\, t\\)</html>"
      ],
      "text/latex": [
       "$\\displaystyle t \\ {\\mapsto}\\ 4 \\, t$"
      ],
      "text/plain": [
       "t |--> 4*t"
      ]
     },
     "metadata": {},
     "output_type": "display_data"
    }
   ],
   "source": [
    "f(t) = 2* t^2\n",
    "show(f.diff(t))"
   ]
  },
  {
   "cell_type": "code",
   "execution_count": 13,
   "id": "56313866-f850-4f92-91b1-fa3178f5f5d9",
   "metadata": {},
   "outputs": [
    {
     "data": {
      "text/html": [
       "<html>\\(\\displaystyle t \\ {\\mapsto}\\ 3 \\, t^{2} + 4\\)</html>"
      ],
      "text/latex": [
       "$\\displaystyle t \\ {\\mapsto}\\ 3 \\, t^{2} + 4$"
      ],
      "text/plain": [
       "t |--> 3*t^2 + 4"
      ]
     },
     "metadata": {},
     "output_type": "display_data"
    }
   ],
   "source": [
    "g(t) = t^3 + 4*t\n",
    "show(g.diff(t))"
   ]
  },
  {
   "cell_type": "code",
   "execution_count": 14,
   "id": "8aa0edc9-616e-42e7-bbb6-7a90d8be8e1b",
   "metadata": {},
   "outputs": [
    {
     "data": {
      "text/html": [
       "<html>\\(\\displaystyle 2 \\, t^{5} + 8 \\, t^{3}\\)</html>"
      ],
      "text/latex": [
       "$\\displaystyle 2 \\, t^{5} + 8 \\, t^{3}$"
      ],
      "text/plain": [
       "2*t^5 + 8*t^3"
      ]
     },
     "metadata": {},
     "output_type": "display_data"
    }
   ],
   "source": [
    "p(t) = 2 * t^2 * (t^3 + 4*t)\n",
    "show(expand(p(t)))"
   ]
  },
  {
   "cell_type": "code",
   "execution_count": 15,
   "id": "c9156a8c-d9ee-42eb-85f8-95c0f4ded55d",
   "metadata": {},
   "outputs": [
    {
     "data": {
      "text/html": [
       "<html>\\(\\displaystyle 10 \\, t^{4} + 24 \\, t^{2}\\)</html>"
      ],
      "text/latex": [
       "$\\displaystyle 10 \\, t^{4} + 24 \\, t^{2}$"
      ],
      "text/plain": [
       "10*t^4 + 24*t^2"
      ]
     },
     "metadata": {},
     "output_type": "display_data"
    },
    {
     "data": {
      "text/html": [
       "<html>\\(\\displaystyle t \\ {\\mapsto}\\ 10 \\, t^{4} + 24 \\, t^{2}\\)</html>"
      ],
      "text/latex": [
       "$\\displaystyle t \\ {\\mapsto}\\ 10 \\, t^{4} + 24 \\, t^{2}$"
      ],
      "text/plain": [
       "t |--> 10*t^4 + 24*t^2"
      ]
     },
     "metadata": {},
     "output_type": "display_data"
    }
   ],
   "source": [
    "p_prime(t) = 10 * t^4 + 24 * t^2\n",
    "show(p_prime(t))\n",
    "show(expand(p.diff(t)))"
   ]
  },
  {
   "cell_type": "markdown",
   "id": "6d79c073-48e1-4eb6-8722-d30a70908ddc",
   "metadata": {},
   "source": [
    "c) false"
   ]
  },
  {
   "cell_type": "code",
   "execution_count": 16,
   "id": "030dc3d0-da2f-4700-b880-2922a4c0214a",
   "metadata": {},
   "outputs": [
    {
     "data": {
      "text/html": [
       "<html>\\(\\displaystyle t^{3} + 4 \\, t\\)</html>"
      ],
      "text/latex": [
       "$\\displaystyle t^{3} + 4 \\, t$"
      ],
      "text/plain": [
       "t^3 + 4*t"
      ]
     },
     "metadata": {},
     "output_type": "display_data"
    },
    {
     "data": {
      "text/html": [
       "<html>\\(\\displaystyle 2 \\, t^{2}\\)</html>"
      ],
      "text/latex": [
       "$\\displaystyle 2 \\, t^{2}$"
      ],
      "text/plain": [
       "2*t^2"
      ]
     },
     "metadata": {},
     "output_type": "display_data"
    },
    {
     "data": {
      "text/html": [
       "<html>\\(\\displaystyle \\frac{t^{3} + 4 \\, t}{2 \\, t^{2}}\\)</html>"
      ],
      "text/latex": [
       "$\\displaystyle \\frac{t^{3} + 4 \\, t}{2 \\, t^{2}}$"
      ],
      "text/plain": [
       "1/2*(t^3 + 4*t)/t^2"
      ]
     },
     "metadata": {},
     "output_type": "display_data"
    },
    {
     "data": {
      "text/html": [
       "<html>\\(\\displaystyle \\frac{t^{3} + 4 \\, t}{2 \\, t^{2}}\\)</html>"
      ],
      "text/latex": [
       "$\\displaystyle \\frac{t^{3} + 4 \\, t}{2 \\, t^{2}}$"
      ],
      "text/plain": [
       "1/2*(t^3 + 4*t)/t^2"
      ]
     },
     "metadata": {},
     "output_type": "display_data"
    }
   ],
   "source": [
    "q(t) = (t^3 + 4*t )/(2*t^2)\n",
    "show(g(t))\n",
    "show(f(t))\n",
    "     \n",
    "show(q(t))\n",
    "show(g(t)/f(t))"
   ]
  },
  {
   "cell_type": "code",
   "execution_count": 18,
   "id": "5e700819-1ff7-496f-8579-add038d619a2",
   "metadata": {},
   "outputs": [
    {
     "data": {
      "text/html": [
       "<html>\\(\\displaystyle \\frac{1}{2} \\, t + \\frac{2}{t}\\)</html>"
      ],
      "text/latex": [
       "$\\displaystyle \\frac{1}{2} \\, t + \\frac{2}{t}$"
      ],
      "text/plain": [
       "1/2*t + 2/t"
      ]
     },
     "metadata": {},
     "output_type": "display_data"
    }
   ],
   "source": [
    "show(expand(q(t)))"
   ]
  },
  {
   "cell_type": "code",
   "execution_count": 22,
   "id": "b4118e31-8c13-4408-b8ed-cc3bc46c83b9",
   "metadata": {},
   "outputs": [
    {
     "data": {
      "text/html": [
       "<html>\\(\\displaystyle -\\frac{2}{t^{2}} + \\frac{1}{2}\\)</html>"
      ],
      "text/latex": [
       "$\\displaystyle -\\frac{2}{t^{2}} + \\frac{1}{2}$"
      ],
      "text/plain": [
       "-2/t^2 + 1/2"
      ]
     },
     "metadata": {},
     "output_type": "display_data"
    },
    {
     "data": {
      "text/html": [
       "<html>\\(\\displaystyle t \\ {\\mapsto}\\ -\\frac{2}{t^{2}} + \\frac{1}{2}\\)</html>"
      ],
      "text/latex": [
       "$\\displaystyle t \\ {\\mapsto}\\ -\\frac{2}{t^{2}} + \\frac{1}{2}$"
      ],
      "text/plain": [
       "t |--> -2/t^2 + 1/2"
      ]
     },
     "metadata": {},
     "output_type": "display_data"
    }
   ],
   "source": [
    "q_prime(t) = (1/2) -2 * t^(-2)\n",
    "show(q_prime(t))\n",
    "show(expand(q.diff(t)))"
   ]
  },
  {
   "cell_type": "code",
   "execution_count": 25,
   "id": "ae96c01f-c34d-449d-a4f6-8e8d03357ecf",
   "metadata": {},
   "outputs": [
    {
     "data": {
      "text/html": [
       "<html>\\(\\displaystyle t \\ {\\mapsto}\\ 3 \\, t^{2} + 4\\)</html>"
      ],
      "text/latex": [
       "$\\displaystyle t \\ {\\mapsto}\\ 3 \\, t^{2} + 4$"
      ],
      "text/plain": [
       "t |--> 3*t^2 + 4"
      ]
     },
     "metadata": {},
     "output_type": "display_data"
    },
    {
     "data": {
      "text/html": [
       "<html>\\(\\displaystyle t \\ {\\mapsto}\\ 4 \\, t\\)</html>"
      ],
      "text/latex": [
       "$\\displaystyle t \\ {\\mapsto}\\ 4 \\, t$"
      ],
      "text/plain": [
       "t |--> 4*t"
      ]
     },
     "metadata": {},
     "output_type": "display_data"
    },
    {
     "data": {
      "text/html": [
       "<html>\\(\\displaystyle t \\ {\\mapsto}\\ \\frac{3}{4} \\, t + \\frac{1}{t}\\)</html>"
      ],
      "text/latex": [
       "$\\displaystyle t \\ {\\mapsto}\\ \\frac{3}{4} \\, t + \\frac{1}{t}$"
      ],
      "text/plain": [
       "t |--> 3/4*t + 1/t"
      ]
     },
     "metadata": {},
     "output_type": "display_data"
    }
   ],
   "source": [
    "show(g.diff(t))\n",
    "show(f.diff(t))\n",
    "show(expand(g.diff(t)/f.diff(t)))\n"
   ]
  },
  {
   "cell_type": "markdown",
   "id": "7791a86e-e465-4a4e-84d7-418262ee48d5",
   "metadata": {},
   "source": [
    "e) False\n",
    "\n",
    "**The product rule** If $f$ and $g$ are differentiable functions, then their product $P(x)= f(x) \\cdot g(x)$ is also a differentiable function, \n",
    "and \n",
    "$$P'(x)=f(x) g'(x) + g(x) f'(x)$$\n",
    "\n",
    "Example:  $P(z) = z^3 \\cdot cos(z)$, using the product rule to differentiable $P$."
   ]
  },
  {
   "cell_type": "code",
   "execution_count": 26,
   "id": "f43481d2-f7f2-48f1-84c9-90ea0bb7098b",
   "metadata": {},
   "outputs": [
    {
     "data": {
      "text/html": [
       "<html>\\(\\displaystyle -z^{3} \\sin\\left(z\\right) + 3 \\, z^{2} \\cos\\left(z\\right)\\)</html>"
      ],
      "text/latex": [
       "$\\displaystyle -z^{3} \\sin\\left(z\\right) + 3 \\, z^{2} \\cos\\left(z\\right)$"
      ],
      "text/plain": [
       "-z^3*sin(z) + 3*z^2*cos(z)"
      ]
     },
     "metadata": {},
     "output_type": "display_data"
    },
    {
     "data": {
      "text/html": [
       "<html>\\(\\displaystyle z \\ {\\mapsto}\\ -z^{3} \\sin\\left(z\\right) + 3 \\, z^{2} \\cos\\left(z\\right)\\)</html>"
      ],
      "text/latex": [
       "$\\displaystyle z \\ {\\mapsto}\\ -z^{3} \\sin\\left(z\\right) + 3 \\, z^{2} \\cos\\left(z\\right)$"
      ],
      "text/plain": [
       "z |--> -z^3*sin(z) + 3*z^2*cos(z)"
      ]
     },
     "metadata": {},
     "output_type": "display_data"
    }
   ],
   "source": [
    "var('z')\n",
    "P(z) = z^3 * cos(z)\n",
    "\n",
    "P_prime(z) = z^3*(-sin(z)) + cos(z)*3*z^2\n",
    "show(P_prime(z))\n",
    "show(P.diff(z))"
   ]
  },
  {
   "cell_type": "markdown",
   "id": "2a3a54a4-106c-410e-aa1a-af8a3a0b235f",
   "metadata": {},
   "source": [
    "**Activity 2.7**\n",
    "\n",
    "a) Let $m(w) = 3 w^17 4 ^w. Find m'(w)\n",
    "\n",
    "b) Let $h(t) = (sin(t) + cos(t))t^4$. Find $h'(t)$\n",
    "\n",
    "c) Determine the slope of the tangent line to the curve $y=f(x)$ at the point where $a=1$ if $f$ is given by the rule $f(x) = e^x sin(x)$\n",
    "\n",
    "d) Find the tangent line approximation L(x) to the function $y=g(x)$ at the point where $a = -1$ if $g$ is given by the rule $g(x) = (x^2 + x ) 2^x$"
   ]
  },
  {
   "cell_type": "code",
   "execution_count": 28,
   "id": "9e36c9f4-cded-4a5f-81de-8f17650939ea",
   "metadata": {},
   "outputs": [
    {
     "data": {
      "text/html": [
       "<html>\\(\\displaystyle 3 \\cdot 4^{w} w^{17}\\)</html>"
      ],
      "text/latex": [
       "$\\displaystyle 3 \\cdot 4^{w} w^{17}$"
      ],
      "text/plain": [
       "3*4^w*w^17"
      ]
     },
     "metadata": {},
     "output_type": "display_data"
    }
   ],
   "source": [
    "var('w')\n",
    "m(w) = 3 * w^17 * 4^w\n",
    "show(m(w))"
   ]
  },
  {
   "cell_type": "code",
   "execution_count": 31,
   "id": "9eeca1d3-66bd-43ea-9875-332a82f184e5",
   "metadata": {},
   "outputs": [
    {
     "data": {
      "text/html": [
       "<html>\\(\\displaystyle 6 \\cdot 4^{w} w^{17} \\log\\left(2\\right) + 51 \\cdot 4^{w} w^{16}\\)</html>"
      ],
      "text/latex": [
       "$\\displaystyle 6 \\cdot 4^{w} w^{17} \\log\\left(2\\right) + 51 \\cdot 4^{w} w^{16}$"
      ],
      "text/plain": [
       "6*4^w*w^17*log(2) + 51*4^w*w^16"
      ]
     },
     "metadata": {},
     "output_type": "display_data"
    }
   ],
   "source": [
    "m_prime(w) = 3* w^17 * ln(4)*4^w + 4^w * 3* 17*w^16\n",
    "show(m_prime(w))"
   ]
  },
  {
   "cell_type": "code",
   "execution_count": 30,
   "id": "ac453fce-c487-432d-a356-734071ec73de",
   "metadata": {},
   "outputs": [
    {
     "data": {
      "text/html": [
       "<html>\\(\\displaystyle w \\ {\\mapsto}\\ 6 \\cdot 4^{w} w^{17} \\log\\left(2\\right) + 51 \\cdot 4^{w} w^{16}\\)</html>"
      ],
      "text/latex": [
       "$\\displaystyle w \\ {\\mapsto}\\ 6 \\cdot 4^{w} w^{17} \\log\\left(2\\right) + 51 \\cdot 4^{w} w^{16}$"
      ],
      "text/plain": [
       "w |--> 6*4^w*w^17*log(2) + 51*4^w*w^16"
      ]
     },
     "metadata": {},
     "output_type": "display_data"
    }
   ],
   "source": [
    "show(m.diff(w))"
   ]
  },
  {
   "cell_type": "code",
   "execution_count": 33,
   "id": "2f22f08b-c950-4b86-ae7f-713c1d2b32c5",
   "metadata": {},
   "outputs": [
    {
     "data": {
      "text/html": [
       "<html>\\(\\displaystyle t^{4} {\\left(\\cos\\left(t\\right) + \\sin\\left(t\\right)\\right)}\\)</html>"
      ],
      "text/latex": [
       "$\\displaystyle t^{4} {\\left(\\cos\\left(t\\right) + \\sin\\left(t\\right)\\right)}$"
      ],
      "text/plain": [
       "t^4*(cos(t) + sin(t))"
      ]
     },
     "metadata": {},
     "output_type": "display_data"
    }
   ],
   "source": [
    "var('t')\n",
    "h(t) = (sin(t) + cos(t))*t^4\n",
    "show(h(t))"
   ]
  },
  {
   "cell_type": "code",
   "execution_count": 35,
   "id": "0f707f89-504a-4f6f-8cda-09d978d468af",
   "metadata": {},
   "outputs": [
    {
     "data": {
      "text/html": [
       "<html>\\(\\displaystyle t^{4} {\\left(\\cos\\left(t\\right) - \\sin\\left(t\\right)\\right)} + 4 \\, t^{3} {\\left(\\cos\\left(t\\right) + \\sin\\left(t\\right)\\right)}\\)</html>"
      ],
      "text/latex": [
       "$\\displaystyle t^{4} {\\left(\\cos\\left(t\\right) - \\sin\\left(t\\right)\\right)} + 4 \\, t^{3} {\\left(\\cos\\left(t\\right) + \\sin\\left(t\\right)\\right)}$"
      ],
      "text/plain": [
       "t^4*(cos(t) - sin(t)) + 4*t^3*(cos(t) + sin(t))"
      ]
     },
     "metadata": {},
     "output_type": "display_data"
    }
   ],
   "source": [
    "h_prime(t) = (sin(t) + cos(t))* 4*t^3 + t^4 * (cos(t) -sin(t))\n",
    "show(h_prime(t))"
   ]
  },
  {
   "cell_type": "code",
   "execution_count": 36,
   "id": "45172a16-d743-4dee-890c-94c1c9851a90",
   "metadata": {},
   "outputs": [
    {
     "data": {
      "text/html": [
       "<html>\\(\\displaystyle t \\ {\\mapsto}\\ t^{4} {\\left(\\cos\\left(t\\right) - \\sin\\left(t\\right)\\right)} + 4 \\, t^{3} {\\left(\\cos\\left(t\\right) + \\sin\\left(t\\right)\\right)}\\)</html>"
      ],
      "text/latex": [
       "$\\displaystyle t \\ {\\mapsto}\\ t^{4} {\\left(\\cos\\left(t\\right) - \\sin\\left(t\\right)\\right)} + 4 \\, t^{3} {\\left(\\cos\\left(t\\right) + \\sin\\left(t\\right)\\right)}$"
      ],
      "text/plain": [
       "t |--> t^4*(cos(t) - sin(t)) + 4*t^3*(cos(t) + sin(t))"
      ]
     },
     "metadata": {},
     "output_type": "display_data"
    }
   ],
   "source": [
    "show(h.diff(t))"
   ]
  },
  {
   "cell_type": "code",
   "execution_count": 37,
   "id": "52a7b870-a4a9-41e6-9654-2eea9b9971ee",
   "metadata": {},
   "outputs": [
    {
     "data": {
      "text/html": [
       "<html>\\(\\displaystyle \\cos\\left(x\\right) e^{x} + e^{x} \\sin\\left(x\\right)\\)</html>"
      ],
      "text/latex": [
       "$\\displaystyle \\cos\\left(x\\right) e^{x} + e^{x} \\sin\\left(x\\right)$"
      ],
      "text/plain": [
       "cos(x)*e^x + e^x*sin(x)"
      ]
     },
     "metadata": {},
     "output_type": "display_data"
    },
    {
     "data": {
      "text/html": [
       "<html>\\(\\displaystyle x \\ {\\mapsto}\\ \\cos\\left(x\\right) e^{x} + e^{x} \\sin\\left(x\\right)\\)</html>"
      ],
      "text/latex": [
       "$\\displaystyle x \\ {\\mapsto}\\ \\cos\\left(x\\right) e^{x} + e^{x} \\sin\\left(x\\right)$"
      ],
      "text/plain": [
       "x |--> cos(x)*e^x + e^x*sin(x)"
      ]
     },
     "metadata": {},
     "output_type": "display_data"
    }
   ],
   "source": [
    "f(x) = e^x * sin(x)\n",
    "#first calculate the derivate f'(x)\n",
    "f_prime(x) = e^x * cos(x) + sin(x)* e^x\n",
    "show(f_prime(x))\n",
    "show(f.diff(x))"
   ]
  },
  {
   "cell_type": "code",
   "execution_count": 38,
   "id": "621db1df-d25a-492a-86e1-1e5fd744a7c1",
   "metadata": {},
   "outputs": [
    {
     "data": {
      "text/html": [
       "<html>\\(\\displaystyle {\\left(\\cos\\left(1\\right) e + e \\sin\\left(1\\right)\\right)} {\\left(x - 1\\right)} + e \\sin\\left(1\\right)\\)</html>"
      ],
      "text/latex": [
       "$\\displaystyle {\\left(\\cos\\left(1\\right) e + e \\sin\\left(1\\right)\\right)} {\\left(x - 1\\right)} + e \\sin\\left(1\\right)$"
      ],
      "text/plain": [
       "(cos(1)*e + e*sin(1))*(x - 1) + e*sin(1)"
      ]
     },
     "metadata": {},
     "output_type": "display_data"
    }
   ],
   "source": [
    "L(x) = f_prime(1)*(x -1) + f(1)\n",
    "show(L(x))"
   ]
  },
  {
   "cell_type": "code",
   "execution_count": 39,
   "id": "6ed6cd6d-8362-4667-9883-2afd6e436fa0",
   "metadata": {},
   "outputs": [
    {
     "data": {
      "text/html": [
       "<html>\\(\\displaystyle {\\left(x^{2} + x\\right)} 2^{x} \\log\\left(2\\right) + 2^{x} {\\left(2 \\, x + 1\\right)}\\)</html>"
      ],
      "text/latex": [
       "$\\displaystyle {\\left(x^{2} + x\\right)} 2^{x} \\log\\left(2\\right) + 2^{x} {\\left(2 \\, x + 1\\right)}$"
      ],
      "text/plain": [
       "(x^2 + x)*2^x*log(2) + 2^x*(2*x + 1)"
      ]
     },
     "metadata": {},
     "output_type": "display_data"
    },
    {
     "data": {
      "text/html": [
       "<html>\\(\\displaystyle x \\ {\\mapsto}\\ {\\left(x^{2} + x\\right)} 2^{x} \\log\\left(2\\right) + 2^{x} {\\left(2 \\, x + 1\\right)}\\)</html>"
      ],
      "text/latex": [
       "$\\displaystyle x \\ {\\mapsto}\\ {\\left(x^{2} + x\\right)} 2^{x} \\log\\left(2\\right) + 2^{x} {\\left(2 \\, x + 1\\right)}$"
      ],
      "text/plain": [
       "x |--> (x^2 + x)*2^x*log(2) + 2^x*(2*x + 1)"
      ]
     },
     "metadata": {},
     "output_type": "display_data"
    }
   ],
   "source": [
    "g(x) = (x^2 + x) * 2^x\n",
    "g_prime(x) = (x^2 + x)* ln(2)*2^x + 2^x * (2*x + 1* x^0)\n",
    "show(g_prime(x))\n",
    "show(g.diff(x))"
   ]
  },
  {
   "cell_type": "code",
   "execution_count": 41,
   "id": "cd13f922-9eaf-4df8-8ab1-a663f1a3cc9e",
   "metadata": {},
   "outputs": [
    {
     "data": {
      "text/html": [
       "<html>\\(\\displaystyle -\\frac{1}{2} \\, x - \\frac{1}{2}\\)</html>"
      ],
      "text/latex": [
       "$\\displaystyle -\\frac{1}{2} \\, x - \\frac{1}{2}$"
      ],
      "text/plain": [
       "-1/2*x - 1/2"
      ]
     },
     "metadata": {},
     "output_type": "display_data"
    },
    {
     "data": {
      "image/png": "[encoded data removed]",
      "text/plain": [
       "Graphics object consisting of 2 graphics primitives"
      ]
     },
     "execution_count": 41,
     "metadata": {},
     "output_type": "execute_result"
    }
   ],
   "source": [
    "L(x) = g_prime(-1)*(x -(-1)) + g(-1)\n",
    "show(L(x))\n",
    "\n",
    "plot(g, (x, -1, 1)) + plot(L, (x, -1, 1), color=\"indigo\")\n"
   ]
  },
  {
   "cell_type": "code",
   "execution_count": null,
   "id": "fdd8bb6f-cb3a-4130-bf22-24f089b491e3",
   "metadata": {},
   "outputs": [],
   "source": []
  }
 ],
 "metadata": {
  "kernelspec": {
   "display_name": "SageMath 9.7",
   "language": "sage",
   "name": "sagemath"
  },
  "language_info": {
   "codemirror_mode": {
    "name": "ipython",
    "version": 3
   },
   "file_extension": ".py",
   "mimetype": "text/x-python",
   "name": "python",
   "nbconvert_exporter": "python",
   "pygments_lexer": "ipython3",
   "version": "3.10.6"
  }
 },
 "nbformat": 4,
 "nbformat_minor": 5
}
